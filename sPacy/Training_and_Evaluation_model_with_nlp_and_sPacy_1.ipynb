{
  "nbformat": 4,
  "nbformat_minor": 0,
  "metadata": {
    "colab": {
      "provenance": [],
      "gpuType": "T4"
    },
    "kernelspec": {
      "name": "python3",
      "display_name": "Python 3"
    },
    "language_info": {
      "name": "python"
    }
  },
  "cells": [
    {
      "cell_type": "markdown",
      "source": [
        "#TASK: Leverage NLP for Tableau formulas identification\n",
        "\n",
        "Leveraging Natural Language Processing (NLP) for Tableau formulas identification involves using language models to interpret and understand natural language descriptions of analytical tasks and then automatically generating corresponding Tableau formulas. While this is a challenging task, it's feasible with the help of advanced NLP models. Below are general steps to approach this task:"
      ],
      "metadata": {
        "id": "NqCoW9yQDryb"
      }
    },
    {
      "cell_type": "code",
      "execution_count": 1,
      "metadata": {
        "colab": {
          "base_uri": "https://localhost:8080/"
        },
        "id": "eBoXca9MY-7A",
        "outputId": "592ac95d-189d-439e-cef7-0e82ef02a2a0"
      },
      "outputs": [
        {
          "output_type": "stream",
          "name": "stdout",
          "text": [
            "Requirement already satisfied: opencv-python in /usr/local/lib/python3.10/dist-packages (4.8.0.76)\n",
            "Requirement already satisfied: numpy>=1.21.2 in /usr/local/lib/python3.10/dist-packages (from opencv-python) (1.25.2)\n",
            "Requirement already satisfied: pandas in /usr/local/lib/python3.10/dist-packages (1.5.3)\n",
            "Requirement already satisfied: python-dateutil>=2.8.1 in /usr/local/lib/python3.10/dist-packages (from pandas) (2.8.2)\n",
            "Requirement already satisfied: pytz>=2020.1 in /usr/local/lib/python3.10/dist-packages (from pandas) (2023.4)\n",
            "Requirement already satisfied: numpy>=1.21.0 in /usr/local/lib/python3.10/dist-packages (from pandas) (1.25.2)\n",
            "Requirement already satisfied: six>=1.5 in /usr/local/lib/python3.10/dist-packages (from python-dateutil>=2.8.1->pandas) (1.16.0)\n",
            "Requirement already satisfied: nltk in /usr/local/lib/python3.10/dist-packages (3.8.1)\n",
            "Requirement already satisfied: click in /usr/local/lib/python3.10/dist-packages (from nltk) (8.1.7)\n",
            "Requirement already satisfied: joblib in /usr/local/lib/python3.10/dist-packages (from nltk) (1.3.2)\n",
            "Requirement already satisfied: regex>=2021.8.3 in /usr/local/lib/python3.10/dist-packages (from nltk) (2023.12.25)\n",
            "Requirement already satisfied: tqdm in /usr/local/lib/python3.10/dist-packages (from nltk) (4.66.2)\n",
            "Requirement already satisfied: spacy in /usr/local/lib/python3.10/dist-packages (3.7.4)\n",
            "Requirement already satisfied: spacy-legacy<3.1.0,>=3.0.11 in /usr/local/lib/python3.10/dist-packages (from spacy) (3.0.12)\n",
            "Requirement already satisfied: spacy-loggers<2.0.0,>=1.0.0 in /usr/local/lib/python3.10/dist-packages (from spacy) (1.0.5)\n",
            "Requirement already satisfied: murmurhash<1.1.0,>=0.28.0 in /usr/local/lib/python3.10/dist-packages (from spacy) (1.0.10)\n",
            "Requirement already satisfied: cymem<2.1.0,>=2.0.2 in /usr/local/lib/python3.10/dist-packages (from spacy) (2.0.8)\n",
            "Requirement already satisfied: preshed<3.1.0,>=3.0.2 in /usr/local/lib/python3.10/dist-packages (from spacy) (3.0.9)\n",
            "Requirement already satisfied: thinc<8.3.0,>=8.2.2 in /usr/local/lib/python3.10/dist-packages (from spacy) (8.2.3)\n",
            "Requirement already satisfied: wasabi<1.2.0,>=0.9.1 in /usr/local/lib/python3.10/dist-packages (from spacy) (1.1.2)\n",
            "Requirement already satisfied: srsly<3.0.0,>=2.4.3 in /usr/local/lib/python3.10/dist-packages (from spacy) (2.4.8)\n",
            "Requirement already satisfied: catalogue<2.1.0,>=2.0.6 in /usr/local/lib/python3.10/dist-packages (from spacy) (2.0.10)\n",
            "Requirement already satisfied: weasel<0.4.0,>=0.1.0 in /usr/local/lib/python3.10/dist-packages (from spacy) (0.3.4)\n",
            "Requirement already satisfied: typer<0.10.0,>=0.3.0 in /usr/local/lib/python3.10/dist-packages (from spacy) (0.9.4)\n",
            "Requirement already satisfied: smart-open<7.0.0,>=5.2.1 in /usr/local/lib/python3.10/dist-packages (from spacy) (6.4.0)\n",
            "Requirement already satisfied: tqdm<5.0.0,>=4.38.0 in /usr/local/lib/python3.10/dist-packages (from spacy) (4.66.2)\n",
            "Requirement already satisfied: requests<3.0.0,>=2.13.0 in /usr/local/lib/python3.10/dist-packages (from spacy) (2.31.0)\n",
            "Requirement already satisfied: pydantic!=1.8,!=1.8.1,<3.0.0,>=1.7.4 in /usr/local/lib/python3.10/dist-packages (from spacy) (2.6.4)\n",
            "Requirement already satisfied: jinja2 in /usr/local/lib/python3.10/dist-packages (from spacy) (3.1.3)\n",
            "Requirement already satisfied: setuptools in /usr/local/lib/python3.10/dist-packages (from spacy) (67.7.2)\n",
            "Requirement already satisfied: packaging>=20.0 in /usr/local/lib/python3.10/dist-packages (from spacy) (24.0)\n",
            "Requirement already satisfied: langcodes<4.0.0,>=3.2.0 in /usr/local/lib/python3.10/dist-packages (from spacy) (3.3.0)\n",
            "Requirement already satisfied: numpy>=1.19.0 in /usr/local/lib/python3.10/dist-packages (from spacy) (1.25.2)\n",
            "Requirement already satisfied: annotated-types>=0.4.0 in /usr/local/lib/python3.10/dist-packages (from pydantic!=1.8,!=1.8.1,<3.0.0,>=1.7.4->spacy) (0.6.0)\n",
            "Requirement already satisfied: pydantic-core==2.16.3 in /usr/local/lib/python3.10/dist-packages (from pydantic!=1.8,!=1.8.1,<3.0.0,>=1.7.4->spacy) (2.16.3)\n",
            "Requirement already satisfied: typing-extensions>=4.6.1 in /usr/local/lib/python3.10/dist-packages (from pydantic!=1.8,!=1.8.1,<3.0.0,>=1.7.4->spacy) (4.10.0)\n",
            "Requirement already satisfied: charset-normalizer<4,>=2 in /usr/local/lib/python3.10/dist-packages (from requests<3.0.0,>=2.13.0->spacy) (3.3.2)\n",
            "Requirement already satisfied: idna<4,>=2.5 in /usr/local/lib/python3.10/dist-packages (from requests<3.0.0,>=2.13.0->spacy) (3.6)\n",
            "Requirement already satisfied: urllib3<3,>=1.21.1 in /usr/local/lib/python3.10/dist-packages (from requests<3.0.0,>=2.13.0->spacy) (2.0.7)\n",
            "Requirement already satisfied: certifi>=2017.4.17 in /usr/local/lib/python3.10/dist-packages (from requests<3.0.0,>=2.13.0->spacy) (2024.2.2)\n",
            "Requirement already satisfied: blis<0.8.0,>=0.7.8 in /usr/local/lib/python3.10/dist-packages (from thinc<8.3.0,>=8.2.2->spacy) (0.7.11)\n",
            "Requirement already satisfied: confection<1.0.0,>=0.0.1 in /usr/local/lib/python3.10/dist-packages (from thinc<8.3.0,>=8.2.2->spacy) (0.1.4)\n",
            "Requirement already satisfied: click<9.0.0,>=7.1.1 in /usr/local/lib/python3.10/dist-packages (from typer<0.10.0,>=0.3.0->spacy) (8.1.7)\n",
            "Requirement already satisfied: cloudpathlib<0.17.0,>=0.7.0 in /usr/local/lib/python3.10/dist-packages (from weasel<0.4.0,>=0.1.0->spacy) (0.16.0)\n",
            "Requirement already satisfied: MarkupSafe>=2.0 in /usr/local/lib/python3.10/dist-packages (from jinja2->spacy) (2.1.5)\n",
            "Collecting en-core-web-sm==3.7.1\n",
            "  Downloading https://github.com/explosion/spacy-models/releases/download/en_core_web_sm-3.7.1/en_core_web_sm-3.7.1-py3-none-any.whl (12.8 MB)\n",
            "\u001b[2K     \u001b[90m━━━━━━━━━━━━━━━━━━━━━━━━━━━━━━━━━━━━━━━━\u001b[0m \u001b[32m12.8/12.8 MB\u001b[0m \u001b[31m49.0 MB/s\u001b[0m eta \u001b[36m0:00:00\u001b[0m\n",
            "\u001b[?25hRequirement already satisfied: spacy<3.8.0,>=3.7.2 in /usr/local/lib/python3.10/dist-packages (from en-core-web-sm==3.7.1) (3.7.4)\n",
            "Requirement already satisfied: spacy-legacy<3.1.0,>=3.0.11 in /usr/local/lib/python3.10/dist-packages (from spacy<3.8.0,>=3.7.2->en-core-web-sm==3.7.1) (3.0.12)\n",
            "Requirement already satisfied: spacy-loggers<2.0.0,>=1.0.0 in /usr/local/lib/python3.10/dist-packages (from spacy<3.8.0,>=3.7.2->en-core-web-sm==3.7.1) (1.0.5)\n",
            "Requirement already satisfied: murmurhash<1.1.0,>=0.28.0 in /usr/local/lib/python3.10/dist-packages (from spacy<3.8.0,>=3.7.2->en-core-web-sm==3.7.1) (1.0.10)\n",
            "Requirement already satisfied: cymem<2.1.0,>=2.0.2 in /usr/local/lib/python3.10/dist-packages (from spacy<3.8.0,>=3.7.2->en-core-web-sm==3.7.1) (2.0.8)\n",
            "Requirement already satisfied: preshed<3.1.0,>=3.0.2 in /usr/local/lib/python3.10/dist-packages (from spacy<3.8.0,>=3.7.2->en-core-web-sm==3.7.1) (3.0.9)\n",
            "Requirement already satisfied: thinc<8.3.0,>=8.2.2 in /usr/local/lib/python3.10/dist-packages (from spacy<3.8.0,>=3.7.2->en-core-web-sm==3.7.1) (8.2.3)\n",
            "Requirement already satisfied: wasabi<1.2.0,>=0.9.1 in /usr/local/lib/python3.10/dist-packages (from spacy<3.8.0,>=3.7.2->en-core-web-sm==3.7.1) (1.1.2)\n",
            "Requirement already satisfied: srsly<3.0.0,>=2.4.3 in /usr/local/lib/python3.10/dist-packages (from spacy<3.8.0,>=3.7.2->en-core-web-sm==3.7.1) (2.4.8)\n",
            "Requirement already satisfied: catalogue<2.1.0,>=2.0.6 in /usr/local/lib/python3.10/dist-packages (from spacy<3.8.0,>=3.7.2->en-core-web-sm==3.7.1) (2.0.10)\n",
            "Requirement already satisfied: weasel<0.4.0,>=0.1.0 in /usr/local/lib/python3.10/dist-packages (from spacy<3.8.0,>=3.7.2->en-core-web-sm==3.7.1) (0.3.4)\n",
            "Requirement already satisfied: typer<0.10.0,>=0.3.0 in /usr/local/lib/python3.10/dist-packages (from spacy<3.8.0,>=3.7.2->en-core-web-sm==3.7.1) (0.9.4)\n",
            "Requirement already satisfied: smart-open<7.0.0,>=5.2.1 in /usr/local/lib/python3.10/dist-packages (from spacy<3.8.0,>=3.7.2->en-core-web-sm==3.7.1) (6.4.0)\n",
            "Requirement already satisfied: tqdm<5.0.0,>=4.38.0 in /usr/local/lib/python3.10/dist-packages (from spacy<3.8.0,>=3.7.2->en-core-web-sm==3.7.1) (4.66.2)\n",
            "Requirement already satisfied: requests<3.0.0,>=2.13.0 in /usr/local/lib/python3.10/dist-packages (from spacy<3.8.0,>=3.7.2->en-core-web-sm==3.7.1) (2.31.0)\n",
            "Requirement already satisfied: pydantic!=1.8,!=1.8.1,<3.0.0,>=1.7.4 in /usr/local/lib/python3.10/dist-packages (from spacy<3.8.0,>=3.7.2->en-core-web-sm==3.7.1) (2.6.4)\n",
            "Requirement already satisfied: jinja2 in /usr/local/lib/python3.10/dist-packages (from spacy<3.8.0,>=3.7.2->en-core-web-sm==3.7.1) (3.1.3)\n",
            "Requirement already satisfied: setuptools in /usr/local/lib/python3.10/dist-packages (from spacy<3.8.0,>=3.7.2->en-core-web-sm==3.7.1) (67.7.2)\n",
            "Requirement already satisfied: packaging>=20.0 in /usr/local/lib/python3.10/dist-packages (from spacy<3.8.0,>=3.7.2->en-core-web-sm==3.7.1) (24.0)\n",
            "Requirement already satisfied: langcodes<4.0.0,>=3.2.0 in /usr/local/lib/python3.10/dist-packages (from spacy<3.8.0,>=3.7.2->en-core-web-sm==3.7.1) (3.3.0)\n",
            "Requirement already satisfied: numpy>=1.19.0 in /usr/local/lib/python3.10/dist-packages (from spacy<3.8.0,>=3.7.2->en-core-web-sm==3.7.1) (1.25.2)\n",
            "Requirement already satisfied: annotated-types>=0.4.0 in /usr/local/lib/python3.10/dist-packages (from pydantic!=1.8,!=1.8.1,<3.0.0,>=1.7.4->spacy<3.8.0,>=3.7.2->en-core-web-sm==3.7.1) (0.6.0)\n",
            "Requirement already satisfied: pydantic-core==2.16.3 in /usr/local/lib/python3.10/dist-packages (from pydantic!=1.8,!=1.8.1,<3.0.0,>=1.7.4->spacy<3.8.0,>=3.7.2->en-core-web-sm==3.7.1) (2.16.3)\n",
            "Requirement already satisfied: typing-extensions>=4.6.1 in /usr/local/lib/python3.10/dist-packages (from pydantic!=1.8,!=1.8.1,<3.0.0,>=1.7.4->spacy<3.8.0,>=3.7.2->en-core-web-sm==3.7.1) (4.10.0)\n",
            "Requirement already satisfied: charset-normalizer<4,>=2 in /usr/local/lib/python3.10/dist-packages (from requests<3.0.0,>=2.13.0->spacy<3.8.0,>=3.7.2->en-core-web-sm==3.7.1) (3.3.2)\n",
            "Requirement already satisfied: idna<4,>=2.5 in /usr/local/lib/python3.10/dist-packages (from requests<3.0.0,>=2.13.0->spacy<3.8.0,>=3.7.2->en-core-web-sm==3.7.1) (3.6)\n",
            "Requirement already satisfied: urllib3<3,>=1.21.1 in /usr/local/lib/python3.10/dist-packages (from requests<3.0.0,>=2.13.0->spacy<3.8.0,>=3.7.2->en-core-web-sm==3.7.1) (2.0.7)\n",
            "Requirement already satisfied: certifi>=2017.4.17 in /usr/local/lib/python3.10/dist-packages (from requests<3.0.0,>=2.13.0->spacy<3.8.0,>=3.7.2->en-core-web-sm==3.7.1) (2024.2.2)\n",
            "Requirement already satisfied: blis<0.8.0,>=0.7.8 in /usr/local/lib/python3.10/dist-packages (from thinc<8.3.0,>=8.2.2->spacy<3.8.0,>=3.7.2->en-core-web-sm==3.7.1) (0.7.11)\n",
            "Requirement already satisfied: confection<1.0.0,>=0.0.1 in /usr/local/lib/python3.10/dist-packages (from thinc<8.3.0,>=8.2.2->spacy<3.8.0,>=3.7.2->en-core-web-sm==3.7.1) (0.1.4)\n",
            "Requirement already satisfied: click<9.0.0,>=7.1.1 in /usr/local/lib/python3.10/dist-packages (from typer<0.10.0,>=0.3.0->spacy<3.8.0,>=3.7.2->en-core-web-sm==3.7.1) (8.1.7)\n",
            "Requirement already satisfied: cloudpathlib<0.17.0,>=0.7.0 in /usr/local/lib/python3.10/dist-packages (from weasel<0.4.0,>=0.1.0->spacy<3.8.0,>=3.7.2->en-core-web-sm==3.7.1) (0.16.0)\n",
            "Requirement already satisfied: MarkupSafe>=2.0 in /usr/local/lib/python3.10/dist-packages (from jinja2->spacy<3.8.0,>=3.7.2->en-core-web-sm==3.7.1) (2.1.5)\n",
            "\u001b[38;5;2m✔ Download and installation successful\u001b[0m\n",
            "You can now load the package via spacy.load('en_core_web_sm')\n",
            "\u001b[38;5;3m⚠ Restart to reload dependencies\u001b[0m\n",
            "If you are in a Jupyter or Colab notebook, you may need to restart Python in\n",
            "order to load all the package's dependencies. You can do this by selecting the\n",
            "'Restart kernel' or 'Restart runtime' option.\n"
          ]
        }
      ],
      "source": [
        "! pip install opencv-python\n",
        "! pip install pandas\n",
        "! pip install nltk\n",
        "! pip install spacy\n",
        "! python -m spacy download en_core_web_sm"
      ]
    },
    {
      "cell_type": "code",
      "source": [
        "import os\n",
        "import cv2\n",
        "import pandas as pd\n",
        "import nltk\n",
        "import re\n",
        "from nltk.tokenize import word_tokenize, sent_tokenize,wordpunct_tokenize\n",
        "from google.colab.patches import cv2_imshow\n",
        "nltk.download('punkt')\n",
        "import spacy\n",
        "from spacy import displacy\n",
        "from spacy.matcher import matcher\n",
        "from spacy.tokens import span\n",
        "from spacy.language import Language\n",
        "from spacy.pipeline import EntityRuler\n",
        "\n",
        "# Load English tokenizer, tagger, parser and NER\n",
        "nlp = spacy.load(\"en_core_web_sm\")"
      ],
      "metadata": {
        "id": "xxIcPpzvu10m",
        "colab": {
          "base_uri": "https://localhost:8080/"
        },
        "outputId": "fb081cda-c041-4340-bce7-b38fb41fa5e1"
      },
      "execution_count": 2,
      "outputs": [
        {
          "output_type": "stream",
          "name": "stderr",
          "text": [
            "[nltk_data] Downloading package punkt to /root/nltk_data...\n",
            "[nltk_data]   Unzipping tokenizers/punkt.zip.\n"
          ]
        }
      ]
    },
    {
      "cell_type": "markdown",
      "source": [
        "Identify data source in Tableau"
      ],
      "metadata": {
        "id": "3WprfdIsaFTS"
      }
    },
    {
      "cell_type": "code",
      "source": [
        "from google.colab import files\n",
        "file=\"formulas.xlsx\"\n",
        "if file not in os.listdir('/content/'):\n",
        "      files.upload()"
      ],
      "metadata": {
        "id": "UHH7lGi6y0YR",
        "colab": {
          "base_uri": "https://localhost:8080/",
          "height": 117
        },
        "outputId": "1f562770-f30d-486d-e009-54a6d9bfe05f"
      },
      "execution_count": 3,
      "outputs": [
        {
          "output_type": "display_data",
          "data": {
            "text/plain": [
              "<IPython.core.display.HTML object>"
            ],
            "text/html": [
              "\n",
              "     <input type=\"file\" id=\"files-0fbed316-1677-4c52-890a-d213c7a7b510\" name=\"files[]\" multiple disabled\n",
              "        style=\"border:none\" />\n",
              "     <output id=\"result-0fbed316-1677-4c52-890a-d213c7a7b510\">\n",
              "      Upload widget is only available when the cell has been executed in the\n",
              "      current browser session. Please rerun this cell to enable.\n",
              "      </output>\n",
              "      <script>// Copyright 2017 Google LLC\n",
              "//\n",
              "// Licensed under the Apache License, Version 2.0 (the \"License\");\n",
              "// you may not use this file except in compliance with the License.\n",
              "// You may obtain a copy of the License at\n",
              "//\n",
              "//      http://www.apache.org/licenses/LICENSE-2.0\n",
              "//\n",
              "// Unless required by applicable law or agreed to in writing, software\n",
              "// distributed under the License is distributed on an \"AS IS\" BASIS,\n",
              "// WITHOUT WARRANTIES OR CONDITIONS OF ANY KIND, either express or implied.\n",
              "// See the License for the specific language governing permissions and\n",
              "// limitations under the License.\n",
              "\n",
              "/**\n",
              " * @fileoverview Helpers for google.colab Python module.\n",
              " */\n",
              "(function(scope) {\n",
              "function span(text, styleAttributes = {}) {\n",
              "  const element = document.createElement('span');\n",
              "  element.textContent = text;\n",
              "  for (const key of Object.keys(styleAttributes)) {\n",
              "    element.style[key] = styleAttributes[key];\n",
              "  }\n",
              "  return element;\n",
              "}\n",
              "\n",
              "// Max number of bytes which will be uploaded at a time.\n",
              "const MAX_PAYLOAD_SIZE = 100 * 1024;\n",
              "\n",
              "function _uploadFiles(inputId, outputId) {\n",
              "  const steps = uploadFilesStep(inputId, outputId);\n",
              "  const outputElement = document.getElementById(outputId);\n",
              "  // Cache steps on the outputElement to make it available for the next call\n",
              "  // to uploadFilesContinue from Python.\n",
              "  outputElement.steps = steps;\n",
              "\n",
              "  return _uploadFilesContinue(outputId);\n",
              "}\n",
              "\n",
              "// This is roughly an async generator (not supported in the browser yet),\n",
              "// where there are multiple asynchronous steps and the Python side is going\n",
              "// to poll for completion of each step.\n",
              "// This uses a Promise to block the python side on completion of each step,\n",
              "// then passes the result of the previous step as the input to the next step.\n",
              "function _uploadFilesContinue(outputId) {\n",
              "  const outputElement = document.getElementById(outputId);\n",
              "  const steps = outputElement.steps;\n",
              "\n",
              "  const next = steps.next(outputElement.lastPromiseValue);\n",
              "  return Promise.resolve(next.value.promise).then((value) => {\n",
              "    // Cache the last promise value to make it available to the next\n",
              "    // step of the generator.\n",
              "    outputElement.lastPromiseValue = value;\n",
              "    return next.value.response;\n",
              "  });\n",
              "}\n",
              "\n",
              "/**\n",
              " * Generator function which is called between each async step of the upload\n",
              " * process.\n",
              " * @param {string} inputId Element ID of the input file picker element.\n",
              " * @param {string} outputId Element ID of the output display.\n",
              " * @return {!Iterable<!Object>} Iterable of next steps.\n",
              " */\n",
              "function* uploadFilesStep(inputId, outputId) {\n",
              "  const inputElement = document.getElementById(inputId);\n",
              "  inputElement.disabled = false;\n",
              "\n",
              "  const outputElement = document.getElementById(outputId);\n",
              "  outputElement.innerHTML = '';\n",
              "\n",
              "  const pickedPromise = new Promise((resolve) => {\n",
              "    inputElement.addEventListener('change', (e) => {\n",
              "      resolve(e.target.files);\n",
              "    });\n",
              "  });\n",
              "\n",
              "  const cancel = document.createElement('button');\n",
              "  inputElement.parentElement.appendChild(cancel);\n",
              "  cancel.textContent = 'Cancel upload';\n",
              "  const cancelPromise = new Promise((resolve) => {\n",
              "    cancel.onclick = () => {\n",
              "      resolve(null);\n",
              "    };\n",
              "  });\n",
              "\n",
              "  // Wait for the user to pick the files.\n",
              "  const files = yield {\n",
              "    promise: Promise.race([pickedPromise, cancelPromise]),\n",
              "    response: {\n",
              "      action: 'starting',\n",
              "    }\n",
              "  };\n",
              "\n",
              "  cancel.remove();\n",
              "\n",
              "  // Disable the input element since further picks are not allowed.\n",
              "  inputElement.disabled = true;\n",
              "\n",
              "  if (!files) {\n",
              "    return {\n",
              "      response: {\n",
              "        action: 'complete',\n",
              "      }\n",
              "    };\n",
              "  }\n",
              "\n",
              "  for (const file of files) {\n",
              "    const li = document.createElement('li');\n",
              "    li.append(span(file.name, {fontWeight: 'bold'}));\n",
              "    li.append(span(\n",
              "        `(${file.type || 'n/a'}) - ${file.size} bytes, ` +\n",
              "        `last modified: ${\n",
              "            file.lastModifiedDate ? file.lastModifiedDate.toLocaleDateString() :\n",
              "                                    'n/a'} - `));\n",
              "    const percent = span('0% done');\n",
              "    li.appendChild(percent);\n",
              "\n",
              "    outputElement.appendChild(li);\n",
              "\n",
              "    const fileDataPromise = new Promise((resolve) => {\n",
              "      const reader = new FileReader();\n",
              "      reader.onload = (e) => {\n",
              "        resolve(e.target.result);\n",
              "      };\n",
              "      reader.readAsArrayBuffer(file);\n",
              "    });\n",
              "    // Wait for the data to be ready.\n",
              "    let fileData = yield {\n",
              "      promise: fileDataPromise,\n",
              "      response: {\n",
              "        action: 'continue',\n",
              "      }\n",
              "    };\n",
              "\n",
              "    // Use a chunked sending to avoid message size limits. See b/62115660.\n",
              "    let position = 0;\n",
              "    do {\n",
              "      const length = Math.min(fileData.byteLength - position, MAX_PAYLOAD_SIZE);\n",
              "      const chunk = new Uint8Array(fileData, position, length);\n",
              "      position += length;\n",
              "\n",
              "      const base64 = btoa(String.fromCharCode.apply(null, chunk));\n",
              "      yield {\n",
              "        response: {\n",
              "          action: 'append',\n",
              "          file: file.name,\n",
              "          data: base64,\n",
              "        },\n",
              "      };\n",
              "\n",
              "      let percentDone = fileData.byteLength === 0 ?\n",
              "          100 :\n",
              "          Math.round((position / fileData.byteLength) * 100);\n",
              "      percent.textContent = `${percentDone}% done`;\n",
              "\n",
              "    } while (position < fileData.byteLength);\n",
              "  }\n",
              "\n",
              "  // All done.\n",
              "  yield {\n",
              "    response: {\n",
              "      action: 'complete',\n",
              "    }\n",
              "  };\n",
              "}\n",
              "\n",
              "scope.google = scope.google || {};\n",
              "scope.google.colab = scope.google.colab || {};\n",
              "scope.google.colab._files = {\n",
              "  _uploadFiles,\n",
              "  _uploadFilesContinue,\n",
              "};\n",
              "})(self);\n",
              "</script> "
            ]
          },
          "metadata": {}
        },
        {
          "output_type": "stream",
          "name": "stdout",
          "text": [
            "Saving tableau_data.csv to tableau_data.csv\n",
            "Saving formulas.xlsx to formulas.xlsx\n"
          ]
        }
      ]
    },
    {
      "cell_type": "code",
      "source": [
        "#from google.colab import drive\n",
        "#drive.mount('/content/drive')"
      ],
      "metadata": {
        "id": "g4ObYcJzqEZs"
      },
      "execution_count": 4,
      "outputs": []
    },
    {
      "cell_type": "code",
      "source": [
        "#! cd /content/drive/My\\ Drive/Colab_2024\n",
        "#! cp /content/drive/My\\ Drive/Colab_2024/*.png /content/\n",
        "#! ls -all"
      ],
      "metadata": {
        "id": "SLjlCsLMqVHY"
      },
      "execution_count": 5,
      "outputs": []
    },
    {
      "cell_type": "markdown",
      "source": [
        "# TASK: FORMULA CONVERSION"
      ],
      "metadata": {
        "id": "1v6YT5c1KT7P"
      }
    },
    {
      "cell_type": "markdown",
      "source": [
        "1. Define Use Cases:\n",
        "Clearly define the use cases for which you want to leverage NLP for Tableau formulas identification. For example, you might want to interpret natural language descriptions and generate Tableau formulas for common tasks like aggregations, calculations, or filtering."
      ],
      "metadata": {
        "id": "kNqoonM3LnuZ"
      }
    },
    {
      "cell_type": "code",
      "source": [],
      "metadata": {
        "id": "bJxo5IyVqLKR"
      },
      "execution_count": 5,
      "outputs": []
    },
    {
      "cell_type": "markdown",
      "source": [
        "2. Data Collection:\n",
        "Collect a dataset that includes examples of natural language descriptions paired with their corresponding Tableau formulas. The dataset should cover a variety of scenarios to train a model that can generalize well."
      ],
      "metadata": {
        "id": "l_qNBlF_MJR8"
      }
    },
    {
      "cell_type": "code",
      "source": [
        "\n",
        "df=pd.read_excel(\"formulas.xlsx\")\n",
        "print(df.head(5))\n"
      ],
      "metadata": {
        "colab": {
          "base_uri": "https://localhost:8080/"
        },
        "id": "f2koxJaZhW4y",
        "outputId": "06799edf-117e-46d9-af4c-42fcf62e5d26"
      },
      "execution_count": 6,
      "outputs": [
        {
          "output_type": "stream",
          "name": "stdout",
          "text": [
            "                                  Description        Formula (Tableau)\n",
            "0                         Sum of Sepal Length        SUM(Sepal Length)\n",
            "1      Average Sepal Width across all entries         AVG(Sepal Width)\n",
            "2                Find the median Petal Length     MEDIAN(Petal Length)\n",
            "3  Count the number of records in the dataset                 COUNT(*)\n",
            "4       Count distinct species in the dataset  COUNT DISTINCT(Species)\n"
          ]
        }
      ]
    },
    {
      "cell_type": "code",
      "source": [
        "df.columns"
      ],
      "metadata": {
        "colab": {
          "base_uri": "https://localhost:8080/"
        },
        "id": "EUv6rYeansXe",
        "outputId": "445eef16-6d8d-4641-892e-8019a39d4e06"
      },
      "execution_count": 7,
      "outputs": [
        {
          "output_type": "execute_result",
          "data": {
            "text/plain": [
              "Index(['Description', 'Formula (Tableau)'], dtype='object')"
            ]
          },
          "metadata": {},
          "execution_count": 7
        }
      ]
    },
    {
      "cell_type": "markdown",
      "source": [
        "3. Preprocess the Data:\n",
        "Clean and preprocess the collected dataset. Tokenize the natural language descriptions and normalize the Tableau formulas to create input-output pairs for training the NLP model."
      ],
      "metadata": {
        "id": "yBaMVVjDMPUX"
      }
    },
    {
      "cell_type": "markdown",
      "source": [
        "# Tokenization of the formulas.xlsx dataset"
      ],
      "metadata": {
        "id": "jWTDJIV8iQ6n"
      }
    },
    {
      "cell_type": "code",
      "source": [
        "dg_tok=df.apply(lambda x:[wordpunct_tokenize(y) for y in x])"
      ],
      "metadata": {
        "id": "wSncaqoVk8jP"
      },
      "execution_count": 8,
      "outputs": []
    },
    {
      "cell_type": "code",
      "source": [
        "dg_tok=dg_tok.rename(columns=lambda x:\"Tokenized \" + x)\n",
        "dg_tok=dg_tok.loc[:,dg_tok.columns[[0,1]]]\n",
        "dg_tok.rename(columns=lambda x:x.strip(), inplace=True)\n",
        "print(dg_tok.head(5))\n"
      ],
      "metadata": {
        "colab": {
          "base_uri": "https://localhost:8080/"
        },
        "id": "9Es5VROgoMPQ",
        "outputId": "36efd70a-930a-40f0-aa82-c1270117af31"
      },
      "execution_count": 9,
      "outputs": [
        {
          "output_type": "stream",
          "name": "stdout",
          "text": [
            "                               Tokenized Description  \\\n",
            "0                           [Sum, of, Sepal, Length]   \n",
            "1      [Average, Sepal, Width, across, all, entries]   \n",
            "2                 [Find, the, median, Petal, Length]   \n",
            "3  [Count, the, number, of, records, in, the, dat...   \n",
            "4       [Count, distinct, species, in, the, dataset]   \n",
            "\n",
            "        Tokenized Formula (Tableau)  \n",
            "0        [SUM, (, Sepal, Length, )]  \n",
            "1         [AVG, (, Sepal, Width, )]  \n",
            "2     [MEDIAN, (, Petal, Length, )]  \n",
            "3                      [COUNT, (*)]  \n",
            "4  [COUNT, DISTINCT, (, Species, )]  \n"
          ]
        }
      ]
    },
    {
      "cell_type": "markdown",
      "source": [
        "#description={} with keys=['text','label','vocab','stopwords']"
      ],
      "metadata": {
        "id": "Y8gngbhSwrb2"
      }
    },
    {
      "cell_type": "code",
      "source": [
        "description={}\n",
        "description['stopwords']=['\\\\','Iri','Se','C','Sepal','ica','Length',\"'s\",'.',\"'\", 's', 'a','(',')','Petal','Distinct',\"Width\",',',\"'\",\"[\",\"]\"]\n",
        "description['text']=[sentence for sentence in df[df.columns[0]]]\n",
        "description['vocab']=list(set([word  for ii in range(len(dg_tok[dg_tok.columns[0]])) for word  in dg_tok[dg_tok.columns[0]][ii] if word not in description['stopwords']]))\n",
        "len_desc_vocab=len(description['vocab'])"
      ],
      "metadata": {
        "id": "MoErRllrwp5S"
      },
      "execution_count": 10,
      "outputs": []
    },
    {
      "cell_type": "code",
      "source": [
        "print(len_desc_vocab,description['vocab'])"
      ],
      "metadata": {
        "colab": {
          "base_uri": "https://localhost:8080/"
        },
        "id": "VC962_RI2QWi",
        "outputId": "a80558ea-2b63-4681-bfcc-8bbcfd6cfd67"
      },
      "execution_count": 11,
      "outputs": [
        {
          "output_type": "stream",
          "name": "stdout",
          "text": [
            "129 ['versicolor', 'Maximum', 'from', 'bottom', 'ends', 'Calculate', 'List', '1', '10', 'Lowest', 'Lengths', 'in', 'or', 'virginica', 'total', 'setosa', 'observation', 'smallest', 'least', 'not', 'is', 'Median', 'Number', '%', 'year', 'by', 'points', 'greater', 'types', 'median', 'alphabetically', 'records', 'order', 'Rank', '10th', 'field', 'high', 'and', 'January', 'How', 'Iris', 'Group', 'with', 'assuming', 'Highest', 'only', 'average', 'Count', 'Filter', 'value', '3', 'start', 'low', 'starts', 'Entries', 'exactly', 'all', 'many', 'descending', 'name', 'distinct', 'species', 'ascending', 'occurrences', 'flowers', 'each', 'within', 'highest', 'Setosa', 'flower', '4', 'unique', 'grouped', 'Find', 'middle', 'equal', 'percentile', 'to', 'where', 'found', '5', 'Average', 'Select', 'show', 'top', 'entries', 'recorded', 'What', 'Minimum', 'last', 'both', 'above', 'number', 'less', 'Sum', 'dataset', 'over', 'at', 'Aggregate', 'for', 'of', 'Species', 'how', 'contains', 'starting', 'than', 'Total', 'Show', '2', 'are', '0', 'this', 'Widths', 'color', 'Date', 'month', 'sorted', 'between', 'Display', 'there', 'Organize', '?', 'Top', 'Determine', 'the', 'count', 'data', 'across', 'Sort']\n"
          ]
        }
      ]
    },
    {
      "cell_type": "markdown",
      "source": [
        "#formulas={} with keys=['text','label','vocab','stopwords']"
      ],
      "metadata": {
        "id": "atVOJSPMDXDk"
      }
    },
    {
      "cell_type": "code",
      "source": [
        "formulas={}\n",
        "formulas['stopwords']=['\\\\','Iri','Se','C','Sepal','ica','Length',\"'s\",'.',\"'\", 's', 'a','(',')','Petal','Distinct','distinct',\"Width\",',','BY','by','from',\"[\",\"]\"]\n",
        "formulas['text']=[sentence for sentence in df[df.columns[1]]]\n",
        "formulas['vocab']=list(set([word  for ii in range(len(dg_tok[dg_tok.columns[1]])) for word  in dg_tok[dg_tok.columns[1]][ii] if word not in formulas['stopwords']]))\n",
        "len_formulas_vocab=len(formulas['vocab'])"
      ],
      "metadata": {
        "id": "mP4RvAnQDhqw"
      },
      "execution_count": 12,
      "outputs": []
    },
    {
      "cell_type": "code",
      "source": [
        "print(len_formulas_vocab,formulas['vocab'])"
      ],
      "metadata": {
        "colab": {
          "base_uri": "https://localhost:8080/"
        },
        "id": "3tiDSO_5FSK5",
        "outputId": "7de12a10-a3bf-4312-c9e4-3c14f32c1f40"
      },
      "execution_count": 13,
      "outputs": [
        {
          "output_type": "stream",
          "name": "stdout",
          "text": [
            "79 ['CONTAINS', 'versicolor', 'LEFT', 'STARTS', 'FROM', '-', 'LISTED', '9', '1', 'SORTED', '())', 'AND', '{', 'virginica', 'THEN', 'SUM', 'setosa', '([', 'DATETRUNC', \"('\", 'IF', 'year', 'ORDER', 'alphabetically', 'END', 'YEAR', '!=', 'TODAY', '],', 'WITH', 'MIN', 'MEDIAN', 'MAX', '\")', 'GROUP', 'STARTSWITH', 'RANK', '3', '(*)', 'COUNT', 'ASC', '<=', 'TOP', 'highest', 'Setosa', 'INDEX', '4', '<', '>', 'lowest', 'to', ':', '“', '}', 'COUNTD', '()', '5', 'SORT', 'RANK_PERCENTILE', \"',\", 'BETWEEN', '\"', 'ELSE', 'ENDSWITH', '>=', 'Species', 'FIXED', '2', 'DISTINCT', 'NULL', '=', '0', '”)', '])', 'color', 'Date', 'month', 'AVG', 'DESC']\n"
          ]
        }
      ]
    },
    {
      "cell_type": "markdown",
      "source": [
        "# Recognition of entities"
      ],
      "metadata": {
        "id": "qP-7wngxaCHd"
      }
    },
    {
      "cell_type": "code",
      "source": [
        "def get_pos_(data,col_name):\n",
        "  dd=[]\n",
        "  gg=[]\n",
        "  for tok in data[col_name]:\n",
        "\n",
        "          for ent in nlp(str(list(str(tok).split()))):\n",
        "              # checking text between punct\n",
        "              dd.append({ent.text:ent.pos_})\n",
        "              gg.append({ent.pos_:ent.text})\n",
        "  return dd,gg\n",
        "def normalize_formula(text):\n",
        "    # Add space after function names if missing\n",
        "    text = re.sub(r\"(\\w)\\(\", r\"\\1 (\", text)\n",
        "    # Ensure there's a space before and after parentheses\n",
        "    text = re.sub(r\"\\s*\\(\\s*\", \" ( \", text)\n",
        "    text = re.sub(r\"\\s*\\)\\s*\", \" ) \", text)\n",
        "    return text\n",
        "\n",
        "def get_entity(data,col_name):\n",
        "     dd=[]\n",
        "     dt=[]\n",
        "     dt_e={}\n",
        "     for text in data[col_name]:\n",
        "          if col_name=='Formula (Tableau)':\n",
        "               ntext = normalize_formula(text)\n",
        "          else:\n",
        "               ntext=text\n",
        "          doc=nlp(ntext)\n",
        "          dp=[text]\n",
        "          dt_e[\"entities\"]=[]\n",
        "          for ent in doc.ents:\n",
        "                    dp.append([ent.text,ent.label_])\n",
        "                    dt_e[\"entities\"].append((ent.start,ent.end,ent.label_))\n",
        "          dt.append((text,dt_e.items()))\n",
        "          dd.append(dp)\n",
        "     return dd,dt"
      ],
      "metadata": {
        "id": "eMAJbb2faGQk"
      },
      "execution_count": 14,
      "outputs": []
    },
    {
      "cell_type": "code",
      "source": [
        "def get_patterns(data,col_name):\n",
        "     dt,dp=get_pos_(data,col_name)\n",
        "\n",
        "     pos_=[list(item.keys())[0] for item in dp]\n",
        "     pos_=list(set(pos_))\n",
        "     print(dt)\n",
        "     print(col_name,\":\",pos_)\n",
        "     patterns={}\n",
        "     patterns_head=[]\n",
        "     for key in pos_:\n",
        "         patterns.update({key:list(set([d[key] for d in dp if  key==list(d.keys())[0] and d[key] not in data[\"stopwords\"]]))})\n",
        "     return patterns"
      ],
      "metadata": {
        "id": "Oeo2V3MGdOvt"
      },
      "execution_count": 15,
      "outputs": []
    },
    {
      "cell_type": "markdown",
      "source": [
        "#Pipe entities to description"
      ],
      "metadata": {
        "id": "O3nyLDBqbvN-"
      }
    },
    {
      "cell_type": "code",
      "source": [
        "dg_ent={}"
      ],
      "metadata": {
        "id": "S64XfOnqa1MV"
      },
      "execution_count": 16,
      "outputs": []
    },
    {
      "cell_type": "code",
      "source": [
        "p_d=dg_ent['Patterns_Description']=get_patterns(description,\"vocab\")"
      ],
      "metadata": {
        "colab": {
          "base_uri": "https://localhost:8080/"
        },
        "id": "Katd9zAma3TE",
        "outputId": "e5168a3f-9806-4b7d-c723-e7dee309de7d"
      },
      "execution_count": 17,
      "outputs": [
        {
          "output_type": "stream",
          "name": "stdout",
          "text": [
            "[{'[': 'X'}, {\"'\": 'X'}, {'versicolor': 'NOUN'}, {\"'\": 'PUNCT'}, {']': 'PUNCT'}, {'[': 'X'}, {\"'\": 'PUNCT'}, {'Maximum': 'PROPN'}, {\"'\": 'PUNCT'}, {']': 'PUNCT'}, {'[': 'X'}, {\"'\": 'PUNCT'}, {'from': 'ADP'}, {\"'\": 'PUNCT'}, {']': 'PUNCT'}, {'[': 'X'}, {\"'\": 'PUNCT'}, {'bottom': 'ADJ'}, {\"'\": 'PUNCT'}, {']': 'PUNCT'}, {'[': 'X'}, {\"'\": 'PUNCT'}, {'ends': 'VERB'}, {\"'\": 'PUNCT'}, {']': 'PUNCT'}, {'[': 'X'}, {\"'\": 'PUNCT'}, {'Calculate': 'ADJ'}, {\"'\": 'PUNCT'}, {']': 'PUNCT'}, {'[': 'X'}, {\"'\": 'PUNCT'}, {'List': 'NOUN'}, {\"'\": 'PUNCT'}, {']': 'PUNCT'}, {'[': 'X'}, {\"'\": 'NOUN'}, {'1': 'NUM'}, {\"'\": 'NUM'}, {']': 'PUNCT'}, {'[': 'X'}, {\"'\": 'NUM'}, {'10': 'NUM'}, {\"'\": 'PUNCT'}, {']': 'PUNCT'}, {'[': 'X'}, {\"'\": 'PUNCT'}, {'Lowest': 'ADJ'}, {\"'\": 'PUNCT'}, {']': 'PUNCT'}, {'[': 'X'}, {\"'\": 'X'}, {'Lengths': 'NOUN'}, {\"'\": 'PUNCT'}, {']': 'PUNCT'}, {'[': 'X'}, {\"'\": 'PUNCT'}, {'in': 'ADP'}, {\"'\": 'NOUN'}, {']': 'PUNCT'}, {'[': 'X'}, {\"'\": 'PUNCT'}, {'or': 'CCONJ'}, {\"'\": 'PUNCT'}, {']': 'PUNCT'}, {'[': 'X'}, {\"'\": 'NOUN'}, {'virginica': 'X'}, {\"'\": 'PUNCT'}, {']': 'PUNCT'}, {'[': 'X'}, {\"'\": 'PUNCT'}, {'total': 'ADJ'}, {\"'\": 'PUNCT'}, {']': 'PUNCT'}, {'[': 'X'}, {\"'\": 'PUNCT'}, {'setosa': 'X'}, {\"'\": 'PUNCT'}, {']': 'PUNCT'}, {'[': 'X'}, {\"'\": 'PUNCT'}, {'observation': 'NOUN'}, {\"'\": 'PUNCT'}, {']': 'PUNCT'}, {'[': 'X'}, {\"'\": 'PUNCT'}, {'smallest': 'ADJ'}, {\"'\": 'PUNCT'}, {']': 'PUNCT'}, {'[': 'X'}, {\"'\": 'PUNCT'}, {'least': 'ADJ'}, {\"'\": 'PUNCT'}, {']': 'PUNCT'}, {'[': 'X'}, {\"'\": 'VERB'}, {'not': 'PART'}, {\"'\": 'PUNCT'}, {']': 'PUNCT'}, {'[': 'X'}, {\"'\": 'PUNCT'}, {'is': 'AUX'}, {\"'\": 'PUNCT'}, {']': 'PUNCT'}, {'[': 'X'}, {\"'\": 'PUNCT'}, {'Median': 'PROPN'}, {\"'\": 'PUNCT'}, {']': 'PUNCT'}, {'[': 'X'}, {\"'\": 'X'}, {'Number': 'NOUN'}, {\"'\": 'PUNCT'}, {']': 'PUNCT'}, {'[': 'X'}, {\"'\": 'X'}, {'%': 'INTJ'}, {\"'\": 'PUNCT'}, {']': 'PUNCT'}, {'[': 'X'}, {\"'\": 'PUNCT'}, {'year': 'NOUN'}, {\"'\": 'PUNCT'}, {']': 'PUNCT'}, {'[': 'X'}, {\"'\": 'PUNCT'}, {'by': 'ADP'}, {\"'\": 'PUNCT'}, {']': 'PUNCT'}, {'[': 'X'}, {\"'\": 'NOUN'}, {'points': 'NOUN'}, {\"'\": 'PUNCT'}, {']': 'PUNCT'}, {'[': 'X'}, {\"'\": 'PUNCT'}, {'greater': 'ADJ'}, {\"'\": 'PUNCT'}, {']': 'PUNCT'}, {'[': 'X'}, {\"'\": 'NOUN'}, {'types': 'NOUN'}, {\"'\": 'PUNCT'}, {']': 'PUNCT'}, {'[': 'X'}, {\"'\": 'PUNCT'}, {'median': 'X'}, {\"'\": 'PUNCT'}, {']': 'PUNCT'}, {'[': 'X'}, {\"'\": 'PUNCT'}, {'alphabetically': 'ADV'}, {\"'\": 'VERB'}, {']': 'PUNCT'}, {'[': 'X'}, {\"'\": 'NOUN'}, {'records': 'NOUN'}, {\"'\": 'PUNCT'}, {']': 'PUNCT'}, {'[': 'X'}, {\"'\": 'PUNCT'}, {'order': 'NOUN'}, {\"'\": 'PUNCT'}, {']': 'PUNCT'}, {'[': 'X'}, {\"'\": 'X'}, {'Rank': 'PROPN'}, {\"'\": 'PUNCT'}, {']': 'PUNCT'}, {'[': 'X'}, {\"'\": 'X'}, {'10th': 'X'}, {\"'\": 'PUNCT'}, {']': 'PUNCT'}, {'[': 'X'}, {\"'\": 'PUNCT'}, {'field': 'NOUN'}, {\"'\": 'PUNCT'}, {']': 'PUNCT'}, {'[': 'X'}, {\"'\": 'PUNCT'}, {'high': 'ADJ'}, {\"'\": 'PUNCT'}, {']': 'PUNCT'}, {'[': 'X'}, {\"'\": 'PUNCT'}, {'and': 'CCONJ'}, {\"'\": 'PUNCT'}, {']': 'PUNCT'}, {'[': 'X'}, {\"'\": 'X'}, {'January': 'PROPN'}, {\"'\": 'PUNCT'}, {']': 'PUNCT'}, {'[': 'X'}, {\"'\": 'X'}, {'How': 'SCONJ'}, {\"'\": 'PUNCT'}, {']': 'PUNCT'}, {'[': 'X'}, {\"'\": 'X'}, {'Iris': 'PROPN'}, {\"'\": 'PUNCT'}, {']': 'PUNCT'}, {'[': 'X'}, {\"'\": 'PUNCT'}, {'Group': 'PROPN'}, {\"'\": 'PUNCT'}, {']': 'PUNCT'}, {'[': 'X'}, {\"'\": 'PUNCT'}, {'with': 'ADP'}, {\"'\": 'PUNCT'}, {']': 'PUNCT'}, {'[': 'X'}, {\"'\": 'PUNCT'}, {'assuming': 'VERB'}, {\"'\": 'PUNCT'}, {']': 'PUNCT'}, {'[': 'X'}, {\"'\": 'PUNCT'}, {'Highest': 'ADJ'}, {\"'\": 'PUNCT'}, {']': 'PUNCT'}, {'[': 'X'}, {\"'\": 'PUNCT'}, {'only': 'ADV'}, {\"'\": 'PUNCT'}, {']': 'PUNCT'}, {'[': 'X'}, {\"'\": 'PUNCT'}, {'average': 'ADJ'}, {\"'\": 'PUNCT'}, {']': 'PUNCT'}, {'[': 'X'}, {\"'\": 'PUNCT'}, {'Count': 'PROPN'}, {\"'\": 'PUNCT'}, {']': 'PUNCT'}, {'[': 'X'}, {\"'\": 'X'}, {'Filter': 'PROPN'}, {\"'\": 'PUNCT'}, {']': 'PUNCT'}, {'[': 'X'}, {\"'\": 'NOUN'}, {'value': 'NOUN'}, {\"'\": 'PUNCT'}, {']': 'PUNCT'}, {'[': 'X'}, {\"'\": 'NUM'}, {'3': 'NUM'}, {\"'\": 'PUNCT'}, {']': 'PUNCT'}, {'[': 'X'}, {\"'\": 'PUNCT'}, {'start': 'VERB'}, {\"'\": 'PUNCT'}, {']': 'PUNCT'}, {'[': 'X'}, {\"'\": 'PUNCT'}, {'low': 'ADJ'}, {\"'\": 'PUNCT'}, {']': 'PUNCT'}, {'[': 'X'}, {\"'\": 'PUNCT'}, {'starts': 'VERB'}, {\"'\": 'PUNCT'}, {']': 'PUNCT'}, {'[': 'X'}, {\"'\": 'X'}, {'Entries': 'NOUN'}, {\"'\": 'PUNCT'}, {']': 'PUNCT'}, {'[': 'X'}, {\"'\": 'PUNCT'}, {'exactly': 'ADV'}, {\"'\": 'PUNCT'}, {']': 'PUNCT'}, {'[': 'X'}, {\"'\": 'PUNCT'}, {'all': 'PRON'}, {\"'\": 'NOUN'}, {']': 'PUNCT'}, {'[': 'X'}, {\"'\": 'PUNCT'}, {'many': 'ADJ'}, {\"'\": 'PUNCT'}, {']': 'PUNCT'}, {'[': 'X'}, {\"'\": 'PUNCT'}, {'descending': 'VERB'}, {\"'\": 'NOUN'}, {']': 'PUNCT'}, {'[': 'X'}, {\"'\": 'PUNCT'}, {'name': 'NOUN'}, {\"'\": 'PUNCT'}, {']': 'PUNCT'}, {'[': 'X'}, {\"'\": 'PUNCT'}, {'distinct': 'ADJ'}, {\"'\": 'PUNCT'}, {']': 'PUNCT'}, {'[': 'X'}, {\"'\": 'PUNCT'}, {'species': 'NOUN'}, {\"'\": 'PUNCT'}, {']': 'PUNCT'}, {'[': 'X'}, {\"'\": 'PUNCT'}, {'ascending': 'VERB'}, {\"'\": 'PUNCT'}, {']': 'PUNCT'}, {'[': 'X'}, {\"'\": 'NOUN'}, {'occurrences': 'NOUN'}, {\"'\": 'PUNCT'}, {']': 'PUNCT'}, {'[': 'X'}, {\"'\": 'NOUN'}, {'flowers': 'NOUN'}, {\"'\": 'VERB'}, {']': 'PUNCT'}, {'[': 'X'}, {\"'\": 'PUNCT'}, {'each': 'PRON'}, {\"'\": 'PUNCT'}, {']': 'PUNCT'}, {'[': 'X'}, {\"'\": 'PUNCT'}, {'within': 'ADP'}, {\"'\": 'PUNCT'}, {']': 'PUNCT'}, {'[': 'X'}, {\"'\": 'PUNCT'}, {'highest': 'ADJ'}, {\"'\": 'PUNCT'}, {']': 'PUNCT'}, {'[': 'X'}, {\"'\": 'PUNCT'}, {'Setosa': 'PROPN'}, {\"'\": 'PUNCT'}, {']': 'PUNCT'}, {'[': 'X'}, {\"'\": 'PUNCT'}, {'flower': 'NOUN'}, {\"'\": 'PUNCT'}, {']': 'PUNCT'}, {'[': 'X'}, {\"'\": 'NUM'}, {'4': 'NUM'}, {\"'\": 'PUNCT'}, {']': 'PUNCT'}, {'[': 'X'}, {\"'\": 'PUNCT'}, {'unique': 'ADJ'}, {\"'\": 'PUNCT'}, {']': 'PUNCT'}, {'[': 'X'}, {\"'\": 'PUNCT'}, {'grouped': 'VERB'}, {\"'\": 'PUNCT'}, {']': 'PUNCT'}, {'[': 'X'}, {\"'\": 'PUNCT'}, {'Find': 'VERB'}, {\"'\": 'PUNCT'}, {']': 'PUNCT'}, {'[': 'X'}, {\"'\": 'PUNCT'}, {'middle': 'ADJ'}, {\"'\": 'PUNCT'}, {']': 'PUNCT'}, {'[': 'X'}, {\"'\": 'PUNCT'}, {'equal': 'ADJ'}, {\"'\": 'PUNCT'}, {']': 'PUNCT'}, {'[': 'X'}, {\"'\": 'PUNCT'}, {'percentile': 'ADJ'}, {\"'\": 'PUNCT'}, {']': 'PUNCT'}, {'[': 'X'}, {\"'\": 'PUNCT'}, {'to': 'PART'}, {\"'\": 'PUNCT'}, {']': 'PUNCT'}, {'[': 'X'}, {\"'\": 'VERB'}, {'where': 'SCONJ'}, {\"'\": 'PUNCT'}, {']': 'PUNCT'}, {'[': 'X'}, {\"'\": 'PUNCT'}, {'found': 'VERB'}, {\"'\": 'PUNCT'}, {']': 'PUNCT'}, {'[': 'X'}, {\"'\": 'NUM'}, {'5': 'NUM'}, {\"'\": 'PUNCT'}, {']': 'PUNCT'}, {'[': 'X'}, {\"'\": 'PUNCT'}, {'Average': 'ADJ'}, {\"'\": 'PUNCT'}, {']': 'PUNCT'}, {'[': 'X'}, {\"'\": 'PUNCT'}, {'Select': 'ADJ'}, {\"'\": 'PUNCT'}, {']': 'PUNCT'}, {'[': 'X'}, {\"'\": 'PUNCT'}, {'show': 'VERB'}, {\"'\": 'PUNCT'}, {']': 'PUNCT'}, {'[': 'X'}, {\"'\": 'PUNCT'}, {'top': 'ADJ'}, {\"'\": 'PUNCT'}, {']': 'PUNCT'}, {'[': 'X'}, {\"'\": 'NOUN'}, {'entries': 'NOUN'}, {\"'\": 'PUNCT'}, {']': 'PUNCT'}, {'[': 'X'}, {\"'\": 'PUNCT'}, {'recorded': 'VERB'}, {\"'\": 'PUNCT'}, {']': 'PUNCT'}, {'[': 'X'}, {\"'\": 'PUNCT'}, {'What': 'PRON'}, {\"'\": 'VERB'}, {']': 'PUNCT'}, {'[': 'X'}, {\"'\": 'PUNCT'}, {'Minimum': 'PROPN'}, {\"'\": 'PUNCT'}, {']': 'PUNCT'}, {'[': 'X'}, {\"'\": 'PUNCT'}, {'last': 'ADJ'}, {\"'\": 'PUNCT'}, {']': 'PUNCT'}, {'[': 'X'}, {\"'\": 'PUNCT'}, {'both': 'PRON'}, {\"'\": 'VERB'}, {']': 'PUNCT'}, {'[': 'X'}, {\"'\": 'PUNCT'}, {'above': 'ADP'}, {\"'\": 'PUNCT'}, {']': 'PUNCT'}, {'[': 'X'}, {\"'\": 'NOUN'}, {'number': 'NOUN'}, {\"'\": 'PUNCT'}, {']': 'PUNCT'}, {'[': 'X'}, {\"'\": 'PUNCT'}, {'less': 'ADJ'}, {\"'\": 'PUNCT'}, {']': 'PUNCT'}, {'[': 'X'}, {\"'\": 'NOUN'}, {'Sum': 'NOUN'}, {\"'\": 'PUNCT'}, {']': 'PUNCT'}, {'[': 'X'}, {\"'\": 'PUNCT'}, {'dataset': 'ADJ'}, {\"'\": 'PUNCT'}, {']': 'PUNCT'}, {'[': 'X'}, {\"'\": 'PUNCT'}, {'over': 'ADP'}, {\"'\": 'PUNCT'}, {']': 'PUNCT'}, {'[': 'X'}, {\"'\": 'PUNCT'}, {'at': 'ADP'}, {\"'\": 'PUNCT'}, {']': 'PUNCT'}, {'[': 'X'}, {\"'\": 'PUNCT'}, {'Aggregate': 'VERB'}, {\"'\": 'PUNCT'}, {']': 'PUNCT'}, {'[': 'X'}, {\"'\": 'PUNCT'}, {'for': 'ADP'}, {\"'\": 'PUNCT'}, {']': 'PUNCT'}, {'[': 'X'}, {\"'\": 'VERB'}, {'of': 'ADP'}, {\"'\": 'PUNCT'}, {']': 'PUNCT'}, {'[': 'X'}, {\"'\": 'PUNCT'}, {'Species': 'NOUN'}, {\"'\": 'PUNCT'}, {']': 'PUNCT'}, {'[': 'X'}, {\"'\": 'NOUN'}, {'how': 'SCONJ'}, {\"'\": 'PUNCT'}, {']': 'PUNCT'}, {'[': 'X'}, {\"'\": 'PUNCT'}, {'contains': 'VERB'}, {\"'\": 'PUNCT'}, {']': 'PUNCT'}, {'[': 'X'}, {\"'\": 'VERB'}, {'starting': 'VERB'}, {\"'\": 'PUNCT'}, {']': 'PUNCT'}, {'[': 'X'}, {\"'\": 'PUNCT'}, {'than': 'ADP'}, {\"'\": 'NOUN'}, {']': 'PUNCT'}, {'[': 'X'}, {\"'\": 'PROPN'}, {'Total': 'ADJ'}, {\"'\": 'PUNCT'}, {']': 'PUNCT'}, {'[': 'X'}, {\"'\": 'PUNCT'}, {'Show': 'VERB'}, {\"'\": 'PUNCT'}, {']': 'PUNCT'}, {'[': 'X'}, {\"'\": 'NUM'}, {'2': 'NUM'}, {\"'\": 'PUNCT'}, {']': 'PUNCT'}, {'[': 'X'}, {\"'\": 'VERB'}, {'are': 'AUX'}, {\"'\": 'PUNCT'}, {']': 'PUNCT'}, {'[': 'X'}, {\"'\": 'NUM'}, {'0': 'NUM'}, {\"'\": 'PUNCT'}, {']': 'PUNCT'}, {'[': 'X'}, {\"'\": 'PUNCT'}, {'this': 'PRON'}, {\"'\": 'PUNCT'}, {']': 'PUNCT'}, {'[': 'X'}, {\"'\": 'X'}, {'Widths': 'NOUN'}, {\"'\": 'PUNCT'}, {']': 'PUNCT'}, {'[': 'X'}, {\"'\": 'PUNCT'}, {'color': 'NOUN'}, {\"'\": 'PUNCT'}, {']': 'PUNCT'}, {'[': 'X'}, {\"'\": 'PUNCT'}, {'Date': 'PROPN'}, {\"'\": 'PUNCT'}, {']': 'PUNCT'}, {'[': 'X'}, {\"'\": 'NOUN'}, {'month': 'NOUN'}, {\"'\": 'PUNCT'}, {']': 'PUNCT'}, {'[': 'X'}, {\"'\": 'PUNCT'}, {'sorted': 'VERB'}, {\"'\": 'PUNCT'}, {']': 'PUNCT'}, {'[': 'X'}, {\"'\": 'PUNCT'}, {'between': 'ADP'}, {\"'\": 'PUNCT'}, {']': 'PUNCT'}, {'[': 'X'}, {\"'\": 'PUNCT'}, {'Display': 'VERB'}, {\"'\": 'PUNCT'}, {']': 'PUNCT'}, {'[': 'X'}, {\"'\": 'PUNCT'}, {'there': 'PRON'}, {\"'\": 'NOUN'}, {']': 'PUNCT'}, {'[': 'X'}, {\"'\": 'PUNCT'}, {'Organize': 'VERB'}, {\"'\": 'PUNCT'}, {']': 'PUNCT'}, {'[': 'X'}, {\"'\": 'PUNCT'}, {'?': 'PUNCT'}, {\"'\": 'PUNCT'}, {']': 'PUNCT'}, {'[': 'X'}, {\"'\": 'PUNCT'}, {'Top': 'ADJ'}, {\"'\": 'PUNCT'}, {']': 'PUNCT'}, {'[': 'X'}, {\"'\": 'PROPN'}, {'Determine': 'NOUN'}, {\"'\": 'PUNCT'}, {']': 'PUNCT'}, {'[': 'X'}, {\"'\": 'PUNCT'}, {'the': 'DET'}, {\"'\": 'PUNCT'}, {']': 'PUNCT'}, {'[': 'X'}, {\"'\": 'PUNCT'}, {'count': 'VERB'}, {\"'\": 'PUNCT'}, {']': 'PUNCT'}, {'[': 'X'}, {\"'\": 'PUNCT'}, {'data': 'NOUN'}, {\"'\": 'PUNCT'}, {']': 'PUNCT'}, {'[': 'X'}, {\"'\": 'PUNCT'}, {'across': 'ADP'}, {\"'\": 'PUNCT'}, {']': 'PUNCT'}, {'[': 'X'}, {\"'\": 'PUNCT'}, {'Sort': 'ADV'}, {\"'\": 'NOUN'}, {']': 'PUNCT'}]\n",
            "vocab : ['PRON', 'ADP', 'PROPN', 'AUX', 'X', 'SCONJ', 'NUM', 'DET', 'INTJ', 'VERB', 'ADV', 'PART', 'PUNCT', 'NOUN', 'CCONJ', 'ADJ']\n"
          ]
        }
      ]
    },
    {
      "cell_type": "code",
      "source": [
        "nlp = spacy.load('en_core_web_sm')\n",
        "\n",
        "# Function to create and return an EntityRuler with specified patterns\n",
        "def create_ruler(patterns, label):\n",
        "    ruler = EntityRuler(nlp, overwrite_ents=True)\n",
        "    formatted_patterns = [{\"label\": label, \"pattern\": pattern} for pattern in patterns]\n",
        "    ruler.add_patterns(formatted_patterns)\n",
        "    return ruler\n",
        "\n",
        "desc_conj=p_d['CCONJ']+ p_d['SCONJ']\n",
        "desc_intj=p_d['INTJ']\n",
        "desc_verb=p_d['VERB'] + p_d['AUX']\n",
        "desc_num=p_d['NUM']\n",
        "desc_adv=p_d['ADV']\n",
        "desc_pron=p_d['PRON'] + p_d['DET']\n",
        "desc_adp=p_d['ADP']\n",
        "desc_noun=[x for x in p_d['X'] if x != p_d['X'][1]]+p_d['NOUN'] +['dataset']\n",
        "desc_adj=[p_d['X'][1]]+[x for x in p_d['ADJ'] if x !='dataset' ]\n",
        "desc_propn=['Sepal Length','Sepal Width', 'Petal Length', 'Petal Width']+p_d['PROPN']\n",
        "\n",
        "# Create rulers\n",
        "ruler_conj = create_ruler(desc_conj,'CONJ')\n",
        "ruler_intj = create_ruler(desc_intj,'INTJ')\n",
        "ruler_verb = create_ruler(desc_verb,'VERB')\n",
        "ruler_num  = create_ruler(desc_num,'NUM')\n",
        "ruler_adv  = create_ruler(desc_adv,'ADV')\n",
        "ruler_pron = create_ruler(desc_pron,'PRON')\n",
        "ruler_adp  = create_ruler(desc_adp,'ADP')\n",
        "ruler_noun = create_ruler(desc_noun, \"NOUN\")\n",
        "ruler_adj = create_ruler(desc_adj, \"ADJ\")\n",
        "ruler_propn = create_ruler(desc_propn,\"PROPN\")\n",
        "\n",
        "# Create component factories\n",
        "@Language.component(\"ruler_conj\")\n",
        "def ruler_conj_component(doc):\n",
        "    return ruler_conj(doc)\n",
        "\n",
        "@Language.component(\"ruler_intj\")\n",
        "def ruler_intj_component(doc):\n",
        "    return ruler_intj(doc)\n",
        "\n",
        "@Language.component(\"ruler_verb\")\n",
        "def ruler_verb_component(doc):\n",
        "    return ruler_verb(doc)\n",
        "\n",
        "@Language.component(\"ruler_num\")\n",
        "def ruler_num_component(doc):\n",
        "    return ruler_num(doc)\n",
        "\n",
        "@Language.component(\"ruler_adv\")\n",
        "def ruler_adv_component(doc):\n",
        "    return ruler_adv(doc)\n",
        "\n",
        "@Language.component(\"ruler_pron\")\n",
        "def ruler_pron_component(doc):\n",
        "    return ruler_pron(doc)\n",
        "\n",
        "@Language.component(\"ruler_adp\")\n",
        "def ruler_adp_component(doc):\n",
        "    return ruler_adp(doc)\n",
        "\n",
        "@Language.component(\"ruler_noun\")\n",
        "def ruler_noun_component(doc):\n",
        "    return ruler_noun(doc)\n",
        "\n",
        "@Language.component(\"ruler_adj\")\n",
        "def ruler_adj_component(doc):\n",
        "    return ruler_adj(doc)\n",
        "\n",
        "@Language.component('ruler_propn')\n",
        "def ruler_propn_component(doc):\n",
        "     return ruler_propn(doc)\n",
        "\n",
        "# Add the components to the pipeline\n",
        "nlp.add_pipe(\"ruler_intj\", before=\"ner\")\n",
        "nlp.add_pipe(\"ruler_verb\",before=\"ner\")\n",
        "nlp.add_pipe(\"ruler_num\", before=\"ner\")\n",
        "nlp.add_pipe(\"ruler_adv\", before=\"ner\")\n",
        "nlp.add_pipe(\"ruler_pron\", before=\"ner\")\n",
        "nlp.add_pipe(\"ruler_adp\", before=\"ner\")\n",
        "nlp.add_pipe(\"ruler_noun\", before=\"ner\")\n",
        "nlp.add_pipe(\"ruler_adj\", before=\"ner\")\n",
        "nlp.add_pipe(\"ruler_propn\", before = \"ner\")\n",
        "\n",
        "# Test\n",
        "#doc=nlp(\"Sum of Sepal Length. Average Sepal Width across all entries . Count the number of records in the dataset\")\n",
        "#for ent in doc.ents:\n",
        "#    print(ent.text, ent.label_)\n",
        "ent_desc,Train_desc_data=get_entity(df,df.columns[0])"
      ],
      "metadata": {
        "id": "gf6_p_4MZSqm"
      },
      "execution_count": 18,
      "outputs": []
    },
    {
      "cell_type": "code",
      "source": [
        "for pat in p_d:\n",
        "   print({pat:p_d[pat]})"
      ],
      "metadata": {
        "colab": {
          "base_uri": "https://localhost:8080/"
        },
        "id": "l8Dog81q0EzF",
        "outputId": "634124b2-db54-471e-d884-601be64650fb"
      },
      "execution_count": 19,
      "outputs": [
        {
          "output_type": "stream",
          "name": "stdout",
          "text": [
            "{'PRON': ['each', 'there', 'this', 'What', 'all', 'both']}\n",
            "{'ADP': ['within', 'for', 'above', 'by', 'in', 'of', 'from', 'over', 'with', 'at', 'than', 'between', 'across']}\n",
            "{'PROPN': ['Group', 'Count', 'Filter', 'Maximum', 'Date', 'Setosa', 'January', 'Median', 'Rank', 'Minimum', 'Iris']}\n",
            "{'AUX': ['are', 'is']}\n",
            "{'X': ['setosa', '10th', 'median', 'virginica']}\n",
            "{'SCONJ': ['where', 'how', 'How']}\n",
            "{'NUM': ['5', '0', '3', '1', '10', '4', '2']}\n",
            "{'DET': ['the']}\n",
            "{'INTJ': ['%']}\n",
            "{'VERB': ['Find', 'contains', 'starting', 'ends', 'Show', 'found', 'assuming', 'show', 'recorded', 'start', 'starts', 'sorted', 'descending', 'Display', 'ascending', 'Organize', 'count', 'Aggregate', 'grouped']}\n",
            "{'ADV': ['Sort', 'only', 'alphabetically', 'exactly']}\n",
            "{'PART': ['not', 'to']}\n",
            "{'PUNCT': ['?']}\n",
            "{'NOUN': ['field', 'versicolor', 'Species', 'List', 'Lengths', 'entries', 'Widths', 'observation', 'color', 'value', 'number', 'month', 'Number', 'Entries', 'name', 'year', 'species', 'flowers', 'occurrences', 'Sum', 'points', 'types', 'Determine', 'flower', 'records', 'order', 'data']}\n",
            "{'CCONJ': ['or', 'and']}\n",
            "{'ADJ': ['high', 'bottom', 'middle', 'equal', 'Calculate', 'percentile', 'Total', 'Lowest', 'Average', 'Select', 'top', 'Highest', 'total', 'last', 'smallest', 'average', 'least', 'low', 'many', 'less', 'distinct', 'dataset', 'highest', 'greater', 'Top', 'unique']}\n"
          ]
        }
      ]
    },
    {
      "cell_type": "code",
      "source": [
        "print(ent_desc)"
      ],
      "metadata": {
        "colab": {
          "base_uri": "https://localhost:8080/"
        },
        "id": "LYc2lK3pah9n",
        "outputId": "ea7ce31f-99e7-4fa1-9c94-c86a095f5006"
      },
      "execution_count": 20,
      "outputs": [
        {
          "output_type": "stream",
          "name": "stdout",
          "text": [
            "[['Sum of Sepal Length', ['Sum', 'NOUN'], ['of', 'ADP'], ['Sepal Length', 'PROPN']], ['Average Sepal Width across all entries', ['Average', 'ADJ'], ['Sepal Width', 'PROPN'], ['across', 'ADP'], ['all', 'PRON'], ['entries', 'NOUN']], ['Find the median Petal Length', ['Find', 'VERB'], ['the', 'PRON'], ['median', 'NOUN'], ['Petal Length', 'PROPN']], ['Count the number of records in the dataset', ['Count', 'PROPN'], ['the', 'PRON'], ['number', 'NOUN'], ['of', 'ADP'], ['records', 'NOUN'], ['in', 'ADP'], ['the', 'PRON'], ['dataset', 'NOUN']], ['Count distinct species in the dataset', ['Count', 'PROPN'], ['distinct', 'ADJ'], ['species', 'NOUN'], ['in', 'ADP'], ['the', 'PRON'], ['dataset', 'NOUN']], ['Minimum value of Sepal Length', ['Minimum', 'PROPN'], ['value', 'NOUN'], ['of', 'ADP'], ['Sepal Length', 'PROPN']], ['Maximum Petal Width found in the dataset', ['Maximum', 'PROPN'], ['Petal Width', 'PROPN'], ['found', 'VERB'], ['in', 'ADP'], ['the', 'PRON'], ['dataset', 'NOUN']], ['Group records by Species', ['Group', 'PROPN'], ['records', 'NOUN'], ['by', 'ADP'], ['Species', 'NOUN']], ['Sort the entries by Sepal Length in ascending order', ['Sort', 'ADV'], ['the', 'PRON'], ['entries', 'NOUN'], ['by', 'ADP'], ['Sepal Length', 'PROPN'], ['in', 'ADP'], ['ascending', 'VERB'], ['order', 'NOUN']], ['List Species alphabetically', ['List', 'NOUN'], ['Species', 'NOUN'], ['alphabetically', 'ADV']], ['Entries with Sepal Length at least 5.0', ['Entries', 'NOUN'], ['with', 'ADP'], ['Sepal Length', 'PROPN'], ['at', 'ADP'], ['least', 'ADJ']], ['Entries with Petal Length between 1.5 and 2.5', ['Entries', 'NOUN'], ['with', 'ADP'], ['Petal Length', 'PROPN'], ['between', 'ADP'], ['1.5', 'CARDINAL']], ['Top 3 entries with the highest Sepal Width', ['Top', 'ADJ'], ['3', 'NUM'], ['entries', 'NOUN'], ['with', 'ADP'], ['the', 'PRON'], ['highest', 'ADJ'], ['Sepal Width', 'PROPN']], [\"Species is 'Setosa'\", ['Species', 'NOUN'], ['is', 'VERB'], ['Setosa', 'PROPN']], [\"Species starts with 'Se'\", ['Species', 'NOUN'], ['starts', 'VERB'], ['with', 'ADP']], ['Calculate the total of Petal Lengths', ['Calculate', 'ADJ'], ['the', 'PRON'], ['total', 'ADJ'], ['of', 'ADP'], ['Lengths', 'NOUN']], ['What is the average Petal Width?', ['What', 'PRON'], ['is', 'VERB'], ['the', 'PRON'], ['average', 'ADJ'], ['Petal Width', 'PROPN']], ['Determine the middle value of Sepal Widths', ['Determine', 'NOUN'], ['the', 'PRON'], ['middle', 'ADJ'], ['value', 'NOUN'], ['of', 'ADP'], ['Widths', 'NOUN']], ['How many data points are there?', ['many', 'ADJ'], ['data', 'NOUN'], ['points', 'NOUN'], ['are', 'VERB'], ['there', 'PRON']], ['Number of unique flower types', ['Number', 'NOUN'], ['of', 'ADP'], ['unique', 'ADJ'], ['flower', 'NOUN'], ['types', 'NOUN']], ['Lowest Sepal Length recorded', ['Lowest', 'ADJ'], ['Sepal Length', 'PROPN'], ['recorded', 'VERB']], ['Highest value of Petal Width found', ['Highest', 'ADJ'], ['value', 'NOUN'], ['of', 'ADP'], ['Petal Width', 'PROPN'], ['found', 'VERB']], ['Organize data by Species in descending order', ['Organize', 'VERB'], ['data', 'NOUN'], ['by', 'ADP'], ['Species', 'NOUN'], ['in', 'ADP'], ['descending', 'VERB'], ['order', 'NOUN']], ['Rank Sepal Lengths from low to high', ['Rank', 'PROPN'], ['Lengths', 'NOUN'], ['from', 'ADP'], ['low', 'ADJ'], ['high', 'ADJ']], ['Filter for Sepal Length greater than or equal to 4.5', ['Filter', 'PROPN'], ['for', 'ADP'], ['Sepal Length', 'PROPN'], ['greater', 'ADJ'], ['than', 'ADP'], ['equal', 'ADJ'], ['4.5', 'CARDINAL']], ['Select entries with Petal Width less than 2.0', ['Select', 'ADJ'], ['entries', 'NOUN'], ['with', 'ADP'], ['Petal Width', 'PROPN'], ['less', 'ADJ'], ['than', 'ADP']], ['Show entries where Sepal Width is not 3.0', ['Show', 'VERB'], ['entries', 'NOUN'], ['Sepal Width', 'PROPN'], ['is', 'VERB'], ['3.0', 'CARDINAL']], [\"List all where the Species name ends with 'ica'\", ['List', 'NOUN'], ['all', 'PRON'], ['the', 'PRON'], ['Species', 'NOUN'], ['name', 'NOUN'], ['ends', 'VERB'], ['with', 'ADP']], ['Entries with a Sepal Length of exactly 5.0', ['Entries', 'NOUN'], ['with', 'ADP'], ['Sepal Length', 'PROPN'], ['of', 'ADP'], ['exactly', 'ADV'], ['5.0', 'CARDINAL']], ['Display the top 5 Species by Sepal Width', ['Display', 'VERB'], ['the', 'PRON'], ['top', 'ADJ'], ['5', 'NUM'], ['Species', 'NOUN'], ['by', 'ADP'], ['Sepal Width', 'PROPN']], ['Find the 3 smallest Petal Lengths', ['Find', 'VERB'], ['the', 'PRON'], ['3', 'NUM'], ['smallest', 'ADJ'], ['Petal', 'ORG'], ['Lengths', 'NOUN']], ['Count occurrences where Petal Length is between 4 and 5', ['Count', 'PROPN'], ['occurrences', 'NOUN'], ['Petal Length', 'PROPN'], ['is', 'VERB'], ['between', 'ADP'], ['4', 'NUM'], ['5', 'NUM']], [\"Aggregate data by the month of observation (assuming there's a Date field)\", ['Aggregate', 'VERB'], ['data', 'NOUN'], ['by', 'ADP'], ['the', 'PRON'], ['month', 'NOUN'], ['of', 'ADP'], ['observation', 'NOUN'], ['assuming', 'VERB'], ['there', 'PRON'], ['Date', 'PROPN'], ['field', 'NOUN']], [\"Filter records from last year (assuming there's a Date field)\", ['Filter', 'PROPN'], ['records', 'NOUN'], ['from', 'ADP'], ['last', 'ADJ'], ['year', 'NOUN'], ['assuming', 'VERB'], ['there', 'PRON'], ['Date', 'PROPN'], ['field', 'NOUN']], ['Show only the data starting from January this year', ['Show', 'VERB'], ['only', 'ADV'], ['the', 'PRON'], ['data', 'NOUN'], ['starting', 'VERB'], ['from', 'ADP'], ['January', 'PROPN'], ['this', 'PRON'], ['year', 'NOUN']], ['Find the average Sepal Length for each Species, sorted alphabetically', ['Find', 'VERB'], ['the', 'PRON'], ['average', 'ADJ'], ['Sepal Length', 'PROPN'], ['for', 'ADP'], ['each', 'PRON'], ['Species', 'NOUN'], ['sorted', 'VERB'], ['alphabetically', 'ADV']], [\"Count how many Species start with 'C'\", ['Count', 'PROPN'], ['many', 'ADJ'], ['Species', 'NOUN'], ['start', 'VERB'], ['with', 'ADP']], ['Entries with Petal Length and Sepal Length both above 4.0', ['Entries', 'NOUN'], ['with', 'ADP'], ['Petal Length', 'PROPN'], ['Sepal Length', 'PROPN'], ['both', 'PRON'], ['above', 'ADP'], ['4.0', 'CARDINAL']], ['List Species with Petal Width in the top 10%', ['List', 'NOUN'], ['Species', 'NOUN'], ['with', 'ADP'], ['Petal Width', 'PROPN'], ['in', 'ADP'], ['the', 'PRON'], ['top', 'ADJ'], ['10', 'NUM'], ['%', 'INTJ']], ['Total Sepal Length for all Iris flowers', ['Total', 'ADJ'], ['Sepal Length', 'PROPN'], ['for', 'ADP'], ['all', 'PRON'], ['Iris', 'PROPN'], ['flowers', 'NOUN']], ['Average Petal Width across all species', ['Average', 'ADJ'], ['Petal Width', 'PROPN'], ['across', 'ADP'], ['all', 'PRON'], ['species', 'NOUN']], ['Median Sepal Width for Iris setosa', ['Median', 'PROPN'], ['Sepal Width', 'PROPN'], ['for', 'ADP'], ['Iris', 'PROPN'], ['setosa', 'NOUN']], ['Count of Iris versicolor flowers', ['Count', 'PROPN'], ['of', 'ADP'], ['Iris', 'PROPN'], ['versicolor', 'NOUN'], ['flowers', 'NOUN']], ['Distinct count of species with Sepal Length over 5.0', ['count', 'VERB'], ['of', 'ADP'], ['species', 'NOUN'], ['with', 'ADP'], ['Sepal Length', 'PROPN'], ['over', 'ADP'], ['5.0', 'CARDINAL']], ['Minimum Petal Length for Iris virginica', ['Minimum', 'PROPN'], ['Petal Length', 'PROPN'], ['for', 'ADP'], ['Iris', 'PROPN'], ['virginica', 'NOUN']], ['Maximum Sepal Width across Iris setosa', ['Maximum', 'PROPN'], ['Sepal Width', 'PROPN'], ['across', 'ADP'], ['Iris', 'PROPN'], ['setosa', 'NOUN']], ['Total number of records grouped by Species', ['Total', 'ADJ'], ['number', 'NOUN'], ['of', 'ADP'], ['records', 'NOUN'], ['grouped', 'VERB'], ['by', 'ADP'], ['Species', 'NOUN']], ['Filter to show only Iris versicolor with Sepal Width at least 3.0', ['Filter', 'PROPN'], ['show', 'VERB'], ['only', 'ADV'], ['Iris', 'PROPN'], ['versicolor', 'NOUN'], ['with', 'ADP'], ['Sepal Width', 'PROPN'], ['at', 'ADP'], ['least', 'ADJ']], ['Show top 5 Sepal Lengths within Iris virginica only', ['Show', 'VERB'], ['top', 'ADJ'], ['5', 'NUM'], ['Lengths', 'NOUN'], ['within', 'ADP'], ['Iris', 'PROPN'], ['virginica', 'NOUN'], ['only', 'ADV']], ['Iris flowers with Petal Width in the bottom 10th percentile', ['Iris', 'PROPN'], ['flowers', 'NOUN'], ['with', 'ADP'], ['Petal Width', 'PROPN'], ['in', 'ADP'], ['the', 'PRON'], ['bottom', 'ADJ'], ['10th', 'ADJ'], ['percentile', 'ADJ']], ['Average Sepal Length for each species', ['Average', 'ADJ'], ['Sepal Length', 'PROPN'], ['for', 'ADP'], ['each', 'PRON'], ['species', 'NOUN']], ['Entries with Petal Length between 4.0 and 5.0 for Iris setosa', ['Entries', 'NOUN'], ['with', 'ADP'], ['Petal Length', 'PROPN'], ['between', 'ADP'], ['5.0', 'CARDINAL'], ['for', 'ADP'], ['Iris', 'PROPN'], ['setosa', 'NOUN']], [\"Count Iris flowers where the Species name contains 'color'\", ['Count', 'PROPN'], ['Iris', 'PROPN'], ['flowers', 'NOUN'], ['the', 'PRON'], ['Species', 'NOUN'], ['name', 'NOUN'], ['contains', 'VERB'], ['color', 'NOUN']], [\"List all Iris flowers where the Species name starts with 'Iri' and ends with 'a'\", ['List', 'NOUN'], ['all', 'PRON'], ['Iris', 'PROPN'], ['flowers', 'NOUN'], ['the', 'PRON'], ['Species', 'NOUN'], ['name', 'NOUN'], ['starts', 'VERB'], ['with', 'ADP'], ['ends', 'VERB'], ['with', 'ADP']]]\n"
          ]
        }
      ]
    },
    {
      "cell_type": "markdown",
      "source": [
        "#Train Description Data"
      ],
      "metadata": {
        "id": "7mb_zV3ga6J6"
      }
    },
    {
      "cell_type": "code",
      "source": [
        "for item in Train_desc_data:\n",
        "    print(item)"
      ],
      "metadata": {
        "colab": {
          "base_uri": "https://localhost:8080/"
        },
        "id": "VnN4xw0DajZu",
        "outputId": "65b2ba59-cf96-487a-e79d-1febef23ce84"
      },
      "execution_count": 21,
      "outputs": [
        {
          "output_type": "stream",
          "name": "stdout",
          "text": [
            "('Sum of Sepal Length', dict_items([('entities', [(0, 1, 'NOUN'), (1, 2, 'PRON'), (2, 3, 'PROPN'), (3, 4, 'NOUN'), (5, 6, 'PRON'), (6, 7, 'NOUN'), (7, 8, 'NOUN'), (8, 9, 'VERB'), (9, 10, 'ADP'), (14, 15, 'VERB'), (15, 16, 'ADP')])]))\n",
            "('Average Sepal Width across all entries', dict_items([('entities', [(0, 1, 'NOUN'), (1, 2, 'PRON'), (2, 3, 'PROPN'), (3, 4, 'NOUN'), (5, 6, 'PRON'), (6, 7, 'NOUN'), (7, 8, 'NOUN'), (8, 9, 'VERB'), (9, 10, 'ADP'), (14, 15, 'VERB'), (15, 16, 'ADP')])]))\n",
            "('Find the median Petal Length', dict_items([('entities', [(0, 1, 'NOUN'), (1, 2, 'PRON'), (2, 3, 'PROPN'), (3, 4, 'NOUN'), (5, 6, 'PRON'), (6, 7, 'NOUN'), (7, 8, 'NOUN'), (8, 9, 'VERB'), (9, 10, 'ADP'), (14, 15, 'VERB'), (15, 16, 'ADP')])]))\n",
            "('Count the number of records in the dataset', dict_items([('entities', [(0, 1, 'NOUN'), (1, 2, 'PRON'), (2, 3, 'PROPN'), (3, 4, 'NOUN'), (5, 6, 'PRON'), (6, 7, 'NOUN'), (7, 8, 'NOUN'), (8, 9, 'VERB'), (9, 10, 'ADP'), (14, 15, 'VERB'), (15, 16, 'ADP')])]))\n",
            "('Count distinct species in the dataset', dict_items([('entities', [(0, 1, 'NOUN'), (1, 2, 'PRON'), (2, 3, 'PROPN'), (3, 4, 'NOUN'), (5, 6, 'PRON'), (6, 7, 'NOUN'), (7, 8, 'NOUN'), (8, 9, 'VERB'), (9, 10, 'ADP'), (14, 15, 'VERB'), (15, 16, 'ADP')])]))\n",
            "('Minimum value of Sepal Length', dict_items([('entities', [(0, 1, 'NOUN'), (1, 2, 'PRON'), (2, 3, 'PROPN'), (3, 4, 'NOUN'), (5, 6, 'PRON'), (6, 7, 'NOUN'), (7, 8, 'NOUN'), (8, 9, 'VERB'), (9, 10, 'ADP'), (14, 15, 'VERB'), (15, 16, 'ADP')])]))\n",
            "('Maximum Petal Width found in the dataset', dict_items([('entities', [(0, 1, 'NOUN'), (1, 2, 'PRON'), (2, 3, 'PROPN'), (3, 4, 'NOUN'), (5, 6, 'PRON'), (6, 7, 'NOUN'), (7, 8, 'NOUN'), (8, 9, 'VERB'), (9, 10, 'ADP'), (14, 15, 'VERB'), (15, 16, 'ADP')])]))\n",
            "('Group records by Species', dict_items([('entities', [(0, 1, 'NOUN'), (1, 2, 'PRON'), (2, 3, 'PROPN'), (3, 4, 'NOUN'), (5, 6, 'PRON'), (6, 7, 'NOUN'), (7, 8, 'NOUN'), (8, 9, 'VERB'), (9, 10, 'ADP'), (14, 15, 'VERB'), (15, 16, 'ADP')])]))\n",
            "('Sort the entries by Sepal Length in ascending order', dict_items([('entities', [(0, 1, 'NOUN'), (1, 2, 'PRON'), (2, 3, 'PROPN'), (3, 4, 'NOUN'), (5, 6, 'PRON'), (6, 7, 'NOUN'), (7, 8, 'NOUN'), (8, 9, 'VERB'), (9, 10, 'ADP'), (14, 15, 'VERB'), (15, 16, 'ADP')])]))\n",
            "('List Species alphabetically', dict_items([('entities', [(0, 1, 'NOUN'), (1, 2, 'PRON'), (2, 3, 'PROPN'), (3, 4, 'NOUN'), (5, 6, 'PRON'), (6, 7, 'NOUN'), (7, 8, 'NOUN'), (8, 9, 'VERB'), (9, 10, 'ADP'), (14, 15, 'VERB'), (15, 16, 'ADP')])]))\n",
            "('Entries with Sepal Length at least 5.0', dict_items([('entities', [(0, 1, 'NOUN'), (1, 2, 'PRON'), (2, 3, 'PROPN'), (3, 4, 'NOUN'), (5, 6, 'PRON'), (6, 7, 'NOUN'), (7, 8, 'NOUN'), (8, 9, 'VERB'), (9, 10, 'ADP'), (14, 15, 'VERB'), (15, 16, 'ADP')])]))\n",
            "('Entries with Petal Length between 1.5 and 2.5', dict_items([('entities', [(0, 1, 'NOUN'), (1, 2, 'PRON'), (2, 3, 'PROPN'), (3, 4, 'NOUN'), (5, 6, 'PRON'), (6, 7, 'NOUN'), (7, 8, 'NOUN'), (8, 9, 'VERB'), (9, 10, 'ADP'), (14, 15, 'VERB'), (15, 16, 'ADP')])]))\n",
            "('Top 3 entries with the highest Sepal Width', dict_items([('entities', [(0, 1, 'NOUN'), (1, 2, 'PRON'), (2, 3, 'PROPN'), (3, 4, 'NOUN'), (5, 6, 'PRON'), (6, 7, 'NOUN'), (7, 8, 'NOUN'), (8, 9, 'VERB'), (9, 10, 'ADP'), (14, 15, 'VERB'), (15, 16, 'ADP')])]))\n",
            "(\"Species is 'Setosa'\", dict_items([('entities', [(0, 1, 'NOUN'), (1, 2, 'PRON'), (2, 3, 'PROPN'), (3, 4, 'NOUN'), (5, 6, 'PRON'), (6, 7, 'NOUN'), (7, 8, 'NOUN'), (8, 9, 'VERB'), (9, 10, 'ADP'), (14, 15, 'VERB'), (15, 16, 'ADP')])]))\n",
            "(\"Species starts with 'Se'\", dict_items([('entities', [(0, 1, 'NOUN'), (1, 2, 'PRON'), (2, 3, 'PROPN'), (3, 4, 'NOUN'), (5, 6, 'PRON'), (6, 7, 'NOUN'), (7, 8, 'NOUN'), (8, 9, 'VERB'), (9, 10, 'ADP'), (14, 15, 'VERB'), (15, 16, 'ADP')])]))\n",
            "('Calculate the total of Petal Lengths', dict_items([('entities', [(0, 1, 'NOUN'), (1, 2, 'PRON'), (2, 3, 'PROPN'), (3, 4, 'NOUN'), (5, 6, 'PRON'), (6, 7, 'NOUN'), (7, 8, 'NOUN'), (8, 9, 'VERB'), (9, 10, 'ADP'), (14, 15, 'VERB'), (15, 16, 'ADP')])]))\n",
            "('What is the average Petal Width?', dict_items([('entities', [(0, 1, 'NOUN'), (1, 2, 'PRON'), (2, 3, 'PROPN'), (3, 4, 'NOUN'), (5, 6, 'PRON'), (6, 7, 'NOUN'), (7, 8, 'NOUN'), (8, 9, 'VERB'), (9, 10, 'ADP'), (14, 15, 'VERB'), (15, 16, 'ADP')])]))\n",
            "('Determine the middle value of Sepal Widths', dict_items([('entities', [(0, 1, 'NOUN'), (1, 2, 'PRON'), (2, 3, 'PROPN'), (3, 4, 'NOUN'), (5, 6, 'PRON'), (6, 7, 'NOUN'), (7, 8, 'NOUN'), (8, 9, 'VERB'), (9, 10, 'ADP'), (14, 15, 'VERB'), (15, 16, 'ADP')])]))\n",
            "('How many data points are there?', dict_items([('entities', [(0, 1, 'NOUN'), (1, 2, 'PRON'), (2, 3, 'PROPN'), (3, 4, 'NOUN'), (5, 6, 'PRON'), (6, 7, 'NOUN'), (7, 8, 'NOUN'), (8, 9, 'VERB'), (9, 10, 'ADP'), (14, 15, 'VERB'), (15, 16, 'ADP')])]))\n",
            "('Number of unique flower types', dict_items([('entities', [(0, 1, 'NOUN'), (1, 2, 'PRON'), (2, 3, 'PROPN'), (3, 4, 'NOUN'), (5, 6, 'PRON'), (6, 7, 'NOUN'), (7, 8, 'NOUN'), (8, 9, 'VERB'), (9, 10, 'ADP'), (14, 15, 'VERB'), (15, 16, 'ADP')])]))\n",
            "('Lowest Sepal Length recorded', dict_items([('entities', [(0, 1, 'NOUN'), (1, 2, 'PRON'), (2, 3, 'PROPN'), (3, 4, 'NOUN'), (5, 6, 'PRON'), (6, 7, 'NOUN'), (7, 8, 'NOUN'), (8, 9, 'VERB'), (9, 10, 'ADP'), (14, 15, 'VERB'), (15, 16, 'ADP')])]))\n",
            "('Highest value of Petal Width found', dict_items([('entities', [(0, 1, 'NOUN'), (1, 2, 'PRON'), (2, 3, 'PROPN'), (3, 4, 'NOUN'), (5, 6, 'PRON'), (6, 7, 'NOUN'), (7, 8, 'NOUN'), (8, 9, 'VERB'), (9, 10, 'ADP'), (14, 15, 'VERB'), (15, 16, 'ADP')])]))\n",
            "('Organize data by Species in descending order', dict_items([('entities', [(0, 1, 'NOUN'), (1, 2, 'PRON'), (2, 3, 'PROPN'), (3, 4, 'NOUN'), (5, 6, 'PRON'), (6, 7, 'NOUN'), (7, 8, 'NOUN'), (8, 9, 'VERB'), (9, 10, 'ADP'), (14, 15, 'VERB'), (15, 16, 'ADP')])]))\n",
            "('Rank Sepal Lengths from low to high', dict_items([('entities', [(0, 1, 'NOUN'), (1, 2, 'PRON'), (2, 3, 'PROPN'), (3, 4, 'NOUN'), (5, 6, 'PRON'), (6, 7, 'NOUN'), (7, 8, 'NOUN'), (8, 9, 'VERB'), (9, 10, 'ADP'), (14, 15, 'VERB'), (15, 16, 'ADP')])]))\n",
            "('Filter for Sepal Length greater than or equal to 4.5', dict_items([('entities', [(0, 1, 'NOUN'), (1, 2, 'PRON'), (2, 3, 'PROPN'), (3, 4, 'NOUN'), (5, 6, 'PRON'), (6, 7, 'NOUN'), (7, 8, 'NOUN'), (8, 9, 'VERB'), (9, 10, 'ADP'), (14, 15, 'VERB'), (15, 16, 'ADP')])]))\n",
            "('Select entries with Petal Width less than 2.0', dict_items([('entities', [(0, 1, 'NOUN'), (1, 2, 'PRON'), (2, 3, 'PROPN'), (3, 4, 'NOUN'), (5, 6, 'PRON'), (6, 7, 'NOUN'), (7, 8, 'NOUN'), (8, 9, 'VERB'), (9, 10, 'ADP'), (14, 15, 'VERB'), (15, 16, 'ADP')])]))\n",
            "('Show entries where Sepal Width is not 3.0', dict_items([('entities', [(0, 1, 'NOUN'), (1, 2, 'PRON'), (2, 3, 'PROPN'), (3, 4, 'NOUN'), (5, 6, 'PRON'), (6, 7, 'NOUN'), (7, 8, 'NOUN'), (8, 9, 'VERB'), (9, 10, 'ADP'), (14, 15, 'VERB'), (15, 16, 'ADP')])]))\n",
            "(\"List all where the Species name ends with 'ica'\", dict_items([('entities', [(0, 1, 'NOUN'), (1, 2, 'PRON'), (2, 3, 'PROPN'), (3, 4, 'NOUN'), (5, 6, 'PRON'), (6, 7, 'NOUN'), (7, 8, 'NOUN'), (8, 9, 'VERB'), (9, 10, 'ADP'), (14, 15, 'VERB'), (15, 16, 'ADP')])]))\n",
            "('Entries with a Sepal Length of exactly 5.0', dict_items([('entities', [(0, 1, 'NOUN'), (1, 2, 'PRON'), (2, 3, 'PROPN'), (3, 4, 'NOUN'), (5, 6, 'PRON'), (6, 7, 'NOUN'), (7, 8, 'NOUN'), (8, 9, 'VERB'), (9, 10, 'ADP'), (14, 15, 'VERB'), (15, 16, 'ADP')])]))\n",
            "('Display the top 5 Species by Sepal Width', dict_items([('entities', [(0, 1, 'NOUN'), (1, 2, 'PRON'), (2, 3, 'PROPN'), (3, 4, 'NOUN'), (5, 6, 'PRON'), (6, 7, 'NOUN'), (7, 8, 'NOUN'), (8, 9, 'VERB'), (9, 10, 'ADP'), (14, 15, 'VERB'), (15, 16, 'ADP')])]))\n",
            "('Find the 3 smallest Petal Lengths', dict_items([('entities', [(0, 1, 'NOUN'), (1, 2, 'PRON'), (2, 3, 'PROPN'), (3, 4, 'NOUN'), (5, 6, 'PRON'), (6, 7, 'NOUN'), (7, 8, 'NOUN'), (8, 9, 'VERB'), (9, 10, 'ADP'), (14, 15, 'VERB'), (15, 16, 'ADP')])]))\n",
            "('Count occurrences where Petal Length is between 4 and 5', dict_items([('entities', [(0, 1, 'NOUN'), (1, 2, 'PRON'), (2, 3, 'PROPN'), (3, 4, 'NOUN'), (5, 6, 'PRON'), (6, 7, 'NOUN'), (7, 8, 'NOUN'), (8, 9, 'VERB'), (9, 10, 'ADP'), (14, 15, 'VERB'), (15, 16, 'ADP')])]))\n",
            "(\"Aggregate data by the month of observation (assuming there's a Date field)\", dict_items([('entities', [(0, 1, 'NOUN'), (1, 2, 'PRON'), (2, 3, 'PROPN'), (3, 4, 'NOUN'), (5, 6, 'PRON'), (6, 7, 'NOUN'), (7, 8, 'NOUN'), (8, 9, 'VERB'), (9, 10, 'ADP'), (14, 15, 'VERB'), (15, 16, 'ADP')])]))\n",
            "(\"Filter records from last year (assuming there's a Date field)\", dict_items([('entities', [(0, 1, 'NOUN'), (1, 2, 'PRON'), (2, 3, 'PROPN'), (3, 4, 'NOUN'), (5, 6, 'PRON'), (6, 7, 'NOUN'), (7, 8, 'NOUN'), (8, 9, 'VERB'), (9, 10, 'ADP'), (14, 15, 'VERB'), (15, 16, 'ADP')])]))\n",
            "('Show only the data starting from January this year', dict_items([('entities', [(0, 1, 'NOUN'), (1, 2, 'PRON'), (2, 3, 'PROPN'), (3, 4, 'NOUN'), (5, 6, 'PRON'), (6, 7, 'NOUN'), (7, 8, 'NOUN'), (8, 9, 'VERB'), (9, 10, 'ADP'), (14, 15, 'VERB'), (15, 16, 'ADP')])]))\n",
            "('Find the average Sepal Length for each Species, sorted alphabetically', dict_items([('entities', [(0, 1, 'NOUN'), (1, 2, 'PRON'), (2, 3, 'PROPN'), (3, 4, 'NOUN'), (5, 6, 'PRON'), (6, 7, 'NOUN'), (7, 8, 'NOUN'), (8, 9, 'VERB'), (9, 10, 'ADP'), (14, 15, 'VERB'), (15, 16, 'ADP')])]))\n",
            "(\"Count how many Species start with 'C'\", dict_items([('entities', [(0, 1, 'NOUN'), (1, 2, 'PRON'), (2, 3, 'PROPN'), (3, 4, 'NOUN'), (5, 6, 'PRON'), (6, 7, 'NOUN'), (7, 8, 'NOUN'), (8, 9, 'VERB'), (9, 10, 'ADP'), (14, 15, 'VERB'), (15, 16, 'ADP')])]))\n",
            "('Entries with Petal Length and Sepal Length both above 4.0', dict_items([('entities', [(0, 1, 'NOUN'), (1, 2, 'PRON'), (2, 3, 'PROPN'), (3, 4, 'NOUN'), (5, 6, 'PRON'), (6, 7, 'NOUN'), (7, 8, 'NOUN'), (8, 9, 'VERB'), (9, 10, 'ADP'), (14, 15, 'VERB'), (15, 16, 'ADP')])]))\n",
            "('List Species with Petal Width in the top 10%', dict_items([('entities', [(0, 1, 'NOUN'), (1, 2, 'PRON'), (2, 3, 'PROPN'), (3, 4, 'NOUN'), (5, 6, 'PRON'), (6, 7, 'NOUN'), (7, 8, 'NOUN'), (8, 9, 'VERB'), (9, 10, 'ADP'), (14, 15, 'VERB'), (15, 16, 'ADP')])]))\n",
            "('Total Sepal Length for all Iris flowers', dict_items([('entities', [(0, 1, 'NOUN'), (1, 2, 'PRON'), (2, 3, 'PROPN'), (3, 4, 'NOUN'), (5, 6, 'PRON'), (6, 7, 'NOUN'), (7, 8, 'NOUN'), (8, 9, 'VERB'), (9, 10, 'ADP'), (14, 15, 'VERB'), (15, 16, 'ADP')])]))\n",
            "('Average Petal Width across all species', dict_items([('entities', [(0, 1, 'NOUN'), (1, 2, 'PRON'), (2, 3, 'PROPN'), (3, 4, 'NOUN'), (5, 6, 'PRON'), (6, 7, 'NOUN'), (7, 8, 'NOUN'), (8, 9, 'VERB'), (9, 10, 'ADP'), (14, 15, 'VERB'), (15, 16, 'ADP')])]))\n",
            "('Median Sepal Width for Iris setosa', dict_items([('entities', [(0, 1, 'NOUN'), (1, 2, 'PRON'), (2, 3, 'PROPN'), (3, 4, 'NOUN'), (5, 6, 'PRON'), (6, 7, 'NOUN'), (7, 8, 'NOUN'), (8, 9, 'VERB'), (9, 10, 'ADP'), (14, 15, 'VERB'), (15, 16, 'ADP')])]))\n",
            "('Count of Iris versicolor flowers', dict_items([('entities', [(0, 1, 'NOUN'), (1, 2, 'PRON'), (2, 3, 'PROPN'), (3, 4, 'NOUN'), (5, 6, 'PRON'), (6, 7, 'NOUN'), (7, 8, 'NOUN'), (8, 9, 'VERB'), (9, 10, 'ADP'), (14, 15, 'VERB'), (15, 16, 'ADP')])]))\n",
            "('Distinct count of species with Sepal Length over 5.0', dict_items([('entities', [(0, 1, 'NOUN'), (1, 2, 'PRON'), (2, 3, 'PROPN'), (3, 4, 'NOUN'), (5, 6, 'PRON'), (6, 7, 'NOUN'), (7, 8, 'NOUN'), (8, 9, 'VERB'), (9, 10, 'ADP'), (14, 15, 'VERB'), (15, 16, 'ADP')])]))\n",
            "('Minimum Petal Length for Iris virginica', dict_items([('entities', [(0, 1, 'NOUN'), (1, 2, 'PRON'), (2, 3, 'PROPN'), (3, 4, 'NOUN'), (5, 6, 'PRON'), (6, 7, 'NOUN'), (7, 8, 'NOUN'), (8, 9, 'VERB'), (9, 10, 'ADP'), (14, 15, 'VERB'), (15, 16, 'ADP')])]))\n",
            "('Maximum Sepal Width across Iris setosa', dict_items([('entities', [(0, 1, 'NOUN'), (1, 2, 'PRON'), (2, 3, 'PROPN'), (3, 4, 'NOUN'), (5, 6, 'PRON'), (6, 7, 'NOUN'), (7, 8, 'NOUN'), (8, 9, 'VERB'), (9, 10, 'ADP'), (14, 15, 'VERB'), (15, 16, 'ADP')])]))\n",
            "('Total number of records grouped by Species', dict_items([('entities', [(0, 1, 'NOUN'), (1, 2, 'PRON'), (2, 3, 'PROPN'), (3, 4, 'NOUN'), (5, 6, 'PRON'), (6, 7, 'NOUN'), (7, 8, 'NOUN'), (8, 9, 'VERB'), (9, 10, 'ADP'), (14, 15, 'VERB'), (15, 16, 'ADP')])]))\n",
            "('Filter to show only Iris versicolor with Sepal Width at least 3.0', dict_items([('entities', [(0, 1, 'NOUN'), (1, 2, 'PRON'), (2, 3, 'PROPN'), (3, 4, 'NOUN'), (5, 6, 'PRON'), (6, 7, 'NOUN'), (7, 8, 'NOUN'), (8, 9, 'VERB'), (9, 10, 'ADP'), (14, 15, 'VERB'), (15, 16, 'ADP')])]))\n",
            "('Show top 5 Sepal Lengths within Iris virginica only', dict_items([('entities', [(0, 1, 'NOUN'), (1, 2, 'PRON'), (2, 3, 'PROPN'), (3, 4, 'NOUN'), (5, 6, 'PRON'), (6, 7, 'NOUN'), (7, 8, 'NOUN'), (8, 9, 'VERB'), (9, 10, 'ADP'), (14, 15, 'VERB'), (15, 16, 'ADP')])]))\n",
            "('Iris flowers with Petal Width in the bottom 10th percentile', dict_items([('entities', [(0, 1, 'NOUN'), (1, 2, 'PRON'), (2, 3, 'PROPN'), (3, 4, 'NOUN'), (5, 6, 'PRON'), (6, 7, 'NOUN'), (7, 8, 'NOUN'), (8, 9, 'VERB'), (9, 10, 'ADP'), (14, 15, 'VERB'), (15, 16, 'ADP')])]))\n",
            "('Average Sepal Length for each species', dict_items([('entities', [(0, 1, 'NOUN'), (1, 2, 'PRON'), (2, 3, 'PROPN'), (3, 4, 'NOUN'), (5, 6, 'PRON'), (6, 7, 'NOUN'), (7, 8, 'NOUN'), (8, 9, 'VERB'), (9, 10, 'ADP'), (14, 15, 'VERB'), (15, 16, 'ADP')])]))\n",
            "('Entries with Petal Length between 4.0 and 5.0 for Iris setosa', dict_items([('entities', [(0, 1, 'NOUN'), (1, 2, 'PRON'), (2, 3, 'PROPN'), (3, 4, 'NOUN'), (5, 6, 'PRON'), (6, 7, 'NOUN'), (7, 8, 'NOUN'), (8, 9, 'VERB'), (9, 10, 'ADP'), (14, 15, 'VERB'), (15, 16, 'ADP')])]))\n",
            "(\"Count Iris flowers where the Species name contains 'color'\", dict_items([('entities', [(0, 1, 'NOUN'), (1, 2, 'PRON'), (2, 3, 'PROPN'), (3, 4, 'NOUN'), (5, 6, 'PRON'), (6, 7, 'NOUN'), (7, 8, 'NOUN'), (8, 9, 'VERB'), (9, 10, 'ADP'), (14, 15, 'VERB'), (15, 16, 'ADP')])]))\n",
            "(\"List all Iris flowers where the Species name starts with 'Iri' and ends with 'a'\", dict_items([('entities', [(0, 1, 'NOUN'), (1, 2, 'PRON'), (2, 3, 'PROPN'), (3, 4, 'NOUN'), (5, 6, 'PRON'), (6, 7, 'NOUN'), (7, 8, 'NOUN'), (8, 9, 'VERB'), (9, 10, 'ADP'), (14, 15, 'VERB'), (15, 16, 'ADP')])]))\n"
          ]
        }
      ]
    },
    {
      "cell_type": "markdown",
      "source": [
        "#Test Description Data"
      ],
      "metadata": {
        "id": "z5DfpnBUvBrD"
      }
    },
    {
      "cell_type": "code",
      "source": [],
      "metadata": {
        "id": "BLwkOW1rvMLv"
      },
      "execution_count": null,
      "outputs": []
    },
    {
      "cell_type": "markdown",
      "source": [
        "#Pipeline Formulas (Tableau) entities"
      ],
      "metadata": {
        "id": "qMay2DF8akLK"
      }
    },
    {
      "cell_type": "code",
      "source": [
        "p_t=dg_ent['Patterns_Formula(Tableau)']=get_patterns(formulas,'vocab')"
      ],
      "metadata": {
        "colab": {
          "base_uri": "https://localhost:8080/"
        },
        "id": "knvqM9K-ccHt",
        "outputId": "4f5f947b-f165-480b-ce36-d3fcc9697903"
      },
      "execution_count": 22,
      "outputs": [
        {
          "output_type": "stream",
          "name": "stdout",
          "text": [
            "[{'[': 'X'}, {\"'\": 'PUNCT'}, {'CONTAINS': 'X'}, {\"'\": 'PUNCT'}, {']': 'PUNCT'}, {'[': 'X'}, {\"'\": 'X'}, {'versicolor': 'NOUN'}, {\"'\": 'PUNCT'}, {']': 'PUNCT'}, {'[': 'X'}, {\"'\": 'VERB'}, {'LEFT': 'PROPN'}, {\"'\": 'PUNCT'}, {']': 'PUNCT'}, {'[': 'X'}, {\"'\": 'PROPN'}, {'STARTS': 'PROPN'}, {\"'\": 'PUNCT'}, {']': 'PUNCT'}, {'[': 'X'}, {\"'\": 'PUNCT'}, {'FROM': 'ADP'}, {\"'\": 'PUNCT'}, {']': 'PUNCT'}, {'[': 'X'}, {\"'\": 'INTJ'}, {'-': 'VERB'}, {\"'\": 'PUNCT'}, {']': 'PUNCT'}, {'[': 'X'}, {\"'\": 'PUNCT'}, {'LISTED': 'VERB'}, {\"'\": 'PUNCT'}, {']': 'PUNCT'}, {'[': 'X'}, {\"'\": 'NUM'}, {'9': 'NUM'}, {\"'\": 'PUNCT'}, {']': 'PUNCT'}, {'[': 'X'}, {\"'\": 'NOUN'}, {'1': 'NUM'}, {\"'\": 'NUM'}, {']': 'PUNCT'}, {'[': 'X'}, {\"'\": 'PUNCT'}, {'SORTED': 'ADJ'}, {\"'\": 'PUNCT'}, {']': 'PUNCT'}, {'[': 'X'}, {\"'\": 'VERB'}, {'(': 'PUNCT'}, {')': 'PUNCT'}, {')': 'PUNCT'}, {\"'\": 'PUNCT'}, {']': 'PUNCT'}, {'[': 'X'}, {\"'\": 'PUNCT'}, {'AND': 'CCONJ'}, {\"'\": 'PUNCT'}, {']': 'PUNCT'}, {'[': 'X'}, {\"'\": 'VERB'}, {'{': 'PUNCT'}, {\"'\": 'PROPN'}, {']': 'PUNCT'}, {'[': 'X'}, {\"'\": 'NOUN'}, {'virginica': 'X'}, {\"'\": 'PUNCT'}, {']': 'PUNCT'}, {'[': 'X'}, {\"'\": 'VERB'}, {'THEN': 'ADV'}, {\"'\": 'PUNCT'}, {']': 'PUNCT'}, {'[': 'X'}, {\"'\": 'VERB'}, {'SUM': 'PROPN'}, {\"'\": 'PUNCT'}, {']': 'PUNCT'}, {'[': 'X'}, {\"'\": 'PUNCT'}, {'setosa': 'X'}, {\"'\": 'PUNCT'}, {']': 'PUNCT'}, {'[': 'X'}, {\"'\": 'PUNCT'}, {'(': 'PUNCT'}, {'[': 'X'}, {\"'\": 'X'}, {']': 'PUNCT'}, {'[': 'X'}, {\"'\": 'VERB'}, {'DATETRUNC': 'PROPN'}, {\"'\": 'PUNCT'}, {']': 'PUNCT'}, {'[': 'X'}, {'\"': 'PUNCT'}, {'(': 'PUNCT'}, {\"'\": 'PUNCT'}, {'\"': 'PUNCT'}, {']': 'PUNCT'}, {'[': 'X'}, {\"'\": 'PUNCT'}, {'IF': 'SCONJ'}, {\"'\": 'NOUN'}, {']': 'PUNCT'}, {'[': 'X'}, {\"'\": 'PUNCT'}, {'year': 'NOUN'}, {\"'\": 'PUNCT'}, {']': 'PUNCT'}, {'[': 'X'}, {\"'\": 'X'}, {'ORDER': 'NOUN'}, {\"'\": 'PUNCT'}, {']': 'PUNCT'}, {'[': 'X'}, {\"'\": 'PUNCT'}, {'alphabetically': 'ADV'}, {\"'\": 'VERB'}, {']': 'PUNCT'}, {'[': 'X'}, {\"'\": 'PROPN'}, {'END': 'PROPN'}, {\"'\": 'PUNCT'}, {']': 'PUNCT'}, {'[': 'X'}, {\"'\": 'X'}, {'YEAR': 'NOUN'}, {\"'\": 'PUNCT'}, {']': 'PUNCT'}, {'[': 'X'}, {\"'\": 'PUNCT'}, {'!': 'PUNCT'}, {'=': 'X'}, {\"'\": 'X'}, {']': 'PUNCT'}, {'[': 'X'}, {\"'\": 'VERB'}, {'TODAY': 'NOUN'}, {\"'\": 'PUNCT'}, {']': 'PUNCT'}, {'[': 'X'}, {\"'\": 'X'}, {']': 'X'}, {',': 'PUNCT'}, {\"'\": 'PUNCT'}, {']': 'PUNCT'}, {'[': 'X'}, {\"'\": 'PUNCT'}, {'WITH': 'ADP'}, {\"'\": 'PUNCT'}, {']': 'PUNCT'}, {'[': 'X'}, {\"'\": 'PUNCT'}, {'MIN': 'PROPN'}, {\"'\": 'PROPN'}, {']': 'PUNCT'}, {'[': 'X'}, {\"'\": 'PUNCT'}, {'MEDIAN': 'PROPN'}, {\"'\": 'PUNCT'}, {']': 'PUNCT'}, {'[': 'X'}, {\"'\": 'X'}, {'MAX': 'PROPN'}, {\"'\": 'PUNCT'}, {']': 'PUNCT'}, {'[': 'X'}, {\"'\": 'VERB'}, {'\"': 'PUNCT'}, {')': 'PUNCT'}, {\"'\": 'PUNCT'}, {']': 'PUNCT'}, {'[': 'X'}, {\"'\": 'X'}, {'GROUP': 'PROPN'}, {\"'\": 'PUNCT'}, {']': 'PUNCT'}, {'[': 'X'}, {\"'\": 'PUNCT'}, {'STARTSWITH': 'X'}, {\"'\": 'NOUN'}, {']': 'PUNCT'}, {'[': 'X'}, {\"'\": 'PUNCT'}, {'RANK': 'VERB'}, {\"'\": 'PUNCT'}, {']': 'PUNCT'}, {'[': 'X'}, {\"'\": 'NUM'}, {'3': 'NUM'}, {\"'\": 'PUNCT'}, {']': 'PUNCT'}, {'[': 'X'}, {\"'\": 'PROPN'}, {'(': 'PUNCT'}, {'*': 'PUNCT'}, {')': 'PUNCT'}, {\"'\": 'PUNCT'}, {']': 'PUNCT'}, {'[': 'X'}, {\"'\": 'X'}, {'COUNT': 'PROPN'}, {\"'\": 'PUNCT'}, {']': 'PUNCT'}, {'[': 'X'}, {\"'\": 'X'}, {'ASC': 'PROPN'}, {\"'\": 'PUNCT'}, {']': 'PUNCT'}, {'[': 'X'}, {\"'\": 'X'}, {'<': 'X'}, {'=': 'X'}, {\"'\": 'X'}, {']': 'PUNCT'}, {'[': 'X'}, {\"'\": 'PROPN'}, {'TOP': 'NUM'}, {\"'\": 'PUNCT'}, {']': 'PUNCT'}, {'[': 'X'}, {\"'\": 'PUNCT'}, {'highest': 'ADJ'}, {\"'\": 'PUNCT'}, {']': 'PUNCT'}, {'[': 'X'}, {\"'\": 'PUNCT'}, {'Setosa': 'PROPN'}, {\"'\": 'PUNCT'}, {']': 'PUNCT'}, {'[': 'X'}, {\"'\": 'PROPN'}, {'INDEX': 'NOUN'}, {\"'\": 'PUNCT'}, {']': 'PUNCT'}, {'[': 'X'}, {\"'\": 'NUM'}, {'4': 'NUM'}, {\"'\": 'PUNCT'}, {']': 'PUNCT'}, {'[': 'X'}, {\"'\": 'X'}, {'<': 'X'}, {\"'\": 'PUNCT'}, {']': 'PUNCT'}, {'[': 'X'}, {\"'\": 'VERB'}, {'>': 'X'}, {\"'\": 'PUNCT'}, {']': 'PUNCT'}, {'[': 'X'}, {\"'\": 'PUNCT'}, {'lowest': 'ADJ'}, {\"'\": 'PUNCT'}, {']': 'PUNCT'}, {'[': 'X'}, {\"'\": 'PUNCT'}, {'to': 'PART'}, {\"'\": 'PUNCT'}, {']': 'PUNCT'}, {'[': 'X'}, {\"'\": 'PUNCT'}, {':': 'PUNCT'}, {\"'\": 'PUNCT'}, {']': 'PUNCT'}, {'[': 'X'}, {\"'\": 'PUNCT'}, {'“': 'PUNCT'}, {\"'\": 'PUNCT'}, {']': 'PUNCT'}, {'[': 'X'}, {\"'\": 'VERB'}, {'}': 'PRON'}, {\"'\": 'PUNCT'}, {']': 'PUNCT'}, {'[': 'X'}, {\"'\": 'X'}, {'COUNTD': 'PROPN'}, {\"'\": 'PUNCT'}, {']': 'PUNCT'}, {'[': 'X'}, {\"'\": 'PUNCT'}, {'(': 'PUNCT'}, {')': 'PUNCT'}, {\"'\": 'PUNCT'}, {']': 'PUNCT'}, {'[': 'X'}, {\"'\": 'NUM'}, {'5': 'NUM'}, {\"'\": 'PUNCT'}, {']': 'PUNCT'}, {'[': 'X'}, {\"'\": 'VERB'}, {'SORT': 'ADV'}, {\"'\": 'NOUN'}, {']': 'PUNCT'}, {'[': 'X'}, {\"'\": 'NOUN'}, {'RANK_PERCENTILE': 'AUX'}, {\"'\": 'PUNCT'}, {']': 'PUNCT'}, {'[': 'X'}, {'\"': 'PUNCT'}, {\"'\": 'PUNCT'}, {',': 'PUNCT'}, {'\"': 'PUNCT'}, {']': 'PUNCT'}, {'[': 'X'}, {\"'\": 'PUNCT'}, {'BETWEEN': 'ADP'}, {\"'\": 'PUNCT'}, {']': 'PUNCT'}, {'[': 'X'}, {\"'\": 'PUNCT'}, {'\"': 'PUNCT'}, {\"'\": 'PUNCT'}, {']': 'PUNCT'}, {'[': 'X'}, {\"'\": 'PUNCT'}, {'ELSE': 'ADV'}, {\"'\": 'PUNCT'}, {']': 'PUNCT'}, {'[': 'X'}, {\"'\": 'VERB'}, {'ENDSWITH': 'NOUN'}, {\"'\": 'PUNCT'}, {']': 'PUNCT'}, {'[': 'X'}, {\"'\": 'X'}, {'>': 'X'}, {'=': 'X'}, {\"'\": 'X'}, {']': 'PUNCT'}, {'[': 'X'}, {\"'\": 'PUNCT'}, {'Species': 'NOUN'}, {\"'\": 'PUNCT'}, {']': 'PUNCT'}, {'[': 'X'}, {\"'\": 'VERB'}, {'FIXED': 'NOUN'}, {\"'\": 'PUNCT'}, {']': 'PUNCT'}, {'[': 'X'}, {\"'\": 'NUM'}, {'2': 'NUM'}, {\"'\": 'PUNCT'}, {']': 'PUNCT'}, {'[': 'X'}, {\"'\": 'PUNCT'}, {'DISTINCT': 'NOUN'}, {\"'\": 'PUNCT'}, {']': 'PUNCT'}, {'[': 'X'}, {\"'\": 'PUNCT'}, {'NULL': 'PROPN'}, {\"'\": 'PUNCT'}, {']': 'PUNCT'}, {'[': 'X'}, {\"'\": 'PROPN'}, {'=': 'X'}, {\"'\": 'X'}, {']': 'PUNCT'}, {'[': 'X'}, {\"'\": 'NUM'}, {'0': 'NUM'}, {\"'\": 'PUNCT'}, {']': 'PUNCT'}, {'[': 'X'}, {\"'\": 'VERB'}, {'”': 'PUNCT'}, {')': 'PUNCT'}, {\"'\": 'PUNCT'}, {']': 'PUNCT'}, {'[': 'X'}, {\"'\": 'X'}, {']': 'X'}, {')': 'PUNCT'}, {\"'\": 'PUNCT'}, {']': 'PUNCT'}, {'[': 'X'}, {\"'\": 'PUNCT'}, {'color': 'NOUN'}, {\"'\": 'PUNCT'}, {']': 'PUNCT'}, {'[': 'X'}, {\"'\": 'PUNCT'}, {'Date': 'PROPN'}, {\"'\": 'PUNCT'}, {']': 'PUNCT'}, {'[': 'X'}, {\"'\": 'NOUN'}, {'month': 'NOUN'}, {\"'\": 'PUNCT'}, {']': 'PUNCT'}, {'[': 'X'}, {\"'\": 'PROPN'}, {'AVG': 'PROPN'}, {\"'\": 'PUNCT'}, {']': 'PUNCT'}, {'[': 'X'}, {\"'\": 'PUNCT'}, {'DESC': 'VERB'}, {\"'\": 'PUNCT'}, {']': 'PUNCT'}]\n",
            "vocab : ['PRON', 'ADP', 'PROPN', 'ADJ', 'X', 'AUX', 'SCONJ', 'INTJ', 'VERB', 'ADV', 'PART', 'PUNCT', 'NOUN', 'CCONJ', 'NUM']\n"
          ]
        }
      ]
    },
    {
      "cell_type": "code",
      "source": [
        "for pat in p_t:\n",
        "   print({pat:p_t[pat]})"
      ],
      "metadata": {
        "colab": {
          "base_uri": "https://localhost:8080/"
        },
        "id": "F3Mh4i-cc6tR",
        "outputId": "2566924a-7a7e-4f31-9404-b2c8fe519294"
      },
      "execution_count": 23,
      "outputs": [
        {
          "output_type": "stream",
          "name": "stdout",
          "text": [
            "{'PRON': ['}']}\n",
            "{'ADP': ['BETWEEN', 'FROM', 'WITH']}\n",
            "{'PROPN': ['LEFT', 'NULL', 'STARTS', 'DATETRUNC', 'Date', 'Setosa', 'COUNT', 'ASC', 'END', 'SUM', 'MAX', 'GROUP', 'MIN', 'COUNTD', 'AVG', 'MEDIAN']}\n",
            "{'ADJ': ['highest', 'lowest', 'SORTED']}\n",
            "{'X': ['CONTAINS', 'STARTSWITH', '<', '=', '>', 'virginica', 'setosa']}\n",
            "{'AUX': ['RANK_PERCENTILE']}\n",
            "{'SCONJ': ['IF']}\n",
            "{'INTJ': []}\n",
            "{'VERB': ['-', 'LISTED', 'RANK', 'DESC']}\n",
            "{'ADV': ['THEN', 'SORT', 'ELSE', 'alphabetically']}\n",
            "{'PART': ['to']}\n",
            "{'PUNCT': ['*', '\"', '!', '{', '”', ':', '“']}\n",
            "{'NOUN': ['DISTINCT', 'versicolor', 'Species', 'ORDER', 'TODAY', 'month', 'ENDSWITH', 'YEAR', 'INDEX', 'FIXED', 'color', 'year']}\n",
            "{'CCONJ': ['AND']}\n",
            "{'NUM': ['5', 'TOP', '0', '3', '9', '1', '4', '2']}\n"
          ]
        }
      ]
    },
    {
      "cell_type": "code",
      "source": [
        "p_t['ARG']=['[Sepal Length]','[Sepal Width]','[Petal Length]','[Petal Width]', '[Species]']\n",
        "p_t['ARGN']=['Sepal Length','Sepal Width','Petal Length','Petal Width', 'Species']\n",
        "p_t['NOUN'] =['month', 'TODAY', 'color','YEAR','versicolor','setosa','year','virginica']\n",
        "p_t['STOPWORDS']=['[Sepal','Sepal','[Petal','Width]','Width','Petal','Length]',\"'Se'\",':','\"virginica\",'\"setosa\",'','{',')','*',\"'Setosa'\",\"'month', \",'4.0 AND','\"setosa\" AND','ica',\"Iri\",'!= 3.0','\"versicolor\" AND',\"Species STARTS WITH 'Se'\",\"Length\",'\"Iri\"' ]\n",
        "p_t['NUM']=[ff  for ff in p_t['NUM'] if ff !='TOP']+['1.5','2.5','4.5','3.0','3','2.0','5.0']\n",
        "p_t['ADP']+=['to','AND','>=','<','!=','<=','=','>']\n",
        "p_t['ADV']+=['highest to lowest','ASC','DESC','NULL','LEFT']\n",
        "p_t['ADJ']=[ff for ff in p_t['ADJ'] if  ff!='SORTED']\n",
        "ptt=p_t['ARG']+p_t['NOUN']+p_t['NUM'] + p_t['STOPWORDS'] + p_t['ARGN'] + p_t['ADV'] + p_t['ADP']+p_t['ADJ']\n",
        "p_t['OPER']=['STARTS WITH']"
      ],
      "metadata": {
        "id": "Nxvuycmmw0tc"
      },
      "execution_count": 24,
      "outputs": []
    },
    {
      "cell_type": "code",
      "source": [
        "print(p_t['OPER'])"
      ],
      "metadata": {
        "colab": {
          "base_uri": "https://localhost:8080/"
        },
        "id": "NFTzMa1npDcE",
        "outputId": "571ce716-dce3-476a-aa5c-83328970f759"
      },
      "execution_count": 25,
      "outputs": [
        {
          "output_type": "stream",
          "name": "stdout",
          "text": [
            "['STARTS WITH']\n"
          ]
        }
      ]
    },
    {
      "cell_type": "code",
      "source": [
        "import re\n",
        "p_t['OPER']=[]\n",
        "p_t['COPER']=[]\n",
        "patterns='\\(| = | >= | > | \\[ | \\) | \\{ | \\]'\n",
        "tr_0=[]\n",
        "for tr in df[df.columns[1]]:\n",
        "    try:\n",
        "      it0,it1=re.split(patterns,tr)[0:2]\n",
        "    except:\n",
        "         it0=re.split(patterns,tr)[0:2][0]\n",
        "\n",
        "    it01=it0.split()\n",
        "\n",
        "    if len(it01)==1:\n",
        "           iten=it01[0]\n",
        "    elif len(it01)==2:\n",
        "            iten=it01[0] +' '+ it01[1]\n",
        "    else:\n",
        "          iten=''\n",
        "          for item in it01:\n",
        "            if item not in tr_0 and item not in ptt:\n",
        "               iten+=item +' '\n",
        "          iten=iten.rstrip()\n",
        "          #print(it01,'-->',iten)\n",
        "\n",
        "    if iten not in tr_0 and iten not in ptt:\n",
        "              #print(it01)\n",
        "              tr_0.append(iten)\n",
        "\n",
        "\n",
        "print(tr_0)"
      ],
      "metadata": {
        "colab": {
          "base_uri": "https://localhost:8080/"
        },
        "id": "Apk388uxYvyS",
        "outputId": "34f8950d-ba2b-4ea3-83b2-7e49796cea8a"
      },
      "execution_count": 26,
      "outputs": [
        {
          "output_type": "stream",
          "name": "stdout",
          "text": [
            "['SUM', 'AVG', 'MEDIAN', 'COUNT', 'COUNT DISTINCT', 'MIN', 'MAX', 'GROUP BY', 'ORDER BY', 'TOP BY', 'STARTS', 'COUNTD', 'ENDSWITH', 'INDEX', 'IF', 'DATETRUNC', '[Date]', 'RANK_PERCENTILE', 'FIXED', 'SORTED BY', 'RANK', 'LISTED', 'STARTSWITH']\n"
          ]
        }
      ]
    },
    {
      "cell_type": "code",
      "source": [
        "p_t['OPER']+=tr_0\n",
        "p_t['OPER'][p_t['OPER'].index('LISTED')]='LISTED FROM'\n",
        "p_t['OPER'][p_t['OPER'].index('TOP BY')]='TOP'\n",
        "p_t['OPER']+=['IF CONTAINS','BY']\n",
        "p_t['NOUN']=[ff for ff in p_t['NOUN'] if ff not in p_t['OPER']]\n",
        "#p_t['PROPN']=[ff for ff in p_t['PROPN'] if ff not in p_t['OPER']+p_t['NOUN']]\n"
      ],
      "metadata": {
        "id": "42HE6oewDJOz"
      },
      "execution_count": 27,
      "outputs": []
    },
    {
      "cell_type": "markdown",
      "source": [
        "# Pipe entities to Formulas Tableau"
      ],
      "metadata": {
        "id": "tfjDCTKq8VvR"
      }
    },
    {
      "cell_type": "code",
      "source": [
        "\n",
        "nlp = spacy.load('en_core_web_sm')\n",
        "\n",
        "# Function to create and return an EntityRuler with specified patterns\n",
        "\n",
        "oper_arg=p_t['ARG']\n",
        "oper_argn=p_t['ARGN']\n",
        "oper_num=p_t['NUM']\n",
        "oper_adv=p_t['ADV']\n",
        "oper_oper=p_t['OPER']\n",
        "oper_adp=p_t['ADP']\n",
        "oper_noun=p_t['NOUN']\n",
        "oper_adj=p_t['ADJ']\n",
        "\n",
        "# Create rulers\n",
        "ruler_arg = create_ruler(oper_arg,'ARG')\n",
        "#ruler_intj = create_ruler(oper_intj,'INTJ')\n",
        "ruler_argn = create_ruler(oper_argn,'ARGN')\n",
        "ruler_num  = create_ruler(oper_num,'NUM')\n",
        "ruler_adv  = create_ruler(oper_adv,'ADV')\n",
        "#ruler_pron = create_ruler(oper_pron,'PRON')\n",
        "ruler_adp  = create_ruler(oper_adp,'ADP')\n",
        "ruler_noun = create_ruler(oper_noun, \"NOUN\")\n",
        "ruler_adj = create_ruler(oper_adj, \"ADJ\")\n",
        "ruler_oper = create_ruler(oper_oper,\"OPER\")\n",
        "\n",
        "# Create component factories\n",
        "@Language.component(\"ruler_arg\")\n",
        "def ruler_arg_component(doc):\n",
        "    return ruler_arg(doc)\n",
        "\n",
        "#@Language.component(\"ruler_intj\")\n",
        "#def ruler_intj_component(doc):\n",
        "#    return ruler_intj(doc)\n",
        "\n",
        "@Language.component(\"ruler_argn\")\n",
        "def ruler_argn_component(doc):\n",
        "    return ruler_argn(doc)\n",
        "\n",
        "@Language.component(\"ruler_num\")\n",
        "def ruler_num_component(doc):\n",
        "    return ruler_num(doc)\n",
        "\n",
        "@Language.component(\"ruler_adv\")\n",
        "def ruler_adv_component(doc):\n",
        "    return ruler_adv(doc)\n",
        "\n",
        "@Language.component(\"ruler_oper\")\n",
        "def ruler_oper_component(doc):\n",
        "    return ruler_oper(doc)\n",
        "\n",
        "@Language.component(\"ruler_adp\")\n",
        "def ruler_adp_component(doc):\n",
        "    return ruler_adp(doc)\n",
        "\n",
        "@Language.component(\"ruler_noun\")\n",
        "def ruler_noun_component(doc):\n",
        "    return ruler_noun(doc)\n",
        "\n",
        "@Language.component(\"ruler_adj\")\n",
        "def ruler_adj_component(doc):\n",
        "    return ruler_adj(doc)\n",
        "\n",
        "#@Language.component('ruler_propn')\n",
        "#def ruler_propn_component(doc):\n",
        "#     return ruler_propn(doc)\n",
        "\n",
        "# Add the components to the pipeline\n",
        "nlp.add_pipe(\"ruler_arg\", before=\"ner\")\n",
        "nlp.add_pipe(\"ruler_argn\",before=\"ner\")\n",
        "nlp.add_pipe(\"ruler_num\", before=\"ner\")\n",
        "nlp.add_pipe(\"ruler_adv\", before=\"ner\")\n",
        "nlp.add_pipe(\"ruler_oper\", before=\"ner\")\n",
        "nlp.add_pipe(\"ruler_adp\", before=\"ner\")\n",
        "nlp.add_pipe(\"ruler_noun\", before=\"ner\")\n",
        "nlp.add_pipe(\"ruler_adj\", before=\"ner\")\n",
        "#nlp.add_pipe(\"ruler_propn\", before = \"ner\")\n",
        "ent_formulas,Train_formulas_data=get_entity(df,df.columns[1])"
      ],
      "metadata": {
        "id": "l6553nLP8O-7"
      },
      "execution_count": 28,
      "outputs": []
    },
    {
      "cell_type": "code",
      "source": [
        "# Test\n",
        "doc=nlp(\"SUM (Sepal Length ) AVG ( Sepal Length )\")\n",
        "for ent in doc.ents:\n",
        "    print(ent.text, ent.label_)\n",
        "#print(get_entity(df,df.columns[1]))"
      ],
      "metadata": {
        "colab": {
          "base_uri": "https://localhost:8080/"
        },
        "id": "W9NM0f4rnboT",
        "outputId": "e2e9b8d8-81f7-4202-9524-5730bdf0bc46"
      },
      "execution_count": 29,
      "outputs": [
        {
          "output_type": "stream",
          "name": "stdout",
          "text": [
            "SUM OPER\n",
            "Sepal Length ARGN\n",
            "AVG OPER\n",
            "Sepal Length ARGN\n"
          ]
        }
      ]
    },
    {
      "cell_type": "code",
      "source": [
        "#Test\n",
        "print(ent_formulas)"
      ],
      "metadata": {
        "colab": {
          "base_uri": "https://localhost:8080/"
        },
        "id": "1iNiKpO04Ob_",
        "outputId": "90a66788-c6ae-4b0c-fa83-aa69cd0264a2"
      },
      "execution_count": 30,
      "outputs": [
        {
          "output_type": "stream",
          "name": "stdout",
          "text": [
            "[['SUM(Sepal Length)', ['SUM', 'OPER'], ['Sepal Length', 'ARGN']], ['AVG(Sepal Width)', ['AVG', 'OPER'], ['Sepal Width', 'ARGN']], ['MEDIAN(Petal Length)', ['MEDIAN', 'OPER'], ['Petal Length', 'ARGN']], ['COUNT(*)', ['COUNT', 'OPER']], ['COUNT DISTINCT(Species)', ['COUNT DISTINCT', 'OPER'], ['Species', 'ARGN']], ['MIN(Sepal Length)', ['MIN', 'OPER'], ['Sepal Length', 'ARGN']], ['MAX(Petal Width)', ['MAX', 'OPER'], ['Petal Width', 'ARGN']], ['GROUP BY(Species)', ['GROUP BY', 'OPER'], ['Species', 'ARGN']], ['ORDER BY(Sepal Length ASC)', ['ORDER BY', 'OPER'], ['Sepal Length', 'ARGN'], ['ASC', 'ADV']], ['ORDER BY(Species ASC)', ['ORDER BY', 'OPER'], ['Species', 'ARGN'], ['ASC', 'ADV']], ['Sepal Length >= 5.0', ['Sepal Length', 'ARGN'], ['>=', 'ADP'], ['5.0', 'NUM']], ['Petal Length BETWEEN 1.5 AND 2.5', ['Petal Length', 'ARGN'], ['BETWEEN', 'ADP'], ['1.5', 'NUM'], ['AND', 'ADP'], ['2.5', 'NUM']], ['TOP 3 BY(Sepal Width DESC)', ['TOP', 'OPER'], ['3', 'NUM'], ['BY', 'OPER'], ['Sepal Width', 'ARGN'], ['DESC', 'ADV']], [\"Species = 'Setosa'\", ['Species', 'ARGN'], ['=', 'ADP']], [\"Species STARTS WITH 'Se'\", ['Species', 'ARGN'], ['STARTS', 'OPER'], ['WITH', 'ADP']], [' SUM([Petal Length])', ['SUM', 'OPER'], ['Petal Length', 'ARGN']], [' AVG([Petal Width])', ['AVG', 'OPER'], ['Petal Width', 'ARGN']], ['MEDIAN([Sepal Width])', ['MEDIAN', 'OPER'], ['Sepal Width', 'ARGN']], ['COUNT([Sepal Length])', ['COUNT', 'OPER'], ['Sepal Length', 'ARGN']], ['COUNTD([Species])', ['COUNTD', 'OPER'], ['Species', 'ARGN']], ['MIN([Sepal Length])', ['MIN', 'OPER'], ['Sepal Length', 'ARGN']], ['MAX([Petal Width])', ['MAX', 'OPER'], ['Petal Width', 'ARGN']], ['SORT([Species], DESC)', ['SORT', 'ADV'], ['Species', 'ARGN'], ['DESC', 'ADV']], ['SORT([Sepal Length], ASC)', ['SORT', 'ADV'], ['Sepal Length', 'ARGN'], ['ASC', 'ADV']], ['[Sepal Length] >= 4.5', ['Sepal Length', 'ARGN'], ['>=', 'ADP'], ['4.5', 'NUM']], ['[Petal Width] < 2.0', ['Petal Width', 'ARGN'], ['<', 'ADP'], ['2.0', 'NUM']], ['[Sepal Width] != 3.0', ['Sepal Width', 'ARGN'], ['!=', 'ADP'], ['3.0', 'NUM']], ['ENDSWITH([Species], \"ica\")', ['ENDSWITH', 'OPER'], ['Species', 'ARGN']], ['[Sepal Length] = 5.0', ['Sepal Length', 'ARGN'], ['=', 'ADP'], ['5.0', 'NUM']], [' INDEX() <= 5 SORT BY SUM([Sepal Width]) DESC', ['INDEX', 'OPER'], ['<=', 'ADP'], ['5', 'NUM'], ['SORT', 'ADV'], ['BY', 'OPER'], ['SUM', 'OPER'], ['Sepal Width', 'ARGN'], ['DESC', 'ADV']], [' INDEX() <= 3 SORT BY [Petal Length] ASC', ['INDEX', 'OPER'], ['<=', 'ADP'], ['3', 'NUM'], ['SORT', 'ADV'], ['BY', 'OPER'], ['Petal Length', 'ARGN'], ['ASC', 'ADV']], ['IF [Petal Length] >= 4 AND [Petal Length] <= 5 THEN 1 ELSE 0 END', ['IF', 'OPER'], ['Petal Length', 'ARGN'], ['>=', 'ADP'], ['4', 'NUM'], ['AND', 'ADP'], ['Petal Length', 'ARGN'], ['<=', 'ADP'], ['5', 'NUM'], ['THEN', 'ADV'], ['1', 'NUM'], ['ELSE', 'ADV'], ['0', 'NUM'], ['END', 'ORG']], [\"DATETRUNC('month', [Date])\", ['DATETRUNC', 'OPER'], ['month', 'NOUN'], ['[Date]', 'OPER']], ['YEAR([Date]) = YEAR(TODAY()) - 1', ['YEAR', 'NOUN'], ['[Date]', 'OPER'], ['=', 'ADP'], ['YEAR', 'NOUN'], ['TODAY', 'NOUN'], ['1', 'NUM']], [\"[Date] >= DATETRUNC('year' , TODAY())\", ['[Date]', 'OPER'], ['>=', 'ADP'], ['DATETRUNC', 'OPER'], ['year', 'NOUN'], ['TODAY', 'NOUN']], [' AVG([Sepal Length]) GROUP BY [Species] SORT BY [Species] ASC', ['AVG', 'OPER'], ['Sepal Length', 'ARGN'], ['GROUP BY', 'OPER'], ['Species', 'ARGN'], ['SORT', 'ADV'], ['BY', 'OPER'], ['Species', 'ARGN'], ['ASC', 'ADV']], [\" COUNTD(IF LEFT([Species] 1) = 'C' THEN [Species] ELSE NULL END)\", ['COUNTD', 'OPER'], ['IF', 'OPER'], ['LEFT', 'ADV'], ['Species', 'ARGN'], ['1', 'NUM'], ['=', 'ADP'], ['THEN', 'ADV'], ['Species', 'ARGN'], ['ELSE', 'ADV'], ['NULL', 'ADV']], [' [Petal Length] > 4.0 AND [Sepal Length] > 4.0', ['Petal Length', 'ARGN'], ['>', 'ADP'], ['4.0', 'CARDINAL'], ['AND', 'ADP'], ['Sepal Length', 'ARGN'], ['>', 'ADP'], ['4.0', 'CARDINAL']], [' RANK_PERCENTILE([Petal Width]) <= 0.1', ['RANK_PERCENTILE', 'OPER'], ['Petal Width', 'ARGN'], ['<=', 'ADP'], ['0.1', 'CARDINAL']], ['SUM([Sepal Length])', ['SUM', 'OPER'], ['Sepal Length', 'ARGN']], ['AVG([Petal Width])', ['AVG', 'OPER'], ['Petal Width', 'ARGN']], ['{ FIXED [Species] = \"setosa\" : MEDIAN([Sepal Width]) }', ['FIXED', 'OPER'], ['Species', 'ARGN'], ['=', 'ADP'], ['setosa', 'NOUN'], ['MEDIAN', 'OPER'], ['Sepal Width', 'ARGN']], ['SUM(IF [Species] = \"versicolor\" THEN 1 ELSE 0 END)', ['SUM', 'OPER'], ['IF', 'OPER'], ['Species', 'ARGN'], ['=', 'ADP'], ['versicolor', 'NOUN'], ['THEN', 'ADV'], ['1', 'NUM'], ['ELSE', 'ADV'], ['0', 'NUM']], ['COUNTD(IF [Sepal Length] > 5.0 THEN [Species] ELSE NULL END)', ['COUNTD', 'OPER'], ['IF', 'OPER'], ['Sepal Length', 'ARGN'], ['>', 'ADP'], ['5.0', 'NUM'], ['THEN', 'ADV'], ['Species', 'ARGN'], ['ELSE', 'ADV'], ['NULL', 'ADV']], ['{ FIXED [Species] = \"virginica\" : MIN([Petal Length]) }', ['FIXED', 'OPER'], ['Species', 'ARGN'], ['=', 'ADP'], ['virginica', 'NOUN'], ['MIN', 'OPER'], ['Petal Length', 'ARGN']], ['{ FIXED [Species] = \"setosa\" : MAX([Sepal Width]) }', ['FIXED', 'OPER'], ['Species', 'ARGN'], ['=', 'ADP'], ['setosa', 'NOUN'], ['MAX', 'OPER'], ['Sepal Width', 'ARGN']], [' SORTED BY Species alphabetically COUNT([Species]) GROUP BY [Species] ORDER BY [Species] ASC', ['SORTED BY', 'OPER'], ['Species', 'ARGN'], ['alphabetically', 'ADV'], ['COUNT', 'OPER'], ['Species', 'ARGN'], ['GROUP BY', 'OPER'], ['Species', 'ARGN'], ['ORDER BY', 'OPER'], ['Species', 'ARGN'], ['ASC', 'ADV']], ['[Species] = \"versicolor\" AND [Sepal Width] >= 3.0', ['Species', 'ARGN'], ['=', 'ADP'], ['versicolor', 'NOUN'], ['AND', 'ADP'], ['Sepal Width', 'ARGN'], ['>=', 'ADP'], ['3.0', 'NUM']], ['RANK([Sepal Length]) <= 5 AND [Species] = \"virginica\"', ['RANK', 'OPER'], ['Sepal Length', 'ARGN'], ['<=', 'ADP'], ['5', 'NUM'], ['AND', 'ADP'], ['Species', 'ARGN'], ['=', 'ADP'], ['virginica', 'NOUN']], ['RANK_PERCENTILE([Petal Width]) >= 0.9', ['RANK_PERCENTILE', 'OPER'], ['Petal Width', 'ARGN'], ['>=', 'ADP'], ['0.9', 'CARDINAL']], ['LISTED FROM highest to lowest AVG([Sepal Length]) GROUP BY [Species] ORDER BY AVG([Sepal Length]) DESC', ['FROM', 'ADP'], ['highest', 'ADJ'], ['to', 'ADP'], ['lowest', 'ADJ'], ['AVG', 'OPER'], ['Sepal Length', 'ARGN'], ['GROUP BY', 'OPER'], ['Species', 'ARGN'], ['ORDER BY', 'OPER'], ['AVG', 'OPER'], ['Sepal Length', 'ARGN'], ['DESC', 'ADV']], ['[Species] = \"setosa\" AND [Petal Length] BETWEEN 4.0 AND 5.0', ['Species', 'ARGN'], ['=', 'ADP'], ['setosa', 'NOUN'], ['AND', 'ADP'], ['Petal Length', 'ARGN'], ['BETWEEN', 'ADP'], ['4.0', 'CARDINAL'], ['AND', 'ADP'], ['5.0', 'NUM']], ['SUM(IF CONTAINS([Species] \"color\") THEN 1 ELSE 0 END)', ['SUM', 'OPER'], ['IF CONTAINS', 'OPER'], ['Species', 'ARGN'], ['color', 'NOUN'], ['THEN', 'ADV'], ['1', 'NUM'], ['ELSE', 'ADV'], ['0', 'NUM']], [' STARTSWITH([Species] \"Iri\") AND ENDSWITH([Species], “a”)', ['STARTSWITH', 'OPER'], ['Species', 'ARGN'], ['AND', 'ADP'], ['ENDSWITH', 'OPER'], ['Species', 'ARGN']]]\n"
          ]
        }
      ]
    },
    {
      "cell_type": "markdown",
      "source": [
        "#Train Formula (Tableau) data"
      ],
      "metadata": {
        "id": "MfHGHMvfcVz3"
      }
    },
    {
      "cell_type": "code",
      "source": [
        "for item in Train_formulas_data:\n",
        "    print(item)"
      ],
      "metadata": {
        "colab": {
          "base_uri": "https://localhost:8080/"
        },
        "id": "6zAS8cBmchqD",
        "outputId": "1ed9d499-53f1-4b2d-c6e0-eebf56823199"
      },
      "execution_count": 31,
      "outputs": [
        {
          "output_type": "stream",
          "name": "stdout",
          "text": [
            "('SUM(Sepal Length)', dict_items([('entities', [(1, 2, 'OPER'), (4, 5, 'ARGN'), (10, 11, 'ADP'), (11, 12, 'OPER'), (14, 15, 'ARGN')])]))\n",
            "('AVG(Sepal Width)', dict_items([('entities', [(1, 2, 'OPER'), (4, 5, 'ARGN'), (10, 11, 'ADP'), (11, 12, 'OPER'), (14, 15, 'ARGN')])]))\n",
            "('MEDIAN(Petal Length)', dict_items([('entities', [(1, 2, 'OPER'), (4, 5, 'ARGN'), (10, 11, 'ADP'), (11, 12, 'OPER'), (14, 15, 'ARGN')])]))\n",
            "('COUNT(*)', dict_items([('entities', [(1, 2, 'OPER'), (4, 5, 'ARGN'), (10, 11, 'ADP'), (11, 12, 'OPER'), (14, 15, 'ARGN')])]))\n",
            "('COUNT DISTINCT(Species)', dict_items([('entities', [(1, 2, 'OPER'), (4, 5, 'ARGN'), (10, 11, 'ADP'), (11, 12, 'OPER'), (14, 15, 'ARGN')])]))\n",
            "('MIN(Sepal Length)', dict_items([('entities', [(1, 2, 'OPER'), (4, 5, 'ARGN'), (10, 11, 'ADP'), (11, 12, 'OPER'), (14, 15, 'ARGN')])]))\n",
            "('MAX(Petal Width)', dict_items([('entities', [(1, 2, 'OPER'), (4, 5, 'ARGN'), (10, 11, 'ADP'), (11, 12, 'OPER'), (14, 15, 'ARGN')])]))\n",
            "('GROUP BY(Species)', dict_items([('entities', [(1, 2, 'OPER'), (4, 5, 'ARGN'), (10, 11, 'ADP'), (11, 12, 'OPER'), (14, 15, 'ARGN')])]))\n",
            "('ORDER BY(Sepal Length ASC)', dict_items([('entities', [(1, 2, 'OPER'), (4, 5, 'ARGN'), (10, 11, 'ADP'), (11, 12, 'OPER'), (14, 15, 'ARGN')])]))\n",
            "('ORDER BY(Species ASC)', dict_items([('entities', [(1, 2, 'OPER'), (4, 5, 'ARGN'), (10, 11, 'ADP'), (11, 12, 'OPER'), (14, 15, 'ARGN')])]))\n",
            "('Sepal Length >= 5.0', dict_items([('entities', [(1, 2, 'OPER'), (4, 5, 'ARGN'), (10, 11, 'ADP'), (11, 12, 'OPER'), (14, 15, 'ARGN')])]))\n",
            "('Petal Length BETWEEN 1.5 AND 2.5', dict_items([('entities', [(1, 2, 'OPER'), (4, 5, 'ARGN'), (10, 11, 'ADP'), (11, 12, 'OPER'), (14, 15, 'ARGN')])]))\n",
            "('TOP 3 BY(Sepal Width DESC)', dict_items([('entities', [(1, 2, 'OPER'), (4, 5, 'ARGN'), (10, 11, 'ADP'), (11, 12, 'OPER'), (14, 15, 'ARGN')])]))\n",
            "(\"Species = 'Setosa'\", dict_items([('entities', [(1, 2, 'OPER'), (4, 5, 'ARGN'), (10, 11, 'ADP'), (11, 12, 'OPER'), (14, 15, 'ARGN')])]))\n",
            "(\"Species STARTS WITH 'Se'\", dict_items([('entities', [(1, 2, 'OPER'), (4, 5, 'ARGN'), (10, 11, 'ADP'), (11, 12, 'OPER'), (14, 15, 'ARGN')])]))\n",
            "(' SUM([Petal Length])', dict_items([('entities', [(1, 2, 'OPER'), (4, 5, 'ARGN'), (10, 11, 'ADP'), (11, 12, 'OPER'), (14, 15, 'ARGN')])]))\n",
            "(' AVG([Petal Width])', dict_items([('entities', [(1, 2, 'OPER'), (4, 5, 'ARGN'), (10, 11, 'ADP'), (11, 12, 'OPER'), (14, 15, 'ARGN')])]))\n",
            "('MEDIAN([Sepal Width])', dict_items([('entities', [(1, 2, 'OPER'), (4, 5, 'ARGN'), (10, 11, 'ADP'), (11, 12, 'OPER'), (14, 15, 'ARGN')])]))\n",
            "('COUNT([Sepal Length])', dict_items([('entities', [(1, 2, 'OPER'), (4, 5, 'ARGN'), (10, 11, 'ADP'), (11, 12, 'OPER'), (14, 15, 'ARGN')])]))\n",
            "('COUNTD([Species])', dict_items([('entities', [(1, 2, 'OPER'), (4, 5, 'ARGN'), (10, 11, 'ADP'), (11, 12, 'OPER'), (14, 15, 'ARGN')])]))\n",
            "('MIN([Sepal Length])', dict_items([('entities', [(1, 2, 'OPER'), (4, 5, 'ARGN'), (10, 11, 'ADP'), (11, 12, 'OPER'), (14, 15, 'ARGN')])]))\n",
            "('MAX([Petal Width])', dict_items([('entities', [(1, 2, 'OPER'), (4, 5, 'ARGN'), (10, 11, 'ADP'), (11, 12, 'OPER'), (14, 15, 'ARGN')])]))\n",
            "('SORT([Species], DESC)', dict_items([('entities', [(1, 2, 'OPER'), (4, 5, 'ARGN'), (10, 11, 'ADP'), (11, 12, 'OPER'), (14, 15, 'ARGN')])]))\n",
            "('SORT([Sepal Length], ASC)', dict_items([('entities', [(1, 2, 'OPER'), (4, 5, 'ARGN'), (10, 11, 'ADP'), (11, 12, 'OPER'), (14, 15, 'ARGN')])]))\n",
            "('[Sepal Length] >= 4.5', dict_items([('entities', [(1, 2, 'OPER'), (4, 5, 'ARGN'), (10, 11, 'ADP'), (11, 12, 'OPER'), (14, 15, 'ARGN')])]))\n",
            "('[Petal Width] < 2.0', dict_items([('entities', [(1, 2, 'OPER'), (4, 5, 'ARGN'), (10, 11, 'ADP'), (11, 12, 'OPER'), (14, 15, 'ARGN')])]))\n",
            "('[Sepal Width] != 3.0', dict_items([('entities', [(1, 2, 'OPER'), (4, 5, 'ARGN'), (10, 11, 'ADP'), (11, 12, 'OPER'), (14, 15, 'ARGN')])]))\n",
            "('ENDSWITH([Species], \"ica\")', dict_items([('entities', [(1, 2, 'OPER'), (4, 5, 'ARGN'), (10, 11, 'ADP'), (11, 12, 'OPER'), (14, 15, 'ARGN')])]))\n",
            "('[Sepal Length] = 5.0', dict_items([('entities', [(1, 2, 'OPER'), (4, 5, 'ARGN'), (10, 11, 'ADP'), (11, 12, 'OPER'), (14, 15, 'ARGN')])]))\n",
            "(' INDEX() <= 5 SORT BY SUM([Sepal Width]) DESC', dict_items([('entities', [(1, 2, 'OPER'), (4, 5, 'ARGN'), (10, 11, 'ADP'), (11, 12, 'OPER'), (14, 15, 'ARGN')])]))\n",
            "(' INDEX() <= 3 SORT BY [Petal Length] ASC', dict_items([('entities', [(1, 2, 'OPER'), (4, 5, 'ARGN'), (10, 11, 'ADP'), (11, 12, 'OPER'), (14, 15, 'ARGN')])]))\n",
            "('IF [Petal Length] >= 4 AND [Petal Length] <= 5 THEN 1 ELSE 0 END', dict_items([('entities', [(1, 2, 'OPER'), (4, 5, 'ARGN'), (10, 11, 'ADP'), (11, 12, 'OPER'), (14, 15, 'ARGN')])]))\n",
            "(\"DATETRUNC('month', [Date])\", dict_items([('entities', [(1, 2, 'OPER'), (4, 5, 'ARGN'), (10, 11, 'ADP'), (11, 12, 'OPER'), (14, 15, 'ARGN')])]))\n",
            "('YEAR([Date]) = YEAR(TODAY()) - 1', dict_items([('entities', [(1, 2, 'OPER'), (4, 5, 'ARGN'), (10, 11, 'ADP'), (11, 12, 'OPER'), (14, 15, 'ARGN')])]))\n",
            "(\"[Date] >= DATETRUNC('year' , TODAY())\", dict_items([('entities', [(1, 2, 'OPER'), (4, 5, 'ARGN'), (10, 11, 'ADP'), (11, 12, 'OPER'), (14, 15, 'ARGN')])]))\n",
            "(' AVG([Sepal Length]) GROUP BY [Species] SORT BY [Species] ASC', dict_items([('entities', [(1, 2, 'OPER'), (4, 5, 'ARGN'), (10, 11, 'ADP'), (11, 12, 'OPER'), (14, 15, 'ARGN')])]))\n",
            "(\" COUNTD(IF LEFT([Species] 1) = 'C' THEN [Species] ELSE NULL END)\", dict_items([('entities', [(1, 2, 'OPER'), (4, 5, 'ARGN'), (10, 11, 'ADP'), (11, 12, 'OPER'), (14, 15, 'ARGN')])]))\n",
            "(' [Petal Length] > 4.0 AND [Sepal Length] > 4.0', dict_items([('entities', [(1, 2, 'OPER'), (4, 5, 'ARGN'), (10, 11, 'ADP'), (11, 12, 'OPER'), (14, 15, 'ARGN')])]))\n",
            "(' RANK_PERCENTILE([Petal Width]) <= 0.1', dict_items([('entities', [(1, 2, 'OPER'), (4, 5, 'ARGN'), (10, 11, 'ADP'), (11, 12, 'OPER'), (14, 15, 'ARGN')])]))\n",
            "('SUM([Sepal Length])', dict_items([('entities', [(1, 2, 'OPER'), (4, 5, 'ARGN'), (10, 11, 'ADP'), (11, 12, 'OPER'), (14, 15, 'ARGN')])]))\n",
            "('AVG([Petal Width])', dict_items([('entities', [(1, 2, 'OPER'), (4, 5, 'ARGN'), (10, 11, 'ADP'), (11, 12, 'OPER'), (14, 15, 'ARGN')])]))\n",
            "('{ FIXED [Species] = \"setosa\" : MEDIAN([Sepal Width]) }', dict_items([('entities', [(1, 2, 'OPER'), (4, 5, 'ARGN'), (10, 11, 'ADP'), (11, 12, 'OPER'), (14, 15, 'ARGN')])]))\n",
            "('SUM(IF [Species] = \"versicolor\" THEN 1 ELSE 0 END)', dict_items([('entities', [(1, 2, 'OPER'), (4, 5, 'ARGN'), (10, 11, 'ADP'), (11, 12, 'OPER'), (14, 15, 'ARGN')])]))\n",
            "('COUNTD(IF [Sepal Length] > 5.0 THEN [Species] ELSE NULL END)', dict_items([('entities', [(1, 2, 'OPER'), (4, 5, 'ARGN'), (10, 11, 'ADP'), (11, 12, 'OPER'), (14, 15, 'ARGN')])]))\n",
            "('{ FIXED [Species] = \"virginica\" : MIN([Petal Length]) }', dict_items([('entities', [(1, 2, 'OPER'), (4, 5, 'ARGN'), (10, 11, 'ADP'), (11, 12, 'OPER'), (14, 15, 'ARGN')])]))\n",
            "('{ FIXED [Species] = \"setosa\" : MAX([Sepal Width]) }', dict_items([('entities', [(1, 2, 'OPER'), (4, 5, 'ARGN'), (10, 11, 'ADP'), (11, 12, 'OPER'), (14, 15, 'ARGN')])]))\n",
            "(' SORTED BY Species alphabetically COUNT([Species]) GROUP BY [Species] ORDER BY [Species] ASC', dict_items([('entities', [(1, 2, 'OPER'), (4, 5, 'ARGN'), (10, 11, 'ADP'), (11, 12, 'OPER'), (14, 15, 'ARGN')])]))\n",
            "('[Species] = \"versicolor\" AND [Sepal Width] >= 3.0', dict_items([('entities', [(1, 2, 'OPER'), (4, 5, 'ARGN'), (10, 11, 'ADP'), (11, 12, 'OPER'), (14, 15, 'ARGN')])]))\n",
            "('RANK([Sepal Length]) <= 5 AND [Species] = \"virginica\"', dict_items([('entities', [(1, 2, 'OPER'), (4, 5, 'ARGN'), (10, 11, 'ADP'), (11, 12, 'OPER'), (14, 15, 'ARGN')])]))\n",
            "('RANK_PERCENTILE([Petal Width]) >= 0.9', dict_items([('entities', [(1, 2, 'OPER'), (4, 5, 'ARGN'), (10, 11, 'ADP'), (11, 12, 'OPER'), (14, 15, 'ARGN')])]))\n",
            "('LISTED FROM highest to lowest AVG([Sepal Length]) GROUP BY [Species] ORDER BY AVG([Sepal Length]) DESC', dict_items([('entities', [(1, 2, 'OPER'), (4, 5, 'ARGN'), (10, 11, 'ADP'), (11, 12, 'OPER'), (14, 15, 'ARGN')])]))\n",
            "('[Species] = \"setosa\" AND [Petal Length] BETWEEN 4.0 AND 5.0', dict_items([('entities', [(1, 2, 'OPER'), (4, 5, 'ARGN'), (10, 11, 'ADP'), (11, 12, 'OPER'), (14, 15, 'ARGN')])]))\n",
            "('SUM(IF CONTAINS([Species] \"color\") THEN 1 ELSE 0 END)', dict_items([('entities', [(1, 2, 'OPER'), (4, 5, 'ARGN'), (10, 11, 'ADP'), (11, 12, 'OPER'), (14, 15, 'ARGN')])]))\n",
            "(' STARTSWITH([Species] \"Iri\") AND ENDSWITH([Species], “a”)', dict_items([('entities', [(1, 2, 'OPER'), (4, 5, 'ARGN'), (10, 11, 'ADP'), (11, 12, 'OPER'), (14, 15, 'ARGN')])]))\n"
          ]
        }
      ]
    },
    {
      "cell_type": "markdown",
      "source": [
        "#TRAINING DATA: DESCRIPTION/FORMULAS TABLEAU"
      ],
      "metadata": {
        "id": "jvlOJBHtkNhM"
      }
    },
    {
      "cell_type": "code",
      "source": [
        "def training_data(TRAIN_DATA,NITER,DROP):\n",
        "    import spacy\n",
        "    import random\n",
        "\n",
        "    # Step 1: Load Your Model\n",
        "    # Load a pre-trained model\n",
        "    nlp = spacy.load('en_core_web_sm')\n",
        "\n",
        "    # Or create a blank model\n",
        "    # nlp = spacy.blank('en')\n",
        "    # Step 2: Add or Update the NER Pipeline\n",
        "    if 'ner' not in nlp.pipe_names:\n",
        "        ner = nlp.create_pipe('ner')\n",
        "        nlp.add_pipe(ner)\n",
        "    else:\n",
        "        ner = nlp.get_pipe('ner')\n",
        "\n",
        "    # Add new entity labels to the NER\n",
        "    for _, annotations in TRAIN_DATA:\n",
        "        for ent in annotations.get('entities'):\n",
        "              ner.add_label(ent[2])\n",
        "    # Step 3: Disable Other Pipeline Components (Optional)\n",
        "    # Other components in the pipeline, if any\n",
        "    other_pipes = [pipe for pipe in nlp.pipe_names if pipe != 'ner']\n",
        "    with nlp.disable_pipes(*other_pipes):\n",
        "          optimizer = nlp.begin_training()\n",
        "          for itn in range(NITER):  # Number of training iterations\n",
        "                      random.shuffle(TRAIN_DATA)\n",
        "                      losses = {}\n",
        "                      for text, annotations in TRAIN_DATA:\n",
        "                            nlp.update([text], [annotations], drop=DROP, losses=losses, sgd=optimizer)\n",
        "                      print(losses)\n"
      ],
      "metadata": {
        "id": "5b7BHE_vkryu"
      },
      "execution_count": 77,
      "outputs": []
    },
    {
      "cell_type": "markdown",
      "source": [
        "#SAVE THE TRAINED MODEL"
      ],
      "metadata": {
        "id": "VbcSOf2gtWpF"
      }
    },
    {
      "cell_type": "code",
      "source": [
        "def save_model(model_name,location):\n",
        "   import os\n",
        "   from pathlib import Path\n",
        "   if location=='drive':\n",
        "      from google.colab import drive\n",
        "      drive.mount('/content/drive')\n",
        "      # Define the base path for the folder where you want to save your model\n",
        "      folder_path = '/content/drive/My Drive/MyModels'\n",
        "   else:\n",
        "      # Define the base path for the folder where you want to save your model\n",
        "      folder_path = '/content/MyModels'\n",
        "\n",
        "   # Create the folder if it doesn't exist\n",
        "   os.makedirs(folder_path, exist_ok=True)\n",
        "   model_path = os.path.join(folder_path, 'model_name')\n",
        "   # Save the model to the specified directory in Google Drive\n",
        "   nlp.to_disk(model_path)\n",
        "   print(f'Model saved to: {model_path}')\n",
        "   # Load the model to ensure it's been saved correctly\n",
        "   nlp2 = spacy.load(model_path)\n",
        "\n"
      ],
      "metadata": {
        "id": "IrN7_Yp1pmk6"
      },
      "execution_count": 76,
      "outputs": []
    },
    {
      "cell_type": "markdown",
      "source": [
        "#EVALUATE THE MODEL"
      ],
      "metadata": {
        "id": "HLEVlIl1tfiX"
      }
    },
    {
      "cell_type": "code",
      "source": [
        "def evaluate(ner_model, examples):\n",
        "    scorer = spacy.scorer.Scorer()\n",
        "    for input_, annot in examples:\n",
        "        doc_gold_text = ner_model.make_doc(input_)\n",
        "        gold = spacy.gold.GoldParse(doc_gold_text, entities=annot['entities'])\n",
        "        pred_value = ner_model(input_)\n",
        "        scorer.score(pred_value, gold)\n",
        "    return scorer.scores"
      ],
      "metadata": {
        "id": "ZKkuOvIxs52K"
      },
      "execution_count": 78,
      "outputs": []
    },
    {
      "cell_type": "markdown",
      "source": [
        "#Evaluate the Model on the Test Dataset"
      ],
      "metadata": {
        "id": "IiXMw_MruIAA"
      }
    },
    {
      "cell_type": "code",
      "source": [
        "def evaluate_the_model(path,TEST_DATA):\n",
        "  import spacy\n",
        "  nlp = spacy.load(path)\n",
        "  # Evaluate the model\n",
        "  results = evaluate(nlp, TEST_DATA)\n",
        "  return print(results)"
      ],
      "metadata": {
        "id": "Cga99Qiut_tZ"
      },
      "execution_count": 79,
      "outputs": []
    },
    {
      "cell_type": "markdown",
      "source": [
        "# Loading Test Dataset: formulas_test.xlsx"
      ],
      "metadata": {
        "id": "oDNbnkF30Tz7"
      }
    },
    {
      "cell_type": "code",
      "source": [
        "df=pd.read_excel(\"formulas.xlsx\")\n",
        "print(df.head(5))"
      ],
      "metadata": {
        "id": "i4QM64-A0JLk"
      },
      "execution_count": null,
      "outputs": []
    },
    {
      "cell_type": "markdown",
      "source": [
        "#Extracting symbols from Formulas (Tableau)"
      ],
      "metadata": {
        "id": "yLqVEQZjgqOk"
      }
    },
    {
      "cell_type": "code",
      "source": [
        "\n",
        "def gather_sym(data,column_name):\n",
        "    dp=data[column_name]\n",
        "    dp_text=[]\n",
        "    dp_sym=[]\n",
        "    for row in dp:\n",
        "         drow_text=[]\n",
        "         drow_sym =[]\n",
        "         for item in row:\n",
        "              if re.match(r'\\w+',item):\n",
        "                    drow_text.append(item)\n",
        "              else:\n",
        "                    drow_sym.append(item)\n",
        "         dp_text.append(drow_text)\n",
        "         dp_sym.append(drow_sym)\n",
        "    return dp_text,dp_sym\n"
      ],
      "metadata": {
        "id": "3WDk4dr-gOM1"
      },
      "execution_count": 32,
      "outputs": []
    },
    {
      "cell_type": "code",
      "source": [
        "dg_formulas_text,dg_formulas_sym=gather_sym(dg_tok,dg_tok.columns[1])"
      ],
      "metadata": {
        "id": "f7zeIuxKi0p2"
      },
      "execution_count": 33,
      "outputs": []
    },
    {
      "cell_type": "code",
      "source": [
        "print(dg_formulas_text)"
      ],
      "metadata": {
        "id": "j1mQ3fjFAB42",
        "colab": {
          "base_uri": "https://localhost:8080/"
        },
        "outputId": "fc542896-122f-4296-ab97-8614ecf7a83a"
      },
      "execution_count": 34,
      "outputs": [
        {
          "output_type": "stream",
          "name": "stdout",
          "text": [
            "[['SUM', 'Sepal', 'Length'], ['AVG', 'Sepal', 'Width'], ['MEDIAN', 'Petal', 'Length'], ['COUNT'], ['COUNT', 'DISTINCT', 'Species'], ['MIN', 'Sepal', 'Length'], ['MAX', 'Petal', 'Width'], ['GROUP', 'BY', 'Species'], ['ORDER', 'BY', 'Sepal', 'Length', 'ASC'], ['ORDER', 'BY', 'Species', 'ASC'], ['Sepal', 'Length', '5', '0'], ['Petal', 'Length', 'BETWEEN', '1', '5', 'AND', '2', '5'], ['TOP', '3', 'BY', 'Sepal', 'Width', 'DESC'], ['Species', 'Setosa'], ['Species', 'STARTS', 'WITH', 'Se'], ['SUM', 'Petal', 'Length'], ['AVG', 'Petal', 'Width'], ['MEDIAN', 'Sepal', 'Width'], ['COUNT', 'Sepal', 'Length'], ['COUNTD', 'Species'], ['MIN', 'Sepal', 'Length'], ['MAX', 'Petal', 'Width'], ['SORT', 'Species', 'DESC'], ['SORT', 'Sepal', 'Length', 'ASC'], ['Sepal', 'Length', '4', '5'], ['Petal', 'Width', '2', '0'], ['Sepal', 'Width', '3', '0'], ['ENDSWITH', 'Species', 'ica'], ['Sepal', 'Length', '5', '0'], ['INDEX', '5', 'SORT', 'BY', 'SUM', 'Sepal', 'Width', 'DESC'], ['INDEX', '3', 'SORT', 'BY', 'Petal', 'Length', 'ASC'], ['IF', 'Petal', 'Length', '4', 'AND', 'Petal', 'Length', '5', 'THEN', '1', 'ELSE', '0', 'END'], ['DATETRUNC', 'month', 'Date'], ['YEAR', 'Date', 'YEAR', 'TODAY', '1'], ['Date', 'DATETRUNC', 'year', 'TODAY'], ['AVG', 'Sepal', 'Length', 'GROUP', 'BY', 'Species', 'SORT', 'BY', 'Species', 'ASC'], ['COUNTD', 'IF', 'LEFT', 'Species', '1', 'C', 'THEN', 'Species', 'ELSE', 'NULL', 'END'], ['Petal', 'Length', '4', '0', 'AND', 'Sepal', 'Length', '4', '0'], ['RANK_PERCENTILE', 'Petal', 'Width', '0', '1'], ['SUM', 'Sepal', 'Length'], ['AVG', 'Petal', 'Width'], ['FIXED', 'Species', 'setosa', 'MEDIAN', 'Sepal', 'Width'], ['SUM', 'IF', 'Species', 'versicolor', 'THEN', '1', 'ELSE', '0', 'END'], ['COUNTD', 'IF', 'Sepal', 'Length', '5', '0', 'THEN', 'Species', 'ELSE', 'NULL', 'END'], ['FIXED', 'Species', 'virginica', 'MIN', 'Petal', 'Length'], ['FIXED', 'Species', 'setosa', 'MAX', 'Sepal', 'Width'], ['SORTED', 'BY', 'Species', 'alphabetically', 'COUNT', 'Species', 'GROUP', 'BY', 'Species', 'ORDER', 'BY', 'Species', 'ASC'], ['Species', 'versicolor', 'AND', 'Sepal', 'Width', '3', '0'], ['RANK', 'Sepal', 'Length', '5', 'AND', 'Species', 'virginica'], ['RANK_PERCENTILE', 'Petal', 'Width', '0', '9'], ['LISTED', 'FROM', 'highest', 'to', 'lowest', 'AVG', 'Sepal', 'Length', 'GROUP', 'BY', 'Species', 'ORDER', 'BY', 'AVG', 'Sepal', 'Length', 'DESC'], ['Species', 'setosa', 'AND', 'Petal', 'Length', 'BETWEEN', '4', '0', 'AND', '5', '0'], ['SUM', 'IF', 'CONTAINS', 'Species', 'color', 'THEN', '1', 'ELSE', '0', 'END'], ['STARTSWITH', 'Species', 'Iri', 'AND', 'ENDSWITH', 'Species', 'a']]\n"
          ]
        }
      ]
    },
    {
      "cell_type": "code",
      "source": [
        "print(dg_formulas_sym)"
      ],
      "metadata": {
        "id": "UMB5ZhNXAGzR",
        "colab": {
          "base_uri": "https://localhost:8080/"
        },
        "outputId": "effb2810-7d0c-45e4-e3fa-d3da3ae0e38f"
      },
      "execution_count": 35,
      "outputs": [
        {
          "output_type": "stream",
          "name": "stdout",
          "text": [
            "[['(', ')'], ['(', ')'], ['(', ')'], ['(*)'], ['(', ')'], ['(', ')'], ['(', ')'], ['(', ')'], ['(', ')'], ['(', ')'], ['>=', '.'], ['.', '.'], ['(', ')'], ['=', \"'\", \"'\"], [\"'\", \"'\"], ['([', '])'], ['([', '])'], ['([', '])'], ['([', '])'], ['([', '])'], ['([', '])'], ['([', '])'], ['([', '],', ')'], ['([', '],', ')'], ['[', ']', '>=', '.'], ['[', ']', '<', '.'], ['[', ']', '!=', '.'], ['([', '],', '\"', '\")'], ['[', ']', '=', '.'], ['()', '<=', '([', '])'], ['()', '<=', '[', ']'], ['[', ']', '>=', '[', ']', '<='], [\"('\", \"',\", '[', '])'], ['([', '])', '=', '(', '())', '-'], ['[', ']', '>=', \"('\", \"'\", ',', '())'], ['([', '])', '[', ']', '[', ']'], ['(', '([', ']', ')', '=', \"'\", \"'\", '[', ']', ')'], ['[', ']', '>', '.', '[', ']', '>', '.'], ['([', '])', '<=', '.'], ['([', '])'], ['([', '])'], ['{', '[', ']', '=', '\"', '\"', ':', '([', '])', '}'], ['(', '[', ']', '=', '\"', '\"', ')'], ['(', '[', ']', '>', '.', '[', ']', ')'], ['{', '[', ']', '=', '\"', '\"', ':', '([', '])', '}'], ['{', '[', ']', '=', '\"', '\"', ':', '([', '])', '}'], ['([', '])', '[', ']', '[', ']'], ['[', ']', '=', '\"', '\"', '[', ']', '>=', '.'], ['([', '])', '<=', '[', ']', '=', '\"', '\"'], ['([', '])', '>=', '.'], ['([', '])', '[', ']', '([', '])'], ['[', ']', '=', '\"', '\"', '[', ']', '.', '.'], ['(', '([', ']', '\"', '\")', ')'], ['([', ']', '\"', '\")', '([', '],', '“', '”)']]\n"
          ]
        }
      ]
    },
    {
      "cell_type": "code",
      "source": [
        "dg_tok.drop(dg_tok.columns[1], axis=1)"
      ],
      "metadata": {
        "id": "L60GHo54PbwS",
        "colab": {
          "base_uri": "https://localhost:8080/",
          "height": 1000
        },
        "outputId": "ba541c05-836e-4df0-b174-9a34fc156bd2"
      },
      "execution_count": 36,
      "outputs": [
        {
          "output_type": "execute_result",
          "data": {
            "text/plain": [
              "                                Tokenized Description\n",
              "0                            [Sum, of, Sepal, Length]\n",
              "1       [Average, Sepal, Width, across, all, entries]\n",
              "2                  [Find, the, median, Petal, Length]\n",
              "3   [Count, the, number, of, records, in, the, dat...\n",
              "4        [Count, distinct, species, in, the, dataset]\n",
              "5                 [Minimum, value, of, Sepal, Length]\n",
              "6    [Maximum, Petal, Width, found, in, the, dataset]\n",
              "7                       [Group, records, by, Species]\n",
              "8   [Sort, the, entries, by, Sepal, Length, in, as...\n",
              "9                     [List, Species, alphabetically]\n",
              "10  [Entries, with, Sepal, Length, at, least, 5, ....\n",
              "11  [Entries, with, Petal, Length, between, 1, ., ...\n",
              "12  [Top, 3, entries, with, the, highest, Sepal, W...\n",
              "13                        [Species, is, ', Setosa, ']\n",
              "14                  [Species, starts, with, ', Se, ']\n",
              "15        [Calculate, the, total, of, Petal, Lengths]\n",
              "16          [What, is, the, average, Petal, Width, ?]\n",
              "17  [Determine, the, middle, value, of, Sepal, Wid...\n",
              "18           [How, many, data, points, are, there, ?]\n",
              "19                [Number, of, unique, flower, types]\n",
              "20                  [Lowest, Sepal, Length, recorded]\n",
              "21          [Highest, value, of, Petal, Width, found]\n",
              "22  [Organize, data, by, Species, in, descending, ...\n",
              "23        [Rank, Sepal, Lengths, from, low, to, high]\n",
              "24  [Filter, for, Sepal, Length, greater, than, or...\n",
              "25  [Select, entries, with, Petal, Width, less, th...\n",
              "26  [Show, entries, where, Sepal, Width, is, not, ...\n",
              "27  [List, all, where, the, Species, name, ends, w...\n",
              "28  [Entries, with, a, Sepal, Length, of, exactly,...\n",
              "29  [Display, the, top, 5, Species, by, Sepal, Width]\n",
              "30           [Find, the, 3, smallest, Petal, Lengths]\n",
              "31  [Count, occurrences, where, Petal, Length, is,...\n",
              "32  [Aggregate, data, by, the, month, of, observat...\n",
              "33  [Filter, records, from, last, year, (, assumin...\n",
              "34  [Show, only, the, data, starting, from, Januar...\n",
              "35  [Find, the, average, Sepal, Length, for, each,...\n",
              "36  [Count, how, many, Species, start, with, ', C, ']\n",
              "37  [Entries, with, Petal, Length, and, Sepal, Len...\n",
              "38  [List, Species, with, Petal, Width, in, the, t...\n",
              "39    [Total, Sepal, Length, for, all, Iris, flowers]\n",
              "40      [Average, Petal, Width, across, all, species]\n",
              "41          [Median, Sepal, Width, for, Iris, setosa]\n",
              "42             [Count, of, Iris, versicolor, flowers]\n",
              "43  [Distinct, count, of, species, with, Sepal, Le...\n",
              "44     [Minimum, Petal, Length, for, Iris, virginica]\n",
              "45      [Maximum, Sepal, Width, across, Iris, setosa]\n",
              "46  [Total, number, of, records, grouped, by, Spec...\n",
              "47  [Filter, to, show, only, Iris, versicolor, wit...\n",
              "48  [Show, top, 5, Sepal, Lengths, within, Iris, v...\n",
              "49  [Iris, flowers, with, Petal, Width, in, the, b...\n",
              "50       [Average, Sepal, Length, for, each, species]\n",
              "51  [Entries, with, Petal, Length, between, 4, ., ...\n",
              "52  [Count, Iris, flowers, where, the, Species, na...\n",
              "53  [List, all, Iris, flowers, where, the, Species..."
            ],
            "text/html": [
              "\n",
              "  <div id=\"df-8405c5bf-8604-4e83-ae14-dd0d4660418f\" class=\"colab-df-container\">\n",
              "    <div>\n",
              "<style scoped>\n",
              "    .dataframe tbody tr th:only-of-type {\n",
              "        vertical-align: middle;\n",
              "    }\n",
              "\n",
              "    .dataframe tbody tr th {\n",
              "        vertical-align: top;\n",
              "    }\n",
              "\n",
              "    .dataframe thead th {\n",
              "        text-align: right;\n",
              "    }\n",
              "</style>\n",
              "<table border=\"1\" class=\"dataframe\">\n",
              "  <thead>\n",
              "    <tr style=\"text-align: right;\">\n",
              "      <th></th>\n",
              "      <th>Tokenized Description</th>\n",
              "    </tr>\n",
              "  </thead>\n",
              "  <tbody>\n",
              "    <tr>\n",
              "      <th>0</th>\n",
              "      <td>[Sum, of, Sepal, Length]</td>\n",
              "    </tr>\n",
              "    <tr>\n",
              "      <th>1</th>\n",
              "      <td>[Average, Sepal, Width, across, all, entries]</td>\n",
              "    </tr>\n",
              "    <tr>\n",
              "      <th>2</th>\n",
              "      <td>[Find, the, median, Petal, Length]</td>\n",
              "    </tr>\n",
              "    <tr>\n",
              "      <th>3</th>\n",
              "      <td>[Count, the, number, of, records, in, the, dat...</td>\n",
              "    </tr>\n",
              "    <tr>\n",
              "      <th>4</th>\n",
              "      <td>[Count, distinct, species, in, the, dataset]</td>\n",
              "    </tr>\n",
              "    <tr>\n",
              "      <th>5</th>\n",
              "      <td>[Minimum, value, of, Sepal, Length]</td>\n",
              "    </tr>\n",
              "    <tr>\n",
              "      <th>6</th>\n",
              "      <td>[Maximum, Petal, Width, found, in, the, dataset]</td>\n",
              "    </tr>\n",
              "    <tr>\n",
              "      <th>7</th>\n",
              "      <td>[Group, records, by, Species]</td>\n",
              "    </tr>\n",
              "    <tr>\n",
              "      <th>8</th>\n",
              "      <td>[Sort, the, entries, by, Sepal, Length, in, as...</td>\n",
              "    </tr>\n",
              "    <tr>\n",
              "      <th>9</th>\n",
              "      <td>[List, Species, alphabetically]</td>\n",
              "    </tr>\n",
              "    <tr>\n",
              "      <th>10</th>\n",
              "      <td>[Entries, with, Sepal, Length, at, least, 5, ....</td>\n",
              "    </tr>\n",
              "    <tr>\n",
              "      <th>11</th>\n",
              "      <td>[Entries, with, Petal, Length, between, 1, ., ...</td>\n",
              "    </tr>\n",
              "    <tr>\n",
              "      <th>12</th>\n",
              "      <td>[Top, 3, entries, with, the, highest, Sepal, W...</td>\n",
              "    </tr>\n",
              "    <tr>\n",
              "      <th>13</th>\n",
              "      <td>[Species, is, ', Setosa, ']</td>\n",
              "    </tr>\n",
              "    <tr>\n",
              "      <th>14</th>\n",
              "      <td>[Species, starts, with, ', Se, ']</td>\n",
              "    </tr>\n",
              "    <tr>\n",
              "      <th>15</th>\n",
              "      <td>[Calculate, the, total, of, Petal, Lengths]</td>\n",
              "    </tr>\n",
              "    <tr>\n",
              "      <th>16</th>\n",
              "      <td>[What, is, the, average, Petal, Width, ?]</td>\n",
              "    </tr>\n",
              "    <tr>\n",
              "      <th>17</th>\n",
              "      <td>[Determine, the, middle, value, of, Sepal, Wid...</td>\n",
              "    </tr>\n",
              "    <tr>\n",
              "      <th>18</th>\n",
              "      <td>[How, many, data, points, are, there, ?]</td>\n",
              "    </tr>\n",
              "    <tr>\n",
              "      <th>19</th>\n",
              "      <td>[Number, of, unique, flower, types]</td>\n",
              "    </tr>\n",
              "    <tr>\n",
              "      <th>20</th>\n",
              "      <td>[Lowest, Sepal, Length, recorded]</td>\n",
              "    </tr>\n",
              "    <tr>\n",
              "      <th>21</th>\n",
              "      <td>[Highest, value, of, Petal, Width, found]</td>\n",
              "    </tr>\n",
              "    <tr>\n",
              "      <th>22</th>\n",
              "      <td>[Organize, data, by, Species, in, descending, ...</td>\n",
              "    </tr>\n",
              "    <tr>\n",
              "      <th>23</th>\n",
              "      <td>[Rank, Sepal, Lengths, from, low, to, high]</td>\n",
              "    </tr>\n",
              "    <tr>\n",
              "      <th>24</th>\n",
              "      <td>[Filter, for, Sepal, Length, greater, than, or...</td>\n",
              "    </tr>\n",
              "    <tr>\n",
              "      <th>25</th>\n",
              "      <td>[Select, entries, with, Petal, Width, less, th...</td>\n",
              "    </tr>\n",
              "    <tr>\n",
              "      <th>26</th>\n",
              "      <td>[Show, entries, where, Sepal, Width, is, not, ...</td>\n",
              "    </tr>\n",
              "    <tr>\n",
              "      <th>27</th>\n",
              "      <td>[List, all, where, the, Species, name, ends, w...</td>\n",
              "    </tr>\n",
              "    <tr>\n",
              "      <th>28</th>\n",
              "      <td>[Entries, with, a, Sepal, Length, of, exactly,...</td>\n",
              "    </tr>\n",
              "    <tr>\n",
              "      <th>29</th>\n",
              "      <td>[Display, the, top, 5, Species, by, Sepal, Width]</td>\n",
              "    </tr>\n",
              "    <tr>\n",
              "      <th>30</th>\n",
              "      <td>[Find, the, 3, smallest, Petal, Lengths]</td>\n",
              "    </tr>\n",
              "    <tr>\n",
              "      <th>31</th>\n",
              "      <td>[Count, occurrences, where, Petal, Length, is,...</td>\n",
              "    </tr>\n",
              "    <tr>\n",
              "      <th>32</th>\n",
              "      <td>[Aggregate, data, by, the, month, of, observat...</td>\n",
              "    </tr>\n",
              "    <tr>\n",
              "      <th>33</th>\n",
              "      <td>[Filter, records, from, last, year, (, assumin...</td>\n",
              "    </tr>\n",
              "    <tr>\n",
              "      <th>34</th>\n",
              "      <td>[Show, only, the, data, starting, from, Januar...</td>\n",
              "    </tr>\n",
              "    <tr>\n",
              "      <th>35</th>\n",
              "      <td>[Find, the, average, Sepal, Length, for, each,...</td>\n",
              "    </tr>\n",
              "    <tr>\n",
              "      <th>36</th>\n",
              "      <td>[Count, how, many, Species, start, with, ', C, ']</td>\n",
              "    </tr>\n",
              "    <tr>\n",
              "      <th>37</th>\n",
              "      <td>[Entries, with, Petal, Length, and, Sepal, Len...</td>\n",
              "    </tr>\n",
              "    <tr>\n",
              "      <th>38</th>\n",
              "      <td>[List, Species, with, Petal, Width, in, the, t...</td>\n",
              "    </tr>\n",
              "    <tr>\n",
              "      <th>39</th>\n",
              "      <td>[Total, Sepal, Length, for, all, Iris, flowers]</td>\n",
              "    </tr>\n",
              "    <tr>\n",
              "      <th>40</th>\n",
              "      <td>[Average, Petal, Width, across, all, species]</td>\n",
              "    </tr>\n",
              "    <tr>\n",
              "      <th>41</th>\n",
              "      <td>[Median, Sepal, Width, for, Iris, setosa]</td>\n",
              "    </tr>\n",
              "    <tr>\n",
              "      <th>42</th>\n",
              "      <td>[Count, of, Iris, versicolor, flowers]</td>\n",
              "    </tr>\n",
              "    <tr>\n",
              "      <th>43</th>\n",
              "      <td>[Distinct, count, of, species, with, Sepal, Le...</td>\n",
              "    </tr>\n",
              "    <tr>\n",
              "      <th>44</th>\n",
              "      <td>[Minimum, Petal, Length, for, Iris, virginica]</td>\n",
              "    </tr>\n",
              "    <tr>\n",
              "      <th>45</th>\n",
              "      <td>[Maximum, Sepal, Width, across, Iris, setosa]</td>\n",
              "    </tr>\n",
              "    <tr>\n",
              "      <th>46</th>\n",
              "      <td>[Total, number, of, records, grouped, by, Spec...</td>\n",
              "    </tr>\n",
              "    <tr>\n",
              "      <th>47</th>\n",
              "      <td>[Filter, to, show, only, Iris, versicolor, wit...</td>\n",
              "    </tr>\n",
              "    <tr>\n",
              "      <th>48</th>\n",
              "      <td>[Show, top, 5, Sepal, Lengths, within, Iris, v...</td>\n",
              "    </tr>\n",
              "    <tr>\n",
              "      <th>49</th>\n",
              "      <td>[Iris, flowers, with, Petal, Width, in, the, b...</td>\n",
              "    </tr>\n",
              "    <tr>\n",
              "      <th>50</th>\n",
              "      <td>[Average, Sepal, Length, for, each, species]</td>\n",
              "    </tr>\n",
              "    <tr>\n",
              "      <th>51</th>\n",
              "      <td>[Entries, with, Petal, Length, between, 4, ., ...</td>\n",
              "    </tr>\n",
              "    <tr>\n",
              "      <th>52</th>\n",
              "      <td>[Count, Iris, flowers, where, the, Species, na...</td>\n",
              "    </tr>\n",
              "    <tr>\n",
              "      <th>53</th>\n",
              "      <td>[List, all, Iris, flowers, where, the, Species...</td>\n",
              "    </tr>\n",
              "  </tbody>\n",
              "</table>\n",
              "</div>\n",
              "    <div class=\"colab-df-buttons\">\n",
              "\n",
              "  <div class=\"colab-df-container\">\n",
              "    <button class=\"colab-df-convert\" onclick=\"convertToInteractive('df-8405c5bf-8604-4e83-ae14-dd0d4660418f')\"\n",
              "            title=\"Convert this dataframe to an interactive table.\"\n",
              "            style=\"display:none;\">\n",
              "\n",
              "  <svg xmlns=\"http://www.w3.org/2000/svg\" height=\"24px\" viewBox=\"0 -960 960 960\">\n",
              "    <path d=\"M120-120v-720h720v720H120Zm60-500h600v-160H180v160Zm220 220h160v-160H400v160Zm0 220h160v-160H400v160ZM180-400h160v-160H180v160Zm440 0h160v-160H620v160ZM180-180h160v-160H180v160Zm440 0h160v-160H620v160Z\"/>\n",
              "  </svg>\n",
              "    </button>\n",
              "\n",
              "  <style>\n",
              "    .colab-df-container {\n",
              "      display:flex;\n",
              "      gap: 12px;\n",
              "    }\n",
              "\n",
              "    .colab-df-convert {\n",
              "      background-color: #E8F0FE;\n",
              "      border: none;\n",
              "      border-radius: 50%;\n",
              "      cursor: pointer;\n",
              "      display: none;\n",
              "      fill: #1967D2;\n",
              "      height: 32px;\n",
              "      padding: 0 0 0 0;\n",
              "      width: 32px;\n",
              "    }\n",
              "\n",
              "    .colab-df-convert:hover {\n",
              "      background-color: #E2EBFA;\n",
              "      box-shadow: 0px 1px 2px rgba(60, 64, 67, 0.3), 0px 1px 3px 1px rgba(60, 64, 67, 0.15);\n",
              "      fill: #174EA6;\n",
              "    }\n",
              "\n",
              "    .colab-df-buttons div {\n",
              "      margin-bottom: 4px;\n",
              "    }\n",
              "\n",
              "    [theme=dark] .colab-df-convert {\n",
              "      background-color: #3B4455;\n",
              "      fill: #D2E3FC;\n",
              "    }\n",
              "\n",
              "    [theme=dark] .colab-df-convert:hover {\n",
              "      background-color: #434B5C;\n",
              "      box-shadow: 0px 1px 3px 1px rgba(0, 0, 0, 0.15);\n",
              "      filter: drop-shadow(0px 1px 2px rgba(0, 0, 0, 0.3));\n",
              "      fill: #FFFFFF;\n",
              "    }\n",
              "  </style>\n",
              "\n",
              "    <script>\n",
              "      const buttonEl =\n",
              "        document.querySelector('#df-8405c5bf-8604-4e83-ae14-dd0d4660418f button.colab-df-convert');\n",
              "      buttonEl.style.display =\n",
              "        google.colab.kernel.accessAllowed ? 'block' : 'none';\n",
              "\n",
              "      async function convertToInteractive(key) {\n",
              "        const element = document.querySelector('#df-8405c5bf-8604-4e83-ae14-dd0d4660418f');\n",
              "        const dataTable =\n",
              "          await google.colab.kernel.invokeFunction('convertToInteractive',\n",
              "                                                    [key], {});\n",
              "        if (!dataTable) return;\n",
              "\n",
              "        const docLinkHtml = 'Like what you see? Visit the ' +\n",
              "          '<a target=\"_blank\" href=https://colab.research.google.com/notebooks/data_table.ipynb>data table notebook</a>'\n",
              "          + ' to learn more about interactive tables.';\n",
              "        element.innerHTML = '';\n",
              "        dataTable['output_type'] = 'display_data';\n",
              "        await google.colab.output.renderOutput(dataTable, element);\n",
              "        const docLink = document.createElement('div');\n",
              "        docLink.innerHTML = docLinkHtml;\n",
              "        element.appendChild(docLink);\n",
              "      }\n",
              "    </script>\n",
              "  </div>\n",
              "\n",
              "\n",
              "<div id=\"df-a96c7979-c90f-4f2c-b181-e60b3674a155\">\n",
              "  <button class=\"colab-df-quickchart\" onclick=\"quickchart('df-a96c7979-c90f-4f2c-b181-e60b3674a155')\"\n",
              "            title=\"Suggest charts\"\n",
              "            style=\"display:none;\">\n",
              "\n",
              "<svg xmlns=\"http://www.w3.org/2000/svg\" height=\"24px\"viewBox=\"0 0 24 24\"\n",
              "     width=\"24px\">\n",
              "    <g>\n",
              "        <path d=\"M19 3H5c-1.1 0-2 .9-2 2v14c0 1.1.9 2 2 2h14c1.1 0 2-.9 2-2V5c0-1.1-.9-2-2-2zM9 17H7v-7h2v7zm4 0h-2V7h2v10zm4 0h-2v-4h2v4z\"/>\n",
              "    </g>\n",
              "</svg>\n",
              "  </button>\n",
              "\n",
              "<style>\n",
              "  .colab-df-quickchart {\n",
              "      --bg-color: #E8F0FE;\n",
              "      --fill-color: #1967D2;\n",
              "      --hover-bg-color: #E2EBFA;\n",
              "      --hover-fill-color: #174EA6;\n",
              "      --disabled-fill-color: #AAA;\n",
              "      --disabled-bg-color: #DDD;\n",
              "  }\n",
              "\n",
              "  [theme=dark] .colab-df-quickchart {\n",
              "      --bg-color: #3B4455;\n",
              "      --fill-color: #D2E3FC;\n",
              "      --hover-bg-color: #434B5C;\n",
              "      --hover-fill-color: #FFFFFF;\n",
              "      --disabled-bg-color: #3B4455;\n",
              "      --disabled-fill-color: #666;\n",
              "  }\n",
              "\n",
              "  .colab-df-quickchart {\n",
              "    background-color: var(--bg-color);\n",
              "    border: none;\n",
              "    border-radius: 50%;\n",
              "    cursor: pointer;\n",
              "    display: none;\n",
              "    fill: var(--fill-color);\n",
              "    height: 32px;\n",
              "    padding: 0;\n",
              "    width: 32px;\n",
              "  }\n",
              "\n",
              "  .colab-df-quickchart:hover {\n",
              "    background-color: var(--hover-bg-color);\n",
              "    box-shadow: 0 1px 2px rgba(60, 64, 67, 0.3), 0 1px 3px 1px rgba(60, 64, 67, 0.15);\n",
              "    fill: var(--button-hover-fill-color);\n",
              "  }\n",
              "\n",
              "  .colab-df-quickchart-complete:disabled,\n",
              "  .colab-df-quickchart-complete:disabled:hover {\n",
              "    background-color: var(--disabled-bg-color);\n",
              "    fill: var(--disabled-fill-color);\n",
              "    box-shadow: none;\n",
              "  }\n",
              "\n",
              "  .colab-df-spinner {\n",
              "    border: 2px solid var(--fill-color);\n",
              "    border-color: transparent;\n",
              "    border-bottom-color: var(--fill-color);\n",
              "    animation:\n",
              "      spin 1s steps(1) infinite;\n",
              "  }\n",
              "\n",
              "  @keyframes spin {\n",
              "    0% {\n",
              "      border-color: transparent;\n",
              "      border-bottom-color: var(--fill-color);\n",
              "      border-left-color: var(--fill-color);\n",
              "    }\n",
              "    20% {\n",
              "      border-color: transparent;\n",
              "      border-left-color: var(--fill-color);\n",
              "      border-top-color: var(--fill-color);\n",
              "    }\n",
              "    30% {\n",
              "      border-color: transparent;\n",
              "      border-left-color: var(--fill-color);\n",
              "      border-top-color: var(--fill-color);\n",
              "      border-right-color: var(--fill-color);\n",
              "    }\n",
              "    40% {\n",
              "      border-color: transparent;\n",
              "      border-right-color: var(--fill-color);\n",
              "      border-top-color: var(--fill-color);\n",
              "    }\n",
              "    60% {\n",
              "      border-color: transparent;\n",
              "      border-right-color: var(--fill-color);\n",
              "    }\n",
              "    80% {\n",
              "      border-color: transparent;\n",
              "      border-right-color: var(--fill-color);\n",
              "      border-bottom-color: var(--fill-color);\n",
              "    }\n",
              "    90% {\n",
              "      border-color: transparent;\n",
              "      border-bottom-color: var(--fill-color);\n",
              "    }\n",
              "  }\n",
              "</style>\n",
              "\n",
              "  <script>\n",
              "    async function quickchart(key) {\n",
              "      const quickchartButtonEl =\n",
              "        document.querySelector('#' + key + ' button');\n",
              "      quickchartButtonEl.disabled = true;  // To prevent multiple clicks.\n",
              "      quickchartButtonEl.classList.add('colab-df-spinner');\n",
              "      try {\n",
              "        const charts = await google.colab.kernel.invokeFunction(\n",
              "            'suggestCharts', [key], {});\n",
              "      } catch (error) {\n",
              "        console.error('Error during call to suggestCharts:', error);\n",
              "      }\n",
              "      quickchartButtonEl.classList.remove('colab-df-spinner');\n",
              "      quickchartButtonEl.classList.add('colab-df-quickchart-complete');\n",
              "    }\n",
              "    (() => {\n",
              "      let quickchartButtonEl =\n",
              "        document.querySelector('#df-a96c7979-c90f-4f2c-b181-e60b3674a155 button');\n",
              "      quickchartButtonEl.style.display =\n",
              "        google.colab.kernel.accessAllowed ? 'block' : 'none';\n",
              "    })();\n",
              "  </script>\n",
              "</div>\n",
              "    </div>\n",
              "  </div>\n"
            ],
            "application/vnd.google.colaboratory.intrinsic+json": {
              "type": "dataframe",
              "summary": "{\n  \"name\": \"dg_tok\",\n  \"rows\": 54,\n  \"fields\": [\n    {\n      \"column\": \"Tokenized Description\",\n      \"properties\": {\n        \"dtype\": \"object\",\n        \"semantic_type\": \"\",\n        \"description\": \"\"\n      }\n    }\n  ]\n}"
            }
          },
          "metadata": {},
          "execution_count": 36
        }
      ]
    },
    {
      "cell_type": "markdown",
      "source": [
        "Adding columns to dg_tok of Formulas and Symbols in separated way"
      ],
      "metadata": {
        "id": "UQlk0IaCEsJy"
      }
    },
    {
      "cell_type": "code",
      "source": [
        "dg_tok[\"Tokenized Formula (Tableau)\"]=dg_formulas_text"
      ],
      "metadata": {
        "id": "aG6yDi7dE449"
      },
      "execution_count": 37,
      "outputs": []
    },
    {
      "cell_type": "code",
      "source": [
        "dg_tok[\"Tokenized Symbols (Tableau)\"]=dg_formulas_sym"
      ],
      "metadata": {
        "id": "CZHfOu55IJ7P"
      },
      "execution_count": 38,
      "outputs": []
    },
    {
      "cell_type": "code",
      "source": [
        "print(dg_tok.head(10))"
      ],
      "metadata": {
        "id": "783qHvjyIjt9",
        "colab": {
          "base_uri": "https://localhost:8080/"
        },
        "outputId": "dcd29aac-5df0-481d-803f-a0ab4a62baca"
      },
      "execution_count": 39,
      "outputs": [
        {
          "output_type": "stream",
          "name": "stdout",
          "text": [
            "                               Tokenized Description  \\\n",
            "0                           [Sum, of, Sepal, Length]   \n",
            "1      [Average, Sepal, Width, across, all, entries]   \n",
            "2                 [Find, the, median, Petal, Length]   \n",
            "3  [Count, the, number, of, records, in, the, dat...   \n",
            "4       [Count, distinct, species, in, the, dataset]   \n",
            "5                [Minimum, value, of, Sepal, Length]   \n",
            "6   [Maximum, Petal, Width, found, in, the, dataset]   \n",
            "7                      [Group, records, by, Species]   \n",
            "8  [Sort, the, entries, by, Sepal, Length, in, as...   \n",
            "9                    [List, Species, alphabetically]   \n",
            "\n",
            "       Tokenized Formula (Tableau) Tokenized Symbols (Tableau)  \n",
            "0             [SUM, Sepal, Length]                      [(, )]  \n",
            "1              [AVG, Sepal, Width]                      [(, )]  \n",
            "2          [MEDIAN, Petal, Length]                      [(, )]  \n",
            "3                          [COUNT]                       [(*)]  \n",
            "4       [COUNT, DISTINCT, Species]                      [(, )]  \n",
            "5             [MIN, Sepal, Length]                      [(, )]  \n",
            "6              [MAX, Petal, Width]                      [(, )]  \n",
            "7             [GROUP, BY, Species]                      [(, )]  \n",
            "8  [ORDER, BY, Sepal, Length, ASC]                      [(, )]  \n",
            "9        [ORDER, BY, Species, ASC]                      [(, )]  \n"
          ]
        }
      ]
    },
    {
      "cell_type": "markdown",
      "source": [
        "# Recognition of entities"
      ],
      "metadata": {
        "id": "o9csevIdMITD"
      }
    },
    {
      "cell_type": "code",
      "source": [
        "def get_pos_(data,col_name):\n",
        "  dd=[]\n",
        "  gg=[]\n",
        "  for tok in data[col_name]:\n",
        "\n",
        "          for ent in nlp(str(list(str(tok).split()))):\n",
        "              # checking text between punct\n",
        "              dd.append({ent.text:ent.pos_})\n",
        "              gg.append({ent.pos_:ent.text})\n",
        "  return dd,gg"
      ],
      "metadata": {
        "id": "_DrUfeymSGGA"
      },
      "execution_count": 40,
      "outputs": []
    },
    {
      "cell_type": "code",
      "source": [
        "def get_patterns(data,col_name):\n",
        "     dt,dp=get_pos_(data,col_name)\n",
        "\n",
        "     pos_=[list(item.keys())[0] for item in dp]\n",
        "     pos_=list(set(pos_))\n",
        "     print(dt)\n",
        "     print(col_name,\":\",pos_)\n",
        "     patterns={}\n",
        "     for key in pos_:\n",
        "         patterns.update({key:list(set([d[key] for d in dp if  key==list(d.keys())[0]]))})\n",
        "     return patterns"
      ],
      "metadata": {
        "id": "egSnDiSWCtiv"
      },
      "execution_count": 41,
      "outputs": []
    },
    {
      "cell_type": "code",
      "source": [
        "dg_ent={}"
      ],
      "metadata": {
        "id": "UvGBuLNlOmE_"
      },
      "execution_count": 42,
      "outputs": []
    },
    {
      "cell_type": "code",
      "source": [
        "p_t=dg_ent['Patterns_Description']=get_patterns(description,\"vocab\")"
      ],
      "metadata": {
        "id": "RaB4-392PdwM",
        "colab": {
          "base_uri": "https://localhost:8080/"
        },
        "outputId": "869836f3-1d53-4a6a-d5c0-7ce7a12e209e"
      },
      "execution_count": 43,
      "outputs": [
        {
          "output_type": "stream",
          "name": "stdout",
          "text": [
            "[{'[': 'X'}, {\"'\": 'X'}, {'versicolor': 'NOUN'}, {\"'\": 'PUNCT'}, {']': 'PUNCT'}, {'[': 'X'}, {\"'\": 'PUNCT'}, {'Maximum': 'PROPN'}, {\"'\": 'PUNCT'}, {']': 'PUNCT'}, {'[': 'X'}, {\"'\": 'PUNCT'}, {'from': 'ADP'}, {\"'\": 'PUNCT'}, {']': 'PUNCT'}, {'[': 'X'}, {\"'\": 'PUNCT'}, {'bottom': 'ADJ'}, {\"'\": 'PUNCT'}, {']': 'PUNCT'}, {'[': 'X'}, {\"'\": 'PUNCT'}, {'ends': 'VERB'}, {\"'\": 'PUNCT'}, {']': 'PUNCT'}, {'[': 'X'}, {\"'\": 'PUNCT'}, {'Calculate': 'ADJ'}, {\"'\": 'PUNCT'}, {']': 'PUNCT'}, {'[': 'X'}, {\"'\": 'PUNCT'}, {'List': 'NOUN'}, {\"'\": 'PUNCT'}, {']': 'PUNCT'}, {'[': 'X'}, {\"'\": 'NOUN'}, {'1': 'NUM'}, {\"'\": 'NUM'}, {']': 'PUNCT'}, {'[': 'X'}, {\"'\": 'NUM'}, {'10': 'NUM'}, {\"'\": 'PUNCT'}, {']': 'PUNCT'}, {'[': 'X'}, {\"'\": 'PUNCT'}, {'Lowest': 'ADJ'}, {\"'\": 'PUNCT'}, {']': 'PUNCT'}, {'[': 'X'}, {\"'\": 'X'}, {'Lengths': 'NOUN'}, {\"'\": 'PUNCT'}, {']': 'PUNCT'}, {'[': 'X'}, {\"'\": 'PUNCT'}, {'in': 'ADP'}, {\"'\": 'NOUN'}, {']': 'PUNCT'}, {'[': 'X'}, {\"'\": 'PUNCT'}, {'or': 'CCONJ'}, {\"'\": 'PUNCT'}, {']': 'PUNCT'}, {'[': 'X'}, {\"'\": 'NOUN'}, {'virginica': 'X'}, {\"'\": 'PUNCT'}, {']': 'PUNCT'}, {'[': 'X'}, {\"'\": 'PUNCT'}, {'total': 'ADJ'}, {\"'\": 'PUNCT'}, {']': 'PUNCT'}, {'[': 'X'}, {\"'\": 'PUNCT'}, {'setosa': 'X'}, {\"'\": 'PUNCT'}, {']': 'PUNCT'}, {'[': 'X'}, {\"'\": 'PUNCT'}, {'observation': 'NOUN'}, {\"'\": 'PUNCT'}, {']': 'PUNCT'}, {'[': 'X'}, {\"'\": 'PUNCT'}, {'smallest': 'ADJ'}, {\"'\": 'PUNCT'}, {']': 'PUNCT'}, {'[': 'X'}, {\"'\": 'PUNCT'}, {'least': 'ADJ'}, {\"'\": 'PUNCT'}, {']': 'PUNCT'}, {'[': 'X'}, {\"'\": 'VERB'}, {'not': 'PART'}, {\"'\": 'PUNCT'}, {']': 'PUNCT'}, {'[': 'X'}, {\"'\": 'PUNCT'}, {'is': 'AUX'}, {\"'\": 'PUNCT'}, {']': 'PUNCT'}, {'[': 'X'}, {\"'\": 'PUNCT'}, {'Median': 'PROPN'}, {\"'\": 'PUNCT'}, {']': 'PUNCT'}, {'[': 'X'}, {\"'\": 'X'}, {'Number': 'NOUN'}, {\"'\": 'PUNCT'}, {']': 'PUNCT'}, {'[': 'X'}, {\"'\": 'X'}, {'%': 'INTJ'}, {\"'\": 'PUNCT'}, {']': 'PUNCT'}, {'[': 'X'}, {\"'\": 'PUNCT'}, {'year': 'NOUN'}, {\"'\": 'PUNCT'}, {']': 'PUNCT'}, {'[': 'X'}, {\"'\": 'PUNCT'}, {'by': 'ADP'}, {\"'\": 'PUNCT'}, {']': 'PUNCT'}, {'[': 'X'}, {\"'\": 'NOUN'}, {'points': 'NOUN'}, {\"'\": 'PUNCT'}, {']': 'PUNCT'}, {'[': 'X'}, {\"'\": 'PUNCT'}, {'greater': 'ADJ'}, {\"'\": 'PUNCT'}, {']': 'PUNCT'}, {'[': 'X'}, {\"'\": 'NOUN'}, {'types': 'NOUN'}, {\"'\": 'PUNCT'}, {']': 'PUNCT'}, {'[': 'X'}, {\"'\": 'PUNCT'}, {'median': 'X'}, {\"'\": 'PUNCT'}, {']': 'PUNCT'}, {'[': 'X'}, {\"'\": 'PUNCT'}, {'alphabetically': 'ADV'}, {\"'\": 'VERB'}, {']': 'PUNCT'}, {'[': 'X'}, {\"'\": 'NOUN'}, {'records': 'NOUN'}, {\"'\": 'PUNCT'}, {']': 'PUNCT'}, {'[': 'X'}, {\"'\": 'PUNCT'}, {'order': 'NOUN'}, {\"'\": 'PUNCT'}, {']': 'PUNCT'}, {'[': 'X'}, {\"'\": 'X'}, {'Rank': 'PROPN'}, {\"'\": 'PUNCT'}, {']': 'PUNCT'}, {'[': 'X'}, {\"'\": 'X'}, {'10th': 'X'}, {\"'\": 'PUNCT'}, {']': 'PUNCT'}, {'[': 'X'}, {\"'\": 'PUNCT'}, {'field': 'NOUN'}, {\"'\": 'PUNCT'}, {']': 'PUNCT'}, {'[': 'X'}, {\"'\": 'PUNCT'}, {'high': 'ADJ'}, {\"'\": 'PUNCT'}, {']': 'PUNCT'}, {'[': 'X'}, {\"'\": 'PUNCT'}, {'and': 'CCONJ'}, {\"'\": 'PUNCT'}, {']': 'PUNCT'}, {'[': 'X'}, {\"'\": 'X'}, {'January': 'PROPN'}, {\"'\": 'PUNCT'}, {']': 'PUNCT'}, {'[': 'X'}, {\"'\": 'X'}, {'How': 'SCONJ'}, {\"'\": 'PUNCT'}, {']': 'PUNCT'}, {'[': 'X'}, {\"'\": 'X'}, {'Iris': 'PROPN'}, {\"'\": 'PUNCT'}, {']': 'PUNCT'}, {'[': 'X'}, {\"'\": 'PUNCT'}, {'Group': 'PROPN'}, {\"'\": 'PUNCT'}, {']': 'PUNCT'}, {'[': 'X'}, {\"'\": 'PUNCT'}, {'with': 'ADP'}, {\"'\": 'PUNCT'}, {']': 'PUNCT'}, {'[': 'X'}, {\"'\": 'PUNCT'}, {'assuming': 'VERB'}, {\"'\": 'PUNCT'}, {']': 'PUNCT'}, {'[': 'X'}, {\"'\": 'PUNCT'}, {'Highest': 'ADJ'}, {\"'\": 'PUNCT'}, {']': 'PUNCT'}, {'[': 'X'}, {\"'\": 'PUNCT'}, {'only': 'ADV'}, {\"'\": 'PUNCT'}, {']': 'PUNCT'}, {'[': 'X'}, {\"'\": 'PUNCT'}, {'average': 'ADJ'}, {\"'\": 'PUNCT'}, {']': 'PUNCT'}, {'[': 'X'}, {\"'\": 'PUNCT'}, {'Count': 'PROPN'}, {\"'\": 'PUNCT'}, {']': 'PUNCT'}, {'[': 'X'}, {\"'\": 'X'}, {'Filter': 'PROPN'}, {\"'\": 'PUNCT'}, {']': 'PUNCT'}, {'[': 'X'}, {\"'\": 'NOUN'}, {'value': 'NOUN'}, {\"'\": 'PUNCT'}, {']': 'PUNCT'}, {'[': 'X'}, {\"'\": 'NUM'}, {'3': 'NUM'}, {\"'\": 'PUNCT'}, {']': 'PUNCT'}, {'[': 'X'}, {\"'\": 'PUNCT'}, {'start': 'VERB'}, {\"'\": 'PUNCT'}, {']': 'PUNCT'}, {'[': 'X'}, {\"'\": 'PUNCT'}, {'low': 'ADJ'}, {\"'\": 'PUNCT'}, {']': 'PUNCT'}, {'[': 'X'}, {\"'\": 'PUNCT'}, {'starts': 'VERB'}, {\"'\": 'PUNCT'}, {']': 'PUNCT'}, {'[': 'X'}, {\"'\": 'X'}, {'Entries': 'NOUN'}, {\"'\": 'PUNCT'}, {']': 'PUNCT'}, {'[': 'X'}, {\"'\": 'PUNCT'}, {'exactly': 'ADV'}, {\"'\": 'PUNCT'}, {']': 'PUNCT'}, {'[': 'X'}, {\"'\": 'PUNCT'}, {'all': 'PRON'}, {\"'\": 'NOUN'}, {']': 'PUNCT'}, {'[': 'X'}, {\"'\": 'PUNCT'}, {'many': 'ADJ'}, {\"'\": 'PUNCT'}, {']': 'PUNCT'}, {'[': 'X'}, {\"'\": 'PUNCT'}, {'descending': 'VERB'}, {\"'\": 'NOUN'}, {']': 'PUNCT'}, {'[': 'X'}, {\"'\": 'PUNCT'}, {'name': 'NOUN'}, {\"'\": 'PUNCT'}, {']': 'PUNCT'}, {'[': 'X'}, {\"'\": 'PUNCT'}, {'distinct': 'ADJ'}, {\"'\": 'PUNCT'}, {']': 'PUNCT'}, {'[': 'X'}, {\"'\": 'PUNCT'}, {'species': 'NOUN'}, {\"'\": 'PUNCT'}, {']': 'PUNCT'}, {'[': 'X'}, {\"'\": 'PUNCT'}, {'ascending': 'VERB'}, {\"'\": 'PUNCT'}, {']': 'PUNCT'}, {'[': 'X'}, {\"'\": 'NOUN'}, {'occurrences': 'NOUN'}, {\"'\": 'PUNCT'}, {']': 'PUNCT'}, {'[': 'X'}, {\"'\": 'NOUN'}, {'flowers': 'NOUN'}, {\"'\": 'VERB'}, {']': 'PUNCT'}, {'[': 'X'}, {\"'\": 'PUNCT'}, {'each': 'PRON'}, {\"'\": 'PUNCT'}, {']': 'PUNCT'}, {'[': 'X'}, {\"'\": 'PUNCT'}, {'within': 'ADP'}, {\"'\": 'PUNCT'}, {']': 'PUNCT'}, {'[': 'X'}, {\"'\": 'PUNCT'}, {'highest': 'ADJ'}, {\"'\": 'PUNCT'}, {']': 'PUNCT'}, {'[': 'X'}, {\"'\": 'PUNCT'}, {'Setosa': 'PROPN'}, {\"'\": 'PUNCT'}, {']': 'PUNCT'}, {'[': 'X'}, {\"'\": 'PUNCT'}, {'flower': 'NOUN'}, {\"'\": 'PUNCT'}, {']': 'PUNCT'}, {'[': 'X'}, {\"'\": 'NUM'}, {'4': 'NUM'}, {\"'\": 'PUNCT'}, {']': 'PUNCT'}, {'[': 'X'}, {\"'\": 'PUNCT'}, {'unique': 'ADJ'}, {\"'\": 'PUNCT'}, {']': 'PUNCT'}, {'[': 'X'}, {\"'\": 'PUNCT'}, {'grouped': 'VERB'}, {\"'\": 'PUNCT'}, {']': 'PUNCT'}, {'[': 'X'}, {\"'\": 'PUNCT'}, {'Find': 'VERB'}, {\"'\": 'PUNCT'}, {']': 'PUNCT'}, {'[': 'X'}, {\"'\": 'PUNCT'}, {'middle': 'ADJ'}, {\"'\": 'PUNCT'}, {']': 'PUNCT'}, {'[': 'X'}, {\"'\": 'PUNCT'}, {'equal': 'ADJ'}, {\"'\": 'PUNCT'}, {']': 'PUNCT'}, {'[': 'X'}, {\"'\": 'PUNCT'}, {'percentile': 'ADJ'}, {\"'\": 'PUNCT'}, {']': 'PUNCT'}, {'[': 'X'}, {\"'\": 'PUNCT'}, {'to': 'PART'}, {\"'\": 'PUNCT'}, {']': 'PUNCT'}, {'[': 'X'}, {\"'\": 'VERB'}, {'where': 'SCONJ'}, {\"'\": 'PUNCT'}, {']': 'PUNCT'}, {'[': 'X'}, {\"'\": 'PUNCT'}, {'found': 'VERB'}, {\"'\": 'PUNCT'}, {']': 'PUNCT'}, {'[': 'X'}, {\"'\": 'NUM'}, {'5': 'NUM'}, {\"'\": 'PUNCT'}, {']': 'PUNCT'}, {'[': 'X'}, {\"'\": 'PUNCT'}, {'Average': 'ADJ'}, {\"'\": 'PUNCT'}, {']': 'PUNCT'}, {'[': 'X'}, {\"'\": 'PUNCT'}, {'Select': 'ADJ'}, {\"'\": 'PUNCT'}, {']': 'PUNCT'}, {'[': 'X'}, {\"'\": 'PUNCT'}, {'show': 'VERB'}, {\"'\": 'PUNCT'}, {']': 'PUNCT'}, {'[': 'X'}, {\"'\": 'PUNCT'}, {'top': 'ADJ'}, {\"'\": 'PUNCT'}, {']': 'PUNCT'}, {'[': 'X'}, {\"'\": 'NOUN'}, {'entries': 'NOUN'}, {\"'\": 'PUNCT'}, {']': 'PUNCT'}, {'[': 'X'}, {\"'\": 'PUNCT'}, {'recorded': 'VERB'}, {\"'\": 'PUNCT'}, {']': 'PUNCT'}, {'[': 'X'}, {\"'\": 'PUNCT'}, {'What': 'PRON'}, {\"'\": 'VERB'}, {']': 'PUNCT'}, {'[': 'X'}, {\"'\": 'PUNCT'}, {'Minimum': 'PROPN'}, {\"'\": 'PUNCT'}, {']': 'PUNCT'}, {'[': 'X'}, {\"'\": 'PUNCT'}, {'last': 'ADJ'}, {\"'\": 'PUNCT'}, {']': 'PUNCT'}, {'[': 'X'}, {\"'\": 'PUNCT'}, {'both': 'PRON'}, {\"'\": 'VERB'}, {']': 'PUNCT'}, {'[': 'X'}, {\"'\": 'PUNCT'}, {'above': 'ADP'}, {\"'\": 'PUNCT'}, {']': 'PUNCT'}, {'[': 'X'}, {\"'\": 'NOUN'}, {'number': 'NOUN'}, {\"'\": 'PUNCT'}, {']': 'PUNCT'}, {'[': 'X'}, {\"'\": 'PUNCT'}, {'less': 'ADJ'}, {\"'\": 'PUNCT'}, {']': 'PUNCT'}, {'[': 'X'}, {\"'\": 'NOUN'}, {'Sum': 'NOUN'}, {\"'\": 'PUNCT'}, {']': 'PUNCT'}, {'[': 'X'}, {\"'\": 'PUNCT'}, {'dataset': 'ADJ'}, {\"'\": 'PUNCT'}, {']': 'PUNCT'}, {'[': 'X'}, {\"'\": 'PUNCT'}, {'over': 'ADP'}, {\"'\": 'PUNCT'}, {']': 'PUNCT'}, {'[': 'X'}, {\"'\": 'PUNCT'}, {'at': 'ADP'}, {\"'\": 'PUNCT'}, {']': 'PUNCT'}, {'[': 'X'}, {\"'\": 'PUNCT'}, {'Aggregate': 'VERB'}, {\"'\": 'PUNCT'}, {']': 'PUNCT'}, {'[': 'X'}, {\"'\": 'PUNCT'}, {'for': 'ADP'}, {\"'\": 'PUNCT'}, {']': 'PUNCT'}, {'[': 'X'}, {\"'\": 'VERB'}, {'of': 'ADP'}, {\"'\": 'PUNCT'}, {']': 'PUNCT'}, {'[': 'X'}, {\"'\": 'PUNCT'}, {'Species': 'NOUN'}, {\"'\": 'PUNCT'}, {']': 'PUNCT'}, {'[': 'X'}, {\"'\": 'NOUN'}, {'how': 'SCONJ'}, {\"'\": 'PUNCT'}, {']': 'PUNCT'}, {'[': 'X'}, {\"'\": 'PUNCT'}, {'contains': 'VERB'}, {\"'\": 'PUNCT'}, {']': 'PUNCT'}, {'[': 'X'}, {\"'\": 'VERB'}, {'starting': 'VERB'}, {\"'\": 'PUNCT'}, {']': 'PUNCT'}, {'[': 'X'}, {\"'\": 'PUNCT'}, {'than': 'ADP'}, {\"'\": 'NOUN'}, {']': 'PUNCT'}, {'[': 'X'}, {\"'\": 'PROPN'}, {'Total': 'ADJ'}, {\"'\": 'PUNCT'}, {']': 'PUNCT'}, {'[': 'X'}, {\"'\": 'PUNCT'}, {'Show': 'VERB'}, {\"'\": 'PUNCT'}, {']': 'PUNCT'}, {'[': 'X'}, {\"'\": 'NUM'}, {'2': 'NUM'}, {\"'\": 'PUNCT'}, {']': 'PUNCT'}, {'[': 'X'}, {\"'\": 'VERB'}, {'are': 'AUX'}, {\"'\": 'PUNCT'}, {']': 'PUNCT'}, {'[': 'X'}, {\"'\": 'NUM'}, {'0': 'NUM'}, {\"'\": 'PUNCT'}, {']': 'PUNCT'}, {'[': 'X'}, {\"'\": 'PUNCT'}, {'this': 'PRON'}, {\"'\": 'PUNCT'}, {']': 'PUNCT'}, {'[': 'X'}, {\"'\": 'X'}, {'Widths': 'NOUN'}, {\"'\": 'PUNCT'}, {']': 'PUNCT'}, {'[': 'X'}, {\"'\": 'PUNCT'}, {'color': 'NOUN'}, {\"'\": 'PUNCT'}, {']': 'PUNCT'}, {'[': 'X'}, {\"'\": 'PUNCT'}, {'Date': 'PROPN'}, {\"'\": 'PUNCT'}, {']': 'PUNCT'}, {'[': 'X'}, {\"'\": 'NOUN'}, {'month': 'NOUN'}, {\"'\": 'PUNCT'}, {']': 'PUNCT'}, {'[': 'X'}, {\"'\": 'PUNCT'}, {'sorted': 'VERB'}, {\"'\": 'PUNCT'}, {']': 'PUNCT'}, {'[': 'X'}, {\"'\": 'PUNCT'}, {'between': 'ADP'}, {\"'\": 'PUNCT'}, {']': 'PUNCT'}, {'[': 'X'}, {\"'\": 'PUNCT'}, {'Display': 'VERB'}, {\"'\": 'PUNCT'}, {']': 'PUNCT'}, {'[': 'X'}, {\"'\": 'PUNCT'}, {'there': 'PRON'}, {\"'\": 'NOUN'}, {']': 'PUNCT'}, {'[': 'X'}, {\"'\": 'PUNCT'}, {'Organize': 'VERB'}, {\"'\": 'PUNCT'}, {']': 'PUNCT'}, {'[': 'X'}, {\"'\": 'PUNCT'}, {'?': 'PUNCT'}, {\"'\": 'PUNCT'}, {']': 'PUNCT'}, {'[': 'X'}, {\"'\": 'PUNCT'}, {'Top': 'ADJ'}, {\"'\": 'PUNCT'}, {']': 'PUNCT'}, {'[': 'X'}, {\"'\": 'PROPN'}, {'Determine': 'NOUN'}, {\"'\": 'PUNCT'}, {']': 'PUNCT'}, {'[': 'X'}, {\"'\": 'PUNCT'}, {'the': 'DET'}, {\"'\": 'PUNCT'}, {']': 'PUNCT'}, {'[': 'X'}, {\"'\": 'PUNCT'}, {'count': 'VERB'}, {\"'\": 'PUNCT'}, {']': 'PUNCT'}, {'[': 'X'}, {\"'\": 'PUNCT'}, {'data': 'NOUN'}, {\"'\": 'PUNCT'}, {']': 'PUNCT'}, {'[': 'X'}, {\"'\": 'PUNCT'}, {'across': 'ADP'}, {\"'\": 'PUNCT'}, {']': 'PUNCT'}, {'[': 'X'}, {\"'\": 'PUNCT'}, {'Sort': 'ADV'}, {\"'\": 'NOUN'}, {']': 'PUNCT'}]\n",
            "vocab : ['PRON', 'ADP', 'PROPN', 'AUX', 'X', 'SCONJ', 'NUM', 'DET', 'INTJ', 'VERB', 'ADV', 'PART', 'PUNCT', 'NOUN', 'CCONJ', 'ADJ']\n"
          ]
        }
      ]
    },
    {
      "cell_type": "code",
      "source": [
        "for pat in p_d:\n",
        "   print({pat:p_d[pat]})"
      ],
      "metadata": {
        "id": "4CSJPRZeQK_g",
        "colab": {
          "base_uri": "https://localhost:8080/"
        },
        "outputId": "7c0162a7-ebbb-44d9-83a1-2ae18186eb17"
      },
      "execution_count": 44,
      "outputs": [
        {
          "output_type": "stream",
          "name": "stdout",
          "text": [
            "{'PRON': ['each', 'there', 'this', 'What', 'all', 'both']}\n",
            "{'ADP': ['within', 'for', 'above', 'by', 'in', 'of', 'from', 'over', 'with', 'at', 'than', 'between', 'across']}\n",
            "{'PROPN': ['Group', 'Count', 'Filter', 'Maximum', 'Date', 'Setosa', 'January', 'Median', 'Rank', 'Minimum', 'Iris']}\n",
            "{'AUX': ['are', 'is']}\n",
            "{'X': ['setosa', '10th', 'median', 'virginica']}\n",
            "{'SCONJ': ['where', 'how', 'How']}\n",
            "{'NUM': ['5', '0', '3', '1', '10', '4', '2']}\n",
            "{'DET': ['the']}\n",
            "{'INTJ': ['%']}\n",
            "{'VERB': ['Find', 'contains', 'starting', 'ends', 'Show', 'found', 'assuming', 'show', 'recorded', 'start', 'starts', 'sorted', 'descending', 'Display', 'ascending', 'Organize', 'count', 'Aggregate', 'grouped']}\n",
            "{'ADV': ['Sort', 'only', 'alphabetically', 'exactly']}\n",
            "{'PART': ['not', 'to']}\n",
            "{'PUNCT': ['?']}\n",
            "{'NOUN': ['field', 'versicolor', 'Species', 'List', 'Lengths', 'entries', 'Widths', 'observation', 'color', 'value', 'number', 'month', 'Number', 'Entries', 'name', 'year', 'species', 'flowers', 'occurrences', 'Sum', 'points', 'types', 'Determine', 'flower', 'records', 'order', 'data']}\n",
            "{'CCONJ': ['or', 'and']}\n",
            "{'ADJ': ['high', 'bottom', 'middle', 'equal', 'Calculate', 'percentile', 'Total', 'Lowest', 'Average', 'Select', 'top', 'Highest', 'total', 'last', 'smallest', 'average', 'least', 'low', 'many', 'less', 'distinct', 'dataset', 'highest', 'greater', 'Top', 'unique']}\n"
          ]
        }
      ]
    },
    {
      "cell_type": "code",
      "source": [
        "p_d=dg_ent['Patterns_Description']=get_patterns(dg_tok,dg_tok.columns[0])"
      ],
      "metadata": {
        "id": "g7kuk3DbOtdX",
        "colab": {
          "base_uri": "https://localhost:8080/"
        },
        "outputId": "bede6f01-08af-4231-e015-a39f155db46d"
      },
      "execution_count": 45,
      "outputs": [
        {
          "output_type": "stream",
          "name": "stdout",
          "text": [
            "[{'[': 'X'}, {'\"': 'PUNCT'}, {'[': 'X'}, {\"'\": 'X'}, {'Sum': 'PROPN'}, {\"'\": 'NUM'}, {',': 'PUNCT'}, {'\"': 'PUNCT'}, {',': 'PUNCT'}, {'\"': 'PUNCT'}, {\"'\": 'PUNCT'}, {'of': 'ADP'}, {\"'\": 'NUM'}, {',': 'PUNCT'}, {'\"': 'PUNCT'}, {',': 'PUNCT'}, {'\"': 'PUNCT'}, {\"'\": 'PUNCT'}, {'Sepal': 'NOUN'}, {\"'\": 'PUNCT'}, {',': 'PUNCT'}, {'\"': 'PUNCT'}, {',': 'PUNCT'}, {'\"': 'PUNCT'}, {\"'\": 'PUNCT'}, {'Length': 'X'}, {\"'\": 'PUNCT'}, {']': 'PUNCT'}, {'\"': 'PUNCT'}, {']': 'PUNCT'}, {'[': 'X'}, {'\"': 'PUNCT'}, {'[': 'X'}, {\"'\": 'PUNCT'}, {'Average': 'ADJ'}, {\"'\": 'PUNCT'}, {',': 'PUNCT'}, {'\"': 'PUNCT'}, {',': 'PUNCT'}, {'\"': 'PUNCT'}, {\"'\": 'PUNCT'}, {'Sepal': 'NOUN'}, {\"'\": 'PUNCT'}, {',': 'PUNCT'}, {'\"': 'PUNCT'}, {',': 'PUNCT'}, {'\"': 'PUNCT'}, {\"'\": 'PUNCT'}, {'Width': 'PROPN'}, {\"'\": 'PUNCT'}, {',': 'PUNCT'}, {'\"': 'PUNCT'}, {',': 'PUNCT'}, {'\"': 'PUNCT'}, {\"'\": 'PUNCT'}, {'across': 'ADP'}, {\"'\": 'PUNCT'}, {',': 'PUNCT'}, {'\"': 'PUNCT'}, {',': 'PUNCT'}, {'\"': 'PUNCT'}, {\"'\": 'PUNCT'}, {'all': 'PRON'}, {\"'\": 'PROPN'}, {',': 'PUNCT'}, {'\"': 'PUNCT'}, {',': 'PUNCT'}, {'\"': 'PUNCT'}, {\"'\": 'PUNCT'}, {'entries': 'NOUN'}, {\"'\": 'PUNCT'}, {']': 'PUNCT'}, {'\"': 'PUNCT'}, {']': 'PUNCT'}, {'[': 'X'}, {'\"': 'PUNCT'}, {'[': 'X'}, {\"'\": 'VERB'}, {'Find': 'VERB'}, {\"'\": 'PUNCT'}, {',': 'PUNCT'}, {'\"': 'PUNCT'}, {',': 'PUNCT'}, {'\"': 'PUNCT'}, {\"'\": 'PUNCT'}, {'the': 'DET'}, {\"'\": 'PUNCT'}, {',': 'PUNCT'}, {'\"': 'PUNCT'}, {',': 'PUNCT'}, {'\"': 'PUNCT'}, {\"'\": 'PUNCT'}, {'median': 'X'}, {\"'\": 'PROPN'}, {',': 'PUNCT'}, {'\"': 'PUNCT'}, {',': 'PUNCT'}, {'\"': 'PUNCT'}, {\"'\": 'PUNCT'}, {'Petal': 'ADJ'}, {\"'\": 'PUNCT'}, {',': 'PUNCT'}, {'\"': 'PUNCT'}, {',': 'PUNCT'}, {'\"': 'PUNCT'}, {\"'\": 'PUNCT'}, {'Length': 'X'}, {\"'\": 'PUNCT'}, {']': 'PUNCT'}, {'\"': 'PUNCT'}, {']': 'PUNCT'}, {'[': 'X'}, {'\"': 'PUNCT'}, {'[': 'X'}, {\"'\": 'X'}, {'Count': 'PROPN'}, {\"'\": 'PUNCT'}, {',': 'PUNCT'}, {'\"': 'PUNCT'}, {',': 'PUNCT'}, {'\"': 'PUNCT'}, {\"'\": 'PUNCT'}, {'the': 'DET'}, {\"'\": 'PUNCT'}, {',': 'PUNCT'}, {'\"': 'PUNCT'}, {',': 'PUNCT'}, {'\"': 'PUNCT'}, {\"'\": 'PUNCT'}, {'number': 'NOUN'}, {\"'\": 'PUNCT'}, {',': 'PUNCT'}, {'\"': 'PUNCT'}, {',': 'PUNCT'}, {'\"': 'PUNCT'}, {\"'\": 'PUNCT'}, {'of': 'ADP'}, {\"'\": 'NUM'}, {',': 'PUNCT'}, {'\"': 'PUNCT'}, {',': 'PUNCT'}, {'\"': 'PUNCT'}, {\"'\": 'PUNCT'}, {'records': 'NOUN'}, {\"'\": 'PART'}, {',': 'PUNCT'}, {'\"': 'PUNCT'}, {',': 'PUNCT'}, {'\"': 'PUNCT'}, {\"'\": 'PUNCT'}, {'in': 'ADP'}, {\"'\": 'NUM'}, {',': 'PUNCT'}, {'\"': 'PUNCT'}, {',': 'PUNCT'}, {'\"': 'PUNCT'}, {\"'\": 'PUNCT'}, {'the': 'DET'}, {\"'\": 'PUNCT'}, {',': 'PUNCT'}, {'\"': 'PUNCT'}, {',': 'PUNCT'}, {'\"': 'PUNCT'}, {\"'\": 'PUNCT'}, {'dataset': 'VERB'}, {\"'\": 'PUNCT'}, {']': 'PUNCT'}, {'\"': 'PUNCT'}, {']': 'PUNCT'}, {'[': 'X'}, {'\"': 'PUNCT'}, {'[': 'X'}, {\"'\": 'X'}, {'Count': 'PROPN'}, {\"'\": 'PUNCT'}, {',': 'PUNCT'}, {'\"': 'PUNCT'}, {',': 'PUNCT'}, {'\"': 'PUNCT'}, {\"'\": 'PUNCT'}, {'distinct': 'ADJ'}, {\"'\": 'PUNCT'}, {',': 'PUNCT'}, {'\"': 'PUNCT'}, {',': 'PUNCT'}, {'\"': 'PUNCT'}, {\"'\": 'PUNCT'}, {'species': 'NOUN'}, {\"'\": 'PUNCT'}, {',': 'PUNCT'}, {'\"': 'PUNCT'}, {',': 'PUNCT'}, {'\"': 'PUNCT'}, {\"'\": 'PUNCT'}, {'in': 'ADP'}, {\"'\": 'NUM'}, {',': 'PUNCT'}, {'\"': 'PUNCT'}, {',': 'PUNCT'}, {'\"': 'PUNCT'}, {\"'\": 'PUNCT'}, {'the': 'DET'}, {\"'\": 'PUNCT'}, {',': 'PUNCT'}, {'\"': 'PUNCT'}, {',': 'PUNCT'}, {'\"': 'PUNCT'}, {\"'\": 'PUNCT'}, {'dataset': 'VERB'}, {\"'\": 'PUNCT'}, {']': 'PUNCT'}, {'\"': 'PUNCT'}, {']': 'PUNCT'}, {'[': 'X'}, {'\"': 'PUNCT'}, {'[': 'X'}, {\"'\": 'PUNCT'}, {'Minimum': 'ADJ'}, {\"'\": 'PUNCT'}, {',': 'PUNCT'}, {'\"': 'PUNCT'}, {',': 'PUNCT'}, {'\"': 'PUNCT'}, {\"'\": 'PUNCT'}, {'value': 'NOUN'}, {\"'\": 'PUNCT'}, {',': 'PUNCT'}, {'\"': 'PUNCT'}, {',': 'PUNCT'}, {'\"': 'PUNCT'}, {\"'\": 'PUNCT'}, {'of': 'ADP'}, {\"'\": 'NUM'}, {',': 'PUNCT'}, {'\"': 'PUNCT'}, {',': 'PUNCT'}, {'\"': 'PUNCT'}, {\"'\": 'PUNCT'}, {'Sepal': 'NOUN'}, {\"'\": 'PUNCT'}, {',': 'PUNCT'}, {'\"': 'PUNCT'}, {',': 'PUNCT'}, {'\"': 'PUNCT'}, {\"'\": 'PUNCT'}, {'Length': 'X'}, {\"'\": 'PUNCT'}, {']': 'PUNCT'}, {'\"': 'PUNCT'}, {']': 'PUNCT'}, {'[': 'X'}, {'\"': 'PUNCT'}, {'[': 'X'}, {\"'\": 'PUNCT'}, {'Maximum': 'ADJ'}, {\"'\": 'NUM'}, {',': 'PUNCT'}, {'\"': 'PUNCT'}, {',': 'PUNCT'}, {'\"': 'PUNCT'}, {\"'\": 'PUNCT'}, {'Petal': 'ADJ'}, {\"'\": 'PUNCT'}, {',': 'PUNCT'}, {'\"': 'PUNCT'}, {',': 'PUNCT'}, {'\"': 'PUNCT'}, {\"'\": 'PUNCT'}, {'Width': 'PROPN'}, {\"'\": 'PUNCT'}, {',': 'PUNCT'}, {'\"': 'PUNCT'}, {',': 'PUNCT'}, {'\"': 'PUNCT'}, {\"'\": 'PUNCT'}, {'found': 'VERB'}, {\"'\": 'PUNCT'}, {',': 'PUNCT'}, {'\"': 'PUNCT'}, {',': 'PUNCT'}, {'\"': 'PUNCT'}, {\"'\": 'PUNCT'}, {'in': 'ADP'}, {\"'\": 'NUM'}, {',': 'PUNCT'}, {'\"': 'PUNCT'}, {',': 'PUNCT'}, {'\"': 'PUNCT'}, {\"'\": 'PUNCT'}, {'the': 'DET'}, {\"'\": 'PUNCT'}, {',': 'PUNCT'}, {'\"': 'PUNCT'}, {',': 'PUNCT'}, {'\"': 'PUNCT'}, {\"'\": 'PUNCT'}, {'dataset': 'VERB'}, {\"'\": 'PUNCT'}, {']': 'PUNCT'}, {'\"': 'PUNCT'}, {']': 'PUNCT'}, {'[': 'X'}, {'\"': 'PUNCT'}, {'[': 'X'}, {\"'\": 'X'}, {'Group': 'PROPN'}, {\"'\": 'PUNCT'}, {',': 'PUNCT'}, {'\"': 'PUNCT'}, {',': 'PUNCT'}, {'\"': 'PUNCT'}, {\"'\": 'PUNCT'}, {'records': 'NOUN'}, {\"'\": 'PART'}, {',': 'PUNCT'}, {'\"': 'PUNCT'}, {',': 'PUNCT'}, {'\"': 'PUNCT'}, {\"'\": 'PUNCT'}, {'by': 'ADP'}, {\"'\": 'NUM'}, {',': 'PUNCT'}, {'\"': 'PUNCT'}, {',': 'PUNCT'}, {'\"': 'PUNCT'}, {\"'\": 'PUNCT'}, {'Species': 'PROPN'}, {\"'\": 'PUNCT'}, {']': 'PUNCT'}, {'\"': 'PUNCT'}, {']': 'PUNCT'}, {'[': 'X'}, {'\"': 'PUNCT'}, {'[': 'X'}, {\"'\": 'X'}, {'Sort': 'ADV'}, {\"'\": 'NUM'}, {',': 'PUNCT'}, {'\"': 'PUNCT'}, {',': 'PUNCT'}, {'\"': 'PUNCT'}, {\"'\": 'PUNCT'}, {'the': 'DET'}, {\"'\": 'PUNCT'}, {',': 'PUNCT'}, {'\"': 'PUNCT'}, {',': 'PUNCT'}, {'\"': 'PUNCT'}, {\"'\": 'PUNCT'}, {'entries': 'NOUN'}, {\"'\": 'PUNCT'}, {',': 'PUNCT'}, {'\"': 'PUNCT'}, {',': 'PUNCT'}, {'\"': 'PUNCT'}, {\"'\": 'PUNCT'}, {'by': 'ADP'}, {\"'\": 'NUM'}, {',': 'PUNCT'}, {'\"': 'PUNCT'}, {',': 'PUNCT'}, {'\"': 'PUNCT'}, {\"'\": 'PUNCT'}, {'Sepal': 'NOUN'}, {\"'\": 'PUNCT'}, {',': 'PUNCT'}, {'\"': 'PUNCT'}, {',': 'PUNCT'}, {'\"': 'PUNCT'}, {\"'\": 'PUNCT'}, {'Length': 'PROPN'}, {\"'\": 'PUNCT'}, {',': 'PUNCT'}, {'\"': 'PUNCT'}, {',': 'PUNCT'}, {'\"': 'PUNCT'}, {\"'\": 'PUNCT'}, {'in': 'ADP'}, {\"'\": 'NUM'}, {',': 'PUNCT'}, {'\"': 'PUNCT'}, {',': 'PUNCT'}, {'\"': 'PUNCT'}, {\"'\": 'PUNCT'}, {'ascending': 'VERB'}, {\"'\": 'PUNCT'}, {',': 'PUNCT'}, {'\"': 'PUNCT'}, {',': 'PUNCT'}, {'\"': 'PUNCT'}, {\"'\": 'PUNCT'}, {'order': 'NOUN'}, {\"'\": 'PUNCT'}, {']': 'PUNCT'}, {'\"': 'PUNCT'}, {']': 'PUNCT'}, {'[': 'X'}, {'\"': 'PUNCT'}, {'[': 'X'}, {\"'\": 'PUNCT'}, {'List': 'NOUN'}, {\"'\": 'PUNCT'}, {',': 'PUNCT'}, {'\"': 'PUNCT'}, {',': 'PUNCT'}, {'\"': 'PUNCT'}, {\"'\": 'PUNCT'}, {'Species': 'NOUN'}, {\"'\": 'PUNCT'}, {',': 'PUNCT'}, {'\"': 'PUNCT'}, {',': 'PUNCT'}, {'\"': 'PUNCT'}, {\"'\": 'PUNCT'}, {'alphabetically': 'ADV'}, {\"'\": 'VERB'}, {']': 'X'}, {'\"': 'PUNCT'}, {']': 'PUNCT'}, {'[': 'X'}, {'\"': 'PUNCT'}, {'[': 'X'}, {\"'\": 'X'}, {'Entries': 'NOUN'}, {\"'\": 'PUNCT'}, {',': 'PUNCT'}, {'\"': 'PUNCT'}, {',': 'PUNCT'}, {'\"': 'PUNCT'}, {\"'\": 'PUNCT'}, {'with': 'ADP'}, {\"'\": 'PROPN'}, {',': 'PUNCT'}, {'\"': 'PUNCT'}, {',': 'PUNCT'}, {'\"': 'PUNCT'}, {\"'\": 'PUNCT'}, {'Sepal': 'NOUN'}, {\"'\": 'PUNCT'}, {',': 'PUNCT'}, {'\"': 'PUNCT'}, {',': 'PUNCT'}, {'\"': 'PUNCT'}, {\"'\": 'PUNCT'}, {'Length': 'PROPN'}, {\"'\": 'PUNCT'}, {',': 'PUNCT'}, {'\"': 'PUNCT'}, {',': 'PUNCT'}, {'\"': 'PUNCT'}, {\"'\": 'PUNCT'}, {'at': 'ADP'}, {\"'\": 'NUM'}, {',': 'PUNCT'}, {'\"': 'PUNCT'}, {',': 'PUNCT'}, {'\"': 'PUNCT'}, {\"'\": 'PUNCT'}, {'least': 'ADJ'}, {\"'\": 'PUNCT'}, {',': 'PUNCT'}, {'\"': 'PUNCT'}, {',': 'PUNCT'}, {'\"': 'PUNCT'}, {\"'\": 'PROPN'}, {'5': 'NUM'}, {\"'\": 'NUM'}, {',': 'PUNCT'}, {'\"': 'PUNCT'}, {',': 'PUNCT'}, {'\"': 'PUNCT'}, {\"'\": 'PUNCT'}, {'.': 'PUNCT'}, {\"'\": 'PUNCT'}, {',': 'PUNCT'}, {'\"': 'PUNCT'}, {',': 'PUNCT'}, {'\"': 'PUNCT'}, {\"'\": 'PUNCT'}, {'0': 'X'}, {\"'\": 'PUNCT'}, {']': 'PUNCT'}, {'\"': 'PUNCT'}, {']': 'PUNCT'}, {'[': 'X'}, {'\"': 'PUNCT'}, {'[': 'X'}, {\"'\": 'X'}, {'Entries': 'NOUN'}, {\"'\": 'PUNCT'}, {',': 'PUNCT'}, {'\"': 'PUNCT'}, {',': 'PUNCT'}, {'\"': 'PUNCT'}, {\"'\": 'PUNCT'}, {'with': 'ADP'}, {\"'\": 'PROPN'}, {',': 'PUNCT'}, {'\"': 'PUNCT'}, {',': 'PUNCT'}, {'\"': 'PUNCT'}, {\"'\": 'PUNCT'}, {'Petal': 'ADJ'}, {\"'\": 'PUNCT'}, {',': 'PUNCT'}, {'\"': 'PUNCT'}, {',': 'PUNCT'}, {'\"': 'PUNCT'}, {\"'\": 'PUNCT'}, {'Length': 'PROPN'}, {\"'\": 'PUNCT'}, {',': 'PUNCT'}, {'\"': 'PUNCT'}, {',': 'PUNCT'}, {'\"': 'PUNCT'}, {\"'\": 'PUNCT'}, {'between': 'ADP'}, {\"'\": 'PUNCT'}, {',': 'PUNCT'}, {'\"': 'PUNCT'}, {',': 'PUNCT'}, {'\"': 'PUNCT'}, {\"'\": 'PROPN'}, {'1': 'X'}, {\"'\": 'NUM'}, {',': 'PUNCT'}, {'\"': 'PUNCT'}, {',': 'PUNCT'}, {'\"': 'PUNCT'}, {\"'\": 'PUNCT'}, {'.': 'PUNCT'}, {\"'\": 'PUNCT'}, {',': 'PUNCT'}, {'\"': 'PUNCT'}, {',': 'PUNCT'}, {'\"': 'PUNCT'}, {\"'\": 'PROPN'}, {'5': 'NUM'}, {\"'\": 'NUM'}, {',': 'PUNCT'}, {'\"': 'PUNCT'}, {',': 'PUNCT'}, {'\"': 'PUNCT'}, {\"'\": 'PUNCT'}, {'and': 'CCONJ'}, {\"'\": 'NUM'}, {',': 'PUNCT'}, {'\"': 'PUNCT'}, {',': 'PUNCT'}, {'\"': 'PUNCT'}, {\"'\": 'PROPN'}, {'2': 'X'}, {\"'\": 'NUM'}, {',': 'PUNCT'}, {'\"': 'PUNCT'}, {',': 'PUNCT'}, {'\"': 'PUNCT'}, {\"'\": 'PUNCT'}, {'.': 'PUNCT'}, {\"'\": 'PUNCT'}, {',': 'PUNCT'}, {'\"': 'PUNCT'}, {',': 'PUNCT'}, {'\"': 'PUNCT'}, {\"'\": 'PROPN'}, {'5': 'NUM'}, {\"'\": 'NUM'}, {']': 'PUNCT'}, {'\"': 'PUNCT'}, {']': 'PUNCT'}, {'[': 'X'}, {'\"': 'PUNCT'}, {'[': 'X'}, {\"'\": 'PUNCT'}, {'Top': 'ADJ'}, {\"'\": 'NUM'}, {',': 'PUNCT'}, {'\"': 'PUNCT'}, {',': 'PUNCT'}, {'\"': 'PUNCT'}, {\"'\": 'PROPN'}, {'3': 'NUM'}, {\"'\": 'NUM'}, {',': 'PUNCT'}, {'\"': 'PUNCT'}, {',': 'PUNCT'}, {'\"': 'PUNCT'}, {\"'\": 'PUNCT'}, {'entries': 'NOUN'}, {\"'\": 'PUNCT'}, {',': 'PUNCT'}, {'\"': 'PUNCT'}, {',': 'PUNCT'}, {'\"': 'PUNCT'}, {\"'\": 'PUNCT'}, {'with': 'ADP'}, {\"'\": 'PROPN'}, {',': 'PUNCT'}, {'\"': 'PUNCT'}, {',': 'PUNCT'}, {'\"': 'PUNCT'}, {\"'\": 'PUNCT'}, {'the': 'DET'}, {\"'\": 'PUNCT'}, {',': 'PUNCT'}, {'\"': 'PUNCT'}, {',': 'PUNCT'}, {'\"': 'PUNCT'}, {\"'\": 'PUNCT'}, {'highest': 'ADJ'}, {\"'\": 'PUNCT'}, {',': 'PUNCT'}, {'\"': 'PUNCT'}, {',': 'PUNCT'}, {'\"': 'PUNCT'}, {\"'\": 'PUNCT'}, {'Sepal': 'NOUN'}, {\"'\": 'PUNCT'}, {',': 'PUNCT'}, {'\"': 'PUNCT'}, {',': 'PUNCT'}, {'\"': 'PUNCT'}, {\"'\": 'PUNCT'}, {'Width': 'PROPN'}, {\"'\": 'PUNCT'}, {']': 'PUNCT'}, {'\"': 'PUNCT'}, {']': 'PUNCT'}, {'[': 'X'}, {'\"': 'PUNCT'}, {'[': 'X'}, {\"'\": 'X'}, {'Species': 'NOUN'}, {\"'\": 'PUNCT'}, {',': 'PUNCT'}, {'\"': 'PUNCT'}, {',': 'PUNCT'}, {'\"': 'PUNCT'}, {\"'\": 'PUNCT'}, {'is': 'AUX'}, {\"'\": 'PUNCT'}, {',': 'PUNCT'}, {'\"': 'PUNCT'}, {',': 'PUNCT'}, {\"'\": 'PUNCT'}, {'\"': 'PUNCT'}, {'\\\\': 'PROPN'}, {\"'\": 'PUNCT'}, {'\"': 'PUNCT'}, {',': 'PUNCT'}, {\"'\": 'PUNCT'}, {',': 'PUNCT'}, {'\"': 'PUNCT'}, {\"'\": 'PUNCT'}, {'Setosa': 'VERB'}, {\"'\": 'NUM'}, {',': 'PUNCT'}, {'\"': 'PUNCT'}, {',': 'PUNCT'}, {\"'\": 'PUNCT'}, {'\"': 'PUNCT'}, {'\\\\': 'PROPN'}, {\"'\": 'PUNCT'}, {'\"': 'PUNCT'}, {']': 'PUNCT'}, {\"'\": 'X'}, {']': 'PUNCT'}, {'[': 'X'}, {'\"': 'PUNCT'}, {'[': 'X'}, {\"'\": 'X'}, {'Species': 'NOUN'}, {\"'\": 'PUNCT'}, {',': 'PUNCT'}, {'\"': 'PUNCT'}, {',': 'PUNCT'}, {'\"': 'PUNCT'}, {\"'\": 'PUNCT'}, {'starts': 'VERB'}, {\"'\": 'PUNCT'}, {',': 'PUNCT'}, {'\"': 'PUNCT'}, {',': 'PUNCT'}, {'\"': 'PUNCT'}, {\"'\": 'PUNCT'}, {'with': 'ADP'}, {\"'\": 'PROPN'}, {',': 'PUNCT'}, {'\"': 'PUNCT'}, {',': 'PUNCT'}, {\"'\": 'PUNCT'}, {'\"': 'PUNCT'}, {'\\\\': 'PROPN'}, {\"'\": 'PUNCT'}, {'\"': 'PUNCT'}, {',': 'PUNCT'}, {\"'\": 'PUNCT'}, {',': 'PUNCT'}, {'\"': 'PUNCT'}, {\"'\": 'PUNCT'}, {'Se': 'PROPN'}, {\"'\": 'NUM'}, {',': 'PUNCT'}, {'\"': 'PUNCT'}, {',': 'PUNCT'}, {\"'\": 'PUNCT'}, {'\"': 'PUNCT'}, {'\\\\': 'PROPN'}, {\"'\": 'PUNCT'}, {'\"': 'PUNCT'}, {']': 'PUNCT'}, {\"'\": 'X'}, {']': 'PUNCT'}, {'[': 'X'}, {'\"': 'PUNCT'}, {'[': 'X'}, {\"'\": 'PUNCT'}, {'Calculate': 'VERB'}, {\"'\": 'PUNCT'}, {',': 'PUNCT'}, {'\"': 'PUNCT'}, {',': 'PUNCT'}, {'\"': 'PUNCT'}, {\"'\": 'PUNCT'}, {'the': 'DET'}, {\"'\": 'PUNCT'}, {',': 'PUNCT'}, {'\"': 'PUNCT'}, {',': 'PUNCT'}, {'\"': 'PUNCT'}, {\"'\": 'PUNCT'}, {'total': 'ADJ'}, {\"'\": 'PUNCT'}, {',': 'PUNCT'}, {'\"': 'PUNCT'}, {',': 'PUNCT'}, {'\"': 'PUNCT'}, {\"'\": 'PUNCT'}, {'of': 'ADP'}, {\"'\": 'NUM'}, {',': 'PUNCT'}, {'\"': 'PUNCT'}, {',': 'PUNCT'}, {'\"': 'PUNCT'}, {\"'\": 'PUNCT'}, {'Petal': 'ADJ'}, {\"'\": 'PUNCT'}, {',': 'PUNCT'}, {'\"': 'PUNCT'}, {',': 'PUNCT'}, {'\"': 'PUNCT'}, {\"'\": 'PUNCT'}, {'Lengths': 'NOUN'}, {\"'\": 'NUM'}, {']': 'PUNCT'}, {'\"': 'PUNCT'}, {']': 'PUNCT'}, {'[': 'X'}, {'\"': 'PUNCT'}, {'[': 'X'}, {\"'\": 'PUNCT'}, {'What': 'PRON'}, {\"'\": 'PROPN'}, {',': 'PUNCT'}, {'\"': 'PUNCT'}, {',': 'PUNCT'}, {'\"': 'PUNCT'}, {\"'\": 'PUNCT'}, {'is': 'AUX'}, {\"'\": 'PUNCT'}, {',': 'PUNCT'}, {'\"': 'PUNCT'}, {',': 'PUNCT'}, {'\"': 'PUNCT'}, {\"'\": 'PUNCT'}, {'the': 'DET'}, {\"'\": 'PUNCT'}, {',': 'PUNCT'}, {'\"': 'PUNCT'}, {',': 'PUNCT'}, {'\"': 'PUNCT'}, {\"'\": 'PUNCT'}, {'average': 'ADJ'}, {\"'\": 'PUNCT'}, {',': 'PUNCT'}, {'\"': 'PUNCT'}, {',': 'PUNCT'}, {'\"': 'PUNCT'}, {\"'\": 'PUNCT'}, {'Petal': 'ADJ'}, {\"'\": 'PUNCT'}, {',': 'PUNCT'}, {'\"': 'PUNCT'}, {',': 'PUNCT'}, {'\"': 'PUNCT'}, {\"'\": 'PUNCT'}, {'Width': 'PROPN'}, {\"'\": 'PUNCT'}, {',': 'PUNCT'}, {'\"': 'PUNCT'}, {',': 'PUNCT'}, {'\"': 'PUNCT'}, {\"'\": 'PUNCT'}, {'?': 'PUNCT'}, {\"'\": 'PUNCT'}, {']': 'PUNCT'}, {'\"': 'PUNCT'}, {']': 'PUNCT'}, {'[': 'X'}, {'\"': 'PUNCT'}, {'[': 'X'}, {\"'\": 'X'}, {'Determine': 'NOUN'}, {\"'\": 'PUNCT'}, {',': 'PUNCT'}, {'\"': 'PUNCT'}, {',': 'PUNCT'}, {'\"': 'PUNCT'}, {\"'\": 'PUNCT'}, {'the': 'DET'}, {\"'\": 'PUNCT'}, {',': 'PUNCT'}, {'\"': 'PUNCT'}, {',': 'PUNCT'}, {'\"': 'PUNCT'}, {\"'\": 'PUNCT'}, {'middle': 'ADJ'}, {\"'\": 'PUNCT'}, {',': 'PUNCT'}, {'\"': 'PUNCT'}, {',': 'PUNCT'}, {'\"': 'PUNCT'}, {\"'\": 'PUNCT'}, {'value': 'NOUN'}, {\"'\": 'PUNCT'}, {',': 'PUNCT'}, {'\"': 'PUNCT'}, {',': 'PUNCT'}, {'\"': 'PUNCT'}, {\"'\": 'PUNCT'}, {'of': 'ADP'}, {\"'\": 'NUM'}, {',': 'PUNCT'}, {'\"': 'PUNCT'}, {',': 'PUNCT'}, {'\"': 'PUNCT'}, {\"'\": 'PUNCT'}, {'Sepal': 'NOUN'}, {\"'\": 'PUNCT'}, {',': 'PUNCT'}, {'\"': 'PUNCT'}, {',': 'PUNCT'}, {'\"': 'PUNCT'}, {\"'\": 'PUNCT'}, {'Widths': 'NOUN'}, {\"'\": 'PUNCT'}, {']': 'PUNCT'}, {'\"': 'PUNCT'}, {']': 'PUNCT'}, {'[': 'X'}, {'\"': 'PUNCT'}, {'[': 'X'}, {\"'\": 'X'}, {'How': 'SCONJ'}, {\"'\": 'NUM'}, {',': 'PUNCT'}, {'\"': 'PUNCT'}, {',': 'PUNCT'}, {'\"': 'PUNCT'}, {\"'\": 'PUNCT'}, {'many': 'ADJ'}, {\"'\": 'PUNCT'}, {',': 'PUNCT'}, {'\"': 'PUNCT'}, {',': 'PUNCT'}, {'\"': 'PUNCT'}, {\"'\": 'PUNCT'}, {'data': 'NOUN'}, {\"'\": 'PUNCT'}, {',': 'PUNCT'}, {'\"': 'PUNCT'}, {',': 'PUNCT'}, {'\"': 'PUNCT'}, {\"'\": 'PUNCT'}, {'points': 'NOUN'}, {\"'\": 'PUNCT'}, {',': 'PUNCT'}, {'\"': 'PUNCT'}, {',': 'PUNCT'}, {'\"': 'PUNCT'}, {\"'\": 'PUNCT'}, {'are': 'AUX'}, {\"'\": 'NUM'}, {',': 'PUNCT'}, {'\"': 'PUNCT'}, {',': 'PUNCT'}, {'\"': 'PUNCT'}, {\"'\": 'PUNCT'}, {'there': 'PRON'}, {\"'\": 'NUM'}, {',': 'PUNCT'}, {'\"': 'PUNCT'}, {',': 'PUNCT'}, {'\"': 'PUNCT'}, {\"'\": 'PUNCT'}, {'?': 'PUNCT'}, {\"'\": 'PUNCT'}, {']': 'PUNCT'}, {'\"': 'PUNCT'}, {']': 'PUNCT'}, {'[': 'X'}, {'\"': 'PUNCT'}, {'[': 'X'}, {\"'\": 'X'}, {'Number': 'NOUN'}, {\"'\": 'PUNCT'}, {',': 'PUNCT'}, {'\"': 'PUNCT'}, {',': 'PUNCT'}, {'\"': 'PUNCT'}, {\"'\": 'PUNCT'}, {'of': 'ADP'}, {\"'\": 'NUM'}, {',': 'PUNCT'}, {'\"': 'PUNCT'}, {',': 'PUNCT'}, {'\"': 'PUNCT'}, {\"'\": 'PUNCT'}, {'unique': 'ADJ'}, {\"'\": 'PUNCT'}, {',': 'PUNCT'}, {'\"': 'PUNCT'}, {',': 'PUNCT'}, {'\"': 'PUNCT'}, {\"'\": 'PUNCT'}, {'flower': 'NOUN'}, {\"'\": 'PUNCT'}, {',': 'PUNCT'}, {'\"': 'PUNCT'}, {',': 'PUNCT'}, {'\"': 'PUNCT'}, {\"'\": 'PUNCT'}, {'types': 'NOUN'}, {\"'\": 'PUNCT'}, {']': 'PUNCT'}, {'\"': 'PUNCT'}, {']': 'PUNCT'}, {'[': 'X'}, {'\"': 'PUNCT'}, {'[': 'X'}, {\"'\": 'PUNCT'}, {'Lowest': 'ADJ'}, {\"'\": 'NUM'}, {',': 'PUNCT'}, {'\"': 'PUNCT'}, {',': 'PUNCT'}, {'\"': 'PUNCT'}, {\"'\": 'PUNCT'}, {'Sepal': 'NOUN'}, {\"'\": 'PUNCT'}, {',': 'PUNCT'}, {'\"': 'PUNCT'}, {',': 'PUNCT'}, {'\"': 'PUNCT'}, {\"'\": 'PUNCT'}, {'Length': 'PROPN'}, {\"'\": 'PUNCT'}, {',': 'PUNCT'}, {'\"': 'PUNCT'}, {',': 'PUNCT'}, {'\"': 'PUNCT'}, {\"'\": 'PUNCT'}, {'recorded': 'VERB'}, {\"'\": 'PUNCT'}, {']': 'PUNCT'}, {'\"': 'PUNCT'}, {']': 'PUNCT'}, {'[': 'X'}, {'\"': 'PUNCT'}, {'[': 'X'}, {\"'\": 'X'}, {'Highest': 'ADJ'}, {\"'\": 'NUM'}, {',': 'PUNCT'}, {'\"': 'PUNCT'}, {',': 'PUNCT'}, {'\"': 'PUNCT'}, {\"'\": 'PUNCT'}, {'value': 'NOUN'}, {\"'\": 'PUNCT'}, {',': 'PUNCT'}, {'\"': 'PUNCT'}, {',': 'PUNCT'}, {'\"': 'PUNCT'}, {\"'\": 'PUNCT'}, {'of': 'ADP'}, {\"'\": 'NUM'}, {',': 'PUNCT'}, {'\"': 'PUNCT'}, {',': 'PUNCT'}, {'\"': 'PUNCT'}, {\"'\": 'PUNCT'}, {'Petal': 'ADJ'}, {\"'\": 'PUNCT'}, {',': 'PUNCT'}, {'\"': 'PUNCT'}, {',': 'PUNCT'}, {'\"': 'PUNCT'}, {\"'\": 'PUNCT'}, {'Width': 'PROPN'}, {\"'\": 'PUNCT'}, {',': 'PUNCT'}, {'\"': 'PUNCT'}, {',': 'PUNCT'}, {'\"': 'PUNCT'}, {\"'\": 'PUNCT'}, {'found': 'VERB'}, {\"'\": 'PUNCT'}, {']': 'PUNCT'}, {'\"': 'PUNCT'}, {']': 'PUNCT'}, {'[': 'X'}, {'\"': 'PUNCT'}, {'[': 'X'}, {\"'\": 'PUNCT'}, {'Organize': 'VERB'}, {\"'\": 'PUNCT'}, {',': 'PUNCT'}, {'\"': 'PUNCT'}, {',': 'PUNCT'}, {'\"': 'PUNCT'}, {\"'\": 'PUNCT'}, {'data': 'NOUN'}, {\"'\": 'PUNCT'}, {',': 'PUNCT'}, {'\"': 'PUNCT'}, {',': 'PUNCT'}, {'\"': 'PUNCT'}, {\"'\": 'PUNCT'}, {'by': 'ADP'}, {\"'\": 'NUM'}, {',': 'PUNCT'}, {'\"': 'PUNCT'}, {',': 'PUNCT'}, {'\"': 'PUNCT'}, {\"'\": 'PUNCT'}, {'Species': 'NOUN'}, {\"'\": 'PUNCT'}, {',': 'PUNCT'}, {'\"': 'PUNCT'}, {',': 'PUNCT'}, {'\"': 'PUNCT'}, {\"'\": 'PUNCT'}, {'in': 'ADP'}, {\"'\": 'NUM'}, {',': 'PUNCT'}, {'\"': 'PUNCT'}, {',': 'PUNCT'}, {'\"': 'PUNCT'}, {\"'\": 'PUNCT'}, {'descending': 'VERB'}, {\"'\": 'PUNCT'}, {',': 'PUNCT'}, {'\"': 'PUNCT'}, {',': 'PUNCT'}, {'\"': 'PUNCT'}, {\"'\": 'PUNCT'}, {'order': 'NOUN'}, {\"'\": 'PUNCT'}, {']': 'PUNCT'}, {'\"': 'PUNCT'}, {']': 'PUNCT'}, {'[': 'X'}, {'\"': 'PUNCT'}, {'[': 'X'}, {\"'\": 'X'}, {'Rank': 'PROPN'}, {\"'\": 'PUNCT'}, {',': 'PUNCT'}, {'\"': 'PUNCT'}, {',': 'PUNCT'}, {'\"': 'PUNCT'}, {\"'\": 'PUNCT'}, {'Sepal': 'NOUN'}, {\"'\": 'PUNCT'}, {',': 'PUNCT'}, {'\"': 'PUNCT'}, {',': 'PUNCT'}, {'\"': 'PUNCT'}, {\"'\": 'PUNCT'}, {'Lengths': 'NOUN'}, {\"'\": 'NUM'}, {',': 'PUNCT'}, {'\"': 'PUNCT'}, {',': 'PUNCT'}, {'\"': 'PUNCT'}, {\"'\": 'PUNCT'}, {'from': 'ADP'}, {\"'\": 'NUM'}, {',': 'PUNCT'}, {'\"': 'PUNCT'}, {',': 'PUNCT'}, {'\"': 'PUNCT'}, {\"'\": 'PUNCT'}, {'low': 'ADJ'}, {\"'\": 'PUNCT'}, {',': 'PUNCT'}, {'\"': 'PUNCT'}, {',': 'PUNCT'}, {'\"': 'PUNCT'}, {\"'\": 'PUNCT'}, {'to': 'PART'}, {\"'\": 'NUM'}, {',': 'PUNCT'}, {'\"': 'PUNCT'}, {',': 'PUNCT'}, {'\"': 'PUNCT'}, {\"'\": 'PUNCT'}, {'high': 'ADJ'}, {\"'\": 'PUNCT'}, {']': 'PUNCT'}, {'\"': 'PUNCT'}, {']': 'PUNCT'}, {'[': 'X'}, {'\"': 'PUNCT'}, {'[': 'X'}, {\"'\": 'X'}, {'Filter': 'PROPN'}, {\"'\": 'NUM'}, {',': 'PUNCT'}, {'\"': 'PUNCT'}, {',': 'PUNCT'}, {'\"': 'PUNCT'}, {\"'\": 'PUNCT'}, {'for': 'ADP'}, {\"'\": 'NUM'}, {',': 'PUNCT'}, {'\"': 'PUNCT'}, {',': 'PUNCT'}, {'\"': 'PUNCT'}, {\"'\": 'PUNCT'}, {'Sepal': 'NOUN'}, {\"'\": 'PUNCT'}, {',': 'PUNCT'}, {'\"': 'PUNCT'}, {',': 'PUNCT'}, {'\"': 'PUNCT'}, {\"'\": 'PUNCT'}, {'Length': 'PROPN'}, {\"'\": 'PUNCT'}, {',': 'PUNCT'}, {'\"': 'PUNCT'}, {',': 'PUNCT'}, {'\"': 'PUNCT'}, {\"'\": 'PUNCT'}, {'greater': 'ADJ'}, {\"'\": 'PUNCT'}, {',': 'PUNCT'}, {'\"': 'PUNCT'}, {',': 'PUNCT'}, {'\"': 'PUNCT'}, {\"'\": 'PUNCT'}, {'than': 'ADP'}, {\"'\": 'PROPN'}, {',': 'PUNCT'}, {'\"': 'PUNCT'}, {',': 'PUNCT'}, {'\"': 'PUNCT'}, {\"'\": 'PUNCT'}, {'or': 'CCONJ'}, {\"'\": 'NUM'}, {',': 'PUNCT'}, {'\"': 'PUNCT'}, {',': 'PUNCT'}, {'\"': 'PUNCT'}, {\"'\": 'PUNCT'}, {'equal': 'ADJ'}, {\"'\": 'PUNCT'}, {',': 'PUNCT'}, {'\"': 'PUNCT'}, {',': 'PUNCT'}, {'\"': 'PUNCT'}, {\"'\": 'PUNCT'}, {'to': 'PART'}, {\"'\": 'NUM'}, {',': 'PUNCT'}, {'\"': 'PUNCT'}, {',': 'PUNCT'}, {'\"': 'PUNCT'}, {\"'\": 'PROPN'}, {'4': 'NUM'}, {\"'\": 'NUM'}, {',': 'PUNCT'}, {'\"': 'PUNCT'}, {',': 'PUNCT'}, {'\"': 'PUNCT'}, {\"'\": 'PUNCT'}, {'.': 'PUNCT'}, {\"'\": 'PUNCT'}, {',': 'PUNCT'}, {'\"': 'PUNCT'}, {',': 'PUNCT'}, {'\"': 'PUNCT'}, {\"'\": 'PROPN'}, {'5': 'NUM'}, {\"'\": 'NUM'}, {']': 'PUNCT'}, {'\"': 'PUNCT'}, {']': 'PUNCT'}, {'[': 'X'}, {'\"': 'PUNCT'}, {'[': 'X'}, {\"'\": 'PUNCT'}, {'Select': 'ADJ'}, {\"'\": 'PUNCT'}, {',': 'PUNCT'}, {'\"': 'PUNCT'}, {',': 'PUNCT'}, {'\"': 'PUNCT'}, {\"'\": 'PUNCT'}, {'entries': 'NOUN'}, {\"'\": 'PUNCT'}, {',': 'PUNCT'}, {'\"': 'PUNCT'}, {',': 'PUNCT'}, {'\"': 'PUNCT'}, {\"'\": 'PUNCT'}, {'with': 'ADP'}, {\"'\": 'PROPN'}, {',': 'PUNCT'}, {'\"': 'PUNCT'}, {',': 'PUNCT'}, {'\"': 'PUNCT'}, {\"'\": 'PUNCT'}, {'Petal': 'ADJ'}, {\"'\": 'PUNCT'}, {',': 'PUNCT'}, {'\"': 'PUNCT'}, {',': 'PUNCT'}, {'\"': 'PUNCT'}, {\"'\": 'PUNCT'}, {'Width': 'PROPN'}, {\"'\": 'PUNCT'}, {',': 'PUNCT'}, {'\"': 'PUNCT'}, {',': 'PUNCT'}, {'\"': 'PUNCT'}, {\"'\": 'PUNCT'}, {'less': 'ADJ'}, {\"'\": 'PUNCT'}, {',': 'PUNCT'}, {'\"': 'PUNCT'}, {',': 'PUNCT'}, {'\"': 'PUNCT'}, {\"'\": 'PUNCT'}, {'than': 'ADP'}, {\"'\": 'PROPN'}, {',': 'PUNCT'}, {'\"': 'PUNCT'}, {',': 'PUNCT'}, {'\"': 'PUNCT'}, {\"'\": 'PROPN'}, {'2': 'X'}, {\"'\": 'NUM'}, {',': 'PUNCT'}, {'\"': 'PUNCT'}, {',': 'PUNCT'}, {'\"': 'PUNCT'}, {\"'\": 'PUNCT'}, {'.': 'PUNCT'}, {\"'\": 'PUNCT'}, {',': 'PUNCT'}, {'\"': 'PUNCT'}, {',': 'PUNCT'}, {'\"': 'PUNCT'}, {\"'\": 'PUNCT'}, {'0': 'X'}, {\"'\": 'PUNCT'}, {']': 'PUNCT'}, {'\"': 'PUNCT'}, {']': 'PUNCT'}, {'[': 'X'}, {'\"': 'PUNCT'}, {'[': 'X'}, {\"'\": 'PUNCT'}, {'Show': 'VERB'}, {\"'\": 'PUNCT'}, {',': 'PUNCT'}, {'\"': 'PUNCT'}, {',': 'PUNCT'}, {'\"': 'PUNCT'}, {\"'\": 'PUNCT'}, {'entries': 'NOUN'}, {\"'\": 'PUNCT'}, {',': 'PUNCT'}, {'\"': 'PUNCT'}, {',': 'PUNCT'}, {'\"': 'PUNCT'}, {\"'\": 'PUNCT'}, {'where': 'SCONJ'}, {\"'\": 'NUM'}, {',': 'PUNCT'}, {'\"': 'PUNCT'}, {',': 'PUNCT'}, {'\"': 'PUNCT'}, {\"'\": 'PUNCT'}, {'Sepal': 'NOUN'}, {\"'\": 'PUNCT'}, {',': 'PUNCT'}, {'\"': 'PUNCT'}, {',': 'PUNCT'}, {'\"': 'PUNCT'}, {\"'\": 'PUNCT'}, {'Width': 'PROPN'}, {\"'\": 'PUNCT'}, {',': 'PUNCT'}, {'\"': 'PUNCT'}, {',': 'PUNCT'}, {'\"': 'PUNCT'}, {\"'\": 'PUNCT'}, {'is': 'AUX'}, {\"'\": 'PUNCT'}, {',': 'PUNCT'}, {'\"': 'PUNCT'}, {',': 'PUNCT'}, {'\"': 'PUNCT'}, {\"'\": 'PUNCT'}, {'not': 'PART'}, {\"'\": 'NUM'}, {',': 'PUNCT'}, {'\"': 'PUNCT'}, {',': 'PUNCT'}, {'\"': 'PUNCT'}, {\"'\": 'PROPN'}, {'3': 'NUM'}, {\"'\": 'NUM'}, {',': 'PUNCT'}, {'\"': 'PUNCT'}, {',': 'PUNCT'}, {'\"': 'PUNCT'}, {\"'\": 'PUNCT'}, {'.': 'PUNCT'}, {\"'\": 'PUNCT'}, {',': 'PUNCT'}, {'\"': 'PUNCT'}, {',': 'PUNCT'}, {'\"': 'PUNCT'}, {\"'\": 'PUNCT'}, {'0': 'X'}, {\"'\": 'PUNCT'}, {']': 'PUNCT'}, {'\"': 'PUNCT'}, {']': 'PUNCT'}, {'[': 'X'}, {'\"': 'PUNCT'}, {'[': 'X'}, {\"'\": 'PUNCT'}, {'List': 'NOUN'}, {\"'\": 'PUNCT'}, {',': 'PUNCT'}, {'\"': 'PUNCT'}, {',': 'PUNCT'}, {'\"': 'PUNCT'}, {\"'\": 'PUNCT'}, {'all': 'PRON'}, {\"'\": 'PROPN'}, {',': 'PUNCT'}, {'\"': 'PUNCT'}, {',': 'PUNCT'}, {'\"': 'PUNCT'}, {\"'\": 'PUNCT'}, {'where': 'SCONJ'}, {\"'\": 'NUM'}, {',': 'PUNCT'}, {'\"': 'PUNCT'}, {',': 'PUNCT'}, {'\"': 'PUNCT'}, {\"'\": 'PUNCT'}, {'the': 'DET'}, {\"'\": 'PUNCT'}, {',': 'PUNCT'}, {'\"': 'PUNCT'}, {',': 'PUNCT'}, {'\"': 'PUNCT'}, {\"'\": 'PUNCT'}, {'Species': 'NOUN'}, {\"'\": 'PUNCT'}, {',': 'PUNCT'}, {'\"': 'PUNCT'}, {',': 'PUNCT'}, {'\"': 'PUNCT'}, {\"'\": 'PUNCT'}, {'name': 'NOUN'}, {\"'\": 'PUNCT'}, {',': 'PUNCT'}, {'\"': 'PUNCT'}, {',': 'PUNCT'}, {'\"': 'PUNCT'}, {\"'\": 'PUNCT'}, {'ends': 'VERB'}, {\"'\": 'PUNCT'}, {',': 'PUNCT'}, {'\"': 'PUNCT'}, {',': 'PUNCT'}, {'\"': 'PUNCT'}, {\"'\": 'PUNCT'}, {'with': 'ADP'}, {\"'\": 'PROPN'}, {',': 'PUNCT'}, {'\"': 'PUNCT'}, {',': 'PUNCT'}, {\"'\": 'PUNCT'}, {'\"': 'PUNCT'}, {'\\\\': 'PROPN'}, {\"'\": 'PUNCT'}, {'\"': 'PUNCT'}, {',': 'PUNCT'}, {\"'\": 'PUNCT'}, {',': 'PUNCT'}, {'\"': 'PUNCT'}, {\"'\": 'PUNCT'}, {'ica': 'VERB'}, {\"'\": 'PUNCT'}, {',': 'PUNCT'}, {'\"': 'PUNCT'}, {',': 'PUNCT'}, {\"'\": 'PUNCT'}, {'\"': 'PUNCT'}, {'\\\\': 'PROPN'}, {\"'\": 'PUNCT'}, {'\"': 'PUNCT'}, {']': 'PUNCT'}, {\"'\": 'X'}, {']': 'PUNCT'}, {'[': 'X'}, {'\"': 'PUNCT'}, {'[': 'X'}, {\"'\": 'X'}, {'Entries': 'NOUN'}, {\"'\": 'PUNCT'}, {',': 'PUNCT'}, {'\"': 'PUNCT'}, {',': 'PUNCT'}, {'\"': 'PUNCT'}, {\"'\": 'PUNCT'}, {'with': 'ADP'}, {\"'\": 'PROPN'}, {',': 'PUNCT'}, {'\"': 'PUNCT'}, {',': 'PUNCT'}, {'\"': 'PUNCT'}, {\"'\": 'PUNCT'}, {'a': 'PRON'}, {\"'\": 'PUNCT'}, {',': 'PUNCT'}, {'\"': 'PUNCT'}, {',': 'PUNCT'}, {'\"': 'PUNCT'}, {\"'\": 'PUNCT'}, {'Sepal': 'NOUN'}, {\"'\": 'PUNCT'}, {',': 'PUNCT'}, {'\"': 'PUNCT'}, {',': 'PUNCT'}, {'\"': 'PUNCT'}, {\"'\": 'PUNCT'}, {'Length': 'PROPN'}, {\"'\": 'PUNCT'}, {',': 'PUNCT'}, {'\"': 'PUNCT'}, {',': 'PUNCT'}, {'\"': 'PUNCT'}, {\"'\": 'PUNCT'}, {'of': 'ADP'}, {\"'\": 'NUM'}, {',': 'PUNCT'}, {'\"': 'PUNCT'}, {',': 'PUNCT'}, {'\"': 'PUNCT'}, {\"'\": 'PUNCT'}, {'exactly': 'ADV'}, {\"'\": 'NUM'}, {',': 'PUNCT'}, {'\"': 'PUNCT'}, {',': 'PUNCT'}, {'\"': 'PUNCT'}, {\"'\": 'PROPN'}, {'5': 'NUM'}, {\"'\": 'NUM'}, {',': 'PUNCT'}, {'\"': 'PUNCT'}, {',': 'PUNCT'}, {'\"': 'PUNCT'}, {\"'\": 'PUNCT'}, {'.': 'PUNCT'}, {\"'\": 'PUNCT'}, {',': 'PUNCT'}, {'\"': 'PUNCT'}, {',': 'PUNCT'}, {'\"': 'PUNCT'}, {\"'\": 'PUNCT'}, {'0': 'X'}, {\"'\": 'PUNCT'}, {']': 'PUNCT'}, {'\"': 'PUNCT'}, {']': 'PUNCT'}, {'[': 'X'}, {'\"': 'PUNCT'}, {'[': 'X'}, {\"'\": 'PUNCT'}, {'Display': 'NOUN'}, {\"'\": 'PUNCT'}, {',': 'PUNCT'}, {'\"': 'PUNCT'}, {',': 'PUNCT'}, {'\"': 'PUNCT'}, {\"'\": 'PUNCT'}, {'the': 'DET'}, {\"'\": 'PUNCT'}, {',': 'PUNCT'}, {'\"': 'PUNCT'}, {',': 'PUNCT'}, {'\"': 'PUNCT'}, {\"'\": 'PUNCT'}, {'top': 'VERB'}, {\"'\": 'PUNCT'}, {',': 'PUNCT'}, {'\"': 'PUNCT'}, {',': 'PUNCT'}, {'\"': 'PUNCT'}, {\"'\": 'PROPN'}, {'5': 'NUM'}, {\"'\": 'NUM'}, {',': 'PUNCT'}, {'\"': 'PUNCT'}, {',': 'PUNCT'}, {'\"': 'PUNCT'}, {\"'\": 'PUNCT'}, {'Species': 'NOUN'}, {\"'\": 'PUNCT'}, {',': 'PUNCT'}, {'\"': 'PUNCT'}, {',': 'PUNCT'}, {'\"': 'PUNCT'}, {\"'\": 'PUNCT'}, {'by': 'ADP'}, {\"'\": 'NUM'}, {',': 'PUNCT'}, {'\"': 'PUNCT'}, {',': 'PUNCT'}, {'\"': 'PUNCT'}, {\"'\": 'PUNCT'}, {'Sepal': 'NOUN'}, {\"'\": 'PUNCT'}, {',': 'PUNCT'}, {'\"': 'PUNCT'}, {',': 'PUNCT'}, {'\"': 'PUNCT'}, {\"'\": 'PUNCT'}, {'Width': 'PROPN'}, {\"'\": 'PUNCT'}, {']': 'PUNCT'}, {'\"': 'PUNCT'}, {']': 'PUNCT'}, {'[': 'X'}, {'\"': 'PUNCT'}, {'[': 'X'}, {\"'\": 'VERB'}, {'Find': 'VERB'}, {\"'\": 'PUNCT'}, {',': 'PUNCT'}, {'\"': 'PUNCT'}, {',': 'PUNCT'}, {'\"': 'PUNCT'}, {\"'\": 'PUNCT'}, {'the': 'DET'}, {\"'\": 'PUNCT'}, {',': 'PUNCT'}, {'\"': 'PUNCT'}, {',': 'PUNCT'}, {'\"': 'PUNCT'}, {\"'\": 'PROPN'}, {'3': 'NUM'}, {\"'\": 'NUM'}, {',': 'PUNCT'}, {'\"': 'PUNCT'}, {',': 'PUNCT'}, {'\"': 'PUNCT'}, {\"'\": 'PUNCT'}, {'smallest': 'ADJ'}, {\"'\": 'PUNCT'}, {',': 'PUNCT'}, {'\"': 'PUNCT'}, {',': 'PUNCT'}, {'\"': 'PUNCT'}, {\"'\": 'PUNCT'}, {'Petal': 'ADJ'}, {\"'\": 'PUNCT'}, {',': 'PUNCT'}, {'\"': 'PUNCT'}, {',': 'PUNCT'}, {'\"': 'PUNCT'}, {\"'\": 'PUNCT'}, {'Lengths': 'NOUN'}, {\"'\": 'NUM'}, {']': 'PUNCT'}, {'\"': 'PUNCT'}, {']': 'PUNCT'}, {'[': 'X'}, {'\"': 'PUNCT'}, {'[': 'X'}, {\"'\": 'X'}, {'Count': 'PROPN'}, {\"'\": 'PUNCT'}, {',': 'PUNCT'}, {'\"': 'PUNCT'}, {',': 'PUNCT'}, {'\"': 'PUNCT'}, {\"'\": 'PUNCT'}, {'occurrences': 'NOUN'}, {\"'\": 'PUNCT'}, {',': 'PUNCT'}, {'\"': 'PUNCT'}, {',': 'PUNCT'}, {'\"': 'PUNCT'}, {\"'\": 'PUNCT'}, {'where': 'SCONJ'}, {\"'\": 'NUM'}, {',': 'PUNCT'}, {'\"': 'PUNCT'}, {',': 'PUNCT'}, {'\"': 'PUNCT'}, {\"'\": 'PUNCT'}, {'Petal': 'ADJ'}, {\"'\": 'PUNCT'}, {',': 'PUNCT'}, {'\"': 'PUNCT'}, {',': 'PUNCT'}, {'\"': 'PUNCT'}, {\"'\": 'PUNCT'}, {'Length': 'PROPN'}, {\"'\": 'PUNCT'}, {',': 'PUNCT'}, {'\"': 'PUNCT'}, {',': 'PUNCT'}, {'\"': 'PUNCT'}, {\"'\": 'PUNCT'}, {'is': 'AUX'}, {\"'\": 'PUNCT'}, {',': 'PUNCT'}, {'\"': 'PUNCT'}, {',': 'PUNCT'}, {'\"': 'PUNCT'}, {\"'\": 'PUNCT'}, {'between': 'ADP'}, {\"'\": 'PUNCT'}, {',': 'PUNCT'}, {'\"': 'PUNCT'}, {',': 'PUNCT'}, {'\"': 'PUNCT'}, {\"'\": 'PROPN'}, {'4': 'NUM'}, {\"'\": 'NUM'}, {',': 'PUNCT'}, {'\"': 'PUNCT'}, {',': 'PUNCT'}, {'\"': 'PUNCT'}, {\"'\": 'PUNCT'}, {'and': 'CCONJ'}, {\"'\": 'NUM'}, {',': 'PUNCT'}, {'\"': 'PUNCT'}, {',': 'PUNCT'}, {'\"': 'PUNCT'}, {\"'\": 'PROPN'}, {'5': 'NUM'}, {\"'\": 'NUM'}, {']': 'PUNCT'}, {'\"': 'PUNCT'}, {']': 'PUNCT'}, {'[': 'X'}, {'\"': 'PUNCT'}, {'[': 'X'}, {\"'\": 'PUNCT'}, {'Aggregate': 'VERB'}, {\"'\": 'PUNCT'}, {',': 'PUNCT'}, {'\"': 'PUNCT'}, {',': 'PUNCT'}, {'\"': 'PUNCT'}, {\"'\": 'PUNCT'}, {'data': 'NOUN'}, {\"'\": 'PUNCT'}, {',': 'PUNCT'}, {'\"': 'PUNCT'}, {',': 'PUNCT'}, {'\"': 'PUNCT'}, {\"'\": 'PUNCT'}, {'by': 'ADP'}, {\"'\": 'NUM'}, {',': 'PUNCT'}, {'\"': 'PUNCT'}, {',': 'PUNCT'}, {'\"': 'PUNCT'}, {\"'\": 'PUNCT'}, {'the': 'DET'}, {\"'\": 'PUNCT'}, {',': 'PUNCT'}, {'\"': 'PUNCT'}, {',': 'PUNCT'}, {'\"': 'PUNCT'}, {\"'\": 'PUNCT'}, {'month': 'NOUN'}, {\"'\": 'PUNCT'}, {',': 'PUNCT'}, {'\"': 'PUNCT'}, {',': 'PUNCT'}, {'\"': 'PUNCT'}, {\"'\": 'PUNCT'}, {'of': 'ADP'}, {\"'\": 'NUM'}, {',': 'PUNCT'}, {'\"': 'PUNCT'}, {',': 'PUNCT'}, {'\"': 'PUNCT'}, {\"'\": 'PUNCT'}, {'observation': 'NOUN'}, {\"'\": 'PUNCT'}, {',': 'PUNCT'}, {'\"': 'PUNCT'}, {',': 'PUNCT'}, {'\"': 'PUNCT'}, {\"'\": 'PUNCT'}, {'(': 'PUNCT'}, {\"'\": 'PUNCT'}, {',': 'PUNCT'}, {'\"': 'PUNCT'}, {',': 'PUNCT'}, {'\"': 'PUNCT'}, {\"'\": 'PUNCT'}, {'assuming': 'VERB'}, {\"'\": 'PUNCT'}, {',': 'PUNCT'}, {'\"': 'PUNCT'}, {',': 'PUNCT'}, {'\"': 'PUNCT'}, {\"'\": 'PUNCT'}, {'there': 'PRON'}, {\"'\": 'NUM'}, {',': 'PUNCT'}, {'\"': 'PUNCT'}, {',': 'PUNCT'}, {\"'\": 'PUNCT'}, {'\"': 'PUNCT'}, {'\\\\': 'PROPN'}, {\"'\": 'PUNCT'}, {'\"': 'PUNCT'}, {',': 'PUNCT'}, {\"'\": 'PUNCT'}, {',': 'PUNCT'}, {'\"': 'PUNCT'}, {\"'s\": 'AUX'}, {\"'\": 'NUM'}, {',': 'PUNCT'}, {'\"': 'PUNCT'}, {',': 'PUNCT'}, {'\"': 'PUNCT'}, {\"'\": 'PUNCT'}, {'a': 'PRON'}, {\"'\": 'PUNCT'}, {',': 'PUNCT'}, {'\"': 'PUNCT'}, {',': 'PUNCT'}, {'\"': 'PUNCT'}, {\"'\": 'PUNCT'}, {'Date': 'VERB'}, {\"'\": 'PUNCT'}, {',': 'PUNCT'}, {'\"': 'PUNCT'}, {',': 'PUNCT'}, {'\"': 'PUNCT'}, {\"'\": 'PUNCT'}, {'field': 'NOUN'}, {\"'\": 'PUNCT'}, {',': 'PUNCT'}, {'\"': 'PUNCT'}, {',': 'PUNCT'}, {'\"': 'PUNCT'}, {\"'\": 'PUNCT'}, {')': 'PUNCT'}, {\"'\": 'PUNCT'}, {']': 'PUNCT'}, {'\"': 'PUNCT'}, {']': 'PUNCT'}, {'[': 'X'}, {'\"': 'PUNCT'}, {'[': 'X'}, {\"'\": 'X'}, {'Filter': 'PROPN'}, {\"'\": 'NUM'}, {',': 'PUNCT'}, {'\"': 'PUNCT'}, {',': 'PUNCT'}, {'\"': 'PUNCT'}, {\"'\": 'PUNCT'}, {'records': 'NOUN'}, {\"'\": 'PART'}, {',': 'PUNCT'}, {'\"': 'PUNCT'}, {',': 'PUNCT'}, {'\"': 'PUNCT'}, {\"'\": 'PUNCT'}, {'from': 'ADP'}, {\"'\": 'NUM'}, {',': 'PUNCT'}, {'\"': 'PUNCT'}, {',': 'PUNCT'}, {'\"': 'PUNCT'}, {\"'\": 'PUNCT'}, {'last': 'ADJ'}, {\"'\": 'PUNCT'}, {',': 'PUNCT'}, {'\"': 'PUNCT'}, {',': 'PUNCT'}, {'\"': 'PUNCT'}, {\"'\": 'PUNCT'}, {'year': 'NOUN'}, {\"'\": 'PUNCT'}, {',': 'PUNCT'}, {'\"': 'PUNCT'}, {',': 'PUNCT'}, {'\"': 'PUNCT'}, {\"'\": 'PUNCT'}, {'(': 'PUNCT'}, {\"'\": 'PUNCT'}, {',': 'PUNCT'}, {'\"': 'PUNCT'}, {',': 'PUNCT'}, {'\"': 'PUNCT'}, {\"'\": 'PUNCT'}, {'assuming': 'VERB'}, {\"'\": 'PUNCT'}, {',': 'PUNCT'}, {'\"': 'PUNCT'}, {',': 'PUNCT'}, {'\"': 'PUNCT'}, {\"'\": 'PUNCT'}, {'there': 'PRON'}, {\"'\": 'NUM'}, {',': 'PUNCT'}, {'\"': 'PUNCT'}, {',': 'PUNCT'}, {\"'\": 'PUNCT'}, {'\"': 'PUNCT'}, {'\\\\': 'PROPN'}, {\"'\": 'PUNCT'}, {'\"': 'PUNCT'}, {',': 'PUNCT'}, {\"'\": 'PUNCT'}, {',': 'PUNCT'}, {'\"': 'PUNCT'}, {\"'s\": 'AUX'}, {\"'\": 'NUM'}, {',': 'PUNCT'}, {'\"': 'PUNCT'}, {',': 'PUNCT'}, {'\"': 'PUNCT'}, {\"'\": 'PUNCT'}, {'a': 'PRON'}, {\"'\": 'PUNCT'}, {',': 'PUNCT'}, {'\"': 'PUNCT'}, {',': 'PUNCT'}, {'\"': 'PUNCT'}, {\"'\": 'PUNCT'}, {'Date': 'VERB'}, {\"'\": 'PUNCT'}, {',': 'PUNCT'}, {'\"': 'PUNCT'}, {',': 'PUNCT'}, {'\"': 'PUNCT'}, {\"'\": 'PUNCT'}, {'field': 'NOUN'}, {\"'\": 'PUNCT'}, {',': 'PUNCT'}, {'\"': 'PUNCT'}, {',': 'PUNCT'}, {'\"': 'PUNCT'}, {\"'\": 'PUNCT'}, {')': 'PUNCT'}, {\"'\": 'PUNCT'}, {']': 'PUNCT'}, {'\"': 'PUNCT'}, {']': 'PUNCT'}, {'[': 'X'}, {'\"': 'PUNCT'}, {'[': 'X'}, {\"'\": 'PUNCT'}, {'Show': 'VERB'}, {\"'\": 'PUNCT'}, {',': 'PUNCT'}, {'\"': 'PUNCT'}, {',': 'PUNCT'}, {'\"': 'PUNCT'}, {\"'\": 'PUNCT'}, {'only': 'ADV'}, {\"'\": 'NUM'}, {',': 'PUNCT'}, {'\"': 'PUNCT'}, {',': 'PUNCT'}, {'\"': 'PUNCT'}, {\"'\": 'PUNCT'}, {'the': 'PRON'}, {\"'\": 'PUNCT'}, {',': 'PUNCT'}, {'\"': 'PUNCT'}, {',': 'PUNCT'}, {'\"': 'PUNCT'}, {\"'\": 'PUNCT'}, {'data': 'NOUN'}, {\"'\": 'PUNCT'}, {',': 'PUNCT'}, {'\"': 'PUNCT'}, {',': 'PUNCT'}, {'\"': 'PUNCT'}, {\"'\": 'PUNCT'}, {'starting': 'VERB'}, {\"'\": 'PUNCT'}, {',': 'PUNCT'}, {'\"': 'PUNCT'}, {',': 'PUNCT'}, {'\"': 'PUNCT'}, {\"'\": 'PUNCT'}, {'from': 'ADP'}, {\"'\": 'NUM'}, {',': 'PUNCT'}, {'\"': 'PUNCT'}, {',': 'PUNCT'}, {'\"': 'PUNCT'}, {\"'\": 'PUNCT'}, {'January': 'PROPN'}, {\"'\": 'NUM'}, {',': 'PUNCT'}, {'\"': 'PUNCT'}, {',': 'PUNCT'}, {'\"': 'PUNCT'}, {\"'\": 'PUNCT'}, {'this': 'PRON'}, {\"'\": 'PUNCT'}, {',': 'PUNCT'}, {'\"': 'PUNCT'}, {',': 'PUNCT'}, {'\"': 'PUNCT'}, {\"'\": 'PUNCT'}, {'year': 'NOUN'}, {\"'\": 'PUNCT'}, {']': 'PUNCT'}, {'\"': 'PUNCT'}, {']': 'PUNCT'}, {'[': 'X'}, {'\"': 'PUNCT'}, {'[': 'X'}, {\"'\": 'VERB'}, {'Find': 'VERB'}, {\"'\": 'PUNCT'}, {',': 'PUNCT'}, {'\"': 'PUNCT'}, {',': 'PUNCT'}, {'\"': 'PUNCT'}, {\"'\": 'PUNCT'}, {'the': 'DET'}, {\"'\": 'PUNCT'}, {',': 'PUNCT'}, {'\"': 'PUNCT'}, {',': 'PUNCT'}, {'\"': 'PUNCT'}, {\"'\": 'PUNCT'}, {'average': 'ADJ'}, {\"'\": 'PUNCT'}, {',': 'PUNCT'}, {'\"': 'PUNCT'}, {',': 'PUNCT'}, {'\"': 'PUNCT'}, {\"'\": 'PUNCT'}, {'Sepal': 'NOUN'}, {\"'\": 'PUNCT'}, {',': 'PUNCT'}, {'\"': 'PUNCT'}, {',': 'PUNCT'}, {'\"': 'PUNCT'}, {\"'\": 'PUNCT'}, {'Length': 'PROPN'}, {\"'\": 'PUNCT'}, {',': 'PUNCT'}, {'\"': 'PUNCT'}, {',': 'PUNCT'}, {'\"': 'PUNCT'}, {\"'\": 'PUNCT'}, {'for': 'ADP'}, {\"'\": 'NUM'}, {',': 'PUNCT'}, {'\"': 'PUNCT'}, {',': 'PUNCT'}, {'\"': 'PUNCT'}, {\"'\": 'PUNCT'}, {'each': 'PRON'}, {\"'\": 'PUNCT'}, {',': 'PUNCT'}, {'\"': 'PUNCT'}, {',': 'PUNCT'}, {'\"': 'PUNCT'}, {\"'\": 'PUNCT'}, {'Species': 'NOUN'}, {\"'\": 'PUNCT'}, {',': 'PUNCT'}, {'\"': 'PUNCT'}, {',': 'PUNCT'}, {'\"': 'PUNCT'}, {\"'\": 'PUNCT'}, {',': 'PUNCT'}, {\"'\": 'PUNCT'}, {',': 'PUNCT'}, {'\"': 'PUNCT'}, {',': 'PUNCT'}, {'\"': 'PUNCT'}, {\"'\": 'PUNCT'}, {'sorted': 'VERB'}, {\"'\": 'PUNCT'}, {',': 'PUNCT'}, {'\"': 'PUNCT'}, {',': 'PUNCT'}, {'\"': 'PUNCT'}, {\"'\": 'PUNCT'}, {'alphabetically': 'ADV'}, {\"'\": 'VERB'}, {']': 'X'}, {'\"': 'PUNCT'}, {']': 'PUNCT'}, {'[': 'X'}, {'\"': 'PUNCT'}, {'[': 'X'}, {\"'\": 'X'}, {'Count': 'PROPN'}, {\"'\": 'PUNCT'}, {',': 'PUNCT'}, {'\"': 'PUNCT'}, {',': 'PUNCT'}, {'\"': 'PUNCT'}, {\"'\": 'PUNCT'}, {'how': 'SCONJ'}, {\"'\": 'PROPN'}, {',': 'PUNCT'}, {'\"': 'PUNCT'}, {',': 'PUNCT'}, {'\"': 'PUNCT'}, {\"'\": 'PUNCT'}, {'many': 'ADJ'}, {\"'\": 'PUNCT'}, {',': 'PUNCT'}, {'\"': 'PUNCT'}, {',': 'PUNCT'}, {'\"': 'PUNCT'}, {\"'\": 'PUNCT'}, {'Species': 'NOUN'}, {\"'\": 'PUNCT'}, {',': 'PUNCT'}, {'\"': 'PUNCT'}, {',': 'PUNCT'}, {'\"': 'PUNCT'}, {\"'\": 'PUNCT'}, {'start': 'VERB'}, {\"'\": 'PUNCT'}, {',': 'PUNCT'}, {'\"': 'PUNCT'}, {',': 'PUNCT'}, {'\"': 'PUNCT'}, {\"'\": 'PUNCT'}, {'with': 'ADP'}, {\"'\": 'PROPN'}, {',': 'PUNCT'}, {'\"': 'PUNCT'}, {',': 'PUNCT'}, {\"'\": 'PUNCT'}, {'\"': 'PUNCT'}, {'\\\\': 'PROPN'}, {\"'\": 'PUNCT'}, {'\"': 'PUNCT'}, {',': 'PUNCT'}, {\"'\": 'PUNCT'}, {',': 'PUNCT'}, {'\"': 'PUNCT'}, {\"'\": 'PUNCT'}, {'C': 'NOUN'}, {\"'\": 'NUM'}, {',': 'PUNCT'}, {'\"': 'PUNCT'}, {',': 'PUNCT'}, {\"'\": 'PUNCT'}, {'\"': 'PUNCT'}, {'\\\\': 'PROPN'}, {\"'\": 'PUNCT'}, {'\"': 'PUNCT'}, {']': 'PUNCT'}, {\"'\": 'X'}, {']': 'PUNCT'}, {'[': 'X'}, {'\"': 'PUNCT'}, {'[': 'X'}, {\"'\": 'X'}, {'Entries': 'NOUN'}, {\"'\": 'PUNCT'}, {',': 'PUNCT'}, {'\"': 'PUNCT'}, {',': 'PUNCT'}, {'\"': 'PUNCT'}, {\"'\": 'PUNCT'}, {'with': 'ADP'}, {\"'\": 'PROPN'}, {',': 'PUNCT'}, {'\"': 'PUNCT'}, {',': 'PUNCT'}, {'\"': 'PUNCT'}, {\"'\": 'PUNCT'}, {'Petal': 'ADJ'}, {\"'\": 'PUNCT'}, {',': 'PUNCT'}, {'\"': 'PUNCT'}, {',': 'PUNCT'}, {'\"': 'PUNCT'}, {\"'\": 'PUNCT'}, {'Length': 'PROPN'}, {\"'\": 'PUNCT'}, {',': 'PUNCT'}, {'\"': 'PUNCT'}, {',': 'PUNCT'}, {'\"': 'PUNCT'}, {\"'\": 'PUNCT'}, {'and': 'CCONJ'}, {\"'\": 'NUM'}, {',': 'PUNCT'}, {'\"': 'PUNCT'}, {',': 'PUNCT'}, {'\"': 'PUNCT'}, {\"'\": 'PUNCT'}, {'Sepal': 'NOUN'}, {\"'\": 'PUNCT'}, {',': 'PUNCT'}, {'\"': 'PUNCT'}, {',': 'PUNCT'}, {'\"': 'PUNCT'}, {\"'\": 'PUNCT'}, {'Length': 'PROPN'}, {\"'\": 'PUNCT'}, {',': 'PUNCT'}, {'\"': 'PUNCT'}, {',': 'PUNCT'}, {'\"': 'PUNCT'}, {\"'\": 'PUNCT'}, {'both': 'PRON'}, {\"'\": 'PROPN'}, {',': 'PUNCT'}, {'\"': 'PUNCT'}, {',': 'PUNCT'}, {'\"': 'PUNCT'}, {\"'\": 'PUNCT'}, {'above': 'ADP'}, {\"'\": 'PUNCT'}, {',': 'PUNCT'}, {'\"': 'PUNCT'}, {',': 'PUNCT'}, {'\"': 'PUNCT'}, {\"'\": 'PROPN'}, {'4': 'NUM'}, {\"'\": 'NUM'}, {',': 'PUNCT'}, {'\"': 'PUNCT'}, {',': 'PUNCT'}, {'\"': 'PUNCT'}, {\"'\": 'PUNCT'}, {'.': 'PUNCT'}, {\"'\": 'PUNCT'}, {',': 'PUNCT'}, {'\"': 'PUNCT'}, {',': 'PUNCT'}, {'\"': 'PUNCT'}, {\"'\": 'PUNCT'}, {'0': 'X'}, {\"'\": 'PUNCT'}, {']': 'PUNCT'}, {'\"': 'PUNCT'}, {']': 'PUNCT'}, {'[': 'X'}, {'\"': 'PUNCT'}, {'[': 'X'}, {\"'\": 'PUNCT'}, {'List': 'NOUN'}, {\"'\": 'PUNCT'}, {',': 'PUNCT'}, {'\"': 'PUNCT'}, {',': 'PUNCT'}, {'\"': 'PUNCT'}, {\"'\": 'PUNCT'}, {'Species': 'NOUN'}, {\"'\": 'PUNCT'}, {',': 'PUNCT'}, {'\"': 'PUNCT'}, {',': 'PUNCT'}, {'\"': 'PUNCT'}, {\"'\": 'PUNCT'}, {'with': 'ADP'}, {\"'\": 'PROPN'}, {',': 'PUNCT'}, {'\"': 'PUNCT'}, {',': 'PUNCT'}, {'\"': 'PUNCT'}, {\"'\": 'PUNCT'}, {'Petal': 'ADJ'}, {\"'\": 'PUNCT'}, {',': 'PUNCT'}, {'\"': 'PUNCT'}, {',': 'PUNCT'}, {'\"': 'PUNCT'}, {\"'\": 'PUNCT'}, {'Width': 'PROPN'}, {\"'\": 'PUNCT'}, {',': 'PUNCT'}, {'\"': 'PUNCT'}, {',': 'PUNCT'}, {'\"': 'PUNCT'}, {\"'\": 'PUNCT'}, {'in': 'ADP'}, {\"'\": 'NUM'}, {',': 'PUNCT'}, {'\"': 'PUNCT'}, {',': 'PUNCT'}, {'\"': 'PUNCT'}, {\"'\": 'PUNCT'}, {'the': 'DET'}, {\"'\": 'PUNCT'}, {',': 'PUNCT'}, {'\"': 'PUNCT'}, {',': 'PUNCT'}, {'\"': 'PUNCT'}, {\"'\": 'PUNCT'}, {'top': 'VERB'}, {\"'\": 'PUNCT'}, {',': 'PUNCT'}, {'\"': 'PUNCT'}, {',': 'PUNCT'}, {'\"': 'PUNCT'}, {\"'\": 'PROPN'}, {'10': 'NUM'}, {\"'\": 'NUM'}, {',': 'PUNCT'}, {'\"': 'PUNCT'}, {',': 'PUNCT'}, {'\"': 'PUNCT'}, {\"'\": 'PUNCT'}, {'%': 'INTJ'}, {\"'\": 'PUNCT'}, {']': 'X'}, {'\"': 'PUNCT'}, {']': 'PUNCT'}, {'[': 'X'}, {'\"': 'PUNCT'}, {'[': 'X'}, {\"'\": 'PROPN'}, {'Total': 'ADJ'}, {\"'\": 'PUNCT'}, {',': 'PUNCT'}, {'\"': 'PUNCT'}, {',': 'PUNCT'}, {'\"': 'PUNCT'}, {\"'\": 'PUNCT'}, {'Sepal': 'NOUN'}, {\"'\": 'PUNCT'}, {',': 'PUNCT'}, {'\"': 'PUNCT'}, {',': 'PUNCT'}, {'\"': 'PUNCT'}, {\"'\": 'PUNCT'}, {'Length': 'PROPN'}, {\"'\": 'PUNCT'}, {',': 'PUNCT'}, {'\"': 'PUNCT'}, {',': 'PUNCT'}, {'\"': 'PUNCT'}, {\"'\": 'PUNCT'}, {'for': 'ADP'}, {\"'\": 'NUM'}, {',': 'PUNCT'}, {'\"': 'PUNCT'}, {',': 'PUNCT'}, {'\"': 'PUNCT'}, {\"'\": 'PUNCT'}, {'all': 'PRON'}, {\"'\": 'PROPN'}, {',': 'PUNCT'}, {'\"': 'PUNCT'}, {',': 'PUNCT'}, {'\"': 'PUNCT'}, {\"'\": 'PUNCT'}, {'Iris': 'PROPN'}, {\"'\": 'NUM'}, {',': 'PUNCT'}, {'\"': 'PUNCT'}, {',': 'PUNCT'}, {'\"': 'PUNCT'}, {\"'\": 'PUNCT'}, {'flowers': 'NOUN'}, {\"'\": 'VERB'}, {']': 'PUNCT'}, {'\"': 'PUNCT'}, {']': 'PUNCT'}, {'[': 'X'}, {'\"': 'PUNCT'}, {'[': 'X'}, {\"'\": 'PUNCT'}, {'Average': 'ADJ'}, {\"'\": 'PUNCT'}, {',': 'PUNCT'}, {'\"': 'PUNCT'}, {',': 'PUNCT'}, {'\"': 'PUNCT'}, {\"'\": 'PUNCT'}, {'Petal': 'ADJ'}, {\"'\": 'PUNCT'}, {',': 'PUNCT'}, {'\"': 'PUNCT'}, {',': 'PUNCT'}, {'\"': 'PUNCT'}, {\"'\": 'PUNCT'}, {'Width': 'PROPN'}, {\"'\": 'PUNCT'}, {',': 'PUNCT'}, {'\"': 'PUNCT'}, {',': 'PUNCT'}, {'\"': 'PUNCT'}, {\"'\": 'PUNCT'}, {'across': 'ADP'}, {\"'\": 'PUNCT'}, {',': 'PUNCT'}, {'\"': 'PUNCT'}, {',': 'PUNCT'}, {'\"': 'PUNCT'}, {\"'\": 'PUNCT'}, {'all': 'PRON'}, {\"'\": 'PROPN'}, {',': 'PUNCT'}, {'\"': 'PUNCT'}, {',': 'PUNCT'}, {'\"': 'PUNCT'}, {\"'\": 'PUNCT'}, {'species': 'NOUN'}, {\"'\": 'PUNCT'}, {']': 'PUNCT'}, {'\"': 'PUNCT'}, {']': 'PUNCT'}, {'[': 'X'}, {'\"': 'PUNCT'}, {'[': 'X'}, {\"'\": 'PUNCT'}, {'Median': 'PROPN'}, {\"'\": 'PROPN'}, {',': 'PUNCT'}, {'\"': 'PUNCT'}, {',': 'PUNCT'}, {'\"': 'PUNCT'}, {\"'\": 'PUNCT'}, {'Sepal': 'NOUN'}, {\"'\": 'PUNCT'}, {',': 'PUNCT'}, {'\"': 'PUNCT'}, {',': 'PUNCT'}, {'\"': 'PUNCT'}, {\"'\": 'PUNCT'}, {'Width': 'PROPN'}, {\"'\": 'PUNCT'}, {',': 'PUNCT'}, {'\"': 'PUNCT'}, {',': 'PUNCT'}, {'\"': 'PUNCT'}, {\"'\": 'PUNCT'}, {'for': 'ADP'}, {\"'\": 'NUM'}, {',': 'PUNCT'}, {'\"': 'PUNCT'}, {',': 'PUNCT'}, {'\"': 'PUNCT'}, {\"'\": 'PUNCT'}, {'Iris': 'PROPN'}, {\"'\": 'NUM'}, {',': 'PUNCT'}, {'\"': 'PUNCT'}, {',': 'PUNCT'}, {'\"': 'PUNCT'}, {\"'\": 'PUNCT'}, {'setosa': 'VERB'}, {\"'\": 'PUNCT'}, {']': 'PUNCT'}, {'\"': 'PUNCT'}, {']': 'PUNCT'}, {'[': 'X'}, {'\"': 'PUNCT'}, {'[': 'X'}, {\"'\": 'X'}, {'Count': 'PROPN'}, {\"'\": 'PUNCT'}, {',': 'PUNCT'}, {'\"': 'PUNCT'}, {',': 'PUNCT'}, {'\"': 'PUNCT'}, {\"'\": 'PUNCT'}, {'of': 'ADP'}, {\"'\": 'NUM'}, {',': 'PUNCT'}, {'\"': 'PUNCT'}, {',': 'PUNCT'}, {'\"': 'PUNCT'}, {\"'\": 'PUNCT'}, {'Iris': 'PROPN'}, {\"'\": 'NUM'}, {',': 'PUNCT'}, {'\"': 'PUNCT'}, {',': 'PUNCT'}, {'\"': 'PUNCT'}, {\"'\": 'PUNCT'}, {'versicolor': 'NOUN'}, {\"'\": 'PUNCT'}, {',': 'PUNCT'}, {'\"': 'PUNCT'}, {',': 'PUNCT'}, {'\"': 'PUNCT'}, {\"'\": 'PUNCT'}, {'flowers': 'NOUN'}, {\"'\": 'VERB'}, {']': 'PUNCT'}, {'\"': 'PUNCT'}, {']': 'PUNCT'}, {'[': 'X'}, {'\"': 'PUNCT'}, {'[': 'X'}, {\"'\": 'X'}, {'Distinct': 'ADJ'}, {\"'\": 'PUNCT'}, {',': 'PUNCT'}, {'\"': 'PUNCT'}, {',': 'PUNCT'}, {'\"': 'PUNCT'}, {\"'\": 'PUNCT'}, {'count': 'VERB'}, {\"'\": 'PUNCT'}, {',': 'PUNCT'}, {'\"': 'PUNCT'}, {',': 'PUNCT'}, {'\"': 'PUNCT'}, {\"'\": 'PUNCT'}, {'of': 'ADP'}, {\"'\": 'NUM'}, {',': 'PUNCT'}, {'\"': 'PUNCT'}, {',': 'PUNCT'}, {'\"': 'PUNCT'}, {\"'\": 'PUNCT'}, {'species': 'NOUN'}, {\"'\": 'PUNCT'}, {',': 'PUNCT'}, {'\"': 'PUNCT'}, {',': 'PUNCT'}, {'\"': 'PUNCT'}, {\"'\": 'PUNCT'}, {'with': 'ADP'}, {\"'\": 'PROPN'}, {',': 'PUNCT'}, {'\"': 'PUNCT'}, {',': 'PUNCT'}, {'\"': 'PUNCT'}, {\"'\": 'PUNCT'}, {'Sepal': 'NOUN'}, {\"'\": 'PUNCT'}, {',': 'PUNCT'}, {'\"': 'PUNCT'}, {',': 'PUNCT'}, {'\"': 'PUNCT'}, {\"'\": 'PUNCT'}, {'Length': 'PROPN'}, {\"'\": 'PUNCT'}, {',': 'PUNCT'}, {'\"': 'PUNCT'}, {',': 'PUNCT'}, {'\"': 'PUNCT'}, {\"'\": 'PUNCT'}, {'over': 'ADP'}, {\"'\": 'PUNCT'}, {',': 'PUNCT'}, {'\"': 'PUNCT'}, {',': 'PUNCT'}, {'\"': 'PUNCT'}, {\"'\": 'PROPN'}, {'5': 'NUM'}, {\"'\": 'NUM'}, {',': 'PUNCT'}, {'\"': 'PUNCT'}, {',': 'PUNCT'}, {'\"': 'PUNCT'}, {\"'\": 'PUNCT'}, {'.': 'PUNCT'}, {\"'\": 'PUNCT'}, {',': 'PUNCT'}, {'\"': 'PUNCT'}, {',': 'PUNCT'}, {'\"': 'PUNCT'}, {\"'\": 'PUNCT'}, {'0': 'X'}, {\"'\": 'PUNCT'}, {']': 'PUNCT'}, {'\"': 'PUNCT'}, {']': 'PUNCT'}, {'[': 'X'}, {'\"': 'PUNCT'}, {'[': 'X'}, {\"'\": 'PUNCT'}, {'Minimum': 'ADJ'}, {\"'\": 'PUNCT'}, {',': 'PUNCT'}, {'\"': 'PUNCT'}, {',': 'PUNCT'}, {'\"': 'PUNCT'}, {\"'\": 'PUNCT'}, {'Petal': 'ADJ'}, {\"'\": 'PUNCT'}, {',': 'PUNCT'}, {'\"': 'PUNCT'}, {',': 'PUNCT'}, {'\"': 'PUNCT'}, {\"'\": 'PUNCT'}, {'Length': 'PROPN'}, {\"'\": 'PUNCT'}, {',': 'PUNCT'}, {'\"': 'PUNCT'}, {',': 'PUNCT'}, {'\"': 'PUNCT'}, {\"'\": 'PUNCT'}, {'for': 'ADP'}, {\"'\": 'NUM'}, {',': 'PUNCT'}, {'\"': 'PUNCT'}, {',': 'PUNCT'}, {'\"': 'PUNCT'}, {\"'\": 'PUNCT'}, {'Iris': 'PROPN'}, {\"'\": 'NUM'}, {',': 'PUNCT'}, {'\"': 'PUNCT'}, {',': 'PUNCT'}, {'\"': 'PUNCT'}, {\"'\": 'PUNCT'}, {'virginica': 'X'}, {\"'\": 'PUNCT'}, {']': 'PUNCT'}, {'\"': 'PUNCT'}, {']': 'PUNCT'}, {'[': 'X'}, {'\"': 'PUNCT'}, {'[': 'X'}, {\"'\": 'PUNCT'}, {'Maximum': 'ADJ'}, {\"'\": 'NUM'}, {',': 'PUNCT'}, {'\"': 'PUNCT'}, {',': 'PUNCT'}, {'\"': 'PUNCT'}, {\"'\": 'PUNCT'}, {'Sepal': 'NOUN'}, {\"'\": 'PUNCT'}, {',': 'PUNCT'}, {'\"': 'PUNCT'}, {',': 'PUNCT'}, {'\"': 'PUNCT'}, {\"'\": 'PUNCT'}, {'Width': 'PROPN'}, {\"'\": 'PUNCT'}, {',': 'PUNCT'}, {'\"': 'PUNCT'}, {',': 'PUNCT'}, {'\"': 'PUNCT'}, {\"'\": 'PUNCT'}, {'across': 'ADP'}, {\"'\": 'PUNCT'}, {',': 'PUNCT'}, {'\"': 'PUNCT'}, {',': 'PUNCT'}, {'\"': 'PUNCT'}, {\"'\": 'PUNCT'}, {'Iris': 'PROPN'}, {\"'\": 'NUM'}, {',': 'PUNCT'}, {'\"': 'PUNCT'}, {',': 'PUNCT'}, {'\"': 'PUNCT'}, {\"'\": 'PUNCT'}, {'setosa': 'VERB'}, {\"'\": 'PUNCT'}, {']': 'PUNCT'}, {'\"': 'PUNCT'}, {']': 'PUNCT'}, {'[': 'X'}, {'\"': 'PUNCT'}, {'[': 'X'}, {\"'\": 'PROPN'}, {'Total': 'ADJ'}, {\"'\": 'PUNCT'}, {',': 'PUNCT'}, {'\"': 'PUNCT'}, {',': 'PUNCT'}, {'\"': 'PUNCT'}, {\"'\": 'PUNCT'}, {'number': 'NOUN'}, {\"'\": 'PUNCT'}, {',': 'PUNCT'}, {'\"': 'PUNCT'}, {',': 'PUNCT'}, {'\"': 'PUNCT'}, {\"'\": 'PUNCT'}, {'of': 'ADP'}, {\"'\": 'NUM'}, {',': 'PUNCT'}, {'\"': 'PUNCT'}, {',': 'PUNCT'}, {'\"': 'PUNCT'}, {\"'\": 'PUNCT'}, {'records': 'NOUN'}, {\"'\": 'PART'}, {',': 'PUNCT'}, {'\"': 'PUNCT'}, {',': 'PUNCT'}, {'\"': 'PUNCT'}, {\"'\": 'PUNCT'}, {'grouped': 'VERB'}, {\"'\": 'PUNCT'}, {',': 'PUNCT'}, {'\"': 'PUNCT'}, {',': 'PUNCT'}, {'\"': 'PUNCT'}, {\"'\": 'PUNCT'}, {'by': 'ADP'}, {\"'\": 'NUM'}, {',': 'PUNCT'}, {'\"': 'PUNCT'}, {',': 'PUNCT'}, {'\"': 'PUNCT'}, {\"'\": 'PUNCT'}, {'Species': 'PROPN'}, {\"'\": 'PUNCT'}, {']': 'PUNCT'}, {'\"': 'PUNCT'}, {']': 'PUNCT'}, {'[': 'X'}, {'\"': 'PUNCT'}, {'[': 'X'}, {\"'\": 'X'}, {'Filter': 'PROPN'}, {\"'\": 'NUM'}, {',': 'PUNCT'}, {'\"': 'PUNCT'}, {',': 'PUNCT'}, {'\"': 'PUNCT'}, {\"'\": 'PUNCT'}, {'to': 'PART'}, {\"'\": 'NUM'}, {',': 'PUNCT'}, {'\"': 'PUNCT'}, {',': 'PUNCT'}, {'\"': 'PUNCT'}, {\"'\": 'PUNCT'}, {'show': 'VERB'}, {\"'\": 'PUNCT'}, {',': 'PUNCT'}, {'\"': 'PUNCT'}, {',': 'PUNCT'}, {'\"': 'PUNCT'}, {\"'\": 'PUNCT'}, {'only': 'ADV'}, {\"'\": 'NUM'}, {',': 'PUNCT'}, {'\"': 'PUNCT'}, {',': 'PUNCT'}, {'\"': 'PUNCT'}, {\"'\": 'PUNCT'}, {'Iris': 'PROPN'}, {\"'\": 'NUM'}, {',': 'PUNCT'}, {'\"': 'PUNCT'}, {',': 'PUNCT'}, {'\"': 'PUNCT'}, {\"'\": 'PUNCT'}, {'versicolor': 'NOUN'}, {\"'\": 'PUNCT'}, {',': 'PUNCT'}, {'\"': 'PUNCT'}, {',': 'PUNCT'}, {'\"': 'PUNCT'}, {\"'\": 'PUNCT'}, {'with': 'ADP'}, {\"'\": 'PROPN'}, {',': 'PUNCT'}, {'\"': 'PUNCT'}, {',': 'PUNCT'}, {'\"': 'PUNCT'}, {\"'\": 'PUNCT'}, {'Sepal': 'NOUN'}, {\"'\": 'PUNCT'}, {',': 'PUNCT'}, {'\"': 'PUNCT'}, {',': 'PUNCT'}, {'\"': 'PUNCT'}, {\"'\": 'PUNCT'}, {'Width': 'PROPN'}, {\"'\": 'PUNCT'}, {',': 'PUNCT'}, {'\"': 'PUNCT'}, {',': 'PUNCT'}, {'\"': 'PUNCT'}, {\"'\": 'PUNCT'}, {'at': 'ADP'}, {\"'\": 'NUM'}, {',': 'PUNCT'}, {'\"': 'PUNCT'}, {',': 'PUNCT'}, {'\"': 'PUNCT'}, {\"'\": 'PUNCT'}, {'least': 'ADJ'}, {\"'\": 'PUNCT'}, {',': 'PUNCT'}, {'\"': 'PUNCT'}, {',': 'PUNCT'}, {'\"': 'PUNCT'}, {\"'\": 'PROPN'}, {'3': 'NUM'}, {\"'\": 'NUM'}, {',': 'PUNCT'}, {'\"': 'PUNCT'}, {',': 'PUNCT'}, {'\"': 'PUNCT'}, {\"'\": 'PUNCT'}, {'.': 'PUNCT'}, {\"'\": 'PUNCT'}, {',': 'PUNCT'}, {'\"': 'PUNCT'}, {',': 'PUNCT'}, {'\"': 'PUNCT'}, {\"'\": 'PUNCT'}, {'0': 'X'}, {\"'\": 'PUNCT'}, {']': 'PUNCT'}, {'\"': 'PUNCT'}, {']': 'PUNCT'}, {'[': 'X'}, {'\"': 'PUNCT'}, {'[': 'X'}, {\"'\": 'PUNCT'}, {'Show': 'VERB'}, {\"'\": 'PUNCT'}, {',': 'PUNCT'}, {'\"': 'PUNCT'}, {',': 'PUNCT'}, {'\"': 'PUNCT'}, {\"'\": 'PUNCT'}, {'top': 'VERB'}, {\"'\": 'PUNCT'}, {',': 'PUNCT'}, {'\"': 'PUNCT'}, {',': 'PUNCT'}, {'\"': 'PUNCT'}, {\"'\": 'PROPN'}, {'5': 'NUM'}, {\"'\": 'NUM'}, {',': 'PUNCT'}, {'\"': 'PUNCT'}, {',': 'PUNCT'}, {'\"': 'PUNCT'}, {\"'\": 'PUNCT'}, {'Sepal': 'NOUN'}, {\"'\": 'PUNCT'}, {',': 'PUNCT'}, {'\"': 'PUNCT'}, {',': 'PUNCT'}, {'\"': 'PUNCT'}, {\"'\": 'PUNCT'}, {'Lengths': 'NOUN'}, {\"'\": 'NUM'}, {',': 'PUNCT'}, {'\"': 'PUNCT'}, {',': 'PUNCT'}, {'\"': 'PUNCT'}, {\"'\": 'PUNCT'}, {'within': 'ADP'}, {\"'\": 'PUNCT'}, {',': 'PUNCT'}, {'\"': 'PUNCT'}, {',': 'PUNCT'}, {'\"': 'PUNCT'}, {\"'\": 'PUNCT'}, {'Iris': 'PROPN'}, {\"'\": 'NUM'}, {',': 'PUNCT'}, {'\"': 'PUNCT'}, {',': 'PUNCT'}, {'\"': 'PUNCT'}, {\"'\": 'PUNCT'}, {'virginica': 'X'}, {\"'\": 'PUNCT'}, {',': 'PUNCT'}, {'\"': 'PUNCT'}, {',': 'PUNCT'}, {'\"': 'PUNCT'}, {\"'\": 'PUNCT'}, {'only': 'ADV'}, {\"'\": 'PUNCT'}, {']': 'X'}, {'\"': 'PUNCT'}, {']': 'PUNCT'}, {'[': 'X'}, {'\"': 'PUNCT'}, {'[': 'X'}, {\"'\": 'X'}, {'Iris': 'PROPN'}, {\"'\": 'PROPN'}, {',': 'PUNCT'}, {'\"': 'PUNCT'}, {',': 'PUNCT'}, {'\"': 'PUNCT'}, {\"'\": 'PUNCT'}, {'flowers': 'NOUN'}, {\"'\": 'PART'}, {',': 'PUNCT'}, {'\"': 'PUNCT'}, {',': 'PUNCT'}, {'\"': 'PUNCT'}, {\"'\": 'PUNCT'}, {'with': 'ADP'}, {\"'\": 'PROPN'}, {',': 'PUNCT'}, {'\"': 'PUNCT'}, {',': 'PUNCT'}, {'\"': 'PUNCT'}, {\"'\": 'PUNCT'}, {'Petal': 'ADJ'}, {\"'\": 'PUNCT'}, {',': 'PUNCT'}, {'\"': 'PUNCT'}, {',': 'PUNCT'}, {'\"': 'PUNCT'}, {\"'\": 'PUNCT'}, {'Width': 'PROPN'}, {\"'\": 'PUNCT'}, {',': 'PUNCT'}, {'\"': 'PUNCT'}, {',': 'PUNCT'}, {'\"': 'PUNCT'}, {\"'\": 'PUNCT'}, {'in': 'ADP'}, {\"'\": 'NUM'}, {',': 'PUNCT'}, {'\"': 'PUNCT'}, {',': 'PUNCT'}, {'\"': 'PUNCT'}, {\"'\": 'PUNCT'}, {'the': 'PRON'}, {\"'\": 'PUNCT'}, {',': 'PUNCT'}, {'\"': 'PUNCT'}, {',': 'PUNCT'}, {'\"': 'PUNCT'}, {\"'\": 'PUNCT'}, {'bottom': 'ADJ'}, {\"'\": 'PUNCT'}, {',': 'PUNCT'}, {'\"': 'PUNCT'}, {',': 'PUNCT'}, {'\"': 'PUNCT'}, {\"'\": 'PUNCT'}, {'10th': 'X'}, {\"'\": 'PUNCT'}, {',': 'PUNCT'}, {'\"': 'PUNCT'}, {',': 'PUNCT'}, {'\"': 'PUNCT'}, {\"'\": 'PUNCT'}, {'percentile': 'VERB'}, {\"'\": 'PUNCT'}, {']': 'PUNCT'}, {'\"': 'PUNCT'}, {']': 'PUNCT'}, {'[': 'X'}, {'\"': 'PUNCT'}, {'[': 'X'}, {\"'\": 'PUNCT'}, {'Average': 'ADJ'}, {\"'\": 'PUNCT'}, {',': 'PUNCT'}, {'\"': 'PUNCT'}, {',': 'PUNCT'}, {'\"': 'PUNCT'}, {\"'\": 'PUNCT'}, {'Sepal': 'NOUN'}, {\"'\": 'PUNCT'}, {',': 'PUNCT'}, {'\"': 'PUNCT'}, {',': 'PUNCT'}, {'\"': 'PUNCT'}, {\"'\": 'PUNCT'}, {'Length': 'PROPN'}, {\"'\": 'PUNCT'}, {',': 'PUNCT'}, {'\"': 'PUNCT'}, {',': 'PUNCT'}, {'\"': 'PUNCT'}, {\"'\": 'PUNCT'}, {'for': 'ADP'}, {\"'\": 'NUM'}, {',': 'PUNCT'}, {'\"': 'PUNCT'}, {',': 'PUNCT'}, {'\"': 'PUNCT'}, {\"'\": 'PUNCT'}, {'each': 'PRON'}, {\"'\": 'PUNCT'}, {',': 'PUNCT'}, {'\"': 'PUNCT'}, {',': 'PUNCT'}, {'\"': 'PUNCT'}, {\"'\": 'PUNCT'}, {'species': 'NOUN'}, {\"'\": 'PUNCT'}, {']': 'PUNCT'}, {'\"': 'PUNCT'}, {']': 'PUNCT'}, {'[': 'X'}, {'\"': 'PUNCT'}, {'[': 'X'}, {\"'\": 'X'}, {'Entries': 'NOUN'}, {\"'\": 'PUNCT'}, {',': 'PUNCT'}, {'\"': 'PUNCT'}, {',': 'PUNCT'}, {'\"': 'PUNCT'}, {\"'\": 'PUNCT'}, {'with': 'ADP'}, {\"'\": 'PROPN'}, {',': 'PUNCT'}, {'\"': 'PUNCT'}, {',': 'PUNCT'}, {'\"': 'PUNCT'}, {\"'\": 'PUNCT'}, {'Petal': 'ADJ'}, {\"'\": 'PUNCT'}, {',': 'PUNCT'}, {'\"': 'PUNCT'}, {',': 'PUNCT'}, {'\"': 'PUNCT'}, {\"'\": 'PUNCT'}, {'Length': 'PROPN'}, {\"'\": 'PUNCT'}, {',': 'PUNCT'}, {'\"': 'PUNCT'}, {',': 'PUNCT'}, {'\"': 'PUNCT'}, {\"'\": 'PUNCT'}, {'between': 'ADP'}, {\"'\": 'PUNCT'}, {',': 'PUNCT'}, {'\"': 'PUNCT'}, {',': 'PUNCT'}, {'\"': 'PUNCT'}, {\"'\": 'PROPN'}, {'4': 'NUM'}, {\"'\": 'NUM'}, {',': 'PUNCT'}, {'\"': 'PUNCT'}, {',': 'PUNCT'}, {'\"': 'PUNCT'}, {\"'\": 'PUNCT'}, {'.': 'PUNCT'}, {\"'\": 'PUNCT'}, {',': 'PUNCT'}, {'\"': 'PUNCT'}, {',': 'PUNCT'}, {'\"': 'PUNCT'}, {\"'\": 'PUNCT'}, {'0': 'X'}, {\"'\": 'PUNCT'}, {',': 'PUNCT'}, {'\"': 'PUNCT'}, {',': 'PUNCT'}, {'\"': 'PUNCT'}, {\"'\": 'PUNCT'}, {'and': 'CCONJ'}, {\"'\": 'NUM'}, {',': 'PUNCT'}, {'\"': 'PUNCT'}, {',': 'PUNCT'}, {'\"': 'PUNCT'}, {\"'\": 'PROPN'}, {'5': 'NUM'}, {\"'\": 'NUM'}, {',': 'PUNCT'}, {'\"': 'PUNCT'}, {',': 'PUNCT'}, {'\"': 'PUNCT'}, {\"'\": 'PUNCT'}, {'.': 'PUNCT'}, {\"'\": 'PUNCT'}, {',': 'PUNCT'}, {'\"': 'PUNCT'}, {',': 'PUNCT'}, {'\"': 'PUNCT'}, {\"'\": 'PUNCT'}, {'0': 'X'}, {\"'\": 'PUNCT'}, {',': 'PUNCT'}, {'\"': 'PUNCT'}, {',': 'PUNCT'}, {'\"': 'PUNCT'}, {\"'\": 'PUNCT'}, {'for': 'ADP'}, {\"'\": 'NUM'}, {',': 'PUNCT'}, {'\"': 'PUNCT'}, {',': 'PUNCT'}, {'\"': 'PUNCT'}, {\"'\": 'PUNCT'}, {'Iris': 'PROPN'}, {\"'\": 'NUM'}, {',': 'PUNCT'}, {'\"': 'PUNCT'}, {',': 'PUNCT'}, {'\"': 'PUNCT'}, {\"'\": 'PUNCT'}, {'setosa': 'VERB'}, {\"'\": 'PUNCT'}, {']': 'PUNCT'}, {'\"': 'PUNCT'}, {']': 'PUNCT'}, {'[': 'X'}, {'\"': 'PUNCT'}, {'[': 'X'}, {\"'\": 'X'}, {'Count': 'PROPN'}, {\"'\": 'PUNCT'}, {',': 'PUNCT'}, {'\"': 'PUNCT'}, {',': 'PUNCT'}, {'\"': 'PUNCT'}, {\"'\": 'PUNCT'}, {'Iris': 'PROPN'}, {\"'\": 'NUM'}, {',': 'PUNCT'}, {'\"': 'PUNCT'}, {',': 'PUNCT'}, {'\"': 'PUNCT'}, {\"'\": 'PUNCT'}, {'flowers': 'NOUN'}, {\"'\": 'PART'}, {',': 'PUNCT'}, {'\"': 'PUNCT'}, {',': 'PUNCT'}, {'\"': 'PUNCT'}, {\"'\": 'PUNCT'}, {'where': 'SCONJ'}, {\"'\": 'NUM'}, {',': 'PUNCT'}, {'\"': 'PUNCT'}, {',': 'PUNCT'}, {'\"': 'PUNCT'}, {\"'\": 'PUNCT'}, {'the': 'DET'}, {\"'\": 'PUNCT'}, {',': 'PUNCT'}, {'\"': 'PUNCT'}, {',': 'PUNCT'}, {'\"': 'PUNCT'}, {\"'\": 'PUNCT'}, {'Species': 'NOUN'}, {\"'\": 'PUNCT'}, {',': 'PUNCT'}, {'\"': 'PUNCT'}, {',': 'PUNCT'}, {'\"': 'PUNCT'}, {\"'\": 'PUNCT'}, {'name': 'NOUN'}, {\"'\": 'PUNCT'}, {',': 'PUNCT'}, {'\"': 'PUNCT'}, {',': 'PUNCT'}, {'\"': 'PUNCT'}, {\"'\": 'PUNCT'}, {'contains': 'VERB'}, {\"'\": 'PUNCT'}, {',': 'PUNCT'}, {'\"': 'PUNCT'}, {',': 'PUNCT'}, {\"'\": 'PUNCT'}, {'\"': 'PUNCT'}, {'\\\\': 'PROPN'}, {\"'\": 'PUNCT'}, {'\"': 'PUNCT'}, {',': 'PUNCT'}, {\"'\": 'PUNCT'}, {',': 'PUNCT'}, {'\"': 'PUNCT'}, {\"'\": 'PUNCT'}, {'color': 'NOUN'}, {\"'\": 'PUNCT'}, {',': 'PUNCT'}, {'\"': 'PUNCT'}, {',': 'PUNCT'}, {\"'\": 'PUNCT'}, {'\"': 'PUNCT'}, {'\\\\': 'PROPN'}, {\"'\": 'PUNCT'}, {'\"': 'PUNCT'}, {']': 'PUNCT'}, {\"'\": 'X'}, {']': 'PUNCT'}, {'[': 'X'}, {'\"': 'PUNCT'}, {'[': 'X'}, {\"'\": 'PUNCT'}, {'List': 'NOUN'}, {\"'\": 'PUNCT'}, {',': 'PUNCT'}, {'\"': 'PUNCT'}, {',': 'PUNCT'}, {'\"': 'PUNCT'}, {\"'\": 'PUNCT'}, {'all': 'PRON'}, {\"'\": 'PROPN'}, {',': 'PUNCT'}, {'\"': 'PUNCT'}, {',': 'PUNCT'}, {'\"': 'PUNCT'}, {\"'\": 'PUNCT'}, {'Iris': 'PROPN'}, {\"'\": 'NUM'}, {',': 'PUNCT'}, {'\"': 'PUNCT'}, {',': 'PUNCT'}, {'\"': 'PUNCT'}, {\"'\": 'PUNCT'}, {'flowers': 'NOUN'}, {\"'\": 'PART'}, {',': 'PUNCT'}, {'\"': 'PUNCT'}, {',': 'PUNCT'}, {'\"': 'PUNCT'}, {\"'\": 'PUNCT'}, {'where': 'SCONJ'}, {\"'\": 'NUM'}, {',': 'PUNCT'}, {'\"': 'PUNCT'}, {',': 'PUNCT'}, {'\"': 'PUNCT'}, {\"'\": 'PUNCT'}, {'the': 'DET'}, {\"'\": 'PUNCT'}, {',': 'PUNCT'}, {'\"': 'PUNCT'}, {',': 'PUNCT'}, {'\"': 'PUNCT'}, {\"'\": 'PUNCT'}, {'Species': 'NOUN'}, {\"'\": 'PUNCT'}, {',': 'PUNCT'}, {'\"': 'PUNCT'}, {',': 'PUNCT'}, {'\"': 'PUNCT'}, {\"'\": 'PUNCT'}, {'name': 'NOUN'}, {\"'\": 'PUNCT'}, {',': 'PUNCT'}, {'\"': 'PUNCT'}, {',': 'PUNCT'}, {'\"': 'PUNCT'}, {\"'\": 'PUNCT'}, {'starts': 'VERB'}, {\"'\": 'PUNCT'}, {',': 'PUNCT'}, {'\"': 'PUNCT'}, {',': 'PUNCT'}, {'\"': 'PUNCT'}, {\"'\": 'PUNCT'}, {'with': 'ADP'}, {\"'\": 'PROPN'}, {',': 'PUNCT'}, {'\"': 'PUNCT'}, {',': 'PUNCT'}, {\"'\": 'PUNCT'}, {'\"': 'PUNCT'}, {'\\\\': 'PROPN'}, {\"'\": 'PUNCT'}, {'\"': 'PUNCT'}, {',': 'PUNCT'}, {\"'\": 'PUNCT'}, {',': 'PUNCT'}, {'\"': 'PUNCT'}, {\"'\": 'PUNCT'}, {'Iri': 'PROPN'}, {\"'\": 'PROPN'}, {',': 'PUNCT'}, {'\"': 'PUNCT'}, {',': 'PUNCT'}, {\"'\": 'PUNCT'}, {'\"': 'PUNCT'}, {'\\\\': 'PROPN'}, {\"'\": 'PUNCT'}, {'\"': 'PUNCT'}, {',': 'PUNCT'}, {\"'\": 'PUNCT'}, {',': 'PUNCT'}, {'\"': 'PUNCT'}, {\"'\": 'PUNCT'}, {'and': 'CCONJ'}, {\"'\": 'NUM'}, {',': 'PUNCT'}, {'\"': 'PUNCT'}, {',': 'PUNCT'}, {'\"': 'PUNCT'}, {\"'\": 'PUNCT'}, {'ends': 'VERB'}, {\"'\": 'PUNCT'}, {',': 'PUNCT'}, {'\"': 'PUNCT'}, {',': 'PUNCT'}, {'\"': 'PUNCT'}, {\"'\": 'PUNCT'}, {'with': 'ADP'}, {\"'\": 'PROPN'}, {',': 'PUNCT'}, {'\"': 'PUNCT'}, {',': 'PUNCT'}, {\"'\": 'PUNCT'}, {'\"': 'PUNCT'}, {'\\\\': 'PROPN'}, {\"'\": 'PUNCT'}, {'\"': 'PUNCT'}, {',': 'PUNCT'}, {\"'\": 'PUNCT'}, {',': 'PUNCT'}, {'\"': 'PUNCT'}, {\"'\": 'PUNCT'}, {'a': 'DET'}, {\"'\": 'PUNCT'}, {',': 'PUNCT'}, {'\"': 'PUNCT'}, {',': 'PUNCT'}, {\"'\": 'PUNCT'}, {'\"': 'PUNCT'}, {'\\\\': 'PROPN'}, {\"'\": 'PUNCT'}, {'\"': 'PUNCT'}, {']': 'PUNCT'}, {\"'\": 'X'}, {']': 'PUNCT'}]\n",
            "Tokenized Description : ['PRON', 'ADP', 'PROPN', 'ADJ', 'X', 'AUX', 'SCONJ', 'DET', 'INTJ', 'VERB', 'ADV', 'PART', 'PUNCT', 'NOUN', 'CCONJ', 'NUM']\n"
          ]
        }
      ]
    },
    {
      "cell_type": "code",
      "source": [
        "for pat in p_d:\n",
        "   print({pat:p_d[pat]})"
      ],
      "metadata": {
        "id": "s-yND2LbWjGZ",
        "colab": {
          "base_uri": "https://localhost:8080/"
        },
        "outputId": "c362c8ae-660b-4e4e-89ce-aa84e20fe6d3"
      },
      "execution_count": 46,
      "outputs": [
        {
          "output_type": "stream",
          "name": "stdout",
          "text": [
            "{'PRON': ['each', 'there', 'the', 'a', 'this', 'What', 'all', 'both']}\n",
            "{'ADP': ['within', 'for', 'of', 'by', 'in', 'above', 'from', 'over', 'with', 'at', 'than', 'between', 'across']}\n",
            "{'PROPN': ['Sum', \"'\", 'Width', 'Count', 'Group', 'Species', 'Se', 'Filter', 'Iri', '\\\\', 'January', 'Median', 'Rank', 'Length', 'Iris']}\n",
            "{'ADJ': ['Distinct', 'Maximum', 'high', 'bottom', 'middle', 'equal', 'Total', 'Lowest', 'Average', 'Select', 'Highest', 'total', 'Minimum', 'last', 'average', 'smallest', 'least', 'low', 'Petal', 'many', 'less', 'distinct', 'highest', 'greater', 'Top', 'unique']}\n",
            "{'X': [\"'\", '[', '0', ']', 'median', 'virginica', 'Length', '1', '10th', '2']}\n",
            "{'AUX': ['are', \"'s\", 'is']}\n",
            "{'SCONJ': ['where', 'how', 'How']}\n",
            "{'DET': ['a', 'the']}\n",
            "{'INTJ': ['%']}\n",
            "{'VERB': ['Find', 'contains', 'starting', 'ends', 'Calculate', 'percentile', 'Show', 'found', 'assuming', 'show', 'top', 'recorded', 'setosa', \"'\", 'Date', 'start', 'ica', 'starts', 'sorted', 'descending', 'ascending', 'dataset', 'Organize', 'Setosa', 'count', 'Aggregate', 'grouped']}\n",
            "{'ADV': ['alphabetically', 'only', 'Sort', 'exactly']}\n",
            "{'PART': [\"'\", 'not', 'to']}\n",
            "{'PUNCT': ['.', \"'\", ')', '\"', ']', '?', '(', ',']}\n",
            "{'NOUN': ['field', 'versicolor', 'Species', 'List', 'Lengths', 'entries', 'Widths', 'observation', 'color', 'value', 'number', 'month', 'Sepal', 'Number', 'Entries', 'name', 'Display', 'species', 'year', 'occurrences', 'flowers', 'points', 'Determine', 'types', 'flower', 'records', 'order', 'C', 'data']}\n",
            "{'CCONJ': ['or', 'and']}\n",
            "{'NUM': [\"'\", '5', '3', '10', '4']}\n"
          ]
        }
      ]
    },
    {
      "cell_type": "code",
      "source": [
        "p_t=dg_ent['Patterns_Formula(Tableau)']=get_patterns(formulas,'vocab')"
      ],
      "metadata": {
        "id": "n0kwSUbJRzYG",
        "colab": {
          "base_uri": "https://localhost:8080/"
        },
        "outputId": "bc0b782d-c751-4e4f-d601-7240ff0d4d65"
      },
      "execution_count": 47,
      "outputs": [
        {
          "output_type": "stream",
          "name": "stdout",
          "text": [
            "[{'[': 'X'}, {\"'\": 'PUNCT'}, {'CONTAINS': 'X'}, {\"'\": 'PUNCT'}, {']': 'PUNCT'}, {'[': 'X'}, {\"'\": 'X'}, {'versicolor': 'NOUN'}, {\"'\": 'PUNCT'}, {']': 'PUNCT'}, {'[': 'X'}, {\"'\": 'VERB'}, {'LEFT': 'PROPN'}, {\"'\": 'PUNCT'}, {']': 'PUNCT'}, {'[': 'X'}, {\"'\": 'PROPN'}, {'STARTS': 'PROPN'}, {\"'\": 'PUNCT'}, {']': 'PUNCT'}, {'[': 'X'}, {\"'\": 'PUNCT'}, {'FROM': 'ADP'}, {\"'\": 'PUNCT'}, {']': 'PUNCT'}, {'[': 'X'}, {\"'\": 'INTJ'}, {'-': 'VERB'}, {\"'\": 'PUNCT'}, {']': 'PUNCT'}, {'[': 'X'}, {\"'\": 'PUNCT'}, {'LISTED': 'VERB'}, {\"'\": 'PUNCT'}, {']': 'PUNCT'}, {'[': 'X'}, {\"'\": 'NUM'}, {'9': 'NUM'}, {\"'\": 'PUNCT'}, {']': 'PUNCT'}, {'[': 'X'}, {\"'\": 'NOUN'}, {'1': 'NUM'}, {\"'\": 'NUM'}, {']': 'PUNCT'}, {'[': 'X'}, {\"'\": 'PUNCT'}, {'SORTED': 'ADJ'}, {\"'\": 'PUNCT'}, {']': 'PUNCT'}, {'[': 'X'}, {\"'\": 'VERB'}, {'(': 'PUNCT'}, {')': 'PUNCT'}, {')': 'PUNCT'}, {\"'\": 'PUNCT'}, {']': 'PUNCT'}, {'[': 'X'}, {\"'\": 'PUNCT'}, {'AND': 'CCONJ'}, {\"'\": 'PUNCT'}, {']': 'PUNCT'}, {'[': 'X'}, {\"'\": 'VERB'}, {'{': 'PUNCT'}, {\"'\": 'PROPN'}, {']': 'PUNCT'}, {'[': 'X'}, {\"'\": 'NOUN'}, {'virginica': 'X'}, {\"'\": 'PUNCT'}, {']': 'PUNCT'}, {'[': 'X'}, {\"'\": 'VERB'}, {'THEN': 'ADV'}, {\"'\": 'PUNCT'}, {']': 'PUNCT'}, {'[': 'X'}, {\"'\": 'VERB'}, {'SUM': 'PROPN'}, {\"'\": 'PUNCT'}, {']': 'PUNCT'}, {'[': 'X'}, {\"'\": 'PUNCT'}, {'setosa': 'X'}, {\"'\": 'PUNCT'}, {']': 'PUNCT'}, {'[': 'X'}, {\"'\": 'PUNCT'}, {'(': 'PUNCT'}, {'[': 'X'}, {\"'\": 'X'}, {']': 'PUNCT'}, {'[': 'X'}, {\"'\": 'VERB'}, {'DATETRUNC': 'PROPN'}, {\"'\": 'PUNCT'}, {']': 'PUNCT'}, {'[': 'X'}, {'\"': 'PUNCT'}, {'(': 'PUNCT'}, {\"'\": 'PUNCT'}, {'\"': 'PUNCT'}, {']': 'PUNCT'}, {'[': 'X'}, {\"'\": 'PUNCT'}, {'IF': 'SCONJ'}, {\"'\": 'NOUN'}, {']': 'PUNCT'}, {'[': 'X'}, {\"'\": 'PUNCT'}, {'year': 'NOUN'}, {\"'\": 'PUNCT'}, {']': 'PUNCT'}, {'[': 'X'}, {\"'\": 'X'}, {'ORDER': 'NOUN'}, {\"'\": 'PUNCT'}, {']': 'PUNCT'}, {'[': 'X'}, {\"'\": 'PUNCT'}, {'alphabetically': 'ADV'}, {\"'\": 'VERB'}, {']': 'PUNCT'}, {'[': 'X'}, {\"'\": 'PROPN'}, {'END': 'PROPN'}, {\"'\": 'PUNCT'}, {']': 'PUNCT'}, {'[': 'X'}, {\"'\": 'X'}, {'YEAR': 'NOUN'}, {\"'\": 'PUNCT'}, {']': 'PUNCT'}, {'[': 'X'}, {\"'\": 'PUNCT'}, {'!': 'PUNCT'}, {'=': 'X'}, {\"'\": 'X'}, {']': 'PUNCT'}, {'[': 'X'}, {\"'\": 'VERB'}, {'TODAY': 'NOUN'}, {\"'\": 'PUNCT'}, {']': 'PUNCT'}, {'[': 'X'}, {\"'\": 'X'}, {']': 'X'}, {',': 'PUNCT'}, {\"'\": 'PUNCT'}, {']': 'PUNCT'}, {'[': 'X'}, {\"'\": 'PUNCT'}, {'WITH': 'ADP'}, {\"'\": 'PUNCT'}, {']': 'PUNCT'}, {'[': 'X'}, {\"'\": 'PUNCT'}, {'MIN': 'PROPN'}, {\"'\": 'PROPN'}, {']': 'PUNCT'}, {'[': 'X'}, {\"'\": 'PUNCT'}, {'MEDIAN': 'PROPN'}, {\"'\": 'PUNCT'}, {']': 'PUNCT'}, {'[': 'X'}, {\"'\": 'X'}, {'MAX': 'PROPN'}, {\"'\": 'PUNCT'}, {']': 'PUNCT'}, {'[': 'X'}, {\"'\": 'VERB'}, {'\"': 'PUNCT'}, {')': 'PUNCT'}, {\"'\": 'PUNCT'}, {']': 'PUNCT'}, {'[': 'X'}, {\"'\": 'X'}, {'GROUP': 'PROPN'}, {\"'\": 'PUNCT'}, {']': 'PUNCT'}, {'[': 'X'}, {\"'\": 'PUNCT'}, {'STARTSWITH': 'X'}, {\"'\": 'NOUN'}, {']': 'PUNCT'}, {'[': 'X'}, {\"'\": 'PUNCT'}, {'RANK': 'VERB'}, {\"'\": 'PUNCT'}, {']': 'PUNCT'}, {'[': 'X'}, {\"'\": 'NUM'}, {'3': 'NUM'}, {\"'\": 'PUNCT'}, {']': 'PUNCT'}, {'[': 'X'}, {\"'\": 'PROPN'}, {'(': 'PUNCT'}, {'*': 'PUNCT'}, {')': 'PUNCT'}, {\"'\": 'PUNCT'}, {']': 'PUNCT'}, {'[': 'X'}, {\"'\": 'X'}, {'COUNT': 'PROPN'}, {\"'\": 'PUNCT'}, {']': 'PUNCT'}, {'[': 'X'}, {\"'\": 'X'}, {'ASC': 'PROPN'}, {\"'\": 'PUNCT'}, {']': 'PUNCT'}, {'[': 'X'}, {\"'\": 'X'}, {'<': 'X'}, {'=': 'X'}, {\"'\": 'X'}, {']': 'PUNCT'}, {'[': 'X'}, {\"'\": 'PROPN'}, {'TOP': 'NUM'}, {\"'\": 'PUNCT'}, {']': 'PUNCT'}, {'[': 'X'}, {\"'\": 'PUNCT'}, {'highest': 'ADJ'}, {\"'\": 'PUNCT'}, {']': 'PUNCT'}, {'[': 'X'}, {\"'\": 'PUNCT'}, {'Setosa': 'PROPN'}, {\"'\": 'PUNCT'}, {']': 'PUNCT'}, {'[': 'X'}, {\"'\": 'PROPN'}, {'INDEX': 'NOUN'}, {\"'\": 'PUNCT'}, {']': 'PUNCT'}, {'[': 'X'}, {\"'\": 'NUM'}, {'4': 'NUM'}, {\"'\": 'PUNCT'}, {']': 'PUNCT'}, {'[': 'X'}, {\"'\": 'X'}, {'<': 'X'}, {\"'\": 'PUNCT'}, {']': 'PUNCT'}, {'[': 'X'}, {\"'\": 'VERB'}, {'>': 'X'}, {\"'\": 'PUNCT'}, {']': 'PUNCT'}, {'[': 'X'}, {\"'\": 'PUNCT'}, {'lowest': 'ADJ'}, {\"'\": 'PUNCT'}, {']': 'PUNCT'}, {'[': 'X'}, {\"'\": 'PUNCT'}, {'to': 'PART'}, {\"'\": 'PUNCT'}, {']': 'PUNCT'}, {'[': 'X'}, {\"'\": 'PUNCT'}, {':': 'PUNCT'}, {\"'\": 'PUNCT'}, {']': 'PUNCT'}, {'[': 'X'}, {\"'\": 'PUNCT'}, {'“': 'PUNCT'}, {\"'\": 'PUNCT'}, {']': 'PUNCT'}, {'[': 'X'}, {\"'\": 'VERB'}, {'}': 'PRON'}, {\"'\": 'PUNCT'}, {']': 'PUNCT'}, {'[': 'X'}, {\"'\": 'X'}, {'COUNTD': 'PROPN'}, {\"'\": 'PUNCT'}, {']': 'PUNCT'}, {'[': 'X'}, {\"'\": 'PUNCT'}, {'(': 'PUNCT'}, {')': 'PUNCT'}, {\"'\": 'PUNCT'}, {']': 'PUNCT'}, {'[': 'X'}, {\"'\": 'NUM'}, {'5': 'NUM'}, {\"'\": 'PUNCT'}, {']': 'PUNCT'}, {'[': 'X'}, {\"'\": 'VERB'}, {'SORT': 'ADV'}, {\"'\": 'NOUN'}, {']': 'PUNCT'}, {'[': 'X'}, {\"'\": 'NOUN'}, {'RANK_PERCENTILE': 'AUX'}, {\"'\": 'PUNCT'}, {']': 'PUNCT'}, {'[': 'X'}, {'\"': 'PUNCT'}, {\"'\": 'PUNCT'}, {',': 'PUNCT'}, {'\"': 'PUNCT'}, {']': 'PUNCT'}, {'[': 'X'}, {\"'\": 'PUNCT'}, {'BETWEEN': 'ADP'}, {\"'\": 'PUNCT'}, {']': 'PUNCT'}, {'[': 'X'}, {\"'\": 'PUNCT'}, {'\"': 'PUNCT'}, {\"'\": 'PUNCT'}, {']': 'PUNCT'}, {'[': 'X'}, {\"'\": 'PUNCT'}, {'ELSE': 'ADV'}, {\"'\": 'PUNCT'}, {']': 'PUNCT'}, {'[': 'X'}, {\"'\": 'VERB'}, {'ENDSWITH': 'NOUN'}, {\"'\": 'PUNCT'}, {']': 'PUNCT'}, {'[': 'X'}, {\"'\": 'X'}, {'>': 'X'}, {'=': 'X'}, {\"'\": 'X'}, {']': 'PUNCT'}, {'[': 'X'}, {\"'\": 'PUNCT'}, {'Species': 'NOUN'}, {\"'\": 'PUNCT'}, {']': 'PUNCT'}, {'[': 'X'}, {\"'\": 'VERB'}, {'FIXED': 'NOUN'}, {\"'\": 'PUNCT'}, {']': 'PUNCT'}, {'[': 'X'}, {\"'\": 'NUM'}, {'2': 'NUM'}, {\"'\": 'PUNCT'}, {']': 'PUNCT'}, {'[': 'X'}, {\"'\": 'PUNCT'}, {'DISTINCT': 'NOUN'}, {\"'\": 'PUNCT'}, {']': 'PUNCT'}, {'[': 'X'}, {\"'\": 'PUNCT'}, {'NULL': 'PROPN'}, {\"'\": 'PUNCT'}, {']': 'PUNCT'}, {'[': 'X'}, {\"'\": 'PROPN'}, {'=': 'X'}, {\"'\": 'X'}, {']': 'PUNCT'}, {'[': 'X'}, {\"'\": 'NUM'}, {'0': 'NUM'}, {\"'\": 'PUNCT'}, {']': 'PUNCT'}, {'[': 'X'}, {\"'\": 'VERB'}, {'”': 'PUNCT'}, {')': 'PUNCT'}, {\"'\": 'PUNCT'}, {']': 'PUNCT'}, {'[': 'X'}, {\"'\": 'X'}, {']': 'X'}, {')': 'PUNCT'}, {\"'\": 'PUNCT'}, {']': 'PUNCT'}, {'[': 'X'}, {\"'\": 'PUNCT'}, {'color': 'NOUN'}, {\"'\": 'PUNCT'}, {']': 'PUNCT'}, {'[': 'X'}, {\"'\": 'PUNCT'}, {'Date': 'PROPN'}, {\"'\": 'PUNCT'}, {']': 'PUNCT'}, {'[': 'X'}, {\"'\": 'NOUN'}, {'month': 'NOUN'}, {\"'\": 'PUNCT'}, {']': 'PUNCT'}, {'[': 'X'}, {\"'\": 'PROPN'}, {'AVG': 'PROPN'}, {\"'\": 'PUNCT'}, {']': 'PUNCT'}, {'[': 'X'}, {\"'\": 'PUNCT'}, {'DESC': 'VERB'}, {\"'\": 'PUNCT'}, {']': 'PUNCT'}]\n",
            "vocab : ['PRON', 'ADP', 'PROPN', 'ADJ', 'X', 'AUX', 'SCONJ', 'INTJ', 'VERB', 'ADV', 'PART', 'PUNCT', 'NOUN', 'CCONJ', 'NUM']\n"
          ]
        }
      ]
    },
    {
      "cell_type": "code",
      "source": [
        "for pat in p_t:\n",
        "    print({pat:p_t[pat]})"
      ],
      "metadata": {
        "id": "cHOL5YYISCbK",
        "colab": {
          "base_uri": "https://localhost:8080/"
        },
        "outputId": "7ac19213-08fc-4e7d-afc0-8e0dadef609c"
      },
      "execution_count": 48,
      "outputs": [
        {
          "output_type": "stream",
          "name": "stdout",
          "text": [
            "{'PRON': ['}']}\n",
            "{'ADP': ['BETWEEN', 'FROM', 'WITH']}\n",
            "{'PROPN': [\"'\", 'LEFT', 'NULL', 'STARTS', 'DATETRUNC', 'Date', 'Setosa', 'COUNT', 'ASC', 'END', 'SUM', 'MAX', 'GROUP', 'MIN', 'COUNTD', 'AVG', 'MEDIAN']}\n",
            "{'ADJ': ['highest', 'lowest', 'SORTED']}\n",
            "{'X': ['CONTAINS', \"'\", 'STARTSWITH', '<', '=', '[', '>', ']', 'virginica', 'setosa']}\n",
            "{'AUX': ['RANK_PERCENTILE']}\n",
            "{'SCONJ': ['IF']}\n",
            "{'INTJ': [\"'\"]}\n",
            "{'VERB': [\"'\", 'RANK', '-', 'LISTED', 'DESC']}\n",
            "{'ADV': ['THEN', 'SORT', 'ELSE', 'alphabetically']}\n",
            "{'PART': ['to']}\n",
            "{'PUNCT': [\"'\", ')', '*', '\"', ']', '(', '{', '!', ',', '”', ':', '“']}\n",
            "{'NOUN': ['DISTINCT', \"'\", 'versicolor', 'Species', 'ORDER', 'TODAY', 'month', 'ENDSWITH', 'YEAR', 'INDEX', 'FIXED', 'color', 'year']}\n",
            "{'CCONJ': ['AND']}\n",
            "{'NUM': [\"'\", '5', 'TOP', '0', '3', '9', '1', '4', '2']}\n"
          ]
        }
      ]
    },
    {
      "cell_type": "code",
      "source": [
        "p_t=dg_ent['Patterns_Formula(Tableau)']=get_patterns(dg_tok,dg_tok.columns[1])"
      ],
      "metadata": {
        "id": "DuFe80bLPerP",
        "colab": {
          "base_uri": "https://localhost:8080/"
        },
        "outputId": "93d37ae5-fabd-4fd4-c4c0-6e1e4f303765"
      },
      "execution_count": 49,
      "outputs": [
        {
          "output_type": "stream",
          "name": "stdout",
          "text": [
            "[{'[': 'X'}, {'\"': 'PUNCT'}, {'[': 'X'}, {\"'\": 'VERB'}, {'SUM': 'NOUN'}, {\"'\": 'PUNCT'}, {',': 'PUNCT'}, {'\"': 'PUNCT'}, {',': 'PUNCT'}, {'\"': 'PUNCT'}, {\"'\": 'PUNCT'}, {'Sepal': 'NOUN'}, {\"'\": 'PUNCT'}, {',': 'PUNCT'}, {'\"': 'PUNCT'}, {',': 'PUNCT'}, {'\"': 'PUNCT'}, {\"'\": 'PUNCT'}, {'Length': 'X'}, {\"'\": 'PUNCT'}, {']': 'PUNCT'}, {'\"': 'PUNCT'}, {']': 'PUNCT'}, {'[': 'X'}, {'\"': 'PUNCT'}, {'[': 'X'}, {\"'\": 'X'}, {'AVG': 'PROPN'}, {\"'\": 'NUM'}, {',': 'PUNCT'}, {'\"': 'PUNCT'}, {',': 'PUNCT'}, {'\"': 'PUNCT'}, {\"'\": 'PUNCT'}, {'Sepal': 'NOUN'}, {\"'\": 'PUNCT'}, {',': 'PUNCT'}, {'\"': 'PUNCT'}, {',': 'PUNCT'}, {'\"': 'PUNCT'}, {\"'\": 'PUNCT'}, {'Width': 'PROPN'}, {\"'\": 'PUNCT'}, {']': 'PUNCT'}, {'\"': 'PUNCT'}, {']': 'PUNCT'}, {'[': 'X'}, {'\"': 'PUNCT'}, {'[': 'X'}, {\"'\": 'X'}, {'MEDIAN': 'PROPN'}, {\"'\": 'PUNCT'}, {',': 'PUNCT'}, {'\"': 'PUNCT'}, {',': 'PUNCT'}, {'\"': 'PUNCT'}, {\"'\": 'PUNCT'}, {'Petal': 'ADJ'}, {\"'\": 'PUNCT'}, {',': 'PUNCT'}, {'\"': 'PUNCT'}, {',': 'PUNCT'}, {'\"': 'PUNCT'}, {\"'\": 'PUNCT'}, {'Length': 'X'}, {\"'\": 'PUNCT'}, {']': 'PUNCT'}, {'\"': 'PUNCT'}, {']': 'PUNCT'}, {'[': 'X'}, {'\"': 'PUNCT'}, {'[': 'X'}, {\"'\": 'X'}, {'COUNT': 'PROPN'}, {\"'\": 'PUNCT'}, {']': 'PUNCT'}, {'\"': 'PUNCT'}, {']': 'PUNCT'}, {'[': 'X'}, {'\"': 'PUNCT'}, {'[': 'X'}, {\"'\": 'X'}, {'COUNT': 'PROPN'}, {\"'\": 'NUM'}, {',': 'PUNCT'}, {'\"': 'PUNCT'}, {',': 'PUNCT'}, {'\"': 'PUNCT'}, {\"'\": 'PUNCT'}, {'DISTINCT': 'VERB'}, {\"'\": 'PUNCT'}, {',': 'PUNCT'}, {'\"': 'PUNCT'}, {',': 'PUNCT'}, {'\"': 'PUNCT'}, {\"'\": 'PUNCT'}, {'Species': 'PROPN'}, {\"'\": 'PUNCT'}, {']': 'PUNCT'}, {'\"': 'PUNCT'}, {']': 'PUNCT'}, {'[': 'X'}, {'\"': 'PUNCT'}, {'[': 'X'}, {\"'\": 'X'}, {'MIN': 'PROPN'}, {\"'\": 'PROPN'}, {',': 'PUNCT'}, {'\"': 'PUNCT'}, {',': 'PUNCT'}, {'\"': 'PUNCT'}, {\"'\": 'PUNCT'}, {'Sepal': 'NOUN'}, {\"'\": 'PUNCT'}, {',': 'PUNCT'}, {'\"': 'PUNCT'}, {',': 'PUNCT'}, {'\"': 'PUNCT'}, {\"'\": 'PUNCT'}, {'Length': 'X'}, {\"'\": 'PUNCT'}, {']': 'PUNCT'}, {'\"': 'PUNCT'}, {']': 'PUNCT'}, {'[': 'X'}, {'\"': 'PUNCT'}, {'[': 'X'}, {\"'\": 'X'}, {'MAX': 'PROPN'}, {\"'\": 'PUNCT'}, {',': 'PUNCT'}, {'\"': 'PUNCT'}, {',': 'PUNCT'}, {'\"': 'PUNCT'}, {\"'\": 'PUNCT'}, {'Petal': 'ADJ'}, {\"'\": 'PUNCT'}, {',': 'PUNCT'}, {'\"': 'PUNCT'}, {',': 'PUNCT'}, {'\"': 'PUNCT'}, {\"'\": 'PUNCT'}, {'Width': 'PROPN'}, {\"'\": 'PUNCT'}, {']': 'PUNCT'}, {'\"': 'PUNCT'}, {']': 'PUNCT'}, {'[': 'X'}, {'\"': 'PUNCT'}, {'[': 'X'}, {\"'\": 'X'}, {'GROUP': 'PROPN'}, {\"'\": 'PUNCT'}, {',': 'PUNCT'}, {'\"': 'PUNCT'}, {',': 'PUNCT'}, {'\"': 'PUNCT'}, {\"'\": 'PUNCT'}, {'BY': 'ADP'}, {\"'\": 'NUM'}, {',': 'PUNCT'}, {'\"': 'PUNCT'}, {',': 'PUNCT'}, {'\"': 'PUNCT'}, {\"'\": 'PUNCT'}, {'Species': 'PROPN'}, {\"'\": 'PUNCT'}, {']': 'PUNCT'}, {'\"': 'PUNCT'}, {']': 'PUNCT'}, {'[': 'X'}, {'\"': 'PUNCT'}, {'[': 'X'}, {\"'\": 'X'}, {'ORDER': 'NOUN'}, {\"'\": 'PUNCT'}, {',': 'PUNCT'}, {'\"': 'PUNCT'}, {',': 'PUNCT'}, {'\"': 'PUNCT'}, {\"'\": 'PUNCT'}, {'BY': 'ADP'}, {\"'\": 'NUM'}, {',': 'PUNCT'}, {'\"': 'PUNCT'}, {',': 'PUNCT'}, {'\"': 'PUNCT'}, {\"'\": 'PUNCT'}, {'Sepal': 'NOUN'}, {\"'\": 'PUNCT'}, {',': 'PUNCT'}, {'\"': 'PUNCT'}, {',': 'PUNCT'}, {'\"': 'PUNCT'}, {\"'\": 'PUNCT'}, {'Length': 'PROPN'}, {\"'\": 'PUNCT'}, {',': 'PUNCT'}, {'\"': 'PUNCT'}, {',': 'PUNCT'}, {'\"': 'PUNCT'}, {\"'\": 'PUNCT'}, {'ASC': 'PROPN'}, {\"'\": 'PUNCT'}, {']': 'PUNCT'}, {'\"': 'PUNCT'}, {']': 'PUNCT'}, {'[': 'X'}, {'\"': 'PUNCT'}, {'[': 'X'}, {\"'\": 'X'}, {'ORDER': 'NOUN'}, {\"'\": 'PUNCT'}, {',': 'PUNCT'}, {'\"': 'PUNCT'}, {',': 'PUNCT'}, {'\"': 'PUNCT'}, {\"'\": 'PUNCT'}, {'BY': 'ADP'}, {\"'\": 'NUM'}, {',': 'PUNCT'}, {'\"': 'PUNCT'}, {',': 'PUNCT'}, {'\"': 'PUNCT'}, {\"'\": 'PUNCT'}, {'Species': 'NOUN'}, {\"'\": 'PUNCT'}, {',': 'PUNCT'}, {'\"': 'PUNCT'}, {',': 'PUNCT'}, {'\"': 'PUNCT'}, {\"'\": 'PUNCT'}, {'ASC': 'PROPN'}, {\"'\": 'PUNCT'}, {']': 'PUNCT'}, {'\"': 'PUNCT'}, {']': 'PUNCT'}, {'[': 'X'}, {'\"': 'PUNCT'}, {'[': 'X'}, {\"'\": 'X'}, {'Sepal': 'NOUN'}, {\"'\": 'PUNCT'}, {',': 'PUNCT'}, {'\"': 'PUNCT'}, {',': 'PUNCT'}, {'\"': 'PUNCT'}, {\"'\": 'PUNCT'}, {'Length': 'PROPN'}, {\"'\": 'PUNCT'}, {',': 'PUNCT'}, {'\"': 'PUNCT'}, {',': 'PUNCT'}, {'\"': 'PUNCT'}, {\"'\": 'PROPN'}, {'5': 'NUM'}, {\"'\": 'NUM'}, {',': 'PUNCT'}, {'\"': 'PUNCT'}, {',': 'PUNCT'}, {'\"': 'PUNCT'}, {\"'\": 'PUNCT'}, {'0': 'X'}, {\"'\": 'PUNCT'}, {']': 'PUNCT'}, {'\"': 'PUNCT'}, {']': 'PUNCT'}, {'[': 'X'}, {'\"': 'PUNCT'}, {'[': 'X'}, {\"'\": 'PUNCT'}, {'Petal': 'ADJ'}, {\"'\": 'PUNCT'}, {',': 'PUNCT'}, {'\"': 'PUNCT'}, {',': 'PUNCT'}, {'\"': 'PUNCT'}, {\"'\": 'PUNCT'}, {'Length': 'PROPN'}, {\"'\": 'PUNCT'}, {',': 'PUNCT'}, {'\"': 'PUNCT'}, {',': 'PUNCT'}, {'\"': 'PUNCT'}, {\"'\": 'PUNCT'}, {'BETWEEN': 'ADP'}, {\"'\": 'PUNCT'}, {',': 'PUNCT'}, {'\"': 'PUNCT'}, {',': 'PUNCT'}, {'\"': 'PUNCT'}, {\"'\": 'PROPN'}, {'1': 'X'}, {\"'\": 'NUM'}, {',': 'PUNCT'}, {'\"': 'PUNCT'}, {',': 'PUNCT'}, {'\"': 'PUNCT'}, {\"'\": 'PROPN'}, {'5': 'NUM'}, {\"'\": 'NUM'}, {',': 'PUNCT'}, {'\"': 'PUNCT'}, {',': 'PUNCT'}, {'\"': 'PUNCT'}, {\"'\": 'PUNCT'}, {'AND': 'CCONJ'}, {\"'\": 'NUM'}, {',': 'PUNCT'}, {'\"': 'PUNCT'}, {',': 'PUNCT'}, {'\"': 'PUNCT'}, {\"'\": 'PROPN'}, {'2': 'X'}, {\"'\": 'NUM'}, {',': 'PUNCT'}, {'\"': 'PUNCT'}, {',': 'PUNCT'}, {'\"': 'PUNCT'}, {\"'\": 'PROPN'}, {'5': 'NUM'}, {\"'\": 'NUM'}, {']': 'PUNCT'}, {'\"': 'PUNCT'}, {']': 'PUNCT'}, {'[': 'X'}, {'\"': 'PUNCT'}, {'[': 'X'}, {\"'\": 'PROPN'}, {'TOP': 'NUM'}, {\"'\": 'PUNCT'}, {',': 'PUNCT'}, {'\"': 'PUNCT'}, {',': 'PUNCT'}, {'\"': 'PUNCT'}, {\"'\": 'PROPN'}, {'3': 'NUM'}, {\"'\": 'NUM'}, {',': 'PUNCT'}, {'\"': 'PUNCT'}, {',': 'PUNCT'}, {'\"': 'PUNCT'}, {\"'\": 'PUNCT'}, {'BY': 'ADP'}, {\"'\": 'NUM'}, {',': 'PUNCT'}, {'\"': 'PUNCT'}, {',': 'PUNCT'}, {'\"': 'PUNCT'}, {\"'\": 'PUNCT'}, {'Sepal': 'NOUN'}, {\"'\": 'PUNCT'}, {',': 'PUNCT'}, {'\"': 'PUNCT'}, {',': 'PUNCT'}, {'\"': 'PUNCT'}, {\"'\": 'PUNCT'}, {'Width': 'PROPN'}, {\"'\": 'PUNCT'}, {',': 'PUNCT'}, {'\"': 'PUNCT'}, {',': 'PUNCT'}, {'\"': 'PUNCT'}, {\"'\": 'PUNCT'}, {'DESC': 'VERB'}, {\"'\": 'PUNCT'}, {']': 'PUNCT'}, {'\"': 'PUNCT'}, {']': 'PUNCT'}, {'[': 'X'}, {'\"': 'PUNCT'}, {'[': 'X'}, {\"'\": 'X'}, {'Species': 'NOUN'}, {\"'\": 'PUNCT'}, {',': 'PUNCT'}, {'\"': 'PUNCT'}, {',': 'PUNCT'}, {'\"': 'PUNCT'}, {\"'\": 'PUNCT'}, {'Setosa': 'PROPN'}, {\"'\": 'PUNCT'}, {']': 'PUNCT'}, {'\"': 'PUNCT'}, {']': 'PUNCT'}, {'[': 'X'}, {'\"': 'PUNCT'}, {'[': 'X'}, {\"'\": 'X'}, {'Species': 'NOUN'}, {\"'\": 'PUNCT'}, {',': 'PUNCT'}, {'\"': 'PUNCT'}, {',': 'PUNCT'}, {'\"': 'PUNCT'}, {\"'\": 'PUNCT'}, {'STARTS': 'PROPN'}, {\"'\": 'NUM'}, {',': 'PUNCT'}, {'\"': 'PUNCT'}, {',': 'PUNCT'}, {'\"': 'PUNCT'}, {\"'\": 'PUNCT'}, {'WITH': 'ADP'}, {\"'\": 'NUM'}, {',': 'PUNCT'}, {'\"': 'PUNCT'}, {',': 'PUNCT'}, {'\"': 'PUNCT'}, {\"'\": 'PUNCT'}, {'Se': 'PROPN'}, {\"'\": 'NUM'}, {']': 'PUNCT'}, {'\"': 'PUNCT'}, {']': 'PUNCT'}, {'[': 'X'}, {'\"': 'PUNCT'}, {'[': 'X'}, {\"'\": 'VERB'}, {'SUM': 'NOUN'}, {\"'\": 'PUNCT'}, {',': 'PUNCT'}, {'\"': 'PUNCT'}, {',': 'PUNCT'}, {'\"': 'PUNCT'}, {\"'\": 'PUNCT'}, {'Petal': 'ADJ'}, {\"'\": 'PUNCT'}, {',': 'PUNCT'}, {'\"': 'PUNCT'}, {',': 'PUNCT'}, {'\"': 'PUNCT'}, {\"'\": 'PUNCT'}, {'Length': 'X'}, {\"'\": 'PUNCT'}, {']': 'PUNCT'}, {'\"': 'PUNCT'}, {']': 'PUNCT'}, {'[': 'X'}, {'\"': 'PUNCT'}, {'[': 'X'}, {\"'\": 'X'}, {'AVG': 'PROPN'}, {\"'\": 'NUM'}, {',': 'PUNCT'}, {'\"': 'PUNCT'}, {',': 'PUNCT'}, {'\"': 'PUNCT'}, {\"'\": 'PUNCT'}, {'Petal': 'ADJ'}, {\"'\": 'PUNCT'}, {',': 'PUNCT'}, {'\"': 'PUNCT'}, {',': 'PUNCT'}, {'\"': 'PUNCT'}, {\"'\": 'PUNCT'}, {'Width': 'PROPN'}, {\"'\": 'PUNCT'}, {']': 'PUNCT'}, {'\"': 'PUNCT'}, {']': 'PUNCT'}, {'[': 'X'}, {'\"': 'PUNCT'}, {'[': 'X'}, {\"'\": 'X'}, {'MEDIAN': 'PROPN'}, {\"'\": 'PUNCT'}, {',': 'PUNCT'}, {'\"': 'PUNCT'}, {',': 'PUNCT'}, {'\"': 'PUNCT'}, {\"'\": 'PUNCT'}, {'Sepal': 'NOUN'}, {\"'\": 'PUNCT'}, {',': 'PUNCT'}, {'\"': 'PUNCT'}, {',': 'PUNCT'}, {'\"': 'PUNCT'}, {\"'\": 'PUNCT'}, {'Width': 'PROPN'}, {\"'\": 'PUNCT'}, {']': 'PUNCT'}, {'\"': 'PUNCT'}, {']': 'PUNCT'}, {'[': 'X'}, {'\"': 'PUNCT'}, {'[': 'X'}, {\"'\": 'X'}, {'COUNT': 'PROPN'}, {\"'\": 'NUM'}, {',': 'PUNCT'}, {'\"': 'PUNCT'}, {',': 'PUNCT'}, {'\"': 'PUNCT'}, {\"'\": 'PUNCT'}, {'Sepal': 'NOUN'}, {\"'\": 'PUNCT'}, {',': 'PUNCT'}, {'\"': 'PUNCT'}, {',': 'PUNCT'}, {'\"': 'PUNCT'}, {\"'\": 'PUNCT'}, {'Length': 'X'}, {\"'\": 'PUNCT'}, {']': 'PUNCT'}, {'\"': 'PUNCT'}, {']': 'PUNCT'}, {'[': 'X'}, {'\"': 'PUNCT'}, {'[': 'X'}, {\"'\": 'VERB'}, {'COUNTD': 'PROPN'}, {\"'\": 'PUNCT'}, {',': 'PUNCT'}, {'\"': 'PUNCT'}, {',': 'PUNCT'}, {'\"': 'PUNCT'}, {\"'\": 'PUNCT'}, {'Species': 'PROPN'}, {\"'\": 'PUNCT'}, {']': 'PUNCT'}, {'\"': 'PUNCT'}, {']': 'PUNCT'}, {'[': 'X'}, {'\"': 'PUNCT'}, {'[': 'X'}, {\"'\": 'X'}, {'MIN': 'PROPN'}, {\"'\": 'PROPN'}, {',': 'PUNCT'}, {'\"': 'PUNCT'}, {',': 'PUNCT'}, {'\"': 'PUNCT'}, {\"'\": 'PUNCT'}, {'Sepal': 'NOUN'}, {\"'\": 'PUNCT'}, {',': 'PUNCT'}, {'\"': 'PUNCT'}, {',': 'PUNCT'}, {'\"': 'PUNCT'}, {\"'\": 'PUNCT'}, {'Length': 'X'}, {\"'\": 'PUNCT'}, {']': 'PUNCT'}, {'\"': 'PUNCT'}, {']': 'PUNCT'}, {'[': 'X'}, {'\"': 'PUNCT'}, {'[': 'X'}, {\"'\": 'X'}, {'MAX': 'PROPN'}, {\"'\": 'PUNCT'}, {',': 'PUNCT'}, {'\"': 'PUNCT'}, {',': 'PUNCT'}, {'\"': 'PUNCT'}, {\"'\": 'PUNCT'}, {'Petal': 'ADJ'}, {\"'\": 'PUNCT'}, {',': 'PUNCT'}, {'\"': 'PUNCT'}, {',': 'PUNCT'}, {'\"': 'PUNCT'}, {\"'\": 'PUNCT'}, {'Width': 'PROPN'}, {\"'\": 'PUNCT'}, {']': 'PUNCT'}, {'\"': 'PUNCT'}, {']': 'PUNCT'}, {'[': 'X'}, {'\"': 'PUNCT'}, {'[': 'X'}, {\"'\": 'VERB'}, {'SORT': 'ADV'}, {\"'\": 'NUM'}, {',': 'PUNCT'}, {'\"': 'PUNCT'}, {',': 'PUNCT'}, {'\"': 'PUNCT'}, {\"'\": 'PUNCT'}, {'Species': 'NOUN'}, {\"'\": 'PUNCT'}, {',': 'PUNCT'}, {'\"': 'PUNCT'}, {',': 'PUNCT'}, {'\"': 'PUNCT'}, {\"'\": 'PUNCT'}, {'DESC': 'VERB'}, {\"'\": 'PUNCT'}, {']': 'PUNCT'}, {'\"': 'PUNCT'}, {']': 'PUNCT'}, {'[': 'X'}, {'\"': 'PUNCT'}, {'[': 'X'}, {\"'\": 'VERB'}, {'SORT': 'ADV'}, {\"'\": 'NUM'}, {',': 'PUNCT'}, {'\"': 'PUNCT'}, {',': 'PUNCT'}, {'\"': 'PUNCT'}, {\"'\": 'PUNCT'}, {'Sepal': 'NOUN'}, {\"'\": 'PUNCT'}, {',': 'PUNCT'}, {'\"': 'PUNCT'}, {',': 'PUNCT'}, {'\"': 'PUNCT'}, {\"'\": 'PUNCT'}, {'Length': 'PROPN'}, {\"'\": 'PUNCT'}, {',': 'PUNCT'}, {'\"': 'PUNCT'}, {',': 'PUNCT'}, {'\"': 'PUNCT'}, {\"'\": 'PUNCT'}, {'ASC': 'PROPN'}, {\"'\": 'PUNCT'}, {']': 'PUNCT'}, {'\"': 'PUNCT'}, {']': 'PUNCT'}, {'[': 'X'}, {'\"': 'PUNCT'}, {'[': 'X'}, {\"'\": 'X'}, {'Sepal': 'NOUN'}, {\"'\": 'PUNCT'}, {',': 'PUNCT'}, {'\"': 'PUNCT'}, {',': 'PUNCT'}, {'\"': 'PUNCT'}, {\"'\": 'PUNCT'}, {'Length': 'PROPN'}, {\"'\": 'PUNCT'}, {',': 'PUNCT'}, {'\"': 'PUNCT'}, {',': 'PUNCT'}, {'\"': 'PUNCT'}, {\"'\": 'PROPN'}, {'4': 'NUM'}, {\"'\": 'NUM'}, {',': 'PUNCT'}, {'\"': 'PUNCT'}, {',': 'PUNCT'}, {'\"': 'PUNCT'}, {\"'\": 'PROPN'}, {'5': 'NUM'}, {\"'\": 'NUM'}, {']': 'PUNCT'}, {'\"': 'PUNCT'}, {']': 'PUNCT'}, {'[': 'X'}, {'\"': 'PUNCT'}, {'[': 'X'}, {\"'\": 'PUNCT'}, {'Petal': 'ADJ'}, {\"'\": 'PUNCT'}, {',': 'PUNCT'}, {'\"': 'PUNCT'}, {',': 'PUNCT'}, {'\"': 'PUNCT'}, {\"'\": 'PUNCT'}, {'Width': 'PROPN'}, {\"'\": 'PUNCT'}, {',': 'PUNCT'}, {'\"': 'PUNCT'}, {',': 'PUNCT'}, {'\"': 'PUNCT'}, {\"'\": 'PROPN'}, {'2': 'X'}, {\"'\": 'NUM'}, {',': 'PUNCT'}, {'\"': 'PUNCT'}, {',': 'PUNCT'}, {'\"': 'PUNCT'}, {\"'\": 'PUNCT'}, {'0': 'X'}, {\"'\": 'PUNCT'}, {']': 'PUNCT'}, {'\"': 'PUNCT'}, {']': 'PUNCT'}, {'[': 'X'}, {'\"': 'PUNCT'}, {'[': 'X'}, {\"'\": 'X'}, {'Sepal': 'NOUN'}, {\"'\": 'PUNCT'}, {',': 'PUNCT'}, {'\"': 'PUNCT'}, {',': 'PUNCT'}, {'\"': 'PUNCT'}, {\"'\": 'PUNCT'}, {'Width': 'PROPN'}, {\"'\": 'PUNCT'}, {',': 'PUNCT'}, {'\"': 'PUNCT'}, {',': 'PUNCT'}, {'\"': 'PUNCT'}, {\"'\": 'PROPN'}, {'3': 'NUM'}, {\"'\": 'NUM'}, {',': 'PUNCT'}, {'\"': 'PUNCT'}, {',': 'PUNCT'}, {'\"': 'PUNCT'}, {\"'\": 'PUNCT'}, {'0': 'X'}, {\"'\": 'PUNCT'}, {']': 'PUNCT'}, {'\"': 'PUNCT'}, {']': 'PUNCT'}, {'[': 'X'}, {'\"': 'PUNCT'}, {'[': 'X'}, {\"'\": 'VERB'}, {'ENDSWITH': 'NOUN'}, {\"'\": 'PUNCT'}, {',': 'PUNCT'}, {'\"': 'PUNCT'}, {',': 'PUNCT'}, {'\"': 'PUNCT'}, {\"'\": 'PUNCT'}, {'Species': 'NOUN'}, {\"'\": 'PUNCT'}, {',': 'PUNCT'}, {'\"': 'PUNCT'}, {',': 'PUNCT'}, {'\"': 'PUNCT'}, {\"'\": 'PUNCT'}, {'ica': 'X'}, {\"'\": 'PUNCT'}, {']': 'PUNCT'}, {'\"': 'PUNCT'}, {']': 'PUNCT'}, {'[': 'X'}, {'\"': 'PUNCT'}, {'[': 'X'}, {\"'\": 'X'}, {'Sepal': 'NOUN'}, {\"'\": 'PUNCT'}, {',': 'PUNCT'}, {'\"': 'PUNCT'}, {',': 'PUNCT'}, {'\"': 'PUNCT'}, {\"'\": 'PUNCT'}, {'Length': 'PROPN'}, {\"'\": 'PUNCT'}, {',': 'PUNCT'}, {'\"': 'PUNCT'}, {',': 'PUNCT'}, {'\"': 'PUNCT'}, {\"'\": 'PROPN'}, {'5': 'NUM'}, {\"'\": 'NUM'}, {',': 'PUNCT'}, {'\"': 'PUNCT'}, {',': 'PUNCT'}, {'\"': 'PUNCT'}, {\"'\": 'PUNCT'}, {'0': 'X'}, {\"'\": 'PUNCT'}, {']': 'PUNCT'}, {'\"': 'PUNCT'}, {']': 'PUNCT'}, {'[': 'X'}, {'\"': 'PUNCT'}, {'[': 'X'}, {\"'\": 'X'}, {'INDEX': 'PROPN'}, {\"'\": 'PUNCT'}, {',': 'PUNCT'}, {'\"': 'PUNCT'}, {',': 'PUNCT'}, {'\"': 'PUNCT'}, {\"'\": 'PROPN'}, {'5': 'NUM'}, {\"'\": 'NUM'}, {',': 'PUNCT'}, {'\"': 'PUNCT'}, {',': 'PUNCT'}, {'\"': 'PUNCT'}, {\"'\": 'PUNCT'}, {'SORT': 'ADV'}, {\"'\": 'NUM'}, {',': 'PUNCT'}, {'\"': 'PUNCT'}, {',': 'PUNCT'}, {'\"': 'PUNCT'}, {\"'\": 'PUNCT'}, {'BY': 'ADP'}, {\"'\": 'NUM'}, {',': 'PUNCT'}, {'\"': 'PUNCT'}, {',': 'PUNCT'}, {'\"': 'PUNCT'}, {\"'\": 'PUNCT'}, {'SUM': 'VERB'}, {\"'\": 'PUNCT'}, {',': 'PUNCT'}, {'\"': 'PUNCT'}, {',': 'PUNCT'}, {'\"': 'PUNCT'}, {\"'\": 'PUNCT'}, {'Sepal': 'NOUN'}, {\"'\": 'PUNCT'}, {',': 'PUNCT'}, {'\"': 'PUNCT'}, {',': 'PUNCT'}, {'\"': 'PUNCT'}, {\"'\": 'PUNCT'}, {'Width': 'PROPN'}, {\"'\": 'PUNCT'}, {',': 'PUNCT'}, {'\"': 'PUNCT'}, {',': 'PUNCT'}, {'\"': 'PUNCT'}, {\"'\": 'PUNCT'}, {'DESC': 'VERB'}, {\"'\": 'PUNCT'}, {']': 'PUNCT'}, {'\"': 'PUNCT'}, {']': 'PUNCT'}, {'[': 'X'}, {'\"': 'PUNCT'}, {'[': 'X'}, {\"'\": 'X'}, {'INDEX': 'PROPN'}, {\"'\": 'PUNCT'}, {',': 'PUNCT'}, {'\"': 'PUNCT'}, {',': 'PUNCT'}, {'\"': 'PUNCT'}, {\"'\": 'PROPN'}, {'3': 'NUM'}, {\"'\": 'NUM'}, {',': 'PUNCT'}, {'\"': 'PUNCT'}, {',': 'PUNCT'}, {'\"': 'PUNCT'}, {\"'\": 'PUNCT'}, {'SORT': 'ADV'}, {\"'\": 'NUM'}, {',': 'PUNCT'}, {'\"': 'PUNCT'}, {',': 'PUNCT'}, {'\"': 'PUNCT'}, {\"'\": 'PUNCT'}, {'BY': 'ADP'}, {\"'\": 'NUM'}, {',': 'PUNCT'}, {'\"': 'PUNCT'}, {',': 'PUNCT'}, {'\"': 'PUNCT'}, {\"'\": 'PUNCT'}, {'Petal': 'ADJ'}, {\"'\": 'PUNCT'}, {',': 'PUNCT'}, {'\"': 'PUNCT'}, {',': 'PUNCT'}, {'\"': 'PUNCT'}, {\"'\": 'PUNCT'}, {'Length': 'PROPN'}, {\"'\": 'PUNCT'}, {',': 'PUNCT'}, {'\"': 'PUNCT'}, {',': 'PUNCT'}, {'\"': 'PUNCT'}, {\"'\": 'PUNCT'}, {'ASC': 'PROPN'}, {\"'\": 'PUNCT'}, {']': 'PUNCT'}, {'\"': 'PUNCT'}, {']': 'PUNCT'}, {'[': 'X'}, {'\"': 'PUNCT'}, {'[': 'X'}, {\"'\": 'VERB'}, {'IF': 'SCONJ'}, {\"'\": 'NUM'}, {',': 'PUNCT'}, {'\"': 'PUNCT'}, {',': 'PUNCT'}, {'\"': 'PUNCT'}, {\"'\": 'PUNCT'}, {'Petal': 'ADJ'}, {\"'\": 'PUNCT'}, {',': 'PUNCT'}, {'\"': 'PUNCT'}, {',': 'PUNCT'}, {'\"': 'PUNCT'}, {\"'\": 'PUNCT'}, {'Length': 'PROPN'}, {\"'\": 'PUNCT'}, {',': 'PUNCT'}, {'\"': 'PUNCT'}, {',': 'PUNCT'}, {'\"': 'PUNCT'}, {\"'\": 'PROPN'}, {'4': 'NUM'}, {\"'\": 'NUM'}, {',': 'PUNCT'}, {'\"': 'PUNCT'}, {',': 'PUNCT'}, {'\"': 'PUNCT'}, {\"'\": 'PUNCT'}, {'AND': 'CCONJ'}, {\"'\": 'NUM'}, {',': 'PUNCT'}, {'\"': 'PUNCT'}, {',': 'PUNCT'}, {'\"': 'PUNCT'}, {\"'\": 'PUNCT'}, {'Petal': 'ADJ'}, {\"'\": 'PUNCT'}, {',': 'PUNCT'}, {'\"': 'PUNCT'}, {',': 'PUNCT'}, {'\"': 'PUNCT'}, {\"'\": 'PUNCT'}, {'Length': 'PROPN'}, {\"'\": 'PUNCT'}, {',': 'PUNCT'}, {'\"': 'PUNCT'}, {',': 'PUNCT'}, {'\"': 'PUNCT'}, {\"'\": 'PROPN'}, {'5': 'NUM'}, {\"'\": 'NUM'}, {',': 'PUNCT'}, {'\"': 'PUNCT'}, {',': 'PUNCT'}, {'\"': 'PUNCT'}, {\"'\": 'PUNCT'}, {'THEN': 'ADV'}, {\"'\": 'NUM'}, {',': 'PUNCT'}, {'\"': 'PUNCT'}, {',': 'PUNCT'}, {'\"': 'PUNCT'}, {\"'\": 'PROPN'}, {'1': 'X'}, {\"'\": 'NUM'}, {',': 'PUNCT'}, {'\"': 'PUNCT'}, {',': 'PUNCT'}, {'\"': 'PUNCT'}, {\"'\": 'PUNCT'}, {'ELSE': 'ADV'}, {\"'\": 'NUM'}, {',': 'PUNCT'}, {'\"': 'PUNCT'}, {',': 'PUNCT'}, {'\"': 'PUNCT'}, {\"'\": 'PUNCT'}, {'0': 'X'}, {\"'\": 'PUNCT'}, {',': 'PUNCT'}, {'\"': 'PUNCT'}, {',': 'PUNCT'}, {'\"': 'PUNCT'}, {\"'\": 'PUNCT'}, {'END': 'PROPN'}, {\"'\": 'PUNCT'}, {']': 'PUNCT'}, {'\"': 'PUNCT'}, {']': 'PUNCT'}, {'[': 'X'}, {'\"': 'PUNCT'}, {'[': 'X'}, {\"'\": 'VERB'}, {'DATETRUNC': 'PROPN'}, {\"'\": 'NUM'}, {',': 'PUNCT'}, {'\"': 'PUNCT'}, {',': 'PUNCT'}, {'\"': 'PUNCT'}, {\"'\": 'PUNCT'}, {'month': 'NOUN'}, {\"'\": 'PUNCT'}, {',': 'PUNCT'}, {'\"': 'PUNCT'}, {',': 'PUNCT'}, {'\"': 'PUNCT'}, {\"'\": 'PUNCT'}, {'Date': 'PROPN'}, {\"'\": 'PUNCT'}, {']': 'PUNCT'}, {'\"': 'PUNCT'}, {']': 'PUNCT'}, {'[': 'X'}, {'\"': 'PUNCT'}, {'[': 'X'}, {\"'\": 'X'}, {'YEAR': 'NOUN'}, {\"'\": 'PUNCT'}, {',': 'PUNCT'}, {'\"': 'PUNCT'}, {',': 'PUNCT'}, {'\"': 'PUNCT'}, {\"'\": 'PUNCT'}, {'Date': 'VERB'}, {\"'\": 'PUNCT'}, {',': 'PUNCT'}, {'\"': 'PUNCT'}, {',': 'PUNCT'}, {'\"': 'PUNCT'}, {\"'\": 'PUNCT'}, {'YEAR': 'NOUN'}, {\"'\": 'PUNCT'}, {',': 'PUNCT'}, {'\"': 'PUNCT'}, {',': 'PUNCT'}, {'\"': 'PUNCT'}, {\"'\": 'PUNCT'}, {'TODAY': 'NOUN'}, {\"'\": 'PUNCT'}, {',': 'PUNCT'}, {'\"': 'PUNCT'}, {',': 'PUNCT'}, {'\"': 'PUNCT'}, {\"'\": 'PROPN'}, {'1': 'X'}, {\"'\": 'NUM'}, {']': 'PUNCT'}, {'\"': 'PUNCT'}, {']': 'PUNCT'}, {'[': 'X'}, {'\"': 'PUNCT'}, {'[': 'X'}, {\"'\": 'X'}, {'Date': 'NOUN'}, {\"'\": 'NUM'}, {',': 'PUNCT'}, {'\"': 'PUNCT'}, {',': 'PUNCT'}, {'\"': 'PUNCT'}, {\"'\": 'PUNCT'}, {'DATETRUNC': 'PROPN'}, {\"'\": 'NUM'}, {',': 'PUNCT'}, {'\"': 'PUNCT'}, {',': 'PUNCT'}, {'\"': 'PUNCT'}, {\"'\": 'PUNCT'}, {'year': 'NOUN'}, {\"'\": 'PUNCT'}, {',': 'PUNCT'}, {'\"': 'PUNCT'}, {',': 'PUNCT'}, {'\"': 'PUNCT'}, {\"'\": 'PUNCT'}, {'TODAY': 'NOUN'}, {\"'\": 'PUNCT'}, {']': 'PUNCT'}, {'\"': 'PUNCT'}, {']': 'PUNCT'}, {'[': 'X'}, {'\"': 'PUNCT'}, {'[': 'X'}, {\"'\": 'X'}, {'AVG': 'PROPN'}, {\"'\": 'NUM'}, {',': 'PUNCT'}, {'\"': 'PUNCT'}, {',': 'PUNCT'}, {'\"': 'PUNCT'}, {\"'\": 'PUNCT'}, {'Sepal': 'NOUN'}, {\"'\": 'PUNCT'}, {',': 'PUNCT'}, {'\"': 'PUNCT'}, {',': 'PUNCT'}, {'\"': 'PUNCT'}, {\"'\": 'PUNCT'}, {'Length': 'PROPN'}, {\"'\": 'PUNCT'}, {',': 'PUNCT'}, {'\"': 'PUNCT'}, {',': 'PUNCT'}, {'\"': 'PUNCT'}, {\"'\": 'PUNCT'}, {'GROUP': 'PROPN'}, {\"'\": 'PUNCT'}, {',': 'PUNCT'}, {'\"': 'PUNCT'}, {',': 'PUNCT'}, {'\"': 'PUNCT'}, {\"'\": 'PUNCT'}, {'BY': 'ADP'}, {\"'\": 'NUM'}, {',': 'PUNCT'}, {'\"': 'PUNCT'}, {',': 'PUNCT'}, {'\"': 'PUNCT'}, {\"'\": 'PUNCT'}, {'Species': 'NOUN'}, {\"'\": 'PUNCT'}, {',': 'PUNCT'}, {'\"': 'PUNCT'}, {',': 'PUNCT'}, {'\"': 'PUNCT'}, {\"'\": 'PUNCT'}, {'SORT': 'ADV'}, {\"'\": 'NUM'}, {',': 'PUNCT'}, {'\"': 'PUNCT'}, {',': 'PUNCT'}, {'\"': 'PUNCT'}, {\"'\": 'PUNCT'}, {'BY': 'ADP'}, {\"'\": 'NUM'}, {',': 'PUNCT'}, {'\"': 'PUNCT'}, {',': 'PUNCT'}, {'\"': 'PUNCT'}, {\"'\": 'PUNCT'}, {'Species': 'NOUN'}, {\"'\": 'PUNCT'}, {',': 'PUNCT'}, {'\"': 'PUNCT'}, {',': 'PUNCT'}, {'\"': 'PUNCT'}, {\"'\": 'PUNCT'}, {'ASC': 'PROPN'}, {\"'\": 'PUNCT'}, {']': 'PUNCT'}, {'\"': 'PUNCT'}, {']': 'PUNCT'}, {'[': 'X'}, {'\"': 'PUNCT'}, {'[': 'X'}, {\"'\": 'VERB'}, {'COUNTD': 'PROPN'}, {\"'\": 'PUNCT'}, {',': 'PUNCT'}, {'\"': 'PUNCT'}, {',': 'PUNCT'}, {'\"': 'PUNCT'}, {\"'\": 'PUNCT'}, {'IF': 'SCONJ'}, {\"'\": 'NUM'}, {',': 'PUNCT'}, {'\"': 'PUNCT'}, {',': 'PUNCT'}, {'\"': 'PUNCT'}, {\"'\": 'PUNCT'}, {'LEFT': 'PROPN'}, {\"'\": 'PUNCT'}, {',': 'PUNCT'}, {'\"': 'PUNCT'}, {',': 'PUNCT'}, {'\"': 'PUNCT'}, {\"'\": 'PUNCT'}, {'Species': 'NOUN'}, {\"'\": 'PUNCT'}, {',': 'PUNCT'}, {'\"': 'PUNCT'}, {',': 'PUNCT'}, {'\"': 'PUNCT'}, {\"'\": 'PROPN'}, {'1': 'X'}, {\"'\": 'NUM'}, {',': 'PUNCT'}, {'\"': 'PUNCT'}, {',': 'PUNCT'}, {'\"': 'PUNCT'}, {\"'\": 'PUNCT'}, {'C': 'NOUN'}, {\"'\": 'NUM'}, {',': 'PUNCT'}, {'\"': 'PUNCT'}, {',': 'PUNCT'}, {'\"': 'PUNCT'}, {\"'\": 'PUNCT'}, {'THEN': 'ADV'}, {\"'\": 'NUM'}, {',': 'PUNCT'}, {'\"': 'PUNCT'}, {',': 'PUNCT'}, {'\"': 'PUNCT'}, {\"'\": 'PUNCT'}, {'Species': 'NOUN'}, {\"'\": 'PUNCT'}, {',': 'PUNCT'}, {'\"': 'PUNCT'}, {',': 'PUNCT'}, {'\"': 'PUNCT'}, {\"'\": 'PUNCT'}, {'ELSE': 'ADV'}, {\"'\": 'NUM'}, {',': 'PUNCT'}, {'\"': 'PUNCT'}, {',': 'PUNCT'}, {'\"': 'PUNCT'}, {\"'\": 'PUNCT'}, {'NULL': 'VERB'}, {\"'\": 'PUNCT'}, {',': 'PUNCT'}, {'\"': 'PUNCT'}, {',': 'PUNCT'}, {'\"': 'PUNCT'}, {\"'\": 'PUNCT'}, {'END': 'PROPN'}, {\"'\": 'PUNCT'}, {']': 'PUNCT'}, {'\"': 'PUNCT'}, {']': 'PUNCT'}, {'[': 'X'}, {'\"': 'PUNCT'}, {'[': 'X'}, {\"'\": 'PUNCT'}, {'Petal': 'ADJ'}, {\"'\": 'PUNCT'}, {',': 'PUNCT'}, {'\"': 'PUNCT'}, {',': 'PUNCT'}, {'\"': 'PUNCT'}, {\"'\": 'PUNCT'}, {'Length': 'PROPN'}, {\"'\": 'PUNCT'}, {',': 'PUNCT'}, {'\"': 'PUNCT'}, {',': 'PUNCT'}, {'\"': 'PUNCT'}, {\"'\": 'PROPN'}, {'4': 'NUM'}, {\"'\": 'NUM'}, {',': 'PUNCT'}, {'\"': 'PUNCT'}, {',': 'PUNCT'}, {'\"': 'PUNCT'}, {\"'\": 'PUNCT'}, {'0': 'X'}, {\"'\": 'PUNCT'}, {',': 'PUNCT'}, {'\"': 'PUNCT'}, {',': 'PUNCT'}, {'\"': 'PUNCT'}, {\"'\": 'PUNCT'}, {'AND': 'CCONJ'}, {\"'\": 'NUM'}, {',': 'PUNCT'}, {'\"': 'PUNCT'}, {',': 'PUNCT'}, {'\"': 'PUNCT'}, {\"'\": 'PUNCT'}, {'Sepal': 'NOUN'}, {\"'\": 'PUNCT'}, {',': 'PUNCT'}, {'\"': 'PUNCT'}, {',': 'PUNCT'}, {'\"': 'PUNCT'}, {\"'\": 'PUNCT'}, {'Length': 'PROPN'}, {\"'\": 'PUNCT'}, {',': 'PUNCT'}, {'\"': 'PUNCT'}, {',': 'PUNCT'}, {'\"': 'PUNCT'}, {\"'\": 'PROPN'}, {'4': 'NUM'}, {\"'\": 'NUM'}, {',': 'PUNCT'}, {'\"': 'PUNCT'}, {',': 'PUNCT'}, {'\"': 'PUNCT'}, {\"'\": 'PUNCT'}, {'0': 'X'}, {\"'\": 'PUNCT'}, {']': 'PUNCT'}, {'\"': 'PUNCT'}, {']': 'PUNCT'}, {'[': 'X'}, {'\"': 'PUNCT'}, {'[': 'X'}, {\"'\": 'NOUN'}, {'RANK_PERCENTILE': 'AUX'}, {\"'\": 'PUNCT'}, {',': 'PUNCT'}, {'\"': 'PUNCT'}, {',': 'PUNCT'}, {'\"': 'PUNCT'}, {\"'\": 'PUNCT'}, {'Petal': 'ADJ'}, {\"'\": 'PUNCT'}, {',': 'PUNCT'}, {'\"': 'PUNCT'}, {',': 'PUNCT'}, {'\"': 'PUNCT'}, {\"'\": 'PUNCT'}, {'Width': 'PROPN'}, {\"'\": 'PUNCT'}, {',': 'PUNCT'}, {'\"': 'PUNCT'}, {',': 'PUNCT'}, {'\"': 'PUNCT'}, {\"'\": 'PUNCT'}, {'0': 'X'}, {\"'\": 'PUNCT'}, {',': 'PUNCT'}, {'\"': 'PUNCT'}, {',': 'PUNCT'}, {'\"': 'PUNCT'}, {\"'\": 'PROPN'}, {'1': 'X'}, {\"'\": 'NUM'}, {']': 'PUNCT'}, {'\"': 'PUNCT'}, {']': 'PUNCT'}, {'[': 'X'}, {'\"': 'PUNCT'}, {'[': 'X'}, {\"'\": 'VERB'}, {'SUM': 'NOUN'}, {\"'\": 'PUNCT'}, {',': 'PUNCT'}, {'\"': 'PUNCT'}, {',': 'PUNCT'}, {'\"': 'PUNCT'}, {\"'\": 'PUNCT'}, {'Sepal': 'NOUN'}, {\"'\": 'PUNCT'}, {',': 'PUNCT'}, {'\"': 'PUNCT'}, {',': 'PUNCT'}, {'\"': 'PUNCT'}, {\"'\": 'PUNCT'}, {'Length': 'X'}, {\"'\": 'PUNCT'}, {']': 'PUNCT'}, {'\"': 'PUNCT'}, {']': 'PUNCT'}, {'[': 'X'}, {'\"': 'PUNCT'}, {'[': 'X'}, {\"'\": 'X'}, {'AVG': 'PROPN'}, {\"'\": 'NUM'}, {',': 'PUNCT'}, {'\"': 'PUNCT'}, {',': 'PUNCT'}, {'\"': 'PUNCT'}, {\"'\": 'PUNCT'}, {'Petal': 'ADJ'}, {\"'\": 'PUNCT'}, {',': 'PUNCT'}, {'\"': 'PUNCT'}, {',': 'PUNCT'}, {'\"': 'PUNCT'}, {\"'\": 'PUNCT'}, {'Width': 'PROPN'}, {\"'\": 'PUNCT'}, {']': 'PUNCT'}, {'\"': 'PUNCT'}, {']': 'PUNCT'}, {'[': 'X'}, {'\"': 'PUNCT'}, {'[': 'X'}, {\"'\": 'VERB'}, {'FIXED': 'NOUN'}, {\"'\": 'PUNCT'}, {',': 'PUNCT'}, {'\"': 'PUNCT'}, {',': 'PUNCT'}, {'\"': 'PUNCT'}, {\"'\": 'PUNCT'}, {'Species': 'NOUN'}, {\"'\": 'PUNCT'}, {',': 'PUNCT'}, {'\"': 'PUNCT'}, {',': 'PUNCT'}, {'\"': 'PUNCT'}, {\"'\": 'PUNCT'}, {'setosa': 'VERB'}, {\"'\": 'PUNCT'}, {',': 'PUNCT'}, {'\"': 'PUNCT'}, {',': 'PUNCT'}, {'\"': 'PUNCT'}, {\"'\": 'PUNCT'}, {'MEDIAN': 'PROPN'}, {\"'\": 'PUNCT'}, {',': 'PUNCT'}, {'\"': 'PUNCT'}, {',': 'PUNCT'}, {'\"': 'PUNCT'}, {\"'\": 'PUNCT'}, {'Sepal': 'NOUN'}, {\"'\": 'PUNCT'}, {',': 'PUNCT'}, {'\"': 'PUNCT'}, {',': 'PUNCT'}, {'\"': 'PUNCT'}, {\"'\": 'PUNCT'}, {'Width': 'PROPN'}, {\"'\": 'PUNCT'}, {']': 'PUNCT'}, {'\"': 'PUNCT'}, {']': 'PUNCT'}, {'[': 'X'}, {'\"': 'PUNCT'}, {'[': 'X'}, {\"'\": 'VERB'}, {'SUM': 'NOUN'}, {\"'\": 'PUNCT'}, {',': 'PUNCT'}, {'\"': 'PUNCT'}, {',': 'PUNCT'}, {'\"': 'PUNCT'}, {\"'\": 'PUNCT'}, {'IF': 'SCONJ'}, {\"'\": 'NUM'}, {',': 'PUNCT'}, {'\"': 'PUNCT'}, {',': 'PUNCT'}, {'\"': 'PUNCT'}, {\"'\": 'PUNCT'}, {'Species': 'NOUN'}, {\"'\": 'PUNCT'}, {',': 'PUNCT'}, {'\"': 'PUNCT'}, {',': 'PUNCT'}, {'\"': 'PUNCT'}, {\"'\": 'PUNCT'}, {'versicolor': 'NOUN'}, {\"'\": 'PUNCT'}, {',': 'PUNCT'}, {'\"': 'PUNCT'}, {',': 'PUNCT'}, {'\"': 'PUNCT'}, {\"'\": 'PUNCT'}, {'THEN': 'ADV'}, {\"'\": 'NUM'}, {',': 'PUNCT'}, {'\"': 'PUNCT'}, {',': 'PUNCT'}, {'\"': 'PUNCT'}, {\"'\": 'PROPN'}, {'1': 'X'}, {\"'\": 'NUM'}, {',': 'PUNCT'}, {'\"': 'PUNCT'}, {',': 'PUNCT'}, {'\"': 'PUNCT'}, {\"'\": 'PUNCT'}, {'ELSE': 'ADV'}, {\"'\": 'NUM'}, {',': 'PUNCT'}, {'\"': 'PUNCT'}, {',': 'PUNCT'}, {'\"': 'PUNCT'}, {\"'\": 'PUNCT'}, {'0': 'X'}, {\"'\": 'PUNCT'}, {',': 'PUNCT'}, {'\"': 'PUNCT'}, {',': 'PUNCT'}, {'\"': 'PUNCT'}, {\"'\": 'PUNCT'}, {'END': 'PROPN'}, {\"'\": 'PUNCT'}, {']': 'PUNCT'}, {'\"': 'PUNCT'}, {']': 'PUNCT'}, {'[': 'X'}, {'\"': 'PUNCT'}, {'[': 'X'}, {\"'\": 'VERB'}, {'COUNTD': 'PROPN'}, {\"'\": 'PUNCT'}, {',': 'PUNCT'}, {'\"': 'PUNCT'}, {',': 'PUNCT'}, {'\"': 'PUNCT'}, {\"'\": 'PUNCT'}, {'IF': 'SCONJ'}, {\"'\": 'NUM'}, {',': 'PUNCT'}, {'\"': 'PUNCT'}, {',': 'PUNCT'}, {'\"': 'PUNCT'}, {\"'\": 'PUNCT'}, {'Sepal': 'NOUN'}, {\"'\": 'PUNCT'}, {',': 'PUNCT'}, {'\"': 'PUNCT'}, {',': 'PUNCT'}, {'\"': 'PUNCT'}, {\"'\": 'PUNCT'}, {'Length': 'PROPN'}, {\"'\": 'PUNCT'}, {',': 'PUNCT'}, {'\"': 'PUNCT'}, {',': 'PUNCT'}, {'\"': 'PUNCT'}, {\"'\": 'PROPN'}, {'5': 'NUM'}, {\"'\": 'NUM'}, {',': 'PUNCT'}, {'\"': 'PUNCT'}, {',': 'PUNCT'}, {'\"': 'PUNCT'}, {\"'\": 'PUNCT'}, {'0': 'X'}, {\"'\": 'PUNCT'}, {',': 'PUNCT'}, {'\"': 'PUNCT'}, {',': 'PUNCT'}, {'\"': 'PUNCT'}, {\"'\": 'PUNCT'}, {'THEN': 'ADV'}, {\"'\": 'NUM'}, {',': 'PUNCT'}, {'\"': 'PUNCT'}, {',': 'PUNCT'}, {'\"': 'PUNCT'}, {\"'\": 'PUNCT'}, {'Species': 'NOUN'}, {\"'\": 'PUNCT'}, {',': 'PUNCT'}, {'\"': 'PUNCT'}, {',': 'PUNCT'}, {'\"': 'PUNCT'}, {\"'\": 'PUNCT'}, {'ELSE': 'ADV'}, {\"'\": 'NUM'}, {',': 'PUNCT'}, {'\"': 'PUNCT'}, {',': 'PUNCT'}, {'\"': 'PUNCT'}, {\"'\": 'PUNCT'}, {'NULL': 'VERB'}, {\"'\": 'PUNCT'}, {',': 'PUNCT'}, {'\"': 'PUNCT'}, {',': 'PUNCT'}, {'\"': 'PUNCT'}, {\"'\": 'PUNCT'}, {'END': 'PROPN'}, {\"'\": 'PUNCT'}, {']': 'PUNCT'}, {'\"': 'PUNCT'}, {']': 'PUNCT'}, {'[': 'X'}, {'\"': 'PUNCT'}, {'[': 'X'}, {\"'\": 'VERB'}, {'FIXED': 'NOUN'}, {\"'\": 'PUNCT'}, {',': 'PUNCT'}, {'\"': 'PUNCT'}, {',': 'PUNCT'}, {'\"': 'PUNCT'}, {\"'\": 'PUNCT'}, {'Species': 'NOUN'}, {\"'\": 'PUNCT'}, {',': 'PUNCT'}, {'\"': 'PUNCT'}, {',': 'PUNCT'}, {'\"': 'PUNCT'}, {\"'\": 'PUNCT'}, {'virginica': 'X'}, {\"'\": 'PUNCT'}, {',': 'PUNCT'}, {'\"': 'PUNCT'}, {',': 'PUNCT'}, {'\"': 'PUNCT'}, {\"'\": 'PUNCT'}, {'MIN': 'PROPN'}, {\"'\": 'PROPN'}, {',': 'PUNCT'}, {'\"': 'PUNCT'}, {',': 'PUNCT'}, {'\"': 'PUNCT'}, {\"'\": 'PUNCT'}, {'Petal': 'ADJ'}, {\"'\": 'PUNCT'}, {',': 'PUNCT'}, {'\"': 'PUNCT'}, {',': 'PUNCT'}, {'\"': 'PUNCT'}, {\"'\": 'PUNCT'}, {'Length': 'X'}, {\"'\": 'PUNCT'}, {']': 'PUNCT'}, {'\"': 'PUNCT'}, {']': 'PUNCT'}, {'[': 'X'}, {'\"': 'PUNCT'}, {'[': 'X'}, {\"'\": 'VERB'}, {'FIXED': 'NOUN'}, {\"'\": 'PUNCT'}, {',': 'PUNCT'}, {'\"': 'PUNCT'}, {',': 'PUNCT'}, {'\"': 'PUNCT'}, {\"'\": 'PUNCT'}, {'Species': 'NOUN'}, {\"'\": 'PUNCT'}, {',': 'PUNCT'}, {'\"': 'PUNCT'}, {',': 'PUNCT'}, {'\"': 'PUNCT'}, {\"'\": 'PUNCT'}, {'setosa': 'VERB'}, {\"'\": 'PUNCT'}, {',': 'PUNCT'}, {'\"': 'PUNCT'}, {',': 'PUNCT'}, {'\"': 'PUNCT'}, {\"'\": 'PUNCT'}, {'MAX': 'PROPN'}, {\"'\": 'PUNCT'}, {',': 'PUNCT'}, {'\"': 'PUNCT'}, {',': 'PUNCT'}, {'\"': 'PUNCT'}, {\"'\": 'PUNCT'}, {'Sepal': 'NOUN'}, {\"'\": 'PUNCT'}, {',': 'PUNCT'}, {'\"': 'PUNCT'}, {',': 'PUNCT'}, {'\"': 'PUNCT'}, {\"'\": 'PUNCT'}, {'Width': 'PROPN'}, {\"'\": 'PUNCT'}, {']': 'PUNCT'}, {'\"': 'PUNCT'}, {']': 'PUNCT'}, {'[': 'X'}, {'\"': 'PUNCT'}, {'[': 'X'}, {\"'\": 'PUNCT'}, {'SORTED': 'ADJ'}, {\"'\": 'PUNCT'}, {',': 'PUNCT'}, {'\"': 'PUNCT'}, {',': 'PUNCT'}, {'\"': 'PUNCT'}, {\"'\": 'PUNCT'}, {'BY': 'ADP'}, {\"'\": 'NUM'}, {',': 'PUNCT'}, {'\"': 'PUNCT'}, {',': 'PUNCT'}, {'\"': 'PUNCT'}, {\"'\": 'PUNCT'}, {'Species': 'NOUN'}, {\"'\": 'PUNCT'}, {',': 'PUNCT'}, {'\"': 'PUNCT'}, {',': 'PUNCT'}, {'\"': 'PUNCT'}, {\"'\": 'PUNCT'}, {'alphabetically': 'ADV'}, {\"'\": 'VERB'}, {',': 'PUNCT'}, {'\"': 'PUNCT'}, {',': 'PUNCT'}, {'\"': 'PUNCT'}, {\"'\": 'PUNCT'}, {'COUNT': 'PROPN'}, {\"'\": 'PUNCT'}, {',': 'PUNCT'}, {'\"': 'PUNCT'}, {',': 'PUNCT'}, {'\"': 'PUNCT'}, {\"'\": 'PUNCT'}, {'Species': 'NOUN'}, {\"'\": 'PUNCT'}, {',': 'PUNCT'}, {'\"': 'PUNCT'}, {',': 'PUNCT'}, {'\"': 'PUNCT'}, {\"'\": 'PUNCT'}, {'GROUP': 'PROPN'}, {\"'\": 'PUNCT'}, {',': 'PUNCT'}, {'\"': 'PUNCT'}, {',': 'PUNCT'}, {'\"': 'PUNCT'}, {\"'\": 'PUNCT'}, {'BY': 'ADP'}, {\"'\": 'NUM'}, {',': 'PUNCT'}, {'\"': 'PUNCT'}, {',': 'PUNCT'}, {'\"': 'PUNCT'}, {\"'\": 'PUNCT'}, {'Species': 'NOUN'}, {\"'\": 'PUNCT'}, {',': 'PUNCT'}, {'\"': 'PUNCT'}, {',': 'PUNCT'}, {'\"': 'PUNCT'}, {\"'\": 'PUNCT'}, {'ORDER': 'NOUN'}, {\"'\": 'PUNCT'}, {',': 'PUNCT'}, {'\"': 'PUNCT'}, {',': 'PUNCT'}, {'\"': 'PUNCT'}, {\"'\": 'PUNCT'}, {'BY': 'ADP'}, {\"'\": 'NUM'}, {',': 'PUNCT'}, {'\"': 'PUNCT'}, {',': 'PUNCT'}, {'\"': 'PUNCT'}, {\"'\": 'PUNCT'}, {'Species': 'NOUN'}, {\"'\": 'PUNCT'}, {',': 'PUNCT'}, {'\"': 'PUNCT'}, {',': 'PUNCT'}, {'\"': 'PUNCT'}, {\"'\": 'PUNCT'}, {'ASC': 'PROPN'}, {\"'\": 'PUNCT'}, {']': 'PUNCT'}, {'\"': 'PUNCT'}, {']': 'PUNCT'}, {'[': 'X'}, {'\"': 'PUNCT'}, {'[': 'X'}, {\"'\": 'X'}, {'Species': 'NOUN'}, {\"'\": 'PUNCT'}, {',': 'PUNCT'}, {'\"': 'PUNCT'}, {',': 'PUNCT'}, {'\"': 'PUNCT'}, {\"'\": 'PUNCT'}, {'versicolor': 'NOUN'}, {\"'\": 'PUNCT'}, {',': 'PUNCT'}, {'\"': 'PUNCT'}, {',': 'PUNCT'}, {'\"': 'PUNCT'}, {\"'\": 'PUNCT'}, {'AND': 'CCONJ'}, {\"'\": 'NUM'}, {',': 'PUNCT'}, {'\"': 'PUNCT'}, {',': 'PUNCT'}, {'\"': 'PUNCT'}, {\"'\": 'PUNCT'}, {'Sepal': 'NOUN'}, {\"'\": 'PUNCT'}, {',': 'PUNCT'}, {'\"': 'PUNCT'}, {',': 'PUNCT'}, {'\"': 'PUNCT'}, {\"'\": 'PUNCT'}, {'Width': 'PROPN'}, {\"'\": 'PUNCT'}, {',': 'PUNCT'}, {'\"': 'PUNCT'}, {',': 'PUNCT'}, {'\"': 'PUNCT'}, {\"'\": 'PROPN'}, {'3': 'NUM'}, {\"'\": 'NUM'}, {',': 'PUNCT'}, {'\"': 'PUNCT'}, {',': 'PUNCT'}, {'\"': 'PUNCT'}, {\"'\": 'PUNCT'}, {'0': 'X'}, {\"'\": 'PUNCT'}, {']': 'PUNCT'}, {'\"': 'PUNCT'}, {']': 'PUNCT'}, {'[': 'X'}, {'\"': 'PUNCT'}, {'[': 'X'}, {\"'\": 'PUNCT'}, {'RANK': 'VERB'}, {\"'\": 'PUNCT'}, {',': 'PUNCT'}, {'\"': 'PUNCT'}, {',': 'PUNCT'}, {'\"': 'PUNCT'}, {\"'\": 'PUNCT'}, {'Sepal': 'NOUN'}, {\"'\": 'PUNCT'}, {',': 'PUNCT'}, {'\"': 'PUNCT'}, {',': 'PUNCT'}, {'\"': 'PUNCT'}, {\"'\": 'PUNCT'}, {'Length': 'PROPN'}, {\"'\": 'PUNCT'}, {',': 'PUNCT'}, {'\"': 'PUNCT'}, {',': 'PUNCT'}, {'\"': 'PUNCT'}, {\"'\": 'PROPN'}, {'5': 'NUM'}, {\"'\": 'NUM'}, {',': 'PUNCT'}, {'\"': 'PUNCT'}, {',': 'PUNCT'}, {'\"': 'PUNCT'}, {\"'\": 'PUNCT'}, {'AND': 'CCONJ'}, {\"'\": 'NUM'}, {',': 'PUNCT'}, {'\"': 'PUNCT'}, {',': 'PUNCT'}, {'\"': 'PUNCT'}, {\"'\": 'PUNCT'}, {'Species': 'NOUN'}, {\"'\": 'PUNCT'}, {',': 'PUNCT'}, {'\"': 'PUNCT'}, {',': 'PUNCT'}, {'\"': 'PUNCT'}, {\"'\": 'PUNCT'}, {'virginica': 'X'}, {\"'\": 'PUNCT'}, {']': 'PUNCT'}, {'\"': 'PUNCT'}, {']': 'PUNCT'}, {'[': 'X'}, {'\"': 'PUNCT'}, {'[': 'X'}, {\"'\": 'NOUN'}, {'RANK_PERCENTILE': 'AUX'}, {\"'\": 'PUNCT'}, {',': 'PUNCT'}, {'\"': 'PUNCT'}, {',': 'PUNCT'}, {'\"': 'PUNCT'}, {\"'\": 'PUNCT'}, {'Petal': 'ADJ'}, {\"'\": 'PUNCT'}, {',': 'PUNCT'}, {'\"': 'PUNCT'}, {',': 'PUNCT'}, {'\"': 'PUNCT'}, {\"'\": 'PUNCT'}, {'Width': 'PROPN'}, {\"'\": 'PUNCT'}, {',': 'PUNCT'}, {'\"': 'PUNCT'}, {',': 'PUNCT'}, {'\"': 'PUNCT'}, {\"'\": 'PUNCT'}, {'0': 'X'}, {\"'\": 'PUNCT'}, {',': 'PUNCT'}, {'\"': 'PUNCT'}, {',': 'PUNCT'}, {'\"': 'PUNCT'}, {\"'\": 'PUNCT'}, {'9': 'NUM'}, {\"'\": 'PUNCT'}, {']': 'PUNCT'}, {'\"': 'PUNCT'}, {']': 'PUNCT'}, {'[': 'X'}, {'\"': 'PUNCT'}, {'[': 'X'}, {\"'\": 'PUNCT'}, {'LISTED': 'VERB'}, {\"'\": 'PUNCT'}, {',': 'PUNCT'}, {'\"': 'PUNCT'}, {',': 'PUNCT'}, {'\"': 'PUNCT'}, {\"'\": 'PUNCT'}, {'FROM': 'ADP'}, {\"'\": 'NUM'}, {',': 'PUNCT'}, {'\"': 'PUNCT'}, {',': 'PUNCT'}, {'\"': 'PUNCT'}, {\"'\": 'PUNCT'}, {'highest': 'ADJ'}, {\"'\": 'PUNCT'}, {',': 'PUNCT'}, {'\"': 'PUNCT'}, {',': 'PUNCT'}, {'\"': 'PUNCT'}, {\"'\": 'PUNCT'}, {'to': 'PART'}, {\"'\": 'NUM'}, {',': 'PUNCT'}, {'\"': 'PUNCT'}, {',': 'PUNCT'}, {'\"': 'PUNCT'}, {\"'\": 'PUNCT'}, {'lowest': 'ADJ'}, {\"'\": 'PUNCT'}, {',': 'PUNCT'}, {'\"': 'PUNCT'}, {',': 'PUNCT'}, {'\"': 'PUNCT'}, {\"'\": 'PUNCT'}, {'AVG': 'PROPN'}, {\"'\": 'PUNCT'}, {',': 'PUNCT'}, {'\"': 'PUNCT'}, {',': 'PUNCT'}, {'\"': 'PUNCT'}, {\"'\": 'PUNCT'}, {'Sepal': 'NOUN'}, {\"'\": 'PUNCT'}, {',': 'PUNCT'}, {'\"': 'PUNCT'}, {',': 'PUNCT'}, {'\"': 'PUNCT'}, {\"'\": 'PUNCT'}, {'Length': 'PROPN'}, {\"'\": 'PUNCT'}, {',': 'PUNCT'}, {'\"': 'PUNCT'}, {',': 'PUNCT'}, {'\"': 'PUNCT'}, {\"'\": 'PUNCT'}, {'GROUP': 'PROPN'}, {\"'\": 'PUNCT'}, {',': 'PUNCT'}, {'\"': 'PUNCT'}, {',': 'PUNCT'}, {'\"': 'PUNCT'}, {\"'\": 'PUNCT'}, {'BY': 'ADP'}, {\"'\": 'NUM'}, {',': 'PUNCT'}, {'\"': 'PUNCT'}, {',': 'PUNCT'}, {'\"': 'PUNCT'}, {\"'\": 'PUNCT'}, {'Species': 'NOUN'}, {\"'\": 'PUNCT'}, {',': 'PUNCT'}, {'\"': 'PUNCT'}, {',': 'PUNCT'}, {'\"': 'PUNCT'}, {\"'\": 'PUNCT'}, {'ORDER': 'NOUN'}, {\"'\": 'PUNCT'}, {',': 'PUNCT'}, {'\"': 'PUNCT'}, {',': 'PUNCT'}, {'\"': 'PUNCT'}, {\"'\": 'PUNCT'}, {'BY': 'ADP'}, {\"'\": 'NUM'}, {',': 'PUNCT'}, {'\"': 'PUNCT'}, {',': 'PUNCT'}, {'\"': 'PUNCT'}, {\"'\": 'PUNCT'}, {'AVG': 'PROPN'}, {\"'\": 'PUNCT'}, {',': 'PUNCT'}, {'\"': 'PUNCT'}, {',': 'PUNCT'}, {'\"': 'PUNCT'}, {\"'\": 'PUNCT'}, {'Sepal': 'NOUN'}, {\"'\": 'PUNCT'}, {',': 'PUNCT'}, {'\"': 'PUNCT'}, {',': 'PUNCT'}, {'\"': 'PUNCT'}, {\"'\": 'PUNCT'}, {'Length': 'PROPN'}, {\"'\": 'PUNCT'}, {',': 'PUNCT'}, {'\"': 'PUNCT'}, {',': 'PUNCT'}, {'\"': 'PUNCT'}, {\"'\": 'PUNCT'}, {'DESC': 'VERB'}, {\"'\": 'PUNCT'}, {']': 'PUNCT'}, {'\"': 'PUNCT'}, {']': 'PUNCT'}, {'[': 'X'}, {'\"': 'PUNCT'}, {'[': 'X'}, {\"'\": 'X'}, {'Species': 'NOUN'}, {\"'\": 'PUNCT'}, {',': 'PUNCT'}, {'\"': 'PUNCT'}, {',': 'PUNCT'}, {'\"': 'PUNCT'}, {\"'\": 'PUNCT'}, {'setosa': 'VERB'}, {\"'\": 'PUNCT'}, {',': 'PUNCT'}, {'\"': 'PUNCT'}, {',': 'PUNCT'}, {'\"': 'PUNCT'}, {\"'\": 'PUNCT'}, {'AND': 'CCONJ'}, {\"'\": 'NUM'}, {',': 'PUNCT'}, {'\"': 'PUNCT'}, {',': 'PUNCT'}, {'\"': 'PUNCT'}, {\"'\": 'PUNCT'}, {'Petal': 'ADJ'}, {\"'\": 'PUNCT'}, {',': 'PUNCT'}, {'\"': 'PUNCT'}, {',': 'PUNCT'}, {'\"': 'PUNCT'}, {\"'\": 'PUNCT'}, {'Length': 'PROPN'}, {\"'\": 'PUNCT'}, {',': 'PUNCT'}, {'\"': 'PUNCT'}, {',': 'PUNCT'}, {'\"': 'PUNCT'}, {\"'\": 'PUNCT'}, {'BETWEEN': 'ADP'}, {\"'\": 'PUNCT'}, {',': 'PUNCT'}, {'\"': 'PUNCT'}, {',': 'PUNCT'}, {'\"': 'PUNCT'}, {\"'\": 'PROPN'}, {'4': 'NUM'}, {\"'\": 'NUM'}, {',': 'PUNCT'}, {'\"': 'PUNCT'}, {',': 'PUNCT'}, {'\"': 'PUNCT'}, {\"'\": 'PUNCT'}, {'0': 'X'}, {\"'\": 'PUNCT'}, {',': 'PUNCT'}, {'\"': 'PUNCT'}, {',': 'PUNCT'}, {'\"': 'PUNCT'}, {\"'\": 'PUNCT'}, {'AND': 'CCONJ'}, {\"'\": 'NUM'}, {',': 'PUNCT'}, {'\"': 'PUNCT'}, {',': 'PUNCT'}, {'\"': 'PUNCT'}, {\"'\": 'PROPN'}, {'5': 'NUM'}, {\"'\": 'NUM'}, {',': 'PUNCT'}, {'\"': 'PUNCT'}, {',': 'PUNCT'}, {'\"': 'PUNCT'}, {\"'\": 'PUNCT'}, {'0': 'X'}, {\"'\": 'PUNCT'}, {']': 'PUNCT'}, {'\"': 'PUNCT'}, {']': 'PUNCT'}, {'[': 'X'}, {'\"': 'PUNCT'}, {'[': 'X'}, {\"'\": 'VERB'}, {'SUM': 'NOUN'}, {\"'\": 'PUNCT'}, {',': 'PUNCT'}, {'\"': 'PUNCT'}, {',': 'PUNCT'}, {'\"': 'PUNCT'}, {\"'\": 'PUNCT'}, {'IF': 'SCONJ'}, {\"'\": 'NUM'}, {',': 'PUNCT'}, {'\"': 'PUNCT'}, {',': 'PUNCT'}, {'\"': 'PUNCT'}, {\"'\": 'PUNCT'}, {'CONTAINS': 'VERB'}, {\"'\": 'PUNCT'}, {',': 'PUNCT'}, {'\"': 'PUNCT'}, {',': 'PUNCT'}, {'\"': 'PUNCT'}, {\"'\": 'PUNCT'}, {'Species': 'NOUN'}, {\"'\": 'PUNCT'}, {',': 'PUNCT'}, {'\"': 'PUNCT'}, {',': 'PUNCT'}, {'\"': 'PUNCT'}, {\"'\": 'PUNCT'}, {'color': 'VERB'}, {\"'\": 'PUNCT'}, {',': 'PUNCT'}, {'\"': 'PUNCT'}, {',': 'PUNCT'}, {'\"': 'PUNCT'}, {\"'\": 'PUNCT'}, {'THEN': 'ADV'}, {\"'\": 'NUM'}, {',': 'PUNCT'}, {'\"': 'PUNCT'}, {',': 'PUNCT'}, {'\"': 'PUNCT'}, {\"'\": 'PROPN'}, {'1': 'X'}, {\"'\": 'NUM'}, {',': 'PUNCT'}, {'\"': 'PUNCT'}, {',': 'PUNCT'}, {'\"': 'PUNCT'}, {\"'\": 'PUNCT'}, {'ELSE': 'ADV'}, {\"'\": 'NUM'}, {',': 'PUNCT'}, {'\"': 'PUNCT'}, {',': 'PUNCT'}, {'\"': 'PUNCT'}, {\"'\": 'PUNCT'}, {'0': 'X'}, {\"'\": 'PUNCT'}, {',': 'PUNCT'}, {'\"': 'PUNCT'}, {',': 'PUNCT'}, {'\"': 'PUNCT'}, {\"'\": 'PUNCT'}, {'END': 'PROPN'}, {\"'\": 'PUNCT'}, {']': 'PUNCT'}, {'\"': 'PUNCT'}, {']': 'PUNCT'}, {'[': 'X'}, {'\"': 'PUNCT'}, {'[': 'X'}, {\"'\": 'PUNCT'}, {'STARTSWITH': 'VERB'}, {\"'\": 'PUNCT'}, {',': 'PUNCT'}, {'\"': 'PUNCT'}, {',': 'PUNCT'}, {'\"': 'PUNCT'}, {\"'\": 'PUNCT'}, {'Species': 'NOUN'}, {\"'\": 'PUNCT'}, {',': 'PUNCT'}, {'\"': 'PUNCT'}, {',': 'PUNCT'}, {'\"': 'PUNCT'}, {\"'\": 'PUNCT'}, {'Iri': 'PROPN'}, {\"'\": 'PROPN'}, {',': 'PUNCT'}, {'\"': 'PUNCT'}, {',': 'PUNCT'}, {'\"': 'PUNCT'}, {\"'\": 'PUNCT'}, {'AND': 'CCONJ'}, {\"'\": 'NUM'}, {',': 'PUNCT'}, {'\"': 'PUNCT'}, {',': 'PUNCT'}, {'\"': 'PUNCT'}, {\"'\": 'PUNCT'}, {'ENDSWITH': 'VERB'}, {\"'\": 'PUNCT'}, {',': 'PUNCT'}, {'\"': 'PUNCT'}, {',': 'PUNCT'}, {'\"': 'PUNCT'}, {\"'\": 'PUNCT'}, {'Species': 'NOUN'}, {\"'\": 'PUNCT'}, {',': 'PUNCT'}, {'\"': 'PUNCT'}, {',': 'PUNCT'}, {'\"': 'PUNCT'}, {\"'\": 'PUNCT'}, {'a': 'DET'}, {\"'\": 'PUNCT'}, {']': 'PUNCT'}, {'\"': 'PUNCT'}, {']': 'PUNCT'}]\n",
            "Tokenized Formula (Tableau) : ['ADP', 'PROPN', 'ADJ', 'X', 'AUX', 'SCONJ', 'DET', 'VERB', 'ADV', 'PART', 'PUNCT', 'NOUN', 'CCONJ', 'NUM']\n"
          ]
        }
      ]
    },
    {
      "cell_type": "code",
      "source": [
        "for pat in p_t:\n",
        "    print({pat:p_t[pat]})"
      ],
      "metadata": {
        "id": "WbkFmeMnIuaB",
        "colab": {
          "base_uri": "https://localhost:8080/"
        },
        "outputId": "09acb9b3-4838-427c-f268-2f3045493bfd"
      },
      "execution_count": 50,
      "outputs": [
        {
          "output_type": "stream",
          "name": "stdout",
          "text": [
            "{'ADP': ['WITH', 'BY', 'FROM', 'BETWEEN']}\n",
            "{'PROPN': ['Species', 'LEFT', 'STARTS', 'MIN', 'COUNTD', 'MEDIAN', 'Width', 'MAX', 'GROUP', \"'\", 'Se', 'DATETRUNC', 'Date', 'COUNT', 'Length', 'ASC', 'AVG', 'Iri', 'Setosa', 'END', 'INDEX']}\n",
            "{'ADJ': ['highest', 'lowest', 'SORTED', 'Petal']}\n",
            "{'X': [\"'\", '[', '0', 'virginica', 'ica', 'Length', '1', '2']}\n",
            "{'AUX': ['RANK_PERCENTILE']}\n",
            "{'SCONJ': ['IF']}\n",
            "{'DET': ['a']}\n",
            "{'VERB': ['DISTINCT', \"'\", 'CONTAINS', 'STARTSWITH', 'NULL', 'RANK', 'Date', 'LISTED', 'ENDSWITH', 'DESC', 'SUM', 'setosa', 'color']}\n",
            "{'ADV': ['THEN', 'SORT', 'ELSE', 'alphabetically']}\n",
            "{'PART': ['to']}\n",
            "{'PUNCT': ['\"', \"'\", ']', ',']}\n",
            "{'NOUN': [\"'\", 'versicolor', 'Species', 'ORDER', 'TODAY', 'Date', 'month', 'Sepal', 'ENDSWITH', 'C', 'YEAR', 'SUM', 'FIXED', 'year']}\n",
            "{'CCONJ': ['AND']}\n",
            "{'NUM': [\"'\", '5', 'TOP', '3', '9', '4']}\n"
          ]
        }
      ]
    },
    {
      "cell_type": "code",
      "source": [
        "p_e=dg_ent['Patterns_Symbols(Tableau)']=get_patterns(dg_tok,dg_tok.columns[2])"
      ],
      "metadata": {
        "id": "YuVGpeK9kcvl",
        "colab": {
          "base_uri": "https://localhost:8080/"
        },
        "outputId": "f0ab1f40-f933-4dae-82e0-9b3ab5cf7427"
      },
      "execution_count": 51,
      "outputs": [
        {
          "output_type": "stream",
          "name": "stdout",
          "text": [
            "[{'[': 'X'}, {'\"': 'PUNCT'}, {'[': 'X'}, {\"'\": 'VERB'}, {'(': 'PUNCT'}, {\"'\": 'PUNCT'}, {',': 'PUNCT'}, {'\"': 'PUNCT'}, {',': 'PUNCT'}, {'\"': 'PUNCT'}, {\"'\": 'PUNCT'}, {')': 'PUNCT'}, {\"'\": 'PUNCT'}, {']': 'PUNCT'}, {'\"': 'PUNCT'}, {']': 'PUNCT'}, {'[': 'X'}, {'\"': 'PUNCT'}, {'[': 'X'}, {\"'\": 'VERB'}, {'(': 'PUNCT'}, {\"'\": 'PUNCT'}, {',': 'PUNCT'}, {'\"': 'PUNCT'}, {',': 'PUNCT'}, {'\"': 'PUNCT'}, {\"'\": 'PUNCT'}, {')': 'PUNCT'}, {\"'\": 'PUNCT'}, {']': 'PUNCT'}, {'\"': 'PUNCT'}, {']': 'PUNCT'}, {'[': 'X'}, {'\"': 'PUNCT'}, {'[': 'X'}, {\"'\": 'VERB'}, {'(': 'PUNCT'}, {\"'\": 'PUNCT'}, {',': 'PUNCT'}, {'\"': 'PUNCT'}, {',': 'PUNCT'}, {'\"': 'PUNCT'}, {\"'\": 'PUNCT'}, {')': 'PUNCT'}, {\"'\": 'PUNCT'}, {']': 'PUNCT'}, {'\"': 'PUNCT'}, {']': 'PUNCT'}, {'[': 'X'}, {'\"': 'PUNCT'}, {'[': 'X'}, {\"'\": 'PROPN'}, {'(': 'PUNCT'}, {'*': 'PUNCT'}, {')': 'PUNCT'}, {\"'\": 'PUNCT'}, {']': 'PUNCT'}, {'\"': 'PUNCT'}, {']': 'PUNCT'}, {'[': 'X'}, {'\"': 'PUNCT'}, {'[': 'X'}, {\"'\": 'VERB'}, {'(': 'PUNCT'}, {\"'\": 'PUNCT'}, {',': 'PUNCT'}, {'\"': 'PUNCT'}, {',': 'PUNCT'}, {'\"': 'PUNCT'}, {\"'\": 'PUNCT'}, {')': 'PUNCT'}, {\"'\": 'PUNCT'}, {']': 'PUNCT'}, {'\"': 'PUNCT'}, {']': 'PUNCT'}, {'[': 'X'}, {'\"': 'PUNCT'}, {'[': 'X'}, {\"'\": 'VERB'}, {'(': 'PUNCT'}, {\"'\": 'PUNCT'}, {',': 'PUNCT'}, {'\"': 'PUNCT'}, {',': 'PUNCT'}, {'\"': 'PUNCT'}, {\"'\": 'PUNCT'}, {')': 'PUNCT'}, {\"'\": 'PUNCT'}, {']': 'PUNCT'}, {'\"': 'PUNCT'}, {']': 'PUNCT'}, {'[': 'X'}, {'\"': 'PUNCT'}, {'[': 'X'}, {\"'\": 'VERB'}, {'(': 'PUNCT'}, {\"'\": 'PUNCT'}, {',': 'PUNCT'}, {'\"': 'PUNCT'}, {',': 'PUNCT'}, {'\"': 'PUNCT'}, {\"'\": 'PUNCT'}, {')': 'PUNCT'}, {\"'\": 'PUNCT'}, {']': 'PUNCT'}, {'\"': 'PUNCT'}, {']': 'PUNCT'}, {'[': 'X'}, {'\"': 'PUNCT'}, {'[': 'X'}, {\"'\": 'VERB'}, {'(': 'PUNCT'}, {\"'\": 'PUNCT'}, {',': 'PUNCT'}, {'\"': 'PUNCT'}, {',': 'PUNCT'}, {'\"': 'PUNCT'}, {\"'\": 'PUNCT'}, {')': 'PUNCT'}, {\"'\": 'PUNCT'}, {']': 'PUNCT'}, {'\"': 'PUNCT'}, {']': 'PUNCT'}, {'[': 'X'}, {'\"': 'PUNCT'}, {'[': 'X'}, {\"'\": 'VERB'}, {'(': 'PUNCT'}, {\"'\": 'PUNCT'}, {',': 'PUNCT'}, {'\"': 'PUNCT'}, {',': 'PUNCT'}, {'\"': 'PUNCT'}, {\"'\": 'PUNCT'}, {')': 'PUNCT'}, {\"'\": 'PUNCT'}, {']': 'PUNCT'}, {'\"': 'PUNCT'}, {']': 'PUNCT'}, {'[': 'X'}, {'\"': 'PUNCT'}, {'[': 'X'}, {\"'\": 'VERB'}, {'(': 'PUNCT'}, {\"'\": 'PUNCT'}, {',': 'PUNCT'}, {'\"': 'PUNCT'}, {',': 'PUNCT'}, {'\"': 'PUNCT'}, {\"'\": 'PUNCT'}, {')': 'PUNCT'}, {\"'\": 'PUNCT'}, {']': 'PUNCT'}, {'\"': 'PUNCT'}, {']': 'PUNCT'}, {'[': 'X'}, {'\"': 'PUNCT'}, {'[': 'X'}, {\"'\": 'X'}, {'>': 'X'}, {'=': 'X'}, {\"'\": 'VERB'}, {',': 'PUNCT'}, {'\"': 'PUNCT'}, {',': 'PUNCT'}, {'\"': 'PUNCT'}, {\"'\": 'PUNCT'}, {'.': 'PUNCT'}, {\"'\": 'PUNCT'}, {']': 'PUNCT'}, {'\"': 'PUNCT'}, {']': 'PUNCT'}, {'[': 'X'}, {'\"': 'PUNCT'}, {'[': 'X'}, {\"'\": 'PUNCT'}, {'.': 'PUNCT'}, {\"'\": 'PUNCT'}, {',': 'PUNCT'}, {'\"': 'PUNCT'}, {',': 'PUNCT'}, {'\"': 'PUNCT'}, {\"'\": 'PUNCT'}, {'.': 'PUNCT'}, {\"'\": 'PUNCT'}, {']': 'PUNCT'}, {'\"': 'PUNCT'}, {']': 'PUNCT'}, {'[': 'X'}, {'\"': 'PUNCT'}, {'[': 'X'}, {\"'\": 'VERB'}, {'(': 'PUNCT'}, {\"'\": 'PUNCT'}, {',': 'PUNCT'}, {'\"': 'PUNCT'}, {',': 'PUNCT'}, {'\"': 'PUNCT'}, {\"'\": 'PUNCT'}, {')': 'PUNCT'}, {\"'\": 'PUNCT'}, {']': 'PUNCT'}, {'\"': 'PUNCT'}, {']': 'PUNCT'}, {'[': 'X'}, {'\"': 'PUNCT'}, {'[': 'X'}, {\"'\": 'X'}, {'=': 'VERB'}, {\"'\": 'NUM'}, {',': 'PUNCT'}, {'\"': 'PUNCT'}, {',': 'PUNCT'}, {\"'\": 'PUNCT'}, {'\"': 'PUNCT'}, {'\\\\': 'PROPN'}, {\"'\": 'PUNCT'}, {'\"': 'PUNCT'}, {',': 'PUNCT'}, {\"'\": 'PUNCT'}, {',': 'PUNCT'}, {\"'\": 'PUNCT'}, {'\"': 'PUNCT'}, {'\\\\': 'PROPN'}, {\"'\": 'PUNCT'}, {'\"': 'PUNCT'}, {']': 'PUNCT'}, {\"'\": 'X'}, {']': 'PUNCT'}, {'[': 'X'}, {\"'\": 'PUNCT'}, {'[': 'X'}, {'\"': 'PUNCT'}, {'\\\\': 'PROPN'}, {\"'\": 'PUNCT'}, {'\"': 'PUNCT'}, {',': 'PUNCT'}, {\"'\": 'PUNCT'}, {',': 'PUNCT'}, {\"'\": 'PUNCT'}, {'\"': 'PUNCT'}, {'\\\\': 'PROPN'}, {\"'\": 'PUNCT'}, {'\"': 'PUNCT'}, {']': 'PUNCT'}, {\"'\": 'X'}, {']': 'PUNCT'}, {'[': 'X'}, {'\"': 'PUNCT'}, {'[': 'X'}, {\"'\": 'VERB'}, {'(': 'PUNCT'}, {'[': 'X'}, {\"'\": 'NUM'}, {',': 'PUNCT'}, {'\"': 'PUNCT'}, {',': 'PUNCT'}, {'\"': 'PUNCT'}, {\"'\": 'PUNCT'}, {']': 'PUNCT'}, {')': 'PUNCT'}, {\"'\": 'PUNCT'}, {']': 'PUNCT'}, {'\"': 'PUNCT'}, {']': 'PUNCT'}, {'[': 'X'}, {'\"': 'PUNCT'}, {'[': 'X'}, {\"'\": 'VERB'}, {'(': 'PUNCT'}, {'[': 'X'}, {\"'\": 'NUM'}, {',': 'PUNCT'}, {'\"': 'PUNCT'}, {',': 'PUNCT'}, {'\"': 'PUNCT'}, {\"'\": 'PUNCT'}, {']': 'PUNCT'}, {')': 'PUNCT'}, {\"'\": 'PUNCT'}, {']': 'PUNCT'}, {'\"': 'PUNCT'}, {']': 'PUNCT'}, {'[': 'X'}, {'\"': 'PUNCT'}, {'[': 'X'}, {\"'\": 'VERB'}, {'(': 'PUNCT'}, {'[': 'X'}, {\"'\": 'NUM'}, {',': 'PUNCT'}, {'\"': 'PUNCT'}, {',': 'PUNCT'}, {'\"': 'PUNCT'}, {\"'\": 'PUNCT'}, {']': 'PUNCT'}, {')': 'PUNCT'}, {\"'\": 'PUNCT'}, {']': 'PUNCT'}, {'\"': 'PUNCT'}, {']': 'PUNCT'}, {'[': 'X'}, {'\"': 'PUNCT'}, {'[': 'X'}, {\"'\": 'VERB'}, {'(': 'PUNCT'}, {'[': 'X'}, {\"'\": 'NUM'}, {',': 'PUNCT'}, {'\"': 'PUNCT'}, {',': 'PUNCT'}, {'\"': 'PUNCT'}, {\"'\": 'PUNCT'}, {']': 'PUNCT'}, {')': 'PUNCT'}, {\"'\": 'PUNCT'}, {']': 'PUNCT'}, {'\"': 'PUNCT'}, {']': 'PUNCT'}, {'[': 'X'}, {'\"': 'PUNCT'}, {'[': 'X'}, {\"'\": 'VERB'}, {'(': 'PUNCT'}, {'[': 'X'}, {\"'\": 'NUM'}, {',': 'PUNCT'}, {'\"': 'PUNCT'}, {',': 'PUNCT'}, {'\"': 'PUNCT'}, {\"'\": 'PUNCT'}, {']': 'PUNCT'}, {')': 'PUNCT'}, {\"'\": 'PUNCT'}, {']': 'PUNCT'}, {'\"': 'PUNCT'}, {']': 'PUNCT'}, {'[': 'X'}, {'\"': 'PUNCT'}, {'[': 'X'}, {\"'\": 'VERB'}, {'(': 'PUNCT'}, {'[': 'X'}, {\"'\": 'NUM'}, {',': 'PUNCT'}, {'\"': 'PUNCT'}, {',': 'PUNCT'}, {'\"': 'PUNCT'}, {\"'\": 'PUNCT'}, {']': 'PUNCT'}, {')': 'PUNCT'}, {\"'\": 'PUNCT'}, {']': 'PUNCT'}, {'\"': 'PUNCT'}, {']': 'PUNCT'}, {'[': 'X'}, {'\"': 'PUNCT'}, {'[': 'X'}, {\"'\": 'VERB'}, {'(': 'PUNCT'}, {'[': 'X'}, {\"'\": 'NUM'}, {',': 'PUNCT'}, {'\"': 'PUNCT'}, {',': 'PUNCT'}, {'\"': 'PUNCT'}, {\"'\": 'PUNCT'}, {']': 'PUNCT'}, {')': 'PUNCT'}, {\"'\": 'PUNCT'}, {']': 'PUNCT'}, {'\"': 'PUNCT'}, {']': 'PUNCT'}, {'[': 'X'}, {'\"': 'PUNCT'}, {'[': 'X'}, {\"'\": 'VERB'}, {'(': 'PUNCT'}, {'[': 'X'}, {\"'\": 'NUM'}, {',': 'PUNCT'}, {'\"': 'PUNCT'}, {',': 'PUNCT'}, {'\"': 'PUNCT'}, {\"'\": 'PUNCT'}, {']': 'X'}, {',': 'PUNCT'}, {\"'\": 'PUNCT'}, {',': 'PUNCT'}, {'\"': 'PUNCT'}, {',': 'PUNCT'}, {'\"': 'PUNCT'}, {\"'\": 'PUNCT'}, {')': 'PUNCT'}, {\"'\": 'PUNCT'}, {']': 'PUNCT'}, {'\"': 'PUNCT'}, {']': 'PUNCT'}, {'[': 'X'}, {'\"': 'PUNCT'}, {'[': 'X'}, {\"'\": 'VERB'}, {'(': 'PUNCT'}, {'[': 'X'}, {\"'\": 'NUM'}, {',': 'PUNCT'}, {'\"': 'PUNCT'}, {',': 'PUNCT'}, {'\"': 'PUNCT'}, {\"'\": 'PUNCT'}, {']': 'X'}, {',': 'PUNCT'}, {\"'\": 'PUNCT'}, {',': 'PUNCT'}, {'\"': 'PUNCT'}, {',': 'PUNCT'}, {'\"': 'PUNCT'}, {\"'\": 'PUNCT'}, {')': 'PUNCT'}, {\"'\": 'PUNCT'}, {']': 'PUNCT'}, {'\"': 'PUNCT'}, {']': 'PUNCT'}, {'[': 'X'}, {'\"': 'PUNCT'}, {'[': 'X'}, {\"'\": 'X'}, {'[': 'X'}, {\"'\": 'PROPN'}, {',': 'PUNCT'}, {'\"': 'PUNCT'}, {',': 'PUNCT'}, {'\"': 'PUNCT'}, {\"'\": 'PUNCT'}, {']': 'X'}, {\"'\": 'NUM'}, {',': 'PUNCT'}, {'\"': 'PUNCT'}, {',': 'PUNCT'}, {'\"': 'PUNCT'}, {\"'\": 'PUNCT'}, {'>': 'X'}, {'=': 'X'}, {\"'\": 'VERB'}, {',': 'PUNCT'}, {'\"': 'PUNCT'}, {',': 'PUNCT'}, {'\"': 'PUNCT'}, {\"'\": 'PUNCT'}, {'.': 'PUNCT'}, {\"'\": 'PUNCT'}, {']': 'PUNCT'}, {'\"': 'PUNCT'}, {']': 'PUNCT'}, {'[': 'X'}, {'\"': 'PUNCT'}, {'[': 'X'}, {\"'\": 'X'}, {'[': 'X'}, {\"'\": 'PROPN'}, {',': 'PUNCT'}, {'\"': 'PUNCT'}, {',': 'PUNCT'}, {'\"': 'PUNCT'}, {\"'\": 'PUNCT'}, {']': 'X'}, {\"'\": 'NUM'}, {',': 'PUNCT'}, {'\"': 'PUNCT'}, {',': 'PUNCT'}, {'\"': 'PUNCT'}, {\"'\": 'PUNCT'}, {'<': 'X'}, {\"'\": 'PUNCT'}, {',': 'PUNCT'}, {'\"': 'PUNCT'}, {',': 'PUNCT'}, {'\"': 'PUNCT'}, {\"'\": 'PUNCT'}, {'.': 'PUNCT'}, {\"'\": 'PUNCT'}, {']': 'PUNCT'}, {'\"': 'PUNCT'}, {']': 'PUNCT'}, {'[': 'X'}, {'\"': 'PUNCT'}, {'[': 'X'}, {\"'\": 'X'}, {'[': 'X'}, {\"'\": 'PROPN'}, {',': 'PUNCT'}, {'\"': 'PUNCT'}, {',': 'PUNCT'}, {'\"': 'PUNCT'}, {\"'\": 'PUNCT'}, {']': 'X'}, {\"'\": 'NUM'}, {',': 'PUNCT'}, {'\"': 'PUNCT'}, {',': 'PUNCT'}, {'\"': 'PUNCT'}, {\"'\": 'PUNCT'}, {'!': 'PUNCT'}, {'=': 'PUNCT'}, {\"'\": 'VERB'}, {',': 'PUNCT'}, {'\"': 'PUNCT'}, {',': 'PUNCT'}, {'\"': 'PUNCT'}, {\"'\": 'PUNCT'}, {'.': 'PUNCT'}, {\"'\": 'PUNCT'}, {']': 'PUNCT'}, {'\"': 'PUNCT'}, {']': 'PUNCT'}, {'[': 'X'}, {'\"': 'PUNCT'}, {'[': 'X'}, {\"'\": 'VERB'}, {'(': 'PUNCT'}, {'[': 'X'}, {\"'\": 'NUM'}, {',': 'PUNCT'}, {'\"': 'PUNCT'}, {',': 'PUNCT'}, {'\"': 'PUNCT'}, {\"'\": 'PUNCT'}, {']': 'X'}, {',': 'PUNCT'}, {\"'\": 'PUNCT'}, {',': 'PUNCT'}, {'\"': 'PUNCT'}, {',': 'PUNCT'}, {\"'\": 'PUNCT'}, {'\\\\\\'\"\\\\': 'PROPN'}, {\"'\": 'PUNCT'}, {',': 'PUNCT'}, {\"'\": 'PUNCT'}, {',': 'PUNCT'}, {\"'\": 'PUNCT'}, {'\\\\\\'\")\\\\': 'NOUN'}, {\"'\": 'PUNCT'}, {']': 'PUNCT'}, {\"'\": 'PUNCT'}, {']': 'PUNCT'}, {'[': 'X'}, {'\"': 'PUNCT'}, {'[': 'X'}, {\"'\": 'X'}, {'[': 'X'}, {\"'\": 'PROPN'}, {',': 'PUNCT'}, {'\"': 'PUNCT'}, {',': 'PUNCT'}, {'\"': 'PUNCT'}, {\"'\": 'PUNCT'}, {']': 'X'}, {\"'\": 'NUM'}, {',': 'PUNCT'}, {'\"': 'PUNCT'}, {',': 'PUNCT'}, {'\"': 'PUNCT'}, {\"'\": 'PUNCT'}, {'=': 'VERB'}, {\"'\": 'VERB'}, {',': 'PUNCT'}, {'\"': 'PUNCT'}, {',': 'PUNCT'}, {'\"': 'PUNCT'}, {\"'\": 'PUNCT'}, {'.': 'PUNCT'}, {\"'\": 'PUNCT'}, {']': 'PUNCT'}, {'\"': 'PUNCT'}, {']': 'PUNCT'}, {'[': 'X'}, {'\"': 'PUNCT'}, {'[': 'X'}, {\"'\": 'VERB'}, {'(': 'PUNCT'}, {')': 'PUNCT'}, {\"'\": 'PUNCT'}, {',': 'PUNCT'}, {'\"': 'PUNCT'}, {',': 'PUNCT'}, {'\"': 'PUNCT'}, {\"'\": 'PUNCT'}, {'<': 'X'}, {'=': 'VERB'}, {\"'\": 'PROPN'}, {',': 'PUNCT'}, {'\"': 'PUNCT'}, {',': 'PUNCT'}, {'\"': 'PUNCT'}, {\"'\": 'PUNCT'}, {'(': 'PUNCT'}, {'[': 'X'}, {\"'\": 'NUM'}, {',': 'PUNCT'}, {'\"': 'PUNCT'}, {',': 'PUNCT'}, {'\"': 'PUNCT'}, {\"'\": 'PUNCT'}, {']': 'PUNCT'}, {')': 'PUNCT'}, {\"'\": 'PUNCT'}, {']': 'PUNCT'}, {'\"': 'PUNCT'}, {']': 'PUNCT'}, {'[': 'X'}, {'\"': 'PUNCT'}, {'[': 'X'}, {\"'\": 'VERB'}, {'(': 'PUNCT'}, {')': 'PUNCT'}, {\"'\": 'PUNCT'}, {',': 'PUNCT'}, {'\"': 'PUNCT'}, {',': 'PUNCT'}, {'\"': 'PUNCT'}, {\"'\": 'PUNCT'}, {'<': 'X'}, {'=': 'VERB'}, {\"'\": 'PROPN'}, {',': 'PUNCT'}, {'\"': 'PUNCT'}, {',': 'PUNCT'}, {'\"': 'PUNCT'}, {\"'\": 'PUNCT'}, {'[': 'X'}, {\"'\": 'X'}, {',': 'PUNCT'}, {'\"': 'PUNCT'}, {',': 'PUNCT'}, {'\"': 'PUNCT'}, {\"'\": 'PUNCT'}, {']': 'X'}, {\"'\": 'X'}, {']': 'X'}, {'\"': 'PUNCT'}, {']': 'PUNCT'}, {'[': 'X'}, {'\"': 'PUNCT'}, {'[': 'X'}, {\"'\": 'X'}, {'[': 'X'}, {\"'\": 'PROPN'}, {',': 'PUNCT'}, {'\"': 'PUNCT'}, {',': 'PUNCT'}, {'\"': 'PUNCT'}, {\"'\": 'PUNCT'}, {']': 'X'}, {\"'\": 'NUM'}, {',': 'PUNCT'}, {'\"': 'PUNCT'}, {',': 'PUNCT'}, {'\"': 'PUNCT'}, {\"'\": 'PUNCT'}, {'>': 'X'}, {'=': 'X'}, {\"'\": 'VERB'}, {',': 'PUNCT'}, {'\"': 'PUNCT'}, {',': 'PUNCT'}, {'\"': 'PUNCT'}, {\"'\": 'PUNCT'}, {'[': 'X'}, {\"'\": 'X'}, {',': 'PUNCT'}, {'\"': 'PUNCT'}, {',': 'PUNCT'}, {'\"': 'PUNCT'}, {\"'\": 'PUNCT'}, {']': 'X'}, {\"'\": 'NUM'}, {',': 'PUNCT'}, {'\"': 'PUNCT'}, {',': 'PUNCT'}, {'\"': 'PUNCT'}, {\"'\": 'PUNCT'}, {'<': 'X'}, {'=': 'X'}, {\"'\": 'PUNCT'}, {']': 'X'}, {'\"': 'PUNCT'}, {']': 'PUNCT'}, {'[': 'X'}, {\"'\": 'PUNCT'}, {'[': 'X'}, {'\"': 'PUNCT'}, {'(': 'PUNCT'}, {'\\\\': 'PROPN'}, {\"'\": 'PUNCT'}, {'\"': 'PUNCT'}, {',': 'PUNCT'}, {\"'\": 'PUNCT'}, {',': 'PUNCT'}, {\"'\": 'PUNCT'}, {'\"': 'PUNCT'}, {'\\\\': 'PROPN'}, {\"'\": 'PROPN'}, {',': 'PUNCT'}, {'\"': 'PUNCT'}, {',': 'PUNCT'}, {\"'\": 'PUNCT'}, {',': 'PUNCT'}, {'\"': 'PUNCT'}, {\"'\": 'PUNCT'}, {'[': 'X'}, {\"'\": 'X'}, {',': 'PUNCT'}, {'\"': 'PUNCT'}, {',': 'PUNCT'}, {'\"': 'PUNCT'}, {\"'\": 'PUNCT'}, {']': 'PUNCT'}, {')': 'PUNCT'}, {\"'\": 'PUNCT'}, {']': 'PUNCT'}, {'\"': 'PUNCT'}, {']': 'PUNCT'}, {'[': 'X'}, {'\"': 'PUNCT'}, {'[': 'X'}, {\"'\": 'VERB'}, {'(': 'PUNCT'}, {'[': 'X'}, {\"'\": 'NUM'}, {',': 'PUNCT'}, {'\"': 'PUNCT'}, {',': 'PUNCT'}, {'\"': 'PUNCT'}, {\"'\": 'PUNCT'}, {']': 'PUNCT'}, {')': 'PUNCT'}, {\"'\": 'PUNCT'}, {',': 'PUNCT'}, {'\"': 'PUNCT'}, {',': 'PUNCT'}, {'\"': 'PUNCT'}, {\"'\": 'PUNCT'}, {'=': 'VERB'}, {\"'\": 'VERB'}, {',': 'PUNCT'}, {'\"': 'PUNCT'}, {',': 'PUNCT'}, {'\"': 'PUNCT'}, {\"'\": 'PUNCT'}, {'(': 'PUNCT'}, {\"'\": 'PUNCT'}, {',': 'PUNCT'}, {'\"': 'PUNCT'}, {',': 'PUNCT'}, {'\"': 'PUNCT'}, {\"'\": 'PUNCT'}, {'(': 'PUNCT'}, {')': 'PUNCT'}, {')': 'PUNCT'}, {\"'\": 'PUNCT'}, {',': 'PUNCT'}, {'\"': 'PUNCT'}, {',': 'PUNCT'}, {'\"': 'PUNCT'}, {\"'\": 'PUNCT'}, {'-': 'PROPN'}, {\"'\": 'PUNCT'}, {']': 'PUNCT'}, {'\"': 'PUNCT'}, {']': 'PUNCT'}, {'[': 'X'}, {'\"': 'PUNCT'}, {'[': 'X'}, {\"'\": 'X'}, {'[': 'X'}, {\"'\": 'PROPN'}, {',': 'PUNCT'}, {'\"': 'PUNCT'}, {',': 'PUNCT'}, {'\"': 'PUNCT'}, {\"'\": 'PUNCT'}, {']': 'X'}, {\"'\": 'NUM'}, {',': 'PUNCT'}, {'\"': 'PUNCT'}, {',': 'PUNCT'}, {'\"': 'PUNCT'}, {\"'\": 'PUNCT'}, {'>': 'X'}, {'=': 'X'}, {\"'\": 'VERB'}, {',': 'PUNCT'}, {'\"': 'PUNCT'}, {',': 'PUNCT'}, {\"'\": 'PUNCT'}, {'\"': 'PUNCT'}, {'(': 'PUNCT'}, {'\\\\': 'PROPN'}, {\"'\": 'PUNCT'}, {'\"': 'PUNCT'}, {',': 'PUNCT'}, {\"'\": 'PUNCT'}, {',': 'PUNCT'}, {\"'\": 'PUNCT'}, {'\"': 'PUNCT'}, {'\\\\': 'PROPN'}, {\"'\": 'PUNCT'}, {'\"': 'PUNCT'}, {',': 'PUNCT'}, {\"'\": 'PUNCT'}, {',': 'PUNCT'}, {'\"': 'PUNCT'}, {\"'\": 'PUNCT'}, {',': 'PUNCT'}, {\"'\": 'PUNCT'}, {',': 'PUNCT'}, {'\"': 'PUNCT'}, {',': 'PUNCT'}, {'\"': 'PUNCT'}, {\"'\": 'PUNCT'}, {'(': 'PUNCT'}, {')': 'PUNCT'}, {')': 'PUNCT'}, {\"'\": 'PUNCT'}, {']': 'PUNCT'}, {'\"': 'PUNCT'}, {']': 'PUNCT'}, {'[': 'X'}, {'\"': 'PUNCT'}, {'[': 'X'}, {\"'\": 'VERB'}, {'(': 'PUNCT'}, {'[': 'X'}, {\"'\": 'NUM'}, {',': 'PUNCT'}, {'\"': 'PUNCT'}, {',': 'PUNCT'}, {'\"': 'PUNCT'}, {\"'\": 'PUNCT'}, {']': 'PUNCT'}, {')': 'PUNCT'}, {\"'\": 'PUNCT'}, {',': 'PUNCT'}, {'\"': 'PUNCT'}, {',': 'PUNCT'}, {'\"': 'PUNCT'}, {\"'\": 'PUNCT'}, {'[': 'X'}, {\"'\": 'X'}, {',': 'PUNCT'}, {'\"': 'PUNCT'}, {',': 'PUNCT'}, {'\"': 'PUNCT'}, {\"'\": 'PUNCT'}, {']': 'X'}, {\"'\": 'NUM'}, {',': 'PUNCT'}, {'\"': 'PUNCT'}, {',': 'PUNCT'}, {'\"': 'PUNCT'}, {\"'\": 'PUNCT'}, {'[': 'X'}, {\"'\": 'X'}, {',': 'PUNCT'}, {'\"': 'PUNCT'}, {',': 'PUNCT'}, {'\"': 'PUNCT'}, {\"'\": 'PUNCT'}, {']': 'X'}, {\"'\": 'X'}, {']': 'X'}, {'\"': 'PUNCT'}, {']': 'PUNCT'}, {'[': 'X'}, {'\"': 'PUNCT'}, {'[': 'X'}, {\"'\": 'VERB'}, {'(': 'PUNCT'}, {\"'\": 'PUNCT'}, {',': 'PUNCT'}, {'\"': 'PUNCT'}, {',': 'PUNCT'}, {'\"': 'PUNCT'}, {\"'\": 'PUNCT'}, {'(': 'PUNCT'}, {'[': 'X'}, {\"'\": 'NUM'}, {',': 'PUNCT'}, {'\"': 'PUNCT'}, {',': 'PUNCT'}, {'\"': 'PUNCT'}, {\"'\": 'PUNCT'}, {']': 'X'}, {\"'\": 'NUM'}, {',': 'PUNCT'}, {'\"': 'PUNCT'}, {',': 'PUNCT'}, {'\"': 'PUNCT'}, {\"'\": 'PUNCT'}, {')': 'PUNCT'}, {\"'\": 'PUNCT'}, {',': 'PUNCT'}, {'\"': 'PUNCT'}, {',': 'PUNCT'}, {'\"': 'PUNCT'}, {\"'\": 'PUNCT'}, {'=': 'VERB'}, {\"'\": 'VERB'}, {',': 'PUNCT'}, {'\"': 'PUNCT'}, {',': 'PUNCT'}, {\"'\": 'PUNCT'}, {'\"': 'PUNCT'}, {'\\\\': 'PROPN'}, {\"'\": 'PUNCT'}, {'\"': 'PUNCT'}, {',': 'PUNCT'}, {\"'\": 'PUNCT'}, {',': 'PUNCT'}, {\"'\": 'PUNCT'}, {'\"': 'PUNCT'}, {'\\\\': 'PROPN'}, {\"'\": 'PUNCT'}, {'\"': 'PUNCT'}, {',': 'PUNCT'}, {\"'\": 'PUNCT'}, {',': 'PUNCT'}, {'\"': 'PUNCT'}, {\"'\": 'PUNCT'}, {'[': 'X'}, {\"'\": 'X'}, {',': 'PUNCT'}, {'\"': 'PUNCT'}, {',': 'PUNCT'}, {'\"': 'PUNCT'}, {\"'\": 'PUNCT'}, {']': 'X'}, {\"'\": 'NUM'}, {',': 'PUNCT'}, {'\"': 'PUNCT'}, {',': 'PUNCT'}, {'\"': 'PUNCT'}, {\"'\": 'PUNCT'}, {')': 'PUNCT'}, {\"'\": 'PUNCT'}, {']': 'PUNCT'}, {'\"': 'PUNCT'}, {']': 'PUNCT'}, {'[': 'X'}, {'\"': 'PUNCT'}, {'[': 'X'}, {\"'\": 'X'}, {'[': 'X'}, {\"'\": 'PROPN'}, {',': 'PUNCT'}, {'\"': 'PUNCT'}, {',': 'PUNCT'}, {'\"': 'PUNCT'}, {\"'\": 'PUNCT'}, {']': 'X'}, {\"'\": 'NUM'}, {',': 'PUNCT'}, {'\"': 'PUNCT'}, {',': 'PUNCT'}, {'\"': 'PUNCT'}, {\"'\": 'VERB'}, {'>': 'X'}, {\"'\": 'NUM'}, {',': 'PUNCT'}, {'\"': 'PUNCT'}, {',': 'PUNCT'}, {'\"': 'PUNCT'}, {\"'\": 'PUNCT'}, {'.': 'PUNCT'}, {\"'\": 'PUNCT'}, {',': 'PUNCT'}, {'\"': 'PUNCT'}, {',': 'PUNCT'}, {'\"': 'PUNCT'}, {\"'\": 'PUNCT'}, {'[': 'X'}, {\"'\": 'X'}, {',': 'PUNCT'}, {'\"': 'PUNCT'}, {',': 'PUNCT'}, {'\"': 'PUNCT'}, {\"'\": 'PUNCT'}, {']': 'X'}, {\"'\": 'NUM'}, {',': 'PUNCT'}, {'\"': 'PUNCT'}, {',': 'PUNCT'}, {'\"': 'PUNCT'}, {\"'\": 'VERB'}, {'>': 'X'}, {\"'\": 'NUM'}, {',': 'PUNCT'}, {'\"': 'PUNCT'}, {',': 'PUNCT'}, {'\"': 'PUNCT'}, {\"'\": 'PUNCT'}, {'.': 'PUNCT'}, {\"'\": 'PUNCT'}, {']': 'PUNCT'}, {'\"': 'PUNCT'}, {']': 'PUNCT'}, {'[': 'X'}, {'\"': 'PUNCT'}, {'[': 'X'}, {\"'\": 'VERB'}, {'(': 'PUNCT'}, {'[': 'X'}, {\"'\": 'NUM'}, {',': 'PUNCT'}, {'\"': 'PUNCT'}, {',': 'PUNCT'}, {'\"': 'PUNCT'}, {\"'\": 'PUNCT'}, {']': 'PUNCT'}, {')': 'PUNCT'}, {\"'\": 'PUNCT'}, {',': 'PUNCT'}, {'\"': 'PUNCT'}, {',': 'PUNCT'}, {'\"': 'PUNCT'}, {\"'\": 'PUNCT'}, {'<': 'X'}, {'=': 'VERB'}, {\"'\": 'PROPN'}, {',': 'PUNCT'}, {'\"': 'PUNCT'}, {',': 'PUNCT'}, {'\"': 'PUNCT'}, {\"'\": 'PUNCT'}, {'.': 'PUNCT'}, {\"'\": 'PUNCT'}, {']': 'PUNCT'}, {'\"': 'PUNCT'}, {']': 'PUNCT'}, {'[': 'X'}, {'\"': 'PUNCT'}, {'[': 'X'}, {\"'\": 'VERB'}, {'(': 'PUNCT'}, {'[': 'X'}, {\"'\": 'NUM'}, {',': 'PUNCT'}, {'\"': 'PUNCT'}, {',': 'PUNCT'}, {'\"': 'PUNCT'}, {\"'\": 'PUNCT'}, {']': 'PUNCT'}, {')': 'PUNCT'}, {\"'\": 'PUNCT'}, {']': 'PUNCT'}, {'\"': 'PUNCT'}, {']': 'PUNCT'}, {'[': 'X'}, {'\"': 'PUNCT'}, {'[': 'X'}, {\"'\": 'VERB'}, {'(': 'PUNCT'}, {'[': 'X'}, {\"'\": 'NUM'}, {',': 'PUNCT'}, {'\"': 'PUNCT'}, {',': 'PUNCT'}, {'\"': 'PUNCT'}, {\"'\": 'PUNCT'}, {']': 'PUNCT'}, {')': 'PUNCT'}, {\"'\": 'PUNCT'}, {']': 'PUNCT'}, {'\"': 'PUNCT'}, {']': 'PUNCT'}, {'[': 'X'}, {'\"': 'PUNCT'}, {'[': 'X'}, {\"'\": 'VERB'}, {'{': 'PUNCT'}, {\"'\": 'PROPN'}, {',': 'PUNCT'}, {'\"': 'PUNCT'}, {',': 'PUNCT'}, {'\"': 'PUNCT'}, {\"'\": 'PUNCT'}, {'[': 'X'}, {\"'\": 'X'}, {',': 'PUNCT'}, {'\"': 'PUNCT'}, {',': 'PUNCT'}, {'\"': 'PUNCT'}, {\"'\": 'PUNCT'}, {']': 'X'}, {\"'\": 'NUM'}, {',': 'PUNCT'}, {'\"': 'PUNCT'}, {',': 'PUNCT'}, {'\"': 'PUNCT'}, {\"'\": 'PUNCT'}, {'=': 'VERB'}, {\"'\": 'VERB'}, {',': 'PUNCT'}, {'\"': 'PUNCT'}, {',': 'PUNCT'}, {\"'\": 'PUNCT'}, {'\\\\\\'\"\\\\': 'PROPN'}, {\"'\": 'PUNCT'}, {',': 'PUNCT'}, {\"'\": 'PUNCT'}, {',': 'PUNCT'}, {\"'\": 'PUNCT'}, {'\\\\\\'\"\\\\': 'PROPN'}, {\"'\": 'PUNCT'}, {',': 'PUNCT'}, {\"'\": 'PUNCT'}, {',': 'PUNCT'}, {'\"': 'PUNCT'}, {\"'\": 'PUNCT'}, {':': 'PUNCT'}, {\"'\": 'PUNCT'}, {',': 'PUNCT'}, {'\"': 'PUNCT'}, {',': 'PUNCT'}, {'\"': 'PUNCT'}, {\"'\": 'PUNCT'}, {'(': 'PUNCT'}, {'[': 'X'}, {\"'\": 'NUM'}, {',': 'PUNCT'}, {'\"': 'PUNCT'}, {',': 'PUNCT'}, {'\"': 'PUNCT'}, {\"'\": 'PUNCT'}, {']': 'PUNCT'}, {')': 'PUNCT'}, {\"'\": 'PUNCT'}, {',': 'PUNCT'}, {'\"': 'PUNCT'}, {',': 'PUNCT'}, {'\"': 'PUNCT'}, {\"'\": 'PUNCT'}, {'}': 'PRON'}, {\"'\": 'PUNCT'}, {']': 'PUNCT'}, {'\"': 'PUNCT'}, {']': 'PUNCT'}, {'[': 'X'}, {'\"': 'PUNCT'}, {'[': 'X'}, {\"'\": 'VERB'}, {'(': 'PUNCT'}, {\"'\": 'PUNCT'}, {',': 'PUNCT'}, {'\"': 'PUNCT'}, {',': 'PUNCT'}, {'\"': 'PUNCT'}, {\"'\": 'PUNCT'}, {'[': 'X'}, {\"'\": 'X'}, {',': 'PUNCT'}, {'\"': 'PUNCT'}, {',': 'PUNCT'}, {'\"': 'PUNCT'}, {\"'\": 'PUNCT'}, {']': 'X'}, {\"'\": 'NUM'}, {',': 'PUNCT'}, {'\"': 'PUNCT'}, {',': 'PUNCT'}, {'\"': 'PUNCT'}, {\"'\": 'PUNCT'}, {'=': 'VERB'}, {\"'\": 'VERB'}, {',': 'PUNCT'}, {'\"': 'PUNCT'}, {',': 'PUNCT'}, {\"'\": 'PUNCT'}, {'\\\\\\'\"\\\\': 'PROPN'}, {\"'\": 'PUNCT'}, {',': 'PUNCT'}, {\"'\": 'PUNCT'}, {',': 'PUNCT'}, {\"'\": 'PUNCT'}, {'\\\\\\'\"\\\\': 'PROPN'}, {\"'\": 'PUNCT'}, {',': 'PUNCT'}, {\"'\": 'PUNCT'}, {',': 'PUNCT'}, {'\"': 'PUNCT'}, {\"'\": 'PUNCT'}, {')': 'PUNCT'}, {\"'\": 'PUNCT'}, {']': 'PUNCT'}, {'\"': 'PUNCT'}, {']': 'PUNCT'}, {'[': 'X'}, {'\"': 'PUNCT'}, {'[': 'X'}, {\"'\": 'VERB'}, {'(': 'PUNCT'}, {\"'\": 'PUNCT'}, {',': 'PUNCT'}, {'\"': 'PUNCT'}, {',': 'PUNCT'}, {'\"': 'PUNCT'}, {\"'\": 'PUNCT'}, {'[': 'X'}, {\"'\": 'X'}, {',': 'PUNCT'}, {'\"': 'PUNCT'}, {',': 'PUNCT'}, {'\"': 'PUNCT'}, {\"'\": 'PUNCT'}, {']': 'X'}, {\"'\": 'NUM'}, {',': 'PUNCT'}, {'\"': 'PUNCT'}, {',': 'PUNCT'}, {'\"': 'PUNCT'}, {\"'\": 'VERB'}, {'>': 'X'}, {\"'\": 'NUM'}, {',': 'PUNCT'}, {'\"': 'PUNCT'}, {',': 'PUNCT'}, {'\"': 'PUNCT'}, {\"'\": 'PUNCT'}, {'.': 'PUNCT'}, {\"'\": 'PUNCT'}, {',': 'PUNCT'}, {'\"': 'PUNCT'}, {',': 'PUNCT'}, {'\"': 'PUNCT'}, {\"'\": 'PUNCT'}, {'[': 'X'}, {\"'\": 'X'}, {',': 'PUNCT'}, {'\"': 'PUNCT'}, {',': 'PUNCT'}, {'\"': 'PUNCT'}, {\"'\": 'PUNCT'}, {']': 'X'}, {\"'\": 'NUM'}, {',': 'PUNCT'}, {'\"': 'PUNCT'}, {',': 'PUNCT'}, {'\"': 'PUNCT'}, {\"'\": 'PUNCT'}, {')': 'PUNCT'}, {\"'\": 'PUNCT'}, {']': 'PUNCT'}, {'\"': 'PUNCT'}, {']': 'PUNCT'}, {'[': 'X'}, {'\"': 'PUNCT'}, {'[': 'X'}, {\"'\": 'VERB'}, {'{': 'PUNCT'}, {\"'\": 'PROPN'}, {',': 'PUNCT'}, {'\"': 'PUNCT'}, {',': 'PUNCT'}, {'\"': 'PUNCT'}, {\"'\": 'PUNCT'}, {'[': 'X'}, {\"'\": 'X'}, {',': 'PUNCT'}, {'\"': 'PUNCT'}, {',': 'PUNCT'}, {'\"': 'PUNCT'}, {\"'\": 'PUNCT'}, {']': 'X'}, {\"'\": 'NUM'}, {',': 'PUNCT'}, {'\"': 'PUNCT'}, {',': 'PUNCT'}, {'\"': 'PUNCT'}, {\"'\": 'PUNCT'}, {'=': 'VERB'}, {\"'\": 'VERB'}, {',': 'PUNCT'}, {'\"': 'PUNCT'}, {',': 'PUNCT'}, {\"'\": 'PUNCT'}, {'\\\\\\'\"\\\\': 'PROPN'}, {\"'\": 'PUNCT'}, {',': 'PUNCT'}, {\"'\": 'PUNCT'}, {',': 'PUNCT'}, {\"'\": 'PUNCT'}, {'\\\\\\'\"\\\\': 'PROPN'}, {\"'\": 'PUNCT'}, {',': 'PUNCT'}, {\"'\": 'PUNCT'}, {',': 'PUNCT'}, {'\"': 'PUNCT'}, {\"'\": 'PUNCT'}, {':': 'PUNCT'}, {\"'\": 'PUNCT'}, {',': 'PUNCT'}, {'\"': 'PUNCT'}, {',': 'PUNCT'}, {'\"': 'PUNCT'}, {\"'\": 'PUNCT'}, {'(': 'PUNCT'}, {'[': 'X'}, {\"'\": 'NUM'}, {',': 'PUNCT'}, {'\"': 'PUNCT'}, {',': 'PUNCT'}, {'\"': 'PUNCT'}, {\"'\": 'PUNCT'}, {']': 'PUNCT'}, {')': 'PUNCT'}, {\"'\": 'PUNCT'}, {',': 'PUNCT'}, {'\"': 'PUNCT'}, {',': 'PUNCT'}, {'\"': 'PUNCT'}, {\"'\": 'PUNCT'}, {'}': 'PRON'}, {\"'\": 'PUNCT'}, {']': 'PUNCT'}, {'\"': 'PUNCT'}, {']': 'PUNCT'}, {'[': 'X'}, {'\"': 'PUNCT'}, {'[': 'X'}, {\"'\": 'VERB'}, {'{': 'PUNCT'}, {\"'\": 'PROPN'}, {',': 'PUNCT'}, {'\"': 'PUNCT'}, {',': 'PUNCT'}, {'\"': 'PUNCT'}, {\"'\": 'PUNCT'}, {'[': 'X'}, {\"'\": 'X'}, {',': 'PUNCT'}, {'\"': 'PUNCT'}, {',': 'PUNCT'}, {'\"': 'PUNCT'}, {\"'\": 'PUNCT'}, {']': 'X'}, {\"'\": 'NUM'}, {',': 'PUNCT'}, {'\"': 'PUNCT'}, {',': 'PUNCT'}, {'\"': 'PUNCT'}, {\"'\": 'PUNCT'}, {'=': 'VERB'}, {\"'\": 'VERB'}, {',': 'PUNCT'}, {'\"': 'PUNCT'}, {',': 'PUNCT'}, {\"'\": 'PUNCT'}, {'\\\\\\'\"\\\\': 'PROPN'}, {\"'\": 'PUNCT'}, {',': 'PUNCT'}, {\"'\": 'PUNCT'}, {',': 'PUNCT'}, {\"'\": 'PUNCT'}, {'\\\\\\'\"\\\\': 'PROPN'}, {\"'\": 'PUNCT'}, {',': 'PUNCT'}, {\"'\": 'PUNCT'}, {',': 'PUNCT'}, {'\"': 'PUNCT'}, {\"'\": 'PUNCT'}, {':': 'PUNCT'}, {\"'\": 'PUNCT'}, {',': 'PUNCT'}, {'\"': 'PUNCT'}, {',': 'PUNCT'}, {'\"': 'PUNCT'}, {\"'\": 'PUNCT'}, {'(': 'PUNCT'}, {'[': 'X'}, {\"'\": 'NUM'}, {',': 'PUNCT'}, {'\"': 'PUNCT'}, {',': 'PUNCT'}, {'\"': 'PUNCT'}, {\"'\": 'PUNCT'}, {']': 'PUNCT'}, {')': 'PUNCT'}, {\"'\": 'PUNCT'}, {',': 'PUNCT'}, {'\"': 'PUNCT'}, {',': 'PUNCT'}, {'\"': 'PUNCT'}, {\"'\": 'PUNCT'}, {'}': 'PRON'}, {\"'\": 'PUNCT'}, {']': 'PUNCT'}, {'\"': 'PUNCT'}, {']': 'PUNCT'}, {'[': 'X'}, {'\"': 'PUNCT'}, {'[': 'X'}, {\"'\": 'VERB'}, {'(': 'PUNCT'}, {'[': 'X'}, {\"'\": 'NUM'}, {',': 'PUNCT'}, {'\"': 'PUNCT'}, {',': 'PUNCT'}, {'\"': 'PUNCT'}, {\"'\": 'PUNCT'}, {']': 'PUNCT'}, {')': 'PUNCT'}, {\"'\": 'PUNCT'}, {',': 'PUNCT'}, {'\"': 'PUNCT'}, {',': 'PUNCT'}, {'\"': 'PUNCT'}, {\"'\": 'PUNCT'}, {'[': 'X'}, {\"'\": 'X'}, {',': 'PUNCT'}, {'\"': 'PUNCT'}, {',': 'PUNCT'}, {'\"': 'PUNCT'}, {\"'\": 'PUNCT'}, {']': 'X'}, {\"'\": 'NUM'}, {',': 'PUNCT'}, {'\"': 'PUNCT'}, {',': 'PUNCT'}, {'\"': 'PUNCT'}, {\"'\": 'PUNCT'}, {'[': 'X'}, {\"'\": 'X'}, {',': 'PUNCT'}, {'\"': 'PUNCT'}, {',': 'PUNCT'}, {'\"': 'PUNCT'}, {\"'\": 'PUNCT'}, {']': 'X'}, {\"'\": 'X'}, {']': 'X'}, {'\"': 'PUNCT'}, {']': 'PUNCT'}, {'[': 'X'}, {'\"': 'PUNCT'}, {'[': 'X'}, {\"'\": 'X'}, {'[': 'X'}, {\"'\": 'PROPN'}, {',': 'PUNCT'}, {'\"': 'PUNCT'}, {',': 'PUNCT'}, {'\"': 'PUNCT'}, {\"'\": 'PUNCT'}, {']': 'X'}, {\"'\": 'NUM'}, {',': 'PUNCT'}, {'\"': 'PUNCT'}, {',': 'PUNCT'}, {'\"': 'PUNCT'}, {\"'\": 'PUNCT'}, {'=': 'VERB'}, {\"'\": 'VERB'}, {',': 'PUNCT'}, {'\"': 'PUNCT'}, {',': 'PUNCT'}, {\"'\": 'PUNCT'}, {'\\\\\\'\"\\\\': 'PROPN'}, {\"'\": 'PUNCT'}, {',': 'PUNCT'}, {\"'\": 'PUNCT'}, {',': 'PUNCT'}, {\"'\": 'PUNCT'}, {'\\\\\\'\"\\\\': 'PROPN'}, {\"'\": 'PUNCT'}, {',': 'PUNCT'}, {\"'\": 'PUNCT'}, {',': 'PUNCT'}, {'\"': 'PUNCT'}, {\"'\": 'PUNCT'}, {'[': 'X'}, {\"'\": 'X'}, {',': 'PUNCT'}, {'\"': 'PUNCT'}, {',': 'PUNCT'}, {'\"': 'PUNCT'}, {\"'\": 'PUNCT'}, {']': 'X'}, {\"'\": 'NUM'}, {',': 'PUNCT'}, {'\"': 'PUNCT'}, {',': 'PUNCT'}, {'\"': 'PUNCT'}, {\"'\": 'PUNCT'}, {'>': 'X'}, {'=': 'X'}, {\"'\": 'VERB'}, {',': 'PUNCT'}, {'\"': 'PUNCT'}, {',': 'PUNCT'}, {'\"': 'PUNCT'}, {\"'\": 'PUNCT'}, {'.': 'PUNCT'}, {\"'\": 'PUNCT'}, {']': 'PUNCT'}, {'\"': 'PUNCT'}, {']': 'PUNCT'}, {'[': 'X'}, {'\"': 'PUNCT'}, {'[': 'X'}, {\"'\": 'VERB'}, {'(': 'PUNCT'}, {'[': 'X'}, {\"'\": 'NUM'}, {',': 'PUNCT'}, {'\"': 'PUNCT'}, {',': 'PUNCT'}, {'\"': 'PUNCT'}, {\"'\": 'PUNCT'}, {']': 'PUNCT'}, {')': 'PUNCT'}, {\"'\": 'PUNCT'}, {',': 'PUNCT'}, {'\"': 'PUNCT'}, {',': 'PUNCT'}, {'\"': 'PUNCT'}, {\"'\": 'PUNCT'}, {'<': 'X'}, {'=': 'VERB'}, {\"'\": 'PROPN'}, {',': 'PUNCT'}, {'\"': 'PUNCT'}, {',': 'PUNCT'}, {'\"': 'PUNCT'}, {\"'\": 'PUNCT'}, {'[': 'X'}, {\"'\": 'X'}, {',': 'PUNCT'}, {'\"': 'PUNCT'}, {',': 'PUNCT'}, {'\"': 'PUNCT'}, {\"'\": 'PUNCT'}, {']': 'X'}, {\"'\": 'NUM'}, {',': 'PUNCT'}, {'\"': 'PUNCT'}, {',': 'PUNCT'}, {'\"': 'PUNCT'}, {\"'\": 'PUNCT'}, {'=': 'VERB'}, {\"'\": 'VERB'}, {',': 'PUNCT'}, {'\"': 'PUNCT'}, {',': 'PUNCT'}, {\"'\": 'PUNCT'}, {'\\\\\\'\"\\\\': 'PROPN'}, {\"'\": 'PUNCT'}, {',': 'PUNCT'}, {\"'\": 'PUNCT'}, {',': 'PUNCT'}, {\"'\": 'PUNCT'}, {'\\\\\\'\"\\\\': 'PROPN'}, {\"'\": 'PUNCT'}, {']': 'PUNCT'}, {\"'\": 'PUNCT'}, {']': 'PUNCT'}, {'[': 'X'}, {'\"': 'PUNCT'}, {'[': 'X'}, {\"'\": 'VERB'}, {'(': 'PUNCT'}, {'[': 'X'}, {\"'\": 'NUM'}, {',': 'PUNCT'}, {'\"': 'PUNCT'}, {',': 'PUNCT'}, {'\"': 'PUNCT'}, {\"'\": 'PUNCT'}, {']': 'PUNCT'}, {')': 'PUNCT'}, {\"'\": 'PUNCT'}, {',': 'PUNCT'}, {'\"': 'PUNCT'}, {',': 'PUNCT'}, {'\"': 'PUNCT'}, {\"'\": 'PUNCT'}, {'>': 'X'}, {'=': 'X'}, {\"'\": 'VERB'}, {',': 'PUNCT'}, {'\"': 'PUNCT'}, {',': 'PUNCT'}, {'\"': 'PUNCT'}, {\"'\": 'PUNCT'}, {'.': 'PUNCT'}, {\"'\": 'PUNCT'}, {']': 'PUNCT'}, {'\"': 'PUNCT'}, {']': 'PUNCT'}, {'[': 'X'}, {'\"': 'PUNCT'}, {'[': 'X'}, {\"'\": 'VERB'}, {'(': 'PUNCT'}, {'[': 'X'}, {\"'\": 'NUM'}, {',': 'PUNCT'}, {'\"': 'PUNCT'}, {',': 'PUNCT'}, {'\"': 'PUNCT'}, {\"'\": 'PUNCT'}, {']': 'PUNCT'}, {')': 'PUNCT'}, {\"'\": 'PUNCT'}, {',': 'PUNCT'}, {'\"': 'PUNCT'}, {',': 'PUNCT'}, {'\"': 'PUNCT'}, {\"'\": 'PUNCT'}, {'[': 'X'}, {\"'\": 'X'}, {',': 'PUNCT'}, {'\"': 'PUNCT'}, {',': 'PUNCT'}, {'\"': 'PUNCT'}, {\"'\": 'PUNCT'}, {']': 'X'}, {\"'\": 'NUM'}, {',': 'PUNCT'}, {'\"': 'PUNCT'}, {',': 'PUNCT'}, {'\"': 'PUNCT'}, {\"'\": 'PUNCT'}, {'(': 'PUNCT'}, {'[': 'X'}, {\"'\": 'NUM'}, {',': 'PUNCT'}, {'\"': 'PUNCT'}, {',': 'PUNCT'}, {'\"': 'PUNCT'}, {\"'\": 'PUNCT'}, {']': 'PUNCT'}, {')': 'PUNCT'}, {\"'\": 'PUNCT'}, {']': 'PUNCT'}, {'\"': 'PUNCT'}, {']': 'PUNCT'}, {'[': 'X'}, {'\"': 'PUNCT'}, {'[': 'X'}, {\"'\": 'X'}, {'[': 'X'}, {\"'\": 'PROPN'}, {',': 'PUNCT'}, {'\"': 'PUNCT'}, {',': 'PUNCT'}, {'\"': 'PUNCT'}, {\"'\": 'PUNCT'}, {']': 'X'}, {\"'\": 'NUM'}, {',': 'PUNCT'}, {'\"': 'PUNCT'}, {',': 'PUNCT'}, {'\"': 'PUNCT'}, {\"'\": 'PUNCT'}, {'=': 'VERB'}, {\"'\": 'VERB'}, {',': 'PUNCT'}, {'\"': 'PUNCT'}, {',': 'PUNCT'}, {\"'\": 'PUNCT'}, {'\\\\\\'\"\\\\': 'PROPN'}, {\"'\": 'PUNCT'}, {',': 'PUNCT'}, {\"'\": 'PUNCT'}, {',': 'PUNCT'}, {\"'\": 'PUNCT'}, {'\\\\\\'\"\\\\': 'PROPN'}, {\"'\": 'PUNCT'}, {',': 'PUNCT'}, {\"'\": 'PUNCT'}, {',': 'PUNCT'}, {'\"': 'PUNCT'}, {\"'\": 'PUNCT'}, {'[': 'X'}, {\"'\": 'X'}, {',': 'PUNCT'}, {'\"': 'PUNCT'}, {',': 'PUNCT'}, {'\"': 'PUNCT'}, {\"'\": 'PUNCT'}, {']': 'X'}, {\"'\": 'NUM'}, {',': 'PUNCT'}, {'\"': 'PUNCT'}, {',': 'PUNCT'}, {'\"': 'PUNCT'}, {\"'\": 'PUNCT'}, {'.': 'PUNCT'}, {\"'\": 'PUNCT'}, {',': 'PUNCT'}, {'\"': 'PUNCT'}, {',': 'PUNCT'}, {'\"': 'PUNCT'}, {\"'\": 'PUNCT'}, {'.': 'PUNCT'}, {\"'\": 'PUNCT'}, {']': 'PUNCT'}, {'\"': 'PUNCT'}, {']': 'PUNCT'}, {'[': 'X'}, {'\"': 'PUNCT'}, {'[': 'X'}, {\"'\": 'VERB'}, {'(': 'PUNCT'}, {\"'\": 'PUNCT'}, {',': 'PUNCT'}, {'\"': 'PUNCT'}, {',': 'PUNCT'}, {'\"': 'PUNCT'}, {\"'\": 'PUNCT'}, {'(': 'PUNCT'}, {'[': 'X'}, {\"'\": 'NUM'}, {',': 'PUNCT'}, {'\"': 'PUNCT'}, {',': 'PUNCT'}, {'\"': 'PUNCT'}, {\"'\": 'PUNCT'}, {']': 'X'}, {\"'\": 'NUM'}, {',': 'PUNCT'}, {'\"': 'PUNCT'}, {',': 'PUNCT'}, {\"'\": 'PUNCT'}, {'\\\\\\'\"\\\\': 'PROPN'}, {\"'\": 'PUNCT'}, {',': 'PUNCT'}, {\"'\": 'PUNCT'}, {',': 'PUNCT'}, {\"'\": 'PUNCT'}, {'\\\\\\'\")\\\\': 'NOUN'}, {\"'\": 'PUNCT'}, {',': 'PUNCT'}, {\"'\": 'PUNCT'}, {',': 'PUNCT'}, {'\"': 'PUNCT'}, {\"'\": 'PUNCT'}, {')': 'PUNCT'}, {\"'\": 'PUNCT'}, {']': 'PUNCT'}, {'\"': 'PUNCT'}, {']': 'PUNCT'}, {'[': 'X'}, {'\"': 'PUNCT'}, {'[': 'X'}, {\"'\": 'VERB'}, {'(': 'PUNCT'}, {'[': 'X'}, {\"'\": 'NUM'}, {',': 'PUNCT'}, {'\"': 'PUNCT'}, {',': 'PUNCT'}, {'\"': 'PUNCT'}, {\"'\": 'PUNCT'}, {']': 'X'}, {\"'\": 'NUM'}, {',': 'PUNCT'}, {'\"': 'PUNCT'}, {',': 'PUNCT'}, {\"'\": 'PUNCT'}, {'\\\\\\'\"\\\\': 'PROPN'}, {\"'\": 'PUNCT'}, {',': 'PUNCT'}, {\"'\": 'PUNCT'}, {',': 'PUNCT'}, {\"'\": 'PUNCT'}, {'\\\\\\'\")\\\\': 'NOUN'}, {\"'\": 'PUNCT'}, {',': 'PUNCT'}, {\"'\": 'PUNCT'}, {',': 'PUNCT'}, {'\"': 'PUNCT'}, {\"'\": 'PUNCT'}, {'(': 'PUNCT'}, {'[': 'X'}, {\"'\": 'NUM'}, {',': 'PUNCT'}, {'\"': 'PUNCT'}, {',': 'PUNCT'}, {'\"': 'PUNCT'}, {\"'\": 'PUNCT'}, {']': 'X'}, {',': 'PUNCT'}, {\"'\": 'PUNCT'}, {',': 'PUNCT'}, {'\"': 'PUNCT'}, {',': 'PUNCT'}, {'\"': 'PUNCT'}, {\"'\": 'PUNCT'}, {'“': 'PUNCT'}, {\"'\": 'PUNCT'}, {',': 'PUNCT'}, {'\"': 'PUNCT'}, {',': 'PUNCT'}, {'\"': 'PUNCT'}, {\"'\": 'PUNCT'}, {'”': 'PUNCT'}, {')': 'PUNCT'}, {\"'\": 'PUNCT'}, {']': 'PUNCT'}, {'\"': 'PUNCT'}, {']': 'PUNCT'}]\n",
            "Tokenized Symbols (Tableau) : ['PRON', 'PROPN', 'X', 'VERB', 'PUNCT', 'NOUN', 'NUM']\n"
          ]
        }
      ]
    },
    {
      "cell_type": "code",
      "source": [
        "for pat in p_e:\n",
        "    print({pat:p_e[pat]})"
      ],
      "metadata": {
        "id": "3BVvxt5RksS7",
        "colab": {
          "base_uri": "https://localhost:8080/"
        },
        "outputId": "e191b1d6-c6a8-4310-cdfb-d91775214888"
      },
      "execution_count": 52,
      "outputs": [
        {
          "output_type": "stream",
          "name": "stdout",
          "text": [
            "{'PRON': ['}']}\n",
            "{'PROPN': ['-', \"'\", '\\\\', '\\\\\\'\"\\\\']}\n",
            "{'X': [\"'\", '<', '=', '[', '>', ']']}\n",
            "{'VERB': [\"'\", '=']}\n",
            "{'PUNCT': ['.', \"'\", ')', '*', '=', '\"', '(', ']', '!', '{', ',', '”', ':', '“']}\n",
            "{'NOUN': ['\\\\\\'\")\\\\']}\n",
            "{'NUM': [\"'\"]}\n"
          ]
        }
      ]
    },
    {
      "cell_type": "code",
      "source": [
        "POS_=[]\n",
        "for pat in p_d:\n",
        "   POS_.append(pat)\n",
        "for pat in p_t:\n",
        "   POS_.append(pat)\n",
        "for pat in p_e:\n",
        "   POS_.append(pat)\n",
        "POS_=list(set(POS_))\n",
        "print(POS_, len(POS_))"
      ],
      "metadata": {
        "id": "7n0mh-c3mfLA",
        "colab": {
          "base_uri": "https://localhost:8080/"
        },
        "outputId": "fc8c5158-e5f3-4828-e4bd-b6d62a0e5e37"
      },
      "execution_count": 53,
      "outputs": [
        {
          "output_type": "stream",
          "name": "stdout",
          "text": [
            "['PRON', 'NOUN', 'ADP', 'PROPN', 'AUX', 'X', 'DET', 'NUM', 'INTJ', 'VERB', 'ADV', 'PART', 'PUNCT', 'SCONJ', 'CCONJ', 'ADJ'] 16\n"
          ]
        }
      ]
    },
    {
      "cell_type": "code",
      "source": [
        "ENT_={}\n",
        "\n",
        "for pat in POS_:\n",
        "  if (p_d.get(pat)!=None and p_t.get(pat)!=None and p_e.get(pat) !=None):\n",
        "    p_list=p_d[pat]+p_t[pat]+p_e[pat]\n",
        "  elif (p_d.get(pat)!=None and p_t.get(pat)!=None ):\n",
        "    p_list=p_d[pat] + p_t[pat]\n",
        "  else:\n",
        "    p_list=p_d[pat]\n",
        "\n",
        "  ENT_.update({pat:[x for x in list(set(p_list))]})"
      ],
      "metadata": {
        "id": "AXgkUU-0p5t7"
      },
      "execution_count": 54,
      "outputs": []
    },
    {
      "cell_type": "code",
      "source": [
        "for pat in POS_:\n",
        "  print ({pat:ENT_[pat]})"
      ],
      "metadata": {
        "id": "hwl4VtCnrMie",
        "colab": {
          "base_uri": "https://localhost:8080/"
        },
        "outputId": "83d678b5-69c9-4f0c-bd9a-eec22e7ecc39"
      },
      "execution_count": 55,
      "outputs": [
        {
          "output_type": "stream",
          "name": "stdout",
          "text": [
            "{'PRON': ['each', 'there', 'the', 'a', 'this', 'What', 'all', 'both']}\n",
            "{'NOUN': ['field', 'versicolor', 'Species', 'TODAY', 'List', 'FIXED', 'Lengths', 'entries', 'SUM', 'Widths', 'observation', 'color', \"'\", 'value', 'number', 'Date', 'month', 'Sepal', 'Number', 'Entries', 'name', '\\\\\\'\")\\\\', 'year', 'species', 'Display', 'occurrences', 'flowers', 'ORDER', 'points', 'Determine', 'types', 'flower', 'records', 'order', 'ENDSWITH', 'C', 'YEAR', 'data']}\n",
            "{'ADP': ['within', 'for', 'of', 'by', 'in', 'above', 'BY', 'FROM', 'from', 'over', 'with', 'at', 'than', 'WITH', 'between', 'across', 'BETWEEN']}\n",
            "{'PROPN': ['Species', 'LEFT', 'STARTS', 'January', '-', 'MIN', 'COUNTD', 'Iris', 'MEDIAN', 'Group', 'Width', '\\\\', 'MAX', 'GROUP', \"'\", 'Count', 'Filter', 'Se', 'DATETRUNC', 'Date', 'Median', '\\\\\\'\"\\\\', 'COUNT', 'Length', 'ASC', 'AVG', 'Sum', 'Iri', 'Setosa', 'Rank', 'END', 'INDEX']}\n",
            "{'AUX': ['are', \"'s\", 'RANK_PERCENTILE', 'is']}\n",
            "{'X': [\"'\", '<', '=', '[', '0', ']', '>', 'median', 'virginica', 'ica', 'Length', '1', '10th', '2']}\n",
            "{'DET': ['a', 'the']}\n",
            "{'NUM': [\"'\", '5', 'TOP', '3', '9', '10', '4']}\n",
            "{'INTJ': ['%']}\n",
            "{'VERB': ['CONTAINS', 'Find', 'contains', 'starting', 'ends', 'LISTED', 'Calculate', 'percentile', 'Show', 'found', 'DISTINCT', 'NULL', '=', 'assuming', 'show', 'top', 'recorded', 'SUM', 'setosa', 'color', \"'\", 'STARTSWITH', 'RANK', 'Date', 'start', 'ica', 'starts', 'sorted', 'descending', 'ascending', 'dataset', 'Organize', 'Setosa', 'ENDSWITH', 'count', 'DESC', 'Aggregate', 'grouped']}\n",
            "{'ADV': ['SORT', 'alphabetically', 'THEN', 'ELSE', 'exactly', 'only', 'Sort']}\n",
            "{'PART': [\"'\", 'not', 'to']}\n",
            "{'PUNCT': ['.', \"'\", ')', '*', '=', '\"', ']', '?', '(', '!', '{', ',', '”', ':', '“']}\n",
            "{'SCONJ': ['where', 'how', 'How', 'IF']}\n",
            "{'CCONJ': ['AND', 'or', 'and']}\n",
            "{'ADJ': ['Distinct', 'Maximum', 'high', 'bottom', 'lowest', 'middle', 'equal', 'Total', 'SORTED', 'Lowest', 'Average', 'Select', 'Highest', 'total', 'Minimum', 'last', 'average', 'smallest', 'least', 'low', 'Petal', 'many', 'less', 'distinct', 'highest', 'greater', 'Top', 'unique']}\n"
          ]
        }
      ]
    },
    {
      "cell_type": "markdown",
      "source": [
        "#Tokenize with Pre-trained sPacy models"
      ],
      "metadata": {
        "id": "tXrvHd-wdUqH"
      }
    },
    {
      "cell_type": "code",
      "source": [
        "nlp = spacy.load(\"en_core_web_sm\")\n",
        "import en_core_web_sm\n",
        "nlp = en_core_web_sm.load()"
      ],
      "metadata": {
        "id": "8UpVlcEydixW"
      },
      "execution_count": 56,
      "outputs": []
    },
    {
      "cell_type": "markdown",
      "source": [
        "# Description Patterns"
      ],
      "metadata": {
        "id": "pu4P4q8oe4eV"
      }
    },
    {
      "cell_type": "code",
      "source": [
        "dg_ent={}"
      ],
      "metadata": {
        "id": "P5k_60q7ea5g"
      },
      "execution_count": 57,
      "outputs": []
    },
    {
      "cell_type": "code",
      "source": [
        "p_d=dg_ent['Patterns_Description']=get_patterns(dg_tok,dg_tok.columns[0])"
      ],
      "metadata": {
        "id": "WaUv07QDeovU",
        "colab": {
          "base_uri": "https://localhost:8080/"
        },
        "outputId": "10d4a133-c04f-4c93-e2ee-97c899f035a1"
      },
      "execution_count": 58,
      "outputs": [
        {
          "output_type": "stream",
          "name": "stdout",
          "text": [
            "[{'[': 'X'}, {'\"': 'PUNCT'}, {'[': 'X'}, {\"'\": 'X'}, {'Sum': 'PROPN'}, {\"'\": 'NUM'}, {',': 'PUNCT'}, {'\"': 'PUNCT'}, {',': 'PUNCT'}, {'\"': 'PUNCT'}, {\"'\": 'PUNCT'}, {'of': 'ADP'}, {\"'\": 'NUM'}, {',': 'PUNCT'}, {'\"': 'PUNCT'}, {',': 'PUNCT'}, {'\"': 'PUNCT'}, {\"'\": 'PUNCT'}, {'Sepal': 'NOUN'}, {\"'\": 'PUNCT'}, {',': 'PUNCT'}, {'\"': 'PUNCT'}, {',': 'PUNCT'}, {'\"': 'PUNCT'}, {\"'\": 'PUNCT'}, {'Length': 'X'}, {\"'\": 'PUNCT'}, {']': 'PUNCT'}, {'\"': 'PUNCT'}, {']': 'PUNCT'}, {'[': 'X'}, {'\"': 'PUNCT'}, {'[': 'X'}, {\"'\": 'PUNCT'}, {'Average': 'ADJ'}, {\"'\": 'PUNCT'}, {',': 'PUNCT'}, {'\"': 'PUNCT'}, {',': 'PUNCT'}, {'\"': 'PUNCT'}, {\"'\": 'PUNCT'}, {'Sepal': 'NOUN'}, {\"'\": 'PUNCT'}, {',': 'PUNCT'}, {'\"': 'PUNCT'}, {',': 'PUNCT'}, {'\"': 'PUNCT'}, {\"'\": 'PUNCT'}, {'Width': 'PROPN'}, {\"'\": 'PUNCT'}, {',': 'PUNCT'}, {'\"': 'PUNCT'}, {',': 'PUNCT'}, {'\"': 'PUNCT'}, {\"'\": 'PUNCT'}, {'across': 'ADP'}, {\"'\": 'PUNCT'}, {',': 'PUNCT'}, {'\"': 'PUNCT'}, {',': 'PUNCT'}, {'\"': 'PUNCT'}, {\"'\": 'PUNCT'}, {'all': 'PRON'}, {\"'\": 'PROPN'}, {',': 'PUNCT'}, {'\"': 'PUNCT'}, {',': 'PUNCT'}, {'\"': 'PUNCT'}, {\"'\": 'PUNCT'}, {'entries': 'NOUN'}, {\"'\": 'PUNCT'}, {']': 'PUNCT'}, {'\"': 'PUNCT'}, {']': 'PUNCT'}, {'[': 'X'}, {'\"': 'PUNCT'}, {'[': 'X'}, {\"'\": 'VERB'}, {'Find': 'VERB'}, {\"'\": 'PUNCT'}, {',': 'PUNCT'}, {'\"': 'PUNCT'}, {',': 'PUNCT'}, {'\"': 'PUNCT'}, {\"'\": 'PUNCT'}, {'the': 'DET'}, {\"'\": 'PUNCT'}, {',': 'PUNCT'}, {'\"': 'PUNCT'}, {',': 'PUNCT'}, {'\"': 'PUNCT'}, {\"'\": 'PUNCT'}, {'median': 'X'}, {\"'\": 'PROPN'}, {',': 'PUNCT'}, {'\"': 'PUNCT'}, {',': 'PUNCT'}, {'\"': 'PUNCT'}, {\"'\": 'PUNCT'}, {'Petal': 'ADJ'}, {\"'\": 'PUNCT'}, {',': 'PUNCT'}, {'\"': 'PUNCT'}, {',': 'PUNCT'}, {'\"': 'PUNCT'}, {\"'\": 'PUNCT'}, {'Length': 'X'}, {\"'\": 'PUNCT'}, {']': 'PUNCT'}, {'\"': 'PUNCT'}, {']': 'PUNCT'}, {'[': 'X'}, {'\"': 'PUNCT'}, {'[': 'X'}, {\"'\": 'X'}, {'Count': 'PROPN'}, {\"'\": 'PUNCT'}, {',': 'PUNCT'}, {'\"': 'PUNCT'}, {',': 'PUNCT'}, {'\"': 'PUNCT'}, {\"'\": 'PUNCT'}, {'the': 'DET'}, {\"'\": 'PUNCT'}, {',': 'PUNCT'}, {'\"': 'PUNCT'}, {',': 'PUNCT'}, {'\"': 'PUNCT'}, {\"'\": 'PUNCT'}, {'number': 'NOUN'}, {\"'\": 'PUNCT'}, {',': 'PUNCT'}, {'\"': 'PUNCT'}, {',': 'PUNCT'}, {'\"': 'PUNCT'}, {\"'\": 'PUNCT'}, {'of': 'ADP'}, {\"'\": 'NUM'}, {',': 'PUNCT'}, {'\"': 'PUNCT'}, {',': 'PUNCT'}, {'\"': 'PUNCT'}, {\"'\": 'PUNCT'}, {'records': 'NOUN'}, {\"'\": 'PART'}, {',': 'PUNCT'}, {'\"': 'PUNCT'}, {',': 'PUNCT'}, {'\"': 'PUNCT'}, {\"'\": 'PUNCT'}, {'in': 'ADP'}, {\"'\": 'NUM'}, {',': 'PUNCT'}, {'\"': 'PUNCT'}, {',': 'PUNCT'}, {'\"': 'PUNCT'}, {\"'\": 'PUNCT'}, {'the': 'DET'}, {\"'\": 'PUNCT'}, {',': 'PUNCT'}, {'\"': 'PUNCT'}, {',': 'PUNCT'}, {'\"': 'PUNCT'}, {\"'\": 'PUNCT'}, {'dataset': 'VERB'}, {\"'\": 'PUNCT'}, {']': 'PUNCT'}, {'\"': 'PUNCT'}, {']': 'PUNCT'}, {'[': 'X'}, {'\"': 'PUNCT'}, {'[': 'X'}, {\"'\": 'X'}, {'Count': 'PROPN'}, {\"'\": 'PUNCT'}, {',': 'PUNCT'}, {'\"': 'PUNCT'}, {',': 'PUNCT'}, {'\"': 'PUNCT'}, {\"'\": 'PUNCT'}, {'distinct': 'ADJ'}, {\"'\": 'PUNCT'}, {',': 'PUNCT'}, {'\"': 'PUNCT'}, {',': 'PUNCT'}, {'\"': 'PUNCT'}, {\"'\": 'PUNCT'}, {'species': 'NOUN'}, {\"'\": 'PUNCT'}, {',': 'PUNCT'}, {'\"': 'PUNCT'}, {',': 'PUNCT'}, {'\"': 'PUNCT'}, {\"'\": 'PUNCT'}, {'in': 'ADP'}, {\"'\": 'NUM'}, {',': 'PUNCT'}, {'\"': 'PUNCT'}, {',': 'PUNCT'}, {'\"': 'PUNCT'}, {\"'\": 'PUNCT'}, {'the': 'DET'}, {\"'\": 'PUNCT'}, {',': 'PUNCT'}, {'\"': 'PUNCT'}, {',': 'PUNCT'}, {'\"': 'PUNCT'}, {\"'\": 'PUNCT'}, {'dataset': 'VERB'}, {\"'\": 'PUNCT'}, {']': 'PUNCT'}, {'\"': 'PUNCT'}, {']': 'PUNCT'}, {'[': 'X'}, {'\"': 'PUNCT'}, {'[': 'X'}, {\"'\": 'PUNCT'}, {'Minimum': 'ADJ'}, {\"'\": 'PUNCT'}, {',': 'PUNCT'}, {'\"': 'PUNCT'}, {',': 'PUNCT'}, {'\"': 'PUNCT'}, {\"'\": 'PUNCT'}, {'value': 'NOUN'}, {\"'\": 'PUNCT'}, {',': 'PUNCT'}, {'\"': 'PUNCT'}, {',': 'PUNCT'}, {'\"': 'PUNCT'}, {\"'\": 'PUNCT'}, {'of': 'ADP'}, {\"'\": 'NUM'}, {',': 'PUNCT'}, {'\"': 'PUNCT'}, {',': 'PUNCT'}, {'\"': 'PUNCT'}, {\"'\": 'PUNCT'}, {'Sepal': 'NOUN'}, {\"'\": 'PUNCT'}, {',': 'PUNCT'}, {'\"': 'PUNCT'}, {',': 'PUNCT'}, {'\"': 'PUNCT'}, {\"'\": 'PUNCT'}, {'Length': 'X'}, {\"'\": 'PUNCT'}, {']': 'PUNCT'}, {'\"': 'PUNCT'}, {']': 'PUNCT'}, {'[': 'X'}, {'\"': 'PUNCT'}, {'[': 'X'}, {\"'\": 'PUNCT'}, {'Maximum': 'ADJ'}, {\"'\": 'NUM'}, {',': 'PUNCT'}, {'\"': 'PUNCT'}, {',': 'PUNCT'}, {'\"': 'PUNCT'}, {\"'\": 'PUNCT'}, {'Petal': 'ADJ'}, {\"'\": 'PUNCT'}, {',': 'PUNCT'}, {'\"': 'PUNCT'}, {',': 'PUNCT'}, {'\"': 'PUNCT'}, {\"'\": 'PUNCT'}, {'Width': 'PROPN'}, {\"'\": 'PUNCT'}, {',': 'PUNCT'}, {'\"': 'PUNCT'}, {',': 'PUNCT'}, {'\"': 'PUNCT'}, {\"'\": 'PUNCT'}, {'found': 'VERB'}, {\"'\": 'PUNCT'}, {',': 'PUNCT'}, {'\"': 'PUNCT'}, {',': 'PUNCT'}, {'\"': 'PUNCT'}, {\"'\": 'PUNCT'}, {'in': 'ADP'}, {\"'\": 'NUM'}, {',': 'PUNCT'}, {'\"': 'PUNCT'}, {',': 'PUNCT'}, {'\"': 'PUNCT'}, {\"'\": 'PUNCT'}, {'the': 'DET'}, {\"'\": 'PUNCT'}, {',': 'PUNCT'}, {'\"': 'PUNCT'}, {',': 'PUNCT'}, {'\"': 'PUNCT'}, {\"'\": 'PUNCT'}, {'dataset': 'VERB'}, {\"'\": 'PUNCT'}, {']': 'PUNCT'}, {'\"': 'PUNCT'}, {']': 'PUNCT'}, {'[': 'X'}, {'\"': 'PUNCT'}, {'[': 'X'}, {\"'\": 'X'}, {'Group': 'PROPN'}, {\"'\": 'PUNCT'}, {',': 'PUNCT'}, {'\"': 'PUNCT'}, {',': 'PUNCT'}, {'\"': 'PUNCT'}, {\"'\": 'PUNCT'}, {'records': 'NOUN'}, {\"'\": 'PART'}, {',': 'PUNCT'}, {'\"': 'PUNCT'}, {',': 'PUNCT'}, {'\"': 'PUNCT'}, {\"'\": 'PUNCT'}, {'by': 'ADP'}, {\"'\": 'NUM'}, {',': 'PUNCT'}, {'\"': 'PUNCT'}, {',': 'PUNCT'}, {'\"': 'PUNCT'}, {\"'\": 'PUNCT'}, {'Species': 'PROPN'}, {\"'\": 'PUNCT'}, {']': 'PUNCT'}, {'\"': 'PUNCT'}, {']': 'PUNCT'}, {'[': 'X'}, {'\"': 'PUNCT'}, {'[': 'X'}, {\"'\": 'X'}, {'Sort': 'ADV'}, {\"'\": 'NUM'}, {',': 'PUNCT'}, {'\"': 'PUNCT'}, {',': 'PUNCT'}, {'\"': 'PUNCT'}, {\"'\": 'PUNCT'}, {'the': 'DET'}, {\"'\": 'PUNCT'}, {',': 'PUNCT'}, {'\"': 'PUNCT'}, {',': 'PUNCT'}, {'\"': 'PUNCT'}, {\"'\": 'PUNCT'}, {'entries': 'NOUN'}, {\"'\": 'PUNCT'}, {',': 'PUNCT'}, {'\"': 'PUNCT'}, {',': 'PUNCT'}, {'\"': 'PUNCT'}, {\"'\": 'PUNCT'}, {'by': 'ADP'}, {\"'\": 'NUM'}, {',': 'PUNCT'}, {'\"': 'PUNCT'}, {',': 'PUNCT'}, {'\"': 'PUNCT'}, {\"'\": 'PUNCT'}, {'Sepal': 'NOUN'}, {\"'\": 'PUNCT'}, {',': 'PUNCT'}, {'\"': 'PUNCT'}, {',': 'PUNCT'}, {'\"': 'PUNCT'}, {\"'\": 'PUNCT'}, {'Length': 'PROPN'}, {\"'\": 'PUNCT'}, {',': 'PUNCT'}, {'\"': 'PUNCT'}, {',': 'PUNCT'}, {'\"': 'PUNCT'}, {\"'\": 'PUNCT'}, {'in': 'ADP'}, {\"'\": 'NUM'}, {',': 'PUNCT'}, {'\"': 'PUNCT'}, {',': 'PUNCT'}, {'\"': 'PUNCT'}, {\"'\": 'PUNCT'}, {'ascending': 'VERB'}, {\"'\": 'PUNCT'}, {',': 'PUNCT'}, {'\"': 'PUNCT'}, {',': 'PUNCT'}, {'\"': 'PUNCT'}, {\"'\": 'PUNCT'}, {'order': 'NOUN'}, {\"'\": 'PUNCT'}, {']': 'PUNCT'}, {'\"': 'PUNCT'}, {']': 'PUNCT'}, {'[': 'X'}, {'\"': 'PUNCT'}, {'[': 'X'}, {\"'\": 'PUNCT'}, {'List': 'NOUN'}, {\"'\": 'PUNCT'}, {',': 'PUNCT'}, {'\"': 'PUNCT'}, {',': 'PUNCT'}, {'\"': 'PUNCT'}, {\"'\": 'PUNCT'}, {'Species': 'NOUN'}, {\"'\": 'PUNCT'}, {',': 'PUNCT'}, {'\"': 'PUNCT'}, {',': 'PUNCT'}, {'\"': 'PUNCT'}, {\"'\": 'PUNCT'}, {'alphabetically': 'ADV'}, {\"'\": 'VERB'}, {']': 'X'}, {'\"': 'PUNCT'}, {']': 'PUNCT'}, {'[': 'X'}, {'\"': 'PUNCT'}, {'[': 'X'}, {\"'\": 'X'}, {'Entries': 'NOUN'}, {\"'\": 'PUNCT'}, {',': 'PUNCT'}, {'\"': 'PUNCT'}, {',': 'PUNCT'}, {'\"': 'PUNCT'}, {\"'\": 'PUNCT'}, {'with': 'ADP'}, {\"'\": 'PROPN'}, {',': 'PUNCT'}, {'\"': 'PUNCT'}, {',': 'PUNCT'}, {'\"': 'PUNCT'}, {\"'\": 'PUNCT'}, {'Sepal': 'NOUN'}, {\"'\": 'PUNCT'}, {',': 'PUNCT'}, {'\"': 'PUNCT'}, {',': 'PUNCT'}, {'\"': 'PUNCT'}, {\"'\": 'PUNCT'}, {'Length': 'PROPN'}, {\"'\": 'PUNCT'}, {',': 'PUNCT'}, {'\"': 'PUNCT'}, {',': 'PUNCT'}, {'\"': 'PUNCT'}, {\"'\": 'PUNCT'}, {'at': 'ADP'}, {\"'\": 'NUM'}, {',': 'PUNCT'}, {'\"': 'PUNCT'}, {',': 'PUNCT'}, {'\"': 'PUNCT'}, {\"'\": 'PUNCT'}, {'least': 'ADJ'}, {\"'\": 'PUNCT'}, {',': 'PUNCT'}, {'\"': 'PUNCT'}, {',': 'PUNCT'}, {'\"': 'PUNCT'}, {\"'\": 'PROPN'}, {'5': 'NUM'}, {\"'\": 'NUM'}, {',': 'PUNCT'}, {'\"': 'PUNCT'}, {',': 'PUNCT'}, {'\"': 'PUNCT'}, {\"'\": 'PUNCT'}, {'.': 'PUNCT'}, {\"'\": 'PUNCT'}, {',': 'PUNCT'}, {'\"': 'PUNCT'}, {',': 'PUNCT'}, {'\"': 'PUNCT'}, {\"'\": 'PUNCT'}, {'0': 'X'}, {\"'\": 'PUNCT'}, {']': 'PUNCT'}, {'\"': 'PUNCT'}, {']': 'PUNCT'}, {'[': 'X'}, {'\"': 'PUNCT'}, {'[': 'X'}, {\"'\": 'X'}, {'Entries': 'NOUN'}, {\"'\": 'PUNCT'}, {',': 'PUNCT'}, {'\"': 'PUNCT'}, {',': 'PUNCT'}, {'\"': 'PUNCT'}, {\"'\": 'PUNCT'}, {'with': 'ADP'}, {\"'\": 'PROPN'}, {',': 'PUNCT'}, {'\"': 'PUNCT'}, {',': 'PUNCT'}, {'\"': 'PUNCT'}, {\"'\": 'PUNCT'}, {'Petal': 'ADJ'}, {\"'\": 'PUNCT'}, {',': 'PUNCT'}, {'\"': 'PUNCT'}, {',': 'PUNCT'}, {'\"': 'PUNCT'}, {\"'\": 'PUNCT'}, {'Length': 'PROPN'}, {\"'\": 'PUNCT'}, {',': 'PUNCT'}, {'\"': 'PUNCT'}, {',': 'PUNCT'}, {'\"': 'PUNCT'}, {\"'\": 'PUNCT'}, {'between': 'ADP'}, {\"'\": 'PUNCT'}, {',': 'PUNCT'}, {'\"': 'PUNCT'}, {',': 'PUNCT'}, {'\"': 'PUNCT'}, {\"'\": 'PROPN'}, {'1': 'X'}, {\"'\": 'NUM'}, {',': 'PUNCT'}, {'\"': 'PUNCT'}, {',': 'PUNCT'}, {'\"': 'PUNCT'}, {\"'\": 'PUNCT'}, {'.': 'PUNCT'}, {\"'\": 'PUNCT'}, {',': 'PUNCT'}, {'\"': 'PUNCT'}, {',': 'PUNCT'}, {'\"': 'PUNCT'}, {\"'\": 'PROPN'}, {'5': 'NUM'}, {\"'\": 'NUM'}, {',': 'PUNCT'}, {'\"': 'PUNCT'}, {',': 'PUNCT'}, {'\"': 'PUNCT'}, {\"'\": 'PUNCT'}, {'and': 'CCONJ'}, {\"'\": 'NUM'}, {',': 'PUNCT'}, {'\"': 'PUNCT'}, {',': 'PUNCT'}, {'\"': 'PUNCT'}, {\"'\": 'PROPN'}, {'2': 'X'}, {\"'\": 'NUM'}, {',': 'PUNCT'}, {'\"': 'PUNCT'}, {',': 'PUNCT'}, {'\"': 'PUNCT'}, {\"'\": 'PUNCT'}, {'.': 'PUNCT'}, {\"'\": 'PUNCT'}, {',': 'PUNCT'}, {'\"': 'PUNCT'}, {',': 'PUNCT'}, {'\"': 'PUNCT'}, {\"'\": 'PROPN'}, {'5': 'NUM'}, {\"'\": 'NUM'}, {']': 'PUNCT'}, {'\"': 'PUNCT'}, {']': 'PUNCT'}, {'[': 'X'}, {'\"': 'PUNCT'}, {'[': 'X'}, {\"'\": 'PUNCT'}, {'Top': 'ADJ'}, {\"'\": 'NUM'}, {',': 'PUNCT'}, {'\"': 'PUNCT'}, {',': 'PUNCT'}, {'\"': 'PUNCT'}, {\"'\": 'PROPN'}, {'3': 'NUM'}, {\"'\": 'NUM'}, {',': 'PUNCT'}, {'\"': 'PUNCT'}, {',': 'PUNCT'}, {'\"': 'PUNCT'}, {\"'\": 'PUNCT'}, {'entries': 'NOUN'}, {\"'\": 'PUNCT'}, {',': 'PUNCT'}, {'\"': 'PUNCT'}, {',': 'PUNCT'}, {'\"': 'PUNCT'}, {\"'\": 'PUNCT'}, {'with': 'ADP'}, {\"'\": 'PROPN'}, {',': 'PUNCT'}, {'\"': 'PUNCT'}, {',': 'PUNCT'}, {'\"': 'PUNCT'}, {\"'\": 'PUNCT'}, {'the': 'DET'}, {\"'\": 'PUNCT'}, {',': 'PUNCT'}, {'\"': 'PUNCT'}, {',': 'PUNCT'}, {'\"': 'PUNCT'}, {\"'\": 'PUNCT'}, {'highest': 'ADJ'}, {\"'\": 'PUNCT'}, {',': 'PUNCT'}, {'\"': 'PUNCT'}, {',': 'PUNCT'}, {'\"': 'PUNCT'}, {\"'\": 'PUNCT'}, {'Sepal': 'NOUN'}, {\"'\": 'PUNCT'}, {',': 'PUNCT'}, {'\"': 'PUNCT'}, {',': 'PUNCT'}, {'\"': 'PUNCT'}, {\"'\": 'PUNCT'}, {'Width': 'PROPN'}, {\"'\": 'PUNCT'}, {']': 'PUNCT'}, {'\"': 'PUNCT'}, {']': 'PUNCT'}, {'[': 'X'}, {'\"': 'PUNCT'}, {'[': 'X'}, {\"'\": 'X'}, {'Species': 'NOUN'}, {\"'\": 'PUNCT'}, {',': 'PUNCT'}, {'\"': 'PUNCT'}, {',': 'PUNCT'}, {'\"': 'PUNCT'}, {\"'\": 'PUNCT'}, {'is': 'AUX'}, {\"'\": 'PUNCT'}, {',': 'PUNCT'}, {'\"': 'PUNCT'}, {',': 'PUNCT'}, {\"'\": 'PUNCT'}, {'\"': 'PUNCT'}, {'\\\\': 'PROPN'}, {\"'\": 'PUNCT'}, {'\"': 'PUNCT'}, {',': 'PUNCT'}, {\"'\": 'PUNCT'}, {',': 'PUNCT'}, {'\"': 'PUNCT'}, {\"'\": 'PUNCT'}, {'Setosa': 'VERB'}, {\"'\": 'NUM'}, {',': 'PUNCT'}, {'\"': 'PUNCT'}, {',': 'PUNCT'}, {\"'\": 'PUNCT'}, {'\"': 'PUNCT'}, {'\\\\': 'PROPN'}, {\"'\": 'PUNCT'}, {'\"': 'PUNCT'}, {']': 'PUNCT'}, {\"'\": 'X'}, {']': 'PUNCT'}, {'[': 'X'}, {'\"': 'PUNCT'}, {'[': 'X'}, {\"'\": 'X'}, {'Species': 'NOUN'}, {\"'\": 'PUNCT'}, {',': 'PUNCT'}, {'\"': 'PUNCT'}, {',': 'PUNCT'}, {'\"': 'PUNCT'}, {\"'\": 'PUNCT'}, {'starts': 'VERB'}, {\"'\": 'PUNCT'}, {',': 'PUNCT'}, {'\"': 'PUNCT'}, {',': 'PUNCT'}, {'\"': 'PUNCT'}, {\"'\": 'PUNCT'}, {'with': 'ADP'}, {\"'\": 'PROPN'}, {',': 'PUNCT'}, {'\"': 'PUNCT'}, {',': 'PUNCT'}, {\"'\": 'PUNCT'}, {'\"': 'PUNCT'}, {'\\\\': 'PROPN'}, {\"'\": 'PUNCT'}, {'\"': 'PUNCT'}, {',': 'PUNCT'}, {\"'\": 'PUNCT'}, {',': 'PUNCT'}, {'\"': 'PUNCT'}, {\"'\": 'PUNCT'}, {'Se': 'PROPN'}, {\"'\": 'NUM'}, {',': 'PUNCT'}, {'\"': 'PUNCT'}, {',': 'PUNCT'}, {\"'\": 'PUNCT'}, {'\"': 'PUNCT'}, {'\\\\': 'PROPN'}, {\"'\": 'PUNCT'}, {'\"': 'PUNCT'}, {']': 'PUNCT'}, {\"'\": 'X'}, {']': 'PUNCT'}, {'[': 'X'}, {'\"': 'PUNCT'}, {'[': 'X'}, {\"'\": 'PUNCT'}, {'Calculate': 'VERB'}, {\"'\": 'PUNCT'}, {',': 'PUNCT'}, {'\"': 'PUNCT'}, {',': 'PUNCT'}, {'\"': 'PUNCT'}, {\"'\": 'PUNCT'}, {'the': 'DET'}, {\"'\": 'PUNCT'}, {',': 'PUNCT'}, {'\"': 'PUNCT'}, {',': 'PUNCT'}, {'\"': 'PUNCT'}, {\"'\": 'PUNCT'}, {'total': 'ADJ'}, {\"'\": 'PUNCT'}, {',': 'PUNCT'}, {'\"': 'PUNCT'}, {',': 'PUNCT'}, {'\"': 'PUNCT'}, {\"'\": 'PUNCT'}, {'of': 'ADP'}, {\"'\": 'NUM'}, {',': 'PUNCT'}, {'\"': 'PUNCT'}, {',': 'PUNCT'}, {'\"': 'PUNCT'}, {\"'\": 'PUNCT'}, {'Petal': 'ADJ'}, {\"'\": 'PUNCT'}, {',': 'PUNCT'}, {'\"': 'PUNCT'}, {',': 'PUNCT'}, {'\"': 'PUNCT'}, {\"'\": 'PUNCT'}, {'Lengths': 'NOUN'}, {\"'\": 'NUM'}, {']': 'PUNCT'}, {'\"': 'PUNCT'}, {']': 'PUNCT'}, {'[': 'X'}, {'\"': 'PUNCT'}, {'[': 'X'}, {\"'\": 'PUNCT'}, {'What': 'PRON'}, {\"'\": 'PROPN'}, {',': 'PUNCT'}, {'\"': 'PUNCT'}, {',': 'PUNCT'}, {'\"': 'PUNCT'}, {\"'\": 'PUNCT'}, {'is': 'AUX'}, {\"'\": 'PUNCT'}, {',': 'PUNCT'}, {'\"': 'PUNCT'}, {',': 'PUNCT'}, {'\"': 'PUNCT'}, {\"'\": 'PUNCT'}, {'the': 'DET'}, {\"'\": 'PUNCT'}, {',': 'PUNCT'}, {'\"': 'PUNCT'}, {',': 'PUNCT'}, {'\"': 'PUNCT'}, {\"'\": 'PUNCT'}, {'average': 'ADJ'}, {\"'\": 'PUNCT'}, {',': 'PUNCT'}, {'\"': 'PUNCT'}, {',': 'PUNCT'}, {'\"': 'PUNCT'}, {\"'\": 'PUNCT'}, {'Petal': 'ADJ'}, {\"'\": 'PUNCT'}, {',': 'PUNCT'}, {'\"': 'PUNCT'}, {',': 'PUNCT'}, {'\"': 'PUNCT'}, {\"'\": 'PUNCT'}, {'Width': 'PROPN'}, {\"'\": 'PUNCT'}, {',': 'PUNCT'}, {'\"': 'PUNCT'}, {',': 'PUNCT'}, {'\"': 'PUNCT'}, {\"'\": 'PUNCT'}, {'?': 'PUNCT'}, {\"'\": 'PUNCT'}, {']': 'PUNCT'}, {'\"': 'PUNCT'}, {']': 'PUNCT'}, {'[': 'X'}, {'\"': 'PUNCT'}, {'[': 'X'}, {\"'\": 'X'}, {'Determine': 'NOUN'}, {\"'\": 'PUNCT'}, {',': 'PUNCT'}, {'\"': 'PUNCT'}, {',': 'PUNCT'}, {'\"': 'PUNCT'}, {\"'\": 'PUNCT'}, {'the': 'DET'}, {\"'\": 'PUNCT'}, {',': 'PUNCT'}, {'\"': 'PUNCT'}, {',': 'PUNCT'}, {'\"': 'PUNCT'}, {\"'\": 'PUNCT'}, {'middle': 'ADJ'}, {\"'\": 'PUNCT'}, {',': 'PUNCT'}, {'\"': 'PUNCT'}, {',': 'PUNCT'}, {'\"': 'PUNCT'}, {\"'\": 'PUNCT'}, {'value': 'NOUN'}, {\"'\": 'PUNCT'}, {',': 'PUNCT'}, {'\"': 'PUNCT'}, {',': 'PUNCT'}, {'\"': 'PUNCT'}, {\"'\": 'PUNCT'}, {'of': 'ADP'}, {\"'\": 'NUM'}, {',': 'PUNCT'}, {'\"': 'PUNCT'}, {',': 'PUNCT'}, {'\"': 'PUNCT'}, {\"'\": 'PUNCT'}, {'Sepal': 'NOUN'}, {\"'\": 'PUNCT'}, {',': 'PUNCT'}, {'\"': 'PUNCT'}, {',': 'PUNCT'}, {'\"': 'PUNCT'}, {\"'\": 'PUNCT'}, {'Widths': 'NOUN'}, {\"'\": 'PUNCT'}, {']': 'PUNCT'}, {'\"': 'PUNCT'}, {']': 'PUNCT'}, {'[': 'X'}, {'\"': 'PUNCT'}, {'[': 'X'}, {\"'\": 'X'}, {'How': 'SCONJ'}, {\"'\": 'NUM'}, {',': 'PUNCT'}, {'\"': 'PUNCT'}, {',': 'PUNCT'}, {'\"': 'PUNCT'}, {\"'\": 'PUNCT'}, {'many': 'ADJ'}, {\"'\": 'PUNCT'}, {',': 'PUNCT'}, {'\"': 'PUNCT'}, {',': 'PUNCT'}, {'\"': 'PUNCT'}, {\"'\": 'PUNCT'}, {'data': 'NOUN'}, {\"'\": 'PUNCT'}, {',': 'PUNCT'}, {'\"': 'PUNCT'}, {',': 'PUNCT'}, {'\"': 'PUNCT'}, {\"'\": 'PUNCT'}, {'points': 'NOUN'}, {\"'\": 'PUNCT'}, {',': 'PUNCT'}, {'\"': 'PUNCT'}, {',': 'PUNCT'}, {'\"': 'PUNCT'}, {\"'\": 'PUNCT'}, {'are': 'AUX'}, {\"'\": 'NUM'}, {',': 'PUNCT'}, {'\"': 'PUNCT'}, {',': 'PUNCT'}, {'\"': 'PUNCT'}, {\"'\": 'PUNCT'}, {'there': 'PRON'}, {\"'\": 'NUM'}, {',': 'PUNCT'}, {'\"': 'PUNCT'}, {',': 'PUNCT'}, {'\"': 'PUNCT'}, {\"'\": 'PUNCT'}, {'?': 'PUNCT'}, {\"'\": 'PUNCT'}, {']': 'PUNCT'}, {'\"': 'PUNCT'}, {']': 'PUNCT'}, {'[': 'X'}, {'\"': 'PUNCT'}, {'[': 'X'}, {\"'\": 'X'}, {'Number': 'NOUN'}, {\"'\": 'PUNCT'}, {',': 'PUNCT'}, {'\"': 'PUNCT'}, {',': 'PUNCT'}, {'\"': 'PUNCT'}, {\"'\": 'PUNCT'}, {'of': 'ADP'}, {\"'\": 'NUM'}, {',': 'PUNCT'}, {'\"': 'PUNCT'}, {',': 'PUNCT'}, {'\"': 'PUNCT'}, {\"'\": 'PUNCT'}, {'unique': 'ADJ'}, {\"'\": 'PUNCT'}, {',': 'PUNCT'}, {'\"': 'PUNCT'}, {',': 'PUNCT'}, {'\"': 'PUNCT'}, {\"'\": 'PUNCT'}, {'flower': 'NOUN'}, {\"'\": 'PUNCT'}, {',': 'PUNCT'}, {'\"': 'PUNCT'}, {',': 'PUNCT'}, {'\"': 'PUNCT'}, {\"'\": 'PUNCT'}, {'types': 'NOUN'}, {\"'\": 'PUNCT'}, {']': 'PUNCT'}, {'\"': 'PUNCT'}, {']': 'PUNCT'}, {'[': 'X'}, {'\"': 'PUNCT'}, {'[': 'X'}, {\"'\": 'PUNCT'}, {'Lowest': 'ADJ'}, {\"'\": 'NUM'}, {',': 'PUNCT'}, {'\"': 'PUNCT'}, {',': 'PUNCT'}, {'\"': 'PUNCT'}, {\"'\": 'PUNCT'}, {'Sepal': 'NOUN'}, {\"'\": 'PUNCT'}, {',': 'PUNCT'}, {'\"': 'PUNCT'}, {',': 'PUNCT'}, {'\"': 'PUNCT'}, {\"'\": 'PUNCT'}, {'Length': 'PROPN'}, {\"'\": 'PUNCT'}, {',': 'PUNCT'}, {'\"': 'PUNCT'}, {',': 'PUNCT'}, {'\"': 'PUNCT'}, {\"'\": 'PUNCT'}, {'recorded': 'VERB'}, {\"'\": 'PUNCT'}, {']': 'PUNCT'}, {'\"': 'PUNCT'}, {']': 'PUNCT'}, {'[': 'X'}, {'\"': 'PUNCT'}, {'[': 'X'}, {\"'\": 'X'}, {'Highest': 'ADJ'}, {\"'\": 'NUM'}, {',': 'PUNCT'}, {'\"': 'PUNCT'}, {',': 'PUNCT'}, {'\"': 'PUNCT'}, {\"'\": 'PUNCT'}, {'value': 'NOUN'}, {\"'\": 'PUNCT'}, {',': 'PUNCT'}, {'\"': 'PUNCT'}, {',': 'PUNCT'}, {'\"': 'PUNCT'}, {\"'\": 'PUNCT'}, {'of': 'ADP'}, {\"'\": 'NUM'}, {',': 'PUNCT'}, {'\"': 'PUNCT'}, {',': 'PUNCT'}, {'\"': 'PUNCT'}, {\"'\": 'PUNCT'}, {'Petal': 'ADJ'}, {\"'\": 'PUNCT'}, {',': 'PUNCT'}, {'\"': 'PUNCT'}, {',': 'PUNCT'}, {'\"': 'PUNCT'}, {\"'\": 'PUNCT'}, {'Width': 'PROPN'}, {\"'\": 'PUNCT'}, {',': 'PUNCT'}, {'\"': 'PUNCT'}, {',': 'PUNCT'}, {'\"': 'PUNCT'}, {\"'\": 'PUNCT'}, {'found': 'VERB'}, {\"'\": 'PUNCT'}, {']': 'PUNCT'}, {'\"': 'PUNCT'}, {']': 'PUNCT'}, {'[': 'X'}, {'\"': 'PUNCT'}, {'[': 'X'}, {\"'\": 'PUNCT'}, {'Organize': 'VERB'}, {\"'\": 'PUNCT'}, {',': 'PUNCT'}, {'\"': 'PUNCT'}, {',': 'PUNCT'}, {'\"': 'PUNCT'}, {\"'\": 'PUNCT'}, {'data': 'NOUN'}, {\"'\": 'PUNCT'}, {',': 'PUNCT'}, {'\"': 'PUNCT'}, {',': 'PUNCT'}, {'\"': 'PUNCT'}, {\"'\": 'PUNCT'}, {'by': 'ADP'}, {\"'\": 'NUM'}, {',': 'PUNCT'}, {'\"': 'PUNCT'}, {',': 'PUNCT'}, {'\"': 'PUNCT'}, {\"'\": 'PUNCT'}, {'Species': 'NOUN'}, {\"'\": 'PUNCT'}, {',': 'PUNCT'}, {'\"': 'PUNCT'}, {',': 'PUNCT'}, {'\"': 'PUNCT'}, {\"'\": 'PUNCT'}, {'in': 'ADP'}, {\"'\": 'NUM'}, {',': 'PUNCT'}, {'\"': 'PUNCT'}, {',': 'PUNCT'}, {'\"': 'PUNCT'}, {\"'\": 'PUNCT'}, {'descending': 'VERB'}, {\"'\": 'PUNCT'}, {',': 'PUNCT'}, {'\"': 'PUNCT'}, {',': 'PUNCT'}, {'\"': 'PUNCT'}, {\"'\": 'PUNCT'}, {'order': 'NOUN'}, {\"'\": 'PUNCT'}, {']': 'PUNCT'}, {'\"': 'PUNCT'}, {']': 'PUNCT'}, {'[': 'X'}, {'\"': 'PUNCT'}, {'[': 'X'}, {\"'\": 'X'}, {'Rank': 'PROPN'}, {\"'\": 'PUNCT'}, {',': 'PUNCT'}, {'\"': 'PUNCT'}, {',': 'PUNCT'}, {'\"': 'PUNCT'}, {\"'\": 'PUNCT'}, {'Sepal': 'NOUN'}, {\"'\": 'PUNCT'}, {',': 'PUNCT'}, {'\"': 'PUNCT'}, {',': 'PUNCT'}, {'\"': 'PUNCT'}, {\"'\": 'PUNCT'}, {'Lengths': 'NOUN'}, {\"'\": 'NUM'}, {',': 'PUNCT'}, {'\"': 'PUNCT'}, {',': 'PUNCT'}, {'\"': 'PUNCT'}, {\"'\": 'PUNCT'}, {'from': 'ADP'}, {\"'\": 'NUM'}, {',': 'PUNCT'}, {'\"': 'PUNCT'}, {',': 'PUNCT'}, {'\"': 'PUNCT'}, {\"'\": 'PUNCT'}, {'low': 'ADJ'}, {\"'\": 'PUNCT'}, {',': 'PUNCT'}, {'\"': 'PUNCT'}, {',': 'PUNCT'}, {'\"': 'PUNCT'}, {\"'\": 'PUNCT'}, {'to': 'PART'}, {\"'\": 'NUM'}, {',': 'PUNCT'}, {'\"': 'PUNCT'}, {',': 'PUNCT'}, {'\"': 'PUNCT'}, {\"'\": 'PUNCT'}, {'high': 'ADJ'}, {\"'\": 'PUNCT'}, {']': 'PUNCT'}, {'\"': 'PUNCT'}, {']': 'PUNCT'}, {'[': 'X'}, {'\"': 'PUNCT'}, {'[': 'X'}, {\"'\": 'X'}, {'Filter': 'PROPN'}, {\"'\": 'NUM'}, {',': 'PUNCT'}, {'\"': 'PUNCT'}, {',': 'PUNCT'}, {'\"': 'PUNCT'}, {\"'\": 'PUNCT'}, {'for': 'ADP'}, {\"'\": 'NUM'}, {',': 'PUNCT'}, {'\"': 'PUNCT'}, {',': 'PUNCT'}, {'\"': 'PUNCT'}, {\"'\": 'PUNCT'}, {'Sepal': 'NOUN'}, {\"'\": 'PUNCT'}, {',': 'PUNCT'}, {'\"': 'PUNCT'}, {',': 'PUNCT'}, {'\"': 'PUNCT'}, {\"'\": 'PUNCT'}, {'Length': 'PROPN'}, {\"'\": 'PUNCT'}, {',': 'PUNCT'}, {'\"': 'PUNCT'}, {',': 'PUNCT'}, {'\"': 'PUNCT'}, {\"'\": 'PUNCT'}, {'greater': 'ADJ'}, {\"'\": 'PUNCT'}, {',': 'PUNCT'}, {'\"': 'PUNCT'}, {',': 'PUNCT'}, {'\"': 'PUNCT'}, {\"'\": 'PUNCT'}, {'than': 'ADP'}, {\"'\": 'PROPN'}, {',': 'PUNCT'}, {'\"': 'PUNCT'}, {',': 'PUNCT'}, {'\"': 'PUNCT'}, {\"'\": 'PUNCT'}, {'or': 'CCONJ'}, {\"'\": 'NUM'}, {',': 'PUNCT'}, {'\"': 'PUNCT'}, {',': 'PUNCT'}, {'\"': 'PUNCT'}, {\"'\": 'PUNCT'}, {'equal': 'ADJ'}, {\"'\": 'PUNCT'}, {',': 'PUNCT'}, {'\"': 'PUNCT'}, {',': 'PUNCT'}, {'\"': 'PUNCT'}, {\"'\": 'PUNCT'}, {'to': 'PART'}, {\"'\": 'NUM'}, {',': 'PUNCT'}, {'\"': 'PUNCT'}, {',': 'PUNCT'}, {'\"': 'PUNCT'}, {\"'\": 'PROPN'}, {'4': 'NUM'}, {\"'\": 'NUM'}, {',': 'PUNCT'}, {'\"': 'PUNCT'}, {',': 'PUNCT'}, {'\"': 'PUNCT'}, {\"'\": 'PUNCT'}, {'.': 'PUNCT'}, {\"'\": 'PUNCT'}, {',': 'PUNCT'}, {'\"': 'PUNCT'}, {',': 'PUNCT'}, {'\"': 'PUNCT'}, {\"'\": 'PROPN'}, {'5': 'NUM'}, {\"'\": 'NUM'}, {']': 'PUNCT'}, {'\"': 'PUNCT'}, {']': 'PUNCT'}, {'[': 'X'}, {'\"': 'PUNCT'}, {'[': 'X'}, {\"'\": 'PUNCT'}, {'Select': 'ADJ'}, {\"'\": 'PUNCT'}, {',': 'PUNCT'}, {'\"': 'PUNCT'}, {',': 'PUNCT'}, {'\"': 'PUNCT'}, {\"'\": 'PUNCT'}, {'entries': 'NOUN'}, {\"'\": 'PUNCT'}, {',': 'PUNCT'}, {'\"': 'PUNCT'}, {',': 'PUNCT'}, {'\"': 'PUNCT'}, {\"'\": 'PUNCT'}, {'with': 'ADP'}, {\"'\": 'PROPN'}, {',': 'PUNCT'}, {'\"': 'PUNCT'}, {',': 'PUNCT'}, {'\"': 'PUNCT'}, {\"'\": 'PUNCT'}, {'Petal': 'ADJ'}, {\"'\": 'PUNCT'}, {',': 'PUNCT'}, {'\"': 'PUNCT'}, {',': 'PUNCT'}, {'\"': 'PUNCT'}, {\"'\": 'PUNCT'}, {'Width': 'PROPN'}, {\"'\": 'PUNCT'}, {',': 'PUNCT'}, {'\"': 'PUNCT'}, {',': 'PUNCT'}, {'\"': 'PUNCT'}, {\"'\": 'PUNCT'}, {'less': 'ADJ'}, {\"'\": 'PUNCT'}, {',': 'PUNCT'}, {'\"': 'PUNCT'}, {',': 'PUNCT'}, {'\"': 'PUNCT'}, {\"'\": 'PUNCT'}, {'than': 'ADP'}, {\"'\": 'PROPN'}, {',': 'PUNCT'}, {'\"': 'PUNCT'}, {',': 'PUNCT'}, {'\"': 'PUNCT'}, {\"'\": 'PROPN'}, {'2': 'X'}, {\"'\": 'NUM'}, {',': 'PUNCT'}, {'\"': 'PUNCT'}, {',': 'PUNCT'}, {'\"': 'PUNCT'}, {\"'\": 'PUNCT'}, {'.': 'PUNCT'}, {\"'\": 'PUNCT'}, {',': 'PUNCT'}, {'\"': 'PUNCT'}, {',': 'PUNCT'}, {'\"': 'PUNCT'}, {\"'\": 'PUNCT'}, {'0': 'X'}, {\"'\": 'PUNCT'}, {']': 'PUNCT'}, {'\"': 'PUNCT'}, {']': 'PUNCT'}, {'[': 'X'}, {'\"': 'PUNCT'}, {'[': 'X'}, {\"'\": 'PUNCT'}, {'Show': 'VERB'}, {\"'\": 'PUNCT'}, {',': 'PUNCT'}, {'\"': 'PUNCT'}, {',': 'PUNCT'}, {'\"': 'PUNCT'}, {\"'\": 'PUNCT'}, {'entries': 'NOUN'}, {\"'\": 'PUNCT'}, {',': 'PUNCT'}, {'\"': 'PUNCT'}, {',': 'PUNCT'}, {'\"': 'PUNCT'}, {\"'\": 'PUNCT'}, {'where': 'SCONJ'}, {\"'\": 'NUM'}, {',': 'PUNCT'}, {'\"': 'PUNCT'}, {',': 'PUNCT'}, {'\"': 'PUNCT'}, {\"'\": 'PUNCT'}, {'Sepal': 'NOUN'}, {\"'\": 'PUNCT'}, {',': 'PUNCT'}, {'\"': 'PUNCT'}, {',': 'PUNCT'}, {'\"': 'PUNCT'}, {\"'\": 'PUNCT'}, {'Width': 'PROPN'}, {\"'\": 'PUNCT'}, {',': 'PUNCT'}, {'\"': 'PUNCT'}, {',': 'PUNCT'}, {'\"': 'PUNCT'}, {\"'\": 'PUNCT'}, {'is': 'AUX'}, {\"'\": 'PUNCT'}, {',': 'PUNCT'}, {'\"': 'PUNCT'}, {',': 'PUNCT'}, {'\"': 'PUNCT'}, {\"'\": 'PUNCT'}, {'not': 'PART'}, {\"'\": 'NUM'}, {',': 'PUNCT'}, {'\"': 'PUNCT'}, {',': 'PUNCT'}, {'\"': 'PUNCT'}, {\"'\": 'PROPN'}, {'3': 'NUM'}, {\"'\": 'NUM'}, {',': 'PUNCT'}, {'\"': 'PUNCT'}, {',': 'PUNCT'}, {'\"': 'PUNCT'}, {\"'\": 'PUNCT'}, {'.': 'PUNCT'}, {\"'\": 'PUNCT'}, {',': 'PUNCT'}, {'\"': 'PUNCT'}, {',': 'PUNCT'}, {'\"': 'PUNCT'}, {\"'\": 'PUNCT'}, {'0': 'X'}, {\"'\": 'PUNCT'}, {']': 'PUNCT'}, {'\"': 'PUNCT'}, {']': 'PUNCT'}, {'[': 'X'}, {'\"': 'PUNCT'}, {'[': 'X'}, {\"'\": 'PUNCT'}, {'List': 'NOUN'}, {\"'\": 'PUNCT'}, {',': 'PUNCT'}, {'\"': 'PUNCT'}, {',': 'PUNCT'}, {'\"': 'PUNCT'}, {\"'\": 'PUNCT'}, {'all': 'PRON'}, {\"'\": 'PROPN'}, {',': 'PUNCT'}, {'\"': 'PUNCT'}, {',': 'PUNCT'}, {'\"': 'PUNCT'}, {\"'\": 'PUNCT'}, {'where': 'SCONJ'}, {\"'\": 'NUM'}, {',': 'PUNCT'}, {'\"': 'PUNCT'}, {',': 'PUNCT'}, {'\"': 'PUNCT'}, {\"'\": 'PUNCT'}, {'the': 'DET'}, {\"'\": 'PUNCT'}, {',': 'PUNCT'}, {'\"': 'PUNCT'}, {',': 'PUNCT'}, {'\"': 'PUNCT'}, {\"'\": 'PUNCT'}, {'Species': 'NOUN'}, {\"'\": 'PUNCT'}, {',': 'PUNCT'}, {'\"': 'PUNCT'}, {',': 'PUNCT'}, {'\"': 'PUNCT'}, {\"'\": 'PUNCT'}, {'name': 'NOUN'}, {\"'\": 'PUNCT'}, {',': 'PUNCT'}, {'\"': 'PUNCT'}, {',': 'PUNCT'}, {'\"': 'PUNCT'}, {\"'\": 'PUNCT'}, {'ends': 'VERB'}, {\"'\": 'PUNCT'}, {',': 'PUNCT'}, {'\"': 'PUNCT'}, {',': 'PUNCT'}, {'\"': 'PUNCT'}, {\"'\": 'PUNCT'}, {'with': 'ADP'}, {\"'\": 'PROPN'}, {',': 'PUNCT'}, {'\"': 'PUNCT'}, {',': 'PUNCT'}, {\"'\": 'PUNCT'}, {'\"': 'PUNCT'}, {'\\\\': 'PROPN'}, {\"'\": 'PUNCT'}, {'\"': 'PUNCT'}, {',': 'PUNCT'}, {\"'\": 'PUNCT'}, {',': 'PUNCT'}, {'\"': 'PUNCT'}, {\"'\": 'PUNCT'}, {'ica': 'VERB'}, {\"'\": 'PUNCT'}, {',': 'PUNCT'}, {'\"': 'PUNCT'}, {',': 'PUNCT'}, {\"'\": 'PUNCT'}, {'\"': 'PUNCT'}, {'\\\\': 'PROPN'}, {\"'\": 'PUNCT'}, {'\"': 'PUNCT'}, {']': 'PUNCT'}, {\"'\": 'X'}, {']': 'PUNCT'}, {'[': 'X'}, {'\"': 'PUNCT'}, {'[': 'X'}, {\"'\": 'X'}, {'Entries': 'NOUN'}, {\"'\": 'PUNCT'}, {',': 'PUNCT'}, {'\"': 'PUNCT'}, {',': 'PUNCT'}, {'\"': 'PUNCT'}, {\"'\": 'PUNCT'}, {'with': 'ADP'}, {\"'\": 'PROPN'}, {',': 'PUNCT'}, {'\"': 'PUNCT'}, {',': 'PUNCT'}, {'\"': 'PUNCT'}, {\"'\": 'PUNCT'}, {'a': 'PRON'}, {\"'\": 'PUNCT'}, {',': 'PUNCT'}, {'\"': 'PUNCT'}, {',': 'PUNCT'}, {'\"': 'PUNCT'}, {\"'\": 'PUNCT'}, {'Sepal': 'NOUN'}, {\"'\": 'PUNCT'}, {',': 'PUNCT'}, {'\"': 'PUNCT'}, {',': 'PUNCT'}, {'\"': 'PUNCT'}, {\"'\": 'PUNCT'}, {'Length': 'PROPN'}, {\"'\": 'PUNCT'}, {',': 'PUNCT'}, {'\"': 'PUNCT'}, {',': 'PUNCT'}, {'\"': 'PUNCT'}, {\"'\": 'PUNCT'}, {'of': 'ADP'}, {\"'\": 'NUM'}, {',': 'PUNCT'}, {'\"': 'PUNCT'}, {',': 'PUNCT'}, {'\"': 'PUNCT'}, {\"'\": 'PUNCT'}, {'exactly': 'ADV'}, {\"'\": 'NUM'}, {',': 'PUNCT'}, {'\"': 'PUNCT'}, {',': 'PUNCT'}, {'\"': 'PUNCT'}, {\"'\": 'PROPN'}, {'5': 'NUM'}, {\"'\": 'NUM'}, {',': 'PUNCT'}, {'\"': 'PUNCT'}, {',': 'PUNCT'}, {'\"': 'PUNCT'}, {\"'\": 'PUNCT'}, {'.': 'PUNCT'}, {\"'\": 'PUNCT'}, {',': 'PUNCT'}, {'\"': 'PUNCT'}, {',': 'PUNCT'}, {'\"': 'PUNCT'}, {\"'\": 'PUNCT'}, {'0': 'X'}, {\"'\": 'PUNCT'}, {']': 'PUNCT'}, {'\"': 'PUNCT'}, {']': 'PUNCT'}, {'[': 'X'}, {'\"': 'PUNCT'}, {'[': 'X'}, {\"'\": 'PUNCT'}, {'Display': 'NOUN'}, {\"'\": 'PUNCT'}, {',': 'PUNCT'}, {'\"': 'PUNCT'}, {',': 'PUNCT'}, {'\"': 'PUNCT'}, {\"'\": 'PUNCT'}, {'the': 'DET'}, {\"'\": 'PUNCT'}, {',': 'PUNCT'}, {'\"': 'PUNCT'}, {',': 'PUNCT'}, {'\"': 'PUNCT'}, {\"'\": 'PUNCT'}, {'top': 'VERB'}, {\"'\": 'PUNCT'}, {',': 'PUNCT'}, {'\"': 'PUNCT'}, {',': 'PUNCT'}, {'\"': 'PUNCT'}, {\"'\": 'PROPN'}, {'5': 'NUM'}, {\"'\": 'NUM'}, {',': 'PUNCT'}, {'\"': 'PUNCT'}, {',': 'PUNCT'}, {'\"': 'PUNCT'}, {\"'\": 'PUNCT'}, {'Species': 'NOUN'}, {\"'\": 'PUNCT'}, {',': 'PUNCT'}, {'\"': 'PUNCT'}, {',': 'PUNCT'}, {'\"': 'PUNCT'}, {\"'\": 'PUNCT'}, {'by': 'ADP'}, {\"'\": 'NUM'}, {',': 'PUNCT'}, {'\"': 'PUNCT'}, {',': 'PUNCT'}, {'\"': 'PUNCT'}, {\"'\": 'PUNCT'}, {'Sepal': 'NOUN'}, {\"'\": 'PUNCT'}, {',': 'PUNCT'}, {'\"': 'PUNCT'}, {',': 'PUNCT'}, {'\"': 'PUNCT'}, {\"'\": 'PUNCT'}, {'Width': 'PROPN'}, {\"'\": 'PUNCT'}, {']': 'PUNCT'}, {'\"': 'PUNCT'}, {']': 'PUNCT'}, {'[': 'X'}, {'\"': 'PUNCT'}, {'[': 'X'}, {\"'\": 'VERB'}, {'Find': 'VERB'}, {\"'\": 'PUNCT'}, {',': 'PUNCT'}, {'\"': 'PUNCT'}, {',': 'PUNCT'}, {'\"': 'PUNCT'}, {\"'\": 'PUNCT'}, {'the': 'DET'}, {\"'\": 'PUNCT'}, {',': 'PUNCT'}, {'\"': 'PUNCT'}, {',': 'PUNCT'}, {'\"': 'PUNCT'}, {\"'\": 'PROPN'}, {'3': 'NUM'}, {\"'\": 'NUM'}, {',': 'PUNCT'}, {'\"': 'PUNCT'}, {',': 'PUNCT'}, {'\"': 'PUNCT'}, {\"'\": 'PUNCT'}, {'smallest': 'ADJ'}, {\"'\": 'PUNCT'}, {',': 'PUNCT'}, {'\"': 'PUNCT'}, {',': 'PUNCT'}, {'\"': 'PUNCT'}, {\"'\": 'PUNCT'}, {'Petal': 'ADJ'}, {\"'\": 'PUNCT'}, {',': 'PUNCT'}, {'\"': 'PUNCT'}, {',': 'PUNCT'}, {'\"': 'PUNCT'}, {\"'\": 'PUNCT'}, {'Lengths': 'NOUN'}, {\"'\": 'NUM'}, {']': 'PUNCT'}, {'\"': 'PUNCT'}, {']': 'PUNCT'}, {'[': 'X'}, {'\"': 'PUNCT'}, {'[': 'X'}, {\"'\": 'X'}, {'Count': 'PROPN'}, {\"'\": 'PUNCT'}, {',': 'PUNCT'}, {'\"': 'PUNCT'}, {',': 'PUNCT'}, {'\"': 'PUNCT'}, {\"'\": 'PUNCT'}, {'occurrences': 'NOUN'}, {\"'\": 'PUNCT'}, {',': 'PUNCT'}, {'\"': 'PUNCT'}, {',': 'PUNCT'}, {'\"': 'PUNCT'}, {\"'\": 'PUNCT'}, {'where': 'SCONJ'}, {\"'\": 'NUM'}, {',': 'PUNCT'}, {'\"': 'PUNCT'}, {',': 'PUNCT'}, {'\"': 'PUNCT'}, {\"'\": 'PUNCT'}, {'Petal': 'ADJ'}, {\"'\": 'PUNCT'}, {',': 'PUNCT'}, {'\"': 'PUNCT'}, {',': 'PUNCT'}, {'\"': 'PUNCT'}, {\"'\": 'PUNCT'}, {'Length': 'PROPN'}, {\"'\": 'PUNCT'}, {',': 'PUNCT'}, {'\"': 'PUNCT'}, {',': 'PUNCT'}, {'\"': 'PUNCT'}, {\"'\": 'PUNCT'}, {'is': 'AUX'}, {\"'\": 'PUNCT'}, {',': 'PUNCT'}, {'\"': 'PUNCT'}, {',': 'PUNCT'}, {'\"': 'PUNCT'}, {\"'\": 'PUNCT'}, {'between': 'ADP'}, {\"'\": 'PUNCT'}, {',': 'PUNCT'}, {'\"': 'PUNCT'}, {',': 'PUNCT'}, {'\"': 'PUNCT'}, {\"'\": 'PROPN'}, {'4': 'NUM'}, {\"'\": 'NUM'}, {',': 'PUNCT'}, {'\"': 'PUNCT'}, {',': 'PUNCT'}, {'\"': 'PUNCT'}, {\"'\": 'PUNCT'}, {'and': 'CCONJ'}, {\"'\": 'NUM'}, {',': 'PUNCT'}, {'\"': 'PUNCT'}, {',': 'PUNCT'}, {'\"': 'PUNCT'}, {\"'\": 'PROPN'}, {'5': 'NUM'}, {\"'\": 'NUM'}, {']': 'PUNCT'}, {'\"': 'PUNCT'}, {']': 'PUNCT'}, {'[': 'X'}, {'\"': 'PUNCT'}, {'[': 'X'}, {\"'\": 'PUNCT'}, {'Aggregate': 'VERB'}, {\"'\": 'PUNCT'}, {',': 'PUNCT'}, {'\"': 'PUNCT'}, {',': 'PUNCT'}, {'\"': 'PUNCT'}, {\"'\": 'PUNCT'}, {'data': 'NOUN'}, {\"'\": 'PUNCT'}, {',': 'PUNCT'}, {'\"': 'PUNCT'}, {',': 'PUNCT'}, {'\"': 'PUNCT'}, {\"'\": 'PUNCT'}, {'by': 'ADP'}, {\"'\": 'NUM'}, {',': 'PUNCT'}, {'\"': 'PUNCT'}, {',': 'PUNCT'}, {'\"': 'PUNCT'}, {\"'\": 'PUNCT'}, {'the': 'DET'}, {\"'\": 'PUNCT'}, {',': 'PUNCT'}, {'\"': 'PUNCT'}, {',': 'PUNCT'}, {'\"': 'PUNCT'}, {\"'\": 'PUNCT'}, {'month': 'NOUN'}, {\"'\": 'PUNCT'}, {',': 'PUNCT'}, {'\"': 'PUNCT'}, {',': 'PUNCT'}, {'\"': 'PUNCT'}, {\"'\": 'PUNCT'}, {'of': 'ADP'}, {\"'\": 'NUM'}, {',': 'PUNCT'}, {'\"': 'PUNCT'}, {',': 'PUNCT'}, {'\"': 'PUNCT'}, {\"'\": 'PUNCT'}, {'observation': 'NOUN'}, {\"'\": 'PUNCT'}, {',': 'PUNCT'}, {'\"': 'PUNCT'}, {',': 'PUNCT'}, {'\"': 'PUNCT'}, {\"'\": 'PUNCT'}, {'(': 'PUNCT'}, {\"'\": 'PUNCT'}, {',': 'PUNCT'}, {'\"': 'PUNCT'}, {',': 'PUNCT'}, {'\"': 'PUNCT'}, {\"'\": 'PUNCT'}, {'assuming': 'VERB'}, {\"'\": 'PUNCT'}, {',': 'PUNCT'}, {'\"': 'PUNCT'}, {',': 'PUNCT'}, {'\"': 'PUNCT'}, {\"'\": 'PUNCT'}, {'there': 'PRON'}, {\"'\": 'NUM'}, {',': 'PUNCT'}, {'\"': 'PUNCT'}, {',': 'PUNCT'}, {\"'\": 'PUNCT'}, {'\"': 'PUNCT'}, {'\\\\': 'PROPN'}, {\"'\": 'PUNCT'}, {'\"': 'PUNCT'}, {',': 'PUNCT'}, {\"'\": 'PUNCT'}, {',': 'PUNCT'}, {'\"': 'PUNCT'}, {\"'s\": 'AUX'}, {\"'\": 'NUM'}, {',': 'PUNCT'}, {'\"': 'PUNCT'}, {',': 'PUNCT'}, {'\"': 'PUNCT'}, {\"'\": 'PUNCT'}, {'a': 'PRON'}, {\"'\": 'PUNCT'}, {',': 'PUNCT'}, {'\"': 'PUNCT'}, {',': 'PUNCT'}, {'\"': 'PUNCT'}, {\"'\": 'PUNCT'}, {'Date': 'VERB'}, {\"'\": 'PUNCT'}, {',': 'PUNCT'}, {'\"': 'PUNCT'}, {',': 'PUNCT'}, {'\"': 'PUNCT'}, {\"'\": 'PUNCT'}, {'field': 'NOUN'}, {\"'\": 'PUNCT'}, {',': 'PUNCT'}, {'\"': 'PUNCT'}, {',': 'PUNCT'}, {'\"': 'PUNCT'}, {\"'\": 'PUNCT'}, {')': 'PUNCT'}, {\"'\": 'PUNCT'}, {']': 'PUNCT'}, {'\"': 'PUNCT'}, {']': 'PUNCT'}, {'[': 'X'}, {'\"': 'PUNCT'}, {'[': 'X'}, {\"'\": 'X'}, {'Filter': 'PROPN'}, {\"'\": 'NUM'}, {',': 'PUNCT'}, {'\"': 'PUNCT'}, {',': 'PUNCT'}, {'\"': 'PUNCT'}, {\"'\": 'PUNCT'}, {'records': 'NOUN'}, {\"'\": 'PART'}, {',': 'PUNCT'}, {'\"': 'PUNCT'}, {',': 'PUNCT'}, {'\"': 'PUNCT'}, {\"'\": 'PUNCT'}, {'from': 'ADP'}, {\"'\": 'NUM'}, {',': 'PUNCT'}, {'\"': 'PUNCT'}, {',': 'PUNCT'}, {'\"': 'PUNCT'}, {\"'\": 'PUNCT'}, {'last': 'ADJ'}, {\"'\": 'PUNCT'}, {',': 'PUNCT'}, {'\"': 'PUNCT'}, {',': 'PUNCT'}, {'\"': 'PUNCT'}, {\"'\": 'PUNCT'}, {'year': 'NOUN'}, {\"'\": 'PUNCT'}, {',': 'PUNCT'}, {'\"': 'PUNCT'}, {',': 'PUNCT'}, {'\"': 'PUNCT'}, {\"'\": 'PUNCT'}, {'(': 'PUNCT'}, {\"'\": 'PUNCT'}, {',': 'PUNCT'}, {'\"': 'PUNCT'}, {',': 'PUNCT'}, {'\"': 'PUNCT'}, {\"'\": 'PUNCT'}, {'assuming': 'VERB'}, {\"'\": 'PUNCT'}, {',': 'PUNCT'}, {'\"': 'PUNCT'}, {',': 'PUNCT'}, {'\"': 'PUNCT'}, {\"'\": 'PUNCT'}, {'there': 'PRON'}, {\"'\": 'NUM'}, {',': 'PUNCT'}, {'\"': 'PUNCT'}, {',': 'PUNCT'}, {\"'\": 'PUNCT'}, {'\"': 'PUNCT'}, {'\\\\': 'PROPN'}, {\"'\": 'PUNCT'}, {'\"': 'PUNCT'}, {',': 'PUNCT'}, {\"'\": 'PUNCT'}, {',': 'PUNCT'}, {'\"': 'PUNCT'}, {\"'s\": 'AUX'}, {\"'\": 'NUM'}, {',': 'PUNCT'}, {'\"': 'PUNCT'}, {',': 'PUNCT'}, {'\"': 'PUNCT'}, {\"'\": 'PUNCT'}, {'a': 'PRON'}, {\"'\": 'PUNCT'}, {',': 'PUNCT'}, {'\"': 'PUNCT'}, {',': 'PUNCT'}, {'\"': 'PUNCT'}, {\"'\": 'PUNCT'}, {'Date': 'VERB'}, {\"'\": 'PUNCT'}, {',': 'PUNCT'}, {'\"': 'PUNCT'}, {',': 'PUNCT'}, {'\"': 'PUNCT'}, {\"'\": 'PUNCT'}, {'field': 'NOUN'}, {\"'\": 'PUNCT'}, {',': 'PUNCT'}, {'\"': 'PUNCT'}, {',': 'PUNCT'}, {'\"': 'PUNCT'}, {\"'\": 'PUNCT'}, {')': 'PUNCT'}, {\"'\": 'PUNCT'}, {']': 'PUNCT'}, {'\"': 'PUNCT'}, {']': 'PUNCT'}, {'[': 'X'}, {'\"': 'PUNCT'}, {'[': 'X'}, {\"'\": 'PUNCT'}, {'Show': 'VERB'}, {\"'\": 'PUNCT'}, {',': 'PUNCT'}, {'\"': 'PUNCT'}, {',': 'PUNCT'}, {'\"': 'PUNCT'}, {\"'\": 'PUNCT'}, {'only': 'ADV'}, {\"'\": 'NUM'}, {',': 'PUNCT'}, {'\"': 'PUNCT'}, {',': 'PUNCT'}, {'\"': 'PUNCT'}, {\"'\": 'PUNCT'}, {'the': 'PRON'}, {\"'\": 'PUNCT'}, {',': 'PUNCT'}, {'\"': 'PUNCT'}, {',': 'PUNCT'}, {'\"': 'PUNCT'}, {\"'\": 'PUNCT'}, {'data': 'NOUN'}, {\"'\": 'PUNCT'}, {',': 'PUNCT'}, {'\"': 'PUNCT'}, {',': 'PUNCT'}, {'\"': 'PUNCT'}, {\"'\": 'PUNCT'}, {'starting': 'VERB'}, {\"'\": 'PUNCT'}, {',': 'PUNCT'}, {'\"': 'PUNCT'}, {',': 'PUNCT'}, {'\"': 'PUNCT'}, {\"'\": 'PUNCT'}, {'from': 'ADP'}, {\"'\": 'NUM'}, {',': 'PUNCT'}, {'\"': 'PUNCT'}, {',': 'PUNCT'}, {'\"': 'PUNCT'}, {\"'\": 'PUNCT'}, {'January': 'PROPN'}, {\"'\": 'NUM'}, {',': 'PUNCT'}, {'\"': 'PUNCT'}, {',': 'PUNCT'}, {'\"': 'PUNCT'}, {\"'\": 'PUNCT'}, {'this': 'PRON'}, {\"'\": 'PUNCT'}, {',': 'PUNCT'}, {'\"': 'PUNCT'}, {',': 'PUNCT'}, {'\"': 'PUNCT'}, {\"'\": 'PUNCT'}, {'year': 'NOUN'}, {\"'\": 'PUNCT'}, {']': 'PUNCT'}, {'\"': 'PUNCT'}, {']': 'PUNCT'}, {'[': 'X'}, {'\"': 'PUNCT'}, {'[': 'X'}, {\"'\": 'VERB'}, {'Find': 'VERB'}, {\"'\": 'PUNCT'}, {',': 'PUNCT'}, {'\"': 'PUNCT'}, {',': 'PUNCT'}, {'\"': 'PUNCT'}, {\"'\": 'PUNCT'}, {'the': 'DET'}, {\"'\": 'PUNCT'}, {',': 'PUNCT'}, {'\"': 'PUNCT'}, {',': 'PUNCT'}, {'\"': 'PUNCT'}, {\"'\": 'PUNCT'}, {'average': 'ADJ'}, {\"'\": 'PUNCT'}, {',': 'PUNCT'}, {'\"': 'PUNCT'}, {',': 'PUNCT'}, {'\"': 'PUNCT'}, {\"'\": 'PUNCT'}, {'Sepal': 'NOUN'}, {\"'\": 'PUNCT'}, {',': 'PUNCT'}, {'\"': 'PUNCT'}, {',': 'PUNCT'}, {'\"': 'PUNCT'}, {\"'\": 'PUNCT'}, {'Length': 'PROPN'}, {\"'\": 'PUNCT'}, {',': 'PUNCT'}, {'\"': 'PUNCT'}, {',': 'PUNCT'}, {'\"': 'PUNCT'}, {\"'\": 'PUNCT'}, {'for': 'ADP'}, {\"'\": 'NUM'}, {',': 'PUNCT'}, {'\"': 'PUNCT'}, {',': 'PUNCT'}, {'\"': 'PUNCT'}, {\"'\": 'PUNCT'}, {'each': 'PRON'}, {\"'\": 'PUNCT'}, {',': 'PUNCT'}, {'\"': 'PUNCT'}, {',': 'PUNCT'}, {'\"': 'PUNCT'}, {\"'\": 'PUNCT'}, {'Species': 'NOUN'}, {\"'\": 'PUNCT'}, {',': 'PUNCT'}, {'\"': 'PUNCT'}, {',': 'PUNCT'}, {'\"': 'PUNCT'}, {\"'\": 'PUNCT'}, {',': 'PUNCT'}, {\"'\": 'PUNCT'}, {',': 'PUNCT'}, {'\"': 'PUNCT'}, {',': 'PUNCT'}, {'\"': 'PUNCT'}, {\"'\": 'PUNCT'}, {'sorted': 'VERB'}, {\"'\": 'PUNCT'}, {',': 'PUNCT'}, {'\"': 'PUNCT'}, {',': 'PUNCT'}, {'\"': 'PUNCT'}, {\"'\": 'PUNCT'}, {'alphabetically': 'ADV'}, {\"'\": 'VERB'}, {']': 'X'}, {'\"': 'PUNCT'}, {']': 'PUNCT'}, {'[': 'X'}, {'\"': 'PUNCT'}, {'[': 'X'}, {\"'\": 'X'}, {'Count': 'PROPN'}, {\"'\": 'PUNCT'}, {',': 'PUNCT'}, {'\"': 'PUNCT'}, {',': 'PUNCT'}, {'\"': 'PUNCT'}, {\"'\": 'PUNCT'}, {'how': 'SCONJ'}, {\"'\": 'PROPN'}, {',': 'PUNCT'}, {'\"': 'PUNCT'}, {',': 'PUNCT'}, {'\"': 'PUNCT'}, {\"'\": 'PUNCT'}, {'many': 'ADJ'}, {\"'\": 'PUNCT'}, {',': 'PUNCT'}, {'\"': 'PUNCT'}, {',': 'PUNCT'}, {'\"': 'PUNCT'}, {\"'\": 'PUNCT'}, {'Species': 'NOUN'}, {\"'\": 'PUNCT'}, {',': 'PUNCT'}, {'\"': 'PUNCT'}, {',': 'PUNCT'}, {'\"': 'PUNCT'}, {\"'\": 'PUNCT'}, {'start': 'VERB'}, {\"'\": 'PUNCT'}, {',': 'PUNCT'}, {'\"': 'PUNCT'}, {',': 'PUNCT'}, {'\"': 'PUNCT'}, {\"'\": 'PUNCT'}, {'with': 'ADP'}, {\"'\": 'PROPN'}, {',': 'PUNCT'}, {'\"': 'PUNCT'}, {',': 'PUNCT'}, {\"'\": 'PUNCT'}, {'\"': 'PUNCT'}, {'\\\\': 'PROPN'}, {\"'\": 'PUNCT'}, {'\"': 'PUNCT'}, {',': 'PUNCT'}, {\"'\": 'PUNCT'}, {',': 'PUNCT'}, {'\"': 'PUNCT'}, {\"'\": 'PUNCT'}, {'C': 'NOUN'}, {\"'\": 'NUM'}, {',': 'PUNCT'}, {'\"': 'PUNCT'}, {',': 'PUNCT'}, {\"'\": 'PUNCT'}, {'\"': 'PUNCT'}, {'\\\\': 'PROPN'}, {\"'\": 'PUNCT'}, {'\"': 'PUNCT'}, {']': 'PUNCT'}, {\"'\": 'X'}, {']': 'PUNCT'}, {'[': 'X'}, {'\"': 'PUNCT'}, {'[': 'X'}, {\"'\": 'X'}, {'Entries': 'NOUN'}, {\"'\": 'PUNCT'}, {',': 'PUNCT'}, {'\"': 'PUNCT'}, {',': 'PUNCT'}, {'\"': 'PUNCT'}, {\"'\": 'PUNCT'}, {'with': 'ADP'}, {\"'\": 'PROPN'}, {',': 'PUNCT'}, {'\"': 'PUNCT'}, {',': 'PUNCT'}, {'\"': 'PUNCT'}, {\"'\": 'PUNCT'}, {'Petal': 'ADJ'}, {\"'\": 'PUNCT'}, {',': 'PUNCT'}, {'\"': 'PUNCT'}, {',': 'PUNCT'}, {'\"': 'PUNCT'}, {\"'\": 'PUNCT'}, {'Length': 'PROPN'}, {\"'\": 'PUNCT'}, {',': 'PUNCT'}, {'\"': 'PUNCT'}, {',': 'PUNCT'}, {'\"': 'PUNCT'}, {\"'\": 'PUNCT'}, {'and': 'CCONJ'}, {\"'\": 'NUM'}, {',': 'PUNCT'}, {'\"': 'PUNCT'}, {',': 'PUNCT'}, {'\"': 'PUNCT'}, {\"'\": 'PUNCT'}, {'Sepal': 'NOUN'}, {\"'\": 'PUNCT'}, {',': 'PUNCT'}, {'\"': 'PUNCT'}, {',': 'PUNCT'}, {'\"': 'PUNCT'}, {\"'\": 'PUNCT'}, {'Length': 'PROPN'}, {\"'\": 'PUNCT'}, {',': 'PUNCT'}, {'\"': 'PUNCT'}, {',': 'PUNCT'}, {'\"': 'PUNCT'}, {\"'\": 'PUNCT'}, {'both': 'PRON'}, {\"'\": 'PROPN'}, {',': 'PUNCT'}, {'\"': 'PUNCT'}, {',': 'PUNCT'}, {'\"': 'PUNCT'}, {\"'\": 'PUNCT'}, {'above': 'ADP'}, {\"'\": 'PUNCT'}, {',': 'PUNCT'}, {'\"': 'PUNCT'}, {',': 'PUNCT'}, {'\"': 'PUNCT'}, {\"'\": 'PROPN'}, {'4': 'NUM'}, {\"'\": 'NUM'}, {',': 'PUNCT'}, {'\"': 'PUNCT'}, {',': 'PUNCT'}, {'\"': 'PUNCT'}, {\"'\": 'PUNCT'}, {'.': 'PUNCT'}, {\"'\": 'PUNCT'}, {',': 'PUNCT'}, {'\"': 'PUNCT'}, {',': 'PUNCT'}, {'\"': 'PUNCT'}, {\"'\": 'PUNCT'}, {'0': 'X'}, {\"'\": 'PUNCT'}, {']': 'PUNCT'}, {'\"': 'PUNCT'}, {']': 'PUNCT'}, {'[': 'X'}, {'\"': 'PUNCT'}, {'[': 'X'}, {\"'\": 'PUNCT'}, {'List': 'NOUN'}, {\"'\": 'PUNCT'}, {',': 'PUNCT'}, {'\"': 'PUNCT'}, {',': 'PUNCT'}, {'\"': 'PUNCT'}, {\"'\": 'PUNCT'}, {'Species': 'NOUN'}, {\"'\": 'PUNCT'}, {',': 'PUNCT'}, {'\"': 'PUNCT'}, {',': 'PUNCT'}, {'\"': 'PUNCT'}, {\"'\": 'PUNCT'}, {'with': 'ADP'}, {\"'\": 'PROPN'}, {',': 'PUNCT'}, {'\"': 'PUNCT'}, {',': 'PUNCT'}, {'\"': 'PUNCT'}, {\"'\": 'PUNCT'}, {'Petal': 'ADJ'}, {\"'\": 'PUNCT'}, {',': 'PUNCT'}, {'\"': 'PUNCT'}, {',': 'PUNCT'}, {'\"': 'PUNCT'}, {\"'\": 'PUNCT'}, {'Width': 'PROPN'}, {\"'\": 'PUNCT'}, {',': 'PUNCT'}, {'\"': 'PUNCT'}, {',': 'PUNCT'}, {'\"': 'PUNCT'}, {\"'\": 'PUNCT'}, {'in': 'ADP'}, {\"'\": 'NUM'}, {',': 'PUNCT'}, {'\"': 'PUNCT'}, {',': 'PUNCT'}, {'\"': 'PUNCT'}, {\"'\": 'PUNCT'}, {'the': 'DET'}, {\"'\": 'PUNCT'}, {',': 'PUNCT'}, {'\"': 'PUNCT'}, {',': 'PUNCT'}, {'\"': 'PUNCT'}, {\"'\": 'PUNCT'}, {'top': 'VERB'}, {\"'\": 'PUNCT'}, {',': 'PUNCT'}, {'\"': 'PUNCT'}, {',': 'PUNCT'}, {'\"': 'PUNCT'}, {\"'\": 'PROPN'}, {'10': 'NUM'}, {\"'\": 'NUM'}, {',': 'PUNCT'}, {'\"': 'PUNCT'}, {',': 'PUNCT'}, {'\"': 'PUNCT'}, {\"'\": 'PUNCT'}, {'%': 'INTJ'}, {\"'\": 'PUNCT'}, {']': 'X'}, {'\"': 'PUNCT'}, {']': 'PUNCT'}, {'[': 'X'}, {'\"': 'PUNCT'}, {'[': 'X'}, {\"'\": 'PROPN'}, {'Total': 'ADJ'}, {\"'\": 'PUNCT'}, {',': 'PUNCT'}, {'\"': 'PUNCT'}, {',': 'PUNCT'}, {'\"': 'PUNCT'}, {\"'\": 'PUNCT'}, {'Sepal': 'NOUN'}, {\"'\": 'PUNCT'}, {',': 'PUNCT'}, {'\"': 'PUNCT'}, {',': 'PUNCT'}, {'\"': 'PUNCT'}, {\"'\": 'PUNCT'}, {'Length': 'PROPN'}, {\"'\": 'PUNCT'}, {',': 'PUNCT'}, {'\"': 'PUNCT'}, {',': 'PUNCT'}, {'\"': 'PUNCT'}, {\"'\": 'PUNCT'}, {'for': 'ADP'}, {\"'\": 'NUM'}, {',': 'PUNCT'}, {'\"': 'PUNCT'}, {',': 'PUNCT'}, {'\"': 'PUNCT'}, {\"'\": 'PUNCT'}, {'all': 'PRON'}, {\"'\": 'PROPN'}, {',': 'PUNCT'}, {'\"': 'PUNCT'}, {',': 'PUNCT'}, {'\"': 'PUNCT'}, {\"'\": 'PUNCT'}, {'Iris': 'PROPN'}, {\"'\": 'NUM'}, {',': 'PUNCT'}, {'\"': 'PUNCT'}, {',': 'PUNCT'}, {'\"': 'PUNCT'}, {\"'\": 'PUNCT'}, {'flowers': 'NOUN'}, {\"'\": 'VERB'}, {']': 'PUNCT'}, {'\"': 'PUNCT'}, {']': 'PUNCT'}, {'[': 'X'}, {'\"': 'PUNCT'}, {'[': 'X'}, {\"'\": 'PUNCT'}, {'Average': 'ADJ'}, {\"'\": 'PUNCT'}, {',': 'PUNCT'}, {'\"': 'PUNCT'}, {',': 'PUNCT'}, {'\"': 'PUNCT'}, {\"'\": 'PUNCT'}, {'Petal': 'ADJ'}, {\"'\": 'PUNCT'}, {',': 'PUNCT'}, {'\"': 'PUNCT'}, {',': 'PUNCT'}, {'\"': 'PUNCT'}, {\"'\": 'PUNCT'}, {'Width': 'PROPN'}, {\"'\": 'PUNCT'}, {',': 'PUNCT'}, {'\"': 'PUNCT'}, {',': 'PUNCT'}, {'\"': 'PUNCT'}, {\"'\": 'PUNCT'}, {'across': 'ADP'}, {\"'\": 'PUNCT'}, {',': 'PUNCT'}, {'\"': 'PUNCT'}, {',': 'PUNCT'}, {'\"': 'PUNCT'}, {\"'\": 'PUNCT'}, {'all': 'PRON'}, {\"'\": 'PROPN'}, {',': 'PUNCT'}, {'\"': 'PUNCT'}, {',': 'PUNCT'}, {'\"': 'PUNCT'}, {\"'\": 'PUNCT'}, {'species': 'NOUN'}, {\"'\": 'PUNCT'}, {']': 'PUNCT'}, {'\"': 'PUNCT'}, {']': 'PUNCT'}, {'[': 'X'}, {'\"': 'PUNCT'}, {'[': 'X'}, {\"'\": 'PUNCT'}, {'Median': 'PROPN'}, {\"'\": 'PROPN'}, {',': 'PUNCT'}, {'\"': 'PUNCT'}, {',': 'PUNCT'}, {'\"': 'PUNCT'}, {\"'\": 'PUNCT'}, {'Sepal': 'NOUN'}, {\"'\": 'PUNCT'}, {',': 'PUNCT'}, {'\"': 'PUNCT'}, {',': 'PUNCT'}, {'\"': 'PUNCT'}, {\"'\": 'PUNCT'}, {'Width': 'PROPN'}, {\"'\": 'PUNCT'}, {',': 'PUNCT'}, {'\"': 'PUNCT'}, {',': 'PUNCT'}, {'\"': 'PUNCT'}, {\"'\": 'PUNCT'}, {'for': 'ADP'}, {\"'\": 'NUM'}, {',': 'PUNCT'}, {'\"': 'PUNCT'}, {',': 'PUNCT'}, {'\"': 'PUNCT'}, {\"'\": 'PUNCT'}, {'Iris': 'PROPN'}, {\"'\": 'NUM'}, {',': 'PUNCT'}, {'\"': 'PUNCT'}, {',': 'PUNCT'}, {'\"': 'PUNCT'}, {\"'\": 'PUNCT'}, {'setosa': 'VERB'}, {\"'\": 'PUNCT'}, {']': 'PUNCT'}, {'\"': 'PUNCT'}, {']': 'PUNCT'}, {'[': 'X'}, {'\"': 'PUNCT'}, {'[': 'X'}, {\"'\": 'X'}, {'Count': 'PROPN'}, {\"'\": 'PUNCT'}, {',': 'PUNCT'}, {'\"': 'PUNCT'}, {',': 'PUNCT'}, {'\"': 'PUNCT'}, {\"'\": 'PUNCT'}, {'of': 'ADP'}, {\"'\": 'NUM'}, {',': 'PUNCT'}, {'\"': 'PUNCT'}, {',': 'PUNCT'}, {'\"': 'PUNCT'}, {\"'\": 'PUNCT'}, {'Iris': 'PROPN'}, {\"'\": 'NUM'}, {',': 'PUNCT'}, {'\"': 'PUNCT'}, {',': 'PUNCT'}, {'\"': 'PUNCT'}, {\"'\": 'PUNCT'}, {'versicolor': 'NOUN'}, {\"'\": 'PUNCT'}, {',': 'PUNCT'}, {'\"': 'PUNCT'}, {',': 'PUNCT'}, {'\"': 'PUNCT'}, {\"'\": 'PUNCT'}, {'flowers': 'NOUN'}, {\"'\": 'VERB'}, {']': 'PUNCT'}, {'\"': 'PUNCT'}, {']': 'PUNCT'}, {'[': 'X'}, {'\"': 'PUNCT'}, {'[': 'X'}, {\"'\": 'X'}, {'Distinct': 'ADJ'}, {\"'\": 'PUNCT'}, {',': 'PUNCT'}, {'\"': 'PUNCT'}, {',': 'PUNCT'}, {'\"': 'PUNCT'}, {\"'\": 'PUNCT'}, {'count': 'VERB'}, {\"'\": 'PUNCT'}, {',': 'PUNCT'}, {'\"': 'PUNCT'}, {',': 'PUNCT'}, {'\"': 'PUNCT'}, {\"'\": 'PUNCT'}, {'of': 'ADP'}, {\"'\": 'NUM'}, {',': 'PUNCT'}, {'\"': 'PUNCT'}, {',': 'PUNCT'}, {'\"': 'PUNCT'}, {\"'\": 'PUNCT'}, {'species': 'NOUN'}, {\"'\": 'PUNCT'}, {',': 'PUNCT'}, {'\"': 'PUNCT'}, {',': 'PUNCT'}, {'\"': 'PUNCT'}, {\"'\": 'PUNCT'}, {'with': 'ADP'}, {\"'\": 'PROPN'}, {',': 'PUNCT'}, {'\"': 'PUNCT'}, {',': 'PUNCT'}, {'\"': 'PUNCT'}, {\"'\": 'PUNCT'}, {'Sepal': 'NOUN'}, {\"'\": 'PUNCT'}, {',': 'PUNCT'}, {'\"': 'PUNCT'}, {',': 'PUNCT'}, {'\"': 'PUNCT'}, {\"'\": 'PUNCT'}, {'Length': 'PROPN'}, {\"'\": 'PUNCT'}, {',': 'PUNCT'}, {'\"': 'PUNCT'}, {',': 'PUNCT'}, {'\"': 'PUNCT'}, {\"'\": 'PUNCT'}, {'over': 'ADP'}, {\"'\": 'PUNCT'}, {',': 'PUNCT'}, {'\"': 'PUNCT'}, {',': 'PUNCT'}, {'\"': 'PUNCT'}, {\"'\": 'PROPN'}, {'5': 'NUM'}, {\"'\": 'NUM'}, {',': 'PUNCT'}, {'\"': 'PUNCT'}, {',': 'PUNCT'}, {'\"': 'PUNCT'}, {\"'\": 'PUNCT'}, {'.': 'PUNCT'}, {\"'\": 'PUNCT'}, {',': 'PUNCT'}, {'\"': 'PUNCT'}, {',': 'PUNCT'}, {'\"': 'PUNCT'}, {\"'\": 'PUNCT'}, {'0': 'X'}, {\"'\": 'PUNCT'}, {']': 'PUNCT'}, {'\"': 'PUNCT'}, {']': 'PUNCT'}, {'[': 'X'}, {'\"': 'PUNCT'}, {'[': 'X'}, {\"'\": 'PUNCT'}, {'Minimum': 'ADJ'}, {\"'\": 'PUNCT'}, {',': 'PUNCT'}, {'\"': 'PUNCT'}, {',': 'PUNCT'}, {'\"': 'PUNCT'}, {\"'\": 'PUNCT'}, {'Petal': 'ADJ'}, {\"'\": 'PUNCT'}, {',': 'PUNCT'}, {'\"': 'PUNCT'}, {',': 'PUNCT'}, {'\"': 'PUNCT'}, {\"'\": 'PUNCT'}, {'Length': 'PROPN'}, {\"'\": 'PUNCT'}, {',': 'PUNCT'}, {'\"': 'PUNCT'}, {',': 'PUNCT'}, {'\"': 'PUNCT'}, {\"'\": 'PUNCT'}, {'for': 'ADP'}, {\"'\": 'NUM'}, {',': 'PUNCT'}, {'\"': 'PUNCT'}, {',': 'PUNCT'}, {'\"': 'PUNCT'}, {\"'\": 'PUNCT'}, {'Iris': 'PROPN'}, {\"'\": 'NUM'}, {',': 'PUNCT'}, {'\"': 'PUNCT'}, {',': 'PUNCT'}, {'\"': 'PUNCT'}, {\"'\": 'PUNCT'}, {'virginica': 'X'}, {\"'\": 'PUNCT'}, {']': 'PUNCT'}, {'\"': 'PUNCT'}, {']': 'PUNCT'}, {'[': 'X'}, {'\"': 'PUNCT'}, {'[': 'X'}, {\"'\": 'PUNCT'}, {'Maximum': 'ADJ'}, {\"'\": 'NUM'}, {',': 'PUNCT'}, {'\"': 'PUNCT'}, {',': 'PUNCT'}, {'\"': 'PUNCT'}, {\"'\": 'PUNCT'}, {'Sepal': 'NOUN'}, {\"'\": 'PUNCT'}, {',': 'PUNCT'}, {'\"': 'PUNCT'}, {',': 'PUNCT'}, {'\"': 'PUNCT'}, {\"'\": 'PUNCT'}, {'Width': 'PROPN'}, {\"'\": 'PUNCT'}, {',': 'PUNCT'}, {'\"': 'PUNCT'}, {',': 'PUNCT'}, {'\"': 'PUNCT'}, {\"'\": 'PUNCT'}, {'across': 'ADP'}, {\"'\": 'PUNCT'}, {',': 'PUNCT'}, {'\"': 'PUNCT'}, {',': 'PUNCT'}, {'\"': 'PUNCT'}, {\"'\": 'PUNCT'}, {'Iris': 'PROPN'}, {\"'\": 'NUM'}, {',': 'PUNCT'}, {'\"': 'PUNCT'}, {',': 'PUNCT'}, {'\"': 'PUNCT'}, {\"'\": 'PUNCT'}, {'setosa': 'VERB'}, {\"'\": 'PUNCT'}, {']': 'PUNCT'}, {'\"': 'PUNCT'}, {']': 'PUNCT'}, {'[': 'X'}, {'\"': 'PUNCT'}, {'[': 'X'}, {\"'\": 'PROPN'}, {'Total': 'ADJ'}, {\"'\": 'PUNCT'}, {',': 'PUNCT'}, {'\"': 'PUNCT'}, {',': 'PUNCT'}, {'\"': 'PUNCT'}, {\"'\": 'PUNCT'}, {'number': 'NOUN'}, {\"'\": 'PUNCT'}, {',': 'PUNCT'}, {'\"': 'PUNCT'}, {',': 'PUNCT'}, {'\"': 'PUNCT'}, {\"'\": 'PUNCT'}, {'of': 'ADP'}, {\"'\": 'NUM'}, {',': 'PUNCT'}, {'\"': 'PUNCT'}, {',': 'PUNCT'}, {'\"': 'PUNCT'}, {\"'\": 'PUNCT'}, {'records': 'NOUN'}, {\"'\": 'PART'}, {',': 'PUNCT'}, {'\"': 'PUNCT'}, {',': 'PUNCT'}, {'\"': 'PUNCT'}, {\"'\": 'PUNCT'}, {'grouped': 'VERB'}, {\"'\": 'PUNCT'}, {',': 'PUNCT'}, {'\"': 'PUNCT'}, {',': 'PUNCT'}, {'\"': 'PUNCT'}, {\"'\": 'PUNCT'}, {'by': 'ADP'}, {\"'\": 'NUM'}, {',': 'PUNCT'}, {'\"': 'PUNCT'}, {',': 'PUNCT'}, {'\"': 'PUNCT'}, {\"'\": 'PUNCT'}, {'Species': 'PROPN'}, {\"'\": 'PUNCT'}, {']': 'PUNCT'}, {'\"': 'PUNCT'}, {']': 'PUNCT'}, {'[': 'X'}, {'\"': 'PUNCT'}, {'[': 'X'}, {\"'\": 'X'}, {'Filter': 'PROPN'}, {\"'\": 'NUM'}, {',': 'PUNCT'}, {'\"': 'PUNCT'}, {',': 'PUNCT'}, {'\"': 'PUNCT'}, {\"'\": 'PUNCT'}, {'to': 'PART'}, {\"'\": 'NUM'}, {',': 'PUNCT'}, {'\"': 'PUNCT'}, {',': 'PUNCT'}, {'\"': 'PUNCT'}, {\"'\": 'PUNCT'}, {'show': 'VERB'}, {\"'\": 'PUNCT'}, {',': 'PUNCT'}, {'\"': 'PUNCT'}, {',': 'PUNCT'}, {'\"': 'PUNCT'}, {\"'\": 'PUNCT'}, {'only': 'ADV'}, {\"'\": 'NUM'}, {',': 'PUNCT'}, {'\"': 'PUNCT'}, {',': 'PUNCT'}, {'\"': 'PUNCT'}, {\"'\": 'PUNCT'}, {'Iris': 'PROPN'}, {\"'\": 'NUM'}, {',': 'PUNCT'}, {'\"': 'PUNCT'}, {',': 'PUNCT'}, {'\"': 'PUNCT'}, {\"'\": 'PUNCT'}, {'versicolor': 'NOUN'}, {\"'\": 'PUNCT'}, {',': 'PUNCT'}, {'\"': 'PUNCT'}, {',': 'PUNCT'}, {'\"': 'PUNCT'}, {\"'\": 'PUNCT'}, {'with': 'ADP'}, {\"'\": 'PROPN'}, {',': 'PUNCT'}, {'\"': 'PUNCT'}, {',': 'PUNCT'}, {'\"': 'PUNCT'}, {\"'\": 'PUNCT'}, {'Sepal': 'NOUN'}, {\"'\": 'PUNCT'}, {',': 'PUNCT'}, {'\"': 'PUNCT'}, {',': 'PUNCT'}, {'\"': 'PUNCT'}, {\"'\": 'PUNCT'}, {'Width': 'PROPN'}, {\"'\": 'PUNCT'}, {',': 'PUNCT'}, {'\"': 'PUNCT'}, {',': 'PUNCT'}, {'\"': 'PUNCT'}, {\"'\": 'PUNCT'}, {'at': 'ADP'}, {\"'\": 'NUM'}, {',': 'PUNCT'}, {'\"': 'PUNCT'}, {',': 'PUNCT'}, {'\"': 'PUNCT'}, {\"'\": 'PUNCT'}, {'least': 'ADJ'}, {\"'\": 'PUNCT'}, {',': 'PUNCT'}, {'\"': 'PUNCT'}, {',': 'PUNCT'}, {'\"': 'PUNCT'}, {\"'\": 'PROPN'}, {'3': 'NUM'}, {\"'\": 'NUM'}, {',': 'PUNCT'}, {'\"': 'PUNCT'}, {',': 'PUNCT'}, {'\"': 'PUNCT'}, {\"'\": 'PUNCT'}, {'.': 'PUNCT'}, {\"'\": 'PUNCT'}, {',': 'PUNCT'}, {'\"': 'PUNCT'}, {',': 'PUNCT'}, {'\"': 'PUNCT'}, {\"'\": 'PUNCT'}, {'0': 'X'}, {\"'\": 'PUNCT'}, {']': 'PUNCT'}, {'\"': 'PUNCT'}, {']': 'PUNCT'}, {'[': 'X'}, {'\"': 'PUNCT'}, {'[': 'X'}, {\"'\": 'PUNCT'}, {'Show': 'VERB'}, {\"'\": 'PUNCT'}, {',': 'PUNCT'}, {'\"': 'PUNCT'}, {',': 'PUNCT'}, {'\"': 'PUNCT'}, {\"'\": 'PUNCT'}, {'top': 'VERB'}, {\"'\": 'PUNCT'}, {',': 'PUNCT'}, {'\"': 'PUNCT'}, {',': 'PUNCT'}, {'\"': 'PUNCT'}, {\"'\": 'PROPN'}, {'5': 'NUM'}, {\"'\": 'NUM'}, {',': 'PUNCT'}, {'\"': 'PUNCT'}, {',': 'PUNCT'}, {'\"': 'PUNCT'}, {\"'\": 'PUNCT'}, {'Sepal': 'NOUN'}, {\"'\": 'PUNCT'}, {',': 'PUNCT'}, {'\"': 'PUNCT'}, {',': 'PUNCT'}, {'\"': 'PUNCT'}, {\"'\": 'PUNCT'}, {'Lengths': 'NOUN'}, {\"'\": 'NUM'}, {',': 'PUNCT'}, {'\"': 'PUNCT'}, {',': 'PUNCT'}, {'\"': 'PUNCT'}, {\"'\": 'PUNCT'}, {'within': 'ADP'}, {\"'\": 'PUNCT'}, {',': 'PUNCT'}, {'\"': 'PUNCT'}, {',': 'PUNCT'}, {'\"': 'PUNCT'}, {\"'\": 'PUNCT'}, {'Iris': 'PROPN'}, {\"'\": 'NUM'}, {',': 'PUNCT'}, {'\"': 'PUNCT'}, {',': 'PUNCT'}, {'\"': 'PUNCT'}, {\"'\": 'PUNCT'}, {'virginica': 'X'}, {\"'\": 'PUNCT'}, {',': 'PUNCT'}, {'\"': 'PUNCT'}, {',': 'PUNCT'}, {'\"': 'PUNCT'}, {\"'\": 'PUNCT'}, {'only': 'ADV'}, {\"'\": 'PUNCT'}, {']': 'X'}, {'\"': 'PUNCT'}, {']': 'PUNCT'}, {'[': 'X'}, {'\"': 'PUNCT'}, {'[': 'X'}, {\"'\": 'X'}, {'Iris': 'PROPN'}, {\"'\": 'PROPN'}, {',': 'PUNCT'}, {'\"': 'PUNCT'}, {',': 'PUNCT'}, {'\"': 'PUNCT'}, {\"'\": 'PUNCT'}, {'flowers': 'NOUN'}, {\"'\": 'PART'}, {',': 'PUNCT'}, {'\"': 'PUNCT'}, {',': 'PUNCT'}, {'\"': 'PUNCT'}, {\"'\": 'PUNCT'}, {'with': 'ADP'}, {\"'\": 'PROPN'}, {',': 'PUNCT'}, {'\"': 'PUNCT'}, {',': 'PUNCT'}, {'\"': 'PUNCT'}, {\"'\": 'PUNCT'}, {'Petal': 'ADJ'}, {\"'\": 'PUNCT'}, {',': 'PUNCT'}, {'\"': 'PUNCT'}, {',': 'PUNCT'}, {'\"': 'PUNCT'}, {\"'\": 'PUNCT'}, {'Width': 'PROPN'}, {\"'\": 'PUNCT'}, {',': 'PUNCT'}, {'\"': 'PUNCT'}, {',': 'PUNCT'}, {'\"': 'PUNCT'}, {\"'\": 'PUNCT'}, {'in': 'ADP'}, {\"'\": 'NUM'}, {',': 'PUNCT'}, {'\"': 'PUNCT'}, {',': 'PUNCT'}, {'\"': 'PUNCT'}, {\"'\": 'PUNCT'}, {'the': 'PRON'}, {\"'\": 'PUNCT'}, {',': 'PUNCT'}, {'\"': 'PUNCT'}, {',': 'PUNCT'}, {'\"': 'PUNCT'}, {\"'\": 'PUNCT'}, {'bottom': 'ADJ'}, {\"'\": 'PUNCT'}, {',': 'PUNCT'}, {'\"': 'PUNCT'}, {',': 'PUNCT'}, {'\"': 'PUNCT'}, {\"'\": 'PUNCT'}, {'10th': 'X'}, {\"'\": 'PUNCT'}, {',': 'PUNCT'}, {'\"': 'PUNCT'}, {',': 'PUNCT'}, {'\"': 'PUNCT'}, {\"'\": 'PUNCT'}, {'percentile': 'VERB'}, {\"'\": 'PUNCT'}, {']': 'PUNCT'}, {'\"': 'PUNCT'}, {']': 'PUNCT'}, {'[': 'X'}, {'\"': 'PUNCT'}, {'[': 'X'}, {\"'\": 'PUNCT'}, {'Average': 'ADJ'}, {\"'\": 'PUNCT'}, {',': 'PUNCT'}, {'\"': 'PUNCT'}, {',': 'PUNCT'}, {'\"': 'PUNCT'}, {\"'\": 'PUNCT'}, {'Sepal': 'NOUN'}, {\"'\": 'PUNCT'}, {',': 'PUNCT'}, {'\"': 'PUNCT'}, {',': 'PUNCT'}, {'\"': 'PUNCT'}, {\"'\": 'PUNCT'}, {'Length': 'PROPN'}, {\"'\": 'PUNCT'}, {',': 'PUNCT'}, {'\"': 'PUNCT'}, {',': 'PUNCT'}, {'\"': 'PUNCT'}, {\"'\": 'PUNCT'}, {'for': 'ADP'}, {\"'\": 'NUM'}, {',': 'PUNCT'}, {'\"': 'PUNCT'}, {',': 'PUNCT'}, {'\"': 'PUNCT'}, {\"'\": 'PUNCT'}, {'each': 'PRON'}, {\"'\": 'PUNCT'}, {',': 'PUNCT'}, {'\"': 'PUNCT'}, {',': 'PUNCT'}, {'\"': 'PUNCT'}, {\"'\": 'PUNCT'}, {'species': 'NOUN'}, {\"'\": 'PUNCT'}, {']': 'PUNCT'}, {'\"': 'PUNCT'}, {']': 'PUNCT'}, {'[': 'X'}, {'\"': 'PUNCT'}, {'[': 'X'}, {\"'\": 'X'}, {'Entries': 'NOUN'}, {\"'\": 'PUNCT'}, {',': 'PUNCT'}, {'\"': 'PUNCT'}, {',': 'PUNCT'}, {'\"': 'PUNCT'}, {\"'\": 'PUNCT'}, {'with': 'ADP'}, {\"'\": 'PROPN'}, {',': 'PUNCT'}, {'\"': 'PUNCT'}, {',': 'PUNCT'}, {'\"': 'PUNCT'}, {\"'\": 'PUNCT'}, {'Petal': 'ADJ'}, {\"'\": 'PUNCT'}, {',': 'PUNCT'}, {'\"': 'PUNCT'}, {',': 'PUNCT'}, {'\"': 'PUNCT'}, {\"'\": 'PUNCT'}, {'Length': 'PROPN'}, {\"'\": 'PUNCT'}, {',': 'PUNCT'}, {'\"': 'PUNCT'}, {',': 'PUNCT'}, {'\"': 'PUNCT'}, {\"'\": 'PUNCT'}, {'between': 'ADP'}, {\"'\": 'PUNCT'}, {',': 'PUNCT'}, {'\"': 'PUNCT'}, {',': 'PUNCT'}, {'\"': 'PUNCT'}, {\"'\": 'PROPN'}, {'4': 'NUM'}, {\"'\": 'NUM'}, {',': 'PUNCT'}, {'\"': 'PUNCT'}, {',': 'PUNCT'}, {'\"': 'PUNCT'}, {\"'\": 'PUNCT'}, {'.': 'PUNCT'}, {\"'\": 'PUNCT'}, {',': 'PUNCT'}, {'\"': 'PUNCT'}, {',': 'PUNCT'}, {'\"': 'PUNCT'}, {\"'\": 'PUNCT'}, {'0': 'X'}, {\"'\": 'PUNCT'}, {',': 'PUNCT'}, {'\"': 'PUNCT'}, {',': 'PUNCT'}, {'\"': 'PUNCT'}, {\"'\": 'PUNCT'}, {'and': 'CCONJ'}, {\"'\": 'NUM'}, {',': 'PUNCT'}, {'\"': 'PUNCT'}, {',': 'PUNCT'}, {'\"': 'PUNCT'}, {\"'\": 'PROPN'}, {'5': 'NUM'}, {\"'\": 'NUM'}, {',': 'PUNCT'}, {'\"': 'PUNCT'}, {',': 'PUNCT'}, {'\"': 'PUNCT'}, {\"'\": 'PUNCT'}, {'.': 'PUNCT'}, {\"'\": 'PUNCT'}, {',': 'PUNCT'}, {'\"': 'PUNCT'}, {',': 'PUNCT'}, {'\"': 'PUNCT'}, {\"'\": 'PUNCT'}, {'0': 'X'}, {\"'\": 'PUNCT'}, {',': 'PUNCT'}, {'\"': 'PUNCT'}, {',': 'PUNCT'}, {'\"': 'PUNCT'}, {\"'\": 'PUNCT'}, {'for': 'ADP'}, {\"'\": 'NUM'}, {',': 'PUNCT'}, {'\"': 'PUNCT'}, {',': 'PUNCT'}, {'\"': 'PUNCT'}, {\"'\": 'PUNCT'}, {'Iris': 'PROPN'}, {\"'\": 'NUM'}, {',': 'PUNCT'}, {'\"': 'PUNCT'}, {',': 'PUNCT'}, {'\"': 'PUNCT'}, {\"'\": 'PUNCT'}, {'setosa': 'VERB'}, {\"'\": 'PUNCT'}, {']': 'PUNCT'}, {'\"': 'PUNCT'}, {']': 'PUNCT'}, {'[': 'X'}, {'\"': 'PUNCT'}, {'[': 'X'}, {\"'\": 'X'}, {'Count': 'PROPN'}, {\"'\": 'PUNCT'}, {',': 'PUNCT'}, {'\"': 'PUNCT'}, {',': 'PUNCT'}, {'\"': 'PUNCT'}, {\"'\": 'PUNCT'}, {'Iris': 'PROPN'}, {\"'\": 'NUM'}, {',': 'PUNCT'}, {'\"': 'PUNCT'}, {',': 'PUNCT'}, {'\"': 'PUNCT'}, {\"'\": 'PUNCT'}, {'flowers': 'NOUN'}, {\"'\": 'PART'}, {',': 'PUNCT'}, {'\"': 'PUNCT'}, {',': 'PUNCT'}, {'\"': 'PUNCT'}, {\"'\": 'PUNCT'}, {'where': 'SCONJ'}, {\"'\": 'NUM'}, {',': 'PUNCT'}, {'\"': 'PUNCT'}, {',': 'PUNCT'}, {'\"': 'PUNCT'}, {\"'\": 'PUNCT'}, {'the': 'DET'}, {\"'\": 'PUNCT'}, {',': 'PUNCT'}, {'\"': 'PUNCT'}, {',': 'PUNCT'}, {'\"': 'PUNCT'}, {\"'\": 'PUNCT'}, {'Species': 'NOUN'}, {\"'\": 'PUNCT'}, {',': 'PUNCT'}, {'\"': 'PUNCT'}, {',': 'PUNCT'}, {'\"': 'PUNCT'}, {\"'\": 'PUNCT'}, {'name': 'NOUN'}, {\"'\": 'PUNCT'}, {',': 'PUNCT'}, {'\"': 'PUNCT'}, {',': 'PUNCT'}, {'\"': 'PUNCT'}, {\"'\": 'PUNCT'}, {'contains': 'VERB'}, {\"'\": 'PUNCT'}, {',': 'PUNCT'}, {'\"': 'PUNCT'}, {',': 'PUNCT'}, {\"'\": 'PUNCT'}, {'\"': 'PUNCT'}, {'\\\\': 'PROPN'}, {\"'\": 'PUNCT'}, {'\"': 'PUNCT'}, {',': 'PUNCT'}, {\"'\": 'PUNCT'}, {',': 'PUNCT'}, {'\"': 'PUNCT'}, {\"'\": 'PUNCT'}, {'color': 'NOUN'}, {\"'\": 'PUNCT'}, {',': 'PUNCT'}, {'\"': 'PUNCT'}, {',': 'PUNCT'}, {\"'\": 'PUNCT'}, {'\"': 'PUNCT'}, {'\\\\': 'PROPN'}, {\"'\": 'PUNCT'}, {'\"': 'PUNCT'}, {']': 'PUNCT'}, {\"'\": 'X'}, {']': 'PUNCT'}, {'[': 'X'}, {'\"': 'PUNCT'}, {'[': 'X'}, {\"'\": 'PUNCT'}, {'List': 'NOUN'}, {\"'\": 'PUNCT'}, {',': 'PUNCT'}, {'\"': 'PUNCT'}, {',': 'PUNCT'}, {'\"': 'PUNCT'}, {\"'\": 'PUNCT'}, {'all': 'PRON'}, {\"'\": 'PROPN'}, {',': 'PUNCT'}, {'\"': 'PUNCT'}, {',': 'PUNCT'}, {'\"': 'PUNCT'}, {\"'\": 'PUNCT'}, {'Iris': 'PROPN'}, {\"'\": 'NUM'}, {',': 'PUNCT'}, {'\"': 'PUNCT'}, {',': 'PUNCT'}, {'\"': 'PUNCT'}, {\"'\": 'PUNCT'}, {'flowers': 'NOUN'}, {\"'\": 'PART'}, {',': 'PUNCT'}, {'\"': 'PUNCT'}, {',': 'PUNCT'}, {'\"': 'PUNCT'}, {\"'\": 'PUNCT'}, {'where': 'SCONJ'}, {\"'\": 'NUM'}, {',': 'PUNCT'}, {'\"': 'PUNCT'}, {',': 'PUNCT'}, {'\"': 'PUNCT'}, {\"'\": 'PUNCT'}, {'the': 'DET'}, {\"'\": 'PUNCT'}, {',': 'PUNCT'}, {'\"': 'PUNCT'}, {',': 'PUNCT'}, {'\"': 'PUNCT'}, {\"'\": 'PUNCT'}, {'Species': 'NOUN'}, {\"'\": 'PUNCT'}, {',': 'PUNCT'}, {'\"': 'PUNCT'}, {',': 'PUNCT'}, {'\"': 'PUNCT'}, {\"'\": 'PUNCT'}, {'name': 'NOUN'}, {\"'\": 'PUNCT'}, {',': 'PUNCT'}, {'\"': 'PUNCT'}, {',': 'PUNCT'}, {'\"': 'PUNCT'}, {\"'\": 'PUNCT'}, {'starts': 'VERB'}, {\"'\": 'PUNCT'}, {',': 'PUNCT'}, {'\"': 'PUNCT'}, {',': 'PUNCT'}, {'\"': 'PUNCT'}, {\"'\": 'PUNCT'}, {'with': 'ADP'}, {\"'\": 'PROPN'}, {',': 'PUNCT'}, {'\"': 'PUNCT'}, {',': 'PUNCT'}, {\"'\": 'PUNCT'}, {'\"': 'PUNCT'}, {'\\\\': 'PROPN'}, {\"'\": 'PUNCT'}, {'\"': 'PUNCT'}, {',': 'PUNCT'}, {\"'\": 'PUNCT'}, {',': 'PUNCT'}, {'\"': 'PUNCT'}, {\"'\": 'PUNCT'}, {'Iri': 'PROPN'}, {\"'\": 'PROPN'}, {',': 'PUNCT'}, {'\"': 'PUNCT'}, {',': 'PUNCT'}, {\"'\": 'PUNCT'}, {'\"': 'PUNCT'}, {'\\\\': 'PROPN'}, {\"'\": 'PUNCT'}, {'\"': 'PUNCT'}, {',': 'PUNCT'}, {\"'\": 'PUNCT'}, {',': 'PUNCT'}, {'\"': 'PUNCT'}, {\"'\": 'PUNCT'}, {'and': 'CCONJ'}, {\"'\": 'NUM'}, {',': 'PUNCT'}, {'\"': 'PUNCT'}, {',': 'PUNCT'}, {'\"': 'PUNCT'}, {\"'\": 'PUNCT'}, {'ends': 'VERB'}, {\"'\": 'PUNCT'}, {',': 'PUNCT'}, {'\"': 'PUNCT'}, {',': 'PUNCT'}, {'\"': 'PUNCT'}, {\"'\": 'PUNCT'}, {'with': 'ADP'}, {\"'\": 'PROPN'}, {',': 'PUNCT'}, {'\"': 'PUNCT'}, {',': 'PUNCT'}, {\"'\": 'PUNCT'}, {'\"': 'PUNCT'}, {'\\\\': 'PROPN'}, {\"'\": 'PUNCT'}, {'\"': 'PUNCT'}, {',': 'PUNCT'}, {\"'\": 'PUNCT'}, {',': 'PUNCT'}, {'\"': 'PUNCT'}, {\"'\": 'PUNCT'}, {'a': 'DET'}, {\"'\": 'PUNCT'}, {',': 'PUNCT'}, {'\"': 'PUNCT'}, {',': 'PUNCT'}, {\"'\": 'PUNCT'}, {'\"': 'PUNCT'}, {'\\\\': 'PROPN'}, {\"'\": 'PUNCT'}, {'\"': 'PUNCT'}, {']': 'PUNCT'}, {\"'\": 'X'}, {']': 'PUNCT'}]\n",
            "Tokenized Description : ['PRON', 'ADP', 'PROPN', 'ADJ', 'X', 'AUX', 'SCONJ', 'DET', 'INTJ', 'VERB', 'ADV', 'PART', 'PUNCT', 'NOUN', 'CCONJ', 'NUM']\n"
          ]
        }
      ]
    },
    {
      "cell_type": "code",
      "source": [
        "for pat in p_d:\n",
        "   print({pat:p_d[pat]})"
      ],
      "metadata": {
        "id": "GkL8Eyale0hW",
        "colab": {
          "base_uri": "https://localhost:8080/"
        },
        "outputId": "dc21a9b6-3ddc-4049-e717-1177b7e6c905"
      },
      "execution_count": 59,
      "outputs": [
        {
          "output_type": "stream",
          "name": "stdout",
          "text": [
            "{'PRON': ['each', 'there', 'the', 'a', 'this', 'What', 'all', 'both']}\n",
            "{'ADP': ['within', 'for', 'of', 'by', 'in', 'above', 'from', 'over', 'with', 'at', 'than', 'between', 'across']}\n",
            "{'PROPN': ['Sum', \"'\", 'Width', 'Count', 'Group', 'Species', 'Se', 'Filter', 'Iri', '\\\\', 'January', 'Median', 'Rank', 'Length', 'Iris']}\n",
            "{'ADJ': ['Distinct', 'Maximum', 'high', 'bottom', 'middle', 'equal', 'Total', 'Lowest', 'Average', 'Select', 'Highest', 'total', 'Minimum', 'last', 'average', 'smallest', 'least', 'low', 'Petal', 'many', 'less', 'distinct', 'highest', 'greater', 'Top', 'unique']}\n",
            "{'X': [\"'\", '[', '0', ']', 'median', 'virginica', 'Length', '1', '10th', '2']}\n",
            "{'AUX': ['are', \"'s\", 'is']}\n",
            "{'SCONJ': ['where', 'how', 'How']}\n",
            "{'DET': ['a', 'the']}\n",
            "{'INTJ': ['%']}\n",
            "{'VERB': ['Find', 'contains', 'starting', 'ends', 'Calculate', 'percentile', 'Show', 'found', 'assuming', 'show', 'top', 'recorded', 'setosa', \"'\", 'Date', 'start', 'ica', 'starts', 'sorted', 'descending', 'ascending', 'dataset', 'Organize', 'Setosa', 'count', 'Aggregate', 'grouped']}\n",
            "{'ADV': ['alphabetically', 'only', 'Sort', 'exactly']}\n",
            "{'PART': [\"'\", 'not', 'to']}\n",
            "{'PUNCT': ['.', \"'\", ')', '\"', ']', '?', '(', ',']}\n",
            "{'NOUN': ['field', 'versicolor', 'Species', 'List', 'Lengths', 'entries', 'Widths', 'observation', 'color', 'value', 'number', 'month', 'Sepal', 'Number', 'Entries', 'name', 'Display', 'species', 'year', 'occurrences', 'flowers', 'points', 'Determine', 'types', 'flower', 'records', 'order', 'C', 'data']}\n",
            "{'CCONJ': ['or', 'and']}\n",
            "{'NUM': [\"'\", '5', '3', '10', '4']}\n"
          ]
        }
      ]
    },
    {
      "cell_type": "code",
      "source": [],
      "metadata": {
        "id": "juHioVPDgONj"
      },
      "execution_count": 59,
      "outputs": []
    },
    {
      "cell_type": "markdown",
      "source": [
        "# Formulas (Tableau) Patterns"
      ],
      "metadata": {
        "id": "EKPpleQ9e_9c"
      }
    },
    {
      "cell_type": "code",
      "source": [
        "p_t=dg_ent['Patterns_Formula(Tableau)']=get_patterns(dg_tok,dg_tok.columns[1])"
      ],
      "metadata": {
        "id": "y8oN90fPfI_T",
        "colab": {
          "base_uri": "https://localhost:8080/"
        },
        "outputId": "f8d9147a-8c45-4959-b528-6eb79aadbcc8"
      },
      "execution_count": 60,
      "outputs": [
        {
          "output_type": "stream",
          "name": "stdout",
          "text": [
            "[{'[': 'X'}, {'\"': 'PUNCT'}, {'[': 'X'}, {\"'\": 'VERB'}, {'SUM': 'NOUN'}, {\"'\": 'PUNCT'}, {',': 'PUNCT'}, {'\"': 'PUNCT'}, {',': 'PUNCT'}, {'\"': 'PUNCT'}, {\"'\": 'PUNCT'}, {'Sepal': 'NOUN'}, {\"'\": 'PUNCT'}, {',': 'PUNCT'}, {'\"': 'PUNCT'}, {',': 'PUNCT'}, {'\"': 'PUNCT'}, {\"'\": 'PUNCT'}, {'Length': 'X'}, {\"'\": 'PUNCT'}, {']': 'PUNCT'}, {'\"': 'PUNCT'}, {']': 'PUNCT'}, {'[': 'X'}, {'\"': 'PUNCT'}, {'[': 'X'}, {\"'\": 'X'}, {'AVG': 'PROPN'}, {\"'\": 'NUM'}, {',': 'PUNCT'}, {'\"': 'PUNCT'}, {',': 'PUNCT'}, {'\"': 'PUNCT'}, {\"'\": 'PUNCT'}, {'Sepal': 'NOUN'}, {\"'\": 'PUNCT'}, {',': 'PUNCT'}, {'\"': 'PUNCT'}, {',': 'PUNCT'}, {'\"': 'PUNCT'}, {\"'\": 'PUNCT'}, {'Width': 'PROPN'}, {\"'\": 'PUNCT'}, {']': 'PUNCT'}, {'\"': 'PUNCT'}, {']': 'PUNCT'}, {'[': 'X'}, {'\"': 'PUNCT'}, {'[': 'X'}, {\"'\": 'X'}, {'MEDIAN': 'PROPN'}, {\"'\": 'PUNCT'}, {',': 'PUNCT'}, {'\"': 'PUNCT'}, {',': 'PUNCT'}, {'\"': 'PUNCT'}, {\"'\": 'PUNCT'}, {'Petal': 'ADJ'}, {\"'\": 'PUNCT'}, {',': 'PUNCT'}, {'\"': 'PUNCT'}, {',': 'PUNCT'}, {'\"': 'PUNCT'}, {\"'\": 'PUNCT'}, {'Length': 'X'}, {\"'\": 'PUNCT'}, {']': 'PUNCT'}, {'\"': 'PUNCT'}, {']': 'PUNCT'}, {'[': 'X'}, {'\"': 'PUNCT'}, {'[': 'X'}, {\"'\": 'X'}, {'COUNT': 'PROPN'}, {\"'\": 'PUNCT'}, {']': 'PUNCT'}, {'\"': 'PUNCT'}, {']': 'PUNCT'}, {'[': 'X'}, {'\"': 'PUNCT'}, {'[': 'X'}, {\"'\": 'X'}, {'COUNT': 'PROPN'}, {\"'\": 'NUM'}, {',': 'PUNCT'}, {'\"': 'PUNCT'}, {',': 'PUNCT'}, {'\"': 'PUNCT'}, {\"'\": 'PUNCT'}, {'DISTINCT': 'VERB'}, {\"'\": 'PUNCT'}, {',': 'PUNCT'}, {'\"': 'PUNCT'}, {',': 'PUNCT'}, {'\"': 'PUNCT'}, {\"'\": 'PUNCT'}, {'Species': 'PROPN'}, {\"'\": 'PUNCT'}, {']': 'PUNCT'}, {'\"': 'PUNCT'}, {']': 'PUNCT'}, {'[': 'X'}, {'\"': 'PUNCT'}, {'[': 'X'}, {\"'\": 'X'}, {'MIN': 'PROPN'}, {\"'\": 'PROPN'}, {',': 'PUNCT'}, {'\"': 'PUNCT'}, {',': 'PUNCT'}, {'\"': 'PUNCT'}, {\"'\": 'PUNCT'}, {'Sepal': 'NOUN'}, {\"'\": 'PUNCT'}, {',': 'PUNCT'}, {'\"': 'PUNCT'}, {',': 'PUNCT'}, {'\"': 'PUNCT'}, {\"'\": 'PUNCT'}, {'Length': 'X'}, {\"'\": 'PUNCT'}, {']': 'PUNCT'}, {'\"': 'PUNCT'}, {']': 'PUNCT'}, {'[': 'X'}, {'\"': 'PUNCT'}, {'[': 'X'}, {\"'\": 'X'}, {'MAX': 'PROPN'}, {\"'\": 'PUNCT'}, {',': 'PUNCT'}, {'\"': 'PUNCT'}, {',': 'PUNCT'}, {'\"': 'PUNCT'}, {\"'\": 'PUNCT'}, {'Petal': 'ADJ'}, {\"'\": 'PUNCT'}, {',': 'PUNCT'}, {'\"': 'PUNCT'}, {',': 'PUNCT'}, {'\"': 'PUNCT'}, {\"'\": 'PUNCT'}, {'Width': 'PROPN'}, {\"'\": 'PUNCT'}, {']': 'PUNCT'}, {'\"': 'PUNCT'}, {']': 'PUNCT'}, {'[': 'X'}, {'\"': 'PUNCT'}, {'[': 'X'}, {\"'\": 'X'}, {'GROUP': 'PROPN'}, {\"'\": 'PUNCT'}, {',': 'PUNCT'}, {'\"': 'PUNCT'}, {',': 'PUNCT'}, {'\"': 'PUNCT'}, {\"'\": 'PUNCT'}, {'BY': 'ADP'}, {\"'\": 'NUM'}, {',': 'PUNCT'}, {'\"': 'PUNCT'}, {',': 'PUNCT'}, {'\"': 'PUNCT'}, {\"'\": 'PUNCT'}, {'Species': 'PROPN'}, {\"'\": 'PUNCT'}, {']': 'PUNCT'}, {'\"': 'PUNCT'}, {']': 'PUNCT'}, {'[': 'X'}, {'\"': 'PUNCT'}, {'[': 'X'}, {\"'\": 'X'}, {'ORDER': 'NOUN'}, {\"'\": 'PUNCT'}, {',': 'PUNCT'}, {'\"': 'PUNCT'}, {',': 'PUNCT'}, {'\"': 'PUNCT'}, {\"'\": 'PUNCT'}, {'BY': 'ADP'}, {\"'\": 'NUM'}, {',': 'PUNCT'}, {'\"': 'PUNCT'}, {',': 'PUNCT'}, {'\"': 'PUNCT'}, {\"'\": 'PUNCT'}, {'Sepal': 'NOUN'}, {\"'\": 'PUNCT'}, {',': 'PUNCT'}, {'\"': 'PUNCT'}, {',': 'PUNCT'}, {'\"': 'PUNCT'}, {\"'\": 'PUNCT'}, {'Length': 'PROPN'}, {\"'\": 'PUNCT'}, {',': 'PUNCT'}, {'\"': 'PUNCT'}, {',': 'PUNCT'}, {'\"': 'PUNCT'}, {\"'\": 'PUNCT'}, {'ASC': 'PROPN'}, {\"'\": 'PUNCT'}, {']': 'PUNCT'}, {'\"': 'PUNCT'}, {']': 'PUNCT'}, {'[': 'X'}, {'\"': 'PUNCT'}, {'[': 'X'}, {\"'\": 'X'}, {'ORDER': 'NOUN'}, {\"'\": 'PUNCT'}, {',': 'PUNCT'}, {'\"': 'PUNCT'}, {',': 'PUNCT'}, {'\"': 'PUNCT'}, {\"'\": 'PUNCT'}, {'BY': 'ADP'}, {\"'\": 'NUM'}, {',': 'PUNCT'}, {'\"': 'PUNCT'}, {',': 'PUNCT'}, {'\"': 'PUNCT'}, {\"'\": 'PUNCT'}, {'Species': 'NOUN'}, {\"'\": 'PUNCT'}, {',': 'PUNCT'}, {'\"': 'PUNCT'}, {',': 'PUNCT'}, {'\"': 'PUNCT'}, {\"'\": 'PUNCT'}, {'ASC': 'PROPN'}, {\"'\": 'PUNCT'}, {']': 'PUNCT'}, {'\"': 'PUNCT'}, {']': 'PUNCT'}, {'[': 'X'}, {'\"': 'PUNCT'}, {'[': 'X'}, {\"'\": 'X'}, {'Sepal': 'NOUN'}, {\"'\": 'PUNCT'}, {',': 'PUNCT'}, {'\"': 'PUNCT'}, {',': 'PUNCT'}, {'\"': 'PUNCT'}, {\"'\": 'PUNCT'}, {'Length': 'PROPN'}, {\"'\": 'PUNCT'}, {',': 'PUNCT'}, {'\"': 'PUNCT'}, {',': 'PUNCT'}, {'\"': 'PUNCT'}, {\"'\": 'PROPN'}, {'5': 'NUM'}, {\"'\": 'NUM'}, {',': 'PUNCT'}, {'\"': 'PUNCT'}, {',': 'PUNCT'}, {'\"': 'PUNCT'}, {\"'\": 'PUNCT'}, {'0': 'X'}, {\"'\": 'PUNCT'}, {']': 'PUNCT'}, {'\"': 'PUNCT'}, {']': 'PUNCT'}, {'[': 'X'}, {'\"': 'PUNCT'}, {'[': 'X'}, {\"'\": 'PUNCT'}, {'Petal': 'ADJ'}, {\"'\": 'PUNCT'}, {',': 'PUNCT'}, {'\"': 'PUNCT'}, {',': 'PUNCT'}, {'\"': 'PUNCT'}, {\"'\": 'PUNCT'}, {'Length': 'PROPN'}, {\"'\": 'PUNCT'}, {',': 'PUNCT'}, {'\"': 'PUNCT'}, {',': 'PUNCT'}, {'\"': 'PUNCT'}, {\"'\": 'PUNCT'}, {'BETWEEN': 'ADP'}, {\"'\": 'PUNCT'}, {',': 'PUNCT'}, {'\"': 'PUNCT'}, {',': 'PUNCT'}, {'\"': 'PUNCT'}, {\"'\": 'PROPN'}, {'1': 'X'}, {\"'\": 'NUM'}, {',': 'PUNCT'}, {'\"': 'PUNCT'}, {',': 'PUNCT'}, {'\"': 'PUNCT'}, {\"'\": 'PROPN'}, {'5': 'NUM'}, {\"'\": 'NUM'}, {',': 'PUNCT'}, {'\"': 'PUNCT'}, {',': 'PUNCT'}, {'\"': 'PUNCT'}, {\"'\": 'PUNCT'}, {'AND': 'CCONJ'}, {\"'\": 'NUM'}, {',': 'PUNCT'}, {'\"': 'PUNCT'}, {',': 'PUNCT'}, {'\"': 'PUNCT'}, {\"'\": 'PROPN'}, {'2': 'X'}, {\"'\": 'NUM'}, {',': 'PUNCT'}, {'\"': 'PUNCT'}, {',': 'PUNCT'}, {'\"': 'PUNCT'}, {\"'\": 'PROPN'}, {'5': 'NUM'}, {\"'\": 'NUM'}, {']': 'PUNCT'}, {'\"': 'PUNCT'}, {']': 'PUNCT'}, {'[': 'X'}, {'\"': 'PUNCT'}, {'[': 'X'}, {\"'\": 'PROPN'}, {'TOP': 'NUM'}, {\"'\": 'PUNCT'}, {',': 'PUNCT'}, {'\"': 'PUNCT'}, {',': 'PUNCT'}, {'\"': 'PUNCT'}, {\"'\": 'PROPN'}, {'3': 'NUM'}, {\"'\": 'NUM'}, {',': 'PUNCT'}, {'\"': 'PUNCT'}, {',': 'PUNCT'}, {'\"': 'PUNCT'}, {\"'\": 'PUNCT'}, {'BY': 'ADP'}, {\"'\": 'NUM'}, {',': 'PUNCT'}, {'\"': 'PUNCT'}, {',': 'PUNCT'}, {'\"': 'PUNCT'}, {\"'\": 'PUNCT'}, {'Sepal': 'NOUN'}, {\"'\": 'PUNCT'}, {',': 'PUNCT'}, {'\"': 'PUNCT'}, {',': 'PUNCT'}, {'\"': 'PUNCT'}, {\"'\": 'PUNCT'}, {'Width': 'PROPN'}, {\"'\": 'PUNCT'}, {',': 'PUNCT'}, {'\"': 'PUNCT'}, {',': 'PUNCT'}, {'\"': 'PUNCT'}, {\"'\": 'PUNCT'}, {'DESC': 'VERB'}, {\"'\": 'PUNCT'}, {']': 'PUNCT'}, {'\"': 'PUNCT'}, {']': 'PUNCT'}, {'[': 'X'}, {'\"': 'PUNCT'}, {'[': 'X'}, {\"'\": 'X'}, {'Species': 'NOUN'}, {\"'\": 'PUNCT'}, {',': 'PUNCT'}, {'\"': 'PUNCT'}, {',': 'PUNCT'}, {'\"': 'PUNCT'}, {\"'\": 'PUNCT'}, {'Setosa': 'PROPN'}, {\"'\": 'PUNCT'}, {']': 'PUNCT'}, {'\"': 'PUNCT'}, {']': 'PUNCT'}, {'[': 'X'}, {'\"': 'PUNCT'}, {'[': 'X'}, {\"'\": 'X'}, {'Species': 'NOUN'}, {\"'\": 'PUNCT'}, {',': 'PUNCT'}, {'\"': 'PUNCT'}, {',': 'PUNCT'}, {'\"': 'PUNCT'}, {\"'\": 'PUNCT'}, {'STARTS': 'PROPN'}, {\"'\": 'NUM'}, {',': 'PUNCT'}, {'\"': 'PUNCT'}, {',': 'PUNCT'}, {'\"': 'PUNCT'}, {\"'\": 'PUNCT'}, {'WITH': 'ADP'}, {\"'\": 'NUM'}, {',': 'PUNCT'}, {'\"': 'PUNCT'}, {',': 'PUNCT'}, {'\"': 'PUNCT'}, {\"'\": 'PUNCT'}, {'Se': 'PROPN'}, {\"'\": 'NUM'}, {']': 'PUNCT'}, {'\"': 'PUNCT'}, {']': 'PUNCT'}, {'[': 'X'}, {'\"': 'PUNCT'}, {'[': 'X'}, {\"'\": 'VERB'}, {'SUM': 'NOUN'}, {\"'\": 'PUNCT'}, {',': 'PUNCT'}, {'\"': 'PUNCT'}, {',': 'PUNCT'}, {'\"': 'PUNCT'}, {\"'\": 'PUNCT'}, {'Petal': 'ADJ'}, {\"'\": 'PUNCT'}, {',': 'PUNCT'}, {'\"': 'PUNCT'}, {',': 'PUNCT'}, {'\"': 'PUNCT'}, {\"'\": 'PUNCT'}, {'Length': 'X'}, {\"'\": 'PUNCT'}, {']': 'PUNCT'}, {'\"': 'PUNCT'}, {']': 'PUNCT'}, {'[': 'X'}, {'\"': 'PUNCT'}, {'[': 'X'}, {\"'\": 'X'}, {'AVG': 'PROPN'}, {\"'\": 'NUM'}, {',': 'PUNCT'}, {'\"': 'PUNCT'}, {',': 'PUNCT'}, {'\"': 'PUNCT'}, {\"'\": 'PUNCT'}, {'Petal': 'ADJ'}, {\"'\": 'PUNCT'}, {',': 'PUNCT'}, {'\"': 'PUNCT'}, {',': 'PUNCT'}, {'\"': 'PUNCT'}, {\"'\": 'PUNCT'}, {'Width': 'PROPN'}, {\"'\": 'PUNCT'}, {']': 'PUNCT'}, {'\"': 'PUNCT'}, {']': 'PUNCT'}, {'[': 'X'}, {'\"': 'PUNCT'}, {'[': 'X'}, {\"'\": 'X'}, {'MEDIAN': 'PROPN'}, {\"'\": 'PUNCT'}, {',': 'PUNCT'}, {'\"': 'PUNCT'}, {',': 'PUNCT'}, {'\"': 'PUNCT'}, {\"'\": 'PUNCT'}, {'Sepal': 'NOUN'}, {\"'\": 'PUNCT'}, {',': 'PUNCT'}, {'\"': 'PUNCT'}, {',': 'PUNCT'}, {'\"': 'PUNCT'}, {\"'\": 'PUNCT'}, {'Width': 'PROPN'}, {\"'\": 'PUNCT'}, {']': 'PUNCT'}, {'\"': 'PUNCT'}, {']': 'PUNCT'}, {'[': 'X'}, {'\"': 'PUNCT'}, {'[': 'X'}, {\"'\": 'X'}, {'COUNT': 'PROPN'}, {\"'\": 'NUM'}, {',': 'PUNCT'}, {'\"': 'PUNCT'}, {',': 'PUNCT'}, {'\"': 'PUNCT'}, {\"'\": 'PUNCT'}, {'Sepal': 'NOUN'}, {\"'\": 'PUNCT'}, {',': 'PUNCT'}, {'\"': 'PUNCT'}, {',': 'PUNCT'}, {'\"': 'PUNCT'}, {\"'\": 'PUNCT'}, {'Length': 'X'}, {\"'\": 'PUNCT'}, {']': 'PUNCT'}, {'\"': 'PUNCT'}, {']': 'PUNCT'}, {'[': 'X'}, {'\"': 'PUNCT'}, {'[': 'X'}, {\"'\": 'VERB'}, {'COUNTD': 'PROPN'}, {\"'\": 'PUNCT'}, {',': 'PUNCT'}, {'\"': 'PUNCT'}, {',': 'PUNCT'}, {'\"': 'PUNCT'}, {\"'\": 'PUNCT'}, {'Species': 'PROPN'}, {\"'\": 'PUNCT'}, {']': 'PUNCT'}, {'\"': 'PUNCT'}, {']': 'PUNCT'}, {'[': 'X'}, {'\"': 'PUNCT'}, {'[': 'X'}, {\"'\": 'X'}, {'MIN': 'PROPN'}, {\"'\": 'PROPN'}, {',': 'PUNCT'}, {'\"': 'PUNCT'}, {',': 'PUNCT'}, {'\"': 'PUNCT'}, {\"'\": 'PUNCT'}, {'Sepal': 'NOUN'}, {\"'\": 'PUNCT'}, {',': 'PUNCT'}, {'\"': 'PUNCT'}, {',': 'PUNCT'}, {'\"': 'PUNCT'}, {\"'\": 'PUNCT'}, {'Length': 'X'}, {\"'\": 'PUNCT'}, {']': 'PUNCT'}, {'\"': 'PUNCT'}, {']': 'PUNCT'}, {'[': 'X'}, {'\"': 'PUNCT'}, {'[': 'X'}, {\"'\": 'X'}, {'MAX': 'PROPN'}, {\"'\": 'PUNCT'}, {',': 'PUNCT'}, {'\"': 'PUNCT'}, {',': 'PUNCT'}, {'\"': 'PUNCT'}, {\"'\": 'PUNCT'}, {'Petal': 'ADJ'}, {\"'\": 'PUNCT'}, {',': 'PUNCT'}, {'\"': 'PUNCT'}, {',': 'PUNCT'}, {'\"': 'PUNCT'}, {\"'\": 'PUNCT'}, {'Width': 'PROPN'}, {\"'\": 'PUNCT'}, {']': 'PUNCT'}, {'\"': 'PUNCT'}, {']': 'PUNCT'}, {'[': 'X'}, {'\"': 'PUNCT'}, {'[': 'X'}, {\"'\": 'VERB'}, {'SORT': 'ADV'}, {\"'\": 'NUM'}, {',': 'PUNCT'}, {'\"': 'PUNCT'}, {',': 'PUNCT'}, {'\"': 'PUNCT'}, {\"'\": 'PUNCT'}, {'Species': 'NOUN'}, {\"'\": 'PUNCT'}, {',': 'PUNCT'}, {'\"': 'PUNCT'}, {',': 'PUNCT'}, {'\"': 'PUNCT'}, {\"'\": 'PUNCT'}, {'DESC': 'VERB'}, {\"'\": 'PUNCT'}, {']': 'PUNCT'}, {'\"': 'PUNCT'}, {']': 'PUNCT'}, {'[': 'X'}, {'\"': 'PUNCT'}, {'[': 'X'}, {\"'\": 'VERB'}, {'SORT': 'ADV'}, {\"'\": 'NUM'}, {',': 'PUNCT'}, {'\"': 'PUNCT'}, {',': 'PUNCT'}, {'\"': 'PUNCT'}, {\"'\": 'PUNCT'}, {'Sepal': 'NOUN'}, {\"'\": 'PUNCT'}, {',': 'PUNCT'}, {'\"': 'PUNCT'}, {',': 'PUNCT'}, {'\"': 'PUNCT'}, {\"'\": 'PUNCT'}, {'Length': 'PROPN'}, {\"'\": 'PUNCT'}, {',': 'PUNCT'}, {'\"': 'PUNCT'}, {',': 'PUNCT'}, {'\"': 'PUNCT'}, {\"'\": 'PUNCT'}, {'ASC': 'PROPN'}, {\"'\": 'PUNCT'}, {']': 'PUNCT'}, {'\"': 'PUNCT'}, {']': 'PUNCT'}, {'[': 'X'}, {'\"': 'PUNCT'}, {'[': 'X'}, {\"'\": 'X'}, {'Sepal': 'NOUN'}, {\"'\": 'PUNCT'}, {',': 'PUNCT'}, {'\"': 'PUNCT'}, {',': 'PUNCT'}, {'\"': 'PUNCT'}, {\"'\": 'PUNCT'}, {'Length': 'PROPN'}, {\"'\": 'PUNCT'}, {',': 'PUNCT'}, {'\"': 'PUNCT'}, {',': 'PUNCT'}, {'\"': 'PUNCT'}, {\"'\": 'PROPN'}, {'4': 'NUM'}, {\"'\": 'NUM'}, {',': 'PUNCT'}, {'\"': 'PUNCT'}, {',': 'PUNCT'}, {'\"': 'PUNCT'}, {\"'\": 'PROPN'}, {'5': 'NUM'}, {\"'\": 'NUM'}, {']': 'PUNCT'}, {'\"': 'PUNCT'}, {']': 'PUNCT'}, {'[': 'X'}, {'\"': 'PUNCT'}, {'[': 'X'}, {\"'\": 'PUNCT'}, {'Petal': 'ADJ'}, {\"'\": 'PUNCT'}, {',': 'PUNCT'}, {'\"': 'PUNCT'}, {',': 'PUNCT'}, {'\"': 'PUNCT'}, {\"'\": 'PUNCT'}, {'Width': 'PROPN'}, {\"'\": 'PUNCT'}, {',': 'PUNCT'}, {'\"': 'PUNCT'}, {',': 'PUNCT'}, {'\"': 'PUNCT'}, {\"'\": 'PROPN'}, {'2': 'X'}, {\"'\": 'NUM'}, {',': 'PUNCT'}, {'\"': 'PUNCT'}, {',': 'PUNCT'}, {'\"': 'PUNCT'}, {\"'\": 'PUNCT'}, {'0': 'X'}, {\"'\": 'PUNCT'}, {']': 'PUNCT'}, {'\"': 'PUNCT'}, {']': 'PUNCT'}, {'[': 'X'}, {'\"': 'PUNCT'}, {'[': 'X'}, {\"'\": 'X'}, {'Sepal': 'NOUN'}, {\"'\": 'PUNCT'}, {',': 'PUNCT'}, {'\"': 'PUNCT'}, {',': 'PUNCT'}, {'\"': 'PUNCT'}, {\"'\": 'PUNCT'}, {'Width': 'PROPN'}, {\"'\": 'PUNCT'}, {',': 'PUNCT'}, {'\"': 'PUNCT'}, {',': 'PUNCT'}, {'\"': 'PUNCT'}, {\"'\": 'PROPN'}, {'3': 'NUM'}, {\"'\": 'NUM'}, {',': 'PUNCT'}, {'\"': 'PUNCT'}, {',': 'PUNCT'}, {'\"': 'PUNCT'}, {\"'\": 'PUNCT'}, {'0': 'X'}, {\"'\": 'PUNCT'}, {']': 'PUNCT'}, {'\"': 'PUNCT'}, {']': 'PUNCT'}, {'[': 'X'}, {'\"': 'PUNCT'}, {'[': 'X'}, {\"'\": 'VERB'}, {'ENDSWITH': 'NOUN'}, {\"'\": 'PUNCT'}, {',': 'PUNCT'}, {'\"': 'PUNCT'}, {',': 'PUNCT'}, {'\"': 'PUNCT'}, {\"'\": 'PUNCT'}, {'Species': 'NOUN'}, {\"'\": 'PUNCT'}, {',': 'PUNCT'}, {'\"': 'PUNCT'}, {',': 'PUNCT'}, {'\"': 'PUNCT'}, {\"'\": 'PUNCT'}, {'ica': 'X'}, {\"'\": 'PUNCT'}, {']': 'PUNCT'}, {'\"': 'PUNCT'}, {']': 'PUNCT'}, {'[': 'X'}, {'\"': 'PUNCT'}, {'[': 'X'}, {\"'\": 'X'}, {'Sepal': 'NOUN'}, {\"'\": 'PUNCT'}, {',': 'PUNCT'}, {'\"': 'PUNCT'}, {',': 'PUNCT'}, {'\"': 'PUNCT'}, {\"'\": 'PUNCT'}, {'Length': 'PROPN'}, {\"'\": 'PUNCT'}, {',': 'PUNCT'}, {'\"': 'PUNCT'}, {',': 'PUNCT'}, {'\"': 'PUNCT'}, {\"'\": 'PROPN'}, {'5': 'NUM'}, {\"'\": 'NUM'}, {',': 'PUNCT'}, {'\"': 'PUNCT'}, {',': 'PUNCT'}, {'\"': 'PUNCT'}, {\"'\": 'PUNCT'}, {'0': 'X'}, {\"'\": 'PUNCT'}, {']': 'PUNCT'}, {'\"': 'PUNCT'}, {']': 'PUNCT'}, {'[': 'X'}, {'\"': 'PUNCT'}, {'[': 'X'}, {\"'\": 'X'}, {'INDEX': 'PROPN'}, {\"'\": 'PUNCT'}, {',': 'PUNCT'}, {'\"': 'PUNCT'}, {',': 'PUNCT'}, {'\"': 'PUNCT'}, {\"'\": 'PROPN'}, {'5': 'NUM'}, {\"'\": 'NUM'}, {',': 'PUNCT'}, {'\"': 'PUNCT'}, {',': 'PUNCT'}, {'\"': 'PUNCT'}, {\"'\": 'PUNCT'}, {'SORT': 'ADV'}, {\"'\": 'NUM'}, {',': 'PUNCT'}, {'\"': 'PUNCT'}, {',': 'PUNCT'}, {'\"': 'PUNCT'}, {\"'\": 'PUNCT'}, {'BY': 'ADP'}, {\"'\": 'NUM'}, {',': 'PUNCT'}, {'\"': 'PUNCT'}, {',': 'PUNCT'}, {'\"': 'PUNCT'}, {\"'\": 'PUNCT'}, {'SUM': 'VERB'}, {\"'\": 'PUNCT'}, {',': 'PUNCT'}, {'\"': 'PUNCT'}, {',': 'PUNCT'}, {'\"': 'PUNCT'}, {\"'\": 'PUNCT'}, {'Sepal': 'NOUN'}, {\"'\": 'PUNCT'}, {',': 'PUNCT'}, {'\"': 'PUNCT'}, {',': 'PUNCT'}, {'\"': 'PUNCT'}, {\"'\": 'PUNCT'}, {'Width': 'PROPN'}, {\"'\": 'PUNCT'}, {',': 'PUNCT'}, {'\"': 'PUNCT'}, {',': 'PUNCT'}, {'\"': 'PUNCT'}, {\"'\": 'PUNCT'}, {'DESC': 'VERB'}, {\"'\": 'PUNCT'}, {']': 'PUNCT'}, {'\"': 'PUNCT'}, {']': 'PUNCT'}, {'[': 'X'}, {'\"': 'PUNCT'}, {'[': 'X'}, {\"'\": 'X'}, {'INDEX': 'PROPN'}, {\"'\": 'PUNCT'}, {',': 'PUNCT'}, {'\"': 'PUNCT'}, {',': 'PUNCT'}, {'\"': 'PUNCT'}, {\"'\": 'PROPN'}, {'3': 'NUM'}, {\"'\": 'NUM'}, {',': 'PUNCT'}, {'\"': 'PUNCT'}, {',': 'PUNCT'}, {'\"': 'PUNCT'}, {\"'\": 'PUNCT'}, {'SORT': 'ADV'}, {\"'\": 'NUM'}, {',': 'PUNCT'}, {'\"': 'PUNCT'}, {',': 'PUNCT'}, {'\"': 'PUNCT'}, {\"'\": 'PUNCT'}, {'BY': 'ADP'}, {\"'\": 'NUM'}, {',': 'PUNCT'}, {'\"': 'PUNCT'}, {',': 'PUNCT'}, {'\"': 'PUNCT'}, {\"'\": 'PUNCT'}, {'Petal': 'ADJ'}, {\"'\": 'PUNCT'}, {',': 'PUNCT'}, {'\"': 'PUNCT'}, {',': 'PUNCT'}, {'\"': 'PUNCT'}, {\"'\": 'PUNCT'}, {'Length': 'PROPN'}, {\"'\": 'PUNCT'}, {',': 'PUNCT'}, {'\"': 'PUNCT'}, {',': 'PUNCT'}, {'\"': 'PUNCT'}, {\"'\": 'PUNCT'}, {'ASC': 'PROPN'}, {\"'\": 'PUNCT'}, {']': 'PUNCT'}, {'\"': 'PUNCT'}, {']': 'PUNCT'}, {'[': 'X'}, {'\"': 'PUNCT'}, {'[': 'X'}, {\"'\": 'VERB'}, {'IF': 'SCONJ'}, {\"'\": 'NUM'}, {',': 'PUNCT'}, {'\"': 'PUNCT'}, {',': 'PUNCT'}, {'\"': 'PUNCT'}, {\"'\": 'PUNCT'}, {'Petal': 'ADJ'}, {\"'\": 'PUNCT'}, {',': 'PUNCT'}, {'\"': 'PUNCT'}, {',': 'PUNCT'}, {'\"': 'PUNCT'}, {\"'\": 'PUNCT'}, {'Length': 'PROPN'}, {\"'\": 'PUNCT'}, {',': 'PUNCT'}, {'\"': 'PUNCT'}, {',': 'PUNCT'}, {'\"': 'PUNCT'}, {\"'\": 'PROPN'}, {'4': 'NUM'}, {\"'\": 'NUM'}, {',': 'PUNCT'}, {'\"': 'PUNCT'}, {',': 'PUNCT'}, {'\"': 'PUNCT'}, {\"'\": 'PUNCT'}, {'AND': 'CCONJ'}, {\"'\": 'NUM'}, {',': 'PUNCT'}, {'\"': 'PUNCT'}, {',': 'PUNCT'}, {'\"': 'PUNCT'}, {\"'\": 'PUNCT'}, {'Petal': 'ADJ'}, {\"'\": 'PUNCT'}, {',': 'PUNCT'}, {'\"': 'PUNCT'}, {',': 'PUNCT'}, {'\"': 'PUNCT'}, {\"'\": 'PUNCT'}, {'Length': 'PROPN'}, {\"'\": 'PUNCT'}, {',': 'PUNCT'}, {'\"': 'PUNCT'}, {',': 'PUNCT'}, {'\"': 'PUNCT'}, {\"'\": 'PROPN'}, {'5': 'NUM'}, {\"'\": 'NUM'}, {',': 'PUNCT'}, {'\"': 'PUNCT'}, {',': 'PUNCT'}, {'\"': 'PUNCT'}, {\"'\": 'PUNCT'}, {'THEN': 'ADV'}, {\"'\": 'NUM'}, {',': 'PUNCT'}, {'\"': 'PUNCT'}, {',': 'PUNCT'}, {'\"': 'PUNCT'}, {\"'\": 'PROPN'}, {'1': 'X'}, {\"'\": 'NUM'}, {',': 'PUNCT'}, {'\"': 'PUNCT'}, {',': 'PUNCT'}, {'\"': 'PUNCT'}, {\"'\": 'PUNCT'}, {'ELSE': 'ADV'}, {\"'\": 'NUM'}, {',': 'PUNCT'}, {'\"': 'PUNCT'}, {',': 'PUNCT'}, {'\"': 'PUNCT'}, {\"'\": 'PUNCT'}, {'0': 'X'}, {\"'\": 'PUNCT'}, {',': 'PUNCT'}, {'\"': 'PUNCT'}, {',': 'PUNCT'}, {'\"': 'PUNCT'}, {\"'\": 'PUNCT'}, {'END': 'PROPN'}, {\"'\": 'PUNCT'}, {']': 'PUNCT'}, {'\"': 'PUNCT'}, {']': 'PUNCT'}, {'[': 'X'}, {'\"': 'PUNCT'}, {'[': 'X'}, {\"'\": 'VERB'}, {'DATETRUNC': 'PROPN'}, {\"'\": 'NUM'}, {',': 'PUNCT'}, {'\"': 'PUNCT'}, {',': 'PUNCT'}, {'\"': 'PUNCT'}, {\"'\": 'PUNCT'}, {'month': 'NOUN'}, {\"'\": 'PUNCT'}, {',': 'PUNCT'}, {'\"': 'PUNCT'}, {',': 'PUNCT'}, {'\"': 'PUNCT'}, {\"'\": 'PUNCT'}, {'Date': 'PROPN'}, {\"'\": 'PUNCT'}, {']': 'PUNCT'}, {'\"': 'PUNCT'}, {']': 'PUNCT'}, {'[': 'X'}, {'\"': 'PUNCT'}, {'[': 'X'}, {\"'\": 'X'}, {'YEAR': 'NOUN'}, {\"'\": 'PUNCT'}, {',': 'PUNCT'}, {'\"': 'PUNCT'}, {',': 'PUNCT'}, {'\"': 'PUNCT'}, {\"'\": 'PUNCT'}, {'Date': 'VERB'}, {\"'\": 'PUNCT'}, {',': 'PUNCT'}, {'\"': 'PUNCT'}, {',': 'PUNCT'}, {'\"': 'PUNCT'}, {\"'\": 'PUNCT'}, {'YEAR': 'NOUN'}, {\"'\": 'PUNCT'}, {',': 'PUNCT'}, {'\"': 'PUNCT'}, {',': 'PUNCT'}, {'\"': 'PUNCT'}, {\"'\": 'PUNCT'}, {'TODAY': 'NOUN'}, {\"'\": 'PUNCT'}, {',': 'PUNCT'}, {'\"': 'PUNCT'}, {',': 'PUNCT'}, {'\"': 'PUNCT'}, {\"'\": 'PROPN'}, {'1': 'X'}, {\"'\": 'NUM'}, {']': 'PUNCT'}, {'\"': 'PUNCT'}, {']': 'PUNCT'}, {'[': 'X'}, {'\"': 'PUNCT'}, {'[': 'X'}, {\"'\": 'X'}, {'Date': 'NOUN'}, {\"'\": 'NUM'}, {',': 'PUNCT'}, {'\"': 'PUNCT'}, {',': 'PUNCT'}, {'\"': 'PUNCT'}, {\"'\": 'PUNCT'}, {'DATETRUNC': 'PROPN'}, {\"'\": 'NUM'}, {',': 'PUNCT'}, {'\"': 'PUNCT'}, {',': 'PUNCT'}, {'\"': 'PUNCT'}, {\"'\": 'PUNCT'}, {'year': 'NOUN'}, {\"'\": 'PUNCT'}, {',': 'PUNCT'}, {'\"': 'PUNCT'}, {',': 'PUNCT'}, {'\"': 'PUNCT'}, {\"'\": 'PUNCT'}, {'TODAY': 'NOUN'}, {\"'\": 'PUNCT'}, {']': 'PUNCT'}, {'\"': 'PUNCT'}, {']': 'PUNCT'}, {'[': 'X'}, {'\"': 'PUNCT'}, {'[': 'X'}, {\"'\": 'X'}, {'AVG': 'PROPN'}, {\"'\": 'NUM'}, {',': 'PUNCT'}, {'\"': 'PUNCT'}, {',': 'PUNCT'}, {'\"': 'PUNCT'}, {\"'\": 'PUNCT'}, {'Sepal': 'NOUN'}, {\"'\": 'PUNCT'}, {',': 'PUNCT'}, {'\"': 'PUNCT'}, {',': 'PUNCT'}, {'\"': 'PUNCT'}, {\"'\": 'PUNCT'}, {'Length': 'PROPN'}, {\"'\": 'PUNCT'}, {',': 'PUNCT'}, {'\"': 'PUNCT'}, {',': 'PUNCT'}, {'\"': 'PUNCT'}, {\"'\": 'PUNCT'}, {'GROUP': 'PROPN'}, {\"'\": 'PUNCT'}, {',': 'PUNCT'}, {'\"': 'PUNCT'}, {',': 'PUNCT'}, {'\"': 'PUNCT'}, {\"'\": 'PUNCT'}, {'BY': 'ADP'}, {\"'\": 'NUM'}, {',': 'PUNCT'}, {'\"': 'PUNCT'}, {',': 'PUNCT'}, {'\"': 'PUNCT'}, {\"'\": 'PUNCT'}, {'Species': 'NOUN'}, {\"'\": 'PUNCT'}, {',': 'PUNCT'}, {'\"': 'PUNCT'}, {',': 'PUNCT'}, {'\"': 'PUNCT'}, {\"'\": 'PUNCT'}, {'SORT': 'ADV'}, {\"'\": 'NUM'}, {',': 'PUNCT'}, {'\"': 'PUNCT'}, {',': 'PUNCT'}, {'\"': 'PUNCT'}, {\"'\": 'PUNCT'}, {'BY': 'ADP'}, {\"'\": 'NUM'}, {',': 'PUNCT'}, {'\"': 'PUNCT'}, {',': 'PUNCT'}, {'\"': 'PUNCT'}, {\"'\": 'PUNCT'}, {'Species': 'NOUN'}, {\"'\": 'PUNCT'}, {',': 'PUNCT'}, {'\"': 'PUNCT'}, {',': 'PUNCT'}, {'\"': 'PUNCT'}, {\"'\": 'PUNCT'}, {'ASC': 'PROPN'}, {\"'\": 'PUNCT'}, {']': 'PUNCT'}, {'\"': 'PUNCT'}, {']': 'PUNCT'}, {'[': 'X'}, {'\"': 'PUNCT'}, {'[': 'X'}, {\"'\": 'VERB'}, {'COUNTD': 'PROPN'}, {\"'\": 'PUNCT'}, {',': 'PUNCT'}, {'\"': 'PUNCT'}, {',': 'PUNCT'}, {'\"': 'PUNCT'}, {\"'\": 'PUNCT'}, {'IF': 'SCONJ'}, {\"'\": 'NUM'}, {',': 'PUNCT'}, {'\"': 'PUNCT'}, {',': 'PUNCT'}, {'\"': 'PUNCT'}, {\"'\": 'PUNCT'}, {'LEFT': 'PROPN'}, {\"'\": 'PUNCT'}, {',': 'PUNCT'}, {'\"': 'PUNCT'}, {',': 'PUNCT'}, {'\"': 'PUNCT'}, {\"'\": 'PUNCT'}, {'Species': 'NOUN'}, {\"'\": 'PUNCT'}, {',': 'PUNCT'}, {'\"': 'PUNCT'}, {',': 'PUNCT'}, {'\"': 'PUNCT'}, {\"'\": 'PROPN'}, {'1': 'X'}, {\"'\": 'NUM'}, {',': 'PUNCT'}, {'\"': 'PUNCT'}, {',': 'PUNCT'}, {'\"': 'PUNCT'}, {\"'\": 'PUNCT'}, {'C': 'NOUN'}, {\"'\": 'NUM'}, {',': 'PUNCT'}, {'\"': 'PUNCT'}, {',': 'PUNCT'}, {'\"': 'PUNCT'}, {\"'\": 'PUNCT'}, {'THEN': 'ADV'}, {\"'\": 'NUM'}, {',': 'PUNCT'}, {'\"': 'PUNCT'}, {',': 'PUNCT'}, {'\"': 'PUNCT'}, {\"'\": 'PUNCT'}, {'Species': 'NOUN'}, {\"'\": 'PUNCT'}, {',': 'PUNCT'}, {'\"': 'PUNCT'}, {',': 'PUNCT'}, {'\"': 'PUNCT'}, {\"'\": 'PUNCT'}, {'ELSE': 'ADV'}, {\"'\": 'NUM'}, {',': 'PUNCT'}, {'\"': 'PUNCT'}, {',': 'PUNCT'}, {'\"': 'PUNCT'}, {\"'\": 'PUNCT'}, {'NULL': 'VERB'}, {\"'\": 'PUNCT'}, {',': 'PUNCT'}, {'\"': 'PUNCT'}, {',': 'PUNCT'}, {'\"': 'PUNCT'}, {\"'\": 'PUNCT'}, {'END': 'PROPN'}, {\"'\": 'PUNCT'}, {']': 'PUNCT'}, {'\"': 'PUNCT'}, {']': 'PUNCT'}, {'[': 'X'}, {'\"': 'PUNCT'}, {'[': 'X'}, {\"'\": 'PUNCT'}, {'Petal': 'ADJ'}, {\"'\": 'PUNCT'}, {',': 'PUNCT'}, {'\"': 'PUNCT'}, {',': 'PUNCT'}, {'\"': 'PUNCT'}, {\"'\": 'PUNCT'}, {'Length': 'PROPN'}, {\"'\": 'PUNCT'}, {',': 'PUNCT'}, {'\"': 'PUNCT'}, {',': 'PUNCT'}, {'\"': 'PUNCT'}, {\"'\": 'PROPN'}, {'4': 'NUM'}, {\"'\": 'NUM'}, {',': 'PUNCT'}, {'\"': 'PUNCT'}, {',': 'PUNCT'}, {'\"': 'PUNCT'}, {\"'\": 'PUNCT'}, {'0': 'X'}, {\"'\": 'PUNCT'}, {',': 'PUNCT'}, {'\"': 'PUNCT'}, {',': 'PUNCT'}, {'\"': 'PUNCT'}, {\"'\": 'PUNCT'}, {'AND': 'CCONJ'}, {\"'\": 'NUM'}, {',': 'PUNCT'}, {'\"': 'PUNCT'}, {',': 'PUNCT'}, {'\"': 'PUNCT'}, {\"'\": 'PUNCT'}, {'Sepal': 'NOUN'}, {\"'\": 'PUNCT'}, {',': 'PUNCT'}, {'\"': 'PUNCT'}, {',': 'PUNCT'}, {'\"': 'PUNCT'}, {\"'\": 'PUNCT'}, {'Length': 'PROPN'}, {\"'\": 'PUNCT'}, {',': 'PUNCT'}, {'\"': 'PUNCT'}, {',': 'PUNCT'}, {'\"': 'PUNCT'}, {\"'\": 'PROPN'}, {'4': 'NUM'}, {\"'\": 'NUM'}, {',': 'PUNCT'}, {'\"': 'PUNCT'}, {',': 'PUNCT'}, {'\"': 'PUNCT'}, {\"'\": 'PUNCT'}, {'0': 'X'}, {\"'\": 'PUNCT'}, {']': 'PUNCT'}, {'\"': 'PUNCT'}, {']': 'PUNCT'}, {'[': 'X'}, {'\"': 'PUNCT'}, {'[': 'X'}, {\"'\": 'NOUN'}, {'RANK_PERCENTILE': 'AUX'}, {\"'\": 'PUNCT'}, {',': 'PUNCT'}, {'\"': 'PUNCT'}, {',': 'PUNCT'}, {'\"': 'PUNCT'}, {\"'\": 'PUNCT'}, {'Petal': 'ADJ'}, {\"'\": 'PUNCT'}, {',': 'PUNCT'}, {'\"': 'PUNCT'}, {',': 'PUNCT'}, {'\"': 'PUNCT'}, {\"'\": 'PUNCT'}, {'Width': 'PROPN'}, {\"'\": 'PUNCT'}, {',': 'PUNCT'}, {'\"': 'PUNCT'}, {',': 'PUNCT'}, {'\"': 'PUNCT'}, {\"'\": 'PUNCT'}, {'0': 'X'}, {\"'\": 'PUNCT'}, {',': 'PUNCT'}, {'\"': 'PUNCT'}, {',': 'PUNCT'}, {'\"': 'PUNCT'}, {\"'\": 'PROPN'}, {'1': 'X'}, {\"'\": 'NUM'}, {']': 'PUNCT'}, {'\"': 'PUNCT'}, {']': 'PUNCT'}, {'[': 'X'}, {'\"': 'PUNCT'}, {'[': 'X'}, {\"'\": 'VERB'}, {'SUM': 'NOUN'}, {\"'\": 'PUNCT'}, {',': 'PUNCT'}, {'\"': 'PUNCT'}, {',': 'PUNCT'}, {'\"': 'PUNCT'}, {\"'\": 'PUNCT'}, {'Sepal': 'NOUN'}, {\"'\": 'PUNCT'}, {',': 'PUNCT'}, {'\"': 'PUNCT'}, {',': 'PUNCT'}, {'\"': 'PUNCT'}, {\"'\": 'PUNCT'}, {'Length': 'X'}, {\"'\": 'PUNCT'}, {']': 'PUNCT'}, {'\"': 'PUNCT'}, {']': 'PUNCT'}, {'[': 'X'}, {'\"': 'PUNCT'}, {'[': 'X'}, {\"'\": 'X'}, {'AVG': 'PROPN'}, {\"'\": 'NUM'}, {',': 'PUNCT'}, {'\"': 'PUNCT'}, {',': 'PUNCT'}, {'\"': 'PUNCT'}, {\"'\": 'PUNCT'}, {'Petal': 'ADJ'}, {\"'\": 'PUNCT'}, {',': 'PUNCT'}, {'\"': 'PUNCT'}, {',': 'PUNCT'}, {'\"': 'PUNCT'}, {\"'\": 'PUNCT'}, {'Width': 'PROPN'}, {\"'\": 'PUNCT'}, {']': 'PUNCT'}, {'\"': 'PUNCT'}, {']': 'PUNCT'}, {'[': 'X'}, {'\"': 'PUNCT'}, {'[': 'X'}, {\"'\": 'VERB'}, {'FIXED': 'NOUN'}, {\"'\": 'PUNCT'}, {',': 'PUNCT'}, {'\"': 'PUNCT'}, {',': 'PUNCT'}, {'\"': 'PUNCT'}, {\"'\": 'PUNCT'}, {'Species': 'NOUN'}, {\"'\": 'PUNCT'}, {',': 'PUNCT'}, {'\"': 'PUNCT'}, {',': 'PUNCT'}, {'\"': 'PUNCT'}, {\"'\": 'PUNCT'}, {'setosa': 'VERB'}, {\"'\": 'PUNCT'}, {',': 'PUNCT'}, {'\"': 'PUNCT'}, {',': 'PUNCT'}, {'\"': 'PUNCT'}, {\"'\": 'PUNCT'}, {'MEDIAN': 'PROPN'}, {\"'\": 'PUNCT'}, {',': 'PUNCT'}, {'\"': 'PUNCT'}, {',': 'PUNCT'}, {'\"': 'PUNCT'}, {\"'\": 'PUNCT'}, {'Sepal': 'NOUN'}, {\"'\": 'PUNCT'}, {',': 'PUNCT'}, {'\"': 'PUNCT'}, {',': 'PUNCT'}, {'\"': 'PUNCT'}, {\"'\": 'PUNCT'}, {'Width': 'PROPN'}, {\"'\": 'PUNCT'}, {']': 'PUNCT'}, {'\"': 'PUNCT'}, {']': 'PUNCT'}, {'[': 'X'}, {'\"': 'PUNCT'}, {'[': 'X'}, {\"'\": 'VERB'}, {'SUM': 'NOUN'}, {\"'\": 'PUNCT'}, {',': 'PUNCT'}, {'\"': 'PUNCT'}, {',': 'PUNCT'}, {'\"': 'PUNCT'}, {\"'\": 'PUNCT'}, {'IF': 'SCONJ'}, {\"'\": 'NUM'}, {',': 'PUNCT'}, {'\"': 'PUNCT'}, {',': 'PUNCT'}, {'\"': 'PUNCT'}, {\"'\": 'PUNCT'}, {'Species': 'NOUN'}, {\"'\": 'PUNCT'}, {',': 'PUNCT'}, {'\"': 'PUNCT'}, {',': 'PUNCT'}, {'\"': 'PUNCT'}, {\"'\": 'PUNCT'}, {'versicolor': 'NOUN'}, {\"'\": 'PUNCT'}, {',': 'PUNCT'}, {'\"': 'PUNCT'}, {',': 'PUNCT'}, {'\"': 'PUNCT'}, {\"'\": 'PUNCT'}, {'THEN': 'ADV'}, {\"'\": 'NUM'}, {',': 'PUNCT'}, {'\"': 'PUNCT'}, {',': 'PUNCT'}, {'\"': 'PUNCT'}, {\"'\": 'PROPN'}, {'1': 'X'}, {\"'\": 'NUM'}, {',': 'PUNCT'}, {'\"': 'PUNCT'}, {',': 'PUNCT'}, {'\"': 'PUNCT'}, {\"'\": 'PUNCT'}, {'ELSE': 'ADV'}, {\"'\": 'NUM'}, {',': 'PUNCT'}, {'\"': 'PUNCT'}, {',': 'PUNCT'}, {'\"': 'PUNCT'}, {\"'\": 'PUNCT'}, {'0': 'X'}, {\"'\": 'PUNCT'}, {',': 'PUNCT'}, {'\"': 'PUNCT'}, {',': 'PUNCT'}, {'\"': 'PUNCT'}, {\"'\": 'PUNCT'}, {'END': 'PROPN'}, {\"'\": 'PUNCT'}, {']': 'PUNCT'}, {'\"': 'PUNCT'}, {']': 'PUNCT'}, {'[': 'X'}, {'\"': 'PUNCT'}, {'[': 'X'}, {\"'\": 'VERB'}, {'COUNTD': 'PROPN'}, {\"'\": 'PUNCT'}, {',': 'PUNCT'}, {'\"': 'PUNCT'}, {',': 'PUNCT'}, {'\"': 'PUNCT'}, {\"'\": 'PUNCT'}, {'IF': 'SCONJ'}, {\"'\": 'NUM'}, {',': 'PUNCT'}, {'\"': 'PUNCT'}, {',': 'PUNCT'}, {'\"': 'PUNCT'}, {\"'\": 'PUNCT'}, {'Sepal': 'NOUN'}, {\"'\": 'PUNCT'}, {',': 'PUNCT'}, {'\"': 'PUNCT'}, {',': 'PUNCT'}, {'\"': 'PUNCT'}, {\"'\": 'PUNCT'}, {'Length': 'PROPN'}, {\"'\": 'PUNCT'}, {',': 'PUNCT'}, {'\"': 'PUNCT'}, {',': 'PUNCT'}, {'\"': 'PUNCT'}, {\"'\": 'PROPN'}, {'5': 'NUM'}, {\"'\": 'NUM'}, {',': 'PUNCT'}, {'\"': 'PUNCT'}, {',': 'PUNCT'}, {'\"': 'PUNCT'}, {\"'\": 'PUNCT'}, {'0': 'X'}, {\"'\": 'PUNCT'}, {',': 'PUNCT'}, {'\"': 'PUNCT'}, {',': 'PUNCT'}, {'\"': 'PUNCT'}, {\"'\": 'PUNCT'}, {'THEN': 'ADV'}, {\"'\": 'NUM'}, {',': 'PUNCT'}, {'\"': 'PUNCT'}, {',': 'PUNCT'}, {'\"': 'PUNCT'}, {\"'\": 'PUNCT'}, {'Species': 'NOUN'}, {\"'\": 'PUNCT'}, {',': 'PUNCT'}, {'\"': 'PUNCT'}, {',': 'PUNCT'}, {'\"': 'PUNCT'}, {\"'\": 'PUNCT'}, {'ELSE': 'ADV'}, {\"'\": 'NUM'}, {',': 'PUNCT'}, {'\"': 'PUNCT'}, {',': 'PUNCT'}, {'\"': 'PUNCT'}, {\"'\": 'PUNCT'}, {'NULL': 'VERB'}, {\"'\": 'PUNCT'}, {',': 'PUNCT'}, {'\"': 'PUNCT'}, {',': 'PUNCT'}, {'\"': 'PUNCT'}, {\"'\": 'PUNCT'}, {'END': 'PROPN'}, {\"'\": 'PUNCT'}, {']': 'PUNCT'}, {'\"': 'PUNCT'}, {']': 'PUNCT'}, {'[': 'X'}, {'\"': 'PUNCT'}, {'[': 'X'}, {\"'\": 'VERB'}, {'FIXED': 'NOUN'}, {\"'\": 'PUNCT'}, {',': 'PUNCT'}, {'\"': 'PUNCT'}, {',': 'PUNCT'}, {'\"': 'PUNCT'}, {\"'\": 'PUNCT'}, {'Species': 'NOUN'}, {\"'\": 'PUNCT'}, {',': 'PUNCT'}, {'\"': 'PUNCT'}, {',': 'PUNCT'}, {'\"': 'PUNCT'}, {\"'\": 'PUNCT'}, {'virginica': 'X'}, {\"'\": 'PUNCT'}, {',': 'PUNCT'}, {'\"': 'PUNCT'}, {',': 'PUNCT'}, {'\"': 'PUNCT'}, {\"'\": 'PUNCT'}, {'MIN': 'PROPN'}, {\"'\": 'PROPN'}, {',': 'PUNCT'}, {'\"': 'PUNCT'}, {',': 'PUNCT'}, {'\"': 'PUNCT'}, {\"'\": 'PUNCT'}, {'Petal': 'ADJ'}, {\"'\": 'PUNCT'}, {',': 'PUNCT'}, {'\"': 'PUNCT'}, {',': 'PUNCT'}, {'\"': 'PUNCT'}, {\"'\": 'PUNCT'}, {'Length': 'X'}, {\"'\": 'PUNCT'}, {']': 'PUNCT'}, {'\"': 'PUNCT'}, {']': 'PUNCT'}, {'[': 'X'}, {'\"': 'PUNCT'}, {'[': 'X'}, {\"'\": 'VERB'}, {'FIXED': 'NOUN'}, {\"'\": 'PUNCT'}, {',': 'PUNCT'}, {'\"': 'PUNCT'}, {',': 'PUNCT'}, {'\"': 'PUNCT'}, {\"'\": 'PUNCT'}, {'Species': 'NOUN'}, {\"'\": 'PUNCT'}, {',': 'PUNCT'}, {'\"': 'PUNCT'}, {',': 'PUNCT'}, {'\"': 'PUNCT'}, {\"'\": 'PUNCT'}, {'setosa': 'VERB'}, {\"'\": 'PUNCT'}, {',': 'PUNCT'}, {'\"': 'PUNCT'}, {',': 'PUNCT'}, {'\"': 'PUNCT'}, {\"'\": 'PUNCT'}, {'MAX': 'PROPN'}, {\"'\": 'PUNCT'}, {',': 'PUNCT'}, {'\"': 'PUNCT'}, {',': 'PUNCT'}, {'\"': 'PUNCT'}, {\"'\": 'PUNCT'}, {'Sepal': 'NOUN'}, {\"'\": 'PUNCT'}, {',': 'PUNCT'}, {'\"': 'PUNCT'}, {',': 'PUNCT'}, {'\"': 'PUNCT'}, {\"'\": 'PUNCT'}, {'Width': 'PROPN'}, {\"'\": 'PUNCT'}, {']': 'PUNCT'}, {'\"': 'PUNCT'}, {']': 'PUNCT'}, {'[': 'X'}, {'\"': 'PUNCT'}, {'[': 'X'}, {\"'\": 'PUNCT'}, {'SORTED': 'ADJ'}, {\"'\": 'PUNCT'}, {',': 'PUNCT'}, {'\"': 'PUNCT'}, {',': 'PUNCT'}, {'\"': 'PUNCT'}, {\"'\": 'PUNCT'}, {'BY': 'ADP'}, {\"'\": 'NUM'}, {',': 'PUNCT'}, {'\"': 'PUNCT'}, {',': 'PUNCT'}, {'\"': 'PUNCT'}, {\"'\": 'PUNCT'}, {'Species': 'NOUN'}, {\"'\": 'PUNCT'}, {',': 'PUNCT'}, {'\"': 'PUNCT'}, {',': 'PUNCT'}, {'\"': 'PUNCT'}, {\"'\": 'PUNCT'}, {'alphabetically': 'ADV'}, {\"'\": 'VERB'}, {',': 'PUNCT'}, {'\"': 'PUNCT'}, {',': 'PUNCT'}, {'\"': 'PUNCT'}, {\"'\": 'PUNCT'}, {'COUNT': 'PROPN'}, {\"'\": 'PUNCT'}, {',': 'PUNCT'}, {'\"': 'PUNCT'}, {',': 'PUNCT'}, {'\"': 'PUNCT'}, {\"'\": 'PUNCT'}, {'Species': 'NOUN'}, {\"'\": 'PUNCT'}, {',': 'PUNCT'}, {'\"': 'PUNCT'}, {',': 'PUNCT'}, {'\"': 'PUNCT'}, {\"'\": 'PUNCT'}, {'GROUP': 'PROPN'}, {\"'\": 'PUNCT'}, {',': 'PUNCT'}, {'\"': 'PUNCT'}, {',': 'PUNCT'}, {'\"': 'PUNCT'}, {\"'\": 'PUNCT'}, {'BY': 'ADP'}, {\"'\": 'NUM'}, {',': 'PUNCT'}, {'\"': 'PUNCT'}, {',': 'PUNCT'}, {'\"': 'PUNCT'}, {\"'\": 'PUNCT'}, {'Species': 'NOUN'}, {\"'\": 'PUNCT'}, {',': 'PUNCT'}, {'\"': 'PUNCT'}, {',': 'PUNCT'}, {'\"': 'PUNCT'}, {\"'\": 'PUNCT'}, {'ORDER': 'NOUN'}, {\"'\": 'PUNCT'}, {',': 'PUNCT'}, {'\"': 'PUNCT'}, {',': 'PUNCT'}, {'\"': 'PUNCT'}, {\"'\": 'PUNCT'}, {'BY': 'ADP'}, {\"'\": 'NUM'}, {',': 'PUNCT'}, {'\"': 'PUNCT'}, {',': 'PUNCT'}, {'\"': 'PUNCT'}, {\"'\": 'PUNCT'}, {'Species': 'NOUN'}, {\"'\": 'PUNCT'}, {',': 'PUNCT'}, {'\"': 'PUNCT'}, {',': 'PUNCT'}, {'\"': 'PUNCT'}, {\"'\": 'PUNCT'}, {'ASC': 'PROPN'}, {\"'\": 'PUNCT'}, {']': 'PUNCT'}, {'\"': 'PUNCT'}, {']': 'PUNCT'}, {'[': 'X'}, {'\"': 'PUNCT'}, {'[': 'X'}, {\"'\": 'X'}, {'Species': 'NOUN'}, {\"'\": 'PUNCT'}, {',': 'PUNCT'}, {'\"': 'PUNCT'}, {',': 'PUNCT'}, {'\"': 'PUNCT'}, {\"'\": 'PUNCT'}, {'versicolor': 'NOUN'}, {\"'\": 'PUNCT'}, {',': 'PUNCT'}, {'\"': 'PUNCT'}, {',': 'PUNCT'}, {'\"': 'PUNCT'}, {\"'\": 'PUNCT'}, {'AND': 'CCONJ'}, {\"'\": 'NUM'}, {',': 'PUNCT'}, {'\"': 'PUNCT'}, {',': 'PUNCT'}, {'\"': 'PUNCT'}, {\"'\": 'PUNCT'}, {'Sepal': 'NOUN'}, {\"'\": 'PUNCT'}, {',': 'PUNCT'}, {'\"': 'PUNCT'}, {',': 'PUNCT'}, {'\"': 'PUNCT'}, {\"'\": 'PUNCT'}, {'Width': 'PROPN'}, {\"'\": 'PUNCT'}, {',': 'PUNCT'}, {'\"': 'PUNCT'}, {',': 'PUNCT'}, {'\"': 'PUNCT'}, {\"'\": 'PROPN'}, {'3': 'NUM'}, {\"'\": 'NUM'}, {',': 'PUNCT'}, {'\"': 'PUNCT'}, {',': 'PUNCT'}, {'\"': 'PUNCT'}, {\"'\": 'PUNCT'}, {'0': 'X'}, {\"'\": 'PUNCT'}, {']': 'PUNCT'}, {'\"': 'PUNCT'}, {']': 'PUNCT'}, {'[': 'X'}, {'\"': 'PUNCT'}, {'[': 'X'}, {\"'\": 'PUNCT'}, {'RANK': 'VERB'}, {\"'\": 'PUNCT'}, {',': 'PUNCT'}, {'\"': 'PUNCT'}, {',': 'PUNCT'}, {'\"': 'PUNCT'}, {\"'\": 'PUNCT'}, {'Sepal': 'NOUN'}, {\"'\": 'PUNCT'}, {',': 'PUNCT'}, {'\"': 'PUNCT'}, {',': 'PUNCT'}, {'\"': 'PUNCT'}, {\"'\": 'PUNCT'}, {'Length': 'PROPN'}, {\"'\": 'PUNCT'}, {',': 'PUNCT'}, {'\"': 'PUNCT'}, {',': 'PUNCT'}, {'\"': 'PUNCT'}, {\"'\": 'PROPN'}, {'5': 'NUM'}, {\"'\": 'NUM'}, {',': 'PUNCT'}, {'\"': 'PUNCT'}, {',': 'PUNCT'}, {'\"': 'PUNCT'}, {\"'\": 'PUNCT'}, {'AND': 'CCONJ'}, {\"'\": 'NUM'}, {',': 'PUNCT'}, {'\"': 'PUNCT'}, {',': 'PUNCT'}, {'\"': 'PUNCT'}, {\"'\": 'PUNCT'}, {'Species': 'NOUN'}, {\"'\": 'PUNCT'}, {',': 'PUNCT'}, {'\"': 'PUNCT'}, {',': 'PUNCT'}, {'\"': 'PUNCT'}, {\"'\": 'PUNCT'}, {'virginica': 'X'}, {\"'\": 'PUNCT'}, {']': 'PUNCT'}, {'\"': 'PUNCT'}, {']': 'PUNCT'}, {'[': 'X'}, {'\"': 'PUNCT'}, {'[': 'X'}, {\"'\": 'NOUN'}, {'RANK_PERCENTILE': 'AUX'}, {\"'\": 'PUNCT'}, {',': 'PUNCT'}, {'\"': 'PUNCT'}, {',': 'PUNCT'}, {'\"': 'PUNCT'}, {\"'\": 'PUNCT'}, {'Petal': 'ADJ'}, {\"'\": 'PUNCT'}, {',': 'PUNCT'}, {'\"': 'PUNCT'}, {',': 'PUNCT'}, {'\"': 'PUNCT'}, {\"'\": 'PUNCT'}, {'Width': 'PROPN'}, {\"'\": 'PUNCT'}, {',': 'PUNCT'}, {'\"': 'PUNCT'}, {',': 'PUNCT'}, {'\"': 'PUNCT'}, {\"'\": 'PUNCT'}, {'0': 'X'}, {\"'\": 'PUNCT'}, {',': 'PUNCT'}, {'\"': 'PUNCT'}, {',': 'PUNCT'}, {'\"': 'PUNCT'}, {\"'\": 'PUNCT'}, {'9': 'NUM'}, {\"'\": 'PUNCT'}, {']': 'PUNCT'}, {'\"': 'PUNCT'}, {']': 'PUNCT'}, {'[': 'X'}, {'\"': 'PUNCT'}, {'[': 'X'}, {\"'\": 'PUNCT'}, {'LISTED': 'VERB'}, {\"'\": 'PUNCT'}, {',': 'PUNCT'}, {'\"': 'PUNCT'}, {',': 'PUNCT'}, {'\"': 'PUNCT'}, {\"'\": 'PUNCT'}, {'FROM': 'ADP'}, {\"'\": 'NUM'}, {',': 'PUNCT'}, {'\"': 'PUNCT'}, {',': 'PUNCT'}, {'\"': 'PUNCT'}, {\"'\": 'PUNCT'}, {'highest': 'ADJ'}, {\"'\": 'PUNCT'}, {',': 'PUNCT'}, {'\"': 'PUNCT'}, {',': 'PUNCT'}, {'\"': 'PUNCT'}, {\"'\": 'PUNCT'}, {'to': 'PART'}, {\"'\": 'NUM'}, {',': 'PUNCT'}, {'\"': 'PUNCT'}, {',': 'PUNCT'}, {'\"': 'PUNCT'}, {\"'\": 'PUNCT'}, {'lowest': 'ADJ'}, {\"'\": 'PUNCT'}, {',': 'PUNCT'}, {'\"': 'PUNCT'}, {',': 'PUNCT'}, {'\"': 'PUNCT'}, {\"'\": 'PUNCT'}, {'AVG': 'PROPN'}, {\"'\": 'PUNCT'}, {',': 'PUNCT'}, {'\"': 'PUNCT'}, {',': 'PUNCT'}, {'\"': 'PUNCT'}, {\"'\": 'PUNCT'}, {'Sepal': 'NOUN'}, {\"'\": 'PUNCT'}, {',': 'PUNCT'}, {'\"': 'PUNCT'}, {',': 'PUNCT'}, {'\"': 'PUNCT'}, {\"'\": 'PUNCT'}, {'Length': 'PROPN'}, {\"'\": 'PUNCT'}, {',': 'PUNCT'}, {'\"': 'PUNCT'}, {',': 'PUNCT'}, {'\"': 'PUNCT'}, {\"'\": 'PUNCT'}, {'GROUP': 'PROPN'}, {\"'\": 'PUNCT'}, {',': 'PUNCT'}, {'\"': 'PUNCT'}, {',': 'PUNCT'}, {'\"': 'PUNCT'}, {\"'\": 'PUNCT'}, {'BY': 'ADP'}, {\"'\": 'NUM'}, {',': 'PUNCT'}, {'\"': 'PUNCT'}, {',': 'PUNCT'}, {'\"': 'PUNCT'}, {\"'\": 'PUNCT'}, {'Species': 'NOUN'}, {\"'\": 'PUNCT'}, {',': 'PUNCT'}, {'\"': 'PUNCT'}, {',': 'PUNCT'}, {'\"': 'PUNCT'}, {\"'\": 'PUNCT'}, {'ORDER': 'NOUN'}, {\"'\": 'PUNCT'}, {',': 'PUNCT'}, {'\"': 'PUNCT'}, {',': 'PUNCT'}, {'\"': 'PUNCT'}, {\"'\": 'PUNCT'}, {'BY': 'ADP'}, {\"'\": 'NUM'}, {',': 'PUNCT'}, {'\"': 'PUNCT'}, {',': 'PUNCT'}, {'\"': 'PUNCT'}, {\"'\": 'PUNCT'}, {'AVG': 'PROPN'}, {\"'\": 'PUNCT'}, {',': 'PUNCT'}, {'\"': 'PUNCT'}, {',': 'PUNCT'}, {'\"': 'PUNCT'}, {\"'\": 'PUNCT'}, {'Sepal': 'NOUN'}, {\"'\": 'PUNCT'}, {',': 'PUNCT'}, {'\"': 'PUNCT'}, {',': 'PUNCT'}, {'\"': 'PUNCT'}, {\"'\": 'PUNCT'}, {'Length': 'PROPN'}, {\"'\": 'PUNCT'}, {',': 'PUNCT'}, {'\"': 'PUNCT'}, {',': 'PUNCT'}, {'\"': 'PUNCT'}, {\"'\": 'PUNCT'}, {'DESC': 'VERB'}, {\"'\": 'PUNCT'}, {']': 'PUNCT'}, {'\"': 'PUNCT'}, {']': 'PUNCT'}, {'[': 'X'}, {'\"': 'PUNCT'}, {'[': 'X'}, {\"'\": 'X'}, {'Species': 'NOUN'}, {\"'\": 'PUNCT'}, {',': 'PUNCT'}, {'\"': 'PUNCT'}, {',': 'PUNCT'}, {'\"': 'PUNCT'}, {\"'\": 'PUNCT'}, {'setosa': 'VERB'}, {\"'\": 'PUNCT'}, {',': 'PUNCT'}, {'\"': 'PUNCT'}, {',': 'PUNCT'}, {'\"': 'PUNCT'}, {\"'\": 'PUNCT'}, {'AND': 'CCONJ'}, {\"'\": 'NUM'}, {',': 'PUNCT'}, {'\"': 'PUNCT'}, {',': 'PUNCT'}, {'\"': 'PUNCT'}, {\"'\": 'PUNCT'}, {'Petal': 'ADJ'}, {\"'\": 'PUNCT'}, {',': 'PUNCT'}, {'\"': 'PUNCT'}, {',': 'PUNCT'}, {'\"': 'PUNCT'}, {\"'\": 'PUNCT'}, {'Length': 'PROPN'}, {\"'\": 'PUNCT'}, {',': 'PUNCT'}, {'\"': 'PUNCT'}, {',': 'PUNCT'}, {'\"': 'PUNCT'}, {\"'\": 'PUNCT'}, {'BETWEEN': 'ADP'}, {\"'\": 'PUNCT'}, {',': 'PUNCT'}, {'\"': 'PUNCT'}, {',': 'PUNCT'}, {'\"': 'PUNCT'}, {\"'\": 'PROPN'}, {'4': 'NUM'}, {\"'\": 'NUM'}, {',': 'PUNCT'}, {'\"': 'PUNCT'}, {',': 'PUNCT'}, {'\"': 'PUNCT'}, {\"'\": 'PUNCT'}, {'0': 'X'}, {\"'\": 'PUNCT'}, {',': 'PUNCT'}, {'\"': 'PUNCT'}, {',': 'PUNCT'}, {'\"': 'PUNCT'}, {\"'\": 'PUNCT'}, {'AND': 'CCONJ'}, {\"'\": 'NUM'}, {',': 'PUNCT'}, {'\"': 'PUNCT'}, {',': 'PUNCT'}, {'\"': 'PUNCT'}, {\"'\": 'PROPN'}, {'5': 'NUM'}, {\"'\": 'NUM'}, {',': 'PUNCT'}, {'\"': 'PUNCT'}, {',': 'PUNCT'}, {'\"': 'PUNCT'}, {\"'\": 'PUNCT'}, {'0': 'X'}, {\"'\": 'PUNCT'}, {']': 'PUNCT'}, {'\"': 'PUNCT'}, {']': 'PUNCT'}, {'[': 'X'}, {'\"': 'PUNCT'}, {'[': 'X'}, {\"'\": 'VERB'}, {'SUM': 'NOUN'}, {\"'\": 'PUNCT'}, {',': 'PUNCT'}, {'\"': 'PUNCT'}, {',': 'PUNCT'}, {'\"': 'PUNCT'}, {\"'\": 'PUNCT'}, {'IF': 'SCONJ'}, {\"'\": 'NUM'}, {',': 'PUNCT'}, {'\"': 'PUNCT'}, {',': 'PUNCT'}, {'\"': 'PUNCT'}, {\"'\": 'PUNCT'}, {'CONTAINS': 'VERB'}, {\"'\": 'PUNCT'}, {',': 'PUNCT'}, {'\"': 'PUNCT'}, {',': 'PUNCT'}, {'\"': 'PUNCT'}, {\"'\": 'PUNCT'}, {'Species': 'NOUN'}, {\"'\": 'PUNCT'}, {',': 'PUNCT'}, {'\"': 'PUNCT'}, {',': 'PUNCT'}, {'\"': 'PUNCT'}, {\"'\": 'PUNCT'}, {'color': 'VERB'}, {\"'\": 'PUNCT'}, {',': 'PUNCT'}, {'\"': 'PUNCT'}, {',': 'PUNCT'}, {'\"': 'PUNCT'}, {\"'\": 'PUNCT'}, {'THEN': 'ADV'}, {\"'\": 'NUM'}, {',': 'PUNCT'}, {'\"': 'PUNCT'}, {',': 'PUNCT'}, {'\"': 'PUNCT'}, {\"'\": 'PROPN'}, {'1': 'X'}, {\"'\": 'NUM'}, {',': 'PUNCT'}, {'\"': 'PUNCT'}, {',': 'PUNCT'}, {'\"': 'PUNCT'}, {\"'\": 'PUNCT'}, {'ELSE': 'ADV'}, {\"'\": 'NUM'}, {',': 'PUNCT'}, {'\"': 'PUNCT'}, {',': 'PUNCT'}, {'\"': 'PUNCT'}, {\"'\": 'PUNCT'}, {'0': 'X'}, {\"'\": 'PUNCT'}, {',': 'PUNCT'}, {'\"': 'PUNCT'}, {',': 'PUNCT'}, {'\"': 'PUNCT'}, {\"'\": 'PUNCT'}, {'END': 'PROPN'}, {\"'\": 'PUNCT'}, {']': 'PUNCT'}, {'\"': 'PUNCT'}, {']': 'PUNCT'}, {'[': 'X'}, {'\"': 'PUNCT'}, {'[': 'X'}, {\"'\": 'PUNCT'}, {'STARTSWITH': 'VERB'}, {\"'\": 'PUNCT'}, {',': 'PUNCT'}, {'\"': 'PUNCT'}, {',': 'PUNCT'}, {'\"': 'PUNCT'}, {\"'\": 'PUNCT'}, {'Species': 'NOUN'}, {\"'\": 'PUNCT'}, {',': 'PUNCT'}, {'\"': 'PUNCT'}, {',': 'PUNCT'}, {'\"': 'PUNCT'}, {\"'\": 'PUNCT'}, {'Iri': 'PROPN'}, {\"'\": 'PROPN'}, {',': 'PUNCT'}, {'\"': 'PUNCT'}, {',': 'PUNCT'}, {'\"': 'PUNCT'}, {\"'\": 'PUNCT'}, {'AND': 'CCONJ'}, {\"'\": 'NUM'}, {',': 'PUNCT'}, {'\"': 'PUNCT'}, {',': 'PUNCT'}, {'\"': 'PUNCT'}, {\"'\": 'PUNCT'}, {'ENDSWITH': 'VERB'}, {\"'\": 'PUNCT'}, {',': 'PUNCT'}, {'\"': 'PUNCT'}, {',': 'PUNCT'}, {'\"': 'PUNCT'}, {\"'\": 'PUNCT'}, {'Species': 'NOUN'}, {\"'\": 'PUNCT'}, {',': 'PUNCT'}, {'\"': 'PUNCT'}, {',': 'PUNCT'}, {'\"': 'PUNCT'}, {\"'\": 'PUNCT'}, {'a': 'DET'}, {\"'\": 'PUNCT'}, {']': 'PUNCT'}, {'\"': 'PUNCT'}, {']': 'PUNCT'}]\n",
            "Tokenized Formula (Tableau) : ['ADP', 'PROPN', 'ADJ', 'X', 'AUX', 'SCONJ', 'DET', 'VERB', 'ADV', 'PART', 'PUNCT', 'NOUN', 'CCONJ', 'NUM']\n"
          ]
        }
      ]
    },
    {
      "cell_type": "code",
      "source": [
        "for pat in p_t:\n",
        "   print({pat:p_t[pat]})"
      ],
      "metadata": {
        "id": "93RbAmlOfYAj",
        "colab": {
          "base_uri": "https://localhost:8080/"
        },
        "outputId": "0dfdc7e8-92db-4dff-ec87-de4b35d9a5af"
      },
      "execution_count": 61,
      "outputs": [
        {
          "output_type": "stream",
          "name": "stdout",
          "text": [
            "{'ADP': ['WITH', 'BY', 'FROM', 'BETWEEN']}\n",
            "{'PROPN': ['Species', 'LEFT', 'STARTS', 'MIN', 'COUNTD', 'MEDIAN', 'Width', 'MAX', 'GROUP', \"'\", 'Se', 'DATETRUNC', 'Date', 'COUNT', 'Length', 'ASC', 'AVG', 'Iri', 'Setosa', 'END', 'INDEX']}\n",
            "{'ADJ': ['highest', 'lowest', 'SORTED', 'Petal']}\n",
            "{'X': [\"'\", '[', '0', 'virginica', 'ica', 'Length', '1', '2']}\n",
            "{'AUX': ['RANK_PERCENTILE']}\n",
            "{'SCONJ': ['IF']}\n",
            "{'DET': ['a']}\n",
            "{'VERB': ['DISTINCT', \"'\", 'CONTAINS', 'STARTSWITH', 'NULL', 'RANK', 'Date', 'LISTED', 'ENDSWITH', 'DESC', 'SUM', 'setosa', 'color']}\n",
            "{'ADV': ['THEN', 'SORT', 'ELSE', 'alphabetically']}\n",
            "{'PART': ['to']}\n",
            "{'PUNCT': ['\"', \"'\", ']', ',']}\n",
            "{'NOUN': [\"'\", 'versicolor', 'Species', 'ORDER', 'TODAY', 'Date', 'month', 'Sepal', 'ENDSWITH', 'C', 'YEAR', 'SUM', 'FIXED', 'year']}\n",
            "{'CCONJ': ['AND']}\n",
            "{'NUM': [\"'\", '5', 'TOP', '3', '9', '4']}\n"
          ]
        }
      ]
    },
    {
      "cell_type": "markdown",
      "source": [
        "#Tutorial of sPacy"
      ],
      "metadata": {
        "id": "bEmvyYQczVRv"
      }
    },
    {
      "cell_type": "code",
      "source": [
        "text=\"Sum of Sepal Length SUM (Sepal Length)\"\n",
        "doc=nlp(text)\n",
        "for token in doc.ents:\n",
        "   print(token.text, token.label_,token.start_char,token.end_char, token.start, token.ent_id_, token.label, token.vector_norm)\n",
        "for token in doc:\n",
        "   print(token.text, token.lemma_, token.pos_, token.tag_, token.dep_,\n",
        "           token.shape_, token.is_alpha, token.is_stop,token.ent_iob_, token.ent_type_)"
      ],
      "metadata": {
        "id": "kdNbs5H_JgNX",
        "colab": {
          "base_uri": "https://localhost:8080/"
        },
        "outputId": "a9348a58-7d07-45f7-ec7a-53305283e3c9"
      },
      "execution_count": 62,
      "outputs": [
        {
          "output_type": "stream",
          "name": "stdout",
          "text": [
            "Sepal Length PERSON 25 37 6  380 7.3880568\n",
            "Sum Sum PROPN NNP nmod Xxx True False O \n",
            "of of ADP IN prep xx True True O \n",
            "Sepal Sepal PROPN NNP compound Xxxxx True False O \n",
            "Length Length PROPN NNP pobj Xxxxx True False O \n",
            "SUM SUM PROPN NNP ROOT XXX True False O \n",
            "( ( PUNCT -LRB- punct ( False False O \n",
            "Sepal Sepal PROPN NNP compound Xxxxx True False B PERSON\n",
            "Length Length PROPN NNP appos Xxxxx True False I PERSON\n",
            ") ) PUNCT -RRB- punct ) False False O \n"
          ]
        }
      ]
    },
    {
      "cell_type": "code",
      "source": [
        "# Create a span for the new entity\n",
        "fb_ent = span.Span(doc, 0, 1, label=\"ORG\")\n",
        "orig_ents = list(doc.ents)"
      ],
      "metadata": {
        "id": "IsZd6FG1c2MK"
      },
      "execution_count": 63,
      "outputs": []
    },
    {
      "cell_type": "code",
      "source": [
        "# Option 2: Assign a complete list of ents to doc.ents\n",
        "doc.ents = orig_ents + [fb_ent]"
      ],
      "metadata": {
        "id": "ZawqANFfc65b"
      },
      "execution_count": 64,
      "outputs": []
    },
    {
      "cell_type": "code",
      "source": [
        "# Add special case rule\n",
        "from spacy.symbols import ORTH\n",
        "special_case = [{ORTH: \"gim\"}, {ORTH: \"me\"}]\n",
        "nlp.tokenizer.add_special_case(\"gimme\", special_case)\n"
      ],
      "metadata": {
        "id": "DdBa8FB7eEak"
      },
      "execution_count": 65,
      "outputs": []
    },
    {
      "cell_type": "markdown",
      "source": [],
      "metadata": {
        "id": "9gDlFJa1MODA"
      }
    },
    {
      "cell_type": "code",
      "source": [
        "# Tokenization and POS tagging result\n",
        "tokens = [(\"Sum\", \"VERB\"), (\"of\", \"ADP\"), (\"Sepal\", \"NOUN\"), (\"Length\", \"NOUN\")]\n",
        "# Example mappings based on POS tagging results\n",
        "operation_mapping = {\"VERB\": {\"Sum\": \"SUM\", \"Average\": \"AVG\", \"Count\": \"COUNT\"}}\n",
        "field_mapping = {\"NOUN\": [\"Sepal Length\", \"Sepal Width\", \"Petal Length\", \"Petal Width\",\"Species\"]}\n"
      ],
      "metadata": {
        "id": "j6MV0tIHMOt_"
      },
      "execution_count": 66,
      "outputs": []
    },
    {
      "cell_type": "markdown",
      "source": [
        "#Template of Training data"
      ],
      "metadata": {
        "id": "PcqUmTL3VV3j"
      }
    },
    {
      "cell_type": "code",
      "source": [
        "TRAIN_DATA = []\n",
        "\n",
        "#for example in your_extracted_data: # see example above entities = []\n",
        "\n",
        "#for entity in example['data']:  # iterate over the entities\n",
        "\n",
        "\n",
        "#    text, label, start, end = entity  # ('want', '@command', 2, 6)\n",
        "\n",
        "#    label = label.split('@')[1].upper()  # not necessary, but nicer\n",
        "\n",
        "#    end = end - 1  # correct the end character index\n",
        "\n",
        "#    entities.append((start, end, label))\n",
        "\n",
        "# add training example of (text, annotations) tuple\n",
        "\n",
        "#TRAIN_DATA.append((example['sentence'], {'entities': entities}))"
      ],
      "metadata": {
        "id": "2hqdsZu_TvWV"
      },
      "execution_count": 67,
      "outputs": []
    },
    {
      "cell_type": "markdown",
      "source": [
        "This should give you training data that looks like this:"
      ],
      "metadata": {
        "id": "rO9OYX_jVJr9"
      }
    },
    {
      "cell_type": "code",
      "source": [
        "\n",
        "\n",
        "[ ('I want apples', {'entities': [(2, 5, 'COMMAND'), (7, 12, 'FRUIT')]}) ]"
      ],
      "metadata": {
        "id": "1YPE7cUHU9Xu",
        "colab": {
          "base_uri": "https://localhost:8080/"
        },
        "outputId": "e12ab1f2-6dd6-49a1-b6d7-228a623ca80f"
      },
      "execution_count": 68,
      "outputs": [
        {
          "output_type": "execute_result",
          "data": {
            "text/plain": [
              "[('I want apples', {'entities': [(2, 5, 'COMMAND'), (7, 12, 'FRUIT')]})]"
            ]
          },
          "metadata": {},
          "execution_count": 68
        }
      ]
    },
    {
      "cell_type": "markdown",
      "source": [
        "# DEFINE ENTITY RULER BEFORE NER\n",
        "\n",
        "One potential difficulty in your example is that it's not very close to natural language. The pre-trained English models were trained on ~2m words of general web and news text, so they're not always going to perform perfect out-of-the-box on text with a very different structure.\n",
        "\n",
        "While you could update the model with more examples of QUANTITY in your specific texts, I think that a rule-based approach might actually be a better and more efficient solution here.\n",
        "\n",
        "The example in this blog post is actually very close to what you're trying to do:\n",
        "\n",
        "import spacy\n",
        "\n",
        "from spacy.pipeline import EntityRuler\n",
        "\n",
        "nlp = spacy.load(\"en_core_web_sm\")\n",
        "\n",
        "weights_pattern = [\n",
        "    {\"LIKE_NUM\": True},\n",
        "\n",
        "    {\"LOWER\": {\"IN\": [\"g\", \"kg\", \"grams\", \"kilograms\", \"lb\", \"lbs\", \"pounds\"]}}\n",
        "]\n",
        "patterns = [{\"label\": \"QUANTITY\", \"pattern\": weights_pattern}]\n",
        "\n",
        "ruler = EntityRuler(nlp, patterns=patterns)\n",
        "\n",
        "nlp.add_pipe(ruler, before=\"ner\")\n",
        "\n",
        "doc = nlp(\"U.S. average was 2 lbs.\")\n",
        "\n",
        "print([(ent.text, ent.label_) for ent in doc.ents])\n",
        "\n",
        " [('U.S.', 'GPE'), ('2 lbs', 'QUANTITY')]\n",
        "\n",
        "The statistical named entity recognizer respects pre-defined entities and wil \"predict around\" them. So if you're adding the EntityRuler before it in the pipeline, your custom QUANTITY entities will be assigned first and will be taken into account when the entity recognizer predicts labels for the remaining tokens.\n",
        "\n",
        "Note that this example is using the latest version of spaCy, v2.1.x. You might also want to add more patterns to cover different constructions. For more details and inspiration, check out the documentation on the EntityRuler, combining models and rules and the token match pattern syntax."
      ],
      "metadata": {
        "id": "pmuDiKcziflt"
      }
    },
    {
      "cell_type": "code",
      "source": [
        "import spacy\n",
        "\n",
        "from spacy.pipeline import EntityRuler\n",
        "\n",
        "nlp = spacy.load(\"en_core_web_sm\")\n",
        "\n",
        "weights_pattern = [ {\"LIKE_NUM\": True},\n",
        "{\"LOWER\":{\"IN\":[\"g\",\"kg\",\"grams\",\"kilograms\",\"lb\"\n",
        ",\"lbs\",\"pounds\"]}}]\n",
        "\n",
        "patterns = [{\"label\": \"QUANTITY\", \"pattern\": weights_pattern}]\n",
        "\n",
        "ruler = EntityRuler(nlp, patterns=patterns,overwrite_ents=True)\n",
        "\n",
        "ruler.name=\"entity_ruler\"\n",
        "nlp.add_pipe(\"entity_ruler\", before=\"ner\")\n",
        "\n",
        "doc = nlp(\"U.S. average was 2 lbs .\")\n",
        "\n",
        "print([(ent.text, ent.label_) for ent in doc.ents])"
      ],
      "metadata": {
        "id": "RZ287G19ZQVV",
        "colab": {
          "base_uri": "https://localhost:8080/"
        },
        "outputId": "55b29dfe-646f-4adc-f774-ab3ba5e5eb55"
      },
      "execution_count": 69,
      "outputs": [
        {
          "output_type": "stream",
          "name": "stdout",
          "text": [
            "[('U.S.', 'GPE'), ('2', 'CARDINAL')]\n"
          ]
        },
        {
          "output_type": "stream",
          "name": "stderr",
          "text": [
            "/usr/local/lib/python3.10/dist-packages/spacy/pipeline/entityruler.py:405: UserWarning: [W036] The component 'entity_ruler' does not have any patterns defined.\n",
            "  warnings.warn(Warnings.W036.format(name=self.name))\n"
          ]
        }
      ]
    },
    {
      "cell_type": "code",
      "source": [
        "import spacy\n",
        "from spacy.pipeline import EntityRuler\n",
        "\n",
        "nlp = spacy.load('en_core_web_sm', disable=['ner'])\n",
        "\n",
        "\n",
        "patterns=[]\n",
        "flower_patterns = [{\"label\": \"FLOWER\", \"pattern\": flower} for flower in [\"rose\", \"tulip\", \"african daisy\"]]\n",
        "patterns.extend(flower_patterns)\n",
        "\n",
        "# Initialize the EntityRuler for animals\n",
        "animal_patterns = [{\"label\": \"ANIMAL\", \"pattern\": animal} for animal in [\"cat\", \"dog\", \"artic fox\"]]\n",
        "patterns.extend(animal_patterns)\n",
        "\n",
        "# Initialize the EntityRuler and add the combined patterns\n",
        "ruler = EntityRuler(nlp, patterns=patterns,overwrite_ents=True)\n",
        "#ruler = EntityRuler(nlp, overwrite_ents=True)\n",
        "#ruler.add_patterns(patterns)\n",
        "\n",
        "# Add the EntityRuler to the pipeline with a unique name\n",
        "ruler.name=\"entity_ruler\"\n",
        "nlp.add_pipe(\"entity_ruler\", before=\"ner\")\n",
        "\n",
        "# Example usage\n",
        "doc = nlp(\"I saw a rose and a cat.\")\n",
        "for ent in doc.ents:\n",
        "    print(ent.text, ent.label_)\n"
      ],
      "metadata": {
        "id": "JcRcizu0-jXv",
        "colab": {
          "base_uri": "https://localhost:8080/"
        },
        "outputId": "2eeabff6-e417-4c12-fcd8-1b7a564e7fd8"
      },
      "execution_count": 70,
      "outputs": [
        {
          "output_type": "stream",
          "name": "stderr",
          "text": [
            "/usr/local/lib/python3.10/dist-packages/spacy/pipeline/entityruler.py:405: UserWarning: [W036] The component 'entity_ruler' does not have any patterns defined.\n",
            "  warnings.warn(Warnings.W036.format(name=self.name))\n"
          ]
        }
      ]
    },
    {
      "cell_type": "code",
      "source": [
        "import spacy\n",
        "from spacy.pipeline import EntityRuler\n",
        "\n",
        "nlp = spacy.load('en_core_web_sm', disable=['ner'])\n",
        "\n",
        "# Initialize the EntityRuler\n",
        "ruler = EntityRuler(nlp, overwrite_ents=True)\n",
        "\n",
        "# Define patterns\n",
        "flower_patterns = [{\"label\": \"FLOWER\", \"pattern\": flower} for flower in [\"rose\", \"tulip\", \"african daisy\"]]\n",
        "animal_patterns = [{\"label\": \"ANIMAL\", \"pattern\": animal} for animal in [\"cat\", \"dog\", \"artic fox\"]]\n",
        "\n",
        "# Add patterns to the ruler\n",
        "ruler.add_patterns(flower_patterns + animal_patterns)\n",
        "\n",
        "ruler.name='entity_ruler'\n",
        "# Add the EntityRuler to the pipeline\n",
        "nlp.add_pipe('entity_ruler')\n",
        "\n",
        "# Test the pipeline\n",
        "doc = nlp(\"I saw a rose and a cat.\")\n",
        "for ent in doc.ents:\n",
        "    print(ent.text, ent.label_)\n"
      ],
      "metadata": {
        "id": "sO6rWJ9-F00O",
        "colab": {
          "base_uri": "https://localhost:8080/"
        },
        "outputId": "2aa1ed0b-18cc-47b5-999f-d15582951cd2"
      },
      "execution_count": 71,
      "outputs": [
        {
          "output_type": "stream",
          "name": "stderr",
          "text": [
            "/usr/local/lib/python3.10/dist-packages/spacy/pipeline/entityruler.py:405: UserWarning: [W036] The component 'entity_ruler' does not have any patterns defined.\n",
            "  warnings.warn(Warnings.W036.format(name=self.name))\n"
          ]
        }
      ]
    },
    {
      "cell_type": "markdown",
      "source": [
        "# Claude code !!"
      ],
      "metadata": {
        "id": "mNlqmbvZJZxi"
      }
    },
    {
      "cell_type": "code",
      "source": [
        "import spacy\n",
        "from spacy.language import Language\n",
        "from spacy.pipeline import EntityRuler\n",
        "\n",
        "nlp = spacy.load('en_core_web_sm')\n",
        "\n",
        "# Function to create and return an EntityRuler with specified patterns\n",
        "def create_ruler(patterns, label):\n",
        "    ruler = EntityRuler(nlp, overwrite_ents=True)\n",
        "    formatted_patterns = [{\"label\": label, \"pattern\": pattern} for pattern in patterns]\n",
        "    ruler.add_patterns(formatted_patterns)\n",
        "    return ruler\n",
        "\n",
        "# Define your patterns\n",
        "flowers = [\"rose\", \"tulip\", \"african daisy\"]\n",
        "animals = [\"cat\", \"dog\", \"artic fox\"]\n",
        "weights = [\"g\",\"kg\",\"grams\",\"kilograms\",\"lb\",\"lbs\",\"pounds\"]\n",
        "\n",
        "\n",
        "\n",
        "# Create rulers\n",
        "ruler_plants = create_ruler(flowers, \"FLOWER\")\n",
        "ruler_animals = create_ruler(animals, \"ANIMAL\")\n",
        "ruler_weights = create_ruler(weights,\"QUANTITY\")\n",
        "\n",
        "# Create component factories\n",
        "@Language.component(\"ruler_plants\")\n",
        "def ruler_plants_component(doc):\n",
        "    return ruler_plants(doc)\n",
        "\n",
        "@Language.component(\"ruler_animals\")\n",
        "def ruler_animals_component(doc):\n",
        "    return ruler_animals(doc)\n",
        "\n",
        "@Language.component('ruler_weights')\n",
        "def ruler_weights_component(doc):\n",
        "     return ruler_weights(doc)\n",
        "\n",
        "# Add the components to the pipeline\n",
        "nlp.add_pipe(\"ruler_plants\", before=\"ner\")\n",
        "nlp.add_pipe(\"ruler_animals\", before=\"ner\")\n",
        "nlp.add_pipe(\"ruler_weights\", before = \"ner\")\n",
        "\n",
        "# Test\n",
        "doc = nlp(\"I saw a rose and a cat. A dog smells a tulip. U.S. average was 2 lbs \")\n",
        "for ent in doc.ents:\n",
        "    print(ent.text, ent.start, ent.end, ent.label_)"
      ],
      "metadata": {
        "id": "t90kMlOoIwvc",
        "colab": {
          "base_uri": "https://localhost:8080/"
        },
        "outputId": "8c8b2b97-5915-4337-f1de-6df482cd834d"
      },
      "execution_count": 72,
      "outputs": [
        {
          "output_type": "stream",
          "name": "stdout",
          "text": [
            "rose 3 4 FLOWER\n",
            "cat 6 7 ANIMAL\n",
            "dog 9 10 ANIMAL\n",
            "tulip 12 13 FLOWER\n",
            "U.S. 14 15 GPE\n",
            "2 17 18 CARDINAL\n",
            "lbs 18 19 QUANTITY\n"
          ]
        }
      ]
    },
    {
      "cell_type": "markdown",
      "source": [
        "from spacy.lang.en import English\n",
        "\n",
        "from spacy.matcher import Matcher\n",
        "\n",
        "from spacy.tokens import Span\n",
        "\n",
        "nlp = English()\n",
        "\n",
        "matcher = Matcher(nlp.vocab)\n",
        "\n",
        "def add_event_ent(matcher, doc, i, matches):\n",
        "\n",
        "    # Get the current match and create tuple of entity label, start and end.\n",
        "\n",
        "    # Append entity to the doc's entity. (Don't overwrite doc.ents!)\n",
        "\n",
        "    match_id, start, end = matches[i]\n",
        "\n",
        "    entity = Span(doc, start, end, label=\"EVENT\")\n",
        "\n",
        "    doc.ents += (entity,)\n",
        "\n",
        "    print(entity.text)\n",
        "\n",
        "pattern = [{\"ORTH\": \"Google\"}, {\"ORTH\": \"I\"}, {\"ORTH\": \"/\"}, {\"ORTH\": \"O\"}]\n",
        "\n",
        "matcher.add(\"GoogleIO\", [pattern], on_match=add_event_ent)\n",
        "\n",
        "doc = nlp(\"This is a text about Google I/O\")\n",
        "\n",
        "matches = matcher(doc)\n",
        "\n",
        "# RULE ENTITY DIRECTLY\n"
      ],
      "metadata": {
        "id": "1kOuNTzanMwp"
      }
    },
    {
      "cell_type": "code",
      "source": [],
      "metadata": {
        "id": "CQ2hNSP12MtO"
      },
      "execution_count": 72,
      "outputs": []
    },
    {
      "cell_type": "markdown",
      "source": [
        "# USE OF MACHER\n",
        "\n",
        "nlp = spacy.load(\"en_core_web_sm\")\n",
        "\n",
        "matcher = Matcher(nlp.vocab)\n",
        "\n",
        "Add match ID \"HelloWorld\" with no callback and one pattern\n",
        "\n",
        "pattern = [{\"LOWER\": \"hello\"}, {\"IS_PUNCT\": True}, {\"LOWER\": \"world\"}]\n",
        "\n",
        "matcher.add(\"HelloWorld\", [pattern])\n",
        "\n",
        "doc = nlp(\"Hello, world! Hello world!\")\n",
        "\n",
        "matches = matcher(doc)\n",
        "\n",
        "for match_id, start, end in matches:\n",
        "\n",
        "    string_id = nlp.vocab.strings[match_id]  # Get string representation\n",
        "\n",
        "    span = doc[start:end]  # The matched span\n",
        "\n",
        "    print(match_id, string_id, start, end, span.text)\n"
      ],
      "metadata": {
        "id": "0yVkpvkFnPbF"
      }
    },
    {
      "cell_type": "markdown",
      "source": [
        "# VALIDATE ENTITY RULER\n",
        "ruler = nlp.add_pipe(\"entity_ruler\", config={\"validate\": True})\n"
      ],
      "metadata": {
        "id": "VEZDhPqbtEKW"
      }
    },
    {
      "cell_type": "markdown",
      "source": [
        "# ADD FUNCTION STRATEGY TO ADD A LOT OF NUMBER OF PATTERNS\n",
        "\n",
        "ruler = nlp.add_pipe(\"entity_ruler\")\n",
        "\n",
        "patterns = [{\"label\": \"TEST\", \"pattern\": str(i)} for i in range(100000)]\n",
        "\n",
        "with nlp.select_pipes(enable=\"tagger\"):\n",
        "\n",
        "    ruler.add_patterns(patterns)"
      ],
      "metadata": {
        "id": "B9qNc-O5tKqJ"
      }
    },
    {
      "cell_type": "markdown",
      "source": [
        "# Span Ruler"
      ],
      "metadata": {
        "id": "ny-i916mTYOG"
      }
    },
    {
      "cell_type": "code",
      "source": [
        "import spacy\n",
        "\n",
        "nlp = spacy.blank(\"en\")\n",
        "ruler = nlp.add_pipe(\"span_ruler\")\n",
        "patterns = [{\"label\": \"ORG\", \"pattern\": \"Apple\"},\n",
        "            {\"label\": \"GPE\", \"pattern\": [{\"LOWER\": \"san\"}, {\"LOWER\": \"francisco\"}]}]\n",
        "ruler.add_patterns(patterns)\n",
        "\n",
        "doc = nlp(\"Apple is opening its first big office in San Francisco.\")\n",
        "print([(span.text, span.label_) for span in doc.spans[\"ruler\"]])"
      ],
      "metadata": {
        "id": "du2-mx8aRk0q",
        "colab": {
          "base_uri": "https://localhost:8080/"
        },
        "outputId": "714ca8e1-3379-4618-d9ad-bb104bcf5de5"
      },
      "execution_count": 73,
      "outputs": [
        {
          "output_type": "stream",
          "name": "stdout",
          "text": [
            "[('Apple', 'ORG'), ('San Francisco', 'GPE')]\n"
          ]
        }
      ]
    },
    {
      "cell_type": "markdown",
      "source": [
        "# USAGE OF PRE-TRAINED MODELS"
      ],
      "metadata": {
        "id": "onh695EITI7o"
      }
    },
    {
      "cell_type": "code",
      "source": [
        "import spacy\n",
        "\n",
        "nlp = spacy.load(\"en_core_web_sm\")\n",
        "\n",
        "import en_core_web_sm\n",
        "\n",
        "nlp = en_core_web_sm.load()\n",
        "\n",
        "#doc = nlp(\"This is a sentence.\")\n",
        "doc =nlp(\"Sum of Sepal Length\")\n",
        "\n",
        "print([(w.text, w.pos_) for w in doc])\n",
        "\n",
        "# load without NER\n",
        "\n",
        "nlp = spacy.load(\"en_core_web_sm\", exclude=[\"ner\"])\n",
        "\n",
        "# source NER from the same pipeline package as the last component\n",
        "\n",
        "nlp.add_pipe(\"ner\", source=spacy.load(\"en_core_web_sm\"))\n",
        "\n",
        "# insert the entity ruler\n",
        "\n",
        "nlp.add_pipe(\"entity_ruler\", before=\"ner\")"
      ],
      "metadata": {
        "id": "21-J-IYWRwhF",
        "colab": {
          "base_uri": "https://localhost:8080/"
        },
        "outputId": "dae4860c-5c32-4b1d-fcd0-5a6909e9db87"
      },
      "execution_count": 74,
      "outputs": [
        {
          "output_type": "stream",
          "name": "stdout",
          "text": [
            "[('Sum', 'PROPN'), ('of', 'ADP'), ('Sepal', 'PROPN'), ('Length', 'PROPN')]\n"
          ]
        },
        {
          "output_type": "execute_result",
          "data": {
            "text/plain": [
              "<spacy.pipeline.entityruler.EntityRuler at 0x7d6f609c7100>"
            ]
          },
          "metadata": {},
          "execution_count": 74
        }
      ]
    },
    {
      "cell_type": "code",
      "source": [],
      "metadata": {
        "id": "llZbwruwSpAK"
      },
      "execution_count": 74,
      "outputs": []
    },
    {
      "cell_type": "code",
      "source": [],
      "metadata": {
        "id": "soD3MX1hRN9a"
      },
      "execution_count": 74,
      "outputs": []
    }
  ]
}