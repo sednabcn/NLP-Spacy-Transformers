{
  "nbformat": 4,
  "nbformat_minor": 0,
  "metadata": {
    "colab": {
      "provenance": [],
      "gpuType": "T4"
    },
    "kernelspec": {
      "name": "python3",
      "display_name": "Python 3"
    },
    "language_info": {
      "name": "python"
    }
  },
  "cells": [
    {
      "cell_type": "markdown",
      "source": [
        "#TASK: Leverage NLP for Tableau formulas identification\n",
        "\n",
        "Leveraging Natural Language Processing (NLP) for Tableau formulas identification involves using language models to interpret and understand natural language descriptions of analytical tasks and then automatically generating corresponding Tableau formulas. While this is a challenging task, it's feasible with the help of advanced NLP models. Below are general steps to approach this task:"
      ],
      "metadata": {
        "id": "NqCoW9yQDryb"
      }
    },
    {
      "cell_type": "code",
      "execution_count": 1,
      "metadata": {
        "colab": {
          "base_uri": "https://localhost:8080/"
        },
        "id": "eBoXca9MY-7A",
        "outputId": "294390bf-61fc-4bce-c91d-5d92f4199d81"
      },
      "outputs": [
        {
          "output_type": "stream",
          "name": "stdout",
          "text": [
            "Requirement already satisfied: opencv-python in /usr/local/lib/python3.10/dist-packages (4.8.0.76)\n",
            "Requirement already satisfied: numpy>=1.21.2 in /usr/local/lib/python3.10/dist-packages (from opencv-python) (1.25.2)\n",
            "Requirement already satisfied: pandas in /usr/local/lib/python3.10/dist-packages (1.5.3)\n",
            "Requirement already satisfied: python-dateutil>=2.8.1 in /usr/local/lib/python3.10/dist-packages (from pandas) (2.8.2)\n",
            "Requirement already satisfied: pytz>=2020.1 in /usr/local/lib/python3.10/dist-packages (from pandas) (2023.4)\n",
            "Requirement already satisfied: numpy>=1.21.0 in /usr/local/lib/python3.10/dist-packages (from pandas) (1.25.2)\n",
            "Requirement already satisfied: six>=1.5 in /usr/local/lib/python3.10/dist-packages (from python-dateutil>=2.8.1->pandas) (1.16.0)\n",
            "Requirement already satisfied: nltk in /usr/local/lib/python3.10/dist-packages (3.8.1)\n",
            "Requirement already satisfied: click in /usr/local/lib/python3.10/dist-packages (from nltk) (8.1.7)\n",
            "Requirement already satisfied: joblib in /usr/local/lib/python3.10/dist-packages (from nltk) (1.3.2)\n",
            "Requirement already satisfied: regex>=2021.8.3 in /usr/local/lib/python3.10/dist-packages (from nltk) (2023.12.25)\n",
            "Requirement already satisfied: tqdm in /usr/local/lib/python3.10/dist-packages (from nltk) (4.66.2)\n",
            "Requirement already satisfied: spacy in /usr/local/lib/python3.10/dist-packages (3.7.4)\n",
            "Requirement already satisfied: spacy-legacy<3.1.0,>=3.0.11 in /usr/local/lib/python3.10/dist-packages (from spacy) (3.0.12)\n",
            "Requirement already satisfied: spacy-loggers<2.0.0,>=1.0.0 in /usr/local/lib/python3.10/dist-packages (from spacy) (1.0.5)\n",
            "Requirement already satisfied: murmurhash<1.1.0,>=0.28.0 in /usr/local/lib/python3.10/dist-packages (from spacy) (1.0.10)\n",
            "Requirement already satisfied: cymem<2.1.0,>=2.0.2 in /usr/local/lib/python3.10/dist-packages (from spacy) (2.0.8)\n",
            "Requirement already satisfied: preshed<3.1.0,>=3.0.2 in /usr/local/lib/python3.10/dist-packages (from spacy) (3.0.9)\n",
            "Requirement already satisfied: thinc<8.3.0,>=8.2.2 in /usr/local/lib/python3.10/dist-packages (from spacy) (8.2.3)\n",
            "Requirement already satisfied: wasabi<1.2.0,>=0.9.1 in /usr/local/lib/python3.10/dist-packages (from spacy) (1.1.2)\n",
            "Requirement already satisfied: srsly<3.0.0,>=2.4.3 in /usr/local/lib/python3.10/dist-packages (from spacy) (2.4.8)\n",
            "Requirement already satisfied: catalogue<2.1.0,>=2.0.6 in /usr/local/lib/python3.10/dist-packages (from spacy) (2.0.10)\n",
            "Requirement already satisfied: weasel<0.4.0,>=0.1.0 in /usr/local/lib/python3.10/dist-packages (from spacy) (0.3.4)\n",
            "Requirement already satisfied: typer<0.10.0,>=0.3.0 in /usr/local/lib/python3.10/dist-packages (from spacy) (0.9.4)\n",
            "Requirement already satisfied: smart-open<7.0.0,>=5.2.1 in /usr/local/lib/python3.10/dist-packages (from spacy) (6.4.0)\n",
            "Requirement already satisfied: tqdm<5.0.0,>=4.38.0 in /usr/local/lib/python3.10/dist-packages (from spacy) (4.66.2)\n",
            "Requirement already satisfied: requests<3.0.0,>=2.13.0 in /usr/local/lib/python3.10/dist-packages (from spacy) (2.31.0)\n",
            "Requirement already satisfied: pydantic!=1.8,!=1.8.1,<3.0.0,>=1.7.4 in /usr/local/lib/python3.10/dist-packages (from spacy) (2.6.4)\n",
            "Requirement already satisfied: jinja2 in /usr/local/lib/python3.10/dist-packages (from spacy) (3.1.3)\n",
            "Requirement already satisfied: setuptools in /usr/local/lib/python3.10/dist-packages (from spacy) (67.7.2)\n",
            "Requirement already satisfied: packaging>=20.0 in /usr/local/lib/python3.10/dist-packages (from spacy) (24.0)\n",
            "Requirement already satisfied: langcodes<4.0.0,>=3.2.0 in /usr/local/lib/python3.10/dist-packages (from spacy) (3.3.0)\n",
            "Requirement already satisfied: numpy>=1.19.0 in /usr/local/lib/python3.10/dist-packages (from spacy) (1.25.2)\n",
            "Requirement already satisfied: annotated-types>=0.4.0 in /usr/local/lib/python3.10/dist-packages (from pydantic!=1.8,!=1.8.1,<3.0.0,>=1.7.4->spacy) (0.6.0)\n",
            "Requirement already satisfied: pydantic-core==2.16.3 in /usr/local/lib/python3.10/dist-packages (from pydantic!=1.8,!=1.8.1,<3.0.0,>=1.7.4->spacy) (2.16.3)\n",
            "Requirement already satisfied: typing-extensions>=4.6.1 in /usr/local/lib/python3.10/dist-packages (from pydantic!=1.8,!=1.8.1,<3.0.0,>=1.7.4->spacy) (4.10.0)\n",
            "Requirement already satisfied: charset-normalizer<4,>=2 in /usr/local/lib/python3.10/dist-packages (from requests<3.0.0,>=2.13.0->spacy) (3.3.2)\n",
            "Requirement already satisfied: idna<4,>=2.5 in /usr/local/lib/python3.10/dist-packages (from requests<3.0.0,>=2.13.0->spacy) (3.6)\n",
            "Requirement already satisfied: urllib3<3,>=1.21.1 in /usr/local/lib/python3.10/dist-packages (from requests<3.0.0,>=2.13.0->spacy) (2.0.7)\n",
            "Requirement already satisfied: certifi>=2017.4.17 in /usr/local/lib/python3.10/dist-packages (from requests<3.0.0,>=2.13.0->spacy) (2024.2.2)\n",
            "Requirement already satisfied: blis<0.8.0,>=0.7.8 in /usr/local/lib/python3.10/dist-packages (from thinc<8.3.0,>=8.2.2->spacy) (0.7.11)\n",
            "Requirement already satisfied: confection<1.0.0,>=0.0.1 in /usr/local/lib/python3.10/dist-packages (from thinc<8.3.0,>=8.2.2->spacy) (0.1.4)\n",
            "Requirement already satisfied: click<9.0.0,>=7.1.1 in /usr/local/lib/python3.10/dist-packages (from typer<0.10.0,>=0.3.0->spacy) (8.1.7)\n",
            "Requirement already satisfied: cloudpathlib<0.17.0,>=0.7.0 in /usr/local/lib/python3.10/dist-packages (from weasel<0.4.0,>=0.1.0->spacy) (0.16.0)\n",
            "Requirement already satisfied: MarkupSafe>=2.0 in /usr/local/lib/python3.10/dist-packages (from jinja2->spacy) (2.1.5)\n",
            "Requirement already satisfied: spacy-lookups-data in /usr/local/lib/python3.10/dist-packages (1.0.5)\n",
            "Requirement already satisfied: setuptools in /usr/local/lib/python3.10/dist-packages (from spacy-lookups-data) (67.7.2)\n",
            "Collecting en-core-web-sm==3.7.1\n",
            "  Downloading https://github.com/explosion/spacy-models/releases/download/en_core_web_sm-3.7.1/en_core_web_sm-3.7.1-py3-none-any.whl (12.8 MB)\n",
            "\u001b[2K     \u001b[90m━━━━━━━━━━━━━━━━━━━━━━━━━━━━━━━━━━━━━━━━\u001b[0m \u001b[32m12.8/12.8 MB\u001b[0m \u001b[31m61.1 MB/s\u001b[0m eta \u001b[36m0:00:00\u001b[0m\n",
            "\u001b[?25hRequirement already satisfied: spacy<3.8.0,>=3.7.2 in /usr/local/lib/python3.10/dist-packages (from en-core-web-sm==3.7.1) (3.7.4)\n",
            "Requirement already satisfied: spacy-legacy<3.1.0,>=3.0.11 in /usr/local/lib/python3.10/dist-packages (from spacy<3.8.0,>=3.7.2->en-core-web-sm==3.7.1) (3.0.12)\n",
            "Requirement already satisfied: spacy-loggers<2.0.0,>=1.0.0 in /usr/local/lib/python3.10/dist-packages (from spacy<3.8.0,>=3.7.2->en-core-web-sm==3.7.1) (1.0.5)\n",
            "Requirement already satisfied: murmurhash<1.1.0,>=0.28.0 in /usr/local/lib/python3.10/dist-packages (from spacy<3.8.0,>=3.7.2->en-core-web-sm==3.7.1) (1.0.10)\n",
            "Requirement already satisfied: cymem<2.1.0,>=2.0.2 in /usr/local/lib/python3.10/dist-packages (from spacy<3.8.0,>=3.7.2->en-core-web-sm==3.7.1) (2.0.8)\n",
            "Requirement already satisfied: preshed<3.1.0,>=3.0.2 in /usr/local/lib/python3.10/dist-packages (from spacy<3.8.0,>=3.7.2->en-core-web-sm==3.7.1) (3.0.9)\n",
            "Requirement already satisfied: thinc<8.3.0,>=8.2.2 in /usr/local/lib/python3.10/dist-packages (from spacy<3.8.0,>=3.7.2->en-core-web-sm==3.7.1) (8.2.3)\n",
            "Requirement already satisfied: wasabi<1.2.0,>=0.9.1 in /usr/local/lib/python3.10/dist-packages (from spacy<3.8.0,>=3.7.2->en-core-web-sm==3.7.1) (1.1.2)\n",
            "Requirement already satisfied: srsly<3.0.0,>=2.4.3 in /usr/local/lib/python3.10/dist-packages (from spacy<3.8.0,>=3.7.2->en-core-web-sm==3.7.1) (2.4.8)\n",
            "Requirement already satisfied: catalogue<2.1.0,>=2.0.6 in /usr/local/lib/python3.10/dist-packages (from spacy<3.8.0,>=3.7.2->en-core-web-sm==3.7.1) (2.0.10)\n",
            "Requirement already satisfied: weasel<0.4.0,>=0.1.0 in /usr/local/lib/python3.10/dist-packages (from spacy<3.8.0,>=3.7.2->en-core-web-sm==3.7.1) (0.3.4)\n",
            "Requirement already satisfied: typer<0.10.0,>=0.3.0 in /usr/local/lib/python3.10/dist-packages (from spacy<3.8.0,>=3.7.2->en-core-web-sm==3.7.1) (0.9.4)\n",
            "Requirement already satisfied: smart-open<7.0.0,>=5.2.1 in /usr/local/lib/python3.10/dist-packages (from spacy<3.8.0,>=3.7.2->en-core-web-sm==3.7.1) (6.4.0)\n",
            "Requirement already satisfied: tqdm<5.0.0,>=4.38.0 in /usr/local/lib/python3.10/dist-packages (from spacy<3.8.0,>=3.7.2->en-core-web-sm==3.7.1) (4.66.2)\n",
            "Requirement already satisfied: requests<3.0.0,>=2.13.0 in /usr/local/lib/python3.10/dist-packages (from spacy<3.8.0,>=3.7.2->en-core-web-sm==3.7.1) (2.31.0)\n",
            "Requirement already satisfied: pydantic!=1.8,!=1.8.1,<3.0.0,>=1.7.4 in /usr/local/lib/python3.10/dist-packages (from spacy<3.8.0,>=3.7.2->en-core-web-sm==3.7.1) (2.6.4)\n",
            "Requirement already satisfied: jinja2 in /usr/local/lib/python3.10/dist-packages (from spacy<3.8.0,>=3.7.2->en-core-web-sm==3.7.1) (3.1.3)\n",
            "Requirement already satisfied: setuptools in /usr/local/lib/python3.10/dist-packages (from spacy<3.8.0,>=3.7.2->en-core-web-sm==3.7.1) (67.7.2)\n",
            "Requirement already satisfied: packaging>=20.0 in /usr/local/lib/python3.10/dist-packages (from spacy<3.8.0,>=3.7.2->en-core-web-sm==3.7.1) (24.0)\n",
            "Requirement already satisfied: langcodes<4.0.0,>=3.2.0 in /usr/local/lib/python3.10/dist-packages (from spacy<3.8.0,>=3.7.2->en-core-web-sm==3.7.1) (3.3.0)\n",
            "Requirement already satisfied: numpy>=1.19.0 in /usr/local/lib/python3.10/dist-packages (from spacy<3.8.0,>=3.7.2->en-core-web-sm==3.7.1) (1.25.2)\n",
            "Requirement already satisfied: annotated-types>=0.4.0 in /usr/local/lib/python3.10/dist-packages (from pydantic!=1.8,!=1.8.1,<3.0.0,>=1.7.4->spacy<3.8.0,>=3.7.2->en-core-web-sm==3.7.1) (0.6.0)\n",
            "Requirement already satisfied: pydantic-core==2.16.3 in /usr/local/lib/python3.10/dist-packages (from pydantic!=1.8,!=1.8.1,<3.0.0,>=1.7.4->spacy<3.8.0,>=3.7.2->en-core-web-sm==3.7.1) (2.16.3)\n",
            "Requirement already satisfied: typing-extensions>=4.6.1 in /usr/local/lib/python3.10/dist-packages (from pydantic!=1.8,!=1.8.1,<3.0.0,>=1.7.4->spacy<3.8.0,>=3.7.2->en-core-web-sm==3.7.1) (4.10.0)\n",
            "Requirement already satisfied: charset-normalizer<4,>=2 in /usr/local/lib/python3.10/dist-packages (from requests<3.0.0,>=2.13.0->spacy<3.8.0,>=3.7.2->en-core-web-sm==3.7.1) (3.3.2)\n",
            "Requirement already satisfied: idna<4,>=2.5 in /usr/local/lib/python3.10/dist-packages (from requests<3.0.0,>=2.13.0->spacy<3.8.0,>=3.7.2->en-core-web-sm==3.7.1) (3.6)\n",
            "Requirement already satisfied: urllib3<3,>=1.21.1 in /usr/local/lib/python3.10/dist-packages (from requests<3.0.0,>=2.13.0->spacy<3.8.0,>=3.7.2->en-core-web-sm==3.7.1) (2.0.7)\n",
            "Requirement already satisfied: certifi>=2017.4.17 in /usr/local/lib/python3.10/dist-packages (from requests<3.0.0,>=2.13.0->spacy<3.8.0,>=3.7.2->en-core-web-sm==3.7.1) (2024.2.2)\n",
            "Requirement already satisfied: blis<0.8.0,>=0.7.8 in /usr/local/lib/python3.10/dist-packages (from thinc<8.3.0,>=8.2.2->spacy<3.8.0,>=3.7.2->en-core-web-sm==3.7.1) (0.7.11)\n",
            "Requirement already satisfied: confection<1.0.0,>=0.0.1 in /usr/local/lib/python3.10/dist-packages (from thinc<8.3.0,>=8.2.2->spacy<3.8.0,>=3.7.2->en-core-web-sm==3.7.1) (0.1.4)\n",
            "Requirement already satisfied: click<9.0.0,>=7.1.1 in /usr/local/lib/python3.10/dist-packages (from typer<0.10.0,>=0.3.0->spacy<3.8.0,>=3.7.2->en-core-web-sm==3.7.1) (8.1.7)\n",
            "Requirement already satisfied: cloudpathlib<0.17.0,>=0.7.0 in /usr/local/lib/python3.10/dist-packages (from weasel<0.4.0,>=0.1.0->spacy<3.8.0,>=3.7.2->en-core-web-sm==3.7.1) (0.16.0)\n",
            "Requirement already satisfied: MarkupSafe>=2.0 in /usr/local/lib/python3.10/dist-packages (from jinja2->spacy<3.8.0,>=3.7.2->en-core-web-sm==3.7.1) (2.1.5)\n",
            "\u001b[38;5;2m✔ Download and installation successful\u001b[0m\n",
            "You can now load the package via spacy.load('en_core_web_sm')\n",
            "\u001b[38;5;3m⚠ Restart to reload dependencies\u001b[0m\n",
            "If you are in a Jupyter or Colab notebook, you may need to restart Python in\n",
            "order to load all the package's dependencies. You can do this by selecting the\n",
            "'Restart kernel' or 'Restart runtime' option.\n"
          ]
        }
      ],
      "source": [
        "! pip install opencv-python\n",
        "! pip install pandas\n",
        "! pip install nltk\n",
        "! pip install spacy\n",
        "! pip install spacy-lookups-data\n",
        "! python -m spacy download en_core_web_sm\n",
        "#! python -m spacy link en_core_web_sm en\n"
      ]
    },
    {
      "cell_type": "markdown",
      "source": [
        "Here's a basic example of using spaCy that should work without any issues related to lookup tables once spacy-lookups-data is installed:\n",
        "\n"
      ],
      "metadata": {
        "id": "MxSLkVTlF-vq"
      }
    },
    {
      "cell_type": "code",
      "source": [
        "import spacy\n",
        "\n",
        "# Load the English tokenizer, tagger, parser, NER, and word vectors\n",
        "nlp = spacy.load(\"en_core_web_sm\")  # Make sure you've downloaded this model\n",
        "\n",
        "# Process a text\n",
        "doc = nlp(\"Apple is looking at buying U.K. startup for $1 billion\")\n",
        "\n",
        "# Print the document text and perform operations as needed\n",
        "print(doc.text)\n"
      ],
      "metadata": {
        "colab": {
          "base_uri": "https://localhost:8080/"
        },
        "id": "d3uDv1LAF8sN",
        "outputId": "df82cb45-e41d-4552-b5aa-6c0ecf948e6d"
      },
      "execution_count": 2,
      "outputs": [
        {
          "output_type": "stream",
          "name": "stdout",
          "text": [
            "Apple is looking at buying U.K. startup for $1 billion\n"
          ]
        }
      ]
    },
    {
      "cell_type": "code",
      "source": [
        "import os\n",
        "import cv2\n",
        "import pandas as pd\n",
        "import matplotlib.pyplot as plt\n",
        "import nltk\n",
        "import re\n",
        "from nltk.tokenize import word_tokenize, sent_tokenize,wordpunct_tokenize\n",
        "from google.colab.patches import cv2_imshow\n",
        "nltk.download('punkt')\n",
        "import spacy\n",
        "from spacy import displacy\n",
        "from spacy.matcher import matcher\n",
        "from spacy.tokens import span\n",
        "from spacy.language import Language\n",
        "from spacy.pipeline import EntityRuler\n",
        "from spacy.util import minibatch\n",
        "\n",
        "\n",
        "# Load English tokenizer, tagger, parser and NER\n",
        "nlp = spacy.load(\"en_core_web_sm\")"
      ],
      "metadata": {
        "id": "xxIcPpzvu10m",
        "colab": {
          "base_uri": "https://localhost:8080/"
        },
        "outputId": "621e3f1e-5230-4e4e-8c3f-6b9c572466a5"
      },
      "execution_count": 3,
      "outputs": [
        {
          "output_type": "stream",
          "name": "stderr",
          "text": [
            "[nltk_data] Downloading package punkt to /root/nltk_data...\n",
            "[nltk_data]   Package punkt is already up-to-date!\n"
          ]
        }
      ]
    },
    {
      "cell_type": "markdown",
      "source": [
        "Identify data source in Tableau"
      ],
      "metadata": {
        "id": "3WprfdIsaFTS"
      }
    },
    {
      "cell_type": "code",
      "source": [
        "from google.colab import files\n",
        "file=\"formulas_test.xlsx\"\n",
        "if file not in os.listdir('/content/'):\n",
        "      files.upload()"
      ],
      "metadata": {
        "id": "UHH7lGi6y0YR"
      },
      "execution_count": 4,
      "outputs": []
    },
    {
      "cell_type": "markdown",
      "source": [
        "# TASK: FORMULA CONVERSION"
      ],
      "metadata": {
        "id": "1v6YT5c1KT7P"
      }
    },
    {
      "cell_type": "markdown",
      "source": [
        "1. Define Use Cases:\n",
        "Clearly define the use cases for which you want to leverage NLP for Tableau formulas identification. For example, you might want to interpret natural language descriptions and generate Tableau formulas for common tasks like aggregations, calculations, or filtering."
      ],
      "metadata": {
        "id": "kNqoonM3LnuZ"
      }
    },
    {
      "cell_type": "markdown",
      "source": [
        "2. Data Collection:\n",
        "Collect a dataset that includes examples of natural language descriptions paired with their corresponding Tableau formulas. The dataset should cover a variety of scenarios to train a model that can generalize well."
      ],
      "metadata": {
        "id": "l_qNBlF_MJR8"
      }
    },
    {
      "cell_type": "markdown",
      "source": [
        "# Iris Dataset"
      ],
      "metadata": {
        "id": "IikOCIb3hfck"
      }
    },
    {
      "cell_type": "markdown",
      "source": [
        "# Normalize Formulas Tableau"
      ],
      "metadata": {
        "id": "zIUEIr_NWSK6"
      }
    },
    {
      "cell_type": "code",
      "source": [
        "def normalize_formula(text):\n",
        "    # Add space after function names if missing\n",
        "    text = re.sub(r\"(\\w)\\(\", r\"\\1 (\", text)\n",
        "    # Ensure there's a space before and after parentheses\n",
        "    text = re.sub(r\"\\s*\\(\\s*\", \" ( \", text)\n",
        "    text = re.sub(r\"\\s*\\)\\s*\", \" ) \", text)\n",
        "    # Ensure there's a space before and after square brackets\n",
        "    text = re.sub(r\"\\s*\\[\\s*\", \" [ \", text)\n",
        "    text = re.sub(r\"\\s*\\]\\s*\", \" ] \", text)\n",
        "    # Ensure there's a space before and after curly brackets\n",
        "    text = re.sub(r\"\\s*\\{\\s*\", \" { \", text)\n",
        "    text = re.sub(r\"\\s*\\}\\s*\", \" } \", text)\n",
        "    # Ensure there's a space before and after comparison symbols\n",
        "    text = re.sub(r\"\\s*\\==\\s*\", \" == \", text)\n",
        "    text = re.sub(r\"(?<!\\=)\\s*\\=\\s*(?!=)\", \" = \", text)\n",
        "    text = re.sub(r\"\\s*\\>=\\s*\", \" >= \", text)\n",
        "    text = re.sub(r\"\\s*\\<=\\s*\", \" <= \", text)\n",
        "    text = re.sub(r\"\\s*\\>\\s*\", \" > \", text)\n",
        "    text = re.sub(r\"\\s*\\<\\s*\", \" < \", text)\n",
        "    # Ensure there's a space before and after interrogative/exclamative symbols\n",
        "    text = re.sub(r\"\\s*\\?\\s*\", \" ? \", text)\n",
        "    text = re.sub(r\"\\s*\\!\\s*\", \" ! \", text)\n",
        "\n",
        "    return text\n"
      ],
      "metadata": {
        "id": "f2koxJaZhW4y"
      },
      "execution_count": 5,
      "outputs": []
    },
    {
      "cell_type": "markdown",
      "source": [
        "#Loading the Training Dataset : Formulas"
      ],
      "metadata": {
        "id": "pNy3YOxpzm7O"
      }
    },
    {
      "cell_type": "code",
      "source": [
        "df=pd.read_excel(\"formulas.xlsx\")\n",
        "print(df.head(5))"
      ],
      "metadata": {
        "colab": {
          "base_uri": "https://localhost:8080/"
        },
        "id": "poRpKdFbXy3V",
        "outputId": "ce5932bd-6090-49fb-c371-56323321d446"
      },
      "execution_count": 6,
      "outputs": [
        {
          "output_type": "stream",
          "name": "stdout",
          "text": [
            "                                  Description        Formula (Tableau)\n",
            "0                         Sum of Sepal Length        SUM(Sepal Length)\n",
            "1      Average Sepal Width across all entries         AVG(Sepal Width)\n",
            "2                Find the median Petal Length     MEDIAN(Petal Length)\n",
            "3  Count the number of records in the dataset                 COUNT(*)\n",
            "4       Count distinct species in the dataset  COUNT DISTINCT(Species)\n"
          ]
        }
      ]
    },
    {
      "cell_type": "code",
      "source": [
        "df.columns"
      ],
      "metadata": {
        "colab": {
          "base_uri": "https://localhost:8080/"
        },
        "id": "EUv6rYeansXe",
        "outputId": "e9b9ef77-b289-4eda-fa83-9c6339ac689e"
      },
      "execution_count": 7,
      "outputs": [
        {
          "output_type": "execute_result",
          "data": {
            "text/plain": [
              "Index(['Description', 'Formula (Tableau)'], dtype='object')"
            ]
          },
          "metadata": {},
          "execution_count": 7
        }
      ]
    },
    {
      "cell_type": "code",
      "source": [
        "df[df.columns[1]]=df[df.columns[1]].apply(lambda x:normalize_formula(x))"
      ],
      "metadata": {
        "id": "3lnrYMMHWdme"
      },
      "execution_count": 8,
      "outputs": []
    },
    {
      "cell_type": "code",
      "source": [
        "print(df.head(10))"
      ],
      "metadata": {
        "colab": {
          "base_uri": "https://localhost:8080/"
        },
        "id": "KtO0qljxXXAW",
        "outputId": "a35a0dd3-6486-4080-d15e-87aa1fccd1d7"
      },
      "execution_count": 9,
      "outputs": [
        {
          "output_type": "stream",
          "name": "stdout",
          "text": [
            "                                         Description  \\\n",
            "0                                Sum of Sepal Length   \n",
            "1             Average Sepal Width across all entries   \n",
            "2                       Find the median Petal Length   \n",
            "3         Count the number of records in the dataset   \n",
            "4              Count distinct species in the dataset   \n",
            "5                      Minimum value of Sepal Length   \n",
            "6           Maximum Petal Width found in the dataset   \n",
            "7                           Group records by Species   \n",
            "8  Sort the entries by Sepal Length in ascending ...   \n",
            "9                        List Species alphabetically   \n",
            "\n",
            "                Formula (Tableau)  \n",
            "0           SUM ( Sepal Length )   \n",
            "1            AVG ( Sepal Width )   \n",
            "2        MEDIAN ( Petal Length )   \n",
            "3                    COUNT ( * )   \n",
            "4     COUNT DISTINCT ( Species )   \n",
            "5           MIN ( Sepal Length )   \n",
            "6            MAX ( Petal Width )   \n",
            "7           GROUP BY ( Species )   \n",
            "8  ORDER BY ( Sepal Length ASC )   \n",
            "9       ORDER BY ( Species ASC )   \n"
          ]
        }
      ]
    },
    {
      "cell_type": "markdown",
      "source": [
        "# Loading the Test Dataset: Formulas_test"
      ],
      "metadata": {
        "id": "nzjZqBRx_6e2"
      }
    },
    {
      "cell_type": "code",
      "source": [
        "dff=pd.read_excel(\"formulas_test.xlsx\")\n",
        "print(dff.head(10))"
      ],
      "metadata": {
        "colab": {
          "base_uri": "https://localhost:8080/"
        },
        "id": "FkaxMEENAAe2",
        "outputId": "f6cfdee4-8432-41de-8698-421f9e468c3f"
      },
      "execution_count": 10,
      "outputs": [
        {
          "output_type": "stream",
          "name": "stdout",
          "text": [
            "                                        Description  \\\n",
            "0                  Total Sepal Width in the dataset   \n",
            "1           Average Petal Length across all flowers   \n",
            "2                             Median of Sepal Width   \n",
            "3                 Number of entries in the database   \n",
            "4                     Unique count of Petal Lengths   \n",
            "5                              Smallest Petal Width   \n",
            "6                              Largest Sepal Length   \n",
            "7                Categorize flowers by Petal Length   \n",
            "8  Organize data by Petal Width in descending order   \n",
            "9               Alphabetize entries by Species name   \n",
            "\n",
            "              Formula (Tableau)  \n",
            "0              SUM(Sepal Width)  \n",
            "1             AVG(Petal Length)  \n",
            "2           MEDIAN(Sepal Width)  \n",
            "3                      COUNT(*)  \n",
            "4  COUNT DISTINCT(Petal Length)  \n",
            "5              MIN(Petal Width)  \n",
            "6             MAX(Sepal Length)  \n",
            "7        GROUP BY(Petal Length)  \n",
            "8    ORDER BY(Petal Width DESC)  \n",
            "9         ORDER BY(Species ASC)  \n"
          ]
        }
      ]
    },
    {
      "cell_type": "code",
      "source": [
        "dff.shape"
      ],
      "metadata": {
        "colab": {
          "base_uri": "https://localhost:8080/"
        },
        "id": "7oxAXDa-CCP9",
        "outputId": "441e04d8-54f4-4d97-c104-be5916d9dfbb"
      },
      "execution_count": 11,
      "outputs": [
        {
          "output_type": "execute_result",
          "data": {
            "text/plain": [
              "(54, 2)"
            ]
          },
          "metadata": {},
          "execution_count": 11
        }
      ]
    },
    {
      "cell_type": "code",
      "source": [
        "dff[dff.columns[1]]=dff[dff.columns[1]].apply(lambda x:normalize_formula(x))"
      ],
      "metadata": {
        "id": "A8fJLzp3Y0nY"
      },
      "execution_count": 12,
      "outputs": []
    },
    {
      "cell_type": "code",
      "source": [
        "print(dff.head(10))"
      ],
      "metadata": {
        "colab": {
          "base_uri": "https://localhost:8080/"
        },
        "id": "9Gk3RoP_ZCXq",
        "outputId": "1371ed0d-26f4-4e2e-d592-25c155899e90"
      },
      "execution_count": 13,
      "outputs": [
        {
          "output_type": "stream",
          "name": "stdout",
          "text": [
            "                                        Description  \\\n",
            "0                  Total Sepal Width in the dataset   \n",
            "1           Average Petal Length across all flowers   \n",
            "2                             Median of Sepal Width   \n",
            "3                 Number of entries in the database   \n",
            "4                     Unique count of Petal Lengths   \n",
            "5                              Smallest Petal Width   \n",
            "6                              Largest Sepal Length   \n",
            "7                Categorize flowers by Petal Length   \n",
            "8  Organize data by Petal Width in descending order   \n",
            "9               Alphabetize entries by Species name   \n",
            "\n",
            "                  Formula (Tableau)  \n",
            "0              SUM ( Sepal Width )   \n",
            "1             AVG ( Petal Length )   \n",
            "2           MEDIAN ( Sepal Width )   \n",
            "3                      COUNT ( * )   \n",
            "4  COUNT DISTINCT ( Petal Length )   \n",
            "5              MIN ( Petal Width )   \n",
            "6             MAX ( Sepal Length )   \n",
            "7        GROUP BY ( Petal Length )   \n",
            "8    ORDER BY ( Petal Width DESC )   \n",
            "9         ORDER BY ( Species ASC )   \n"
          ]
        }
      ]
    },
    {
      "cell_type": "markdown",
      "source": [
        "3. Preprocess the Data:\n",
        "Clean and preprocess the collected dataset. Tokenize the natural language descriptions and normalize the Tableau formulas to create input-output pairs for training the NLP model."
      ],
      "metadata": {
        "id": "yBaMVVjDMPUX"
      }
    },
    {
      "cell_type": "markdown",
      "source": [
        "# Tokenization of the formulas.xlsx dataset"
      ],
      "metadata": {
        "id": "jWTDJIV8iQ6n"
      }
    },
    {
      "cell_type": "code",
      "source": [
        "dg_tok=df.apply(lambda x:[wordpunct_tokenize(y) for y in x])"
      ],
      "metadata": {
        "id": "wSncaqoVk8jP"
      },
      "execution_count": 14,
      "outputs": []
    },
    {
      "cell_type": "code",
      "source": [
        "dg_tok=dg_tok.rename(columns=lambda x:\"Tokenized \" + x)\n",
        "dg_tok=dg_tok.loc[:,dg_tok.columns[[0,1]]]\n",
        "dg_tok.rename(columns=lambda x:x.strip(), inplace=True)\n",
        "print(dg_tok.head(5))\n"
      ],
      "metadata": {
        "colab": {
          "base_uri": "https://localhost:8080/"
        },
        "id": "9Es5VROgoMPQ",
        "outputId": "6ccf8860-dea3-4075-e459-e9f418aa916c"
      },
      "execution_count": 15,
      "outputs": [
        {
          "output_type": "stream",
          "name": "stdout",
          "text": [
            "                               Tokenized Description  \\\n",
            "0                           [Sum, of, Sepal, Length]   \n",
            "1      [Average, Sepal, Width, across, all, entries]   \n",
            "2                 [Find, the, median, Petal, Length]   \n",
            "3  [Count, the, number, of, records, in, the, dat...   \n",
            "4       [Count, distinct, species, in, the, dataset]   \n",
            "\n",
            "        Tokenized Formula (Tableau)  \n",
            "0        [SUM, (, Sepal, Length, )]  \n",
            "1         [AVG, (, Sepal, Width, )]  \n",
            "2     [MEDIAN, (, Petal, Length, )]  \n",
            "3                  [COUNT, (, *, )]  \n",
            "4  [COUNT, DISTINCT, (, Species, )]  \n"
          ]
        }
      ]
    },
    {
      "cell_type": "markdown",
      "source": [
        "#description={} with keys=['text','label','vocab','stopwords']"
      ],
      "metadata": {
        "id": "Y8gngbhSwrb2"
      }
    },
    {
      "cell_type": "code",
      "source": [
        "description={}\n",
        "description['stopwords']=['\\\\','Iri','Se','C','Sepal','ica','Length',\"'s\",'.',\"'\", 's', 'a','(',')','Petal','Distinct',\"Width\",',',\"'\",\"[\",\"]\"]\n",
        "description['text']=[sentence for sentence in df[df.columns[0]]]\n",
        "description['vocab']=list(set([word  for ii in range(len(dg_tok[dg_tok.columns[0]])) for word  in dg_tok[dg_tok.columns[0]][ii] if word not in description['stopwords']]))\n",
        "len_desc_vocab=len(description['vocab'])"
      ],
      "metadata": {
        "id": "MoErRllrwp5S"
      },
      "execution_count": 16,
      "outputs": []
    },
    {
      "cell_type": "code",
      "source": [
        "print(len_desc_vocab,description['vocab'])"
      ],
      "metadata": {
        "colab": {
          "base_uri": "https://localhost:8080/"
        },
        "id": "VC962_RI2QWi",
        "outputId": "8c18bd15-b5b3-4c35-801b-af98ea67e217"
      },
      "execution_count": 17,
      "outputs": [
        {
          "output_type": "stream",
          "name": "stdout",
          "text": [
            "129 ['flowers', 'Group', 'than', 'Number', 'name', 'from', 'year', 'Highest', '%', '10', 'and', 'Top', 'How', 'greater', 'alphabetically', 'both', 'ends', 'sorted', 'across', 'by', 'data', 'occurrences', 'each', 'Organize', 'Date', 'the', 'Minimum', 'smallest', 'bottom', 'average', 'not', 'found', 'Median', 'count', 'distinct', 'highest', 'Total', 'Lengths', 'over', 'top', '3', 'unique', 'of', '5', 'flower', 'Count', 'this', 'Show', 'many', 'points', 'virginica', 'starts', 'less', 'only', 'observation', 'show', 'Sum', 'records', 'species', 'dataset', '1', 'List', '10th', 'What', 'Rank', 'number', 'ascending', 'are', 'where', 'types', 'Select', 'between', 'is', 'percentile', 'how', 'high', 'to', 'Lowest', 'Display', 'least', 'all', 'Filter', 'order', 'assuming', '4', 'middle', 'or', 'median', 'setosa', 'Sort', 'there', 'start', 'last', 'with', 'Aggregate', 'value', 'Determine', 'recorded', 'exactly', 'Widths', 'starting', 'Find', 'versicolor', '2', 'equal', 'field', 'within', 'contains', 'Calculate', 'grouped', 'Average', 'at', '?', 'color', '0', 'Entries', 'entries', 'January', 'total', 'Setosa', 'Iris', 'Species', 'month', 'in', 'low', 'for', 'descending', 'Maximum', 'above']\n"
          ]
        }
      ]
    },
    {
      "cell_type": "markdown",
      "source": [
        "#formulas={} with keys=['text','label','vocab','stopwords']"
      ],
      "metadata": {
        "id": "atVOJSPMDXDk"
      }
    },
    {
      "cell_type": "code",
      "source": [
        "formulas={}\n",
        "formulas['stopwords']=['\\\\','Iri','Se','C','Sepal','ica','Length',\"'s\",'.',\"'\", 's', 'a','(',')','Petal','Distinct','distinct',\"Width\",',','BY','by','from',\"[\",\"]\"]\n",
        "formulas['text']=[sentence for sentence in df[df.columns[1]]]\n",
        "formulas['vocab']=list(set([word  for ii in range(len(dg_tok[dg_tok.columns[1]])) for word  in dg_tok[dg_tok.columns[1]][ii] if word not in formulas['stopwords']]))\n",
        "len_formulas_vocab=len(formulas['vocab'])"
      ],
      "metadata": {
        "id": "mP4RvAnQDhqw"
      },
      "execution_count": 18,
      "outputs": []
    },
    {
      "cell_type": "code",
      "source": [
        "print(len_formulas_vocab,formulas['vocab'])"
      ],
      "metadata": {
        "colab": {
          "base_uri": "https://localhost:8080/"
        },
        "id": "3tiDSO_5FSK5",
        "outputId": "768b41d2-0cd1-4af2-8f40-9c4d644c2343"
      },
      "execution_count": 19,
      "outputs": [
        {
          "output_type": "stream",
          "name": "stdout",
          "text": [
            "70 ['1', 'FROM', 'BETWEEN', 'COUNTD', 'MAX', 'ASC', 'NULL', 'MEDIAN', '<', 'versicolor', 'highest', '*', 'DATETRUNC', \"',\", 'year', '2', 'CONTAINS', 'DESC', 'WITH', 'STARTS', 'SORT', 'ORDER', '=', 'RANK_PERCENTILE', '9', 'THEN', 'INDEX', 'IF', '-', '3', '!', '5', 'RANK', 'to', '0', 'SUM', 'color', 'YEAR', 'AVG', 'alphabetically', 'LEFT', 'virginica', '}', '4', 'LISTED', 'END', 'Setosa', 'FIXED', ':', '{', 'SORTED', 'TODAY', '”', 'Species', 'AND', 'month', '“', 'Date', 'setosa', 'MIN', 'lowest', 'TOP', 'ENDSWITH', 'GROUP', '\"', 'STARTSWITH', '>', 'ELSE', 'DISTINCT', 'COUNT']\n"
          ]
        }
      ]
    },
    {
      "cell_type": "markdown",
      "source": [
        "# Recognition of entities"
      ],
      "metadata": {
        "id": "qP-7wngxaCHd"
      }
    },
    {
      "cell_type": "code",
      "source": [
        "def get_pos_(data,col_name):\n",
        "  dd=[]\n",
        "  gg=[]\n",
        "  for tok in data[col_name]:\n",
        "\n",
        "          for ent in nlp(str(list(str(tok).split()))):\n",
        "              # checking text between punct\n",
        "              dd.append({ent.text:ent.pos_})\n",
        "              gg.append({ent.pos_:ent.text})\n",
        "  return dd,gg\n",
        "\n",
        "\n",
        "def get_entity(data,col_name):\n",
        "     #from spacy.tokens import DocBin\n",
        "     dd=[]\n",
        "     dt=[]\n",
        "     for text in data[col_name]:\n",
        "          doc=nlp(text)\n",
        "          dp=[text]\n",
        "          dt_e={}\n",
        "          dt_e[\"entities\"]=[]\n",
        "          for ent in doc.ents:\n",
        "                    dp.append([ent.text,ent.label_])\n",
        "                    dt_e[\"entities\"].append((ent.start_char,ent.end_char,ent.label_))\n",
        "          dt.append((text,dt_e))\n",
        "          dd.append(dp)\n",
        "     return dd,dt"
      ],
      "metadata": {
        "id": "eMAJbb2faGQk"
      },
      "execution_count": 20,
      "outputs": []
    },
    {
      "cell_type": "code",
      "source": [
        "def get_patterns(data,col_name):\n",
        "     dt,dp=get_pos_(data,col_name)\n",
        "\n",
        "     pos_=[list(item.keys())[0] for item in dp]\n",
        "     pos_=list(set(pos_))\n",
        "     print(dt)\n",
        "     print(col_name,\":\",pos_)\n",
        "     patterns={}\n",
        "     patterns_head=[]\n",
        "     for key in pos_:\n",
        "         patterns.update({key:list(set([d[key] for d in dp if  key==list(d.keys())[0] and d[key] not in data[\"stopwords\"]]))})\n",
        "     return patterns"
      ],
      "metadata": {
        "id": "Oeo2V3MGdOvt"
      },
      "execution_count": 21,
      "outputs": []
    },
    {
      "cell_type": "markdown",
      "source": [
        "#Pipe entities to description"
      ],
      "metadata": {
        "id": "O3nyLDBqbvN-"
      }
    },
    {
      "cell_type": "code",
      "source": [
        "dg_ent={}"
      ],
      "metadata": {
        "id": "S64XfOnqa1MV"
      },
      "execution_count": 22,
      "outputs": []
    },
    {
      "cell_type": "code",
      "source": [
        "p_d=dg_ent['Patterns_Description']=get_patterns(description,\"vocab\")"
      ],
      "metadata": {
        "colab": {
          "base_uri": "https://localhost:8080/"
        },
        "id": "Katd9zAma3TE",
        "outputId": "7f493c60-d846-4885-8c94-7bd6effd6712"
      },
      "execution_count": 23,
      "outputs": [
        {
          "output_type": "stream",
          "name": "stdout",
          "text": [
            "[{'[': 'X'}, {\"'\": 'NOUN'}, {'flowers': 'NOUN'}, {\"'\": 'VERB'}, {']': 'PUNCT'}, {'[': 'X'}, {\"'\": 'PUNCT'}, {'Group': 'PROPN'}, {\"'\": 'PUNCT'}, {']': 'PUNCT'}, {'[': 'X'}, {\"'\": 'PUNCT'}, {'than': 'ADP'}, {\"'\": 'NOUN'}, {']': 'PUNCT'}, {'[': 'X'}, {\"'\": 'X'}, {'Number': 'NOUN'}, {\"'\": 'PUNCT'}, {']': 'PUNCT'}, {'[': 'X'}, {\"'\": 'PUNCT'}, {'name': 'NOUN'}, {\"'\": 'PUNCT'}, {']': 'PUNCT'}, {'[': 'X'}, {\"'\": 'PUNCT'}, {'from': 'ADP'}, {\"'\": 'PUNCT'}, {']': 'PUNCT'}, {'[': 'X'}, {\"'\": 'PUNCT'}, {'year': 'NOUN'}, {\"'\": 'PUNCT'}, {']': 'PUNCT'}, {'[': 'X'}, {\"'\": 'PUNCT'}, {'Highest': 'ADJ'}, {\"'\": 'PUNCT'}, {']': 'PUNCT'}, {'[': 'X'}, {\"'\": 'X'}, {'%': 'INTJ'}, {\"'\": 'PUNCT'}, {']': 'PUNCT'}, {'[': 'X'}, {\"'\": 'NUM'}, {'10': 'NUM'}, {\"'\": 'PUNCT'}, {']': 'PUNCT'}, {'[': 'X'}, {\"'\": 'PUNCT'}, {'and': 'CCONJ'}, {\"'\": 'PUNCT'}, {']': 'PUNCT'}, {'[': 'X'}, {\"'\": 'PUNCT'}, {'Top': 'ADJ'}, {\"'\": 'PUNCT'}, {']': 'PUNCT'}, {'[': 'X'}, {\"'\": 'X'}, {'How': 'SCONJ'}, {\"'\": 'PUNCT'}, {']': 'PUNCT'}, {'[': 'X'}, {\"'\": 'PUNCT'}, {'greater': 'ADJ'}, {\"'\": 'PUNCT'}, {']': 'PUNCT'}, {'[': 'X'}, {\"'\": 'PUNCT'}, {'alphabetically': 'ADV'}, {\"'\": 'VERB'}, {']': 'PUNCT'}, {'[': 'X'}, {\"'\": 'PUNCT'}, {'both': 'PRON'}, {\"'\": 'VERB'}, {']': 'PUNCT'}, {'[': 'X'}, {\"'\": 'PUNCT'}, {'ends': 'VERB'}, {\"'\": 'PUNCT'}, {']': 'PUNCT'}, {'[': 'X'}, {\"'\": 'PUNCT'}, {'sorted': 'VERB'}, {\"'\": 'PUNCT'}, {']': 'PUNCT'}, {'[': 'X'}, {\"'\": 'PUNCT'}, {'across': 'ADP'}, {\"'\": 'PUNCT'}, {']': 'PUNCT'}, {'[': 'X'}, {\"'\": 'PUNCT'}, {'by': 'ADP'}, {\"'\": 'PUNCT'}, {']': 'PUNCT'}, {'[': 'X'}, {\"'\": 'PUNCT'}, {'data': 'NOUN'}, {\"'\": 'PUNCT'}, {']': 'PUNCT'}, {'[': 'X'}, {\"'\": 'NOUN'}, {'occurrences': 'NOUN'}, {\"'\": 'PUNCT'}, {']': 'PUNCT'}, {'[': 'X'}, {\"'\": 'PUNCT'}, {'each': 'PRON'}, {\"'\": 'PUNCT'}, {']': 'PUNCT'}, {'[': 'X'}, {\"'\": 'PUNCT'}, {'Organize': 'VERB'}, {\"'\": 'PUNCT'}, {']': 'PUNCT'}, {'[': 'X'}, {\"'\": 'PUNCT'}, {'Date': 'PROPN'}, {\"'\": 'PUNCT'}, {']': 'PUNCT'}, {'[': 'X'}, {\"'\": 'PUNCT'}, {'the': 'DET'}, {\"'\": 'PUNCT'}, {']': 'PUNCT'}, {'[': 'X'}, {\"'\": 'PUNCT'}, {'Minimum': 'PROPN'}, {\"'\": 'PUNCT'}, {']': 'PUNCT'}, {'[': 'X'}, {\"'\": 'PUNCT'}, {'smallest': 'ADJ'}, {\"'\": 'PUNCT'}, {']': 'PUNCT'}, {'[': 'X'}, {\"'\": 'PUNCT'}, {'bottom': 'ADJ'}, {\"'\": 'PUNCT'}, {']': 'PUNCT'}, {'[': 'X'}, {\"'\": 'PUNCT'}, {'average': 'ADJ'}, {\"'\": 'PUNCT'}, {']': 'PUNCT'}, {'[': 'X'}, {\"'\": 'VERB'}, {'not': 'PART'}, {\"'\": 'PUNCT'}, {']': 'PUNCT'}, {'[': 'X'}, {\"'\": 'PUNCT'}, {'found': 'VERB'}, {\"'\": 'PUNCT'}, {']': 'PUNCT'}, {'[': 'X'}, {\"'\": 'PUNCT'}, {'Median': 'PROPN'}, {\"'\": 'PUNCT'}, {']': 'PUNCT'}, {'[': 'X'}, {\"'\": 'PUNCT'}, {'count': 'VERB'}, {\"'\": 'PUNCT'}, {']': 'PUNCT'}, {'[': 'X'}, {\"'\": 'PUNCT'}, {'distinct': 'ADJ'}, {\"'\": 'PUNCT'}, {']': 'PUNCT'}, {'[': 'X'}, {\"'\": 'PUNCT'}, {'highest': 'ADJ'}, {\"'\": 'PUNCT'}, {']': 'PUNCT'}, {'[': 'X'}, {\"'\": 'PROPN'}, {'Total': 'ADJ'}, {\"'\": 'PUNCT'}, {']': 'PUNCT'}, {'[': 'X'}, {\"'\": 'X'}, {'Lengths': 'NOUN'}, {\"'\": 'PUNCT'}, {']': 'PUNCT'}, {'[': 'X'}, {\"'\": 'PUNCT'}, {'over': 'ADP'}, {\"'\": 'PUNCT'}, {']': 'PUNCT'}, {'[': 'X'}, {\"'\": 'PUNCT'}, {'top': 'ADJ'}, {\"'\": 'PUNCT'}, {']': 'PUNCT'}, {'[': 'X'}, {\"'\": 'NUM'}, {'3': 'NUM'}, {\"'\": 'PUNCT'}, {']': 'PUNCT'}, {'[': 'X'}, {\"'\": 'PUNCT'}, {'unique': 'ADJ'}, {\"'\": 'PUNCT'}, {']': 'PUNCT'}, {'[': 'X'}, {\"'\": 'VERB'}, {'of': 'ADP'}, {\"'\": 'PUNCT'}, {']': 'PUNCT'}, {'[': 'X'}, {\"'\": 'NUM'}, {'5': 'NUM'}, {\"'\": 'PUNCT'}, {']': 'PUNCT'}, {'[': 'X'}, {\"'\": 'PUNCT'}, {'flower': 'NOUN'}, {\"'\": 'PUNCT'}, {']': 'PUNCT'}, {'[': 'X'}, {\"'\": 'PUNCT'}, {'Count': 'PROPN'}, {\"'\": 'PUNCT'}, {']': 'PUNCT'}, {'[': 'X'}, {\"'\": 'PUNCT'}, {'this': 'PRON'}, {\"'\": 'PUNCT'}, {']': 'PUNCT'}, {'[': 'X'}, {\"'\": 'PUNCT'}, {'Show': 'VERB'}, {\"'\": 'PUNCT'}, {']': 'PUNCT'}, {'[': 'X'}, {\"'\": 'PUNCT'}, {'many': 'ADJ'}, {\"'\": 'PUNCT'}, {']': 'PUNCT'}, {'[': 'X'}, {\"'\": 'NOUN'}, {'points': 'NOUN'}, {\"'\": 'PUNCT'}, {']': 'PUNCT'}, {'[': 'X'}, {\"'\": 'NOUN'}, {'virginica': 'X'}, {\"'\": 'PUNCT'}, {']': 'PUNCT'}, {'[': 'X'}, {\"'\": 'PUNCT'}, {'starts': 'VERB'}, {\"'\": 'PUNCT'}, {']': 'PUNCT'}, {'[': 'X'}, {\"'\": 'PUNCT'}, {'less': 'ADJ'}, {\"'\": 'PUNCT'}, {']': 'PUNCT'}, {'[': 'X'}, {\"'\": 'PUNCT'}, {'only': 'ADV'}, {\"'\": 'PUNCT'}, {']': 'PUNCT'}, {'[': 'X'}, {\"'\": 'PUNCT'}, {'observation': 'NOUN'}, {\"'\": 'PUNCT'}, {']': 'PUNCT'}, {'[': 'X'}, {\"'\": 'PUNCT'}, {'show': 'VERB'}, {\"'\": 'PUNCT'}, {']': 'PUNCT'}, {'[': 'X'}, {\"'\": 'NOUN'}, {'Sum': 'NOUN'}, {\"'\": 'PUNCT'}, {']': 'PUNCT'}, {'[': 'X'}, {\"'\": 'NOUN'}, {'records': 'NOUN'}, {\"'\": 'PUNCT'}, {']': 'PUNCT'}, {'[': 'X'}, {\"'\": 'PUNCT'}, {'species': 'NOUN'}, {\"'\": 'PUNCT'}, {']': 'PUNCT'}, {'[': 'X'}, {\"'\": 'PUNCT'}, {'dataset': 'ADJ'}, {\"'\": 'PUNCT'}, {']': 'PUNCT'}, {'[': 'X'}, {\"'\": 'NOUN'}, {'1': 'NUM'}, {\"'\": 'NUM'}, {']': 'PUNCT'}, {'[': 'X'}, {\"'\": 'PUNCT'}, {'List': 'NOUN'}, {\"'\": 'PUNCT'}, {']': 'PUNCT'}, {'[': 'X'}, {\"'\": 'X'}, {'10th': 'X'}, {\"'\": 'PUNCT'}, {']': 'PUNCT'}, {'[': 'X'}, {\"'\": 'PUNCT'}, {'What': 'PRON'}, {\"'\": 'VERB'}, {']': 'PUNCT'}, {'[': 'X'}, {\"'\": 'X'}, {'Rank': 'PROPN'}, {\"'\": 'PUNCT'}, {']': 'PUNCT'}, {'[': 'X'}, {\"'\": 'NOUN'}, {'number': 'NOUN'}, {\"'\": 'PUNCT'}, {']': 'PUNCT'}, {'[': 'X'}, {\"'\": 'PUNCT'}, {'ascending': 'VERB'}, {\"'\": 'PUNCT'}, {']': 'PUNCT'}, {'[': 'X'}, {\"'\": 'VERB'}, {'are': 'AUX'}, {\"'\": 'PUNCT'}, {']': 'PUNCT'}, {'[': 'X'}, {\"'\": 'VERB'}, {'where': 'SCONJ'}, {\"'\": 'PUNCT'}, {']': 'PUNCT'}, {'[': 'X'}, {\"'\": 'NOUN'}, {'types': 'NOUN'}, {\"'\": 'PUNCT'}, {']': 'PUNCT'}, {'[': 'X'}, {\"'\": 'PUNCT'}, {'Select': 'ADJ'}, {\"'\": 'PUNCT'}, {']': 'PUNCT'}, {'[': 'X'}, {\"'\": 'PUNCT'}, {'between': 'ADP'}, {\"'\": 'PUNCT'}, {']': 'PUNCT'}, {'[': 'X'}, {\"'\": 'PUNCT'}, {'is': 'AUX'}, {\"'\": 'PUNCT'}, {']': 'PUNCT'}, {'[': 'X'}, {\"'\": 'PUNCT'}, {'percentile': 'ADJ'}, {\"'\": 'PUNCT'}, {']': 'PUNCT'}, {'[': 'X'}, {\"'\": 'NOUN'}, {'how': 'SCONJ'}, {\"'\": 'PUNCT'}, {']': 'PUNCT'}, {'[': 'X'}, {\"'\": 'PUNCT'}, {'high': 'ADJ'}, {\"'\": 'PUNCT'}, {']': 'PUNCT'}, {'[': 'X'}, {\"'\": 'PUNCT'}, {'to': 'PART'}, {\"'\": 'PUNCT'}, {']': 'PUNCT'}, {'[': 'X'}, {\"'\": 'PUNCT'}, {'Lowest': 'ADJ'}, {\"'\": 'PUNCT'}, {']': 'PUNCT'}, {'[': 'X'}, {\"'\": 'PUNCT'}, {'Display': 'VERB'}, {\"'\": 'PUNCT'}, {']': 'PUNCT'}, {'[': 'X'}, {\"'\": 'PUNCT'}, {'least': 'ADJ'}, {\"'\": 'PUNCT'}, {']': 'PUNCT'}, {'[': 'X'}, {\"'\": 'PUNCT'}, {'all': 'PRON'}, {\"'\": 'NOUN'}, {']': 'PUNCT'}, {'[': 'X'}, {\"'\": 'X'}, {'Filter': 'PROPN'}, {\"'\": 'PUNCT'}, {']': 'PUNCT'}, {'[': 'X'}, {\"'\": 'PUNCT'}, {'order': 'NOUN'}, {\"'\": 'PUNCT'}, {']': 'PUNCT'}, {'[': 'X'}, {\"'\": 'PUNCT'}, {'assuming': 'VERB'}, {\"'\": 'PUNCT'}, {']': 'PUNCT'}, {'[': 'X'}, {\"'\": 'NUM'}, {'4': 'NUM'}, {\"'\": 'PUNCT'}, {']': 'PUNCT'}, {'[': 'X'}, {\"'\": 'PUNCT'}, {'middle': 'ADJ'}, {\"'\": 'PUNCT'}, {']': 'PUNCT'}, {'[': 'X'}, {\"'\": 'PUNCT'}, {'or': 'CCONJ'}, {\"'\": 'PUNCT'}, {']': 'PUNCT'}, {'[': 'X'}, {\"'\": 'PUNCT'}, {'median': 'X'}, {\"'\": 'PUNCT'}, {']': 'PUNCT'}, {'[': 'X'}, {\"'\": 'PUNCT'}, {'setosa': 'X'}, {\"'\": 'PUNCT'}, {']': 'PUNCT'}, {'[': 'X'}, {\"'\": 'PUNCT'}, {'Sort': 'ADV'}, {\"'\": 'NOUN'}, {']': 'PUNCT'}, {'[': 'X'}, {\"'\": 'PUNCT'}, {'there': 'PRON'}, {\"'\": 'NOUN'}, {']': 'PUNCT'}, {'[': 'X'}, {\"'\": 'PUNCT'}, {'start': 'VERB'}, {\"'\": 'PUNCT'}, {']': 'PUNCT'}, {'[': 'X'}, {\"'\": 'PUNCT'}, {'last': 'ADJ'}, {\"'\": 'PUNCT'}, {']': 'PUNCT'}, {'[': 'X'}, {\"'\": 'PUNCT'}, {'with': 'ADP'}, {\"'\": 'PUNCT'}, {']': 'PUNCT'}, {'[': 'X'}, {\"'\": 'PUNCT'}, {'Aggregate': 'VERB'}, {\"'\": 'PUNCT'}, {']': 'PUNCT'}, {'[': 'X'}, {\"'\": 'NOUN'}, {'value': 'NOUN'}, {\"'\": 'PUNCT'}, {']': 'PUNCT'}, {'[': 'X'}, {\"'\": 'PROPN'}, {'Determine': 'NOUN'}, {\"'\": 'PUNCT'}, {']': 'PUNCT'}, {'[': 'X'}, {\"'\": 'PUNCT'}, {'recorded': 'VERB'}, {\"'\": 'PUNCT'}, {']': 'PUNCT'}, {'[': 'X'}, {\"'\": 'PUNCT'}, {'exactly': 'ADV'}, {\"'\": 'PUNCT'}, {']': 'PUNCT'}, {'[': 'X'}, {\"'\": 'X'}, {'Widths': 'NOUN'}, {\"'\": 'PUNCT'}, {']': 'PUNCT'}, {'[': 'X'}, {\"'\": 'VERB'}, {'starting': 'VERB'}, {\"'\": 'PUNCT'}, {']': 'PUNCT'}, {'[': 'X'}, {\"'\": 'PUNCT'}, {'Find': 'VERB'}, {\"'\": 'PUNCT'}, {']': 'PUNCT'}, {'[': 'X'}, {\"'\": 'X'}, {'versicolor': 'NOUN'}, {\"'\": 'PUNCT'}, {']': 'PUNCT'}, {'[': 'X'}, {\"'\": 'NUM'}, {'2': 'NUM'}, {\"'\": 'PUNCT'}, {']': 'PUNCT'}, {'[': 'X'}, {\"'\": 'PUNCT'}, {'equal': 'ADJ'}, {\"'\": 'PUNCT'}, {']': 'PUNCT'}, {'[': 'X'}, {\"'\": 'PUNCT'}, {'field': 'NOUN'}, {\"'\": 'PUNCT'}, {']': 'PUNCT'}, {'[': 'X'}, {\"'\": 'PUNCT'}, {'within': 'ADP'}, {\"'\": 'PUNCT'}, {']': 'PUNCT'}, {'[': 'X'}, {\"'\": 'PUNCT'}, {'contains': 'VERB'}, {\"'\": 'PUNCT'}, {']': 'PUNCT'}, {'[': 'X'}, {\"'\": 'PUNCT'}, {'Calculate': 'ADJ'}, {\"'\": 'PUNCT'}, {']': 'PUNCT'}, {'[': 'X'}, {\"'\": 'PUNCT'}, {'grouped': 'VERB'}, {\"'\": 'PUNCT'}, {']': 'PUNCT'}, {'[': 'X'}, {\"'\": 'PUNCT'}, {'Average': 'ADJ'}, {\"'\": 'PUNCT'}, {']': 'PUNCT'}, {'[': 'X'}, {\"'\": 'PUNCT'}, {'at': 'ADP'}, {\"'\": 'PUNCT'}, {']': 'PUNCT'}, {'[': 'X'}, {\"'\": 'PUNCT'}, {'?': 'PUNCT'}, {\"'\": 'PUNCT'}, {']': 'PUNCT'}, {'[': 'X'}, {\"'\": 'PUNCT'}, {'color': 'NOUN'}, {\"'\": 'PUNCT'}, {']': 'PUNCT'}, {'[': 'X'}, {\"'\": 'NUM'}, {'0': 'NUM'}, {\"'\": 'PUNCT'}, {']': 'PUNCT'}, {'[': 'X'}, {\"'\": 'X'}, {'Entries': 'NOUN'}, {\"'\": 'PUNCT'}, {']': 'PUNCT'}, {'[': 'X'}, {\"'\": 'NOUN'}, {'entries': 'NOUN'}, {\"'\": 'PUNCT'}, {']': 'PUNCT'}, {'[': 'X'}, {\"'\": 'X'}, {'January': 'PROPN'}, {\"'\": 'PUNCT'}, {']': 'PUNCT'}, {'[': 'X'}, {\"'\": 'PUNCT'}, {'total': 'ADJ'}, {\"'\": 'PUNCT'}, {']': 'PUNCT'}, {'[': 'X'}, {\"'\": 'PUNCT'}, {'Setosa': 'PROPN'}, {\"'\": 'PUNCT'}, {']': 'PUNCT'}, {'[': 'X'}, {\"'\": 'X'}, {'Iris': 'PROPN'}, {\"'\": 'PUNCT'}, {']': 'PUNCT'}, {'[': 'X'}, {\"'\": 'PUNCT'}, {'Species': 'NOUN'}, {\"'\": 'PUNCT'}, {']': 'PUNCT'}, {'[': 'X'}, {\"'\": 'NOUN'}, {'month': 'NOUN'}, {\"'\": 'PUNCT'}, {']': 'PUNCT'}, {'[': 'X'}, {\"'\": 'PUNCT'}, {'in': 'ADP'}, {\"'\": 'NOUN'}, {']': 'PUNCT'}, {'[': 'X'}, {\"'\": 'PUNCT'}, {'low': 'ADJ'}, {\"'\": 'PUNCT'}, {']': 'PUNCT'}, {'[': 'X'}, {\"'\": 'PUNCT'}, {'for': 'ADP'}, {\"'\": 'PUNCT'}, {']': 'PUNCT'}, {'[': 'X'}, {\"'\": 'PUNCT'}, {'descending': 'VERB'}, {\"'\": 'NOUN'}, {']': 'PUNCT'}, {'[': 'X'}, {\"'\": 'PUNCT'}, {'Maximum': 'PROPN'}, {\"'\": 'PUNCT'}, {']': 'PUNCT'}, {'[': 'X'}, {\"'\": 'PUNCT'}, {'above': 'ADP'}, {\"'\": 'PUNCT'}, {']': 'PUNCT'}]\n",
            "vocab : ['X', 'ADJ', 'VERB', 'PART', 'NOUN', 'DET', 'AUX', 'NUM', 'PRON', 'ADV', 'CCONJ', 'ADP', 'INTJ', 'PROPN', 'SCONJ', 'PUNCT']\n"
          ]
        }
      ]
    },
    {
      "cell_type": "code",
      "source": [
        "#nlp = spacy.load('en_core_web_sm')\n",
        "\n",
        "# Function to create and return an EntityRuler with specified patterns\n",
        "def create_ruler(patterns, label):\n",
        "    ruler = EntityRuler(nlp, overwrite_ents=True)\n",
        "    formatted_patterns = [{\"label\": label, \"pattern\": pattern} for pattern in patterns]\n",
        "    ruler.add_patterns(formatted_patterns)\n",
        "    return ruler\n",
        "\n",
        "desc_conj=p_d['CCONJ']+ p_d['SCONJ']\n",
        "desc_intj=p_d['INTJ']\n",
        "desc_verb=p_d['VERB'] + p_d['AUX']\n",
        "desc_num=p_d['NUM']\n",
        "desc_adv=p_d['ADV']\n",
        "desc_pron=p_d['PRON'] + p_d['DET']\n",
        "desc_adp=p_d['ADP']\n",
        "desc_noun=[x for x in p_d['X'] if x != p_d['X'][1]]+p_d['NOUN'] +['dataset']\n",
        "desc_adj=[p_d['X'][1]]+[x for x in p_d['ADJ'] if x !='dataset' ]\n",
        "desc_propn=['Sepal Length','Sepal Width', 'Petal Length', 'Petal Width']+p_d['PROPN']\n",
        "\n",
        "# Create rulers\n",
        "ruler_conj = create_ruler(desc_conj,'CONJ')\n",
        "ruler_intj = create_ruler(desc_intj,'INTJ')\n",
        "ruler_verb = create_ruler(desc_verb,'VERB')\n",
        "ruler_num  = create_ruler(desc_num,'NUM')\n",
        "ruler_adv  = create_ruler(desc_adv,'ADV')\n",
        "ruler_pron = create_ruler(desc_pron,'PRON')\n",
        "ruler_adp  = create_ruler(desc_adp,'ADP')\n",
        "ruler_noun = create_ruler(desc_noun, \"NOUN\")\n",
        "ruler_adj = create_ruler(desc_adj, \"ADJ\")\n",
        "ruler_propn = create_ruler(desc_propn,\"PROPN\")\n",
        "\n",
        "# Create component factories\n",
        "@Language.component(\"ruler_conj\")\n",
        "def ruler_conj_component(doc):\n",
        "    return ruler_conj(doc)\n",
        "\n",
        "@Language.component(\"ruler_intj\")\n",
        "def ruler_intj_component(doc):\n",
        "    return ruler_intj(doc)\n",
        "\n",
        "@Language.component(\"ruler_verb\")\n",
        "def ruler_verb_component(doc):\n",
        "    return ruler_verb(doc)\n",
        "\n",
        "@Language.component(\"ruler_num\")\n",
        "def ruler_num_component(doc):\n",
        "    return ruler_num(doc)\n",
        "\n",
        "@Language.component(\"ruler_adv\")\n",
        "def ruler_adv_component(doc):\n",
        "    return ruler_adv(doc)\n",
        "\n",
        "@Language.component(\"ruler_pron\")\n",
        "def ruler_pron_component(doc):\n",
        "    return ruler_pron(doc)\n",
        "\n",
        "@Language.component(\"ruler_adp\")\n",
        "def ruler_adp_component(doc):\n",
        "    return ruler_adp(doc)\n",
        "\n",
        "@Language.component(\"ruler_noun\")\n",
        "def ruler_noun_component(doc):\n",
        "    return ruler_noun(doc)\n",
        "\n",
        "@Language.component(\"ruler_adj\")\n",
        "def ruler_adj_component(doc):\n",
        "    return ruler_adj(doc)\n",
        "\n",
        "@Language.component('ruler_propn')\n",
        "def ruler_propn_component(doc):\n",
        "     return ruler_propn(doc)\n",
        "\n",
        "# Add the components to the pipeline\n",
        "nlp.add_pipe(\"ruler_intj\", before=\"ner\")\n",
        "nlp.add_pipe(\"ruler_verb\",before=\"ner\")\n",
        "nlp.add_pipe(\"ruler_num\", before=\"ner\")\n",
        "nlp.add_pipe(\"ruler_adv\", before=\"ner\")\n",
        "nlp.add_pipe(\"ruler_pron\", before=\"ner\")\n",
        "nlp.add_pipe(\"ruler_adp\", before=\"ner\")\n",
        "nlp.add_pipe(\"ruler_noun\", before=\"ner\")\n",
        "nlp.add_pipe(\"ruler_adj\", before=\"ner\")\n",
        "nlp.add_pipe(\"ruler_propn\", before = \"ner\")\n",
        "nlp.to_disk('/content/ner_desc')\n",
        "# Test\n",
        "#doc=nlp(\"Sum of Sepal Length. Average Sepal Width across all entries . Count the number of records in the dataset\")\n",
        "#for ent in doc.ents:\n",
        "#    print(ent.text, ent.label_)\n",
        "ent_desc,Train_desc_data=get_entity(df,df.columns[0])"
      ],
      "metadata": {
        "id": "gf6_p_4MZSqm"
      },
      "execution_count": 24,
      "outputs": []
    },
    {
      "cell_type": "code",
      "source": [
        "# Test\n",
        "doc=nlp(\"Sum of Sepal Length. Average Sepal Width across all entries . Count the number of records in the dataset\")\n",
        "for ent in doc.ents:\n",
        "    print(ent.text, ent.label_)"
      ],
      "metadata": {
        "colab": {
          "base_uri": "https://localhost:8080/"
        },
        "id": "b9GG5gBIiVYZ",
        "outputId": "e77dae1b-9502-4322-adf8-e1b23c3f0828"
      },
      "execution_count": 25,
      "outputs": [
        {
          "output_type": "stream",
          "name": "stdout",
          "text": [
            "Sum NOUN\n",
            "of ADP\n",
            "Sepal Length PROPN\n",
            "Average ADJ\n",
            "Sepal Width PROPN\n",
            "across ADP\n",
            "all PRON\n",
            "entries NOUN\n",
            "Count PROPN\n",
            "the PRON\n",
            "number NOUN\n",
            "of ADP\n",
            "records NOUN\n",
            "in ADP\n",
            "the PRON\n",
            "dataset NOUN\n"
          ]
        }
      ]
    },
    {
      "cell_type": "code",
      "source": [
        "for pat in p_d:\n",
        "   print({pat:p_d[pat]})"
      ],
      "metadata": {
        "colab": {
          "base_uri": "https://localhost:8080/"
        },
        "id": "l8Dog81q0EzF",
        "outputId": "2156b91d-4017-4964-bf63-7586ed3ee3d3"
      },
      "execution_count": 26,
      "outputs": [
        {
          "output_type": "stream",
          "name": "stdout",
          "text": [
            "{'X': ['10th', 'setosa', 'virginica', 'median']}\n",
            "{'ADJ': ['distinct', 'highest', 'Select', 'Total', 'Highest', 'equal', 'top', 'Calculate', 'Top', 'unique', 'percentile', 'Average', 'high', 'Lowest', 'greater', 'many', 'least', 'less', 'total', 'middle', 'bottom', 'smallest', 'low', 'average', 'last', 'dataset']}\n",
            "{'VERB': ['found', 'recorded', 'count', 'ascending', 'starting', 'Find', 'contains', 'grouped', 'Display', 'Show', 'assuming', 'ends', 'starts', 'sorted', 'show', 'Organize', 'start', 'descending', 'Aggregate']}\n",
            "{'PART': ['to', 'not']}\n",
            "{'NOUN': ['value', 'List', 'Determine', 'flowers', 'number', 'Widths', 'Number', 'name', 'versicolor', 'types', 'year', 'field', 'Lengths', 'color', 'flower', 'Entries', 'points', 'order', 'entries', 'data', 'observation', 'occurrences', 'Species', 'month', 'Sum', 'records', 'species']}\n",
            "{'DET': ['the']}\n",
            "{'AUX': ['are', 'is']}\n",
            "{'NUM': ['1', '2', '10', '4', '3', '5', '0']}\n",
            "{'PRON': ['this', 'each', 'What', 'all', 'both', 'there']}\n",
            "{'ADV': ['exactly', 'Sort', 'alphabetically', 'only']}\n",
            "{'CCONJ': ['and', 'or']}\n",
            "{'ADP': ['from', 'within', 'over', 'between', 'in', 'than', 'for', 'of', 'at', 'across', 'by', 'with', 'above']}\n",
            "{'INTJ': ['%']}\n",
            "{'PROPN': ['Count', 'Rank', 'Median', 'Date', 'Minimum', 'Filter', 'Group', 'January', 'Iris', 'Setosa', 'Maximum']}\n",
            "{'SCONJ': ['where', 'How', 'how']}\n",
            "{'PUNCT': ['?']}\n"
          ]
        }
      ]
    },
    {
      "cell_type": "code",
      "source": [
        "print(ent_desc)"
      ],
      "metadata": {
        "colab": {
          "base_uri": "https://localhost:8080/"
        },
        "id": "LYc2lK3pah9n",
        "outputId": "d676667f-6e02-487c-cab9-d300bc2a758c"
      },
      "execution_count": 27,
      "outputs": [
        {
          "output_type": "stream",
          "name": "stdout",
          "text": [
            "[['Sum of Sepal Length', ['Sum', 'NOUN'], ['of', 'ADP'], ['Sepal Length', 'PROPN']], ['Average Sepal Width across all entries', ['Average', 'ADJ'], ['Sepal Width', 'PROPN'], ['across', 'ADP'], ['all', 'PRON'], ['entries', 'NOUN']], ['Find the median Petal Length', ['Find', 'VERB'], ['the', 'PRON'], ['median', 'NOUN'], ['Petal Length', 'PROPN']], ['Count the number of records in the dataset', ['Count', 'PROPN'], ['the', 'PRON'], ['number', 'NOUN'], ['of', 'ADP'], ['records', 'NOUN'], ['in', 'ADP'], ['the', 'PRON'], ['dataset', 'NOUN']], ['Count distinct species in the dataset', ['Count', 'PROPN'], ['distinct', 'ADJ'], ['species', 'NOUN'], ['in', 'ADP'], ['the', 'PRON'], ['dataset', 'NOUN']], ['Minimum value of Sepal Length', ['Minimum', 'PROPN'], ['value', 'NOUN'], ['of', 'ADP'], ['Sepal Length', 'PROPN']], ['Maximum Petal Width found in the dataset', ['Maximum', 'PROPN'], ['Petal Width', 'PROPN'], ['found', 'VERB'], ['in', 'ADP'], ['the', 'PRON'], ['dataset', 'NOUN']], ['Group records by Species', ['Group', 'PROPN'], ['records', 'NOUN'], ['by', 'ADP'], ['Species', 'NOUN']], ['Sort the entries by Sepal Length in ascending order', ['Sort', 'ADV'], ['the', 'PRON'], ['entries', 'NOUN'], ['by', 'ADP'], ['Sepal Length', 'PROPN'], ['in', 'ADP'], ['ascending', 'VERB'], ['order', 'NOUN']], ['List Species alphabetically', ['List', 'NOUN'], ['Species', 'NOUN'], ['alphabetically', 'ADV']], ['Entries with Sepal Length at least 5.0', ['Entries', 'NOUN'], ['with', 'ADP'], ['Sepal Length', 'PROPN'], ['at', 'ADP'], ['least', 'ADJ']], ['Entries with Petal Length between 1.5 and 2.5', ['Entries', 'NOUN'], ['with', 'ADP'], ['Petal Length', 'PROPN'], ['between', 'ADP'], ['1.5', 'CARDINAL']], ['Top 3 entries with the highest Sepal Width', ['Top', 'ADJ'], ['3', 'NUM'], ['entries', 'NOUN'], ['with', 'ADP'], ['the', 'PRON'], ['highest', 'ADJ'], ['Sepal Width', 'PROPN']], [\"Species is 'Setosa'\", ['Species', 'NOUN'], ['is', 'VERB'], ['Setosa', 'PROPN']], [\"Species starts with 'Se'\", ['Species', 'NOUN'], ['starts', 'VERB'], ['with', 'ADP']], ['Calculate the total of Petal Lengths', ['Calculate', 'ADJ'], ['the', 'PRON'], ['total', 'ADJ'], ['of', 'ADP'], ['Lengths', 'NOUN']], ['What is the average Petal Width?', ['What', 'PRON'], ['is', 'VERB'], ['the', 'PRON'], ['average', 'ADJ'], ['Petal Width', 'PROPN']], ['Determine the middle value of Sepal Widths', ['Determine', 'NOUN'], ['the', 'PRON'], ['middle', 'ADJ'], ['value', 'NOUN'], ['of', 'ADP'], ['Widths', 'NOUN']], ['How many data points are there?', ['many', 'ADJ'], ['data', 'NOUN'], ['points', 'NOUN'], ['are', 'VERB'], ['there', 'PRON']], ['Number of unique flower types', ['Number', 'NOUN'], ['of', 'ADP'], ['unique', 'ADJ'], ['flower', 'NOUN'], ['types', 'NOUN']], ['Lowest Sepal Length recorded', ['Lowest', 'ADJ'], ['Sepal Length', 'PROPN'], ['recorded', 'VERB']], ['Highest value of Petal Width found', ['Highest', 'ADJ'], ['value', 'NOUN'], ['of', 'ADP'], ['Petal Width', 'PROPN'], ['found', 'VERB']], ['Organize data by Species in descending order', ['Organize', 'VERB'], ['data', 'NOUN'], ['by', 'ADP'], ['Species', 'NOUN'], ['in', 'ADP'], ['descending', 'VERB'], ['order', 'NOUN']], ['Rank Sepal Lengths from low to high', ['Rank', 'PROPN'], ['Lengths', 'NOUN'], ['from', 'ADP'], ['low', 'ADJ'], ['high', 'ADJ']], ['Filter for Sepal Length greater than or equal to 4.5', ['Filter', 'PROPN'], ['for', 'ADP'], ['Sepal Length', 'PROPN'], ['greater', 'ADJ'], ['than', 'ADP'], ['equal', 'ADJ'], ['4.5', 'CARDINAL']], ['Select entries with Petal Width less than 2.0', ['Select', 'ADJ'], ['entries', 'NOUN'], ['with', 'ADP'], ['Petal Width', 'PROPN'], ['less', 'ADJ'], ['than', 'ADP']], ['Show entries where Sepal Width is not 3.0', ['Show', 'VERB'], ['entries', 'NOUN'], ['Sepal Width', 'PROPN'], ['is', 'VERB'], ['3.0', 'CARDINAL']], [\"List all where the Species name ends with 'ica'\", ['List', 'NOUN'], ['all', 'PRON'], ['the', 'PRON'], ['Species', 'NOUN'], ['name', 'NOUN'], ['ends', 'VERB'], ['with', 'ADP']], ['Entries with a Sepal Length of exactly 5.0', ['Entries', 'NOUN'], ['with', 'ADP'], ['Sepal Length', 'PROPN'], ['of', 'ADP'], ['exactly', 'ADV'], ['5.0', 'CARDINAL']], ['Display the top 5 Species by Sepal Width', ['Display', 'VERB'], ['the', 'PRON'], ['top', 'ADJ'], ['5', 'NUM'], ['Species', 'NOUN'], ['by', 'ADP'], ['Sepal Width', 'PROPN']], ['Find the 3 smallest Petal Lengths', ['Find', 'VERB'], ['the', 'PRON'], ['3', 'NUM'], ['smallest', 'ADJ'], ['Petal', 'ORG'], ['Lengths', 'NOUN']], ['Count occurrences where Petal Length is between 4 and 5', ['Count', 'PROPN'], ['occurrences', 'NOUN'], ['Petal Length', 'PROPN'], ['is', 'VERB'], ['between', 'ADP'], ['4', 'NUM'], ['5', 'NUM']], [\"Aggregate data by the month of observation (assuming there's a Date field)\", ['Aggregate', 'VERB'], ['data', 'NOUN'], ['by', 'ADP'], ['the', 'PRON'], ['month', 'NOUN'], ['of', 'ADP'], ['observation', 'NOUN'], ['assuming', 'VERB'], ['there', 'PRON'], ['Date', 'PROPN'], ['field', 'NOUN']], [\"Filter records from last year (assuming there's a Date field)\", ['Filter', 'PROPN'], ['records', 'NOUN'], ['from', 'ADP'], ['last', 'ADJ'], ['year', 'NOUN'], ['assuming', 'VERB'], ['there', 'PRON'], ['Date', 'PROPN'], ['field', 'NOUN']], ['Show only the data starting from January this year', ['Show', 'VERB'], ['only', 'ADV'], ['the', 'PRON'], ['data', 'NOUN'], ['starting', 'VERB'], ['from', 'ADP'], ['January', 'PROPN'], ['this', 'PRON'], ['year', 'NOUN']], ['Find the average Sepal Length for each Species, sorted alphabetically', ['Find', 'VERB'], ['the', 'PRON'], ['average', 'ADJ'], ['Sepal Length', 'PROPN'], ['for', 'ADP'], ['each', 'PRON'], ['Species', 'NOUN'], ['sorted', 'VERB'], ['alphabetically', 'ADV']], [\"Count how many Species start with 'C'\", ['Count', 'PROPN'], ['many', 'ADJ'], ['Species', 'NOUN'], ['start', 'VERB'], ['with', 'ADP']], ['Entries with Petal Length and Sepal Length both above 4.0', ['Entries', 'NOUN'], ['with', 'ADP'], ['Petal Length', 'PROPN'], ['Sepal Length', 'PROPN'], ['both', 'PRON'], ['above', 'ADP'], ['4.0', 'CARDINAL']], ['List Species with Petal Width in the top 10%', ['List', 'NOUN'], ['Species', 'NOUN'], ['with', 'ADP'], ['Petal Width', 'PROPN'], ['in', 'ADP'], ['the', 'PRON'], ['top', 'ADJ'], ['10', 'NUM'], ['%', 'INTJ']], ['Total Sepal Length for all Iris flowers', ['Total', 'ADJ'], ['Sepal Length', 'PROPN'], ['for', 'ADP'], ['all', 'PRON'], ['Iris', 'PROPN'], ['flowers', 'NOUN']], ['Average Petal Width across all species', ['Average', 'ADJ'], ['Petal Width', 'PROPN'], ['across', 'ADP'], ['all', 'PRON'], ['species', 'NOUN']], ['Median Sepal Width for Iris setosa', ['Median', 'PROPN'], ['Sepal Width', 'PROPN'], ['for', 'ADP'], ['Iris', 'PROPN'], ['setosa', 'ADJ']], ['Count of Iris versicolor flowers', ['Count', 'PROPN'], ['of', 'ADP'], ['Iris', 'PROPN'], ['versicolor', 'NOUN'], ['flowers', 'NOUN']], ['Distinct count of species with Sepal Length over 5.0', ['count', 'VERB'], ['of', 'ADP'], ['species', 'NOUN'], ['with', 'ADP'], ['Sepal Length', 'PROPN'], ['over', 'ADP'], ['5.0', 'CARDINAL']], ['Minimum Petal Length for Iris virginica', ['Minimum', 'PROPN'], ['Petal Length', 'PROPN'], ['for', 'ADP'], ['Iris', 'PROPN'], ['virginica', 'NOUN']], ['Maximum Sepal Width across Iris setosa', ['Maximum', 'PROPN'], ['Sepal Width', 'PROPN'], ['across', 'ADP'], ['Iris', 'PROPN'], ['setosa', 'ADJ']], ['Total number of records grouped by Species', ['Total', 'ADJ'], ['number', 'NOUN'], ['of', 'ADP'], ['records', 'NOUN'], ['grouped', 'VERB'], ['by', 'ADP'], ['Species', 'NOUN']], ['Filter to show only Iris versicolor with Sepal Width at least 3.0', ['Filter', 'PROPN'], ['show', 'VERB'], ['only', 'ADV'], ['Iris', 'PROPN'], ['versicolor', 'NOUN'], ['with', 'ADP'], ['Sepal Width', 'PROPN'], ['at', 'ADP'], ['least', 'ADJ']], ['Show top 5 Sepal Lengths within Iris virginica only', ['Show', 'VERB'], ['top', 'ADJ'], ['5', 'NUM'], ['Lengths', 'NOUN'], ['within', 'ADP'], ['Iris', 'PROPN'], ['virginica', 'NOUN'], ['only', 'ADV']], ['Iris flowers with Petal Width in the bottom 10th percentile', ['Iris', 'PROPN'], ['flowers', 'NOUN'], ['with', 'ADP'], ['Petal Width', 'PROPN'], ['in', 'ADP'], ['the', 'PRON'], ['bottom', 'ADJ'], ['10th', 'NOUN'], ['percentile', 'ADJ']], ['Average Sepal Length for each species', ['Average', 'ADJ'], ['Sepal Length', 'PROPN'], ['for', 'ADP'], ['each', 'PRON'], ['species', 'NOUN']], ['Entries with Petal Length between 4.0 and 5.0 for Iris setosa', ['Entries', 'NOUN'], ['with', 'ADP'], ['Petal Length', 'PROPN'], ['between', 'ADP'], ['5.0', 'CARDINAL'], ['for', 'ADP'], ['Iris', 'PROPN'], ['setosa', 'ADJ']], [\"Count Iris flowers where the Species name contains 'color'\", ['Count', 'PROPN'], ['Iris', 'PROPN'], ['flowers', 'NOUN'], ['the', 'PRON'], ['Species', 'NOUN'], ['name', 'NOUN'], ['contains', 'VERB'], ['color', 'NOUN']], [\"List all Iris flowers where the Species name starts with 'Iri' and ends with 'a'\", ['List', 'NOUN'], ['all', 'PRON'], ['Iris', 'PROPN'], ['flowers', 'NOUN'], ['the', 'PRON'], ['Species', 'NOUN'], ['name', 'NOUN'], ['starts', 'VERB'], ['with', 'ADP'], ['ends', 'VERB'], ['with', 'ADP']]]\n"
          ]
        }
      ]
    },
    {
      "cell_type": "markdown",
      "source": [
        "#Train Description Data"
      ],
      "metadata": {
        "id": "7mb_zV3ga6J6"
      }
    },
    {
      "cell_type": "code",
      "source": [
        "for item in Train_desc_data:\n",
        "    print(item)"
      ],
      "metadata": {
        "colab": {
          "base_uri": "https://localhost:8080/"
        },
        "id": "VnN4xw0DajZu",
        "outputId": "19caf32f-b326-4ace-c0f1-2ba5119cc1a4"
      },
      "execution_count": 28,
      "outputs": [
        {
          "output_type": "stream",
          "name": "stdout",
          "text": [
            "('Sum of Sepal Length', {'entities': [(0, 3, 'NOUN'), (4, 6, 'ADP'), (7, 19, 'PROPN')]})\n",
            "('Average Sepal Width across all entries', {'entities': [(0, 7, 'ADJ'), (8, 19, 'PROPN'), (20, 26, 'ADP'), (27, 30, 'PRON'), (31, 38, 'NOUN')]})\n",
            "('Find the median Petal Length', {'entities': [(0, 4, 'VERB'), (5, 8, 'PRON'), (9, 15, 'NOUN'), (16, 28, 'PROPN')]})\n",
            "('Count the number of records in the dataset', {'entities': [(0, 5, 'PROPN'), (6, 9, 'PRON'), (10, 16, 'NOUN'), (17, 19, 'ADP'), (20, 27, 'NOUN'), (28, 30, 'ADP'), (31, 34, 'PRON'), (35, 42, 'NOUN')]})\n",
            "('Count distinct species in the dataset', {'entities': [(0, 5, 'PROPN'), (6, 14, 'ADJ'), (15, 22, 'NOUN'), (23, 25, 'ADP'), (26, 29, 'PRON'), (30, 37, 'NOUN')]})\n",
            "('Minimum value of Sepal Length', {'entities': [(0, 7, 'PROPN'), (8, 13, 'NOUN'), (14, 16, 'ADP'), (17, 29, 'PROPN')]})\n",
            "('Maximum Petal Width found in the dataset', {'entities': [(0, 7, 'PROPN'), (8, 19, 'PROPN'), (20, 25, 'VERB'), (26, 28, 'ADP'), (29, 32, 'PRON'), (33, 40, 'NOUN')]})\n",
            "('Group records by Species', {'entities': [(0, 5, 'PROPN'), (6, 13, 'NOUN'), (14, 16, 'ADP'), (17, 24, 'NOUN')]})\n",
            "('Sort the entries by Sepal Length in ascending order', {'entities': [(0, 4, 'ADV'), (5, 8, 'PRON'), (9, 16, 'NOUN'), (17, 19, 'ADP'), (20, 32, 'PROPN'), (33, 35, 'ADP'), (36, 45, 'VERB'), (46, 51, 'NOUN')]})\n",
            "('List Species alphabetically', {'entities': [(0, 4, 'NOUN'), (5, 12, 'NOUN'), (13, 27, 'ADV')]})\n",
            "('Entries with Sepal Length at least 5.0', {'entities': [(0, 7, 'NOUN'), (8, 12, 'ADP'), (13, 25, 'PROPN'), (26, 28, 'ADP'), (29, 34, 'ADJ')]})\n",
            "('Entries with Petal Length between 1.5 and 2.5', {'entities': [(0, 7, 'NOUN'), (8, 12, 'ADP'), (13, 25, 'PROPN'), (26, 33, 'ADP'), (34, 37, 'CARDINAL')]})\n",
            "('Top 3 entries with the highest Sepal Width', {'entities': [(0, 3, 'ADJ'), (4, 5, 'NUM'), (6, 13, 'NOUN'), (14, 18, 'ADP'), (19, 22, 'PRON'), (23, 30, 'ADJ'), (31, 42, 'PROPN')]})\n",
            "(\"Species is 'Setosa'\", {'entities': [(0, 7, 'NOUN'), (8, 10, 'VERB'), (12, 18, 'PROPN')]})\n",
            "(\"Species starts with 'Se'\", {'entities': [(0, 7, 'NOUN'), (8, 14, 'VERB'), (15, 19, 'ADP')]})\n",
            "('Calculate the total of Petal Lengths', {'entities': [(0, 9, 'ADJ'), (10, 13, 'PRON'), (14, 19, 'ADJ'), (20, 22, 'ADP'), (29, 36, 'NOUN')]})\n",
            "('What is the average Petal Width?', {'entities': [(0, 4, 'PRON'), (5, 7, 'VERB'), (8, 11, 'PRON'), (12, 19, 'ADJ'), (20, 31, 'PROPN')]})\n",
            "('Determine the middle value of Sepal Widths', {'entities': [(0, 9, 'NOUN'), (10, 13, 'PRON'), (14, 20, 'ADJ'), (21, 26, 'NOUN'), (27, 29, 'ADP'), (36, 42, 'NOUN')]})\n",
            "('How many data points are there?', {'entities': [(4, 8, 'ADJ'), (9, 13, 'NOUN'), (14, 20, 'NOUN'), (21, 24, 'VERB'), (25, 30, 'PRON')]})\n",
            "('Number of unique flower types', {'entities': [(0, 6, 'NOUN'), (7, 9, 'ADP'), (10, 16, 'ADJ'), (17, 23, 'NOUN'), (24, 29, 'NOUN')]})\n",
            "('Lowest Sepal Length recorded', {'entities': [(0, 6, 'ADJ'), (7, 19, 'PROPN'), (20, 28, 'VERB')]})\n",
            "('Highest value of Petal Width found', {'entities': [(0, 7, 'ADJ'), (8, 13, 'NOUN'), (14, 16, 'ADP'), (17, 28, 'PROPN'), (29, 34, 'VERB')]})\n",
            "('Organize data by Species in descending order', {'entities': [(0, 8, 'VERB'), (9, 13, 'NOUN'), (14, 16, 'ADP'), (17, 24, 'NOUN'), (25, 27, 'ADP'), (28, 38, 'VERB'), (39, 44, 'NOUN')]})\n",
            "('Rank Sepal Lengths from low to high', {'entities': [(0, 4, 'PROPN'), (11, 18, 'NOUN'), (19, 23, 'ADP'), (24, 27, 'ADJ'), (31, 35, 'ADJ')]})\n",
            "('Filter for Sepal Length greater than or equal to 4.5', {'entities': [(0, 6, 'PROPN'), (7, 10, 'ADP'), (11, 23, 'PROPN'), (24, 31, 'ADJ'), (32, 36, 'ADP'), (40, 45, 'ADJ'), (49, 52, 'CARDINAL')]})\n",
            "('Select entries with Petal Width less than 2.0', {'entities': [(0, 6, 'ADJ'), (7, 14, 'NOUN'), (15, 19, 'ADP'), (20, 31, 'PROPN'), (32, 36, 'ADJ'), (37, 41, 'ADP')]})\n",
            "('Show entries where Sepal Width is not 3.0', {'entities': [(0, 4, 'VERB'), (5, 12, 'NOUN'), (19, 30, 'PROPN'), (31, 33, 'VERB'), (38, 41, 'CARDINAL')]})\n",
            "(\"List all where the Species name ends with 'ica'\", {'entities': [(0, 4, 'NOUN'), (5, 8, 'PRON'), (15, 18, 'PRON'), (19, 26, 'NOUN'), (27, 31, 'NOUN'), (32, 36, 'VERB'), (37, 41, 'ADP')]})\n",
            "('Entries with a Sepal Length of exactly 5.0', {'entities': [(0, 7, 'NOUN'), (8, 12, 'ADP'), (15, 27, 'PROPN'), (28, 30, 'ADP'), (31, 38, 'ADV'), (39, 42, 'CARDINAL')]})\n",
            "('Display the top 5 Species by Sepal Width', {'entities': [(0, 7, 'VERB'), (8, 11, 'PRON'), (12, 15, 'ADJ'), (16, 17, 'NUM'), (18, 25, 'NOUN'), (26, 28, 'ADP'), (29, 40, 'PROPN')]})\n",
            "('Find the 3 smallest Petal Lengths', {'entities': [(0, 4, 'VERB'), (5, 8, 'PRON'), (9, 10, 'NUM'), (11, 19, 'ADJ'), (20, 25, 'ORG'), (26, 33, 'NOUN')]})\n",
            "('Count occurrences where Petal Length is between 4 and 5', {'entities': [(0, 5, 'PROPN'), (6, 17, 'NOUN'), (24, 36, 'PROPN'), (37, 39, 'VERB'), (40, 47, 'ADP'), (48, 49, 'NUM'), (54, 55, 'NUM')]})\n",
            "(\"Aggregate data by the month of observation (assuming there's a Date field)\", {'entities': [(0, 9, 'VERB'), (10, 14, 'NOUN'), (15, 17, 'ADP'), (18, 21, 'PRON'), (22, 27, 'NOUN'), (28, 30, 'ADP'), (31, 42, 'NOUN'), (44, 52, 'VERB'), (53, 58, 'PRON'), (63, 67, 'PROPN'), (68, 73, 'NOUN')]})\n",
            "(\"Filter records from last year (assuming there's a Date field)\", {'entities': [(0, 6, 'PROPN'), (7, 14, 'NOUN'), (15, 19, 'ADP'), (20, 24, 'ADJ'), (25, 29, 'NOUN'), (31, 39, 'VERB'), (40, 45, 'PRON'), (50, 54, 'PROPN'), (55, 60, 'NOUN')]})\n",
            "('Show only the data starting from January this year', {'entities': [(0, 4, 'VERB'), (5, 9, 'ADV'), (10, 13, 'PRON'), (14, 18, 'NOUN'), (19, 27, 'VERB'), (28, 32, 'ADP'), (33, 40, 'PROPN'), (41, 45, 'PRON'), (46, 50, 'NOUN')]})\n",
            "('Find the average Sepal Length for each Species, sorted alphabetically', {'entities': [(0, 4, 'VERB'), (5, 8, 'PRON'), (9, 16, 'ADJ'), (17, 29, 'PROPN'), (30, 33, 'ADP'), (34, 38, 'PRON'), (39, 46, 'NOUN'), (48, 54, 'VERB'), (55, 69, 'ADV')]})\n",
            "(\"Count how many Species start with 'C'\", {'entities': [(0, 5, 'PROPN'), (10, 14, 'ADJ'), (15, 22, 'NOUN'), (23, 28, 'VERB'), (29, 33, 'ADP')]})\n",
            "('Entries with Petal Length and Sepal Length both above 4.0', {'entities': [(0, 7, 'NOUN'), (8, 12, 'ADP'), (13, 25, 'PROPN'), (30, 42, 'PROPN'), (43, 47, 'PRON'), (48, 53, 'ADP'), (54, 57, 'CARDINAL')]})\n",
            "('List Species with Petal Width in the top 10%', {'entities': [(0, 4, 'NOUN'), (5, 12, 'NOUN'), (13, 17, 'ADP'), (18, 29, 'PROPN'), (30, 32, 'ADP'), (33, 36, 'PRON'), (37, 40, 'ADJ'), (41, 43, 'NUM'), (43, 44, 'INTJ')]})\n",
            "('Total Sepal Length for all Iris flowers', {'entities': [(0, 5, 'ADJ'), (6, 18, 'PROPN'), (19, 22, 'ADP'), (23, 26, 'PRON'), (27, 31, 'PROPN'), (32, 39, 'NOUN')]})\n",
            "('Average Petal Width across all species', {'entities': [(0, 7, 'ADJ'), (8, 19, 'PROPN'), (20, 26, 'ADP'), (27, 30, 'PRON'), (31, 38, 'NOUN')]})\n",
            "('Median Sepal Width for Iris setosa', {'entities': [(0, 6, 'PROPN'), (7, 18, 'PROPN'), (19, 22, 'ADP'), (23, 27, 'PROPN'), (28, 34, 'ADJ')]})\n",
            "('Count of Iris versicolor flowers', {'entities': [(0, 5, 'PROPN'), (6, 8, 'ADP'), (9, 13, 'PROPN'), (14, 24, 'NOUN'), (25, 32, 'NOUN')]})\n",
            "('Distinct count of species with Sepal Length over 5.0', {'entities': [(9, 14, 'VERB'), (15, 17, 'ADP'), (18, 25, 'NOUN'), (26, 30, 'ADP'), (31, 43, 'PROPN'), (44, 48, 'ADP'), (49, 52, 'CARDINAL')]})\n",
            "('Minimum Petal Length for Iris virginica', {'entities': [(0, 7, 'PROPN'), (8, 20, 'PROPN'), (21, 24, 'ADP'), (25, 29, 'PROPN'), (30, 39, 'NOUN')]})\n",
            "('Maximum Sepal Width across Iris setosa', {'entities': [(0, 7, 'PROPN'), (8, 19, 'PROPN'), (20, 26, 'ADP'), (27, 31, 'PROPN'), (32, 38, 'ADJ')]})\n",
            "('Total number of records grouped by Species', {'entities': [(0, 5, 'ADJ'), (6, 12, 'NOUN'), (13, 15, 'ADP'), (16, 23, 'NOUN'), (24, 31, 'VERB'), (32, 34, 'ADP'), (35, 42, 'NOUN')]})\n",
            "('Filter to show only Iris versicolor with Sepal Width at least 3.0', {'entities': [(0, 6, 'PROPN'), (10, 14, 'VERB'), (15, 19, 'ADV'), (20, 24, 'PROPN'), (25, 35, 'NOUN'), (36, 40, 'ADP'), (41, 52, 'PROPN'), (53, 55, 'ADP'), (56, 61, 'ADJ')]})\n",
            "('Show top 5 Sepal Lengths within Iris virginica only', {'entities': [(0, 4, 'VERB'), (5, 8, 'ADJ'), (9, 10, 'NUM'), (17, 24, 'NOUN'), (25, 31, 'ADP'), (32, 36, 'PROPN'), (37, 46, 'NOUN'), (47, 51, 'ADV')]})\n",
            "('Iris flowers with Petal Width in the bottom 10th percentile', {'entities': [(0, 4, 'PROPN'), (5, 12, 'NOUN'), (13, 17, 'ADP'), (18, 29, 'PROPN'), (30, 32, 'ADP'), (33, 36, 'PRON'), (37, 43, 'ADJ'), (44, 48, 'NOUN'), (49, 59, 'ADJ')]})\n",
            "('Average Sepal Length for each species', {'entities': [(0, 7, 'ADJ'), (8, 20, 'PROPN'), (21, 24, 'ADP'), (25, 29, 'PRON'), (30, 37, 'NOUN')]})\n",
            "('Entries with Petal Length between 4.0 and 5.0 for Iris setosa', {'entities': [(0, 7, 'NOUN'), (8, 12, 'ADP'), (13, 25, 'PROPN'), (26, 33, 'ADP'), (42, 45, 'CARDINAL'), (46, 49, 'ADP'), (50, 54, 'PROPN'), (55, 61, 'ADJ')]})\n",
            "(\"Count Iris flowers where the Species name contains 'color'\", {'entities': [(0, 5, 'PROPN'), (6, 10, 'PROPN'), (11, 18, 'NOUN'), (25, 28, 'PRON'), (29, 36, 'NOUN'), (37, 41, 'NOUN'), (42, 50, 'VERB'), (52, 57, 'NOUN')]})\n",
            "(\"List all Iris flowers where the Species name starts with 'Iri' and ends with 'a'\", {'entities': [(0, 4, 'NOUN'), (5, 8, 'PRON'), (9, 13, 'PROPN'), (14, 21, 'NOUN'), (28, 31, 'PRON'), (32, 39, 'NOUN'), (40, 44, 'NOUN'), (45, 51, 'VERB'), (52, 56, 'ADP'), (67, 71, 'VERB'), (72, 76, 'ADP')]})\n"
          ]
        }
      ]
    },
    {
      "cell_type": "markdown",
      "source": [
        "#Pipeline Formulas (Tableau) entities"
      ],
      "metadata": {
        "id": "qMay2DF8akLK"
      }
    },
    {
      "cell_type": "code",
      "source": [
        "p_t=dg_ent['Patterns_Formula(Tableau)']=get_patterns(formulas,'vocab')"
      ],
      "metadata": {
        "colab": {
          "base_uri": "https://localhost:8080/"
        },
        "id": "knvqM9K-ccHt",
        "outputId": "2d43d318-1b4f-4356-93a7-c31d5cf213f3"
      },
      "execution_count": 29,
      "outputs": [
        {
          "output_type": "stream",
          "name": "stdout",
          "text": [
            "[{'[': 'X'}, {\"'\": 'NOUN'}, {'1': 'NUM'}, {\"'\": 'NUM'}, {']': 'PUNCT'}, {'[': 'X'}, {\"'\": 'PUNCT'}, {'FROM': 'ADP'}, {\"'\": 'PUNCT'}, {']': 'PUNCT'}, {'[': 'X'}, {\"'\": 'PUNCT'}, {'BETWEEN': 'ADP'}, {\"'\": 'PUNCT'}, {']': 'PUNCT'}, {'[': 'X'}, {\"'\": 'X'}, {'COUNTD': 'PROPN'}, {\"'\": 'PUNCT'}, {']': 'PUNCT'}, {'[': 'X'}, {\"'\": 'X'}, {'MAX': 'PROPN'}, {\"'\": 'PUNCT'}, {']': 'PUNCT'}, {'[': 'X'}, {\"'\": 'X'}, {'ASC': 'PROPN'}, {\"'\": 'PUNCT'}, {']': 'PUNCT'}, {'[': 'X'}, {\"'\": 'PUNCT'}, {'NULL': 'PROPN'}, {\"'\": 'PUNCT'}, {']': 'PUNCT'}, {'[': 'X'}, {\"'\": 'PUNCT'}, {'MEDIAN': 'PROPN'}, {\"'\": 'PUNCT'}, {']': 'PUNCT'}, {'[': 'X'}, {\"'\": 'X'}, {'<': 'X'}, {\"'\": 'PUNCT'}, {']': 'PUNCT'}, {'[': 'X'}, {\"'\": 'X'}, {'versicolor': 'NOUN'}, {\"'\": 'PUNCT'}, {']': 'PUNCT'}, {'[': 'X'}, {\"'\": 'PUNCT'}, {'highest': 'ADJ'}, {\"'\": 'PUNCT'}, {']': 'PUNCT'}, {'[': 'X'}, {\"'\": 'X'}, {'*': 'X'}, {\"'\": 'X'}, {']': 'PUNCT'}, {'[': 'X'}, {\"'\": 'VERB'}, {'DATETRUNC': 'PROPN'}, {\"'\": 'PUNCT'}, {']': 'PUNCT'}, {'[': 'X'}, {'\"': 'PUNCT'}, {\"'\": 'PUNCT'}, {',': 'PUNCT'}, {'\"': 'PUNCT'}, {']': 'PUNCT'}, {'[': 'X'}, {\"'\": 'PUNCT'}, {'year': 'NOUN'}, {\"'\": 'PUNCT'}, {']': 'PUNCT'}, {'[': 'X'}, {\"'\": 'NUM'}, {'2': 'NUM'}, {\"'\": 'PUNCT'}, {']': 'PUNCT'}, {'[': 'X'}, {\"'\": 'PUNCT'}, {'CONTAINS': 'X'}, {\"'\": 'PUNCT'}, {']': 'PUNCT'}, {'[': 'X'}, {\"'\": 'PUNCT'}, {'DESC': 'VERB'}, {\"'\": 'PUNCT'}, {']': 'PUNCT'}, {'[': 'X'}, {\"'\": 'PUNCT'}, {'WITH': 'ADP'}, {\"'\": 'PUNCT'}, {']': 'PUNCT'}, {'[': 'X'}, {\"'\": 'PROPN'}, {'STARTS': 'PROPN'}, {\"'\": 'PUNCT'}, {']': 'PUNCT'}, {'[': 'X'}, {\"'\": 'VERB'}, {'SORT': 'ADV'}, {\"'\": 'NOUN'}, {']': 'PUNCT'}, {'[': 'X'}, {\"'\": 'X'}, {'ORDER': 'NOUN'}, {\"'\": 'PUNCT'}, {']': 'PUNCT'}, {'[': 'X'}, {\"'\": 'PROPN'}, {'=': 'X'}, {\"'\": 'X'}, {']': 'PUNCT'}, {'[': 'X'}, {\"'\": 'NOUN'}, {'RANK_PERCENTILE': 'AUX'}, {\"'\": 'PUNCT'}, {']': 'PUNCT'}, {'[': 'X'}, {\"'\": 'NUM'}, {'9': 'NUM'}, {\"'\": 'PUNCT'}, {']': 'PUNCT'}, {'[': 'X'}, {\"'\": 'VERB'}, {'THEN': 'ADV'}, {\"'\": 'PUNCT'}, {']': 'PUNCT'}, {'[': 'X'}, {\"'\": 'PROPN'}, {'INDEX': 'NOUN'}, {\"'\": 'PUNCT'}, {']': 'PUNCT'}, {'[': 'X'}, {\"'\": 'PUNCT'}, {'IF': 'SCONJ'}, {\"'\": 'NOUN'}, {']': 'PUNCT'}, {'[': 'X'}, {\"'\": 'INTJ'}, {'-': 'VERB'}, {\"'\": 'PUNCT'}, {']': 'PUNCT'}, {'[': 'X'}, {\"'\": 'NUM'}, {'3': 'NUM'}, {\"'\": 'PUNCT'}, {']': 'PUNCT'}, {'[': 'X'}, {\"'\": 'PUNCT'}, {'!': 'PUNCT'}, {\"'\": 'PUNCT'}, {']': 'PUNCT'}, {'[': 'X'}, {\"'\": 'NUM'}, {'5': 'NUM'}, {\"'\": 'PUNCT'}, {']': 'PUNCT'}, {'[': 'X'}, {\"'\": 'PUNCT'}, {'RANK': 'VERB'}, {\"'\": 'PUNCT'}, {']': 'PUNCT'}, {'[': 'X'}, {\"'\": 'PUNCT'}, {'to': 'PART'}, {\"'\": 'PUNCT'}, {']': 'PUNCT'}, {'[': 'X'}, {\"'\": 'NUM'}, {'0': 'NUM'}, {\"'\": 'PUNCT'}, {']': 'PUNCT'}, {'[': 'X'}, {\"'\": 'VERB'}, {'SUM': 'PROPN'}, {\"'\": 'PUNCT'}, {']': 'PUNCT'}, {'[': 'X'}, {\"'\": 'PUNCT'}, {'color': 'NOUN'}, {\"'\": 'PUNCT'}, {']': 'PUNCT'}, {'[': 'X'}, {\"'\": 'X'}, {'YEAR': 'NOUN'}, {\"'\": 'PUNCT'}, {']': 'PUNCT'}, {'[': 'X'}, {\"'\": 'PROPN'}, {'AVG': 'PROPN'}, {\"'\": 'PUNCT'}, {']': 'PUNCT'}, {'[': 'X'}, {\"'\": 'PUNCT'}, {'alphabetically': 'ADV'}, {\"'\": 'VERB'}, {']': 'PUNCT'}, {'[': 'X'}, {\"'\": 'VERB'}, {'LEFT': 'PROPN'}, {\"'\": 'PUNCT'}, {']': 'PUNCT'}, {'[': 'X'}, {\"'\": 'NOUN'}, {'virginica': 'X'}, {\"'\": 'PUNCT'}, {']': 'PUNCT'}, {'[': 'X'}, {\"'\": 'VERB'}, {'}': 'PRON'}, {\"'\": 'PUNCT'}, {']': 'PUNCT'}, {'[': 'X'}, {\"'\": 'NUM'}, {'4': 'NUM'}, {\"'\": 'PUNCT'}, {']': 'PUNCT'}, {'[': 'X'}, {\"'\": 'PUNCT'}, {'LISTED': 'VERB'}, {\"'\": 'PUNCT'}, {']': 'PUNCT'}, {'[': 'X'}, {\"'\": 'PROPN'}, {'END': 'PROPN'}, {\"'\": 'PUNCT'}, {']': 'PUNCT'}, {'[': 'X'}, {\"'\": 'PUNCT'}, {'Setosa': 'PROPN'}, {\"'\": 'PUNCT'}, {']': 'PUNCT'}, {'[': 'X'}, {\"'\": 'VERB'}, {'FIXED': 'NOUN'}, {\"'\": 'PUNCT'}, {']': 'PUNCT'}, {'[': 'X'}, {\"'\": 'PUNCT'}, {':': 'PUNCT'}, {\"'\": 'PUNCT'}, {']': 'PUNCT'}, {'[': 'X'}, {\"'\": 'VERB'}, {'{': 'PUNCT'}, {\"'\": 'PROPN'}, {']': 'PUNCT'}, {'[': 'X'}, {\"'\": 'PUNCT'}, {'SORTED': 'ADJ'}, {\"'\": 'PUNCT'}, {']': 'PUNCT'}, {'[': 'X'}, {\"'\": 'VERB'}, {'TODAY': 'NOUN'}, {\"'\": 'PUNCT'}, {']': 'PUNCT'}, {'[': 'X'}, {\"'\": 'VERB'}, {'”': 'PUNCT'}, {\"'\": 'PUNCT'}, {']': 'PUNCT'}, {'[': 'X'}, {\"'\": 'PUNCT'}, {'Species': 'NOUN'}, {\"'\": 'PUNCT'}, {']': 'PUNCT'}, {'[': 'X'}, {\"'\": 'PUNCT'}, {'AND': 'CCONJ'}, {\"'\": 'PUNCT'}, {']': 'PUNCT'}, {'[': 'X'}, {\"'\": 'NOUN'}, {'month': 'NOUN'}, {\"'\": 'PUNCT'}, {']': 'PUNCT'}, {'[': 'X'}, {\"'\": 'PUNCT'}, {'“': 'PUNCT'}, {\"'\": 'PUNCT'}, {']': 'PUNCT'}, {'[': 'X'}, {\"'\": 'PUNCT'}, {'Date': 'PROPN'}, {\"'\": 'PUNCT'}, {']': 'PUNCT'}, {'[': 'X'}, {\"'\": 'PUNCT'}, {'setosa': 'X'}, {\"'\": 'PUNCT'}, {']': 'PUNCT'}, {'[': 'X'}, {\"'\": 'PUNCT'}, {'MIN': 'PROPN'}, {\"'\": 'PROPN'}, {']': 'PUNCT'}, {'[': 'X'}, {\"'\": 'PUNCT'}, {'lowest': 'ADJ'}, {\"'\": 'PUNCT'}, {']': 'PUNCT'}, {'[': 'X'}, {\"'\": 'PROPN'}, {'TOP': 'NUM'}, {\"'\": 'PUNCT'}, {']': 'PUNCT'}, {'[': 'X'}, {\"'\": 'VERB'}, {'ENDSWITH': 'NOUN'}, {\"'\": 'PUNCT'}, {']': 'PUNCT'}, {'[': 'X'}, {\"'\": 'X'}, {'GROUP': 'PROPN'}, {\"'\": 'PUNCT'}, {']': 'PUNCT'}, {'[': 'X'}, {\"'\": 'PUNCT'}, {'\"': 'PUNCT'}, {\"'\": 'PUNCT'}, {']': 'PUNCT'}, {'[': 'X'}, {\"'\": 'PUNCT'}, {'STARTSWITH': 'X'}, {\"'\": 'NOUN'}, {']': 'PUNCT'}, {'[': 'X'}, {\"'\": 'VERB'}, {'>': 'X'}, {\"'\": 'PUNCT'}, {']': 'PUNCT'}, {'[': 'X'}, {\"'\": 'PUNCT'}, {'ELSE': 'ADV'}, {\"'\": 'PUNCT'}, {']': 'PUNCT'}, {'[': 'X'}, {\"'\": 'PUNCT'}, {'DISTINCT': 'NOUN'}, {\"'\": 'PUNCT'}, {']': 'PUNCT'}, {'[': 'X'}, {\"'\": 'X'}, {'COUNT': 'PROPN'}, {\"'\": 'PUNCT'}, {']': 'PUNCT'}]\n",
            "vocab : ['X', 'ADJ', 'VERB', 'PART', 'NOUN', 'AUX', 'NUM', 'PRON', 'PUNCT', 'INTJ', 'CCONJ', 'ADV', 'PROPN', 'SCONJ', 'ADP']\n"
          ]
        }
      ]
    },
    {
      "cell_type": "code",
      "source": [
        "for pat in p_t:\n",
        "   print({pat:p_t[pat]})"
      ],
      "metadata": {
        "colab": {
          "base_uri": "https://localhost:8080/"
        },
        "id": "F3Mh4i-cc6tR",
        "outputId": "a2f07879-1d82-403c-de81-0c68c18a3e1b"
      },
      "execution_count": 30,
      "outputs": [
        {
          "output_type": "stream",
          "name": "stdout",
          "text": [
            "{'X': ['CONTAINS', 'setosa', 'virginica', '=', '>', 'STARTSWITH', '<', '*']}\n",
            "{'ADJ': ['SORTED', 'highest', 'lowest']}\n",
            "{'VERB': ['RANK', 'LISTED', '-', 'DESC']}\n",
            "{'PART': ['to']}\n",
            "{'NOUN': ['year', 'color', 'Species', 'YEAR', 'month', 'ORDER', 'INDEX', 'ENDSWITH', 'FIXED', 'versicolor', 'DISTINCT', 'TODAY']}\n",
            "{'AUX': ['RANK_PERCENTILE']}\n",
            "{'NUM': ['1', '2', '9', '4', 'TOP', '3', '5', '0']}\n",
            "{'PRON': ['}']}\n",
            "{'PUNCT': [':', '“', '\"', '!', '{', '”']}\n",
            "{'INTJ': []}\n",
            "{'CCONJ': ['AND']}\n",
            "{'ADV': ['SORT', 'ELSE', 'alphabetically', 'THEN']}\n",
            "{'PROPN': ['AVG', 'STARTS', 'LEFT', 'Date', 'MIN', 'COUNTD', 'MAX', 'NULL', 'ASC', 'MEDIAN', 'GROUP', 'COUNT', 'END', 'Setosa', 'SUM', 'DATETRUNC']}\n",
            "{'SCONJ': ['IF']}\n",
            "{'ADP': ['FROM', 'BETWEEN', 'WITH']}\n"
          ]
        }
      ]
    },
    {
      "cell_type": "code",
      "source": [
        "p_t['ARG']=['[Sepal Length]','[Sepal Width]','[Petal Length]','[Petal Width]', '[Species]']\n",
        "p_t['ARGN']=['Sepal Length','Sepal Width','Petal Length','Petal Width', 'Species']\n",
        "p_t['NOUN'] =['month', 'TODAY', 'color','YEAR','versicolor','setosa','year','virginica']\n",
        "p_t['STOPWORDS']=['[Sepal','Sepal','[Petal','Width]','Width','Petal','Length]',\"'Se'\",':','\"virginica\",'\"setosa\",'','{',')','*',\"'Setosa'\",\"'month', \",'4.0 AND','\"setosa\" AND','ica',\"Iri\",'!= 3.0','\"versicolor\" AND',\"Species STARTS WITH 'Se'\",\"Length\",'\"Iri\"' ]\n",
        "p_t['NUM']=[ff  for ff in p_t['NUM'] if ff !='TOP']+['1.5','2.5','4.5','3.0','3','2.0','5.0']\n",
        "p_t['ADP']+=['to','AND','>=','<','!=','<=','=','>']\n",
        "p_t['ADV']=[ff for ff in p_t[\"ADV\"] if ff!=\"SORT\"] + ['highest to lowest','ASC','DESC','NULL','LEFT']\n",
        "p_t['ADJ']=[ff for ff in p_t['ADJ'] if  ff!='SORTED']\n",
        "ptt=p_t['ARG']+p_t['NOUN']+p_t['NUM'] + p_t['STOPWORDS'] + p_t['ARGN'] + p_t['ADV'] + p_t['ADP']+p_t['ADJ']\n",
        "p_t['OPER']=['STARTS WITH','SORT']"
      ],
      "metadata": {
        "id": "Nxvuycmmw0tc"
      },
      "execution_count": 31,
      "outputs": []
    },
    {
      "cell_type": "code",
      "source": [
        "print(p_t['OPER'])"
      ],
      "metadata": {
        "colab": {
          "base_uri": "https://localhost:8080/"
        },
        "id": "NFTzMa1npDcE",
        "outputId": "63987955-7359-49c1-f1f4-979b30fd1b28"
      },
      "execution_count": 32,
      "outputs": [
        {
          "output_type": "stream",
          "name": "stdout",
          "text": [
            "['STARTS WITH', 'SORT']\n"
          ]
        }
      ]
    },
    {
      "cell_type": "code",
      "source": [
        "import re\n",
        "p_t['OPER']=[]\n",
        "p_t['COPER']=[]\n",
        "patterns='\\(| = | >= | > | \\[ | \\) | \\{ | \\]'\n",
        "tr_0=[]\n",
        "for tr in df[df.columns[1]]:\n",
        "    try:\n",
        "      it0,it1=re.split(patterns,tr)[0:2]\n",
        "    except:\n",
        "         it0=re.split(patterns,tr)[0:2][0]\n",
        "\n",
        "    it01=it0.split()\n",
        "\n",
        "    if len(it01)==1:\n",
        "           iten=it01[0]\n",
        "    elif len(it01)==2:\n",
        "            iten=it01[0] +' '+ it01[1]\n",
        "    else:\n",
        "          iten=''\n",
        "          for item in it01:\n",
        "            if item not in tr_0 and item not in ptt:\n",
        "               iten+=item +' '\n",
        "          iten=iten.rstrip()\n",
        "          #print(it01,'-->',iten)\n",
        "\n",
        "    if iten not in tr_0 and iten not in ptt:\n",
        "              #print(it01)\n",
        "              tr_0.append(iten)\n",
        "\n",
        "\n",
        "print(tr_0)"
      ],
      "metadata": {
        "colab": {
          "base_uri": "https://localhost:8080/"
        },
        "id": "Apk388uxYvyS",
        "outputId": "ad9993b4-19ba-4451-c141-8fe2f4697e2c"
      },
      "execution_count": 33,
      "outputs": [
        {
          "output_type": "stream",
          "name": "stdout",
          "text": [
            "['SUM', 'AVG', 'MEDIAN', 'COUNT', 'COUNT DISTINCT', 'MIN', 'MAX', 'GROUP BY', 'ORDER BY', 'TOP BY', 'STARTS', 'COUNTD', 'SORT', 'ENDSWITH', 'INDEX', 'IF', 'DATETRUNC', 'RANK_PERCENTILE', 'SORTED BY', 'RANK', 'LISTED', 'STARTSWITH']\n"
          ]
        }
      ]
    },
    {
      "cell_type": "code",
      "source": [
        "p_t['OPER']+=tr_0\n",
        "p_t['OPER'][p_t['OPER'].index('LISTED')]='LISTED FROM'\n",
        "p_t['OPER'][p_t['OPER'].index('TOP BY')]='TOP'\n",
        "p_t['OPER']+=['IF CONTAINS','BY']\n",
        "p_t['NOUN']=[ff for ff in p_t['NOUN'] if ff not in p_t['OPER']]\n",
        "#p_t['PROPN']=[ff for ff in p_t['PROPN'] if ff not in p_t['OPER']+p_t['NOUN']]\n"
      ],
      "metadata": {
        "id": "42HE6oewDJOz"
      },
      "execution_count": 34,
      "outputs": []
    },
    {
      "cell_type": "markdown",
      "source": [
        "# Pipe entities to Formulas Tableau"
      ],
      "metadata": {
        "id": "tfjDCTKq8VvR"
      }
    },
    {
      "cell_type": "code",
      "source": [
        "\n",
        "#nlp = spacy.load('en_core_web_sm')\n",
        "\n",
        "# Function to create and return an EntityRuler with specified patterns\n",
        "\n",
        "oper_arg=p_t['ARG']\n",
        "oper_argn=p_t['ARGN']\n",
        "oper_numm=p_t['NUM']\n",
        "oper_advv=p_t['ADV']\n",
        "oper_oper=p_t['OPER']\n",
        "oper_adpp=p_t['ADP']\n",
        "oper_nounn=p_t['NOUN']\n",
        "oper_adjj=p_t['ADJ']\n",
        "\n",
        "# Create rulers\n",
        "ruler_arg = create_ruler(oper_arg,'ARG')\n",
        "#ruler_intj = create_ruler(oper_intj,'INTJ')\n",
        "ruler_argn = create_ruler(oper_argn,'ARGN')\n",
        "ruler_numm  = create_ruler(oper_numm,'NUM')\n",
        "ruler_advv  = create_ruler(oper_advv,'ADV')\n",
        "#ruler_pron = create_ruler(oper_pron,'PRON')\n",
        "ruler_adpp  = create_ruler(oper_adpp,'ADP')\n",
        "ruler_nounn = create_ruler(oper_nounn, \"NOUN\")\n",
        "ruler_adjj = create_ruler(oper_adjj, \"ADJ\")\n",
        "ruler_oper = create_ruler(oper_oper,\"OPER\")\n",
        "\n",
        "# Create component factories\n",
        "@Language.component(\"ruler_arg\")\n",
        "def ruler_arg_component(doc):\n",
        "    return ruler_arg(doc)\n",
        "\n",
        "#@Language.component(\"ruler_intj\")\n",
        "#def ruler_intj_component(doc):\n",
        "#    return ruler_intj(doc)\n",
        "\n",
        "@Language.component(\"ruler_argn\")\n",
        "def ruler_argn_component(doc):\n",
        "    return ruler_argn(doc)\n",
        "\n",
        "@Language.component(\"ruler_numm\")\n",
        "def ruler_numm_component(doc):\n",
        "    return ruler_numm(doc)\n",
        "\n",
        "@Language.component(\"ruler_advv\")\n",
        "def ruler_advv_component(doc):\n",
        "    return ruler_advv(doc)\n",
        "\n",
        "@Language.component(\"ruler_oper\")\n",
        "def ruler_oper_component(doc):\n",
        "    return ruler_oper(doc)\n",
        "\n",
        "@Language.component(\"ruler_adpp\")\n",
        "def ruler_adpp_component(doc):\n",
        "    return ruler_adpp(doc)\n",
        "\n",
        "@Language.component(\"ruler_nounn\")\n",
        "def ruler_nounn_component(doc):\n",
        "    return ruler_nounn(doc)\n",
        "\n",
        "@Language.component(\"ruler_adjj\")\n",
        "def ruler_adjj_component(doc):\n",
        "    return ruler_adjj(doc)\n",
        "@Language.component(\"ruler_sort_command\")\n",
        "def ruler_sort_command_component(doc):\n",
        "    # Assuming 'doc' can contain \"sort\" or \"sort by <criteria>\" commands\n",
        "    # and that these commands are somehow identifiable (e.g., contained in sentences starting with \"Command:\")\n",
        "    for sent in doc.sents:\n",
        "        text = sent.text.lower()\n",
        "        if \"sort by\" in text:\n",
        "            # Extract the criteria immediately following \"sort by\"\n",
        "            criteria_start = text.index(\"sort by\") + len(\"sort by\")\n",
        "            criteria = text[criteria_start:].strip()\n",
        "            # Custom logic to handle \"sort by <criteria>\"\n",
        "            # print(f\"Handling 'sort by {criteria}' command\")\n",
        "        elif \"sort\" in text:\n",
        "            pass\n",
        "            # Custom logic to handle \"sort\"\n",
        "            #print(\"Handling 'sort' command\")\n",
        "    return doc\n",
        "\n",
        "\n",
        "#@Language.component('ruler_propn')\n",
        "#def ruler_propn_component(doc):\n",
        "#     return ruler_propn(doc)\n",
        "\n",
        "# Add the components to the pipeline\n",
        "nlp.add_pipe(\"ruler_arg\", before=\"ner\")\n",
        "nlp.add_pipe(\"ruler_argn\",before=\"ner\")\n",
        "nlp.add_pipe(\"ruler_numm\", before=\"ner\")\n",
        "nlp.add_pipe(\"ruler_advv\", before=\"ner\")\n",
        "nlp.add_pipe(\"ruler_oper\", before=\"ner\")\n",
        "nlp.add_pipe(\"ruler_adpp\", before=\"ner\")\n",
        "nlp.add_pipe(\"ruler_nounn\", before=\"ner\")\n",
        "nlp.add_pipe(\"ruler_adjj\", before=\"ner\")\n",
        "# Add the custom component to the pipeline\n",
        "nlp.add_pipe(\"ruler_sort_command\", before=\"ner\")\n",
        "\n",
        "nlp.to_disk('/content/ner_formulas')\n",
        "#nlp.add_pipe(\"ruler_propn\", before = \"ner\")\n",
        "ent_formulas,Train_formulas_data=get_entity(df,df.columns[1])"
      ],
      "metadata": {
        "id": "l6553nLP8O-7"
      },
      "execution_count": 35,
      "outputs": []
    },
    {
      "cell_type": "code",
      "source": [
        "# Test\n",
        "doc=nlp(\"SUM (Sepal Length ) AVG ( Sepal Length )\")\n",
        "for ent in doc.ents:\n",
        "    print(ent.text, ent.label_)\n",
        "#print(get_entity(df,df.columns[1]))"
      ],
      "metadata": {
        "colab": {
          "base_uri": "https://localhost:8080/"
        },
        "id": "W9NM0f4rnboT",
        "outputId": "056876fa-b0ee-49bc-94c2-56ee97c17cf2"
      },
      "execution_count": 36,
      "outputs": [
        {
          "output_type": "stream",
          "name": "stdout",
          "text": [
            "SUM OPER\n",
            "Sepal Length ARGN\n",
            "AVG OPER\n",
            "Sepal Length ARGN\n"
          ]
        }
      ]
    },
    {
      "cell_type": "code",
      "source": [
        "# Test\n",
        "doc=nlp(\"SORT ( [ Species ] , DESC ) \")\n",
        "for ent in doc.ents:\n",
        "    print(ent.text, ent.label_)"
      ],
      "metadata": {
        "colab": {
          "base_uri": "https://localhost:8080/"
        },
        "id": "kHejcrIAJvLQ",
        "outputId": "37e230b8-fadd-4f6d-ba13-e7a7251546f3"
      },
      "execution_count": 37,
      "outputs": [
        {
          "output_type": "stream",
          "name": "stdout",
          "text": [
            "SORT OPER\n",
            "Species ARGN\n",
            "DESC ADV\n"
          ]
        }
      ]
    },
    {
      "cell_type": "code",
      "source": [
        "# Test\n",
        "doc=nlp(\"SORT ( [ Species ] , DESC ) INDEX ( ) < = 3 SORT BY [ Petal Length ] ASC\")\n",
        "for ent in doc.ents:\n",
        "    print(ent.text, ent.label_)"
      ],
      "metadata": {
        "colab": {
          "base_uri": "https://localhost:8080/"
        },
        "id": "9OEZTdUWKViC",
        "outputId": "d5251807-c2a7-462d-f855-96c885ab366d"
      },
      "execution_count": 38,
      "outputs": [
        {
          "output_type": "stream",
          "name": "stdout",
          "text": [
            "SORT OPER\n",
            "Species ARGN\n",
            "DESC ADV\n",
            "INDEX OPER\n",
            "< = ADP\n",
            "3 NUM\n",
            "SORT OPER\n",
            "BY OPER\n",
            "Petal Length ARGN\n",
            "ASC ADV\n"
          ]
        }
      ]
    },
    {
      "cell_type": "code",
      "source": [
        "#Test\n",
        "print(ent_formulas)"
      ],
      "metadata": {
        "colab": {
          "base_uri": "https://localhost:8080/"
        },
        "id": "1iNiKpO04Ob_",
        "outputId": "7396473d-f795-4e8f-d3f6-8459805dde34"
      },
      "execution_count": 39,
      "outputs": [
        {
          "output_type": "stream",
          "name": "stdout",
          "text": [
            "[['SUM ( Sepal Length ) ', ['SUM', 'OPER'], ['Sepal Length', 'ARGN']], ['AVG ( Sepal Width ) ', ['AVG', 'OPER'], ['Sepal Width', 'ARGN']], ['MEDIAN ( Petal Length ) ', ['MEDIAN', 'OPER'], ['Petal Length', 'ARGN']], ['COUNT ( * ) ', ['COUNT', 'OPER']], ['COUNT DISTINCT ( Species ) ', ['COUNT DISTINCT', 'OPER'], ['Species', 'ARGN']], ['MIN ( Sepal Length ) ', ['MIN', 'OPER'], ['Sepal Length', 'ARGN']], ['MAX ( Petal Width ) ', ['MAX', 'OPER'], ['Petal Width', 'ARGN']], ['GROUP BY ( Species ) ', ['GROUP BY', 'OPER'], ['Species', 'ARGN']], ['ORDER BY ( Sepal Length ASC ) ', ['ORDER BY', 'OPER'], ['Sepal Length', 'ARGN'], ['ASC', 'ADV']], ['ORDER BY ( Species ASC ) ', ['ORDER BY', 'OPER'], ['Species', 'ARGN'], ['ASC', 'ADV']], ['Sepal Length > = 5.0', ['Sepal Length', 'ARGN'], ['> =', 'ADP'], ['5.0', 'NUM']], ['Petal Length BETWEEN 1.5 AND 2.5', ['Petal Length', 'ARGN'], ['BETWEEN', 'ADP'], ['1.5', 'NUM'], ['AND', 'ADP'], ['2.5', 'NUM']], ['TOP 3 BY ( Sepal Width DESC ) ', ['TOP', 'OPER'], ['3', 'NUM'], ['BY', 'OPER'], ['Sepal Width', 'ARGN'], ['DESC', 'ADV']], [\"Species = 'Setosa'\", ['Species', 'ARGN'], ['=', 'ADP'], ['Setosa', 'PROPN']], [\"Species STARTS WITH 'Se'\", ['Species', 'ARGN'], ['STARTS', 'OPER'], ['WITH', 'ADP']], [' SUM ( [ Petal Length ] ) ', ['SUM', 'OPER'], ['Petal Length', 'ARGN']], [' AVG ( [ Petal Width ] ) ', ['AVG', 'OPER'], ['Petal Width', 'ARGN']], ['MEDIAN ( [ Sepal Width ] ) ', ['MEDIAN', 'OPER'], ['Sepal Width', 'ARGN']], ['COUNT ( [ Sepal Length ] ) ', ['COUNT', 'OPER'], ['Sepal Length', 'ARGN']], ['COUNTD ( [ Species ] ) ', ['COUNTD', 'OPER'], ['Species', 'ARGN']], ['MIN ( [ Sepal Length ] ) ', ['MIN', 'OPER'], ['Sepal Length', 'ARGN']], ['MAX ( [ Petal Width ] ) ', ['MAX', 'OPER'], ['Petal Width', 'ARGN']], ['SORT ( [ Species ] , DESC ) ', ['SORT', 'OPER'], ['Species', 'ARGN'], ['DESC', 'ADV']], ['SORT ( [ Sepal Length ] , ASC ) ', ['SORT', 'OPER'], ['Sepal Length', 'ARGN'], ['ASC', 'ADV']], [' [ Sepal Length ] > = 4.5', ['Sepal Length', 'ARGN'], ['> =', 'ADP'], ['4.5', 'NUM']], [' [ Petal Width ] < 2.0', ['Petal Width', 'ARGN'], ['<', 'ADP'], ['2.0', 'NUM']], [' [ Sepal Width ] ! = 3.0', ['Sepal Width', 'ARGN'], ['! =', 'ADP'], ['3.0', 'NUM']], ['ENDSWITH ( [ Species ] , \"ica\" ) ', ['ENDSWITH', 'OPER'], ['Species', 'ARGN']], [' [ Sepal Length ] = 5.0', ['Sepal Length', 'ARGN'], ['=', 'ADP'], ['5.0', 'NUM']], [' INDEX ( ) < = 5 SORT BY SUM ( [ Sepal Width ] ) DESC', ['INDEX', 'OPER'], ['< =', 'ADP'], ['5', 'NUM'], ['SORT', 'OPER'], ['BY', 'OPER'], ['SUM', 'OPER'], ['Sepal Width', 'ARGN'], ['DESC', 'ADV']], [' INDEX ( ) < = 3 SORT BY [ Petal Length ] ASC', ['INDEX', 'OPER'], ['< =', 'ADP'], ['3', 'NUM'], ['SORT', 'OPER'], ['BY', 'OPER'], ['Petal Length', 'ARGN'], ['ASC', 'ADV']], ['IF [ Petal Length ] > = 4 AND [ Petal Length ] < = 5 THEN 1 ELSE 0 END', ['IF', 'OPER'], ['Petal Length', 'ARGN'], ['> =', 'ADP'], ['4', 'NUM'], ['AND', 'ADP'], ['Petal Length', 'ARGN'], ['< =', 'ADP'], ['5', 'NUM'], ['THEN', 'ADV'], ['1', 'NUM'], ['ELSE', 'ADV'], ['0', 'NUM'], ['END', 'ORG']], [\"DATETRUNC ( 'month', [ Date ] ) \", ['DATETRUNC', 'OPER'], ['month', 'NOUN'], ['Date', 'PROPN']], ['YEAR ( [ Date ] ) = YEAR ( TODAY ( )  ) - 1', ['YEAR', 'NOUN'], ['Date', 'PROPN'], ['=', 'ADP'], ['YEAR', 'NOUN'], ['TODAY', 'NOUN'], ['1', 'NUM']], [\" [ Date ] > = DATETRUNC ( 'year' , TODAY ( )  ) \", ['Date', 'PROPN'], ['> =', 'ADP'], ['DATETRUNC', 'OPER'], ['year', 'NOUN'], ['TODAY', 'NOUN']], [' AVG ( [ Sepal Length ] ) GROUP BY [ Species ] SORT BY [ Species ] ASC', ['AVG', 'OPER'], ['Sepal Length', 'ARGN'], ['GROUP BY', 'OPER'], ['Species', 'ARGN'], ['SORT', 'OPER'], ['BY', 'OPER'], ['Species', 'ARGN'], ['ASC', 'ADV']], [\" COUNTD ( IF LEFT ( [ Species ] 1 ) = 'C' THEN [ Species ] ELSE NULL END ) \", ['COUNTD', 'OPER'], ['IF', 'OPER'], ['LEFT', 'ADV'], ['Species', 'ARGN'], ['1', 'NUM'], ['=', 'ADP'], ['THEN', 'ADV'], ['Species', 'ARGN'], ['ELSE', 'ADV'], ['NULL', 'ADV']], [' [ Petal Length ] > 4.0 AND [ Sepal Length ] > 4.0', ['Petal Length', 'ARGN'], ['>', 'ADP'], ['4.0', 'CARDINAL'], ['AND', 'ADP'], ['Sepal Length', 'ARGN'], ['>', 'ADP'], ['4.0', 'CARDINAL']], [' RANK_PERCENTILE ( [ Petal Width ] ) < = 0.1', ['RANK_PERCENTILE', 'OPER'], ['Petal Width', 'ARGN'], ['< =', 'ADP'], ['0.1', 'CARDINAL']], ['SUM ( [ Sepal Length ] ) ', ['SUM', 'OPER'], ['Sepal Length', 'ARGN']], ['AVG ( [ Petal Width ] ) ', ['AVG', 'OPER'], ['Petal Width', 'ARGN']], [' { FIXED [ Species ] = \"setosa\" : MEDIAN ( [ Sepal Width ] ) } ', ['Species', 'ARGN'], ['=', 'ADP'], ['setosa', 'NOUN'], ['MEDIAN', 'OPER'], ['Sepal Width', 'ARGN']], ['SUM ( IF [ Species ] = \"versicolor\" THEN 1 ELSE 0 END ) ', ['SUM', 'OPER'], ['IF', 'OPER'], ['Species', 'ARGN'], ['=', 'ADP'], ['versicolor', 'NOUN'], ['THEN', 'ADV'], ['1', 'NUM'], ['ELSE', 'ADV'], ['0', 'NUM']], ['COUNTD ( IF [ Sepal Length ] > 5.0 THEN [ Species ] ELSE NULL END ) ', ['COUNTD', 'OPER'], ['IF', 'OPER'], ['Sepal Length', 'ARGN'], ['>', 'ADP'], ['5.0', 'NUM'], ['THEN', 'ADV'], ['Species', 'ARGN'], ['ELSE', 'ADV'], ['NULL', 'ADV']], [' { FIXED [ Species ] = \"virginica\" : MIN ( [ Petal Length ] ) } ', ['Species', 'ARGN'], ['=', 'ADP'], ['virginica', 'NOUN'], ['MIN', 'OPER'], ['Petal Length', 'ARGN']], [' { FIXED [ Species ] = \"setosa\" : MAX ( [ Sepal Width ] ) } ', ['Species', 'ARGN'], ['=', 'ADP'], ['setosa', 'NOUN'], ['MAX', 'OPER'], ['Sepal Width', 'ARGN']], [' SORTED BY Species alphabetically COUNT ( [ Species ] ) GROUP BY [ Species ] ORDER BY [ Species ] ASC', ['SORTED BY', 'OPER'], ['Species', 'ARGN'], ['alphabetically', 'ADV'], ['COUNT', 'OPER'], ['Species', 'ARGN'], ['GROUP BY', 'OPER'], ['Species', 'ARGN'], ['ORDER BY', 'OPER'], ['Species', 'ARGN'], ['ASC', 'ADV']], [' [ Species ] = \"versicolor\" AND [ Sepal Width ] > = 3.0', ['Species', 'ARGN'], ['=', 'ADP'], ['versicolor', 'NOUN'], ['AND', 'ADP'], ['Sepal Width', 'ARGN'], ['> =', 'ADP'], ['3.0', 'NUM']], ['RANK ( [ Sepal Length ] ) < = 5 AND [ Species ] = \"virginica\"', ['RANK', 'OPER'], ['Sepal Length', 'ARGN'], ['< =', 'ADP'], ['5', 'NUM'], ['AND', 'ADP'], ['Species', 'ARGN'], ['=', 'ADP'], ['virginica', 'NOUN']], ['RANK_PERCENTILE ( [ Petal Width ] ) > = 0.9', ['RANK_PERCENTILE', 'OPER'], ['Petal Width', 'ARGN'], ['> =', 'ADP'], ['0.9', 'CARDINAL']], ['LISTED FROM highest to lowest AVG ( [ Sepal Length ] ) GROUP BY [ Species ] ORDER BY AVG ( [ Sepal Length ] ) DESC', ['FROM', 'ADP'], ['highest', 'ADJ'], ['to', 'ADP'], ['lowest', 'ADJ'], ['AVG', 'OPER'], ['Sepal Length', 'ARGN'], ['GROUP BY', 'OPER'], ['Species', 'ARGN'], ['ORDER BY', 'OPER'], ['AVG', 'OPER'], ['Sepal Length', 'ARGN'], ['DESC', 'ADV']], [' [ Species ] = \"setosa\" AND [ Petal Length ] BETWEEN 4.0 AND 5.0', ['Species', 'ARGN'], ['=', 'ADP'], ['setosa', 'NOUN'], ['AND', 'ADP'], ['Petal Length', 'ARGN'], ['BETWEEN', 'ADP'], ['4.0', 'CARDINAL'], ['AND', 'ADP'], ['5.0', 'NUM']], ['SUM ( IF CONTAINS ( [ Species ] \"color\" ) THEN 1 ELSE 0 END ) ', ['SUM', 'OPER'], ['IF CONTAINS', 'OPER'], ['Species', 'ARGN'], ['color', 'NOUN'], ['THEN', 'ADV'], ['1', 'NUM'], ['ELSE', 'ADV'], ['0', 'NUM']], [' STARTSWITH ( [ Species ] \"Iri\" ) AND ENDSWITH ( [ Species ] , “a” ) ', ['STARTSWITH', 'OPER'], ['Species', 'ARGN'], ['AND', 'ADP'], ['ENDSWITH', 'OPER'], ['Species', 'ARGN']]]\n"
          ]
        }
      ]
    },
    {
      "cell_type": "markdown",
      "source": [
        "#Train Formula (Tableau) data"
      ],
      "metadata": {
        "id": "MfHGHMvfcVz3"
      }
    },
    {
      "cell_type": "code",
      "source": [
        "for item in Train_formulas_data:\n",
        "    print(item)"
      ],
      "metadata": {
        "colab": {
          "base_uri": "https://localhost:8080/"
        },
        "id": "6zAS8cBmchqD",
        "outputId": "5d7541d0-64b0-4a9c-f846-a87f19238f04"
      },
      "execution_count": 40,
      "outputs": [
        {
          "output_type": "stream",
          "name": "stdout",
          "text": [
            "('SUM ( Sepal Length ) ', {'entities': [(0, 3, 'OPER'), (6, 18, 'ARGN')]})\n",
            "('AVG ( Sepal Width ) ', {'entities': [(0, 3, 'OPER'), (6, 17, 'ARGN')]})\n",
            "('MEDIAN ( Petal Length ) ', {'entities': [(0, 6, 'OPER'), (9, 21, 'ARGN')]})\n",
            "('COUNT ( * ) ', {'entities': [(0, 5, 'OPER')]})\n",
            "('COUNT DISTINCT ( Species ) ', {'entities': [(0, 14, 'OPER'), (17, 24, 'ARGN')]})\n",
            "('MIN ( Sepal Length ) ', {'entities': [(0, 3, 'OPER'), (6, 18, 'ARGN')]})\n",
            "('MAX ( Petal Width ) ', {'entities': [(0, 3, 'OPER'), (6, 17, 'ARGN')]})\n",
            "('GROUP BY ( Species ) ', {'entities': [(0, 8, 'OPER'), (11, 18, 'ARGN')]})\n",
            "('ORDER BY ( Sepal Length ASC ) ', {'entities': [(0, 8, 'OPER'), (11, 23, 'ARGN'), (24, 27, 'ADV')]})\n",
            "('ORDER BY ( Species ASC ) ', {'entities': [(0, 8, 'OPER'), (11, 18, 'ARGN'), (19, 22, 'ADV')]})\n",
            "('Sepal Length > = 5.0', {'entities': [(0, 12, 'ARGN'), (13, 16, 'ADP'), (17, 20, 'NUM')]})\n",
            "('Petal Length BETWEEN 1.5 AND 2.5', {'entities': [(0, 12, 'ARGN'), (13, 20, 'ADP'), (21, 24, 'NUM'), (25, 28, 'ADP'), (29, 32, 'NUM')]})\n",
            "('TOP 3 BY ( Sepal Width DESC ) ', {'entities': [(0, 3, 'OPER'), (4, 5, 'NUM'), (6, 8, 'OPER'), (11, 22, 'ARGN'), (23, 27, 'ADV')]})\n",
            "(\"Species = 'Setosa'\", {'entities': [(0, 7, 'ARGN'), (8, 9, 'ADP'), (11, 17, 'PROPN')]})\n",
            "(\"Species STARTS WITH 'Se'\", {'entities': [(0, 7, 'ARGN'), (8, 14, 'OPER'), (15, 19, 'ADP')]})\n",
            "(' SUM ( [ Petal Length ] ) ', {'entities': [(1, 4, 'OPER'), (9, 21, 'ARGN')]})\n",
            "(' AVG ( [ Petal Width ] ) ', {'entities': [(1, 4, 'OPER'), (9, 20, 'ARGN')]})\n",
            "('MEDIAN ( [ Sepal Width ] ) ', {'entities': [(0, 6, 'OPER'), (11, 22, 'ARGN')]})\n",
            "('COUNT ( [ Sepal Length ] ) ', {'entities': [(0, 5, 'OPER'), (10, 22, 'ARGN')]})\n",
            "('COUNTD ( [ Species ] ) ', {'entities': [(0, 6, 'OPER'), (11, 18, 'ARGN')]})\n",
            "('MIN ( [ Sepal Length ] ) ', {'entities': [(0, 3, 'OPER'), (8, 20, 'ARGN')]})\n",
            "('MAX ( [ Petal Width ] ) ', {'entities': [(0, 3, 'OPER'), (8, 19, 'ARGN')]})\n",
            "('SORT ( [ Species ] , DESC ) ', {'entities': [(0, 4, 'OPER'), (9, 16, 'ARGN'), (21, 25, 'ADV')]})\n",
            "('SORT ( [ Sepal Length ] , ASC ) ', {'entities': [(0, 4, 'OPER'), (9, 21, 'ARGN'), (26, 29, 'ADV')]})\n",
            "(' [ Sepal Length ] > = 4.5', {'entities': [(3, 15, 'ARGN'), (18, 21, 'ADP'), (22, 25, 'NUM')]})\n",
            "(' [ Petal Width ] < 2.0', {'entities': [(3, 14, 'ARGN'), (17, 18, 'ADP'), (19, 22, 'NUM')]})\n",
            "(' [ Sepal Width ] ! = 3.0', {'entities': [(3, 14, 'ARGN'), (17, 20, 'ADP'), (21, 24, 'NUM')]})\n",
            "('ENDSWITH ( [ Species ] , \"ica\" ) ', {'entities': [(0, 8, 'OPER'), (13, 20, 'ARGN')]})\n",
            "(' [ Sepal Length ] = 5.0', {'entities': [(3, 15, 'ARGN'), (18, 19, 'ADP'), (20, 23, 'NUM')]})\n",
            "(' INDEX ( ) < = 5 SORT BY SUM ( [ Sepal Width ] ) DESC', {'entities': [(1, 6, 'OPER'), (11, 14, 'ADP'), (15, 16, 'NUM'), (17, 21, 'OPER'), (22, 24, 'OPER'), (25, 28, 'OPER'), (33, 44, 'ARGN'), (49, 53, 'ADV')]})\n",
            "(' INDEX ( ) < = 3 SORT BY [ Petal Length ] ASC', {'entities': [(1, 6, 'OPER'), (11, 14, 'ADP'), (15, 16, 'NUM'), (17, 21, 'OPER'), (22, 24, 'OPER'), (27, 39, 'ARGN'), (42, 45, 'ADV')]})\n",
            "('IF [ Petal Length ] > = 4 AND [ Petal Length ] < = 5 THEN 1 ELSE 0 END', {'entities': [(0, 2, 'OPER'), (5, 17, 'ARGN'), (20, 23, 'ADP'), (24, 25, 'NUM'), (26, 29, 'ADP'), (32, 44, 'ARGN'), (47, 50, 'ADP'), (51, 52, 'NUM'), (53, 57, 'ADV'), (58, 59, 'NUM'), (60, 64, 'ADV'), (65, 66, 'NUM'), (67, 70, 'ORG')]})\n",
            "(\"DATETRUNC ( 'month', [ Date ] ) \", {'entities': [(0, 9, 'OPER'), (13, 18, 'NOUN'), (23, 27, 'PROPN')]})\n",
            "('YEAR ( [ Date ] ) = YEAR ( TODAY ( )  ) - 1', {'entities': [(0, 4, 'NOUN'), (9, 13, 'PROPN'), (18, 19, 'ADP'), (20, 24, 'NOUN'), (27, 32, 'NOUN'), (42, 43, 'NUM')]})\n",
            "(\" [ Date ] > = DATETRUNC ( 'year' , TODAY ( )  ) \", {'entities': [(3, 7, 'PROPN'), (10, 13, 'ADP'), (14, 23, 'OPER'), (27, 31, 'NOUN'), (35, 40, 'NOUN')]})\n",
            "(' AVG ( [ Sepal Length ] ) GROUP BY [ Species ] SORT BY [ Species ] ASC', {'entities': [(1, 4, 'OPER'), (9, 21, 'ARGN'), (26, 34, 'OPER'), (37, 44, 'ARGN'), (47, 51, 'OPER'), (52, 54, 'OPER'), (57, 64, 'ARGN'), (67, 70, 'ADV')]})\n",
            "(\" COUNTD ( IF LEFT ( [ Species ] 1 ) = 'C' THEN [ Species ] ELSE NULL END ) \", {'entities': [(1, 7, 'OPER'), (10, 12, 'OPER'), (13, 17, 'ADV'), (22, 29, 'ARGN'), (32, 33, 'NUM'), (36, 37, 'ADP'), (42, 46, 'ADV'), (49, 56, 'ARGN'), (59, 63, 'ADV'), (64, 68, 'ADV')]})\n",
            "(' [ Petal Length ] > 4.0 AND [ Sepal Length ] > 4.0', {'entities': [(3, 15, 'ARGN'), (18, 19, 'ADP'), (20, 23, 'CARDINAL'), (24, 27, 'ADP'), (30, 42, 'ARGN'), (45, 46, 'ADP'), (47, 50, 'CARDINAL')]})\n",
            "(' RANK_PERCENTILE ( [ Petal Width ] ) < = 0.1', {'entities': [(1, 16, 'OPER'), (21, 32, 'ARGN'), (37, 40, 'ADP'), (41, 44, 'CARDINAL')]})\n",
            "('SUM ( [ Sepal Length ] ) ', {'entities': [(0, 3, 'OPER'), (8, 20, 'ARGN')]})\n",
            "('AVG ( [ Petal Width ] ) ', {'entities': [(0, 3, 'OPER'), (8, 19, 'ARGN')]})\n",
            "(' { FIXED [ Species ] = \"setosa\" : MEDIAN ( [ Sepal Width ] ) } ', {'entities': [(11, 18, 'ARGN'), (21, 22, 'ADP'), (24, 30, 'NOUN'), (34, 40, 'OPER'), (45, 56, 'ARGN')]})\n",
            "('SUM ( IF [ Species ] = \"versicolor\" THEN 1 ELSE 0 END ) ', {'entities': [(0, 3, 'OPER'), (6, 8, 'OPER'), (11, 18, 'ARGN'), (21, 22, 'ADP'), (24, 34, 'NOUN'), (36, 40, 'ADV'), (41, 42, 'NUM'), (43, 47, 'ADV'), (48, 49, 'NUM')]})\n",
            "('COUNTD ( IF [ Sepal Length ] > 5.0 THEN [ Species ] ELSE NULL END ) ', {'entities': [(0, 6, 'OPER'), (9, 11, 'OPER'), (14, 26, 'ARGN'), (29, 30, 'ADP'), (31, 34, 'NUM'), (35, 39, 'ADV'), (42, 49, 'ARGN'), (52, 56, 'ADV'), (57, 61, 'ADV')]})\n",
            "(' { FIXED [ Species ] = \"virginica\" : MIN ( [ Petal Length ] ) } ', {'entities': [(11, 18, 'ARGN'), (21, 22, 'ADP'), (24, 33, 'NOUN'), (37, 40, 'OPER'), (45, 57, 'ARGN')]})\n",
            "(' { FIXED [ Species ] = \"setosa\" : MAX ( [ Sepal Width ] ) } ', {'entities': [(11, 18, 'ARGN'), (21, 22, 'ADP'), (24, 30, 'NOUN'), (34, 37, 'OPER'), (42, 53, 'ARGN')]})\n",
            "(' SORTED BY Species alphabetically COUNT ( [ Species ] ) GROUP BY [ Species ] ORDER BY [ Species ] ASC', {'entities': [(1, 10, 'OPER'), (11, 18, 'ARGN'), (19, 33, 'ADV'), (34, 39, 'OPER'), (44, 51, 'ARGN'), (56, 64, 'OPER'), (67, 74, 'ARGN'), (77, 85, 'OPER'), (88, 95, 'ARGN'), (98, 101, 'ADV')]})\n",
            "(' [ Species ] = \"versicolor\" AND [ Sepal Width ] > = 3.0', {'entities': [(3, 10, 'ARGN'), (13, 14, 'ADP'), (16, 26, 'NOUN'), (28, 31, 'ADP'), (34, 45, 'ARGN'), (48, 51, 'ADP'), (52, 55, 'NUM')]})\n",
            "('RANK ( [ Sepal Length ] ) < = 5 AND [ Species ] = \"virginica\"', {'entities': [(0, 4, 'OPER'), (9, 21, 'ARGN'), (26, 29, 'ADP'), (30, 31, 'NUM'), (32, 35, 'ADP'), (38, 45, 'ARGN'), (48, 49, 'ADP'), (51, 60, 'NOUN')]})\n",
            "('RANK_PERCENTILE ( [ Petal Width ] ) > = 0.9', {'entities': [(0, 15, 'OPER'), (20, 31, 'ARGN'), (36, 39, 'ADP'), (40, 43, 'CARDINAL')]})\n",
            "('LISTED FROM highest to lowest AVG ( [ Sepal Length ] ) GROUP BY [ Species ] ORDER BY AVG ( [ Sepal Length ] ) DESC', {'entities': [(7, 11, 'ADP'), (12, 19, 'ADJ'), (20, 22, 'ADP'), (23, 29, 'ADJ'), (30, 33, 'OPER'), (38, 50, 'ARGN'), (55, 63, 'OPER'), (66, 73, 'ARGN'), (76, 84, 'OPER'), (85, 88, 'OPER'), (93, 105, 'ARGN'), (110, 114, 'ADV')]})\n",
            "(' [ Species ] = \"setosa\" AND [ Petal Length ] BETWEEN 4.0 AND 5.0', {'entities': [(3, 10, 'ARGN'), (13, 14, 'ADP'), (16, 22, 'NOUN'), (24, 27, 'ADP'), (30, 42, 'ARGN'), (45, 52, 'ADP'), (53, 56, 'CARDINAL'), (57, 60, 'ADP'), (61, 64, 'NUM')]})\n",
            "('SUM ( IF CONTAINS ( [ Species ] \"color\" ) THEN 1 ELSE 0 END ) ', {'entities': [(0, 3, 'OPER'), (6, 17, 'OPER'), (22, 29, 'ARGN'), (33, 38, 'NOUN'), (42, 46, 'ADV'), (47, 48, 'NUM'), (49, 53, 'ADV'), (54, 55, 'NUM')]})\n",
            "(' STARTSWITH ( [ Species ] \"Iri\" ) AND ENDSWITH ( [ Species ] , “a” ) ', {'entities': [(1, 11, 'OPER'), (16, 23, 'ARGN'), (34, 37, 'ADP'), (38, 46, 'OPER'), (51, 58, 'ARGN')]})\n"
          ]
        }
      ]
    },
    {
      "cell_type": "markdown",
      "source": [
        "#TRAINING DATA: DESCRIPTION/FORMULAS TABLEAU"
      ],
      "metadata": {
        "id": "jvlOJBHtkNhM"
      }
    },
    {
      "cell_type": "code",
      "source": [
        "def training_data(TRAIN_DATA,MODEL, NITER, DROP, BATCHSIZE):\n",
        "    import spacy\n",
        "    import random\n",
        "    from spacy.util import minibatch, compounding\n",
        "    from spacy.training import Example\n",
        "    import pandas as pd\n",
        "\n",
        "    # Step 1: Load Your Customized Model\n",
        "    path ='/content/'\n",
        "    nlp = spacy.load(path+MODEL)  # Load your custom model\n",
        "\n",
        "    # Assume 'ner' is in your custom model pipeline\n",
        "    ner = nlp.get_pipe('ner')\n",
        "\n",
        "    # Add new entity labels to the NER\n",
        "    for _, annotations in TRAIN_DATA:\n",
        "        for ent in annotations.get('entities'):\n",
        "            ner.add_label(ent[2])\n",
        "\n",
        "    # Prepare the examples\n",
        "    examples = [Example.from_dict(nlp.make_doc(text), annotations) for text, annotations in TRAIN_DATA]\n",
        "\n",
        "    # Optionally disable other pipeline components during training\n",
        "    other_pipes = [pipe for pipe in nlp.pipe_names if pipe != 'ner']\n",
        "\n",
        "    history = pd.DataFrame(columns=['niter', 'losses'])\n",
        "\n",
        "    with nlp.disable_pipes(*other_pipes):  # only train NER\n",
        "        optimizer = nlp.resume_training()\n",
        "        for i in range(NITER):\n",
        "            losses = {}\n",
        "            random.shuffle(examples)\n",
        "            batches = minibatch(examples, size=BATCHSIZE)\n",
        "            for batch in batches:\n",
        "\n",
        "                nlp.update(\n",
        "                    batch,\n",
        "                    drop=DROP,\n",
        "                    losses=losses,\n",
        "                    sgd=optimizer\n",
        "                )\n",
        "            print(\"Losses\", losses)\n",
        "            history.loc[i] = [i, losses['ner']]\n",
        "\n",
        "    return history\n"
      ],
      "metadata": {
        "id": "V0EGzEy7y35X"
      },
      "execution_count": 41,
      "outputs": []
    },
    {
      "cell_type": "markdown",
      "source": [
        "#SAVE THE TRAINED MODEL"
      ],
      "metadata": {
        "id": "VbcSOf2gtWpF"
      }
    },
    {
      "cell_type": "code",
      "source": [
        "def save_model(model_name,location):\n",
        "   import os\n",
        "   from pathlib import Path\n",
        "   if location=='drive':\n",
        "      from google.colab import drive\n",
        "      drive.mount('/content/drive')\n",
        "      # Define the base path for the folder where you want to save your model\n",
        "      folder_path = '/content/drive/My Drive/MyModels'\n",
        "   else:\n",
        "      # Define the base path for the folder where you want to save your model\n",
        "      folder_path = '/content/'\n",
        "\n",
        "   # Create the folder if it doesn't exist\n",
        "   os.makedirs(folder_path, exist_ok=True)\n",
        "   model_path = os.path.join(folder_path, model_name)\n",
        "   # Save the model to the specified directory in Google Drive\n",
        "   nlp.to_disk(model_path)\n",
        "   print(f'Model saved to: {model_path}')\n",
        "   # Load the model to ensure it's been saved correctly\n",
        "   nlp2 = spacy.load(model_path)\n",
        "\n"
      ],
      "metadata": {
        "id": "IrN7_Yp1pmk6"
      },
      "execution_count": 42,
      "outputs": []
    },
    {
      "cell_type": "markdown",
      "source": [
        "#EVALUATE THE MODEL"
      ],
      "metadata": {
        "id": "HLEVlIl1tfiX"
      }
    },
    {
      "cell_type": "markdown",
      "source": [
        "#Evaluate the Model on the Test Dataset"
      ],
      "metadata": {
        "id": "IiXMw_MruIAA"
      }
    },
    {
      "cell_type": "code",
      "source": [
        "def evaluate_the_model(model_path, TEST_DATA):\n",
        "    import spacy\n",
        "    from spacy.training import Example\n",
        "\n",
        "    nlp = spacy.load(model_path)\n",
        "\n",
        "    # Convert test data to Example objects\n",
        "    examples = []\n",
        "    for text, annotations in TEST_DATA:\n",
        "        doc = nlp.make_doc(text)\n",
        "        example = Example.from_dict(doc, annotations)\n",
        "        examples.append(example)\n",
        "\n",
        "    # Evaluate the model\n",
        "    scores = nlp.evaluate(examples)\n",
        "    return scores\n",
        "\n",
        "# This separate function is not needed because evaluation can be directly done with nlp.evaluate()\n",
        "# def evaluate(ner_model, examples):\n",
        "#     pass\n"
      ],
      "metadata": {
        "id": "WNu3uuPDNuHW"
      },
      "execution_count": 43,
      "outputs": []
    },
    {
      "cell_type": "code",
      "source": [
        "def make_predictions(model_path,texts,option=1):\n",
        "    import spacy\n",
        "    from spacy import displacy\n",
        "    \"\"\"\n",
        "    options:\n",
        "    1-print\n",
        "    else-displacy ents\n",
        "    \"\"\"\n",
        "    # Replace 'your_model_directory' with the path to your trained model\n",
        "    nlp = spacy.load(model_path)\n",
        "    print(nlp.pipe_names)\n",
        "    if isinstance(texts,type)=='list' and option==1:\n",
        "         for doc in nlp.pipe(texts):\n",
        "              print([(ent.text, ent.label_) for ent in doc.ents])\n",
        "    elif isinstance(texts,type)=='list' and option!=1:\n",
        "         for doc in nlp.pipe(texts):\n",
        "              displacy.render(doc, style=\"ent\")\n",
        "    elif isinstance(texts,type)!='list' and option==1:\n",
        "          print(texts)\n",
        "          # Process the text\n",
        "          doc = nlp(texts)\n",
        "\n",
        "          # Display the entities in the text\n",
        "          for ent in doc.ents:\n",
        "                 print(ent.text, ent.label_)\n",
        "    else:\n",
        "          print(texts)\n",
        "          # Process the text\n",
        "          doc = nlp(texts)\n",
        "          displacy.render(doc, style=\"ent\")\n"
      ],
      "metadata": {
        "id": "hVOtYE4eT5Me"
      },
      "execution_count": 44,
      "outputs": []
    },
    {
      "cell_type": "markdown",
      "source": [
        " # Training,saving and evaluation the Description Tableau data model"
      ],
      "metadata": {
        "id": "U2poS29Q9AeD"
      }
    },
    {
      "cell_type": "code",
      "source": [
        "history_desc=training_data(Train_desc_data,'ner_desc',200,0.5,8)"
      ],
      "metadata": {
        "id": "ErycaDPQ2oGu",
        "colab": {
          "base_uri": "https://localhost:8080/"
        },
        "outputId": "d97823a5-bd2a-40d0-db7c-d4aacd124dfb"
      },
      "execution_count": 45,
      "outputs": [
        {
          "output_type": "stream",
          "name": "stdout",
          "text": [
            "Losses {'ner': 590.1837877146122}\n",
            "Losses {'ner': 511.10862080019433}\n",
            "Losses {'ner': 433.984162959639}\n",
            "Losses {'ner': 383.8364017382264}\n",
            "Losses {'ner': 363.3693303318687}\n",
            "Losses {'ner': 350.43362641334534}\n",
            "Losses {'ner': 348.62024292349815}\n",
            "Losses {'ner': 348.5810063332319}\n",
            "Losses {'ner': 347.0973868146539}\n",
            "Losses {'ner': 330.9499514847994}\n",
            "Losses {'ner': 300.20585503429174}\n",
            "Losses {'ner': 282.95974300801754}\n",
            "Losses {'ner': 255.27043583009072}\n",
            "Losses {'ner': 237.92654559388757}\n",
            "Losses {'ner': 223.57843843847513}\n",
            "Losses {'ner': 215.9693666950334}\n",
            "Losses {'ner': 181.7436821074225}\n",
            "Losses {'ner': 176.44949030294083}\n",
            "Losses {'ner': 160.8582475085277}\n",
            "Losses {'ner': 135.98835320249782}\n",
            "Losses {'ner': 135.68147790577495}\n",
            "Losses {'ner': 132.66578187618416}\n",
            "Losses {'ner': 121.42265878111357}\n",
            "Losses {'ner': 109.81275252406431}\n",
            "Losses {'ner': 101.43436399824759}\n",
            "Losses {'ner': 93.03456839570026}\n",
            "Losses {'ner': 97.13349744646257}\n",
            "Losses {'ner': 86.98471348237854}\n",
            "Losses {'ner': 69.67473418922538}\n",
            "Losses {'ner': 77.47759028446603}\n",
            "Losses {'ner': 68.62087375390965}\n",
            "Losses {'ner': 62.72027040120156}\n",
            "Losses {'ner': 57.55863050489597}\n",
            "Losses {'ner': 45.447578076503305}\n",
            "Losses {'ner': 47.90633191489434}\n",
            "Losses {'ner': 53.14466659093804}\n",
            "Losses {'ner': 54.27825566599116}\n",
            "Losses {'ner': 47.24893897953996}\n",
            "Losses {'ner': 34.46498675713532}\n",
            "Losses {'ner': 39.545330284929655}\n",
            "Losses {'ner': 36.23179225542562}\n",
            "Losses {'ner': 40.36773528687364}\n",
            "Losses {'ner': 34.317120634927136}\n",
            "Losses {'ner': 24.881476745777046}\n",
            "Losses {'ner': 30.192003642907157}\n",
            "Losses {'ner': 35.93163608481104}\n",
            "Losses {'ner': 34.00620072691446}\n",
            "Losses {'ner': 22.052075350843463}\n",
            "Losses {'ner': 27.230147241038}\n",
            "Losses {'ner': 15.936139319884122}\n",
            "Losses {'ner': 13.79497364387774}\n",
            "Losses {'ner': 29.00950462899857}\n",
            "Losses {'ner': 26.19939113674701}\n",
            "Losses {'ner': 29.628503050118983}\n",
            "Losses {'ner': 16.552515602143053}\n",
            "Losses {'ner': 18.905338009779054}\n",
            "Losses {'ner': 18.463109512784083}\n",
            "Losses {'ner': 14.252650997455731}\n",
            "Losses {'ner': 9.606827288468988}\n",
            "Losses {'ner': 19.297301661606063}\n",
            "Losses {'ner': 19.692826371314922}\n",
            "Losses {'ner': 16.262223261144385}\n",
            "Losses {'ner': 13.03366989170946}\n",
            "Losses {'ner': 11.81006571578097}\n",
            "Losses {'ner': 23.94666128841817}\n",
            "Losses {'ner': 22.608511320963135}\n",
            "Losses {'ner': 5.700101086525894}\n",
            "Losses {'ner': 14.59987243648725}\n",
            "Losses {'ner': 9.495674622895212}\n",
            "Losses {'ner': 6.377037011957436}\n",
            "Losses {'ner': 14.824620651966512}\n",
            "Losses {'ner': 13.762759339644118}\n",
            "Losses {'ner': 5.853890469973023}\n",
            "Losses {'ner': 8.779931900024899}\n",
            "Losses {'ner': 6.9882576541736015}\n",
            "Losses {'ner': 6.7924010166592215}\n",
            "Losses {'ner': 10.797672261160024}\n",
            "Losses {'ner': 11.665770503851526}\n",
            "Losses {'ner': 7.239175421828893}\n",
            "Losses {'ner': 3.715800045940997}\n",
            "Losses {'ner': 6.759441185048403}\n",
            "Losses {'ner': 8.588589438118104}\n",
            "Losses {'ner': 7.238590345800674}\n",
            "Losses {'ner': 10.121982945006353}\n",
            "Losses {'ner': 9.011787459333885}\n",
            "Losses {'ner': 7.2633472167513435}\n",
            "Losses {'ner': 7.358344436160444}\n",
            "Losses {'ner': 10.314720715127692}\n",
            "Losses {'ner': 9.696878122759191}\n",
            "Losses {'ner': 5.53828150129778}\n",
            "Losses {'ner': 6.057792145900783}\n",
            "Losses {'ner': 3.631441456517792}\n",
            "Losses {'ner': 6.663131322597886}\n",
            "Losses {'ner': 9.31403984824519}\n",
            "Losses {'ner': 3.555723873720412}\n",
            "Losses {'ner': 4.218043688801677}\n",
            "Losses {'ner': 8.593733674176114}\n",
            "Losses {'ner': 8.28853882766079}\n",
            "Losses {'ner': 4.721511322230214}\n",
            "Losses {'ner': 8.126776224360228}\n",
            "Losses {'ner': 7.423058235095642}\n",
            "Losses {'ner': 5.076168278880692}\n",
            "Losses {'ner': 1.1239659737516075}\n",
            "Losses {'ner': 3.2463962316232737}\n",
            "Losses {'ner': 2.0522958773009288}\n",
            "Losses {'ner': 5.636966118997758}\n",
            "Losses {'ner': 3.293314082274954}\n",
            "Losses {'ner': 4.205323901581654}\n",
            "Losses {'ner': 5.0975623736607485}\n",
            "Losses {'ner': 6.768460797775846}\n",
            "Losses {'ner': 0.6090319300050197}\n",
            "Losses {'ner': 10.043052089689521}\n",
            "Losses {'ner': 3.408309180367367}\n",
            "Losses {'ner': 4.848790648816422}\n",
            "Losses {'ner': 3.5718233743175825}\n",
            "Losses {'ner': 9.482213884148198}\n",
            "Losses {'ner': 5.715164393231232}\n",
            "Losses {'ner': 0.07120246304182094}\n",
            "Losses {'ner': 2.600798969083679}\n",
            "Losses {'ner': 3.1349707866215795}\n",
            "Losses {'ner': 1.5819133841721562}\n",
            "Losses {'ner': 4.216459928107655}\n",
            "Losses {'ner': 3.9710810766391074}\n",
            "Losses {'ner': 1.1649047540574744}\n",
            "Losses {'ner': 5.311393819140902}\n",
            "Losses {'ner': 4.022178261951766}\n",
            "Losses {'ner': 3.2531423033961686}\n",
            "Losses {'ner': 0.9788967045205205}\n",
            "Losses {'ner': 5.093916879723068}\n",
            "Losses {'ner': 3.4134750638128826}\n",
            "Losses {'ner': 4.393143110530829}\n",
            "Losses {'ner': 4.193158894952592}\n",
            "Losses {'ner': 1.522776043942799}\n",
            "Losses {'ner': 2.849017633421795}\n",
            "Losses {'ner': 5.514572708333741}\n",
            "Losses {'ner': 4.143534972655373}\n",
            "Losses {'ner': 2.8736179781828586}\n",
            "Losses {'ner': 2.3784345532286744}\n",
            "Losses {'ner': 3.459176619638947}\n",
            "Losses {'ner': 7.222201999562864}\n",
            "Losses {'ner': 3.4321121237397163}\n",
            "Losses {'ner': 1.9424392313040915}\n",
            "Losses {'ner': 4.613372103851625}\n",
            "Losses {'ner': 4.451470630831917}\n",
            "Losses {'ner': 0.7756674638183477}\n",
            "Losses {'ner': 2.0894660734287784}\n",
            "Losses {'ner': 2.2415132351714617}\n",
            "Losses {'ner': 0.28054129551897605}\n",
            "Losses {'ner': 3.3953812168544206}\n",
            "Losses {'ner': 1.450316370234007}\n",
            "Losses {'ner': 3.051986690089083}\n",
            "Losses {'ner': 0.0501263401172846}\n",
            "Losses {'ner': 4.6444472496011056}\n",
            "Losses {'ner': 1.5218103627219899}\n",
            "Losses {'ner': 2.8650359019213987}\n",
            "Losses {'ner': 0.7261506742702603}\n",
            "Losses {'ner': 4.314332714886745}\n",
            "Losses {'ner': 0.0021267488675060374}\n",
            "Losses {'ner': 4.091770017155021}\n",
            "Losses {'ner': 0.006036018276827911}\n",
            "Losses {'ner': 0.7238778441043257}\n",
            "Losses {'ner': 2.832797453014033}\n",
            "Losses {'ner': 1.2549676913135328}\n",
            "Losses {'ner': 4.320893574052495}\n",
            "Losses {'ner': 4.194536376516792}\n",
            "Losses {'ner': 0.07329623438969052}\n",
            "Losses {'ner': 1.540381252400218}\n",
            "Losses {'ner': 1.7719209193560754}\n",
            "Losses {'ner': 0.13059432801149137}\n",
            "Losses {'ner': 0.2546860282468171}\n",
            "Losses {'ner': 1.3017553669589061}\n",
            "Losses {'ner': 0.1743361350883852}\n",
            "Losses {'ner': 3.8902444915936827}\n",
            "Losses {'ner': 0.19624323581881042}\n",
            "Losses {'ner': 0.17347587543439724}\n",
            "Losses {'ner': 1.8494234227024804}\n",
            "Losses {'ner': 0.07235385364192089}\n",
            "Losses {'ner': 6.071930376510235}\n",
            "Losses {'ner': 1.9686105239563783}\n",
            "Losses {'ner': 1.8334067845845214}\n",
            "Losses {'ner': 2.6515741516056432}\n",
            "Losses {'ner': 4.5776834908734}\n",
            "Losses {'ner': 4.056111947727972}\n",
            "Losses {'ner': 2.325077074632473}\n",
            "Losses {'ner': 3.824229936412861}\n",
            "Losses {'ner': 0.07421182485002213}\n",
            "Losses {'ner': 4.054046222671815}\n",
            "Losses {'ner': 0.35777166119257714}\n",
            "Losses {'ner': 2.388389873656872}\n",
            "Losses {'ner': 3.977243562011501}\n",
            "Losses {'ner': 2.053438107430304}\n",
            "Losses {'ner': 8.462871396285092}\n",
            "Losses {'ner': 0.01648922068140422}\n",
            "Losses {'ner': 1.6969586320611747}\n",
            "Losses {'ner': 1.5041104500811964}\n",
            "Losses {'ner': 0.6356028522167039}\n",
            "Losses {'ner': 3.7091728720395483}\n",
            "Losses {'ner': 1.6188545727886483}\n",
            "Losses {'ner': 2.3277333849757698}\n",
            "Losses {'ner': 0.4904772285469118}\n"
          ]
        }
      ]
    },
    {
      "cell_type": "code",
      "source": [
        "plt.plot(history_desc['niter'],history_desc['losses'])\n",
        "plt.xlabel('Iterations')\n",
        "plt.ylabel('losses')\n",
        "plt.grid()\n",
        "plt.title(\"Description Tableau data\")"
      ],
      "metadata": {
        "colab": {
          "base_uri": "https://localhost:8080/",
          "height": 489
        },
        "id": "Cl3_zo4l6ivc",
        "outputId": "530f0dd9-c41e-4bb4-cc06-1490abaf31dd"
      },
      "execution_count": 46,
      "outputs": [
        {
          "output_type": "execute_result",
          "data": {
            "text/plain": [
              "Text(0.5, 1.0, 'Description Tableau data')"
            ]
          },
          "metadata": {},
          "execution_count": 46
        },
        {
          "output_type": "display_data",
          "data": {
            "text/plain": [
              "<Figure size 640x480 with 1 Axes>"
            ],
            "image/png": "[encoded data removed]"
          },
          "metadata": {}
        }
      ]
    },
    {
      "cell_type": "code",
      "source": [
        "save_model('Description_Tableau_data',' ')\n",
        "\n",
        "\n",
        "\n"
      ],
      "metadata": {
        "id": "G5ntc3va3aWn",
        "colab": {
          "base_uri": "https://localhost:8080/"
        },
        "outputId": "4de52958-3ec4-4db9-f29c-b91a159acecb"
      },
      "execution_count": 47,
      "outputs": [
        {
          "output_type": "stream",
          "name": "stdout",
          "text": [
            "Model saved to: /content/Description_Tableau_data\n"
          ]
        }
      ]
    },
    {
      "cell_type": "code",
      "source": [
        "# check if the model is working\n",
        "# Assuming 'nlp' is your loaded model\n",
        "path='/content/Description_Tableau_data'\n",
        "nlp= spacy.load(path)\n",
        "ner = nlp.get_pipe(\"ner\")\n",
        "\n",
        "# List all labels the NER has been trained on\n",
        "labels = ner.labels\n",
        "print(labels)\n"
      ],
      "metadata": {
        "colab": {
          "base_uri": "https://localhost:8080/"
        },
        "id": "1jLA1zAlcfHq",
        "outputId": "7c9af219-88a6-4bfd-dad3-9ee391858e36"
      },
      "execution_count": 48,
      "outputs": [
        {
          "output_type": "stream",
          "name": "stdout",
          "text": [
            "('ADJ', 'ADP', 'ADV', 'ARGN', 'CARDINAL', 'DATE', 'EVENT', 'FAC', 'GPE', 'INTJ', 'LANGUAGE', 'LAW', 'LOC', 'MONEY', 'NORP', 'NOUN', 'NUM', 'OPER', 'ORDINAL', 'ORG', 'PERCENT', 'PERSON', 'PRODUCT', 'PRON', 'PROPN', 'QUANTITY', 'TIME', 'VERB', 'WORK_OF_ART')\n"
          ]
        }
      ]
    },
    {
      "cell_type": "code",
      "source": [
        "path='/content/Description_Tableau_data'\n",
        "Test_ent_desc,Test_desc_data=get_entity(dff,dff.columns[0])\n",
        "scores=evaluate_the_model(path,Test_desc_data)\n"
      ],
      "metadata": {
        "id": "9ncD_If794bc"
      },
      "execution_count": 49,
      "outputs": []
    },
    {
      "cell_type": "code",
      "source": [
        "print(scores)"
      ],
      "metadata": {
        "colab": {
          "base_uri": "https://localhost:8080/"
        },
        "id": "2DEPnBLuPYts",
        "outputId": "54fb51d2-9098-40cd-dff0-50df0c15bb75"
      },
      "execution_count": 50,
      "outputs": [
        {
          "output_type": "stream",
          "name": "stdout",
          "text": [
            "{'token_acc': 1.0, 'token_p': 1.0, 'token_r': 1.0, 'token_f': 1.0, 'tag_acc': None, 'sents_p': None, 'sents_r': None, 'sents_f': None, 'dep_uas': None, 'dep_las': None, 'dep_las_per_type': None, 'pos_acc': None, 'morph_acc': None, 'morph_micro_p': None, 'morph_micro_r': None, 'morph_micro_f': None, 'morph_per_feat': None, 'lemma_acc': None, 'ents_p': 1.0, 'ents_r': 1.0, 'ents_f': 1.0, 'ents_per_type': {'ADJ': {'p': 1.0, 'r': 1.0, 'f': 1.0}, 'ARGN': {'p': 1.0, 'r': 1.0, 'f': 1.0}, 'ADP': {'p': 1.0, 'r': 1.0, 'f': 1.0}, 'PRON': {'p': 1.0, 'r': 1.0, 'f': 1.0}, 'NOUN': {'p': 1.0, 'r': 1.0, 'f': 1.0}, 'PROPN': {'p': 1.0, 'r': 1.0, 'f': 1.0}, 'VERB': {'p': 1.0, 'r': 1.0, 'f': 1.0}, 'NUM': {'p': 1.0, 'r': 1.0, 'f': 1.0}, 'CARDINAL': {'p': 1.0, 'r': 1.0, 'f': 1.0}, 'ADV': {'p': 1.0, 'r': 1.0, 'f': 1.0}, 'INTJ': {'p': 1.0, 'r': 1.0, 'f': 1.0}}, 'speed': 3391.580544194112}\n"
          ]
        }
      ]
    },
    {
      "cell_type": "markdown",
      "source": [
        "#Make predictions on Description Tableau Data"
      ],
      "metadata": {
        "id": "2e5aHp9WXjrU"
      }
    },
    {
      "cell_type": "code",
      "source": [
        "# text\n",
        "make_predictions(path,dff[dff.columns[0]][3])"
      ],
      "metadata": {
        "colab": {
          "base_uri": "https://localhost:8080/"
        },
        "id": "ouV7kCnFXeqX",
        "outputId": "e59d25a5-e4c3-4853-d3b1-090ee6cc6e93"
      },
      "execution_count": 51,
      "outputs": [
        {
          "output_type": "stream",
          "name": "stdout",
          "text": [
            "['tok2vec', 'tagger', 'parser', 'attribute_ruler', 'lemmatizer', 'ruler_intj', 'ruler_verb', 'ruler_num', 'ruler_adv', 'ruler_pron', 'ruler_adp', 'ruler_noun', 'ruler_adj', 'ruler_propn', 'ruler_arg', 'ruler_argn', 'ruler_numm', 'ruler_advv', 'ruler_oper', 'ruler_adpp', 'ruler_nounn', 'ruler_adjj', 'ruler_sort_command', 'ner']\n",
            "Number of entries in the database\n",
            "Number NOUN\n",
            "of ADP\n",
            "entries NOUN\n",
            "in ADP\n",
            "the PRON\n"
          ]
        }
      ]
    },
    {
      "cell_type": "code",
      "source": [
        "make_predictions(path,dff[dff.columns[0]][0])"
      ],
      "metadata": {
        "colab": {
          "base_uri": "https://localhost:8080/"
        },
        "id": "LYWaXSJRZPUz",
        "outputId": "2d36873b-4af0-4c18-b32d-355ae1f4a601"
      },
      "execution_count": 52,
      "outputs": [
        {
          "output_type": "stream",
          "name": "stdout",
          "text": [
            "['tok2vec', 'tagger', 'parser', 'attribute_ruler', 'lemmatizer', 'ruler_intj', 'ruler_verb', 'ruler_num', 'ruler_adv', 'ruler_pron', 'ruler_adp', 'ruler_noun', 'ruler_adj', 'ruler_propn', 'ruler_arg', 'ruler_argn', 'ruler_numm', 'ruler_advv', 'ruler_oper', 'ruler_adpp', 'ruler_nounn', 'ruler_adjj', 'ruler_sort_command', 'ner']\n",
            "Total Sepal Width in the dataset\n",
            "Total ADJ\n",
            "Sepal Width ARGN\n",
            "in ADP\n",
            "the PRON\n",
            "dataset NOUN\n"
          ]
        }
      ]
    },
    {
      "cell_type": "markdown",
      "source": [
        "#Training, saving and evaluation Formulas Tableau data model"
      ],
      "metadata": {
        "id": "n3HoN49t9PWK"
      }
    },
    {
      "cell_type": "code",
      "source": [
        "history_formulas=training_data(Train_formulas_data,'ner_formulas',200,0.5,8)"
      ],
      "metadata": {
        "id": "hKTa_iI-2owc",
        "colab": {
          "base_uri": "https://localhost:8080/"
        },
        "outputId": "5b227597-60d9-4641-c304-24fd4683f8d1"
      },
      "execution_count": 53,
      "outputs": [
        {
          "output_type": "stream",
          "name": "stdout",
          "text": [
            "Losses {'ner': 402.93434732805537}\n",
            "Losses {'ner': 377.50775386212285}\n",
            "Losses {'ner': 346.72930420377816}\n",
            "Losses {'ner': 329.0398755935021}\n",
            "Losses {'ner': 316.46716943290085}\n",
            "Losses {'ner': 308.2724666404538}\n",
            "Losses {'ner': 311.42330353090074}\n",
            "Losses {'ner': 307.46431153966114}\n",
            "Losses {'ner': 231.18570645111322}\n",
            "Losses {'ner': 199.25141640652473}\n",
            "Losses {'ner': 178.57200458203704}\n",
            "Losses {'ner': 173.32587934568167}\n",
            "Losses {'ner': 179.12858317778105}\n",
            "Losses {'ner': 164.3202799428256}\n",
            "Losses {'ner': 152.74910258945815}\n",
            "Losses {'ner': 135.9210542845567}\n",
            "Losses {'ner': 125.54568050527087}\n",
            "Losses {'ner': 114.9930351709279}\n",
            "Losses {'ner': 101.55729379405088}\n",
            "Losses {'ner': 88.90146267368164}\n",
            "Losses {'ner': 83.11540083641346}\n",
            "Losses {'ner': 79.25036503928655}\n",
            "Losses {'ner': 68.42068175800928}\n",
            "Losses {'ner': 64.21338192619679}\n",
            "Losses {'ner': 63.83038753429943}\n",
            "Losses {'ner': 60.44200043992955}\n",
            "Losses {'ner': 45.89181467968471}\n",
            "Losses {'ner': 44.09673446848846}\n",
            "Losses {'ner': 36.49472917710152}\n",
            "Losses {'ner': 31.9892282918013}\n",
            "Losses {'ner': 40.445852763883416}\n",
            "Losses {'ner': 25.32041063682395}\n",
            "Losses {'ner': 27.79921541787088}\n",
            "Losses {'ner': 27.806954574028985}\n",
            "Losses {'ner': 27.64601341819854}\n",
            "Losses {'ner': 23.446520324980217}\n",
            "Losses {'ner': 25.168236252396515}\n",
            "Losses {'ner': 22.990706114452937}\n",
            "Losses {'ner': 20.449446446356955}\n",
            "Losses {'ner': 15.87407125819184}\n",
            "Losses {'ner': 10.33510193404273}\n",
            "Losses {'ner': 16.789866368373666}\n",
            "Losses {'ner': 13.311889608993585}\n",
            "Losses {'ner': 12.09701168664306}\n",
            "Losses {'ner': 6.820937320119521}\n",
            "Losses {'ner': 9.011728719528055}\n",
            "Losses {'ner': 14.899854139907413}\n",
            "Losses {'ner': 8.828343171060476}\n",
            "Losses {'ner': 7.110456319751375}\n",
            "Losses {'ner': 13.186877681002152}\n",
            "Losses {'ner': 10.18701962758886}\n",
            "Losses {'ner': 20.56800889903891}\n",
            "Losses {'ner': 4.6597457895329555}\n",
            "Losses {'ner': 10.073543613027814}\n",
            "Losses {'ner': 9.282430177466301}\n",
            "Losses {'ner': 8.270843569948077}\n",
            "Losses {'ner': 15.573730268538458}\n",
            "Losses {'ner': 4.49345062166749}\n",
            "Losses {'ner': 4.6567209001315994}\n",
            "Losses {'ner': 5.1649485895571035}\n",
            "Losses {'ner': 4.107802152236447}\n",
            "Losses {'ner': 8.550970861455005}\n",
            "Losses {'ner': 4.37949720317822}\n",
            "Losses {'ner': 3.146334108752372}\n",
            "Losses {'ner': 5.115324535549844}\n",
            "Losses {'ner': 5.090870849831748}\n",
            "Losses {'ner': 2.8865808527222443}\n",
            "Losses {'ner': 11.892751699164188}\n",
            "Losses {'ner': 10.491626075534137}\n",
            "Losses {'ner': 4.437588432982149}\n",
            "Losses {'ner': 3.814831855383983}\n",
            "Losses {'ner': 4.465339900508791}\n",
            "Losses {'ner': 6.334122768903273}\n",
            "Losses {'ner': 2.934084632636896}\n",
            "Losses {'ner': 0.22299183560459673}\n",
            "Losses {'ner': 6.034444432413334}\n",
            "Losses {'ner': 5.661788814071608}\n",
            "Losses {'ner': 0.1672049818382147}\n",
            "Losses {'ner': 1.3059720800976191}\n",
            "Losses {'ner': 0.2509924938950063}\n",
            "Losses {'ner': 0.488799665599632}\n",
            "Losses {'ner': 6.199671458743484}\n",
            "Losses {'ner': 3.4953578448067266}\n",
            "Losses {'ner': 2.896927527294337}\n",
            "Losses {'ner': 3.9341044317168192}\n",
            "Losses {'ner': 1.0749884471395685}\n",
            "Losses {'ner': 4.069152813054455}\n",
            "Losses {'ner': 6.800019152982181}\n",
            "Losses {'ner': 1.6232128132205241}\n",
            "Losses {'ner': 1.171509411283074}\n",
            "Losses {'ner': 3.5799698551211794}\n",
            "Losses {'ner': 3.127042408489123}\n",
            "Losses {'ner': 1.2510555121171447}\n",
            "Losses {'ner': 0.984780887042895}\n",
            "Losses {'ner': 5.184864917328819}\n",
            "Losses {'ner': 1.8543277595905248}\n",
            "Losses {'ner': 2.113878889456127}\n",
            "Losses {'ner': 1.1113045029120787}\n",
            "Losses {'ner': 3.8698438949604514}\n",
            "Losses {'ner': 2.2826715938445123}\n",
            "Losses {'ner': 0.21239799300188952}\n",
            "Losses {'ner': 2.8865477294560167}\n",
            "Losses {'ner': 0.3855603585809379}\n",
            "Losses {'ner': 9.080917707560987}\n",
            "Losses {'ner': 0.41143989887466453}\n",
            "Losses {'ner': 3.235668612275702}\n",
            "Losses {'ner': 0.2720312838261538}\n",
            "Losses {'ner': 1.8202384054196177}\n",
            "Losses {'ner': 0.1848282954947888}\n",
            "Losses {'ner': 1.5535695546238997}\n",
            "Losses {'ner': 2.256248793329801}\n",
            "Losses {'ner': 2.361882803917007}\n",
            "Losses {'ner': 1.305874632027473}\n",
            "Losses {'ner': 0.0325341527548199}\n",
            "Losses {'ner': 0.7353071095403136}\n",
            "Losses {'ner': 1.2223555156132673}\n",
            "Losses {'ner': 3.5164374190266106}\n",
            "Losses {'ner': 5.375292936041846}\n",
            "Losses {'ner': 0.06623795959791944}\n",
            "Losses {'ner': 1.5480951021379032}\n",
            "Losses {'ner': 0.8499469716672263}\n",
            "Losses {'ner': 3.4891710341177404}\n",
            "Losses {'ner': 0.03090425262610427}\n",
            "Losses {'ner': 0.922058048779711}\n",
            "Losses {'ner': 2.577952122054085}\n",
            "Losses {'ner': 2.462538772412767}\n",
            "Losses {'ner': 0.006069330026680546}\n",
            "Losses {'ner': 1.1714124063029683}\n",
            "Losses {'ner': 0.25775507055704494}\n",
            "Losses {'ner': 1.9936679283935697}\n",
            "Losses {'ner': 0.06279634809342645}\n",
            "Losses {'ner': 1.4922463866584095}\n",
            "Losses {'ner': 3.618360551907644}\n",
            "Losses {'ner': 3.0151517980532323}\n",
            "Losses {'ner': 1.314015226323263}\n",
            "Losses {'ner': 2.9448159045318945}\n",
            "Losses {'ner': 0.10077299713044544}\n",
            "Losses {'ner': 0.42261990857892484}\n",
            "Losses {'ner': 1.1895216798874504}\n",
            "Losses {'ner': 0.047826150173063825}\n",
            "Losses {'ner': 3.8795523961996277}\n",
            "Losses {'ner': 0.18999510870069808}\n",
            "Losses {'ner': 5.459311229033941}\n",
            "Losses {'ner': 2.8757962945522624}\n",
            "Losses {'ner': 1.995422322163278}\n",
            "Losses {'ner': 2.412076426662125}\n",
            "Losses {'ner': 1.9956739994258044}\n",
            "Losses {'ner': 2.3892586792668054}\n",
            "Losses {'ner': 0.14329372442710706}\n",
            "Losses {'ner': 2.155216309417724}\n",
            "Losses {'ner': 0.0017438197266453905}\n",
            "Losses {'ner': 0.003317780886235196}\n",
            "Losses {'ner': 6.396285398339888}\n",
            "Losses {'ner': 0.21846348205895114}\n",
            "Losses {'ner': 0.008339948481135829}\n",
            "Losses {'ner': 0.135098676825434}\n",
            "Losses {'ner': 0.0609362794878188}\n",
            "Losses {'ner': 2.001542695618239}\n",
            "Losses {'ner': 1.5559159075735955}\n",
            "Losses {'ner': 1.4387645873091146}\n",
            "Losses {'ner': 0.002751899215978252}\n",
            "Losses {'ner': 0.00012435375178828812}\n",
            "Losses {'ner': 5.997543148130035}\n",
            "Losses {'ner': 0.2082151945073943}\n",
            "Losses {'ner': 0.16379071816920227}\n",
            "Losses {'ner': 0.38106598727858837}\n",
            "Losses {'ner': 0.007468466685865195}\n",
            "Losses {'ner': 2.443440450350384}\n",
            "Losses {'ner': 0.5219399428096937}\n",
            "Losses {'ner': 0.0036548612518379877}\n",
            "Losses {'ner': 0.0003053470246437136}\n",
            "Losses {'ner': 1.3320949780107532}\n",
            "Losses {'ner': 3.5924499769888603}\n",
            "Losses {'ner': 0.3068653340881329}\n",
            "Losses {'ner': 0.15226600572713553}\n",
            "Losses {'ner': 2.683762203823322}\n",
            "Losses {'ner': 0.017472875430642697}\n",
            "Losses {'ner': 0.003591159366052978}\n",
            "Losses {'ner': 0.6059098790859331}\n",
            "Losses {'ner': 0.012759277006086162}\n",
            "Losses {'ner': 0.001994709522652141}\n",
            "Losses {'ner': 0.9619315050381362}\n",
            "Losses {'ner': 0.0002300837799718197}\n",
            "Losses {'ner': 0.22179829366623827}\n",
            "Losses {'ner': 0.699258818568489}\n",
            "Losses {'ner': 0.03157756993554973}\n",
            "Losses {'ner': 2.0459826858162273}\n",
            "Losses {'ner': 1.4657900459083124}\n",
            "Losses {'ner': 1.990354400344517}\n",
            "Losses {'ner': 0.00283632642058639}\n",
            "Losses {'ner': 0.5067652929596439}\n",
            "Losses {'ner': 0.22897318880930068}\n",
            "Losses {'ner': 0.07147275828208141}\n",
            "Losses {'ner': 0.00010609532982857535}\n",
            "Losses {'ner': 3.3702532095000057}\n",
            "Losses {'ner': 0.08977306268596108}\n",
            "Losses {'ner': 6.740675310794905e-05}\n",
            "Losses {'ner': 0.0011881896918861468}\n",
            "Losses {'ner': 9.789773072848431e-05}\n",
            "Losses {'ner': 0.1022759851767507}\n"
          ]
        }
      ]
    },
    {
      "cell_type": "code",
      "source": [
        "\n",
        "plt.plot(history_formulas['niter'],history_formulas['losses'])\n",
        "plt.xlabel('Iterations')\n",
        "plt.ylabel('losses')\n",
        "plt.grid()\n",
        "plt.title(\"Formulas Tableau Data\")"
      ],
      "metadata": {
        "id": "68OXB3QML50e",
        "colab": {
          "base_uri": "https://localhost:8080/",
          "height": 489
        },
        "outputId": "27e267b4-6ecd-4348-bc55-909851c297b7"
      },
      "execution_count": 54,
      "outputs": [
        {
          "output_type": "execute_result",
          "data": {
            "text/plain": [
              "Text(0.5, 1.0, 'Formulas Tableau Data')"
            ]
          },
          "metadata": {},
          "execution_count": 54
        },
        {
          "output_type": "display_data",
          "data": {
            "text/plain": [
              "<Figure size 640x480 with 1 Axes>"
            ],
            "image/png": "[encoded data removed]"
          },
          "metadata": {}
        }
      ]
    },
    {
      "cell_type": "code",
      "source": [
        "save_model('Formulas_Tableau_data',' ')"
      ],
      "metadata": {
        "id": "nHKvYpkP3a3c",
        "colab": {
          "base_uri": "https://localhost:8080/"
        },
        "outputId": "12a72360-28c5-4920-fee5-5a4a5dc21fad"
      },
      "execution_count": 55,
      "outputs": [
        {
          "output_type": "stream",
          "name": "stdout",
          "text": [
            "Model saved to: /content/Formulas_Tableau_data\n"
          ]
        }
      ]
    },
    {
      "cell_type": "code",
      "source": [
        "# check if the model is working\n",
        "# Assuming 'nlp' is your loaded model\n",
        "path='/content/Formulas_Tableau_data'\n",
        "nlp= spacy.load(path)\n",
        "ner = nlp.get_pipe(\"ner\")\n",
        "\n",
        "# List all labels the NER has been trained on\n",
        "labels = ner.labels\n",
        "print(labels)\n"
      ],
      "metadata": {
        "colab": {
          "base_uri": "https://localhost:8080/"
        },
        "outputId": "a9e0883d-bb45-4c31-ea99-e8e4040b830f",
        "id": "KgS4gh496upu"
      },
      "execution_count": 56,
      "outputs": [
        {
          "output_type": "stream",
          "name": "stdout",
          "text": [
            "('ADJ', 'ADP', 'ADV', 'ARGN', 'CARDINAL', 'DATE', 'EVENT', 'FAC', 'GPE', 'INTJ', 'LANGUAGE', 'LAW', 'LOC', 'MONEY', 'NORP', 'NOUN', 'NUM', 'OPER', 'ORDINAL', 'ORG', 'PERCENT', 'PERSON', 'PRODUCT', 'PRON', 'PROPN', 'QUANTITY', 'TIME', 'VERB', 'WORK_OF_ART')\n"
          ]
        }
      ]
    },
    {
      "cell_type": "markdown",
      "source": [],
      "metadata": {
        "id": "m-lt3mZmuBW-"
      }
    },
    {
      "cell_type": "code",
      "source": [
        "path='/content/Formulas_Tableau_data'\n",
        "Test_ent_formulas,Test_formulas_data=get_entity(dff,dff.columns[1])\n",
        "scores=evaluate_the_model(path,Test_formulas_data)\n"
      ],
      "metadata": {
        "id": "PnB_uAGs6tYx"
      },
      "execution_count": 57,
      "outputs": []
    },
    {
      "cell_type": "code",
      "source": [
        "print(scores)"
      ],
      "metadata": {
        "colab": {
          "base_uri": "https://localhost:8080/"
        },
        "id": "knrkgVtm7FR2",
        "outputId": "ac6c2f3a-e7c9-4cc6-c4d3-3713b10612ff"
      },
      "execution_count": 58,
      "outputs": [
        {
          "output_type": "stream",
          "name": "stdout",
          "text": [
            "{'token_acc': 1.0, 'token_p': 1.0, 'token_r': 1.0, 'token_f': 1.0, 'tag_acc': None, 'sents_p': None, 'sents_r': None, 'sents_f': None, 'dep_uas': None, 'dep_las': None, 'dep_las_per_type': None, 'pos_acc': None, 'morph_acc': None, 'morph_micro_p': None, 'morph_micro_r': None, 'morph_micro_f': None, 'morph_per_feat': None, 'lemma_acc': None, 'ents_p': 1.0, 'ents_r': 1.0, 'ents_f': 1.0, 'ents_per_type': {'OPER': {'p': 1.0, 'r': 1.0, 'f': 1.0}, 'ARGN': {'p': 1.0, 'r': 1.0, 'f': 1.0}, 'ADV': {'p': 1.0, 'r': 1.0, 'f': 1.0}, 'ADP': {'p': 1.0, 'r': 1.0, 'f': 1.0}, 'NUM': {'p': 1.0, 'r': 1.0, 'f': 1.0}, 'CARDINAL': {'p': 1.0, 'r': 1.0, 'f': 1.0}, 'PROPN': {'p': 1.0, 'r': 1.0, 'f': 1.0}, 'NOUN': {'p': 1.0, 'r': 1.0, 'f': 1.0}, 'ORG': {'p': 1.0, 'r': 1.0, 'f': 1.0}}, 'speed': 3414.751174457476}\n"
          ]
        }
      ]
    },
    {
      "cell_type": "markdown",
      "source": [
        "# Make predictions on Formulas Tableau Data"
      ],
      "metadata": {
        "id": "rQH2ickZ7Xr4"
      }
    },
    {
      "cell_type": "code",
      "source": [
        "# text\n",
        "make_predictions(path,dff[dff.columns[1]][3])"
      ],
      "metadata": {
        "colab": {
          "base_uri": "https://localhost:8080/"
        },
        "id": "dNUgvtHF7IGS",
        "outputId": "559e9a73-88d7-4e46-902c-41198fa29bbe"
      },
      "execution_count": 59,
      "outputs": [
        {
          "output_type": "stream",
          "name": "stdout",
          "text": [
            "['tok2vec', 'tagger', 'parser', 'attribute_ruler', 'lemmatizer', 'ruler_intj', 'ruler_verb', 'ruler_num', 'ruler_adv', 'ruler_pron', 'ruler_adp', 'ruler_noun', 'ruler_adj', 'ruler_propn', 'ruler_arg', 'ruler_argn', 'ruler_numm', 'ruler_advv', 'ruler_oper', 'ruler_adpp', 'ruler_nounn', 'ruler_adjj', 'ruler_sort_command', 'ner']\n",
            "COUNT ( * ) \n",
            "COUNT OPER\n"
          ]
        }
      ]
    },
    {
      "cell_type": "code",
      "source": [
        "# text\n",
        "make_predictions(path,dff[dff.columns[1]][0])"
      ],
      "metadata": {
        "colab": {
          "base_uri": "https://localhost:8080/"
        },
        "id": "eu9FmWLI7iCU",
        "outputId": "0bc8b970-94fd-4304-f79a-7428c467cbe1"
      },
      "execution_count": 60,
      "outputs": [
        {
          "output_type": "stream",
          "name": "stdout",
          "text": [
            "['tok2vec', 'tagger', 'parser', 'attribute_ruler', 'lemmatizer', 'ruler_intj', 'ruler_verb', 'ruler_num', 'ruler_adv', 'ruler_pron', 'ruler_adp', 'ruler_noun', 'ruler_adj', 'ruler_propn', 'ruler_arg', 'ruler_argn', 'ruler_numm', 'ruler_advv', 'ruler_oper', 'ruler_adpp', 'ruler_nounn', 'ruler_adjj', 'ruler_sort_command', 'ner']\n",
            "SUM ( Sepal Width ) \n",
            "SUM OPER\n",
            "Sepal Width ARGN\n"
          ]
        }
      ]
    },
    {
      "cell_type": "code",
      "source": [
        "import os\n",
        "print(os.listdir('/content/'))"
      ],
      "metadata": {
        "colab": {
          "base_uri": "https://localhost:8080/"
        },
        "id": "IUJcVeyIuqSB",
        "outputId": "8debd51f-8af5-4630-f0ff-b05c70cd9f85"
      },
      "execution_count": 61,
      "outputs": [
        {
          "output_type": "stream",
          "name": "stdout",
          "text": [
            "['.config', 'Combined_multi_task_data_200.0.5.8', 'formulas_test.xlsx', 'Description_Tableau_data', 'tableau_data.csv', 'Formulas_Tableau_data', 'formulas.xlsx', 'Combined_multi_task_data_400.0.5.8', 'Combined__multi_task_data_200.0.5.8', 'ner_desc', 'ner_formulas', 'sample_data']\n"
          ]
        }
      ]
    },
    {
      "cell_type": "code",
      "source": [
        "#files.download('/content/ner_desc','/content/ner_formulas')\n"
      ],
      "metadata": {
        "id": "kKFQc9mPv1I9"
      },
      "execution_count": 62,
      "outputs": []
    },
    {
      "cell_type": "code",
      "source": [
        "def training_data_multitask(TRAIN_DATA_NER1, TRAIN_DATA_NER2, MODEL, NITER, DROP, BATCHSIZE):\n",
        "    import spacy\n",
        "    import random\n",
        "    from spacy.util import minibatch, compounding\n",
        "    from spacy.training import Example\n",
        "    import pandas as pd\n",
        "\n",
        "\n",
        "    path = '/content/'\n",
        "    nlp = spacy.load(path + MODEL)  # Load your custom model\n",
        "\n",
        "    # Prepare the examples for both NER datasets\n",
        "    examples_ner1 = [Example.from_dict(nlp.make_doc(text), annotations) for text, annotations in TRAIN_DATA_NER1]\n",
        "    examples_ner2 = [Example.from_dict(nlp.make_doc(text), annotations) for text, annotations in TRAIN_DATA_NER2]\n",
        "\n",
        "\n",
        "    # Optionally disable other pipeline components during training\n",
        "    other_pipes = [pipe for pipe in nlp.pipe_names if pipe != 'ner']\n",
        "\n",
        "    history = pd.DataFrame(columns=['niter', 'losses_ner'])\n",
        "\n",
        "    with nlp.disable_pipes(*other_pipes):  # only train NER\n",
        "        optimizer = nlp.resume_training()\n",
        "        for i in range(NITER):\n",
        "            losses = {}\n",
        "            # Shuffle and create batches for both NER datasets\n",
        "            random.shuffle(examples_ner1)\n",
        "            random.shuffle(examples_ner2)\n",
        "\n",
        "\n",
        "\n",
        "            batches_ner1 = minibatch(examples_ner1, size=BATCHSIZE)\n",
        "            batches_ner2 = minibatch(examples_ner2, size=BATCHSIZE)\n",
        "\n",
        "            # Alternate between updating with NER1 and NER2 batches\n",
        "            for batch_ner1, batch_ner2 in zip(batches_ner1, batches_ner2):\n",
        "\n",
        "                     nlp.update(\n",
        "                         batch_ner1,\n",
        "                         drop=DROP,\n",
        "                         losses=losses,\n",
        "                         sgd=optimizer\n",
        "                        )\n",
        "                     nlp.update(\n",
        "                         batch_ner2,\n",
        "                         drop=DROP,\n",
        "                         losses=losses,\n",
        "                         sgd=optimizer\n",
        "                        )\n",
        "\n",
        "            print(f\"Iteration {i}, Losses\", losses)\n",
        "            history.loc[i] = [i, losses.get('ner', 0)]\n",
        "\n",
        "    return history\n"
      ],
      "metadata": {
        "id": "h43roUp6w4VI"
      },
      "execution_count": 63,
      "outputs": []
    },
    {
      "cell_type": "code",
      "source": [
        "history_comb =training_data_multitask(Train_desc_data, Train_formulas_data, 'ner_formulas', 400, 0.5, 8)"
      ],
      "metadata": {
        "colab": {
          "base_uri": "https://localhost:8080/"
        },
        "id": "oJa5j6y01F_Y",
        "outputId": "aa106276-ba2e-48f8-a7ea-2e9402768477"
      },
      "execution_count": 64,
      "outputs": [
        {
          "output_type": "stream",
          "name": "stdout",
          "text": [
            "Iteration 0, Losses {'ner': 965.3619199509322}\n",
            "Iteration 1, Losses {'ner': 797.7185962862568}\n",
            "Iteration 2, Losses {'ner': 740.9100562632084}\n",
            "Iteration 3, Losses {'ner': 713.6575501859188}\n",
            "Iteration 4, Losses {'ner': 714.8089870734768}\n",
            "Iteration 5, Losses {'ner': 683.5147161176428}\n",
            "Iteration 6, Losses {'ner': 581.3241960965097}\n",
            "Iteration 7, Losses {'ner': 518.6562085318822}\n",
            "Iteration 8, Losses {'ner': 477.1915071568819}\n",
            "Iteration 9, Losses {'ner': 463.92590245354677}\n",
            "Iteration 10, Losses {'ner': 430.9369251088433}\n",
            "Iteration 11, Losses {'ner': 391.34243558709727}\n",
            "Iteration 12, Losses {'ner': 357.43998818863406}\n",
            "Iteration 13, Losses {'ner': 332.376417340658}\n",
            "Iteration 14, Losses {'ner': 298.3874757883367}\n",
            "Iteration 15, Losses {'ner': 271.47470388350973}\n",
            "Iteration 16, Losses {'ner': 236.1765417176881}\n",
            "Iteration 17, Losses {'ner': 231.13383076897026}\n",
            "Iteration 18, Losses {'ner': 192.703056008607}\n",
            "Iteration 19, Losses {'ner': 173.6300226909661}\n",
            "Iteration 20, Losses {'ner': 172.91940032051764}\n",
            "Iteration 21, Losses {'ner': 159.14563890565972}\n",
            "Iteration 22, Losses {'ner': 180.99684774829274}\n",
            "Iteration 23, Losses {'ner': 136.64909074527384}\n",
            "Iteration 24, Losses {'ner': 124.18861586945758}\n",
            "Iteration 25, Losses {'ner': 134.19450068736205}\n",
            "Iteration 26, Losses {'ner': 108.62000158671269}\n",
            "Iteration 27, Losses {'ner': 121.82561102593547}\n",
            "Iteration 28, Losses {'ner': 92.70429807879607}\n",
            "Iteration 29, Losses {'ner': 99.69146172260652}\n",
            "Iteration 30, Losses {'ner': 90.96603003082664}\n",
            "Iteration 31, Losses {'ner': 88.31120321740514}\n",
            "Iteration 32, Losses {'ner': 71.6756688589621}\n",
            "Iteration 33, Losses {'ner': 86.01715497486778}\n",
            "Iteration 34, Losses {'ner': 67.58619679323039}\n",
            "Iteration 35, Losses {'ner': 61.600580123834696}\n",
            "Iteration 36, Losses {'ner': 60.37484097159458}\n",
            "Iteration 37, Losses {'ner': 59.08422581310348}\n",
            "Iteration 38, Losses {'ner': 52.333055117191314}\n",
            "Iteration 39, Losses {'ner': 70.0003444167775}\n",
            "Iteration 40, Losses {'ner': 62.11061231560806}\n",
            "Iteration 41, Losses {'ner': 68.78107322436783}\n",
            "Iteration 42, Losses {'ner': 54.236431309040235}\n",
            "Iteration 43, Losses {'ner': 43.35144601646796}\n",
            "Iteration 44, Losses {'ner': 52.01849672067169}\n",
            "Iteration 45, Losses {'ner': 43.617225109079286}\n",
            "Iteration 46, Losses {'ner': 49.518269793591024}\n",
            "Iteration 47, Losses {'ner': 33.966488325934336}\n",
            "Iteration 48, Losses {'ner': 33.110196699377916}\n",
            "Iteration 49, Losses {'ner': 41.65761028415907}\n",
            "Iteration 50, Losses {'ner': 38.31404511300963}\n",
            "Iteration 51, Losses {'ner': 35.9940031494561}\n",
            "Iteration 52, Losses {'ner': 39.49873374515417}\n",
            "Iteration 53, Losses {'ner': 23.755551613566265}\n",
            "Iteration 54, Losses {'ner': 47.07293400604456}\n",
            "Iteration 55, Losses {'ner': 27.24768706990231}\n",
            "Iteration 56, Losses {'ner': 23.556943921118382}\n",
            "Iteration 57, Losses {'ner': 19.011183823872774}\n",
            "Iteration 58, Losses {'ner': 30.3752171737814}\n",
            "Iteration 59, Losses {'ner': 46.95479527125509}\n",
            "Iteration 60, Losses {'ner': 21.982166709241216}\n",
            "Iteration 61, Losses {'ner': 35.662028785850524}\n",
            "Iteration 62, Losses {'ner': 22.410206313039104}\n",
            "Iteration 63, Losses {'ner': 28.927152989022886}\n",
            "Iteration 64, Losses {'ner': 29.525295020253427}\n",
            "Iteration 65, Losses {'ner': 28.861112222694643}\n",
            "Iteration 66, Losses {'ner': 25.903467980308072}\n",
            "Iteration 67, Losses {'ner': 34.2916685842678}\n",
            "Iteration 68, Losses {'ner': 20.63113982205348}\n",
            "Iteration 69, Losses {'ner': 23.526619456875437}\n",
            "Iteration 70, Losses {'ner': 25.60099970417762}\n",
            "Iteration 71, Losses {'ner': 14.82048657184512}\n",
            "Iteration 72, Losses {'ner': 23.102989456965584}\n",
            "Iteration 73, Losses {'ner': 24.5632616443188}\n",
            "Iteration 74, Losses {'ner': 24.255956411187817}\n",
            "Iteration 75, Losses {'ner': 16.36125668970666}\n",
            "Iteration 76, Losses {'ner': 31.237924867089944}\n",
            "Iteration 77, Losses {'ner': 34.96762555927724}\n",
            "Iteration 78, Losses {'ner': 26.627139138193638}\n",
            "Iteration 79, Losses {'ner': 13.370258360868085}\n",
            "Iteration 80, Losses {'ner': 23.156602824903054}\n",
            "Iteration 81, Losses {'ner': 19.359405372551464}\n",
            "Iteration 82, Losses {'ner': 24.847760543195413}\n",
            "Iteration 83, Losses {'ner': 19.657872592337164}\n",
            "Iteration 84, Losses {'ner': 16.79218601510084}\n",
            "Iteration 85, Losses {'ner': 20.730983335162826}\n",
            "Iteration 86, Losses {'ner': 23.604112932160795}\n",
            "Iteration 87, Losses {'ner': 11.45261308716762}\n",
            "Iteration 88, Losses {'ner': 10.43819854729312}\n",
            "Iteration 89, Losses {'ner': 24.004693441746795}\n",
            "Iteration 90, Losses {'ner': 12.102668544370767}\n",
            "Iteration 91, Losses {'ner': 17.50505071502862}\n",
            "Iteration 92, Losses {'ner': 19.84167724211771}\n",
            "Iteration 93, Losses {'ner': 18.204385007728646}\n",
            "Iteration 94, Losses {'ner': 11.93784701632127}\n",
            "Iteration 95, Losses {'ner': 14.378329006985554}\n",
            "Iteration 96, Losses {'ner': 10.42380826663398}\n",
            "Iteration 97, Losses {'ner': 12.63650680467863}\n",
            "Iteration 98, Losses {'ner': 20.648894525233853}\n",
            "Iteration 99, Losses {'ner': 15.50092704306428}\n",
            "Iteration 100, Losses {'ner': 9.212291914519579}\n",
            "Iteration 101, Losses {'ner': 17.852969376310288}\n",
            "Iteration 102, Losses {'ner': 14.727576904466783}\n",
            "Iteration 103, Losses {'ner': 12.179251398786525}\n",
            "Iteration 104, Losses {'ner': 10.176666572382652}\n",
            "Iteration 105, Losses {'ner': 18.45338117695874}\n",
            "Iteration 106, Losses {'ner': 12.642479012300152}\n",
            "Iteration 107, Losses {'ner': 15.861786815878164}\n",
            "Iteration 108, Losses {'ner': 13.103229893018819}\n",
            "Iteration 109, Losses {'ner': 15.201611379128217}\n",
            "Iteration 110, Losses {'ner': 8.673763227707179}\n",
            "Iteration 111, Losses {'ner': 7.839567720346437}\n",
            "Iteration 112, Losses {'ner': 9.996328480910684}\n",
            "Iteration 113, Losses {'ner': 7.195606021436259}\n",
            "Iteration 114, Losses {'ner': 14.418919438101197}\n",
            "Iteration 115, Losses {'ner': 5.551332353227974}\n",
            "Iteration 116, Losses {'ner': 7.384329762751854}\n",
            "Iteration 117, Losses {'ner': 16.19949715732804}\n",
            "Iteration 118, Losses {'ner': 15.909208626757888}\n",
            "Iteration 119, Losses {'ner': 7.204999987772491}\n",
            "Iteration 120, Losses {'ner': 13.587056641073794}\n",
            "Iteration 121, Losses {'ner': 9.010158862937798}\n",
            "Iteration 122, Losses {'ner': 17.99486207586953}\n",
            "Iteration 123, Losses {'ner': 9.99940988446725}\n",
            "Iteration 124, Losses {'ner': 13.243277016640095}\n",
            "Iteration 125, Losses {'ner': 5.794357617957393}\n",
            "Iteration 126, Losses {'ner': 11.914281856385314}\n",
            "Iteration 127, Losses {'ner': 11.687359842010526}\n",
            "Iteration 128, Losses {'ner': 4.919306661531712}\n",
            "Iteration 129, Losses {'ner': 7.237345430099868}\n",
            "Iteration 130, Losses {'ner': 13.912772507719891}\n",
            "Iteration 131, Losses {'ner': 8.226554947030312}\n",
            "Iteration 132, Losses {'ner': 19.902369182040715}\n",
            "Iteration 133, Losses {'ner': 14.568492761362418}\n",
            "Iteration 134, Losses {'ner': 1.9547894421052208}\n",
            "Iteration 135, Losses {'ner': 13.907893900936905}\n",
            "Iteration 136, Losses {'ner': 10.093802655206268}\n",
            "Iteration 137, Losses {'ner': 5.081376236552394}\n",
            "Iteration 138, Losses {'ner': 11.441165825156041}\n",
            "Iteration 139, Losses {'ner': 14.615447534259102}\n",
            "Iteration 140, Losses {'ner': 6.172873759060783}\n",
            "Iteration 141, Losses {'ner': 12.724646530750876}\n",
            "Iteration 142, Losses {'ner': 3.7164021836003083}\n",
            "Iteration 143, Losses {'ner': 5.494408567742982}\n",
            "Iteration 144, Losses {'ner': 17.692400107022543}\n",
            "Iteration 145, Losses {'ner': 7.321091995575115}\n",
            "Iteration 146, Losses {'ner': 10.70466789457594}\n",
            "Iteration 147, Losses {'ner': 6.6093167175193654}\n",
            "Iteration 148, Losses {'ner': 4.350379584196975}\n",
            "Iteration 149, Losses {'ner': 11.10359042658631}\n",
            "Iteration 150, Losses {'ner': 10.081203220281758}\n",
            "Iteration 151, Losses {'ner': 12.224241218862009}\n",
            "Iteration 152, Losses {'ner': 3.396911632106549}\n",
            "Iteration 153, Losses {'ner': 6.269386387379589}\n",
            "Iteration 154, Losses {'ner': 7.054547648959198}\n",
            "Iteration 155, Losses {'ner': 7.29037619724188}\n",
            "Iteration 156, Losses {'ner': 7.5507424032165815}\n",
            "Iteration 157, Losses {'ner': 4.018709317276051}\n",
            "Iteration 158, Losses {'ner': 3.9736667724293726}\n",
            "Iteration 159, Losses {'ner': 1.8249072959957682}\n",
            "Iteration 160, Losses {'ner': 5.147491557204433}\n",
            "Iteration 161, Losses {'ner': 6.841275948700215}\n",
            "Iteration 162, Losses {'ner': 5.808853544669979}\n",
            "Iteration 163, Losses {'ner': 3.2928387043989984}\n",
            "Iteration 164, Losses {'ner': 3.366999717066495}\n",
            "Iteration 165, Losses {'ner': 4.098916801440927}\n",
            "Iteration 166, Losses {'ner': 6.413465218684765}\n",
            "Iteration 167, Losses {'ner': 4.678655929199912}\n",
            "Iteration 168, Losses {'ner': 5.293655421106812}\n",
            "Iteration 169, Losses {'ner': 6.402895972512556}\n",
            "Iteration 170, Losses {'ner': 3.125600090698718}\n",
            "Iteration 171, Losses {'ner': 9.220648752511295}\n",
            "Iteration 172, Losses {'ner': 9.679235259644559}\n",
            "Iteration 173, Losses {'ner': 6.353269148211772}\n",
            "Iteration 174, Losses {'ner': 8.736507220492307}\n",
            "Iteration 175, Losses {'ner': 2.821831107142808}\n",
            "Iteration 176, Losses {'ner': 1.8053116257566444}\n",
            "Iteration 177, Losses {'ner': 8.994817762615606}\n",
            "Iteration 178, Losses {'ner': 15.729640516047038}\n",
            "Iteration 179, Losses {'ner': 16.99377815134271}\n",
            "Iteration 180, Losses {'ner': 5.5428463711092}\n",
            "Iteration 181, Losses {'ner': 6.885562318317345}\n",
            "Iteration 182, Losses {'ner': 7.212162022318187}\n",
            "Iteration 183, Losses {'ner': 0.8404883201856022}\n",
            "Iteration 184, Losses {'ner': 9.401133131261517}\n",
            "Iteration 185, Losses {'ner': 3.9747822887360424}\n",
            "Iteration 186, Losses {'ner': 5.411347548332103}\n",
            "Iteration 187, Losses {'ner': 7.746974064954745}\n",
            "Iteration 188, Losses {'ner': 2.0167525302378704}\n",
            "Iteration 189, Losses {'ner': 9.290079665554261}\n",
            "Iteration 190, Losses {'ner': 4.4864872340009025}\n",
            "Iteration 191, Losses {'ner': 9.410916128718322}\n",
            "Iteration 192, Losses {'ner': 0.757646698140128}\n",
            "Iteration 193, Losses {'ner': 9.937163375756299}\n",
            "Iteration 194, Losses {'ner': 11.827694640504788}\n",
            "Iteration 195, Losses {'ner': 9.376119319987396}\n",
            "Iteration 196, Losses {'ner': 9.236183853776174}\n",
            "Iteration 197, Losses {'ner': 1.4283932051697372}\n",
            "Iteration 198, Losses {'ner': 2.306579007487825}\n",
            "Iteration 199, Losses {'ner': 3.7957606488453504}\n",
            "Iteration 200, Losses {'ner': 7.2080000677549245}\n",
            "Iteration 201, Losses {'ner': 6.789082970417574}\n",
            "Iteration 202, Losses {'ner': 11.14380685674702}\n",
            "Iteration 203, Losses {'ner': 8.572788405050515}\n",
            "Iteration 204, Losses {'ner': 4.154782169460628}\n",
            "Iteration 205, Losses {'ner': 3.1060342015295217}\n",
            "Iteration 206, Losses {'ner': 5.602761884752607}\n",
            "Iteration 207, Losses {'ner': 4.4989195221509215}\n",
            "Iteration 208, Losses {'ner': 3.037303955231748}\n",
            "Iteration 209, Losses {'ner': 1.3737224618144825}\n",
            "Iteration 210, Losses {'ner': 4.921935870128402}\n",
            "Iteration 211, Losses {'ner': 2.305586460108551}\n",
            "Iteration 212, Losses {'ner': 1.54556012754284}\n",
            "Iteration 213, Losses {'ner': 1.6451688389600587}\n",
            "Iteration 214, Losses {'ner': 2.357544962299808}\n",
            "Iteration 215, Losses {'ner': 5.367599110745571}\n",
            "Iteration 216, Losses {'ner': 6.2287953285048685}\n",
            "Iteration 217, Losses {'ner': 2.3545994991569605}\n",
            "Iteration 218, Losses {'ner': 6.636366894323231}\n",
            "Iteration 219, Losses {'ner': 6.763417978261335}\n",
            "Iteration 220, Losses {'ner': 4.676582109323249}\n",
            "Iteration 221, Losses {'ner': 0.5003143708213537}\n",
            "Iteration 222, Losses {'ner': 4.133513898034122}\n",
            "Iteration 223, Losses {'ner': 0.8587821572658904}\n",
            "Iteration 224, Losses {'ner': 7.356222794842866}\n",
            "Iteration 225, Losses {'ner': 2.07516723206632}\n",
            "Iteration 226, Losses {'ner': 7.6005512032182505}\n",
            "Iteration 227, Losses {'ner': 8.41915355484633}\n",
            "Iteration 228, Losses {'ner': 5.104268428002986}\n",
            "Iteration 229, Losses {'ner': 3.726101570125839}\n",
            "Iteration 230, Losses {'ner': 4.153161063503866}\n",
            "Iteration 231, Losses {'ner': 1.8857672037635527}\n",
            "Iteration 232, Losses {'ner': 7.358584265633643}\n",
            "Iteration 233, Losses {'ner': 7.431761422831688}\n",
            "Iteration 234, Losses {'ner': 7.578155283976909}\n",
            "Iteration 235, Losses {'ner': 3.450909192132195}\n",
            "Iteration 236, Losses {'ner': 4.304279567559995}\n",
            "Iteration 237, Losses {'ner': 5.347818670111543}\n",
            "Iteration 238, Losses {'ner': 6.402423600919928}\n",
            "Iteration 239, Losses {'ner': 0.10696856436125624}\n",
            "Iteration 240, Losses {'ner': 5.474027672300619}\n",
            "Iteration 241, Losses {'ner': 1.680385459748067}\n",
            "Iteration 242, Losses {'ner': 5.834033054574638}\n",
            "Iteration 243, Losses {'ner': 4.362431242092885}\n",
            "Iteration 244, Losses {'ner': 2.5234301511796584}\n",
            "Iteration 245, Losses {'ner': 2.0693781393788724}\n",
            "Iteration 246, Losses {'ner': 5.807859575681666}\n",
            "Iteration 247, Losses {'ner': 2.2924829485372404}\n",
            "Iteration 248, Losses {'ner': 1.9734085758504072}\n",
            "Iteration 249, Losses {'ner': 2.1434840325109636}\n",
            "Iteration 250, Losses {'ner': 0.15654041552182496}\n",
            "Iteration 251, Losses {'ner': 1.5254965647650949}\n",
            "Iteration 252, Losses {'ner': 7.207932192277774}\n",
            "Iteration 253, Losses {'ner': 2.0583825509209}\n",
            "Iteration 254, Losses {'ner': 2.2598575631612974}\n",
            "Iteration 255, Losses {'ner': 2.32033517975035}\n",
            "Iteration 256, Losses {'ner': 6.168867898435766}\n",
            "Iteration 257, Losses {'ner': 3.5848789493192594}\n",
            "Iteration 258, Losses {'ner': 4.4628061850588}\n",
            "Iteration 259, Losses {'ner': 5.331948374826715}\n",
            "Iteration 260, Losses {'ner': 2.145827660846501}\n",
            "Iteration 261, Losses {'ner': 3.937898649796553}\n",
            "Iteration 262, Losses {'ner': 4.532396839002656}\n",
            "Iteration 263, Losses {'ner': 5.294639258345242}\n",
            "Iteration 264, Losses {'ner': 3.610473651245167}\n",
            "Iteration 265, Losses {'ner': 1.1263423134055537}\n",
            "Iteration 266, Losses {'ner': 4.438989853977441}\n",
            "Iteration 267, Losses {'ner': 5.109928042553744}\n",
            "Iteration 268, Losses {'ner': 5.166931184379016}\n",
            "Iteration 269, Losses {'ner': 6.837019231568999}\n",
            "Iteration 270, Losses {'ner': 5.712135291904761}\n",
            "Iteration 271, Losses {'ner': 4.310367438562305}\n",
            "Iteration 272, Losses {'ner': 0.003079225605044059}\n",
            "Iteration 273, Losses {'ner': 0.7094109502720848}\n",
            "Iteration 274, Losses {'ner': 0.13880885309871843}\n",
            "Iteration 275, Losses {'ner': 1.9728020218441815}\n",
            "Iteration 276, Losses {'ner': 1.2853631519149207}\n",
            "Iteration 277, Losses {'ner': 1.4735162124455785}\n",
            "Iteration 278, Losses {'ner': 11.264926578714851}\n",
            "Iteration 279, Losses {'ner': 8.199508395798086}\n",
            "Iteration 280, Losses {'ner': 3.9061410540971835}\n",
            "Iteration 281, Losses {'ner': 4.135800877328163}\n",
            "Iteration 282, Losses {'ner': 5.251037333271999}\n",
            "Iteration 283, Losses {'ner': 2.8591972589810926}\n",
            "Iteration 284, Losses {'ner': 6.107025695986722}\n",
            "Iteration 285, Losses {'ner': 4.782778319896586}\n",
            "Iteration 286, Losses {'ner': 2.4981941999681974}\n",
            "Iteration 287, Losses {'ner': 6.920270325017767}\n",
            "Iteration 288, Losses {'ner': 2.9609262048324565}\n",
            "Iteration 289, Losses {'ner': 10.06279370945312}\n",
            "Iteration 290, Losses {'ner': 8.128369650098083}\n",
            "Iteration 291, Losses {'ner': 4.796707811345832}\n",
            "Iteration 292, Losses {'ner': 6.042585466855206}\n",
            "Iteration 293, Losses {'ner': 5.190306093704062}\n",
            "Iteration 294, Losses {'ner': 0.1067431060062713}\n",
            "Iteration 295, Losses {'ner': 5.056923738281582}\n",
            "Iteration 296, Losses {'ner': 2.991401961144484}\n",
            "Iteration 297, Losses {'ner': 4.527743753955484}\n",
            "Iteration 298, Losses {'ner': 2.4480536154035115}\n",
            "Iteration 299, Losses {'ner': 2.248096809559227}\n",
            "Iteration 300, Losses {'ner': 1.8397205406705035}\n",
            "Iteration 301, Losses {'ner': 1.8570638389036398}\n",
            "Iteration 302, Losses {'ner': 5.854416766824562}\n",
            "Iteration 303, Losses {'ner': 4.419766564913067}\n",
            "Iteration 304, Losses {'ner': 2.0150084360434337}\n",
            "Iteration 305, Losses {'ner': 1.8487837310501674}\n",
            "Iteration 306, Losses {'ner': 3.399020244752673}\n",
            "Iteration 307, Losses {'ner': 6.168555947072326}\n",
            "Iteration 308, Losses {'ner': 1.7326761905366637}\n",
            "Iteration 309, Losses {'ner': 0.04027509164578005}\n",
            "Iteration 310, Losses {'ner': 4.729481755583266}\n",
            "Iteration 311, Losses {'ner': 5.2451709109912805}\n",
            "Iteration 312, Losses {'ner': 11.450109068243735}\n",
            "Iteration 313, Losses {'ner': 0.0024531598374628446}\n",
            "Iteration 314, Losses {'ner': 4.44994313719871}\n",
            "Iteration 315, Losses {'ner': 3.8024312781174627}\n",
            "Iteration 316, Losses {'ner': 3.317349616514695}\n",
            "Iteration 317, Losses {'ner': 3.020190979049222}\n",
            "Iteration 318, Losses {'ner': 2.532568161587647}\n",
            "Iteration 319, Losses {'ner': 0.06215691069320179}\n",
            "Iteration 320, Losses {'ner': 6.034950773002101}\n",
            "Iteration 321, Losses {'ner': 0.8096120621798532}\n",
            "Iteration 322, Losses {'ner': 6.779302590263379}\n",
            "Iteration 323, Losses {'ner': 3.019258005918114}\n",
            "Iteration 324, Losses {'ner': 7.928139956019597}\n",
            "Iteration 325, Losses {'ner': 5.7270815545712885}\n",
            "Iteration 326, Losses {'ner': 2.8036491358752555}\n",
            "Iteration 327, Losses {'ner': 2.6761993308858543}\n",
            "Iteration 328, Losses {'ner': 4.578207689544614}\n",
            "Iteration 329, Losses {'ner': 5.051771654452908}\n",
            "Iteration 330, Losses {'ner': 4.400021199721022}\n",
            "Iteration 331, Losses {'ner': 7.28298853478062}\n",
            "Iteration 332, Losses {'ner': 5.586898018984159}\n",
            "Iteration 333, Losses {'ner': 3.7344606745219586}\n",
            "Iteration 334, Losses {'ner': 3.7900163124368733}\n",
            "Iteration 335, Losses {'ner': 2.1363993417022}\n",
            "Iteration 336, Losses {'ner': 7.019261411273588}\n",
            "Iteration 337, Losses {'ner': 1.526304802886409}\n",
            "Iteration 338, Losses {'ner': 2.4581405576283615}\n",
            "Iteration 339, Losses {'ner': 0.3455956451151023}\n",
            "Iteration 340, Losses {'ner': 0.7257615517949281}\n",
            "Iteration 341, Losses {'ner': 0.03566991778843624}\n",
            "Iteration 342, Losses {'ner': 3.4720563732080074}\n",
            "Iteration 343, Losses {'ner': 4.037125298662682}\n",
            "Iteration 344, Losses {'ner': 4.154070406027586}\n",
            "Iteration 345, Losses {'ner': 3.4473261817798457}\n",
            "Iteration 346, Losses {'ner': 5.82276145294437}\n",
            "Iteration 347, Losses {'ner': 2.548617956374677}\n",
            "Iteration 348, Losses {'ner': 2.800518512145043}\n",
            "Iteration 349, Losses {'ner': 3.9680887636704822}\n",
            "Iteration 350, Losses {'ner': 1.564986734940609}\n",
            "Iteration 351, Losses {'ner': 2.856324934752314}\n",
            "Iteration 352, Losses {'ner': 2.684288033472788}\n",
            "Iteration 353, Losses {'ner': 3.9726722281379345}\n",
            "Iteration 354, Losses {'ner': 2.0247459381273707}\n",
            "Iteration 355, Losses {'ner': 3.911253169093264}\n",
            "Iteration 356, Losses {'ner': 6.732133147463594}\n",
            "Iteration 357, Losses {'ner': 4.158601246475109}\n",
            "Iteration 358, Losses {'ner': 3.682027768723377}\n",
            "Iteration 359, Losses {'ner': 7.063827662514427}\n",
            "Iteration 360, Losses {'ner': 4.995639974972619}\n",
            "Iteration 361, Losses {'ner': 4.091272837980217}\n",
            "Iteration 362, Losses {'ner': 6.666627520828396}\n",
            "Iteration 363, Losses {'ner': 1.8647130335000879}\n",
            "Iteration 364, Losses {'ner': 2.6624276535044347}\n",
            "Iteration 365, Losses {'ner': 4.402286604455767}\n",
            "Iteration 366, Losses {'ner': 4.392493268126716}\n",
            "Iteration 367, Losses {'ner': 7.423913555026753}\n",
            "Iteration 368, Losses {'ner': 0.02339004229458246}\n",
            "Iteration 369, Losses {'ner': 4.580581092405017}\n",
            "Iteration 370, Losses {'ner': 2.326371292752877}\n",
            "Iteration 371, Losses {'ner': 5.145248241242128}\n",
            "Iteration 372, Losses {'ner': 2.4672734408810513}\n",
            "Iteration 373, Losses {'ner': 0.6864521749669027}\n",
            "Iteration 374, Losses {'ner': 5.992206351777014}\n",
            "Iteration 375, Losses {'ner': 2.4032184327092816}\n",
            "Iteration 376, Losses {'ner': 0.0026941630086821755}\n",
            "Iteration 377, Losses {'ner': 3.4519014053282207}\n",
            "Iteration 378, Losses {'ner': 6.012872348300534}\n",
            "Iteration 379, Losses {'ner': 5.6022201233899525}\n",
            "Iteration 380, Losses {'ner': 0.018173692994117592}\n",
            "Iteration 381, Losses {'ner': 2.7545786472761185}\n",
            "Iteration 382, Losses {'ner': 6.657059067061819}\n",
            "Iteration 383, Losses {'ner': 3.7968191004644574}\n",
            "Iteration 384, Losses {'ner': 3.060529945799059}\n",
            "Iteration 385, Losses {'ner': 3.7228066315692714}\n",
            "Iteration 386, Losses {'ner': 1.3460142871739016}\n",
            "Iteration 387, Losses {'ner': 9.502759512983175}\n",
            "Iteration 388, Losses {'ner': 3.088450459117691}\n",
            "Iteration 389, Losses {'ner': 1.9990800049447142}\n",
            "Iteration 390, Losses {'ner': 9.507152357657295}\n",
            "Iteration 391, Losses {'ner': 5.182952450707264}\n",
            "Iteration 392, Losses {'ner': 2.0477006250031926}\n",
            "Iteration 393, Losses {'ner': 1.9541196852440574}\n",
            "Iteration 394, Losses {'ner': 2.0188764091530347}\n",
            "Iteration 395, Losses {'ner': 2.0897909219922233}\n",
            "Iteration 396, Losses {'ner': 2.8245897407975247}\n",
            "Iteration 397, Losses {'ner': 7.529262759956038}\n",
            "Iteration 398, Losses {'ner': 1.365626937511622}\n",
            "Iteration 399, Losses {'ner': 2.506970285186885}\n"
          ]
        }
      ]
    },
    {
      "cell_type": "code",
      "source": [
        "# check if the model is working\n",
        "# Assuming 'nlp' is your loaded model\n",
        "path='/content/ner_formulas'\n",
        "nlp= spacy.load(path)\n",
        "ner = nlp.get_pipe(\"ner\")\n",
        "\n",
        "# List all labels the NER has been trained on\n",
        "labels = ner.labels\n",
        "print(labels)"
      ],
      "metadata": {
        "colab": {
          "base_uri": "https://localhost:8080/"
        },
        "id": "dMbEa6XNOOvm",
        "outputId": "b96aef7b-7bf0-4aa1-8826-fcdb011cd708"
      },
      "execution_count": 65,
      "outputs": [
        {
          "output_type": "stream",
          "name": "stdout",
          "text": [
            "('ADJ', 'ADP', 'ADV', 'CARDINAL', 'DATE', 'EVENT', 'FAC', 'GPE', 'INTJ', 'LANGUAGE', 'LAW', 'LOC', 'MONEY', 'NORP', 'NOUN', 'NUM', 'ORDINAL', 'ORG', 'PERCENT', 'PERSON', 'PRODUCT', 'PRON', 'PROPN', 'QUANTITY', 'TIME', 'VERB', 'WORK_OF_ART')\n"
          ]
        }
      ]
    },
    {
      "cell_type": "code",
      "source": [
        "print(history_comb.columns)"
      ],
      "metadata": {
        "colab": {
          "base_uri": "https://localhost:8080/"
        },
        "id": "9NGFHRvh4Dgt",
        "outputId": "bd146f5c-4252-4387-884f-bff8620202ee"
      },
      "execution_count": 66,
      "outputs": [
        {
          "output_type": "stream",
          "name": "stdout",
          "text": [
            "Index(['niter', 'losses_ner'], dtype='object')\n"
          ]
        }
      ]
    },
    {
      "cell_type": "code",
      "source": [
        "plt.plot(history_comb['niter'],history_comb['losses_ner'])\n",
        "plt.xlabel('Iterations')\n",
        "plt.ylabel('losses')\n",
        "plt.grid()\n",
        "plt.title(\"Combined Multi-Task Model data\")"
      ],
      "metadata": {
        "colab": {
          "base_uri": "https://localhost:8080/",
          "height": 489
        },
        "id": "q9QAzeyQ1Gdc",
        "outputId": "d0cdc3d1-09ff-4def-b27b-35f17568e6c1"
      },
      "execution_count": 67,
      "outputs": [
        {
          "output_type": "execute_result",
          "data": {
            "text/plain": [
              "Text(0.5, 1.0, 'Combined Multi-Task Model data')"
            ]
          },
          "metadata": {},
          "execution_count": 67
        },
        {
          "output_type": "display_data",
          "data": {
            "text/plain": [
              "<Figure size 640x480 with 1 Axes>"
            ],
            "image/png": "[encoded data removed]"
          },
          "metadata": {}
        }
      ]
    },
    {
      "cell_type": "code",
      "source": [
        "save_model('Combined_multi_task_data_400.0.5.8',' ')"
      ],
      "metadata": {
        "colab": {
          "base_uri": "https://localhost:8080/"
        },
        "id": "OGh7jMIG5H9e",
        "outputId": "ecb71ec8-dacd-49bf-a743-1bfff5d7d9d2"
      },
      "execution_count": 68,
      "outputs": [
        {
          "output_type": "stream",
          "name": "stdout",
          "text": [
            "Model saved to: /content/Combined_multi_task_data_400.0.5.8\n"
          ]
        }
      ]
    },
    {
      "cell_type": "code",
      "source": [
        "#Check if the model is working\n",
        "# Assuming 'nlp' is your loaded model\n",
        "path='/content/Combined_multi_task_data_400.0.5.8'\n",
        "nlp= spacy.load(path)\n",
        "ner = nlp.get_pipe(\"ner\")\n",
        "\n",
        "# List all labels the NER has been trained on\n",
        "labels = ner.labels\n",
        "print(labels)"
      ],
      "metadata": {
        "colab": {
          "base_uri": "https://localhost:8080/"
        },
        "id": "IH7fNG705pP4",
        "outputId": "20e8b948-134c-4ddc-dd43-d416ec58d350"
      },
      "execution_count": 69,
      "outputs": [
        {
          "output_type": "stream",
          "name": "stdout",
          "text": [
            "('ADJ', 'ADP', 'ADV', 'CARDINAL', 'DATE', 'EVENT', 'FAC', 'GPE', 'INTJ', 'LANGUAGE', 'LAW', 'LOC', 'MONEY', 'NORP', 'NOUN', 'NUM', 'ORDINAL', 'ORG', 'PERCENT', 'PERSON', 'PRODUCT', 'PRON', 'PROPN', 'QUANTITY', 'TIME', 'VERB', 'WORK_OF_ART')\n"
          ]
        }
      ]
    },
    {
      "cell_type": "code",
      "source": [
        "scores=evaluate_the_model(path,Test_desc_data)\n"
      ],
      "metadata": {
        "id": "b6MswBc2-7bN"
      },
      "execution_count": 70,
      "outputs": []
    },
    {
      "cell_type": "code",
      "source": [
        "print(scores)"
      ],
      "metadata": {
        "colab": {
          "base_uri": "https://localhost:8080/"
        },
        "id": "VG5kRovA_bPz",
        "outputId": "7f1b7f78-2e21-4e45-91b8-847b453bcd02"
      },
      "execution_count": 71,
      "outputs": [
        {
          "output_type": "stream",
          "name": "stdout",
          "text": [
            "{'token_acc': 1.0, 'token_p': 1.0, 'token_r': 1.0, 'token_f': 1.0, 'tag_acc': None, 'sents_p': None, 'sents_r': None, 'sents_f': None, 'dep_uas': None, 'dep_las': None, 'dep_las_per_type': None, 'pos_acc': None, 'morph_acc': None, 'morph_micro_p': None, 'morph_micro_r': None, 'morph_micro_f': None, 'morph_per_feat': None, 'lemma_acc': None, 'ents_p': 1.0, 'ents_r': 1.0, 'ents_f': 1.0, 'ents_per_type': {'ADJ': {'p': 1.0, 'r': 1.0, 'f': 1.0}, 'ARGN': {'p': 1.0, 'r': 1.0, 'f': 1.0}, 'ADP': {'p': 1.0, 'r': 1.0, 'f': 1.0}, 'PRON': {'p': 1.0, 'r': 1.0, 'f': 1.0}, 'NOUN': {'p': 1.0, 'r': 1.0, 'f': 1.0}, 'PROPN': {'p': 1.0, 'r': 1.0, 'f': 1.0}, 'VERB': {'p': 1.0, 'r': 1.0, 'f': 1.0}, 'NUM': {'p': 1.0, 'r': 1.0, 'f': 1.0}, 'CARDINAL': {'p': 1.0, 'r': 1.0, 'f': 1.0}, 'ADV': {'p': 1.0, 'r': 1.0, 'f': 1.0}, 'INTJ': {'p': 1.0, 'r': 1.0, 'f': 1.0}}, 'speed': 3007.797799780273}\n"
          ]
        }
      ]
    },
    {
      "cell_type": "code",
      "source": [
        "scores=evaluate_the_model(path,Test_formulas_data)\n"
      ],
      "metadata": {
        "id": "wQh2WBOD6hNm"
      },
      "execution_count": 72,
      "outputs": []
    },
    {
      "cell_type": "code",
      "source": [
        "print(scores)"
      ],
      "metadata": {
        "colab": {
          "base_uri": "https://localhost:8080/"
        },
        "id": "stVTlTe_6zBk",
        "outputId": "fb553d7a-89bf-4d80-d8c9-57041b05f012"
      },
      "execution_count": 73,
      "outputs": [
        {
          "output_type": "stream",
          "name": "stdout",
          "text": [
            "{'token_acc': 1.0, 'token_p': 1.0, 'token_r': 1.0, 'token_f': 1.0, 'tag_acc': None, 'sents_p': None, 'sents_r': None, 'sents_f': None, 'dep_uas': None, 'dep_las': None, 'dep_las_per_type': None, 'pos_acc': None, 'morph_acc': None, 'morph_micro_p': None, 'morph_micro_r': None, 'morph_micro_f': None, 'morph_per_feat': None, 'lemma_acc': None, 'ents_p': 1.0, 'ents_r': 1.0, 'ents_f': 1.0, 'ents_per_type': {'OPER': {'p': 1.0, 'r': 1.0, 'f': 1.0}, 'ARGN': {'p': 1.0, 'r': 1.0, 'f': 1.0}, 'ADV': {'p': 1.0, 'r': 1.0, 'f': 1.0}, 'ADP': {'p': 1.0, 'r': 1.0, 'f': 1.0}, 'NUM': {'p': 1.0, 'r': 1.0, 'f': 1.0}, 'CARDINAL': {'p': 1.0, 'r': 1.0, 'f': 1.0}, 'PROPN': {'p': 1.0, 'r': 1.0, 'f': 1.0}, 'NOUN': {'p': 1.0, 'r': 1.0, 'f': 1.0}, 'ORG': {'p': 1.0, 'r': 1.0, 'f': 1.0}}, 'speed': 4816.520049666067}\n"
          ]
        }
      ]
    },
    {
      "cell_type": "code",
      "source": [
        "# text\n",
        "make_predictions(path,dff[dff.columns[0]][3])"
      ],
      "metadata": {
        "colab": {
          "base_uri": "https://localhost:8080/"
        },
        "id": "StvtLq7QP4WO",
        "outputId": "7a0e3d0a-c04e-497e-b5d9-b6c16b2ed31b"
      },
      "execution_count": 74,
      "outputs": [
        {
          "output_type": "stream",
          "name": "stdout",
          "text": [
            "['tok2vec', 'tagger', 'parser', 'attribute_ruler', 'lemmatizer', 'ruler_intj', 'ruler_verb', 'ruler_num', 'ruler_adv', 'ruler_pron', 'ruler_adp', 'ruler_noun', 'ruler_adj', 'ruler_propn', 'ruler_arg', 'ruler_argn', 'ruler_numm', 'ruler_advv', 'ruler_oper', 'ruler_adpp', 'ruler_nounn', 'ruler_adjj', 'ruler_sort_command', 'ner']\n",
            "Number of entries in the database\n",
            "Number NOUN\n",
            "of ADP\n",
            "entries NOUN\n",
            "in ADP\n",
            "the PRON\n"
          ]
        }
      ]
    },
    {
      "cell_type": "code",
      "source": [
        "# text\n",
        "make_predictions(path,dff[dff.columns[1]][3])\n"
      ],
      "metadata": {
        "colab": {
          "base_uri": "https://localhost:8080/"
        },
        "id": "NGMEJ01-QGfR",
        "outputId": "3d171ef2-e505-438b-b33d-3a8f911a7553"
      },
      "execution_count": 75,
      "outputs": [
        {
          "output_type": "stream",
          "name": "stdout",
          "text": [
            "['tok2vec', 'tagger', 'parser', 'attribute_ruler', 'lemmatizer', 'ruler_intj', 'ruler_verb', 'ruler_num', 'ruler_adv', 'ruler_pron', 'ruler_adp', 'ruler_noun', 'ruler_adj', 'ruler_propn', 'ruler_arg', 'ruler_argn', 'ruler_numm', 'ruler_advv', 'ruler_oper', 'ruler_adpp', 'ruler_nounn', 'ruler_adjj', 'ruler_sort_command', 'ner']\n",
            "COUNT ( * ) \n",
            "COUNT OPER\n"
          ]
        }
      ]
    },
    {
      "cell_type": "code",
      "source": [
        "# text\n",
        "make_predictions(path,dff[dff.columns[1]][23])"
      ],
      "metadata": {
        "colab": {
          "base_uri": "https://localhost:8080/"
        },
        "id": "QlvRklyz2IZ5",
        "outputId": "7a463638-f1c5-479c-a5ce-a0fe8d2110bf"
      },
      "execution_count": 76,
      "outputs": [
        {
          "output_type": "stream",
          "name": "stdout",
          "text": [
            "['tok2vec', 'tagger', 'parser', 'attribute_ruler', 'lemmatizer', 'ruler_intj', 'ruler_verb', 'ruler_num', 'ruler_adv', 'ruler_pron', 'ruler_adp', 'ruler_noun', 'ruler_adj', 'ruler_propn', 'ruler_arg', 'ruler_argn', 'ruler_numm', 'ruler_advv', 'ruler_oper', 'ruler_adpp', 'ruler_nounn', 'ruler_adjj', 'ruler_sort_command', 'ner']\n",
            "SORT ( [ Sepal Width ] , DESC ) \n",
            "SORT OPER\n",
            "Sepal Width ARGN\n",
            "DESC ADV\n"
          ]
        }
      ]
    },
    {
      "cell_type": "code",
      "source": [
        "# text\n",
        "make_predictions(path,dff[dff.columns[1]][35])"
      ],
      "metadata": {
        "colab": {
          "base_uri": "https://localhost:8080/"
        },
        "id": "T_n6sUxH2abR",
        "outputId": "4a689779-921c-4b11-cebe-cff80967a83b"
      },
      "execution_count": 77,
      "outputs": [
        {
          "output_type": "stream",
          "name": "stdout",
          "text": [
            "['tok2vec', 'tagger', 'parser', 'attribute_ruler', 'lemmatizer', 'ruler_intj', 'ruler_verb', 'ruler_num', 'ruler_adv', 'ruler_pron', 'ruler_adp', 'ruler_noun', 'ruler_adj', 'ruler_propn', 'ruler_arg', 'ruler_argn', 'ruler_numm', 'ruler_advv', 'ruler_oper', 'ruler_adpp', 'ruler_nounn', 'ruler_adjj', 'ruler_sort_command', 'ner']\n",
            " AVG ( [ Petal Width ] ) GROUP BY [ Species ] SORT BY [ Species ] DESC\n",
            "AVG OPER\n",
            "Petal Width ARGN\n",
            "GROUP BY OPER\n",
            "Species ARGN\n",
            "SORT OPER\n",
            "BY OPER\n",
            "Species ARGN\n",
            "DESC ADV\n"
          ]
        }
      ]
    },
    {
      "cell_type": "markdown",
      "source": [
        "# An other criteria of training data in multi-task"
      ],
      "metadata": {
        "id": "EBfM0fXQ7kXT"
      }
    },
    {
      "cell_type": "code",
      "source": [
        "\n",
        "def training_data_multitask(TRAIN_DATA_NER1, TRAIN_DATA_NER2, MODEL, NITER, DROP, BATCHSIZE):\n",
        "    import spacy\n",
        "    from spacy.training import Example\n",
        "    import random\n",
        "    from spacy.util import minibatch, compounding\n",
        "    import pandas as pd\n",
        "    from itertools import cycle\n",
        "\n",
        "    path = '/content/'\n",
        "    nlp = spacy.load(path + MODEL)  # Load your custom model\n",
        "\n",
        "    # Prepare the examples for both NER datasets\n",
        "    examples_ner1 = [Example.from_dict(nlp.make_doc(text), annotations) for text, annotations in TRAIN_DATA_NER1]\n",
        "    examples_ner2 = [Example.from_dict(nlp.make_doc(text), annotations) for text, annotations in TRAIN_DATA_NER2]\n",
        "\n",
        "    # Optionally disable other pipeline components during training\n",
        "    other_pipes = [pipe for pipe in nlp.pipe_names if pipe != 'ner']\n",
        "\n",
        "    history = pd.DataFrame(columns=['niter', 'losses_ner'])\n",
        "\n",
        "    with nlp.disable_pipes(*other_pipes):  # only train NER\n",
        "        optimizer = nlp.resume_training()\n",
        "        for i in range(NITER):\n",
        "            losses = {}\n",
        "            # Shuffle and create batches for both NER datasets\n",
        "            random.shuffle(examples_ner1)\n",
        "            random.shuffle(examples_ner2)\n",
        "\n",
        "            # Interleave examples from both datasets to mix training data across iterations\n",
        "            examples_mixed = list(zip(examples_ner1, examples_ner2))\n",
        "            random.shuffle(examples_mixed)\n",
        "            examples_mixed = [ex for pair in examples_mixed for ex in pair]  # Flatten list\n",
        "\n",
        "            batches = minibatch(examples_mixed, size=BATCHSIZE)\n",
        "\n",
        "            # Update model for each batch\n",
        "            for batch in batches:\n",
        "                nlp.update(\n",
        "                    batch,\n",
        "                    drop=DROP,\n",
        "                    losses=losses,\n",
        "                    sgd=optimizer\n",
        "                )\n",
        "\n",
        "            print(f\"Iteration {i}, Losses\", losses)\n",
        "            history.loc[i] = [i, losses.get('ner', 0)]\n",
        "\n",
        "    return history"
      ],
      "metadata": {
        "id": "OwkT7v26xr_t"
      },
      "execution_count": 78,
      "outputs": []
    },
    {
      "cell_type": "code",
      "source": [
        "history_comb_ =training_data_multitask(Train_desc_data, Train_formulas_data, 'ner_formulas', 200, 0.5, 8)"
      ],
      "metadata": {
        "colab": {
          "base_uri": "https://localhost:8080/"
        },
        "outputId": "ec4856a2-0352-47c5-feff-7a5701dee856",
        "id": "XuwijFsa77ze"
      },
      "execution_count": 79,
      "outputs": [
        {
          "output_type": "stream",
          "name": "stdout",
          "text": [
            "Iteration 0, Losses {'ner': 950.8138732503837}\n",
            "Iteration 1, Losses {'ner': 781.3413201272626}\n",
            "Iteration 2, Losses {'ner': 739.8841786173766}\n",
            "Iteration 3, Losses {'ner': 721.1095217764378}\n",
            "Iteration 4, Losses {'ner': 719.7534313406795}\n",
            "Iteration 5, Losses {'ner': 621.8223480491433}\n",
            "Iteration 6, Losses {'ner': 582.8996117256429}\n",
            "Iteration 7, Losses {'ner': 555.9456796665763}\n",
            "Iteration 8, Losses {'ner': 483.4293832134417}\n",
            "Iteration 9, Losses {'ner': 463.91224024773464}\n",
            "Iteration 10, Losses {'ner': 412.65510638162095}\n",
            "Iteration 11, Losses {'ner': 375.9598230945364}\n",
            "Iteration 12, Losses {'ner': 343.3801010876842}\n",
            "Iteration 13, Losses {'ner': 332.43614515269235}\n",
            "Iteration 14, Losses {'ner': 273.63766480472884}\n",
            "Iteration 15, Losses {'ner': 259.8812724485697}\n",
            "Iteration 16, Losses {'ner': 221.2318705973676}\n",
            "Iteration 17, Losses {'ner': 220.36503923967237}\n",
            "Iteration 18, Losses {'ner': 216.02764192715458}\n",
            "Iteration 19, Losses {'ner': 185.63369663338125}\n",
            "Iteration 20, Losses {'ner': 178.4871118276344}\n",
            "Iteration 21, Losses {'ner': 165.73050890584156}\n",
            "Iteration 22, Losses {'ner': 142.03857869724666}\n",
            "Iteration 23, Losses {'ner': 133.99755674775858}\n",
            "Iteration 24, Losses {'ner': 128.67839495665373}\n",
            "Iteration 25, Losses {'ner': 113.1883880000031}\n",
            "Iteration 26, Losses {'ner': 113.81377549226835}\n",
            "Iteration 27, Losses {'ner': 96.40003580781978}\n",
            "Iteration 28, Losses {'ner': 91.50130660385923}\n",
            "Iteration 29, Losses {'ner': 90.6130915089892}\n",
            "Iteration 30, Losses {'ner': 109.35083064136552}\n",
            "Iteration 31, Losses {'ner': 73.44518450119254}\n",
            "Iteration 32, Losses {'ner': 76.1383379040543}\n",
            "Iteration 33, Losses {'ner': 66.25642607503907}\n",
            "Iteration 34, Losses {'ner': 80.19316823577006}\n",
            "Iteration 35, Losses {'ner': 64.39599249000248}\n",
            "Iteration 36, Losses {'ner': 59.763916318145334}\n",
            "Iteration 37, Losses {'ner': 62.84938096427446}\n",
            "Iteration 38, Losses {'ner': 69.66195180511183}\n",
            "Iteration 39, Losses {'ner': 42.48017425941997}\n",
            "Iteration 40, Losses {'ner': 46.79530459423742}\n",
            "Iteration 41, Losses {'ner': 45.38001991427645}\n",
            "Iteration 42, Losses {'ner': 53.66865239721528}\n",
            "Iteration 43, Losses {'ner': 52.57341913230731}\n",
            "Iteration 44, Losses {'ner': 51.46115152051511}\n",
            "Iteration 45, Losses {'ner': 45.633908798259625}\n",
            "Iteration 46, Losses {'ner': 45.229287421487506}\n",
            "Iteration 47, Losses {'ner': 53.20832817417689}\n",
            "Iteration 48, Losses {'ner': 42.27769767411328}\n",
            "Iteration 49, Losses {'ner': 44.96373500251601}\n",
            "Iteration 50, Losses {'ner': 44.10861833581571}\n",
            "Iteration 51, Losses {'ner': 46.529087411373226}\n",
            "Iteration 52, Losses {'ner': 42.941509061956005}\n",
            "Iteration 53, Losses {'ner': 33.986792334789364}\n",
            "Iteration 54, Losses {'ner': 38.945685478831024}\n",
            "Iteration 55, Losses {'ner': 29.0348364950488}\n",
            "Iteration 56, Losses {'ner': 24.729649871429977}\n",
            "Iteration 57, Losses {'ner': 29.191467139607703}\n",
            "Iteration 58, Losses {'ner': 37.065864966663256}\n",
            "Iteration 59, Losses {'ner': 24.848747131121655}\n",
            "Iteration 60, Losses {'ner': 27.27227272523426}\n",
            "Iteration 61, Losses {'ner': 31.537267548821866}\n",
            "Iteration 62, Losses {'ner': 40.315948736537685}\n",
            "Iteration 63, Losses {'ner': 36.54610812783926}\n",
            "Iteration 64, Losses {'ner': 37.85848280023527}\n",
            "Iteration 65, Losses {'ner': 33.21422327230292}\n",
            "Iteration 66, Losses {'ner': 29.165404105491916}\n",
            "Iteration 67, Losses {'ner': 28.40861714929603}\n",
            "Iteration 68, Losses {'ner': 22.064474483187247}\n",
            "Iteration 69, Losses {'ner': 18.815697790377605}\n",
            "Iteration 70, Losses {'ner': 21.63461475676023}\n",
            "Iteration 71, Losses {'ner': 17.825176791298084}\n",
            "Iteration 72, Losses {'ner': 21.230509087507073}\n",
            "Iteration 73, Losses {'ner': 20.637234962363543}\n",
            "Iteration 74, Losses {'ner': 17.13135430279104}\n",
            "Iteration 75, Losses {'ner': 19.044450874786236}\n",
            "Iteration 76, Losses {'ner': 22.522533042910432}\n",
            "Iteration 77, Losses {'ner': 24.172282402181434}\n",
            "Iteration 78, Losses {'ner': 31.831641434169335}\n",
            "Iteration 79, Losses {'ner': 17.50761941148365}\n",
            "Iteration 80, Losses {'ner': 13.411448762054114}\n",
            "Iteration 81, Losses {'ner': 25.994381593029622}\n",
            "Iteration 82, Losses {'ner': 12.614824066410625}\n",
            "Iteration 83, Losses {'ner': 14.346763537049394}\n",
            "Iteration 84, Losses {'ner': 23.43720037822895}\n",
            "Iteration 85, Losses {'ner': 24.725282566901257}\n",
            "Iteration 86, Losses {'ner': 14.787185331375687}\n",
            "Iteration 87, Losses {'ner': 31.032707215421002}\n",
            "Iteration 88, Losses {'ner': 9.849342433489838}\n",
            "Iteration 89, Losses {'ner': 17.967325632263222}\n",
            "Iteration 90, Losses {'ner': 15.008637888521546}\n",
            "Iteration 91, Losses {'ner': 20.49374106843228}\n",
            "Iteration 92, Losses {'ner': 15.030164135701412}\n",
            "Iteration 93, Losses {'ner': 7.119783596547182}\n",
            "Iteration 94, Losses {'ner': 12.5951019652885}\n",
            "Iteration 95, Losses {'ner': 20.455181045974086}\n",
            "Iteration 96, Losses {'ner': 18.605651213097435}\n",
            "Iteration 97, Losses {'ner': 20.0054790836277}\n",
            "Iteration 98, Losses {'ner': 16.58341047729155}\n",
            "Iteration 99, Losses {'ner': 17.782828187678355}\n",
            "Iteration 100, Losses {'ner': 10.722144411314193}\n",
            "Iteration 101, Losses {'ner': 23.270506097800727}\n",
            "Iteration 102, Losses {'ner': 13.22844088549732}\n",
            "Iteration 103, Losses {'ner': 13.603274843028286}\n",
            "Iteration 104, Losses {'ner': 18.016531608654187}\n",
            "Iteration 105, Losses {'ner': 11.030144592309108}\n",
            "Iteration 106, Losses {'ner': 5.236943851079133}\n",
            "Iteration 107, Losses {'ner': 9.902886536857865}\n",
            "Iteration 108, Losses {'ner': 10.942818010287736}\n",
            "Iteration 109, Losses {'ner': 6.00874776386565}\n",
            "Iteration 110, Losses {'ner': 16.079582657015067}\n",
            "Iteration 111, Losses {'ner': 11.590344032259665}\n",
            "Iteration 112, Losses {'ner': 12.664138371647343}\n",
            "Iteration 113, Losses {'ner': 13.908924789717247}\n",
            "Iteration 114, Losses {'ner': 8.940030107741343}\n",
            "Iteration 115, Losses {'ner': 13.13614830948634}\n",
            "Iteration 116, Losses {'ner': 10.051897145769097}\n",
            "Iteration 117, Losses {'ner': 10.234752348960159}\n",
            "Iteration 118, Losses {'ner': 14.173072204928426}\n",
            "Iteration 119, Losses {'ner': 13.739214053593088}\n",
            "Iteration 120, Losses {'ner': 10.00609923364311}\n",
            "Iteration 121, Losses {'ner': 9.068896121510532}\n",
            "Iteration 122, Losses {'ner': 15.80366906621788}\n",
            "Iteration 123, Losses {'ner': 9.49942549984848}\n",
            "Iteration 124, Losses {'ner': 7.451618618229493}\n",
            "Iteration 125, Losses {'ner': 7.0508572941720535}\n",
            "Iteration 126, Losses {'ner': 5.656793066456364}\n",
            "Iteration 127, Losses {'ner': 10.646252695013295}\n",
            "Iteration 128, Losses {'ner': 11.520245671676081}\n",
            "Iteration 129, Losses {'ner': 4.883562939225158}\n",
            "Iteration 130, Losses {'ner': 8.230657129325182}\n",
            "Iteration 131, Losses {'ner': 6.835133841571806}\n",
            "Iteration 132, Losses {'ner': 11.184143111678583}\n",
            "Iteration 133, Losses {'ner': 11.443916729270677}\n",
            "Iteration 134, Losses {'ner': 5.849803162098685}\n",
            "Iteration 135, Losses {'ner': 10.851332776848176}\n",
            "Iteration 136, Losses {'ner': 5.250006582337652}\n",
            "Iteration 137, Losses {'ner': 12.848621147952885}\n",
            "Iteration 138, Losses {'ner': 9.090079846200862}\n",
            "Iteration 139, Losses {'ner': 12.057573060005538}\n",
            "Iteration 140, Losses {'ner': 5.2541708410303745}\n",
            "Iteration 141, Losses {'ner': 6.656775645168566}\n",
            "Iteration 142, Losses {'ner': 13.424159959521477}\n",
            "Iteration 143, Losses {'ner': 4.7402922406403105}\n",
            "Iteration 144, Losses {'ner': 2.0908334506416835}\n",
            "Iteration 145, Losses {'ner': 17.090302814840953}\n",
            "Iteration 146, Losses {'ner': 8.783802591155887}\n",
            "Iteration 147, Losses {'ner': 13.42734631103647}\n",
            "Iteration 148, Losses {'ner': 6.546771495784365}\n",
            "Iteration 149, Losses {'ner': 6.724298892115582}\n",
            "Iteration 150, Losses {'ner': 9.578625704292522}\n",
            "Iteration 151, Losses {'ner': 1.0549930237451002}\n",
            "Iteration 152, Losses {'ner': 5.68136171601062}\n",
            "Iteration 153, Losses {'ner': 12.077793296701403}\n",
            "Iteration 154, Losses {'ner': 5.852859684732201}\n",
            "Iteration 155, Losses {'ner': 14.371650966799264}\n",
            "Iteration 156, Losses {'ner': 3.737983547568834}\n",
            "Iteration 157, Losses {'ner': 8.566558726661333}\n",
            "Iteration 158, Losses {'ner': 3.2971947376871484}\n",
            "Iteration 159, Losses {'ner': 4.917127168833556}\n",
            "Iteration 160, Losses {'ner': 9.547386189511741}\n",
            "Iteration 161, Losses {'ner': 3.4100655927243078}\n",
            "Iteration 162, Losses {'ner': 4.234449177456353}\n",
            "Iteration 163, Losses {'ner': 1.7373714328984111}\n",
            "Iteration 164, Losses {'ner': 3.4042547879880733}\n",
            "Iteration 165, Losses {'ner': 4.820039202259637}\n",
            "Iteration 166, Losses {'ner': 4.886399535455894}\n",
            "Iteration 167, Losses {'ner': 4.474501187100262}\n",
            "Iteration 168, Losses {'ner': 13.149103133414426}\n",
            "Iteration 169, Losses {'ner': 7.89745818324163}\n",
            "Iteration 170, Losses {'ner': 2.5662967741717333}\n",
            "Iteration 171, Losses {'ner': 5.013724159124787}\n",
            "Iteration 172, Losses {'ner': 3.9066588604180126}\n",
            "Iteration 173, Losses {'ner': 5.809692776374671}\n",
            "Iteration 174, Losses {'ner': 6.092628953013574}\n",
            "Iteration 175, Losses {'ner': 7.164794883644522}\n",
            "Iteration 176, Losses {'ner': 10.643189478645745}\n",
            "Iteration 177, Losses {'ner': 8.333014779561594}\n",
            "Iteration 178, Losses {'ner': 4.7571724997134}\n",
            "Iteration 179, Losses {'ner': 6.675859896225959}\n",
            "Iteration 180, Losses {'ner': 2.38007579588256}\n",
            "Iteration 181, Losses {'ner': 7.089736427983854}\n",
            "Iteration 182, Losses {'ner': 14.602467348037942}\n",
            "Iteration 183, Losses {'ner': 3.682519038571185}\n",
            "Iteration 184, Losses {'ner': 2.889357824838217}\n",
            "Iteration 185, Losses {'ner': 8.867221984645832}\n",
            "Iteration 186, Losses {'ner': 5.467440543300025}\n",
            "Iteration 187, Losses {'ner': 9.181061516815198}\n",
            "Iteration 188, Losses {'ner': 5.952680761415712}\n",
            "Iteration 189, Losses {'ner': 3.86962385414515}\n",
            "Iteration 190, Losses {'ner': 6.841923247328473}\n",
            "Iteration 191, Losses {'ner': 6.284420968574053}\n",
            "Iteration 192, Losses {'ner': 5.7908446767234}\n",
            "Iteration 193, Losses {'ner': 6.095974553251128}\n",
            "Iteration 194, Losses {'ner': 9.798773761602085}\n",
            "Iteration 195, Losses {'ner': 5.512344658267579}\n",
            "Iteration 196, Losses {'ner': 7.119414141837545}\n",
            "Iteration 197, Losses {'ner': 8.656482647899786}\n",
            "Iteration 198, Losses {'ner': 3.5927443704956965}\n",
            "Iteration 199, Losses {'ner': 2.9990408252020067}\n"
          ]
        }
      ]
    },
    {
      "cell_type": "code",
      "source": [
        "plt.plot(history_comb_['niter'],history_comb_['losses_ner'])\n",
        "plt.xlabel('Iterations')\n",
        "plt.ylabel('losses')\n",
        "plt.grid()\n",
        "plt.title(\"Combined Multi-Task Model data\")"
      ],
      "metadata": {
        "colab": {
          "base_uri": "https://localhost:8080/",
          "height": 489
        },
        "id": "bm6LZFLB7vQy",
        "outputId": "8db888b2-c107-4bbb-98a1-be9ac23c5c90"
      },
      "execution_count": 80,
      "outputs": [
        {
          "output_type": "execute_result",
          "data": {
            "text/plain": [
              "Text(0.5, 1.0, 'Combined Multi-Task Model data')"
            ]
          },
          "metadata": {},
          "execution_count": 80
        },
        {
          "output_type": "display_data",
          "data": {
            "text/plain": [
              "<Figure size 640x480 with 1 Axes>"
            ],
            "image/png": "[encoded data removed]"
          },
          "metadata": {}
        }
      ]
    },
    {
      "cell_type": "code",
      "source": [
        "save_model('Combined__multi_task_data_200.0.5.8',' ')"
      ],
      "metadata": {
        "colab": {
          "base_uri": "https://localhost:8080/"
        },
        "id": "f9vLJ6up-kPk",
        "outputId": "f22c6b7d-e4d1-4946-9db1-38dda825d57d"
      },
      "execution_count": 81,
      "outputs": [
        {
          "output_type": "stream",
          "name": "stdout",
          "text": [
            "Model saved to: /content/Combined__multi_task_data_200.0.5.8\n"
          ]
        }
      ]
    },
    {
      "cell_type": "code",
      "source": [
        "#Check if the model is working\n",
        "# Assuming 'nlp' is your loaded model\n",
        "path='/content/Combined__multi_task_data_200.0.5.8'\n",
        "nlp= spacy.load(path)\n",
        "ner = nlp.get_pipe(\"ner\")\n",
        "\n",
        "# List all labels the NER has been trained on\n",
        "labels = ner.labels\n",
        "print(labels)"
      ],
      "metadata": {
        "colab": {
          "base_uri": "https://localhost:8080/"
        },
        "id": "UVhnuRJz9h-x",
        "outputId": "3fd7fc4c-d8c9-4367-edc3-e57206aef687"
      },
      "execution_count": 82,
      "outputs": [
        {
          "output_type": "stream",
          "name": "stdout",
          "text": [
            "('ADJ', 'ADP', 'ADV', 'CARDINAL', 'DATE', 'EVENT', 'FAC', 'GPE', 'INTJ', 'LANGUAGE', 'LAW', 'LOC', 'MONEY', 'NORP', 'NOUN', 'NUM', 'ORDINAL', 'ORG', 'PERCENT', 'PERSON', 'PRODUCT', 'PRON', 'PROPN', 'QUANTITY', 'TIME', 'VERB', 'WORK_OF_ART')\n"
          ]
        }
      ]
    },
    {
      "cell_type": "code",
      "source": [
        "scores=evaluate_the_model(path,Test_desc_data)\n",
        "print(scores)"
      ],
      "metadata": {
        "colab": {
          "base_uri": "https://localhost:8080/"
        },
        "id": "0WDukWtX-MGo",
        "outputId": "ade88550-3c8e-45e1-cedd-c888421c0121"
      },
      "execution_count": 83,
      "outputs": [
        {
          "output_type": "stream",
          "name": "stdout",
          "text": [
            "{'token_acc': 1.0, 'token_p': 1.0, 'token_r': 1.0, 'token_f': 1.0, 'tag_acc': None, 'sents_p': None, 'sents_r': None, 'sents_f': None, 'dep_uas': None, 'dep_las': None, 'dep_las_per_type': None, 'pos_acc': None, 'morph_acc': None, 'morph_micro_p': None, 'morph_micro_r': None, 'morph_micro_f': None, 'morph_per_feat': None, 'lemma_acc': None, 'ents_p': 1.0, 'ents_r': 1.0, 'ents_f': 1.0, 'ents_per_type': {'ADJ': {'p': 1.0, 'r': 1.0, 'f': 1.0}, 'ARGN': {'p': 1.0, 'r': 1.0, 'f': 1.0}, 'ADP': {'p': 1.0, 'r': 1.0, 'f': 1.0}, 'PRON': {'p': 1.0, 'r': 1.0, 'f': 1.0}, 'NOUN': {'p': 1.0, 'r': 1.0, 'f': 1.0}, 'PROPN': {'p': 1.0, 'r': 1.0, 'f': 1.0}, 'VERB': {'p': 1.0, 'r': 1.0, 'f': 1.0}, 'NUM': {'p': 1.0, 'r': 1.0, 'f': 1.0}, 'CARDINAL': {'p': 1.0, 'r': 1.0, 'f': 1.0}, 'ADV': {'p': 1.0, 'r': 1.0, 'f': 1.0}, 'INTJ': {'p': 1.0, 'r': 1.0, 'f': 1.0}}, 'speed': 3303.5698459551427}\n"
          ]
        }
      ]
    },
    {
      "cell_type": "code",
      "source": [
        "scores=evaluate_the_model(path,Test_formulas_data)\n",
        "print(scores)"
      ],
      "metadata": {
        "colab": {
          "base_uri": "https://localhost:8080/"
        },
        "id": "_xGLAJXE_spC",
        "outputId": "5ecb167e-823c-4ae1-f88b-93fe595cd115"
      },
      "execution_count": 84,
      "outputs": [
        {
          "output_type": "stream",
          "name": "stdout",
          "text": [
            "{'token_acc': 1.0, 'token_p': 1.0, 'token_r': 1.0, 'token_f': 1.0, 'tag_acc': None, 'sents_p': None, 'sents_r': None, 'sents_f': None, 'dep_uas': None, 'dep_las': None, 'dep_las_per_type': None, 'pos_acc': None, 'morph_acc': None, 'morph_micro_p': None, 'morph_micro_r': None, 'morph_micro_f': None, 'morph_per_feat': None, 'lemma_acc': None, 'ents_p': 1.0, 'ents_r': 1.0, 'ents_f': 1.0, 'ents_per_type': {'OPER': {'p': 1.0, 'r': 1.0, 'f': 1.0}, 'ARGN': {'p': 1.0, 'r': 1.0, 'f': 1.0}, 'ADV': {'p': 1.0, 'r': 1.0, 'f': 1.0}, 'ADP': {'p': 1.0, 'r': 1.0, 'f': 1.0}, 'NUM': {'p': 1.0, 'r': 1.0, 'f': 1.0}, 'CARDINAL': {'p': 1.0, 'r': 1.0, 'f': 1.0}, 'PROPN': {'p': 1.0, 'r': 1.0, 'f': 1.0}, 'NOUN': {'p': 1.0, 'r': 1.0, 'f': 1.0}, 'ORG': {'p': 1.0, 'r': 1.0, 'f': 1.0}}, 'speed': 4684.372060880039}\n"
          ]
        }
      ]
    },
    {
      "cell_type": "code",
      "source": [
        "# text\n",
        "make_predictions(path,dff[dff.columns[0]][3])"
      ],
      "metadata": {
        "colab": {
          "base_uri": "https://localhost:8080/"
        },
        "id": "-zOi0J-SAG3m",
        "outputId": "83cac7c3-f0ee-4cbd-f8af-43793e68176c"
      },
      "execution_count": 85,
      "outputs": [
        {
          "output_type": "stream",
          "name": "stdout",
          "text": [
            "['tok2vec', 'tagger', 'parser', 'attribute_ruler', 'lemmatizer', 'ruler_intj', 'ruler_verb', 'ruler_num', 'ruler_adv', 'ruler_pron', 'ruler_adp', 'ruler_noun', 'ruler_adj', 'ruler_propn', 'ruler_arg', 'ruler_argn', 'ruler_numm', 'ruler_advv', 'ruler_oper', 'ruler_adpp', 'ruler_nounn', 'ruler_adjj', 'ruler_sort_command', 'ner']\n",
            "Number of entries in the database\n",
            "Number NOUN\n",
            "of ADP\n",
            "entries NOUN\n",
            "in ADP\n",
            "the PRON\n"
          ]
        }
      ]
    },
    {
      "cell_type": "code",
      "source": [
        "# text\n",
        "make_predictions(path,dff[dff.columns[1]][33])"
      ],
      "metadata": {
        "colab": {
          "base_uri": "https://localhost:8080/"
        },
        "id": "zMiUoxt0AKlz",
        "outputId": "2d8de90a-2df8-4950-9f50-ca5453c21e44"
      },
      "execution_count": 86,
      "outputs": [
        {
          "output_type": "stream",
          "name": "stdout",
          "text": [
            "['tok2vec', 'tagger', 'parser', 'attribute_ruler', 'lemmatizer', 'ruler_intj', 'ruler_verb', 'ruler_num', 'ruler_adv', 'ruler_pron', 'ruler_adp', 'ruler_noun', 'ruler_adj', 'ruler_propn', 'ruler_arg', 'ruler_argn', 'ruler_numm', 'ruler_advv', 'ruler_oper', 'ruler_adpp', 'ruler_nounn', 'ruler_adjj', 'ruler_sort_command', 'ner']\n",
            "YEAR ( [ Date ] ) = YEAR ( TODAY ( )  ) \n",
            "YEAR NOUN\n",
            "Date PROPN\n",
            "= ADP\n",
            "YEAR NOUN\n",
            "TODAY NOUN\n"
          ]
        }
      ]
    },
    {
      "cell_type": "code",
      "source": [
        "# text\n",
        "make_predictions(path,dff[dff.columns[1]][35])"
      ],
      "metadata": {
        "colab": {
          "base_uri": "https://localhost:8080/"
        },
        "id": "TPTEtooSDSxg",
        "outputId": "d5d383fc-c25f-4dc5-96b4-2b16795ef84c"
      },
      "execution_count": 87,
      "outputs": [
        {
          "output_type": "stream",
          "name": "stdout",
          "text": [
            "['tok2vec', 'tagger', 'parser', 'attribute_ruler', 'lemmatizer', 'ruler_intj', 'ruler_verb', 'ruler_num', 'ruler_adv', 'ruler_pron', 'ruler_adp', 'ruler_noun', 'ruler_adj', 'ruler_propn', 'ruler_arg', 'ruler_argn', 'ruler_numm', 'ruler_advv', 'ruler_oper', 'ruler_adpp', 'ruler_nounn', 'ruler_adjj', 'ruler_sort_command', 'ner']\n",
            " AVG ( [ Petal Width ] ) GROUP BY [ Species ] SORT BY [ Species ] DESC\n",
            "AVG OPER\n",
            "Petal Width ARGN\n",
            "GROUP BY OPER\n",
            "Species ARGN\n",
            "SORT OPER\n",
            "BY OPER\n",
            "Species ARGN\n",
            "DESC ADV\n"
          ]
        }
      ]
    },
    {
      "cell_type": "markdown",
      "source": [
        "#END OF THE TRAINING AND EVELAUTION\n",
        "# OBSERVATIONS\n",
        "#1-Require more training in the contextual sense\n",
        "#2-Get to fix the mistakes between \"Sort\",\"SORT\",\"SORT BY\" for example"
      ],
      "metadata": {
        "id": "59rnZFzz9wlI"
      }
    },
    {
      "cell_type": "markdown",
      "source": [
        "#Extracting symbols from Formulas (Tableau)"
      ],
      "metadata": {
        "id": "yLqVEQZjgqOk"
      }
    },
    {
      "cell_type": "code",
      "source": [
        "\n",
        "def gather_sym(data,column_name):\n",
        "    dp=data[column_name]\n",
        "    dp_text=[]\n",
        "    dp_sym=[]\n",
        "    for row in dp:\n",
        "         drow_text=[]\n",
        "         drow_sym =[]\n",
        "         for item in row:\n",
        "              if re.match(r'\\w+',item):\n",
        "                    drow_text.append(item)\n",
        "              else:\n",
        "                    drow_sym.append(item)\n",
        "         dp_text.append(drow_text)\n",
        "         dp_sym.append(drow_sym)\n",
        "    return dp_text,dp_sym\n"
      ],
      "metadata": {
        "id": "3WDk4dr-gOM1"
      },
      "execution_count": 88,
      "outputs": []
    },
    {
      "cell_type": "code",
      "source": [
        "dg_formulas_text,dg_formulas_sym=gather_sym(dg_tok,dg_tok.columns[1])"
      ],
      "metadata": {
        "id": "f7zeIuxKi0p2"
      },
      "execution_count": 89,
      "outputs": []
    },
    {
      "cell_type": "code",
      "source": [
        "print(dg_formulas_text)"
      ],
      "metadata": {
        "id": "j1mQ3fjFAB42",
        "colab": {
          "base_uri": "https://localhost:8080/"
        },
        "outputId": "ba12a15d-2c69-4db7-82d0-315403f245c1"
      },
      "execution_count": 90,
      "outputs": [
        {
          "output_type": "stream",
          "name": "stdout",
          "text": [
            "[['SUM', 'Sepal', 'Length'], ['AVG', 'Sepal', 'Width'], ['MEDIAN', 'Petal', 'Length'], ['COUNT'], ['COUNT', 'DISTINCT', 'Species'], ['MIN', 'Sepal', 'Length'], ['MAX', 'Petal', 'Width'], ['GROUP', 'BY', 'Species'], ['ORDER', 'BY', 'Sepal', 'Length', 'ASC'], ['ORDER', 'BY', 'Species', 'ASC'], ['Sepal', 'Length', '5', '0'], ['Petal', 'Length', 'BETWEEN', '1', '5', 'AND', '2', '5'], ['TOP', '3', 'BY', 'Sepal', 'Width', 'DESC'], ['Species', 'Setosa'], ['Species', 'STARTS', 'WITH', 'Se'], ['SUM', 'Petal', 'Length'], ['AVG', 'Petal', 'Width'], ['MEDIAN', 'Sepal', 'Width'], ['COUNT', 'Sepal', 'Length'], ['COUNTD', 'Species'], ['MIN', 'Sepal', 'Length'], ['MAX', 'Petal', 'Width'], ['SORT', 'Species', 'DESC'], ['SORT', 'Sepal', 'Length', 'ASC'], ['Sepal', 'Length', '4', '5'], ['Petal', 'Width', '2', '0'], ['Sepal', 'Width', '3', '0'], ['ENDSWITH', 'Species', 'ica'], ['Sepal', 'Length', '5', '0'], ['INDEX', '5', 'SORT', 'BY', 'SUM', 'Sepal', 'Width', 'DESC'], ['INDEX', '3', 'SORT', 'BY', 'Petal', 'Length', 'ASC'], ['IF', 'Petal', 'Length', '4', 'AND', 'Petal', 'Length', '5', 'THEN', '1', 'ELSE', '0', 'END'], ['DATETRUNC', 'month', 'Date'], ['YEAR', 'Date', 'YEAR', 'TODAY', '1'], ['Date', 'DATETRUNC', 'year', 'TODAY'], ['AVG', 'Sepal', 'Length', 'GROUP', 'BY', 'Species', 'SORT', 'BY', 'Species', 'ASC'], ['COUNTD', 'IF', 'LEFT', 'Species', '1', 'C', 'THEN', 'Species', 'ELSE', 'NULL', 'END'], ['Petal', 'Length', '4', '0', 'AND', 'Sepal', 'Length', '4', '0'], ['RANK_PERCENTILE', 'Petal', 'Width', '0', '1'], ['SUM', 'Sepal', 'Length'], ['AVG', 'Petal', 'Width'], ['FIXED', 'Species', 'setosa', 'MEDIAN', 'Sepal', 'Width'], ['SUM', 'IF', 'Species', 'versicolor', 'THEN', '1', 'ELSE', '0', 'END'], ['COUNTD', 'IF', 'Sepal', 'Length', '5', '0', 'THEN', 'Species', 'ELSE', 'NULL', 'END'], ['FIXED', 'Species', 'virginica', 'MIN', 'Petal', 'Length'], ['FIXED', 'Species', 'setosa', 'MAX', 'Sepal', 'Width'], ['SORTED', 'BY', 'Species', 'alphabetically', 'COUNT', 'Species', 'GROUP', 'BY', 'Species', 'ORDER', 'BY', 'Species', 'ASC'], ['Species', 'versicolor', 'AND', 'Sepal', 'Width', '3', '0'], ['RANK', 'Sepal', 'Length', '5', 'AND', 'Species', 'virginica'], ['RANK_PERCENTILE', 'Petal', 'Width', '0', '9'], ['LISTED', 'FROM', 'highest', 'to', 'lowest', 'AVG', 'Sepal', 'Length', 'GROUP', 'BY', 'Species', 'ORDER', 'BY', 'AVG', 'Sepal', 'Length', 'DESC'], ['Species', 'setosa', 'AND', 'Petal', 'Length', 'BETWEEN', '4', '0', 'AND', '5', '0'], ['SUM', 'IF', 'CONTAINS', 'Species', 'color', 'THEN', '1', 'ELSE', '0', 'END'], ['STARTSWITH', 'Species', 'Iri', 'AND', 'ENDSWITH', 'Species', 'a']]\n"
          ]
        }
      ]
    },
    {
      "cell_type": "code",
      "source": [
        "print(dg_formulas_sym)"
      ],
      "metadata": {
        "id": "UMB5ZhNXAGzR",
        "colab": {
          "base_uri": "https://localhost:8080/"
        },
        "outputId": "a072a044-6734-4b11-a5f2-d1b7cb138c12"
      },
      "execution_count": 91,
      "outputs": [
        {
          "output_type": "stream",
          "name": "stdout",
          "text": [
            "[['(', ')'], ['(', ')'], ['(', ')'], ['(', '*', ')'], ['(', ')'], ['(', ')'], ['(', ')'], ['(', ')'], ['(', ')'], ['(', ')'], ['>', '=', '.'], ['.', '.'], ['(', ')'], ['=', \"'\", \"'\"], [\"'\", \"'\"], ['(', '[', ']', ')'], ['(', '[', ']', ')'], ['(', '[', ']', ')'], ['(', '[', ']', ')'], ['(', '[', ']', ')'], ['(', '[', ']', ')'], ['(', '[', ']', ')'], ['(', '[', ']', ',', ')'], ['(', '[', ']', ',', ')'], ['[', ']', '>', '=', '.'], ['[', ']', '<', '.'], ['[', ']', '!', '=', '.'], ['(', '[', ']', ',', '\"', '\"', ')'], ['[', ']', '=', '.'], ['(', ')', '<', '=', '(', '[', ']', ')'], ['(', ')', '<', '=', '[', ']'], ['[', ']', '>', '=', '[', ']', '<', '='], ['(', \"'\", \"',\", '[', ']', ')'], ['(', '[', ']', ')', '=', '(', '(', ')', ')', '-'], ['[', ']', '>', '=', '(', \"'\", \"'\", ',', '(', ')', ')'], ['(', '[', ']', ')', '[', ']', '[', ']'], ['(', '(', '[', ']', ')', '=', \"'\", \"'\", '[', ']', ')'], ['[', ']', '>', '.', '[', ']', '>', '.'], ['(', '[', ']', ')', '<', '=', '.'], ['(', '[', ']', ')'], ['(', '[', ']', ')'], ['{', '[', ']', '=', '\"', '\"', ':', '(', '[', ']', ')', '}'], ['(', '[', ']', '=', '\"', '\"', ')'], ['(', '[', ']', '>', '.', '[', ']', ')'], ['{', '[', ']', '=', '\"', '\"', ':', '(', '[', ']', ')', '}'], ['{', '[', ']', '=', '\"', '\"', ':', '(', '[', ']', ')', '}'], ['(', '[', ']', ')', '[', ']', '[', ']'], ['[', ']', '=', '\"', '\"', '[', ']', '>', '=', '.'], ['(', '[', ']', ')', '<', '=', '[', ']', '=', '\"', '\"'], ['(', '[', ']', ')', '>', '=', '.'], ['(', '[', ']', ')', '[', ']', '(', '[', ']', ')'], ['[', ']', '=', '\"', '\"', '[', ']', '.', '.'], ['(', '(', '[', ']', '\"', '\"', ')', ')'], ['(', '[', ']', '\"', '\"', ')', '(', '[', ']', ',', '“', '”', ')']]\n"
          ]
        }
      ]
    },
    {
      "cell_type": "code",
      "source": [
        "dg_tok.drop(dg_tok.columns[1], axis=1)"
      ],
      "metadata": {
        "id": "L60GHo54PbwS",
        "colab": {
          "base_uri": "https://localhost:8080/",
          "height": 1000
        },
        "outputId": "d45042f4-8590-44b3-b89f-45925723f783"
      },
      "execution_count": 92,
      "outputs": [
        {
          "output_type": "execute_result",
          "data": {
            "text/plain": [
              "                                Tokenized Description\n",
              "0                            [Sum, of, Sepal, Length]\n",
              "1       [Average, Sepal, Width, across, all, entries]\n",
              "2                  [Find, the, median, Petal, Length]\n",
              "3   [Count, the, number, of, records, in, the, dat...\n",
              "4        [Count, distinct, species, in, the, dataset]\n",
              "5                 [Minimum, value, of, Sepal, Length]\n",
              "6    [Maximum, Petal, Width, found, in, the, dataset]\n",
              "7                       [Group, records, by, Species]\n",
              "8   [Sort, the, entries, by, Sepal, Length, in, as...\n",
              "9                     [List, Species, alphabetically]\n",
              "10  [Entries, with, Sepal, Length, at, least, 5, ....\n",
              "11  [Entries, with, Petal, Length, between, 1, ., ...\n",
              "12  [Top, 3, entries, with, the, highest, Sepal, W...\n",
              "13                        [Species, is, ', Setosa, ']\n",
              "14                  [Species, starts, with, ', Se, ']\n",
              "15        [Calculate, the, total, of, Petal, Lengths]\n",
              "16          [What, is, the, average, Petal, Width, ?]\n",
              "17  [Determine, the, middle, value, of, Sepal, Wid...\n",
              "18           [How, many, data, points, are, there, ?]\n",
              "19                [Number, of, unique, flower, types]\n",
              "20                  [Lowest, Sepal, Length, recorded]\n",
              "21          [Highest, value, of, Petal, Width, found]\n",
              "22  [Organize, data, by, Species, in, descending, ...\n",
              "23        [Rank, Sepal, Lengths, from, low, to, high]\n",
              "24  [Filter, for, Sepal, Length, greater, than, or...\n",
              "25  [Select, entries, with, Petal, Width, less, th...\n",
              "26  [Show, entries, where, Sepal, Width, is, not, ...\n",
              "27  [List, all, where, the, Species, name, ends, w...\n",
              "28  [Entries, with, a, Sepal, Length, of, exactly,...\n",
              "29  [Display, the, top, 5, Species, by, Sepal, Width]\n",
              "30           [Find, the, 3, smallest, Petal, Lengths]\n",
              "31  [Count, occurrences, where, Petal, Length, is,...\n",
              "32  [Aggregate, data, by, the, month, of, observat...\n",
              "33  [Filter, records, from, last, year, (, assumin...\n",
              "34  [Show, only, the, data, starting, from, Januar...\n",
              "35  [Find, the, average, Sepal, Length, for, each,...\n",
              "36  [Count, how, many, Species, start, with, ', C, ']\n",
              "37  [Entries, with, Petal, Length, and, Sepal, Len...\n",
              "38  [List, Species, with, Petal, Width, in, the, t...\n",
              "39    [Total, Sepal, Length, for, all, Iris, flowers]\n",
              "40      [Average, Petal, Width, across, all, species]\n",
              "41          [Median, Sepal, Width, for, Iris, setosa]\n",
              "42             [Count, of, Iris, versicolor, flowers]\n",
              "43  [Distinct, count, of, species, with, Sepal, Le...\n",
              "44     [Minimum, Petal, Length, for, Iris, virginica]\n",
              "45      [Maximum, Sepal, Width, across, Iris, setosa]\n",
              "46  [Total, number, of, records, grouped, by, Spec...\n",
              "47  [Filter, to, show, only, Iris, versicolor, wit...\n",
              "48  [Show, top, 5, Sepal, Lengths, within, Iris, v...\n",
              "49  [Iris, flowers, with, Petal, Width, in, the, b...\n",
              "50       [Average, Sepal, Length, for, each, species]\n",
              "51  [Entries, with, Petal, Length, between, 4, ., ...\n",
              "52  [Count, Iris, flowers, where, the, Species, na...\n",
              "53  [List, all, Iris, flowers, where, the, Species..."
            ],
            "text/html": [
              "\n",
              "  <div id=\"df-4ed50904-7387-4a61-8ca2-1d886852a6a3\" class=\"colab-df-container\">\n",
              "    <div>\n",
              "<style scoped>\n",
              "    .dataframe tbody tr th:only-of-type {\n",
              "        vertical-align: middle;\n",
              "    }\n",
              "\n",
              "    .dataframe tbody tr th {\n",
              "        vertical-align: top;\n",
              "    }\n",
              "\n",
              "    .dataframe thead th {\n",
              "        text-align: right;\n",
              "    }\n",
              "</style>\n",
              "<table border=\"1\" class=\"dataframe\">\n",
              "  <thead>\n",
              "    <tr style=\"text-align: right;\">\n",
              "      <th></th>\n",
              "      <th>Tokenized Description</th>\n",
              "    </tr>\n",
              "  </thead>\n",
              "  <tbody>\n",
              "    <tr>\n",
              "      <th>0</th>\n",
              "      <td>[Sum, of, Sepal, Length]</td>\n",
              "    </tr>\n",
              "    <tr>\n",
              "      <th>1</th>\n",
              "      <td>[Average, Sepal, Width, across, all, entries]</td>\n",
              "    </tr>\n",
              "    <tr>\n",
              "      <th>2</th>\n",
              "      <td>[Find, the, median, Petal, Length]</td>\n",
              "    </tr>\n",
              "    <tr>\n",
              "      <th>3</th>\n",
              "      <td>[Count, the, number, of, records, in, the, dat...</td>\n",
              "    </tr>\n",
              "    <tr>\n",
              "      <th>4</th>\n",
              "      <td>[Count, distinct, species, in, the, dataset]</td>\n",
              "    </tr>\n",
              "    <tr>\n",
              "      <th>5</th>\n",
              "      <td>[Minimum, value, of, Sepal, Length]</td>\n",
              "    </tr>\n",
              "    <tr>\n",
              "      <th>6</th>\n",
              "      <td>[Maximum, Petal, Width, found, in, the, dataset]</td>\n",
              "    </tr>\n",
              "    <tr>\n",
              "      <th>7</th>\n",
              "      <td>[Group, records, by, Species]</td>\n",
              "    </tr>\n",
              "    <tr>\n",
              "      <th>8</th>\n",
              "      <td>[Sort, the, entries, by, Sepal, Length, in, as...</td>\n",
              "    </tr>\n",
              "    <tr>\n",
              "      <th>9</th>\n",
              "      <td>[List, Species, alphabetically]</td>\n",
              "    </tr>\n",
              "    <tr>\n",
              "      <th>10</th>\n",
              "      <td>[Entries, with, Sepal, Length, at, least, 5, ....</td>\n",
              "    </tr>\n",
              "    <tr>\n",
              "      <th>11</th>\n",
              "      <td>[Entries, with, Petal, Length, between, 1, ., ...</td>\n",
              "    </tr>\n",
              "    <tr>\n",
              "      <th>12</th>\n",
              "      <td>[Top, 3, entries, with, the, highest, Sepal, W...</td>\n",
              "    </tr>\n",
              "    <tr>\n",
              "      <th>13</th>\n",
              "      <td>[Species, is, ', Setosa, ']</td>\n",
              "    </tr>\n",
              "    <tr>\n",
              "      <th>14</th>\n",
              "      <td>[Species, starts, with, ', Se, ']</td>\n",
              "    </tr>\n",
              "    <tr>\n",
              "      <th>15</th>\n",
              "      <td>[Calculate, the, total, of, Petal, Lengths]</td>\n",
              "    </tr>\n",
              "    <tr>\n",
              "      <th>16</th>\n",
              "      <td>[What, is, the, average, Petal, Width, ?]</td>\n",
              "    </tr>\n",
              "    <tr>\n",
              "      <th>17</th>\n",
              "      <td>[Determine, the, middle, value, of, Sepal, Wid...</td>\n",
              "    </tr>\n",
              "    <tr>\n",
              "      <th>18</th>\n",
              "      <td>[How, many, data, points, are, there, ?]</td>\n",
              "    </tr>\n",
              "    <tr>\n",
              "      <th>19</th>\n",
              "      <td>[Number, of, unique, flower, types]</td>\n",
              "    </tr>\n",
              "    <tr>\n",
              "      <th>20</th>\n",
              "      <td>[Lowest, Sepal, Length, recorded]</td>\n",
              "    </tr>\n",
              "    <tr>\n",
              "      <th>21</th>\n",
              "      <td>[Highest, value, of, Petal, Width, found]</td>\n",
              "    </tr>\n",
              "    <tr>\n",
              "      <th>22</th>\n",
              "      <td>[Organize, data, by, Species, in, descending, ...</td>\n",
              "    </tr>\n",
              "    <tr>\n",
              "      <th>23</th>\n",
              "      <td>[Rank, Sepal, Lengths, from, low, to, high]</td>\n",
              "    </tr>\n",
              "    <tr>\n",
              "      <th>24</th>\n",
              "      <td>[Filter, for, Sepal, Length, greater, than, or...</td>\n",
              "    </tr>\n",
              "    <tr>\n",
              "      <th>25</th>\n",
              "      <td>[Select, entries, with, Petal, Width, less, th...</td>\n",
              "    </tr>\n",
              "    <tr>\n",
              "      <th>26</th>\n",
              "      <td>[Show, entries, where, Sepal, Width, is, not, ...</td>\n",
              "    </tr>\n",
              "    <tr>\n",
              "      <th>27</th>\n",
              "      <td>[List, all, where, the, Species, name, ends, w...</td>\n",
              "    </tr>\n",
              "    <tr>\n",
              "      <th>28</th>\n",
              "      <td>[Entries, with, a, Sepal, Length, of, exactly,...</td>\n",
              "    </tr>\n",
              "    <tr>\n",
              "      <th>29</th>\n",
              "      <td>[Display, the, top, 5, Species, by, Sepal, Width]</td>\n",
              "    </tr>\n",
              "    <tr>\n",
              "      <th>30</th>\n",
              "      <td>[Find, the, 3, smallest, Petal, Lengths]</td>\n",
              "    </tr>\n",
              "    <tr>\n",
              "      <th>31</th>\n",
              "      <td>[Count, occurrences, where, Petal, Length, is,...</td>\n",
              "    </tr>\n",
              "    <tr>\n",
              "      <th>32</th>\n",
              "      <td>[Aggregate, data, by, the, month, of, observat...</td>\n",
              "    </tr>\n",
              "    <tr>\n",
              "      <th>33</th>\n",
              "      <td>[Filter, records, from, last, year, (, assumin...</td>\n",
              "    </tr>\n",
              "    <tr>\n",
              "      <th>34</th>\n",
              "      <td>[Show, only, the, data, starting, from, Januar...</td>\n",
              "    </tr>\n",
              "    <tr>\n",
              "      <th>35</th>\n",
              "      <td>[Find, the, average, Sepal, Length, for, each,...</td>\n",
              "    </tr>\n",
              "    <tr>\n",
              "      <th>36</th>\n",
              "      <td>[Count, how, many, Species, start, with, ', C, ']</td>\n",
              "    </tr>\n",
              "    <tr>\n",
              "      <th>37</th>\n",
              "      <td>[Entries, with, Petal, Length, and, Sepal, Len...</td>\n",
              "    </tr>\n",
              "    <tr>\n",
              "      <th>38</th>\n",
              "      <td>[List, Species, with, Petal, Width, in, the, t...</td>\n",
              "    </tr>\n",
              "    <tr>\n",
              "      <th>39</th>\n",
              "      <td>[Total, Sepal, Length, for, all, Iris, flowers]</td>\n",
              "    </tr>\n",
              "    <tr>\n",
              "      <th>40</th>\n",
              "      <td>[Average, Petal, Width, across, all, species]</td>\n",
              "    </tr>\n",
              "    <tr>\n",
              "      <th>41</th>\n",
              "      <td>[Median, Sepal, Width, for, Iris, setosa]</td>\n",
              "    </tr>\n",
              "    <tr>\n",
              "      <th>42</th>\n",
              "      <td>[Count, of, Iris, versicolor, flowers]</td>\n",
              "    </tr>\n",
              "    <tr>\n",
              "      <th>43</th>\n",
              "      <td>[Distinct, count, of, species, with, Sepal, Le...</td>\n",
              "    </tr>\n",
              "    <tr>\n",
              "      <th>44</th>\n",
              "      <td>[Minimum, Petal, Length, for, Iris, virginica]</td>\n",
              "    </tr>\n",
              "    <tr>\n",
              "      <th>45</th>\n",
              "      <td>[Maximum, Sepal, Width, across, Iris, setosa]</td>\n",
              "    </tr>\n",
              "    <tr>\n",
              "      <th>46</th>\n",
              "      <td>[Total, number, of, records, grouped, by, Spec...</td>\n",
              "    </tr>\n",
              "    <tr>\n",
              "      <th>47</th>\n",
              "      <td>[Filter, to, show, only, Iris, versicolor, wit...</td>\n",
              "    </tr>\n",
              "    <tr>\n",
              "      <th>48</th>\n",
              "      <td>[Show, top, 5, Sepal, Lengths, within, Iris, v...</td>\n",
              "    </tr>\n",
              "    <tr>\n",
              "      <th>49</th>\n",
              "      <td>[Iris, flowers, with, Petal, Width, in, the, b...</td>\n",
              "    </tr>\n",
              "    <tr>\n",
              "      <th>50</th>\n",
              "      <td>[Average, Sepal, Length, for, each, species]</td>\n",
              "    </tr>\n",
              "    <tr>\n",
              "      <th>51</th>\n",
              "      <td>[Entries, with, Petal, Length, between, 4, ., ...</td>\n",
              "    </tr>\n",
              "    <tr>\n",
              "      <th>52</th>\n",
              "      <td>[Count, Iris, flowers, where, the, Species, na...</td>\n",
              "    </tr>\n",
              "    <tr>\n",
              "      <th>53</th>\n",
              "      <td>[List, all, Iris, flowers, where, the, Species...</td>\n",
              "    </tr>\n",
              "  </tbody>\n",
              "</table>\n",
              "</div>\n",
              "    <div class=\"colab-df-buttons\">\n",
              "\n",
              "  <div class=\"colab-df-container\">\n",
              "    <button class=\"colab-df-convert\" onclick=\"convertToInteractive('df-4ed50904-7387-4a61-8ca2-1d886852a6a3')\"\n",
              "            title=\"Convert this dataframe to an interactive table.\"\n",
              "            style=\"display:none;\">\n",
              "\n",
              "  <svg xmlns=\"http://www.w3.org/2000/svg\" height=\"24px\" viewBox=\"0 -960 960 960\">\n",
              "    <path d=\"M120-120v-720h720v720H120Zm60-500h600v-160H180v160Zm220 220h160v-160H400v160Zm0 220h160v-160H400v160ZM180-400h160v-160H180v160Zm440 0h160v-160H620v160ZM180-180h160v-160H180v160Zm440 0h160v-160H620v160Z\"/>\n",
              "  </svg>\n",
              "    </button>\n",
              "\n",
              "  <style>\n",
              "    .colab-df-container {\n",
              "      display:flex;\n",
              "      gap: 12px;\n",
              "    }\n",
              "\n",
              "    .colab-df-convert {\n",
              "      background-color: #E8F0FE;\n",
              "      border: none;\n",
              "      border-radius: 50%;\n",
              "      cursor: pointer;\n",
              "      display: none;\n",
              "      fill: #1967D2;\n",
              "      height: 32px;\n",
              "      padding: 0 0 0 0;\n",
              "      width: 32px;\n",
              "    }\n",
              "\n",
              "    .colab-df-convert:hover {\n",
              "      background-color: #E2EBFA;\n",
              "      box-shadow: 0px 1px 2px rgba(60, 64, 67, 0.3), 0px 1px 3px 1px rgba(60, 64, 67, 0.15);\n",
              "      fill: #174EA6;\n",
              "    }\n",
              "\n",
              "    .colab-df-buttons div {\n",
              "      margin-bottom: 4px;\n",
              "    }\n",
              "\n",
              "    [theme=dark] .colab-df-convert {\n",
              "      background-color: #3B4455;\n",
              "      fill: #D2E3FC;\n",
              "    }\n",
              "\n",
              "    [theme=dark] .colab-df-convert:hover {\n",
              "      background-color: #434B5C;\n",
              "      box-shadow: 0px 1px 3px 1px rgba(0, 0, 0, 0.15);\n",
              "      filter: drop-shadow(0px 1px 2px rgba(0, 0, 0, 0.3));\n",
              "      fill: #FFFFFF;\n",
              "    }\n",
              "  </style>\n",
              "\n",
              "    <script>\n",
              "      const buttonEl =\n",
              "        document.querySelector('#df-4ed50904-7387-4a61-8ca2-1d886852a6a3 button.colab-df-convert');\n",
              "      buttonEl.style.display =\n",
              "        google.colab.kernel.accessAllowed ? 'block' : 'none';\n",
              "\n",
              "      async function convertToInteractive(key) {\n",
              "        const element = document.querySelector('#df-4ed50904-7387-4a61-8ca2-1d886852a6a3');\n",
              "        const dataTable =\n",
              "          await google.colab.kernel.invokeFunction('convertToInteractive',\n",
              "                                                    [key], {});\n",
              "        if (!dataTable) return;\n",
              "\n",
              "        const docLinkHtml = 'Like what you see? Visit the ' +\n",
              "          '<a target=\"_blank\" href=https://colab.research.google.com/notebooks/data_table.ipynb>data table notebook</a>'\n",
              "          + ' to learn more about interactive tables.';\n",
              "        element.innerHTML = '';\n",
              "        dataTable['output_type'] = 'display_data';\n",
              "        await google.colab.output.renderOutput(dataTable, element);\n",
              "        const docLink = document.createElement('div');\n",
              "        docLink.innerHTML = docLinkHtml;\n",
              "        element.appendChild(docLink);\n",
              "      }\n",
              "    </script>\n",
              "  </div>\n",
              "\n",
              "\n",
              "<div id=\"df-1c5b8e58-3ea6-4bfd-a236-fea541838bc1\">\n",
              "  <button class=\"colab-df-quickchart\" onclick=\"quickchart('df-1c5b8e58-3ea6-4bfd-a236-fea541838bc1')\"\n",
              "            title=\"Suggest charts\"\n",
              "            style=\"display:none;\">\n",
              "\n",
              "<svg xmlns=\"http://www.w3.org/2000/svg\" height=\"24px\"viewBox=\"0 0 24 24\"\n",
              "     width=\"24px\">\n",
              "    <g>\n",
              "        <path d=\"M19 3H5c-1.1 0-2 .9-2 2v14c0 1.1.9 2 2 2h14c1.1 0 2-.9 2-2V5c0-1.1-.9-2-2-2zM9 17H7v-7h2v7zm4 0h-2V7h2v10zm4 0h-2v-4h2v4z\"/>\n",
              "    </g>\n",
              "</svg>\n",
              "  </button>\n",
              "\n",
              "<style>\n",
              "  .colab-df-quickchart {\n",
              "      --bg-color: #E8F0FE;\n",
              "      --fill-color: #1967D2;\n",
              "      --hover-bg-color: #E2EBFA;\n",
              "      --hover-fill-color: #174EA6;\n",
              "      --disabled-fill-color: #AAA;\n",
              "      --disabled-bg-color: #DDD;\n",
              "  }\n",
              "\n",
              "  [theme=dark] .colab-df-quickchart {\n",
              "      --bg-color: #3B4455;\n",
              "      --fill-color: #D2E3FC;\n",
              "      --hover-bg-color: #434B5C;\n",
              "      --hover-fill-color: #FFFFFF;\n",
              "      --disabled-bg-color: #3B4455;\n",
              "      --disabled-fill-color: #666;\n",
              "  }\n",
              "\n",
              "  .colab-df-quickchart {\n",
              "    background-color: var(--bg-color);\n",
              "    border: none;\n",
              "    border-radius: 50%;\n",
              "    cursor: pointer;\n",
              "    display: none;\n",
              "    fill: var(--fill-color);\n",
              "    height: 32px;\n",
              "    padding: 0;\n",
              "    width: 32px;\n",
              "  }\n",
              "\n",
              "  .colab-df-quickchart:hover {\n",
              "    background-color: var(--hover-bg-color);\n",
              "    box-shadow: 0 1px 2px rgba(60, 64, 67, 0.3), 0 1px 3px 1px rgba(60, 64, 67, 0.15);\n",
              "    fill: var(--button-hover-fill-color);\n",
              "  }\n",
              "\n",
              "  .colab-df-quickchart-complete:disabled,\n",
              "  .colab-df-quickchart-complete:disabled:hover {\n",
              "    background-color: var(--disabled-bg-color);\n",
              "    fill: var(--disabled-fill-color);\n",
              "    box-shadow: none;\n",
              "  }\n",
              "\n",
              "  .colab-df-spinner {\n",
              "    border: 2px solid var(--fill-color);\n",
              "    border-color: transparent;\n",
              "    border-bottom-color: var(--fill-color);\n",
              "    animation:\n",
              "      spin 1s steps(1) infinite;\n",
              "  }\n",
              "\n",
              "  @keyframes spin {\n",
              "    0% {\n",
              "      border-color: transparent;\n",
              "      border-bottom-color: var(--fill-color);\n",
              "      border-left-color: var(--fill-color);\n",
              "    }\n",
              "    20% {\n",
              "      border-color: transparent;\n",
              "      border-left-color: var(--fill-color);\n",
              "      border-top-color: var(--fill-color);\n",
              "    }\n",
              "    30% {\n",
              "      border-color: transparent;\n",
              "      border-left-color: var(--fill-color);\n",
              "      border-top-color: var(--fill-color);\n",
              "      border-right-color: var(--fill-color);\n",
              "    }\n",
              "    40% {\n",
              "      border-color: transparent;\n",
              "      border-right-color: var(--fill-color);\n",
              "      border-top-color: var(--fill-color);\n",
              "    }\n",
              "    60% {\n",
              "      border-color: transparent;\n",
              "      border-right-color: var(--fill-color);\n",
              "    }\n",
              "    80% {\n",
              "      border-color: transparent;\n",
              "      border-right-color: var(--fill-color);\n",
              "      border-bottom-color: var(--fill-color);\n",
              "    }\n",
              "    90% {\n",
              "      border-color: transparent;\n",
              "      border-bottom-color: var(--fill-color);\n",
              "    }\n",
              "  }\n",
              "</style>\n",
              "\n",
              "  <script>\n",
              "    async function quickchart(key) {\n",
              "      const quickchartButtonEl =\n",
              "        document.querySelector('#' + key + ' button');\n",
              "      quickchartButtonEl.disabled = true;  // To prevent multiple clicks.\n",
              "      quickchartButtonEl.classList.add('colab-df-spinner');\n",
              "      try {\n",
              "        const charts = await google.colab.kernel.invokeFunction(\n",
              "            'suggestCharts', [key], {});\n",
              "      } catch (error) {\n",
              "        console.error('Error during call to suggestCharts:', error);\n",
              "      }\n",
              "      quickchartButtonEl.classList.remove('colab-df-spinner');\n",
              "      quickchartButtonEl.classList.add('colab-df-quickchart-complete');\n",
              "    }\n",
              "    (() => {\n",
              "      let quickchartButtonEl =\n",
              "        document.querySelector('#df-1c5b8e58-3ea6-4bfd-a236-fea541838bc1 button');\n",
              "      quickchartButtonEl.style.display =\n",
              "        google.colab.kernel.accessAllowed ? 'block' : 'none';\n",
              "    })();\n",
              "  </script>\n",
              "</div>\n",
              "    </div>\n",
              "  </div>\n"
            ],
            "application/vnd.google.colaboratory.intrinsic+json": {
              "type": "dataframe",
              "summary": "{\n  \"name\": \"dg_tok\",\n  \"rows\": 54,\n  \"fields\": [\n    {\n      \"column\": \"Tokenized Description\",\n      \"properties\": {\n        \"dtype\": \"object\",\n        \"semantic_type\": \"\",\n        \"description\": \"\"\n      }\n    }\n  ]\n}"
            }
          },
          "metadata": {},
          "execution_count": 92
        }
      ]
    },
    {
      "cell_type": "markdown",
      "source": [
        "Adding columns to dg_tok of Formulas and Symbols in separated way"
      ],
      "metadata": {
        "id": "UQlk0IaCEsJy"
      }
    },
    {
      "cell_type": "code",
      "source": [
        "dg_tok[\"Tokenized Formula (Tableau)\"]=dg_formulas_text"
      ],
      "metadata": {
        "id": "aG6yDi7dE449"
      },
      "execution_count": 93,
      "outputs": []
    },
    {
      "cell_type": "code",
      "source": [
        "dg_tok[\"Tokenized Symbols (Tableau)\"]=dg_formulas_sym"
      ],
      "metadata": {
        "id": "CZHfOu55IJ7P"
      },
      "execution_count": 94,
      "outputs": []
    },
    {
      "cell_type": "code",
      "source": [
        "print(dg_tok.head(10))"
      ],
      "metadata": {
        "id": "783qHvjyIjt9",
        "colab": {
          "base_uri": "https://localhost:8080/"
        },
        "outputId": "3c112140-9c28-4d29-dddc-38765d9cad43"
      },
      "execution_count": 95,
      "outputs": [
        {
          "output_type": "stream",
          "name": "stdout",
          "text": [
            "                               Tokenized Description  \\\n",
            "0                           [Sum, of, Sepal, Length]   \n",
            "1      [Average, Sepal, Width, across, all, entries]   \n",
            "2                 [Find, the, median, Petal, Length]   \n",
            "3  [Count, the, number, of, records, in, the, dat...   \n",
            "4       [Count, distinct, species, in, the, dataset]   \n",
            "5                [Minimum, value, of, Sepal, Length]   \n",
            "6   [Maximum, Petal, Width, found, in, the, dataset]   \n",
            "7                      [Group, records, by, Species]   \n",
            "8  [Sort, the, entries, by, Sepal, Length, in, as...   \n",
            "9                    [List, Species, alphabetically]   \n",
            "\n",
            "       Tokenized Formula (Tableau) Tokenized Symbols (Tableau)  \n",
            "0             [SUM, Sepal, Length]                      [(, )]  \n",
            "1              [AVG, Sepal, Width]                      [(, )]  \n",
            "2          [MEDIAN, Petal, Length]                      [(, )]  \n",
            "3                          [COUNT]                   [(, *, )]  \n",
            "4       [COUNT, DISTINCT, Species]                      [(, )]  \n",
            "5             [MIN, Sepal, Length]                      [(, )]  \n",
            "6              [MAX, Petal, Width]                      [(, )]  \n",
            "7             [GROUP, BY, Species]                      [(, )]  \n",
            "8  [ORDER, BY, Sepal, Length, ASC]                      [(, )]  \n",
            "9        [ORDER, BY, Species, ASC]                      [(, )]  \n"
          ]
        }
      ]
    },
    {
      "cell_type": "markdown",
      "source": [
        "# Recognition of entities"
      ],
      "metadata": {
        "id": "o9csevIdMITD"
      }
    },
    {
      "cell_type": "code",
      "source": [
        "def get_pos_(data,col_name):\n",
        "  dd=[]\n",
        "  gg=[]\n",
        "  for tok in data[col_name]:\n",
        "\n",
        "          for ent in nlp(str(list(str(tok).split()))):\n",
        "              # checking text between punct\n",
        "              dd.append({ent.text:ent.pos_})\n",
        "              gg.append({ent.pos_:ent.text})\n",
        "  return dd,gg"
      ],
      "metadata": {
        "id": "_DrUfeymSGGA"
      },
      "execution_count": 96,
      "outputs": []
    },
    {
      "cell_type": "code",
      "source": [
        "def get_patterns(data,col_name):\n",
        "     dt,dp=get_pos_(data,col_name)\n",
        "\n",
        "     pos_=[list(item.keys())[0] for item in dp]\n",
        "     pos_=list(set(pos_))\n",
        "     print(dt)\n",
        "     print(col_name,\":\",pos_)\n",
        "     patterns={}\n",
        "     for key in pos_:\n",
        "         patterns.update({key:list(set([d[key] for d in dp if  key==list(d.keys())[0]]))})\n",
        "     return patterns"
      ],
      "metadata": {
        "id": "egSnDiSWCtiv"
      },
      "execution_count": 97,
      "outputs": []
    },
    {
      "cell_type": "code",
      "source": [
        "dg_ent={}"
      ],
      "metadata": {
        "id": "UvGBuLNlOmE_"
      },
      "execution_count": 98,
      "outputs": []
    },
    {
      "cell_type": "code",
      "source": [
        "p_t=dg_ent['Patterns_Description']=get_patterns(description,\"vocab\")"
      ],
      "metadata": {
        "id": "RaB4-392PdwM",
        "colab": {
          "base_uri": "https://localhost:8080/"
        },
        "outputId": "70113e28-c67b-483b-ddcc-aba08c5d7bcb"
      },
      "execution_count": 99,
      "outputs": [
        {
          "output_type": "stream",
          "name": "stdout",
          "text": [
            "[{'[': 'X'}, {\"'\": 'NOUN'}, {'flowers': 'NOUN'}, {\"'\": 'VERB'}, {']': 'PUNCT'}, {'[': 'X'}, {\"'\": 'PUNCT'}, {'Group': 'PROPN'}, {\"'\": 'PUNCT'}, {']': 'PUNCT'}, {'[': 'X'}, {\"'\": 'PUNCT'}, {'than': 'ADP'}, {\"'\": 'NOUN'}, {']': 'PUNCT'}, {'[': 'X'}, {\"'\": 'X'}, {'Number': 'NOUN'}, {\"'\": 'PUNCT'}, {']': 'PUNCT'}, {'[': 'X'}, {\"'\": 'PUNCT'}, {'name': 'NOUN'}, {\"'\": 'PUNCT'}, {']': 'PUNCT'}, {'[': 'X'}, {\"'\": 'PUNCT'}, {'from': 'ADP'}, {\"'\": 'PUNCT'}, {']': 'PUNCT'}, {'[': 'X'}, {\"'\": 'PUNCT'}, {'year': 'NOUN'}, {\"'\": 'PUNCT'}, {']': 'PUNCT'}, {'[': 'X'}, {\"'\": 'PUNCT'}, {'Highest': 'ADJ'}, {\"'\": 'PUNCT'}, {']': 'PUNCT'}, {'[': 'X'}, {\"'\": 'X'}, {'%': 'INTJ'}, {\"'\": 'PUNCT'}, {']': 'PUNCT'}, {'[': 'X'}, {\"'\": 'NUM'}, {'10': 'NUM'}, {\"'\": 'PUNCT'}, {']': 'PUNCT'}, {'[': 'X'}, {\"'\": 'PUNCT'}, {'and': 'CCONJ'}, {\"'\": 'PUNCT'}, {']': 'PUNCT'}, {'[': 'X'}, {\"'\": 'PUNCT'}, {'Top': 'ADJ'}, {\"'\": 'PUNCT'}, {']': 'PUNCT'}, {'[': 'X'}, {\"'\": 'X'}, {'How': 'SCONJ'}, {\"'\": 'PUNCT'}, {']': 'PUNCT'}, {'[': 'X'}, {\"'\": 'PUNCT'}, {'greater': 'ADJ'}, {\"'\": 'PUNCT'}, {']': 'PUNCT'}, {'[': 'X'}, {\"'\": 'PUNCT'}, {'alphabetically': 'ADV'}, {\"'\": 'VERB'}, {']': 'PUNCT'}, {'[': 'X'}, {\"'\": 'PUNCT'}, {'both': 'PRON'}, {\"'\": 'VERB'}, {']': 'PUNCT'}, {'[': 'X'}, {\"'\": 'PUNCT'}, {'ends': 'VERB'}, {\"'\": 'PUNCT'}, {']': 'PUNCT'}, {'[': 'X'}, {\"'\": 'PUNCT'}, {'sorted': 'VERB'}, {\"'\": 'PUNCT'}, {']': 'PUNCT'}, {'[': 'X'}, {\"'\": 'PUNCT'}, {'across': 'ADP'}, {\"'\": 'PUNCT'}, {']': 'PUNCT'}, {'[': 'X'}, {\"'\": 'PUNCT'}, {'by': 'ADP'}, {\"'\": 'PUNCT'}, {']': 'PUNCT'}, {'[': 'X'}, {\"'\": 'PUNCT'}, {'data': 'NOUN'}, {\"'\": 'PUNCT'}, {']': 'PUNCT'}, {'[': 'X'}, {\"'\": 'NOUN'}, {'occurrences': 'NOUN'}, {\"'\": 'PUNCT'}, {']': 'PUNCT'}, {'[': 'X'}, {\"'\": 'PUNCT'}, {'each': 'PRON'}, {\"'\": 'PUNCT'}, {']': 'PUNCT'}, {'[': 'X'}, {\"'\": 'PUNCT'}, {'Organize': 'VERB'}, {\"'\": 'PUNCT'}, {']': 'PUNCT'}, {'[': 'X'}, {\"'\": 'PUNCT'}, {'Date': 'PROPN'}, {\"'\": 'PUNCT'}, {']': 'PUNCT'}, {'[': 'X'}, {\"'\": 'PUNCT'}, {'the': 'DET'}, {\"'\": 'PUNCT'}, {']': 'PUNCT'}, {'[': 'X'}, {\"'\": 'PUNCT'}, {'Minimum': 'PROPN'}, {\"'\": 'PUNCT'}, {']': 'PUNCT'}, {'[': 'X'}, {\"'\": 'PUNCT'}, {'smallest': 'ADJ'}, {\"'\": 'PUNCT'}, {']': 'PUNCT'}, {'[': 'X'}, {\"'\": 'PUNCT'}, {'bottom': 'ADJ'}, {\"'\": 'PUNCT'}, {']': 'PUNCT'}, {'[': 'X'}, {\"'\": 'PUNCT'}, {'average': 'ADJ'}, {\"'\": 'PUNCT'}, {']': 'PUNCT'}, {'[': 'X'}, {\"'\": 'VERB'}, {'not': 'PART'}, {\"'\": 'PUNCT'}, {']': 'PUNCT'}, {'[': 'X'}, {\"'\": 'PUNCT'}, {'found': 'VERB'}, {\"'\": 'PUNCT'}, {']': 'PUNCT'}, {'[': 'X'}, {\"'\": 'PUNCT'}, {'Median': 'PROPN'}, {\"'\": 'PUNCT'}, {']': 'PUNCT'}, {'[': 'X'}, {\"'\": 'PUNCT'}, {'count': 'VERB'}, {\"'\": 'PUNCT'}, {']': 'PUNCT'}, {'[': 'X'}, {\"'\": 'PUNCT'}, {'distinct': 'ADJ'}, {\"'\": 'PUNCT'}, {']': 'PUNCT'}, {'[': 'X'}, {\"'\": 'PUNCT'}, {'highest': 'ADJ'}, {\"'\": 'PUNCT'}, {']': 'PUNCT'}, {'[': 'X'}, {\"'\": 'PROPN'}, {'Total': 'ADJ'}, {\"'\": 'PUNCT'}, {']': 'PUNCT'}, {'[': 'X'}, {\"'\": 'X'}, {'Lengths': 'NOUN'}, {\"'\": 'PUNCT'}, {']': 'PUNCT'}, {'[': 'X'}, {\"'\": 'PUNCT'}, {'over': 'ADP'}, {\"'\": 'PUNCT'}, {']': 'PUNCT'}, {'[': 'X'}, {\"'\": 'PUNCT'}, {'top': 'ADJ'}, {\"'\": 'PUNCT'}, {']': 'PUNCT'}, {'[': 'X'}, {\"'\": 'NUM'}, {'3': 'NUM'}, {\"'\": 'PUNCT'}, {']': 'PUNCT'}, {'[': 'X'}, {\"'\": 'PUNCT'}, {'unique': 'ADJ'}, {\"'\": 'PUNCT'}, {']': 'PUNCT'}, {'[': 'X'}, {\"'\": 'VERB'}, {'of': 'ADP'}, {\"'\": 'PUNCT'}, {']': 'PUNCT'}, {'[': 'X'}, {\"'\": 'NUM'}, {'5': 'NUM'}, {\"'\": 'PUNCT'}, {']': 'PUNCT'}, {'[': 'X'}, {\"'\": 'PUNCT'}, {'flower': 'NOUN'}, {\"'\": 'PUNCT'}, {']': 'PUNCT'}, {'[': 'X'}, {\"'\": 'PUNCT'}, {'Count': 'PROPN'}, {\"'\": 'PUNCT'}, {']': 'PUNCT'}, {'[': 'X'}, {\"'\": 'PUNCT'}, {'this': 'PRON'}, {\"'\": 'PUNCT'}, {']': 'PUNCT'}, {'[': 'X'}, {\"'\": 'PUNCT'}, {'Show': 'VERB'}, {\"'\": 'PUNCT'}, {']': 'PUNCT'}, {'[': 'X'}, {\"'\": 'PUNCT'}, {'many': 'ADJ'}, {\"'\": 'PUNCT'}, {']': 'PUNCT'}, {'[': 'X'}, {\"'\": 'NOUN'}, {'points': 'NOUN'}, {\"'\": 'PUNCT'}, {']': 'PUNCT'}, {'[': 'X'}, {\"'\": 'NOUN'}, {'virginica': 'X'}, {\"'\": 'PUNCT'}, {']': 'PUNCT'}, {'[': 'X'}, {\"'\": 'PUNCT'}, {'starts': 'VERB'}, {\"'\": 'PUNCT'}, {']': 'PUNCT'}, {'[': 'X'}, {\"'\": 'PUNCT'}, {'less': 'ADJ'}, {\"'\": 'PUNCT'}, {']': 'PUNCT'}, {'[': 'X'}, {\"'\": 'PUNCT'}, {'only': 'ADV'}, {\"'\": 'PUNCT'}, {']': 'PUNCT'}, {'[': 'X'}, {\"'\": 'PUNCT'}, {'observation': 'NOUN'}, {\"'\": 'PUNCT'}, {']': 'PUNCT'}, {'[': 'X'}, {\"'\": 'PUNCT'}, {'show': 'VERB'}, {\"'\": 'PUNCT'}, {']': 'PUNCT'}, {'[': 'X'}, {\"'\": 'NOUN'}, {'Sum': 'NOUN'}, {\"'\": 'PUNCT'}, {']': 'PUNCT'}, {'[': 'X'}, {\"'\": 'NOUN'}, {'records': 'NOUN'}, {\"'\": 'PUNCT'}, {']': 'PUNCT'}, {'[': 'X'}, {\"'\": 'PUNCT'}, {'species': 'NOUN'}, {\"'\": 'PUNCT'}, {']': 'PUNCT'}, {'[': 'X'}, {\"'\": 'PUNCT'}, {'dataset': 'ADJ'}, {\"'\": 'PUNCT'}, {']': 'PUNCT'}, {'[': 'X'}, {\"'\": 'NOUN'}, {'1': 'NUM'}, {\"'\": 'NUM'}, {']': 'PUNCT'}, {'[': 'X'}, {\"'\": 'PUNCT'}, {'List': 'NOUN'}, {\"'\": 'PUNCT'}, {']': 'PUNCT'}, {'[': 'X'}, {\"'\": 'X'}, {'10th': 'X'}, {\"'\": 'PUNCT'}, {']': 'PUNCT'}, {'[': 'X'}, {\"'\": 'PUNCT'}, {'What': 'PRON'}, {\"'\": 'VERB'}, {']': 'PUNCT'}, {'[': 'X'}, {\"'\": 'X'}, {'Rank': 'PROPN'}, {\"'\": 'PUNCT'}, {']': 'PUNCT'}, {'[': 'X'}, {\"'\": 'NOUN'}, {'number': 'NOUN'}, {\"'\": 'PUNCT'}, {']': 'PUNCT'}, {'[': 'X'}, {\"'\": 'PUNCT'}, {'ascending': 'VERB'}, {\"'\": 'PUNCT'}, {']': 'PUNCT'}, {'[': 'X'}, {\"'\": 'VERB'}, {'are': 'AUX'}, {\"'\": 'PUNCT'}, {']': 'PUNCT'}, {'[': 'X'}, {\"'\": 'VERB'}, {'where': 'SCONJ'}, {\"'\": 'PUNCT'}, {']': 'PUNCT'}, {'[': 'X'}, {\"'\": 'NOUN'}, {'types': 'NOUN'}, {\"'\": 'PUNCT'}, {']': 'PUNCT'}, {'[': 'X'}, {\"'\": 'PUNCT'}, {'Select': 'ADJ'}, {\"'\": 'PUNCT'}, {']': 'PUNCT'}, {'[': 'X'}, {\"'\": 'PUNCT'}, {'between': 'ADP'}, {\"'\": 'PUNCT'}, {']': 'PUNCT'}, {'[': 'X'}, {\"'\": 'PUNCT'}, {'is': 'AUX'}, {\"'\": 'PUNCT'}, {']': 'PUNCT'}, {'[': 'X'}, {\"'\": 'PUNCT'}, {'percentile': 'ADJ'}, {\"'\": 'PUNCT'}, {']': 'PUNCT'}, {'[': 'X'}, {\"'\": 'NOUN'}, {'how': 'SCONJ'}, {\"'\": 'PUNCT'}, {']': 'PUNCT'}, {'[': 'X'}, {\"'\": 'PUNCT'}, {'high': 'ADJ'}, {\"'\": 'PUNCT'}, {']': 'PUNCT'}, {'[': 'X'}, {\"'\": 'PUNCT'}, {'to': 'PART'}, {\"'\": 'PUNCT'}, {']': 'PUNCT'}, {'[': 'X'}, {\"'\": 'PUNCT'}, {'Lowest': 'ADJ'}, {\"'\": 'PUNCT'}, {']': 'PUNCT'}, {'[': 'X'}, {\"'\": 'PUNCT'}, {'Display': 'VERB'}, {\"'\": 'PUNCT'}, {']': 'PUNCT'}, {'[': 'X'}, {\"'\": 'PUNCT'}, {'least': 'ADJ'}, {\"'\": 'PUNCT'}, {']': 'PUNCT'}, {'[': 'X'}, {\"'\": 'PUNCT'}, {'all': 'PRON'}, {\"'\": 'NOUN'}, {']': 'PUNCT'}, {'[': 'X'}, {\"'\": 'X'}, {'Filter': 'PROPN'}, {\"'\": 'PUNCT'}, {']': 'PUNCT'}, {'[': 'X'}, {\"'\": 'PUNCT'}, {'order': 'NOUN'}, {\"'\": 'PUNCT'}, {']': 'PUNCT'}, {'[': 'X'}, {\"'\": 'PUNCT'}, {'assuming': 'VERB'}, {\"'\": 'PUNCT'}, {']': 'PUNCT'}, {'[': 'X'}, {\"'\": 'NUM'}, {'4': 'NUM'}, {\"'\": 'PUNCT'}, {']': 'PUNCT'}, {'[': 'X'}, {\"'\": 'PUNCT'}, {'middle': 'ADJ'}, {\"'\": 'PUNCT'}, {']': 'PUNCT'}, {'[': 'X'}, {\"'\": 'PUNCT'}, {'or': 'CCONJ'}, {\"'\": 'PUNCT'}, {']': 'PUNCT'}, {'[': 'X'}, {\"'\": 'PUNCT'}, {'median': 'X'}, {\"'\": 'PUNCT'}, {']': 'PUNCT'}, {'[': 'X'}, {\"'\": 'PUNCT'}, {'setosa': 'X'}, {\"'\": 'PUNCT'}, {']': 'PUNCT'}, {'[': 'X'}, {\"'\": 'PUNCT'}, {'Sort': 'ADV'}, {\"'\": 'NOUN'}, {']': 'PUNCT'}, {'[': 'X'}, {\"'\": 'PUNCT'}, {'there': 'PRON'}, {\"'\": 'NOUN'}, {']': 'PUNCT'}, {'[': 'X'}, {\"'\": 'PUNCT'}, {'start': 'VERB'}, {\"'\": 'PUNCT'}, {']': 'PUNCT'}, {'[': 'X'}, {\"'\": 'PUNCT'}, {'last': 'ADJ'}, {\"'\": 'PUNCT'}, {']': 'PUNCT'}, {'[': 'X'}, {\"'\": 'PUNCT'}, {'with': 'ADP'}, {\"'\": 'PUNCT'}, {']': 'PUNCT'}, {'[': 'X'}, {\"'\": 'PUNCT'}, {'Aggregate': 'VERB'}, {\"'\": 'PUNCT'}, {']': 'PUNCT'}, {'[': 'X'}, {\"'\": 'NOUN'}, {'value': 'NOUN'}, {\"'\": 'PUNCT'}, {']': 'PUNCT'}, {'[': 'X'}, {\"'\": 'PROPN'}, {'Determine': 'NOUN'}, {\"'\": 'PUNCT'}, {']': 'PUNCT'}, {'[': 'X'}, {\"'\": 'PUNCT'}, {'recorded': 'VERB'}, {\"'\": 'PUNCT'}, {']': 'PUNCT'}, {'[': 'X'}, {\"'\": 'PUNCT'}, {'exactly': 'ADV'}, {\"'\": 'PUNCT'}, {']': 'PUNCT'}, {'[': 'X'}, {\"'\": 'X'}, {'Widths': 'NOUN'}, {\"'\": 'PUNCT'}, {']': 'PUNCT'}, {'[': 'X'}, {\"'\": 'VERB'}, {'starting': 'VERB'}, {\"'\": 'PUNCT'}, {']': 'PUNCT'}, {'[': 'X'}, {\"'\": 'PUNCT'}, {'Find': 'VERB'}, {\"'\": 'PUNCT'}, {']': 'PUNCT'}, {'[': 'X'}, {\"'\": 'X'}, {'versicolor': 'NOUN'}, {\"'\": 'PUNCT'}, {']': 'PUNCT'}, {'[': 'X'}, {\"'\": 'NUM'}, {'2': 'NUM'}, {\"'\": 'PUNCT'}, {']': 'PUNCT'}, {'[': 'X'}, {\"'\": 'PUNCT'}, {'equal': 'ADJ'}, {\"'\": 'PUNCT'}, {']': 'PUNCT'}, {'[': 'X'}, {\"'\": 'PUNCT'}, {'field': 'NOUN'}, {\"'\": 'PUNCT'}, {']': 'PUNCT'}, {'[': 'X'}, {\"'\": 'PUNCT'}, {'within': 'ADP'}, {\"'\": 'PUNCT'}, {']': 'PUNCT'}, {'[': 'X'}, {\"'\": 'PUNCT'}, {'contains': 'VERB'}, {\"'\": 'PUNCT'}, {']': 'PUNCT'}, {'[': 'X'}, {\"'\": 'PUNCT'}, {'Calculate': 'ADJ'}, {\"'\": 'PUNCT'}, {']': 'PUNCT'}, {'[': 'X'}, {\"'\": 'PUNCT'}, {'grouped': 'VERB'}, {\"'\": 'PUNCT'}, {']': 'PUNCT'}, {'[': 'X'}, {\"'\": 'PUNCT'}, {'Average': 'ADJ'}, {\"'\": 'PUNCT'}, {']': 'PUNCT'}, {'[': 'X'}, {\"'\": 'PUNCT'}, {'at': 'ADP'}, {\"'\": 'PUNCT'}, {']': 'PUNCT'}, {'[': 'X'}, {\"'\": 'PUNCT'}, {'?': 'PUNCT'}, {\"'\": 'PUNCT'}, {']': 'PUNCT'}, {'[': 'X'}, {\"'\": 'PUNCT'}, {'color': 'NOUN'}, {\"'\": 'PUNCT'}, {']': 'PUNCT'}, {'[': 'X'}, {\"'\": 'NUM'}, {'0': 'NUM'}, {\"'\": 'PUNCT'}, {']': 'PUNCT'}, {'[': 'X'}, {\"'\": 'X'}, {'Entries': 'NOUN'}, {\"'\": 'PUNCT'}, {']': 'PUNCT'}, {'[': 'X'}, {\"'\": 'NOUN'}, {'entries': 'NOUN'}, {\"'\": 'PUNCT'}, {']': 'PUNCT'}, {'[': 'X'}, {\"'\": 'X'}, {'January': 'PROPN'}, {\"'\": 'PUNCT'}, {']': 'PUNCT'}, {'[': 'X'}, {\"'\": 'PUNCT'}, {'total': 'ADJ'}, {\"'\": 'PUNCT'}, {']': 'PUNCT'}, {'[': 'X'}, {\"'\": 'PUNCT'}, {'Setosa': 'PROPN'}, {\"'\": 'PUNCT'}, {']': 'PUNCT'}, {'[': 'X'}, {\"'\": 'X'}, {'Iris': 'PROPN'}, {\"'\": 'PUNCT'}, {']': 'PUNCT'}, {'[': 'X'}, {\"'\": 'PUNCT'}, {'Species': 'NOUN'}, {\"'\": 'PUNCT'}, {']': 'PUNCT'}, {'[': 'X'}, {\"'\": 'NOUN'}, {'month': 'NOUN'}, {\"'\": 'PUNCT'}, {']': 'PUNCT'}, {'[': 'X'}, {\"'\": 'PUNCT'}, {'in': 'ADP'}, {\"'\": 'NOUN'}, {']': 'PUNCT'}, {'[': 'X'}, {\"'\": 'PUNCT'}, {'low': 'ADJ'}, {\"'\": 'PUNCT'}, {']': 'PUNCT'}, {'[': 'X'}, {\"'\": 'PUNCT'}, {'for': 'ADP'}, {\"'\": 'PUNCT'}, {']': 'PUNCT'}, {'[': 'X'}, {\"'\": 'PUNCT'}, {'descending': 'VERB'}, {\"'\": 'NOUN'}, {']': 'PUNCT'}, {'[': 'X'}, {\"'\": 'PUNCT'}, {'Maximum': 'PROPN'}, {\"'\": 'PUNCT'}, {']': 'PUNCT'}, {'[': 'X'}, {\"'\": 'PUNCT'}, {'above': 'ADP'}, {\"'\": 'PUNCT'}, {']': 'PUNCT'}]\n",
            "vocab : ['X', 'ADJ', 'VERB', 'PART', 'NOUN', 'DET', 'AUX', 'NUM', 'PRON', 'ADV', 'CCONJ', 'ADP', 'INTJ', 'PROPN', 'SCONJ', 'PUNCT']\n"
          ]
        }
      ]
    },
    {
      "cell_type": "code",
      "source": [
        "for pat in p_d:\n",
        "   print({pat:p_d[pat]})"
      ],
      "metadata": {
        "id": "4CSJPRZeQK_g",
        "colab": {
          "base_uri": "https://localhost:8080/"
        },
        "outputId": "8e6b7ab7-ce01-496f-f3d8-7339038789b6"
      },
      "execution_count": 100,
      "outputs": [
        {
          "output_type": "stream",
          "name": "stdout",
          "text": [
            "{'X': ['10th', 'setosa', 'virginica', 'median']}\n",
            "{'ADJ': ['distinct', 'highest', 'Select', 'Total', 'Highest', 'equal', 'top', 'Calculate', 'Top', 'unique', 'percentile', 'Average', 'high', 'Lowest', 'greater', 'many', 'least', 'less', 'total', 'middle', 'bottom', 'smallest', 'low', 'average', 'last', 'dataset']}\n",
            "{'VERB': ['found', 'recorded', 'count', 'ascending', 'starting', 'Find', 'contains', 'grouped', 'Display', 'Show', 'assuming', 'ends', 'starts', 'sorted', 'show', 'Organize', 'start', 'descending', 'Aggregate']}\n",
            "{'PART': ['to', 'not']}\n",
            "{'NOUN': ['value', 'List', 'Determine', 'flowers', 'number', 'Widths', 'Number', 'name', 'versicolor', 'types', 'year', 'field', 'Lengths', 'color', 'flower', 'Entries', 'points', 'order', 'entries', 'data', 'observation', 'occurrences', 'Species', 'month', 'Sum', 'records', 'species']}\n",
            "{'DET': ['the']}\n",
            "{'AUX': ['are', 'is']}\n",
            "{'NUM': ['1', '2', '10', '4', '3', '5', '0']}\n",
            "{'PRON': ['this', 'each', 'What', 'all', 'both', 'there']}\n",
            "{'ADV': ['exactly', 'Sort', 'alphabetically', 'only']}\n",
            "{'CCONJ': ['and', 'or']}\n",
            "{'ADP': ['from', 'within', 'over', 'between', 'in', 'than', 'for', 'of', 'at', 'across', 'by', 'with', 'above']}\n",
            "{'INTJ': ['%']}\n",
            "{'PROPN': ['Count', 'Rank', 'Median', 'Date', 'Minimum', 'Filter', 'Group', 'January', 'Iris', 'Setosa', 'Maximum']}\n",
            "{'SCONJ': ['where', 'How', 'how']}\n",
            "{'PUNCT': ['?']}\n"
          ]
        }
      ]
    },
    {
      "cell_type": "code",
      "source": [
        "p_d=dg_ent['Patterns_Description']=get_patterns(dg_tok,dg_tok.columns[0])"
      ],
      "metadata": {
        "id": "g7kuk3DbOtdX",
        "colab": {
          "base_uri": "https://localhost:8080/"
        },
        "outputId": "06bb2a6f-0e25-4fc3-b9f5-7be47a7f6d42"
      },
      "execution_count": 101,
      "outputs": [
        {
          "output_type": "stream",
          "name": "stdout",
          "text": [
            "[{'[': 'X'}, {'\"': 'PUNCT'}, {'[': 'X'}, {\"'\": 'X'}, {'Sum': 'PROPN'}, {\"'\": 'NUM'}, {',': 'PUNCT'}, {'\"': 'PUNCT'}, {',': 'PUNCT'}, {'\"': 'PUNCT'}, {\"'\": 'PUNCT'}, {'of': 'ADP'}, {\"'\": 'NUM'}, {',': 'PUNCT'}, {'\"': 'PUNCT'}, {',': 'PUNCT'}, {'\"': 'PUNCT'}, {\"'\": 'PUNCT'}, {'Sepal': 'NOUN'}, {\"'\": 'PUNCT'}, {',': 'PUNCT'}, {'\"': 'PUNCT'}, {',': 'PUNCT'}, {'\"': 'PUNCT'}, {\"'\": 'PUNCT'}, {'Length': 'X'}, {\"'\": 'PUNCT'}, {']': 'PUNCT'}, {'\"': 'PUNCT'}, {']': 'PUNCT'}, {'[': 'X'}, {'\"': 'PUNCT'}, {'[': 'X'}, {\"'\": 'PUNCT'}, {'Average': 'ADJ'}, {\"'\": 'PUNCT'}, {',': 'PUNCT'}, {'\"': 'PUNCT'}, {',': 'PUNCT'}, {'\"': 'PUNCT'}, {\"'\": 'PUNCT'}, {'Sepal': 'NOUN'}, {\"'\": 'PUNCT'}, {',': 'PUNCT'}, {'\"': 'PUNCT'}, {',': 'PUNCT'}, {'\"': 'PUNCT'}, {\"'\": 'PUNCT'}, {'Width': 'PROPN'}, {\"'\": 'PUNCT'}, {',': 'PUNCT'}, {'\"': 'PUNCT'}, {',': 'PUNCT'}, {'\"': 'PUNCT'}, {\"'\": 'PUNCT'}, {'across': 'ADP'}, {\"'\": 'PUNCT'}, {',': 'PUNCT'}, {'\"': 'PUNCT'}, {',': 'PUNCT'}, {'\"': 'PUNCT'}, {\"'\": 'PUNCT'}, {'all': 'PRON'}, {\"'\": 'PROPN'}, {',': 'PUNCT'}, {'\"': 'PUNCT'}, {',': 'PUNCT'}, {'\"': 'PUNCT'}, {\"'\": 'PUNCT'}, {'entries': 'NOUN'}, {\"'\": 'PUNCT'}, {']': 'PUNCT'}, {'\"': 'PUNCT'}, {']': 'PUNCT'}, {'[': 'X'}, {'\"': 'PUNCT'}, {'[': 'X'}, {\"'\": 'VERB'}, {'Find': 'VERB'}, {\"'\": 'PUNCT'}, {',': 'PUNCT'}, {'\"': 'PUNCT'}, {',': 'PUNCT'}, {'\"': 'PUNCT'}, {\"'\": 'PUNCT'}, {'the': 'DET'}, {\"'\": 'PUNCT'}, {',': 'PUNCT'}, {'\"': 'PUNCT'}, {',': 'PUNCT'}, {'\"': 'PUNCT'}, {\"'\": 'PUNCT'}, {'median': 'X'}, {\"'\": 'PROPN'}, {',': 'PUNCT'}, {'\"': 'PUNCT'}, {',': 'PUNCT'}, {'\"': 'PUNCT'}, {\"'\": 'PUNCT'}, {'Petal': 'ADJ'}, {\"'\": 'PUNCT'}, {',': 'PUNCT'}, {'\"': 'PUNCT'}, {',': 'PUNCT'}, {'\"': 'PUNCT'}, {\"'\": 'PUNCT'}, {'Length': 'X'}, {\"'\": 'PUNCT'}, {']': 'PUNCT'}, {'\"': 'PUNCT'}, {']': 'PUNCT'}, {'[': 'X'}, {'\"': 'PUNCT'}, {'[': 'X'}, {\"'\": 'X'}, {'Count': 'PROPN'}, {\"'\": 'PUNCT'}, {',': 'PUNCT'}, {'\"': 'PUNCT'}, {',': 'PUNCT'}, {'\"': 'PUNCT'}, {\"'\": 'PUNCT'}, {'the': 'DET'}, {\"'\": 'PUNCT'}, {',': 'PUNCT'}, {'\"': 'PUNCT'}, {',': 'PUNCT'}, {'\"': 'PUNCT'}, {\"'\": 'PUNCT'}, {'number': 'NOUN'}, {\"'\": 'PUNCT'}, {',': 'PUNCT'}, {'\"': 'PUNCT'}, {',': 'PUNCT'}, {'\"': 'PUNCT'}, {\"'\": 'PUNCT'}, {'of': 'ADP'}, {\"'\": 'NUM'}, {',': 'PUNCT'}, {'\"': 'PUNCT'}, {',': 'PUNCT'}, {'\"': 'PUNCT'}, {\"'\": 'PUNCT'}, {'records': 'NOUN'}, {\"'\": 'PART'}, {',': 'PUNCT'}, {'\"': 'PUNCT'}, {',': 'PUNCT'}, {'\"': 'PUNCT'}, {\"'\": 'PUNCT'}, {'in': 'ADP'}, {\"'\": 'NUM'}, {',': 'PUNCT'}, {'\"': 'PUNCT'}, {',': 'PUNCT'}, {'\"': 'PUNCT'}, {\"'\": 'PUNCT'}, {'the': 'DET'}, {\"'\": 'PUNCT'}, {',': 'PUNCT'}, {'\"': 'PUNCT'}, {',': 'PUNCT'}, {'\"': 'PUNCT'}, {\"'\": 'PUNCT'}, {'dataset': 'VERB'}, {\"'\": 'PUNCT'}, {']': 'PUNCT'}, {'\"': 'PUNCT'}, {']': 'PUNCT'}, {'[': 'X'}, {'\"': 'PUNCT'}, {'[': 'X'}, {\"'\": 'X'}, {'Count': 'PROPN'}, {\"'\": 'PUNCT'}, {',': 'PUNCT'}, {'\"': 'PUNCT'}, {',': 'PUNCT'}, {'\"': 'PUNCT'}, {\"'\": 'PUNCT'}, {'distinct': 'ADJ'}, {\"'\": 'PUNCT'}, {',': 'PUNCT'}, {'\"': 'PUNCT'}, {',': 'PUNCT'}, {'\"': 'PUNCT'}, {\"'\": 'PUNCT'}, {'species': 'NOUN'}, {\"'\": 'PUNCT'}, {',': 'PUNCT'}, {'\"': 'PUNCT'}, {',': 'PUNCT'}, {'\"': 'PUNCT'}, {\"'\": 'PUNCT'}, {'in': 'ADP'}, {\"'\": 'NUM'}, {',': 'PUNCT'}, {'\"': 'PUNCT'}, {',': 'PUNCT'}, {'\"': 'PUNCT'}, {\"'\": 'PUNCT'}, {'the': 'DET'}, {\"'\": 'PUNCT'}, {',': 'PUNCT'}, {'\"': 'PUNCT'}, {',': 'PUNCT'}, {'\"': 'PUNCT'}, {\"'\": 'PUNCT'}, {'dataset': 'VERB'}, {\"'\": 'PUNCT'}, {']': 'PUNCT'}, {'\"': 'PUNCT'}, {']': 'PUNCT'}, {'[': 'X'}, {'\"': 'PUNCT'}, {'[': 'X'}, {\"'\": 'PUNCT'}, {'Minimum': 'ADJ'}, {\"'\": 'PUNCT'}, {',': 'PUNCT'}, {'\"': 'PUNCT'}, {',': 'PUNCT'}, {'\"': 'PUNCT'}, {\"'\": 'PUNCT'}, {'value': 'NOUN'}, {\"'\": 'PUNCT'}, {',': 'PUNCT'}, {'\"': 'PUNCT'}, {',': 'PUNCT'}, {'\"': 'PUNCT'}, {\"'\": 'PUNCT'}, {'of': 'ADP'}, {\"'\": 'NUM'}, {',': 'PUNCT'}, {'\"': 'PUNCT'}, {',': 'PUNCT'}, {'\"': 'PUNCT'}, {\"'\": 'PUNCT'}, {'Sepal': 'NOUN'}, {\"'\": 'PUNCT'}, {',': 'PUNCT'}, {'\"': 'PUNCT'}, {',': 'PUNCT'}, {'\"': 'PUNCT'}, {\"'\": 'PUNCT'}, {'Length': 'X'}, {\"'\": 'PUNCT'}, {']': 'PUNCT'}, {'\"': 'PUNCT'}, {']': 'PUNCT'}, {'[': 'X'}, {'\"': 'PUNCT'}, {'[': 'X'}, {\"'\": 'PUNCT'}, {'Maximum': 'ADJ'}, {\"'\": 'NUM'}, {',': 'PUNCT'}, {'\"': 'PUNCT'}, {',': 'PUNCT'}, {'\"': 'PUNCT'}, {\"'\": 'PUNCT'}, {'Petal': 'ADJ'}, {\"'\": 'PUNCT'}, {',': 'PUNCT'}, {'\"': 'PUNCT'}, {',': 'PUNCT'}, {'\"': 'PUNCT'}, {\"'\": 'PUNCT'}, {'Width': 'PROPN'}, {\"'\": 'PUNCT'}, {',': 'PUNCT'}, {'\"': 'PUNCT'}, {',': 'PUNCT'}, {'\"': 'PUNCT'}, {\"'\": 'PUNCT'}, {'found': 'VERB'}, {\"'\": 'PUNCT'}, {',': 'PUNCT'}, {'\"': 'PUNCT'}, {',': 'PUNCT'}, {'\"': 'PUNCT'}, {\"'\": 'PUNCT'}, {'in': 'ADP'}, {\"'\": 'NUM'}, {',': 'PUNCT'}, {'\"': 'PUNCT'}, {',': 'PUNCT'}, {'\"': 'PUNCT'}, {\"'\": 'PUNCT'}, {'the': 'DET'}, {\"'\": 'PUNCT'}, {',': 'PUNCT'}, {'\"': 'PUNCT'}, {',': 'PUNCT'}, {'\"': 'PUNCT'}, {\"'\": 'PUNCT'}, {'dataset': 'VERB'}, {\"'\": 'PUNCT'}, {']': 'PUNCT'}, {'\"': 'PUNCT'}, {']': 'PUNCT'}, {'[': 'X'}, {'\"': 'PUNCT'}, {'[': 'X'}, {\"'\": 'X'}, {'Group': 'PROPN'}, {\"'\": 'PUNCT'}, {',': 'PUNCT'}, {'\"': 'PUNCT'}, {',': 'PUNCT'}, {'\"': 'PUNCT'}, {\"'\": 'PUNCT'}, {'records': 'NOUN'}, {\"'\": 'PART'}, {',': 'PUNCT'}, {'\"': 'PUNCT'}, {',': 'PUNCT'}, {'\"': 'PUNCT'}, {\"'\": 'PUNCT'}, {'by': 'ADP'}, {\"'\": 'NUM'}, {',': 'PUNCT'}, {'\"': 'PUNCT'}, {',': 'PUNCT'}, {'\"': 'PUNCT'}, {\"'\": 'PUNCT'}, {'Species': 'PROPN'}, {\"'\": 'PUNCT'}, {']': 'PUNCT'}, {'\"': 'PUNCT'}, {']': 'PUNCT'}, {'[': 'X'}, {'\"': 'PUNCT'}, {'[': 'X'}, {\"'\": 'X'}, {'Sort': 'ADV'}, {\"'\": 'NUM'}, {',': 'PUNCT'}, {'\"': 'PUNCT'}, {',': 'PUNCT'}, {'\"': 'PUNCT'}, {\"'\": 'PUNCT'}, {'the': 'DET'}, {\"'\": 'PUNCT'}, {',': 'PUNCT'}, {'\"': 'PUNCT'}, {',': 'PUNCT'}, {'\"': 'PUNCT'}, {\"'\": 'PUNCT'}, {'entries': 'NOUN'}, {\"'\": 'PUNCT'}, {',': 'PUNCT'}, {'\"': 'PUNCT'}, {',': 'PUNCT'}, {'\"': 'PUNCT'}, {\"'\": 'PUNCT'}, {'by': 'ADP'}, {\"'\": 'NUM'}, {',': 'PUNCT'}, {'\"': 'PUNCT'}, {',': 'PUNCT'}, {'\"': 'PUNCT'}, {\"'\": 'PUNCT'}, {'Sepal': 'NOUN'}, {\"'\": 'PUNCT'}, {',': 'PUNCT'}, {'\"': 'PUNCT'}, {',': 'PUNCT'}, {'\"': 'PUNCT'}, {\"'\": 'PUNCT'}, {'Length': 'PROPN'}, {\"'\": 'PUNCT'}, {',': 'PUNCT'}, {'\"': 'PUNCT'}, {',': 'PUNCT'}, {'\"': 'PUNCT'}, {\"'\": 'PUNCT'}, {'in': 'ADP'}, {\"'\": 'NUM'}, {',': 'PUNCT'}, {'\"': 'PUNCT'}, {',': 'PUNCT'}, {'\"': 'PUNCT'}, {\"'\": 'PUNCT'}, {'ascending': 'VERB'}, {\"'\": 'PUNCT'}, {',': 'PUNCT'}, {'\"': 'PUNCT'}, {',': 'PUNCT'}, {'\"': 'PUNCT'}, {\"'\": 'PUNCT'}, {'order': 'NOUN'}, {\"'\": 'PUNCT'}, {']': 'PUNCT'}, {'\"': 'PUNCT'}, {']': 'PUNCT'}, {'[': 'X'}, {'\"': 'PUNCT'}, {'[': 'X'}, {\"'\": 'PUNCT'}, {'List': 'NOUN'}, {\"'\": 'PUNCT'}, {',': 'PUNCT'}, {'\"': 'PUNCT'}, {',': 'PUNCT'}, {'\"': 'PUNCT'}, {\"'\": 'PUNCT'}, {'Species': 'NOUN'}, {\"'\": 'PUNCT'}, {',': 'PUNCT'}, {'\"': 'PUNCT'}, {',': 'PUNCT'}, {'\"': 'PUNCT'}, {\"'\": 'PUNCT'}, {'alphabetically': 'ADV'}, {\"'\": 'VERB'}, {']': 'X'}, {'\"': 'PUNCT'}, {']': 'PUNCT'}, {'[': 'X'}, {'\"': 'PUNCT'}, {'[': 'X'}, {\"'\": 'X'}, {'Entries': 'NOUN'}, {\"'\": 'PUNCT'}, {',': 'PUNCT'}, {'\"': 'PUNCT'}, {',': 'PUNCT'}, {'\"': 'PUNCT'}, {\"'\": 'PUNCT'}, {'with': 'ADP'}, {\"'\": 'PROPN'}, {',': 'PUNCT'}, {'\"': 'PUNCT'}, {',': 'PUNCT'}, {'\"': 'PUNCT'}, {\"'\": 'PUNCT'}, {'Sepal': 'NOUN'}, {\"'\": 'PUNCT'}, {',': 'PUNCT'}, {'\"': 'PUNCT'}, {',': 'PUNCT'}, {'\"': 'PUNCT'}, {\"'\": 'PUNCT'}, {'Length': 'PROPN'}, {\"'\": 'PUNCT'}, {',': 'PUNCT'}, {'\"': 'PUNCT'}, {',': 'PUNCT'}, {'\"': 'PUNCT'}, {\"'\": 'PUNCT'}, {'at': 'ADP'}, {\"'\": 'NUM'}, {',': 'PUNCT'}, {'\"': 'PUNCT'}, {',': 'PUNCT'}, {'\"': 'PUNCT'}, {\"'\": 'PUNCT'}, {'least': 'ADJ'}, {\"'\": 'PUNCT'}, {',': 'PUNCT'}, {'\"': 'PUNCT'}, {',': 'PUNCT'}, {'\"': 'PUNCT'}, {\"'\": 'PROPN'}, {'5': 'NUM'}, {\"'\": 'NUM'}, {',': 'PUNCT'}, {'\"': 'PUNCT'}, {',': 'PUNCT'}, {'\"': 'PUNCT'}, {\"'\": 'PUNCT'}, {'.': 'PUNCT'}, {\"'\": 'PUNCT'}, {',': 'PUNCT'}, {'\"': 'PUNCT'}, {',': 'PUNCT'}, {'\"': 'PUNCT'}, {\"'\": 'PUNCT'}, {'0': 'X'}, {\"'\": 'PUNCT'}, {']': 'PUNCT'}, {'\"': 'PUNCT'}, {']': 'PUNCT'}, {'[': 'X'}, {'\"': 'PUNCT'}, {'[': 'X'}, {\"'\": 'X'}, {'Entries': 'NOUN'}, {\"'\": 'PUNCT'}, {',': 'PUNCT'}, {'\"': 'PUNCT'}, {',': 'PUNCT'}, {'\"': 'PUNCT'}, {\"'\": 'PUNCT'}, {'with': 'ADP'}, {\"'\": 'PROPN'}, {',': 'PUNCT'}, {'\"': 'PUNCT'}, {',': 'PUNCT'}, {'\"': 'PUNCT'}, {\"'\": 'PUNCT'}, {'Petal': 'ADJ'}, {\"'\": 'PUNCT'}, {',': 'PUNCT'}, {'\"': 'PUNCT'}, {',': 'PUNCT'}, {'\"': 'PUNCT'}, {\"'\": 'PUNCT'}, {'Length': 'PROPN'}, {\"'\": 'PUNCT'}, {',': 'PUNCT'}, {'\"': 'PUNCT'}, {',': 'PUNCT'}, {'\"': 'PUNCT'}, {\"'\": 'PUNCT'}, {'between': 'ADP'}, {\"'\": 'PUNCT'}, {',': 'PUNCT'}, {'\"': 'PUNCT'}, {',': 'PUNCT'}, {'\"': 'PUNCT'}, {\"'\": 'PROPN'}, {'1': 'X'}, {\"'\": 'NUM'}, {',': 'PUNCT'}, {'\"': 'PUNCT'}, {',': 'PUNCT'}, {'\"': 'PUNCT'}, {\"'\": 'PUNCT'}, {'.': 'PUNCT'}, {\"'\": 'PUNCT'}, {',': 'PUNCT'}, {'\"': 'PUNCT'}, {',': 'PUNCT'}, {'\"': 'PUNCT'}, {\"'\": 'PROPN'}, {'5': 'NUM'}, {\"'\": 'NUM'}, {',': 'PUNCT'}, {'\"': 'PUNCT'}, {',': 'PUNCT'}, {'\"': 'PUNCT'}, {\"'\": 'PUNCT'}, {'and': 'CCONJ'}, {\"'\": 'NUM'}, {',': 'PUNCT'}, {'\"': 'PUNCT'}, {',': 'PUNCT'}, {'\"': 'PUNCT'}, {\"'\": 'PROPN'}, {'2': 'X'}, {\"'\": 'NUM'}, {',': 'PUNCT'}, {'\"': 'PUNCT'}, {',': 'PUNCT'}, {'\"': 'PUNCT'}, {\"'\": 'PUNCT'}, {'.': 'PUNCT'}, {\"'\": 'PUNCT'}, {',': 'PUNCT'}, {'\"': 'PUNCT'}, {',': 'PUNCT'}, {'\"': 'PUNCT'}, {\"'\": 'PROPN'}, {'5': 'NUM'}, {\"'\": 'NUM'}, {']': 'PUNCT'}, {'\"': 'PUNCT'}, {']': 'PUNCT'}, {'[': 'X'}, {'\"': 'PUNCT'}, {'[': 'X'}, {\"'\": 'PUNCT'}, {'Top': 'ADJ'}, {\"'\": 'NUM'}, {',': 'PUNCT'}, {'\"': 'PUNCT'}, {',': 'PUNCT'}, {'\"': 'PUNCT'}, {\"'\": 'PROPN'}, {'3': 'NUM'}, {\"'\": 'NUM'}, {',': 'PUNCT'}, {'\"': 'PUNCT'}, {',': 'PUNCT'}, {'\"': 'PUNCT'}, {\"'\": 'PUNCT'}, {'entries': 'NOUN'}, {\"'\": 'PUNCT'}, {',': 'PUNCT'}, {'\"': 'PUNCT'}, {',': 'PUNCT'}, {'\"': 'PUNCT'}, {\"'\": 'PUNCT'}, {'with': 'ADP'}, {\"'\": 'PROPN'}, {',': 'PUNCT'}, {'\"': 'PUNCT'}, {',': 'PUNCT'}, {'\"': 'PUNCT'}, {\"'\": 'PUNCT'}, {'the': 'DET'}, {\"'\": 'PUNCT'}, {',': 'PUNCT'}, {'\"': 'PUNCT'}, {',': 'PUNCT'}, {'\"': 'PUNCT'}, {\"'\": 'PUNCT'}, {'highest': 'ADJ'}, {\"'\": 'PUNCT'}, {',': 'PUNCT'}, {'\"': 'PUNCT'}, {',': 'PUNCT'}, {'\"': 'PUNCT'}, {\"'\": 'PUNCT'}, {'Sepal': 'NOUN'}, {\"'\": 'PUNCT'}, {',': 'PUNCT'}, {'\"': 'PUNCT'}, {',': 'PUNCT'}, {'\"': 'PUNCT'}, {\"'\": 'PUNCT'}, {'Width': 'PROPN'}, {\"'\": 'PUNCT'}, {']': 'PUNCT'}, {'\"': 'PUNCT'}, {']': 'PUNCT'}, {'[': 'X'}, {'\"': 'PUNCT'}, {'[': 'X'}, {\"'\": 'X'}, {'Species': 'NOUN'}, {\"'\": 'PUNCT'}, {',': 'PUNCT'}, {'\"': 'PUNCT'}, {',': 'PUNCT'}, {'\"': 'PUNCT'}, {\"'\": 'PUNCT'}, {'is': 'AUX'}, {\"'\": 'PUNCT'}, {',': 'PUNCT'}, {'\"': 'PUNCT'}, {',': 'PUNCT'}, {\"'\": 'PUNCT'}, {'\"': 'PUNCT'}, {'\\\\': 'PROPN'}, {\"'\": 'PUNCT'}, {'\"': 'PUNCT'}, {',': 'PUNCT'}, {\"'\": 'PUNCT'}, {',': 'PUNCT'}, {'\"': 'PUNCT'}, {\"'\": 'PUNCT'}, {'Setosa': 'VERB'}, {\"'\": 'NUM'}, {',': 'PUNCT'}, {'\"': 'PUNCT'}, {',': 'PUNCT'}, {\"'\": 'PUNCT'}, {'\"': 'PUNCT'}, {'\\\\': 'PROPN'}, {\"'\": 'PUNCT'}, {'\"': 'PUNCT'}, {']': 'PUNCT'}, {\"'\": 'X'}, {']': 'PUNCT'}, {'[': 'X'}, {'\"': 'PUNCT'}, {'[': 'X'}, {\"'\": 'X'}, {'Species': 'NOUN'}, {\"'\": 'PUNCT'}, {',': 'PUNCT'}, {'\"': 'PUNCT'}, {',': 'PUNCT'}, {'\"': 'PUNCT'}, {\"'\": 'PUNCT'}, {'starts': 'VERB'}, {\"'\": 'PUNCT'}, {',': 'PUNCT'}, {'\"': 'PUNCT'}, {',': 'PUNCT'}, {'\"': 'PUNCT'}, {\"'\": 'PUNCT'}, {'with': 'ADP'}, {\"'\": 'PROPN'}, {',': 'PUNCT'}, {'\"': 'PUNCT'}, {',': 'PUNCT'}, {\"'\": 'PUNCT'}, {'\"': 'PUNCT'}, {'\\\\': 'PROPN'}, {\"'\": 'PUNCT'}, {'\"': 'PUNCT'}, {',': 'PUNCT'}, {\"'\": 'PUNCT'}, {',': 'PUNCT'}, {'\"': 'PUNCT'}, {\"'\": 'PUNCT'}, {'Se': 'PROPN'}, {\"'\": 'NUM'}, {',': 'PUNCT'}, {'\"': 'PUNCT'}, {',': 'PUNCT'}, {\"'\": 'PUNCT'}, {'\"': 'PUNCT'}, {'\\\\': 'PROPN'}, {\"'\": 'PUNCT'}, {'\"': 'PUNCT'}, {']': 'PUNCT'}, {\"'\": 'X'}, {']': 'PUNCT'}, {'[': 'X'}, {'\"': 'PUNCT'}, {'[': 'X'}, {\"'\": 'PUNCT'}, {'Calculate': 'VERB'}, {\"'\": 'PUNCT'}, {',': 'PUNCT'}, {'\"': 'PUNCT'}, {',': 'PUNCT'}, {'\"': 'PUNCT'}, {\"'\": 'PUNCT'}, {'the': 'DET'}, {\"'\": 'PUNCT'}, {',': 'PUNCT'}, {'\"': 'PUNCT'}, {',': 'PUNCT'}, {'\"': 'PUNCT'}, {\"'\": 'PUNCT'}, {'total': 'ADJ'}, {\"'\": 'PUNCT'}, {',': 'PUNCT'}, {'\"': 'PUNCT'}, {',': 'PUNCT'}, {'\"': 'PUNCT'}, {\"'\": 'PUNCT'}, {'of': 'ADP'}, {\"'\": 'NUM'}, {',': 'PUNCT'}, {'\"': 'PUNCT'}, {',': 'PUNCT'}, {'\"': 'PUNCT'}, {\"'\": 'PUNCT'}, {'Petal': 'ADJ'}, {\"'\": 'PUNCT'}, {',': 'PUNCT'}, {'\"': 'PUNCT'}, {',': 'PUNCT'}, {'\"': 'PUNCT'}, {\"'\": 'PUNCT'}, {'Lengths': 'NOUN'}, {\"'\": 'NUM'}, {']': 'PUNCT'}, {'\"': 'PUNCT'}, {']': 'PUNCT'}, {'[': 'X'}, {'\"': 'PUNCT'}, {'[': 'X'}, {\"'\": 'PUNCT'}, {'What': 'PRON'}, {\"'\": 'PROPN'}, {',': 'PUNCT'}, {'\"': 'PUNCT'}, {',': 'PUNCT'}, {'\"': 'PUNCT'}, {\"'\": 'PUNCT'}, {'is': 'AUX'}, {\"'\": 'PUNCT'}, {',': 'PUNCT'}, {'\"': 'PUNCT'}, {',': 'PUNCT'}, {'\"': 'PUNCT'}, {\"'\": 'PUNCT'}, {'the': 'DET'}, {\"'\": 'PUNCT'}, {',': 'PUNCT'}, {'\"': 'PUNCT'}, {',': 'PUNCT'}, {'\"': 'PUNCT'}, {\"'\": 'PUNCT'}, {'average': 'ADJ'}, {\"'\": 'PUNCT'}, {',': 'PUNCT'}, {'\"': 'PUNCT'}, {',': 'PUNCT'}, {'\"': 'PUNCT'}, {\"'\": 'PUNCT'}, {'Petal': 'ADJ'}, {\"'\": 'PUNCT'}, {',': 'PUNCT'}, {'\"': 'PUNCT'}, {',': 'PUNCT'}, {'\"': 'PUNCT'}, {\"'\": 'PUNCT'}, {'Width': 'PROPN'}, {\"'\": 'PUNCT'}, {',': 'PUNCT'}, {'\"': 'PUNCT'}, {',': 'PUNCT'}, {'\"': 'PUNCT'}, {\"'\": 'PUNCT'}, {'?': 'PUNCT'}, {\"'\": 'PUNCT'}, {']': 'PUNCT'}, {'\"': 'PUNCT'}, {']': 'PUNCT'}, {'[': 'X'}, {'\"': 'PUNCT'}, {'[': 'X'}, {\"'\": 'X'}, {'Determine': 'NOUN'}, {\"'\": 'PUNCT'}, {',': 'PUNCT'}, {'\"': 'PUNCT'}, {',': 'PUNCT'}, {'\"': 'PUNCT'}, {\"'\": 'PUNCT'}, {'the': 'DET'}, {\"'\": 'PUNCT'}, {',': 'PUNCT'}, {'\"': 'PUNCT'}, {',': 'PUNCT'}, {'\"': 'PUNCT'}, {\"'\": 'PUNCT'}, {'middle': 'ADJ'}, {\"'\": 'PUNCT'}, {',': 'PUNCT'}, {'\"': 'PUNCT'}, {',': 'PUNCT'}, {'\"': 'PUNCT'}, {\"'\": 'PUNCT'}, {'value': 'NOUN'}, {\"'\": 'PUNCT'}, {',': 'PUNCT'}, {'\"': 'PUNCT'}, {',': 'PUNCT'}, {'\"': 'PUNCT'}, {\"'\": 'PUNCT'}, {'of': 'ADP'}, {\"'\": 'NUM'}, {',': 'PUNCT'}, {'\"': 'PUNCT'}, {',': 'PUNCT'}, {'\"': 'PUNCT'}, {\"'\": 'PUNCT'}, {'Sepal': 'NOUN'}, {\"'\": 'PUNCT'}, {',': 'PUNCT'}, {'\"': 'PUNCT'}, {',': 'PUNCT'}, {'\"': 'PUNCT'}, {\"'\": 'PUNCT'}, {'Widths': 'NOUN'}, {\"'\": 'PUNCT'}, {']': 'PUNCT'}, {'\"': 'PUNCT'}, {']': 'PUNCT'}, {'[': 'X'}, {'\"': 'PUNCT'}, {'[': 'X'}, {\"'\": 'X'}, {'How': 'SCONJ'}, {\"'\": 'NUM'}, {',': 'PUNCT'}, {'\"': 'PUNCT'}, {',': 'PUNCT'}, {'\"': 'PUNCT'}, {\"'\": 'PUNCT'}, {'many': 'ADJ'}, {\"'\": 'PUNCT'}, {',': 'PUNCT'}, {'\"': 'PUNCT'}, {',': 'PUNCT'}, {'\"': 'PUNCT'}, {\"'\": 'PUNCT'}, {'data': 'NOUN'}, {\"'\": 'PUNCT'}, {',': 'PUNCT'}, {'\"': 'PUNCT'}, {',': 'PUNCT'}, {'\"': 'PUNCT'}, {\"'\": 'PUNCT'}, {'points': 'NOUN'}, {\"'\": 'PUNCT'}, {',': 'PUNCT'}, {'\"': 'PUNCT'}, {',': 'PUNCT'}, {'\"': 'PUNCT'}, {\"'\": 'PUNCT'}, {'are': 'AUX'}, {\"'\": 'NUM'}, {',': 'PUNCT'}, {'\"': 'PUNCT'}, {',': 'PUNCT'}, {'\"': 'PUNCT'}, {\"'\": 'PUNCT'}, {'there': 'PRON'}, {\"'\": 'NUM'}, {',': 'PUNCT'}, {'\"': 'PUNCT'}, {',': 'PUNCT'}, {'\"': 'PUNCT'}, {\"'\": 'PUNCT'}, {'?': 'PUNCT'}, {\"'\": 'PUNCT'}, {']': 'PUNCT'}, {'\"': 'PUNCT'}, {']': 'PUNCT'}, {'[': 'X'}, {'\"': 'PUNCT'}, {'[': 'X'}, {\"'\": 'X'}, {'Number': 'NOUN'}, {\"'\": 'PUNCT'}, {',': 'PUNCT'}, {'\"': 'PUNCT'}, {',': 'PUNCT'}, {'\"': 'PUNCT'}, {\"'\": 'PUNCT'}, {'of': 'ADP'}, {\"'\": 'NUM'}, {',': 'PUNCT'}, {'\"': 'PUNCT'}, {',': 'PUNCT'}, {'\"': 'PUNCT'}, {\"'\": 'PUNCT'}, {'unique': 'ADJ'}, {\"'\": 'PUNCT'}, {',': 'PUNCT'}, {'\"': 'PUNCT'}, {',': 'PUNCT'}, {'\"': 'PUNCT'}, {\"'\": 'PUNCT'}, {'flower': 'NOUN'}, {\"'\": 'PUNCT'}, {',': 'PUNCT'}, {'\"': 'PUNCT'}, {',': 'PUNCT'}, {'\"': 'PUNCT'}, {\"'\": 'PUNCT'}, {'types': 'NOUN'}, {\"'\": 'PUNCT'}, {']': 'PUNCT'}, {'\"': 'PUNCT'}, {']': 'PUNCT'}, {'[': 'X'}, {'\"': 'PUNCT'}, {'[': 'X'}, {\"'\": 'PUNCT'}, {'Lowest': 'ADJ'}, {\"'\": 'NUM'}, {',': 'PUNCT'}, {'\"': 'PUNCT'}, {',': 'PUNCT'}, {'\"': 'PUNCT'}, {\"'\": 'PUNCT'}, {'Sepal': 'NOUN'}, {\"'\": 'PUNCT'}, {',': 'PUNCT'}, {'\"': 'PUNCT'}, {',': 'PUNCT'}, {'\"': 'PUNCT'}, {\"'\": 'PUNCT'}, {'Length': 'PROPN'}, {\"'\": 'PUNCT'}, {',': 'PUNCT'}, {'\"': 'PUNCT'}, {',': 'PUNCT'}, {'\"': 'PUNCT'}, {\"'\": 'PUNCT'}, {'recorded': 'VERB'}, {\"'\": 'PUNCT'}, {']': 'PUNCT'}, {'\"': 'PUNCT'}, {']': 'PUNCT'}, {'[': 'X'}, {'\"': 'PUNCT'}, {'[': 'X'}, {\"'\": 'X'}, {'Highest': 'ADJ'}, {\"'\": 'NUM'}, {',': 'PUNCT'}, {'\"': 'PUNCT'}, {',': 'PUNCT'}, {'\"': 'PUNCT'}, {\"'\": 'PUNCT'}, {'value': 'NOUN'}, {\"'\": 'PUNCT'}, {',': 'PUNCT'}, {'\"': 'PUNCT'}, {',': 'PUNCT'}, {'\"': 'PUNCT'}, {\"'\": 'PUNCT'}, {'of': 'ADP'}, {\"'\": 'NUM'}, {',': 'PUNCT'}, {'\"': 'PUNCT'}, {',': 'PUNCT'}, {'\"': 'PUNCT'}, {\"'\": 'PUNCT'}, {'Petal': 'ADJ'}, {\"'\": 'PUNCT'}, {',': 'PUNCT'}, {'\"': 'PUNCT'}, {',': 'PUNCT'}, {'\"': 'PUNCT'}, {\"'\": 'PUNCT'}, {'Width': 'PROPN'}, {\"'\": 'PUNCT'}, {',': 'PUNCT'}, {'\"': 'PUNCT'}, {',': 'PUNCT'}, {'\"': 'PUNCT'}, {\"'\": 'PUNCT'}, {'found': 'VERB'}, {\"'\": 'PUNCT'}, {']': 'PUNCT'}, {'\"': 'PUNCT'}, {']': 'PUNCT'}, {'[': 'X'}, {'\"': 'PUNCT'}, {'[': 'X'}, {\"'\": 'PUNCT'}, {'Organize': 'VERB'}, {\"'\": 'PUNCT'}, {',': 'PUNCT'}, {'\"': 'PUNCT'}, {',': 'PUNCT'}, {'\"': 'PUNCT'}, {\"'\": 'PUNCT'}, {'data': 'NOUN'}, {\"'\": 'PUNCT'}, {',': 'PUNCT'}, {'\"': 'PUNCT'}, {',': 'PUNCT'}, {'\"': 'PUNCT'}, {\"'\": 'PUNCT'}, {'by': 'ADP'}, {\"'\": 'NUM'}, {',': 'PUNCT'}, {'\"': 'PUNCT'}, {',': 'PUNCT'}, {'\"': 'PUNCT'}, {\"'\": 'PUNCT'}, {'Species': 'NOUN'}, {\"'\": 'PUNCT'}, {',': 'PUNCT'}, {'\"': 'PUNCT'}, {',': 'PUNCT'}, {'\"': 'PUNCT'}, {\"'\": 'PUNCT'}, {'in': 'ADP'}, {\"'\": 'NUM'}, {',': 'PUNCT'}, {'\"': 'PUNCT'}, {',': 'PUNCT'}, {'\"': 'PUNCT'}, {\"'\": 'PUNCT'}, {'descending': 'VERB'}, {\"'\": 'PUNCT'}, {',': 'PUNCT'}, {'\"': 'PUNCT'}, {',': 'PUNCT'}, {'\"': 'PUNCT'}, {\"'\": 'PUNCT'}, {'order': 'NOUN'}, {\"'\": 'PUNCT'}, {']': 'PUNCT'}, {'\"': 'PUNCT'}, {']': 'PUNCT'}, {'[': 'X'}, {'\"': 'PUNCT'}, {'[': 'X'}, {\"'\": 'X'}, {'Rank': 'PROPN'}, {\"'\": 'PUNCT'}, {',': 'PUNCT'}, {'\"': 'PUNCT'}, {',': 'PUNCT'}, {'\"': 'PUNCT'}, {\"'\": 'PUNCT'}, {'Sepal': 'NOUN'}, {\"'\": 'PUNCT'}, {',': 'PUNCT'}, {'\"': 'PUNCT'}, {',': 'PUNCT'}, {'\"': 'PUNCT'}, {\"'\": 'PUNCT'}, {'Lengths': 'NOUN'}, {\"'\": 'NUM'}, {',': 'PUNCT'}, {'\"': 'PUNCT'}, {',': 'PUNCT'}, {'\"': 'PUNCT'}, {\"'\": 'PUNCT'}, {'from': 'ADP'}, {\"'\": 'NUM'}, {',': 'PUNCT'}, {'\"': 'PUNCT'}, {',': 'PUNCT'}, {'\"': 'PUNCT'}, {\"'\": 'PUNCT'}, {'low': 'ADJ'}, {\"'\": 'PUNCT'}, {',': 'PUNCT'}, {'\"': 'PUNCT'}, {',': 'PUNCT'}, {'\"': 'PUNCT'}, {\"'\": 'PUNCT'}, {'to': 'PART'}, {\"'\": 'NUM'}, {',': 'PUNCT'}, {'\"': 'PUNCT'}, {',': 'PUNCT'}, {'\"': 'PUNCT'}, {\"'\": 'PUNCT'}, {'high': 'ADJ'}, {\"'\": 'PUNCT'}, {']': 'PUNCT'}, {'\"': 'PUNCT'}, {']': 'PUNCT'}, {'[': 'X'}, {'\"': 'PUNCT'}, {'[': 'X'}, {\"'\": 'X'}, {'Filter': 'PROPN'}, {\"'\": 'NUM'}, {',': 'PUNCT'}, {'\"': 'PUNCT'}, {',': 'PUNCT'}, {'\"': 'PUNCT'}, {\"'\": 'PUNCT'}, {'for': 'ADP'}, {\"'\": 'NUM'}, {',': 'PUNCT'}, {'\"': 'PUNCT'}, {',': 'PUNCT'}, {'\"': 'PUNCT'}, {\"'\": 'PUNCT'}, {'Sepal': 'NOUN'}, {\"'\": 'PUNCT'}, {',': 'PUNCT'}, {'\"': 'PUNCT'}, {',': 'PUNCT'}, {'\"': 'PUNCT'}, {\"'\": 'PUNCT'}, {'Length': 'PROPN'}, {\"'\": 'PUNCT'}, {',': 'PUNCT'}, {'\"': 'PUNCT'}, {',': 'PUNCT'}, {'\"': 'PUNCT'}, {\"'\": 'PUNCT'}, {'greater': 'ADJ'}, {\"'\": 'PUNCT'}, {',': 'PUNCT'}, {'\"': 'PUNCT'}, {',': 'PUNCT'}, {'\"': 'PUNCT'}, {\"'\": 'PUNCT'}, {'than': 'ADP'}, {\"'\": 'PROPN'}, {',': 'PUNCT'}, {'\"': 'PUNCT'}, {',': 'PUNCT'}, {'\"': 'PUNCT'}, {\"'\": 'PUNCT'}, {'or': 'CCONJ'}, {\"'\": 'NUM'}, {',': 'PUNCT'}, {'\"': 'PUNCT'}, {',': 'PUNCT'}, {'\"': 'PUNCT'}, {\"'\": 'PUNCT'}, {'equal': 'ADJ'}, {\"'\": 'PUNCT'}, {',': 'PUNCT'}, {'\"': 'PUNCT'}, {',': 'PUNCT'}, {'\"': 'PUNCT'}, {\"'\": 'PUNCT'}, {'to': 'PART'}, {\"'\": 'NUM'}, {',': 'PUNCT'}, {'\"': 'PUNCT'}, {',': 'PUNCT'}, {'\"': 'PUNCT'}, {\"'\": 'PROPN'}, {'4': 'NUM'}, {\"'\": 'NUM'}, {',': 'PUNCT'}, {'\"': 'PUNCT'}, {',': 'PUNCT'}, {'\"': 'PUNCT'}, {\"'\": 'PUNCT'}, {'.': 'PUNCT'}, {\"'\": 'PUNCT'}, {',': 'PUNCT'}, {'\"': 'PUNCT'}, {',': 'PUNCT'}, {'\"': 'PUNCT'}, {\"'\": 'PROPN'}, {'5': 'NUM'}, {\"'\": 'NUM'}, {']': 'PUNCT'}, {'\"': 'PUNCT'}, {']': 'PUNCT'}, {'[': 'X'}, {'\"': 'PUNCT'}, {'[': 'X'}, {\"'\": 'PUNCT'}, {'Select': 'ADJ'}, {\"'\": 'PUNCT'}, {',': 'PUNCT'}, {'\"': 'PUNCT'}, {',': 'PUNCT'}, {'\"': 'PUNCT'}, {\"'\": 'PUNCT'}, {'entries': 'NOUN'}, {\"'\": 'PUNCT'}, {',': 'PUNCT'}, {'\"': 'PUNCT'}, {',': 'PUNCT'}, {'\"': 'PUNCT'}, {\"'\": 'PUNCT'}, {'with': 'ADP'}, {\"'\": 'PROPN'}, {',': 'PUNCT'}, {'\"': 'PUNCT'}, {',': 'PUNCT'}, {'\"': 'PUNCT'}, {\"'\": 'PUNCT'}, {'Petal': 'ADJ'}, {\"'\": 'PUNCT'}, {',': 'PUNCT'}, {'\"': 'PUNCT'}, {',': 'PUNCT'}, {'\"': 'PUNCT'}, {\"'\": 'PUNCT'}, {'Width': 'PROPN'}, {\"'\": 'PUNCT'}, {',': 'PUNCT'}, {'\"': 'PUNCT'}, {',': 'PUNCT'}, {'\"': 'PUNCT'}, {\"'\": 'PUNCT'}, {'less': 'ADJ'}, {\"'\": 'PUNCT'}, {',': 'PUNCT'}, {'\"': 'PUNCT'}, {',': 'PUNCT'}, {'\"': 'PUNCT'}, {\"'\": 'PUNCT'}, {'than': 'ADP'}, {\"'\": 'PROPN'}, {',': 'PUNCT'}, {'\"': 'PUNCT'}, {',': 'PUNCT'}, {'\"': 'PUNCT'}, {\"'\": 'PROPN'}, {'2': 'X'}, {\"'\": 'NUM'}, {',': 'PUNCT'}, {'\"': 'PUNCT'}, {',': 'PUNCT'}, {'\"': 'PUNCT'}, {\"'\": 'PUNCT'}, {'.': 'PUNCT'}, {\"'\": 'PUNCT'}, {',': 'PUNCT'}, {'\"': 'PUNCT'}, {',': 'PUNCT'}, {'\"': 'PUNCT'}, {\"'\": 'PUNCT'}, {'0': 'X'}, {\"'\": 'PUNCT'}, {']': 'PUNCT'}, {'\"': 'PUNCT'}, {']': 'PUNCT'}, {'[': 'X'}, {'\"': 'PUNCT'}, {'[': 'X'}, {\"'\": 'PUNCT'}, {'Show': 'VERB'}, {\"'\": 'PUNCT'}, {',': 'PUNCT'}, {'\"': 'PUNCT'}, {',': 'PUNCT'}, {'\"': 'PUNCT'}, {\"'\": 'PUNCT'}, {'entries': 'NOUN'}, {\"'\": 'PUNCT'}, {',': 'PUNCT'}, {'\"': 'PUNCT'}, {',': 'PUNCT'}, {'\"': 'PUNCT'}, {\"'\": 'PUNCT'}, {'where': 'SCONJ'}, {\"'\": 'NUM'}, {',': 'PUNCT'}, {'\"': 'PUNCT'}, {',': 'PUNCT'}, {'\"': 'PUNCT'}, {\"'\": 'PUNCT'}, {'Sepal': 'NOUN'}, {\"'\": 'PUNCT'}, {',': 'PUNCT'}, {'\"': 'PUNCT'}, {',': 'PUNCT'}, {'\"': 'PUNCT'}, {\"'\": 'PUNCT'}, {'Width': 'PROPN'}, {\"'\": 'PUNCT'}, {',': 'PUNCT'}, {'\"': 'PUNCT'}, {',': 'PUNCT'}, {'\"': 'PUNCT'}, {\"'\": 'PUNCT'}, {'is': 'AUX'}, {\"'\": 'PUNCT'}, {',': 'PUNCT'}, {'\"': 'PUNCT'}, {',': 'PUNCT'}, {'\"': 'PUNCT'}, {\"'\": 'PUNCT'}, {'not': 'PART'}, {\"'\": 'NUM'}, {',': 'PUNCT'}, {'\"': 'PUNCT'}, {',': 'PUNCT'}, {'\"': 'PUNCT'}, {\"'\": 'PROPN'}, {'3': 'NUM'}, {\"'\": 'NUM'}, {',': 'PUNCT'}, {'\"': 'PUNCT'}, {',': 'PUNCT'}, {'\"': 'PUNCT'}, {\"'\": 'PUNCT'}, {'.': 'PUNCT'}, {\"'\": 'PUNCT'}, {',': 'PUNCT'}, {'\"': 'PUNCT'}, {',': 'PUNCT'}, {'\"': 'PUNCT'}, {\"'\": 'PUNCT'}, {'0': 'X'}, {\"'\": 'PUNCT'}, {']': 'PUNCT'}, {'\"': 'PUNCT'}, {']': 'PUNCT'}, {'[': 'X'}, {'\"': 'PUNCT'}, {'[': 'X'}, {\"'\": 'PUNCT'}, {'List': 'NOUN'}, {\"'\": 'PUNCT'}, {',': 'PUNCT'}, {'\"': 'PUNCT'}, {',': 'PUNCT'}, {'\"': 'PUNCT'}, {\"'\": 'PUNCT'}, {'all': 'PRON'}, {\"'\": 'PROPN'}, {',': 'PUNCT'}, {'\"': 'PUNCT'}, {',': 'PUNCT'}, {'\"': 'PUNCT'}, {\"'\": 'PUNCT'}, {'where': 'SCONJ'}, {\"'\": 'NUM'}, {',': 'PUNCT'}, {'\"': 'PUNCT'}, {',': 'PUNCT'}, {'\"': 'PUNCT'}, {\"'\": 'PUNCT'}, {'the': 'DET'}, {\"'\": 'PUNCT'}, {',': 'PUNCT'}, {'\"': 'PUNCT'}, {',': 'PUNCT'}, {'\"': 'PUNCT'}, {\"'\": 'PUNCT'}, {'Species': 'NOUN'}, {\"'\": 'PUNCT'}, {',': 'PUNCT'}, {'\"': 'PUNCT'}, {',': 'PUNCT'}, {'\"': 'PUNCT'}, {\"'\": 'PUNCT'}, {'name': 'NOUN'}, {\"'\": 'PUNCT'}, {',': 'PUNCT'}, {'\"': 'PUNCT'}, {',': 'PUNCT'}, {'\"': 'PUNCT'}, {\"'\": 'PUNCT'}, {'ends': 'VERB'}, {\"'\": 'PUNCT'}, {',': 'PUNCT'}, {'\"': 'PUNCT'}, {',': 'PUNCT'}, {'\"': 'PUNCT'}, {\"'\": 'PUNCT'}, {'with': 'ADP'}, {\"'\": 'PROPN'}, {',': 'PUNCT'}, {'\"': 'PUNCT'}, {',': 'PUNCT'}, {\"'\": 'PUNCT'}, {'\"': 'PUNCT'}, {'\\\\': 'PROPN'}, {\"'\": 'PUNCT'}, {'\"': 'PUNCT'}, {',': 'PUNCT'}, {\"'\": 'PUNCT'}, {',': 'PUNCT'}, {'\"': 'PUNCT'}, {\"'\": 'PUNCT'}, {'ica': 'VERB'}, {\"'\": 'PUNCT'}, {',': 'PUNCT'}, {'\"': 'PUNCT'}, {',': 'PUNCT'}, {\"'\": 'PUNCT'}, {'\"': 'PUNCT'}, {'\\\\': 'PROPN'}, {\"'\": 'PUNCT'}, {'\"': 'PUNCT'}, {']': 'PUNCT'}, {\"'\": 'X'}, {']': 'PUNCT'}, {'[': 'X'}, {'\"': 'PUNCT'}, {'[': 'X'}, {\"'\": 'X'}, {'Entries': 'NOUN'}, {\"'\": 'PUNCT'}, {',': 'PUNCT'}, {'\"': 'PUNCT'}, {',': 'PUNCT'}, {'\"': 'PUNCT'}, {\"'\": 'PUNCT'}, {'with': 'ADP'}, {\"'\": 'PROPN'}, {',': 'PUNCT'}, {'\"': 'PUNCT'}, {',': 'PUNCT'}, {'\"': 'PUNCT'}, {\"'\": 'PUNCT'}, {'a': 'PRON'}, {\"'\": 'PUNCT'}, {',': 'PUNCT'}, {'\"': 'PUNCT'}, {',': 'PUNCT'}, {'\"': 'PUNCT'}, {\"'\": 'PUNCT'}, {'Sepal': 'NOUN'}, {\"'\": 'PUNCT'}, {',': 'PUNCT'}, {'\"': 'PUNCT'}, {',': 'PUNCT'}, {'\"': 'PUNCT'}, {\"'\": 'PUNCT'}, {'Length': 'PROPN'}, {\"'\": 'PUNCT'}, {',': 'PUNCT'}, {'\"': 'PUNCT'}, {',': 'PUNCT'}, {'\"': 'PUNCT'}, {\"'\": 'PUNCT'}, {'of': 'ADP'}, {\"'\": 'NUM'}, {',': 'PUNCT'}, {'\"': 'PUNCT'}, {',': 'PUNCT'}, {'\"': 'PUNCT'}, {\"'\": 'PUNCT'}, {'exactly': 'ADV'}, {\"'\": 'NUM'}, {',': 'PUNCT'}, {'\"': 'PUNCT'}, {',': 'PUNCT'}, {'\"': 'PUNCT'}, {\"'\": 'PROPN'}, {'5': 'NUM'}, {\"'\": 'NUM'}, {',': 'PUNCT'}, {'\"': 'PUNCT'}, {',': 'PUNCT'}, {'\"': 'PUNCT'}, {\"'\": 'PUNCT'}, {'.': 'PUNCT'}, {\"'\": 'PUNCT'}, {',': 'PUNCT'}, {'\"': 'PUNCT'}, {',': 'PUNCT'}, {'\"': 'PUNCT'}, {\"'\": 'PUNCT'}, {'0': 'X'}, {\"'\": 'PUNCT'}, {']': 'PUNCT'}, {'\"': 'PUNCT'}, {']': 'PUNCT'}, {'[': 'X'}, {'\"': 'PUNCT'}, {'[': 'X'}, {\"'\": 'PUNCT'}, {'Display': 'NOUN'}, {\"'\": 'PUNCT'}, {',': 'PUNCT'}, {'\"': 'PUNCT'}, {',': 'PUNCT'}, {'\"': 'PUNCT'}, {\"'\": 'PUNCT'}, {'the': 'DET'}, {\"'\": 'PUNCT'}, {',': 'PUNCT'}, {'\"': 'PUNCT'}, {',': 'PUNCT'}, {'\"': 'PUNCT'}, {\"'\": 'PUNCT'}, {'top': 'VERB'}, {\"'\": 'PUNCT'}, {',': 'PUNCT'}, {'\"': 'PUNCT'}, {',': 'PUNCT'}, {'\"': 'PUNCT'}, {\"'\": 'PROPN'}, {'5': 'NUM'}, {\"'\": 'NUM'}, {',': 'PUNCT'}, {'\"': 'PUNCT'}, {',': 'PUNCT'}, {'\"': 'PUNCT'}, {\"'\": 'PUNCT'}, {'Species': 'NOUN'}, {\"'\": 'PUNCT'}, {',': 'PUNCT'}, {'\"': 'PUNCT'}, {',': 'PUNCT'}, {'\"': 'PUNCT'}, {\"'\": 'PUNCT'}, {'by': 'ADP'}, {\"'\": 'NUM'}, {',': 'PUNCT'}, {'\"': 'PUNCT'}, {',': 'PUNCT'}, {'\"': 'PUNCT'}, {\"'\": 'PUNCT'}, {'Sepal': 'NOUN'}, {\"'\": 'PUNCT'}, {',': 'PUNCT'}, {'\"': 'PUNCT'}, {',': 'PUNCT'}, {'\"': 'PUNCT'}, {\"'\": 'PUNCT'}, {'Width': 'PROPN'}, {\"'\": 'PUNCT'}, {']': 'PUNCT'}, {'\"': 'PUNCT'}, {']': 'PUNCT'}, {'[': 'X'}, {'\"': 'PUNCT'}, {'[': 'X'}, {\"'\": 'VERB'}, {'Find': 'VERB'}, {\"'\": 'PUNCT'}, {',': 'PUNCT'}, {'\"': 'PUNCT'}, {',': 'PUNCT'}, {'\"': 'PUNCT'}, {\"'\": 'PUNCT'}, {'the': 'DET'}, {\"'\": 'PUNCT'}, {',': 'PUNCT'}, {'\"': 'PUNCT'}, {',': 'PUNCT'}, {'\"': 'PUNCT'}, {\"'\": 'PROPN'}, {'3': 'NUM'}, {\"'\": 'NUM'}, {',': 'PUNCT'}, {'\"': 'PUNCT'}, {',': 'PUNCT'}, {'\"': 'PUNCT'}, {\"'\": 'PUNCT'}, {'smallest': 'ADJ'}, {\"'\": 'PUNCT'}, {',': 'PUNCT'}, {'\"': 'PUNCT'}, {',': 'PUNCT'}, {'\"': 'PUNCT'}, {\"'\": 'PUNCT'}, {'Petal': 'ADJ'}, {\"'\": 'PUNCT'}, {',': 'PUNCT'}, {'\"': 'PUNCT'}, {',': 'PUNCT'}, {'\"': 'PUNCT'}, {\"'\": 'PUNCT'}, {'Lengths': 'NOUN'}, {\"'\": 'NUM'}, {']': 'PUNCT'}, {'\"': 'PUNCT'}, {']': 'PUNCT'}, {'[': 'X'}, {'\"': 'PUNCT'}, {'[': 'X'}, {\"'\": 'X'}, {'Count': 'PROPN'}, {\"'\": 'PUNCT'}, {',': 'PUNCT'}, {'\"': 'PUNCT'}, {',': 'PUNCT'}, {'\"': 'PUNCT'}, {\"'\": 'PUNCT'}, {'occurrences': 'NOUN'}, {\"'\": 'PUNCT'}, {',': 'PUNCT'}, {'\"': 'PUNCT'}, {',': 'PUNCT'}, {'\"': 'PUNCT'}, {\"'\": 'PUNCT'}, {'where': 'SCONJ'}, {\"'\": 'NUM'}, {',': 'PUNCT'}, {'\"': 'PUNCT'}, {',': 'PUNCT'}, {'\"': 'PUNCT'}, {\"'\": 'PUNCT'}, {'Petal': 'ADJ'}, {\"'\": 'PUNCT'}, {',': 'PUNCT'}, {'\"': 'PUNCT'}, {',': 'PUNCT'}, {'\"': 'PUNCT'}, {\"'\": 'PUNCT'}, {'Length': 'PROPN'}, {\"'\": 'PUNCT'}, {',': 'PUNCT'}, {'\"': 'PUNCT'}, {',': 'PUNCT'}, {'\"': 'PUNCT'}, {\"'\": 'PUNCT'}, {'is': 'AUX'}, {\"'\": 'PUNCT'}, {',': 'PUNCT'}, {'\"': 'PUNCT'}, {',': 'PUNCT'}, {'\"': 'PUNCT'}, {\"'\": 'PUNCT'}, {'between': 'ADP'}, {\"'\": 'PUNCT'}, {',': 'PUNCT'}, {'\"': 'PUNCT'}, {',': 'PUNCT'}, {'\"': 'PUNCT'}, {\"'\": 'PROPN'}, {'4': 'NUM'}, {\"'\": 'NUM'}, {',': 'PUNCT'}, {'\"': 'PUNCT'}, {',': 'PUNCT'}, {'\"': 'PUNCT'}, {\"'\": 'PUNCT'}, {'and': 'CCONJ'}, {\"'\": 'NUM'}, {',': 'PUNCT'}, {'\"': 'PUNCT'}, {',': 'PUNCT'}, {'\"': 'PUNCT'}, {\"'\": 'PROPN'}, {'5': 'NUM'}, {\"'\": 'NUM'}, {']': 'PUNCT'}, {'\"': 'PUNCT'}, {']': 'PUNCT'}, {'[': 'X'}, {'\"': 'PUNCT'}, {'[': 'X'}, {\"'\": 'PUNCT'}, {'Aggregate': 'VERB'}, {\"'\": 'PUNCT'}, {',': 'PUNCT'}, {'\"': 'PUNCT'}, {',': 'PUNCT'}, {'\"': 'PUNCT'}, {\"'\": 'PUNCT'}, {'data': 'NOUN'}, {\"'\": 'PUNCT'}, {',': 'PUNCT'}, {'\"': 'PUNCT'}, {',': 'PUNCT'}, {'\"': 'PUNCT'}, {\"'\": 'PUNCT'}, {'by': 'ADP'}, {\"'\": 'NUM'}, {',': 'PUNCT'}, {'\"': 'PUNCT'}, {',': 'PUNCT'}, {'\"': 'PUNCT'}, {\"'\": 'PUNCT'}, {'the': 'DET'}, {\"'\": 'PUNCT'}, {',': 'PUNCT'}, {'\"': 'PUNCT'}, {',': 'PUNCT'}, {'\"': 'PUNCT'}, {\"'\": 'PUNCT'}, {'month': 'NOUN'}, {\"'\": 'PUNCT'}, {',': 'PUNCT'}, {'\"': 'PUNCT'}, {',': 'PUNCT'}, {'\"': 'PUNCT'}, {\"'\": 'PUNCT'}, {'of': 'ADP'}, {\"'\": 'NUM'}, {',': 'PUNCT'}, {'\"': 'PUNCT'}, {',': 'PUNCT'}, {'\"': 'PUNCT'}, {\"'\": 'PUNCT'}, {'observation': 'NOUN'}, {\"'\": 'PUNCT'}, {',': 'PUNCT'}, {'\"': 'PUNCT'}, {',': 'PUNCT'}, {'\"': 'PUNCT'}, {\"'\": 'PUNCT'}, {'(': 'PUNCT'}, {\"'\": 'PUNCT'}, {',': 'PUNCT'}, {'\"': 'PUNCT'}, {',': 'PUNCT'}, {'\"': 'PUNCT'}, {\"'\": 'PUNCT'}, {'assuming': 'VERB'}, {\"'\": 'PUNCT'}, {',': 'PUNCT'}, {'\"': 'PUNCT'}, {',': 'PUNCT'}, {'\"': 'PUNCT'}, {\"'\": 'PUNCT'}, {'there': 'PRON'}, {\"'\": 'NUM'}, {',': 'PUNCT'}, {'\"': 'PUNCT'}, {',': 'PUNCT'}, {\"'\": 'PUNCT'}, {'\"': 'PUNCT'}, {'\\\\': 'PROPN'}, {\"'\": 'PUNCT'}, {'\"': 'PUNCT'}, {',': 'PUNCT'}, {\"'\": 'PUNCT'}, {',': 'PUNCT'}, {'\"': 'PUNCT'}, {\"'s\": 'AUX'}, {\"'\": 'NUM'}, {',': 'PUNCT'}, {'\"': 'PUNCT'}, {',': 'PUNCT'}, {'\"': 'PUNCT'}, {\"'\": 'PUNCT'}, {'a': 'PRON'}, {\"'\": 'PUNCT'}, {',': 'PUNCT'}, {'\"': 'PUNCT'}, {',': 'PUNCT'}, {'\"': 'PUNCT'}, {\"'\": 'PUNCT'}, {'Date': 'VERB'}, {\"'\": 'PUNCT'}, {',': 'PUNCT'}, {'\"': 'PUNCT'}, {',': 'PUNCT'}, {'\"': 'PUNCT'}, {\"'\": 'PUNCT'}, {'field': 'NOUN'}, {\"'\": 'PUNCT'}, {',': 'PUNCT'}, {'\"': 'PUNCT'}, {',': 'PUNCT'}, {'\"': 'PUNCT'}, {\"'\": 'PUNCT'}, {')': 'PUNCT'}, {\"'\": 'PUNCT'}, {']': 'PUNCT'}, {'\"': 'PUNCT'}, {']': 'PUNCT'}, {'[': 'X'}, {'\"': 'PUNCT'}, {'[': 'X'}, {\"'\": 'X'}, {'Filter': 'PROPN'}, {\"'\": 'NUM'}, {',': 'PUNCT'}, {'\"': 'PUNCT'}, {',': 'PUNCT'}, {'\"': 'PUNCT'}, {\"'\": 'PUNCT'}, {'records': 'NOUN'}, {\"'\": 'PART'}, {',': 'PUNCT'}, {'\"': 'PUNCT'}, {',': 'PUNCT'}, {'\"': 'PUNCT'}, {\"'\": 'PUNCT'}, {'from': 'ADP'}, {\"'\": 'NUM'}, {',': 'PUNCT'}, {'\"': 'PUNCT'}, {',': 'PUNCT'}, {'\"': 'PUNCT'}, {\"'\": 'PUNCT'}, {'last': 'ADJ'}, {\"'\": 'PUNCT'}, {',': 'PUNCT'}, {'\"': 'PUNCT'}, {',': 'PUNCT'}, {'\"': 'PUNCT'}, {\"'\": 'PUNCT'}, {'year': 'NOUN'}, {\"'\": 'PUNCT'}, {',': 'PUNCT'}, {'\"': 'PUNCT'}, {',': 'PUNCT'}, {'\"': 'PUNCT'}, {\"'\": 'PUNCT'}, {'(': 'PUNCT'}, {\"'\": 'PUNCT'}, {',': 'PUNCT'}, {'\"': 'PUNCT'}, {',': 'PUNCT'}, {'\"': 'PUNCT'}, {\"'\": 'PUNCT'}, {'assuming': 'VERB'}, {\"'\": 'PUNCT'}, {',': 'PUNCT'}, {'\"': 'PUNCT'}, {',': 'PUNCT'}, {'\"': 'PUNCT'}, {\"'\": 'PUNCT'}, {'there': 'PRON'}, {\"'\": 'NUM'}, {',': 'PUNCT'}, {'\"': 'PUNCT'}, {',': 'PUNCT'}, {\"'\": 'PUNCT'}, {'\"': 'PUNCT'}, {'\\\\': 'PROPN'}, {\"'\": 'PUNCT'}, {'\"': 'PUNCT'}, {',': 'PUNCT'}, {\"'\": 'PUNCT'}, {',': 'PUNCT'}, {'\"': 'PUNCT'}, {\"'s\": 'AUX'}, {\"'\": 'NUM'}, {',': 'PUNCT'}, {'\"': 'PUNCT'}, {',': 'PUNCT'}, {'\"': 'PUNCT'}, {\"'\": 'PUNCT'}, {'a': 'PRON'}, {\"'\": 'PUNCT'}, {',': 'PUNCT'}, {'\"': 'PUNCT'}, {',': 'PUNCT'}, {'\"': 'PUNCT'}, {\"'\": 'PUNCT'}, {'Date': 'VERB'}, {\"'\": 'PUNCT'}, {',': 'PUNCT'}, {'\"': 'PUNCT'}, {',': 'PUNCT'}, {'\"': 'PUNCT'}, {\"'\": 'PUNCT'}, {'field': 'NOUN'}, {\"'\": 'PUNCT'}, {',': 'PUNCT'}, {'\"': 'PUNCT'}, {',': 'PUNCT'}, {'\"': 'PUNCT'}, {\"'\": 'PUNCT'}, {')': 'PUNCT'}, {\"'\": 'PUNCT'}, {']': 'PUNCT'}, {'\"': 'PUNCT'}, {']': 'PUNCT'}, {'[': 'X'}, {'\"': 'PUNCT'}, {'[': 'X'}, {\"'\": 'PUNCT'}, {'Show': 'VERB'}, {\"'\": 'PUNCT'}, {',': 'PUNCT'}, {'\"': 'PUNCT'}, {',': 'PUNCT'}, {'\"': 'PUNCT'}, {\"'\": 'PUNCT'}, {'only': 'ADV'}, {\"'\": 'NUM'}, {',': 'PUNCT'}, {'\"': 'PUNCT'}, {',': 'PUNCT'}, {'\"': 'PUNCT'}, {\"'\": 'PUNCT'}, {'the': 'PRON'}, {\"'\": 'PUNCT'}, {',': 'PUNCT'}, {'\"': 'PUNCT'}, {',': 'PUNCT'}, {'\"': 'PUNCT'}, {\"'\": 'PUNCT'}, {'data': 'NOUN'}, {\"'\": 'PUNCT'}, {',': 'PUNCT'}, {'\"': 'PUNCT'}, {',': 'PUNCT'}, {'\"': 'PUNCT'}, {\"'\": 'PUNCT'}, {'starting': 'VERB'}, {\"'\": 'PUNCT'}, {',': 'PUNCT'}, {'\"': 'PUNCT'}, {',': 'PUNCT'}, {'\"': 'PUNCT'}, {\"'\": 'PUNCT'}, {'from': 'ADP'}, {\"'\": 'NUM'}, {',': 'PUNCT'}, {'\"': 'PUNCT'}, {',': 'PUNCT'}, {'\"': 'PUNCT'}, {\"'\": 'PUNCT'}, {'January': 'PROPN'}, {\"'\": 'NUM'}, {',': 'PUNCT'}, {'\"': 'PUNCT'}, {',': 'PUNCT'}, {'\"': 'PUNCT'}, {\"'\": 'PUNCT'}, {'this': 'PRON'}, {\"'\": 'PUNCT'}, {',': 'PUNCT'}, {'\"': 'PUNCT'}, {',': 'PUNCT'}, {'\"': 'PUNCT'}, {\"'\": 'PUNCT'}, {'year': 'NOUN'}, {\"'\": 'PUNCT'}, {']': 'PUNCT'}, {'\"': 'PUNCT'}, {']': 'PUNCT'}, {'[': 'X'}, {'\"': 'PUNCT'}, {'[': 'X'}, {\"'\": 'VERB'}, {'Find': 'VERB'}, {\"'\": 'PUNCT'}, {',': 'PUNCT'}, {'\"': 'PUNCT'}, {',': 'PUNCT'}, {'\"': 'PUNCT'}, {\"'\": 'PUNCT'}, {'the': 'DET'}, {\"'\": 'PUNCT'}, {',': 'PUNCT'}, {'\"': 'PUNCT'}, {',': 'PUNCT'}, {'\"': 'PUNCT'}, {\"'\": 'PUNCT'}, {'average': 'ADJ'}, {\"'\": 'PUNCT'}, {',': 'PUNCT'}, {'\"': 'PUNCT'}, {',': 'PUNCT'}, {'\"': 'PUNCT'}, {\"'\": 'PUNCT'}, {'Sepal': 'NOUN'}, {\"'\": 'PUNCT'}, {',': 'PUNCT'}, {'\"': 'PUNCT'}, {',': 'PUNCT'}, {'\"': 'PUNCT'}, {\"'\": 'PUNCT'}, {'Length': 'PROPN'}, {\"'\": 'PUNCT'}, {',': 'PUNCT'}, {'\"': 'PUNCT'}, {',': 'PUNCT'}, {'\"': 'PUNCT'}, {\"'\": 'PUNCT'}, {'for': 'ADP'}, {\"'\": 'NUM'}, {',': 'PUNCT'}, {'\"': 'PUNCT'}, {',': 'PUNCT'}, {'\"': 'PUNCT'}, {\"'\": 'PUNCT'}, {'each': 'PRON'}, {\"'\": 'PUNCT'}, {',': 'PUNCT'}, {'\"': 'PUNCT'}, {',': 'PUNCT'}, {'\"': 'PUNCT'}, {\"'\": 'PUNCT'}, {'Species': 'NOUN'}, {\"'\": 'PUNCT'}, {',': 'PUNCT'}, {'\"': 'PUNCT'}, {',': 'PUNCT'}, {'\"': 'PUNCT'}, {\"'\": 'PUNCT'}, {',': 'PUNCT'}, {\"'\": 'PUNCT'}, {',': 'PUNCT'}, {'\"': 'PUNCT'}, {',': 'PUNCT'}, {'\"': 'PUNCT'}, {\"'\": 'PUNCT'}, {'sorted': 'VERB'}, {\"'\": 'PUNCT'}, {',': 'PUNCT'}, {'\"': 'PUNCT'}, {',': 'PUNCT'}, {'\"': 'PUNCT'}, {\"'\": 'PUNCT'}, {'alphabetically': 'ADV'}, {\"'\": 'VERB'}, {']': 'X'}, {'\"': 'PUNCT'}, {']': 'PUNCT'}, {'[': 'X'}, {'\"': 'PUNCT'}, {'[': 'X'}, {\"'\": 'X'}, {'Count': 'PROPN'}, {\"'\": 'PUNCT'}, {',': 'PUNCT'}, {'\"': 'PUNCT'}, {',': 'PUNCT'}, {'\"': 'PUNCT'}, {\"'\": 'PUNCT'}, {'how': 'SCONJ'}, {\"'\": 'PROPN'}, {',': 'PUNCT'}, {'\"': 'PUNCT'}, {',': 'PUNCT'}, {'\"': 'PUNCT'}, {\"'\": 'PUNCT'}, {'many': 'ADJ'}, {\"'\": 'PUNCT'}, {',': 'PUNCT'}, {'\"': 'PUNCT'}, {',': 'PUNCT'}, {'\"': 'PUNCT'}, {\"'\": 'PUNCT'}, {'Species': 'NOUN'}, {\"'\": 'PUNCT'}, {',': 'PUNCT'}, {'\"': 'PUNCT'}, {',': 'PUNCT'}, {'\"': 'PUNCT'}, {\"'\": 'PUNCT'}, {'start': 'VERB'}, {\"'\": 'PUNCT'}, {',': 'PUNCT'}, {'\"': 'PUNCT'}, {',': 'PUNCT'}, {'\"': 'PUNCT'}, {\"'\": 'PUNCT'}, {'with': 'ADP'}, {\"'\": 'PROPN'}, {',': 'PUNCT'}, {'\"': 'PUNCT'}, {',': 'PUNCT'}, {\"'\": 'PUNCT'}, {'\"': 'PUNCT'}, {'\\\\': 'PROPN'}, {\"'\": 'PUNCT'}, {'\"': 'PUNCT'}, {',': 'PUNCT'}, {\"'\": 'PUNCT'}, {',': 'PUNCT'}, {'\"': 'PUNCT'}, {\"'\": 'PUNCT'}, {'C': 'NOUN'}, {\"'\": 'NUM'}, {',': 'PUNCT'}, {'\"': 'PUNCT'}, {',': 'PUNCT'}, {\"'\": 'PUNCT'}, {'\"': 'PUNCT'}, {'\\\\': 'PROPN'}, {\"'\": 'PUNCT'}, {'\"': 'PUNCT'}, {']': 'PUNCT'}, {\"'\": 'X'}, {']': 'PUNCT'}, {'[': 'X'}, {'\"': 'PUNCT'}, {'[': 'X'}, {\"'\": 'X'}, {'Entries': 'NOUN'}, {\"'\": 'PUNCT'}, {',': 'PUNCT'}, {'\"': 'PUNCT'}, {',': 'PUNCT'}, {'\"': 'PUNCT'}, {\"'\": 'PUNCT'}, {'with': 'ADP'}, {\"'\": 'PROPN'}, {',': 'PUNCT'}, {'\"': 'PUNCT'}, {',': 'PUNCT'}, {'\"': 'PUNCT'}, {\"'\": 'PUNCT'}, {'Petal': 'ADJ'}, {\"'\": 'PUNCT'}, {',': 'PUNCT'}, {'\"': 'PUNCT'}, {',': 'PUNCT'}, {'\"': 'PUNCT'}, {\"'\": 'PUNCT'}, {'Length': 'PROPN'}, {\"'\": 'PUNCT'}, {',': 'PUNCT'}, {'\"': 'PUNCT'}, {',': 'PUNCT'}, {'\"': 'PUNCT'}, {\"'\": 'PUNCT'}, {'and': 'CCONJ'}, {\"'\": 'NUM'}, {',': 'PUNCT'}, {'\"': 'PUNCT'}, {',': 'PUNCT'}, {'\"': 'PUNCT'}, {\"'\": 'PUNCT'}, {'Sepal': 'NOUN'}, {\"'\": 'PUNCT'}, {',': 'PUNCT'}, {'\"': 'PUNCT'}, {',': 'PUNCT'}, {'\"': 'PUNCT'}, {\"'\": 'PUNCT'}, {'Length': 'PROPN'}, {\"'\": 'PUNCT'}, {',': 'PUNCT'}, {'\"': 'PUNCT'}, {',': 'PUNCT'}, {'\"': 'PUNCT'}, {\"'\": 'PUNCT'}, {'both': 'PRON'}, {\"'\": 'PROPN'}, {',': 'PUNCT'}, {'\"': 'PUNCT'}, {',': 'PUNCT'}, {'\"': 'PUNCT'}, {\"'\": 'PUNCT'}, {'above': 'ADP'}, {\"'\": 'PUNCT'}, {',': 'PUNCT'}, {'\"': 'PUNCT'}, {',': 'PUNCT'}, {'\"': 'PUNCT'}, {\"'\": 'PROPN'}, {'4': 'NUM'}, {\"'\": 'NUM'}, {',': 'PUNCT'}, {'\"': 'PUNCT'}, {',': 'PUNCT'}, {'\"': 'PUNCT'}, {\"'\": 'PUNCT'}, {'.': 'PUNCT'}, {\"'\": 'PUNCT'}, {',': 'PUNCT'}, {'\"': 'PUNCT'}, {',': 'PUNCT'}, {'\"': 'PUNCT'}, {\"'\": 'PUNCT'}, {'0': 'X'}, {\"'\": 'PUNCT'}, {']': 'PUNCT'}, {'\"': 'PUNCT'}, {']': 'PUNCT'}, {'[': 'X'}, {'\"': 'PUNCT'}, {'[': 'X'}, {\"'\": 'PUNCT'}, {'List': 'NOUN'}, {\"'\": 'PUNCT'}, {',': 'PUNCT'}, {'\"': 'PUNCT'}, {',': 'PUNCT'}, {'\"': 'PUNCT'}, {\"'\": 'PUNCT'}, {'Species': 'NOUN'}, {\"'\": 'PUNCT'}, {',': 'PUNCT'}, {'\"': 'PUNCT'}, {',': 'PUNCT'}, {'\"': 'PUNCT'}, {\"'\": 'PUNCT'}, {'with': 'ADP'}, {\"'\": 'PROPN'}, {',': 'PUNCT'}, {'\"': 'PUNCT'}, {',': 'PUNCT'}, {'\"': 'PUNCT'}, {\"'\": 'PUNCT'}, {'Petal': 'ADJ'}, {\"'\": 'PUNCT'}, {',': 'PUNCT'}, {'\"': 'PUNCT'}, {',': 'PUNCT'}, {'\"': 'PUNCT'}, {\"'\": 'PUNCT'}, {'Width': 'PROPN'}, {\"'\": 'PUNCT'}, {',': 'PUNCT'}, {'\"': 'PUNCT'}, {',': 'PUNCT'}, {'\"': 'PUNCT'}, {\"'\": 'PUNCT'}, {'in': 'ADP'}, {\"'\": 'NUM'}, {',': 'PUNCT'}, {'\"': 'PUNCT'}, {',': 'PUNCT'}, {'\"': 'PUNCT'}, {\"'\": 'PUNCT'}, {'the': 'DET'}, {\"'\": 'PUNCT'}, {',': 'PUNCT'}, {'\"': 'PUNCT'}, {',': 'PUNCT'}, {'\"': 'PUNCT'}, {\"'\": 'PUNCT'}, {'top': 'VERB'}, {\"'\": 'PUNCT'}, {',': 'PUNCT'}, {'\"': 'PUNCT'}, {',': 'PUNCT'}, {'\"': 'PUNCT'}, {\"'\": 'PROPN'}, {'10': 'NUM'}, {\"'\": 'NUM'}, {',': 'PUNCT'}, {'\"': 'PUNCT'}, {',': 'PUNCT'}, {'\"': 'PUNCT'}, {\"'\": 'PUNCT'}, {'%': 'INTJ'}, {\"'\": 'PUNCT'}, {']': 'X'}, {'\"': 'PUNCT'}, {']': 'PUNCT'}, {'[': 'X'}, {'\"': 'PUNCT'}, {'[': 'X'}, {\"'\": 'PROPN'}, {'Total': 'ADJ'}, {\"'\": 'PUNCT'}, {',': 'PUNCT'}, {'\"': 'PUNCT'}, {',': 'PUNCT'}, {'\"': 'PUNCT'}, {\"'\": 'PUNCT'}, {'Sepal': 'NOUN'}, {\"'\": 'PUNCT'}, {',': 'PUNCT'}, {'\"': 'PUNCT'}, {',': 'PUNCT'}, {'\"': 'PUNCT'}, {\"'\": 'PUNCT'}, {'Length': 'PROPN'}, {\"'\": 'PUNCT'}, {',': 'PUNCT'}, {'\"': 'PUNCT'}, {',': 'PUNCT'}, {'\"': 'PUNCT'}, {\"'\": 'PUNCT'}, {'for': 'ADP'}, {\"'\": 'NUM'}, {',': 'PUNCT'}, {'\"': 'PUNCT'}, {',': 'PUNCT'}, {'\"': 'PUNCT'}, {\"'\": 'PUNCT'}, {'all': 'PRON'}, {\"'\": 'PROPN'}, {',': 'PUNCT'}, {'\"': 'PUNCT'}, {',': 'PUNCT'}, {'\"': 'PUNCT'}, {\"'\": 'PUNCT'}, {'Iris': 'PROPN'}, {\"'\": 'NUM'}, {',': 'PUNCT'}, {'\"': 'PUNCT'}, {',': 'PUNCT'}, {'\"': 'PUNCT'}, {\"'\": 'PUNCT'}, {'flowers': 'NOUN'}, {\"'\": 'VERB'}, {']': 'PUNCT'}, {'\"': 'PUNCT'}, {']': 'PUNCT'}, {'[': 'X'}, {'\"': 'PUNCT'}, {'[': 'X'}, {\"'\": 'PUNCT'}, {'Average': 'ADJ'}, {\"'\": 'PUNCT'}, {',': 'PUNCT'}, {'\"': 'PUNCT'}, {',': 'PUNCT'}, {'\"': 'PUNCT'}, {\"'\": 'PUNCT'}, {'Petal': 'ADJ'}, {\"'\": 'PUNCT'}, {',': 'PUNCT'}, {'\"': 'PUNCT'}, {',': 'PUNCT'}, {'\"': 'PUNCT'}, {\"'\": 'PUNCT'}, {'Width': 'PROPN'}, {\"'\": 'PUNCT'}, {',': 'PUNCT'}, {'\"': 'PUNCT'}, {',': 'PUNCT'}, {'\"': 'PUNCT'}, {\"'\": 'PUNCT'}, {'across': 'ADP'}, {\"'\": 'PUNCT'}, {',': 'PUNCT'}, {'\"': 'PUNCT'}, {',': 'PUNCT'}, {'\"': 'PUNCT'}, {\"'\": 'PUNCT'}, {'all': 'PRON'}, {\"'\": 'PROPN'}, {',': 'PUNCT'}, {'\"': 'PUNCT'}, {',': 'PUNCT'}, {'\"': 'PUNCT'}, {\"'\": 'PUNCT'}, {'species': 'NOUN'}, {\"'\": 'PUNCT'}, {']': 'PUNCT'}, {'\"': 'PUNCT'}, {']': 'PUNCT'}, {'[': 'X'}, {'\"': 'PUNCT'}, {'[': 'X'}, {\"'\": 'PUNCT'}, {'Median': 'PROPN'}, {\"'\": 'PROPN'}, {',': 'PUNCT'}, {'\"': 'PUNCT'}, {',': 'PUNCT'}, {'\"': 'PUNCT'}, {\"'\": 'PUNCT'}, {'Sepal': 'NOUN'}, {\"'\": 'PUNCT'}, {',': 'PUNCT'}, {'\"': 'PUNCT'}, {',': 'PUNCT'}, {'\"': 'PUNCT'}, {\"'\": 'PUNCT'}, {'Width': 'PROPN'}, {\"'\": 'PUNCT'}, {',': 'PUNCT'}, {'\"': 'PUNCT'}, {',': 'PUNCT'}, {'\"': 'PUNCT'}, {\"'\": 'PUNCT'}, {'for': 'ADP'}, {\"'\": 'NUM'}, {',': 'PUNCT'}, {'\"': 'PUNCT'}, {',': 'PUNCT'}, {'\"': 'PUNCT'}, {\"'\": 'PUNCT'}, {'Iris': 'PROPN'}, {\"'\": 'NUM'}, {',': 'PUNCT'}, {'\"': 'PUNCT'}, {',': 'PUNCT'}, {'\"': 'PUNCT'}, {\"'\": 'PUNCT'}, {'setosa': 'VERB'}, {\"'\": 'PUNCT'}, {']': 'PUNCT'}, {'\"': 'PUNCT'}, {']': 'PUNCT'}, {'[': 'X'}, {'\"': 'PUNCT'}, {'[': 'X'}, {\"'\": 'X'}, {'Count': 'PROPN'}, {\"'\": 'PUNCT'}, {',': 'PUNCT'}, {'\"': 'PUNCT'}, {',': 'PUNCT'}, {'\"': 'PUNCT'}, {\"'\": 'PUNCT'}, {'of': 'ADP'}, {\"'\": 'NUM'}, {',': 'PUNCT'}, {'\"': 'PUNCT'}, {',': 'PUNCT'}, {'\"': 'PUNCT'}, {\"'\": 'PUNCT'}, {'Iris': 'PROPN'}, {\"'\": 'NUM'}, {',': 'PUNCT'}, {'\"': 'PUNCT'}, {',': 'PUNCT'}, {'\"': 'PUNCT'}, {\"'\": 'PUNCT'}, {'versicolor': 'NOUN'}, {\"'\": 'PUNCT'}, {',': 'PUNCT'}, {'\"': 'PUNCT'}, {',': 'PUNCT'}, {'\"': 'PUNCT'}, {\"'\": 'PUNCT'}, {'flowers': 'NOUN'}, {\"'\": 'VERB'}, {']': 'PUNCT'}, {'\"': 'PUNCT'}, {']': 'PUNCT'}, {'[': 'X'}, {'\"': 'PUNCT'}, {'[': 'X'}, {\"'\": 'X'}, {'Distinct': 'ADJ'}, {\"'\": 'PUNCT'}, {',': 'PUNCT'}, {'\"': 'PUNCT'}, {',': 'PUNCT'}, {'\"': 'PUNCT'}, {\"'\": 'PUNCT'}, {'count': 'VERB'}, {\"'\": 'PUNCT'}, {',': 'PUNCT'}, {'\"': 'PUNCT'}, {',': 'PUNCT'}, {'\"': 'PUNCT'}, {\"'\": 'PUNCT'}, {'of': 'ADP'}, {\"'\": 'NUM'}, {',': 'PUNCT'}, {'\"': 'PUNCT'}, {',': 'PUNCT'}, {'\"': 'PUNCT'}, {\"'\": 'PUNCT'}, {'species': 'NOUN'}, {\"'\": 'PUNCT'}, {',': 'PUNCT'}, {'\"': 'PUNCT'}, {',': 'PUNCT'}, {'\"': 'PUNCT'}, {\"'\": 'PUNCT'}, {'with': 'ADP'}, {\"'\": 'PROPN'}, {',': 'PUNCT'}, {'\"': 'PUNCT'}, {',': 'PUNCT'}, {'\"': 'PUNCT'}, {\"'\": 'PUNCT'}, {'Sepal': 'NOUN'}, {\"'\": 'PUNCT'}, {',': 'PUNCT'}, {'\"': 'PUNCT'}, {',': 'PUNCT'}, {'\"': 'PUNCT'}, {\"'\": 'PUNCT'}, {'Length': 'PROPN'}, {\"'\": 'PUNCT'}, {',': 'PUNCT'}, {'\"': 'PUNCT'}, {',': 'PUNCT'}, {'\"': 'PUNCT'}, {\"'\": 'PUNCT'}, {'over': 'ADP'}, {\"'\": 'PUNCT'}, {',': 'PUNCT'}, {'\"': 'PUNCT'}, {',': 'PUNCT'}, {'\"': 'PUNCT'}, {\"'\": 'PROPN'}, {'5': 'NUM'}, {\"'\": 'NUM'}, {',': 'PUNCT'}, {'\"': 'PUNCT'}, {',': 'PUNCT'}, {'\"': 'PUNCT'}, {\"'\": 'PUNCT'}, {'.': 'PUNCT'}, {\"'\": 'PUNCT'}, {',': 'PUNCT'}, {'\"': 'PUNCT'}, {',': 'PUNCT'}, {'\"': 'PUNCT'}, {\"'\": 'PUNCT'}, {'0': 'X'}, {\"'\": 'PUNCT'}, {']': 'PUNCT'}, {'\"': 'PUNCT'}, {']': 'PUNCT'}, {'[': 'X'}, {'\"': 'PUNCT'}, {'[': 'X'}, {\"'\": 'PUNCT'}, {'Minimum': 'ADJ'}, {\"'\": 'PUNCT'}, {',': 'PUNCT'}, {'\"': 'PUNCT'}, {',': 'PUNCT'}, {'\"': 'PUNCT'}, {\"'\": 'PUNCT'}, {'Petal': 'ADJ'}, {\"'\": 'PUNCT'}, {',': 'PUNCT'}, {'\"': 'PUNCT'}, {',': 'PUNCT'}, {'\"': 'PUNCT'}, {\"'\": 'PUNCT'}, {'Length': 'PROPN'}, {\"'\": 'PUNCT'}, {',': 'PUNCT'}, {'\"': 'PUNCT'}, {',': 'PUNCT'}, {'\"': 'PUNCT'}, {\"'\": 'PUNCT'}, {'for': 'ADP'}, {\"'\": 'NUM'}, {',': 'PUNCT'}, {'\"': 'PUNCT'}, {',': 'PUNCT'}, {'\"': 'PUNCT'}, {\"'\": 'PUNCT'}, {'Iris': 'PROPN'}, {\"'\": 'NUM'}, {',': 'PUNCT'}, {'\"': 'PUNCT'}, {',': 'PUNCT'}, {'\"': 'PUNCT'}, {\"'\": 'PUNCT'}, {'virginica': 'X'}, {\"'\": 'PUNCT'}, {']': 'PUNCT'}, {'\"': 'PUNCT'}, {']': 'PUNCT'}, {'[': 'X'}, {'\"': 'PUNCT'}, {'[': 'X'}, {\"'\": 'PUNCT'}, {'Maximum': 'ADJ'}, {\"'\": 'NUM'}, {',': 'PUNCT'}, {'\"': 'PUNCT'}, {',': 'PUNCT'}, {'\"': 'PUNCT'}, {\"'\": 'PUNCT'}, {'Sepal': 'NOUN'}, {\"'\": 'PUNCT'}, {',': 'PUNCT'}, {'\"': 'PUNCT'}, {',': 'PUNCT'}, {'\"': 'PUNCT'}, {\"'\": 'PUNCT'}, {'Width': 'PROPN'}, {\"'\": 'PUNCT'}, {',': 'PUNCT'}, {'\"': 'PUNCT'}, {',': 'PUNCT'}, {'\"': 'PUNCT'}, {\"'\": 'PUNCT'}, {'across': 'ADP'}, {\"'\": 'PUNCT'}, {',': 'PUNCT'}, {'\"': 'PUNCT'}, {',': 'PUNCT'}, {'\"': 'PUNCT'}, {\"'\": 'PUNCT'}, {'Iris': 'PROPN'}, {\"'\": 'NUM'}, {',': 'PUNCT'}, {'\"': 'PUNCT'}, {',': 'PUNCT'}, {'\"': 'PUNCT'}, {\"'\": 'PUNCT'}, {'setosa': 'VERB'}, {\"'\": 'PUNCT'}, {']': 'PUNCT'}, {'\"': 'PUNCT'}, {']': 'PUNCT'}, {'[': 'X'}, {'\"': 'PUNCT'}, {'[': 'X'}, {\"'\": 'PROPN'}, {'Total': 'ADJ'}, {\"'\": 'PUNCT'}, {',': 'PUNCT'}, {'\"': 'PUNCT'}, {',': 'PUNCT'}, {'\"': 'PUNCT'}, {\"'\": 'PUNCT'}, {'number': 'NOUN'}, {\"'\": 'PUNCT'}, {',': 'PUNCT'}, {'\"': 'PUNCT'}, {',': 'PUNCT'}, {'\"': 'PUNCT'}, {\"'\": 'PUNCT'}, {'of': 'ADP'}, {\"'\": 'NUM'}, {',': 'PUNCT'}, {'\"': 'PUNCT'}, {',': 'PUNCT'}, {'\"': 'PUNCT'}, {\"'\": 'PUNCT'}, {'records': 'NOUN'}, {\"'\": 'PART'}, {',': 'PUNCT'}, {'\"': 'PUNCT'}, {',': 'PUNCT'}, {'\"': 'PUNCT'}, {\"'\": 'PUNCT'}, {'grouped': 'VERB'}, {\"'\": 'PUNCT'}, {',': 'PUNCT'}, {'\"': 'PUNCT'}, {',': 'PUNCT'}, {'\"': 'PUNCT'}, {\"'\": 'PUNCT'}, {'by': 'ADP'}, {\"'\": 'NUM'}, {',': 'PUNCT'}, {'\"': 'PUNCT'}, {',': 'PUNCT'}, {'\"': 'PUNCT'}, {\"'\": 'PUNCT'}, {'Species': 'PROPN'}, {\"'\": 'PUNCT'}, {']': 'PUNCT'}, {'\"': 'PUNCT'}, {']': 'PUNCT'}, {'[': 'X'}, {'\"': 'PUNCT'}, {'[': 'X'}, {\"'\": 'X'}, {'Filter': 'PROPN'}, {\"'\": 'NUM'}, {',': 'PUNCT'}, {'\"': 'PUNCT'}, {',': 'PUNCT'}, {'\"': 'PUNCT'}, {\"'\": 'PUNCT'}, {'to': 'PART'}, {\"'\": 'NUM'}, {',': 'PUNCT'}, {'\"': 'PUNCT'}, {',': 'PUNCT'}, {'\"': 'PUNCT'}, {\"'\": 'PUNCT'}, {'show': 'VERB'}, {\"'\": 'PUNCT'}, {',': 'PUNCT'}, {'\"': 'PUNCT'}, {',': 'PUNCT'}, {'\"': 'PUNCT'}, {\"'\": 'PUNCT'}, {'only': 'ADV'}, {\"'\": 'NUM'}, {',': 'PUNCT'}, {'\"': 'PUNCT'}, {',': 'PUNCT'}, {'\"': 'PUNCT'}, {\"'\": 'PUNCT'}, {'Iris': 'PROPN'}, {\"'\": 'NUM'}, {',': 'PUNCT'}, {'\"': 'PUNCT'}, {',': 'PUNCT'}, {'\"': 'PUNCT'}, {\"'\": 'PUNCT'}, {'versicolor': 'NOUN'}, {\"'\": 'PUNCT'}, {',': 'PUNCT'}, {'\"': 'PUNCT'}, {',': 'PUNCT'}, {'\"': 'PUNCT'}, {\"'\": 'PUNCT'}, {'with': 'ADP'}, {\"'\": 'PROPN'}, {',': 'PUNCT'}, {'\"': 'PUNCT'}, {',': 'PUNCT'}, {'\"': 'PUNCT'}, {\"'\": 'PUNCT'}, {'Sepal': 'NOUN'}, {\"'\": 'PUNCT'}, {',': 'PUNCT'}, {'\"': 'PUNCT'}, {',': 'PUNCT'}, {'\"': 'PUNCT'}, {\"'\": 'PUNCT'}, {'Width': 'PROPN'}, {\"'\": 'PUNCT'}, {',': 'PUNCT'}, {'\"': 'PUNCT'}, {',': 'PUNCT'}, {'\"': 'PUNCT'}, {\"'\": 'PUNCT'}, {'at': 'ADP'}, {\"'\": 'NUM'}, {',': 'PUNCT'}, {'\"': 'PUNCT'}, {',': 'PUNCT'}, {'\"': 'PUNCT'}, {\"'\": 'PUNCT'}, {'least': 'ADJ'}, {\"'\": 'PUNCT'}, {',': 'PUNCT'}, {'\"': 'PUNCT'}, {',': 'PUNCT'}, {'\"': 'PUNCT'}, {\"'\": 'PROPN'}, {'3': 'NUM'}, {\"'\": 'NUM'}, {',': 'PUNCT'}, {'\"': 'PUNCT'}, {',': 'PUNCT'}, {'\"': 'PUNCT'}, {\"'\": 'PUNCT'}, {'.': 'PUNCT'}, {\"'\": 'PUNCT'}, {',': 'PUNCT'}, {'\"': 'PUNCT'}, {',': 'PUNCT'}, {'\"': 'PUNCT'}, {\"'\": 'PUNCT'}, {'0': 'X'}, {\"'\": 'PUNCT'}, {']': 'PUNCT'}, {'\"': 'PUNCT'}, {']': 'PUNCT'}, {'[': 'X'}, {'\"': 'PUNCT'}, {'[': 'X'}, {\"'\": 'PUNCT'}, {'Show': 'VERB'}, {\"'\": 'PUNCT'}, {',': 'PUNCT'}, {'\"': 'PUNCT'}, {',': 'PUNCT'}, {'\"': 'PUNCT'}, {\"'\": 'PUNCT'}, {'top': 'VERB'}, {\"'\": 'PUNCT'}, {',': 'PUNCT'}, {'\"': 'PUNCT'}, {',': 'PUNCT'}, {'\"': 'PUNCT'}, {\"'\": 'PROPN'}, {'5': 'NUM'}, {\"'\": 'NUM'}, {',': 'PUNCT'}, {'\"': 'PUNCT'}, {',': 'PUNCT'}, {'\"': 'PUNCT'}, {\"'\": 'PUNCT'}, {'Sepal': 'NOUN'}, {\"'\": 'PUNCT'}, {',': 'PUNCT'}, {'\"': 'PUNCT'}, {',': 'PUNCT'}, {'\"': 'PUNCT'}, {\"'\": 'PUNCT'}, {'Lengths': 'NOUN'}, {\"'\": 'NUM'}, {',': 'PUNCT'}, {'\"': 'PUNCT'}, {',': 'PUNCT'}, {'\"': 'PUNCT'}, {\"'\": 'PUNCT'}, {'within': 'ADP'}, {\"'\": 'PUNCT'}, {',': 'PUNCT'}, {'\"': 'PUNCT'}, {',': 'PUNCT'}, {'\"': 'PUNCT'}, {\"'\": 'PUNCT'}, {'Iris': 'PROPN'}, {\"'\": 'NUM'}, {',': 'PUNCT'}, {'\"': 'PUNCT'}, {',': 'PUNCT'}, {'\"': 'PUNCT'}, {\"'\": 'PUNCT'}, {'virginica': 'X'}, {\"'\": 'PUNCT'}, {',': 'PUNCT'}, {'\"': 'PUNCT'}, {',': 'PUNCT'}, {'\"': 'PUNCT'}, {\"'\": 'PUNCT'}, {'only': 'ADV'}, {\"'\": 'PUNCT'}, {']': 'X'}, {'\"': 'PUNCT'}, {']': 'PUNCT'}, {'[': 'X'}, {'\"': 'PUNCT'}, {'[': 'X'}, {\"'\": 'X'}, {'Iris': 'PROPN'}, {\"'\": 'PROPN'}, {',': 'PUNCT'}, {'\"': 'PUNCT'}, {',': 'PUNCT'}, {'\"': 'PUNCT'}, {\"'\": 'PUNCT'}, {'flowers': 'NOUN'}, {\"'\": 'PART'}, {',': 'PUNCT'}, {'\"': 'PUNCT'}, {',': 'PUNCT'}, {'\"': 'PUNCT'}, {\"'\": 'PUNCT'}, {'with': 'ADP'}, {\"'\": 'PROPN'}, {',': 'PUNCT'}, {'\"': 'PUNCT'}, {',': 'PUNCT'}, {'\"': 'PUNCT'}, {\"'\": 'PUNCT'}, {'Petal': 'ADJ'}, {\"'\": 'PUNCT'}, {',': 'PUNCT'}, {'\"': 'PUNCT'}, {',': 'PUNCT'}, {'\"': 'PUNCT'}, {\"'\": 'PUNCT'}, {'Width': 'PROPN'}, {\"'\": 'PUNCT'}, {',': 'PUNCT'}, {'\"': 'PUNCT'}, {',': 'PUNCT'}, {'\"': 'PUNCT'}, {\"'\": 'PUNCT'}, {'in': 'ADP'}, {\"'\": 'NUM'}, {',': 'PUNCT'}, {'\"': 'PUNCT'}, {',': 'PUNCT'}, {'\"': 'PUNCT'}, {\"'\": 'PUNCT'}, {'the': 'PRON'}, {\"'\": 'PUNCT'}, {',': 'PUNCT'}, {'\"': 'PUNCT'}, {',': 'PUNCT'}, {'\"': 'PUNCT'}, {\"'\": 'PUNCT'}, {'bottom': 'ADJ'}, {\"'\": 'PUNCT'}, {',': 'PUNCT'}, {'\"': 'PUNCT'}, {',': 'PUNCT'}, {'\"': 'PUNCT'}, {\"'\": 'PUNCT'}, {'10th': 'X'}, {\"'\": 'PUNCT'}, {',': 'PUNCT'}, {'\"': 'PUNCT'}, {',': 'PUNCT'}, {'\"': 'PUNCT'}, {\"'\": 'PUNCT'}, {'percentile': 'VERB'}, {\"'\": 'PUNCT'}, {']': 'PUNCT'}, {'\"': 'PUNCT'}, {']': 'PUNCT'}, {'[': 'X'}, {'\"': 'PUNCT'}, {'[': 'X'}, {\"'\": 'PUNCT'}, {'Average': 'ADJ'}, {\"'\": 'PUNCT'}, {',': 'PUNCT'}, {'\"': 'PUNCT'}, {',': 'PUNCT'}, {'\"': 'PUNCT'}, {\"'\": 'PUNCT'}, {'Sepal': 'NOUN'}, {\"'\": 'PUNCT'}, {',': 'PUNCT'}, {'\"': 'PUNCT'}, {',': 'PUNCT'}, {'\"': 'PUNCT'}, {\"'\": 'PUNCT'}, {'Length': 'PROPN'}, {\"'\": 'PUNCT'}, {',': 'PUNCT'}, {'\"': 'PUNCT'}, {',': 'PUNCT'}, {'\"': 'PUNCT'}, {\"'\": 'PUNCT'}, {'for': 'ADP'}, {\"'\": 'NUM'}, {',': 'PUNCT'}, {'\"': 'PUNCT'}, {',': 'PUNCT'}, {'\"': 'PUNCT'}, {\"'\": 'PUNCT'}, {'each': 'PRON'}, {\"'\": 'PUNCT'}, {',': 'PUNCT'}, {'\"': 'PUNCT'}, {',': 'PUNCT'}, {'\"': 'PUNCT'}, {\"'\": 'PUNCT'}, {'species': 'NOUN'}, {\"'\": 'PUNCT'}, {']': 'PUNCT'}, {'\"': 'PUNCT'}, {']': 'PUNCT'}, {'[': 'X'}, {'\"': 'PUNCT'}, {'[': 'X'}, {\"'\": 'X'}, {'Entries': 'NOUN'}, {\"'\": 'PUNCT'}, {',': 'PUNCT'}, {'\"': 'PUNCT'}, {',': 'PUNCT'}, {'\"': 'PUNCT'}, {\"'\": 'PUNCT'}, {'with': 'ADP'}, {\"'\": 'PROPN'}, {',': 'PUNCT'}, {'\"': 'PUNCT'}, {',': 'PUNCT'}, {'\"': 'PUNCT'}, {\"'\": 'PUNCT'}, {'Petal': 'ADJ'}, {\"'\": 'PUNCT'}, {',': 'PUNCT'}, {'\"': 'PUNCT'}, {',': 'PUNCT'}, {'\"': 'PUNCT'}, {\"'\": 'PUNCT'}, {'Length': 'PROPN'}, {\"'\": 'PUNCT'}, {',': 'PUNCT'}, {'\"': 'PUNCT'}, {',': 'PUNCT'}, {'\"': 'PUNCT'}, {\"'\": 'PUNCT'}, {'between': 'ADP'}, {\"'\": 'PUNCT'}, {',': 'PUNCT'}, {'\"': 'PUNCT'}, {',': 'PUNCT'}, {'\"': 'PUNCT'}, {\"'\": 'PROPN'}, {'4': 'NUM'}, {\"'\": 'NUM'}, {',': 'PUNCT'}, {'\"': 'PUNCT'}, {',': 'PUNCT'}, {'\"': 'PUNCT'}, {\"'\": 'PUNCT'}, {'.': 'PUNCT'}, {\"'\": 'PUNCT'}, {',': 'PUNCT'}, {'\"': 'PUNCT'}, {',': 'PUNCT'}, {'\"': 'PUNCT'}, {\"'\": 'PUNCT'}, {'0': 'X'}, {\"'\": 'PUNCT'}, {',': 'PUNCT'}, {'\"': 'PUNCT'}, {',': 'PUNCT'}, {'\"': 'PUNCT'}, {\"'\": 'PUNCT'}, {'and': 'CCONJ'}, {\"'\": 'NUM'}, {',': 'PUNCT'}, {'\"': 'PUNCT'}, {',': 'PUNCT'}, {'\"': 'PUNCT'}, {\"'\": 'PROPN'}, {'5': 'NUM'}, {\"'\": 'NUM'}, {',': 'PUNCT'}, {'\"': 'PUNCT'}, {',': 'PUNCT'}, {'\"': 'PUNCT'}, {\"'\": 'PUNCT'}, {'.': 'PUNCT'}, {\"'\": 'PUNCT'}, {',': 'PUNCT'}, {'\"': 'PUNCT'}, {',': 'PUNCT'}, {'\"': 'PUNCT'}, {\"'\": 'PUNCT'}, {'0': 'X'}, {\"'\": 'PUNCT'}, {',': 'PUNCT'}, {'\"': 'PUNCT'}, {',': 'PUNCT'}, {'\"': 'PUNCT'}, {\"'\": 'PUNCT'}, {'for': 'ADP'}, {\"'\": 'NUM'}, {',': 'PUNCT'}, {'\"': 'PUNCT'}, {',': 'PUNCT'}, {'\"': 'PUNCT'}, {\"'\": 'PUNCT'}, {'Iris': 'PROPN'}, {\"'\": 'NUM'}, {',': 'PUNCT'}, {'\"': 'PUNCT'}, {',': 'PUNCT'}, {'\"': 'PUNCT'}, {\"'\": 'PUNCT'}, {'setosa': 'VERB'}, {\"'\": 'PUNCT'}, {']': 'PUNCT'}, {'\"': 'PUNCT'}, {']': 'PUNCT'}, {'[': 'X'}, {'\"': 'PUNCT'}, {'[': 'X'}, {\"'\": 'X'}, {'Count': 'PROPN'}, {\"'\": 'PUNCT'}, {',': 'PUNCT'}, {'\"': 'PUNCT'}, {',': 'PUNCT'}, {'\"': 'PUNCT'}, {\"'\": 'PUNCT'}, {'Iris': 'PROPN'}, {\"'\": 'NUM'}, {',': 'PUNCT'}, {'\"': 'PUNCT'}, {',': 'PUNCT'}, {'\"': 'PUNCT'}, {\"'\": 'PUNCT'}, {'flowers': 'NOUN'}, {\"'\": 'PART'}, {',': 'PUNCT'}, {'\"': 'PUNCT'}, {',': 'PUNCT'}, {'\"': 'PUNCT'}, {\"'\": 'PUNCT'}, {'where': 'SCONJ'}, {\"'\": 'NUM'}, {',': 'PUNCT'}, {'\"': 'PUNCT'}, {',': 'PUNCT'}, {'\"': 'PUNCT'}, {\"'\": 'PUNCT'}, {'the': 'DET'}, {\"'\": 'PUNCT'}, {',': 'PUNCT'}, {'\"': 'PUNCT'}, {',': 'PUNCT'}, {'\"': 'PUNCT'}, {\"'\": 'PUNCT'}, {'Species': 'NOUN'}, {\"'\": 'PUNCT'}, {',': 'PUNCT'}, {'\"': 'PUNCT'}, {',': 'PUNCT'}, {'\"': 'PUNCT'}, {\"'\": 'PUNCT'}, {'name': 'NOUN'}, {\"'\": 'PUNCT'}, {',': 'PUNCT'}, {'\"': 'PUNCT'}, {',': 'PUNCT'}, {'\"': 'PUNCT'}, {\"'\": 'PUNCT'}, {'contains': 'VERB'}, {\"'\": 'PUNCT'}, {',': 'PUNCT'}, {'\"': 'PUNCT'}, {',': 'PUNCT'}, {\"'\": 'PUNCT'}, {'\"': 'PUNCT'}, {'\\\\': 'PROPN'}, {\"'\": 'PUNCT'}, {'\"': 'PUNCT'}, {',': 'PUNCT'}, {\"'\": 'PUNCT'}, {',': 'PUNCT'}, {'\"': 'PUNCT'}, {\"'\": 'PUNCT'}, {'color': 'NOUN'}, {\"'\": 'PUNCT'}, {',': 'PUNCT'}, {'\"': 'PUNCT'}, {',': 'PUNCT'}, {\"'\": 'PUNCT'}, {'\"': 'PUNCT'}, {'\\\\': 'PROPN'}, {\"'\": 'PUNCT'}, {'\"': 'PUNCT'}, {']': 'PUNCT'}, {\"'\": 'X'}, {']': 'PUNCT'}, {'[': 'X'}, {'\"': 'PUNCT'}, {'[': 'X'}, {\"'\": 'PUNCT'}, {'List': 'NOUN'}, {\"'\": 'PUNCT'}, {',': 'PUNCT'}, {'\"': 'PUNCT'}, {',': 'PUNCT'}, {'\"': 'PUNCT'}, {\"'\": 'PUNCT'}, {'all': 'PRON'}, {\"'\": 'PROPN'}, {',': 'PUNCT'}, {'\"': 'PUNCT'}, {',': 'PUNCT'}, {'\"': 'PUNCT'}, {\"'\": 'PUNCT'}, {'Iris': 'PROPN'}, {\"'\": 'NUM'}, {',': 'PUNCT'}, {'\"': 'PUNCT'}, {',': 'PUNCT'}, {'\"': 'PUNCT'}, {\"'\": 'PUNCT'}, {'flowers': 'NOUN'}, {\"'\": 'PART'}, {',': 'PUNCT'}, {'\"': 'PUNCT'}, {',': 'PUNCT'}, {'\"': 'PUNCT'}, {\"'\": 'PUNCT'}, {'where': 'SCONJ'}, {\"'\": 'NUM'}, {',': 'PUNCT'}, {'\"': 'PUNCT'}, {',': 'PUNCT'}, {'\"': 'PUNCT'}, {\"'\": 'PUNCT'}, {'the': 'DET'}, {\"'\": 'PUNCT'}, {',': 'PUNCT'}, {'\"': 'PUNCT'}, {',': 'PUNCT'}, {'\"': 'PUNCT'}, {\"'\": 'PUNCT'}, {'Species': 'NOUN'}, {\"'\": 'PUNCT'}, {',': 'PUNCT'}, {'\"': 'PUNCT'}, {',': 'PUNCT'}, {'\"': 'PUNCT'}, {\"'\": 'PUNCT'}, {'name': 'NOUN'}, {\"'\": 'PUNCT'}, {',': 'PUNCT'}, {'\"': 'PUNCT'}, {',': 'PUNCT'}, {'\"': 'PUNCT'}, {\"'\": 'PUNCT'}, {'starts': 'VERB'}, {\"'\": 'PUNCT'}, {',': 'PUNCT'}, {'\"': 'PUNCT'}, {',': 'PUNCT'}, {'\"': 'PUNCT'}, {\"'\": 'PUNCT'}, {'with': 'ADP'}, {\"'\": 'PROPN'}, {',': 'PUNCT'}, {'\"': 'PUNCT'}, {',': 'PUNCT'}, {\"'\": 'PUNCT'}, {'\"': 'PUNCT'}, {'\\\\': 'PROPN'}, {\"'\": 'PUNCT'}, {'\"': 'PUNCT'}, {',': 'PUNCT'}, {\"'\": 'PUNCT'}, {',': 'PUNCT'}, {'\"': 'PUNCT'}, {\"'\": 'PUNCT'}, {'Iri': 'PROPN'}, {\"'\": 'PROPN'}, {',': 'PUNCT'}, {'\"': 'PUNCT'}, {',': 'PUNCT'}, {\"'\": 'PUNCT'}, {'\"': 'PUNCT'}, {'\\\\': 'PROPN'}, {\"'\": 'PUNCT'}, {'\"': 'PUNCT'}, {',': 'PUNCT'}, {\"'\": 'PUNCT'}, {',': 'PUNCT'}, {'\"': 'PUNCT'}, {\"'\": 'PUNCT'}, {'and': 'CCONJ'}, {\"'\": 'NUM'}, {',': 'PUNCT'}, {'\"': 'PUNCT'}, {',': 'PUNCT'}, {'\"': 'PUNCT'}, {\"'\": 'PUNCT'}, {'ends': 'VERB'}, {\"'\": 'PUNCT'}, {',': 'PUNCT'}, {'\"': 'PUNCT'}, {',': 'PUNCT'}, {'\"': 'PUNCT'}, {\"'\": 'PUNCT'}, {'with': 'ADP'}, {\"'\": 'PROPN'}, {',': 'PUNCT'}, {'\"': 'PUNCT'}, {',': 'PUNCT'}, {\"'\": 'PUNCT'}, {'\"': 'PUNCT'}, {'\\\\': 'PROPN'}, {\"'\": 'PUNCT'}, {'\"': 'PUNCT'}, {',': 'PUNCT'}, {\"'\": 'PUNCT'}, {',': 'PUNCT'}, {'\"': 'PUNCT'}, {\"'\": 'PUNCT'}, {'a': 'DET'}, {\"'\": 'PUNCT'}, {',': 'PUNCT'}, {'\"': 'PUNCT'}, {',': 'PUNCT'}, {\"'\": 'PUNCT'}, {'\"': 'PUNCT'}, {'\\\\': 'PROPN'}, {\"'\": 'PUNCT'}, {'\"': 'PUNCT'}, {']': 'PUNCT'}, {\"'\": 'X'}, {']': 'PUNCT'}]\n",
            "Tokenized Description : ['X', 'ADJ', 'VERB', 'PART', 'NOUN', 'DET', 'AUX', 'NUM', 'PRON', 'PUNCT', 'INTJ', 'CCONJ', 'ADV', 'PROPN', 'SCONJ', 'ADP']\n"
          ]
        }
      ]
    },
    {
      "cell_type": "code",
      "source": [
        "for pat in p_d:\n",
        "   print({pat:p_d[pat]})"
      ],
      "metadata": {
        "id": "s-yND2LbWjGZ",
        "colab": {
          "base_uri": "https://localhost:8080/"
        },
        "outputId": "563b2c00-c3ab-4d59-b523-7c98cbb35fcf"
      },
      "execution_count": 102,
      "outputs": [
        {
          "output_type": "stream",
          "name": "stdout",
          "text": [
            "{'X': [']', '1', '2', 'median', '[', '10th', 'virginica', 'Length', '0', \"'\"]}\n",
            "{'ADJ': ['distinct', 'Distinct', 'highest', 'Select', 'Total', 'Highest', 'equal', 'Top', 'unique', 'Average', 'Petal', 'high', 'Lowest', 'greater', 'many', 'least', 'total', 'less', 'middle', 'Minimum', 'smallest', 'bottom', 'low', 'average', 'Maximum', 'last']}\n",
            "{'VERB': ['found', 'recorded', 'count', 'ascending', 'starting', 'Find', 'contains', 'top', 'Calculate', 'grouped', 'percentile', \"'\", 'Show', 'assuming', 'ends', 'starts', 'Setosa', 'sorted', 'ica', 'show', 'Organize', 'Date', 'setosa', 'start', 'descending', 'Aggregate', 'dataset']}\n",
            "{'PART': ['to', 'not', \"'\"]}\n",
            "{'NOUN': ['value', 'List', 'Determine', 'flowers', 'number', 'Widths', 'Sepal', 'Number', 'name', 'C', 'versicolor', 'types', 'year', 'field', 'Lengths', 'color', 'flower', 'Entries', 'Display', 'points', 'order', 'entries', 'data', 'observation', 'occurrences', 'Species', 'month', 'records', 'species']}\n",
            "{'DET': ['a', 'the']}\n",
            "{'AUX': ['are', 'is', \"'s\"]}\n",
            "{'NUM': ['10', '4', '3', '5', \"'\"]}\n",
            "{'PRON': ['this', 'each', 'What', 'all', 'the', 'both', 'there', 'a']}\n",
            "{'PUNCT': [']', '.', '\"', '(', ',', ')', '?', \"'\"]}\n",
            "{'INTJ': ['%']}\n",
            "{'CCONJ': ['and', 'or']}\n",
            "{'ADV': ['exactly', 'Sort', 'alphabetically', 'only']}\n",
            "{'PROPN': ['Count', '\\\\', 'Species', 'Rank', 'Median', 'Sum', 'Width', 'Filter', 'Group', 'Length', 'Se', 'January', 'Iris', 'Iri', \"'\"]}\n",
            "{'SCONJ': ['where', 'How', 'how']}\n",
            "{'ADP': ['from', 'within', 'over', 'between', 'in', 'for', 'than', 'of', 'at', 'across', 'by', 'with', 'above']}\n"
          ]
        }
      ]
    },
    {
      "cell_type": "code",
      "source": [
        "p_t=dg_ent['Patterns_Formula(Tableau)']=get_patterns(formulas,'vocab')"
      ],
      "metadata": {
        "id": "n0kwSUbJRzYG",
        "colab": {
          "base_uri": "https://localhost:8080/"
        },
        "outputId": "7be37d10-5f9d-4169-e460-ca9e19a96527"
      },
      "execution_count": 103,
      "outputs": [
        {
          "output_type": "stream",
          "name": "stdout",
          "text": [
            "[{'[': 'X'}, {\"'\": 'NOUN'}, {'1': 'NUM'}, {\"'\": 'NUM'}, {']': 'PUNCT'}, {'[': 'X'}, {\"'\": 'PUNCT'}, {'FROM': 'ADP'}, {\"'\": 'PUNCT'}, {']': 'PUNCT'}, {'[': 'X'}, {\"'\": 'PUNCT'}, {'BETWEEN': 'ADP'}, {\"'\": 'PUNCT'}, {']': 'PUNCT'}, {'[': 'X'}, {\"'\": 'X'}, {'COUNTD': 'PROPN'}, {\"'\": 'PUNCT'}, {']': 'PUNCT'}, {'[': 'X'}, {\"'\": 'X'}, {'MAX': 'PROPN'}, {\"'\": 'PUNCT'}, {']': 'PUNCT'}, {'[': 'X'}, {\"'\": 'X'}, {'ASC': 'PROPN'}, {\"'\": 'PUNCT'}, {']': 'PUNCT'}, {'[': 'X'}, {\"'\": 'PUNCT'}, {'NULL': 'PROPN'}, {\"'\": 'PUNCT'}, {']': 'PUNCT'}, {'[': 'X'}, {\"'\": 'PUNCT'}, {'MEDIAN': 'PROPN'}, {\"'\": 'PUNCT'}, {']': 'PUNCT'}, {'[': 'X'}, {\"'\": 'X'}, {'<': 'X'}, {\"'\": 'PUNCT'}, {']': 'PUNCT'}, {'[': 'X'}, {\"'\": 'X'}, {'versicolor': 'NOUN'}, {\"'\": 'PUNCT'}, {']': 'PUNCT'}, {'[': 'X'}, {\"'\": 'PUNCT'}, {'highest': 'ADJ'}, {\"'\": 'PUNCT'}, {']': 'PUNCT'}, {'[': 'X'}, {\"'\": 'X'}, {'*': 'X'}, {\"'\": 'X'}, {']': 'PUNCT'}, {'[': 'X'}, {\"'\": 'VERB'}, {'DATETRUNC': 'PROPN'}, {\"'\": 'PUNCT'}, {']': 'PUNCT'}, {'[': 'X'}, {'\"': 'PUNCT'}, {\"'\": 'PUNCT'}, {',': 'PUNCT'}, {'\"': 'PUNCT'}, {']': 'PUNCT'}, {'[': 'X'}, {\"'\": 'PUNCT'}, {'year': 'NOUN'}, {\"'\": 'PUNCT'}, {']': 'PUNCT'}, {'[': 'X'}, {\"'\": 'NUM'}, {'2': 'NUM'}, {\"'\": 'PUNCT'}, {']': 'PUNCT'}, {'[': 'X'}, {\"'\": 'PUNCT'}, {'CONTAINS': 'X'}, {\"'\": 'PUNCT'}, {']': 'PUNCT'}, {'[': 'X'}, {\"'\": 'PUNCT'}, {'DESC': 'VERB'}, {\"'\": 'PUNCT'}, {']': 'PUNCT'}, {'[': 'X'}, {\"'\": 'PUNCT'}, {'WITH': 'ADP'}, {\"'\": 'PUNCT'}, {']': 'PUNCT'}, {'[': 'X'}, {\"'\": 'PROPN'}, {'STARTS': 'PROPN'}, {\"'\": 'PUNCT'}, {']': 'PUNCT'}, {'[': 'X'}, {\"'\": 'VERB'}, {'SORT': 'ADV'}, {\"'\": 'NOUN'}, {']': 'PUNCT'}, {'[': 'X'}, {\"'\": 'X'}, {'ORDER': 'NOUN'}, {\"'\": 'PUNCT'}, {']': 'PUNCT'}, {'[': 'X'}, {\"'\": 'PROPN'}, {'=': 'X'}, {\"'\": 'X'}, {']': 'PUNCT'}, {'[': 'X'}, {\"'\": 'NOUN'}, {'RANK_PERCENTILE': 'AUX'}, {\"'\": 'PUNCT'}, {']': 'PUNCT'}, {'[': 'X'}, {\"'\": 'NUM'}, {'9': 'NUM'}, {\"'\": 'PUNCT'}, {']': 'PUNCT'}, {'[': 'X'}, {\"'\": 'VERB'}, {'THEN': 'ADV'}, {\"'\": 'PUNCT'}, {']': 'PUNCT'}, {'[': 'X'}, {\"'\": 'PROPN'}, {'INDEX': 'NOUN'}, {\"'\": 'PUNCT'}, {']': 'PUNCT'}, {'[': 'X'}, {\"'\": 'PUNCT'}, {'IF': 'SCONJ'}, {\"'\": 'NOUN'}, {']': 'PUNCT'}, {'[': 'X'}, {\"'\": 'INTJ'}, {'-': 'VERB'}, {\"'\": 'PUNCT'}, {']': 'PUNCT'}, {'[': 'X'}, {\"'\": 'NUM'}, {'3': 'NUM'}, {\"'\": 'PUNCT'}, {']': 'PUNCT'}, {'[': 'X'}, {\"'\": 'PUNCT'}, {'!': 'PUNCT'}, {\"'\": 'PUNCT'}, {']': 'PUNCT'}, {'[': 'X'}, {\"'\": 'NUM'}, {'5': 'NUM'}, {\"'\": 'PUNCT'}, {']': 'PUNCT'}, {'[': 'X'}, {\"'\": 'PUNCT'}, {'RANK': 'VERB'}, {\"'\": 'PUNCT'}, {']': 'PUNCT'}, {'[': 'X'}, {\"'\": 'PUNCT'}, {'to': 'PART'}, {\"'\": 'PUNCT'}, {']': 'PUNCT'}, {'[': 'X'}, {\"'\": 'NUM'}, {'0': 'NUM'}, {\"'\": 'PUNCT'}, {']': 'PUNCT'}, {'[': 'X'}, {\"'\": 'VERB'}, {'SUM': 'PROPN'}, {\"'\": 'PUNCT'}, {']': 'PUNCT'}, {'[': 'X'}, {\"'\": 'PUNCT'}, {'color': 'NOUN'}, {\"'\": 'PUNCT'}, {']': 'PUNCT'}, {'[': 'X'}, {\"'\": 'X'}, {'YEAR': 'NOUN'}, {\"'\": 'PUNCT'}, {']': 'PUNCT'}, {'[': 'X'}, {\"'\": 'PROPN'}, {'AVG': 'PROPN'}, {\"'\": 'PUNCT'}, {']': 'PUNCT'}, {'[': 'X'}, {\"'\": 'PUNCT'}, {'alphabetically': 'ADV'}, {\"'\": 'VERB'}, {']': 'PUNCT'}, {'[': 'X'}, {\"'\": 'VERB'}, {'LEFT': 'PROPN'}, {\"'\": 'PUNCT'}, {']': 'PUNCT'}, {'[': 'X'}, {\"'\": 'NOUN'}, {'virginica': 'X'}, {\"'\": 'PUNCT'}, {']': 'PUNCT'}, {'[': 'X'}, {\"'\": 'VERB'}, {'}': 'PRON'}, {\"'\": 'PUNCT'}, {']': 'PUNCT'}, {'[': 'X'}, {\"'\": 'NUM'}, {'4': 'NUM'}, {\"'\": 'PUNCT'}, {']': 'PUNCT'}, {'[': 'X'}, {\"'\": 'PUNCT'}, {'LISTED': 'VERB'}, {\"'\": 'PUNCT'}, {']': 'PUNCT'}, {'[': 'X'}, {\"'\": 'PROPN'}, {'END': 'PROPN'}, {\"'\": 'PUNCT'}, {']': 'PUNCT'}, {'[': 'X'}, {\"'\": 'PUNCT'}, {'Setosa': 'PROPN'}, {\"'\": 'PUNCT'}, {']': 'PUNCT'}, {'[': 'X'}, {\"'\": 'VERB'}, {'FIXED': 'NOUN'}, {\"'\": 'PUNCT'}, {']': 'PUNCT'}, {'[': 'X'}, {\"'\": 'PUNCT'}, {':': 'PUNCT'}, {\"'\": 'PUNCT'}, {']': 'PUNCT'}, {'[': 'X'}, {\"'\": 'VERB'}, {'{': 'PUNCT'}, {\"'\": 'PROPN'}, {']': 'PUNCT'}, {'[': 'X'}, {\"'\": 'PUNCT'}, {'SORTED': 'ADJ'}, {\"'\": 'PUNCT'}, {']': 'PUNCT'}, {'[': 'X'}, {\"'\": 'VERB'}, {'TODAY': 'NOUN'}, {\"'\": 'PUNCT'}, {']': 'PUNCT'}, {'[': 'X'}, {\"'\": 'VERB'}, {'”': 'PUNCT'}, {\"'\": 'PUNCT'}, {']': 'PUNCT'}, {'[': 'X'}, {\"'\": 'PUNCT'}, {'Species': 'NOUN'}, {\"'\": 'PUNCT'}, {']': 'PUNCT'}, {'[': 'X'}, {\"'\": 'PUNCT'}, {'AND': 'CCONJ'}, {\"'\": 'PUNCT'}, {']': 'PUNCT'}, {'[': 'X'}, {\"'\": 'NOUN'}, {'month': 'NOUN'}, {\"'\": 'PUNCT'}, {']': 'PUNCT'}, {'[': 'X'}, {\"'\": 'PUNCT'}, {'“': 'PUNCT'}, {\"'\": 'PUNCT'}, {']': 'PUNCT'}, {'[': 'X'}, {\"'\": 'PUNCT'}, {'Date': 'PROPN'}, {\"'\": 'PUNCT'}, {']': 'PUNCT'}, {'[': 'X'}, {\"'\": 'PUNCT'}, {'setosa': 'X'}, {\"'\": 'PUNCT'}, {']': 'PUNCT'}, {'[': 'X'}, {\"'\": 'PUNCT'}, {'MIN': 'PROPN'}, {\"'\": 'PROPN'}, {']': 'PUNCT'}, {'[': 'X'}, {\"'\": 'PUNCT'}, {'lowest': 'ADJ'}, {\"'\": 'PUNCT'}, {']': 'PUNCT'}, {'[': 'X'}, {\"'\": 'PROPN'}, {'TOP': 'NUM'}, {\"'\": 'PUNCT'}, {']': 'PUNCT'}, {'[': 'X'}, {\"'\": 'VERB'}, {'ENDSWITH': 'NOUN'}, {\"'\": 'PUNCT'}, {']': 'PUNCT'}, {'[': 'X'}, {\"'\": 'X'}, {'GROUP': 'PROPN'}, {\"'\": 'PUNCT'}, {']': 'PUNCT'}, {'[': 'X'}, {\"'\": 'PUNCT'}, {'\"': 'PUNCT'}, {\"'\": 'PUNCT'}, {']': 'PUNCT'}, {'[': 'X'}, {\"'\": 'PUNCT'}, {'STARTSWITH': 'X'}, {\"'\": 'NOUN'}, {']': 'PUNCT'}, {'[': 'X'}, {\"'\": 'VERB'}, {'>': 'X'}, {\"'\": 'PUNCT'}, {']': 'PUNCT'}, {'[': 'X'}, {\"'\": 'PUNCT'}, {'ELSE': 'ADV'}, {\"'\": 'PUNCT'}, {']': 'PUNCT'}, {'[': 'X'}, {\"'\": 'PUNCT'}, {'DISTINCT': 'NOUN'}, {\"'\": 'PUNCT'}, {']': 'PUNCT'}, {'[': 'X'}, {\"'\": 'X'}, {'COUNT': 'PROPN'}, {\"'\": 'PUNCT'}, {']': 'PUNCT'}]\n",
            "vocab : ['X', 'ADJ', 'VERB', 'PART', 'NOUN', 'AUX', 'NUM', 'PRON', 'PUNCT', 'INTJ', 'CCONJ', 'ADV', 'PROPN', 'SCONJ', 'ADP']\n"
          ]
        }
      ]
    },
    {
      "cell_type": "code",
      "source": [
        "for pat in p_t:\n",
        "    print({pat:p_t[pat]})"
      ],
      "metadata": {
        "id": "cHOL5YYISCbK",
        "colab": {
          "base_uri": "https://localhost:8080/"
        },
        "outputId": "ec421e13-a1f5-4476-a166-4bed868adf1e"
      },
      "execution_count": 104,
      "outputs": [
        {
          "output_type": "stream",
          "name": "stdout",
          "text": [
            "{'X': ['CONTAINS', '[', \"'\", 'setosa', '=', 'virginica', '>', 'STARTSWITH', '<', '*']}\n",
            "{'ADJ': ['SORTED', 'highest', 'lowest']}\n",
            "{'VERB': ['DESC', 'LISTED', '-', 'RANK', \"'\"]}\n",
            "{'PART': ['to']}\n",
            "{'NOUN': ['year', 'color', 'Species', 'YEAR', 'month', 'ORDER', 'INDEX', 'ENDSWITH', 'FIXED', 'versicolor', 'DISTINCT', 'TODAY', \"'\"]}\n",
            "{'AUX': ['RANK_PERCENTILE']}\n",
            "{'NUM': ['1', '2', '9', '4', 'TOP', '3', '5', '0', \"'\"]}\n",
            "{'PRON': ['}']}\n",
            "{'PUNCT': [']', '”', ':', '“', '\"', ',', '!', '{', \"'\"]}\n",
            "{'INTJ': [\"'\"]}\n",
            "{'CCONJ': ['AND']}\n",
            "{'ADV': ['SORT', 'ELSE', 'alphabetically', 'THEN']}\n",
            "{'PROPN': ['AVG', 'STARTS', 'LEFT', 'Date', 'MIN', 'COUNTD', 'MAX', 'NULL', 'ASC', 'MEDIAN', 'GROUP', 'COUNT', 'END', 'Setosa', 'SUM', \"'\", 'DATETRUNC']}\n",
            "{'SCONJ': ['IF']}\n",
            "{'ADP': ['FROM', 'BETWEEN', 'WITH']}\n"
          ]
        }
      ]
    },
    {
      "cell_type": "code",
      "source": [
        "p_t=dg_ent['Patterns_Formula(Tableau)']=get_patterns(dg_tok,dg_tok.columns[1])"
      ],
      "metadata": {
        "id": "DuFe80bLPerP",
        "colab": {
          "base_uri": "https://localhost:8080/"
        },
        "outputId": "1a900443-4f94-4072-b170-6a50a67f4a38"
      },
      "execution_count": 105,
      "outputs": [
        {
          "output_type": "stream",
          "name": "stdout",
          "text": [
            "[{'[': 'X'}, {'\"': 'PUNCT'}, {'[': 'X'}, {\"'\": 'VERB'}, {'SUM': 'NOUN'}, {\"'\": 'PUNCT'}, {',': 'PUNCT'}, {'\"': 'PUNCT'}, {',': 'PUNCT'}, {'\"': 'PUNCT'}, {\"'\": 'PUNCT'}, {'Sepal': 'NOUN'}, {\"'\": 'PUNCT'}, {',': 'PUNCT'}, {'\"': 'PUNCT'}, {',': 'PUNCT'}, {'\"': 'PUNCT'}, {\"'\": 'PUNCT'}, {'Length': 'X'}, {\"'\": 'PUNCT'}, {']': 'PUNCT'}, {'\"': 'PUNCT'}, {']': 'PUNCT'}, {'[': 'X'}, {'\"': 'PUNCT'}, {'[': 'X'}, {\"'\": 'X'}, {'AVG': 'PROPN'}, {\"'\": 'NUM'}, {',': 'PUNCT'}, {'\"': 'PUNCT'}, {',': 'PUNCT'}, {'\"': 'PUNCT'}, {\"'\": 'PUNCT'}, {'Sepal': 'NOUN'}, {\"'\": 'PUNCT'}, {',': 'PUNCT'}, {'\"': 'PUNCT'}, {',': 'PUNCT'}, {'\"': 'PUNCT'}, {\"'\": 'PUNCT'}, {'Width': 'PROPN'}, {\"'\": 'PUNCT'}, {']': 'PUNCT'}, {'\"': 'PUNCT'}, {']': 'PUNCT'}, {'[': 'X'}, {'\"': 'PUNCT'}, {'[': 'X'}, {\"'\": 'X'}, {'MEDIAN': 'PROPN'}, {\"'\": 'PUNCT'}, {',': 'PUNCT'}, {'\"': 'PUNCT'}, {',': 'PUNCT'}, {'\"': 'PUNCT'}, {\"'\": 'PUNCT'}, {'Petal': 'ADJ'}, {\"'\": 'PUNCT'}, {',': 'PUNCT'}, {'\"': 'PUNCT'}, {',': 'PUNCT'}, {'\"': 'PUNCT'}, {\"'\": 'PUNCT'}, {'Length': 'X'}, {\"'\": 'PUNCT'}, {']': 'PUNCT'}, {'\"': 'PUNCT'}, {']': 'PUNCT'}, {'[': 'X'}, {'\"': 'PUNCT'}, {'[': 'X'}, {\"'\": 'X'}, {'COUNT': 'PROPN'}, {\"'\": 'PUNCT'}, {']': 'PUNCT'}, {'\"': 'PUNCT'}, {']': 'PUNCT'}, {'[': 'X'}, {'\"': 'PUNCT'}, {'[': 'X'}, {\"'\": 'X'}, {'COUNT': 'PROPN'}, {\"'\": 'NUM'}, {',': 'PUNCT'}, {'\"': 'PUNCT'}, {',': 'PUNCT'}, {'\"': 'PUNCT'}, {\"'\": 'PUNCT'}, {'DISTINCT': 'VERB'}, {\"'\": 'PUNCT'}, {',': 'PUNCT'}, {'\"': 'PUNCT'}, {',': 'PUNCT'}, {'\"': 'PUNCT'}, {\"'\": 'PUNCT'}, {'Species': 'PROPN'}, {\"'\": 'PUNCT'}, {']': 'PUNCT'}, {'\"': 'PUNCT'}, {']': 'PUNCT'}, {'[': 'X'}, {'\"': 'PUNCT'}, {'[': 'X'}, {\"'\": 'X'}, {'MIN': 'PROPN'}, {\"'\": 'PROPN'}, {',': 'PUNCT'}, {'\"': 'PUNCT'}, {',': 'PUNCT'}, {'\"': 'PUNCT'}, {\"'\": 'PUNCT'}, {'Sepal': 'NOUN'}, {\"'\": 'PUNCT'}, {',': 'PUNCT'}, {'\"': 'PUNCT'}, {',': 'PUNCT'}, {'\"': 'PUNCT'}, {\"'\": 'PUNCT'}, {'Length': 'X'}, {\"'\": 'PUNCT'}, {']': 'PUNCT'}, {'\"': 'PUNCT'}, {']': 'PUNCT'}, {'[': 'X'}, {'\"': 'PUNCT'}, {'[': 'X'}, {\"'\": 'X'}, {'MAX': 'PROPN'}, {\"'\": 'PUNCT'}, {',': 'PUNCT'}, {'\"': 'PUNCT'}, {',': 'PUNCT'}, {'\"': 'PUNCT'}, {\"'\": 'PUNCT'}, {'Petal': 'ADJ'}, {\"'\": 'PUNCT'}, {',': 'PUNCT'}, {'\"': 'PUNCT'}, {',': 'PUNCT'}, {'\"': 'PUNCT'}, {\"'\": 'PUNCT'}, {'Width': 'PROPN'}, {\"'\": 'PUNCT'}, {']': 'PUNCT'}, {'\"': 'PUNCT'}, {']': 'PUNCT'}, {'[': 'X'}, {'\"': 'PUNCT'}, {'[': 'X'}, {\"'\": 'X'}, {'GROUP': 'PROPN'}, {\"'\": 'PUNCT'}, {',': 'PUNCT'}, {'\"': 'PUNCT'}, {',': 'PUNCT'}, {'\"': 'PUNCT'}, {\"'\": 'PUNCT'}, {'BY': 'ADP'}, {\"'\": 'NUM'}, {',': 'PUNCT'}, {'\"': 'PUNCT'}, {',': 'PUNCT'}, {'\"': 'PUNCT'}, {\"'\": 'PUNCT'}, {'Species': 'PROPN'}, {\"'\": 'PUNCT'}, {']': 'PUNCT'}, {'\"': 'PUNCT'}, {']': 'PUNCT'}, {'[': 'X'}, {'\"': 'PUNCT'}, {'[': 'X'}, {\"'\": 'X'}, {'ORDER': 'NOUN'}, {\"'\": 'PUNCT'}, {',': 'PUNCT'}, {'\"': 'PUNCT'}, {',': 'PUNCT'}, {'\"': 'PUNCT'}, {\"'\": 'PUNCT'}, {'BY': 'ADP'}, {\"'\": 'NUM'}, {',': 'PUNCT'}, {'\"': 'PUNCT'}, {',': 'PUNCT'}, {'\"': 'PUNCT'}, {\"'\": 'PUNCT'}, {'Sepal': 'NOUN'}, {\"'\": 'PUNCT'}, {',': 'PUNCT'}, {'\"': 'PUNCT'}, {',': 'PUNCT'}, {'\"': 'PUNCT'}, {\"'\": 'PUNCT'}, {'Length': 'PROPN'}, {\"'\": 'PUNCT'}, {',': 'PUNCT'}, {'\"': 'PUNCT'}, {',': 'PUNCT'}, {'\"': 'PUNCT'}, {\"'\": 'PUNCT'}, {'ASC': 'PROPN'}, {\"'\": 'PUNCT'}, {']': 'PUNCT'}, {'\"': 'PUNCT'}, {']': 'PUNCT'}, {'[': 'X'}, {'\"': 'PUNCT'}, {'[': 'X'}, {\"'\": 'X'}, {'ORDER': 'NOUN'}, {\"'\": 'PUNCT'}, {',': 'PUNCT'}, {'\"': 'PUNCT'}, {',': 'PUNCT'}, {'\"': 'PUNCT'}, {\"'\": 'PUNCT'}, {'BY': 'ADP'}, {\"'\": 'NUM'}, {',': 'PUNCT'}, {'\"': 'PUNCT'}, {',': 'PUNCT'}, {'\"': 'PUNCT'}, {\"'\": 'PUNCT'}, {'Species': 'NOUN'}, {\"'\": 'PUNCT'}, {',': 'PUNCT'}, {'\"': 'PUNCT'}, {',': 'PUNCT'}, {'\"': 'PUNCT'}, {\"'\": 'PUNCT'}, {'ASC': 'PROPN'}, {\"'\": 'PUNCT'}, {']': 'PUNCT'}, {'\"': 'PUNCT'}, {']': 'PUNCT'}, {'[': 'X'}, {'\"': 'PUNCT'}, {'[': 'X'}, {\"'\": 'X'}, {'Sepal': 'NOUN'}, {\"'\": 'PUNCT'}, {',': 'PUNCT'}, {'\"': 'PUNCT'}, {',': 'PUNCT'}, {'\"': 'PUNCT'}, {\"'\": 'PUNCT'}, {'Length': 'PROPN'}, {\"'\": 'PUNCT'}, {',': 'PUNCT'}, {'\"': 'PUNCT'}, {',': 'PUNCT'}, {'\"': 'PUNCT'}, {\"'\": 'PROPN'}, {'5': 'NUM'}, {\"'\": 'NUM'}, {',': 'PUNCT'}, {'\"': 'PUNCT'}, {',': 'PUNCT'}, {'\"': 'PUNCT'}, {\"'\": 'PUNCT'}, {'0': 'X'}, {\"'\": 'PUNCT'}, {']': 'PUNCT'}, {'\"': 'PUNCT'}, {']': 'PUNCT'}, {'[': 'X'}, {'\"': 'PUNCT'}, {'[': 'X'}, {\"'\": 'PUNCT'}, {'Petal': 'ADJ'}, {\"'\": 'PUNCT'}, {',': 'PUNCT'}, {'\"': 'PUNCT'}, {',': 'PUNCT'}, {'\"': 'PUNCT'}, {\"'\": 'PUNCT'}, {'Length': 'PROPN'}, {\"'\": 'PUNCT'}, {',': 'PUNCT'}, {'\"': 'PUNCT'}, {',': 'PUNCT'}, {'\"': 'PUNCT'}, {\"'\": 'PUNCT'}, {'BETWEEN': 'ADP'}, {\"'\": 'PUNCT'}, {',': 'PUNCT'}, {'\"': 'PUNCT'}, {',': 'PUNCT'}, {'\"': 'PUNCT'}, {\"'\": 'PROPN'}, {'1': 'X'}, {\"'\": 'NUM'}, {',': 'PUNCT'}, {'\"': 'PUNCT'}, {',': 'PUNCT'}, {'\"': 'PUNCT'}, {\"'\": 'PROPN'}, {'5': 'NUM'}, {\"'\": 'NUM'}, {',': 'PUNCT'}, {'\"': 'PUNCT'}, {',': 'PUNCT'}, {'\"': 'PUNCT'}, {\"'\": 'PUNCT'}, {'AND': 'CCONJ'}, {\"'\": 'NUM'}, {',': 'PUNCT'}, {'\"': 'PUNCT'}, {',': 'PUNCT'}, {'\"': 'PUNCT'}, {\"'\": 'PROPN'}, {'2': 'X'}, {\"'\": 'NUM'}, {',': 'PUNCT'}, {'\"': 'PUNCT'}, {',': 'PUNCT'}, {'\"': 'PUNCT'}, {\"'\": 'PROPN'}, {'5': 'NUM'}, {\"'\": 'NUM'}, {']': 'PUNCT'}, {'\"': 'PUNCT'}, {']': 'PUNCT'}, {'[': 'X'}, {'\"': 'PUNCT'}, {'[': 'X'}, {\"'\": 'PROPN'}, {'TOP': 'NUM'}, {\"'\": 'PUNCT'}, {',': 'PUNCT'}, {'\"': 'PUNCT'}, {',': 'PUNCT'}, {'\"': 'PUNCT'}, {\"'\": 'PROPN'}, {'3': 'NUM'}, {\"'\": 'NUM'}, {',': 'PUNCT'}, {'\"': 'PUNCT'}, {',': 'PUNCT'}, {'\"': 'PUNCT'}, {\"'\": 'PUNCT'}, {'BY': 'ADP'}, {\"'\": 'NUM'}, {',': 'PUNCT'}, {'\"': 'PUNCT'}, {',': 'PUNCT'}, {'\"': 'PUNCT'}, {\"'\": 'PUNCT'}, {'Sepal': 'NOUN'}, {\"'\": 'PUNCT'}, {',': 'PUNCT'}, {'\"': 'PUNCT'}, {',': 'PUNCT'}, {'\"': 'PUNCT'}, {\"'\": 'PUNCT'}, {'Width': 'PROPN'}, {\"'\": 'PUNCT'}, {',': 'PUNCT'}, {'\"': 'PUNCT'}, {',': 'PUNCT'}, {'\"': 'PUNCT'}, {\"'\": 'PUNCT'}, {'DESC': 'VERB'}, {\"'\": 'PUNCT'}, {']': 'PUNCT'}, {'\"': 'PUNCT'}, {']': 'PUNCT'}, {'[': 'X'}, {'\"': 'PUNCT'}, {'[': 'X'}, {\"'\": 'X'}, {'Species': 'NOUN'}, {\"'\": 'PUNCT'}, {',': 'PUNCT'}, {'\"': 'PUNCT'}, {',': 'PUNCT'}, {'\"': 'PUNCT'}, {\"'\": 'PUNCT'}, {'Setosa': 'PROPN'}, {\"'\": 'PUNCT'}, {']': 'PUNCT'}, {'\"': 'PUNCT'}, {']': 'PUNCT'}, {'[': 'X'}, {'\"': 'PUNCT'}, {'[': 'X'}, {\"'\": 'X'}, {'Species': 'NOUN'}, {\"'\": 'PUNCT'}, {',': 'PUNCT'}, {'\"': 'PUNCT'}, {',': 'PUNCT'}, {'\"': 'PUNCT'}, {\"'\": 'PUNCT'}, {'STARTS': 'PROPN'}, {\"'\": 'NUM'}, {',': 'PUNCT'}, {'\"': 'PUNCT'}, {',': 'PUNCT'}, {'\"': 'PUNCT'}, {\"'\": 'PUNCT'}, {'WITH': 'ADP'}, {\"'\": 'NUM'}, {',': 'PUNCT'}, {'\"': 'PUNCT'}, {',': 'PUNCT'}, {'\"': 'PUNCT'}, {\"'\": 'PUNCT'}, {'Se': 'PROPN'}, {\"'\": 'NUM'}, {']': 'PUNCT'}, {'\"': 'PUNCT'}, {']': 'PUNCT'}, {'[': 'X'}, {'\"': 'PUNCT'}, {'[': 'X'}, {\"'\": 'VERB'}, {'SUM': 'NOUN'}, {\"'\": 'PUNCT'}, {',': 'PUNCT'}, {'\"': 'PUNCT'}, {',': 'PUNCT'}, {'\"': 'PUNCT'}, {\"'\": 'PUNCT'}, {'Petal': 'ADJ'}, {\"'\": 'PUNCT'}, {',': 'PUNCT'}, {'\"': 'PUNCT'}, {',': 'PUNCT'}, {'\"': 'PUNCT'}, {\"'\": 'PUNCT'}, {'Length': 'X'}, {\"'\": 'PUNCT'}, {']': 'PUNCT'}, {'\"': 'PUNCT'}, {']': 'PUNCT'}, {'[': 'X'}, {'\"': 'PUNCT'}, {'[': 'X'}, {\"'\": 'X'}, {'AVG': 'PROPN'}, {\"'\": 'NUM'}, {',': 'PUNCT'}, {'\"': 'PUNCT'}, {',': 'PUNCT'}, {'\"': 'PUNCT'}, {\"'\": 'PUNCT'}, {'Petal': 'ADJ'}, {\"'\": 'PUNCT'}, {',': 'PUNCT'}, {'\"': 'PUNCT'}, {',': 'PUNCT'}, {'\"': 'PUNCT'}, {\"'\": 'PUNCT'}, {'Width': 'PROPN'}, {\"'\": 'PUNCT'}, {']': 'PUNCT'}, {'\"': 'PUNCT'}, {']': 'PUNCT'}, {'[': 'X'}, {'\"': 'PUNCT'}, {'[': 'X'}, {\"'\": 'X'}, {'MEDIAN': 'PROPN'}, {\"'\": 'PUNCT'}, {',': 'PUNCT'}, {'\"': 'PUNCT'}, {',': 'PUNCT'}, {'\"': 'PUNCT'}, {\"'\": 'PUNCT'}, {'Sepal': 'NOUN'}, {\"'\": 'PUNCT'}, {',': 'PUNCT'}, {'\"': 'PUNCT'}, {',': 'PUNCT'}, {'\"': 'PUNCT'}, {\"'\": 'PUNCT'}, {'Width': 'PROPN'}, {\"'\": 'PUNCT'}, {']': 'PUNCT'}, {'\"': 'PUNCT'}, {']': 'PUNCT'}, {'[': 'X'}, {'\"': 'PUNCT'}, {'[': 'X'}, {\"'\": 'X'}, {'COUNT': 'PROPN'}, {\"'\": 'NUM'}, {',': 'PUNCT'}, {'\"': 'PUNCT'}, {',': 'PUNCT'}, {'\"': 'PUNCT'}, {\"'\": 'PUNCT'}, {'Sepal': 'NOUN'}, {\"'\": 'PUNCT'}, {',': 'PUNCT'}, {'\"': 'PUNCT'}, {',': 'PUNCT'}, {'\"': 'PUNCT'}, {\"'\": 'PUNCT'}, {'Length': 'X'}, {\"'\": 'PUNCT'}, {']': 'PUNCT'}, {'\"': 'PUNCT'}, {']': 'PUNCT'}, {'[': 'X'}, {'\"': 'PUNCT'}, {'[': 'X'}, {\"'\": 'VERB'}, {'COUNTD': 'PROPN'}, {\"'\": 'PUNCT'}, {',': 'PUNCT'}, {'\"': 'PUNCT'}, {',': 'PUNCT'}, {'\"': 'PUNCT'}, {\"'\": 'PUNCT'}, {'Species': 'PROPN'}, {\"'\": 'PUNCT'}, {']': 'PUNCT'}, {'\"': 'PUNCT'}, {']': 'PUNCT'}, {'[': 'X'}, {'\"': 'PUNCT'}, {'[': 'X'}, {\"'\": 'X'}, {'MIN': 'PROPN'}, {\"'\": 'PROPN'}, {',': 'PUNCT'}, {'\"': 'PUNCT'}, {',': 'PUNCT'}, {'\"': 'PUNCT'}, {\"'\": 'PUNCT'}, {'Sepal': 'NOUN'}, {\"'\": 'PUNCT'}, {',': 'PUNCT'}, {'\"': 'PUNCT'}, {',': 'PUNCT'}, {'\"': 'PUNCT'}, {\"'\": 'PUNCT'}, {'Length': 'X'}, {\"'\": 'PUNCT'}, {']': 'PUNCT'}, {'\"': 'PUNCT'}, {']': 'PUNCT'}, {'[': 'X'}, {'\"': 'PUNCT'}, {'[': 'X'}, {\"'\": 'X'}, {'MAX': 'PROPN'}, {\"'\": 'PUNCT'}, {',': 'PUNCT'}, {'\"': 'PUNCT'}, {',': 'PUNCT'}, {'\"': 'PUNCT'}, {\"'\": 'PUNCT'}, {'Petal': 'ADJ'}, {\"'\": 'PUNCT'}, {',': 'PUNCT'}, {'\"': 'PUNCT'}, {',': 'PUNCT'}, {'\"': 'PUNCT'}, {\"'\": 'PUNCT'}, {'Width': 'PROPN'}, {\"'\": 'PUNCT'}, {']': 'PUNCT'}, {'\"': 'PUNCT'}, {']': 'PUNCT'}, {'[': 'X'}, {'\"': 'PUNCT'}, {'[': 'X'}, {\"'\": 'VERB'}, {'SORT': 'ADV'}, {\"'\": 'NUM'}, {',': 'PUNCT'}, {'\"': 'PUNCT'}, {',': 'PUNCT'}, {'\"': 'PUNCT'}, {\"'\": 'PUNCT'}, {'Species': 'NOUN'}, {\"'\": 'PUNCT'}, {',': 'PUNCT'}, {'\"': 'PUNCT'}, {',': 'PUNCT'}, {'\"': 'PUNCT'}, {\"'\": 'PUNCT'}, {'DESC': 'VERB'}, {\"'\": 'PUNCT'}, {']': 'PUNCT'}, {'\"': 'PUNCT'}, {']': 'PUNCT'}, {'[': 'X'}, {'\"': 'PUNCT'}, {'[': 'X'}, {\"'\": 'VERB'}, {'SORT': 'ADV'}, {\"'\": 'NUM'}, {',': 'PUNCT'}, {'\"': 'PUNCT'}, {',': 'PUNCT'}, {'\"': 'PUNCT'}, {\"'\": 'PUNCT'}, {'Sepal': 'NOUN'}, {\"'\": 'PUNCT'}, {',': 'PUNCT'}, {'\"': 'PUNCT'}, {',': 'PUNCT'}, {'\"': 'PUNCT'}, {\"'\": 'PUNCT'}, {'Length': 'PROPN'}, {\"'\": 'PUNCT'}, {',': 'PUNCT'}, {'\"': 'PUNCT'}, {',': 'PUNCT'}, {'\"': 'PUNCT'}, {\"'\": 'PUNCT'}, {'ASC': 'PROPN'}, {\"'\": 'PUNCT'}, {']': 'PUNCT'}, {'\"': 'PUNCT'}, {']': 'PUNCT'}, {'[': 'X'}, {'\"': 'PUNCT'}, {'[': 'X'}, {\"'\": 'X'}, {'Sepal': 'NOUN'}, {\"'\": 'PUNCT'}, {',': 'PUNCT'}, {'\"': 'PUNCT'}, {',': 'PUNCT'}, {'\"': 'PUNCT'}, {\"'\": 'PUNCT'}, {'Length': 'PROPN'}, {\"'\": 'PUNCT'}, {',': 'PUNCT'}, {'\"': 'PUNCT'}, {',': 'PUNCT'}, {'\"': 'PUNCT'}, {\"'\": 'PROPN'}, {'4': 'NUM'}, {\"'\": 'NUM'}, {',': 'PUNCT'}, {'\"': 'PUNCT'}, {',': 'PUNCT'}, {'\"': 'PUNCT'}, {\"'\": 'PROPN'}, {'5': 'NUM'}, {\"'\": 'NUM'}, {']': 'PUNCT'}, {'\"': 'PUNCT'}, {']': 'PUNCT'}, {'[': 'X'}, {'\"': 'PUNCT'}, {'[': 'X'}, {\"'\": 'PUNCT'}, {'Petal': 'ADJ'}, {\"'\": 'PUNCT'}, {',': 'PUNCT'}, {'\"': 'PUNCT'}, {',': 'PUNCT'}, {'\"': 'PUNCT'}, {\"'\": 'PUNCT'}, {'Width': 'PROPN'}, {\"'\": 'PUNCT'}, {',': 'PUNCT'}, {'\"': 'PUNCT'}, {',': 'PUNCT'}, {'\"': 'PUNCT'}, {\"'\": 'PROPN'}, {'2': 'X'}, {\"'\": 'NUM'}, {',': 'PUNCT'}, {'\"': 'PUNCT'}, {',': 'PUNCT'}, {'\"': 'PUNCT'}, {\"'\": 'PUNCT'}, {'0': 'X'}, {\"'\": 'PUNCT'}, {']': 'PUNCT'}, {'\"': 'PUNCT'}, {']': 'PUNCT'}, {'[': 'X'}, {'\"': 'PUNCT'}, {'[': 'X'}, {\"'\": 'X'}, {'Sepal': 'NOUN'}, {\"'\": 'PUNCT'}, {',': 'PUNCT'}, {'\"': 'PUNCT'}, {',': 'PUNCT'}, {'\"': 'PUNCT'}, {\"'\": 'PUNCT'}, {'Width': 'PROPN'}, {\"'\": 'PUNCT'}, {',': 'PUNCT'}, {'\"': 'PUNCT'}, {',': 'PUNCT'}, {'\"': 'PUNCT'}, {\"'\": 'PROPN'}, {'3': 'NUM'}, {\"'\": 'NUM'}, {',': 'PUNCT'}, {'\"': 'PUNCT'}, {',': 'PUNCT'}, {'\"': 'PUNCT'}, {\"'\": 'PUNCT'}, {'0': 'X'}, {\"'\": 'PUNCT'}, {']': 'PUNCT'}, {'\"': 'PUNCT'}, {']': 'PUNCT'}, {'[': 'X'}, {'\"': 'PUNCT'}, {'[': 'X'}, {\"'\": 'VERB'}, {'ENDSWITH': 'NOUN'}, {\"'\": 'PUNCT'}, {',': 'PUNCT'}, {'\"': 'PUNCT'}, {',': 'PUNCT'}, {'\"': 'PUNCT'}, {\"'\": 'PUNCT'}, {'Species': 'NOUN'}, {\"'\": 'PUNCT'}, {',': 'PUNCT'}, {'\"': 'PUNCT'}, {',': 'PUNCT'}, {'\"': 'PUNCT'}, {\"'\": 'PUNCT'}, {'ica': 'X'}, {\"'\": 'PUNCT'}, {']': 'PUNCT'}, {'\"': 'PUNCT'}, {']': 'PUNCT'}, {'[': 'X'}, {'\"': 'PUNCT'}, {'[': 'X'}, {\"'\": 'X'}, {'Sepal': 'NOUN'}, {\"'\": 'PUNCT'}, {',': 'PUNCT'}, {'\"': 'PUNCT'}, {',': 'PUNCT'}, {'\"': 'PUNCT'}, {\"'\": 'PUNCT'}, {'Length': 'PROPN'}, {\"'\": 'PUNCT'}, {',': 'PUNCT'}, {'\"': 'PUNCT'}, {',': 'PUNCT'}, {'\"': 'PUNCT'}, {\"'\": 'PROPN'}, {'5': 'NUM'}, {\"'\": 'NUM'}, {',': 'PUNCT'}, {'\"': 'PUNCT'}, {',': 'PUNCT'}, {'\"': 'PUNCT'}, {\"'\": 'PUNCT'}, {'0': 'X'}, {\"'\": 'PUNCT'}, {']': 'PUNCT'}, {'\"': 'PUNCT'}, {']': 'PUNCT'}, {'[': 'X'}, {'\"': 'PUNCT'}, {'[': 'X'}, {\"'\": 'X'}, {'INDEX': 'PROPN'}, {\"'\": 'PUNCT'}, {',': 'PUNCT'}, {'\"': 'PUNCT'}, {',': 'PUNCT'}, {'\"': 'PUNCT'}, {\"'\": 'PROPN'}, {'5': 'NUM'}, {\"'\": 'NUM'}, {',': 'PUNCT'}, {'\"': 'PUNCT'}, {',': 'PUNCT'}, {'\"': 'PUNCT'}, {\"'\": 'PUNCT'}, {'SORT': 'ADV'}, {\"'\": 'NUM'}, {',': 'PUNCT'}, {'\"': 'PUNCT'}, {',': 'PUNCT'}, {'\"': 'PUNCT'}, {\"'\": 'PUNCT'}, {'BY': 'ADP'}, {\"'\": 'NUM'}, {',': 'PUNCT'}, {'\"': 'PUNCT'}, {',': 'PUNCT'}, {'\"': 'PUNCT'}, {\"'\": 'PUNCT'}, {'SUM': 'VERB'}, {\"'\": 'PUNCT'}, {',': 'PUNCT'}, {'\"': 'PUNCT'}, {',': 'PUNCT'}, {'\"': 'PUNCT'}, {\"'\": 'PUNCT'}, {'Sepal': 'NOUN'}, {\"'\": 'PUNCT'}, {',': 'PUNCT'}, {'\"': 'PUNCT'}, {',': 'PUNCT'}, {'\"': 'PUNCT'}, {\"'\": 'PUNCT'}, {'Width': 'PROPN'}, {\"'\": 'PUNCT'}, {',': 'PUNCT'}, {'\"': 'PUNCT'}, {',': 'PUNCT'}, {'\"': 'PUNCT'}, {\"'\": 'PUNCT'}, {'DESC': 'VERB'}, {\"'\": 'PUNCT'}, {']': 'PUNCT'}, {'\"': 'PUNCT'}, {']': 'PUNCT'}, {'[': 'X'}, {'\"': 'PUNCT'}, {'[': 'X'}, {\"'\": 'X'}, {'INDEX': 'PROPN'}, {\"'\": 'PUNCT'}, {',': 'PUNCT'}, {'\"': 'PUNCT'}, {',': 'PUNCT'}, {'\"': 'PUNCT'}, {\"'\": 'PROPN'}, {'3': 'NUM'}, {\"'\": 'NUM'}, {',': 'PUNCT'}, {'\"': 'PUNCT'}, {',': 'PUNCT'}, {'\"': 'PUNCT'}, {\"'\": 'PUNCT'}, {'SORT': 'ADV'}, {\"'\": 'NUM'}, {',': 'PUNCT'}, {'\"': 'PUNCT'}, {',': 'PUNCT'}, {'\"': 'PUNCT'}, {\"'\": 'PUNCT'}, {'BY': 'ADP'}, {\"'\": 'NUM'}, {',': 'PUNCT'}, {'\"': 'PUNCT'}, {',': 'PUNCT'}, {'\"': 'PUNCT'}, {\"'\": 'PUNCT'}, {'Petal': 'ADJ'}, {\"'\": 'PUNCT'}, {',': 'PUNCT'}, {'\"': 'PUNCT'}, {',': 'PUNCT'}, {'\"': 'PUNCT'}, {\"'\": 'PUNCT'}, {'Length': 'PROPN'}, {\"'\": 'PUNCT'}, {',': 'PUNCT'}, {'\"': 'PUNCT'}, {',': 'PUNCT'}, {'\"': 'PUNCT'}, {\"'\": 'PUNCT'}, {'ASC': 'PROPN'}, {\"'\": 'PUNCT'}, {']': 'PUNCT'}, {'\"': 'PUNCT'}, {']': 'PUNCT'}, {'[': 'X'}, {'\"': 'PUNCT'}, {'[': 'X'}, {\"'\": 'VERB'}, {'IF': 'SCONJ'}, {\"'\": 'NUM'}, {',': 'PUNCT'}, {'\"': 'PUNCT'}, {',': 'PUNCT'}, {'\"': 'PUNCT'}, {\"'\": 'PUNCT'}, {'Petal': 'ADJ'}, {\"'\": 'PUNCT'}, {',': 'PUNCT'}, {'\"': 'PUNCT'}, {',': 'PUNCT'}, {'\"': 'PUNCT'}, {\"'\": 'PUNCT'}, {'Length': 'PROPN'}, {\"'\": 'PUNCT'}, {',': 'PUNCT'}, {'\"': 'PUNCT'}, {',': 'PUNCT'}, {'\"': 'PUNCT'}, {\"'\": 'PROPN'}, {'4': 'NUM'}, {\"'\": 'NUM'}, {',': 'PUNCT'}, {'\"': 'PUNCT'}, {',': 'PUNCT'}, {'\"': 'PUNCT'}, {\"'\": 'PUNCT'}, {'AND': 'CCONJ'}, {\"'\": 'NUM'}, {',': 'PUNCT'}, {'\"': 'PUNCT'}, {',': 'PUNCT'}, {'\"': 'PUNCT'}, {\"'\": 'PUNCT'}, {'Petal': 'ADJ'}, {\"'\": 'PUNCT'}, {',': 'PUNCT'}, {'\"': 'PUNCT'}, {',': 'PUNCT'}, {'\"': 'PUNCT'}, {\"'\": 'PUNCT'}, {'Length': 'PROPN'}, {\"'\": 'PUNCT'}, {',': 'PUNCT'}, {'\"': 'PUNCT'}, {',': 'PUNCT'}, {'\"': 'PUNCT'}, {\"'\": 'PROPN'}, {'5': 'NUM'}, {\"'\": 'NUM'}, {',': 'PUNCT'}, {'\"': 'PUNCT'}, {',': 'PUNCT'}, {'\"': 'PUNCT'}, {\"'\": 'PUNCT'}, {'THEN': 'ADV'}, {\"'\": 'NUM'}, {',': 'PUNCT'}, {'\"': 'PUNCT'}, {',': 'PUNCT'}, {'\"': 'PUNCT'}, {\"'\": 'PROPN'}, {'1': 'X'}, {\"'\": 'NUM'}, {',': 'PUNCT'}, {'\"': 'PUNCT'}, {',': 'PUNCT'}, {'\"': 'PUNCT'}, {\"'\": 'PUNCT'}, {'ELSE': 'ADV'}, {\"'\": 'NUM'}, {',': 'PUNCT'}, {'\"': 'PUNCT'}, {',': 'PUNCT'}, {'\"': 'PUNCT'}, {\"'\": 'PUNCT'}, {'0': 'X'}, {\"'\": 'PUNCT'}, {',': 'PUNCT'}, {'\"': 'PUNCT'}, {',': 'PUNCT'}, {'\"': 'PUNCT'}, {\"'\": 'PUNCT'}, {'END': 'PROPN'}, {\"'\": 'PUNCT'}, {']': 'PUNCT'}, {'\"': 'PUNCT'}, {']': 'PUNCT'}, {'[': 'X'}, {'\"': 'PUNCT'}, {'[': 'X'}, {\"'\": 'VERB'}, {'DATETRUNC': 'PROPN'}, {\"'\": 'NUM'}, {',': 'PUNCT'}, {'\"': 'PUNCT'}, {',': 'PUNCT'}, {'\"': 'PUNCT'}, {\"'\": 'PUNCT'}, {'month': 'NOUN'}, {\"'\": 'PUNCT'}, {',': 'PUNCT'}, {'\"': 'PUNCT'}, {',': 'PUNCT'}, {'\"': 'PUNCT'}, {\"'\": 'PUNCT'}, {'Date': 'PROPN'}, {\"'\": 'PUNCT'}, {']': 'PUNCT'}, {'\"': 'PUNCT'}, {']': 'PUNCT'}, {'[': 'X'}, {'\"': 'PUNCT'}, {'[': 'X'}, {\"'\": 'X'}, {'YEAR': 'NOUN'}, {\"'\": 'PUNCT'}, {',': 'PUNCT'}, {'\"': 'PUNCT'}, {',': 'PUNCT'}, {'\"': 'PUNCT'}, {\"'\": 'PUNCT'}, {'Date': 'VERB'}, {\"'\": 'PUNCT'}, {',': 'PUNCT'}, {'\"': 'PUNCT'}, {',': 'PUNCT'}, {'\"': 'PUNCT'}, {\"'\": 'PUNCT'}, {'YEAR': 'NOUN'}, {\"'\": 'PUNCT'}, {',': 'PUNCT'}, {'\"': 'PUNCT'}, {',': 'PUNCT'}, {'\"': 'PUNCT'}, {\"'\": 'PUNCT'}, {'TODAY': 'NOUN'}, {\"'\": 'PUNCT'}, {',': 'PUNCT'}, {'\"': 'PUNCT'}, {',': 'PUNCT'}, {'\"': 'PUNCT'}, {\"'\": 'PROPN'}, {'1': 'X'}, {\"'\": 'NUM'}, {']': 'PUNCT'}, {'\"': 'PUNCT'}, {']': 'PUNCT'}, {'[': 'X'}, {'\"': 'PUNCT'}, {'[': 'X'}, {\"'\": 'X'}, {'Date': 'NOUN'}, {\"'\": 'NUM'}, {',': 'PUNCT'}, {'\"': 'PUNCT'}, {',': 'PUNCT'}, {'\"': 'PUNCT'}, {\"'\": 'PUNCT'}, {'DATETRUNC': 'PROPN'}, {\"'\": 'NUM'}, {',': 'PUNCT'}, {'\"': 'PUNCT'}, {',': 'PUNCT'}, {'\"': 'PUNCT'}, {\"'\": 'PUNCT'}, {'year': 'NOUN'}, {\"'\": 'PUNCT'}, {',': 'PUNCT'}, {'\"': 'PUNCT'}, {',': 'PUNCT'}, {'\"': 'PUNCT'}, {\"'\": 'PUNCT'}, {'TODAY': 'NOUN'}, {\"'\": 'PUNCT'}, {']': 'PUNCT'}, {'\"': 'PUNCT'}, {']': 'PUNCT'}, {'[': 'X'}, {'\"': 'PUNCT'}, {'[': 'X'}, {\"'\": 'X'}, {'AVG': 'PROPN'}, {\"'\": 'NUM'}, {',': 'PUNCT'}, {'\"': 'PUNCT'}, {',': 'PUNCT'}, {'\"': 'PUNCT'}, {\"'\": 'PUNCT'}, {'Sepal': 'NOUN'}, {\"'\": 'PUNCT'}, {',': 'PUNCT'}, {'\"': 'PUNCT'}, {',': 'PUNCT'}, {'\"': 'PUNCT'}, {\"'\": 'PUNCT'}, {'Length': 'PROPN'}, {\"'\": 'PUNCT'}, {',': 'PUNCT'}, {'\"': 'PUNCT'}, {',': 'PUNCT'}, {'\"': 'PUNCT'}, {\"'\": 'PUNCT'}, {'GROUP': 'PROPN'}, {\"'\": 'PUNCT'}, {',': 'PUNCT'}, {'\"': 'PUNCT'}, {',': 'PUNCT'}, {'\"': 'PUNCT'}, {\"'\": 'PUNCT'}, {'BY': 'ADP'}, {\"'\": 'NUM'}, {',': 'PUNCT'}, {'\"': 'PUNCT'}, {',': 'PUNCT'}, {'\"': 'PUNCT'}, {\"'\": 'PUNCT'}, {'Species': 'NOUN'}, {\"'\": 'PUNCT'}, {',': 'PUNCT'}, {'\"': 'PUNCT'}, {',': 'PUNCT'}, {'\"': 'PUNCT'}, {\"'\": 'PUNCT'}, {'SORT': 'ADV'}, {\"'\": 'NUM'}, {',': 'PUNCT'}, {'\"': 'PUNCT'}, {',': 'PUNCT'}, {'\"': 'PUNCT'}, {\"'\": 'PUNCT'}, {'BY': 'ADP'}, {\"'\": 'NUM'}, {',': 'PUNCT'}, {'\"': 'PUNCT'}, {',': 'PUNCT'}, {'\"': 'PUNCT'}, {\"'\": 'PUNCT'}, {'Species': 'NOUN'}, {\"'\": 'PUNCT'}, {',': 'PUNCT'}, {'\"': 'PUNCT'}, {',': 'PUNCT'}, {'\"': 'PUNCT'}, {\"'\": 'PUNCT'}, {'ASC': 'PROPN'}, {\"'\": 'PUNCT'}, {']': 'PUNCT'}, {'\"': 'PUNCT'}, {']': 'PUNCT'}, {'[': 'X'}, {'\"': 'PUNCT'}, {'[': 'X'}, {\"'\": 'VERB'}, {'COUNTD': 'PROPN'}, {\"'\": 'PUNCT'}, {',': 'PUNCT'}, {'\"': 'PUNCT'}, {',': 'PUNCT'}, {'\"': 'PUNCT'}, {\"'\": 'PUNCT'}, {'IF': 'SCONJ'}, {\"'\": 'NUM'}, {',': 'PUNCT'}, {'\"': 'PUNCT'}, {',': 'PUNCT'}, {'\"': 'PUNCT'}, {\"'\": 'PUNCT'}, {'LEFT': 'PROPN'}, {\"'\": 'PUNCT'}, {',': 'PUNCT'}, {'\"': 'PUNCT'}, {',': 'PUNCT'}, {'\"': 'PUNCT'}, {\"'\": 'PUNCT'}, {'Species': 'NOUN'}, {\"'\": 'PUNCT'}, {',': 'PUNCT'}, {'\"': 'PUNCT'}, {',': 'PUNCT'}, {'\"': 'PUNCT'}, {\"'\": 'PROPN'}, {'1': 'X'}, {\"'\": 'NUM'}, {',': 'PUNCT'}, {'\"': 'PUNCT'}, {',': 'PUNCT'}, {'\"': 'PUNCT'}, {\"'\": 'PUNCT'}, {'C': 'NOUN'}, {\"'\": 'NUM'}, {',': 'PUNCT'}, {'\"': 'PUNCT'}, {',': 'PUNCT'}, {'\"': 'PUNCT'}, {\"'\": 'PUNCT'}, {'THEN': 'ADV'}, {\"'\": 'NUM'}, {',': 'PUNCT'}, {'\"': 'PUNCT'}, {',': 'PUNCT'}, {'\"': 'PUNCT'}, {\"'\": 'PUNCT'}, {'Species': 'NOUN'}, {\"'\": 'PUNCT'}, {',': 'PUNCT'}, {'\"': 'PUNCT'}, {',': 'PUNCT'}, {'\"': 'PUNCT'}, {\"'\": 'PUNCT'}, {'ELSE': 'ADV'}, {\"'\": 'NUM'}, {',': 'PUNCT'}, {'\"': 'PUNCT'}, {',': 'PUNCT'}, {'\"': 'PUNCT'}, {\"'\": 'PUNCT'}, {'NULL': 'VERB'}, {\"'\": 'PUNCT'}, {',': 'PUNCT'}, {'\"': 'PUNCT'}, {',': 'PUNCT'}, {'\"': 'PUNCT'}, {\"'\": 'PUNCT'}, {'END': 'PROPN'}, {\"'\": 'PUNCT'}, {']': 'PUNCT'}, {'\"': 'PUNCT'}, {']': 'PUNCT'}, {'[': 'X'}, {'\"': 'PUNCT'}, {'[': 'X'}, {\"'\": 'PUNCT'}, {'Petal': 'ADJ'}, {\"'\": 'PUNCT'}, {',': 'PUNCT'}, {'\"': 'PUNCT'}, {',': 'PUNCT'}, {'\"': 'PUNCT'}, {\"'\": 'PUNCT'}, {'Length': 'PROPN'}, {\"'\": 'PUNCT'}, {',': 'PUNCT'}, {'\"': 'PUNCT'}, {',': 'PUNCT'}, {'\"': 'PUNCT'}, {\"'\": 'PROPN'}, {'4': 'NUM'}, {\"'\": 'NUM'}, {',': 'PUNCT'}, {'\"': 'PUNCT'}, {',': 'PUNCT'}, {'\"': 'PUNCT'}, {\"'\": 'PUNCT'}, {'0': 'X'}, {\"'\": 'PUNCT'}, {',': 'PUNCT'}, {'\"': 'PUNCT'}, {',': 'PUNCT'}, {'\"': 'PUNCT'}, {\"'\": 'PUNCT'}, {'AND': 'CCONJ'}, {\"'\": 'NUM'}, {',': 'PUNCT'}, {'\"': 'PUNCT'}, {',': 'PUNCT'}, {'\"': 'PUNCT'}, {\"'\": 'PUNCT'}, {'Sepal': 'NOUN'}, {\"'\": 'PUNCT'}, {',': 'PUNCT'}, {'\"': 'PUNCT'}, {',': 'PUNCT'}, {'\"': 'PUNCT'}, {\"'\": 'PUNCT'}, {'Length': 'PROPN'}, {\"'\": 'PUNCT'}, {',': 'PUNCT'}, {'\"': 'PUNCT'}, {',': 'PUNCT'}, {'\"': 'PUNCT'}, {\"'\": 'PROPN'}, {'4': 'NUM'}, {\"'\": 'NUM'}, {',': 'PUNCT'}, {'\"': 'PUNCT'}, {',': 'PUNCT'}, {'\"': 'PUNCT'}, {\"'\": 'PUNCT'}, {'0': 'X'}, {\"'\": 'PUNCT'}, {']': 'PUNCT'}, {'\"': 'PUNCT'}, {']': 'PUNCT'}, {'[': 'X'}, {'\"': 'PUNCT'}, {'[': 'X'}, {\"'\": 'NOUN'}, {'RANK_PERCENTILE': 'AUX'}, {\"'\": 'PUNCT'}, {',': 'PUNCT'}, {'\"': 'PUNCT'}, {',': 'PUNCT'}, {'\"': 'PUNCT'}, {\"'\": 'PUNCT'}, {'Petal': 'ADJ'}, {\"'\": 'PUNCT'}, {',': 'PUNCT'}, {'\"': 'PUNCT'}, {',': 'PUNCT'}, {'\"': 'PUNCT'}, {\"'\": 'PUNCT'}, {'Width': 'PROPN'}, {\"'\": 'PUNCT'}, {',': 'PUNCT'}, {'\"': 'PUNCT'}, {',': 'PUNCT'}, {'\"': 'PUNCT'}, {\"'\": 'PUNCT'}, {'0': 'X'}, {\"'\": 'PUNCT'}, {',': 'PUNCT'}, {'\"': 'PUNCT'}, {',': 'PUNCT'}, {'\"': 'PUNCT'}, {\"'\": 'PROPN'}, {'1': 'X'}, {\"'\": 'NUM'}, {']': 'PUNCT'}, {'\"': 'PUNCT'}, {']': 'PUNCT'}, {'[': 'X'}, {'\"': 'PUNCT'}, {'[': 'X'}, {\"'\": 'VERB'}, {'SUM': 'NOUN'}, {\"'\": 'PUNCT'}, {',': 'PUNCT'}, {'\"': 'PUNCT'}, {',': 'PUNCT'}, {'\"': 'PUNCT'}, {\"'\": 'PUNCT'}, {'Sepal': 'NOUN'}, {\"'\": 'PUNCT'}, {',': 'PUNCT'}, {'\"': 'PUNCT'}, {',': 'PUNCT'}, {'\"': 'PUNCT'}, {\"'\": 'PUNCT'}, {'Length': 'X'}, {\"'\": 'PUNCT'}, {']': 'PUNCT'}, {'\"': 'PUNCT'}, {']': 'PUNCT'}, {'[': 'X'}, {'\"': 'PUNCT'}, {'[': 'X'}, {\"'\": 'X'}, {'AVG': 'PROPN'}, {\"'\": 'NUM'}, {',': 'PUNCT'}, {'\"': 'PUNCT'}, {',': 'PUNCT'}, {'\"': 'PUNCT'}, {\"'\": 'PUNCT'}, {'Petal': 'ADJ'}, {\"'\": 'PUNCT'}, {',': 'PUNCT'}, {'\"': 'PUNCT'}, {',': 'PUNCT'}, {'\"': 'PUNCT'}, {\"'\": 'PUNCT'}, {'Width': 'PROPN'}, {\"'\": 'PUNCT'}, {']': 'PUNCT'}, {'\"': 'PUNCT'}, {']': 'PUNCT'}, {'[': 'X'}, {'\"': 'PUNCT'}, {'[': 'X'}, {\"'\": 'VERB'}, {'FIXED': 'NOUN'}, {\"'\": 'PUNCT'}, {',': 'PUNCT'}, {'\"': 'PUNCT'}, {',': 'PUNCT'}, {'\"': 'PUNCT'}, {\"'\": 'PUNCT'}, {'Species': 'NOUN'}, {\"'\": 'PUNCT'}, {',': 'PUNCT'}, {'\"': 'PUNCT'}, {',': 'PUNCT'}, {'\"': 'PUNCT'}, {\"'\": 'PUNCT'}, {'setosa': 'VERB'}, {\"'\": 'PUNCT'}, {',': 'PUNCT'}, {'\"': 'PUNCT'}, {',': 'PUNCT'}, {'\"': 'PUNCT'}, {\"'\": 'PUNCT'}, {'MEDIAN': 'PROPN'}, {\"'\": 'PUNCT'}, {',': 'PUNCT'}, {'\"': 'PUNCT'}, {',': 'PUNCT'}, {'\"': 'PUNCT'}, {\"'\": 'PUNCT'}, {'Sepal': 'NOUN'}, {\"'\": 'PUNCT'}, {',': 'PUNCT'}, {'\"': 'PUNCT'}, {',': 'PUNCT'}, {'\"': 'PUNCT'}, {\"'\": 'PUNCT'}, {'Width': 'PROPN'}, {\"'\": 'PUNCT'}, {']': 'PUNCT'}, {'\"': 'PUNCT'}, {']': 'PUNCT'}, {'[': 'X'}, {'\"': 'PUNCT'}, {'[': 'X'}, {\"'\": 'VERB'}, {'SUM': 'NOUN'}, {\"'\": 'PUNCT'}, {',': 'PUNCT'}, {'\"': 'PUNCT'}, {',': 'PUNCT'}, {'\"': 'PUNCT'}, {\"'\": 'PUNCT'}, {'IF': 'SCONJ'}, {\"'\": 'NUM'}, {',': 'PUNCT'}, {'\"': 'PUNCT'}, {',': 'PUNCT'}, {'\"': 'PUNCT'}, {\"'\": 'PUNCT'}, {'Species': 'NOUN'}, {\"'\": 'PUNCT'}, {',': 'PUNCT'}, {'\"': 'PUNCT'}, {',': 'PUNCT'}, {'\"': 'PUNCT'}, {\"'\": 'PUNCT'}, {'versicolor': 'NOUN'}, {\"'\": 'PUNCT'}, {',': 'PUNCT'}, {'\"': 'PUNCT'}, {',': 'PUNCT'}, {'\"': 'PUNCT'}, {\"'\": 'PUNCT'}, {'THEN': 'ADV'}, {\"'\": 'NUM'}, {',': 'PUNCT'}, {'\"': 'PUNCT'}, {',': 'PUNCT'}, {'\"': 'PUNCT'}, {\"'\": 'PROPN'}, {'1': 'X'}, {\"'\": 'NUM'}, {',': 'PUNCT'}, {'\"': 'PUNCT'}, {',': 'PUNCT'}, {'\"': 'PUNCT'}, {\"'\": 'PUNCT'}, {'ELSE': 'ADV'}, {\"'\": 'NUM'}, {',': 'PUNCT'}, {'\"': 'PUNCT'}, {',': 'PUNCT'}, {'\"': 'PUNCT'}, {\"'\": 'PUNCT'}, {'0': 'X'}, {\"'\": 'PUNCT'}, {',': 'PUNCT'}, {'\"': 'PUNCT'}, {',': 'PUNCT'}, {'\"': 'PUNCT'}, {\"'\": 'PUNCT'}, {'END': 'PROPN'}, {\"'\": 'PUNCT'}, {']': 'PUNCT'}, {'\"': 'PUNCT'}, {']': 'PUNCT'}, {'[': 'X'}, {'\"': 'PUNCT'}, {'[': 'X'}, {\"'\": 'VERB'}, {'COUNTD': 'PROPN'}, {\"'\": 'PUNCT'}, {',': 'PUNCT'}, {'\"': 'PUNCT'}, {',': 'PUNCT'}, {'\"': 'PUNCT'}, {\"'\": 'PUNCT'}, {'IF': 'SCONJ'}, {\"'\": 'NUM'}, {',': 'PUNCT'}, {'\"': 'PUNCT'}, {',': 'PUNCT'}, {'\"': 'PUNCT'}, {\"'\": 'PUNCT'}, {'Sepal': 'NOUN'}, {\"'\": 'PUNCT'}, {',': 'PUNCT'}, {'\"': 'PUNCT'}, {',': 'PUNCT'}, {'\"': 'PUNCT'}, {\"'\": 'PUNCT'}, {'Length': 'PROPN'}, {\"'\": 'PUNCT'}, {',': 'PUNCT'}, {'\"': 'PUNCT'}, {',': 'PUNCT'}, {'\"': 'PUNCT'}, {\"'\": 'PROPN'}, {'5': 'NUM'}, {\"'\": 'NUM'}, {',': 'PUNCT'}, {'\"': 'PUNCT'}, {',': 'PUNCT'}, {'\"': 'PUNCT'}, {\"'\": 'PUNCT'}, {'0': 'X'}, {\"'\": 'PUNCT'}, {',': 'PUNCT'}, {'\"': 'PUNCT'}, {',': 'PUNCT'}, {'\"': 'PUNCT'}, {\"'\": 'PUNCT'}, {'THEN': 'ADV'}, {\"'\": 'NUM'}, {',': 'PUNCT'}, {'\"': 'PUNCT'}, {',': 'PUNCT'}, {'\"': 'PUNCT'}, {\"'\": 'PUNCT'}, {'Species': 'NOUN'}, {\"'\": 'PUNCT'}, {',': 'PUNCT'}, {'\"': 'PUNCT'}, {',': 'PUNCT'}, {'\"': 'PUNCT'}, {\"'\": 'PUNCT'}, {'ELSE': 'ADV'}, {\"'\": 'NUM'}, {',': 'PUNCT'}, {'\"': 'PUNCT'}, {',': 'PUNCT'}, {'\"': 'PUNCT'}, {\"'\": 'PUNCT'}, {'NULL': 'VERB'}, {\"'\": 'PUNCT'}, {',': 'PUNCT'}, {'\"': 'PUNCT'}, {',': 'PUNCT'}, {'\"': 'PUNCT'}, {\"'\": 'PUNCT'}, {'END': 'PROPN'}, {\"'\": 'PUNCT'}, {']': 'PUNCT'}, {'\"': 'PUNCT'}, {']': 'PUNCT'}, {'[': 'X'}, {'\"': 'PUNCT'}, {'[': 'X'}, {\"'\": 'VERB'}, {'FIXED': 'NOUN'}, {\"'\": 'PUNCT'}, {',': 'PUNCT'}, {'\"': 'PUNCT'}, {',': 'PUNCT'}, {'\"': 'PUNCT'}, {\"'\": 'PUNCT'}, {'Species': 'NOUN'}, {\"'\": 'PUNCT'}, {',': 'PUNCT'}, {'\"': 'PUNCT'}, {',': 'PUNCT'}, {'\"': 'PUNCT'}, {\"'\": 'PUNCT'}, {'virginica': 'X'}, {\"'\": 'PUNCT'}, {',': 'PUNCT'}, {'\"': 'PUNCT'}, {',': 'PUNCT'}, {'\"': 'PUNCT'}, {\"'\": 'PUNCT'}, {'MIN': 'PROPN'}, {\"'\": 'PROPN'}, {',': 'PUNCT'}, {'\"': 'PUNCT'}, {',': 'PUNCT'}, {'\"': 'PUNCT'}, {\"'\": 'PUNCT'}, {'Petal': 'ADJ'}, {\"'\": 'PUNCT'}, {',': 'PUNCT'}, {'\"': 'PUNCT'}, {',': 'PUNCT'}, {'\"': 'PUNCT'}, {\"'\": 'PUNCT'}, {'Length': 'X'}, {\"'\": 'PUNCT'}, {']': 'PUNCT'}, {'\"': 'PUNCT'}, {']': 'PUNCT'}, {'[': 'X'}, {'\"': 'PUNCT'}, {'[': 'X'}, {\"'\": 'VERB'}, {'FIXED': 'NOUN'}, {\"'\": 'PUNCT'}, {',': 'PUNCT'}, {'\"': 'PUNCT'}, {',': 'PUNCT'}, {'\"': 'PUNCT'}, {\"'\": 'PUNCT'}, {'Species': 'NOUN'}, {\"'\": 'PUNCT'}, {',': 'PUNCT'}, {'\"': 'PUNCT'}, {',': 'PUNCT'}, {'\"': 'PUNCT'}, {\"'\": 'PUNCT'}, {'setosa': 'VERB'}, {\"'\": 'PUNCT'}, {',': 'PUNCT'}, {'\"': 'PUNCT'}, {',': 'PUNCT'}, {'\"': 'PUNCT'}, {\"'\": 'PUNCT'}, {'MAX': 'PROPN'}, {\"'\": 'PUNCT'}, {',': 'PUNCT'}, {'\"': 'PUNCT'}, {',': 'PUNCT'}, {'\"': 'PUNCT'}, {\"'\": 'PUNCT'}, {'Sepal': 'NOUN'}, {\"'\": 'PUNCT'}, {',': 'PUNCT'}, {'\"': 'PUNCT'}, {',': 'PUNCT'}, {'\"': 'PUNCT'}, {\"'\": 'PUNCT'}, {'Width': 'PROPN'}, {\"'\": 'PUNCT'}, {']': 'PUNCT'}, {'\"': 'PUNCT'}, {']': 'PUNCT'}, {'[': 'X'}, {'\"': 'PUNCT'}, {'[': 'X'}, {\"'\": 'PUNCT'}, {'SORTED': 'ADJ'}, {\"'\": 'PUNCT'}, {',': 'PUNCT'}, {'\"': 'PUNCT'}, {',': 'PUNCT'}, {'\"': 'PUNCT'}, {\"'\": 'PUNCT'}, {'BY': 'ADP'}, {\"'\": 'NUM'}, {',': 'PUNCT'}, {'\"': 'PUNCT'}, {',': 'PUNCT'}, {'\"': 'PUNCT'}, {\"'\": 'PUNCT'}, {'Species': 'NOUN'}, {\"'\": 'PUNCT'}, {',': 'PUNCT'}, {'\"': 'PUNCT'}, {',': 'PUNCT'}, {'\"': 'PUNCT'}, {\"'\": 'PUNCT'}, {'alphabetically': 'ADV'}, {\"'\": 'VERB'}, {',': 'PUNCT'}, {'\"': 'PUNCT'}, {',': 'PUNCT'}, {'\"': 'PUNCT'}, {\"'\": 'PUNCT'}, {'COUNT': 'PROPN'}, {\"'\": 'PUNCT'}, {',': 'PUNCT'}, {'\"': 'PUNCT'}, {',': 'PUNCT'}, {'\"': 'PUNCT'}, {\"'\": 'PUNCT'}, {'Species': 'NOUN'}, {\"'\": 'PUNCT'}, {',': 'PUNCT'}, {'\"': 'PUNCT'}, {',': 'PUNCT'}, {'\"': 'PUNCT'}, {\"'\": 'PUNCT'}, {'GROUP': 'PROPN'}, {\"'\": 'PUNCT'}, {',': 'PUNCT'}, {'\"': 'PUNCT'}, {',': 'PUNCT'}, {'\"': 'PUNCT'}, {\"'\": 'PUNCT'}, {'BY': 'ADP'}, {\"'\": 'NUM'}, {',': 'PUNCT'}, {'\"': 'PUNCT'}, {',': 'PUNCT'}, {'\"': 'PUNCT'}, {\"'\": 'PUNCT'}, {'Species': 'NOUN'}, {\"'\": 'PUNCT'}, {',': 'PUNCT'}, {'\"': 'PUNCT'}, {',': 'PUNCT'}, {'\"': 'PUNCT'}, {\"'\": 'PUNCT'}, {'ORDER': 'NOUN'}, {\"'\": 'PUNCT'}, {',': 'PUNCT'}, {'\"': 'PUNCT'}, {',': 'PUNCT'}, {'\"': 'PUNCT'}, {\"'\": 'PUNCT'}, {'BY': 'ADP'}, {\"'\": 'NUM'}, {',': 'PUNCT'}, {'\"': 'PUNCT'}, {',': 'PUNCT'}, {'\"': 'PUNCT'}, {\"'\": 'PUNCT'}, {'Species': 'NOUN'}, {\"'\": 'PUNCT'}, {',': 'PUNCT'}, {'\"': 'PUNCT'}, {',': 'PUNCT'}, {'\"': 'PUNCT'}, {\"'\": 'PUNCT'}, {'ASC': 'PROPN'}, {\"'\": 'PUNCT'}, {']': 'PUNCT'}, {'\"': 'PUNCT'}, {']': 'PUNCT'}, {'[': 'X'}, {'\"': 'PUNCT'}, {'[': 'X'}, {\"'\": 'X'}, {'Species': 'NOUN'}, {\"'\": 'PUNCT'}, {',': 'PUNCT'}, {'\"': 'PUNCT'}, {',': 'PUNCT'}, {'\"': 'PUNCT'}, {\"'\": 'PUNCT'}, {'versicolor': 'NOUN'}, {\"'\": 'PUNCT'}, {',': 'PUNCT'}, {'\"': 'PUNCT'}, {',': 'PUNCT'}, {'\"': 'PUNCT'}, {\"'\": 'PUNCT'}, {'AND': 'CCONJ'}, {\"'\": 'NUM'}, {',': 'PUNCT'}, {'\"': 'PUNCT'}, {',': 'PUNCT'}, {'\"': 'PUNCT'}, {\"'\": 'PUNCT'}, {'Sepal': 'NOUN'}, {\"'\": 'PUNCT'}, {',': 'PUNCT'}, {'\"': 'PUNCT'}, {',': 'PUNCT'}, {'\"': 'PUNCT'}, {\"'\": 'PUNCT'}, {'Width': 'PROPN'}, {\"'\": 'PUNCT'}, {',': 'PUNCT'}, {'\"': 'PUNCT'}, {',': 'PUNCT'}, {'\"': 'PUNCT'}, {\"'\": 'PROPN'}, {'3': 'NUM'}, {\"'\": 'NUM'}, {',': 'PUNCT'}, {'\"': 'PUNCT'}, {',': 'PUNCT'}, {'\"': 'PUNCT'}, {\"'\": 'PUNCT'}, {'0': 'X'}, {\"'\": 'PUNCT'}, {']': 'PUNCT'}, {'\"': 'PUNCT'}, {']': 'PUNCT'}, {'[': 'X'}, {'\"': 'PUNCT'}, {'[': 'X'}, {\"'\": 'PUNCT'}, {'RANK': 'VERB'}, {\"'\": 'PUNCT'}, {',': 'PUNCT'}, {'\"': 'PUNCT'}, {',': 'PUNCT'}, {'\"': 'PUNCT'}, {\"'\": 'PUNCT'}, {'Sepal': 'NOUN'}, {\"'\": 'PUNCT'}, {',': 'PUNCT'}, {'\"': 'PUNCT'}, {',': 'PUNCT'}, {'\"': 'PUNCT'}, {\"'\": 'PUNCT'}, {'Length': 'PROPN'}, {\"'\": 'PUNCT'}, {',': 'PUNCT'}, {'\"': 'PUNCT'}, {',': 'PUNCT'}, {'\"': 'PUNCT'}, {\"'\": 'PROPN'}, {'5': 'NUM'}, {\"'\": 'NUM'}, {',': 'PUNCT'}, {'\"': 'PUNCT'}, {',': 'PUNCT'}, {'\"': 'PUNCT'}, {\"'\": 'PUNCT'}, {'AND': 'CCONJ'}, {\"'\": 'NUM'}, {',': 'PUNCT'}, {'\"': 'PUNCT'}, {',': 'PUNCT'}, {'\"': 'PUNCT'}, {\"'\": 'PUNCT'}, {'Species': 'NOUN'}, {\"'\": 'PUNCT'}, {',': 'PUNCT'}, {'\"': 'PUNCT'}, {',': 'PUNCT'}, {'\"': 'PUNCT'}, {\"'\": 'PUNCT'}, {'virginica': 'X'}, {\"'\": 'PUNCT'}, {']': 'PUNCT'}, {'\"': 'PUNCT'}, {']': 'PUNCT'}, {'[': 'X'}, {'\"': 'PUNCT'}, {'[': 'X'}, {\"'\": 'NOUN'}, {'RANK_PERCENTILE': 'AUX'}, {\"'\": 'PUNCT'}, {',': 'PUNCT'}, {'\"': 'PUNCT'}, {',': 'PUNCT'}, {'\"': 'PUNCT'}, {\"'\": 'PUNCT'}, {'Petal': 'ADJ'}, {\"'\": 'PUNCT'}, {',': 'PUNCT'}, {'\"': 'PUNCT'}, {',': 'PUNCT'}, {'\"': 'PUNCT'}, {\"'\": 'PUNCT'}, {'Width': 'PROPN'}, {\"'\": 'PUNCT'}, {',': 'PUNCT'}, {'\"': 'PUNCT'}, {',': 'PUNCT'}, {'\"': 'PUNCT'}, {\"'\": 'PUNCT'}, {'0': 'X'}, {\"'\": 'PUNCT'}, {',': 'PUNCT'}, {'\"': 'PUNCT'}, {',': 'PUNCT'}, {'\"': 'PUNCT'}, {\"'\": 'PUNCT'}, {'9': 'NUM'}, {\"'\": 'PUNCT'}, {']': 'PUNCT'}, {'\"': 'PUNCT'}, {']': 'PUNCT'}, {'[': 'X'}, {'\"': 'PUNCT'}, {'[': 'X'}, {\"'\": 'PUNCT'}, {'LISTED': 'VERB'}, {\"'\": 'PUNCT'}, {',': 'PUNCT'}, {'\"': 'PUNCT'}, {',': 'PUNCT'}, {'\"': 'PUNCT'}, {\"'\": 'PUNCT'}, {'FROM': 'ADP'}, {\"'\": 'NUM'}, {',': 'PUNCT'}, {'\"': 'PUNCT'}, {',': 'PUNCT'}, {'\"': 'PUNCT'}, {\"'\": 'PUNCT'}, {'highest': 'ADJ'}, {\"'\": 'PUNCT'}, {',': 'PUNCT'}, {'\"': 'PUNCT'}, {',': 'PUNCT'}, {'\"': 'PUNCT'}, {\"'\": 'PUNCT'}, {'to': 'PART'}, {\"'\": 'NUM'}, {',': 'PUNCT'}, {'\"': 'PUNCT'}, {',': 'PUNCT'}, {'\"': 'PUNCT'}, {\"'\": 'PUNCT'}, {'lowest': 'ADJ'}, {\"'\": 'PUNCT'}, {',': 'PUNCT'}, {'\"': 'PUNCT'}, {',': 'PUNCT'}, {'\"': 'PUNCT'}, {\"'\": 'PUNCT'}, {'AVG': 'PROPN'}, {\"'\": 'PUNCT'}, {',': 'PUNCT'}, {'\"': 'PUNCT'}, {',': 'PUNCT'}, {'\"': 'PUNCT'}, {\"'\": 'PUNCT'}, {'Sepal': 'NOUN'}, {\"'\": 'PUNCT'}, {',': 'PUNCT'}, {'\"': 'PUNCT'}, {',': 'PUNCT'}, {'\"': 'PUNCT'}, {\"'\": 'PUNCT'}, {'Length': 'PROPN'}, {\"'\": 'PUNCT'}, {',': 'PUNCT'}, {'\"': 'PUNCT'}, {',': 'PUNCT'}, {'\"': 'PUNCT'}, {\"'\": 'PUNCT'}, {'GROUP': 'PROPN'}, {\"'\": 'PUNCT'}, {',': 'PUNCT'}, {'\"': 'PUNCT'}, {',': 'PUNCT'}, {'\"': 'PUNCT'}, {\"'\": 'PUNCT'}, {'BY': 'ADP'}, {\"'\": 'NUM'}, {',': 'PUNCT'}, {'\"': 'PUNCT'}, {',': 'PUNCT'}, {'\"': 'PUNCT'}, {\"'\": 'PUNCT'}, {'Species': 'NOUN'}, {\"'\": 'PUNCT'}, {',': 'PUNCT'}, {'\"': 'PUNCT'}, {',': 'PUNCT'}, {'\"': 'PUNCT'}, {\"'\": 'PUNCT'}, {'ORDER': 'NOUN'}, {\"'\": 'PUNCT'}, {',': 'PUNCT'}, {'\"': 'PUNCT'}, {',': 'PUNCT'}, {'\"': 'PUNCT'}, {\"'\": 'PUNCT'}, {'BY': 'ADP'}, {\"'\": 'NUM'}, {',': 'PUNCT'}, {'\"': 'PUNCT'}, {',': 'PUNCT'}, {'\"': 'PUNCT'}, {\"'\": 'PUNCT'}, {'AVG': 'PROPN'}, {\"'\": 'PUNCT'}, {',': 'PUNCT'}, {'\"': 'PUNCT'}, {',': 'PUNCT'}, {'\"': 'PUNCT'}, {\"'\": 'PUNCT'}, {'Sepal': 'NOUN'}, {\"'\": 'PUNCT'}, {',': 'PUNCT'}, {'\"': 'PUNCT'}, {',': 'PUNCT'}, {'\"': 'PUNCT'}, {\"'\": 'PUNCT'}, {'Length': 'PROPN'}, {\"'\": 'PUNCT'}, {',': 'PUNCT'}, {'\"': 'PUNCT'}, {',': 'PUNCT'}, {'\"': 'PUNCT'}, {\"'\": 'PUNCT'}, {'DESC': 'VERB'}, {\"'\": 'PUNCT'}, {']': 'PUNCT'}, {'\"': 'PUNCT'}, {']': 'PUNCT'}, {'[': 'X'}, {'\"': 'PUNCT'}, {'[': 'X'}, {\"'\": 'X'}, {'Species': 'NOUN'}, {\"'\": 'PUNCT'}, {',': 'PUNCT'}, {'\"': 'PUNCT'}, {',': 'PUNCT'}, {'\"': 'PUNCT'}, {\"'\": 'PUNCT'}, {'setosa': 'VERB'}, {\"'\": 'PUNCT'}, {',': 'PUNCT'}, {'\"': 'PUNCT'}, {',': 'PUNCT'}, {'\"': 'PUNCT'}, {\"'\": 'PUNCT'}, {'AND': 'CCONJ'}, {\"'\": 'NUM'}, {',': 'PUNCT'}, {'\"': 'PUNCT'}, {',': 'PUNCT'}, {'\"': 'PUNCT'}, {\"'\": 'PUNCT'}, {'Petal': 'ADJ'}, {\"'\": 'PUNCT'}, {',': 'PUNCT'}, {'\"': 'PUNCT'}, {',': 'PUNCT'}, {'\"': 'PUNCT'}, {\"'\": 'PUNCT'}, {'Length': 'PROPN'}, {\"'\": 'PUNCT'}, {',': 'PUNCT'}, {'\"': 'PUNCT'}, {',': 'PUNCT'}, {'\"': 'PUNCT'}, {\"'\": 'PUNCT'}, {'BETWEEN': 'ADP'}, {\"'\": 'PUNCT'}, {',': 'PUNCT'}, {'\"': 'PUNCT'}, {',': 'PUNCT'}, {'\"': 'PUNCT'}, {\"'\": 'PROPN'}, {'4': 'NUM'}, {\"'\": 'NUM'}, {',': 'PUNCT'}, {'\"': 'PUNCT'}, {',': 'PUNCT'}, {'\"': 'PUNCT'}, {\"'\": 'PUNCT'}, {'0': 'X'}, {\"'\": 'PUNCT'}, {',': 'PUNCT'}, {'\"': 'PUNCT'}, {',': 'PUNCT'}, {'\"': 'PUNCT'}, {\"'\": 'PUNCT'}, {'AND': 'CCONJ'}, {\"'\": 'NUM'}, {',': 'PUNCT'}, {'\"': 'PUNCT'}, {',': 'PUNCT'}, {'\"': 'PUNCT'}, {\"'\": 'PROPN'}, {'5': 'NUM'}, {\"'\": 'NUM'}, {',': 'PUNCT'}, {'\"': 'PUNCT'}, {',': 'PUNCT'}, {'\"': 'PUNCT'}, {\"'\": 'PUNCT'}, {'0': 'X'}, {\"'\": 'PUNCT'}, {']': 'PUNCT'}, {'\"': 'PUNCT'}, {']': 'PUNCT'}, {'[': 'X'}, {'\"': 'PUNCT'}, {'[': 'X'}, {\"'\": 'VERB'}, {'SUM': 'NOUN'}, {\"'\": 'PUNCT'}, {',': 'PUNCT'}, {'\"': 'PUNCT'}, {',': 'PUNCT'}, {'\"': 'PUNCT'}, {\"'\": 'PUNCT'}, {'IF': 'SCONJ'}, {\"'\": 'NUM'}, {',': 'PUNCT'}, {'\"': 'PUNCT'}, {',': 'PUNCT'}, {'\"': 'PUNCT'}, {\"'\": 'PUNCT'}, {'CONTAINS': 'VERB'}, {\"'\": 'PUNCT'}, {',': 'PUNCT'}, {'\"': 'PUNCT'}, {',': 'PUNCT'}, {'\"': 'PUNCT'}, {\"'\": 'PUNCT'}, {'Species': 'NOUN'}, {\"'\": 'PUNCT'}, {',': 'PUNCT'}, {'\"': 'PUNCT'}, {',': 'PUNCT'}, {'\"': 'PUNCT'}, {\"'\": 'PUNCT'}, {'color': 'VERB'}, {\"'\": 'PUNCT'}, {',': 'PUNCT'}, {'\"': 'PUNCT'}, {',': 'PUNCT'}, {'\"': 'PUNCT'}, {\"'\": 'PUNCT'}, {'THEN': 'ADV'}, {\"'\": 'NUM'}, {',': 'PUNCT'}, {'\"': 'PUNCT'}, {',': 'PUNCT'}, {'\"': 'PUNCT'}, {\"'\": 'PROPN'}, {'1': 'X'}, {\"'\": 'NUM'}, {',': 'PUNCT'}, {'\"': 'PUNCT'}, {',': 'PUNCT'}, {'\"': 'PUNCT'}, {\"'\": 'PUNCT'}, {'ELSE': 'ADV'}, {\"'\": 'NUM'}, {',': 'PUNCT'}, {'\"': 'PUNCT'}, {',': 'PUNCT'}, {'\"': 'PUNCT'}, {\"'\": 'PUNCT'}, {'0': 'X'}, {\"'\": 'PUNCT'}, {',': 'PUNCT'}, {'\"': 'PUNCT'}, {',': 'PUNCT'}, {'\"': 'PUNCT'}, {\"'\": 'PUNCT'}, {'END': 'PROPN'}, {\"'\": 'PUNCT'}, {']': 'PUNCT'}, {'\"': 'PUNCT'}, {']': 'PUNCT'}, {'[': 'X'}, {'\"': 'PUNCT'}, {'[': 'X'}, {\"'\": 'PUNCT'}, {'STARTSWITH': 'VERB'}, {\"'\": 'PUNCT'}, {',': 'PUNCT'}, {'\"': 'PUNCT'}, {',': 'PUNCT'}, {'\"': 'PUNCT'}, {\"'\": 'PUNCT'}, {'Species': 'NOUN'}, {\"'\": 'PUNCT'}, {',': 'PUNCT'}, {'\"': 'PUNCT'}, {',': 'PUNCT'}, {'\"': 'PUNCT'}, {\"'\": 'PUNCT'}, {'Iri': 'PROPN'}, {\"'\": 'PROPN'}, {',': 'PUNCT'}, {'\"': 'PUNCT'}, {',': 'PUNCT'}, {'\"': 'PUNCT'}, {\"'\": 'PUNCT'}, {'AND': 'CCONJ'}, {\"'\": 'NUM'}, {',': 'PUNCT'}, {'\"': 'PUNCT'}, {',': 'PUNCT'}, {'\"': 'PUNCT'}, {\"'\": 'PUNCT'}, {'ENDSWITH': 'VERB'}, {\"'\": 'PUNCT'}, {',': 'PUNCT'}, {'\"': 'PUNCT'}, {',': 'PUNCT'}, {'\"': 'PUNCT'}, {\"'\": 'PUNCT'}, {'Species': 'NOUN'}, {\"'\": 'PUNCT'}, {',': 'PUNCT'}, {'\"': 'PUNCT'}, {',': 'PUNCT'}, {'\"': 'PUNCT'}, {\"'\": 'PUNCT'}, {'a': 'DET'}, {\"'\": 'PUNCT'}, {']': 'PUNCT'}, {'\"': 'PUNCT'}, {']': 'PUNCT'}]\n",
            "Tokenized Formula (Tableau) : ['X', 'ADJ', 'VERB', 'PART', 'NOUN', 'AUX', 'DET', 'NUM', 'CCONJ', 'ADP', 'ADV', 'PROPN', 'SCONJ', 'PUNCT']\n"
          ]
        }
      ]
    },
    {
      "cell_type": "code",
      "source": [
        "for pat in p_t:\n",
        "    print({pat:p_t[pat]})"
      ],
      "metadata": {
        "id": "WbkFmeMnIuaB",
        "colab": {
          "base_uri": "https://localhost:8080/"
        },
        "outputId": "fd4c5f49-2398-4b1d-de1b-4d8a47194e99"
      },
      "execution_count": 106,
      "outputs": [
        {
          "output_type": "stream",
          "name": "stdout",
          "text": [
            "{'X': ['1', 'ica', '2', '[', 'virginica', 'Length', '0', \"'\"]}\n",
            "{'ADJ': ['SORTED', 'highest', 'lowest', 'Petal']}\n",
            "{'VERB': ['CONTAINS', 'DESC', 'Date', 'setosa', 'NULL', 'ENDSWITH', 'LISTED', 'STARTSWITH', 'RANK', 'color', 'DISTINCT', 'SUM', \"'\"]}\n",
            "{'PART': ['to']}\n",
            "{'NOUN': ['year', 'Species', 'YEAR', 'month', \"'\", 'Date', 'ORDER', 'ENDSWITH', 'Sepal', 'FIXED', 'C', 'SUM', 'TODAY', 'versicolor']}\n",
            "{'AUX': ['RANK_PERCENTILE']}\n",
            "{'DET': ['a']}\n",
            "{'NUM': ['9', '4', 'TOP', '3', '5', \"'\"]}\n",
            "{'CCONJ': ['AND']}\n",
            "{'ADP': ['FROM', 'BETWEEN', 'BY', 'WITH']}\n",
            "{'ADV': ['SORT', 'ELSE', 'alphabetically', 'THEN']}\n",
            "{'PROPN': ['COUNTD', 'MAX', 'ASC', 'MEDIAN', 'Length', 'DATETRUNC', 'Width', 'STARTS', 'INDEX', 'Iri', \"'\", 'AVG', 'LEFT', 'END', 'Setosa', 'Species', 'Date', 'MIN', 'GROUP', 'Se', 'COUNT']}\n",
            "{'SCONJ': ['IF']}\n",
            "{'PUNCT': [']', '\"', ',', \"'\"]}\n"
          ]
        }
      ]
    },
    {
      "cell_type": "code",
      "source": [
        "p_e=dg_ent['Patterns_Symbols(Tableau)']=get_patterns(dg_tok,dg_tok.columns[2])"
      ],
      "metadata": {
        "id": "YuVGpeK9kcvl",
        "colab": {
          "base_uri": "https://localhost:8080/"
        },
        "outputId": "691d1a99-f8f8-4512-c68d-87699b7b3dae"
      },
      "execution_count": 107,
      "outputs": [
        {
          "output_type": "stream",
          "name": "stdout",
          "text": [
            "[{'[': 'X'}, {'\"': 'PUNCT'}, {'[': 'X'}, {\"'\": 'VERB'}, {'(': 'PUNCT'}, {\"'\": 'PUNCT'}, {',': 'PUNCT'}, {'\"': 'PUNCT'}, {',': 'PUNCT'}, {'\"': 'PUNCT'}, {\"'\": 'PUNCT'}, {')': 'PUNCT'}, {\"'\": 'PUNCT'}, {']': 'PUNCT'}, {'\"': 'PUNCT'}, {']': 'PUNCT'}, {'[': 'X'}, {'\"': 'PUNCT'}, {'[': 'X'}, {\"'\": 'VERB'}, {'(': 'PUNCT'}, {\"'\": 'PUNCT'}, {',': 'PUNCT'}, {'\"': 'PUNCT'}, {',': 'PUNCT'}, {'\"': 'PUNCT'}, {\"'\": 'PUNCT'}, {')': 'PUNCT'}, {\"'\": 'PUNCT'}, {']': 'PUNCT'}, {'\"': 'PUNCT'}, {']': 'PUNCT'}, {'[': 'X'}, {'\"': 'PUNCT'}, {'[': 'X'}, {\"'\": 'VERB'}, {'(': 'PUNCT'}, {\"'\": 'PUNCT'}, {',': 'PUNCT'}, {'\"': 'PUNCT'}, {',': 'PUNCT'}, {'\"': 'PUNCT'}, {\"'\": 'PUNCT'}, {')': 'PUNCT'}, {\"'\": 'PUNCT'}, {']': 'PUNCT'}, {'\"': 'PUNCT'}, {']': 'PUNCT'}, {'[': 'X'}, {'\"': 'PUNCT'}, {'[': 'X'}, {\"'\": 'VERB'}, {'(': 'PUNCT'}, {\"'\": 'PUNCT'}, {',': 'PUNCT'}, {'\"': 'PUNCT'}, {',': 'PUNCT'}, {'\"': 'PUNCT'}, {\"'\": 'PUNCT'}, {'*': 'PUNCT'}, {\"'\": 'NUM'}, {',': 'PUNCT'}, {'\"': 'PUNCT'}, {',': 'PUNCT'}, {'\"': 'PUNCT'}, {\"'\": 'PUNCT'}, {')': 'PUNCT'}, {\"'\": 'PUNCT'}, {']': 'PUNCT'}, {'\"': 'PUNCT'}, {']': 'PUNCT'}, {'[': 'X'}, {'\"': 'PUNCT'}, {'[': 'X'}, {\"'\": 'VERB'}, {'(': 'PUNCT'}, {\"'\": 'PUNCT'}, {',': 'PUNCT'}, {'\"': 'PUNCT'}, {',': 'PUNCT'}, {'\"': 'PUNCT'}, {\"'\": 'PUNCT'}, {')': 'PUNCT'}, {\"'\": 'PUNCT'}, {']': 'PUNCT'}, {'\"': 'PUNCT'}, {']': 'PUNCT'}, {'[': 'X'}, {'\"': 'PUNCT'}, {'[': 'X'}, {\"'\": 'VERB'}, {'(': 'PUNCT'}, {\"'\": 'PUNCT'}, {',': 'PUNCT'}, {'\"': 'PUNCT'}, {',': 'PUNCT'}, {'\"': 'PUNCT'}, {\"'\": 'PUNCT'}, {')': 'PUNCT'}, {\"'\": 'PUNCT'}, {']': 'PUNCT'}, {'\"': 'PUNCT'}, {']': 'PUNCT'}, {'[': 'X'}, {'\"': 'PUNCT'}, {'[': 'X'}, {\"'\": 'VERB'}, {'(': 'PUNCT'}, {\"'\": 'PUNCT'}, {',': 'PUNCT'}, {'\"': 'PUNCT'}, {',': 'PUNCT'}, {'\"': 'PUNCT'}, {\"'\": 'PUNCT'}, {')': 'PUNCT'}, {\"'\": 'PUNCT'}, {']': 'PUNCT'}, {'\"': 'PUNCT'}, {']': 'PUNCT'}, {'[': 'X'}, {'\"': 'PUNCT'}, {'[': 'X'}, {\"'\": 'VERB'}, {'(': 'PUNCT'}, {\"'\": 'PUNCT'}, {',': 'PUNCT'}, {'\"': 'PUNCT'}, {',': 'PUNCT'}, {'\"': 'PUNCT'}, {\"'\": 'PUNCT'}, {')': 'PUNCT'}, {\"'\": 'PUNCT'}, {']': 'PUNCT'}, {'\"': 'PUNCT'}, {']': 'PUNCT'}, {'[': 'X'}, {'\"': 'PUNCT'}, {'[': 'X'}, {\"'\": 'VERB'}, {'(': 'PUNCT'}, {\"'\": 'PUNCT'}, {',': 'PUNCT'}, {'\"': 'PUNCT'}, {',': 'PUNCT'}, {'\"': 'PUNCT'}, {\"'\": 'PUNCT'}, {')': 'PUNCT'}, {\"'\": 'PUNCT'}, {']': 'PUNCT'}, {'\"': 'PUNCT'}, {']': 'PUNCT'}, {'[': 'X'}, {'\"': 'PUNCT'}, {'[': 'X'}, {\"'\": 'VERB'}, {'(': 'PUNCT'}, {\"'\": 'PUNCT'}, {',': 'PUNCT'}, {'\"': 'PUNCT'}, {',': 'PUNCT'}, {'\"': 'PUNCT'}, {\"'\": 'PUNCT'}, {')': 'PUNCT'}, {\"'\": 'PUNCT'}, {']': 'PUNCT'}, {'\"': 'PUNCT'}, {']': 'PUNCT'}, {'[': 'X'}, {'\"': 'PUNCT'}, {'[': 'X'}, {\"'\": 'X'}, {'>': 'X'}, {\"'\": 'NUM'}, {',': 'PUNCT'}, {'\"': 'PUNCT'}, {',': 'PUNCT'}, {'\"': 'PUNCT'}, {\"'\": 'PUNCT'}, {'=': 'VERB'}, {\"'\": 'VERB'}, {',': 'PUNCT'}, {'\"': 'PUNCT'}, {',': 'PUNCT'}, {'\"': 'PUNCT'}, {\"'\": 'PUNCT'}, {'.': 'PUNCT'}, {\"'\": 'PUNCT'}, {']': 'PUNCT'}, {'\"': 'PUNCT'}, {']': 'PUNCT'}, {'[': 'X'}, {'\"': 'PUNCT'}, {'[': 'X'}, {\"'\": 'PUNCT'}, {'.': 'PUNCT'}, {\"'\": 'PUNCT'}, {',': 'PUNCT'}, {'\"': 'PUNCT'}, {',': 'PUNCT'}, {'\"': 'PUNCT'}, {\"'\": 'PUNCT'}, {'.': 'PUNCT'}, {\"'\": 'PUNCT'}, {']': 'PUNCT'}, {'\"': 'PUNCT'}, {']': 'PUNCT'}, {'[': 'X'}, {'\"': 'PUNCT'}, {'[': 'X'}, {\"'\": 'VERB'}, {'(': 'PUNCT'}, {\"'\": 'PUNCT'}, {',': 'PUNCT'}, {'\"': 'PUNCT'}, {',': 'PUNCT'}, {'\"': 'PUNCT'}, {\"'\": 'PUNCT'}, {')': 'PUNCT'}, {\"'\": 'PUNCT'}, {']': 'PUNCT'}, {'\"': 'PUNCT'}, {']': 'PUNCT'}, {'[': 'X'}, {'\"': 'PUNCT'}, {'[': 'X'}, {\"'\": 'X'}, {'=': 'VERB'}, {\"'\": 'NUM'}, {',': 'PUNCT'}, {'\"': 'PUNCT'}, {',': 'PUNCT'}, {\"'\": 'PUNCT'}, {'\"': 'PUNCT'}, {'\\\\': 'PROPN'}, {\"'\": 'PUNCT'}, {'\"': 'PUNCT'}, {',': 'PUNCT'}, {\"'\": 'PUNCT'}, {',': 'PUNCT'}, {\"'\": 'PUNCT'}, {'\"': 'PUNCT'}, {'\\\\': 'PROPN'}, {\"'\": 'PUNCT'}, {'\"': 'PUNCT'}, {']': 'PUNCT'}, {\"'\": 'X'}, {']': 'PUNCT'}, {'[': 'X'}, {\"'\": 'PUNCT'}, {'[': 'X'}, {'\"': 'PUNCT'}, {'\\\\': 'PROPN'}, {\"'\": 'PUNCT'}, {'\"': 'PUNCT'}, {',': 'PUNCT'}, {\"'\": 'PUNCT'}, {',': 'PUNCT'}, {\"'\": 'PUNCT'}, {'\"': 'PUNCT'}, {'\\\\': 'PROPN'}, {\"'\": 'PUNCT'}, {'\"': 'PUNCT'}, {']': 'PUNCT'}, {\"'\": 'X'}, {']': 'PUNCT'}, {'[': 'X'}, {'\"': 'PUNCT'}, {'[': 'X'}, {\"'\": 'VERB'}, {'(': 'PUNCT'}, {\"'\": 'PUNCT'}, {',': 'PUNCT'}, {'\"': 'PUNCT'}, {',': 'PUNCT'}, {'\"': 'PUNCT'}, {\"'\": 'PUNCT'}, {'[': 'X'}, {\"'\": 'X'}, {',': 'PUNCT'}, {'\"': 'PUNCT'}, {',': 'PUNCT'}, {'\"': 'PUNCT'}, {\"'\": 'PUNCT'}, {']': 'X'}, {\"'\": 'NUM'}, {',': 'PUNCT'}, {'\"': 'PUNCT'}, {',': 'PUNCT'}, {'\"': 'PUNCT'}, {\"'\": 'PUNCT'}, {')': 'PUNCT'}, {\"'\": 'PUNCT'}, {']': 'PUNCT'}, {'\"': 'PUNCT'}, {']': 'PUNCT'}, {'[': 'X'}, {'\"': 'PUNCT'}, {'[': 'X'}, {\"'\": 'VERB'}, {'(': 'PUNCT'}, {\"'\": 'PUNCT'}, {',': 'PUNCT'}, {'\"': 'PUNCT'}, {',': 'PUNCT'}, {'\"': 'PUNCT'}, {\"'\": 'PUNCT'}, {'[': 'X'}, {\"'\": 'X'}, {',': 'PUNCT'}, {'\"': 'PUNCT'}, {',': 'PUNCT'}, {'\"': 'PUNCT'}, {\"'\": 'PUNCT'}, {']': 'X'}, {\"'\": 'NUM'}, {',': 'PUNCT'}, {'\"': 'PUNCT'}, {',': 'PUNCT'}, {'\"': 'PUNCT'}, {\"'\": 'PUNCT'}, {')': 'PUNCT'}, {\"'\": 'PUNCT'}, {']': 'PUNCT'}, {'\"': 'PUNCT'}, {']': 'PUNCT'}, {'[': 'X'}, {'\"': 'PUNCT'}, {'[': 'X'}, {\"'\": 'VERB'}, {'(': 'PUNCT'}, {\"'\": 'PUNCT'}, {',': 'PUNCT'}, {'\"': 'PUNCT'}, {',': 'PUNCT'}, {'\"': 'PUNCT'}, {\"'\": 'PUNCT'}, {'[': 'X'}, {\"'\": 'X'}, {',': 'PUNCT'}, {'\"': 'PUNCT'}, {',': 'PUNCT'}, {'\"': 'PUNCT'}, {\"'\": 'PUNCT'}, {']': 'X'}, {\"'\": 'NUM'}, {',': 'PUNCT'}, {'\"': 'PUNCT'}, {',': 'PUNCT'}, {'\"': 'PUNCT'}, {\"'\": 'PUNCT'}, {')': 'PUNCT'}, {\"'\": 'PUNCT'}, {']': 'PUNCT'}, {'\"': 'PUNCT'}, {']': 'PUNCT'}, {'[': 'X'}, {'\"': 'PUNCT'}, {'[': 'X'}, {\"'\": 'VERB'}, {'(': 'PUNCT'}, {\"'\": 'PUNCT'}, {',': 'PUNCT'}, {'\"': 'PUNCT'}, {',': 'PUNCT'}, {'\"': 'PUNCT'}, {\"'\": 'PUNCT'}, {'[': 'X'}, {\"'\": 'X'}, {',': 'PUNCT'}, {'\"': 'PUNCT'}, {',': 'PUNCT'}, {'\"': 'PUNCT'}, {\"'\": 'PUNCT'}, {']': 'X'}, {\"'\": 'NUM'}, {',': 'PUNCT'}, {'\"': 'PUNCT'}, {',': 'PUNCT'}, {'\"': 'PUNCT'}, {\"'\": 'PUNCT'}, {')': 'PUNCT'}, {\"'\": 'PUNCT'}, {']': 'PUNCT'}, {'\"': 'PUNCT'}, {']': 'PUNCT'}, {'[': 'X'}, {'\"': 'PUNCT'}, {'[': 'X'}, {\"'\": 'VERB'}, {'(': 'PUNCT'}, {\"'\": 'PUNCT'}, {',': 'PUNCT'}, {'\"': 'PUNCT'}, {',': 'PUNCT'}, {'\"': 'PUNCT'}, {\"'\": 'PUNCT'}, {'[': 'X'}, {\"'\": 'X'}, {',': 'PUNCT'}, {'\"': 'PUNCT'}, {',': 'PUNCT'}, {'\"': 'PUNCT'}, {\"'\": 'PUNCT'}, {']': 'X'}, {\"'\": 'NUM'}, {',': 'PUNCT'}, {'\"': 'PUNCT'}, {',': 'PUNCT'}, {'\"': 'PUNCT'}, {\"'\": 'PUNCT'}, {')': 'PUNCT'}, {\"'\": 'PUNCT'}, {']': 'PUNCT'}, {'\"': 'PUNCT'}, {']': 'PUNCT'}, {'[': 'X'}, {'\"': 'PUNCT'}, {'[': 'X'}, {\"'\": 'VERB'}, {'(': 'PUNCT'}, {\"'\": 'PUNCT'}, {',': 'PUNCT'}, {'\"': 'PUNCT'}, {',': 'PUNCT'}, {'\"': 'PUNCT'}, {\"'\": 'PUNCT'}, {'[': 'X'}, {\"'\": 'X'}, {',': 'PUNCT'}, {'\"': 'PUNCT'}, {',': 'PUNCT'}, {'\"': 'PUNCT'}, {\"'\": 'PUNCT'}, {']': 'X'}, {\"'\": 'NUM'}, {',': 'PUNCT'}, {'\"': 'PUNCT'}, {',': 'PUNCT'}, {'\"': 'PUNCT'}, {\"'\": 'PUNCT'}, {')': 'PUNCT'}, {\"'\": 'PUNCT'}, {']': 'PUNCT'}, {'\"': 'PUNCT'}, {']': 'PUNCT'}, {'[': 'X'}, {'\"': 'PUNCT'}, {'[': 'X'}, {\"'\": 'VERB'}, {'(': 'PUNCT'}, {\"'\": 'PUNCT'}, {',': 'PUNCT'}, {'\"': 'PUNCT'}, {',': 'PUNCT'}, {'\"': 'PUNCT'}, {\"'\": 'PUNCT'}, {'[': 'X'}, {\"'\": 'X'}, {',': 'PUNCT'}, {'\"': 'PUNCT'}, {',': 'PUNCT'}, {'\"': 'PUNCT'}, {\"'\": 'PUNCT'}, {']': 'X'}, {\"'\": 'NUM'}, {',': 'PUNCT'}, {'\"': 'PUNCT'}, {',': 'PUNCT'}, {'\"': 'PUNCT'}, {\"'\": 'PUNCT'}, {')': 'PUNCT'}, {\"'\": 'PUNCT'}, {']': 'PUNCT'}, {'\"': 'PUNCT'}, {']': 'PUNCT'}, {'[': 'X'}, {'\"': 'PUNCT'}, {'[': 'X'}, {\"'\": 'VERB'}, {'(': 'PUNCT'}, {\"'\": 'PUNCT'}, {',': 'PUNCT'}, {'\"': 'PUNCT'}, {',': 'PUNCT'}, {'\"': 'PUNCT'}, {\"'\": 'PUNCT'}, {'[': 'X'}, {\"'\": 'X'}, {',': 'PUNCT'}, {'\"': 'PUNCT'}, {',': 'PUNCT'}, {'\"': 'PUNCT'}, {\"'\": 'PUNCT'}, {']': 'X'}, {\"'\": 'NUM'}, {',': 'PUNCT'}, {'\"': 'PUNCT'}, {',': 'PUNCT'}, {'\"': 'PUNCT'}, {\"'\": 'PUNCT'}, {',': 'PUNCT'}, {\"'\": 'PUNCT'}, {',': 'PUNCT'}, {'\"': 'PUNCT'}, {',': 'PUNCT'}, {'\"': 'PUNCT'}, {\"'\": 'PUNCT'}, {')': 'PUNCT'}, {\"'\": 'PUNCT'}, {']': 'PUNCT'}, {'\"': 'PUNCT'}, {']': 'PUNCT'}, {'[': 'X'}, {'\"': 'PUNCT'}, {'[': 'X'}, {\"'\": 'VERB'}, {'(': 'PUNCT'}, {\"'\": 'PUNCT'}, {',': 'PUNCT'}, {'\"': 'PUNCT'}, {',': 'PUNCT'}, {'\"': 'PUNCT'}, {\"'\": 'PUNCT'}, {'[': 'X'}, {\"'\": 'X'}, {',': 'PUNCT'}, {'\"': 'PUNCT'}, {',': 'PUNCT'}, {'\"': 'PUNCT'}, {\"'\": 'PUNCT'}, {']': 'X'}, {\"'\": 'NUM'}, {',': 'PUNCT'}, {'\"': 'PUNCT'}, {',': 'PUNCT'}, {'\"': 'PUNCT'}, {\"'\": 'PUNCT'}, {',': 'PUNCT'}, {\"'\": 'PUNCT'}, {',': 'PUNCT'}, {'\"': 'PUNCT'}, {',': 'PUNCT'}, {'\"': 'PUNCT'}, {\"'\": 'PUNCT'}, {')': 'PUNCT'}, {\"'\": 'PUNCT'}, {']': 'PUNCT'}, {'\"': 'PUNCT'}, {']': 'PUNCT'}, {'[': 'X'}, {'\"': 'PUNCT'}, {'[': 'X'}, {\"'\": 'X'}, {'[': 'X'}, {\"'\": 'PROPN'}, {',': 'PUNCT'}, {'\"': 'PUNCT'}, {',': 'PUNCT'}, {'\"': 'PUNCT'}, {\"'\": 'PUNCT'}, {']': 'X'}, {\"'\": 'NUM'}, {',': 'PUNCT'}, {'\"': 'PUNCT'}, {',': 'PUNCT'}, {'\"': 'PUNCT'}, {\"'\": 'VERB'}, {'>': 'X'}, {\"'\": 'NUM'}, {',': 'PUNCT'}, {'\"': 'PUNCT'}, {',': 'PUNCT'}, {'\"': 'PUNCT'}, {\"'\": 'PUNCT'}, {'=': 'VERB'}, {\"'\": 'VERB'}, {',': 'PUNCT'}, {'\"': 'PUNCT'}, {',': 'PUNCT'}, {'\"': 'PUNCT'}, {\"'\": 'PUNCT'}, {'.': 'PUNCT'}, {\"'\": 'PUNCT'}, {']': 'PUNCT'}, {'\"': 'PUNCT'}, {']': 'PUNCT'}, {'[': 'X'}, {'\"': 'PUNCT'}, {'[': 'X'}, {\"'\": 'X'}, {'[': 'X'}, {\"'\": 'PROPN'}, {',': 'PUNCT'}, {'\"': 'PUNCT'}, {',': 'PUNCT'}, {'\"': 'PUNCT'}, {\"'\": 'PUNCT'}, {']': 'X'}, {\"'\": 'NUM'}, {',': 'PUNCT'}, {'\"': 'PUNCT'}, {',': 'PUNCT'}, {'\"': 'PUNCT'}, {\"'\": 'PUNCT'}, {'<': 'X'}, {\"'\": 'PUNCT'}, {',': 'PUNCT'}, {'\"': 'PUNCT'}, {',': 'PUNCT'}, {'\"': 'PUNCT'}, {\"'\": 'PUNCT'}, {'.': 'PUNCT'}, {\"'\": 'PUNCT'}, {']': 'PUNCT'}, {'\"': 'PUNCT'}, {']': 'PUNCT'}, {'[': 'X'}, {'\"': 'PUNCT'}, {'[': 'X'}, {\"'\": 'X'}, {'[': 'X'}, {\"'\": 'PROPN'}, {',': 'PUNCT'}, {'\"': 'PUNCT'}, {',': 'PUNCT'}, {'\"': 'PUNCT'}, {\"'\": 'PUNCT'}, {']': 'X'}, {\"'\": 'NUM'}, {',': 'PUNCT'}, {'\"': 'PUNCT'}, {',': 'PUNCT'}, {'\"': 'PUNCT'}, {\"'\": 'PUNCT'}, {'!': 'PUNCT'}, {\"'\": 'PUNCT'}, {',': 'PUNCT'}, {'\"': 'PUNCT'}, {',': 'PUNCT'}, {'\"': 'PUNCT'}, {\"'\": 'PUNCT'}, {'=': 'VERB'}, {\"'\": 'VERB'}, {',': 'PUNCT'}, {'\"': 'PUNCT'}, {',': 'PUNCT'}, {'\"': 'PUNCT'}, {\"'\": 'PUNCT'}, {'.': 'PUNCT'}, {\"'\": 'PUNCT'}, {']': 'PUNCT'}, {'\"': 'PUNCT'}, {']': 'PUNCT'}, {'[': 'X'}, {'\"': 'PUNCT'}, {'[': 'X'}, {\"'\": 'VERB'}, {'(': 'PUNCT'}, {\"'\": 'PUNCT'}, {',': 'PUNCT'}, {'\"': 'PUNCT'}, {',': 'PUNCT'}, {'\"': 'PUNCT'}, {\"'\": 'PUNCT'}, {'[': 'X'}, {\"'\": 'X'}, {',': 'PUNCT'}, {'\"': 'PUNCT'}, {',': 'PUNCT'}, {'\"': 'PUNCT'}, {\"'\": 'PUNCT'}, {']': 'X'}, {\"'\": 'NUM'}, {',': 'PUNCT'}, {'\"': 'PUNCT'}, {',': 'PUNCT'}, {'\"': 'PUNCT'}, {\"'\": 'PUNCT'}, {',': 'PUNCT'}, {\"'\": 'PUNCT'}, {',': 'PUNCT'}, {'\"': 'PUNCT'}, {',': 'PUNCT'}, {\"'\": 'PUNCT'}, {'\\\\\\'\"\\\\': 'PROPN'}, {\"'\": 'PUNCT'}, {',': 'PUNCT'}, {\"'\": 'PUNCT'}, {',': 'PUNCT'}, {\"'\": 'PUNCT'}, {'\\\\\\'\"\\\\': 'PROPN'}, {\"'\": 'PUNCT'}, {',': 'PUNCT'}, {\"'\": 'PUNCT'}, {',': 'PUNCT'}, {'\"': 'PUNCT'}, {\"'\": 'PUNCT'}, {')': 'PUNCT'}, {\"'\": 'PUNCT'}, {']': 'PUNCT'}, {'\"': 'PUNCT'}, {']': 'PUNCT'}, {'[': 'X'}, {'\"': 'PUNCT'}, {'[': 'X'}, {\"'\": 'X'}, {'[': 'X'}, {\"'\": 'PROPN'}, {',': 'PUNCT'}, {'\"': 'PUNCT'}, {',': 'PUNCT'}, {'\"': 'PUNCT'}, {\"'\": 'PUNCT'}, {']': 'X'}, {\"'\": 'NUM'}, {',': 'PUNCT'}, {'\"': 'PUNCT'}, {',': 'PUNCT'}, {'\"': 'PUNCT'}, {\"'\": 'PUNCT'}, {'=': 'VERB'}, {\"'\": 'VERB'}, {',': 'PUNCT'}, {'\"': 'PUNCT'}, {',': 'PUNCT'}, {'\"': 'PUNCT'}, {\"'\": 'PUNCT'}, {'.': 'PUNCT'}, {\"'\": 'PUNCT'}, {']': 'PUNCT'}, {'\"': 'PUNCT'}, {']': 'PUNCT'}, {'[': 'X'}, {'\"': 'PUNCT'}, {'[': 'X'}, {\"'\": 'VERB'}, {'(': 'PUNCT'}, {\"'\": 'PUNCT'}, {',': 'PUNCT'}, {'\"': 'PUNCT'}, {',': 'PUNCT'}, {'\"': 'PUNCT'}, {\"'\": 'PUNCT'}, {')': 'PUNCT'}, {\"'\": 'PUNCT'}, {',': 'PUNCT'}, {'\"': 'PUNCT'}, {',': 'PUNCT'}, {'\"': 'PUNCT'}, {\"'\": 'PUNCT'}, {'<': 'X'}, {\"'\": 'PUNCT'}, {',': 'PUNCT'}, {'\"': 'PUNCT'}, {',': 'PUNCT'}, {'\"': 'PUNCT'}, {\"'\": 'PUNCT'}, {'=': 'VERB'}, {\"'\": 'VERB'}, {',': 'PUNCT'}, {'\"': 'PUNCT'}, {',': 'PUNCT'}, {'\"': 'PUNCT'}, {\"'\": 'PUNCT'}, {'(': 'PUNCT'}, {\"'\": 'PUNCT'}, {',': 'PUNCT'}, {'\"': 'PUNCT'}, {',': 'PUNCT'}, {'\"': 'PUNCT'}, {\"'\": 'PUNCT'}, {'[': 'X'}, {\"'\": 'X'}, {',': 'PUNCT'}, {'\"': 'PUNCT'}, {',': 'PUNCT'}, {'\"': 'PUNCT'}, {\"'\": 'PUNCT'}, {']': 'X'}, {\"'\": 'NUM'}, {',': 'PUNCT'}, {'\"': 'PUNCT'}, {',': 'PUNCT'}, {'\"': 'PUNCT'}, {\"'\": 'PUNCT'}, {')': 'PUNCT'}, {\"'\": 'PUNCT'}, {']': 'PUNCT'}, {'\"': 'PUNCT'}, {']': 'PUNCT'}, {'[': 'X'}, {'\"': 'PUNCT'}, {'[': 'X'}, {\"'\": 'VERB'}, {'(': 'PUNCT'}, {\"'\": 'PUNCT'}, {',': 'PUNCT'}, {'\"': 'PUNCT'}, {',': 'PUNCT'}, {'\"': 'PUNCT'}, {\"'\": 'PUNCT'}, {')': 'PUNCT'}, {\"'\": 'PUNCT'}, {',': 'PUNCT'}, {'\"': 'PUNCT'}, {',': 'PUNCT'}, {'\"': 'PUNCT'}, {\"'\": 'PUNCT'}, {'<': 'X'}, {\"'\": 'PUNCT'}, {',': 'PUNCT'}, {'\"': 'PUNCT'}, {',': 'PUNCT'}, {'\"': 'PUNCT'}, {\"'\": 'PUNCT'}, {'=': 'VERB'}, {\"'\": 'VERB'}, {',': 'PUNCT'}, {'\"': 'PUNCT'}, {',': 'PUNCT'}, {'\"': 'PUNCT'}, {\"'\": 'PUNCT'}, {'[': 'X'}, {\"'\": 'X'}, {',': 'PUNCT'}, {'\"': 'PUNCT'}, {',': 'PUNCT'}, {'\"': 'PUNCT'}, {\"'\": 'PUNCT'}, {']': 'X'}, {\"'\": 'X'}, {']': 'X'}, {'\"': 'PUNCT'}, {']': 'PUNCT'}, {'[': 'X'}, {'\"': 'PUNCT'}, {'[': 'X'}, {\"'\": 'X'}, {'[': 'X'}, {\"'\": 'PROPN'}, {',': 'PUNCT'}, {'\"': 'PUNCT'}, {',': 'PUNCT'}, {'\"': 'PUNCT'}, {\"'\": 'PUNCT'}, {']': 'X'}, {\"'\": 'NUM'}, {',': 'PUNCT'}, {'\"': 'PUNCT'}, {',': 'PUNCT'}, {'\"': 'PUNCT'}, {\"'\": 'VERB'}, {'>': 'X'}, {\"'\": 'NUM'}, {',': 'PUNCT'}, {'\"': 'PUNCT'}, {',': 'PUNCT'}, {'\"': 'PUNCT'}, {\"'\": 'PUNCT'}, {'=': 'VERB'}, {\"'\": 'VERB'}, {',': 'PUNCT'}, {'\"': 'PUNCT'}, {',': 'PUNCT'}, {'\"': 'PUNCT'}, {\"'\": 'PUNCT'}, {'[': 'X'}, {\"'\": 'X'}, {',': 'PUNCT'}, {'\"': 'PUNCT'}, {',': 'PUNCT'}, {'\"': 'PUNCT'}, {\"'\": 'PUNCT'}, {']': 'X'}, {\"'\": 'NUM'}, {',': 'PUNCT'}, {'\"': 'PUNCT'}, {',': 'PUNCT'}, {'\"': 'PUNCT'}, {\"'\": 'PUNCT'}, {'<': 'X'}, {\"'\": 'PUNCT'}, {',': 'PUNCT'}, {'\"': 'PUNCT'}, {',': 'PUNCT'}, {'\"': 'PUNCT'}, {\"'\": 'PUNCT'}, {'=': 'VERB'}, {\"'\": 'X'}, {']': 'X'}, {'\"': 'PUNCT'}, {']': 'PUNCT'}, {'[': 'X'}, {'\"': 'PUNCT'}, {'[': 'X'}, {\"'\": 'VERB'}, {'(': 'PUNCT'}, {\"'\": 'PUNCT'}, {',': 'PUNCT'}, {'\"': 'PUNCT'}, {',': 'PUNCT'}, {\"'\": 'PUNCT'}, {'\"': 'PUNCT'}, {'\\\\': 'PROPN'}, {\"'\": 'PUNCT'}, {'\"': 'PUNCT'}, {',': 'PUNCT'}, {\"'\": 'PUNCT'}, {',': 'PUNCT'}, {\"'\": 'PUNCT'}, {'\"': 'PUNCT'}, {'\\\\': 'PROPN'}, {\"'\": 'PROPN'}, {',': 'PUNCT'}, {'\"': 'PUNCT'}, {',': 'PUNCT'}, {\"'\": 'PUNCT'}, {',': 'PUNCT'}, {'\"': 'PUNCT'}, {\"'\": 'PUNCT'}, {'[': 'X'}, {\"'\": 'X'}, {',': 'PUNCT'}, {'\"': 'PUNCT'}, {',': 'PUNCT'}, {'\"': 'PUNCT'}, {\"'\": 'PUNCT'}, {']': 'X'}, {\"'\": 'NUM'}, {',': 'PUNCT'}, {'\"': 'PUNCT'}, {',': 'PUNCT'}, {'\"': 'PUNCT'}, {\"'\": 'PUNCT'}, {')': 'PUNCT'}, {\"'\": 'PUNCT'}, {']': 'PUNCT'}, {'\"': 'PUNCT'}, {']': 'PUNCT'}, {'[': 'X'}, {'\"': 'PUNCT'}, {'[': 'X'}, {\"'\": 'VERB'}, {'(': 'PUNCT'}, {\"'\": 'PUNCT'}, {',': 'PUNCT'}, {'\"': 'PUNCT'}, {',': 'PUNCT'}, {'\"': 'PUNCT'}, {\"'\": 'PUNCT'}, {'[': 'X'}, {\"'\": 'X'}, {',': 'PUNCT'}, {'\"': 'PUNCT'}, {',': 'PUNCT'}, {'\"': 'PUNCT'}, {\"'\": 'PUNCT'}, {']': 'X'}, {\"'\": 'NUM'}, {',': 'PUNCT'}, {'\"': 'PUNCT'}, {',': 'PUNCT'}, {'\"': 'PUNCT'}, {\"'\": 'PUNCT'}, {')': 'PUNCT'}, {\"'\": 'PUNCT'}, {',': 'PUNCT'}, {'\"': 'PUNCT'}, {',': 'PUNCT'}, {'\"': 'PUNCT'}, {\"'\": 'PUNCT'}, {'=': 'VERB'}, {\"'\": 'VERB'}, {',': 'PUNCT'}, {'\"': 'PUNCT'}, {',': 'PUNCT'}, {'\"': 'PUNCT'}, {\"'\": 'PUNCT'}, {'(': 'PUNCT'}, {\"'\": 'PUNCT'}, {',': 'PUNCT'}, {'\"': 'PUNCT'}, {',': 'PUNCT'}, {'\"': 'PUNCT'}, {\"'\": 'PUNCT'}, {'(': 'PUNCT'}, {\"'\": 'PUNCT'}, {',': 'PUNCT'}, {'\"': 'PUNCT'}, {',': 'PUNCT'}, {'\"': 'PUNCT'}, {\"'\": 'PUNCT'}, {')': 'PUNCT'}, {\"'\": 'PUNCT'}, {',': 'PUNCT'}, {'\"': 'PUNCT'}, {',': 'PUNCT'}, {'\"': 'PUNCT'}, {\"'\": 'PUNCT'}, {')': 'PUNCT'}, {\"'\": 'PUNCT'}, {',': 'PUNCT'}, {'\"': 'PUNCT'}, {',': 'PUNCT'}, {'\"': 'PUNCT'}, {\"'\": 'PUNCT'}, {'-': 'PROPN'}, {\"'\": 'PUNCT'}, {']': 'PUNCT'}, {'\"': 'PUNCT'}, {']': 'PUNCT'}, {'[': 'X'}, {'\"': 'PUNCT'}, {'[': 'X'}, {\"'\": 'X'}, {'[': 'X'}, {\"'\": 'PROPN'}, {',': 'PUNCT'}, {'\"': 'PUNCT'}, {',': 'PUNCT'}, {'\"': 'PUNCT'}, {\"'\": 'PUNCT'}, {']': 'X'}, {\"'\": 'NUM'}, {',': 'PUNCT'}, {'\"': 'PUNCT'}, {',': 'PUNCT'}, {'\"': 'PUNCT'}, {\"'\": 'VERB'}, {'>': 'X'}, {\"'\": 'NUM'}, {',': 'PUNCT'}, {'\"': 'PUNCT'}, {',': 'PUNCT'}, {'\"': 'PUNCT'}, {\"'\": 'PUNCT'}, {'=': 'VERB'}, {\"'\": 'VERB'}, {',': 'PUNCT'}, {'\"': 'PUNCT'}, {',': 'PUNCT'}, {'\"': 'PUNCT'}, {\"'\": 'PUNCT'}, {'(': 'PUNCT'}, {\"'\": 'PUNCT'}, {',': 'PUNCT'}, {'\"': 'PUNCT'}, {',': 'PUNCT'}, {\"'\": 'PUNCT'}, {'\"': 'PUNCT'}, {'\\\\': 'PROPN'}, {\"'\": 'PUNCT'}, {'\"': 'PUNCT'}, {',': 'PUNCT'}, {\"'\": 'PUNCT'}, {',': 'PUNCT'}, {\"'\": 'PUNCT'}, {'\"': 'PUNCT'}, {'\\\\': 'PROPN'}, {\"'\": 'PUNCT'}, {'\"': 'PUNCT'}, {',': 'PUNCT'}, {\"'\": 'PUNCT'}, {',': 'PUNCT'}, {'\"': 'PUNCT'}, {\"'\": 'PUNCT'}, {',': 'PUNCT'}, {\"'\": 'PUNCT'}, {',': 'PUNCT'}, {'\"': 'PUNCT'}, {',': 'PUNCT'}, {'\"': 'PUNCT'}, {\"'\": 'PUNCT'}, {'(': 'PUNCT'}, {\"'\": 'PUNCT'}, {',': 'PUNCT'}, {'\"': 'PUNCT'}, {',': 'PUNCT'}, {'\"': 'PUNCT'}, {\"'\": 'PUNCT'}, {')': 'PUNCT'}, {\"'\": 'PUNCT'}, {',': 'PUNCT'}, {'\"': 'PUNCT'}, {',': 'PUNCT'}, {'\"': 'PUNCT'}, {\"'\": 'PUNCT'}, {')': 'PUNCT'}, {\"'\": 'PUNCT'}, {']': 'PUNCT'}, {'\"': 'PUNCT'}, {']': 'PUNCT'}, {'[': 'X'}, {'\"': 'PUNCT'}, {'[': 'X'}, {\"'\": 'VERB'}, {'(': 'PUNCT'}, {\"'\": 'PUNCT'}, {',': 'PUNCT'}, {'\"': 'PUNCT'}, {',': 'PUNCT'}, {'\"': 'PUNCT'}, {\"'\": 'PUNCT'}, {'[': 'X'}, {\"'\": 'X'}, {',': 'PUNCT'}, {'\"': 'PUNCT'}, {',': 'PUNCT'}, {'\"': 'PUNCT'}, {\"'\": 'PUNCT'}, {']': 'X'}, {\"'\": 'NUM'}, {',': 'PUNCT'}, {'\"': 'PUNCT'}, {',': 'PUNCT'}, {'\"': 'PUNCT'}, {\"'\": 'PUNCT'}, {')': 'PUNCT'}, {\"'\": 'PUNCT'}, {',': 'PUNCT'}, {'\"': 'PUNCT'}, {',': 'PUNCT'}, {'\"': 'PUNCT'}, {\"'\": 'PUNCT'}, {'[': 'X'}, {\"'\": 'X'}, {',': 'PUNCT'}, {'\"': 'PUNCT'}, {',': 'PUNCT'}, {'\"': 'PUNCT'}, {\"'\": 'PUNCT'}, {']': 'X'}, {\"'\": 'NUM'}, {',': 'PUNCT'}, {'\"': 'PUNCT'}, {',': 'PUNCT'}, {'\"': 'PUNCT'}, {\"'\": 'PUNCT'}, {'[': 'X'}, {\"'\": 'X'}, {',': 'PUNCT'}, {'\"': 'PUNCT'}, {',': 'PUNCT'}, {'\"': 'PUNCT'}, {\"'\": 'PUNCT'}, {']': 'X'}, {\"'\": 'X'}, {']': 'X'}, {'\"': 'PUNCT'}, {']': 'PUNCT'}, {'[': 'X'}, {'\"': 'PUNCT'}, {'[': 'X'}, {\"'\": 'VERB'}, {'(': 'PUNCT'}, {\"'\": 'PUNCT'}, {',': 'PUNCT'}, {'\"': 'PUNCT'}, {',': 'PUNCT'}, {'\"': 'PUNCT'}, {\"'\": 'PUNCT'}, {'(': 'PUNCT'}, {\"'\": 'PUNCT'}, {',': 'PUNCT'}, {'\"': 'PUNCT'}, {',': 'PUNCT'}, {'\"': 'PUNCT'}, {\"'\": 'PUNCT'}, {'[': 'X'}, {\"'\": 'X'}, {',': 'PUNCT'}, {'\"': 'PUNCT'}, {',': 'PUNCT'}, {'\"': 'PUNCT'}, {\"'\": 'PUNCT'}, {']': 'X'}, {\"'\": 'NUM'}, {',': 'PUNCT'}, {'\"': 'PUNCT'}, {',': 'PUNCT'}, {'\"': 'PUNCT'}, {\"'\": 'PUNCT'}, {')': 'PUNCT'}, {\"'\": 'PUNCT'}, {',': 'PUNCT'}, {'\"': 'PUNCT'}, {',': 'PUNCT'}, {'\"': 'PUNCT'}, {\"'\": 'PUNCT'}, {'=': 'VERB'}, {\"'\": 'VERB'}, {',': 'PUNCT'}, {'\"': 'PUNCT'}, {',': 'PUNCT'}, {\"'\": 'PUNCT'}, {'\"': 'PUNCT'}, {'\\\\': 'PROPN'}, {\"'\": 'PUNCT'}, {'\"': 'PUNCT'}, {',': 'PUNCT'}, {\"'\": 'PUNCT'}, {',': 'PUNCT'}, {\"'\": 'PUNCT'}, {'\"': 'PUNCT'}, {'\\\\': 'PROPN'}, {\"'\": 'PUNCT'}, {'\"': 'PUNCT'}, {',': 'PUNCT'}, {\"'\": 'PUNCT'}, {',': 'PUNCT'}, {'\"': 'PUNCT'}, {\"'\": 'PUNCT'}, {'[': 'X'}, {\"'\": 'X'}, {',': 'PUNCT'}, {'\"': 'PUNCT'}, {',': 'PUNCT'}, {'\"': 'PUNCT'}, {\"'\": 'PUNCT'}, {']': 'X'}, {\"'\": 'NUM'}, {',': 'PUNCT'}, {'\"': 'PUNCT'}, {',': 'PUNCT'}, {'\"': 'PUNCT'}, {\"'\": 'PUNCT'}, {')': 'PUNCT'}, {\"'\": 'PUNCT'}, {']': 'PUNCT'}, {'\"': 'PUNCT'}, {']': 'PUNCT'}, {'[': 'X'}, {'\"': 'PUNCT'}, {'[': 'X'}, {\"'\": 'X'}, {'[': 'X'}, {\"'\": 'PROPN'}, {',': 'PUNCT'}, {'\"': 'PUNCT'}, {',': 'PUNCT'}, {'\"': 'PUNCT'}, {\"'\": 'PUNCT'}, {']': 'X'}, {\"'\": 'NUM'}, {',': 'PUNCT'}, {'\"': 'PUNCT'}, {',': 'PUNCT'}, {'\"': 'PUNCT'}, {\"'\": 'VERB'}, {'>': 'X'}, {\"'\": 'NUM'}, {',': 'PUNCT'}, {'\"': 'PUNCT'}, {',': 'PUNCT'}, {'\"': 'PUNCT'}, {\"'\": 'PUNCT'}, {'.': 'PUNCT'}, {\"'\": 'PUNCT'}, {',': 'PUNCT'}, {'\"': 'PUNCT'}, {',': 'PUNCT'}, {'\"': 'PUNCT'}, {\"'\": 'PUNCT'}, {'[': 'X'}, {\"'\": 'X'}, {',': 'PUNCT'}, {'\"': 'PUNCT'}, {',': 'PUNCT'}, {'\"': 'PUNCT'}, {\"'\": 'PUNCT'}, {']': 'X'}, {\"'\": 'NUM'}, {',': 'PUNCT'}, {'\"': 'PUNCT'}, {',': 'PUNCT'}, {'\"': 'PUNCT'}, {\"'\": 'VERB'}, {'>': 'X'}, {\"'\": 'NUM'}, {',': 'PUNCT'}, {'\"': 'PUNCT'}, {',': 'PUNCT'}, {'\"': 'PUNCT'}, {\"'\": 'PUNCT'}, {'.': 'PUNCT'}, {\"'\": 'PUNCT'}, {']': 'PUNCT'}, {'\"': 'PUNCT'}, {']': 'PUNCT'}, {'[': 'X'}, {'\"': 'PUNCT'}, {'[': 'X'}, {\"'\": 'VERB'}, {'(': 'PUNCT'}, {\"'\": 'PUNCT'}, {',': 'PUNCT'}, {'\"': 'PUNCT'}, {',': 'PUNCT'}, {'\"': 'PUNCT'}, {\"'\": 'PUNCT'}, {'[': 'X'}, {\"'\": 'X'}, {',': 'PUNCT'}, {'\"': 'PUNCT'}, {',': 'PUNCT'}, {'\"': 'PUNCT'}, {\"'\": 'PUNCT'}, {']': 'X'}, {\"'\": 'NUM'}, {',': 'PUNCT'}, {'\"': 'PUNCT'}, {',': 'PUNCT'}, {'\"': 'PUNCT'}, {\"'\": 'PUNCT'}, {')': 'PUNCT'}, {\"'\": 'PUNCT'}, {',': 'PUNCT'}, {'\"': 'PUNCT'}, {',': 'PUNCT'}, {'\"': 'PUNCT'}, {\"'\": 'PUNCT'}, {'<': 'X'}, {\"'\": 'PUNCT'}, {',': 'PUNCT'}, {'\"': 'PUNCT'}, {',': 'PUNCT'}, {'\"': 'PUNCT'}, {\"'\": 'PUNCT'}, {'=': 'VERB'}, {\"'\": 'VERB'}, {',': 'PUNCT'}, {'\"': 'PUNCT'}, {',': 'PUNCT'}, {'\"': 'PUNCT'}, {\"'\": 'PUNCT'}, {'.': 'PUNCT'}, {\"'\": 'PUNCT'}, {']': 'PUNCT'}, {'\"': 'PUNCT'}, {']': 'PUNCT'}, {'[': 'X'}, {'\"': 'PUNCT'}, {'[': 'X'}, {\"'\": 'VERB'}, {'(': 'PUNCT'}, {\"'\": 'PUNCT'}, {',': 'PUNCT'}, {'\"': 'PUNCT'}, {',': 'PUNCT'}, {'\"': 'PUNCT'}, {\"'\": 'PUNCT'}, {'[': 'X'}, {\"'\": 'X'}, {',': 'PUNCT'}, {'\"': 'PUNCT'}, {',': 'PUNCT'}, {'\"': 'PUNCT'}, {\"'\": 'PUNCT'}, {']': 'X'}, {\"'\": 'NUM'}, {',': 'PUNCT'}, {'\"': 'PUNCT'}, {',': 'PUNCT'}, {'\"': 'PUNCT'}, {\"'\": 'PUNCT'}, {')': 'PUNCT'}, {\"'\": 'PUNCT'}, {']': 'PUNCT'}, {'\"': 'PUNCT'}, {']': 'PUNCT'}, {'[': 'X'}, {'\"': 'PUNCT'}, {'[': 'X'}, {\"'\": 'VERB'}, {'(': 'PUNCT'}, {\"'\": 'PUNCT'}, {',': 'PUNCT'}, {'\"': 'PUNCT'}, {',': 'PUNCT'}, {'\"': 'PUNCT'}, {\"'\": 'PUNCT'}, {'[': 'X'}, {\"'\": 'X'}, {',': 'PUNCT'}, {'\"': 'PUNCT'}, {',': 'PUNCT'}, {'\"': 'PUNCT'}, {\"'\": 'PUNCT'}, {']': 'X'}, {\"'\": 'NUM'}, {',': 'PUNCT'}, {'\"': 'PUNCT'}, {',': 'PUNCT'}, {'\"': 'PUNCT'}, {\"'\": 'PUNCT'}, {')': 'PUNCT'}, {\"'\": 'PUNCT'}, {']': 'PUNCT'}, {'\"': 'PUNCT'}, {']': 'PUNCT'}, {'[': 'X'}, {'\"': 'PUNCT'}, {'[': 'X'}, {\"'\": 'VERB'}, {'{': 'PUNCT'}, {\"'\": 'PROPN'}, {',': 'PUNCT'}, {'\"': 'PUNCT'}, {',': 'PUNCT'}, {'\"': 'PUNCT'}, {\"'\": 'PUNCT'}, {'[': 'X'}, {\"'\": 'X'}, {',': 'PUNCT'}, {'\"': 'PUNCT'}, {',': 'PUNCT'}, {'\"': 'PUNCT'}, {\"'\": 'PUNCT'}, {']': 'X'}, {\"'\": 'NUM'}, {',': 'PUNCT'}, {'\"': 'PUNCT'}, {',': 'PUNCT'}, {'\"': 'PUNCT'}, {\"'\": 'PUNCT'}, {'=': 'VERB'}, {\"'\": 'VERB'}, {',': 'PUNCT'}, {'\"': 'PUNCT'}, {',': 'PUNCT'}, {\"'\": 'PUNCT'}, {'\\\\\\'\"\\\\': 'PROPN'}, {\"'\": 'PUNCT'}, {',': 'PUNCT'}, {\"'\": 'PUNCT'}, {',': 'PUNCT'}, {\"'\": 'PUNCT'}, {'\\\\\\'\"\\\\': 'PROPN'}, {\"'\": 'PUNCT'}, {',': 'PUNCT'}, {\"'\": 'PUNCT'}, {',': 'PUNCT'}, {'\"': 'PUNCT'}, {\"'\": 'PUNCT'}, {':': 'PUNCT'}, {\"'\": 'PUNCT'}, {',': 'PUNCT'}, {'\"': 'PUNCT'}, {',': 'PUNCT'}, {'\"': 'PUNCT'}, {\"'\": 'PUNCT'}, {'(': 'PUNCT'}, {\"'\": 'PUNCT'}, {',': 'PUNCT'}, {'\"': 'PUNCT'}, {',': 'PUNCT'}, {'\"': 'PUNCT'}, {\"'\": 'PUNCT'}, {'[': 'X'}, {\"'\": 'X'}, {',': 'PUNCT'}, {'\"': 'PUNCT'}, {',': 'PUNCT'}, {'\"': 'PUNCT'}, {\"'\": 'PUNCT'}, {']': 'X'}, {\"'\": 'NUM'}, {',': 'PUNCT'}, {'\"': 'PUNCT'}, {',': 'PUNCT'}, {'\"': 'PUNCT'}, {\"'\": 'PUNCT'}, {')': 'PUNCT'}, {\"'\": 'PUNCT'}, {',': 'PUNCT'}, {'\"': 'PUNCT'}, {',': 'PUNCT'}, {'\"': 'PUNCT'}, {\"'\": 'PUNCT'}, {'}': 'PRON'}, {\"'\": 'PUNCT'}, {']': 'PUNCT'}, {'\"': 'PUNCT'}, {']': 'PUNCT'}, {'[': 'X'}, {'\"': 'PUNCT'}, {'[': 'X'}, {\"'\": 'VERB'}, {'(': 'PUNCT'}, {\"'\": 'PUNCT'}, {',': 'PUNCT'}, {'\"': 'PUNCT'}, {',': 'PUNCT'}, {'\"': 'PUNCT'}, {\"'\": 'PUNCT'}, {'[': 'X'}, {\"'\": 'X'}, {',': 'PUNCT'}, {'\"': 'PUNCT'}, {',': 'PUNCT'}, {'\"': 'PUNCT'}, {\"'\": 'PUNCT'}, {']': 'X'}, {\"'\": 'NUM'}, {',': 'PUNCT'}, {'\"': 'PUNCT'}, {',': 'PUNCT'}, {'\"': 'PUNCT'}, {\"'\": 'PUNCT'}, {'=': 'VERB'}, {\"'\": 'VERB'}, {',': 'PUNCT'}, {'\"': 'PUNCT'}, {',': 'PUNCT'}, {\"'\": 'PUNCT'}, {'\\\\\\'\"\\\\': 'PROPN'}, {\"'\": 'PUNCT'}, {',': 'PUNCT'}, {\"'\": 'PUNCT'}, {',': 'PUNCT'}, {\"'\": 'PUNCT'}, {'\\\\\\'\"\\\\': 'PROPN'}, {\"'\": 'PUNCT'}, {',': 'PUNCT'}, {\"'\": 'PUNCT'}, {',': 'PUNCT'}, {'\"': 'PUNCT'}, {\"'\": 'PUNCT'}, {')': 'PUNCT'}, {\"'\": 'PUNCT'}, {']': 'PUNCT'}, {'\"': 'PUNCT'}, {']': 'PUNCT'}, {'[': 'X'}, {'\"': 'PUNCT'}, {'[': 'X'}, {\"'\": 'VERB'}, {'(': 'PUNCT'}, {\"'\": 'PUNCT'}, {',': 'PUNCT'}, {'\"': 'PUNCT'}, {',': 'PUNCT'}, {'\"': 'PUNCT'}, {\"'\": 'PUNCT'}, {'[': 'X'}, {\"'\": 'X'}, {',': 'PUNCT'}, {'\"': 'PUNCT'}, {',': 'PUNCT'}, {'\"': 'PUNCT'}, {\"'\": 'PUNCT'}, {']': 'X'}, {\"'\": 'NUM'}, {',': 'PUNCT'}, {'\"': 'PUNCT'}, {',': 'PUNCT'}, {'\"': 'PUNCT'}, {\"'\": 'VERB'}, {'>': 'X'}, {\"'\": 'NUM'}, {',': 'PUNCT'}, {'\"': 'PUNCT'}, {',': 'PUNCT'}, {'\"': 'PUNCT'}, {\"'\": 'PUNCT'}, {'.': 'PUNCT'}, {\"'\": 'PUNCT'}, {',': 'PUNCT'}, {'\"': 'PUNCT'}, {',': 'PUNCT'}, {'\"': 'PUNCT'}, {\"'\": 'PUNCT'}, {'[': 'X'}, {\"'\": 'X'}, {',': 'PUNCT'}, {'\"': 'PUNCT'}, {',': 'PUNCT'}, {'\"': 'PUNCT'}, {\"'\": 'PUNCT'}, {']': 'X'}, {\"'\": 'NUM'}, {',': 'PUNCT'}, {'\"': 'PUNCT'}, {',': 'PUNCT'}, {'\"': 'PUNCT'}, {\"'\": 'PUNCT'}, {')': 'PUNCT'}, {\"'\": 'PUNCT'}, {']': 'PUNCT'}, {'\"': 'PUNCT'}, {']': 'PUNCT'}, {'[': 'X'}, {'\"': 'PUNCT'}, {'[': 'X'}, {\"'\": 'VERB'}, {'{': 'PUNCT'}, {\"'\": 'PROPN'}, {',': 'PUNCT'}, {'\"': 'PUNCT'}, {',': 'PUNCT'}, {'\"': 'PUNCT'}, {\"'\": 'PUNCT'}, {'[': 'X'}, {\"'\": 'X'}, {',': 'PUNCT'}, {'\"': 'PUNCT'}, {',': 'PUNCT'}, {'\"': 'PUNCT'}, {\"'\": 'PUNCT'}, {']': 'X'}, {\"'\": 'NUM'}, {',': 'PUNCT'}, {'\"': 'PUNCT'}, {',': 'PUNCT'}, {'\"': 'PUNCT'}, {\"'\": 'PUNCT'}, {'=': 'VERB'}, {\"'\": 'VERB'}, {',': 'PUNCT'}, {'\"': 'PUNCT'}, {',': 'PUNCT'}, {\"'\": 'PUNCT'}, {'\\\\\\'\"\\\\': 'PROPN'}, {\"'\": 'PUNCT'}, {',': 'PUNCT'}, {\"'\": 'PUNCT'}, {',': 'PUNCT'}, {\"'\": 'PUNCT'}, {'\\\\\\'\"\\\\': 'PROPN'}, {\"'\": 'PUNCT'}, {',': 'PUNCT'}, {\"'\": 'PUNCT'}, {',': 'PUNCT'}, {'\"': 'PUNCT'}, {\"'\": 'PUNCT'}, {':': 'PUNCT'}, {\"'\": 'PUNCT'}, {',': 'PUNCT'}, {'\"': 'PUNCT'}, {',': 'PUNCT'}, {'\"': 'PUNCT'}, {\"'\": 'PUNCT'}, {'(': 'PUNCT'}, {\"'\": 'PUNCT'}, {',': 'PUNCT'}, {'\"': 'PUNCT'}, {',': 'PUNCT'}, {'\"': 'PUNCT'}, {\"'\": 'PUNCT'}, {'[': 'X'}, {\"'\": 'X'}, {',': 'PUNCT'}, {'\"': 'PUNCT'}, {',': 'PUNCT'}, {'\"': 'PUNCT'}, {\"'\": 'PUNCT'}, {']': 'X'}, {\"'\": 'NUM'}, {',': 'PUNCT'}, {'\"': 'PUNCT'}, {',': 'PUNCT'}, {'\"': 'PUNCT'}, {\"'\": 'PUNCT'}, {')': 'PUNCT'}, {\"'\": 'PUNCT'}, {',': 'PUNCT'}, {'\"': 'PUNCT'}, {',': 'PUNCT'}, {'\"': 'PUNCT'}, {\"'\": 'PUNCT'}, {'}': 'PRON'}, {\"'\": 'PUNCT'}, {']': 'PUNCT'}, {'\"': 'PUNCT'}, {']': 'PUNCT'}, {'[': 'X'}, {'\"': 'PUNCT'}, {'[': 'X'}, {\"'\": 'VERB'}, {'{': 'PUNCT'}, {\"'\": 'PROPN'}, {',': 'PUNCT'}, {'\"': 'PUNCT'}, {',': 'PUNCT'}, {'\"': 'PUNCT'}, {\"'\": 'PUNCT'}, {'[': 'X'}, {\"'\": 'X'}, {',': 'PUNCT'}, {'\"': 'PUNCT'}, {',': 'PUNCT'}, {'\"': 'PUNCT'}, {\"'\": 'PUNCT'}, {']': 'X'}, {\"'\": 'NUM'}, {',': 'PUNCT'}, {'\"': 'PUNCT'}, {',': 'PUNCT'}, {'\"': 'PUNCT'}, {\"'\": 'PUNCT'}, {'=': 'VERB'}, {\"'\": 'VERB'}, {',': 'PUNCT'}, {'\"': 'PUNCT'}, {',': 'PUNCT'}, {\"'\": 'PUNCT'}, {'\\\\\\'\"\\\\': 'PROPN'}, {\"'\": 'PUNCT'}, {',': 'PUNCT'}, {\"'\": 'PUNCT'}, {',': 'PUNCT'}, {\"'\": 'PUNCT'}, {'\\\\\\'\"\\\\': 'PROPN'}, {\"'\": 'PUNCT'}, {',': 'PUNCT'}, {\"'\": 'PUNCT'}, {',': 'PUNCT'}, {'\"': 'PUNCT'}, {\"'\": 'PUNCT'}, {':': 'PUNCT'}, {\"'\": 'PUNCT'}, {',': 'PUNCT'}, {'\"': 'PUNCT'}, {',': 'PUNCT'}, {'\"': 'PUNCT'}, {\"'\": 'PUNCT'}, {'(': 'PUNCT'}, {\"'\": 'PUNCT'}, {',': 'PUNCT'}, {'\"': 'PUNCT'}, {',': 'PUNCT'}, {'\"': 'PUNCT'}, {\"'\": 'PUNCT'}, {'[': 'X'}, {\"'\": 'X'}, {',': 'PUNCT'}, {'\"': 'PUNCT'}, {',': 'PUNCT'}, {'\"': 'PUNCT'}, {\"'\": 'PUNCT'}, {']': 'X'}, {\"'\": 'NUM'}, {',': 'PUNCT'}, {'\"': 'PUNCT'}, {',': 'PUNCT'}, {'\"': 'PUNCT'}, {\"'\": 'PUNCT'}, {')': 'PUNCT'}, {\"'\": 'PUNCT'}, {',': 'PUNCT'}, {'\"': 'PUNCT'}, {',': 'PUNCT'}, {'\"': 'PUNCT'}, {\"'\": 'PUNCT'}, {'}': 'PRON'}, {\"'\": 'PUNCT'}, {']': 'PUNCT'}, {'\"': 'PUNCT'}, {']': 'PUNCT'}, {'[': 'X'}, {'\"': 'PUNCT'}, {'[': 'X'}, {\"'\": 'VERB'}, {'(': 'PUNCT'}, {\"'\": 'PUNCT'}, {',': 'PUNCT'}, {'\"': 'PUNCT'}, {',': 'PUNCT'}, {'\"': 'PUNCT'}, {\"'\": 'PUNCT'}, {'[': 'X'}, {\"'\": 'X'}, {',': 'PUNCT'}, {'\"': 'PUNCT'}, {',': 'PUNCT'}, {'\"': 'PUNCT'}, {\"'\": 'PUNCT'}, {']': 'X'}, {\"'\": 'NUM'}, {',': 'PUNCT'}, {'\"': 'PUNCT'}, {',': 'PUNCT'}, {'\"': 'PUNCT'}, {\"'\": 'PUNCT'}, {')': 'PUNCT'}, {\"'\": 'PUNCT'}, {',': 'PUNCT'}, {'\"': 'PUNCT'}, {',': 'PUNCT'}, {'\"': 'PUNCT'}, {\"'\": 'PUNCT'}, {'[': 'X'}, {\"'\": 'X'}, {',': 'PUNCT'}, {'\"': 'PUNCT'}, {',': 'PUNCT'}, {'\"': 'PUNCT'}, {\"'\": 'PUNCT'}, {']': 'X'}, {\"'\": 'NUM'}, {',': 'PUNCT'}, {'\"': 'PUNCT'}, {',': 'PUNCT'}, {'\"': 'PUNCT'}, {\"'\": 'PUNCT'}, {'[': 'X'}, {\"'\": 'X'}, {',': 'PUNCT'}, {'\"': 'PUNCT'}, {',': 'PUNCT'}, {'\"': 'PUNCT'}, {\"'\": 'PUNCT'}, {']': 'X'}, {\"'\": 'X'}, {']': 'X'}, {'\"': 'PUNCT'}, {']': 'PUNCT'}, {'[': 'X'}, {'\"': 'PUNCT'}, {'[': 'X'}, {\"'\": 'X'}, {'[': 'X'}, {\"'\": 'PROPN'}, {',': 'PUNCT'}, {'\"': 'PUNCT'}, {',': 'PUNCT'}, {'\"': 'PUNCT'}, {\"'\": 'PUNCT'}, {']': 'X'}, {\"'\": 'NUM'}, {',': 'PUNCT'}, {'\"': 'PUNCT'}, {',': 'PUNCT'}, {'\"': 'PUNCT'}, {\"'\": 'PUNCT'}, {'=': 'VERB'}, {\"'\": 'VERB'}, {',': 'PUNCT'}, {'\"': 'PUNCT'}, {',': 'PUNCT'}, {\"'\": 'PUNCT'}, {'\\\\\\'\"\\\\': 'PROPN'}, {\"'\": 'PUNCT'}, {',': 'PUNCT'}, {\"'\": 'PUNCT'}, {',': 'PUNCT'}, {\"'\": 'PUNCT'}, {'\\\\\\'\"\\\\': 'PROPN'}, {\"'\": 'PUNCT'}, {',': 'PUNCT'}, {\"'\": 'PUNCT'}, {',': 'PUNCT'}, {'\"': 'PUNCT'}, {\"'\": 'PUNCT'}, {'[': 'X'}, {\"'\": 'X'}, {',': 'PUNCT'}, {'\"': 'PUNCT'}, {',': 'PUNCT'}, {'\"': 'PUNCT'}, {\"'\": 'PUNCT'}, {']': 'X'}, {\"'\": 'NUM'}, {',': 'PUNCT'}, {'\"': 'PUNCT'}, {',': 'PUNCT'}, {'\"': 'PUNCT'}, {\"'\": 'VERB'}, {'>': 'X'}, {\"'\": 'NUM'}, {',': 'PUNCT'}, {'\"': 'PUNCT'}, {',': 'PUNCT'}, {'\"': 'PUNCT'}, {\"'\": 'PUNCT'}, {'=': 'VERB'}, {\"'\": 'VERB'}, {',': 'PUNCT'}, {'\"': 'PUNCT'}, {',': 'PUNCT'}, {'\"': 'PUNCT'}, {\"'\": 'PUNCT'}, {'.': 'PUNCT'}, {\"'\": 'PUNCT'}, {']': 'PUNCT'}, {'\"': 'PUNCT'}, {']': 'PUNCT'}, {'[': 'X'}, {'\"': 'PUNCT'}, {'[': 'X'}, {\"'\": 'VERB'}, {'(': 'PUNCT'}, {\"'\": 'PUNCT'}, {',': 'PUNCT'}, {'\"': 'PUNCT'}, {',': 'PUNCT'}, {'\"': 'PUNCT'}, {\"'\": 'PUNCT'}, {'[': 'X'}, {\"'\": 'X'}, {',': 'PUNCT'}, {'\"': 'PUNCT'}, {',': 'PUNCT'}, {'\"': 'PUNCT'}, {\"'\": 'PUNCT'}, {']': 'X'}, {\"'\": 'NUM'}, {',': 'PUNCT'}, {'\"': 'PUNCT'}, {',': 'PUNCT'}, {'\"': 'PUNCT'}, {\"'\": 'PUNCT'}, {')': 'PUNCT'}, {\"'\": 'PUNCT'}, {',': 'PUNCT'}, {'\"': 'PUNCT'}, {',': 'PUNCT'}, {'\"': 'PUNCT'}, {\"'\": 'PUNCT'}, {'<': 'X'}, {\"'\": 'PUNCT'}, {',': 'PUNCT'}, {'\"': 'PUNCT'}, {',': 'PUNCT'}, {'\"': 'PUNCT'}, {\"'\": 'PUNCT'}, {'=': 'VERB'}, {\"'\": 'VERB'}, {',': 'PUNCT'}, {'\"': 'PUNCT'}, {',': 'PUNCT'}, {'\"': 'PUNCT'}, {\"'\": 'PUNCT'}, {'[': 'X'}, {\"'\": 'X'}, {',': 'PUNCT'}, {'\"': 'PUNCT'}, {',': 'PUNCT'}, {'\"': 'PUNCT'}, {\"'\": 'PUNCT'}, {']': 'X'}, {\"'\": 'NUM'}, {',': 'PUNCT'}, {'\"': 'PUNCT'}, {',': 'PUNCT'}, {'\"': 'PUNCT'}, {\"'\": 'PUNCT'}, {'=': 'VERB'}, {\"'\": 'VERB'}, {',': 'PUNCT'}, {'\"': 'PUNCT'}, {',': 'PUNCT'}, {\"'\": 'PUNCT'}, {'\\\\\\'\"\\\\': 'PROPN'}, {\"'\": 'PUNCT'}, {',': 'PUNCT'}, {\"'\": 'PUNCT'}, {',': 'PUNCT'}, {\"'\": 'PUNCT'}, {'\\\\\\'\"\\\\': 'PROPN'}, {\"'\": 'PUNCT'}, {']': 'PUNCT'}, {\"'\": 'PUNCT'}, {']': 'PUNCT'}, {'[': 'X'}, {'\"': 'PUNCT'}, {'[': 'X'}, {\"'\": 'VERB'}, {'(': 'PUNCT'}, {\"'\": 'PUNCT'}, {',': 'PUNCT'}, {'\"': 'PUNCT'}, {',': 'PUNCT'}, {'\"': 'PUNCT'}, {\"'\": 'PUNCT'}, {'[': 'X'}, {\"'\": 'X'}, {',': 'PUNCT'}, {'\"': 'PUNCT'}, {',': 'PUNCT'}, {'\"': 'PUNCT'}, {\"'\": 'PUNCT'}, {']': 'X'}, {\"'\": 'NUM'}, {',': 'PUNCT'}, {'\"': 'PUNCT'}, {',': 'PUNCT'}, {'\"': 'PUNCT'}, {\"'\": 'PUNCT'}, {')': 'PUNCT'}, {\"'\": 'PUNCT'}, {',': 'PUNCT'}, {'\"': 'PUNCT'}, {',': 'PUNCT'}, {'\"': 'PUNCT'}, {\"'\": 'VERB'}, {'>': 'X'}, {\"'\": 'NUM'}, {',': 'PUNCT'}, {'\"': 'PUNCT'}, {',': 'PUNCT'}, {'\"': 'PUNCT'}, {\"'\": 'PUNCT'}, {'=': 'VERB'}, {\"'\": 'VERB'}, {',': 'PUNCT'}, {'\"': 'PUNCT'}, {',': 'PUNCT'}, {'\"': 'PUNCT'}, {\"'\": 'PUNCT'}, {'.': 'PUNCT'}, {\"'\": 'PUNCT'}, {']': 'PUNCT'}, {'\"': 'PUNCT'}, {']': 'PUNCT'}, {'[': 'X'}, {'\"': 'PUNCT'}, {'[': 'X'}, {\"'\": 'VERB'}, {'(': 'PUNCT'}, {\"'\": 'PUNCT'}, {',': 'PUNCT'}, {'\"': 'PUNCT'}, {',': 'PUNCT'}, {'\"': 'PUNCT'}, {\"'\": 'PUNCT'}, {'[': 'X'}, {\"'\": 'X'}, {',': 'PUNCT'}, {'\"': 'PUNCT'}, {',': 'PUNCT'}, {'\"': 'PUNCT'}, {\"'\": 'PUNCT'}, {']': 'X'}, {\"'\": 'NUM'}, {',': 'PUNCT'}, {'\"': 'PUNCT'}, {',': 'PUNCT'}, {'\"': 'PUNCT'}, {\"'\": 'PUNCT'}, {')': 'PUNCT'}, {\"'\": 'PUNCT'}, {',': 'PUNCT'}, {'\"': 'PUNCT'}, {',': 'PUNCT'}, {'\"': 'PUNCT'}, {\"'\": 'PUNCT'}, {'[': 'X'}, {\"'\": 'X'}, {',': 'PUNCT'}, {'\"': 'PUNCT'}, {',': 'PUNCT'}, {'\"': 'PUNCT'}, {\"'\": 'PUNCT'}, {']': 'X'}, {\"'\": 'NUM'}, {',': 'PUNCT'}, {'\"': 'PUNCT'}, {',': 'PUNCT'}, {'\"': 'PUNCT'}, {\"'\": 'PUNCT'}, {'(': 'PUNCT'}, {\"'\": 'PUNCT'}, {',': 'PUNCT'}, {'\"': 'PUNCT'}, {',': 'PUNCT'}, {'\"': 'PUNCT'}, {\"'\": 'PUNCT'}, {'[': 'X'}, {\"'\": 'X'}, {',': 'PUNCT'}, {'\"': 'PUNCT'}, {',': 'PUNCT'}, {'\"': 'PUNCT'}, {\"'\": 'PUNCT'}, {']': 'X'}, {\"'\": 'NUM'}, {',': 'PUNCT'}, {'\"': 'PUNCT'}, {',': 'PUNCT'}, {'\"': 'PUNCT'}, {\"'\": 'PUNCT'}, {')': 'PUNCT'}, {\"'\": 'PUNCT'}, {']': 'PUNCT'}, {'\"': 'PUNCT'}, {']': 'PUNCT'}, {'[': 'X'}, {'\"': 'PUNCT'}, {'[': 'X'}, {\"'\": 'X'}, {'[': 'X'}, {\"'\": 'PROPN'}, {',': 'PUNCT'}, {'\"': 'PUNCT'}, {',': 'PUNCT'}, {'\"': 'PUNCT'}, {\"'\": 'PUNCT'}, {']': 'X'}, {\"'\": 'NUM'}, {',': 'PUNCT'}, {'\"': 'PUNCT'}, {',': 'PUNCT'}, {'\"': 'PUNCT'}, {\"'\": 'PUNCT'}, {'=': 'VERB'}, {\"'\": 'VERB'}, {',': 'PUNCT'}, {'\"': 'PUNCT'}, {',': 'PUNCT'}, {\"'\": 'PUNCT'}, {'\\\\\\'\"\\\\': 'PROPN'}, {\"'\": 'PUNCT'}, {',': 'PUNCT'}, {\"'\": 'PUNCT'}, {',': 'PUNCT'}, {\"'\": 'PUNCT'}, {'\\\\\\'\"\\\\': 'PROPN'}, {\"'\": 'PUNCT'}, {',': 'PUNCT'}, {\"'\": 'PUNCT'}, {',': 'PUNCT'}, {'\"': 'PUNCT'}, {\"'\": 'PUNCT'}, {'[': 'X'}, {\"'\": 'X'}, {',': 'PUNCT'}, {'\"': 'PUNCT'}, {',': 'PUNCT'}, {'\"': 'PUNCT'}, {\"'\": 'PUNCT'}, {']': 'X'}, {\"'\": 'NUM'}, {',': 'PUNCT'}, {'\"': 'PUNCT'}, {',': 'PUNCT'}, {'\"': 'PUNCT'}, {\"'\": 'PUNCT'}, {'.': 'PUNCT'}, {\"'\": 'PUNCT'}, {',': 'PUNCT'}, {'\"': 'PUNCT'}, {',': 'PUNCT'}, {'\"': 'PUNCT'}, {\"'\": 'PUNCT'}, {'.': 'PUNCT'}, {\"'\": 'PUNCT'}, {']': 'PUNCT'}, {'\"': 'PUNCT'}, {']': 'PUNCT'}, {'[': 'X'}, {'\"': 'PUNCT'}, {'[': 'X'}, {\"'\": 'VERB'}, {'(': 'PUNCT'}, {\"'\": 'PUNCT'}, {',': 'PUNCT'}, {'\"': 'PUNCT'}, {',': 'PUNCT'}, {'\"': 'PUNCT'}, {\"'\": 'PUNCT'}, {'(': 'PUNCT'}, {\"'\": 'PUNCT'}, {',': 'PUNCT'}, {'\"': 'PUNCT'}, {',': 'PUNCT'}, {'\"': 'PUNCT'}, {\"'\": 'PUNCT'}, {'[': 'X'}, {\"'\": 'X'}, {',': 'PUNCT'}, {'\"': 'PUNCT'}, {',': 'PUNCT'}, {'\"': 'PUNCT'}, {\"'\": 'PUNCT'}, {']': 'X'}, {\"'\": 'NUM'}, {',': 'PUNCT'}, {'\"': 'PUNCT'}, {',': 'PUNCT'}, {\"'\": 'PUNCT'}, {'\\\\\\'\"\\\\': 'PROPN'}, {\"'\": 'PUNCT'}, {',': 'PUNCT'}, {\"'\": 'PUNCT'}, {',': 'PUNCT'}, {\"'\": 'PUNCT'}, {'\\\\\\'\"\\\\': 'PROPN'}, {\"'\": 'PUNCT'}, {',': 'PUNCT'}, {\"'\": 'PUNCT'}, {',': 'PUNCT'}, {'\"': 'PUNCT'}, {\"'\": 'PUNCT'}, {')': 'PUNCT'}, {\"'\": 'PUNCT'}, {',': 'PUNCT'}, {'\"': 'PUNCT'}, {',': 'PUNCT'}, {'\"': 'PUNCT'}, {\"'\": 'PUNCT'}, {')': 'PUNCT'}, {\"'\": 'PUNCT'}, {']': 'PUNCT'}, {'\"': 'PUNCT'}, {']': 'PUNCT'}, {'[': 'X'}, {'\"': 'PUNCT'}, {'[': 'X'}, {\"'\": 'VERB'}, {'(': 'PUNCT'}, {\"'\": 'PUNCT'}, {',': 'PUNCT'}, {'\"': 'PUNCT'}, {',': 'PUNCT'}, {'\"': 'PUNCT'}, {\"'\": 'PUNCT'}, {'[': 'X'}, {\"'\": 'X'}, {',': 'PUNCT'}, {'\"': 'PUNCT'}, {',': 'PUNCT'}, {'\"': 'PUNCT'}, {\"'\": 'PUNCT'}, {']': 'X'}, {\"'\": 'NUM'}, {',': 'PUNCT'}, {'\"': 'PUNCT'}, {',': 'PUNCT'}, {\"'\": 'PUNCT'}, {'\\\\\\'\"\\\\': 'PROPN'}, {\"'\": 'PUNCT'}, {',': 'PUNCT'}, {\"'\": 'PUNCT'}, {',': 'PUNCT'}, {\"'\": 'PUNCT'}, {'\\\\\\'\"\\\\': 'PROPN'}, {\"'\": 'PUNCT'}, {',': 'PUNCT'}, {\"'\": 'PUNCT'}, {',': 'PUNCT'}, {'\"': 'PUNCT'}, {\"'\": 'PUNCT'}, {')': 'PUNCT'}, {\"'\": 'PUNCT'}, {',': 'PUNCT'}, {'\"': 'PUNCT'}, {',': 'PUNCT'}, {'\"': 'PUNCT'}, {\"'\": 'PUNCT'}, {'(': 'PUNCT'}, {\"'\": 'PUNCT'}, {',': 'PUNCT'}, {'\"': 'PUNCT'}, {',': 'PUNCT'}, {'\"': 'PUNCT'}, {\"'\": 'PUNCT'}, {'[': 'X'}, {\"'\": 'X'}, {',': 'PUNCT'}, {'\"': 'PUNCT'}, {',': 'PUNCT'}, {'\"': 'PUNCT'}, {\"'\": 'PUNCT'}, {']': 'X'}, {\"'\": 'NUM'}, {',': 'PUNCT'}, {'\"': 'PUNCT'}, {',': 'PUNCT'}, {'\"': 'PUNCT'}, {\"'\": 'PUNCT'}, {',': 'PUNCT'}, {\"'\": 'PUNCT'}, {',': 'PUNCT'}, {'\"': 'PUNCT'}, {',': 'PUNCT'}, {'\"': 'PUNCT'}, {\"'\": 'PUNCT'}, {'“': 'PUNCT'}, {\"'\": 'PUNCT'}, {',': 'PUNCT'}, {'\"': 'PUNCT'}, {',': 'PUNCT'}, {'\"': 'PUNCT'}, {\"'\": 'PUNCT'}, {'”': 'PUNCT'}, {\"'\": 'PUNCT'}, {',': 'PUNCT'}, {'\"': 'PUNCT'}, {',': 'PUNCT'}, {'\"': 'PUNCT'}, {\"'\": 'PUNCT'}, {')': 'PUNCT'}, {\"'\": 'PUNCT'}, {']': 'PUNCT'}, {'\"': 'PUNCT'}, {']': 'PUNCT'}]\n",
            "Tokenized Symbols (Tableau) : ['X', 'VERB', 'NUM', 'PRON', 'PROPN', 'PUNCT']\n"
          ]
        }
      ]
    },
    {
      "cell_type": "code",
      "source": [
        "for pat in p_e:\n",
        "    print({pat:p_e[pat]})"
      ],
      "metadata": {
        "id": "3BVvxt5RksS7",
        "colab": {
          "base_uri": "https://localhost:8080/"
        },
        "outputId": "914406ba-9250-41bc-a51a-b37d1cda7008"
      },
      "execution_count": 108,
      "outputs": [
        {
          "output_type": "stream",
          "name": "stdout",
          "text": [
            "{'X': [']', '[', '>', '<', \"'\"]}\n",
            "{'VERB': ['=', \"'\"]}\n",
            "{'NUM': [\"'\"]}\n",
            "{'PRON': ['}']}\n",
            "{'PROPN': ['-', '\\\\', '\\\\\\'\"\\\\', \"'\"]}\n",
            "{'PUNCT': [']', '”', '*', ':', '“', '.', '\"', '(', ',', ')', '!', '{', \"'\"]}\n"
          ]
        }
      ]
    },
    {
      "cell_type": "code",
      "source": [
        "POS_=[]\n",
        "for pat in p_d:\n",
        "   POS_.append(pat)\n",
        "for pat in p_t:\n",
        "   POS_.append(pat)\n",
        "for pat in p_e:\n",
        "   POS_.append(pat)\n",
        "POS_=list(set(POS_))\n",
        "print(POS_, len(POS_))"
      ],
      "metadata": {
        "id": "7n0mh-c3mfLA",
        "colab": {
          "base_uri": "https://localhost:8080/"
        },
        "outputId": "ea4e5754-a957-410a-d62f-7589778e9bd2"
      },
      "execution_count": 109,
      "outputs": [
        {
          "output_type": "stream",
          "name": "stdout",
          "text": [
            "['X', 'ADJ', 'VERB', 'PART', 'NOUN', 'DET', 'AUX', 'NUM', 'PRON', 'ADV', 'CCONJ', 'INTJ', 'PROPN', 'SCONJ', 'ADP', 'PUNCT'] 16\n"
          ]
        }
      ]
    },
    {
      "cell_type": "code",
      "source": [
        "ENT_={}\n",
        "\n",
        "for pat in POS_:\n",
        "  if (p_d.get(pat)!=None and p_t.get(pat)!=None and p_e.get(pat) !=None):\n",
        "    p_list=p_d[pat]+p_t[pat]+p_e[pat]\n",
        "  elif (p_d.get(pat)!=None and p_t.get(pat)!=None ):\n",
        "    p_list=p_d[pat] + p_t[pat]\n",
        "  else:\n",
        "    p_list=p_d[pat]\n",
        "\n",
        "  ENT_.update({pat:[x for x in list(set(p_list))]})"
      ],
      "metadata": {
        "id": "AXgkUU-0p5t7"
      },
      "execution_count": 110,
      "outputs": []
    },
    {
      "cell_type": "code",
      "source": [
        "for pat in POS_:\n",
        "  print ({pat:ENT_[pat]})"
      ],
      "metadata": {
        "id": "hwl4VtCnrMie",
        "colab": {
          "base_uri": "https://localhost:8080/"
        },
        "outputId": "381dffac-f8e4-457c-e627-e6aeffbfc209"
      },
      "execution_count": 111,
      "outputs": [
        {
          "output_type": "stream",
          "name": "stdout",
          "text": [
            "{'X': [']', '1', 'ica', '2', 'median', '[', '10th', '<', 'virginica', 'Length', '>', '0', \"'\"]}\n",
            "{'ADJ': ['distinct', 'Distinct', 'highest', 'Select', 'Total', 'Highest', 'equal', 'Top', 'unique', 'Average', 'Petal', 'high', 'Lowest', 'greater', 'many', 'least', 'total', 'less', 'middle', 'SORTED', 'Minimum', 'smallest', 'bottom', 'lowest', 'low', 'average', 'Maximum', 'last']}\n",
            "{'VERB': ['found', 'recorded', 'count', 'ascending', 'NULL', 'starting', 'Find', 'CONTAINS', 'contains', 'DESC', '=', 'top', 'Calculate', 'grouped', 'percentile', 'RANK', 'color', 'SUM', \"'\", 'Show', 'assuming', 'ends', 'starts', 'LISTED', 'Setosa', 'sorted', 'Aggregate', 'ica', 'Organize', 'Date', 'setosa', 'ENDSWITH', 'STARTSWITH', 'start', 'descending', 'DISTINCT', 'show', 'dataset']}\n",
            "{'PART': ['to', 'not', \"'\"]}\n",
            "{'NOUN': ['value', 'List', 'Determine', 'flowers', 'number', 'Widths', 'Sepal', 'Number', 'C', 'name', 'versicolor', 'types', 'year', 'field', 'ORDER', 'Lengths', 'color', 'SUM', \"'\", 'flower', 'Entries', 'Display', 'YEAR', 'points', 'order', 'entries', 'FIXED', 'TODAY', 'data', 'observation', 'occurrences', 'Species', 'month', 'Date', 'ENDSWITH', 'records', 'species']}\n",
            "{'DET': ['a', 'the']}\n",
            "{'AUX': ['are', 'RANK_PERCENTILE', 'is', \"'s\"]}\n",
            "{'NUM': ['10', '9', '4', 'TOP', '3', '5', \"'\"]}\n",
            "{'PRON': ['this', 'each', 'What', 'all', 'the', 'both', 'there', 'a']}\n",
            "{'ADV': ['exactly', 'alphabetically', 'SORT', 'Sort', 'THEN', 'only', 'ELSE']}\n",
            "{'CCONJ': ['and', 'or', 'AND']}\n",
            "{'INTJ': ['%']}\n",
            "{'PROPN': ['\\\\\\'\"\\\\', 'Rank', 'Median', 'COUNTD', 'Group', 'MAX', 'ASC', 'MEDIAN', 'Length', 'DATETRUNC', 'Width', 'STARTS', 'INDEX', '-', 'Iri', \"'\", 'Count', 'AVG', 'LEFT', 'Filter', 'January', 'END', 'Iris', 'Setosa', '\\\\', 'Species', 'Sum', 'Date', 'MIN', 'Se', 'GROUP', 'COUNT']}\n",
            "{'SCONJ': ['IF', 'where', 'How', 'how']}\n",
            "{'ADP': ['from', 'FROM', 'within', 'WITH', 'over', 'between', 'BETWEEN', 'in', 'for', 'than', 'BY', 'of', 'at', 'by', 'across', 'with', 'above']}\n",
            "{'PUNCT': [']', '”', '!', '*', '“', '.', '\"', '(', ',', ')', ':', '?', '{', \"'\"]}\n"
          ]
        }
      ]
    },
    {
      "cell_type": "markdown",
      "source": [
        "#Tokenize with Pre-trained sPacy models"
      ],
      "metadata": {
        "id": "tXrvHd-wdUqH"
      }
    },
    {
      "cell_type": "code",
      "source": [
        "nlp = spacy.load(\"en_core_web_sm\")\n",
        "import en_core_web_sm\n",
        "nlp = en_core_web_sm.load()"
      ],
      "metadata": {
        "id": "8UpVlcEydixW"
      },
      "execution_count": 112,
      "outputs": []
    },
    {
      "cell_type": "markdown",
      "source": [
        "# Description Patterns"
      ],
      "metadata": {
        "id": "pu4P4q8oe4eV"
      }
    },
    {
      "cell_type": "code",
      "source": [
        "dg_ent={}"
      ],
      "metadata": {
        "id": "P5k_60q7ea5g"
      },
      "execution_count": 113,
      "outputs": []
    },
    {
      "cell_type": "code",
      "source": [
        "p_d=dg_ent['Patterns_Description']=get_patterns(dg_tok,dg_tok.columns[0])"
      ],
      "metadata": {
        "id": "WaUv07QDeovU",
        "colab": {
          "base_uri": "https://localhost:8080/"
        },
        "outputId": "ea75892b-8840-4791-f3c9-44bbdc445bd6"
      },
      "execution_count": 114,
      "outputs": [
        {
          "output_type": "stream",
          "name": "stdout",
          "text": [
            "[{'[': 'X'}, {'\"': 'PUNCT'}, {'[': 'X'}, {\"'\": 'X'}, {'Sum': 'PROPN'}, {\"'\": 'NUM'}, {',': 'PUNCT'}, {'\"': 'PUNCT'}, {',': 'PUNCT'}, {'\"': 'PUNCT'}, {\"'\": 'PUNCT'}, {'of': 'ADP'}, {\"'\": 'NUM'}, {',': 'PUNCT'}, {'\"': 'PUNCT'}, {',': 'PUNCT'}, {'\"': 'PUNCT'}, {\"'\": 'PUNCT'}, {'Sepal': 'NOUN'}, {\"'\": 'PUNCT'}, {',': 'PUNCT'}, {'\"': 'PUNCT'}, {',': 'PUNCT'}, {'\"': 'PUNCT'}, {\"'\": 'PUNCT'}, {'Length': 'X'}, {\"'\": 'PUNCT'}, {']': 'PUNCT'}, {'\"': 'PUNCT'}, {']': 'PUNCT'}, {'[': 'X'}, {'\"': 'PUNCT'}, {'[': 'X'}, {\"'\": 'PUNCT'}, {'Average': 'ADJ'}, {\"'\": 'PUNCT'}, {',': 'PUNCT'}, {'\"': 'PUNCT'}, {',': 'PUNCT'}, {'\"': 'PUNCT'}, {\"'\": 'PUNCT'}, {'Sepal': 'NOUN'}, {\"'\": 'PUNCT'}, {',': 'PUNCT'}, {'\"': 'PUNCT'}, {',': 'PUNCT'}, {'\"': 'PUNCT'}, {\"'\": 'PUNCT'}, {'Width': 'PROPN'}, {\"'\": 'PUNCT'}, {',': 'PUNCT'}, {'\"': 'PUNCT'}, {',': 'PUNCT'}, {'\"': 'PUNCT'}, {\"'\": 'PUNCT'}, {'across': 'ADP'}, {\"'\": 'PUNCT'}, {',': 'PUNCT'}, {'\"': 'PUNCT'}, {',': 'PUNCT'}, {'\"': 'PUNCT'}, {\"'\": 'PUNCT'}, {'all': 'PRON'}, {\"'\": 'PROPN'}, {',': 'PUNCT'}, {'\"': 'PUNCT'}, {',': 'PUNCT'}, {'\"': 'PUNCT'}, {\"'\": 'PUNCT'}, {'entries': 'NOUN'}, {\"'\": 'PUNCT'}, {']': 'PUNCT'}, {'\"': 'PUNCT'}, {']': 'PUNCT'}, {'[': 'X'}, {'\"': 'PUNCT'}, {'[': 'X'}, {\"'\": 'VERB'}, {'Find': 'VERB'}, {\"'\": 'PUNCT'}, {',': 'PUNCT'}, {'\"': 'PUNCT'}, {',': 'PUNCT'}, {'\"': 'PUNCT'}, {\"'\": 'PUNCT'}, {'the': 'DET'}, {\"'\": 'PUNCT'}, {',': 'PUNCT'}, {'\"': 'PUNCT'}, {',': 'PUNCT'}, {'\"': 'PUNCT'}, {\"'\": 'PUNCT'}, {'median': 'X'}, {\"'\": 'PROPN'}, {',': 'PUNCT'}, {'\"': 'PUNCT'}, {',': 'PUNCT'}, {'\"': 'PUNCT'}, {\"'\": 'PUNCT'}, {'Petal': 'ADJ'}, {\"'\": 'PUNCT'}, {',': 'PUNCT'}, {'\"': 'PUNCT'}, {',': 'PUNCT'}, {'\"': 'PUNCT'}, {\"'\": 'PUNCT'}, {'Length': 'X'}, {\"'\": 'PUNCT'}, {']': 'PUNCT'}, {'\"': 'PUNCT'}, {']': 'PUNCT'}, {'[': 'X'}, {'\"': 'PUNCT'}, {'[': 'X'}, {\"'\": 'X'}, {'Count': 'PROPN'}, {\"'\": 'PUNCT'}, {',': 'PUNCT'}, {'\"': 'PUNCT'}, {',': 'PUNCT'}, {'\"': 'PUNCT'}, {\"'\": 'PUNCT'}, {'the': 'DET'}, {\"'\": 'PUNCT'}, {',': 'PUNCT'}, {'\"': 'PUNCT'}, {',': 'PUNCT'}, {'\"': 'PUNCT'}, {\"'\": 'PUNCT'}, {'number': 'NOUN'}, {\"'\": 'PUNCT'}, {',': 'PUNCT'}, {'\"': 'PUNCT'}, {',': 'PUNCT'}, {'\"': 'PUNCT'}, {\"'\": 'PUNCT'}, {'of': 'ADP'}, {\"'\": 'NUM'}, {',': 'PUNCT'}, {'\"': 'PUNCT'}, {',': 'PUNCT'}, {'\"': 'PUNCT'}, {\"'\": 'PUNCT'}, {'records': 'NOUN'}, {\"'\": 'PART'}, {',': 'PUNCT'}, {'\"': 'PUNCT'}, {',': 'PUNCT'}, {'\"': 'PUNCT'}, {\"'\": 'PUNCT'}, {'in': 'ADP'}, {\"'\": 'NUM'}, {',': 'PUNCT'}, {'\"': 'PUNCT'}, {',': 'PUNCT'}, {'\"': 'PUNCT'}, {\"'\": 'PUNCT'}, {'the': 'DET'}, {\"'\": 'PUNCT'}, {',': 'PUNCT'}, {'\"': 'PUNCT'}, {',': 'PUNCT'}, {'\"': 'PUNCT'}, {\"'\": 'PUNCT'}, {'dataset': 'VERB'}, {\"'\": 'PUNCT'}, {']': 'PUNCT'}, {'\"': 'PUNCT'}, {']': 'PUNCT'}, {'[': 'X'}, {'\"': 'PUNCT'}, {'[': 'X'}, {\"'\": 'X'}, {'Count': 'PROPN'}, {\"'\": 'PUNCT'}, {',': 'PUNCT'}, {'\"': 'PUNCT'}, {',': 'PUNCT'}, {'\"': 'PUNCT'}, {\"'\": 'PUNCT'}, {'distinct': 'ADJ'}, {\"'\": 'PUNCT'}, {',': 'PUNCT'}, {'\"': 'PUNCT'}, {',': 'PUNCT'}, {'\"': 'PUNCT'}, {\"'\": 'PUNCT'}, {'species': 'NOUN'}, {\"'\": 'PUNCT'}, {',': 'PUNCT'}, {'\"': 'PUNCT'}, {',': 'PUNCT'}, {'\"': 'PUNCT'}, {\"'\": 'PUNCT'}, {'in': 'ADP'}, {\"'\": 'NUM'}, {',': 'PUNCT'}, {'\"': 'PUNCT'}, {',': 'PUNCT'}, {'\"': 'PUNCT'}, {\"'\": 'PUNCT'}, {'the': 'DET'}, {\"'\": 'PUNCT'}, {',': 'PUNCT'}, {'\"': 'PUNCT'}, {',': 'PUNCT'}, {'\"': 'PUNCT'}, {\"'\": 'PUNCT'}, {'dataset': 'VERB'}, {\"'\": 'PUNCT'}, {']': 'PUNCT'}, {'\"': 'PUNCT'}, {']': 'PUNCT'}, {'[': 'X'}, {'\"': 'PUNCT'}, {'[': 'X'}, {\"'\": 'PUNCT'}, {'Minimum': 'ADJ'}, {\"'\": 'PUNCT'}, {',': 'PUNCT'}, {'\"': 'PUNCT'}, {',': 'PUNCT'}, {'\"': 'PUNCT'}, {\"'\": 'PUNCT'}, {'value': 'NOUN'}, {\"'\": 'PUNCT'}, {',': 'PUNCT'}, {'\"': 'PUNCT'}, {',': 'PUNCT'}, {'\"': 'PUNCT'}, {\"'\": 'PUNCT'}, {'of': 'ADP'}, {\"'\": 'NUM'}, {',': 'PUNCT'}, {'\"': 'PUNCT'}, {',': 'PUNCT'}, {'\"': 'PUNCT'}, {\"'\": 'PUNCT'}, {'Sepal': 'NOUN'}, {\"'\": 'PUNCT'}, {',': 'PUNCT'}, {'\"': 'PUNCT'}, {',': 'PUNCT'}, {'\"': 'PUNCT'}, {\"'\": 'PUNCT'}, {'Length': 'X'}, {\"'\": 'PUNCT'}, {']': 'PUNCT'}, {'\"': 'PUNCT'}, {']': 'PUNCT'}, {'[': 'X'}, {'\"': 'PUNCT'}, {'[': 'X'}, {\"'\": 'PUNCT'}, {'Maximum': 'ADJ'}, {\"'\": 'NUM'}, {',': 'PUNCT'}, {'\"': 'PUNCT'}, {',': 'PUNCT'}, {'\"': 'PUNCT'}, {\"'\": 'PUNCT'}, {'Petal': 'ADJ'}, {\"'\": 'PUNCT'}, {',': 'PUNCT'}, {'\"': 'PUNCT'}, {',': 'PUNCT'}, {'\"': 'PUNCT'}, {\"'\": 'PUNCT'}, {'Width': 'PROPN'}, {\"'\": 'PUNCT'}, {',': 'PUNCT'}, {'\"': 'PUNCT'}, {',': 'PUNCT'}, {'\"': 'PUNCT'}, {\"'\": 'PUNCT'}, {'found': 'VERB'}, {\"'\": 'PUNCT'}, {',': 'PUNCT'}, {'\"': 'PUNCT'}, {',': 'PUNCT'}, {'\"': 'PUNCT'}, {\"'\": 'PUNCT'}, {'in': 'ADP'}, {\"'\": 'NUM'}, {',': 'PUNCT'}, {'\"': 'PUNCT'}, {',': 'PUNCT'}, {'\"': 'PUNCT'}, {\"'\": 'PUNCT'}, {'the': 'DET'}, {\"'\": 'PUNCT'}, {',': 'PUNCT'}, {'\"': 'PUNCT'}, {',': 'PUNCT'}, {'\"': 'PUNCT'}, {\"'\": 'PUNCT'}, {'dataset': 'VERB'}, {\"'\": 'PUNCT'}, {']': 'PUNCT'}, {'\"': 'PUNCT'}, {']': 'PUNCT'}, {'[': 'X'}, {'\"': 'PUNCT'}, {'[': 'X'}, {\"'\": 'X'}, {'Group': 'PROPN'}, {\"'\": 'PUNCT'}, {',': 'PUNCT'}, {'\"': 'PUNCT'}, {',': 'PUNCT'}, {'\"': 'PUNCT'}, {\"'\": 'PUNCT'}, {'records': 'NOUN'}, {\"'\": 'PART'}, {',': 'PUNCT'}, {'\"': 'PUNCT'}, {',': 'PUNCT'}, {'\"': 'PUNCT'}, {\"'\": 'PUNCT'}, {'by': 'ADP'}, {\"'\": 'NUM'}, {',': 'PUNCT'}, {'\"': 'PUNCT'}, {',': 'PUNCT'}, {'\"': 'PUNCT'}, {\"'\": 'PUNCT'}, {'Species': 'PROPN'}, {\"'\": 'PUNCT'}, {']': 'PUNCT'}, {'\"': 'PUNCT'}, {']': 'PUNCT'}, {'[': 'X'}, {'\"': 'PUNCT'}, {'[': 'X'}, {\"'\": 'X'}, {'Sort': 'ADV'}, {\"'\": 'NUM'}, {',': 'PUNCT'}, {'\"': 'PUNCT'}, {',': 'PUNCT'}, {'\"': 'PUNCT'}, {\"'\": 'PUNCT'}, {'the': 'DET'}, {\"'\": 'PUNCT'}, {',': 'PUNCT'}, {'\"': 'PUNCT'}, {',': 'PUNCT'}, {'\"': 'PUNCT'}, {\"'\": 'PUNCT'}, {'entries': 'NOUN'}, {\"'\": 'PUNCT'}, {',': 'PUNCT'}, {'\"': 'PUNCT'}, {',': 'PUNCT'}, {'\"': 'PUNCT'}, {\"'\": 'PUNCT'}, {'by': 'ADP'}, {\"'\": 'NUM'}, {',': 'PUNCT'}, {'\"': 'PUNCT'}, {',': 'PUNCT'}, {'\"': 'PUNCT'}, {\"'\": 'PUNCT'}, {'Sepal': 'NOUN'}, {\"'\": 'PUNCT'}, {',': 'PUNCT'}, {'\"': 'PUNCT'}, {',': 'PUNCT'}, {'\"': 'PUNCT'}, {\"'\": 'PUNCT'}, {'Length': 'PROPN'}, {\"'\": 'PUNCT'}, {',': 'PUNCT'}, {'\"': 'PUNCT'}, {',': 'PUNCT'}, {'\"': 'PUNCT'}, {\"'\": 'PUNCT'}, {'in': 'ADP'}, {\"'\": 'NUM'}, {',': 'PUNCT'}, {'\"': 'PUNCT'}, {',': 'PUNCT'}, {'\"': 'PUNCT'}, {\"'\": 'PUNCT'}, {'ascending': 'VERB'}, {\"'\": 'PUNCT'}, {',': 'PUNCT'}, {'\"': 'PUNCT'}, {',': 'PUNCT'}, {'\"': 'PUNCT'}, {\"'\": 'PUNCT'}, {'order': 'NOUN'}, {\"'\": 'PUNCT'}, {']': 'PUNCT'}, {'\"': 'PUNCT'}, {']': 'PUNCT'}, {'[': 'X'}, {'\"': 'PUNCT'}, {'[': 'X'}, {\"'\": 'PUNCT'}, {'List': 'NOUN'}, {\"'\": 'PUNCT'}, {',': 'PUNCT'}, {'\"': 'PUNCT'}, {',': 'PUNCT'}, {'\"': 'PUNCT'}, {\"'\": 'PUNCT'}, {'Species': 'NOUN'}, {\"'\": 'PUNCT'}, {',': 'PUNCT'}, {'\"': 'PUNCT'}, {',': 'PUNCT'}, {'\"': 'PUNCT'}, {\"'\": 'PUNCT'}, {'alphabetically': 'ADV'}, {\"'\": 'VERB'}, {']': 'X'}, {'\"': 'PUNCT'}, {']': 'PUNCT'}, {'[': 'X'}, {'\"': 'PUNCT'}, {'[': 'X'}, {\"'\": 'X'}, {'Entries': 'NOUN'}, {\"'\": 'PUNCT'}, {',': 'PUNCT'}, {'\"': 'PUNCT'}, {',': 'PUNCT'}, {'\"': 'PUNCT'}, {\"'\": 'PUNCT'}, {'with': 'ADP'}, {\"'\": 'PROPN'}, {',': 'PUNCT'}, {'\"': 'PUNCT'}, {',': 'PUNCT'}, {'\"': 'PUNCT'}, {\"'\": 'PUNCT'}, {'Sepal': 'NOUN'}, {\"'\": 'PUNCT'}, {',': 'PUNCT'}, {'\"': 'PUNCT'}, {',': 'PUNCT'}, {'\"': 'PUNCT'}, {\"'\": 'PUNCT'}, {'Length': 'PROPN'}, {\"'\": 'PUNCT'}, {',': 'PUNCT'}, {'\"': 'PUNCT'}, {',': 'PUNCT'}, {'\"': 'PUNCT'}, {\"'\": 'PUNCT'}, {'at': 'ADP'}, {\"'\": 'NUM'}, {',': 'PUNCT'}, {'\"': 'PUNCT'}, {',': 'PUNCT'}, {'\"': 'PUNCT'}, {\"'\": 'PUNCT'}, {'least': 'ADJ'}, {\"'\": 'PUNCT'}, {',': 'PUNCT'}, {'\"': 'PUNCT'}, {',': 'PUNCT'}, {'\"': 'PUNCT'}, {\"'\": 'PROPN'}, {'5': 'NUM'}, {\"'\": 'NUM'}, {',': 'PUNCT'}, {'\"': 'PUNCT'}, {',': 'PUNCT'}, {'\"': 'PUNCT'}, {\"'\": 'PUNCT'}, {'.': 'PUNCT'}, {\"'\": 'PUNCT'}, {',': 'PUNCT'}, {'\"': 'PUNCT'}, {',': 'PUNCT'}, {'\"': 'PUNCT'}, {\"'\": 'PUNCT'}, {'0': 'X'}, {\"'\": 'PUNCT'}, {']': 'PUNCT'}, {'\"': 'PUNCT'}, {']': 'PUNCT'}, {'[': 'X'}, {'\"': 'PUNCT'}, {'[': 'X'}, {\"'\": 'X'}, {'Entries': 'NOUN'}, {\"'\": 'PUNCT'}, {',': 'PUNCT'}, {'\"': 'PUNCT'}, {',': 'PUNCT'}, {'\"': 'PUNCT'}, {\"'\": 'PUNCT'}, {'with': 'ADP'}, {\"'\": 'PROPN'}, {',': 'PUNCT'}, {'\"': 'PUNCT'}, {',': 'PUNCT'}, {'\"': 'PUNCT'}, {\"'\": 'PUNCT'}, {'Petal': 'ADJ'}, {\"'\": 'PUNCT'}, {',': 'PUNCT'}, {'\"': 'PUNCT'}, {',': 'PUNCT'}, {'\"': 'PUNCT'}, {\"'\": 'PUNCT'}, {'Length': 'PROPN'}, {\"'\": 'PUNCT'}, {',': 'PUNCT'}, {'\"': 'PUNCT'}, {',': 'PUNCT'}, {'\"': 'PUNCT'}, {\"'\": 'PUNCT'}, {'between': 'ADP'}, {\"'\": 'PUNCT'}, {',': 'PUNCT'}, {'\"': 'PUNCT'}, {',': 'PUNCT'}, {'\"': 'PUNCT'}, {\"'\": 'PROPN'}, {'1': 'X'}, {\"'\": 'NUM'}, {',': 'PUNCT'}, {'\"': 'PUNCT'}, {',': 'PUNCT'}, {'\"': 'PUNCT'}, {\"'\": 'PUNCT'}, {'.': 'PUNCT'}, {\"'\": 'PUNCT'}, {',': 'PUNCT'}, {'\"': 'PUNCT'}, {',': 'PUNCT'}, {'\"': 'PUNCT'}, {\"'\": 'PROPN'}, {'5': 'NUM'}, {\"'\": 'NUM'}, {',': 'PUNCT'}, {'\"': 'PUNCT'}, {',': 'PUNCT'}, {'\"': 'PUNCT'}, {\"'\": 'PUNCT'}, {'and': 'CCONJ'}, {\"'\": 'NUM'}, {',': 'PUNCT'}, {'\"': 'PUNCT'}, {',': 'PUNCT'}, {'\"': 'PUNCT'}, {\"'\": 'PROPN'}, {'2': 'X'}, {\"'\": 'NUM'}, {',': 'PUNCT'}, {'\"': 'PUNCT'}, {',': 'PUNCT'}, {'\"': 'PUNCT'}, {\"'\": 'PUNCT'}, {'.': 'PUNCT'}, {\"'\": 'PUNCT'}, {',': 'PUNCT'}, {'\"': 'PUNCT'}, {',': 'PUNCT'}, {'\"': 'PUNCT'}, {\"'\": 'PROPN'}, {'5': 'NUM'}, {\"'\": 'NUM'}, {']': 'PUNCT'}, {'\"': 'PUNCT'}, {']': 'PUNCT'}, {'[': 'X'}, {'\"': 'PUNCT'}, {'[': 'X'}, {\"'\": 'PUNCT'}, {'Top': 'ADJ'}, {\"'\": 'NUM'}, {',': 'PUNCT'}, {'\"': 'PUNCT'}, {',': 'PUNCT'}, {'\"': 'PUNCT'}, {\"'\": 'PROPN'}, {'3': 'NUM'}, {\"'\": 'NUM'}, {',': 'PUNCT'}, {'\"': 'PUNCT'}, {',': 'PUNCT'}, {'\"': 'PUNCT'}, {\"'\": 'PUNCT'}, {'entries': 'NOUN'}, {\"'\": 'PUNCT'}, {',': 'PUNCT'}, {'\"': 'PUNCT'}, {',': 'PUNCT'}, {'\"': 'PUNCT'}, {\"'\": 'PUNCT'}, {'with': 'ADP'}, {\"'\": 'PROPN'}, {',': 'PUNCT'}, {'\"': 'PUNCT'}, {',': 'PUNCT'}, {'\"': 'PUNCT'}, {\"'\": 'PUNCT'}, {'the': 'DET'}, {\"'\": 'PUNCT'}, {',': 'PUNCT'}, {'\"': 'PUNCT'}, {',': 'PUNCT'}, {'\"': 'PUNCT'}, {\"'\": 'PUNCT'}, {'highest': 'ADJ'}, {\"'\": 'PUNCT'}, {',': 'PUNCT'}, {'\"': 'PUNCT'}, {',': 'PUNCT'}, {'\"': 'PUNCT'}, {\"'\": 'PUNCT'}, {'Sepal': 'NOUN'}, {\"'\": 'PUNCT'}, {',': 'PUNCT'}, {'\"': 'PUNCT'}, {',': 'PUNCT'}, {'\"': 'PUNCT'}, {\"'\": 'PUNCT'}, {'Width': 'PROPN'}, {\"'\": 'PUNCT'}, {']': 'PUNCT'}, {'\"': 'PUNCT'}, {']': 'PUNCT'}, {'[': 'X'}, {'\"': 'PUNCT'}, {'[': 'X'}, {\"'\": 'X'}, {'Species': 'NOUN'}, {\"'\": 'PUNCT'}, {',': 'PUNCT'}, {'\"': 'PUNCT'}, {',': 'PUNCT'}, {'\"': 'PUNCT'}, {\"'\": 'PUNCT'}, {'is': 'AUX'}, {\"'\": 'PUNCT'}, {',': 'PUNCT'}, {'\"': 'PUNCT'}, {',': 'PUNCT'}, {\"'\": 'PUNCT'}, {'\"': 'PUNCT'}, {'\\\\': 'PROPN'}, {\"'\": 'PUNCT'}, {'\"': 'PUNCT'}, {',': 'PUNCT'}, {\"'\": 'PUNCT'}, {',': 'PUNCT'}, {'\"': 'PUNCT'}, {\"'\": 'PUNCT'}, {'Setosa': 'VERB'}, {\"'\": 'NUM'}, {',': 'PUNCT'}, {'\"': 'PUNCT'}, {',': 'PUNCT'}, {\"'\": 'PUNCT'}, {'\"': 'PUNCT'}, {'\\\\': 'PROPN'}, {\"'\": 'PUNCT'}, {'\"': 'PUNCT'}, {']': 'PUNCT'}, {\"'\": 'X'}, {']': 'PUNCT'}, {'[': 'X'}, {'\"': 'PUNCT'}, {'[': 'X'}, {\"'\": 'X'}, {'Species': 'NOUN'}, {\"'\": 'PUNCT'}, {',': 'PUNCT'}, {'\"': 'PUNCT'}, {',': 'PUNCT'}, {'\"': 'PUNCT'}, {\"'\": 'PUNCT'}, {'starts': 'VERB'}, {\"'\": 'PUNCT'}, {',': 'PUNCT'}, {'\"': 'PUNCT'}, {',': 'PUNCT'}, {'\"': 'PUNCT'}, {\"'\": 'PUNCT'}, {'with': 'ADP'}, {\"'\": 'PROPN'}, {',': 'PUNCT'}, {'\"': 'PUNCT'}, {',': 'PUNCT'}, {\"'\": 'PUNCT'}, {'\"': 'PUNCT'}, {'\\\\': 'PROPN'}, {\"'\": 'PUNCT'}, {'\"': 'PUNCT'}, {',': 'PUNCT'}, {\"'\": 'PUNCT'}, {',': 'PUNCT'}, {'\"': 'PUNCT'}, {\"'\": 'PUNCT'}, {'Se': 'PROPN'}, {\"'\": 'NUM'}, {',': 'PUNCT'}, {'\"': 'PUNCT'}, {',': 'PUNCT'}, {\"'\": 'PUNCT'}, {'\"': 'PUNCT'}, {'\\\\': 'PROPN'}, {\"'\": 'PUNCT'}, {'\"': 'PUNCT'}, {']': 'PUNCT'}, {\"'\": 'X'}, {']': 'PUNCT'}, {'[': 'X'}, {'\"': 'PUNCT'}, {'[': 'X'}, {\"'\": 'PUNCT'}, {'Calculate': 'VERB'}, {\"'\": 'PUNCT'}, {',': 'PUNCT'}, {'\"': 'PUNCT'}, {',': 'PUNCT'}, {'\"': 'PUNCT'}, {\"'\": 'PUNCT'}, {'the': 'DET'}, {\"'\": 'PUNCT'}, {',': 'PUNCT'}, {'\"': 'PUNCT'}, {',': 'PUNCT'}, {'\"': 'PUNCT'}, {\"'\": 'PUNCT'}, {'total': 'ADJ'}, {\"'\": 'PUNCT'}, {',': 'PUNCT'}, {'\"': 'PUNCT'}, {',': 'PUNCT'}, {'\"': 'PUNCT'}, {\"'\": 'PUNCT'}, {'of': 'ADP'}, {\"'\": 'NUM'}, {',': 'PUNCT'}, {'\"': 'PUNCT'}, {',': 'PUNCT'}, {'\"': 'PUNCT'}, {\"'\": 'PUNCT'}, {'Petal': 'ADJ'}, {\"'\": 'PUNCT'}, {',': 'PUNCT'}, {'\"': 'PUNCT'}, {',': 'PUNCT'}, {'\"': 'PUNCT'}, {\"'\": 'PUNCT'}, {'Lengths': 'NOUN'}, {\"'\": 'NUM'}, {']': 'PUNCT'}, {'\"': 'PUNCT'}, {']': 'PUNCT'}, {'[': 'X'}, {'\"': 'PUNCT'}, {'[': 'X'}, {\"'\": 'PUNCT'}, {'What': 'PRON'}, {\"'\": 'PROPN'}, {',': 'PUNCT'}, {'\"': 'PUNCT'}, {',': 'PUNCT'}, {'\"': 'PUNCT'}, {\"'\": 'PUNCT'}, {'is': 'AUX'}, {\"'\": 'PUNCT'}, {',': 'PUNCT'}, {'\"': 'PUNCT'}, {',': 'PUNCT'}, {'\"': 'PUNCT'}, {\"'\": 'PUNCT'}, {'the': 'DET'}, {\"'\": 'PUNCT'}, {',': 'PUNCT'}, {'\"': 'PUNCT'}, {',': 'PUNCT'}, {'\"': 'PUNCT'}, {\"'\": 'PUNCT'}, {'average': 'ADJ'}, {\"'\": 'PUNCT'}, {',': 'PUNCT'}, {'\"': 'PUNCT'}, {',': 'PUNCT'}, {'\"': 'PUNCT'}, {\"'\": 'PUNCT'}, {'Petal': 'ADJ'}, {\"'\": 'PUNCT'}, {',': 'PUNCT'}, {'\"': 'PUNCT'}, {',': 'PUNCT'}, {'\"': 'PUNCT'}, {\"'\": 'PUNCT'}, {'Width': 'PROPN'}, {\"'\": 'PUNCT'}, {',': 'PUNCT'}, {'\"': 'PUNCT'}, {',': 'PUNCT'}, {'\"': 'PUNCT'}, {\"'\": 'PUNCT'}, {'?': 'PUNCT'}, {\"'\": 'PUNCT'}, {']': 'PUNCT'}, {'\"': 'PUNCT'}, {']': 'PUNCT'}, {'[': 'X'}, {'\"': 'PUNCT'}, {'[': 'X'}, {\"'\": 'X'}, {'Determine': 'NOUN'}, {\"'\": 'PUNCT'}, {',': 'PUNCT'}, {'\"': 'PUNCT'}, {',': 'PUNCT'}, {'\"': 'PUNCT'}, {\"'\": 'PUNCT'}, {'the': 'DET'}, {\"'\": 'PUNCT'}, {',': 'PUNCT'}, {'\"': 'PUNCT'}, {',': 'PUNCT'}, {'\"': 'PUNCT'}, {\"'\": 'PUNCT'}, {'middle': 'ADJ'}, {\"'\": 'PUNCT'}, {',': 'PUNCT'}, {'\"': 'PUNCT'}, {',': 'PUNCT'}, {'\"': 'PUNCT'}, {\"'\": 'PUNCT'}, {'value': 'NOUN'}, {\"'\": 'PUNCT'}, {',': 'PUNCT'}, {'\"': 'PUNCT'}, {',': 'PUNCT'}, {'\"': 'PUNCT'}, {\"'\": 'PUNCT'}, {'of': 'ADP'}, {\"'\": 'NUM'}, {',': 'PUNCT'}, {'\"': 'PUNCT'}, {',': 'PUNCT'}, {'\"': 'PUNCT'}, {\"'\": 'PUNCT'}, {'Sepal': 'NOUN'}, {\"'\": 'PUNCT'}, {',': 'PUNCT'}, {'\"': 'PUNCT'}, {',': 'PUNCT'}, {'\"': 'PUNCT'}, {\"'\": 'PUNCT'}, {'Widths': 'NOUN'}, {\"'\": 'PUNCT'}, {']': 'PUNCT'}, {'\"': 'PUNCT'}, {']': 'PUNCT'}, {'[': 'X'}, {'\"': 'PUNCT'}, {'[': 'X'}, {\"'\": 'X'}, {'How': 'SCONJ'}, {\"'\": 'NUM'}, {',': 'PUNCT'}, {'\"': 'PUNCT'}, {',': 'PUNCT'}, {'\"': 'PUNCT'}, {\"'\": 'PUNCT'}, {'many': 'ADJ'}, {\"'\": 'PUNCT'}, {',': 'PUNCT'}, {'\"': 'PUNCT'}, {',': 'PUNCT'}, {'\"': 'PUNCT'}, {\"'\": 'PUNCT'}, {'data': 'NOUN'}, {\"'\": 'PUNCT'}, {',': 'PUNCT'}, {'\"': 'PUNCT'}, {',': 'PUNCT'}, {'\"': 'PUNCT'}, {\"'\": 'PUNCT'}, {'points': 'NOUN'}, {\"'\": 'PUNCT'}, {',': 'PUNCT'}, {'\"': 'PUNCT'}, {',': 'PUNCT'}, {'\"': 'PUNCT'}, {\"'\": 'PUNCT'}, {'are': 'AUX'}, {\"'\": 'NUM'}, {',': 'PUNCT'}, {'\"': 'PUNCT'}, {',': 'PUNCT'}, {'\"': 'PUNCT'}, {\"'\": 'PUNCT'}, {'there': 'PRON'}, {\"'\": 'NUM'}, {',': 'PUNCT'}, {'\"': 'PUNCT'}, {',': 'PUNCT'}, {'\"': 'PUNCT'}, {\"'\": 'PUNCT'}, {'?': 'PUNCT'}, {\"'\": 'PUNCT'}, {']': 'PUNCT'}, {'\"': 'PUNCT'}, {']': 'PUNCT'}, {'[': 'X'}, {'\"': 'PUNCT'}, {'[': 'X'}, {\"'\": 'X'}, {'Number': 'NOUN'}, {\"'\": 'PUNCT'}, {',': 'PUNCT'}, {'\"': 'PUNCT'}, {',': 'PUNCT'}, {'\"': 'PUNCT'}, {\"'\": 'PUNCT'}, {'of': 'ADP'}, {\"'\": 'NUM'}, {',': 'PUNCT'}, {'\"': 'PUNCT'}, {',': 'PUNCT'}, {'\"': 'PUNCT'}, {\"'\": 'PUNCT'}, {'unique': 'ADJ'}, {\"'\": 'PUNCT'}, {',': 'PUNCT'}, {'\"': 'PUNCT'}, {',': 'PUNCT'}, {'\"': 'PUNCT'}, {\"'\": 'PUNCT'}, {'flower': 'NOUN'}, {\"'\": 'PUNCT'}, {',': 'PUNCT'}, {'\"': 'PUNCT'}, {',': 'PUNCT'}, {'\"': 'PUNCT'}, {\"'\": 'PUNCT'}, {'types': 'NOUN'}, {\"'\": 'PUNCT'}, {']': 'PUNCT'}, {'\"': 'PUNCT'}, {']': 'PUNCT'}, {'[': 'X'}, {'\"': 'PUNCT'}, {'[': 'X'}, {\"'\": 'PUNCT'}, {'Lowest': 'ADJ'}, {\"'\": 'NUM'}, {',': 'PUNCT'}, {'\"': 'PUNCT'}, {',': 'PUNCT'}, {'\"': 'PUNCT'}, {\"'\": 'PUNCT'}, {'Sepal': 'NOUN'}, {\"'\": 'PUNCT'}, {',': 'PUNCT'}, {'\"': 'PUNCT'}, {',': 'PUNCT'}, {'\"': 'PUNCT'}, {\"'\": 'PUNCT'}, {'Length': 'PROPN'}, {\"'\": 'PUNCT'}, {',': 'PUNCT'}, {'\"': 'PUNCT'}, {',': 'PUNCT'}, {'\"': 'PUNCT'}, {\"'\": 'PUNCT'}, {'recorded': 'VERB'}, {\"'\": 'PUNCT'}, {']': 'PUNCT'}, {'\"': 'PUNCT'}, {']': 'PUNCT'}, {'[': 'X'}, {'\"': 'PUNCT'}, {'[': 'X'}, {\"'\": 'X'}, {'Highest': 'ADJ'}, {\"'\": 'NUM'}, {',': 'PUNCT'}, {'\"': 'PUNCT'}, {',': 'PUNCT'}, {'\"': 'PUNCT'}, {\"'\": 'PUNCT'}, {'value': 'NOUN'}, {\"'\": 'PUNCT'}, {',': 'PUNCT'}, {'\"': 'PUNCT'}, {',': 'PUNCT'}, {'\"': 'PUNCT'}, {\"'\": 'PUNCT'}, {'of': 'ADP'}, {\"'\": 'NUM'}, {',': 'PUNCT'}, {'\"': 'PUNCT'}, {',': 'PUNCT'}, {'\"': 'PUNCT'}, {\"'\": 'PUNCT'}, {'Petal': 'ADJ'}, {\"'\": 'PUNCT'}, {',': 'PUNCT'}, {'\"': 'PUNCT'}, {',': 'PUNCT'}, {'\"': 'PUNCT'}, {\"'\": 'PUNCT'}, {'Width': 'PROPN'}, {\"'\": 'PUNCT'}, {',': 'PUNCT'}, {'\"': 'PUNCT'}, {',': 'PUNCT'}, {'\"': 'PUNCT'}, {\"'\": 'PUNCT'}, {'found': 'VERB'}, {\"'\": 'PUNCT'}, {']': 'PUNCT'}, {'\"': 'PUNCT'}, {']': 'PUNCT'}, {'[': 'X'}, {'\"': 'PUNCT'}, {'[': 'X'}, {\"'\": 'PUNCT'}, {'Organize': 'VERB'}, {\"'\": 'PUNCT'}, {',': 'PUNCT'}, {'\"': 'PUNCT'}, {',': 'PUNCT'}, {'\"': 'PUNCT'}, {\"'\": 'PUNCT'}, {'data': 'NOUN'}, {\"'\": 'PUNCT'}, {',': 'PUNCT'}, {'\"': 'PUNCT'}, {',': 'PUNCT'}, {'\"': 'PUNCT'}, {\"'\": 'PUNCT'}, {'by': 'ADP'}, {\"'\": 'NUM'}, {',': 'PUNCT'}, {'\"': 'PUNCT'}, {',': 'PUNCT'}, {'\"': 'PUNCT'}, {\"'\": 'PUNCT'}, {'Species': 'NOUN'}, {\"'\": 'PUNCT'}, {',': 'PUNCT'}, {'\"': 'PUNCT'}, {',': 'PUNCT'}, {'\"': 'PUNCT'}, {\"'\": 'PUNCT'}, {'in': 'ADP'}, {\"'\": 'NUM'}, {',': 'PUNCT'}, {'\"': 'PUNCT'}, {',': 'PUNCT'}, {'\"': 'PUNCT'}, {\"'\": 'PUNCT'}, {'descending': 'VERB'}, {\"'\": 'PUNCT'}, {',': 'PUNCT'}, {'\"': 'PUNCT'}, {',': 'PUNCT'}, {'\"': 'PUNCT'}, {\"'\": 'PUNCT'}, {'order': 'NOUN'}, {\"'\": 'PUNCT'}, {']': 'PUNCT'}, {'\"': 'PUNCT'}, {']': 'PUNCT'}, {'[': 'X'}, {'\"': 'PUNCT'}, {'[': 'X'}, {\"'\": 'X'}, {'Rank': 'PROPN'}, {\"'\": 'PUNCT'}, {',': 'PUNCT'}, {'\"': 'PUNCT'}, {',': 'PUNCT'}, {'\"': 'PUNCT'}, {\"'\": 'PUNCT'}, {'Sepal': 'NOUN'}, {\"'\": 'PUNCT'}, {',': 'PUNCT'}, {'\"': 'PUNCT'}, {',': 'PUNCT'}, {'\"': 'PUNCT'}, {\"'\": 'PUNCT'}, {'Lengths': 'NOUN'}, {\"'\": 'NUM'}, {',': 'PUNCT'}, {'\"': 'PUNCT'}, {',': 'PUNCT'}, {'\"': 'PUNCT'}, {\"'\": 'PUNCT'}, {'from': 'ADP'}, {\"'\": 'NUM'}, {',': 'PUNCT'}, {'\"': 'PUNCT'}, {',': 'PUNCT'}, {'\"': 'PUNCT'}, {\"'\": 'PUNCT'}, {'low': 'ADJ'}, {\"'\": 'PUNCT'}, {',': 'PUNCT'}, {'\"': 'PUNCT'}, {',': 'PUNCT'}, {'\"': 'PUNCT'}, {\"'\": 'PUNCT'}, {'to': 'PART'}, {\"'\": 'NUM'}, {',': 'PUNCT'}, {'\"': 'PUNCT'}, {',': 'PUNCT'}, {'\"': 'PUNCT'}, {\"'\": 'PUNCT'}, {'high': 'ADJ'}, {\"'\": 'PUNCT'}, {']': 'PUNCT'}, {'\"': 'PUNCT'}, {']': 'PUNCT'}, {'[': 'X'}, {'\"': 'PUNCT'}, {'[': 'X'}, {\"'\": 'X'}, {'Filter': 'PROPN'}, {\"'\": 'NUM'}, {',': 'PUNCT'}, {'\"': 'PUNCT'}, {',': 'PUNCT'}, {'\"': 'PUNCT'}, {\"'\": 'PUNCT'}, {'for': 'ADP'}, {\"'\": 'NUM'}, {',': 'PUNCT'}, {'\"': 'PUNCT'}, {',': 'PUNCT'}, {'\"': 'PUNCT'}, {\"'\": 'PUNCT'}, {'Sepal': 'NOUN'}, {\"'\": 'PUNCT'}, {',': 'PUNCT'}, {'\"': 'PUNCT'}, {',': 'PUNCT'}, {'\"': 'PUNCT'}, {\"'\": 'PUNCT'}, {'Length': 'PROPN'}, {\"'\": 'PUNCT'}, {',': 'PUNCT'}, {'\"': 'PUNCT'}, {',': 'PUNCT'}, {'\"': 'PUNCT'}, {\"'\": 'PUNCT'}, {'greater': 'ADJ'}, {\"'\": 'PUNCT'}, {',': 'PUNCT'}, {'\"': 'PUNCT'}, {',': 'PUNCT'}, {'\"': 'PUNCT'}, {\"'\": 'PUNCT'}, {'than': 'ADP'}, {\"'\": 'PROPN'}, {',': 'PUNCT'}, {'\"': 'PUNCT'}, {',': 'PUNCT'}, {'\"': 'PUNCT'}, {\"'\": 'PUNCT'}, {'or': 'CCONJ'}, {\"'\": 'NUM'}, {',': 'PUNCT'}, {'\"': 'PUNCT'}, {',': 'PUNCT'}, {'\"': 'PUNCT'}, {\"'\": 'PUNCT'}, {'equal': 'ADJ'}, {\"'\": 'PUNCT'}, {',': 'PUNCT'}, {'\"': 'PUNCT'}, {',': 'PUNCT'}, {'\"': 'PUNCT'}, {\"'\": 'PUNCT'}, {'to': 'PART'}, {\"'\": 'NUM'}, {',': 'PUNCT'}, {'\"': 'PUNCT'}, {',': 'PUNCT'}, {'\"': 'PUNCT'}, {\"'\": 'PROPN'}, {'4': 'NUM'}, {\"'\": 'NUM'}, {',': 'PUNCT'}, {'\"': 'PUNCT'}, {',': 'PUNCT'}, {'\"': 'PUNCT'}, {\"'\": 'PUNCT'}, {'.': 'PUNCT'}, {\"'\": 'PUNCT'}, {',': 'PUNCT'}, {'\"': 'PUNCT'}, {',': 'PUNCT'}, {'\"': 'PUNCT'}, {\"'\": 'PROPN'}, {'5': 'NUM'}, {\"'\": 'NUM'}, {']': 'PUNCT'}, {'\"': 'PUNCT'}, {']': 'PUNCT'}, {'[': 'X'}, {'\"': 'PUNCT'}, {'[': 'X'}, {\"'\": 'PUNCT'}, {'Select': 'ADJ'}, {\"'\": 'PUNCT'}, {',': 'PUNCT'}, {'\"': 'PUNCT'}, {',': 'PUNCT'}, {'\"': 'PUNCT'}, {\"'\": 'PUNCT'}, {'entries': 'NOUN'}, {\"'\": 'PUNCT'}, {',': 'PUNCT'}, {'\"': 'PUNCT'}, {',': 'PUNCT'}, {'\"': 'PUNCT'}, {\"'\": 'PUNCT'}, {'with': 'ADP'}, {\"'\": 'PROPN'}, {',': 'PUNCT'}, {'\"': 'PUNCT'}, {',': 'PUNCT'}, {'\"': 'PUNCT'}, {\"'\": 'PUNCT'}, {'Petal': 'ADJ'}, {\"'\": 'PUNCT'}, {',': 'PUNCT'}, {'\"': 'PUNCT'}, {',': 'PUNCT'}, {'\"': 'PUNCT'}, {\"'\": 'PUNCT'}, {'Width': 'PROPN'}, {\"'\": 'PUNCT'}, {',': 'PUNCT'}, {'\"': 'PUNCT'}, {',': 'PUNCT'}, {'\"': 'PUNCT'}, {\"'\": 'PUNCT'}, {'less': 'ADJ'}, {\"'\": 'PUNCT'}, {',': 'PUNCT'}, {'\"': 'PUNCT'}, {',': 'PUNCT'}, {'\"': 'PUNCT'}, {\"'\": 'PUNCT'}, {'than': 'ADP'}, {\"'\": 'PROPN'}, {',': 'PUNCT'}, {'\"': 'PUNCT'}, {',': 'PUNCT'}, {'\"': 'PUNCT'}, {\"'\": 'PROPN'}, {'2': 'X'}, {\"'\": 'NUM'}, {',': 'PUNCT'}, {'\"': 'PUNCT'}, {',': 'PUNCT'}, {'\"': 'PUNCT'}, {\"'\": 'PUNCT'}, {'.': 'PUNCT'}, {\"'\": 'PUNCT'}, {',': 'PUNCT'}, {'\"': 'PUNCT'}, {',': 'PUNCT'}, {'\"': 'PUNCT'}, {\"'\": 'PUNCT'}, {'0': 'X'}, {\"'\": 'PUNCT'}, {']': 'PUNCT'}, {'\"': 'PUNCT'}, {']': 'PUNCT'}, {'[': 'X'}, {'\"': 'PUNCT'}, {'[': 'X'}, {\"'\": 'PUNCT'}, {'Show': 'VERB'}, {\"'\": 'PUNCT'}, {',': 'PUNCT'}, {'\"': 'PUNCT'}, {',': 'PUNCT'}, {'\"': 'PUNCT'}, {\"'\": 'PUNCT'}, {'entries': 'NOUN'}, {\"'\": 'PUNCT'}, {',': 'PUNCT'}, {'\"': 'PUNCT'}, {',': 'PUNCT'}, {'\"': 'PUNCT'}, {\"'\": 'PUNCT'}, {'where': 'SCONJ'}, {\"'\": 'NUM'}, {',': 'PUNCT'}, {'\"': 'PUNCT'}, {',': 'PUNCT'}, {'\"': 'PUNCT'}, {\"'\": 'PUNCT'}, {'Sepal': 'NOUN'}, {\"'\": 'PUNCT'}, {',': 'PUNCT'}, {'\"': 'PUNCT'}, {',': 'PUNCT'}, {'\"': 'PUNCT'}, {\"'\": 'PUNCT'}, {'Width': 'PROPN'}, {\"'\": 'PUNCT'}, {',': 'PUNCT'}, {'\"': 'PUNCT'}, {',': 'PUNCT'}, {'\"': 'PUNCT'}, {\"'\": 'PUNCT'}, {'is': 'AUX'}, {\"'\": 'PUNCT'}, {',': 'PUNCT'}, {'\"': 'PUNCT'}, {',': 'PUNCT'}, {'\"': 'PUNCT'}, {\"'\": 'PUNCT'}, {'not': 'PART'}, {\"'\": 'NUM'}, {',': 'PUNCT'}, {'\"': 'PUNCT'}, {',': 'PUNCT'}, {'\"': 'PUNCT'}, {\"'\": 'PROPN'}, {'3': 'NUM'}, {\"'\": 'NUM'}, {',': 'PUNCT'}, {'\"': 'PUNCT'}, {',': 'PUNCT'}, {'\"': 'PUNCT'}, {\"'\": 'PUNCT'}, {'.': 'PUNCT'}, {\"'\": 'PUNCT'}, {',': 'PUNCT'}, {'\"': 'PUNCT'}, {',': 'PUNCT'}, {'\"': 'PUNCT'}, {\"'\": 'PUNCT'}, {'0': 'X'}, {\"'\": 'PUNCT'}, {']': 'PUNCT'}, {'\"': 'PUNCT'}, {']': 'PUNCT'}, {'[': 'X'}, {'\"': 'PUNCT'}, {'[': 'X'}, {\"'\": 'PUNCT'}, {'List': 'NOUN'}, {\"'\": 'PUNCT'}, {',': 'PUNCT'}, {'\"': 'PUNCT'}, {',': 'PUNCT'}, {'\"': 'PUNCT'}, {\"'\": 'PUNCT'}, {'all': 'PRON'}, {\"'\": 'PROPN'}, {',': 'PUNCT'}, {'\"': 'PUNCT'}, {',': 'PUNCT'}, {'\"': 'PUNCT'}, {\"'\": 'PUNCT'}, {'where': 'SCONJ'}, {\"'\": 'NUM'}, {',': 'PUNCT'}, {'\"': 'PUNCT'}, {',': 'PUNCT'}, {'\"': 'PUNCT'}, {\"'\": 'PUNCT'}, {'the': 'DET'}, {\"'\": 'PUNCT'}, {',': 'PUNCT'}, {'\"': 'PUNCT'}, {',': 'PUNCT'}, {'\"': 'PUNCT'}, {\"'\": 'PUNCT'}, {'Species': 'NOUN'}, {\"'\": 'PUNCT'}, {',': 'PUNCT'}, {'\"': 'PUNCT'}, {',': 'PUNCT'}, {'\"': 'PUNCT'}, {\"'\": 'PUNCT'}, {'name': 'NOUN'}, {\"'\": 'PUNCT'}, {',': 'PUNCT'}, {'\"': 'PUNCT'}, {',': 'PUNCT'}, {'\"': 'PUNCT'}, {\"'\": 'PUNCT'}, {'ends': 'VERB'}, {\"'\": 'PUNCT'}, {',': 'PUNCT'}, {'\"': 'PUNCT'}, {',': 'PUNCT'}, {'\"': 'PUNCT'}, {\"'\": 'PUNCT'}, {'with': 'ADP'}, {\"'\": 'PROPN'}, {',': 'PUNCT'}, {'\"': 'PUNCT'}, {',': 'PUNCT'}, {\"'\": 'PUNCT'}, {'\"': 'PUNCT'}, {'\\\\': 'PROPN'}, {\"'\": 'PUNCT'}, {'\"': 'PUNCT'}, {',': 'PUNCT'}, {\"'\": 'PUNCT'}, {',': 'PUNCT'}, {'\"': 'PUNCT'}, {\"'\": 'PUNCT'}, {'ica': 'VERB'}, {\"'\": 'PUNCT'}, {',': 'PUNCT'}, {'\"': 'PUNCT'}, {',': 'PUNCT'}, {\"'\": 'PUNCT'}, {'\"': 'PUNCT'}, {'\\\\': 'PROPN'}, {\"'\": 'PUNCT'}, {'\"': 'PUNCT'}, {']': 'PUNCT'}, {\"'\": 'X'}, {']': 'PUNCT'}, {'[': 'X'}, {'\"': 'PUNCT'}, {'[': 'X'}, {\"'\": 'X'}, {'Entries': 'NOUN'}, {\"'\": 'PUNCT'}, {',': 'PUNCT'}, {'\"': 'PUNCT'}, {',': 'PUNCT'}, {'\"': 'PUNCT'}, {\"'\": 'PUNCT'}, {'with': 'ADP'}, {\"'\": 'PROPN'}, {',': 'PUNCT'}, {'\"': 'PUNCT'}, {',': 'PUNCT'}, {'\"': 'PUNCT'}, {\"'\": 'PUNCT'}, {'a': 'PRON'}, {\"'\": 'PUNCT'}, {',': 'PUNCT'}, {'\"': 'PUNCT'}, {',': 'PUNCT'}, {'\"': 'PUNCT'}, {\"'\": 'PUNCT'}, {'Sepal': 'NOUN'}, {\"'\": 'PUNCT'}, {',': 'PUNCT'}, {'\"': 'PUNCT'}, {',': 'PUNCT'}, {'\"': 'PUNCT'}, {\"'\": 'PUNCT'}, {'Length': 'PROPN'}, {\"'\": 'PUNCT'}, {',': 'PUNCT'}, {'\"': 'PUNCT'}, {',': 'PUNCT'}, {'\"': 'PUNCT'}, {\"'\": 'PUNCT'}, {'of': 'ADP'}, {\"'\": 'NUM'}, {',': 'PUNCT'}, {'\"': 'PUNCT'}, {',': 'PUNCT'}, {'\"': 'PUNCT'}, {\"'\": 'PUNCT'}, {'exactly': 'ADV'}, {\"'\": 'NUM'}, {',': 'PUNCT'}, {'\"': 'PUNCT'}, {',': 'PUNCT'}, {'\"': 'PUNCT'}, {\"'\": 'PROPN'}, {'5': 'NUM'}, {\"'\": 'NUM'}, {',': 'PUNCT'}, {'\"': 'PUNCT'}, {',': 'PUNCT'}, {'\"': 'PUNCT'}, {\"'\": 'PUNCT'}, {'.': 'PUNCT'}, {\"'\": 'PUNCT'}, {',': 'PUNCT'}, {'\"': 'PUNCT'}, {',': 'PUNCT'}, {'\"': 'PUNCT'}, {\"'\": 'PUNCT'}, {'0': 'X'}, {\"'\": 'PUNCT'}, {']': 'PUNCT'}, {'\"': 'PUNCT'}, {']': 'PUNCT'}, {'[': 'X'}, {'\"': 'PUNCT'}, {'[': 'X'}, {\"'\": 'PUNCT'}, {'Display': 'NOUN'}, {\"'\": 'PUNCT'}, {',': 'PUNCT'}, {'\"': 'PUNCT'}, {',': 'PUNCT'}, {'\"': 'PUNCT'}, {\"'\": 'PUNCT'}, {'the': 'DET'}, {\"'\": 'PUNCT'}, {',': 'PUNCT'}, {'\"': 'PUNCT'}, {',': 'PUNCT'}, {'\"': 'PUNCT'}, {\"'\": 'PUNCT'}, {'top': 'VERB'}, {\"'\": 'PUNCT'}, {',': 'PUNCT'}, {'\"': 'PUNCT'}, {',': 'PUNCT'}, {'\"': 'PUNCT'}, {\"'\": 'PROPN'}, {'5': 'NUM'}, {\"'\": 'NUM'}, {',': 'PUNCT'}, {'\"': 'PUNCT'}, {',': 'PUNCT'}, {'\"': 'PUNCT'}, {\"'\": 'PUNCT'}, {'Species': 'NOUN'}, {\"'\": 'PUNCT'}, {',': 'PUNCT'}, {'\"': 'PUNCT'}, {',': 'PUNCT'}, {'\"': 'PUNCT'}, {\"'\": 'PUNCT'}, {'by': 'ADP'}, {\"'\": 'NUM'}, {',': 'PUNCT'}, {'\"': 'PUNCT'}, {',': 'PUNCT'}, {'\"': 'PUNCT'}, {\"'\": 'PUNCT'}, {'Sepal': 'NOUN'}, {\"'\": 'PUNCT'}, {',': 'PUNCT'}, {'\"': 'PUNCT'}, {',': 'PUNCT'}, {'\"': 'PUNCT'}, {\"'\": 'PUNCT'}, {'Width': 'PROPN'}, {\"'\": 'PUNCT'}, {']': 'PUNCT'}, {'\"': 'PUNCT'}, {']': 'PUNCT'}, {'[': 'X'}, {'\"': 'PUNCT'}, {'[': 'X'}, {\"'\": 'VERB'}, {'Find': 'VERB'}, {\"'\": 'PUNCT'}, {',': 'PUNCT'}, {'\"': 'PUNCT'}, {',': 'PUNCT'}, {'\"': 'PUNCT'}, {\"'\": 'PUNCT'}, {'the': 'DET'}, {\"'\": 'PUNCT'}, {',': 'PUNCT'}, {'\"': 'PUNCT'}, {',': 'PUNCT'}, {'\"': 'PUNCT'}, {\"'\": 'PROPN'}, {'3': 'NUM'}, {\"'\": 'NUM'}, {',': 'PUNCT'}, {'\"': 'PUNCT'}, {',': 'PUNCT'}, {'\"': 'PUNCT'}, {\"'\": 'PUNCT'}, {'smallest': 'ADJ'}, {\"'\": 'PUNCT'}, {',': 'PUNCT'}, {'\"': 'PUNCT'}, {',': 'PUNCT'}, {'\"': 'PUNCT'}, {\"'\": 'PUNCT'}, {'Petal': 'ADJ'}, {\"'\": 'PUNCT'}, {',': 'PUNCT'}, {'\"': 'PUNCT'}, {',': 'PUNCT'}, {'\"': 'PUNCT'}, {\"'\": 'PUNCT'}, {'Lengths': 'NOUN'}, {\"'\": 'NUM'}, {']': 'PUNCT'}, {'\"': 'PUNCT'}, {']': 'PUNCT'}, {'[': 'X'}, {'\"': 'PUNCT'}, {'[': 'X'}, {\"'\": 'X'}, {'Count': 'PROPN'}, {\"'\": 'PUNCT'}, {',': 'PUNCT'}, {'\"': 'PUNCT'}, {',': 'PUNCT'}, {'\"': 'PUNCT'}, {\"'\": 'PUNCT'}, {'occurrences': 'NOUN'}, {\"'\": 'PUNCT'}, {',': 'PUNCT'}, {'\"': 'PUNCT'}, {',': 'PUNCT'}, {'\"': 'PUNCT'}, {\"'\": 'PUNCT'}, {'where': 'SCONJ'}, {\"'\": 'NUM'}, {',': 'PUNCT'}, {'\"': 'PUNCT'}, {',': 'PUNCT'}, {'\"': 'PUNCT'}, {\"'\": 'PUNCT'}, {'Petal': 'ADJ'}, {\"'\": 'PUNCT'}, {',': 'PUNCT'}, {'\"': 'PUNCT'}, {',': 'PUNCT'}, {'\"': 'PUNCT'}, {\"'\": 'PUNCT'}, {'Length': 'PROPN'}, {\"'\": 'PUNCT'}, {',': 'PUNCT'}, {'\"': 'PUNCT'}, {',': 'PUNCT'}, {'\"': 'PUNCT'}, {\"'\": 'PUNCT'}, {'is': 'AUX'}, {\"'\": 'PUNCT'}, {',': 'PUNCT'}, {'\"': 'PUNCT'}, {',': 'PUNCT'}, {'\"': 'PUNCT'}, {\"'\": 'PUNCT'}, {'between': 'ADP'}, {\"'\": 'PUNCT'}, {',': 'PUNCT'}, {'\"': 'PUNCT'}, {',': 'PUNCT'}, {'\"': 'PUNCT'}, {\"'\": 'PROPN'}, {'4': 'NUM'}, {\"'\": 'NUM'}, {',': 'PUNCT'}, {'\"': 'PUNCT'}, {',': 'PUNCT'}, {'\"': 'PUNCT'}, {\"'\": 'PUNCT'}, {'and': 'CCONJ'}, {\"'\": 'NUM'}, {',': 'PUNCT'}, {'\"': 'PUNCT'}, {',': 'PUNCT'}, {'\"': 'PUNCT'}, {\"'\": 'PROPN'}, {'5': 'NUM'}, {\"'\": 'NUM'}, {']': 'PUNCT'}, {'\"': 'PUNCT'}, {']': 'PUNCT'}, {'[': 'X'}, {'\"': 'PUNCT'}, {'[': 'X'}, {\"'\": 'PUNCT'}, {'Aggregate': 'VERB'}, {\"'\": 'PUNCT'}, {',': 'PUNCT'}, {'\"': 'PUNCT'}, {',': 'PUNCT'}, {'\"': 'PUNCT'}, {\"'\": 'PUNCT'}, {'data': 'NOUN'}, {\"'\": 'PUNCT'}, {',': 'PUNCT'}, {'\"': 'PUNCT'}, {',': 'PUNCT'}, {'\"': 'PUNCT'}, {\"'\": 'PUNCT'}, {'by': 'ADP'}, {\"'\": 'NUM'}, {',': 'PUNCT'}, {'\"': 'PUNCT'}, {',': 'PUNCT'}, {'\"': 'PUNCT'}, {\"'\": 'PUNCT'}, {'the': 'DET'}, {\"'\": 'PUNCT'}, {',': 'PUNCT'}, {'\"': 'PUNCT'}, {',': 'PUNCT'}, {'\"': 'PUNCT'}, {\"'\": 'PUNCT'}, {'month': 'NOUN'}, {\"'\": 'PUNCT'}, {',': 'PUNCT'}, {'\"': 'PUNCT'}, {',': 'PUNCT'}, {'\"': 'PUNCT'}, {\"'\": 'PUNCT'}, {'of': 'ADP'}, {\"'\": 'NUM'}, {',': 'PUNCT'}, {'\"': 'PUNCT'}, {',': 'PUNCT'}, {'\"': 'PUNCT'}, {\"'\": 'PUNCT'}, {'observation': 'NOUN'}, {\"'\": 'PUNCT'}, {',': 'PUNCT'}, {'\"': 'PUNCT'}, {',': 'PUNCT'}, {'\"': 'PUNCT'}, {\"'\": 'PUNCT'}, {'(': 'PUNCT'}, {\"'\": 'PUNCT'}, {',': 'PUNCT'}, {'\"': 'PUNCT'}, {',': 'PUNCT'}, {'\"': 'PUNCT'}, {\"'\": 'PUNCT'}, {'assuming': 'VERB'}, {\"'\": 'PUNCT'}, {',': 'PUNCT'}, {'\"': 'PUNCT'}, {',': 'PUNCT'}, {'\"': 'PUNCT'}, {\"'\": 'PUNCT'}, {'there': 'PRON'}, {\"'\": 'NUM'}, {',': 'PUNCT'}, {'\"': 'PUNCT'}, {',': 'PUNCT'}, {\"'\": 'PUNCT'}, {'\"': 'PUNCT'}, {'\\\\': 'PROPN'}, {\"'\": 'PUNCT'}, {'\"': 'PUNCT'}, {',': 'PUNCT'}, {\"'\": 'PUNCT'}, {',': 'PUNCT'}, {'\"': 'PUNCT'}, {\"'s\": 'AUX'}, {\"'\": 'NUM'}, {',': 'PUNCT'}, {'\"': 'PUNCT'}, {',': 'PUNCT'}, {'\"': 'PUNCT'}, {\"'\": 'PUNCT'}, {'a': 'PRON'}, {\"'\": 'PUNCT'}, {',': 'PUNCT'}, {'\"': 'PUNCT'}, {',': 'PUNCT'}, {'\"': 'PUNCT'}, {\"'\": 'PUNCT'}, {'Date': 'VERB'}, {\"'\": 'PUNCT'}, {',': 'PUNCT'}, {'\"': 'PUNCT'}, {',': 'PUNCT'}, {'\"': 'PUNCT'}, {\"'\": 'PUNCT'}, {'field': 'NOUN'}, {\"'\": 'PUNCT'}, {',': 'PUNCT'}, {'\"': 'PUNCT'}, {',': 'PUNCT'}, {'\"': 'PUNCT'}, {\"'\": 'PUNCT'}, {')': 'PUNCT'}, {\"'\": 'PUNCT'}, {']': 'PUNCT'}, {'\"': 'PUNCT'}, {']': 'PUNCT'}, {'[': 'X'}, {'\"': 'PUNCT'}, {'[': 'X'}, {\"'\": 'X'}, {'Filter': 'PROPN'}, {\"'\": 'NUM'}, {',': 'PUNCT'}, {'\"': 'PUNCT'}, {',': 'PUNCT'}, {'\"': 'PUNCT'}, {\"'\": 'PUNCT'}, {'records': 'NOUN'}, {\"'\": 'PART'}, {',': 'PUNCT'}, {'\"': 'PUNCT'}, {',': 'PUNCT'}, {'\"': 'PUNCT'}, {\"'\": 'PUNCT'}, {'from': 'ADP'}, {\"'\": 'NUM'}, {',': 'PUNCT'}, {'\"': 'PUNCT'}, {',': 'PUNCT'}, {'\"': 'PUNCT'}, {\"'\": 'PUNCT'}, {'last': 'ADJ'}, {\"'\": 'PUNCT'}, {',': 'PUNCT'}, {'\"': 'PUNCT'}, {',': 'PUNCT'}, {'\"': 'PUNCT'}, {\"'\": 'PUNCT'}, {'year': 'NOUN'}, {\"'\": 'PUNCT'}, {',': 'PUNCT'}, {'\"': 'PUNCT'}, {',': 'PUNCT'}, {'\"': 'PUNCT'}, {\"'\": 'PUNCT'}, {'(': 'PUNCT'}, {\"'\": 'PUNCT'}, {',': 'PUNCT'}, {'\"': 'PUNCT'}, {',': 'PUNCT'}, {'\"': 'PUNCT'}, {\"'\": 'PUNCT'}, {'assuming': 'VERB'}, {\"'\": 'PUNCT'}, {',': 'PUNCT'}, {'\"': 'PUNCT'}, {',': 'PUNCT'}, {'\"': 'PUNCT'}, {\"'\": 'PUNCT'}, {'there': 'PRON'}, {\"'\": 'NUM'}, {',': 'PUNCT'}, {'\"': 'PUNCT'}, {',': 'PUNCT'}, {\"'\": 'PUNCT'}, {'\"': 'PUNCT'}, {'\\\\': 'PROPN'}, {\"'\": 'PUNCT'}, {'\"': 'PUNCT'}, {',': 'PUNCT'}, {\"'\": 'PUNCT'}, {',': 'PUNCT'}, {'\"': 'PUNCT'}, {\"'s\": 'AUX'}, {\"'\": 'NUM'}, {',': 'PUNCT'}, {'\"': 'PUNCT'}, {',': 'PUNCT'}, {'\"': 'PUNCT'}, {\"'\": 'PUNCT'}, {'a': 'PRON'}, {\"'\": 'PUNCT'}, {',': 'PUNCT'}, {'\"': 'PUNCT'}, {',': 'PUNCT'}, {'\"': 'PUNCT'}, {\"'\": 'PUNCT'}, {'Date': 'VERB'}, {\"'\": 'PUNCT'}, {',': 'PUNCT'}, {'\"': 'PUNCT'}, {',': 'PUNCT'}, {'\"': 'PUNCT'}, {\"'\": 'PUNCT'}, {'field': 'NOUN'}, {\"'\": 'PUNCT'}, {',': 'PUNCT'}, {'\"': 'PUNCT'}, {',': 'PUNCT'}, {'\"': 'PUNCT'}, {\"'\": 'PUNCT'}, {')': 'PUNCT'}, {\"'\": 'PUNCT'}, {']': 'PUNCT'}, {'\"': 'PUNCT'}, {']': 'PUNCT'}, {'[': 'X'}, {'\"': 'PUNCT'}, {'[': 'X'}, {\"'\": 'PUNCT'}, {'Show': 'VERB'}, {\"'\": 'PUNCT'}, {',': 'PUNCT'}, {'\"': 'PUNCT'}, {',': 'PUNCT'}, {'\"': 'PUNCT'}, {\"'\": 'PUNCT'}, {'only': 'ADV'}, {\"'\": 'NUM'}, {',': 'PUNCT'}, {'\"': 'PUNCT'}, {',': 'PUNCT'}, {'\"': 'PUNCT'}, {\"'\": 'PUNCT'}, {'the': 'PRON'}, {\"'\": 'PUNCT'}, {',': 'PUNCT'}, {'\"': 'PUNCT'}, {',': 'PUNCT'}, {'\"': 'PUNCT'}, {\"'\": 'PUNCT'}, {'data': 'NOUN'}, {\"'\": 'PUNCT'}, {',': 'PUNCT'}, {'\"': 'PUNCT'}, {',': 'PUNCT'}, {'\"': 'PUNCT'}, {\"'\": 'PUNCT'}, {'starting': 'VERB'}, {\"'\": 'PUNCT'}, {',': 'PUNCT'}, {'\"': 'PUNCT'}, {',': 'PUNCT'}, {'\"': 'PUNCT'}, {\"'\": 'PUNCT'}, {'from': 'ADP'}, {\"'\": 'NUM'}, {',': 'PUNCT'}, {'\"': 'PUNCT'}, {',': 'PUNCT'}, {'\"': 'PUNCT'}, {\"'\": 'PUNCT'}, {'January': 'PROPN'}, {\"'\": 'NUM'}, {',': 'PUNCT'}, {'\"': 'PUNCT'}, {',': 'PUNCT'}, {'\"': 'PUNCT'}, {\"'\": 'PUNCT'}, {'this': 'PRON'}, {\"'\": 'PUNCT'}, {',': 'PUNCT'}, {'\"': 'PUNCT'}, {',': 'PUNCT'}, {'\"': 'PUNCT'}, {\"'\": 'PUNCT'}, {'year': 'NOUN'}, {\"'\": 'PUNCT'}, {']': 'PUNCT'}, {'\"': 'PUNCT'}, {']': 'PUNCT'}, {'[': 'X'}, {'\"': 'PUNCT'}, {'[': 'X'}, {\"'\": 'VERB'}, {'Find': 'VERB'}, {\"'\": 'PUNCT'}, {',': 'PUNCT'}, {'\"': 'PUNCT'}, {',': 'PUNCT'}, {'\"': 'PUNCT'}, {\"'\": 'PUNCT'}, {'the': 'DET'}, {\"'\": 'PUNCT'}, {',': 'PUNCT'}, {'\"': 'PUNCT'}, {',': 'PUNCT'}, {'\"': 'PUNCT'}, {\"'\": 'PUNCT'}, {'average': 'ADJ'}, {\"'\": 'PUNCT'}, {',': 'PUNCT'}, {'\"': 'PUNCT'}, {',': 'PUNCT'}, {'\"': 'PUNCT'}, {\"'\": 'PUNCT'}, {'Sepal': 'NOUN'}, {\"'\": 'PUNCT'}, {',': 'PUNCT'}, {'\"': 'PUNCT'}, {',': 'PUNCT'}, {'\"': 'PUNCT'}, {\"'\": 'PUNCT'}, {'Length': 'PROPN'}, {\"'\": 'PUNCT'}, {',': 'PUNCT'}, {'\"': 'PUNCT'}, {',': 'PUNCT'}, {'\"': 'PUNCT'}, {\"'\": 'PUNCT'}, {'for': 'ADP'}, {\"'\": 'NUM'}, {',': 'PUNCT'}, {'\"': 'PUNCT'}, {',': 'PUNCT'}, {'\"': 'PUNCT'}, {\"'\": 'PUNCT'}, {'each': 'PRON'}, {\"'\": 'PUNCT'}, {',': 'PUNCT'}, {'\"': 'PUNCT'}, {',': 'PUNCT'}, {'\"': 'PUNCT'}, {\"'\": 'PUNCT'}, {'Species': 'NOUN'}, {\"'\": 'PUNCT'}, {',': 'PUNCT'}, {'\"': 'PUNCT'}, {',': 'PUNCT'}, {'\"': 'PUNCT'}, {\"'\": 'PUNCT'}, {',': 'PUNCT'}, {\"'\": 'PUNCT'}, {',': 'PUNCT'}, {'\"': 'PUNCT'}, {',': 'PUNCT'}, {'\"': 'PUNCT'}, {\"'\": 'PUNCT'}, {'sorted': 'VERB'}, {\"'\": 'PUNCT'}, {',': 'PUNCT'}, {'\"': 'PUNCT'}, {',': 'PUNCT'}, {'\"': 'PUNCT'}, {\"'\": 'PUNCT'}, {'alphabetically': 'ADV'}, {\"'\": 'VERB'}, {']': 'X'}, {'\"': 'PUNCT'}, {']': 'PUNCT'}, {'[': 'X'}, {'\"': 'PUNCT'}, {'[': 'X'}, {\"'\": 'X'}, {'Count': 'PROPN'}, {\"'\": 'PUNCT'}, {',': 'PUNCT'}, {'\"': 'PUNCT'}, {',': 'PUNCT'}, {'\"': 'PUNCT'}, {\"'\": 'PUNCT'}, {'how': 'SCONJ'}, {\"'\": 'PROPN'}, {',': 'PUNCT'}, {'\"': 'PUNCT'}, {',': 'PUNCT'}, {'\"': 'PUNCT'}, {\"'\": 'PUNCT'}, {'many': 'ADJ'}, {\"'\": 'PUNCT'}, {',': 'PUNCT'}, {'\"': 'PUNCT'}, {',': 'PUNCT'}, {'\"': 'PUNCT'}, {\"'\": 'PUNCT'}, {'Species': 'NOUN'}, {\"'\": 'PUNCT'}, {',': 'PUNCT'}, {'\"': 'PUNCT'}, {',': 'PUNCT'}, {'\"': 'PUNCT'}, {\"'\": 'PUNCT'}, {'start': 'VERB'}, {\"'\": 'PUNCT'}, {',': 'PUNCT'}, {'\"': 'PUNCT'}, {',': 'PUNCT'}, {'\"': 'PUNCT'}, {\"'\": 'PUNCT'}, {'with': 'ADP'}, {\"'\": 'PROPN'}, {',': 'PUNCT'}, {'\"': 'PUNCT'}, {',': 'PUNCT'}, {\"'\": 'PUNCT'}, {'\"': 'PUNCT'}, {'\\\\': 'PROPN'}, {\"'\": 'PUNCT'}, {'\"': 'PUNCT'}, {',': 'PUNCT'}, {\"'\": 'PUNCT'}, {',': 'PUNCT'}, {'\"': 'PUNCT'}, {\"'\": 'PUNCT'}, {'C': 'NOUN'}, {\"'\": 'NUM'}, {',': 'PUNCT'}, {'\"': 'PUNCT'}, {',': 'PUNCT'}, {\"'\": 'PUNCT'}, {'\"': 'PUNCT'}, {'\\\\': 'PROPN'}, {\"'\": 'PUNCT'}, {'\"': 'PUNCT'}, {']': 'PUNCT'}, {\"'\": 'X'}, {']': 'PUNCT'}, {'[': 'X'}, {'\"': 'PUNCT'}, {'[': 'X'}, {\"'\": 'X'}, {'Entries': 'NOUN'}, {\"'\": 'PUNCT'}, {',': 'PUNCT'}, {'\"': 'PUNCT'}, {',': 'PUNCT'}, {'\"': 'PUNCT'}, {\"'\": 'PUNCT'}, {'with': 'ADP'}, {\"'\": 'PROPN'}, {',': 'PUNCT'}, {'\"': 'PUNCT'}, {',': 'PUNCT'}, {'\"': 'PUNCT'}, {\"'\": 'PUNCT'}, {'Petal': 'ADJ'}, {\"'\": 'PUNCT'}, {',': 'PUNCT'}, {'\"': 'PUNCT'}, {',': 'PUNCT'}, {'\"': 'PUNCT'}, {\"'\": 'PUNCT'}, {'Length': 'PROPN'}, {\"'\": 'PUNCT'}, {',': 'PUNCT'}, {'\"': 'PUNCT'}, {',': 'PUNCT'}, {'\"': 'PUNCT'}, {\"'\": 'PUNCT'}, {'and': 'CCONJ'}, {\"'\": 'NUM'}, {',': 'PUNCT'}, {'\"': 'PUNCT'}, {',': 'PUNCT'}, {'\"': 'PUNCT'}, {\"'\": 'PUNCT'}, {'Sepal': 'NOUN'}, {\"'\": 'PUNCT'}, {',': 'PUNCT'}, {'\"': 'PUNCT'}, {',': 'PUNCT'}, {'\"': 'PUNCT'}, {\"'\": 'PUNCT'}, {'Length': 'PROPN'}, {\"'\": 'PUNCT'}, {',': 'PUNCT'}, {'\"': 'PUNCT'}, {',': 'PUNCT'}, {'\"': 'PUNCT'}, {\"'\": 'PUNCT'}, {'both': 'PRON'}, {\"'\": 'PROPN'}, {',': 'PUNCT'}, {'\"': 'PUNCT'}, {',': 'PUNCT'}, {'\"': 'PUNCT'}, {\"'\": 'PUNCT'}, {'above': 'ADP'}, {\"'\": 'PUNCT'}, {',': 'PUNCT'}, {'\"': 'PUNCT'}, {',': 'PUNCT'}, {'\"': 'PUNCT'}, {\"'\": 'PROPN'}, {'4': 'NUM'}, {\"'\": 'NUM'}, {',': 'PUNCT'}, {'\"': 'PUNCT'}, {',': 'PUNCT'}, {'\"': 'PUNCT'}, {\"'\": 'PUNCT'}, {'.': 'PUNCT'}, {\"'\": 'PUNCT'}, {',': 'PUNCT'}, {'\"': 'PUNCT'}, {',': 'PUNCT'}, {'\"': 'PUNCT'}, {\"'\": 'PUNCT'}, {'0': 'X'}, {\"'\": 'PUNCT'}, {']': 'PUNCT'}, {'\"': 'PUNCT'}, {']': 'PUNCT'}, {'[': 'X'}, {'\"': 'PUNCT'}, {'[': 'X'}, {\"'\": 'PUNCT'}, {'List': 'NOUN'}, {\"'\": 'PUNCT'}, {',': 'PUNCT'}, {'\"': 'PUNCT'}, {',': 'PUNCT'}, {'\"': 'PUNCT'}, {\"'\": 'PUNCT'}, {'Species': 'NOUN'}, {\"'\": 'PUNCT'}, {',': 'PUNCT'}, {'\"': 'PUNCT'}, {',': 'PUNCT'}, {'\"': 'PUNCT'}, {\"'\": 'PUNCT'}, {'with': 'ADP'}, {\"'\": 'PROPN'}, {',': 'PUNCT'}, {'\"': 'PUNCT'}, {',': 'PUNCT'}, {'\"': 'PUNCT'}, {\"'\": 'PUNCT'}, {'Petal': 'ADJ'}, {\"'\": 'PUNCT'}, {',': 'PUNCT'}, {'\"': 'PUNCT'}, {',': 'PUNCT'}, {'\"': 'PUNCT'}, {\"'\": 'PUNCT'}, {'Width': 'PROPN'}, {\"'\": 'PUNCT'}, {',': 'PUNCT'}, {'\"': 'PUNCT'}, {',': 'PUNCT'}, {'\"': 'PUNCT'}, {\"'\": 'PUNCT'}, {'in': 'ADP'}, {\"'\": 'NUM'}, {',': 'PUNCT'}, {'\"': 'PUNCT'}, {',': 'PUNCT'}, {'\"': 'PUNCT'}, {\"'\": 'PUNCT'}, {'the': 'DET'}, {\"'\": 'PUNCT'}, {',': 'PUNCT'}, {'\"': 'PUNCT'}, {',': 'PUNCT'}, {'\"': 'PUNCT'}, {\"'\": 'PUNCT'}, {'top': 'VERB'}, {\"'\": 'PUNCT'}, {',': 'PUNCT'}, {'\"': 'PUNCT'}, {',': 'PUNCT'}, {'\"': 'PUNCT'}, {\"'\": 'PROPN'}, {'10': 'NUM'}, {\"'\": 'NUM'}, {',': 'PUNCT'}, {'\"': 'PUNCT'}, {',': 'PUNCT'}, {'\"': 'PUNCT'}, {\"'\": 'PUNCT'}, {'%': 'INTJ'}, {\"'\": 'PUNCT'}, {']': 'X'}, {'\"': 'PUNCT'}, {']': 'PUNCT'}, {'[': 'X'}, {'\"': 'PUNCT'}, {'[': 'X'}, {\"'\": 'PROPN'}, {'Total': 'ADJ'}, {\"'\": 'PUNCT'}, {',': 'PUNCT'}, {'\"': 'PUNCT'}, {',': 'PUNCT'}, {'\"': 'PUNCT'}, {\"'\": 'PUNCT'}, {'Sepal': 'NOUN'}, {\"'\": 'PUNCT'}, {',': 'PUNCT'}, {'\"': 'PUNCT'}, {',': 'PUNCT'}, {'\"': 'PUNCT'}, {\"'\": 'PUNCT'}, {'Length': 'PROPN'}, {\"'\": 'PUNCT'}, {',': 'PUNCT'}, {'\"': 'PUNCT'}, {',': 'PUNCT'}, {'\"': 'PUNCT'}, {\"'\": 'PUNCT'}, {'for': 'ADP'}, {\"'\": 'NUM'}, {',': 'PUNCT'}, {'\"': 'PUNCT'}, {',': 'PUNCT'}, {'\"': 'PUNCT'}, {\"'\": 'PUNCT'}, {'all': 'PRON'}, {\"'\": 'PROPN'}, {',': 'PUNCT'}, {'\"': 'PUNCT'}, {',': 'PUNCT'}, {'\"': 'PUNCT'}, {\"'\": 'PUNCT'}, {'Iris': 'PROPN'}, {\"'\": 'NUM'}, {',': 'PUNCT'}, {'\"': 'PUNCT'}, {',': 'PUNCT'}, {'\"': 'PUNCT'}, {\"'\": 'PUNCT'}, {'flowers': 'NOUN'}, {\"'\": 'VERB'}, {']': 'PUNCT'}, {'\"': 'PUNCT'}, {']': 'PUNCT'}, {'[': 'X'}, {'\"': 'PUNCT'}, {'[': 'X'}, {\"'\": 'PUNCT'}, {'Average': 'ADJ'}, {\"'\": 'PUNCT'}, {',': 'PUNCT'}, {'\"': 'PUNCT'}, {',': 'PUNCT'}, {'\"': 'PUNCT'}, {\"'\": 'PUNCT'}, {'Petal': 'ADJ'}, {\"'\": 'PUNCT'}, {',': 'PUNCT'}, {'\"': 'PUNCT'}, {',': 'PUNCT'}, {'\"': 'PUNCT'}, {\"'\": 'PUNCT'}, {'Width': 'PROPN'}, {\"'\": 'PUNCT'}, {',': 'PUNCT'}, {'\"': 'PUNCT'}, {',': 'PUNCT'}, {'\"': 'PUNCT'}, {\"'\": 'PUNCT'}, {'across': 'ADP'}, {\"'\": 'PUNCT'}, {',': 'PUNCT'}, {'\"': 'PUNCT'}, {',': 'PUNCT'}, {'\"': 'PUNCT'}, {\"'\": 'PUNCT'}, {'all': 'PRON'}, {\"'\": 'PROPN'}, {',': 'PUNCT'}, {'\"': 'PUNCT'}, {',': 'PUNCT'}, {'\"': 'PUNCT'}, {\"'\": 'PUNCT'}, {'species': 'NOUN'}, {\"'\": 'PUNCT'}, {']': 'PUNCT'}, {'\"': 'PUNCT'}, {']': 'PUNCT'}, {'[': 'X'}, {'\"': 'PUNCT'}, {'[': 'X'}, {\"'\": 'PUNCT'}, {'Median': 'PROPN'}, {\"'\": 'PROPN'}, {',': 'PUNCT'}, {'\"': 'PUNCT'}, {',': 'PUNCT'}, {'\"': 'PUNCT'}, {\"'\": 'PUNCT'}, {'Sepal': 'NOUN'}, {\"'\": 'PUNCT'}, {',': 'PUNCT'}, {'\"': 'PUNCT'}, {',': 'PUNCT'}, {'\"': 'PUNCT'}, {\"'\": 'PUNCT'}, {'Width': 'PROPN'}, {\"'\": 'PUNCT'}, {',': 'PUNCT'}, {'\"': 'PUNCT'}, {',': 'PUNCT'}, {'\"': 'PUNCT'}, {\"'\": 'PUNCT'}, {'for': 'ADP'}, {\"'\": 'NUM'}, {',': 'PUNCT'}, {'\"': 'PUNCT'}, {',': 'PUNCT'}, {'\"': 'PUNCT'}, {\"'\": 'PUNCT'}, {'Iris': 'PROPN'}, {\"'\": 'NUM'}, {',': 'PUNCT'}, {'\"': 'PUNCT'}, {',': 'PUNCT'}, {'\"': 'PUNCT'}, {\"'\": 'PUNCT'}, {'setosa': 'VERB'}, {\"'\": 'PUNCT'}, {']': 'PUNCT'}, {'\"': 'PUNCT'}, {']': 'PUNCT'}, {'[': 'X'}, {'\"': 'PUNCT'}, {'[': 'X'}, {\"'\": 'X'}, {'Count': 'PROPN'}, {\"'\": 'PUNCT'}, {',': 'PUNCT'}, {'\"': 'PUNCT'}, {',': 'PUNCT'}, {'\"': 'PUNCT'}, {\"'\": 'PUNCT'}, {'of': 'ADP'}, {\"'\": 'NUM'}, {',': 'PUNCT'}, {'\"': 'PUNCT'}, {',': 'PUNCT'}, {'\"': 'PUNCT'}, {\"'\": 'PUNCT'}, {'Iris': 'PROPN'}, {\"'\": 'NUM'}, {',': 'PUNCT'}, {'\"': 'PUNCT'}, {',': 'PUNCT'}, {'\"': 'PUNCT'}, {\"'\": 'PUNCT'}, {'versicolor': 'NOUN'}, {\"'\": 'PUNCT'}, {',': 'PUNCT'}, {'\"': 'PUNCT'}, {',': 'PUNCT'}, {'\"': 'PUNCT'}, {\"'\": 'PUNCT'}, {'flowers': 'NOUN'}, {\"'\": 'VERB'}, {']': 'PUNCT'}, {'\"': 'PUNCT'}, {']': 'PUNCT'}, {'[': 'X'}, {'\"': 'PUNCT'}, {'[': 'X'}, {\"'\": 'X'}, {'Distinct': 'ADJ'}, {\"'\": 'PUNCT'}, {',': 'PUNCT'}, {'\"': 'PUNCT'}, {',': 'PUNCT'}, {'\"': 'PUNCT'}, {\"'\": 'PUNCT'}, {'count': 'VERB'}, {\"'\": 'PUNCT'}, {',': 'PUNCT'}, {'\"': 'PUNCT'}, {',': 'PUNCT'}, {'\"': 'PUNCT'}, {\"'\": 'PUNCT'}, {'of': 'ADP'}, {\"'\": 'NUM'}, {',': 'PUNCT'}, {'\"': 'PUNCT'}, {',': 'PUNCT'}, {'\"': 'PUNCT'}, {\"'\": 'PUNCT'}, {'species': 'NOUN'}, {\"'\": 'PUNCT'}, {',': 'PUNCT'}, {'\"': 'PUNCT'}, {',': 'PUNCT'}, {'\"': 'PUNCT'}, {\"'\": 'PUNCT'}, {'with': 'ADP'}, {\"'\": 'PROPN'}, {',': 'PUNCT'}, {'\"': 'PUNCT'}, {',': 'PUNCT'}, {'\"': 'PUNCT'}, {\"'\": 'PUNCT'}, {'Sepal': 'NOUN'}, {\"'\": 'PUNCT'}, {',': 'PUNCT'}, {'\"': 'PUNCT'}, {',': 'PUNCT'}, {'\"': 'PUNCT'}, {\"'\": 'PUNCT'}, {'Length': 'PROPN'}, {\"'\": 'PUNCT'}, {',': 'PUNCT'}, {'\"': 'PUNCT'}, {',': 'PUNCT'}, {'\"': 'PUNCT'}, {\"'\": 'PUNCT'}, {'over': 'ADP'}, {\"'\": 'PUNCT'}, {',': 'PUNCT'}, {'\"': 'PUNCT'}, {',': 'PUNCT'}, {'\"': 'PUNCT'}, {\"'\": 'PROPN'}, {'5': 'NUM'}, {\"'\": 'NUM'}, {',': 'PUNCT'}, {'\"': 'PUNCT'}, {',': 'PUNCT'}, {'\"': 'PUNCT'}, {\"'\": 'PUNCT'}, {'.': 'PUNCT'}, {\"'\": 'PUNCT'}, {',': 'PUNCT'}, {'\"': 'PUNCT'}, {',': 'PUNCT'}, {'\"': 'PUNCT'}, {\"'\": 'PUNCT'}, {'0': 'X'}, {\"'\": 'PUNCT'}, {']': 'PUNCT'}, {'\"': 'PUNCT'}, {']': 'PUNCT'}, {'[': 'X'}, {'\"': 'PUNCT'}, {'[': 'X'}, {\"'\": 'PUNCT'}, {'Minimum': 'ADJ'}, {\"'\": 'PUNCT'}, {',': 'PUNCT'}, {'\"': 'PUNCT'}, {',': 'PUNCT'}, {'\"': 'PUNCT'}, {\"'\": 'PUNCT'}, {'Petal': 'ADJ'}, {\"'\": 'PUNCT'}, {',': 'PUNCT'}, {'\"': 'PUNCT'}, {',': 'PUNCT'}, {'\"': 'PUNCT'}, {\"'\": 'PUNCT'}, {'Length': 'PROPN'}, {\"'\": 'PUNCT'}, {',': 'PUNCT'}, {'\"': 'PUNCT'}, {',': 'PUNCT'}, {'\"': 'PUNCT'}, {\"'\": 'PUNCT'}, {'for': 'ADP'}, {\"'\": 'NUM'}, {',': 'PUNCT'}, {'\"': 'PUNCT'}, {',': 'PUNCT'}, {'\"': 'PUNCT'}, {\"'\": 'PUNCT'}, {'Iris': 'PROPN'}, {\"'\": 'NUM'}, {',': 'PUNCT'}, {'\"': 'PUNCT'}, {',': 'PUNCT'}, {'\"': 'PUNCT'}, {\"'\": 'PUNCT'}, {'virginica': 'X'}, {\"'\": 'PUNCT'}, {']': 'PUNCT'}, {'\"': 'PUNCT'}, {']': 'PUNCT'}, {'[': 'X'}, {'\"': 'PUNCT'}, {'[': 'X'}, {\"'\": 'PUNCT'}, {'Maximum': 'ADJ'}, {\"'\": 'NUM'}, {',': 'PUNCT'}, {'\"': 'PUNCT'}, {',': 'PUNCT'}, {'\"': 'PUNCT'}, {\"'\": 'PUNCT'}, {'Sepal': 'NOUN'}, {\"'\": 'PUNCT'}, {',': 'PUNCT'}, {'\"': 'PUNCT'}, {',': 'PUNCT'}, {'\"': 'PUNCT'}, {\"'\": 'PUNCT'}, {'Width': 'PROPN'}, {\"'\": 'PUNCT'}, {',': 'PUNCT'}, {'\"': 'PUNCT'}, {',': 'PUNCT'}, {'\"': 'PUNCT'}, {\"'\": 'PUNCT'}, {'across': 'ADP'}, {\"'\": 'PUNCT'}, {',': 'PUNCT'}, {'\"': 'PUNCT'}, {',': 'PUNCT'}, {'\"': 'PUNCT'}, {\"'\": 'PUNCT'}, {'Iris': 'PROPN'}, {\"'\": 'NUM'}, {',': 'PUNCT'}, {'\"': 'PUNCT'}, {',': 'PUNCT'}, {'\"': 'PUNCT'}, {\"'\": 'PUNCT'}, {'setosa': 'VERB'}, {\"'\": 'PUNCT'}, {']': 'PUNCT'}, {'\"': 'PUNCT'}, {']': 'PUNCT'}, {'[': 'X'}, {'\"': 'PUNCT'}, {'[': 'X'}, {\"'\": 'PROPN'}, {'Total': 'ADJ'}, {\"'\": 'PUNCT'}, {',': 'PUNCT'}, {'\"': 'PUNCT'}, {',': 'PUNCT'}, {'\"': 'PUNCT'}, {\"'\": 'PUNCT'}, {'number': 'NOUN'}, {\"'\": 'PUNCT'}, {',': 'PUNCT'}, {'\"': 'PUNCT'}, {',': 'PUNCT'}, {'\"': 'PUNCT'}, {\"'\": 'PUNCT'}, {'of': 'ADP'}, {\"'\": 'NUM'}, {',': 'PUNCT'}, {'\"': 'PUNCT'}, {',': 'PUNCT'}, {'\"': 'PUNCT'}, {\"'\": 'PUNCT'}, {'records': 'NOUN'}, {\"'\": 'PART'}, {',': 'PUNCT'}, {'\"': 'PUNCT'}, {',': 'PUNCT'}, {'\"': 'PUNCT'}, {\"'\": 'PUNCT'}, {'grouped': 'VERB'}, {\"'\": 'PUNCT'}, {',': 'PUNCT'}, {'\"': 'PUNCT'}, {',': 'PUNCT'}, {'\"': 'PUNCT'}, {\"'\": 'PUNCT'}, {'by': 'ADP'}, {\"'\": 'NUM'}, {',': 'PUNCT'}, {'\"': 'PUNCT'}, {',': 'PUNCT'}, {'\"': 'PUNCT'}, {\"'\": 'PUNCT'}, {'Species': 'PROPN'}, {\"'\": 'PUNCT'}, {']': 'PUNCT'}, {'\"': 'PUNCT'}, {']': 'PUNCT'}, {'[': 'X'}, {'\"': 'PUNCT'}, {'[': 'X'}, {\"'\": 'X'}, {'Filter': 'PROPN'}, {\"'\": 'NUM'}, {',': 'PUNCT'}, {'\"': 'PUNCT'}, {',': 'PUNCT'}, {'\"': 'PUNCT'}, {\"'\": 'PUNCT'}, {'to': 'PART'}, {\"'\": 'NUM'}, {',': 'PUNCT'}, {'\"': 'PUNCT'}, {',': 'PUNCT'}, {'\"': 'PUNCT'}, {\"'\": 'PUNCT'}, {'show': 'VERB'}, {\"'\": 'PUNCT'}, {',': 'PUNCT'}, {'\"': 'PUNCT'}, {',': 'PUNCT'}, {'\"': 'PUNCT'}, {\"'\": 'PUNCT'}, {'only': 'ADV'}, {\"'\": 'NUM'}, {',': 'PUNCT'}, {'\"': 'PUNCT'}, {',': 'PUNCT'}, {'\"': 'PUNCT'}, {\"'\": 'PUNCT'}, {'Iris': 'PROPN'}, {\"'\": 'NUM'}, {',': 'PUNCT'}, {'\"': 'PUNCT'}, {',': 'PUNCT'}, {'\"': 'PUNCT'}, {\"'\": 'PUNCT'}, {'versicolor': 'NOUN'}, {\"'\": 'PUNCT'}, {',': 'PUNCT'}, {'\"': 'PUNCT'}, {',': 'PUNCT'}, {'\"': 'PUNCT'}, {\"'\": 'PUNCT'}, {'with': 'ADP'}, {\"'\": 'PROPN'}, {',': 'PUNCT'}, {'\"': 'PUNCT'}, {',': 'PUNCT'}, {'\"': 'PUNCT'}, {\"'\": 'PUNCT'}, {'Sepal': 'NOUN'}, {\"'\": 'PUNCT'}, {',': 'PUNCT'}, {'\"': 'PUNCT'}, {',': 'PUNCT'}, {'\"': 'PUNCT'}, {\"'\": 'PUNCT'}, {'Width': 'PROPN'}, {\"'\": 'PUNCT'}, {',': 'PUNCT'}, {'\"': 'PUNCT'}, {',': 'PUNCT'}, {'\"': 'PUNCT'}, {\"'\": 'PUNCT'}, {'at': 'ADP'}, {\"'\": 'NUM'}, {',': 'PUNCT'}, {'\"': 'PUNCT'}, {',': 'PUNCT'}, {'\"': 'PUNCT'}, {\"'\": 'PUNCT'}, {'least': 'ADJ'}, {\"'\": 'PUNCT'}, {',': 'PUNCT'}, {'\"': 'PUNCT'}, {',': 'PUNCT'}, {'\"': 'PUNCT'}, {\"'\": 'PROPN'}, {'3': 'NUM'}, {\"'\": 'NUM'}, {',': 'PUNCT'}, {'\"': 'PUNCT'}, {',': 'PUNCT'}, {'\"': 'PUNCT'}, {\"'\": 'PUNCT'}, {'.': 'PUNCT'}, {\"'\": 'PUNCT'}, {',': 'PUNCT'}, {'\"': 'PUNCT'}, {',': 'PUNCT'}, {'\"': 'PUNCT'}, {\"'\": 'PUNCT'}, {'0': 'X'}, {\"'\": 'PUNCT'}, {']': 'PUNCT'}, {'\"': 'PUNCT'}, {']': 'PUNCT'}, {'[': 'X'}, {'\"': 'PUNCT'}, {'[': 'X'}, {\"'\": 'PUNCT'}, {'Show': 'VERB'}, {\"'\": 'PUNCT'}, {',': 'PUNCT'}, {'\"': 'PUNCT'}, {',': 'PUNCT'}, {'\"': 'PUNCT'}, {\"'\": 'PUNCT'}, {'top': 'VERB'}, {\"'\": 'PUNCT'}, {',': 'PUNCT'}, {'\"': 'PUNCT'}, {',': 'PUNCT'}, {'\"': 'PUNCT'}, {\"'\": 'PROPN'}, {'5': 'NUM'}, {\"'\": 'NUM'}, {',': 'PUNCT'}, {'\"': 'PUNCT'}, {',': 'PUNCT'}, {'\"': 'PUNCT'}, {\"'\": 'PUNCT'}, {'Sepal': 'NOUN'}, {\"'\": 'PUNCT'}, {',': 'PUNCT'}, {'\"': 'PUNCT'}, {',': 'PUNCT'}, {'\"': 'PUNCT'}, {\"'\": 'PUNCT'}, {'Lengths': 'NOUN'}, {\"'\": 'NUM'}, {',': 'PUNCT'}, {'\"': 'PUNCT'}, {',': 'PUNCT'}, {'\"': 'PUNCT'}, {\"'\": 'PUNCT'}, {'within': 'ADP'}, {\"'\": 'PUNCT'}, {',': 'PUNCT'}, {'\"': 'PUNCT'}, {',': 'PUNCT'}, {'\"': 'PUNCT'}, {\"'\": 'PUNCT'}, {'Iris': 'PROPN'}, {\"'\": 'NUM'}, {',': 'PUNCT'}, {'\"': 'PUNCT'}, {',': 'PUNCT'}, {'\"': 'PUNCT'}, {\"'\": 'PUNCT'}, {'virginica': 'X'}, {\"'\": 'PUNCT'}, {',': 'PUNCT'}, {'\"': 'PUNCT'}, {',': 'PUNCT'}, {'\"': 'PUNCT'}, {\"'\": 'PUNCT'}, {'only': 'ADV'}, {\"'\": 'PUNCT'}, {']': 'X'}, {'\"': 'PUNCT'}, {']': 'PUNCT'}, {'[': 'X'}, {'\"': 'PUNCT'}, {'[': 'X'}, {\"'\": 'X'}, {'Iris': 'PROPN'}, {\"'\": 'PROPN'}, {',': 'PUNCT'}, {'\"': 'PUNCT'}, {',': 'PUNCT'}, {'\"': 'PUNCT'}, {\"'\": 'PUNCT'}, {'flowers': 'NOUN'}, {\"'\": 'PART'}, {',': 'PUNCT'}, {'\"': 'PUNCT'}, {',': 'PUNCT'}, {'\"': 'PUNCT'}, {\"'\": 'PUNCT'}, {'with': 'ADP'}, {\"'\": 'PROPN'}, {',': 'PUNCT'}, {'\"': 'PUNCT'}, {',': 'PUNCT'}, {'\"': 'PUNCT'}, {\"'\": 'PUNCT'}, {'Petal': 'ADJ'}, {\"'\": 'PUNCT'}, {',': 'PUNCT'}, {'\"': 'PUNCT'}, {',': 'PUNCT'}, {'\"': 'PUNCT'}, {\"'\": 'PUNCT'}, {'Width': 'PROPN'}, {\"'\": 'PUNCT'}, {',': 'PUNCT'}, {'\"': 'PUNCT'}, {',': 'PUNCT'}, {'\"': 'PUNCT'}, {\"'\": 'PUNCT'}, {'in': 'ADP'}, {\"'\": 'NUM'}, {',': 'PUNCT'}, {'\"': 'PUNCT'}, {',': 'PUNCT'}, {'\"': 'PUNCT'}, {\"'\": 'PUNCT'}, {'the': 'PRON'}, {\"'\": 'PUNCT'}, {',': 'PUNCT'}, {'\"': 'PUNCT'}, {',': 'PUNCT'}, {'\"': 'PUNCT'}, {\"'\": 'PUNCT'}, {'bottom': 'ADJ'}, {\"'\": 'PUNCT'}, {',': 'PUNCT'}, {'\"': 'PUNCT'}, {',': 'PUNCT'}, {'\"': 'PUNCT'}, {\"'\": 'PUNCT'}, {'10th': 'X'}, {\"'\": 'PUNCT'}, {',': 'PUNCT'}, {'\"': 'PUNCT'}, {',': 'PUNCT'}, {'\"': 'PUNCT'}, {\"'\": 'PUNCT'}, {'percentile': 'VERB'}, {\"'\": 'PUNCT'}, {']': 'PUNCT'}, {'\"': 'PUNCT'}, {']': 'PUNCT'}, {'[': 'X'}, {'\"': 'PUNCT'}, {'[': 'X'}, {\"'\": 'PUNCT'}, {'Average': 'ADJ'}, {\"'\": 'PUNCT'}, {',': 'PUNCT'}, {'\"': 'PUNCT'}, {',': 'PUNCT'}, {'\"': 'PUNCT'}, {\"'\": 'PUNCT'}, {'Sepal': 'NOUN'}, {\"'\": 'PUNCT'}, {',': 'PUNCT'}, {'\"': 'PUNCT'}, {',': 'PUNCT'}, {'\"': 'PUNCT'}, {\"'\": 'PUNCT'}, {'Length': 'PROPN'}, {\"'\": 'PUNCT'}, {',': 'PUNCT'}, {'\"': 'PUNCT'}, {',': 'PUNCT'}, {'\"': 'PUNCT'}, {\"'\": 'PUNCT'}, {'for': 'ADP'}, {\"'\": 'NUM'}, {',': 'PUNCT'}, {'\"': 'PUNCT'}, {',': 'PUNCT'}, {'\"': 'PUNCT'}, {\"'\": 'PUNCT'}, {'each': 'PRON'}, {\"'\": 'PUNCT'}, {',': 'PUNCT'}, {'\"': 'PUNCT'}, {',': 'PUNCT'}, {'\"': 'PUNCT'}, {\"'\": 'PUNCT'}, {'species': 'NOUN'}, {\"'\": 'PUNCT'}, {']': 'PUNCT'}, {'\"': 'PUNCT'}, {']': 'PUNCT'}, {'[': 'X'}, {'\"': 'PUNCT'}, {'[': 'X'}, {\"'\": 'X'}, {'Entries': 'NOUN'}, {\"'\": 'PUNCT'}, {',': 'PUNCT'}, {'\"': 'PUNCT'}, {',': 'PUNCT'}, {'\"': 'PUNCT'}, {\"'\": 'PUNCT'}, {'with': 'ADP'}, {\"'\": 'PROPN'}, {',': 'PUNCT'}, {'\"': 'PUNCT'}, {',': 'PUNCT'}, {'\"': 'PUNCT'}, {\"'\": 'PUNCT'}, {'Petal': 'ADJ'}, {\"'\": 'PUNCT'}, {',': 'PUNCT'}, {'\"': 'PUNCT'}, {',': 'PUNCT'}, {'\"': 'PUNCT'}, {\"'\": 'PUNCT'}, {'Length': 'PROPN'}, {\"'\": 'PUNCT'}, {',': 'PUNCT'}, {'\"': 'PUNCT'}, {',': 'PUNCT'}, {'\"': 'PUNCT'}, {\"'\": 'PUNCT'}, {'between': 'ADP'}, {\"'\": 'PUNCT'}, {',': 'PUNCT'}, {'\"': 'PUNCT'}, {',': 'PUNCT'}, {'\"': 'PUNCT'}, {\"'\": 'PROPN'}, {'4': 'NUM'}, {\"'\": 'NUM'}, {',': 'PUNCT'}, {'\"': 'PUNCT'}, {',': 'PUNCT'}, {'\"': 'PUNCT'}, {\"'\": 'PUNCT'}, {'.': 'PUNCT'}, {\"'\": 'PUNCT'}, {',': 'PUNCT'}, {'\"': 'PUNCT'}, {',': 'PUNCT'}, {'\"': 'PUNCT'}, {\"'\": 'PUNCT'}, {'0': 'X'}, {\"'\": 'PUNCT'}, {',': 'PUNCT'}, {'\"': 'PUNCT'}, {',': 'PUNCT'}, {'\"': 'PUNCT'}, {\"'\": 'PUNCT'}, {'and': 'CCONJ'}, {\"'\": 'NUM'}, {',': 'PUNCT'}, {'\"': 'PUNCT'}, {',': 'PUNCT'}, {'\"': 'PUNCT'}, {\"'\": 'PROPN'}, {'5': 'NUM'}, {\"'\": 'NUM'}, {',': 'PUNCT'}, {'\"': 'PUNCT'}, {',': 'PUNCT'}, {'\"': 'PUNCT'}, {\"'\": 'PUNCT'}, {'.': 'PUNCT'}, {\"'\": 'PUNCT'}, {',': 'PUNCT'}, {'\"': 'PUNCT'}, {',': 'PUNCT'}, {'\"': 'PUNCT'}, {\"'\": 'PUNCT'}, {'0': 'X'}, {\"'\": 'PUNCT'}, {',': 'PUNCT'}, {'\"': 'PUNCT'}, {',': 'PUNCT'}, {'\"': 'PUNCT'}, {\"'\": 'PUNCT'}, {'for': 'ADP'}, {\"'\": 'NUM'}, {',': 'PUNCT'}, {'\"': 'PUNCT'}, {',': 'PUNCT'}, {'\"': 'PUNCT'}, {\"'\": 'PUNCT'}, {'Iris': 'PROPN'}, {\"'\": 'NUM'}, {',': 'PUNCT'}, {'\"': 'PUNCT'}, {',': 'PUNCT'}, {'\"': 'PUNCT'}, {\"'\": 'PUNCT'}, {'setosa': 'VERB'}, {\"'\": 'PUNCT'}, {']': 'PUNCT'}, {'\"': 'PUNCT'}, {']': 'PUNCT'}, {'[': 'X'}, {'\"': 'PUNCT'}, {'[': 'X'}, {\"'\": 'X'}, {'Count': 'PROPN'}, {\"'\": 'PUNCT'}, {',': 'PUNCT'}, {'\"': 'PUNCT'}, {',': 'PUNCT'}, {'\"': 'PUNCT'}, {\"'\": 'PUNCT'}, {'Iris': 'PROPN'}, {\"'\": 'NUM'}, {',': 'PUNCT'}, {'\"': 'PUNCT'}, {',': 'PUNCT'}, {'\"': 'PUNCT'}, {\"'\": 'PUNCT'}, {'flowers': 'NOUN'}, {\"'\": 'PART'}, {',': 'PUNCT'}, {'\"': 'PUNCT'}, {',': 'PUNCT'}, {'\"': 'PUNCT'}, {\"'\": 'PUNCT'}, {'where': 'SCONJ'}, {\"'\": 'NUM'}, {',': 'PUNCT'}, {'\"': 'PUNCT'}, {',': 'PUNCT'}, {'\"': 'PUNCT'}, {\"'\": 'PUNCT'}, {'the': 'DET'}, {\"'\": 'PUNCT'}, {',': 'PUNCT'}, {'\"': 'PUNCT'}, {',': 'PUNCT'}, {'\"': 'PUNCT'}, {\"'\": 'PUNCT'}, {'Species': 'NOUN'}, {\"'\": 'PUNCT'}, {',': 'PUNCT'}, {'\"': 'PUNCT'}, {',': 'PUNCT'}, {'\"': 'PUNCT'}, {\"'\": 'PUNCT'}, {'name': 'NOUN'}, {\"'\": 'PUNCT'}, {',': 'PUNCT'}, {'\"': 'PUNCT'}, {',': 'PUNCT'}, {'\"': 'PUNCT'}, {\"'\": 'PUNCT'}, {'contains': 'VERB'}, {\"'\": 'PUNCT'}, {',': 'PUNCT'}, {'\"': 'PUNCT'}, {',': 'PUNCT'}, {\"'\": 'PUNCT'}, {'\"': 'PUNCT'}, {'\\\\': 'PROPN'}, {\"'\": 'PUNCT'}, {'\"': 'PUNCT'}, {',': 'PUNCT'}, {\"'\": 'PUNCT'}, {',': 'PUNCT'}, {'\"': 'PUNCT'}, {\"'\": 'PUNCT'}, {'color': 'NOUN'}, {\"'\": 'PUNCT'}, {',': 'PUNCT'}, {'\"': 'PUNCT'}, {',': 'PUNCT'}, {\"'\": 'PUNCT'}, {'\"': 'PUNCT'}, {'\\\\': 'PROPN'}, {\"'\": 'PUNCT'}, {'\"': 'PUNCT'}, {']': 'PUNCT'}, {\"'\": 'X'}, {']': 'PUNCT'}, {'[': 'X'}, {'\"': 'PUNCT'}, {'[': 'X'}, {\"'\": 'PUNCT'}, {'List': 'NOUN'}, {\"'\": 'PUNCT'}, {',': 'PUNCT'}, {'\"': 'PUNCT'}, {',': 'PUNCT'}, {'\"': 'PUNCT'}, {\"'\": 'PUNCT'}, {'all': 'PRON'}, {\"'\": 'PROPN'}, {',': 'PUNCT'}, {'\"': 'PUNCT'}, {',': 'PUNCT'}, {'\"': 'PUNCT'}, {\"'\": 'PUNCT'}, {'Iris': 'PROPN'}, {\"'\": 'NUM'}, {',': 'PUNCT'}, {'\"': 'PUNCT'}, {',': 'PUNCT'}, {'\"': 'PUNCT'}, {\"'\": 'PUNCT'}, {'flowers': 'NOUN'}, {\"'\": 'PART'}, {',': 'PUNCT'}, {'\"': 'PUNCT'}, {',': 'PUNCT'}, {'\"': 'PUNCT'}, {\"'\": 'PUNCT'}, {'where': 'SCONJ'}, {\"'\": 'NUM'}, {',': 'PUNCT'}, {'\"': 'PUNCT'}, {',': 'PUNCT'}, {'\"': 'PUNCT'}, {\"'\": 'PUNCT'}, {'the': 'DET'}, {\"'\": 'PUNCT'}, {',': 'PUNCT'}, {'\"': 'PUNCT'}, {',': 'PUNCT'}, {'\"': 'PUNCT'}, {\"'\": 'PUNCT'}, {'Species': 'NOUN'}, {\"'\": 'PUNCT'}, {',': 'PUNCT'}, {'\"': 'PUNCT'}, {',': 'PUNCT'}, {'\"': 'PUNCT'}, {\"'\": 'PUNCT'}, {'name': 'NOUN'}, {\"'\": 'PUNCT'}, {',': 'PUNCT'}, {'\"': 'PUNCT'}, {',': 'PUNCT'}, {'\"': 'PUNCT'}, {\"'\": 'PUNCT'}, {'starts': 'VERB'}, {\"'\": 'PUNCT'}, {',': 'PUNCT'}, {'\"': 'PUNCT'}, {',': 'PUNCT'}, {'\"': 'PUNCT'}, {\"'\": 'PUNCT'}, {'with': 'ADP'}, {\"'\": 'PROPN'}, {',': 'PUNCT'}, {'\"': 'PUNCT'}, {',': 'PUNCT'}, {\"'\": 'PUNCT'}, {'\"': 'PUNCT'}, {'\\\\': 'PROPN'}, {\"'\": 'PUNCT'}, {'\"': 'PUNCT'}, {',': 'PUNCT'}, {\"'\": 'PUNCT'}, {',': 'PUNCT'}, {'\"': 'PUNCT'}, {\"'\": 'PUNCT'}, {'Iri': 'PROPN'}, {\"'\": 'PROPN'}, {',': 'PUNCT'}, {'\"': 'PUNCT'}, {',': 'PUNCT'}, {\"'\": 'PUNCT'}, {'\"': 'PUNCT'}, {'\\\\': 'PROPN'}, {\"'\": 'PUNCT'}, {'\"': 'PUNCT'}, {',': 'PUNCT'}, {\"'\": 'PUNCT'}, {',': 'PUNCT'}, {'\"': 'PUNCT'}, {\"'\": 'PUNCT'}, {'and': 'CCONJ'}, {\"'\": 'NUM'}, {',': 'PUNCT'}, {'\"': 'PUNCT'}, {',': 'PUNCT'}, {'\"': 'PUNCT'}, {\"'\": 'PUNCT'}, {'ends': 'VERB'}, {\"'\": 'PUNCT'}, {',': 'PUNCT'}, {'\"': 'PUNCT'}, {',': 'PUNCT'}, {'\"': 'PUNCT'}, {\"'\": 'PUNCT'}, {'with': 'ADP'}, {\"'\": 'PROPN'}, {',': 'PUNCT'}, {'\"': 'PUNCT'}, {',': 'PUNCT'}, {\"'\": 'PUNCT'}, {'\"': 'PUNCT'}, {'\\\\': 'PROPN'}, {\"'\": 'PUNCT'}, {'\"': 'PUNCT'}, {',': 'PUNCT'}, {\"'\": 'PUNCT'}, {',': 'PUNCT'}, {'\"': 'PUNCT'}, {\"'\": 'PUNCT'}, {'a': 'DET'}, {\"'\": 'PUNCT'}, {',': 'PUNCT'}, {'\"': 'PUNCT'}, {',': 'PUNCT'}, {\"'\": 'PUNCT'}, {'\"': 'PUNCT'}, {'\\\\': 'PROPN'}, {\"'\": 'PUNCT'}, {'\"': 'PUNCT'}, {']': 'PUNCT'}, {\"'\": 'X'}, {']': 'PUNCT'}]\n",
            "Tokenized Description : ['X', 'ADJ', 'VERB', 'PART', 'NOUN', 'DET', 'AUX', 'NUM', 'PRON', 'PUNCT', 'INTJ', 'CCONJ', 'ADV', 'PROPN', 'SCONJ', 'ADP']\n"
          ]
        }
      ]
    },
    {
      "cell_type": "code",
      "source": [
        "for pat in p_d:\n",
        "   print({pat:p_d[pat]})"
      ],
      "metadata": {
        "id": "GkL8Eyale0hW",
        "colab": {
          "base_uri": "https://localhost:8080/"
        },
        "outputId": "882a4fad-247f-4415-ee62-9215e6ff97c0"
      },
      "execution_count": 115,
      "outputs": [
        {
          "output_type": "stream",
          "name": "stdout",
          "text": [
            "{'X': [']', '1', '2', 'median', '[', '10th', 'virginica', 'Length', '0', \"'\"]}\n",
            "{'ADJ': ['distinct', 'Distinct', 'highest', 'Select', 'Total', 'Highest', 'equal', 'Top', 'unique', 'Average', 'Petal', 'high', 'Lowest', 'greater', 'many', 'least', 'total', 'less', 'middle', 'Minimum', 'smallest', 'bottom', 'low', 'average', 'Maximum', 'last']}\n",
            "{'VERB': ['found', 'recorded', 'count', 'ascending', 'starting', 'Find', 'contains', 'top', 'Calculate', 'grouped', 'percentile', \"'\", 'Show', 'assuming', 'ends', 'starts', 'Setosa', 'sorted', 'ica', 'show', 'Organize', 'Date', 'setosa', 'start', 'descending', 'Aggregate', 'dataset']}\n",
            "{'PART': ['to', 'not', \"'\"]}\n",
            "{'NOUN': ['value', 'List', 'Determine', 'flowers', 'number', 'Widths', 'Sepal', 'Number', 'name', 'C', 'versicolor', 'types', 'year', 'field', 'Lengths', 'color', 'flower', 'Entries', 'Display', 'points', 'order', 'entries', 'data', 'observation', 'occurrences', 'Species', 'month', 'records', 'species']}\n",
            "{'DET': ['a', 'the']}\n",
            "{'AUX': ['are', 'is', \"'s\"]}\n",
            "{'NUM': ['10', '4', '3', '5', \"'\"]}\n",
            "{'PRON': ['this', 'each', 'What', 'all', 'the', 'both', 'there', 'a']}\n",
            "{'PUNCT': [']', '.', '\"', '(', ',', ')', '?', \"'\"]}\n",
            "{'INTJ': ['%']}\n",
            "{'CCONJ': ['and', 'or']}\n",
            "{'ADV': ['exactly', 'Sort', 'alphabetically', 'only']}\n",
            "{'PROPN': ['Count', '\\\\', 'Species', 'Rank', 'Median', 'Sum', 'Width', 'Filter', 'Group', 'Length', 'Se', 'January', 'Iris', 'Iri', \"'\"]}\n",
            "{'SCONJ': ['where', 'How', 'how']}\n",
            "{'ADP': ['from', 'within', 'over', 'between', 'in', 'for', 'than', 'of', 'at', 'across', 'by', 'with', 'above']}\n"
          ]
        }
      ]
    },
    {
      "cell_type": "code",
      "source": [],
      "metadata": {
        "id": "juHioVPDgONj"
      },
      "execution_count": 115,
      "outputs": []
    },
    {
      "cell_type": "markdown",
      "source": [
        "# Formulas (Tableau) Patterns"
      ],
      "metadata": {
        "id": "EKPpleQ9e_9c"
      }
    },
    {
      "cell_type": "code",
      "source": [
        "p_t=dg_ent['Patterns_Formula(Tableau)']=get_patterns(dg_tok,dg_tok.columns[1])"
      ],
      "metadata": {
        "id": "y8oN90fPfI_T",
        "colab": {
          "base_uri": "https://localhost:8080/"
        },
        "outputId": "dacae6e1-d27d-4de4-d3dc-f9fd46abf502"
      },
      "execution_count": 116,
      "outputs": [
        {
          "output_type": "stream",
          "name": "stdout",
          "text": [
            "[{'[': 'X'}, {'\"': 'PUNCT'}, {'[': 'X'}, {\"'\": 'VERB'}, {'SUM': 'NOUN'}, {\"'\": 'PUNCT'}, {',': 'PUNCT'}, {'\"': 'PUNCT'}, {',': 'PUNCT'}, {'\"': 'PUNCT'}, {\"'\": 'PUNCT'}, {'Sepal': 'NOUN'}, {\"'\": 'PUNCT'}, {',': 'PUNCT'}, {'\"': 'PUNCT'}, {',': 'PUNCT'}, {'\"': 'PUNCT'}, {\"'\": 'PUNCT'}, {'Length': 'X'}, {\"'\": 'PUNCT'}, {']': 'PUNCT'}, {'\"': 'PUNCT'}, {']': 'PUNCT'}, {'[': 'X'}, {'\"': 'PUNCT'}, {'[': 'X'}, {\"'\": 'X'}, {'AVG': 'PROPN'}, {\"'\": 'NUM'}, {',': 'PUNCT'}, {'\"': 'PUNCT'}, {',': 'PUNCT'}, {'\"': 'PUNCT'}, {\"'\": 'PUNCT'}, {'Sepal': 'NOUN'}, {\"'\": 'PUNCT'}, {',': 'PUNCT'}, {'\"': 'PUNCT'}, {',': 'PUNCT'}, {'\"': 'PUNCT'}, {\"'\": 'PUNCT'}, {'Width': 'PROPN'}, {\"'\": 'PUNCT'}, {']': 'PUNCT'}, {'\"': 'PUNCT'}, {']': 'PUNCT'}, {'[': 'X'}, {'\"': 'PUNCT'}, {'[': 'X'}, {\"'\": 'X'}, {'MEDIAN': 'PROPN'}, {\"'\": 'PUNCT'}, {',': 'PUNCT'}, {'\"': 'PUNCT'}, {',': 'PUNCT'}, {'\"': 'PUNCT'}, {\"'\": 'PUNCT'}, {'Petal': 'ADJ'}, {\"'\": 'PUNCT'}, {',': 'PUNCT'}, {'\"': 'PUNCT'}, {',': 'PUNCT'}, {'\"': 'PUNCT'}, {\"'\": 'PUNCT'}, {'Length': 'X'}, {\"'\": 'PUNCT'}, {']': 'PUNCT'}, {'\"': 'PUNCT'}, {']': 'PUNCT'}, {'[': 'X'}, {'\"': 'PUNCT'}, {'[': 'X'}, {\"'\": 'X'}, {'COUNT': 'PROPN'}, {\"'\": 'PUNCT'}, {']': 'PUNCT'}, {'\"': 'PUNCT'}, {']': 'PUNCT'}, {'[': 'X'}, {'\"': 'PUNCT'}, {'[': 'X'}, {\"'\": 'X'}, {'COUNT': 'PROPN'}, {\"'\": 'NUM'}, {',': 'PUNCT'}, {'\"': 'PUNCT'}, {',': 'PUNCT'}, {'\"': 'PUNCT'}, {\"'\": 'PUNCT'}, {'DISTINCT': 'VERB'}, {\"'\": 'PUNCT'}, {',': 'PUNCT'}, {'\"': 'PUNCT'}, {',': 'PUNCT'}, {'\"': 'PUNCT'}, {\"'\": 'PUNCT'}, {'Species': 'PROPN'}, {\"'\": 'PUNCT'}, {']': 'PUNCT'}, {'\"': 'PUNCT'}, {']': 'PUNCT'}, {'[': 'X'}, {'\"': 'PUNCT'}, {'[': 'X'}, {\"'\": 'X'}, {'MIN': 'PROPN'}, {\"'\": 'PROPN'}, {',': 'PUNCT'}, {'\"': 'PUNCT'}, {',': 'PUNCT'}, {'\"': 'PUNCT'}, {\"'\": 'PUNCT'}, {'Sepal': 'NOUN'}, {\"'\": 'PUNCT'}, {',': 'PUNCT'}, {'\"': 'PUNCT'}, {',': 'PUNCT'}, {'\"': 'PUNCT'}, {\"'\": 'PUNCT'}, {'Length': 'X'}, {\"'\": 'PUNCT'}, {']': 'PUNCT'}, {'\"': 'PUNCT'}, {']': 'PUNCT'}, {'[': 'X'}, {'\"': 'PUNCT'}, {'[': 'X'}, {\"'\": 'X'}, {'MAX': 'PROPN'}, {\"'\": 'PUNCT'}, {',': 'PUNCT'}, {'\"': 'PUNCT'}, {',': 'PUNCT'}, {'\"': 'PUNCT'}, {\"'\": 'PUNCT'}, {'Petal': 'ADJ'}, {\"'\": 'PUNCT'}, {',': 'PUNCT'}, {'\"': 'PUNCT'}, {',': 'PUNCT'}, {'\"': 'PUNCT'}, {\"'\": 'PUNCT'}, {'Width': 'PROPN'}, {\"'\": 'PUNCT'}, {']': 'PUNCT'}, {'\"': 'PUNCT'}, {']': 'PUNCT'}, {'[': 'X'}, {'\"': 'PUNCT'}, {'[': 'X'}, {\"'\": 'X'}, {'GROUP': 'PROPN'}, {\"'\": 'PUNCT'}, {',': 'PUNCT'}, {'\"': 'PUNCT'}, {',': 'PUNCT'}, {'\"': 'PUNCT'}, {\"'\": 'PUNCT'}, {'BY': 'ADP'}, {\"'\": 'NUM'}, {',': 'PUNCT'}, {'\"': 'PUNCT'}, {',': 'PUNCT'}, {'\"': 'PUNCT'}, {\"'\": 'PUNCT'}, {'Species': 'PROPN'}, {\"'\": 'PUNCT'}, {']': 'PUNCT'}, {'\"': 'PUNCT'}, {']': 'PUNCT'}, {'[': 'X'}, {'\"': 'PUNCT'}, {'[': 'X'}, {\"'\": 'X'}, {'ORDER': 'NOUN'}, {\"'\": 'PUNCT'}, {',': 'PUNCT'}, {'\"': 'PUNCT'}, {',': 'PUNCT'}, {'\"': 'PUNCT'}, {\"'\": 'PUNCT'}, {'BY': 'ADP'}, {\"'\": 'NUM'}, {',': 'PUNCT'}, {'\"': 'PUNCT'}, {',': 'PUNCT'}, {'\"': 'PUNCT'}, {\"'\": 'PUNCT'}, {'Sepal': 'NOUN'}, {\"'\": 'PUNCT'}, {',': 'PUNCT'}, {'\"': 'PUNCT'}, {',': 'PUNCT'}, {'\"': 'PUNCT'}, {\"'\": 'PUNCT'}, {'Length': 'PROPN'}, {\"'\": 'PUNCT'}, {',': 'PUNCT'}, {'\"': 'PUNCT'}, {',': 'PUNCT'}, {'\"': 'PUNCT'}, {\"'\": 'PUNCT'}, {'ASC': 'PROPN'}, {\"'\": 'PUNCT'}, {']': 'PUNCT'}, {'\"': 'PUNCT'}, {']': 'PUNCT'}, {'[': 'X'}, {'\"': 'PUNCT'}, {'[': 'X'}, {\"'\": 'X'}, {'ORDER': 'NOUN'}, {\"'\": 'PUNCT'}, {',': 'PUNCT'}, {'\"': 'PUNCT'}, {',': 'PUNCT'}, {'\"': 'PUNCT'}, {\"'\": 'PUNCT'}, {'BY': 'ADP'}, {\"'\": 'NUM'}, {',': 'PUNCT'}, {'\"': 'PUNCT'}, {',': 'PUNCT'}, {'\"': 'PUNCT'}, {\"'\": 'PUNCT'}, {'Species': 'NOUN'}, {\"'\": 'PUNCT'}, {',': 'PUNCT'}, {'\"': 'PUNCT'}, {',': 'PUNCT'}, {'\"': 'PUNCT'}, {\"'\": 'PUNCT'}, {'ASC': 'PROPN'}, {\"'\": 'PUNCT'}, {']': 'PUNCT'}, {'\"': 'PUNCT'}, {']': 'PUNCT'}, {'[': 'X'}, {'\"': 'PUNCT'}, {'[': 'X'}, {\"'\": 'X'}, {'Sepal': 'NOUN'}, {\"'\": 'PUNCT'}, {',': 'PUNCT'}, {'\"': 'PUNCT'}, {',': 'PUNCT'}, {'\"': 'PUNCT'}, {\"'\": 'PUNCT'}, {'Length': 'PROPN'}, {\"'\": 'PUNCT'}, {',': 'PUNCT'}, {'\"': 'PUNCT'}, {',': 'PUNCT'}, {'\"': 'PUNCT'}, {\"'\": 'PROPN'}, {'5': 'NUM'}, {\"'\": 'NUM'}, {',': 'PUNCT'}, {'\"': 'PUNCT'}, {',': 'PUNCT'}, {'\"': 'PUNCT'}, {\"'\": 'PUNCT'}, {'0': 'X'}, {\"'\": 'PUNCT'}, {']': 'PUNCT'}, {'\"': 'PUNCT'}, {']': 'PUNCT'}, {'[': 'X'}, {'\"': 'PUNCT'}, {'[': 'X'}, {\"'\": 'PUNCT'}, {'Petal': 'ADJ'}, {\"'\": 'PUNCT'}, {',': 'PUNCT'}, {'\"': 'PUNCT'}, {',': 'PUNCT'}, {'\"': 'PUNCT'}, {\"'\": 'PUNCT'}, {'Length': 'PROPN'}, {\"'\": 'PUNCT'}, {',': 'PUNCT'}, {'\"': 'PUNCT'}, {',': 'PUNCT'}, {'\"': 'PUNCT'}, {\"'\": 'PUNCT'}, {'BETWEEN': 'ADP'}, {\"'\": 'PUNCT'}, {',': 'PUNCT'}, {'\"': 'PUNCT'}, {',': 'PUNCT'}, {'\"': 'PUNCT'}, {\"'\": 'PROPN'}, {'1': 'X'}, {\"'\": 'NUM'}, {',': 'PUNCT'}, {'\"': 'PUNCT'}, {',': 'PUNCT'}, {'\"': 'PUNCT'}, {\"'\": 'PROPN'}, {'5': 'NUM'}, {\"'\": 'NUM'}, {',': 'PUNCT'}, {'\"': 'PUNCT'}, {',': 'PUNCT'}, {'\"': 'PUNCT'}, {\"'\": 'PUNCT'}, {'AND': 'CCONJ'}, {\"'\": 'NUM'}, {',': 'PUNCT'}, {'\"': 'PUNCT'}, {',': 'PUNCT'}, {'\"': 'PUNCT'}, {\"'\": 'PROPN'}, {'2': 'X'}, {\"'\": 'NUM'}, {',': 'PUNCT'}, {'\"': 'PUNCT'}, {',': 'PUNCT'}, {'\"': 'PUNCT'}, {\"'\": 'PROPN'}, {'5': 'NUM'}, {\"'\": 'NUM'}, {']': 'PUNCT'}, {'\"': 'PUNCT'}, {']': 'PUNCT'}, {'[': 'X'}, {'\"': 'PUNCT'}, {'[': 'X'}, {\"'\": 'PROPN'}, {'TOP': 'NUM'}, {\"'\": 'PUNCT'}, {',': 'PUNCT'}, {'\"': 'PUNCT'}, {',': 'PUNCT'}, {'\"': 'PUNCT'}, {\"'\": 'PROPN'}, {'3': 'NUM'}, {\"'\": 'NUM'}, {',': 'PUNCT'}, {'\"': 'PUNCT'}, {',': 'PUNCT'}, {'\"': 'PUNCT'}, {\"'\": 'PUNCT'}, {'BY': 'ADP'}, {\"'\": 'NUM'}, {',': 'PUNCT'}, {'\"': 'PUNCT'}, {',': 'PUNCT'}, {'\"': 'PUNCT'}, {\"'\": 'PUNCT'}, {'Sepal': 'NOUN'}, {\"'\": 'PUNCT'}, {',': 'PUNCT'}, {'\"': 'PUNCT'}, {',': 'PUNCT'}, {'\"': 'PUNCT'}, {\"'\": 'PUNCT'}, {'Width': 'PROPN'}, {\"'\": 'PUNCT'}, {',': 'PUNCT'}, {'\"': 'PUNCT'}, {',': 'PUNCT'}, {'\"': 'PUNCT'}, {\"'\": 'PUNCT'}, {'DESC': 'VERB'}, {\"'\": 'PUNCT'}, {']': 'PUNCT'}, {'\"': 'PUNCT'}, {']': 'PUNCT'}, {'[': 'X'}, {'\"': 'PUNCT'}, {'[': 'X'}, {\"'\": 'X'}, {'Species': 'NOUN'}, {\"'\": 'PUNCT'}, {',': 'PUNCT'}, {'\"': 'PUNCT'}, {',': 'PUNCT'}, {'\"': 'PUNCT'}, {\"'\": 'PUNCT'}, {'Setosa': 'PROPN'}, {\"'\": 'PUNCT'}, {']': 'PUNCT'}, {'\"': 'PUNCT'}, {']': 'PUNCT'}, {'[': 'X'}, {'\"': 'PUNCT'}, {'[': 'X'}, {\"'\": 'X'}, {'Species': 'NOUN'}, {\"'\": 'PUNCT'}, {',': 'PUNCT'}, {'\"': 'PUNCT'}, {',': 'PUNCT'}, {'\"': 'PUNCT'}, {\"'\": 'PUNCT'}, {'STARTS': 'PROPN'}, {\"'\": 'NUM'}, {',': 'PUNCT'}, {'\"': 'PUNCT'}, {',': 'PUNCT'}, {'\"': 'PUNCT'}, {\"'\": 'PUNCT'}, {'WITH': 'ADP'}, {\"'\": 'NUM'}, {',': 'PUNCT'}, {'\"': 'PUNCT'}, {',': 'PUNCT'}, {'\"': 'PUNCT'}, {\"'\": 'PUNCT'}, {'Se': 'PROPN'}, {\"'\": 'NUM'}, {']': 'PUNCT'}, {'\"': 'PUNCT'}, {']': 'PUNCT'}, {'[': 'X'}, {'\"': 'PUNCT'}, {'[': 'X'}, {\"'\": 'VERB'}, {'SUM': 'NOUN'}, {\"'\": 'PUNCT'}, {',': 'PUNCT'}, {'\"': 'PUNCT'}, {',': 'PUNCT'}, {'\"': 'PUNCT'}, {\"'\": 'PUNCT'}, {'Petal': 'ADJ'}, {\"'\": 'PUNCT'}, {',': 'PUNCT'}, {'\"': 'PUNCT'}, {',': 'PUNCT'}, {'\"': 'PUNCT'}, {\"'\": 'PUNCT'}, {'Length': 'X'}, {\"'\": 'PUNCT'}, {']': 'PUNCT'}, {'\"': 'PUNCT'}, {']': 'PUNCT'}, {'[': 'X'}, {'\"': 'PUNCT'}, {'[': 'X'}, {\"'\": 'X'}, {'AVG': 'PROPN'}, {\"'\": 'NUM'}, {',': 'PUNCT'}, {'\"': 'PUNCT'}, {',': 'PUNCT'}, {'\"': 'PUNCT'}, {\"'\": 'PUNCT'}, {'Petal': 'ADJ'}, {\"'\": 'PUNCT'}, {',': 'PUNCT'}, {'\"': 'PUNCT'}, {',': 'PUNCT'}, {'\"': 'PUNCT'}, {\"'\": 'PUNCT'}, {'Width': 'PROPN'}, {\"'\": 'PUNCT'}, {']': 'PUNCT'}, {'\"': 'PUNCT'}, {']': 'PUNCT'}, {'[': 'X'}, {'\"': 'PUNCT'}, {'[': 'X'}, {\"'\": 'X'}, {'MEDIAN': 'PROPN'}, {\"'\": 'PUNCT'}, {',': 'PUNCT'}, {'\"': 'PUNCT'}, {',': 'PUNCT'}, {'\"': 'PUNCT'}, {\"'\": 'PUNCT'}, {'Sepal': 'NOUN'}, {\"'\": 'PUNCT'}, {',': 'PUNCT'}, {'\"': 'PUNCT'}, {',': 'PUNCT'}, {'\"': 'PUNCT'}, {\"'\": 'PUNCT'}, {'Width': 'PROPN'}, {\"'\": 'PUNCT'}, {']': 'PUNCT'}, {'\"': 'PUNCT'}, {']': 'PUNCT'}, {'[': 'X'}, {'\"': 'PUNCT'}, {'[': 'X'}, {\"'\": 'X'}, {'COUNT': 'PROPN'}, {\"'\": 'NUM'}, {',': 'PUNCT'}, {'\"': 'PUNCT'}, {',': 'PUNCT'}, {'\"': 'PUNCT'}, {\"'\": 'PUNCT'}, {'Sepal': 'NOUN'}, {\"'\": 'PUNCT'}, {',': 'PUNCT'}, {'\"': 'PUNCT'}, {',': 'PUNCT'}, {'\"': 'PUNCT'}, {\"'\": 'PUNCT'}, {'Length': 'X'}, {\"'\": 'PUNCT'}, {']': 'PUNCT'}, {'\"': 'PUNCT'}, {']': 'PUNCT'}, {'[': 'X'}, {'\"': 'PUNCT'}, {'[': 'X'}, {\"'\": 'VERB'}, {'COUNTD': 'PROPN'}, {\"'\": 'PUNCT'}, {',': 'PUNCT'}, {'\"': 'PUNCT'}, {',': 'PUNCT'}, {'\"': 'PUNCT'}, {\"'\": 'PUNCT'}, {'Species': 'PROPN'}, {\"'\": 'PUNCT'}, {']': 'PUNCT'}, {'\"': 'PUNCT'}, {']': 'PUNCT'}, {'[': 'X'}, {'\"': 'PUNCT'}, {'[': 'X'}, {\"'\": 'X'}, {'MIN': 'PROPN'}, {\"'\": 'PROPN'}, {',': 'PUNCT'}, {'\"': 'PUNCT'}, {',': 'PUNCT'}, {'\"': 'PUNCT'}, {\"'\": 'PUNCT'}, {'Sepal': 'NOUN'}, {\"'\": 'PUNCT'}, {',': 'PUNCT'}, {'\"': 'PUNCT'}, {',': 'PUNCT'}, {'\"': 'PUNCT'}, {\"'\": 'PUNCT'}, {'Length': 'X'}, {\"'\": 'PUNCT'}, {']': 'PUNCT'}, {'\"': 'PUNCT'}, {']': 'PUNCT'}, {'[': 'X'}, {'\"': 'PUNCT'}, {'[': 'X'}, {\"'\": 'X'}, {'MAX': 'PROPN'}, {\"'\": 'PUNCT'}, {',': 'PUNCT'}, {'\"': 'PUNCT'}, {',': 'PUNCT'}, {'\"': 'PUNCT'}, {\"'\": 'PUNCT'}, {'Petal': 'ADJ'}, {\"'\": 'PUNCT'}, {',': 'PUNCT'}, {'\"': 'PUNCT'}, {',': 'PUNCT'}, {'\"': 'PUNCT'}, {\"'\": 'PUNCT'}, {'Width': 'PROPN'}, {\"'\": 'PUNCT'}, {']': 'PUNCT'}, {'\"': 'PUNCT'}, {']': 'PUNCT'}, {'[': 'X'}, {'\"': 'PUNCT'}, {'[': 'X'}, {\"'\": 'VERB'}, {'SORT': 'ADV'}, {\"'\": 'NUM'}, {',': 'PUNCT'}, {'\"': 'PUNCT'}, {',': 'PUNCT'}, {'\"': 'PUNCT'}, {\"'\": 'PUNCT'}, {'Species': 'NOUN'}, {\"'\": 'PUNCT'}, {',': 'PUNCT'}, {'\"': 'PUNCT'}, {',': 'PUNCT'}, {'\"': 'PUNCT'}, {\"'\": 'PUNCT'}, {'DESC': 'VERB'}, {\"'\": 'PUNCT'}, {']': 'PUNCT'}, {'\"': 'PUNCT'}, {']': 'PUNCT'}, {'[': 'X'}, {'\"': 'PUNCT'}, {'[': 'X'}, {\"'\": 'VERB'}, {'SORT': 'ADV'}, {\"'\": 'NUM'}, {',': 'PUNCT'}, {'\"': 'PUNCT'}, {',': 'PUNCT'}, {'\"': 'PUNCT'}, {\"'\": 'PUNCT'}, {'Sepal': 'NOUN'}, {\"'\": 'PUNCT'}, {',': 'PUNCT'}, {'\"': 'PUNCT'}, {',': 'PUNCT'}, {'\"': 'PUNCT'}, {\"'\": 'PUNCT'}, {'Length': 'PROPN'}, {\"'\": 'PUNCT'}, {',': 'PUNCT'}, {'\"': 'PUNCT'}, {',': 'PUNCT'}, {'\"': 'PUNCT'}, {\"'\": 'PUNCT'}, {'ASC': 'PROPN'}, {\"'\": 'PUNCT'}, {']': 'PUNCT'}, {'\"': 'PUNCT'}, {']': 'PUNCT'}, {'[': 'X'}, {'\"': 'PUNCT'}, {'[': 'X'}, {\"'\": 'X'}, {'Sepal': 'NOUN'}, {\"'\": 'PUNCT'}, {',': 'PUNCT'}, {'\"': 'PUNCT'}, {',': 'PUNCT'}, {'\"': 'PUNCT'}, {\"'\": 'PUNCT'}, {'Length': 'PROPN'}, {\"'\": 'PUNCT'}, {',': 'PUNCT'}, {'\"': 'PUNCT'}, {',': 'PUNCT'}, {'\"': 'PUNCT'}, {\"'\": 'PROPN'}, {'4': 'NUM'}, {\"'\": 'NUM'}, {',': 'PUNCT'}, {'\"': 'PUNCT'}, {',': 'PUNCT'}, {'\"': 'PUNCT'}, {\"'\": 'PROPN'}, {'5': 'NUM'}, {\"'\": 'NUM'}, {']': 'PUNCT'}, {'\"': 'PUNCT'}, {']': 'PUNCT'}, {'[': 'X'}, {'\"': 'PUNCT'}, {'[': 'X'}, {\"'\": 'PUNCT'}, {'Petal': 'ADJ'}, {\"'\": 'PUNCT'}, {',': 'PUNCT'}, {'\"': 'PUNCT'}, {',': 'PUNCT'}, {'\"': 'PUNCT'}, {\"'\": 'PUNCT'}, {'Width': 'PROPN'}, {\"'\": 'PUNCT'}, {',': 'PUNCT'}, {'\"': 'PUNCT'}, {',': 'PUNCT'}, {'\"': 'PUNCT'}, {\"'\": 'PROPN'}, {'2': 'X'}, {\"'\": 'NUM'}, {',': 'PUNCT'}, {'\"': 'PUNCT'}, {',': 'PUNCT'}, {'\"': 'PUNCT'}, {\"'\": 'PUNCT'}, {'0': 'X'}, {\"'\": 'PUNCT'}, {']': 'PUNCT'}, {'\"': 'PUNCT'}, {']': 'PUNCT'}, {'[': 'X'}, {'\"': 'PUNCT'}, {'[': 'X'}, {\"'\": 'X'}, {'Sepal': 'NOUN'}, {\"'\": 'PUNCT'}, {',': 'PUNCT'}, {'\"': 'PUNCT'}, {',': 'PUNCT'}, {'\"': 'PUNCT'}, {\"'\": 'PUNCT'}, {'Width': 'PROPN'}, {\"'\": 'PUNCT'}, {',': 'PUNCT'}, {'\"': 'PUNCT'}, {',': 'PUNCT'}, {'\"': 'PUNCT'}, {\"'\": 'PROPN'}, {'3': 'NUM'}, {\"'\": 'NUM'}, {',': 'PUNCT'}, {'\"': 'PUNCT'}, {',': 'PUNCT'}, {'\"': 'PUNCT'}, {\"'\": 'PUNCT'}, {'0': 'X'}, {\"'\": 'PUNCT'}, {']': 'PUNCT'}, {'\"': 'PUNCT'}, {']': 'PUNCT'}, {'[': 'X'}, {'\"': 'PUNCT'}, {'[': 'X'}, {\"'\": 'VERB'}, {'ENDSWITH': 'NOUN'}, {\"'\": 'PUNCT'}, {',': 'PUNCT'}, {'\"': 'PUNCT'}, {',': 'PUNCT'}, {'\"': 'PUNCT'}, {\"'\": 'PUNCT'}, {'Species': 'NOUN'}, {\"'\": 'PUNCT'}, {',': 'PUNCT'}, {'\"': 'PUNCT'}, {',': 'PUNCT'}, {'\"': 'PUNCT'}, {\"'\": 'PUNCT'}, {'ica': 'X'}, {\"'\": 'PUNCT'}, {']': 'PUNCT'}, {'\"': 'PUNCT'}, {']': 'PUNCT'}, {'[': 'X'}, {'\"': 'PUNCT'}, {'[': 'X'}, {\"'\": 'X'}, {'Sepal': 'NOUN'}, {\"'\": 'PUNCT'}, {',': 'PUNCT'}, {'\"': 'PUNCT'}, {',': 'PUNCT'}, {'\"': 'PUNCT'}, {\"'\": 'PUNCT'}, {'Length': 'PROPN'}, {\"'\": 'PUNCT'}, {',': 'PUNCT'}, {'\"': 'PUNCT'}, {',': 'PUNCT'}, {'\"': 'PUNCT'}, {\"'\": 'PROPN'}, {'5': 'NUM'}, {\"'\": 'NUM'}, {',': 'PUNCT'}, {'\"': 'PUNCT'}, {',': 'PUNCT'}, {'\"': 'PUNCT'}, {\"'\": 'PUNCT'}, {'0': 'X'}, {\"'\": 'PUNCT'}, {']': 'PUNCT'}, {'\"': 'PUNCT'}, {']': 'PUNCT'}, {'[': 'X'}, {'\"': 'PUNCT'}, {'[': 'X'}, {\"'\": 'X'}, {'INDEX': 'PROPN'}, {\"'\": 'PUNCT'}, {',': 'PUNCT'}, {'\"': 'PUNCT'}, {',': 'PUNCT'}, {'\"': 'PUNCT'}, {\"'\": 'PROPN'}, {'5': 'NUM'}, {\"'\": 'NUM'}, {',': 'PUNCT'}, {'\"': 'PUNCT'}, {',': 'PUNCT'}, {'\"': 'PUNCT'}, {\"'\": 'PUNCT'}, {'SORT': 'ADV'}, {\"'\": 'NUM'}, {',': 'PUNCT'}, {'\"': 'PUNCT'}, {',': 'PUNCT'}, {'\"': 'PUNCT'}, {\"'\": 'PUNCT'}, {'BY': 'ADP'}, {\"'\": 'NUM'}, {',': 'PUNCT'}, {'\"': 'PUNCT'}, {',': 'PUNCT'}, {'\"': 'PUNCT'}, {\"'\": 'PUNCT'}, {'SUM': 'VERB'}, {\"'\": 'PUNCT'}, {',': 'PUNCT'}, {'\"': 'PUNCT'}, {',': 'PUNCT'}, {'\"': 'PUNCT'}, {\"'\": 'PUNCT'}, {'Sepal': 'NOUN'}, {\"'\": 'PUNCT'}, {',': 'PUNCT'}, {'\"': 'PUNCT'}, {',': 'PUNCT'}, {'\"': 'PUNCT'}, {\"'\": 'PUNCT'}, {'Width': 'PROPN'}, {\"'\": 'PUNCT'}, {',': 'PUNCT'}, {'\"': 'PUNCT'}, {',': 'PUNCT'}, {'\"': 'PUNCT'}, {\"'\": 'PUNCT'}, {'DESC': 'VERB'}, {\"'\": 'PUNCT'}, {']': 'PUNCT'}, {'\"': 'PUNCT'}, {']': 'PUNCT'}, {'[': 'X'}, {'\"': 'PUNCT'}, {'[': 'X'}, {\"'\": 'X'}, {'INDEX': 'PROPN'}, {\"'\": 'PUNCT'}, {',': 'PUNCT'}, {'\"': 'PUNCT'}, {',': 'PUNCT'}, {'\"': 'PUNCT'}, {\"'\": 'PROPN'}, {'3': 'NUM'}, {\"'\": 'NUM'}, {',': 'PUNCT'}, {'\"': 'PUNCT'}, {',': 'PUNCT'}, {'\"': 'PUNCT'}, {\"'\": 'PUNCT'}, {'SORT': 'ADV'}, {\"'\": 'NUM'}, {',': 'PUNCT'}, {'\"': 'PUNCT'}, {',': 'PUNCT'}, {'\"': 'PUNCT'}, {\"'\": 'PUNCT'}, {'BY': 'ADP'}, {\"'\": 'NUM'}, {',': 'PUNCT'}, {'\"': 'PUNCT'}, {',': 'PUNCT'}, {'\"': 'PUNCT'}, {\"'\": 'PUNCT'}, {'Petal': 'ADJ'}, {\"'\": 'PUNCT'}, {',': 'PUNCT'}, {'\"': 'PUNCT'}, {',': 'PUNCT'}, {'\"': 'PUNCT'}, {\"'\": 'PUNCT'}, {'Length': 'PROPN'}, {\"'\": 'PUNCT'}, {',': 'PUNCT'}, {'\"': 'PUNCT'}, {',': 'PUNCT'}, {'\"': 'PUNCT'}, {\"'\": 'PUNCT'}, {'ASC': 'PROPN'}, {\"'\": 'PUNCT'}, {']': 'PUNCT'}, {'\"': 'PUNCT'}, {']': 'PUNCT'}, {'[': 'X'}, {'\"': 'PUNCT'}, {'[': 'X'}, {\"'\": 'VERB'}, {'IF': 'SCONJ'}, {\"'\": 'NUM'}, {',': 'PUNCT'}, {'\"': 'PUNCT'}, {',': 'PUNCT'}, {'\"': 'PUNCT'}, {\"'\": 'PUNCT'}, {'Petal': 'ADJ'}, {\"'\": 'PUNCT'}, {',': 'PUNCT'}, {'\"': 'PUNCT'}, {',': 'PUNCT'}, {'\"': 'PUNCT'}, {\"'\": 'PUNCT'}, {'Length': 'PROPN'}, {\"'\": 'PUNCT'}, {',': 'PUNCT'}, {'\"': 'PUNCT'}, {',': 'PUNCT'}, {'\"': 'PUNCT'}, {\"'\": 'PROPN'}, {'4': 'NUM'}, {\"'\": 'NUM'}, {',': 'PUNCT'}, {'\"': 'PUNCT'}, {',': 'PUNCT'}, {'\"': 'PUNCT'}, {\"'\": 'PUNCT'}, {'AND': 'CCONJ'}, {\"'\": 'NUM'}, {',': 'PUNCT'}, {'\"': 'PUNCT'}, {',': 'PUNCT'}, {'\"': 'PUNCT'}, {\"'\": 'PUNCT'}, {'Petal': 'ADJ'}, {\"'\": 'PUNCT'}, {',': 'PUNCT'}, {'\"': 'PUNCT'}, {',': 'PUNCT'}, {'\"': 'PUNCT'}, {\"'\": 'PUNCT'}, {'Length': 'PROPN'}, {\"'\": 'PUNCT'}, {',': 'PUNCT'}, {'\"': 'PUNCT'}, {',': 'PUNCT'}, {'\"': 'PUNCT'}, {\"'\": 'PROPN'}, {'5': 'NUM'}, {\"'\": 'NUM'}, {',': 'PUNCT'}, {'\"': 'PUNCT'}, {',': 'PUNCT'}, {'\"': 'PUNCT'}, {\"'\": 'PUNCT'}, {'THEN': 'ADV'}, {\"'\": 'NUM'}, {',': 'PUNCT'}, {'\"': 'PUNCT'}, {',': 'PUNCT'}, {'\"': 'PUNCT'}, {\"'\": 'PROPN'}, {'1': 'X'}, {\"'\": 'NUM'}, {',': 'PUNCT'}, {'\"': 'PUNCT'}, {',': 'PUNCT'}, {'\"': 'PUNCT'}, {\"'\": 'PUNCT'}, {'ELSE': 'ADV'}, {\"'\": 'NUM'}, {',': 'PUNCT'}, {'\"': 'PUNCT'}, {',': 'PUNCT'}, {'\"': 'PUNCT'}, {\"'\": 'PUNCT'}, {'0': 'X'}, {\"'\": 'PUNCT'}, {',': 'PUNCT'}, {'\"': 'PUNCT'}, {',': 'PUNCT'}, {'\"': 'PUNCT'}, {\"'\": 'PUNCT'}, {'END': 'PROPN'}, {\"'\": 'PUNCT'}, {']': 'PUNCT'}, {'\"': 'PUNCT'}, {']': 'PUNCT'}, {'[': 'X'}, {'\"': 'PUNCT'}, {'[': 'X'}, {\"'\": 'VERB'}, {'DATETRUNC': 'PROPN'}, {\"'\": 'NUM'}, {',': 'PUNCT'}, {'\"': 'PUNCT'}, {',': 'PUNCT'}, {'\"': 'PUNCT'}, {\"'\": 'PUNCT'}, {'month': 'NOUN'}, {\"'\": 'PUNCT'}, {',': 'PUNCT'}, {'\"': 'PUNCT'}, {',': 'PUNCT'}, {'\"': 'PUNCT'}, {\"'\": 'PUNCT'}, {'Date': 'PROPN'}, {\"'\": 'PUNCT'}, {']': 'PUNCT'}, {'\"': 'PUNCT'}, {']': 'PUNCT'}, {'[': 'X'}, {'\"': 'PUNCT'}, {'[': 'X'}, {\"'\": 'X'}, {'YEAR': 'NOUN'}, {\"'\": 'PUNCT'}, {',': 'PUNCT'}, {'\"': 'PUNCT'}, {',': 'PUNCT'}, {'\"': 'PUNCT'}, {\"'\": 'PUNCT'}, {'Date': 'VERB'}, {\"'\": 'PUNCT'}, {',': 'PUNCT'}, {'\"': 'PUNCT'}, {',': 'PUNCT'}, {'\"': 'PUNCT'}, {\"'\": 'PUNCT'}, {'YEAR': 'NOUN'}, {\"'\": 'PUNCT'}, {',': 'PUNCT'}, {'\"': 'PUNCT'}, {',': 'PUNCT'}, {'\"': 'PUNCT'}, {\"'\": 'PUNCT'}, {'TODAY': 'NOUN'}, {\"'\": 'PUNCT'}, {',': 'PUNCT'}, {'\"': 'PUNCT'}, {',': 'PUNCT'}, {'\"': 'PUNCT'}, {\"'\": 'PROPN'}, {'1': 'X'}, {\"'\": 'NUM'}, {']': 'PUNCT'}, {'\"': 'PUNCT'}, {']': 'PUNCT'}, {'[': 'X'}, {'\"': 'PUNCT'}, {'[': 'X'}, {\"'\": 'X'}, {'Date': 'NOUN'}, {\"'\": 'NUM'}, {',': 'PUNCT'}, {'\"': 'PUNCT'}, {',': 'PUNCT'}, {'\"': 'PUNCT'}, {\"'\": 'PUNCT'}, {'DATETRUNC': 'PROPN'}, {\"'\": 'NUM'}, {',': 'PUNCT'}, {'\"': 'PUNCT'}, {',': 'PUNCT'}, {'\"': 'PUNCT'}, {\"'\": 'PUNCT'}, {'year': 'NOUN'}, {\"'\": 'PUNCT'}, {',': 'PUNCT'}, {'\"': 'PUNCT'}, {',': 'PUNCT'}, {'\"': 'PUNCT'}, {\"'\": 'PUNCT'}, {'TODAY': 'NOUN'}, {\"'\": 'PUNCT'}, {']': 'PUNCT'}, {'\"': 'PUNCT'}, {']': 'PUNCT'}, {'[': 'X'}, {'\"': 'PUNCT'}, {'[': 'X'}, {\"'\": 'X'}, {'AVG': 'PROPN'}, {\"'\": 'NUM'}, {',': 'PUNCT'}, {'\"': 'PUNCT'}, {',': 'PUNCT'}, {'\"': 'PUNCT'}, {\"'\": 'PUNCT'}, {'Sepal': 'NOUN'}, {\"'\": 'PUNCT'}, {',': 'PUNCT'}, {'\"': 'PUNCT'}, {',': 'PUNCT'}, {'\"': 'PUNCT'}, {\"'\": 'PUNCT'}, {'Length': 'PROPN'}, {\"'\": 'PUNCT'}, {',': 'PUNCT'}, {'\"': 'PUNCT'}, {',': 'PUNCT'}, {'\"': 'PUNCT'}, {\"'\": 'PUNCT'}, {'GROUP': 'PROPN'}, {\"'\": 'PUNCT'}, {',': 'PUNCT'}, {'\"': 'PUNCT'}, {',': 'PUNCT'}, {'\"': 'PUNCT'}, {\"'\": 'PUNCT'}, {'BY': 'ADP'}, {\"'\": 'NUM'}, {',': 'PUNCT'}, {'\"': 'PUNCT'}, {',': 'PUNCT'}, {'\"': 'PUNCT'}, {\"'\": 'PUNCT'}, {'Species': 'NOUN'}, {\"'\": 'PUNCT'}, {',': 'PUNCT'}, {'\"': 'PUNCT'}, {',': 'PUNCT'}, {'\"': 'PUNCT'}, {\"'\": 'PUNCT'}, {'SORT': 'ADV'}, {\"'\": 'NUM'}, {',': 'PUNCT'}, {'\"': 'PUNCT'}, {',': 'PUNCT'}, {'\"': 'PUNCT'}, {\"'\": 'PUNCT'}, {'BY': 'ADP'}, {\"'\": 'NUM'}, {',': 'PUNCT'}, {'\"': 'PUNCT'}, {',': 'PUNCT'}, {'\"': 'PUNCT'}, {\"'\": 'PUNCT'}, {'Species': 'NOUN'}, {\"'\": 'PUNCT'}, {',': 'PUNCT'}, {'\"': 'PUNCT'}, {',': 'PUNCT'}, {'\"': 'PUNCT'}, {\"'\": 'PUNCT'}, {'ASC': 'PROPN'}, {\"'\": 'PUNCT'}, {']': 'PUNCT'}, {'\"': 'PUNCT'}, {']': 'PUNCT'}, {'[': 'X'}, {'\"': 'PUNCT'}, {'[': 'X'}, {\"'\": 'VERB'}, {'COUNTD': 'PROPN'}, {\"'\": 'PUNCT'}, {',': 'PUNCT'}, {'\"': 'PUNCT'}, {',': 'PUNCT'}, {'\"': 'PUNCT'}, {\"'\": 'PUNCT'}, {'IF': 'SCONJ'}, {\"'\": 'NUM'}, {',': 'PUNCT'}, {'\"': 'PUNCT'}, {',': 'PUNCT'}, {'\"': 'PUNCT'}, {\"'\": 'PUNCT'}, {'LEFT': 'PROPN'}, {\"'\": 'PUNCT'}, {',': 'PUNCT'}, {'\"': 'PUNCT'}, {',': 'PUNCT'}, {'\"': 'PUNCT'}, {\"'\": 'PUNCT'}, {'Species': 'NOUN'}, {\"'\": 'PUNCT'}, {',': 'PUNCT'}, {'\"': 'PUNCT'}, {',': 'PUNCT'}, {'\"': 'PUNCT'}, {\"'\": 'PROPN'}, {'1': 'X'}, {\"'\": 'NUM'}, {',': 'PUNCT'}, {'\"': 'PUNCT'}, {',': 'PUNCT'}, {'\"': 'PUNCT'}, {\"'\": 'PUNCT'}, {'C': 'NOUN'}, {\"'\": 'NUM'}, {',': 'PUNCT'}, {'\"': 'PUNCT'}, {',': 'PUNCT'}, {'\"': 'PUNCT'}, {\"'\": 'PUNCT'}, {'THEN': 'ADV'}, {\"'\": 'NUM'}, {',': 'PUNCT'}, {'\"': 'PUNCT'}, {',': 'PUNCT'}, {'\"': 'PUNCT'}, {\"'\": 'PUNCT'}, {'Species': 'NOUN'}, {\"'\": 'PUNCT'}, {',': 'PUNCT'}, {'\"': 'PUNCT'}, {',': 'PUNCT'}, {'\"': 'PUNCT'}, {\"'\": 'PUNCT'}, {'ELSE': 'ADV'}, {\"'\": 'NUM'}, {',': 'PUNCT'}, {'\"': 'PUNCT'}, {',': 'PUNCT'}, {'\"': 'PUNCT'}, {\"'\": 'PUNCT'}, {'NULL': 'VERB'}, {\"'\": 'PUNCT'}, {',': 'PUNCT'}, {'\"': 'PUNCT'}, {',': 'PUNCT'}, {'\"': 'PUNCT'}, {\"'\": 'PUNCT'}, {'END': 'PROPN'}, {\"'\": 'PUNCT'}, {']': 'PUNCT'}, {'\"': 'PUNCT'}, {']': 'PUNCT'}, {'[': 'X'}, {'\"': 'PUNCT'}, {'[': 'X'}, {\"'\": 'PUNCT'}, {'Petal': 'ADJ'}, {\"'\": 'PUNCT'}, {',': 'PUNCT'}, {'\"': 'PUNCT'}, {',': 'PUNCT'}, {'\"': 'PUNCT'}, {\"'\": 'PUNCT'}, {'Length': 'PROPN'}, {\"'\": 'PUNCT'}, {',': 'PUNCT'}, {'\"': 'PUNCT'}, {',': 'PUNCT'}, {'\"': 'PUNCT'}, {\"'\": 'PROPN'}, {'4': 'NUM'}, {\"'\": 'NUM'}, {',': 'PUNCT'}, {'\"': 'PUNCT'}, {',': 'PUNCT'}, {'\"': 'PUNCT'}, {\"'\": 'PUNCT'}, {'0': 'X'}, {\"'\": 'PUNCT'}, {',': 'PUNCT'}, {'\"': 'PUNCT'}, {',': 'PUNCT'}, {'\"': 'PUNCT'}, {\"'\": 'PUNCT'}, {'AND': 'CCONJ'}, {\"'\": 'NUM'}, {',': 'PUNCT'}, {'\"': 'PUNCT'}, {',': 'PUNCT'}, {'\"': 'PUNCT'}, {\"'\": 'PUNCT'}, {'Sepal': 'NOUN'}, {\"'\": 'PUNCT'}, {',': 'PUNCT'}, {'\"': 'PUNCT'}, {',': 'PUNCT'}, {'\"': 'PUNCT'}, {\"'\": 'PUNCT'}, {'Length': 'PROPN'}, {\"'\": 'PUNCT'}, {',': 'PUNCT'}, {'\"': 'PUNCT'}, {',': 'PUNCT'}, {'\"': 'PUNCT'}, {\"'\": 'PROPN'}, {'4': 'NUM'}, {\"'\": 'NUM'}, {',': 'PUNCT'}, {'\"': 'PUNCT'}, {',': 'PUNCT'}, {'\"': 'PUNCT'}, {\"'\": 'PUNCT'}, {'0': 'X'}, {\"'\": 'PUNCT'}, {']': 'PUNCT'}, {'\"': 'PUNCT'}, {']': 'PUNCT'}, {'[': 'X'}, {'\"': 'PUNCT'}, {'[': 'X'}, {\"'\": 'NOUN'}, {'RANK_PERCENTILE': 'AUX'}, {\"'\": 'PUNCT'}, {',': 'PUNCT'}, {'\"': 'PUNCT'}, {',': 'PUNCT'}, {'\"': 'PUNCT'}, {\"'\": 'PUNCT'}, {'Petal': 'ADJ'}, {\"'\": 'PUNCT'}, {',': 'PUNCT'}, {'\"': 'PUNCT'}, {',': 'PUNCT'}, {'\"': 'PUNCT'}, {\"'\": 'PUNCT'}, {'Width': 'PROPN'}, {\"'\": 'PUNCT'}, {',': 'PUNCT'}, {'\"': 'PUNCT'}, {',': 'PUNCT'}, {'\"': 'PUNCT'}, {\"'\": 'PUNCT'}, {'0': 'X'}, {\"'\": 'PUNCT'}, {',': 'PUNCT'}, {'\"': 'PUNCT'}, {',': 'PUNCT'}, {'\"': 'PUNCT'}, {\"'\": 'PROPN'}, {'1': 'X'}, {\"'\": 'NUM'}, {']': 'PUNCT'}, {'\"': 'PUNCT'}, {']': 'PUNCT'}, {'[': 'X'}, {'\"': 'PUNCT'}, {'[': 'X'}, {\"'\": 'VERB'}, {'SUM': 'NOUN'}, {\"'\": 'PUNCT'}, {',': 'PUNCT'}, {'\"': 'PUNCT'}, {',': 'PUNCT'}, {'\"': 'PUNCT'}, {\"'\": 'PUNCT'}, {'Sepal': 'NOUN'}, {\"'\": 'PUNCT'}, {',': 'PUNCT'}, {'\"': 'PUNCT'}, {',': 'PUNCT'}, {'\"': 'PUNCT'}, {\"'\": 'PUNCT'}, {'Length': 'X'}, {\"'\": 'PUNCT'}, {']': 'PUNCT'}, {'\"': 'PUNCT'}, {']': 'PUNCT'}, {'[': 'X'}, {'\"': 'PUNCT'}, {'[': 'X'}, {\"'\": 'X'}, {'AVG': 'PROPN'}, {\"'\": 'NUM'}, {',': 'PUNCT'}, {'\"': 'PUNCT'}, {',': 'PUNCT'}, {'\"': 'PUNCT'}, {\"'\": 'PUNCT'}, {'Petal': 'ADJ'}, {\"'\": 'PUNCT'}, {',': 'PUNCT'}, {'\"': 'PUNCT'}, {',': 'PUNCT'}, {'\"': 'PUNCT'}, {\"'\": 'PUNCT'}, {'Width': 'PROPN'}, {\"'\": 'PUNCT'}, {']': 'PUNCT'}, {'\"': 'PUNCT'}, {']': 'PUNCT'}, {'[': 'X'}, {'\"': 'PUNCT'}, {'[': 'X'}, {\"'\": 'VERB'}, {'FIXED': 'NOUN'}, {\"'\": 'PUNCT'}, {',': 'PUNCT'}, {'\"': 'PUNCT'}, {',': 'PUNCT'}, {'\"': 'PUNCT'}, {\"'\": 'PUNCT'}, {'Species': 'NOUN'}, {\"'\": 'PUNCT'}, {',': 'PUNCT'}, {'\"': 'PUNCT'}, {',': 'PUNCT'}, {'\"': 'PUNCT'}, {\"'\": 'PUNCT'}, {'setosa': 'VERB'}, {\"'\": 'PUNCT'}, {',': 'PUNCT'}, {'\"': 'PUNCT'}, {',': 'PUNCT'}, {'\"': 'PUNCT'}, {\"'\": 'PUNCT'}, {'MEDIAN': 'PROPN'}, {\"'\": 'PUNCT'}, {',': 'PUNCT'}, {'\"': 'PUNCT'}, {',': 'PUNCT'}, {'\"': 'PUNCT'}, {\"'\": 'PUNCT'}, {'Sepal': 'NOUN'}, {\"'\": 'PUNCT'}, {',': 'PUNCT'}, {'\"': 'PUNCT'}, {',': 'PUNCT'}, {'\"': 'PUNCT'}, {\"'\": 'PUNCT'}, {'Width': 'PROPN'}, {\"'\": 'PUNCT'}, {']': 'PUNCT'}, {'\"': 'PUNCT'}, {']': 'PUNCT'}, {'[': 'X'}, {'\"': 'PUNCT'}, {'[': 'X'}, {\"'\": 'VERB'}, {'SUM': 'NOUN'}, {\"'\": 'PUNCT'}, {',': 'PUNCT'}, {'\"': 'PUNCT'}, {',': 'PUNCT'}, {'\"': 'PUNCT'}, {\"'\": 'PUNCT'}, {'IF': 'SCONJ'}, {\"'\": 'NUM'}, {',': 'PUNCT'}, {'\"': 'PUNCT'}, {',': 'PUNCT'}, {'\"': 'PUNCT'}, {\"'\": 'PUNCT'}, {'Species': 'NOUN'}, {\"'\": 'PUNCT'}, {',': 'PUNCT'}, {'\"': 'PUNCT'}, {',': 'PUNCT'}, {'\"': 'PUNCT'}, {\"'\": 'PUNCT'}, {'versicolor': 'NOUN'}, {\"'\": 'PUNCT'}, {',': 'PUNCT'}, {'\"': 'PUNCT'}, {',': 'PUNCT'}, {'\"': 'PUNCT'}, {\"'\": 'PUNCT'}, {'THEN': 'ADV'}, {\"'\": 'NUM'}, {',': 'PUNCT'}, {'\"': 'PUNCT'}, {',': 'PUNCT'}, {'\"': 'PUNCT'}, {\"'\": 'PROPN'}, {'1': 'X'}, {\"'\": 'NUM'}, {',': 'PUNCT'}, {'\"': 'PUNCT'}, {',': 'PUNCT'}, {'\"': 'PUNCT'}, {\"'\": 'PUNCT'}, {'ELSE': 'ADV'}, {\"'\": 'NUM'}, {',': 'PUNCT'}, {'\"': 'PUNCT'}, {',': 'PUNCT'}, {'\"': 'PUNCT'}, {\"'\": 'PUNCT'}, {'0': 'X'}, {\"'\": 'PUNCT'}, {',': 'PUNCT'}, {'\"': 'PUNCT'}, {',': 'PUNCT'}, {'\"': 'PUNCT'}, {\"'\": 'PUNCT'}, {'END': 'PROPN'}, {\"'\": 'PUNCT'}, {']': 'PUNCT'}, {'\"': 'PUNCT'}, {']': 'PUNCT'}, {'[': 'X'}, {'\"': 'PUNCT'}, {'[': 'X'}, {\"'\": 'VERB'}, {'COUNTD': 'PROPN'}, {\"'\": 'PUNCT'}, {',': 'PUNCT'}, {'\"': 'PUNCT'}, {',': 'PUNCT'}, {'\"': 'PUNCT'}, {\"'\": 'PUNCT'}, {'IF': 'SCONJ'}, {\"'\": 'NUM'}, {',': 'PUNCT'}, {'\"': 'PUNCT'}, {',': 'PUNCT'}, {'\"': 'PUNCT'}, {\"'\": 'PUNCT'}, {'Sepal': 'NOUN'}, {\"'\": 'PUNCT'}, {',': 'PUNCT'}, {'\"': 'PUNCT'}, {',': 'PUNCT'}, {'\"': 'PUNCT'}, {\"'\": 'PUNCT'}, {'Length': 'PROPN'}, {\"'\": 'PUNCT'}, {',': 'PUNCT'}, {'\"': 'PUNCT'}, {',': 'PUNCT'}, {'\"': 'PUNCT'}, {\"'\": 'PROPN'}, {'5': 'NUM'}, {\"'\": 'NUM'}, {',': 'PUNCT'}, {'\"': 'PUNCT'}, {',': 'PUNCT'}, {'\"': 'PUNCT'}, {\"'\": 'PUNCT'}, {'0': 'X'}, {\"'\": 'PUNCT'}, {',': 'PUNCT'}, {'\"': 'PUNCT'}, {',': 'PUNCT'}, {'\"': 'PUNCT'}, {\"'\": 'PUNCT'}, {'THEN': 'ADV'}, {\"'\": 'NUM'}, {',': 'PUNCT'}, {'\"': 'PUNCT'}, {',': 'PUNCT'}, {'\"': 'PUNCT'}, {\"'\": 'PUNCT'}, {'Species': 'NOUN'}, {\"'\": 'PUNCT'}, {',': 'PUNCT'}, {'\"': 'PUNCT'}, {',': 'PUNCT'}, {'\"': 'PUNCT'}, {\"'\": 'PUNCT'}, {'ELSE': 'ADV'}, {\"'\": 'NUM'}, {',': 'PUNCT'}, {'\"': 'PUNCT'}, {',': 'PUNCT'}, {'\"': 'PUNCT'}, {\"'\": 'PUNCT'}, {'NULL': 'VERB'}, {\"'\": 'PUNCT'}, {',': 'PUNCT'}, {'\"': 'PUNCT'}, {',': 'PUNCT'}, {'\"': 'PUNCT'}, {\"'\": 'PUNCT'}, {'END': 'PROPN'}, {\"'\": 'PUNCT'}, {']': 'PUNCT'}, {'\"': 'PUNCT'}, {']': 'PUNCT'}, {'[': 'X'}, {'\"': 'PUNCT'}, {'[': 'X'}, {\"'\": 'VERB'}, {'FIXED': 'NOUN'}, {\"'\": 'PUNCT'}, {',': 'PUNCT'}, {'\"': 'PUNCT'}, {',': 'PUNCT'}, {'\"': 'PUNCT'}, {\"'\": 'PUNCT'}, {'Species': 'NOUN'}, {\"'\": 'PUNCT'}, {',': 'PUNCT'}, {'\"': 'PUNCT'}, {',': 'PUNCT'}, {'\"': 'PUNCT'}, {\"'\": 'PUNCT'}, {'virginica': 'X'}, {\"'\": 'PUNCT'}, {',': 'PUNCT'}, {'\"': 'PUNCT'}, {',': 'PUNCT'}, {'\"': 'PUNCT'}, {\"'\": 'PUNCT'}, {'MIN': 'PROPN'}, {\"'\": 'PROPN'}, {',': 'PUNCT'}, {'\"': 'PUNCT'}, {',': 'PUNCT'}, {'\"': 'PUNCT'}, {\"'\": 'PUNCT'}, {'Petal': 'ADJ'}, {\"'\": 'PUNCT'}, {',': 'PUNCT'}, {'\"': 'PUNCT'}, {',': 'PUNCT'}, {'\"': 'PUNCT'}, {\"'\": 'PUNCT'}, {'Length': 'X'}, {\"'\": 'PUNCT'}, {']': 'PUNCT'}, {'\"': 'PUNCT'}, {']': 'PUNCT'}, {'[': 'X'}, {'\"': 'PUNCT'}, {'[': 'X'}, {\"'\": 'VERB'}, {'FIXED': 'NOUN'}, {\"'\": 'PUNCT'}, {',': 'PUNCT'}, {'\"': 'PUNCT'}, {',': 'PUNCT'}, {'\"': 'PUNCT'}, {\"'\": 'PUNCT'}, {'Species': 'NOUN'}, {\"'\": 'PUNCT'}, {',': 'PUNCT'}, {'\"': 'PUNCT'}, {',': 'PUNCT'}, {'\"': 'PUNCT'}, {\"'\": 'PUNCT'}, {'setosa': 'VERB'}, {\"'\": 'PUNCT'}, {',': 'PUNCT'}, {'\"': 'PUNCT'}, {',': 'PUNCT'}, {'\"': 'PUNCT'}, {\"'\": 'PUNCT'}, {'MAX': 'PROPN'}, {\"'\": 'PUNCT'}, {',': 'PUNCT'}, {'\"': 'PUNCT'}, {',': 'PUNCT'}, {'\"': 'PUNCT'}, {\"'\": 'PUNCT'}, {'Sepal': 'NOUN'}, {\"'\": 'PUNCT'}, {',': 'PUNCT'}, {'\"': 'PUNCT'}, {',': 'PUNCT'}, {'\"': 'PUNCT'}, {\"'\": 'PUNCT'}, {'Width': 'PROPN'}, {\"'\": 'PUNCT'}, {']': 'PUNCT'}, {'\"': 'PUNCT'}, {']': 'PUNCT'}, {'[': 'X'}, {'\"': 'PUNCT'}, {'[': 'X'}, {\"'\": 'PUNCT'}, {'SORTED': 'ADJ'}, {\"'\": 'PUNCT'}, {',': 'PUNCT'}, {'\"': 'PUNCT'}, {',': 'PUNCT'}, {'\"': 'PUNCT'}, {\"'\": 'PUNCT'}, {'BY': 'ADP'}, {\"'\": 'NUM'}, {',': 'PUNCT'}, {'\"': 'PUNCT'}, {',': 'PUNCT'}, {'\"': 'PUNCT'}, {\"'\": 'PUNCT'}, {'Species': 'NOUN'}, {\"'\": 'PUNCT'}, {',': 'PUNCT'}, {'\"': 'PUNCT'}, {',': 'PUNCT'}, {'\"': 'PUNCT'}, {\"'\": 'PUNCT'}, {'alphabetically': 'ADV'}, {\"'\": 'VERB'}, {',': 'PUNCT'}, {'\"': 'PUNCT'}, {',': 'PUNCT'}, {'\"': 'PUNCT'}, {\"'\": 'PUNCT'}, {'COUNT': 'PROPN'}, {\"'\": 'PUNCT'}, {',': 'PUNCT'}, {'\"': 'PUNCT'}, {',': 'PUNCT'}, {'\"': 'PUNCT'}, {\"'\": 'PUNCT'}, {'Species': 'NOUN'}, {\"'\": 'PUNCT'}, {',': 'PUNCT'}, {'\"': 'PUNCT'}, {',': 'PUNCT'}, {'\"': 'PUNCT'}, {\"'\": 'PUNCT'}, {'GROUP': 'PROPN'}, {\"'\": 'PUNCT'}, {',': 'PUNCT'}, {'\"': 'PUNCT'}, {',': 'PUNCT'}, {'\"': 'PUNCT'}, {\"'\": 'PUNCT'}, {'BY': 'ADP'}, {\"'\": 'NUM'}, {',': 'PUNCT'}, {'\"': 'PUNCT'}, {',': 'PUNCT'}, {'\"': 'PUNCT'}, {\"'\": 'PUNCT'}, {'Species': 'NOUN'}, {\"'\": 'PUNCT'}, {',': 'PUNCT'}, {'\"': 'PUNCT'}, {',': 'PUNCT'}, {'\"': 'PUNCT'}, {\"'\": 'PUNCT'}, {'ORDER': 'NOUN'}, {\"'\": 'PUNCT'}, {',': 'PUNCT'}, {'\"': 'PUNCT'}, {',': 'PUNCT'}, {'\"': 'PUNCT'}, {\"'\": 'PUNCT'}, {'BY': 'ADP'}, {\"'\": 'NUM'}, {',': 'PUNCT'}, {'\"': 'PUNCT'}, {',': 'PUNCT'}, {'\"': 'PUNCT'}, {\"'\": 'PUNCT'}, {'Species': 'NOUN'}, {\"'\": 'PUNCT'}, {',': 'PUNCT'}, {'\"': 'PUNCT'}, {',': 'PUNCT'}, {'\"': 'PUNCT'}, {\"'\": 'PUNCT'}, {'ASC': 'PROPN'}, {\"'\": 'PUNCT'}, {']': 'PUNCT'}, {'\"': 'PUNCT'}, {']': 'PUNCT'}, {'[': 'X'}, {'\"': 'PUNCT'}, {'[': 'X'}, {\"'\": 'X'}, {'Species': 'NOUN'}, {\"'\": 'PUNCT'}, {',': 'PUNCT'}, {'\"': 'PUNCT'}, {',': 'PUNCT'}, {'\"': 'PUNCT'}, {\"'\": 'PUNCT'}, {'versicolor': 'NOUN'}, {\"'\": 'PUNCT'}, {',': 'PUNCT'}, {'\"': 'PUNCT'}, {',': 'PUNCT'}, {'\"': 'PUNCT'}, {\"'\": 'PUNCT'}, {'AND': 'CCONJ'}, {\"'\": 'NUM'}, {',': 'PUNCT'}, {'\"': 'PUNCT'}, {',': 'PUNCT'}, {'\"': 'PUNCT'}, {\"'\": 'PUNCT'}, {'Sepal': 'NOUN'}, {\"'\": 'PUNCT'}, {',': 'PUNCT'}, {'\"': 'PUNCT'}, {',': 'PUNCT'}, {'\"': 'PUNCT'}, {\"'\": 'PUNCT'}, {'Width': 'PROPN'}, {\"'\": 'PUNCT'}, {',': 'PUNCT'}, {'\"': 'PUNCT'}, {',': 'PUNCT'}, {'\"': 'PUNCT'}, {\"'\": 'PROPN'}, {'3': 'NUM'}, {\"'\": 'NUM'}, {',': 'PUNCT'}, {'\"': 'PUNCT'}, {',': 'PUNCT'}, {'\"': 'PUNCT'}, {\"'\": 'PUNCT'}, {'0': 'X'}, {\"'\": 'PUNCT'}, {']': 'PUNCT'}, {'\"': 'PUNCT'}, {']': 'PUNCT'}, {'[': 'X'}, {'\"': 'PUNCT'}, {'[': 'X'}, {\"'\": 'PUNCT'}, {'RANK': 'VERB'}, {\"'\": 'PUNCT'}, {',': 'PUNCT'}, {'\"': 'PUNCT'}, {',': 'PUNCT'}, {'\"': 'PUNCT'}, {\"'\": 'PUNCT'}, {'Sepal': 'NOUN'}, {\"'\": 'PUNCT'}, {',': 'PUNCT'}, {'\"': 'PUNCT'}, {',': 'PUNCT'}, {'\"': 'PUNCT'}, {\"'\": 'PUNCT'}, {'Length': 'PROPN'}, {\"'\": 'PUNCT'}, {',': 'PUNCT'}, {'\"': 'PUNCT'}, {',': 'PUNCT'}, {'\"': 'PUNCT'}, {\"'\": 'PROPN'}, {'5': 'NUM'}, {\"'\": 'NUM'}, {',': 'PUNCT'}, {'\"': 'PUNCT'}, {',': 'PUNCT'}, {'\"': 'PUNCT'}, {\"'\": 'PUNCT'}, {'AND': 'CCONJ'}, {\"'\": 'NUM'}, {',': 'PUNCT'}, {'\"': 'PUNCT'}, {',': 'PUNCT'}, {'\"': 'PUNCT'}, {\"'\": 'PUNCT'}, {'Species': 'NOUN'}, {\"'\": 'PUNCT'}, {',': 'PUNCT'}, {'\"': 'PUNCT'}, {',': 'PUNCT'}, {'\"': 'PUNCT'}, {\"'\": 'PUNCT'}, {'virginica': 'X'}, {\"'\": 'PUNCT'}, {']': 'PUNCT'}, {'\"': 'PUNCT'}, {']': 'PUNCT'}, {'[': 'X'}, {'\"': 'PUNCT'}, {'[': 'X'}, {\"'\": 'NOUN'}, {'RANK_PERCENTILE': 'AUX'}, {\"'\": 'PUNCT'}, {',': 'PUNCT'}, {'\"': 'PUNCT'}, {',': 'PUNCT'}, {'\"': 'PUNCT'}, {\"'\": 'PUNCT'}, {'Petal': 'ADJ'}, {\"'\": 'PUNCT'}, {',': 'PUNCT'}, {'\"': 'PUNCT'}, {',': 'PUNCT'}, {'\"': 'PUNCT'}, {\"'\": 'PUNCT'}, {'Width': 'PROPN'}, {\"'\": 'PUNCT'}, {',': 'PUNCT'}, {'\"': 'PUNCT'}, {',': 'PUNCT'}, {'\"': 'PUNCT'}, {\"'\": 'PUNCT'}, {'0': 'X'}, {\"'\": 'PUNCT'}, {',': 'PUNCT'}, {'\"': 'PUNCT'}, {',': 'PUNCT'}, {'\"': 'PUNCT'}, {\"'\": 'PUNCT'}, {'9': 'NUM'}, {\"'\": 'PUNCT'}, {']': 'PUNCT'}, {'\"': 'PUNCT'}, {']': 'PUNCT'}, {'[': 'X'}, {'\"': 'PUNCT'}, {'[': 'X'}, {\"'\": 'PUNCT'}, {'LISTED': 'VERB'}, {\"'\": 'PUNCT'}, {',': 'PUNCT'}, {'\"': 'PUNCT'}, {',': 'PUNCT'}, {'\"': 'PUNCT'}, {\"'\": 'PUNCT'}, {'FROM': 'ADP'}, {\"'\": 'NUM'}, {',': 'PUNCT'}, {'\"': 'PUNCT'}, {',': 'PUNCT'}, {'\"': 'PUNCT'}, {\"'\": 'PUNCT'}, {'highest': 'ADJ'}, {\"'\": 'PUNCT'}, {',': 'PUNCT'}, {'\"': 'PUNCT'}, {',': 'PUNCT'}, {'\"': 'PUNCT'}, {\"'\": 'PUNCT'}, {'to': 'PART'}, {\"'\": 'NUM'}, {',': 'PUNCT'}, {'\"': 'PUNCT'}, {',': 'PUNCT'}, {'\"': 'PUNCT'}, {\"'\": 'PUNCT'}, {'lowest': 'ADJ'}, {\"'\": 'PUNCT'}, {',': 'PUNCT'}, {'\"': 'PUNCT'}, {',': 'PUNCT'}, {'\"': 'PUNCT'}, {\"'\": 'PUNCT'}, {'AVG': 'PROPN'}, {\"'\": 'PUNCT'}, {',': 'PUNCT'}, {'\"': 'PUNCT'}, {',': 'PUNCT'}, {'\"': 'PUNCT'}, {\"'\": 'PUNCT'}, {'Sepal': 'NOUN'}, {\"'\": 'PUNCT'}, {',': 'PUNCT'}, {'\"': 'PUNCT'}, {',': 'PUNCT'}, {'\"': 'PUNCT'}, {\"'\": 'PUNCT'}, {'Length': 'PROPN'}, {\"'\": 'PUNCT'}, {',': 'PUNCT'}, {'\"': 'PUNCT'}, {',': 'PUNCT'}, {'\"': 'PUNCT'}, {\"'\": 'PUNCT'}, {'GROUP': 'PROPN'}, {\"'\": 'PUNCT'}, {',': 'PUNCT'}, {'\"': 'PUNCT'}, {',': 'PUNCT'}, {'\"': 'PUNCT'}, {\"'\": 'PUNCT'}, {'BY': 'ADP'}, {\"'\": 'NUM'}, {',': 'PUNCT'}, {'\"': 'PUNCT'}, {',': 'PUNCT'}, {'\"': 'PUNCT'}, {\"'\": 'PUNCT'}, {'Species': 'NOUN'}, {\"'\": 'PUNCT'}, {',': 'PUNCT'}, {'\"': 'PUNCT'}, {',': 'PUNCT'}, {'\"': 'PUNCT'}, {\"'\": 'PUNCT'}, {'ORDER': 'NOUN'}, {\"'\": 'PUNCT'}, {',': 'PUNCT'}, {'\"': 'PUNCT'}, {',': 'PUNCT'}, {'\"': 'PUNCT'}, {\"'\": 'PUNCT'}, {'BY': 'ADP'}, {\"'\": 'NUM'}, {',': 'PUNCT'}, {'\"': 'PUNCT'}, {',': 'PUNCT'}, {'\"': 'PUNCT'}, {\"'\": 'PUNCT'}, {'AVG': 'PROPN'}, {\"'\": 'PUNCT'}, {',': 'PUNCT'}, {'\"': 'PUNCT'}, {',': 'PUNCT'}, {'\"': 'PUNCT'}, {\"'\": 'PUNCT'}, {'Sepal': 'NOUN'}, {\"'\": 'PUNCT'}, {',': 'PUNCT'}, {'\"': 'PUNCT'}, {',': 'PUNCT'}, {'\"': 'PUNCT'}, {\"'\": 'PUNCT'}, {'Length': 'PROPN'}, {\"'\": 'PUNCT'}, {',': 'PUNCT'}, {'\"': 'PUNCT'}, {',': 'PUNCT'}, {'\"': 'PUNCT'}, {\"'\": 'PUNCT'}, {'DESC': 'VERB'}, {\"'\": 'PUNCT'}, {']': 'PUNCT'}, {'\"': 'PUNCT'}, {']': 'PUNCT'}, {'[': 'X'}, {'\"': 'PUNCT'}, {'[': 'X'}, {\"'\": 'X'}, {'Species': 'NOUN'}, {\"'\": 'PUNCT'}, {',': 'PUNCT'}, {'\"': 'PUNCT'}, {',': 'PUNCT'}, {'\"': 'PUNCT'}, {\"'\": 'PUNCT'}, {'setosa': 'VERB'}, {\"'\": 'PUNCT'}, {',': 'PUNCT'}, {'\"': 'PUNCT'}, {',': 'PUNCT'}, {'\"': 'PUNCT'}, {\"'\": 'PUNCT'}, {'AND': 'CCONJ'}, {\"'\": 'NUM'}, {',': 'PUNCT'}, {'\"': 'PUNCT'}, {',': 'PUNCT'}, {'\"': 'PUNCT'}, {\"'\": 'PUNCT'}, {'Petal': 'ADJ'}, {\"'\": 'PUNCT'}, {',': 'PUNCT'}, {'\"': 'PUNCT'}, {',': 'PUNCT'}, {'\"': 'PUNCT'}, {\"'\": 'PUNCT'}, {'Length': 'PROPN'}, {\"'\": 'PUNCT'}, {',': 'PUNCT'}, {'\"': 'PUNCT'}, {',': 'PUNCT'}, {'\"': 'PUNCT'}, {\"'\": 'PUNCT'}, {'BETWEEN': 'ADP'}, {\"'\": 'PUNCT'}, {',': 'PUNCT'}, {'\"': 'PUNCT'}, {',': 'PUNCT'}, {'\"': 'PUNCT'}, {\"'\": 'PROPN'}, {'4': 'NUM'}, {\"'\": 'NUM'}, {',': 'PUNCT'}, {'\"': 'PUNCT'}, {',': 'PUNCT'}, {'\"': 'PUNCT'}, {\"'\": 'PUNCT'}, {'0': 'X'}, {\"'\": 'PUNCT'}, {',': 'PUNCT'}, {'\"': 'PUNCT'}, {',': 'PUNCT'}, {'\"': 'PUNCT'}, {\"'\": 'PUNCT'}, {'AND': 'CCONJ'}, {\"'\": 'NUM'}, {',': 'PUNCT'}, {'\"': 'PUNCT'}, {',': 'PUNCT'}, {'\"': 'PUNCT'}, {\"'\": 'PROPN'}, {'5': 'NUM'}, {\"'\": 'NUM'}, {',': 'PUNCT'}, {'\"': 'PUNCT'}, {',': 'PUNCT'}, {'\"': 'PUNCT'}, {\"'\": 'PUNCT'}, {'0': 'X'}, {\"'\": 'PUNCT'}, {']': 'PUNCT'}, {'\"': 'PUNCT'}, {']': 'PUNCT'}, {'[': 'X'}, {'\"': 'PUNCT'}, {'[': 'X'}, {\"'\": 'VERB'}, {'SUM': 'NOUN'}, {\"'\": 'PUNCT'}, {',': 'PUNCT'}, {'\"': 'PUNCT'}, {',': 'PUNCT'}, {'\"': 'PUNCT'}, {\"'\": 'PUNCT'}, {'IF': 'SCONJ'}, {\"'\": 'NUM'}, {',': 'PUNCT'}, {'\"': 'PUNCT'}, {',': 'PUNCT'}, {'\"': 'PUNCT'}, {\"'\": 'PUNCT'}, {'CONTAINS': 'VERB'}, {\"'\": 'PUNCT'}, {',': 'PUNCT'}, {'\"': 'PUNCT'}, {',': 'PUNCT'}, {'\"': 'PUNCT'}, {\"'\": 'PUNCT'}, {'Species': 'NOUN'}, {\"'\": 'PUNCT'}, {',': 'PUNCT'}, {'\"': 'PUNCT'}, {',': 'PUNCT'}, {'\"': 'PUNCT'}, {\"'\": 'PUNCT'}, {'color': 'VERB'}, {\"'\": 'PUNCT'}, {',': 'PUNCT'}, {'\"': 'PUNCT'}, {',': 'PUNCT'}, {'\"': 'PUNCT'}, {\"'\": 'PUNCT'}, {'THEN': 'ADV'}, {\"'\": 'NUM'}, {',': 'PUNCT'}, {'\"': 'PUNCT'}, {',': 'PUNCT'}, {'\"': 'PUNCT'}, {\"'\": 'PROPN'}, {'1': 'X'}, {\"'\": 'NUM'}, {',': 'PUNCT'}, {'\"': 'PUNCT'}, {',': 'PUNCT'}, {'\"': 'PUNCT'}, {\"'\": 'PUNCT'}, {'ELSE': 'ADV'}, {\"'\": 'NUM'}, {',': 'PUNCT'}, {'\"': 'PUNCT'}, {',': 'PUNCT'}, {'\"': 'PUNCT'}, {\"'\": 'PUNCT'}, {'0': 'X'}, {\"'\": 'PUNCT'}, {',': 'PUNCT'}, {'\"': 'PUNCT'}, {',': 'PUNCT'}, {'\"': 'PUNCT'}, {\"'\": 'PUNCT'}, {'END': 'PROPN'}, {\"'\": 'PUNCT'}, {']': 'PUNCT'}, {'\"': 'PUNCT'}, {']': 'PUNCT'}, {'[': 'X'}, {'\"': 'PUNCT'}, {'[': 'X'}, {\"'\": 'PUNCT'}, {'STARTSWITH': 'VERB'}, {\"'\": 'PUNCT'}, {',': 'PUNCT'}, {'\"': 'PUNCT'}, {',': 'PUNCT'}, {'\"': 'PUNCT'}, {\"'\": 'PUNCT'}, {'Species': 'NOUN'}, {\"'\": 'PUNCT'}, {',': 'PUNCT'}, {'\"': 'PUNCT'}, {',': 'PUNCT'}, {'\"': 'PUNCT'}, {\"'\": 'PUNCT'}, {'Iri': 'PROPN'}, {\"'\": 'PROPN'}, {',': 'PUNCT'}, {'\"': 'PUNCT'}, {',': 'PUNCT'}, {'\"': 'PUNCT'}, {\"'\": 'PUNCT'}, {'AND': 'CCONJ'}, {\"'\": 'NUM'}, {',': 'PUNCT'}, {'\"': 'PUNCT'}, {',': 'PUNCT'}, {'\"': 'PUNCT'}, {\"'\": 'PUNCT'}, {'ENDSWITH': 'VERB'}, {\"'\": 'PUNCT'}, {',': 'PUNCT'}, {'\"': 'PUNCT'}, {',': 'PUNCT'}, {'\"': 'PUNCT'}, {\"'\": 'PUNCT'}, {'Species': 'NOUN'}, {\"'\": 'PUNCT'}, {',': 'PUNCT'}, {'\"': 'PUNCT'}, {',': 'PUNCT'}, {'\"': 'PUNCT'}, {\"'\": 'PUNCT'}, {'a': 'DET'}, {\"'\": 'PUNCT'}, {']': 'PUNCT'}, {'\"': 'PUNCT'}, {']': 'PUNCT'}]\n",
            "Tokenized Formula (Tableau) : ['X', 'ADJ', 'VERB', 'PART', 'NOUN', 'AUX', 'DET', 'NUM', 'CCONJ', 'ADP', 'ADV', 'PROPN', 'SCONJ', 'PUNCT']\n"
          ]
        }
      ]
    },
    {
      "cell_type": "code",
      "source": [
        "for pat in p_t:\n",
        "   print({pat:p_t[pat]})"
      ],
      "metadata": {
        "id": "93RbAmlOfYAj",
        "colab": {
          "base_uri": "https://localhost:8080/"
        },
        "outputId": "f59ba36f-8036-4cd5-ea23-3c243f03aa3c"
      },
      "execution_count": 117,
      "outputs": [
        {
          "output_type": "stream",
          "name": "stdout",
          "text": [
            "{'X': ['1', 'ica', '2', '[', 'virginica', 'Length', '0', \"'\"]}\n",
            "{'ADJ': ['SORTED', 'highest', 'lowest', 'Petal']}\n",
            "{'VERB': ['CONTAINS', 'DESC', 'Date', 'setosa', 'NULL', 'ENDSWITH', 'LISTED', 'STARTSWITH', 'RANK', 'color', 'DISTINCT', 'SUM', \"'\"]}\n",
            "{'PART': ['to']}\n",
            "{'NOUN': ['year', 'Species', 'YEAR', 'month', \"'\", 'Date', 'ORDER', 'ENDSWITH', 'Sepal', 'FIXED', 'C', 'SUM', 'TODAY', 'versicolor']}\n",
            "{'AUX': ['RANK_PERCENTILE']}\n",
            "{'DET': ['a']}\n",
            "{'NUM': ['9', '4', 'TOP', '3', '5', \"'\"]}\n",
            "{'CCONJ': ['AND']}\n",
            "{'ADP': ['FROM', 'BETWEEN', 'BY', 'WITH']}\n",
            "{'ADV': ['SORT', 'ELSE', 'alphabetically', 'THEN']}\n",
            "{'PROPN': ['COUNTD', 'MAX', 'ASC', 'MEDIAN', 'Length', 'DATETRUNC', 'Width', 'STARTS', 'INDEX', 'Iri', \"'\", 'AVG', 'LEFT', 'END', 'Setosa', 'Species', 'Date', 'MIN', 'GROUP', 'Se', 'COUNT']}\n",
            "{'SCONJ': ['IF']}\n",
            "{'PUNCT': [']', '\"', ',', \"'\"]}\n"
          ]
        }
      ]
    },
    {
      "cell_type": "markdown",
      "source": [
        "#Tutorial of sPacy"
      ],
      "metadata": {
        "id": "bEmvyYQczVRv"
      }
    },
    {
      "cell_type": "code",
      "source": [
        "text=\"Sum of Sepal Length SUM (Sepal Length)\"\n",
        "doc=nlp(text)\n",
        "for token in doc.ents:\n",
        "   print(token.text, token.label_,token.start_char,token.end_char, token.start, token.ent_id_, token.label, token.vector_norm)\n",
        "#for token in doc:\n",
        "#   print(token.text, token.lemma_, token.pos_, token.tag_, token.dep_,\n",
        "#           token.shape_, token.is_alpha, token.is_stop,token.ent_iob_, token.ent_type_)"
      ],
      "metadata": {
        "id": "kdNbs5H_JgNX",
        "colab": {
          "base_uri": "https://localhost:8080/"
        },
        "outputId": "a6a93bb4-3959-43db-b70b-4c41bb68150f"
      },
      "execution_count": 118,
      "outputs": [
        {
          "output_type": "stream",
          "name": "stdout",
          "text": [
            "Sepal Length PERSON 25 37 6  380 7.3880568\n"
          ]
        }
      ]
    },
    {
      "cell_type": "code",
      "source": [
        "# Create a span for the new entity\n",
        "fb_ent = span.Span(doc, 0, 1, label=\"ORG\")\n",
        "orig_ents = list(doc.ents)"
      ],
      "metadata": {
        "id": "IsZd6FG1c2MK"
      },
      "execution_count": 119,
      "outputs": []
    },
    {
      "cell_type": "code",
      "source": [
        "# Option 2: Assign a complete list of ents to doc.ents\n",
        "doc.ents = orig_ents + [fb_ent]"
      ],
      "metadata": {
        "id": "ZawqANFfc65b"
      },
      "execution_count": 120,
      "outputs": []
    },
    {
      "cell_type": "code",
      "source": [
        "# Add special case rule\n",
        "from spacy.symbols import ORTH\n",
        "special_case = [{ORTH: \"gim\"}, {ORTH: \"me\"}]\n",
        "nlp.tokenizer.add_special_case(\"gimme\", special_case)\n"
      ],
      "metadata": {
        "id": "DdBa8FB7eEak"
      },
      "execution_count": 121,
      "outputs": []
    },
    {
      "cell_type": "markdown",
      "source": [],
      "metadata": {
        "id": "9gDlFJa1MODA"
      }
    },
    {
      "cell_type": "code",
      "source": [
        "# Tokenization and POS tagging result\n",
        "tokens = [(\"Sum\", \"VERB\"), (\"of\", \"ADP\"), (\"Sepal\", \"NOUN\"), (\"Length\", \"NOUN\")]\n",
        "# Example mappings based on POS tagging results\n",
        "operation_mapping = {\"VERB\": {\"Sum\": \"SUM\", \"Average\": \"AVG\", \"Count\": \"COUNT\"}}\n",
        "field_mapping = {\"NOUN\": [\"Sepal Length\", \"Sepal Width\", \"Petal Length\", \"Petal Width\",\"Species\"]}\n"
      ],
      "metadata": {
        "id": "j6MV0tIHMOt_"
      },
      "execution_count": 122,
      "outputs": []
    },
    {
      "cell_type": "markdown",
      "source": [
        "#Template of Training data"
      ],
      "metadata": {
        "id": "PcqUmTL3VV3j"
      }
    },
    {
      "cell_type": "code",
      "source": [
        "TRAIN_DATA = []\n",
        "\n",
        "#for example in your_extracted_data: # see example above entities = []\n",
        "\n",
        "#for entity in example['data']:  # iterate over the entities\n",
        "\n",
        "\n",
        "#    text, label, start, end = entity  # ('want', '@command', 2, 6)\n",
        "\n",
        "#    label = label.split('@')[1].upper()  # not necessary, but nicer\n",
        "\n",
        "#    end = end - 1  # correct the end character index\n",
        "\n",
        "#    entities.append((start, end, label))\n",
        "\n",
        "# add training example of (text, annotations) tuple\n",
        "\n",
        "#TRAIN_DATA.append((example['sentence'], {'entities': entities}))"
      ],
      "metadata": {
        "id": "2hqdsZu_TvWV"
      },
      "execution_count": 123,
      "outputs": []
    },
    {
      "cell_type": "markdown",
      "source": [
        "This should give you training data that looks like this:"
      ],
      "metadata": {
        "id": "rO9OYX_jVJr9"
      }
    },
    {
      "cell_type": "code",
      "source": [
        "\n",
        "\n",
        "[ ('I want apples', {'entities': [(2, 5, 'COMMAND'), (7, 12, 'FRUIT')]}) ]"
      ],
      "metadata": {
        "id": "1YPE7cUHU9Xu",
        "colab": {
          "base_uri": "https://localhost:8080/"
        },
        "outputId": "4a1a77da-5e79-4731-9121-cfeae98798a9"
      },
      "execution_count": 124,
      "outputs": [
        {
          "output_type": "execute_result",
          "data": {
            "text/plain": [
              "[('I want apples', {'entities': [(2, 5, 'COMMAND'), (7, 12, 'FRUIT')]})]"
            ]
          },
          "metadata": {},
          "execution_count": 124
        }
      ]
    },
    {
      "cell_type": "markdown",
      "source": [
        "# DEFINE ENTITY RULER BEFORE NER\n",
        "\n",
        "One potential difficulty in your example is that it's not very close to natural language. The pre-trained English models were trained on ~2m words of general web and news text, so they're not always going to perform perfect out-of-the-box on text with a very different structure.\n",
        "\n",
        "While you could update the model with more examples of QUANTITY in your specific texts, I think that a rule-based approach might actually be a better and more efficient solution here.\n",
        "\n",
        "The example in this blog post is actually very close to what you're trying to do:\n",
        "\n",
        "import spacy\n",
        "\n",
        "from spacy.pipeline import EntityRuler\n",
        "\n",
        "nlp = spacy.load(\"en_core_web_sm\")\n",
        "\n",
        "weights_pattern = [\n",
        "    {\"LIKE_NUM\": True},\n",
        "\n",
        "    {\"LOWER\": {\"IN\": [\"g\", \"kg\", \"grams\", \"kilograms\", \"lb\", \"lbs\", \"pounds\"]}}\n",
        "]\n",
        "patterns = [{\"label\": \"QUANTITY\", \"pattern\": weights_pattern}]\n",
        "\n",
        "ruler = EntityRuler(nlp, patterns=patterns)\n",
        "\n",
        "nlp.add_pipe(ruler, before=\"ner\")\n",
        "\n",
        "doc = nlp(\"U.S. average was 2 lbs.\")\n",
        "\n",
        "print([(ent.text, ent.label_) for ent in doc.ents])\n",
        "\n",
        " [('U.S.', 'GPE'), ('2 lbs', 'QUANTITY')]\n",
        "\n",
        "The statistical named entity recognizer respects pre-defined entities and wil \"predict around\" them. So if you're adding the EntityRuler before it in the pipeline, your custom QUANTITY entities will be assigned first and will be taken into account when the entity recognizer predicts labels for the remaining tokens.\n",
        "\n",
        "Note that this example is using the latest version of spaCy, v2.1.x. You might also want to add more patterns to cover different constructions. For more details and inspiration, check out the documentation on the EntityRuler, combining models and rules and the token match pattern syntax."
      ],
      "metadata": {
        "id": "pmuDiKcziflt"
      }
    },
    {
      "cell_type": "code",
      "source": [
        "import spacy\n",
        "\n",
        "from spacy.pipeline import EntityRuler\n",
        "\n",
        "nlp = spacy.load(\"en_core_web_sm\")\n",
        "\n",
        "weights_pattern = [ {\"LIKE_NUM\": True},\n",
        "{\"LOWER\":{\"IN\":[\"g\",\"kg\",\"grams\",\"kilograms\",\"lb\"\n",
        ",\"lbs\",\"pounds\"]}}]\n",
        "\n",
        "patterns = [{\"label\": \"QUANTITY\", \"pattern\": weights_pattern}]\n",
        "\n",
        "ruler = EntityRuler(nlp, patterns=patterns,overwrite_ents=True)\n",
        "\n",
        "ruler.name=\"entity_ruler\"\n",
        "nlp.add_pipe(\"entity_ruler\", before=\"ner\")\n",
        "\n",
        "doc = nlp(\"U.S. average was 2 lbs .\")\n",
        "\n",
        "print([(ent.text, ent.label_) for ent in doc.ents])"
      ],
      "metadata": {
        "id": "RZ287G19ZQVV",
        "colab": {
          "base_uri": "https://localhost:8080/"
        },
        "outputId": "4ae10244-7ce6-40e2-d212-9ae481bd2bea"
      },
      "execution_count": 125,
      "outputs": [
        {
          "output_type": "stream",
          "name": "stdout",
          "text": [
            "[('U.S.', 'GPE'), ('2', 'CARDINAL')]\n"
          ]
        },
        {
          "output_type": "stream",
          "name": "stderr",
          "text": [
            "/usr/local/lib/python3.10/dist-packages/spacy/pipeline/entityruler.py:405: UserWarning: [W036] The component 'entity_ruler' does not have any patterns defined.\n",
            "  warnings.warn(Warnings.W036.format(name=self.name))\n"
          ]
        }
      ]
    },
    {
      "cell_type": "code",
      "source": [
        "import spacy\n",
        "from spacy.pipeline import EntityRuler\n",
        "\n",
        "nlp = spacy.load('en_core_web_sm', disable=['ner'])\n",
        "\n",
        "\n",
        "patterns=[]\n",
        "flower_patterns = [{\"label\": \"FLOWER\", \"pattern\": flower} for flower in [\"rose\", \"tulip\", \"african daisy\"]]\n",
        "patterns.extend(flower_patterns)\n",
        "\n",
        "# Initialize the EntityRuler for animals\n",
        "animal_patterns = [{\"label\": \"ANIMAL\", \"pattern\": animal} for animal in [\"cat\", \"dog\", \"artic fox\"]]\n",
        "patterns.extend(animal_patterns)\n",
        "\n",
        "# Initialize the EntityRuler and add the combined patterns\n",
        "ruler = EntityRuler(nlp, patterns=patterns,overwrite_ents=True)\n",
        "#ruler = EntityRuler(nlp, overwrite_ents=True)\n",
        "#ruler.add_patterns(patterns)\n",
        "\n",
        "# Add the EntityRuler to the pipeline with a unique name\n",
        "ruler.name=\"entity_ruler\"\n",
        "nlp.add_pipe(\"entity_ruler\", before=\"ner\")\n",
        "\n",
        "# Example usage\n",
        "doc = nlp(\"I saw a rose and a cat.\")\n",
        "for ent in doc.ents:\n",
        "    print(ent.text, ent.label_)\n"
      ],
      "metadata": {
        "id": "JcRcizu0-jXv",
        "colab": {
          "base_uri": "https://localhost:8080/"
        },
        "outputId": "ffd377d7-a6dc-439a-b34e-6d155f73ed4d"
      },
      "execution_count": 126,
      "outputs": [
        {
          "output_type": "stream",
          "name": "stderr",
          "text": [
            "/usr/local/lib/python3.10/dist-packages/spacy/pipeline/entityruler.py:405: UserWarning: [W036] The component 'entity_ruler' does not have any patterns defined.\n",
            "  warnings.warn(Warnings.W036.format(name=self.name))\n"
          ]
        }
      ]
    },
    {
      "cell_type": "code",
      "source": [
        "import spacy\n",
        "from spacy.pipeline import EntityRuler\n",
        "\n",
        "nlp = spacy.load('en_core_web_sm', disable=['ner'])\n",
        "\n",
        "# Initialize the EntityRuler\n",
        "ruler = EntityRuler(nlp, overwrite_ents=True)\n",
        "\n",
        "# Define patterns\n",
        "flower_patterns = [{\"label\": \"FLOWER\", \"pattern\": flower} for flower in [\"rose\", \"tulip\", \"african daisy\"]]\n",
        "animal_patterns = [{\"label\": \"ANIMAL\", \"pattern\": animal} for animal in [\"cat\", \"dog\", \"artic fox\"]]\n",
        "\n",
        "# Add patterns to the ruler\n",
        "ruler.add_patterns(flower_patterns + animal_patterns)\n",
        "\n",
        "ruler.name='entity_ruler'\n",
        "# Add the EntityRuler to the pipeline\n",
        "nlp.add_pipe('entity_ruler')\n",
        "\n",
        "# Test the pipeline\n",
        "doc = nlp(\"I saw a rose and a cat.\")\n",
        "for ent in doc.ents:\n",
        "    print(ent.text, ent.label_)\n"
      ],
      "metadata": {
        "id": "sO6rWJ9-F00O",
        "colab": {
          "base_uri": "https://localhost:8080/"
        },
        "outputId": "014ece82-7e1c-4dd6-c835-81c0390ba4d9"
      },
      "execution_count": 127,
      "outputs": [
        {
          "output_type": "stream",
          "name": "stderr",
          "text": [
            "/usr/local/lib/python3.10/dist-packages/spacy/pipeline/entityruler.py:405: UserWarning: [W036] The component 'entity_ruler' does not have any patterns defined.\n",
            "  warnings.warn(Warnings.W036.format(name=self.name))\n"
          ]
        }
      ]
    },
    {
      "cell_type": "markdown",
      "source": [
        "# Claude code !!"
      ],
      "metadata": {
        "id": "mNlqmbvZJZxi"
      }
    },
    {
      "cell_type": "code",
      "source": [
        "import spacy\n",
        "from spacy.language import Language\n",
        "from spacy.pipeline import EntityRuler\n",
        "\n",
        "nlp = spacy.load('en_core_web_sm')\n",
        "\n",
        "# Function to create and return an EntityRuler with specified patterns\n",
        "def create_ruler(patterns, label):\n",
        "    ruler = EntityRuler(nlp, overwrite_ents=True)\n",
        "    formatted_patterns = [{\"label\": label, \"pattern\": pattern} for pattern in patterns]\n",
        "    ruler.add_patterns(formatted_patterns)\n",
        "    return ruler\n",
        "\n",
        "# Define your patterns\n",
        "flowers = [\"rose\", \"tulip\", \"african daisy\"]\n",
        "animals = [\"cat\", \"dog\", \"artic fox\"]\n",
        "weights = [\"g\",\"kg\",\"grams\",\"kilograms\",\"lb\",\"lbs\",\"pounds\"]\n",
        "\n",
        "\n",
        "\n",
        "# Create rulers\n",
        "ruler_plants = create_ruler(flowers, \"FLOWER\")\n",
        "ruler_animals = create_ruler(animals, \"ANIMAL\")\n",
        "ruler_weights = create_ruler(weights,\"QUANTITY\")\n",
        "\n",
        "# Create component factories\n",
        "@Language.component(\"ruler_plants\")\n",
        "def ruler_plants_component(doc):\n",
        "    return ruler_plants(doc)\n",
        "\n",
        "@Language.component(\"ruler_animals\")\n",
        "def ruler_animals_component(doc):\n",
        "    return ruler_animals(doc)\n",
        "\n",
        "@Language.component('ruler_weights')\n",
        "def ruler_weights_component(doc):\n",
        "     return ruler_weights(doc)\n",
        "\n",
        "# Add the components to the pipeline\n",
        "nlp.add_pipe(\"ruler_plants\", before=\"ner\")\n",
        "nlp.add_pipe(\"ruler_animals\", before=\"ner\")\n",
        "nlp.add_pipe(\"ruler_weights\", before = \"ner\")\n",
        "\n",
        "# Test\n",
        "doc = nlp(\"I saw a rose and a cat. A dog smells a tulip. U.S. average was 2 lbs \")\n",
        "for ent in doc.ents:\n",
        "    print(ent.text, ent.start_char, ent.end_char, ent.label_)"
      ],
      "metadata": {
        "id": "t90kMlOoIwvc",
        "colab": {
          "base_uri": "https://localhost:8080/"
        },
        "outputId": "b4a52bf9-7e0f-4b1e-debd-4a9ec945077b"
      },
      "execution_count": 128,
      "outputs": [
        {
          "output_type": "stream",
          "name": "stdout",
          "text": [
            "rose 8 12 FLOWER\n",
            "cat 19 22 ANIMAL\n",
            "dog 26 29 ANIMAL\n",
            "tulip 39 44 FLOWER\n",
            "U.S. 46 50 GPE\n",
            "2 63 64 CARDINAL\n",
            "lbs 65 68 QUANTITY\n"
          ]
        }
      ]
    },
    {
      "cell_type": "markdown",
      "source": [
        "from spacy.lang.en import English\n",
        "\n",
        "from spacy.matcher import Matcher\n",
        "\n",
        "from spacy.tokens import Span\n",
        "\n",
        "nlp = English()\n",
        "\n",
        "matcher = Matcher(nlp.vocab)\n",
        "\n",
        "def add_event_ent(matcher, doc, i, matches):\n",
        "\n",
        "    # Get the current match and create tuple of entity label, start and end.\n",
        "\n",
        "    # Append entity to the doc's entity. (Don't overwrite doc.ents!)\n",
        "\n",
        "    match_id, start, end = matches[i]\n",
        "\n",
        "    entity = Span(doc, start, end, label=\"EVENT\")\n",
        "\n",
        "    doc.ents += (entity,)\n",
        "\n",
        "    print(entity.text)\n",
        "\n",
        "pattern = [{\"ORTH\": \"Google\"}, {\"ORTH\": \"I\"}, {\"ORTH\": \"/\"}, {\"ORTH\": \"O\"}]\n",
        "\n",
        "matcher.add(\"GoogleIO\", [pattern], on_match=add_event_ent)\n",
        "\n",
        "doc = nlp(\"This is a text about Google I/O\")\n",
        "\n",
        "matches = matcher(doc)\n",
        "\n",
        "# RULE ENTITY DIRECTLY\n"
      ],
      "metadata": {
        "id": "1kOuNTzanMwp"
      }
    },
    {
      "cell_type": "code",
      "source": [],
      "metadata": {
        "id": "CQ2hNSP12MtO"
      },
      "execution_count": 128,
      "outputs": []
    },
    {
      "cell_type": "markdown",
      "source": [
        "# USE OF MACHER\n",
        "\n",
        "nlp = spacy.load(\"en_core_web_sm\")\n",
        "\n",
        "matcher = Matcher(nlp.vocab)\n",
        "\n",
        "Add match ID \"HelloWorld\" with no callback and one pattern\n",
        "\n",
        "pattern = [{\"LOWER\": \"hello\"}, {\"IS_PUNCT\": True}, {\"LOWER\": \"world\"}]\n",
        "\n",
        "matcher.add(\"HelloWorld\", [pattern])\n",
        "\n",
        "doc = nlp(\"Hello, world! Hello world!\")\n",
        "\n",
        "matches = matcher(doc)\n",
        "\n",
        "for match_id, start, end in matches:\n",
        "\n",
        "    string_id = nlp.vocab.strings[match_id]  # Get string representation\n",
        "\n",
        "    span = doc[start:end]  # The matched span\n",
        "\n",
        "    print(match_id, string_id, start, end, span.text)\n"
      ],
      "metadata": {
        "id": "0yVkpvkFnPbF"
      }
    },
    {
      "cell_type": "markdown",
      "source": [
        "# VALIDATE ENTITY RULER\n",
        "ruler = nlp.add_pipe(\"entity_ruler\", config={\"validate\": True})\n"
      ],
      "metadata": {
        "id": "VEZDhPqbtEKW"
      }
    },
    {
      "cell_type": "markdown",
      "source": [
        "# ADD FUNCTION STRATEGY TO ADD A LOT OF NUMBER OF PATTERNS\n",
        "\n",
        "ruler = nlp.add_pipe(\"entity_ruler\")\n",
        "\n",
        "patterns = [{\"label\": \"TEST\", \"pattern\": str(i)} for i in range(100000)]\n",
        "\n",
        "with nlp.select_pipes(enable=\"tagger\"):\n",
        "\n",
        "    ruler.add_patterns(patterns)"
      ],
      "metadata": {
        "id": "B9qNc-O5tKqJ"
      }
    },
    {
      "cell_type": "markdown",
      "source": [
        "# Span Ruler"
      ],
      "metadata": {
        "id": "ny-i916mTYOG"
      }
    },
    {
      "cell_type": "code",
      "source": [
        "import spacy\n",
        "\n",
        "nlp = spacy.blank(\"en\")\n",
        "ruler = nlp.add_pipe(\"span_ruler\")\n",
        "patterns = [{\"label\": \"ORG\", \"pattern\": \"Apple\"},\n",
        "            {\"label\": \"GPE\", \"pattern\": [{\"LOWER\": \"san\"}, {\"LOWER\": \"francisco\"}]}]\n",
        "ruler.add_patterns(patterns)\n",
        "\n",
        "doc = nlp(\"Apple is opening its first big office in San Francisco.\")\n",
        "print([(span.text, span.label_) for span in doc.spans[\"ruler\"]])"
      ],
      "metadata": {
        "id": "du2-mx8aRk0q",
        "colab": {
          "base_uri": "https://localhost:8080/"
        },
        "outputId": "352b9a17-9392-4360-abbc-2358903889a5"
      },
      "execution_count": 129,
      "outputs": [
        {
          "output_type": "stream",
          "name": "stdout",
          "text": [
            "[('Apple', 'ORG'), ('San Francisco', 'GPE')]\n"
          ]
        }
      ]
    },
    {
      "cell_type": "markdown",
      "source": [
        "# USAGE OF PRE-TRAINED MODELS"
      ],
      "metadata": {
        "id": "onh695EITI7o"
      }
    },
    {
      "cell_type": "code",
      "source": [
        "import spacy\n",
        "\n",
        "nlp = spacy.load(\"en_core_web_sm\")\n",
        "\n",
        "import en_core_web_sm\n",
        "\n",
        "nlp = en_core_web_sm.load()\n",
        "\n",
        "#doc = nlp(\"This is a sentence.\")\n",
        "doc =nlp(\"Sum of Sepal Length\")\n",
        "\n",
        "print([(w.text, w.pos_) for w in doc])\n",
        "\n",
        "# load without NER\n",
        "\n",
        "nlp = spacy.load(\"en_core_web_sm\", exclude=[\"ner\"])\n",
        "\n",
        "# source NER from the same pipeline package as the last component\n",
        "\n",
        "nlp.add_pipe(\"ner\", source=spacy.load(\"en_core_web_sm\"))\n",
        "\n",
        "# insert the entity ruler\n",
        "\n",
        "nlp.add_pipe(\"entity_ruler\", before=\"ner\")"
      ],
      "metadata": {
        "id": "21-J-IYWRwhF",
        "colab": {
          "base_uri": "https://localhost:8080/"
        },
        "outputId": "61d6ff85-106a-4c4c-a0f1-88ae15e7fee0"
      },
      "execution_count": 130,
      "outputs": [
        {
          "output_type": "stream",
          "name": "stdout",
          "text": [
            "[('Sum', 'PROPN'), ('of', 'ADP'), ('Sepal', 'PROPN'), ('Length', 'PROPN')]\n"
          ]
        },
        {
          "output_type": "execute_result",
          "data": {
            "text/plain": [
              "<spacy.pipeline.entityruler.EntityRuler at 0x7c1a4bf90480>"
            ]
          },
          "metadata": {},
          "execution_count": 130
        }
      ]
    },
    {
      "cell_type": "code",
      "source": [
        "import spacy\n",
        "from spacy.training import offsets_to_biluo_tags\n",
        "\n",
        "# Load the model\n",
        "nlp = spacy.load(\"en_core_web_sm\")\n",
        "\n",
        "# Example text and entities\n",
        "text = \"SUM(Sepal Length)\"\n",
        "#entities = [(0, 4, 'OPER'),(4, 16, 'ARGN')]  # This example might not be accurate; adjust as per your actual data.\n",
        "entities = [(0, 4, 'OPERATION'), (4, 17, 'ARGUMENT')]\n",
        "\n",
        "\n",
        "# Create a Doc object\n",
        "doc = nlp.make_doc(text)\n",
        "\n",
        "# Check alignment\n",
        "biluo_tags = offsets_to_biluo_tags(doc, entities)\n",
        "\n",
        "print(biluo_tags)\n",
        "# Convert the offsets to BILUO tags\n",
        "tags = offsets_to_biluo_tags(doc, entities)\n",
        "\n",
        "# Print the tags to see the alignment\n",
        "print(tags)\n"
      ],
      "metadata": {
        "id": "llZbwruwSpAK",
        "colab": {
          "base_uri": "https://localhost:8080/"
        },
        "outputId": "c0d53d38-4c7b-418a-8087-ed9c762d0d78"
      },
      "execution_count": 131,
      "outputs": [
        {
          "output_type": "stream",
          "name": "stdout",
          "text": [
            "['-', '-', '-']\n",
            "['-', '-', '-']\n"
          ]
        },
        {
          "output_type": "stream",
          "name": "stderr",
          "text": [
            "/usr/local/lib/python3.10/dist-packages/spacy/training/iob_utils.py:149: UserWarning: [W030] Some entities could not be aligned in the text \"SUM(Sepal Length)\" with entities \"[(0, 4, 'OPERATION'), (4, 17, 'ARGUMENT')]\". Use `spacy.training.offsets_to_biluo_tags(nlp.make_doc(text), entities)` to check the alignment. Misaligned entities ('-') will be ignored during training.\n",
            "  warnings.warn(\n"
          ]
        }
      ]
    },
    {
      "cell_type": "code",
      "source": [
        "import spacy\n",
        "\n",
        "nlp = spacy.load(\"en_core_web_sm\")\n",
        "text = \"SUM(Sepal Length)\"\n",
        "res = nlp(text)\n",
        "#You can either build the IOB tags by yourself:\n",
        "\n",
        "IOB_tags = [\n",
        "    \"-\".join(filter(len, (token.ent_iob_, token.ent_type_)))\n",
        "    for token in res\n",
        "]\n",
        "#or you can use built-in functions (biluo_to_iob and offsets_to_biluo_tags):\n",
        "\n",
        "from spacy.training import biluo_to_iob, offsets_to_biluo_tags\n",
        "\n",
        "IOB_tags = biluo_to_iob(\n",
        "    offsets_to_biluo_tags(\n",
        "        res,\n",
        "        [(ent.start_char, ent.end_char, ent.label_) for ent in res.ents],\n",
        "    ),\n",
        ")\n",
        "print(IOB_tags)\n",
        "print([(ent.start_char, ent.end_char, ent.label_) for ent in res.ents])"
      ],
      "metadata": {
        "id": "soD3MX1hRN9a",
        "colab": {
          "base_uri": "https://localhost:8080/"
        },
        "outputId": "38aed7a3-af37-4ee2-f39b-8f525cb5b517"
      },
      "execution_count": 132,
      "outputs": [
        {
          "output_type": "stream",
          "name": "stdout",
          "text": [
            "['O', 'O', 'O']\n",
            "[]\n"
          ]
        }
      ]
    },
    {
      "cell_type": "code",
      "source": [
        "# Your text\n",
        "text = \"SUM(Sepal Length)\"\n",
        "\n",
        "# Process the text\n",
        "doc = nlp(text)\n",
        "\n",
        "# Print out tokens and their character positions\n",
        "for token in doc:\n",
        "    print(token.text, token.idx, token.idx + len(token.text) - 1)"
      ],
      "metadata": {
        "id": "wx6Aacs7Hilm",
        "colab": {
          "base_uri": "https://localhost:8080/"
        },
        "outputId": "04e28616-25d0-40e3-d03a-e4a0ea25edaa"
      },
      "execution_count": 133,
      "outputs": [
        {
          "output_type": "stream",
          "name": "stdout",
          "text": [
            "SUM(Sepal 0 8\n",
            "Length 10 15\n",
            ") 16 16\n"
          ]
        }
      ]
    }
  ]
}