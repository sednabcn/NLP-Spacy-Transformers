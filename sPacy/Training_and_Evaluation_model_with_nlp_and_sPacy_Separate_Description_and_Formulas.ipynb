{
  "nbformat": 4,
  "nbformat_minor": 0,
  "metadata": {
    "colab": {
      "provenance": [],
      "gpuType": "T4"
    },
    "kernelspec": {
      "name": "python3",
      "display_name": "Python 3"
    },
    "language_info": {
      "name": "python"
    }
  },
  "cells": [
    {
      "cell_type": "markdown",
      "source": [
        "#TASK: Leverage NLP for Tableau formulas identification\n",
        "\n",
        "Leveraging Natural Language Processing (NLP) for Tableau formulas identification involves using language models to interpret and understand natural language descriptions of analytical tasks and then automatically generating corresponding Tableau formulas. While this is a challenging task, it's feasible with the help of advanced NLP models. Below are general steps to approach this task:"
      ],
      "metadata": {
        "id": "NqCoW9yQDryb"
      }
    },
    {
      "cell_type": "code",
      "execution_count": 1,
      "metadata": {
        "colab": {
          "base_uri": "https://localhost:8080/"
        },
        "id": "eBoXca9MY-7A",
        "outputId": "786a828d-c640-4a13-d64d-6b06aef781b7"
      },
      "outputs": [
        {
          "output_type": "stream",
          "name": "stdout",
          "text": [
            "Requirement already satisfied: opencv-python in /usr/local/lib/python3.10/dist-packages (4.8.0.76)\n",
            "Requirement already satisfied: numpy>=1.21.2 in /usr/local/lib/python3.10/dist-packages (from opencv-python) (1.25.2)\n",
            "Requirement already satisfied: pandas in /usr/local/lib/python3.10/dist-packages (1.5.3)\n",
            "Requirement already satisfied: python-dateutil>=2.8.1 in /usr/local/lib/python3.10/dist-packages (from pandas) (2.8.2)\n",
            "Requirement already satisfied: pytz>=2020.1 in /usr/local/lib/python3.10/dist-packages (from pandas) (2023.4)\n",
            "Requirement already satisfied: numpy>=1.21.0 in /usr/local/lib/python3.10/dist-packages (from pandas) (1.25.2)\n",
            "Requirement already satisfied: six>=1.5 in /usr/local/lib/python3.10/dist-packages (from python-dateutil>=2.8.1->pandas) (1.16.0)\n",
            "Requirement already satisfied: nltk in /usr/local/lib/python3.10/dist-packages (3.8.1)\n",
            "Requirement already satisfied: click in /usr/local/lib/python3.10/dist-packages (from nltk) (8.1.7)\n",
            "Requirement already satisfied: joblib in /usr/local/lib/python3.10/dist-packages (from nltk) (1.3.2)\n",
            "Requirement already satisfied: regex>=2021.8.3 in /usr/local/lib/python3.10/dist-packages (from nltk) (2023.12.25)\n",
            "Requirement already satisfied: tqdm in /usr/local/lib/python3.10/dist-packages (from nltk) (4.66.2)\n",
            "Requirement already satisfied: spacy in /usr/local/lib/python3.10/dist-packages (3.7.4)\n",
            "Requirement already satisfied: spacy-legacy<3.1.0,>=3.0.11 in /usr/local/lib/python3.10/dist-packages (from spacy) (3.0.12)\n",
            "Requirement already satisfied: spacy-loggers<2.0.0,>=1.0.0 in /usr/local/lib/python3.10/dist-packages (from spacy) (1.0.5)\n",
            "Requirement already satisfied: murmurhash<1.1.0,>=0.28.0 in /usr/local/lib/python3.10/dist-packages (from spacy) (1.0.10)\n",
            "Requirement already satisfied: cymem<2.1.0,>=2.0.2 in /usr/local/lib/python3.10/dist-packages (from spacy) (2.0.8)\n",
            "Requirement already satisfied: preshed<3.1.0,>=3.0.2 in /usr/local/lib/python3.10/dist-packages (from spacy) (3.0.9)\n",
            "Requirement already satisfied: thinc<8.3.0,>=8.2.2 in /usr/local/lib/python3.10/dist-packages (from spacy) (8.2.3)\n",
            "Requirement already satisfied: wasabi<1.2.0,>=0.9.1 in /usr/local/lib/python3.10/dist-packages (from spacy) (1.1.2)\n",
            "Requirement already satisfied: srsly<3.0.0,>=2.4.3 in /usr/local/lib/python3.10/dist-packages (from spacy) (2.4.8)\n",
            "Requirement already satisfied: catalogue<2.1.0,>=2.0.6 in /usr/local/lib/python3.10/dist-packages (from spacy) (2.0.10)\n",
            "Requirement already satisfied: weasel<0.4.0,>=0.1.0 in /usr/local/lib/python3.10/dist-packages (from spacy) (0.3.4)\n",
            "Requirement already satisfied: typer<0.10.0,>=0.3.0 in /usr/local/lib/python3.10/dist-packages (from spacy) (0.9.4)\n",
            "Requirement already satisfied: smart-open<7.0.0,>=5.2.1 in /usr/local/lib/python3.10/dist-packages (from spacy) (6.4.0)\n",
            "Requirement already satisfied: tqdm<5.0.0,>=4.38.0 in /usr/local/lib/python3.10/dist-packages (from spacy) (4.66.2)\n",
            "Requirement already satisfied: requests<3.0.0,>=2.13.0 in /usr/local/lib/python3.10/dist-packages (from spacy) (2.31.0)\n",
            "Requirement already satisfied: pydantic!=1.8,!=1.8.1,<3.0.0,>=1.7.4 in /usr/local/lib/python3.10/dist-packages (from spacy) (2.6.4)\n",
            "Requirement already satisfied: jinja2 in /usr/local/lib/python3.10/dist-packages (from spacy) (3.1.3)\n",
            "Requirement already satisfied: setuptools in /usr/local/lib/python3.10/dist-packages (from spacy) (67.7.2)\n",
            "Requirement already satisfied: packaging>=20.0 in /usr/local/lib/python3.10/dist-packages (from spacy) (24.0)\n",
            "Requirement already satisfied: langcodes<4.0.0,>=3.2.0 in /usr/local/lib/python3.10/dist-packages (from spacy) (3.3.0)\n",
            "Requirement already satisfied: numpy>=1.19.0 in /usr/local/lib/python3.10/dist-packages (from spacy) (1.25.2)\n",
            "Requirement already satisfied: annotated-types>=0.4.0 in /usr/local/lib/python3.10/dist-packages (from pydantic!=1.8,!=1.8.1,<3.0.0,>=1.7.4->spacy) (0.6.0)\n",
            "Requirement already satisfied: pydantic-core==2.16.3 in /usr/local/lib/python3.10/dist-packages (from pydantic!=1.8,!=1.8.1,<3.0.0,>=1.7.4->spacy) (2.16.3)\n",
            "Requirement already satisfied: typing-extensions>=4.6.1 in /usr/local/lib/python3.10/dist-packages (from pydantic!=1.8,!=1.8.1,<3.0.0,>=1.7.4->spacy) (4.10.0)\n",
            "Requirement already satisfied: charset-normalizer<4,>=2 in /usr/local/lib/python3.10/dist-packages (from requests<3.0.0,>=2.13.0->spacy) (3.3.2)\n",
            "Requirement already satisfied: idna<4,>=2.5 in /usr/local/lib/python3.10/dist-packages (from requests<3.0.0,>=2.13.0->spacy) (3.6)\n",
            "Requirement already satisfied: urllib3<3,>=1.21.1 in /usr/local/lib/python3.10/dist-packages (from requests<3.0.0,>=2.13.0->spacy) (2.0.7)\n",
            "Requirement already satisfied: certifi>=2017.4.17 in /usr/local/lib/python3.10/dist-packages (from requests<3.0.0,>=2.13.0->spacy) (2024.2.2)\n",
            "Requirement already satisfied: blis<0.8.0,>=0.7.8 in /usr/local/lib/python3.10/dist-packages (from thinc<8.3.0,>=8.2.2->spacy) (0.7.11)\n",
            "Requirement already satisfied: confection<1.0.0,>=0.0.1 in /usr/local/lib/python3.10/dist-packages (from thinc<8.3.0,>=8.2.2->spacy) (0.1.4)\n",
            "Requirement already satisfied: click<9.0.0,>=7.1.1 in /usr/local/lib/python3.10/dist-packages (from typer<0.10.0,>=0.3.0->spacy) (8.1.7)\n",
            "Requirement already satisfied: cloudpathlib<0.17.0,>=0.7.0 in /usr/local/lib/python3.10/dist-packages (from weasel<0.4.0,>=0.1.0->spacy) (0.16.0)\n",
            "Requirement already satisfied: MarkupSafe>=2.0 in /usr/local/lib/python3.10/dist-packages (from jinja2->spacy) (2.1.5)\n",
            "Requirement already satisfied: spacy-lookups-data in /usr/local/lib/python3.10/dist-packages (1.0.5)\n",
            "Requirement already satisfied: setuptools in /usr/local/lib/python3.10/dist-packages (from spacy-lookups-data) (67.7.2)\n",
            "Collecting en-core-web-sm==3.7.1\n",
            "  Downloading https://github.com/explosion/spacy-models/releases/download/en_core_web_sm-3.7.1/en_core_web_sm-3.7.1-py3-none-any.whl (12.8 MB)\n",
            "\u001b[2K     \u001b[90m━━━━━━━━━━━━━━━━━━━━━━━━━━━━━━━━━━━━━━━━\u001b[0m \u001b[32m12.8/12.8 MB\u001b[0m \u001b[31m52.3 MB/s\u001b[0m eta \u001b[36m0:00:00\u001b[0m\n",
            "\u001b[?25hRequirement already satisfied: spacy<3.8.0,>=3.7.2 in /usr/local/lib/python3.10/dist-packages (from en-core-web-sm==3.7.1) (3.7.4)\n",
            "Requirement already satisfied: spacy-legacy<3.1.0,>=3.0.11 in /usr/local/lib/python3.10/dist-packages (from spacy<3.8.0,>=3.7.2->en-core-web-sm==3.7.1) (3.0.12)\n",
            "Requirement already satisfied: spacy-loggers<2.0.0,>=1.0.0 in /usr/local/lib/python3.10/dist-packages (from spacy<3.8.0,>=3.7.2->en-core-web-sm==3.7.1) (1.0.5)\n",
            "Requirement already satisfied: murmurhash<1.1.0,>=0.28.0 in /usr/local/lib/python3.10/dist-packages (from spacy<3.8.0,>=3.7.2->en-core-web-sm==3.7.1) (1.0.10)\n",
            "Requirement already satisfied: cymem<2.1.0,>=2.0.2 in /usr/local/lib/python3.10/dist-packages (from spacy<3.8.0,>=3.7.2->en-core-web-sm==3.7.1) (2.0.8)\n",
            "Requirement already satisfied: preshed<3.1.0,>=3.0.2 in /usr/local/lib/python3.10/dist-packages (from spacy<3.8.0,>=3.7.2->en-core-web-sm==3.7.1) (3.0.9)\n",
            "Requirement already satisfied: thinc<8.3.0,>=8.2.2 in /usr/local/lib/python3.10/dist-packages (from spacy<3.8.0,>=3.7.2->en-core-web-sm==3.7.1) (8.2.3)\n",
            "Requirement already satisfied: wasabi<1.2.0,>=0.9.1 in /usr/local/lib/python3.10/dist-packages (from spacy<3.8.0,>=3.7.2->en-core-web-sm==3.7.1) (1.1.2)\n",
            "Requirement already satisfied: srsly<3.0.0,>=2.4.3 in /usr/local/lib/python3.10/dist-packages (from spacy<3.8.0,>=3.7.2->en-core-web-sm==3.7.1) (2.4.8)\n",
            "Requirement already satisfied: catalogue<2.1.0,>=2.0.6 in /usr/local/lib/python3.10/dist-packages (from spacy<3.8.0,>=3.7.2->en-core-web-sm==3.7.1) (2.0.10)\n",
            "Requirement already satisfied: weasel<0.4.0,>=0.1.0 in /usr/local/lib/python3.10/dist-packages (from spacy<3.8.0,>=3.7.2->en-core-web-sm==3.7.1) (0.3.4)\n",
            "Requirement already satisfied: typer<0.10.0,>=0.3.0 in /usr/local/lib/python3.10/dist-packages (from spacy<3.8.0,>=3.7.2->en-core-web-sm==3.7.1) (0.9.4)\n",
            "Requirement already satisfied: smart-open<7.0.0,>=5.2.1 in /usr/local/lib/python3.10/dist-packages (from spacy<3.8.0,>=3.7.2->en-core-web-sm==3.7.1) (6.4.0)\n",
            "Requirement already satisfied: tqdm<5.0.0,>=4.38.0 in /usr/local/lib/python3.10/dist-packages (from spacy<3.8.0,>=3.7.2->en-core-web-sm==3.7.1) (4.66.2)\n",
            "Requirement already satisfied: requests<3.0.0,>=2.13.0 in /usr/local/lib/python3.10/dist-packages (from spacy<3.8.0,>=3.7.2->en-core-web-sm==3.7.1) (2.31.0)\n",
            "Requirement already satisfied: pydantic!=1.8,!=1.8.1,<3.0.0,>=1.7.4 in /usr/local/lib/python3.10/dist-packages (from spacy<3.8.0,>=3.7.2->en-core-web-sm==3.7.1) (2.6.4)\n",
            "Requirement already satisfied: jinja2 in /usr/local/lib/python3.10/dist-packages (from spacy<3.8.0,>=3.7.2->en-core-web-sm==3.7.1) (3.1.3)\n",
            "Requirement already satisfied: setuptools in /usr/local/lib/python3.10/dist-packages (from spacy<3.8.0,>=3.7.2->en-core-web-sm==3.7.1) (67.7.2)\n",
            "Requirement already satisfied: packaging>=20.0 in /usr/local/lib/python3.10/dist-packages (from spacy<3.8.0,>=3.7.2->en-core-web-sm==3.7.1) (24.0)\n",
            "Requirement already satisfied: langcodes<4.0.0,>=3.2.0 in /usr/local/lib/python3.10/dist-packages (from spacy<3.8.0,>=3.7.2->en-core-web-sm==3.7.1) (3.3.0)\n",
            "Requirement already satisfied: numpy>=1.19.0 in /usr/local/lib/python3.10/dist-packages (from spacy<3.8.0,>=3.7.2->en-core-web-sm==3.7.1) (1.25.2)\n",
            "Requirement already satisfied: annotated-types>=0.4.0 in /usr/local/lib/python3.10/dist-packages (from pydantic!=1.8,!=1.8.1,<3.0.0,>=1.7.4->spacy<3.8.0,>=3.7.2->en-core-web-sm==3.7.1) (0.6.0)\n",
            "Requirement already satisfied: pydantic-core==2.16.3 in /usr/local/lib/python3.10/dist-packages (from pydantic!=1.8,!=1.8.1,<3.0.0,>=1.7.4->spacy<3.8.0,>=3.7.2->en-core-web-sm==3.7.1) (2.16.3)\n",
            "Requirement already satisfied: typing-extensions>=4.6.1 in /usr/local/lib/python3.10/dist-packages (from pydantic!=1.8,!=1.8.1,<3.0.0,>=1.7.4->spacy<3.8.0,>=3.7.2->en-core-web-sm==3.7.1) (4.10.0)\n",
            "Requirement already satisfied: charset-normalizer<4,>=2 in /usr/local/lib/python3.10/dist-packages (from requests<3.0.0,>=2.13.0->spacy<3.8.0,>=3.7.2->en-core-web-sm==3.7.1) (3.3.2)\n",
            "Requirement already satisfied: idna<4,>=2.5 in /usr/local/lib/python3.10/dist-packages (from requests<3.0.0,>=2.13.0->spacy<3.8.0,>=3.7.2->en-core-web-sm==3.7.1) (3.6)\n",
            "Requirement already satisfied: urllib3<3,>=1.21.1 in /usr/local/lib/python3.10/dist-packages (from requests<3.0.0,>=2.13.0->spacy<3.8.0,>=3.7.2->en-core-web-sm==3.7.1) (2.0.7)\n",
            "Requirement already satisfied: certifi>=2017.4.17 in /usr/local/lib/python3.10/dist-packages (from requests<3.0.0,>=2.13.0->spacy<3.8.0,>=3.7.2->en-core-web-sm==3.7.1) (2024.2.2)\n",
            "Requirement already satisfied: blis<0.8.0,>=0.7.8 in /usr/local/lib/python3.10/dist-packages (from thinc<8.3.0,>=8.2.2->spacy<3.8.0,>=3.7.2->en-core-web-sm==3.7.1) (0.7.11)\n",
            "Requirement already satisfied: confection<1.0.0,>=0.0.1 in /usr/local/lib/python3.10/dist-packages (from thinc<8.3.0,>=8.2.2->spacy<3.8.0,>=3.7.2->en-core-web-sm==3.7.1) (0.1.4)\n",
            "Requirement already satisfied: click<9.0.0,>=7.1.1 in /usr/local/lib/python3.10/dist-packages (from typer<0.10.0,>=0.3.0->spacy<3.8.0,>=3.7.2->en-core-web-sm==3.7.1) (8.1.7)\n",
            "Requirement already satisfied: cloudpathlib<0.17.0,>=0.7.0 in /usr/local/lib/python3.10/dist-packages (from weasel<0.4.0,>=0.1.0->spacy<3.8.0,>=3.7.2->en-core-web-sm==3.7.1) (0.16.0)\n",
            "Requirement already satisfied: MarkupSafe>=2.0 in /usr/local/lib/python3.10/dist-packages (from jinja2->spacy<3.8.0,>=3.7.2->en-core-web-sm==3.7.1) (2.1.5)\n",
            "\u001b[38;5;2m✔ Download and installation successful\u001b[0m\n",
            "You can now load the package via spacy.load('en_core_web_sm')\n",
            "\u001b[38;5;3m⚠ Restart to reload dependencies\u001b[0m\n",
            "If you are in a Jupyter or Colab notebook, you may need to restart Python in\n",
            "order to load all the package's dependencies. You can do this by selecting the\n",
            "'Restart kernel' or 'Restart runtime' option.\n"
          ]
        }
      ],
      "source": [
        "! pip install opencv-python\n",
        "! pip install pandas\n",
        "! pip install nltk\n",
        "! pip install spacy\n",
        "! pip install spacy-lookups-data\n",
        "! python -m spacy download en_core_web_sm\n",
        "#! python -m spacy link en_core_web_sm en\n"
      ]
    },
    {
      "cell_type": "markdown",
      "source": [
        "Here's a basic example of using spaCy that should work without any issues related to lookup tables once spacy-lookups-data is installed:\n",
        "\n"
      ],
      "metadata": {
        "id": "MxSLkVTlF-vq"
      }
    },
    {
      "cell_type": "code",
      "source": [
        "import spacy\n",
        "\n",
        "# Load the English tokenizer, tagger, parser, NER, and word vectors\n",
        "nlp = spacy.load(\"en_core_web_sm\")  # Make sure you've downloaded this model\n",
        "\n",
        "# Process a text\n",
        "doc = nlp(\"Apple is looking at buying U.K. startup for $1 billion\")\n",
        "\n",
        "# Print the document text and perform operations as needed\n",
        "print(doc.text)\n"
      ],
      "metadata": {
        "colab": {
          "base_uri": "https://localhost:8080/"
        },
        "id": "d3uDv1LAF8sN",
        "outputId": "09a0f40c-bb1a-4dd7-81e8-55fe415a2200"
      },
      "execution_count": 2,
      "outputs": [
        {
          "output_type": "stream",
          "name": "stdout",
          "text": [
            "Apple is looking at buying U.K. startup for $1 billion\n"
          ]
        }
      ]
    },
    {
      "cell_type": "code",
      "source": [
        "import os\n",
        "import cv2\n",
        "import pandas as pd\n",
        "import matplotlib.pyplot as plt\n",
        "import nltk\n",
        "import re\n",
        "from nltk.tokenize import word_tokenize, sent_tokenize,wordpunct_tokenize\n",
        "from google.colab.patches import cv2_imshow\n",
        "nltk.download('punkt')\n",
        "import spacy\n",
        "from spacy import displacy\n",
        "from spacy.matcher import matcher\n",
        "from spacy.tokens import span\n",
        "from spacy.language import Language\n",
        "from spacy.pipeline import EntityRuler\n",
        "from spacy.util import minibatch\n",
        "\n",
        "\n",
        "# Load English tokenizer, tagger, parser and NER\n",
        "nlp = spacy.load(\"en_core_web_sm\")"
      ],
      "metadata": {
        "id": "xxIcPpzvu10m",
        "colab": {
          "base_uri": "https://localhost:8080/"
        },
        "outputId": "d13010b7-8556-4bbc-93e0-4586b9ccc69a"
      },
      "execution_count": 3,
      "outputs": [
        {
          "output_type": "stream",
          "name": "stderr",
          "text": [
            "[nltk_data] Downloading package punkt to /root/nltk_data...\n",
            "[nltk_data]   Package punkt is already up-to-date!\n"
          ]
        }
      ]
    },
    {
      "cell_type": "markdown",
      "source": [
        "Identify data source in Tableau"
      ],
      "metadata": {
        "id": "3WprfdIsaFTS"
      }
    },
    {
      "cell_type": "code",
      "source": [
        "from google.colab import files\n",
        "file=\"formulas_test.xlsx\"\n",
        "if file not in os.listdir('/content/'):\n",
        "      files.upload()"
      ],
      "metadata": {
        "id": "UHH7lGi6y0YR"
      },
      "execution_count": 4,
      "outputs": []
    },
    {
      "cell_type": "code",
      "source": [
        "#from google.colab import drive\n",
        "#drive.mount('/content/drive')"
      ],
      "metadata": {
        "id": "g4ObYcJzqEZs"
      },
      "execution_count": 5,
      "outputs": []
    },
    {
      "cell_type": "code",
      "source": [
        "#! cd /content/drive/My\\ Drive/Colab_2024\n",
        "#! cp /content/drive/My\\ Drive/Colab_2024/*.png /content/\n",
        "#! ls -all"
      ],
      "metadata": {
        "id": "SLjlCsLMqVHY"
      },
      "execution_count": 6,
      "outputs": []
    },
    {
      "cell_type": "markdown",
      "source": [
        "# TASK: FORMULA CONVERSION"
      ],
      "metadata": {
        "id": "1v6YT5c1KT7P"
      }
    },
    {
      "cell_type": "markdown",
      "source": [
        "1. Define Use Cases:\n",
        "Clearly define the use cases for which you want to leverage NLP for Tableau formulas identification. For example, you might want to interpret natural language descriptions and generate Tableau formulas for common tasks like aggregations, calculations, or filtering."
      ],
      "metadata": {
        "id": "kNqoonM3LnuZ"
      }
    },
    {
      "cell_type": "code",
      "source": [],
      "metadata": {
        "id": "bJxo5IyVqLKR"
      },
      "execution_count": 6,
      "outputs": []
    },
    {
      "cell_type": "markdown",
      "source": [
        "2. Data Collection:\n",
        "Collect a dataset that includes examples of natural language descriptions paired with their corresponding Tableau formulas. The dataset should cover a variety of scenarios to train a model that can generalize well."
      ],
      "metadata": {
        "id": "l_qNBlF_MJR8"
      }
    },
    {
      "cell_type": "markdown",
      "source": [
        "# Normalize Formulas Tableau"
      ],
      "metadata": {
        "id": "zIUEIr_NWSK6"
      }
    },
    {
      "cell_type": "code",
      "source": [
        "def normalize_formula(text):\n",
        "    # Add space after function names if missing\n",
        "    text = re.sub(r\"(\\w)\\(\", r\"\\1 (\", text)\n",
        "    # Ensure there's a space before and after parentheses\n",
        "    text = re.sub(r\"\\s*\\(\\s*\", \" ( \", text)\n",
        "    text = re.sub(r\"\\s*\\)\\s*\", \" ) \", text)\n",
        "    # Ensure there's a space before and after square brackets\n",
        "    text = re.sub(r\"\\s*\\[\\s*\", \" [ \", text)\n",
        "    text = re.sub(r\"\\s*\\]\\s*\", \" ] \", text)\n",
        "    # Ensure there's a space before and after curly brackets\n",
        "    text = re.sub(r\"\\s*\\{\\s*\", \" { \", text)\n",
        "    text = re.sub(r\"\\s*\\}\\s*\", \" } \", text)\n",
        "    # Ensure there's a space before and after comparison symbols\n",
        "    text = re.sub(r\"\\s*\\==\\s*\", \" == \", text)\n",
        "    text = re.sub(r\"(?<!\\=)\\s*\\=\\s*(?!=)\", \" = \", text)\n",
        "    text = re.sub(r\"\\s*\\>=\\s*\", \" >= \", text)\n",
        "    text = re.sub(r\"\\s*\\<=\\s*\", \" <= \", text)\n",
        "    text = re.sub(r\"\\s*\\>\\s*\", \" > \", text)\n",
        "    text = re.sub(r\"\\s*\\<\\s*\", \" < \", text)\n",
        "    # Ensure there's a space before and after interrogative/exclamative symbols\n",
        "    text = re.sub(r\"\\s*\\?\\s*\", \" ? \", text)\n",
        "    text = re.sub(r\"\\s*\\!\\s*\", \" ! \", text)\n",
        "\n",
        "    return text\n"
      ],
      "metadata": {
        "id": "f2koxJaZhW4y"
      },
      "execution_count": 7,
      "outputs": []
    },
    {
      "cell_type": "code",
      "source": [
        "df=pd.read_excel(\"formulas.xlsx\")\n",
        "print(df.head(5))"
      ],
      "metadata": {
        "colab": {
          "base_uri": "https://localhost:8080/"
        },
        "id": "poRpKdFbXy3V",
        "outputId": "7bf68a32-b709-4dea-8e2e-35878035c180"
      },
      "execution_count": 8,
      "outputs": [
        {
          "output_type": "stream",
          "name": "stdout",
          "text": [
            "                                  Description        Formula (Tableau)\n",
            "0                         Sum of Sepal Length        SUM(Sepal Length)\n",
            "1      Average Sepal Width across all entries         AVG(Sepal Width)\n",
            "2                Find the median Petal Length     MEDIAN(Petal Length)\n",
            "3  Count the number of records in the dataset                 COUNT(*)\n",
            "4       Count distinct species in the dataset  COUNT DISTINCT(Species)\n"
          ]
        }
      ]
    },
    {
      "cell_type": "code",
      "source": [
        "df.columns"
      ],
      "metadata": {
        "colab": {
          "base_uri": "https://localhost:8080/"
        },
        "id": "EUv6rYeansXe",
        "outputId": "b4ed9714-7047-4ba5-e2c5-5875b67081b7"
      },
      "execution_count": 9,
      "outputs": [
        {
          "output_type": "execute_result",
          "data": {
            "text/plain": [
              "Index(['Description', 'Formula (Tableau)'], dtype='object')"
            ]
          },
          "metadata": {},
          "execution_count": 9
        }
      ]
    },
    {
      "cell_type": "code",
      "source": [
        "df[df.columns[1]]=df[df.columns[1]].apply(lambda x:normalize_formula(x))"
      ],
      "metadata": {
        "id": "3lnrYMMHWdme"
      },
      "execution_count": 10,
      "outputs": []
    },
    {
      "cell_type": "code",
      "source": [
        "print(df.head(10))"
      ],
      "metadata": {
        "colab": {
          "base_uri": "https://localhost:8080/"
        },
        "id": "KtO0qljxXXAW",
        "outputId": "01726643-c560-4810-8d97-a26e504b5902"
      },
      "execution_count": 11,
      "outputs": [
        {
          "output_type": "stream",
          "name": "stdout",
          "text": [
            "                                         Description  \\\n",
            "0                                Sum of Sepal Length   \n",
            "1             Average Sepal Width across all entries   \n",
            "2                       Find the median Petal Length   \n",
            "3         Count the number of records in the dataset   \n",
            "4              Count distinct species in the dataset   \n",
            "5                      Minimum value of Sepal Length   \n",
            "6           Maximum Petal Width found in the dataset   \n",
            "7                           Group records by Species   \n",
            "8  Sort the entries by Sepal Length in ascending ...   \n",
            "9                        List Species alphabetically   \n",
            "\n",
            "                Formula (Tableau)  \n",
            "0           SUM ( Sepal Length )   \n",
            "1            AVG ( Sepal Width )   \n",
            "2        MEDIAN ( Petal Length )   \n",
            "3                    COUNT ( * )   \n",
            "4     COUNT DISTINCT ( Species )   \n",
            "5           MIN ( Sepal Length )   \n",
            "6            MAX ( Petal Width )   \n",
            "7           GROUP BY ( Species )   \n",
            "8  ORDER BY ( Sepal Length ASC )   \n",
            "9       ORDER BY ( Species ASC )   \n"
          ]
        }
      ]
    },
    {
      "cell_type": "markdown",
      "source": [
        "# Formulas_test"
      ],
      "metadata": {
        "id": "nzjZqBRx_6e2"
      }
    },
    {
      "cell_type": "code",
      "source": [
        "dff=pd.read_excel(\"formulas_test.xlsx\")\n",
        "print(dff.head(10))"
      ],
      "metadata": {
        "colab": {
          "base_uri": "https://localhost:8080/"
        },
        "id": "FkaxMEENAAe2",
        "outputId": "01670a00-ca93-4eb4-c22e-e3546151fa56"
      },
      "execution_count": 12,
      "outputs": [
        {
          "output_type": "stream",
          "name": "stdout",
          "text": [
            "                                        Description  \\\n",
            "0                  Total Sepal Width in the dataset   \n",
            "1           Average Petal Length across all flowers   \n",
            "2                             Median of Sepal Width   \n",
            "3                 Number of entries in the database   \n",
            "4                     Unique count of Petal Lengths   \n",
            "5                              Smallest Petal Width   \n",
            "6                              Largest Sepal Length   \n",
            "7                Categorize flowers by Petal Length   \n",
            "8  Organize data by Petal Width in descending order   \n",
            "9               Alphabetize entries by Species name   \n",
            "\n",
            "              Formula (Tableau)  \n",
            "0              SUM(Sepal Width)  \n",
            "1             AVG(Petal Length)  \n",
            "2           MEDIAN(Sepal Width)  \n",
            "3                      COUNT(*)  \n",
            "4  COUNT DISTINCT(Petal Length)  \n",
            "5              MIN(Petal Width)  \n",
            "6             MAX(Sepal Length)  \n",
            "7        GROUP BY(Petal Length)  \n",
            "8    ORDER BY(Petal Width DESC)  \n",
            "9         ORDER BY(Species ASC)  \n"
          ]
        }
      ]
    },
    {
      "cell_type": "code",
      "source": [
        "dff.shape"
      ],
      "metadata": {
        "colab": {
          "base_uri": "https://localhost:8080/"
        },
        "id": "7oxAXDa-CCP9",
        "outputId": "04783691-ffdf-4ca4-859f-7a5020c776a0"
      },
      "execution_count": 13,
      "outputs": [
        {
          "output_type": "execute_result",
          "data": {
            "text/plain": [
              "(54, 2)"
            ]
          },
          "metadata": {},
          "execution_count": 13
        }
      ]
    },
    {
      "cell_type": "code",
      "source": [
        "dff[dff.columns[1]]=dff[dff.columns[1]].apply(lambda x:normalize_formula(x))"
      ],
      "metadata": {
        "id": "A8fJLzp3Y0nY"
      },
      "execution_count": 14,
      "outputs": []
    },
    {
      "cell_type": "code",
      "source": [
        "print(dff.head(10))"
      ],
      "metadata": {
        "colab": {
          "base_uri": "https://localhost:8080/"
        },
        "id": "9Gk3RoP_ZCXq",
        "outputId": "26a73438-a703-4b67-f8ad-8bcd9b5b1d67"
      },
      "execution_count": 15,
      "outputs": [
        {
          "output_type": "stream",
          "name": "stdout",
          "text": [
            "                                        Description  \\\n",
            "0                  Total Sepal Width in the dataset   \n",
            "1           Average Petal Length across all flowers   \n",
            "2                             Median of Sepal Width   \n",
            "3                 Number of entries in the database   \n",
            "4                     Unique count of Petal Lengths   \n",
            "5                              Smallest Petal Width   \n",
            "6                              Largest Sepal Length   \n",
            "7                Categorize flowers by Petal Length   \n",
            "8  Organize data by Petal Width in descending order   \n",
            "9               Alphabetize entries by Species name   \n",
            "\n",
            "                  Formula (Tableau)  \n",
            "0              SUM ( Sepal Width )   \n",
            "1             AVG ( Petal Length )   \n",
            "2           MEDIAN ( Sepal Width )   \n",
            "3                      COUNT ( * )   \n",
            "4  COUNT DISTINCT ( Petal Length )   \n",
            "5              MIN ( Petal Width )   \n",
            "6             MAX ( Sepal Length )   \n",
            "7        GROUP BY ( Petal Length )   \n",
            "8    ORDER BY ( Petal Width DESC )   \n",
            "9         ORDER BY ( Species ASC )   \n"
          ]
        }
      ]
    },
    {
      "cell_type": "markdown",
      "source": [
        "3. Preprocess the Data:\n",
        "Clean and preprocess the collected dataset. Tokenize the natural language descriptions and normalize the Tableau formulas to create input-output pairs for training the NLP model."
      ],
      "metadata": {
        "id": "yBaMVVjDMPUX"
      }
    },
    {
      "cell_type": "markdown",
      "source": [
        "# Tokenization of the formulas.xlsx dataset"
      ],
      "metadata": {
        "id": "jWTDJIV8iQ6n"
      }
    },
    {
      "cell_type": "code",
      "source": [
        "dg_tok=df.apply(lambda x:[wordpunct_tokenize(y) for y in x])"
      ],
      "metadata": {
        "id": "wSncaqoVk8jP"
      },
      "execution_count": 16,
      "outputs": []
    },
    {
      "cell_type": "code",
      "source": [
        "dg_tok=dg_tok.rename(columns=lambda x:\"Tokenized \" + x)\n",
        "dg_tok=dg_tok.loc[:,dg_tok.columns[[0,1]]]\n",
        "dg_tok.rename(columns=lambda x:x.strip(), inplace=True)\n",
        "print(dg_tok.head(5))\n"
      ],
      "metadata": {
        "colab": {
          "base_uri": "https://localhost:8080/"
        },
        "id": "9Es5VROgoMPQ",
        "outputId": "3a89a6de-c174-489d-f32e-0c90d7f25b5b"
      },
      "execution_count": 17,
      "outputs": [
        {
          "output_type": "stream",
          "name": "stdout",
          "text": [
            "                               Tokenized Description  \\\n",
            "0                           [Sum, of, Sepal, Length]   \n",
            "1      [Average, Sepal, Width, across, all, entries]   \n",
            "2                 [Find, the, median, Petal, Length]   \n",
            "3  [Count, the, number, of, records, in, the, dat...   \n",
            "4       [Count, distinct, species, in, the, dataset]   \n",
            "\n",
            "        Tokenized Formula (Tableau)  \n",
            "0        [SUM, (, Sepal, Length, )]  \n",
            "1         [AVG, (, Sepal, Width, )]  \n",
            "2     [MEDIAN, (, Petal, Length, )]  \n",
            "3                  [COUNT, (, *, )]  \n",
            "4  [COUNT, DISTINCT, (, Species, )]  \n"
          ]
        }
      ]
    },
    {
      "cell_type": "markdown",
      "source": [
        "#description={} with keys=['text','label','vocab','stopwords']"
      ],
      "metadata": {
        "id": "Y8gngbhSwrb2"
      }
    },
    {
      "cell_type": "code",
      "source": [
        "description={}\n",
        "description['stopwords']=['\\\\','Iri','Se','C','Sepal','ica','Length',\"'s\",'.',\"'\", 's', 'a','(',')','Petal','Distinct',\"Width\",',',\"'\",\"[\",\"]\"]\n",
        "description['text']=[sentence for sentence in df[df.columns[0]]]\n",
        "description['vocab']=list(set([word  for ii in range(len(dg_tok[dg_tok.columns[0]])) for word  in dg_tok[dg_tok.columns[0]][ii] if word not in description['stopwords']]))\n",
        "len_desc_vocab=len(description['vocab'])"
      ],
      "metadata": {
        "id": "MoErRllrwp5S"
      },
      "execution_count": 18,
      "outputs": []
    },
    {
      "cell_type": "code",
      "source": [
        "print(len_desc_vocab,description['vocab'])"
      ],
      "metadata": {
        "colab": {
          "base_uri": "https://localhost:8080/"
        },
        "id": "VC962_RI2QWi",
        "outputId": "0923ec65-e039-499d-91e2-db713e1ae911"
      },
      "execution_count": 19,
      "outputs": [
        {
          "output_type": "stream",
          "name": "stdout",
          "text": [
            "129 ['sorted', 'Average', 'with', '5', 'Entries', 'low', 'median', 'each', 'starting', 'Top', 'exactly', 'highest', 'Total', 'Maximum', 'observation', 'entries', 'start', 'only', 'ascending', 'order', 'occurrences', 'in', 'Lowest', 'virginica', 'year', 'Widths', '3', 'from', 'setosa', '0', 'where', 'types', 'Aggregate', 'smallest', 'over', '%', 'Species', 'greater', 'Filter', 'there', 'List', '?', 'many', 'bottom', 'unique', 'than', '2', 'the', 'top', 'or', 'assuming', 'Count', 'total', 'grouped', 'is', '1', 'Find', 'Iris', 'show', 'Setosa', 'Median', 'alphabetically', 'starts', '4', 'Date', 'both', 'flowers', 'dataset', 'are', 'points', 'by', 'contains', 'Number', 'Sort', 'within', 'ends', 'less', 'not', 'for', 'Select', 'Group', 'above', 'name', 'January', 'versicolor', 'What', 'last', 'Show', 'this', 'all', 'least', 'records', 'between', 'across', '10th', 'average', 'Sum', 'percentile', 'of', 'descending', 'Determine', 'recorded', 'found', 'Calculate', 'Organize', 'field', 'Highest', 'high', 'at', 'data', 'how', 'Lengths', 'to', 'Minimum', 'species', 'value', 'and', '10', 'number', 'distinct', 'color', 'flower', 'month', 'Rank', 'equal', 'middle', 'count', 'How', 'Display']\n"
          ]
        }
      ]
    },
    {
      "cell_type": "markdown",
      "source": [
        "#formulas={} with keys=['text','label','vocab','stopwords']"
      ],
      "metadata": {
        "id": "atVOJSPMDXDk"
      }
    },
    {
      "cell_type": "code",
      "source": [
        "formulas={}\n",
        "formulas['stopwords']=['\\\\','Iri','Se','C','Sepal','ica','Length',\"'s\",'.',\"'\", 's', 'a','(',')','Petal','Distinct','distinct',\"Width\",',','BY','by','from',\"[\",\"]\"]\n",
        "formulas['text']=[sentence for sentence in df[df.columns[1]]]\n",
        "formulas['vocab']=list(set([word  for ii in range(len(dg_tok[dg_tok.columns[1]])) for word  in dg_tok[dg_tok.columns[1]][ii] if word not in formulas['stopwords']]))\n",
        "len_formulas_vocab=len(formulas['vocab'])"
      ],
      "metadata": {
        "id": "mP4RvAnQDhqw"
      },
      "execution_count": 20,
      "outputs": []
    },
    {
      "cell_type": "code",
      "source": [
        "print(len_formulas_vocab,formulas['vocab'])"
      ],
      "metadata": {
        "colab": {
          "base_uri": "https://localhost:8080/"
        },
        "id": "3tiDSO_5FSK5",
        "outputId": "7aa8fee8-451f-4ea5-ef2a-1f8660b6f470"
      },
      "execution_count": 21,
      "outputs": [
        {
          "output_type": "stream",
          "name": "stdout",
          "text": [
            "70 ['4', 'AND', 'DESC', '5', '=', 'Date', '0', 'setosa', 'DISTINCT', ':', 'STARTSWITH', 'LISTED', '>', 'RANK', 'SORT', '{', 'FROM', 'FIXED', 'Species', '<', 'ORDER', 'END', '}', 'IF', 'THEN', 'MAX', 'ENDSWITH', 'highest', '\"', 'NULL', 'ELSE', '*', '2', 'WITH', 'LEFT', 'MIN', 'to', 'BETWEEN', 'INDEX', '-', 'ASC', 'AVG', 'SORTED', 'COUNT', 'color', 'versicolor', 'SUM', 'lowest', 'CONTAINS', '”', '1', '“', 'DATETRUNC', 'month', 'virginica', 'TOP', '!', 'TODAY', '9', 'Setosa', 'YEAR', 'COUNTD', 'year', 'RANK_PERCENTILE', 'alphabetically', '3', 'GROUP', 'STARTS', \"',\", 'MEDIAN']\n"
          ]
        }
      ]
    },
    {
      "cell_type": "markdown",
      "source": [
        "# Recognition of entities"
      ],
      "metadata": {
        "id": "qP-7wngxaCHd"
      }
    },
    {
      "cell_type": "code",
      "source": [
        "def get_pos_(data,col_name):\n",
        "  dd=[]\n",
        "  gg=[]\n",
        "  for tok in data[col_name]:\n",
        "\n",
        "          for ent in nlp(str(list(str(tok).split()))):\n",
        "              # checking text between punct\n",
        "              dd.append({ent.text:ent.pos_})\n",
        "              gg.append({ent.pos_:ent.text})\n",
        "  return dd,gg\n",
        "\n",
        "\n",
        "def get_entity(data,col_name):\n",
        "     #from spacy.tokens import DocBin\n",
        "     dd=[]\n",
        "     dt=[]\n",
        "     for text in data[col_name]:\n",
        "          doc=nlp(text)\n",
        "          dp=[text]\n",
        "          dt_e={}\n",
        "          dt_e[\"entities\"]=[]\n",
        "          for ent in doc.ents:\n",
        "                    dp.append([ent.text,ent.label_])\n",
        "                    dt_e[\"entities\"].append((ent.start_char,ent.end_char,ent.label_))\n",
        "          dt.append((text,dt_e))\n",
        "          dd.append(dp)\n",
        "     return dd,dt"
      ],
      "metadata": {
        "id": "eMAJbb2faGQk"
      },
      "execution_count": 22,
      "outputs": []
    },
    {
      "cell_type": "code",
      "source": [
        "def get_patterns(data,col_name):\n",
        "     dt,dp=get_pos_(data,col_name)\n",
        "\n",
        "     pos_=[list(item.keys())[0] for item in dp]\n",
        "     pos_=list(set(pos_))\n",
        "     print(dt)\n",
        "     print(col_name,\":\",pos_)\n",
        "     patterns={}\n",
        "     patterns_head=[]\n",
        "     for key in pos_:\n",
        "         patterns.update({key:list(set([d[key] for d in dp if  key==list(d.keys())[0] and d[key] not in data[\"stopwords\"]]))})\n",
        "     return patterns"
      ],
      "metadata": {
        "id": "Oeo2V3MGdOvt"
      },
      "execution_count": 23,
      "outputs": []
    },
    {
      "cell_type": "markdown",
      "source": [
        "#Pipe entities to description"
      ],
      "metadata": {
        "id": "O3nyLDBqbvN-"
      }
    },
    {
      "cell_type": "code",
      "source": [
        "dg_ent={}"
      ],
      "metadata": {
        "id": "S64XfOnqa1MV"
      },
      "execution_count": 24,
      "outputs": []
    },
    {
      "cell_type": "code",
      "source": [
        "p_d=dg_ent['Patterns_Description']=get_patterns(description,\"vocab\")"
      ],
      "metadata": {
        "colab": {
          "base_uri": "https://localhost:8080/"
        },
        "id": "Katd9zAma3TE",
        "outputId": "6e7675cc-3a09-4942-df40-24d912369fe5"
      },
      "execution_count": 25,
      "outputs": [
        {
          "output_type": "stream",
          "name": "stdout",
          "text": [
            "[{'[': 'X'}, {\"'\": 'PUNCT'}, {'sorted': 'VERB'}, {\"'\": 'PUNCT'}, {']': 'PUNCT'}, {'[': 'X'}, {\"'\": 'PUNCT'}, {'Average': 'ADJ'}, {\"'\": 'PUNCT'}, {']': 'PUNCT'}, {'[': 'X'}, {\"'\": 'PUNCT'}, {'with': 'ADP'}, {\"'\": 'PUNCT'}, {']': 'PUNCT'}, {'[': 'X'}, {\"'\": 'NUM'}, {'5': 'NUM'}, {\"'\": 'PUNCT'}, {']': 'PUNCT'}, {'[': 'X'}, {\"'\": 'X'}, {'Entries': 'NOUN'}, {\"'\": 'PUNCT'}, {']': 'PUNCT'}, {'[': 'X'}, {\"'\": 'PUNCT'}, {'low': 'ADJ'}, {\"'\": 'PUNCT'}, {']': 'PUNCT'}, {'[': 'X'}, {\"'\": 'PUNCT'}, {'median': 'X'}, {\"'\": 'PUNCT'}, {']': 'PUNCT'}, {'[': 'X'}, {\"'\": 'PUNCT'}, {'each': 'PRON'}, {\"'\": 'PUNCT'}, {']': 'PUNCT'}, {'[': 'X'}, {\"'\": 'VERB'}, {'starting': 'VERB'}, {\"'\": 'PUNCT'}, {']': 'PUNCT'}, {'[': 'X'}, {\"'\": 'PUNCT'}, {'Top': 'ADJ'}, {\"'\": 'PUNCT'}, {']': 'PUNCT'}, {'[': 'X'}, {\"'\": 'PUNCT'}, {'exactly': 'ADV'}, {\"'\": 'PUNCT'}, {']': 'PUNCT'}, {'[': 'X'}, {\"'\": 'PUNCT'}, {'highest': 'ADJ'}, {\"'\": 'PUNCT'}, {']': 'PUNCT'}, {'[': 'X'}, {\"'\": 'PROPN'}, {'Total': 'ADJ'}, {\"'\": 'PUNCT'}, {']': 'PUNCT'}, {'[': 'X'}, {\"'\": 'PUNCT'}, {'Maximum': 'PROPN'}, {\"'\": 'PUNCT'}, {']': 'PUNCT'}, {'[': 'X'}, {\"'\": 'PUNCT'}, {'observation': 'NOUN'}, {\"'\": 'PUNCT'}, {']': 'PUNCT'}, {'[': 'X'}, {\"'\": 'NOUN'}, {'entries': 'NOUN'}, {\"'\": 'PUNCT'}, {']': 'PUNCT'}, {'[': 'X'}, {\"'\": 'PUNCT'}, {'start': 'VERB'}, {\"'\": 'PUNCT'}, {']': 'PUNCT'}, {'[': 'X'}, {\"'\": 'PUNCT'}, {'only': 'ADV'}, {\"'\": 'PUNCT'}, {']': 'PUNCT'}, {'[': 'X'}, {\"'\": 'PUNCT'}, {'ascending': 'VERB'}, {\"'\": 'PUNCT'}, {']': 'PUNCT'}, {'[': 'X'}, {\"'\": 'PUNCT'}, {'order': 'NOUN'}, {\"'\": 'PUNCT'}, {']': 'PUNCT'}, {'[': 'X'}, {\"'\": 'NOUN'}, {'occurrences': 'NOUN'}, {\"'\": 'PUNCT'}, {']': 'PUNCT'}, {'[': 'X'}, {\"'\": 'PUNCT'}, {'in': 'ADP'}, {\"'\": 'NOUN'}, {']': 'PUNCT'}, {'[': 'X'}, {\"'\": 'PUNCT'}, {'Lowest': 'ADJ'}, {\"'\": 'PUNCT'}, {']': 'PUNCT'}, {'[': 'X'}, {\"'\": 'NOUN'}, {'virginica': 'X'}, {\"'\": 'PUNCT'}, {']': 'PUNCT'}, {'[': 'X'}, {\"'\": 'PUNCT'}, {'year': 'NOUN'}, {\"'\": 'PUNCT'}, {']': 'PUNCT'}, {'[': 'X'}, {\"'\": 'X'}, {'Widths': 'NOUN'}, {\"'\": 'PUNCT'}, {']': 'PUNCT'}, {'[': 'X'}, {\"'\": 'NUM'}, {'3': 'NUM'}, {\"'\": 'PUNCT'}, {']': 'PUNCT'}, {'[': 'X'}, {\"'\": 'PUNCT'}, {'from': 'ADP'}, {\"'\": 'PUNCT'}, {']': 'PUNCT'}, {'[': 'X'}, {\"'\": 'PUNCT'}, {'setosa': 'X'}, {\"'\": 'PUNCT'}, {']': 'PUNCT'}, {'[': 'X'}, {\"'\": 'NUM'}, {'0': 'NUM'}, {\"'\": 'PUNCT'}, {']': 'PUNCT'}, {'[': 'X'}, {\"'\": 'VERB'}, {'where': 'SCONJ'}, {\"'\": 'PUNCT'}, {']': 'PUNCT'}, {'[': 'X'}, {\"'\": 'NOUN'}, {'types': 'NOUN'}, {\"'\": 'PUNCT'}, {']': 'PUNCT'}, {'[': 'X'}, {\"'\": 'PUNCT'}, {'Aggregate': 'VERB'}, {\"'\": 'PUNCT'}, {']': 'PUNCT'}, {'[': 'X'}, {\"'\": 'PUNCT'}, {'smallest': 'ADJ'}, {\"'\": 'PUNCT'}, {']': 'PUNCT'}, {'[': 'X'}, {\"'\": 'PUNCT'}, {'over': 'ADP'}, {\"'\": 'PUNCT'}, {']': 'PUNCT'}, {'[': 'X'}, {\"'\": 'X'}, {'%': 'INTJ'}, {\"'\": 'PUNCT'}, {']': 'PUNCT'}, {'[': 'X'}, {\"'\": 'PUNCT'}, {'Species': 'NOUN'}, {\"'\": 'PUNCT'}, {']': 'PUNCT'}, {'[': 'X'}, {\"'\": 'PUNCT'}, {'greater': 'ADJ'}, {\"'\": 'PUNCT'}, {']': 'PUNCT'}, {'[': 'X'}, {\"'\": 'X'}, {'Filter': 'PROPN'}, {\"'\": 'PUNCT'}, {']': 'PUNCT'}, {'[': 'X'}, {\"'\": 'PUNCT'}, {'there': 'PRON'}, {\"'\": 'NOUN'}, {']': 'PUNCT'}, {'[': 'X'}, {\"'\": 'PUNCT'}, {'List': 'NOUN'}, {\"'\": 'PUNCT'}, {']': 'PUNCT'}, {'[': 'X'}, {\"'\": 'PUNCT'}, {'?': 'PUNCT'}, {\"'\": 'PUNCT'}, {']': 'PUNCT'}, {'[': 'X'}, {\"'\": 'PUNCT'}, {'many': 'ADJ'}, {\"'\": 'PUNCT'}, {']': 'PUNCT'}, {'[': 'X'}, {\"'\": 'PUNCT'}, {'bottom': 'ADJ'}, {\"'\": 'PUNCT'}, {']': 'PUNCT'}, {'[': 'X'}, {\"'\": 'PUNCT'}, {'unique': 'ADJ'}, {\"'\": 'PUNCT'}, {']': 'PUNCT'}, {'[': 'X'}, {\"'\": 'PUNCT'}, {'than': 'ADP'}, {\"'\": 'NOUN'}, {']': 'PUNCT'}, {'[': 'X'}, {\"'\": 'NUM'}, {'2': 'NUM'}, {\"'\": 'PUNCT'}, {']': 'PUNCT'}, {'[': 'X'}, {\"'\": 'PUNCT'}, {'the': 'DET'}, {\"'\": 'PUNCT'}, {']': 'PUNCT'}, {'[': 'X'}, {\"'\": 'PUNCT'}, {'top': 'ADJ'}, {\"'\": 'PUNCT'}, {']': 'PUNCT'}, {'[': 'X'}, {\"'\": 'PUNCT'}, {'or': 'CCONJ'}, {\"'\": 'PUNCT'}, {']': 'PUNCT'}, {'[': 'X'}, {\"'\": 'PUNCT'}, {'assuming': 'VERB'}, {\"'\": 'PUNCT'}, {']': 'PUNCT'}, {'[': 'X'}, {\"'\": 'PUNCT'}, {'Count': 'PROPN'}, {\"'\": 'PUNCT'}, {']': 'PUNCT'}, {'[': 'X'}, {\"'\": 'PUNCT'}, {'total': 'ADJ'}, {\"'\": 'PUNCT'}, {']': 'PUNCT'}, {'[': 'X'}, {\"'\": 'PUNCT'}, {'grouped': 'VERB'}, {\"'\": 'PUNCT'}, {']': 'PUNCT'}, {'[': 'X'}, {\"'\": 'PUNCT'}, {'is': 'AUX'}, {\"'\": 'PUNCT'}, {']': 'PUNCT'}, {'[': 'X'}, {\"'\": 'NOUN'}, {'1': 'NUM'}, {\"'\": 'NUM'}, {']': 'PUNCT'}, {'[': 'X'}, {\"'\": 'PUNCT'}, {'Find': 'VERB'}, {\"'\": 'PUNCT'}, {']': 'PUNCT'}, {'[': 'X'}, {\"'\": 'X'}, {'Iris': 'PROPN'}, {\"'\": 'PUNCT'}, {']': 'PUNCT'}, {'[': 'X'}, {\"'\": 'PUNCT'}, {'show': 'VERB'}, {\"'\": 'PUNCT'}, {']': 'PUNCT'}, {'[': 'X'}, {\"'\": 'PUNCT'}, {'Setosa': 'PROPN'}, {\"'\": 'PUNCT'}, {']': 'PUNCT'}, {'[': 'X'}, {\"'\": 'PUNCT'}, {'Median': 'PROPN'}, {\"'\": 'PUNCT'}, {']': 'PUNCT'}, {'[': 'X'}, {\"'\": 'PUNCT'}, {'alphabetically': 'ADV'}, {\"'\": 'VERB'}, {']': 'PUNCT'}, {'[': 'X'}, {\"'\": 'PUNCT'}, {'starts': 'VERB'}, {\"'\": 'PUNCT'}, {']': 'PUNCT'}, {'[': 'X'}, {\"'\": 'NUM'}, {'4': 'NUM'}, {\"'\": 'PUNCT'}, {']': 'PUNCT'}, {'[': 'X'}, {\"'\": 'PUNCT'}, {'Date': 'PROPN'}, {\"'\": 'PUNCT'}, {']': 'PUNCT'}, {'[': 'X'}, {\"'\": 'PUNCT'}, {'both': 'PRON'}, {\"'\": 'VERB'}, {']': 'PUNCT'}, {'[': 'X'}, {\"'\": 'NOUN'}, {'flowers': 'NOUN'}, {\"'\": 'VERB'}, {']': 'PUNCT'}, {'[': 'X'}, {\"'\": 'PUNCT'}, {'dataset': 'ADJ'}, {\"'\": 'PUNCT'}, {']': 'PUNCT'}, {'[': 'X'}, {\"'\": 'VERB'}, {'are': 'AUX'}, {\"'\": 'PUNCT'}, {']': 'PUNCT'}, {'[': 'X'}, {\"'\": 'NOUN'}, {'points': 'NOUN'}, {\"'\": 'PUNCT'}, {']': 'PUNCT'}, {'[': 'X'}, {\"'\": 'PUNCT'}, {'by': 'ADP'}, {\"'\": 'PUNCT'}, {']': 'PUNCT'}, {'[': 'X'}, {\"'\": 'PUNCT'}, {'contains': 'VERB'}, {\"'\": 'PUNCT'}, {']': 'PUNCT'}, {'[': 'X'}, {\"'\": 'X'}, {'Number': 'NOUN'}, {\"'\": 'PUNCT'}, {']': 'PUNCT'}, {'[': 'X'}, {\"'\": 'PUNCT'}, {'Sort': 'ADV'}, {\"'\": 'NOUN'}, {']': 'PUNCT'}, {'[': 'X'}, {\"'\": 'PUNCT'}, {'within': 'ADP'}, {\"'\": 'PUNCT'}, {']': 'PUNCT'}, {'[': 'X'}, {\"'\": 'PUNCT'}, {'ends': 'VERB'}, {\"'\": 'PUNCT'}, {']': 'PUNCT'}, {'[': 'X'}, {\"'\": 'PUNCT'}, {'less': 'ADJ'}, {\"'\": 'PUNCT'}, {']': 'PUNCT'}, {'[': 'X'}, {\"'\": 'VERB'}, {'not': 'PART'}, {\"'\": 'PUNCT'}, {']': 'PUNCT'}, {'[': 'X'}, {\"'\": 'PUNCT'}, {'for': 'ADP'}, {\"'\": 'PUNCT'}, {']': 'PUNCT'}, {'[': 'X'}, {\"'\": 'PUNCT'}, {'Select': 'ADJ'}, {\"'\": 'PUNCT'}, {']': 'PUNCT'}, {'[': 'X'}, {\"'\": 'PUNCT'}, {'Group': 'PROPN'}, {\"'\": 'PUNCT'}, {']': 'PUNCT'}, {'[': 'X'}, {\"'\": 'PUNCT'}, {'above': 'ADP'}, {\"'\": 'PUNCT'}, {']': 'PUNCT'}, {'[': 'X'}, {\"'\": 'PUNCT'}, {'name': 'NOUN'}, {\"'\": 'PUNCT'}, {']': 'PUNCT'}, {'[': 'X'}, {\"'\": 'X'}, {'January': 'PROPN'}, {\"'\": 'PUNCT'}, {']': 'PUNCT'}, {'[': 'X'}, {\"'\": 'X'}, {'versicolor': 'NOUN'}, {\"'\": 'PUNCT'}, {']': 'PUNCT'}, {'[': 'X'}, {\"'\": 'PUNCT'}, {'What': 'PRON'}, {\"'\": 'VERB'}, {']': 'PUNCT'}, {'[': 'X'}, {\"'\": 'PUNCT'}, {'last': 'ADJ'}, {\"'\": 'PUNCT'}, {']': 'PUNCT'}, {'[': 'X'}, {\"'\": 'PUNCT'}, {'Show': 'VERB'}, {\"'\": 'PUNCT'}, {']': 'PUNCT'}, {'[': 'X'}, {\"'\": 'PUNCT'}, {'this': 'PRON'}, {\"'\": 'PUNCT'}, {']': 'PUNCT'}, {'[': 'X'}, {\"'\": 'PUNCT'}, {'all': 'PRON'}, {\"'\": 'NOUN'}, {']': 'PUNCT'}, {'[': 'X'}, {\"'\": 'PUNCT'}, {'least': 'ADJ'}, {\"'\": 'PUNCT'}, {']': 'PUNCT'}, {'[': 'X'}, {\"'\": 'NOUN'}, {'records': 'NOUN'}, {\"'\": 'PUNCT'}, {']': 'PUNCT'}, {'[': 'X'}, {\"'\": 'PUNCT'}, {'between': 'ADP'}, {\"'\": 'PUNCT'}, {']': 'PUNCT'}, {'[': 'X'}, {\"'\": 'PUNCT'}, {'across': 'ADP'}, {\"'\": 'PUNCT'}, {']': 'PUNCT'}, {'[': 'X'}, {\"'\": 'X'}, {'10th': 'X'}, {\"'\": 'PUNCT'}, {']': 'PUNCT'}, {'[': 'X'}, {\"'\": 'PUNCT'}, {'average': 'ADJ'}, {\"'\": 'PUNCT'}, {']': 'PUNCT'}, {'[': 'X'}, {\"'\": 'NOUN'}, {'Sum': 'NOUN'}, {\"'\": 'PUNCT'}, {']': 'PUNCT'}, {'[': 'X'}, {\"'\": 'PUNCT'}, {'percentile': 'ADJ'}, {\"'\": 'PUNCT'}, {']': 'PUNCT'}, {'[': 'X'}, {\"'\": 'VERB'}, {'of': 'ADP'}, {\"'\": 'PUNCT'}, {']': 'PUNCT'}, {'[': 'X'}, {\"'\": 'PUNCT'}, {'descending': 'VERB'}, {\"'\": 'NOUN'}, {']': 'PUNCT'}, {'[': 'X'}, {\"'\": 'PROPN'}, {'Determine': 'NOUN'}, {\"'\": 'PUNCT'}, {']': 'PUNCT'}, {'[': 'X'}, {\"'\": 'PUNCT'}, {'recorded': 'VERB'}, {\"'\": 'PUNCT'}, {']': 'PUNCT'}, {'[': 'X'}, {\"'\": 'PUNCT'}, {'found': 'VERB'}, {\"'\": 'PUNCT'}, {']': 'PUNCT'}, {'[': 'X'}, {\"'\": 'PUNCT'}, {'Calculate': 'ADJ'}, {\"'\": 'PUNCT'}, {']': 'PUNCT'}, {'[': 'X'}, {\"'\": 'PUNCT'}, {'Organize': 'VERB'}, {\"'\": 'PUNCT'}, {']': 'PUNCT'}, {'[': 'X'}, {\"'\": 'PUNCT'}, {'field': 'NOUN'}, {\"'\": 'PUNCT'}, {']': 'PUNCT'}, {'[': 'X'}, {\"'\": 'PUNCT'}, {'Highest': 'ADJ'}, {\"'\": 'PUNCT'}, {']': 'PUNCT'}, {'[': 'X'}, {\"'\": 'PUNCT'}, {'high': 'ADJ'}, {\"'\": 'PUNCT'}, {']': 'PUNCT'}, {'[': 'X'}, {\"'\": 'PUNCT'}, {'at': 'ADP'}, {\"'\": 'PUNCT'}, {']': 'PUNCT'}, {'[': 'X'}, {\"'\": 'PUNCT'}, {'data': 'NOUN'}, {\"'\": 'PUNCT'}, {']': 'PUNCT'}, {'[': 'X'}, {\"'\": 'NOUN'}, {'how': 'SCONJ'}, {\"'\": 'PUNCT'}, {']': 'PUNCT'}, {'[': 'X'}, {\"'\": 'X'}, {'Lengths': 'NOUN'}, {\"'\": 'PUNCT'}, {']': 'PUNCT'}, {'[': 'X'}, {\"'\": 'PUNCT'}, {'to': 'PART'}, {\"'\": 'PUNCT'}, {']': 'PUNCT'}, {'[': 'X'}, {\"'\": 'PUNCT'}, {'Minimum': 'PROPN'}, {\"'\": 'PUNCT'}, {']': 'PUNCT'}, {'[': 'X'}, {\"'\": 'PUNCT'}, {'species': 'NOUN'}, {\"'\": 'PUNCT'}, {']': 'PUNCT'}, {'[': 'X'}, {\"'\": 'NOUN'}, {'value': 'NOUN'}, {\"'\": 'PUNCT'}, {']': 'PUNCT'}, {'[': 'X'}, {\"'\": 'PUNCT'}, {'and': 'CCONJ'}, {\"'\": 'PUNCT'}, {']': 'PUNCT'}, {'[': 'X'}, {\"'\": 'NUM'}, {'10': 'NUM'}, {\"'\": 'PUNCT'}, {']': 'PUNCT'}, {'[': 'X'}, {\"'\": 'NOUN'}, {'number': 'NOUN'}, {\"'\": 'PUNCT'}, {']': 'PUNCT'}, {'[': 'X'}, {\"'\": 'PUNCT'}, {'distinct': 'ADJ'}, {\"'\": 'PUNCT'}, {']': 'PUNCT'}, {'[': 'X'}, {\"'\": 'PUNCT'}, {'color': 'NOUN'}, {\"'\": 'PUNCT'}, {']': 'PUNCT'}, {'[': 'X'}, {\"'\": 'PUNCT'}, {'flower': 'NOUN'}, {\"'\": 'PUNCT'}, {']': 'PUNCT'}, {'[': 'X'}, {\"'\": 'NOUN'}, {'month': 'NOUN'}, {\"'\": 'PUNCT'}, {']': 'PUNCT'}, {'[': 'X'}, {\"'\": 'X'}, {'Rank': 'PROPN'}, {\"'\": 'PUNCT'}, {']': 'PUNCT'}, {'[': 'X'}, {\"'\": 'PUNCT'}, {'equal': 'ADJ'}, {\"'\": 'PUNCT'}, {']': 'PUNCT'}, {'[': 'X'}, {\"'\": 'PUNCT'}, {'middle': 'ADJ'}, {\"'\": 'PUNCT'}, {']': 'PUNCT'}, {'[': 'X'}, {\"'\": 'PUNCT'}, {'count': 'VERB'}, {\"'\": 'PUNCT'}, {']': 'PUNCT'}, {'[': 'X'}, {\"'\": 'X'}, {'How': 'SCONJ'}, {\"'\": 'PUNCT'}, {']': 'PUNCT'}, {'[': 'X'}, {\"'\": 'PUNCT'}, {'Display': 'VERB'}, {\"'\": 'PUNCT'}, {']': 'PUNCT'}]\n",
            "vocab : ['NOUN', 'X', 'NUM', 'PRON', 'DET', 'AUX', 'ADP', 'VERB', 'ADV', 'SCONJ', 'INTJ', 'PROPN', 'CCONJ', 'PART', 'ADJ', 'PUNCT']\n"
          ]
        }
      ]
    },
    {
      "cell_type": "code",
      "source": [
        "#nlp = spacy.load('en_core_web_sm')\n",
        "\n",
        "# Function to create and return an EntityRuler with specified patterns\n",
        "def create_ruler(patterns, label):\n",
        "    ruler = EntityRuler(nlp, overwrite_ents=True)\n",
        "    formatted_patterns = [{\"label\": label, \"pattern\": pattern} for pattern in patterns]\n",
        "    ruler.add_patterns(formatted_patterns)\n",
        "    return ruler\n",
        "\n",
        "desc_conj=p_d['CCONJ']+ p_d['SCONJ']\n",
        "desc_intj=p_d['INTJ']\n",
        "desc_verb=p_d['VERB'] + p_d['AUX']\n",
        "desc_num=p_d['NUM']\n",
        "desc_adv=p_d['ADV']\n",
        "desc_pron=p_d['PRON'] + p_d['DET']\n",
        "desc_adp=p_d['ADP']\n",
        "desc_noun=[x for x in p_d['X'] if x != p_d['X'][1]]+p_d['NOUN'] +['dataset']\n",
        "desc_adj=[p_d['X'][1]]+[x for x in p_d['ADJ'] if x !='dataset' ]\n",
        "desc_propn=['Sepal Length','Sepal Width', 'Petal Length', 'Petal Width']+p_d['PROPN']\n",
        "\n",
        "# Create rulers\n",
        "ruler_conj = create_ruler(desc_conj,'CONJ')\n",
        "ruler_intj = create_ruler(desc_intj,'INTJ')\n",
        "ruler_verb = create_ruler(desc_verb,'VERB')\n",
        "ruler_num  = create_ruler(desc_num,'NUM')\n",
        "ruler_adv  = create_ruler(desc_adv,'ADV')\n",
        "ruler_pron = create_ruler(desc_pron,'PRON')\n",
        "ruler_adp  = create_ruler(desc_adp,'ADP')\n",
        "ruler_noun = create_ruler(desc_noun, \"NOUN\")\n",
        "ruler_adj = create_ruler(desc_adj, \"ADJ\")\n",
        "ruler_propn = create_ruler(desc_propn,\"PROPN\")\n",
        "\n",
        "# Create component factories\n",
        "@Language.component(\"ruler_conj\")\n",
        "def ruler_conj_component(doc):\n",
        "    return ruler_conj(doc)\n",
        "\n",
        "@Language.component(\"ruler_intj\")\n",
        "def ruler_intj_component(doc):\n",
        "    return ruler_intj(doc)\n",
        "\n",
        "@Language.component(\"ruler_verb\")\n",
        "def ruler_verb_component(doc):\n",
        "    return ruler_verb(doc)\n",
        "\n",
        "@Language.component(\"ruler_num\")\n",
        "def ruler_num_component(doc):\n",
        "    return ruler_num(doc)\n",
        "\n",
        "@Language.component(\"ruler_adv\")\n",
        "def ruler_adv_component(doc):\n",
        "    return ruler_adv(doc)\n",
        "\n",
        "@Language.component(\"ruler_pron\")\n",
        "def ruler_pron_component(doc):\n",
        "    return ruler_pron(doc)\n",
        "\n",
        "@Language.component(\"ruler_adp\")\n",
        "def ruler_adp_component(doc):\n",
        "    return ruler_adp(doc)\n",
        "\n",
        "@Language.component(\"ruler_noun\")\n",
        "def ruler_noun_component(doc):\n",
        "    return ruler_noun(doc)\n",
        "\n",
        "@Language.component(\"ruler_adj\")\n",
        "def ruler_adj_component(doc):\n",
        "    return ruler_adj(doc)\n",
        "\n",
        "@Language.component('ruler_propn')\n",
        "def ruler_propn_component(doc):\n",
        "     return ruler_propn(doc)\n",
        "\n",
        "# Add the components to the pipeline\n",
        "nlp.add_pipe(\"ruler_intj\", before=\"ner\")\n",
        "nlp.add_pipe(\"ruler_verb\",before=\"ner\")\n",
        "nlp.add_pipe(\"ruler_num\", before=\"ner\")\n",
        "nlp.add_pipe(\"ruler_adv\", before=\"ner\")\n",
        "nlp.add_pipe(\"ruler_pron\", before=\"ner\")\n",
        "nlp.add_pipe(\"ruler_adp\", before=\"ner\")\n",
        "nlp.add_pipe(\"ruler_noun\", before=\"ner\")\n",
        "nlp.add_pipe(\"ruler_adj\", before=\"ner\")\n",
        "nlp.add_pipe(\"ruler_propn\", before = \"ner\")\n",
        "nlp.to_disk('/content/ner_desc')\n",
        "# Test\n",
        "#doc=nlp(\"Sum of Sepal Length. Average Sepal Width across all entries . Count the number of records in the dataset\")\n",
        "#for ent in doc.ents:\n",
        "#    print(ent.text, ent.label_)\n",
        "ent_desc,Train_desc_data=get_entity(df,df.columns[0])"
      ],
      "metadata": {
        "id": "gf6_p_4MZSqm"
      },
      "execution_count": 26,
      "outputs": []
    },
    {
      "cell_type": "code",
      "source": [
        "# Test\n",
        "doc=nlp(\"Sum of Sepal Length. Average Sepal Width across all entries . Count the number of records in the dataset\")\n",
        "for ent in doc.ents:\n",
        "    print(ent.text, ent.label_)"
      ],
      "metadata": {
        "colab": {
          "base_uri": "https://localhost:8080/"
        },
        "id": "b9GG5gBIiVYZ",
        "outputId": "c616cca6-b4b1-4343-8e20-c165f7799539"
      },
      "execution_count": 27,
      "outputs": [
        {
          "output_type": "stream",
          "name": "stdout",
          "text": [
            "Sum NOUN\n",
            "of ADP\n",
            "Sepal Length PROPN\n",
            "Average ADJ\n",
            "Sepal Width PROPN\n",
            "across ADP\n",
            "all PRON\n",
            "entries NOUN\n",
            "Count PROPN\n",
            "the PRON\n",
            "number NOUN\n",
            "of ADP\n",
            "records NOUN\n",
            "in ADP\n",
            "the PRON\n",
            "dataset NOUN\n"
          ]
        }
      ]
    },
    {
      "cell_type": "code",
      "source": [
        "for pat in p_d:\n",
        "   print({pat:p_d[pat]})"
      ],
      "metadata": {
        "colab": {
          "base_uri": "https://localhost:8080/"
        },
        "id": "l8Dog81q0EzF",
        "outputId": "b12e9d4d-38ae-4819-d2e6-4ce48376c7ae"
      },
      "execution_count": 28,
      "outputs": [
        {
          "output_type": "stream",
          "name": "stdout",
          "text": [
            "{'NOUN': ['Sum', 'Entries', 'flowers', 'types', 'points', 'Determine', 'Species', 'field', 'Number', 'List', 'data', 'Lengths', 'species', 'value', 'number', 'observation', 'entries', 'name', 'color', 'flower', 'versicolor', 'order', 'occurrences', 'month', 'year', 'records', 'Widths']}\n",
            "{'X': ['median', 'setosa', '10th', 'virginica']}\n",
            "{'NUM': ['4', '5', '1', '10', '0', '3', '2']}\n",
            "{'PRON': ['both', 'this', 'there', 'all', 'each', 'What']}\n",
            "{'DET': ['the']}\n",
            "{'AUX': ['is', 'are']}\n",
            "{'ADP': ['across', 'with', 'for', 'in', 'above', 'of', 'at', 'over', 'within', 'between', 'than', 'from', 'by']}\n",
            "{'VERB': ['sorted', 'Aggregate', 'descending', 'recorded', 'contains', 'Organize', 'found', 'starting', 'ends', 'assuming', 'grouped', 'start', 'ascending', 'Find', 'Show', 'show', 'count', 'starts', 'Display']}\n",
            "{'ADV': ['alphabetically', 'Sort', 'exactly', 'only']}\n",
            "{'SCONJ': ['where', 'How', 'how']}\n",
            "{'INTJ': ['%']}\n",
            "{'PROPN': ['Date', 'Iris', 'Maximum', 'Rank', 'Filter', 'Count', 'Group', 'Setosa', 'Median', 'January', 'Minimum']}\n",
            "{'CCONJ': ['and', 'or']}\n",
            "{'PART': ['not', 'to']}\n",
            "{'ADJ': ['Average', 'average', 'percentile', 'dataset', 'low', 'smallest', 'greater', 'Calculate', 'Top', 'Highest', 'high', 'many', 'bottom', 'highest', 'unique', 'less', 'Total', 'top', 'total', 'distinct', 'last', 'equal', 'Lowest', 'middle', 'least', 'Select']}\n",
            "{'PUNCT': ['?']}\n"
          ]
        }
      ]
    },
    {
      "cell_type": "code",
      "source": [
        "print(ent_desc)"
      ],
      "metadata": {
        "colab": {
          "base_uri": "https://localhost:8080/"
        },
        "id": "LYc2lK3pah9n",
        "outputId": "cbce94fd-ff18-4f78-f710-b714afc5351e"
      },
      "execution_count": 29,
      "outputs": [
        {
          "output_type": "stream",
          "name": "stdout",
          "text": [
            "[['Sum of Sepal Length', ['Sum', 'NOUN'], ['of', 'ADP'], ['Sepal Length', 'PROPN']], ['Average Sepal Width across all entries', ['Average', 'ADJ'], ['Sepal Width', 'PROPN'], ['across', 'ADP'], ['all', 'PRON'], ['entries', 'NOUN']], ['Find the median Petal Length', ['Find', 'VERB'], ['the', 'PRON'], ['median', 'NOUN'], ['Petal Length', 'PROPN']], ['Count the number of records in the dataset', ['Count', 'PROPN'], ['the', 'PRON'], ['number', 'NOUN'], ['of', 'ADP'], ['records', 'NOUN'], ['in', 'ADP'], ['the', 'PRON'], ['dataset', 'NOUN']], ['Count distinct species in the dataset', ['Count', 'PROPN'], ['distinct', 'ADJ'], ['species', 'NOUN'], ['in', 'ADP'], ['the', 'PRON'], ['dataset', 'NOUN']], ['Minimum value of Sepal Length', ['Minimum', 'PROPN'], ['value', 'NOUN'], ['of', 'ADP'], ['Sepal Length', 'PROPN']], ['Maximum Petal Width found in the dataset', ['Maximum', 'PROPN'], ['Petal Width', 'PROPN'], ['found', 'VERB'], ['in', 'ADP'], ['the', 'PRON'], ['dataset', 'NOUN']], ['Group records by Species', ['Group', 'PROPN'], ['records', 'NOUN'], ['by', 'ADP'], ['Species', 'NOUN']], ['Sort the entries by Sepal Length in ascending order', ['Sort', 'ADV'], ['the', 'PRON'], ['entries', 'NOUN'], ['by', 'ADP'], ['Sepal Length', 'PROPN'], ['in', 'ADP'], ['ascending', 'VERB'], ['order', 'NOUN']], ['List Species alphabetically', ['List', 'NOUN'], ['Species', 'NOUN'], ['alphabetically', 'ADV']], ['Entries with Sepal Length at least 5.0', ['Entries', 'NOUN'], ['with', 'ADP'], ['Sepal Length', 'PROPN'], ['at', 'ADP'], ['least', 'ADJ']], ['Entries with Petal Length between 1.5 and 2.5', ['Entries', 'NOUN'], ['with', 'ADP'], ['Petal Length', 'PROPN'], ['between', 'ADP'], ['1.5', 'CARDINAL']], ['Top 3 entries with the highest Sepal Width', ['Top', 'ADJ'], ['3', 'NUM'], ['entries', 'NOUN'], ['with', 'ADP'], ['the', 'PRON'], ['highest', 'ADJ'], ['Sepal Width', 'PROPN']], [\"Species is 'Setosa'\", ['Species', 'NOUN'], ['is', 'VERB'], ['Setosa', 'PROPN']], [\"Species starts with 'Se'\", ['Species', 'NOUN'], ['starts', 'VERB'], ['with', 'ADP']], ['Calculate the total of Petal Lengths', ['Calculate', 'ADJ'], ['the', 'PRON'], ['total', 'ADJ'], ['of', 'ADP'], ['Lengths', 'NOUN']], ['What is the average Petal Width?', ['What', 'PRON'], ['is', 'VERB'], ['the', 'PRON'], ['average', 'ADJ'], ['Petal Width', 'PROPN']], ['Determine the middle value of Sepal Widths', ['Determine', 'NOUN'], ['the', 'PRON'], ['middle', 'ADJ'], ['value', 'NOUN'], ['of', 'ADP'], ['Widths', 'NOUN']], ['How many data points are there?', ['many', 'ADJ'], ['data', 'NOUN'], ['points', 'NOUN'], ['are', 'VERB'], ['there', 'PRON']], ['Number of unique flower types', ['Number', 'NOUN'], ['of', 'ADP'], ['unique', 'ADJ'], ['flower', 'NOUN'], ['types', 'NOUN']], ['Lowest Sepal Length recorded', ['Lowest', 'ADJ'], ['Sepal Length', 'PROPN'], ['recorded', 'VERB']], ['Highest value of Petal Width found', ['Highest', 'ADJ'], ['value', 'NOUN'], ['of', 'ADP'], ['Petal Width', 'PROPN'], ['found', 'VERB']], ['Organize data by Species in descending order', ['Organize', 'VERB'], ['data', 'NOUN'], ['by', 'ADP'], ['Species', 'NOUN'], ['in', 'ADP'], ['descending', 'VERB'], ['order', 'NOUN']], ['Rank Sepal Lengths from low to high', ['Rank', 'PROPN'], ['Lengths', 'NOUN'], ['from', 'ADP'], ['low', 'ADJ'], ['high', 'ADJ']], ['Filter for Sepal Length greater than or equal to 4.5', ['Filter', 'PROPN'], ['for', 'ADP'], ['Sepal Length', 'PROPN'], ['greater', 'ADJ'], ['than', 'ADP'], ['equal', 'ADJ'], ['4.5', 'CARDINAL']], ['Select entries with Petal Width less than 2.0', ['Select', 'ADJ'], ['entries', 'NOUN'], ['with', 'ADP'], ['Petal Width', 'PROPN'], ['less', 'ADJ'], ['than', 'ADP']], ['Show entries where Sepal Width is not 3.0', ['Show', 'VERB'], ['entries', 'NOUN'], ['Sepal Width', 'PROPN'], ['is', 'VERB'], ['3.0', 'CARDINAL']], [\"List all where the Species name ends with 'ica'\", ['List', 'NOUN'], ['all', 'PRON'], ['the', 'PRON'], ['Species', 'NOUN'], ['name', 'NOUN'], ['ends', 'VERB'], ['with', 'ADP']], ['Entries with a Sepal Length of exactly 5.0', ['Entries', 'NOUN'], ['with', 'ADP'], ['Sepal Length', 'PROPN'], ['of', 'ADP'], ['exactly', 'ADV'], ['5.0', 'CARDINAL']], ['Display the top 5 Species by Sepal Width', ['Display', 'VERB'], ['the', 'PRON'], ['top', 'ADJ'], ['5', 'NUM'], ['Species', 'NOUN'], ['by', 'ADP'], ['Sepal Width', 'PROPN']], ['Find the 3 smallest Petal Lengths', ['Find', 'VERB'], ['the', 'PRON'], ['3', 'NUM'], ['smallest', 'ADJ'], ['Petal', 'ORG'], ['Lengths', 'NOUN']], ['Count occurrences where Petal Length is between 4 and 5', ['Count', 'PROPN'], ['occurrences', 'NOUN'], ['Petal Length', 'PROPN'], ['is', 'VERB'], ['between', 'ADP'], ['4', 'NUM'], ['5', 'NUM']], [\"Aggregate data by the month of observation (assuming there's a Date field)\", ['Aggregate', 'VERB'], ['data', 'NOUN'], ['by', 'ADP'], ['the', 'PRON'], ['month', 'NOUN'], ['of', 'ADP'], ['observation', 'NOUN'], ['assuming', 'VERB'], ['there', 'PRON'], ['Date', 'PROPN'], ['field', 'NOUN']], [\"Filter records from last year (assuming there's a Date field)\", ['Filter', 'PROPN'], ['records', 'NOUN'], ['from', 'ADP'], ['last', 'ADJ'], ['year', 'NOUN'], ['assuming', 'VERB'], ['there', 'PRON'], ['Date', 'PROPN'], ['field', 'NOUN']], ['Show only the data starting from January this year', ['Show', 'VERB'], ['only', 'ADV'], ['the', 'PRON'], ['data', 'NOUN'], ['starting', 'VERB'], ['from', 'ADP'], ['January', 'PROPN'], ['this', 'PRON'], ['year', 'NOUN']], ['Find the average Sepal Length for each Species, sorted alphabetically', ['Find', 'VERB'], ['the', 'PRON'], ['average', 'ADJ'], ['Sepal Length', 'PROPN'], ['for', 'ADP'], ['each', 'PRON'], ['Species', 'NOUN'], ['sorted', 'VERB'], ['alphabetically', 'ADV']], [\"Count how many Species start with 'C'\", ['Count', 'PROPN'], ['many', 'ADJ'], ['Species', 'NOUN'], ['start', 'VERB'], ['with', 'ADP']], ['Entries with Petal Length and Sepal Length both above 4.0', ['Entries', 'NOUN'], ['with', 'ADP'], ['Petal Length', 'PROPN'], ['Sepal Length', 'PROPN'], ['both', 'PRON'], ['above', 'ADP'], ['4.0', 'CARDINAL']], ['List Species with Petal Width in the top 10%', ['List', 'NOUN'], ['Species', 'NOUN'], ['with', 'ADP'], ['Petal Width', 'PROPN'], ['in', 'ADP'], ['the', 'PRON'], ['top', 'ADJ'], ['10', 'NUM'], ['%', 'INTJ']], ['Total Sepal Length for all Iris flowers', ['Total', 'ADJ'], ['Sepal Length', 'PROPN'], ['for', 'ADP'], ['all', 'PRON'], ['Iris', 'PROPN'], ['flowers', 'NOUN']], ['Average Petal Width across all species', ['Average', 'ADJ'], ['Petal Width', 'PROPN'], ['across', 'ADP'], ['all', 'PRON'], ['species', 'NOUN']], ['Median Sepal Width for Iris setosa', ['Median', 'PROPN'], ['Sepal Width', 'PROPN'], ['for', 'ADP'], ['Iris', 'PROPN'], ['setosa', 'ADJ']], ['Count of Iris versicolor flowers', ['Count', 'PROPN'], ['of', 'ADP'], ['Iris', 'PROPN'], ['versicolor', 'NOUN'], ['flowers', 'NOUN']], ['Distinct count of species with Sepal Length over 5.0', ['count', 'VERB'], ['of', 'ADP'], ['species', 'NOUN'], ['with', 'ADP'], ['Sepal Length', 'PROPN'], ['over', 'ADP'], ['5.0', 'CARDINAL']], ['Minimum Petal Length for Iris virginica', ['Minimum', 'PROPN'], ['Petal Length', 'PROPN'], ['for', 'ADP'], ['Iris', 'PROPN'], ['virginica', 'NOUN']], ['Maximum Sepal Width across Iris setosa', ['Maximum', 'PROPN'], ['Sepal Width', 'PROPN'], ['across', 'ADP'], ['Iris', 'PROPN'], ['setosa', 'ADJ']], ['Total number of records grouped by Species', ['Total', 'ADJ'], ['number', 'NOUN'], ['of', 'ADP'], ['records', 'NOUN'], ['grouped', 'VERB'], ['by', 'ADP'], ['Species', 'NOUN']], ['Filter to show only Iris versicolor with Sepal Width at least 3.0', ['Filter', 'PROPN'], ['show', 'VERB'], ['only', 'ADV'], ['Iris', 'PROPN'], ['versicolor', 'NOUN'], ['with', 'ADP'], ['Sepal Width', 'PROPN'], ['at', 'ADP'], ['least', 'ADJ']], ['Show top 5 Sepal Lengths within Iris virginica only', ['Show', 'VERB'], ['top', 'ADJ'], ['5', 'NUM'], ['Lengths', 'NOUN'], ['within', 'ADP'], ['Iris', 'PROPN'], ['virginica', 'NOUN'], ['only', 'ADV']], ['Iris flowers with Petal Width in the bottom 10th percentile', ['Iris', 'PROPN'], ['flowers', 'NOUN'], ['with', 'ADP'], ['Petal Width', 'PROPN'], ['in', 'ADP'], ['the', 'PRON'], ['bottom', 'ADJ'], ['10th', 'NOUN'], ['percentile', 'ADJ']], ['Average Sepal Length for each species', ['Average', 'ADJ'], ['Sepal Length', 'PROPN'], ['for', 'ADP'], ['each', 'PRON'], ['species', 'NOUN']], ['Entries with Petal Length between 4.0 and 5.0 for Iris setosa', ['Entries', 'NOUN'], ['with', 'ADP'], ['Petal Length', 'PROPN'], ['between', 'ADP'], ['5.0', 'CARDINAL'], ['for', 'ADP'], ['Iris', 'PROPN'], ['setosa', 'ADJ']], [\"Count Iris flowers where the Species name contains 'color'\", ['Count', 'PROPN'], ['Iris', 'PROPN'], ['flowers', 'NOUN'], ['the', 'PRON'], ['Species', 'NOUN'], ['name', 'NOUN'], ['contains', 'VERB'], ['color', 'NOUN']], [\"List all Iris flowers where the Species name starts with 'Iri' and ends with 'a'\", ['List', 'NOUN'], ['all', 'PRON'], ['Iris', 'PROPN'], ['flowers', 'NOUN'], ['the', 'PRON'], ['Species', 'NOUN'], ['name', 'NOUN'], ['starts', 'VERB'], ['with', 'ADP'], ['ends', 'VERB'], ['with', 'ADP']]]\n"
          ]
        }
      ]
    },
    {
      "cell_type": "markdown",
      "source": [
        "#Train Description Data"
      ],
      "metadata": {
        "id": "7mb_zV3ga6J6"
      }
    },
    {
      "cell_type": "code",
      "source": [
        "for item in Train_desc_data:\n",
        "    print(item)"
      ],
      "metadata": {
        "colab": {
          "base_uri": "https://localhost:8080/"
        },
        "id": "VnN4xw0DajZu",
        "outputId": "9d55f42d-55d1-4fdd-e337-2eacfde8cfa2"
      },
      "execution_count": 30,
      "outputs": [
        {
          "output_type": "stream",
          "name": "stdout",
          "text": [
            "('Sum of Sepal Length', {'entities': [(0, 3, 'NOUN'), (4, 6, 'ADP'), (7, 19, 'PROPN')]})\n",
            "('Average Sepal Width across all entries', {'entities': [(0, 7, 'ADJ'), (8, 19, 'PROPN'), (20, 26, 'ADP'), (27, 30, 'PRON'), (31, 38, 'NOUN')]})\n",
            "('Find the median Petal Length', {'entities': [(0, 4, 'VERB'), (5, 8, 'PRON'), (9, 15, 'NOUN'), (16, 28, 'PROPN')]})\n",
            "('Count the number of records in the dataset', {'entities': [(0, 5, 'PROPN'), (6, 9, 'PRON'), (10, 16, 'NOUN'), (17, 19, 'ADP'), (20, 27, 'NOUN'), (28, 30, 'ADP'), (31, 34, 'PRON'), (35, 42, 'NOUN')]})\n",
            "('Count distinct species in the dataset', {'entities': [(0, 5, 'PROPN'), (6, 14, 'ADJ'), (15, 22, 'NOUN'), (23, 25, 'ADP'), (26, 29, 'PRON'), (30, 37, 'NOUN')]})\n",
            "('Minimum value of Sepal Length', {'entities': [(0, 7, 'PROPN'), (8, 13, 'NOUN'), (14, 16, 'ADP'), (17, 29, 'PROPN')]})\n",
            "('Maximum Petal Width found in the dataset', {'entities': [(0, 7, 'PROPN'), (8, 19, 'PROPN'), (20, 25, 'VERB'), (26, 28, 'ADP'), (29, 32, 'PRON'), (33, 40, 'NOUN')]})\n",
            "('Group records by Species', {'entities': [(0, 5, 'PROPN'), (6, 13, 'NOUN'), (14, 16, 'ADP'), (17, 24, 'NOUN')]})\n",
            "('Sort the entries by Sepal Length in ascending order', {'entities': [(0, 4, 'ADV'), (5, 8, 'PRON'), (9, 16, 'NOUN'), (17, 19, 'ADP'), (20, 32, 'PROPN'), (33, 35, 'ADP'), (36, 45, 'VERB'), (46, 51, 'NOUN')]})\n",
            "('List Species alphabetically', {'entities': [(0, 4, 'NOUN'), (5, 12, 'NOUN'), (13, 27, 'ADV')]})\n",
            "('Entries with Sepal Length at least 5.0', {'entities': [(0, 7, 'NOUN'), (8, 12, 'ADP'), (13, 25, 'PROPN'), (26, 28, 'ADP'), (29, 34, 'ADJ')]})\n",
            "('Entries with Petal Length between 1.5 and 2.5', {'entities': [(0, 7, 'NOUN'), (8, 12, 'ADP'), (13, 25, 'PROPN'), (26, 33, 'ADP'), (34, 37, 'CARDINAL')]})\n",
            "('Top 3 entries with the highest Sepal Width', {'entities': [(0, 3, 'ADJ'), (4, 5, 'NUM'), (6, 13, 'NOUN'), (14, 18, 'ADP'), (19, 22, 'PRON'), (23, 30, 'ADJ'), (31, 42, 'PROPN')]})\n",
            "(\"Species is 'Setosa'\", {'entities': [(0, 7, 'NOUN'), (8, 10, 'VERB'), (12, 18, 'PROPN')]})\n",
            "(\"Species starts with 'Se'\", {'entities': [(0, 7, 'NOUN'), (8, 14, 'VERB'), (15, 19, 'ADP')]})\n",
            "('Calculate the total of Petal Lengths', {'entities': [(0, 9, 'ADJ'), (10, 13, 'PRON'), (14, 19, 'ADJ'), (20, 22, 'ADP'), (29, 36, 'NOUN')]})\n",
            "('What is the average Petal Width?', {'entities': [(0, 4, 'PRON'), (5, 7, 'VERB'), (8, 11, 'PRON'), (12, 19, 'ADJ'), (20, 31, 'PROPN')]})\n",
            "('Determine the middle value of Sepal Widths', {'entities': [(0, 9, 'NOUN'), (10, 13, 'PRON'), (14, 20, 'ADJ'), (21, 26, 'NOUN'), (27, 29, 'ADP'), (36, 42, 'NOUN')]})\n",
            "('How many data points are there?', {'entities': [(4, 8, 'ADJ'), (9, 13, 'NOUN'), (14, 20, 'NOUN'), (21, 24, 'VERB'), (25, 30, 'PRON')]})\n",
            "('Number of unique flower types', {'entities': [(0, 6, 'NOUN'), (7, 9, 'ADP'), (10, 16, 'ADJ'), (17, 23, 'NOUN'), (24, 29, 'NOUN')]})\n",
            "('Lowest Sepal Length recorded', {'entities': [(0, 6, 'ADJ'), (7, 19, 'PROPN'), (20, 28, 'VERB')]})\n",
            "('Highest value of Petal Width found', {'entities': [(0, 7, 'ADJ'), (8, 13, 'NOUN'), (14, 16, 'ADP'), (17, 28, 'PROPN'), (29, 34, 'VERB')]})\n",
            "('Organize data by Species in descending order', {'entities': [(0, 8, 'VERB'), (9, 13, 'NOUN'), (14, 16, 'ADP'), (17, 24, 'NOUN'), (25, 27, 'ADP'), (28, 38, 'VERB'), (39, 44, 'NOUN')]})\n",
            "('Rank Sepal Lengths from low to high', {'entities': [(0, 4, 'PROPN'), (11, 18, 'NOUN'), (19, 23, 'ADP'), (24, 27, 'ADJ'), (31, 35, 'ADJ')]})\n",
            "('Filter for Sepal Length greater than or equal to 4.5', {'entities': [(0, 6, 'PROPN'), (7, 10, 'ADP'), (11, 23, 'PROPN'), (24, 31, 'ADJ'), (32, 36, 'ADP'), (40, 45, 'ADJ'), (49, 52, 'CARDINAL')]})\n",
            "('Select entries with Petal Width less than 2.0', {'entities': [(0, 6, 'ADJ'), (7, 14, 'NOUN'), (15, 19, 'ADP'), (20, 31, 'PROPN'), (32, 36, 'ADJ'), (37, 41, 'ADP')]})\n",
            "('Show entries where Sepal Width is not 3.0', {'entities': [(0, 4, 'VERB'), (5, 12, 'NOUN'), (19, 30, 'PROPN'), (31, 33, 'VERB'), (38, 41, 'CARDINAL')]})\n",
            "(\"List all where the Species name ends with 'ica'\", {'entities': [(0, 4, 'NOUN'), (5, 8, 'PRON'), (15, 18, 'PRON'), (19, 26, 'NOUN'), (27, 31, 'NOUN'), (32, 36, 'VERB'), (37, 41, 'ADP')]})\n",
            "('Entries with a Sepal Length of exactly 5.0', {'entities': [(0, 7, 'NOUN'), (8, 12, 'ADP'), (15, 27, 'PROPN'), (28, 30, 'ADP'), (31, 38, 'ADV'), (39, 42, 'CARDINAL')]})\n",
            "('Display the top 5 Species by Sepal Width', {'entities': [(0, 7, 'VERB'), (8, 11, 'PRON'), (12, 15, 'ADJ'), (16, 17, 'NUM'), (18, 25, 'NOUN'), (26, 28, 'ADP'), (29, 40, 'PROPN')]})\n",
            "('Find the 3 smallest Petal Lengths', {'entities': [(0, 4, 'VERB'), (5, 8, 'PRON'), (9, 10, 'NUM'), (11, 19, 'ADJ'), (20, 25, 'ORG'), (26, 33, 'NOUN')]})\n",
            "('Count occurrences where Petal Length is between 4 and 5', {'entities': [(0, 5, 'PROPN'), (6, 17, 'NOUN'), (24, 36, 'PROPN'), (37, 39, 'VERB'), (40, 47, 'ADP'), (48, 49, 'NUM'), (54, 55, 'NUM')]})\n",
            "(\"Aggregate data by the month of observation (assuming there's a Date field)\", {'entities': [(0, 9, 'VERB'), (10, 14, 'NOUN'), (15, 17, 'ADP'), (18, 21, 'PRON'), (22, 27, 'NOUN'), (28, 30, 'ADP'), (31, 42, 'NOUN'), (44, 52, 'VERB'), (53, 58, 'PRON'), (63, 67, 'PROPN'), (68, 73, 'NOUN')]})\n",
            "(\"Filter records from last year (assuming there's a Date field)\", {'entities': [(0, 6, 'PROPN'), (7, 14, 'NOUN'), (15, 19, 'ADP'), (20, 24, 'ADJ'), (25, 29, 'NOUN'), (31, 39, 'VERB'), (40, 45, 'PRON'), (50, 54, 'PROPN'), (55, 60, 'NOUN')]})\n",
            "('Show only the data starting from January this year', {'entities': [(0, 4, 'VERB'), (5, 9, 'ADV'), (10, 13, 'PRON'), (14, 18, 'NOUN'), (19, 27, 'VERB'), (28, 32, 'ADP'), (33, 40, 'PROPN'), (41, 45, 'PRON'), (46, 50, 'NOUN')]})\n",
            "('Find the average Sepal Length for each Species, sorted alphabetically', {'entities': [(0, 4, 'VERB'), (5, 8, 'PRON'), (9, 16, 'ADJ'), (17, 29, 'PROPN'), (30, 33, 'ADP'), (34, 38, 'PRON'), (39, 46, 'NOUN'), (48, 54, 'VERB'), (55, 69, 'ADV')]})\n",
            "(\"Count how many Species start with 'C'\", {'entities': [(0, 5, 'PROPN'), (10, 14, 'ADJ'), (15, 22, 'NOUN'), (23, 28, 'VERB'), (29, 33, 'ADP')]})\n",
            "('Entries with Petal Length and Sepal Length both above 4.0', {'entities': [(0, 7, 'NOUN'), (8, 12, 'ADP'), (13, 25, 'PROPN'), (30, 42, 'PROPN'), (43, 47, 'PRON'), (48, 53, 'ADP'), (54, 57, 'CARDINAL')]})\n",
            "('List Species with Petal Width in the top 10%', {'entities': [(0, 4, 'NOUN'), (5, 12, 'NOUN'), (13, 17, 'ADP'), (18, 29, 'PROPN'), (30, 32, 'ADP'), (33, 36, 'PRON'), (37, 40, 'ADJ'), (41, 43, 'NUM'), (43, 44, 'INTJ')]})\n",
            "('Total Sepal Length for all Iris flowers', {'entities': [(0, 5, 'ADJ'), (6, 18, 'PROPN'), (19, 22, 'ADP'), (23, 26, 'PRON'), (27, 31, 'PROPN'), (32, 39, 'NOUN')]})\n",
            "('Average Petal Width across all species', {'entities': [(0, 7, 'ADJ'), (8, 19, 'PROPN'), (20, 26, 'ADP'), (27, 30, 'PRON'), (31, 38, 'NOUN')]})\n",
            "('Median Sepal Width for Iris setosa', {'entities': [(0, 6, 'PROPN'), (7, 18, 'PROPN'), (19, 22, 'ADP'), (23, 27, 'PROPN'), (28, 34, 'ADJ')]})\n",
            "('Count of Iris versicolor flowers', {'entities': [(0, 5, 'PROPN'), (6, 8, 'ADP'), (9, 13, 'PROPN'), (14, 24, 'NOUN'), (25, 32, 'NOUN')]})\n",
            "('Distinct count of species with Sepal Length over 5.0', {'entities': [(9, 14, 'VERB'), (15, 17, 'ADP'), (18, 25, 'NOUN'), (26, 30, 'ADP'), (31, 43, 'PROPN'), (44, 48, 'ADP'), (49, 52, 'CARDINAL')]})\n",
            "('Minimum Petal Length for Iris virginica', {'entities': [(0, 7, 'PROPN'), (8, 20, 'PROPN'), (21, 24, 'ADP'), (25, 29, 'PROPN'), (30, 39, 'NOUN')]})\n",
            "('Maximum Sepal Width across Iris setosa', {'entities': [(0, 7, 'PROPN'), (8, 19, 'PROPN'), (20, 26, 'ADP'), (27, 31, 'PROPN'), (32, 38, 'ADJ')]})\n",
            "('Total number of records grouped by Species', {'entities': [(0, 5, 'ADJ'), (6, 12, 'NOUN'), (13, 15, 'ADP'), (16, 23, 'NOUN'), (24, 31, 'VERB'), (32, 34, 'ADP'), (35, 42, 'NOUN')]})\n",
            "('Filter to show only Iris versicolor with Sepal Width at least 3.0', {'entities': [(0, 6, 'PROPN'), (10, 14, 'VERB'), (15, 19, 'ADV'), (20, 24, 'PROPN'), (25, 35, 'NOUN'), (36, 40, 'ADP'), (41, 52, 'PROPN'), (53, 55, 'ADP'), (56, 61, 'ADJ')]})\n",
            "('Show top 5 Sepal Lengths within Iris virginica only', {'entities': [(0, 4, 'VERB'), (5, 8, 'ADJ'), (9, 10, 'NUM'), (17, 24, 'NOUN'), (25, 31, 'ADP'), (32, 36, 'PROPN'), (37, 46, 'NOUN'), (47, 51, 'ADV')]})\n",
            "('Iris flowers with Petal Width in the bottom 10th percentile', {'entities': [(0, 4, 'PROPN'), (5, 12, 'NOUN'), (13, 17, 'ADP'), (18, 29, 'PROPN'), (30, 32, 'ADP'), (33, 36, 'PRON'), (37, 43, 'ADJ'), (44, 48, 'NOUN'), (49, 59, 'ADJ')]})\n",
            "('Average Sepal Length for each species', {'entities': [(0, 7, 'ADJ'), (8, 20, 'PROPN'), (21, 24, 'ADP'), (25, 29, 'PRON'), (30, 37, 'NOUN')]})\n",
            "('Entries with Petal Length between 4.0 and 5.0 for Iris setosa', {'entities': [(0, 7, 'NOUN'), (8, 12, 'ADP'), (13, 25, 'PROPN'), (26, 33, 'ADP'), (42, 45, 'CARDINAL'), (46, 49, 'ADP'), (50, 54, 'PROPN'), (55, 61, 'ADJ')]})\n",
            "(\"Count Iris flowers where the Species name contains 'color'\", {'entities': [(0, 5, 'PROPN'), (6, 10, 'PROPN'), (11, 18, 'NOUN'), (25, 28, 'PRON'), (29, 36, 'NOUN'), (37, 41, 'NOUN'), (42, 50, 'VERB'), (52, 57, 'NOUN')]})\n",
            "(\"List all Iris flowers where the Species name starts with 'Iri' and ends with 'a'\", {'entities': [(0, 4, 'NOUN'), (5, 8, 'PRON'), (9, 13, 'PROPN'), (14, 21, 'NOUN'), (28, 31, 'PRON'), (32, 39, 'NOUN'), (40, 44, 'NOUN'), (45, 51, 'VERB'), (52, 56, 'ADP'), (67, 71, 'VERB'), (72, 76, 'ADP')]})\n"
          ]
        }
      ]
    },
    {
      "cell_type": "markdown",
      "source": [
        "#Pipeline Formulas (Tableau) entities"
      ],
      "metadata": {
        "id": "qMay2DF8akLK"
      }
    },
    {
      "cell_type": "code",
      "source": [
        "p_t=dg_ent['Patterns_Formula(Tableau)']=get_patterns(formulas,'vocab')"
      ],
      "metadata": {
        "colab": {
          "base_uri": "https://localhost:8080/"
        },
        "id": "knvqM9K-ccHt",
        "outputId": "5e6a7ee5-bc29-47d1-f35f-e17de8c6ce5d"
      },
      "execution_count": 31,
      "outputs": [
        {
          "output_type": "stream",
          "name": "stdout",
          "text": [
            "[{'[': 'X'}, {\"'\": 'NUM'}, {'4': 'NUM'}, {\"'\": 'PUNCT'}, {']': 'PUNCT'}, {'[': 'X'}, {\"'\": 'PUNCT'}, {'AND': 'CCONJ'}, {\"'\": 'PUNCT'}, {']': 'PUNCT'}, {'[': 'X'}, {\"'\": 'PUNCT'}, {'DESC': 'VERB'}, {\"'\": 'PUNCT'}, {']': 'PUNCT'}, {'[': 'X'}, {\"'\": 'NUM'}, {'5': 'NUM'}, {\"'\": 'PUNCT'}, {']': 'PUNCT'}, {'[': 'X'}, {\"'\": 'PROPN'}, {'=': 'X'}, {\"'\": 'X'}, {']': 'PUNCT'}, {'[': 'X'}, {\"'\": 'PUNCT'}, {'Date': 'PROPN'}, {\"'\": 'PUNCT'}, {']': 'PUNCT'}, {'[': 'X'}, {\"'\": 'NUM'}, {'0': 'NUM'}, {\"'\": 'PUNCT'}, {']': 'PUNCT'}, {'[': 'X'}, {\"'\": 'PUNCT'}, {'setosa': 'X'}, {\"'\": 'PUNCT'}, {']': 'PUNCT'}, {'[': 'X'}, {\"'\": 'PUNCT'}, {'DISTINCT': 'NOUN'}, {\"'\": 'PUNCT'}, {']': 'PUNCT'}, {'[': 'X'}, {\"'\": 'PUNCT'}, {':': 'PUNCT'}, {\"'\": 'PUNCT'}, {']': 'PUNCT'}, {'[': 'X'}, {\"'\": 'PUNCT'}, {'STARTSWITH': 'X'}, {\"'\": 'NOUN'}, {']': 'PUNCT'}, {'[': 'X'}, {\"'\": 'PUNCT'}, {'LISTED': 'VERB'}, {\"'\": 'PUNCT'}, {']': 'PUNCT'}, {'[': 'X'}, {\"'\": 'VERB'}, {'>': 'X'}, {\"'\": 'PUNCT'}, {']': 'PUNCT'}, {'[': 'X'}, {\"'\": 'PUNCT'}, {'RANK': 'VERB'}, {\"'\": 'PUNCT'}, {']': 'PUNCT'}, {'[': 'X'}, {\"'\": 'VERB'}, {'SORT': 'ADV'}, {\"'\": 'NOUN'}, {']': 'PUNCT'}, {'[': 'X'}, {\"'\": 'VERB'}, {'{': 'PUNCT'}, {\"'\": 'PROPN'}, {']': 'PUNCT'}, {'[': 'X'}, {\"'\": 'PUNCT'}, {'FROM': 'ADP'}, {\"'\": 'PUNCT'}, {']': 'PUNCT'}, {'[': 'X'}, {\"'\": 'VERB'}, {'FIXED': 'NOUN'}, {\"'\": 'PUNCT'}, {']': 'PUNCT'}, {'[': 'X'}, {\"'\": 'PUNCT'}, {'Species': 'NOUN'}, {\"'\": 'PUNCT'}, {']': 'PUNCT'}, {'[': 'X'}, {\"'\": 'X'}, {'<': 'X'}, {\"'\": 'PUNCT'}, {']': 'PUNCT'}, {'[': 'X'}, {\"'\": 'X'}, {'ORDER': 'NOUN'}, {\"'\": 'PUNCT'}, {']': 'PUNCT'}, {'[': 'X'}, {\"'\": 'PROPN'}, {'END': 'PROPN'}, {\"'\": 'PUNCT'}, {']': 'PUNCT'}, {'[': 'X'}, {\"'\": 'VERB'}, {'}': 'PRON'}, {\"'\": 'PUNCT'}, {']': 'PUNCT'}, {'[': 'X'}, {\"'\": 'PUNCT'}, {'IF': 'SCONJ'}, {\"'\": 'NOUN'}, {']': 'PUNCT'}, {'[': 'X'}, {\"'\": 'VERB'}, {'THEN': 'ADV'}, {\"'\": 'PUNCT'}, {']': 'PUNCT'}, {'[': 'X'}, {\"'\": 'X'}, {'MAX': 'PROPN'}, {\"'\": 'PUNCT'}, {']': 'PUNCT'}, {'[': 'X'}, {\"'\": 'VERB'}, {'ENDSWITH': 'NOUN'}, {\"'\": 'PUNCT'}, {']': 'PUNCT'}, {'[': 'X'}, {\"'\": 'PUNCT'}, {'highest': 'ADJ'}, {\"'\": 'PUNCT'}, {']': 'PUNCT'}, {'[': 'X'}, {\"'\": 'PUNCT'}, {'\"': 'PUNCT'}, {\"'\": 'PUNCT'}, {']': 'PUNCT'}, {'[': 'X'}, {\"'\": 'PUNCT'}, {'NULL': 'PROPN'}, {\"'\": 'PUNCT'}, {']': 'PUNCT'}, {'[': 'X'}, {\"'\": 'PUNCT'}, {'ELSE': 'ADV'}, {\"'\": 'PUNCT'}, {']': 'PUNCT'}, {'[': 'X'}, {\"'\": 'X'}, {'*': 'X'}, {\"'\": 'X'}, {']': 'PUNCT'}, {'[': 'X'}, {\"'\": 'NUM'}, {'2': 'NUM'}, {\"'\": 'PUNCT'}, {']': 'PUNCT'}, {'[': 'X'}, {\"'\": 'PUNCT'}, {'WITH': 'ADP'}, {\"'\": 'PUNCT'}, {']': 'PUNCT'}, {'[': 'X'}, {\"'\": 'VERB'}, {'LEFT': 'PROPN'}, {\"'\": 'PUNCT'}, {']': 'PUNCT'}, {'[': 'X'}, {\"'\": 'PUNCT'}, {'MIN': 'PROPN'}, {\"'\": 'PROPN'}, {']': 'PUNCT'}, {'[': 'X'}, {\"'\": 'PUNCT'}, {'to': 'PART'}, {\"'\": 'PUNCT'}, {']': 'PUNCT'}, {'[': 'X'}, {\"'\": 'PUNCT'}, {'BETWEEN': 'ADP'}, {\"'\": 'PUNCT'}, {']': 'PUNCT'}, {'[': 'X'}, {\"'\": 'PROPN'}, {'INDEX': 'NOUN'}, {\"'\": 'PUNCT'}, {']': 'PUNCT'}, {'[': 'X'}, {\"'\": 'INTJ'}, {'-': 'VERB'}, {\"'\": 'PUNCT'}, {']': 'PUNCT'}, {'[': 'X'}, {\"'\": 'X'}, {'ASC': 'PROPN'}, {\"'\": 'PUNCT'}, {']': 'PUNCT'}, {'[': 'X'}, {\"'\": 'PROPN'}, {'AVG': 'PROPN'}, {\"'\": 'PUNCT'}, {']': 'PUNCT'}, {'[': 'X'}, {\"'\": 'PUNCT'}, {'SORTED': 'ADJ'}, {\"'\": 'PUNCT'}, {']': 'PUNCT'}, {'[': 'X'}, {\"'\": 'X'}, {'COUNT': 'PROPN'}, {\"'\": 'PUNCT'}, {']': 'PUNCT'}, {'[': 'X'}, {\"'\": 'PUNCT'}, {'color': 'NOUN'}, {\"'\": 'PUNCT'}, {']': 'PUNCT'}, {'[': 'X'}, {\"'\": 'X'}, {'versicolor': 'NOUN'}, {\"'\": 'PUNCT'}, {']': 'PUNCT'}, {'[': 'X'}, {\"'\": 'VERB'}, {'SUM': 'PROPN'}, {\"'\": 'PUNCT'}, {']': 'PUNCT'}, {'[': 'X'}, {\"'\": 'PUNCT'}, {'lowest': 'ADJ'}, {\"'\": 'PUNCT'}, {']': 'PUNCT'}, {'[': 'X'}, {\"'\": 'PUNCT'}, {'CONTAINS': 'X'}, {\"'\": 'PUNCT'}, {']': 'PUNCT'}, {'[': 'X'}, {\"'\": 'VERB'}, {'”': 'PUNCT'}, {\"'\": 'PUNCT'}, {']': 'PUNCT'}, {'[': 'X'}, {\"'\": 'NOUN'}, {'1': 'NUM'}, {\"'\": 'NUM'}, {']': 'PUNCT'}, {'[': 'X'}, {\"'\": 'PUNCT'}, {'“': 'PUNCT'}, {\"'\": 'PUNCT'}, {']': 'PUNCT'}, {'[': 'X'}, {\"'\": 'VERB'}, {'DATETRUNC': 'PROPN'}, {\"'\": 'PUNCT'}, {']': 'PUNCT'}, {'[': 'X'}, {\"'\": 'NOUN'}, {'month': 'NOUN'}, {\"'\": 'PUNCT'}, {']': 'PUNCT'}, {'[': 'X'}, {\"'\": 'NOUN'}, {'virginica': 'X'}, {\"'\": 'PUNCT'}, {']': 'PUNCT'}, {'[': 'X'}, {\"'\": 'PROPN'}, {'TOP': 'NUM'}, {\"'\": 'PUNCT'}, {']': 'PUNCT'}, {'[': 'X'}, {\"'\": 'PUNCT'}, {'!': 'PUNCT'}, {\"'\": 'PUNCT'}, {']': 'PUNCT'}, {'[': 'X'}, {\"'\": 'VERB'}, {'TODAY': 'NOUN'}, {\"'\": 'PUNCT'}, {']': 'PUNCT'}, {'[': 'X'}, {\"'\": 'NUM'}, {'9': 'NUM'}, {\"'\": 'PUNCT'}, {']': 'PUNCT'}, {'[': 'X'}, {\"'\": 'PUNCT'}, {'Setosa': 'PROPN'}, {\"'\": 'PUNCT'}, {']': 'PUNCT'}, {'[': 'X'}, {\"'\": 'X'}, {'YEAR': 'NOUN'}, {\"'\": 'PUNCT'}, {']': 'PUNCT'}, {'[': 'X'}, {\"'\": 'X'}, {'COUNTD': 'PROPN'}, {\"'\": 'PUNCT'}, {']': 'PUNCT'}, {'[': 'X'}, {\"'\": 'PUNCT'}, {'year': 'NOUN'}, {\"'\": 'PUNCT'}, {']': 'PUNCT'}, {'[': 'X'}, {\"'\": 'NOUN'}, {'RANK_PERCENTILE': 'AUX'}, {\"'\": 'PUNCT'}, {']': 'PUNCT'}, {'[': 'X'}, {\"'\": 'PUNCT'}, {'alphabetically': 'ADV'}, {\"'\": 'VERB'}, {']': 'PUNCT'}, {'[': 'X'}, {\"'\": 'NUM'}, {'3': 'NUM'}, {\"'\": 'PUNCT'}, {']': 'PUNCT'}, {'[': 'X'}, {\"'\": 'X'}, {'GROUP': 'PROPN'}, {\"'\": 'PUNCT'}, {']': 'PUNCT'}, {'[': 'X'}, {\"'\": 'PROPN'}, {'STARTS': 'PROPN'}, {\"'\": 'PUNCT'}, {']': 'PUNCT'}, {'[': 'X'}, {'\"': 'PUNCT'}, {\"'\": 'PUNCT'}, {',': 'PUNCT'}, {'\"': 'PUNCT'}, {']': 'PUNCT'}, {'[': 'X'}, {\"'\": 'PUNCT'}, {'MEDIAN': 'PROPN'}, {\"'\": 'PUNCT'}, {']': 'PUNCT'}]\n",
            "vocab : ['NOUN', 'X', 'NUM', 'PRON', 'AUX', 'ADP', 'VERB', 'ADV', 'SCONJ', 'INTJ', 'PROPN', 'CCONJ', 'PART', 'ADJ', 'PUNCT']\n"
          ]
        }
      ]
    },
    {
      "cell_type": "code",
      "source": [
        "for pat in p_t:\n",
        "   print({pat:p_t[pat]})"
      ],
      "metadata": {
        "colab": {
          "base_uri": "https://localhost:8080/"
        },
        "id": "F3Mh4i-cc6tR",
        "outputId": "7c925140-e492-4207-c02d-b52d7c5d30ef"
      },
      "execution_count": 32,
      "outputs": [
        {
          "output_type": "stream",
          "name": "stdout",
          "text": [
            "{'NOUN': ['ORDER', 'month', 'DISTINCT', 'INDEX', 'TODAY', 'YEAR', 'year', 'color', 'ENDSWITH', 'versicolor', 'FIXED', 'Species']}\n",
            "{'X': ['setosa', '=', 'virginica', 'STARTSWITH', '>', 'CONTAINS', '*', '<']}\n",
            "{'NUM': ['4', '5', '1', '0', 'TOP', '9', '3', '2']}\n",
            "{'PRON': ['}']}\n",
            "{'AUX': ['RANK_PERCENTILE']}\n",
            "{'ADP': ['BETWEEN', 'WITH', 'FROM']}\n",
            "{'VERB': ['-', 'DESC', 'RANK', 'LISTED']}\n",
            "{'ADV': ['alphabetically', 'ELSE', 'SORT', 'THEN']}\n",
            "{'SCONJ': ['IF']}\n",
            "{'INTJ': []}\n",
            "{'PROPN': ['Date', 'MIN', 'DATETRUNC', 'END', 'MEDIAN', 'ASC', 'AVG', 'MAX', 'Setosa', 'COUNTD', 'COUNT', 'GROUP', 'NULL', 'STARTS', 'SUM', 'LEFT']}\n",
            "{'CCONJ': ['AND']}\n",
            "{'PART': ['to']}\n",
            "{'ADJ': ['lowest', 'SORTED', 'highest']}\n",
            "{'PUNCT': ['”', '“', ':', '!', '{', '\"']}\n"
          ]
        }
      ]
    },
    {
      "cell_type": "code",
      "source": [
        "p_t['ARG']=['[Sepal Length]','[Sepal Width]','[Petal Length]','[Petal Width]', '[Species]']\n",
        "p_t['ARGN']=['Sepal Length','Sepal Width','Petal Length','Petal Width', 'Species']\n",
        "p_t['NOUN'] =['month', 'TODAY', 'color','YEAR','versicolor','setosa','year','virginica']\n",
        "p_t['STOPWORDS']=['[Sepal','Sepal','[Petal','Width]','Width','Petal','Length]',\"'Se'\",':','\"virginica\",'\"setosa\",'','{',')','*',\"'Setosa'\",\"'month', \",'4.0 AND','\"setosa\" AND','ica',\"Iri\",'!= 3.0','\"versicolor\" AND',\"Species STARTS WITH 'Se'\",\"Length\",'\"Iri\"' ]\n",
        "p_t['NUM']=[ff  for ff in p_t['NUM'] if ff !='TOP']+['1.5','2.5','4.5','3.0','3','2.0','5.0']\n",
        "p_t['ADP']+=['to','AND','>=','<','!=','<=','=','>']\n",
        "p_t['ADV']+=['highest to lowest','ASC','DESC','NULL','LEFT']\n",
        "p_t['ADJ']=[ff for ff in p_t['ADJ'] if  ff!='SORTED']\n",
        "ptt=p_t['ARG']+p_t['NOUN']+p_t['NUM'] + p_t['STOPWORDS'] + p_t['ARGN'] + p_t['ADV'] + p_t['ADP']+p_t['ADJ']\n",
        "p_t['OPER']=['STARTS WITH']"
      ],
      "metadata": {
        "id": "Nxvuycmmw0tc"
      },
      "execution_count": 33,
      "outputs": []
    },
    {
      "cell_type": "code",
      "source": [
        "print(p_t['OPER'])"
      ],
      "metadata": {
        "colab": {
          "base_uri": "https://localhost:8080/"
        },
        "id": "NFTzMa1npDcE",
        "outputId": "0197b934-54ec-404d-ddaa-dbeade921857"
      },
      "execution_count": 34,
      "outputs": [
        {
          "output_type": "stream",
          "name": "stdout",
          "text": [
            "['STARTS WITH']\n"
          ]
        }
      ]
    },
    {
      "cell_type": "code",
      "source": [
        "import re\n",
        "p_t['OPER']=[]\n",
        "p_t['COPER']=[]\n",
        "patterns='\\(| = | >= | > | \\[ | \\) | \\{ | \\]'\n",
        "tr_0=[]\n",
        "for tr in df[df.columns[1]]:\n",
        "    try:\n",
        "      it0,it1=re.split(patterns,tr)[0:2]\n",
        "    except:\n",
        "         it0=re.split(patterns,tr)[0:2][0]\n",
        "\n",
        "    it01=it0.split()\n",
        "\n",
        "    if len(it01)==1:\n",
        "           iten=it01[0]\n",
        "    elif len(it01)==2:\n",
        "            iten=it01[0] +' '+ it01[1]\n",
        "    else:\n",
        "          iten=''\n",
        "          for item in it01:\n",
        "            if item not in tr_0 and item not in ptt:\n",
        "               iten+=item +' '\n",
        "          iten=iten.rstrip()\n",
        "          #print(it01,'-->',iten)\n",
        "\n",
        "    if iten not in tr_0 and iten not in ptt:\n",
        "              #print(it01)\n",
        "              tr_0.append(iten)\n",
        "\n",
        "\n",
        "print(tr_0)"
      ],
      "metadata": {
        "colab": {
          "base_uri": "https://localhost:8080/"
        },
        "id": "Apk388uxYvyS",
        "outputId": "5dce94b7-cd58-4713-fd3c-9311717164f8"
      },
      "execution_count": 35,
      "outputs": [
        {
          "output_type": "stream",
          "name": "stdout",
          "text": [
            "['SUM', 'AVG', 'MEDIAN', 'COUNT', 'COUNT DISTINCT', 'MIN', 'MAX', 'GROUP BY', 'ORDER BY', 'TOP BY', 'STARTS', 'COUNTD', 'ENDSWITH', 'INDEX', 'IF', 'DATETRUNC', 'RANK_PERCENTILE', 'SORTED BY', 'RANK', 'LISTED', 'STARTSWITH']\n"
          ]
        }
      ]
    },
    {
      "cell_type": "code",
      "source": [
        "p_t['OPER']+=tr_0\n",
        "p_t['OPER'][p_t['OPER'].index('LISTED')]='LISTED FROM'\n",
        "p_t['OPER'][p_t['OPER'].index('TOP BY')]='TOP'\n",
        "p_t['OPER']+=['IF CONTAINS','BY']\n",
        "p_t['NOUN']=[ff for ff in p_t['NOUN'] if ff not in p_t['OPER']]\n",
        "#p_t['PROPN']=[ff for ff in p_t['PROPN'] if ff not in p_t['OPER']+p_t['NOUN']]\n"
      ],
      "metadata": {
        "id": "42HE6oewDJOz"
      },
      "execution_count": 36,
      "outputs": []
    },
    {
      "cell_type": "markdown",
      "source": [
        "# Pipe entities to Formulas Tableau"
      ],
      "metadata": {
        "id": "tfjDCTKq8VvR"
      }
    },
    {
      "cell_type": "code",
      "source": [
        "\n",
        "#nlp = spacy.load('en_core_web_sm')\n",
        "\n",
        "# Function to create and return an EntityRuler with specified patterns\n",
        "\n",
        "oper_arg=p_t['ARG']\n",
        "oper_argn=p_t['ARGN']\n",
        "oper_numm=p_t['NUM']\n",
        "oper_advv=p_t['ADV']\n",
        "oper_oper=p_t['OPER']\n",
        "oper_adpp=p_t['ADP']\n",
        "oper_nounn=p_t['NOUN']\n",
        "oper_adjj=p_t['ADJ']\n",
        "\n",
        "# Create rulers\n",
        "ruler_arg = create_ruler(oper_arg,'ARG')\n",
        "#ruler_intj = create_ruler(oper_intj,'INTJ')\n",
        "ruler_argn = create_ruler(oper_argn,'ARGN')\n",
        "ruler_numm  = create_ruler(oper_numm,'NUM')\n",
        "ruler_advv  = create_ruler(oper_advv,'ADV')\n",
        "#ruler_pron = create_ruler(oper_pron,'PRON')\n",
        "ruler_adpp  = create_ruler(oper_adpp,'ADP')\n",
        "ruler_nounn = create_ruler(oper_nounn, \"NOUN\")\n",
        "ruler_adjj = create_ruler(oper_adjj, \"ADJ\")\n",
        "ruler_oper = create_ruler(oper_oper,\"OPER\")\n",
        "\n",
        "# Create component factories\n",
        "@Language.component(\"ruler_arg\")\n",
        "def ruler_arg_component(doc):\n",
        "    return ruler_arg(doc)\n",
        "\n",
        "#@Language.component(\"ruler_intj\")\n",
        "#def ruler_intj_component(doc):\n",
        "#    return ruler_intj(doc)\n",
        "\n",
        "@Language.component(\"ruler_argn\")\n",
        "def ruler_argn_component(doc):\n",
        "    return ruler_argn(doc)\n",
        "\n",
        "@Language.component(\"ruler_numm\")\n",
        "def ruler_numm_component(doc):\n",
        "    return ruler_numm(doc)\n",
        "\n",
        "@Language.component(\"ruler_advv\")\n",
        "def ruler_advv_component(doc):\n",
        "    return ruler_advv(doc)\n",
        "\n",
        "@Language.component(\"ruler_oper\")\n",
        "def ruler_oper_component(doc):\n",
        "    return ruler_oper(doc)\n",
        "\n",
        "@Language.component(\"ruler_adpp\")\n",
        "def ruler_adpp_component(doc):\n",
        "    return ruler_adpp(doc)\n",
        "\n",
        "@Language.component(\"ruler_nounn\")\n",
        "def ruler_nounn_component(doc):\n",
        "    return ruler_nounn(doc)\n",
        "\n",
        "@Language.component(\"ruler_adjj\")\n",
        "def ruler_adjj_component(doc):\n",
        "    return ruler_adjj(doc)\n",
        "\n",
        "#@Language.component('ruler_propn')\n",
        "#def ruler_propn_component(doc):\n",
        "#     return ruler_propn(doc)\n",
        "\n",
        "# Add the components to the pipeline\n",
        "nlp.add_pipe(\"ruler_arg\", before=\"ner\")\n",
        "nlp.add_pipe(\"ruler_argn\",before=\"ner\")\n",
        "nlp.add_pipe(\"ruler_numm\", before=\"ner\")\n",
        "nlp.add_pipe(\"ruler_advv\", before=\"ner\")\n",
        "nlp.add_pipe(\"ruler_oper\", before=\"ner\")\n",
        "nlp.add_pipe(\"ruler_adpp\", before=\"ner\")\n",
        "nlp.add_pipe(\"ruler_nounn\", before=\"ner\")\n",
        "nlp.add_pipe(\"ruler_adjj\", before=\"ner\")\n",
        "\n",
        "nlp.to_disk('/content/ner_formulas')\n",
        "#nlp.add_pipe(\"ruler_propn\", before = \"ner\")\n",
        "ent_formulas,Train_formulas_data=get_entity(df,df.columns[1])"
      ],
      "metadata": {
        "id": "l6553nLP8O-7"
      },
      "execution_count": 37,
      "outputs": []
    },
    {
      "cell_type": "code",
      "source": [
        "# Test\n",
        "doc=nlp(\"SUM (Sepal Length ) AVG ( Sepal Length )\")\n",
        "for ent in doc.ents:\n",
        "    print(ent.text, ent.label_)\n",
        "#print(get_entity(df,df.columns[1]))"
      ],
      "metadata": {
        "colab": {
          "base_uri": "https://localhost:8080/"
        },
        "id": "W9NM0f4rnboT",
        "outputId": "62bed72b-d1d0-476b-c816-3b1c17a8a5d2"
      },
      "execution_count": 38,
      "outputs": [
        {
          "output_type": "stream",
          "name": "stdout",
          "text": [
            "SUM OPER\n",
            "Sepal Length ARGN\n",
            "AVG OPER\n",
            "Sepal Length ARGN\n"
          ]
        }
      ]
    },
    {
      "cell_type": "code",
      "source": [
        "#Test\n",
        "print(ent_formulas)"
      ],
      "metadata": {
        "colab": {
          "base_uri": "https://localhost:8080/"
        },
        "id": "1iNiKpO04Ob_",
        "outputId": "5a2d7688-7264-48bc-f9e0-11b2a3731094"
      },
      "execution_count": 39,
      "outputs": [
        {
          "output_type": "stream",
          "name": "stdout",
          "text": [
            "[['SUM ( Sepal Length ) ', ['SUM', 'OPER'], ['Sepal Length', 'ARGN']], ['AVG ( Sepal Width ) ', ['AVG', 'OPER'], ['Sepal Width', 'ARGN']], ['MEDIAN ( Petal Length ) ', ['MEDIAN', 'OPER'], ['Petal Length', 'ARGN']], ['COUNT ( * ) ', ['COUNT', 'OPER']], ['COUNT DISTINCT ( Species ) ', ['COUNT DISTINCT', 'OPER'], ['Species', 'ARGN']], ['MIN ( Sepal Length ) ', ['MIN', 'OPER'], ['Sepal Length', 'ARGN']], ['MAX ( Petal Width ) ', ['MAX', 'OPER'], ['Petal Width', 'ARGN']], ['GROUP BY ( Species ) ', ['GROUP BY', 'OPER'], ['Species', 'ARGN']], ['ORDER BY ( Sepal Length ASC ) ', ['ORDER BY', 'OPER'], ['Sepal Length', 'ARGN'], ['ASC', 'ADV']], ['ORDER BY ( Species ASC ) ', ['ORDER BY', 'OPER'], ['Species', 'ARGN'], ['ASC', 'ADV']], ['Sepal Length > = 5.0', ['Sepal Length', 'ARGN'], ['> =', 'ADP'], ['5.0', 'NUM']], ['Petal Length BETWEEN 1.5 AND 2.5', ['Petal Length', 'ARGN'], ['BETWEEN', 'ADP'], ['1.5', 'NUM'], ['AND', 'ADP'], ['2.5', 'NUM']], ['TOP 3 BY ( Sepal Width DESC ) ', ['TOP', 'OPER'], ['3', 'NUM'], ['BY', 'OPER'], ['Sepal Width', 'ARGN'], ['DESC', 'ADV']], [\"Species = 'Setosa'\", ['Species', 'ARGN'], ['=', 'ADP'], ['Setosa', 'PROPN']], [\"Species STARTS WITH 'Se'\", ['Species', 'ARGN'], ['STARTS', 'OPER'], ['WITH', 'ADP']], [' SUM ( [ Petal Length ] ) ', ['SUM', 'OPER'], ['Petal Length', 'ARGN']], [' AVG ( [ Petal Width ] ) ', ['AVG', 'OPER'], ['Petal Width', 'ARGN']], ['MEDIAN ( [ Sepal Width ] ) ', ['MEDIAN', 'OPER'], ['Sepal Width', 'ARGN']], ['COUNT ( [ Sepal Length ] ) ', ['COUNT', 'OPER'], ['Sepal Length', 'ARGN']], ['COUNTD ( [ Species ] ) ', ['COUNTD', 'OPER'], ['Species', 'ARGN']], ['MIN ( [ Sepal Length ] ) ', ['MIN', 'OPER'], ['Sepal Length', 'ARGN']], ['MAX ( [ Petal Width ] ) ', ['MAX', 'OPER'], ['Petal Width', 'ARGN']], ['SORT ( [ Species ] , DESC ) ', ['SORT', 'ADV'], ['Species', 'ARGN'], ['DESC', 'ADV']], ['SORT ( [ Sepal Length ] , ASC ) ', ['SORT', 'ADV'], ['Sepal Length', 'ARGN'], ['ASC', 'ADV']], [' [ Sepal Length ] > = 4.5', ['Sepal Length', 'ARGN'], ['> =', 'ADP'], ['4.5', 'NUM']], [' [ Petal Width ] < 2.0', ['Petal Width', 'ARGN'], ['<', 'ADP'], ['2.0', 'NUM']], [' [ Sepal Width ] ! = 3.0', ['Sepal Width', 'ARGN'], ['! =', 'ADP'], ['3.0', 'NUM']], ['ENDSWITH ( [ Species ] , \"ica\" ) ', ['ENDSWITH', 'OPER'], ['Species', 'ARGN']], [' [ Sepal Length ] = 5.0', ['Sepal Length', 'ARGN'], ['=', 'ADP'], ['5.0', 'NUM']], [' INDEX ( ) < = 5 SORT BY SUM ( [ Sepal Width ] ) DESC', ['INDEX', 'OPER'], ['< =', 'ADP'], ['5', 'NUM'], ['SORT', 'ADV'], ['BY', 'OPER'], ['SUM', 'OPER'], ['Sepal Width', 'ARGN'], ['DESC', 'ADV']], [' INDEX ( ) < = 3 SORT BY [ Petal Length ] ASC', ['INDEX', 'OPER'], ['< =', 'ADP'], ['3', 'NUM'], ['SORT', 'ADV'], ['BY', 'OPER'], ['Petal Length', 'ARGN'], ['ASC', 'ADV']], ['IF [ Petal Length ] > = 4 AND [ Petal Length ] < = 5 THEN 1 ELSE 0 END', ['IF', 'OPER'], ['Petal Length', 'ARGN'], ['> =', 'ADP'], ['4', 'NUM'], ['AND', 'ADP'], ['Petal Length', 'ARGN'], ['< =', 'ADP'], ['5', 'NUM'], ['THEN', 'ADV'], ['1', 'NUM'], ['ELSE', 'ADV'], ['0', 'NUM'], ['END', 'ORG']], [\"DATETRUNC ( 'month', [ Date ] ) \", ['DATETRUNC', 'OPER'], ['month', 'NOUN'], ['Date', 'PROPN']], ['YEAR ( [ Date ] ) = YEAR ( TODAY ( )  ) - 1', ['YEAR', 'NOUN'], ['Date', 'PROPN'], ['=', 'ADP'], ['YEAR', 'NOUN'], ['TODAY', 'NOUN'], ['1', 'NUM']], [\" [ Date ] > = DATETRUNC ( 'year' , TODAY ( )  ) \", ['Date', 'PROPN'], ['> =', 'ADP'], ['DATETRUNC', 'OPER'], ['year', 'NOUN'], ['TODAY', 'NOUN']], [' AVG ( [ Sepal Length ] ) GROUP BY [ Species ] SORT BY [ Species ] ASC', ['AVG', 'OPER'], ['Sepal Length', 'ARGN'], ['GROUP BY', 'OPER'], ['Species', 'ARGN'], ['SORT', 'ADV'], ['BY', 'OPER'], ['Species', 'ARGN'], ['ASC', 'ADV']], [\" COUNTD ( IF LEFT ( [ Species ] 1 ) = 'C' THEN [ Species ] ELSE NULL END ) \", ['COUNTD', 'OPER'], ['IF', 'OPER'], ['LEFT', 'ADV'], ['Species', 'ARGN'], ['1', 'NUM'], ['=', 'ADP'], ['THEN', 'ADV'], ['Species', 'ARGN'], ['ELSE', 'ADV'], ['NULL', 'ADV']], [' [ Petal Length ] > 4.0 AND [ Sepal Length ] > 4.0', ['Petal Length', 'ARGN'], ['>', 'ADP'], ['4.0', 'CARDINAL'], ['AND', 'ADP'], ['Sepal Length', 'ARGN'], ['>', 'ADP'], ['4.0', 'CARDINAL']], [' RANK_PERCENTILE ( [ Petal Width ] ) < = 0.1', ['RANK_PERCENTILE', 'OPER'], ['Petal Width', 'ARGN'], ['< =', 'ADP'], ['0.1', 'CARDINAL']], ['SUM ( [ Sepal Length ] ) ', ['SUM', 'OPER'], ['Sepal Length', 'ARGN']], ['AVG ( [ Petal Width ] ) ', ['AVG', 'OPER'], ['Petal Width', 'ARGN']], [' { FIXED [ Species ] = \"setosa\" : MEDIAN ( [ Sepal Width ] ) } ', ['Species', 'ARGN'], ['=', 'ADP'], ['setosa', 'NOUN'], ['MEDIAN', 'OPER'], ['Sepal Width', 'ARGN']], ['SUM ( IF [ Species ] = \"versicolor\" THEN 1 ELSE 0 END ) ', ['SUM', 'OPER'], ['IF', 'OPER'], ['Species', 'ARGN'], ['=', 'ADP'], ['versicolor', 'NOUN'], ['THEN', 'ADV'], ['1', 'NUM'], ['ELSE', 'ADV'], ['0', 'NUM']], ['COUNTD ( IF [ Sepal Length ] > 5.0 THEN [ Species ] ELSE NULL END ) ', ['COUNTD', 'OPER'], ['IF', 'OPER'], ['Sepal Length', 'ARGN'], ['>', 'ADP'], ['5.0', 'NUM'], ['THEN', 'ADV'], ['Species', 'ARGN'], ['ELSE', 'ADV'], ['NULL', 'ADV']], [' { FIXED [ Species ] = \"virginica\" : MIN ( [ Petal Length ] ) } ', ['Species', 'ARGN'], ['=', 'ADP'], ['virginica', 'NOUN'], ['MIN', 'OPER'], ['Petal Length', 'ARGN']], [' { FIXED [ Species ] = \"setosa\" : MAX ( [ Sepal Width ] ) } ', ['Species', 'ARGN'], ['=', 'ADP'], ['setosa', 'NOUN'], ['MAX', 'OPER'], ['Sepal Width', 'ARGN']], [' SORTED BY Species alphabetically COUNT ( [ Species ] ) GROUP BY [ Species ] ORDER BY [ Species ] ASC', ['SORTED BY', 'OPER'], ['Species', 'ARGN'], ['alphabetically', 'ADV'], ['COUNT', 'OPER'], ['Species', 'ARGN'], ['GROUP BY', 'OPER'], ['Species', 'ARGN'], ['ORDER BY', 'OPER'], ['Species', 'ARGN'], ['ASC', 'ADV']], [' [ Species ] = \"versicolor\" AND [ Sepal Width ] > = 3.0', ['Species', 'ARGN'], ['=', 'ADP'], ['versicolor', 'NOUN'], ['AND', 'ADP'], ['Sepal Width', 'ARGN'], ['> =', 'ADP'], ['3.0', 'NUM']], ['RANK ( [ Sepal Length ] ) < = 5 AND [ Species ] = \"virginica\"', ['RANK', 'OPER'], ['Sepal Length', 'ARGN'], ['< =', 'ADP'], ['5', 'NUM'], ['AND', 'ADP'], ['Species', 'ARGN'], ['=', 'ADP'], ['virginica', 'NOUN']], ['RANK_PERCENTILE ( [ Petal Width ] ) > = 0.9', ['RANK_PERCENTILE', 'OPER'], ['Petal Width', 'ARGN'], ['> =', 'ADP'], ['0.9', 'CARDINAL']], ['LISTED FROM highest to lowest AVG ( [ Sepal Length ] ) GROUP BY [ Species ] ORDER BY AVG ( [ Sepal Length ] ) DESC', ['FROM', 'ADP'], ['highest', 'ADJ'], ['to', 'ADP'], ['lowest', 'ADJ'], ['AVG', 'OPER'], ['Sepal Length', 'ARGN'], ['GROUP BY', 'OPER'], ['Species', 'ARGN'], ['ORDER BY', 'OPER'], ['AVG', 'OPER'], ['Sepal Length', 'ARGN'], ['DESC', 'ADV']], [' [ Species ] = \"setosa\" AND [ Petal Length ] BETWEEN 4.0 AND 5.0', ['Species', 'ARGN'], ['=', 'ADP'], ['setosa', 'NOUN'], ['AND', 'ADP'], ['Petal Length', 'ARGN'], ['BETWEEN', 'ADP'], ['4.0', 'CARDINAL'], ['AND', 'ADP'], ['5.0', 'NUM']], ['SUM ( IF CONTAINS ( [ Species ] \"color\" ) THEN 1 ELSE 0 END ) ', ['SUM', 'OPER'], ['IF CONTAINS', 'OPER'], ['Species', 'ARGN'], ['color', 'NOUN'], ['THEN', 'ADV'], ['1', 'NUM'], ['ELSE', 'ADV'], ['0', 'NUM']], [' STARTSWITH ( [ Species ] \"Iri\" ) AND ENDSWITH ( [ Species ] , “a” ) ', ['STARTSWITH', 'OPER'], ['Species', 'ARGN'], ['AND', 'ADP'], ['ENDSWITH', 'OPER'], ['Species', 'ARGN']]]\n"
          ]
        }
      ]
    },
    {
      "cell_type": "markdown",
      "source": [
        "#Train Formula (Tableau) data"
      ],
      "metadata": {
        "id": "MfHGHMvfcVz3"
      }
    },
    {
      "cell_type": "code",
      "source": [
        "for item in Train_formulas_data:\n",
        "    print(item)"
      ],
      "metadata": {
        "colab": {
          "base_uri": "https://localhost:8080/"
        },
        "id": "6zAS8cBmchqD",
        "outputId": "c87509a1-93a3-483a-c94c-ecb2a05e35ac"
      },
      "execution_count": 40,
      "outputs": [
        {
          "output_type": "stream",
          "name": "stdout",
          "text": [
            "('SUM ( Sepal Length ) ', {'entities': [(0, 3, 'OPER'), (6, 18, 'ARGN')]})\n",
            "('AVG ( Sepal Width ) ', {'entities': [(0, 3, 'OPER'), (6, 17, 'ARGN')]})\n",
            "('MEDIAN ( Petal Length ) ', {'entities': [(0, 6, 'OPER'), (9, 21, 'ARGN')]})\n",
            "('COUNT ( * ) ', {'entities': [(0, 5, 'OPER')]})\n",
            "('COUNT DISTINCT ( Species ) ', {'entities': [(0, 14, 'OPER'), (17, 24, 'ARGN')]})\n",
            "('MIN ( Sepal Length ) ', {'entities': [(0, 3, 'OPER'), (6, 18, 'ARGN')]})\n",
            "('MAX ( Petal Width ) ', {'entities': [(0, 3, 'OPER'), (6, 17, 'ARGN')]})\n",
            "('GROUP BY ( Species ) ', {'entities': [(0, 8, 'OPER'), (11, 18, 'ARGN')]})\n",
            "('ORDER BY ( Sepal Length ASC ) ', {'entities': [(0, 8, 'OPER'), (11, 23, 'ARGN'), (24, 27, 'ADV')]})\n",
            "('ORDER BY ( Species ASC ) ', {'entities': [(0, 8, 'OPER'), (11, 18, 'ARGN'), (19, 22, 'ADV')]})\n",
            "('Sepal Length > = 5.0', {'entities': [(0, 12, 'ARGN'), (13, 16, 'ADP'), (17, 20, 'NUM')]})\n",
            "('Petal Length BETWEEN 1.5 AND 2.5', {'entities': [(0, 12, 'ARGN'), (13, 20, 'ADP'), (21, 24, 'NUM'), (25, 28, 'ADP'), (29, 32, 'NUM')]})\n",
            "('TOP 3 BY ( Sepal Width DESC ) ', {'entities': [(0, 3, 'OPER'), (4, 5, 'NUM'), (6, 8, 'OPER'), (11, 22, 'ARGN'), (23, 27, 'ADV')]})\n",
            "(\"Species = 'Setosa'\", {'entities': [(0, 7, 'ARGN'), (8, 9, 'ADP'), (11, 17, 'PROPN')]})\n",
            "(\"Species STARTS WITH 'Se'\", {'entities': [(0, 7, 'ARGN'), (8, 14, 'OPER'), (15, 19, 'ADP')]})\n",
            "(' SUM ( [ Petal Length ] ) ', {'entities': [(1, 4, 'OPER'), (9, 21, 'ARGN')]})\n",
            "(' AVG ( [ Petal Width ] ) ', {'entities': [(1, 4, 'OPER'), (9, 20, 'ARGN')]})\n",
            "('MEDIAN ( [ Sepal Width ] ) ', {'entities': [(0, 6, 'OPER'), (11, 22, 'ARGN')]})\n",
            "('COUNT ( [ Sepal Length ] ) ', {'entities': [(0, 5, 'OPER'), (10, 22, 'ARGN')]})\n",
            "('COUNTD ( [ Species ] ) ', {'entities': [(0, 6, 'OPER'), (11, 18, 'ARGN')]})\n",
            "('MIN ( [ Sepal Length ] ) ', {'entities': [(0, 3, 'OPER'), (8, 20, 'ARGN')]})\n",
            "('MAX ( [ Petal Width ] ) ', {'entities': [(0, 3, 'OPER'), (8, 19, 'ARGN')]})\n",
            "('SORT ( [ Species ] , DESC ) ', {'entities': [(0, 4, 'ADV'), (9, 16, 'ARGN'), (21, 25, 'ADV')]})\n",
            "('SORT ( [ Sepal Length ] , ASC ) ', {'entities': [(0, 4, 'ADV'), (9, 21, 'ARGN'), (26, 29, 'ADV')]})\n",
            "(' [ Sepal Length ] > = 4.5', {'entities': [(3, 15, 'ARGN'), (18, 21, 'ADP'), (22, 25, 'NUM')]})\n",
            "(' [ Petal Width ] < 2.0', {'entities': [(3, 14, 'ARGN'), (17, 18, 'ADP'), (19, 22, 'NUM')]})\n",
            "(' [ Sepal Width ] ! = 3.0', {'entities': [(3, 14, 'ARGN'), (17, 20, 'ADP'), (21, 24, 'NUM')]})\n",
            "('ENDSWITH ( [ Species ] , \"ica\" ) ', {'entities': [(0, 8, 'OPER'), (13, 20, 'ARGN')]})\n",
            "(' [ Sepal Length ] = 5.0', {'entities': [(3, 15, 'ARGN'), (18, 19, 'ADP'), (20, 23, 'NUM')]})\n",
            "(' INDEX ( ) < = 5 SORT BY SUM ( [ Sepal Width ] ) DESC', {'entities': [(1, 6, 'OPER'), (11, 14, 'ADP'), (15, 16, 'NUM'), (17, 21, 'ADV'), (22, 24, 'OPER'), (25, 28, 'OPER'), (33, 44, 'ARGN'), (49, 53, 'ADV')]})\n",
            "(' INDEX ( ) < = 3 SORT BY [ Petal Length ] ASC', {'entities': [(1, 6, 'OPER'), (11, 14, 'ADP'), (15, 16, 'NUM'), (17, 21, 'ADV'), (22, 24, 'OPER'), (27, 39, 'ARGN'), (42, 45, 'ADV')]})\n",
            "('IF [ Petal Length ] > = 4 AND [ Petal Length ] < = 5 THEN 1 ELSE 0 END', {'entities': [(0, 2, 'OPER'), (5, 17, 'ARGN'), (20, 23, 'ADP'), (24, 25, 'NUM'), (26, 29, 'ADP'), (32, 44, 'ARGN'), (47, 50, 'ADP'), (51, 52, 'NUM'), (53, 57, 'ADV'), (58, 59, 'NUM'), (60, 64, 'ADV'), (65, 66, 'NUM'), (67, 70, 'ORG')]})\n",
            "(\"DATETRUNC ( 'month', [ Date ] ) \", {'entities': [(0, 9, 'OPER'), (13, 18, 'NOUN'), (23, 27, 'PROPN')]})\n",
            "('YEAR ( [ Date ] ) = YEAR ( TODAY ( )  ) - 1', {'entities': [(0, 4, 'NOUN'), (9, 13, 'PROPN'), (18, 19, 'ADP'), (20, 24, 'NOUN'), (27, 32, 'NOUN'), (42, 43, 'NUM')]})\n",
            "(\" [ Date ] > = DATETRUNC ( 'year' , TODAY ( )  ) \", {'entities': [(3, 7, 'PROPN'), (10, 13, 'ADP'), (14, 23, 'OPER'), (27, 31, 'NOUN'), (35, 40, 'NOUN')]})\n",
            "(' AVG ( [ Sepal Length ] ) GROUP BY [ Species ] SORT BY [ Species ] ASC', {'entities': [(1, 4, 'OPER'), (9, 21, 'ARGN'), (26, 34, 'OPER'), (37, 44, 'ARGN'), (47, 51, 'ADV'), (52, 54, 'OPER'), (57, 64, 'ARGN'), (67, 70, 'ADV')]})\n",
            "(\" COUNTD ( IF LEFT ( [ Species ] 1 ) = 'C' THEN [ Species ] ELSE NULL END ) \", {'entities': [(1, 7, 'OPER'), (10, 12, 'OPER'), (13, 17, 'ADV'), (22, 29, 'ARGN'), (32, 33, 'NUM'), (36, 37, 'ADP'), (42, 46, 'ADV'), (49, 56, 'ARGN'), (59, 63, 'ADV'), (64, 68, 'ADV')]})\n",
            "(' [ Petal Length ] > 4.0 AND [ Sepal Length ] > 4.0', {'entities': [(3, 15, 'ARGN'), (18, 19, 'ADP'), (20, 23, 'CARDINAL'), (24, 27, 'ADP'), (30, 42, 'ARGN'), (45, 46, 'ADP'), (47, 50, 'CARDINAL')]})\n",
            "(' RANK_PERCENTILE ( [ Petal Width ] ) < = 0.1', {'entities': [(1, 16, 'OPER'), (21, 32, 'ARGN'), (37, 40, 'ADP'), (41, 44, 'CARDINAL')]})\n",
            "('SUM ( [ Sepal Length ] ) ', {'entities': [(0, 3, 'OPER'), (8, 20, 'ARGN')]})\n",
            "('AVG ( [ Petal Width ] ) ', {'entities': [(0, 3, 'OPER'), (8, 19, 'ARGN')]})\n",
            "(' { FIXED [ Species ] = \"setosa\" : MEDIAN ( [ Sepal Width ] ) } ', {'entities': [(11, 18, 'ARGN'), (21, 22, 'ADP'), (24, 30, 'NOUN'), (34, 40, 'OPER'), (45, 56, 'ARGN')]})\n",
            "('SUM ( IF [ Species ] = \"versicolor\" THEN 1 ELSE 0 END ) ', {'entities': [(0, 3, 'OPER'), (6, 8, 'OPER'), (11, 18, 'ARGN'), (21, 22, 'ADP'), (24, 34, 'NOUN'), (36, 40, 'ADV'), (41, 42, 'NUM'), (43, 47, 'ADV'), (48, 49, 'NUM')]})\n",
            "('COUNTD ( IF [ Sepal Length ] > 5.0 THEN [ Species ] ELSE NULL END ) ', {'entities': [(0, 6, 'OPER'), (9, 11, 'OPER'), (14, 26, 'ARGN'), (29, 30, 'ADP'), (31, 34, 'NUM'), (35, 39, 'ADV'), (42, 49, 'ARGN'), (52, 56, 'ADV'), (57, 61, 'ADV')]})\n",
            "(' { FIXED [ Species ] = \"virginica\" : MIN ( [ Petal Length ] ) } ', {'entities': [(11, 18, 'ARGN'), (21, 22, 'ADP'), (24, 33, 'NOUN'), (37, 40, 'OPER'), (45, 57, 'ARGN')]})\n",
            "(' { FIXED [ Species ] = \"setosa\" : MAX ( [ Sepal Width ] ) } ', {'entities': [(11, 18, 'ARGN'), (21, 22, 'ADP'), (24, 30, 'NOUN'), (34, 37, 'OPER'), (42, 53, 'ARGN')]})\n",
            "(' SORTED BY Species alphabetically COUNT ( [ Species ] ) GROUP BY [ Species ] ORDER BY [ Species ] ASC', {'entities': [(1, 10, 'OPER'), (11, 18, 'ARGN'), (19, 33, 'ADV'), (34, 39, 'OPER'), (44, 51, 'ARGN'), (56, 64, 'OPER'), (67, 74, 'ARGN'), (77, 85, 'OPER'), (88, 95, 'ARGN'), (98, 101, 'ADV')]})\n",
            "(' [ Species ] = \"versicolor\" AND [ Sepal Width ] > = 3.0', {'entities': [(3, 10, 'ARGN'), (13, 14, 'ADP'), (16, 26, 'NOUN'), (28, 31, 'ADP'), (34, 45, 'ARGN'), (48, 51, 'ADP'), (52, 55, 'NUM')]})\n",
            "('RANK ( [ Sepal Length ] ) < = 5 AND [ Species ] = \"virginica\"', {'entities': [(0, 4, 'OPER'), (9, 21, 'ARGN'), (26, 29, 'ADP'), (30, 31, 'NUM'), (32, 35, 'ADP'), (38, 45, 'ARGN'), (48, 49, 'ADP'), (51, 60, 'NOUN')]})\n",
            "('RANK_PERCENTILE ( [ Petal Width ] ) > = 0.9', {'entities': [(0, 15, 'OPER'), (20, 31, 'ARGN'), (36, 39, 'ADP'), (40, 43, 'CARDINAL')]})\n",
            "('LISTED FROM highest to lowest AVG ( [ Sepal Length ] ) GROUP BY [ Species ] ORDER BY AVG ( [ Sepal Length ] ) DESC', {'entities': [(7, 11, 'ADP'), (12, 19, 'ADJ'), (20, 22, 'ADP'), (23, 29, 'ADJ'), (30, 33, 'OPER'), (38, 50, 'ARGN'), (55, 63, 'OPER'), (66, 73, 'ARGN'), (76, 84, 'OPER'), (85, 88, 'OPER'), (93, 105, 'ARGN'), (110, 114, 'ADV')]})\n",
            "(' [ Species ] = \"setosa\" AND [ Petal Length ] BETWEEN 4.0 AND 5.0', {'entities': [(3, 10, 'ARGN'), (13, 14, 'ADP'), (16, 22, 'NOUN'), (24, 27, 'ADP'), (30, 42, 'ARGN'), (45, 52, 'ADP'), (53, 56, 'CARDINAL'), (57, 60, 'ADP'), (61, 64, 'NUM')]})\n",
            "('SUM ( IF CONTAINS ( [ Species ] \"color\" ) THEN 1 ELSE 0 END ) ', {'entities': [(0, 3, 'OPER'), (6, 17, 'OPER'), (22, 29, 'ARGN'), (33, 38, 'NOUN'), (42, 46, 'ADV'), (47, 48, 'NUM'), (49, 53, 'ADV'), (54, 55, 'NUM')]})\n",
            "(' STARTSWITH ( [ Species ] \"Iri\" ) AND ENDSWITH ( [ Species ] , “a” ) ', {'entities': [(1, 11, 'OPER'), (16, 23, 'ARGN'), (34, 37, 'ADP'), (38, 46, 'OPER'), (51, 58, 'ARGN')]})\n"
          ]
        }
      ]
    },
    {
      "cell_type": "markdown",
      "source": [
        "#TRAINING DATA: DESCRIPTION/FORMULAS TABLEAU"
      ],
      "metadata": {
        "id": "jvlOJBHtkNhM"
      }
    },
    {
      "cell_type": "code",
      "source": [
        "def training_data(TRAIN_DATA,MODEL, NITER, DROP, BATCHSIZE):\n",
        "    import spacy\n",
        "    import random\n",
        "    from spacy.util import minibatch, compounding\n",
        "    from spacy.training import Example\n",
        "    import pandas as pd\n",
        "\n",
        "    # Step 1: Load Your Customized Model\n",
        "    path ='/content/'\n",
        "    nlp = spacy.load(path+MODEL)  # Load your custom model\n",
        "\n",
        "    # Assume 'ner' is in your custom model pipeline\n",
        "    ner = nlp.get_pipe('ner')\n",
        "\n",
        "    # Add new entity labels to the NER\n",
        "    for _, annotations in TRAIN_DATA:\n",
        "        for ent in annotations.get('entities'):\n",
        "            ner.add_label(ent[2])\n",
        "\n",
        "    # Prepare the examples\n",
        "    examples = [Example.from_dict(nlp.make_doc(text), annotations) for text, annotations in TRAIN_DATA]\n",
        "\n",
        "    # Optionally disable other pipeline components during training\n",
        "    other_pipes = [pipe for pipe in nlp.pipe_names if pipe != 'ner']\n",
        "\n",
        "    history = pd.DataFrame(columns=['niter', 'losses'])\n",
        "\n",
        "    with nlp.disable_pipes(*other_pipes):  # only train NER\n",
        "        optimizer = nlp.resume_training()\n",
        "        for i in range(NITER):\n",
        "            losses = {}\n",
        "            random.shuffle(examples)\n",
        "            batches = minibatch(examples, size=BATCHSIZE)\n",
        "            for batch in batches:\n",
        "\n",
        "                nlp.update(\n",
        "                    batch,\n",
        "                    drop=DROP,\n",
        "                    losses=losses,\n",
        "                    sgd=optimizer\n",
        "                )\n",
        "            print(\"Losses\", losses)\n",
        "            history.loc[i] = [i, losses['ner']]\n",
        "\n",
        "    return history\n"
      ],
      "metadata": {
        "id": "V0EGzEy7y35X"
      },
      "execution_count": 41,
      "outputs": []
    },
    {
      "cell_type": "markdown",
      "source": [
        "#SAVE THE TRAINED MODEL"
      ],
      "metadata": {
        "id": "VbcSOf2gtWpF"
      }
    },
    {
      "cell_type": "code",
      "source": [
        "def save_model(model_name,location):\n",
        "   import os\n",
        "   from pathlib import Path\n",
        "   if location=='drive':\n",
        "      from google.colab import drive\n",
        "      drive.mount('/content/drive')\n",
        "      # Define the base path for the folder where you want to save your model\n",
        "      folder_path = '/content/drive/My Drive/MyModels'\n",
        "   else:\n",
        "      # Define the base path for the folder where you want to save your model\n",
        "      folder_path = '/content/'\n",
        "\n",
        "   # Create the folder if it doesn't exist\n",
        "   os.makedirs(folder_path, exist_ok=True)\n",
        "   model_path = os.path.join(folder_path, model_name)\n",
        "   # Save the model to the specified directory in Google Drive\n",
        "   nlp.to_disk(model_path)\n",
        "   print(f'Model saved to: {model_path}')\n",
        "   # Load the model to ensure it's been saved correctly\n",
        "   nlp2 = spacy.load(model_path)\n",
        "\n"
      ],
      "metadata": {
        "id": "IrN7_Yp1pmk6"
      },
      "execution_count": 42,
      "outputs": []
    },
    {
      "cell_type": "markdown",
      "source": [
        "#EVALUATE THE MODEL"
      ],
      "metadata": {
        "id": "HLEVlIl1tfiX"
      }
    },
    {
      "cell_type": "markdown",
      "source": [
        "#Evaluate the Model on the Test Dataset"
      ],
      "metadata": {
        "id": "IiXMw_MruIAA"
      }
    },
    {
      "cell_type": "code",
      "source": [
        "def evaluate_the_model(model_path, TEST_DATA):\n",
        "    import spacy\n",
        "    from spacy.training import Example\n",
        "\n",
        "    nlp = spacy.load(model_path)\n",
        "\n",
        "    # Convert test data to Example objects\n",
        "    examples = []\n",
        "    for text, annotations in TEST_DATA:\n",
        "        doc = nlp.make_doc(text)\n",
        "        example = Example.from_dict(doc, annotations)\n",
        "        examples.append(example)\n",
        "\n",
        "    # Evaluate the model\n",
        "    scores = nlp.evaluate(examples)\n",
        "    return scores\n",
        "\n",
        "# This separate function is not needed because evaluation can be directly done with nlp.evaluate()\n",
        "# def evaluate(ner_model, examples):\n",
        "#     pass\n"
      ],
      "metadata": {
        "id": "WNu3uuPDNuHW"
      },
      "execution_count": 43,
      "outputs": []
    },
    {
      "cell_type": "code",
      "source": [
        "def make_predictions(model_path,texts,option=1):\n",
        "    import spacy\n",
        "    from spacy import displacy\n",
        "    \"\"\"\n",
        "    options:\n",
        "    1-print\n",
        "    else-displacy ents\n",
        "    \"\"\"\n",
        "    # Replace 'your_model_directory' with the path to your trained model\n",
        "    nlp = spacy.load(model_path)\n",
        "    print(nlp.pipe_names)\n",
        "    if isinstance(texts,type)=='list' and option==1:\n",
        "         for doc in nlp.pipe(texts):\n",
        "              print([(ent.text, ent.label_) for ent in doc.ents])\n",
        "    elif isinstance(texts,type)=='list' and option!=1:\n",
        "         for doc in nlp.pipe(texts):\n",
        "              displacy.render(doc, style=\"ent\")\n",
        "    elif isinstance(texts,type)!='list' and option==1:\n",
        "          print(texts)\n",
        "          # Process the text\n",
        "          doc = nlp(texts)\n",
        "\n",
        "          # Display the entities in the text\n",
        "          for ent in doc.ents:\n",
        "                 print(ent.text, ent.label_)\n",
        "    else:\n",
        "          print(texts)\n",
        "          # Process the text\n",
        "          doc = nlp(texts)\n",
        "          displacy.render(doc, style=\"ent\")\n"
      ],
      "metadata": {
        "id": "hVOtYE4eT5Me"
      },
      "execution_count": 44,
      "outputs": []
    },
    {
      "cell_type": "markdown",
      "source": [
        " # Training,saving and evaluation the Description Tableau data model"
      ],
      "metadata": {
        "id": "U2poS29Q9AeD"
      }
    },
    {
      "cell_type": "code",
      "source": [
        "history_desc=training_data(Train_desc_data,'ner_desc',200,0.5,8)"
      ],
      "metadata": {
        "id": "ErycaDPQ2oGu",
        "colab": {
          "base_uri": "https://localhost:8080/"
        },
        "outputId": "7aacf228-675e-4bc8-9145-47f3b10cc72a"
      },
      "execution_count": 45,
      "outputs": [
        {
          "output_type": "stream",
          "name": "stdout",
          "text": [
            "Losses {'ner': 590.8340991298567}\n",
            "Losses {'ner': 517.2801935132775}\n",
            "Losses {'ner': 430.1417343597859}\n",
            "Losses {'ner': 376.7305717971176}\n",
            "Losses {'ner': 361.4539678543806}\n",
            "Losses {'ner': 349.1828004717827}\n",
            "Losses {'ner': 346.4026643037796}\n",
            "Losses {'ner': 343.5300513282418}\n",
            "Losses {'ner': 345.26780900359154}\n",
            "Losses {'ner': 332.6000503003597}\n",
            "Losses {'ner': 315.50352750718594}\n",
            "Losses {'ner': 277.9440586864945}\n",
            "Losses {'ner': 268.24818827211857}\n",
            "Losses {'ner': 239.09859885275364}\n",
            "Losses {'ner': 226.56408859914518}\n",
            "Losses {'ner': 205.16302728001028}\n",
            "Losses {'ner': 195.1578254494816}\n",
            "Losses {'ner': 163.81318642105907}\n",
            "Losses {'ner': 154.4138598954305}\n",
            "Losses {'ner': 148.8097416519886}\n",
            "Losses {'ner': 151.2068271164353}\n",
            "Losses {'ner': 125.66647583089173}\n",
            "Losses {'ner': 114.80988088710001}\n",
            "Losses {'ner': 115.57249549360131}\n",
            "Losses {'ner': 117.14171302350223}\n",
            "Losses {'ner': 103.44818632985698}\n",
            "Losses {'ner': 85.17041502195207}\n",
            "Losses {'ner': 89.10089337256545}\n",
            "Losses {'ner': 73.63459363988238}\n",
            "Losses {'ner': 88.3842050250272}\n",
            "Losses {'ner': 80.28644926762308}\n",
            "Losses {'ner': 65.60138794212764}\n",
            "Losses {'ner': 61.124086500641326}\n",
            "Losses {'ner': 60.137622032870084}\n",
            "Losses {'ner': 56.52490016859822}\n",
            "Losses {'ner': 48.16343839800402}\n",
            "Losses {'ner': 49.21898755372339}\n",
            "Losses {'ner': 45.21864941225057}\n",
            "Losses {'ner': 47.019044865374}\n",
            "Losses {'ner': 53.144560175346314}\n",
            "Losses {'ner': 35.78304156897386}\n",
            "Losses {'ner': 33.40163158741089}\n",
            "Losses {'ner': 43.0094093494692}\n",
            "Losses {'ner': 31.90810866530694}\n",
            "Losses {'ner': 31.331753953928548}\n",
            "Losses {'ner': 33.122996562196164}\n",
            "Losses {'ner': 34.648770510038794}\n",
            "Losses {'ner': 26.898369596102313}\n",
            "Losses {'ner': 20.36009283030067}\n",
            "Losses {'ner': 27.894842745552346}\n",
            "Losses {'ner': 18.72922229526416}\n",
            "Losses {'ner': 18.727383040427675}\n",
            "Losses {'ner': 17.397149093547654}\n",
            "Losses {'ner': 14.258685614424689}\n",
            "Losses {'ner': 20.65587096903239}\n",
            "Losses {'ner': 16.32898603121895}\n",
            "Losses {'ner': 15.237475388400068}\n",
            "Losses {'ner': 13.2977777438875}\n",
            "Losses {'ner': 18.26998714720418}\n",
            "Losses {'ner': 13.0685553898373}\n",
            "Losses {'ner': 21.723446729579486}\n",
            "Losses {'ner': 7.0214205973984125}\n",
            "Losses {'ner': 13.74636074694372}\n",
            "Losses {'ner': 13.442229147852183}\n",
            "Losses {'ner': 12.571733046408688}\n",
            "Losses {'ner': 18.54306707638511}\n",
            "Losses {'ner': 22.785520721077045}\n",
            "Losses {'ner': 15.28396612456884}\n",
            "Losses {'ner': 12.378155989715873}\n",
            "Losses {'ner': 11.528145657992686}\n",
            "Losses {'ner': 15.570391706906701}\n",
            "Losses {'ner': 9.296678396248897}\n",
            "Losses {'ner': 7.1375846325301495}\n",
            "Losses {'ner': 9.183356466630382}\n",
            "Losses {'ner': 6.060435111878096}\n",
            "Losses {'ner': 9.402365280268267}\n",
            "Losses {'ner': 8.368229514465353}\n",
            "Losses {'ner': 17.986420561929243}\n",
            "Losses {'ner': 6.08501503794905}\n",
            "Losses {'ner': 8.422813121865776}\n",
            "Losses {'ner': 9.485687349299848}\n",
            "Losses {'ner': 9.139500611797608}\n",
            "Losses {'ner': 9.935783987229621}\n",
            "Losses {'ner': 3.5924477256416334}\n",
            "Losses {'ner': 8.864067587774077}\n",
            "Losses {'ner': 9.626065732010021}\n",
            "Losses {'ner': 7.156377373301994}\n",
            "Losses {'ner': 10.680743088943656}\n",
            "Losses {'ner': 3.328677288325243}\n",
            "Losses {'ner': 8.80295735820659}\n",
            "Losses {'ner': 7.76102686196133}\n",
            "Losses {'ner': 4.42016174209176}\n",
            "Losses {'ner': 8.708393977925843}\n",
            "Losses {'ner': 6.605801862391549}\n",
            "Losses {'ner': 4.785039655931986}\n",
            "Losses {'ner': 6.229679079035783}\n",
            "Losses {'ner': 5.972843747509161}\n",
            "Losses {'ner': 2.552686339680543}\n",
            "Losses {'ner': 5.8922162055567595}\n",
            "Losses {'ner': 9.712955141379814}\n",
            "Losses {'ner': 9.419538327912571}\n",
            "Losses {'ner': 3.2964495160719878}\n",
            "Losses {'ner': 3.7034811154069183}\n",
            "Losses {'ner': 4.951073366468474}\n",
            "Losses {'ner': 5.3626801716521735}\n",
            "Losses {'ner': 3.2071117652158487}\n",
            "Losses {'ner': 5.507231498239309}\n",
            "Losses {'ner': 7.833844437808036}\n",
            "Losses {'ner': 3.2634552381002964}\n",
            "Losses {'ner': 11.443591438639531}\n",
            "Losses {'ner': 6.284529481112412}\n",
            "Losses {'ner': 2.7775383621659646}\n",
            "Losses {'ner': 7.636658096265976}\n",
            "Losses {'ner': 3.7911675780346408}\n",
            "Losses {'ner': 1.9352764935651623}\n",
            "Losses {'ner': 1.5123480559295537}\n",
            "Losses {'ner': 7.49387418656539}\n",
            "Losses {'ner': 1.1972474463660794}\n",
            "Losses {'ner': 3.475705464907876}\n",
            "Losses {'ner': 6.1338694377917955}\n",
            "Losses {'ner': 2.3360522814814755}\n",
            "Losses {'ner': 6.6317492726829474}\n",
            "Losses {'ner': 2.6222626673222296}\n",
            "Losses {'ner': 1.0782613240273276}\n",
            "Losses {'ner': 0.3686439827268258}\n",
            "Losses {'ner': 3.7403003722641888}\n",
            "Losses {'ner': 2.7536445668540903}\n",
            "Losses {'ner': 0.15652021563425716}\n",
            "Losses {'ner': 2.4151402001111615}\n",
            "Losses {'ner': 2.903810300872475}\n",
            "Losses {'ner': 3.819364669038559}\n",
            "Losses {'ner': 8.071940710208787}\n",
            "Losses {'ner': 0.7133311086462775}\n",
            "Losses {'ner': 2.4146106932914644}\n",
            "Losses {'ner': 0.6445029277246055}\n",
            "Losses {'ner': 2.10641964681842}\n",
            "Losses {'ner': 6.278040970961619}\n",
            "Losses {'ner': 2.266378417732357}\n",
            "Losses {'ner': 3.1682348355053733}\n",
            "Losses {'ner': 2.743400199989087}\n",
            "Losses {'ner': 2.3782446088524862}\n",
            "Losses {'ner': 7.088876897591137}\n",
            "Losses {'ner': 0.4908450489787424}\n",
            "Losses {'ner': 2.192061961971155}\n",
            "Losses {'ner': 4.1876614543102635}\n",
            "Losses {'ner': 2.060067416021197}\n",
            "Losses {'ner': 0.15754322772448365}\n",
            "Losses {'ner': 2.6709888633300167}\n",
            "Losses {'ner': 0.161821484813146}\n",
            "Losses {'ner': 2.8212980005279724}\n",
            "Losses {'ner': 2.352588500191939}\n",
            "Losses {'ner': 2.829326322405511}\n",
            "Losses {'ner': 2.1442381436674025}\n",
            "Losses {'ner': 1.4589366586593484}\n",
            "Losses {'ner': 1.0809183948821977}\n",
            "Losses {'ner': 3.723268087616528}\n",
            "Losses {'ner': 1.1577055050488947}\n",
            "Losses {'ner': 4.194779211878227}\n",
            "Losses {'ner': 2.290128271662097}\n",
            "Losses {'ner': 3.398299694720266}\n",
            "Losses {'ner': 1.450682782878405}\n",
            "Losses {'ner': 1.9639490659739605}\n",
            "Losses {'ner': 0.14909107003296732}\n",
            "Losses {'ner': 1.2197502547160997}\n",
            "Losses {'ner': 0.11760299764135143}\n",
            "Losses {'ner': 7.195732027340817}\n",
            "Losses {'ner': 2.5908890990929327}\n",
            "Losses {'ner': 0.02597701657194728}\n",
            "Losses {'ner': 0.7714844539260642}\n",
            "Losses {'ner': 0.0730553941935164}\n",
            "Losses {'ner': 4.209419671730501}\n",
            "Losses {'ner': 1.5902126097309317}\n",
            "Losses {'ner': 3.1064805898216266}\n",
            "Losses {'ner': 2.150503763897968}\n",
            "Losses {'ner': 2.2162582703665112}\n",
            "Losses {'ner': 0.2521699479798913}\n",
            "Losses {'ner': 0.0690955830668567}\n",
            "Losses {'ner': 4.247113383349117}\n",
            "Losses {'ner': 1.9893384935541094}\n",
            "Losses {'ner': 4.123753631601981}\n",
            "Losses {'ner': 2.222004867432681}\n",
            "Losses {'ner': 4.80870894539488}\n",
            "Losses {'ner': 0.05765391461272425}\n",
            "Losses {'ner': 1.9308995828099513}\n",
            "Losses {'ner': 2.1062069413372457}\n",
            "Losses {'ner': 2.774530716723562}\n",
            "Losses {'ner': 0.0607785182465059}\n",
            "Losses {'ner': 4.705358252815521}\n",
            "Losses {'ner': 0.15772570136619302}\n",
            "Losses {'ner': 0.0012143836313116363}\n",
            "Losses {'ner': 4.778132366996569}\n",
            "Losses {'ner': 1.4632443712495355}\n",
            "Losses {'ner': 8.17481667755573}\n",
            "Losses {'ner': 3.2642352716551772}\n",
            "Losses {'ner': 0.004943731079480404}\n",
            "Losses {'ner': 0.5516933288437841}\n",
            "Losses {'ner': 0.8426026060385617}\n",
            "Losses {'ner': 4.760782397468409}\n",
            "Losses {'ner': 0.4742195271932128}\n",
            "Losses {'ner': 2.196853117041471}\n"
          ]
        }
      ]
    },
    {
      "cell_type": "code",
      "source": [
        "plt.plot(history_desc['niter'],history_desc['losses'])\n",
        "plt.xlabel('Iterations')\n",
        "plt.ylabel('losses')\n",
        "plt.grid()\n",
        "plt.title(\"Description Tableau data\")"
      ],
      "metadata": {
        "colab": {
          "base_uri": "https://localhost:8080/",
          "height": 489
        },
        "id": "Cl3_zo4l6ivc",
        "outputId": "5d6e934b-0926-4520-e523-fa43970e8ee1"
      },
      "execution_count": 46,
      "outputs": [
        {
          "output_type": "execute_result",
          "data": {
            "text/plain": [
              "Text(0.5, 1.0, 'Description Tableau data')"
            ]
          },
          "metadata": {},
          "execution_count": 46
        },
        {
          "output_type": "display_data",
          "data": {
            "text/plain": [
              "<Figure size 640x480 with 1 Axes>"
            ],
            "image/png": "[encoded data removed]"
          },
          "metadata": {}
        }
      ]
    },
    {
      "cell_type": "code",
      "source": [
        "save_model('Description_Tableau_data',' ')\n",
        "\n",
        "\n",
        "\n"
      ],
      "metadata": {
        "id": "G5ntc3va3aWn",
        "colab": {
          "base_uri": "https://localhost:8080/"
        },
        "outputId": "b4669ee0-f72f-4620-8df5-94d4b2c96a8a"
      },
      "execution_count": 47,
      "outputs": [
        {
          "output_type": "stream",
          "name": "stdout",
          "text": [
            "Model saved to: /content/Description_Tableau_data\n"
          ]
        }
      ]
    },
    {
      "cell_type": "code",
      "source": [
        "# check if the model is working\n",
        "# Assuming 'nlp' is your loaded model\n",
        "path='/content/Description_Tableau_data'\n",
        "nlp= spacy.load(path)\n",
        "ner = nlp.get_pipe(\"ner\")\n",
        "\n",
        "# List all labels the NER has been trained on\n",
        "labels = ner.labels\n",
        "print(labels)\n"
      ],
      "metadata": {
        "colab": {
          "base_uri": "https://localhost:8080/"
        },
        "id": "1jLA1zAlcfHq",
        "outputId": "68a4fb3b-e4de-4f7d-8559-39d4d99c50c1"
      },
      "execution_count": 48,
      "outputs": [
        {
          "output_type": "stream",
          "name": "stdout",
          "text": [
            "('ADJ', 'ADP', 'ADV', 'ARGN', 'CARDINAL', 'DATE', 'EVENT', 'FAC', 'GPE', 'INTJ', 'LANGUAGE', 'LAW', 'LOC', 'MONEY', 'NORP', 'NOUN', 'NUM', 'OPER', 'ORDINAL', 'ORG', 'PERCENT', 'PERSON', 'PRODUCT', 'PRON', 'PROPN', 'QUANTITY', 'TIME', 'VERB', 'WORK_OF_ART')\n"
          ]
        }
      ]
    },
    {
      "cell_type": "code",
      "source": [
        "path='/content/Description_Tableau_data'\n",
        "Test_ent_desc,Test_desc_data=get_entity(dff,dff.columns[0])\n",
        "scores=evaluate_the_model(path,Test_desc_data)\n"
      ],
      "metadata": {
        "id": "9ncD_If794bc"
      },
      "execution_count": 49,
      "outputs": []
    },
    {
      "cell_type": "code",
      "source": [
        "print(scores)"
      ],
      "metadata": {
        "colab": {
          "base_uri": "https://localhost:8080/"
        },
        "id": "2DEPnBLuPYts",
        "outputId": "f5b73719-a5e9-45e6-f2c7-2b35558382a9"
      },
      "execution_count": 50,
      "outputs": [
        {
          "output_type": "stream",
          "name": "stdout",
          "text": [
            "{'token_acc': 1.0, 'token_p': 1.0, 'token_r': 1.0, 'token_f': 1.0, 'tag_acc': None, 'sents_p': None, 'sents_r': None, 'sents_f': None, 'dep_uas': None, 'dep_las': None, 'dep_las_per_type': None, 'pos_acc': None, 'morph_acc': None, 'morph_micro_p': None, 'morph_micro_r': None, 'morph_micro_f': None, 'morph_per_feat': None, 'lemma_acc': None, 'ents_p': 1.0, 'ents_r': 1.0, 'ents_f': 1.0, 'ents_per_type': {'ADJ': {'p': 1.0, 'r': 1.0, 'f': 1.0}, 'ARGN': {'p': 1.0, 'r': 1.0, 'f': 1.0}, 'ADP': {'p': 1.0, 'r': 1.0, 'f': 1.0}, 'PRON': {'p': 1.0, 'r': 1.0, 'f': 1.0}, 'NOUN': {'p': 1.0, 'r': 1.0, 'f': 1.0}, 'PROPN': {'p': 1.0, 'r': 1.0, 'f': 1.0}, 'VERB': {'p': 1.0, 'r': 1.0, 'f': 1.0}, 'NUM': {'p': 1.0, 'r': 1.0, 'f': 1.0}, 'CARDINAL': {'p': 1.0, 'r': 1.0, 'f': 1.0}, 'ADV': {'p': 1.0, 'r': 1.0, 'f': 1.0}, 'INTJ': {'p': 1.0, 'r': 1.0, 'f': 1.0}}, 'speed': 3271.0665068263006}\n"
          ]
        }
      ]
    },
    {
      "cell_type": "markdown",
      "source": [
        "#Make predictions on Description Tableau Data"
      ],
      "metadata": {
        "id": "2e5aHp9WXjrU"
      }
    },
    {
      "cell_type": "code",
      "source": [
        "# text\n",
        "make_predictions(path,dff[dff.columns[0]][3])"
      ],
      "metadata": {
        "colab": {
          "base_uri": "https://localhost:8080/"
        },
        "id": "ouV7kCnFXeqX",
        "outputId": "bdbc3d6d-4751-4fa0-d8e3-ec1711d17c26"
      },
      "execution_count": 51,
      "outputs": [
        {
          "output_type": "stream",
          "name": "stdout",
          "text": [
            "['tok2vec', 'tagger', 'parser', 'attribute_ruler', 'lemmatizer', 'ruler_intj', 'ruler_verb', 'ruler_num', 'ruler_adv', 'ruler_pron', 'ruler_adp', 'ruler_noun', 'ruler_adj', 'ruler_propn', 'ruler_arg', 'ruler_argn', 'ruler_numm', 'ruler_advv', 'ruler_oper', 'ruler_adpp', 'ruler_nounn', 'ruler_adjj', 'ner']\n",
            "Number of entries in the database\n",
            "Number NOUN\n",
            "of ADP\n",
            "entries NOUN\n",
            "in ADP\n",
            "the PRON\n"
          ]
        }
      ]
    },
    {
      "cell_type": "code",
      "source": [
        "make_predictions(path,dff[dff.columns[0]][0])"
      ],
      "metadata": {
        "colab": {
          "base_uri": "https://localhost:8080/"
        },
        "id": "LYWaXSJRZPUz",
        "outputId": "bc20fab5-e183-424d-a3b9-374a37b33a80"
      },
      "execution_count": 52,
      "outputs": [
        {
          "output_type": "stream",
          "name": "stdout",
          "text": [
            "['tok2vec', 'tagger', 'parser', 'attribute_ruler', 'lemmatizer', 'ruler_intj', 'ruler_verb', 'ruler_num', 'ruler_adv', 'ruler_pron', 'ruler_adp', 'ruler_noun', 'ruler_adj', 'ruler_propn', 'ruler_arg', 'ruler_argn', 'ruler_numm', 'ruler_advv', 'ruler_oper', 'ruler_adpp', 'ruler_nounn', 'ruler_adjj', 'ner']\n",
            "Total Sepal Width in the dataset\n",
            "Total ADJ\n",
            "Sepal Width ARGN\n",
            "in ADP\n",
            "the PRON\n",
            "dataset NOUN\n"
          ]
        }
      ]
    },
    {
      "cell_type": "markdown",
      "source": [
        "#Training, saving and evaluation Formulas Tableau data model"
      ],
      "metadata": {
        "id": "n3HoN49t9PWK"
      }
    },
    {
      "cell_type": "code",
      "source": [
        "history_formulas=training_data(Train_formulas_data,'ner_formulas',200,0.5,8)"
      ],
      "metadata": {
        "id": "hKTa_iI-2owc",
        "colab": {
          "base_uri": "https://localhost:8080/"
        },
        "outputId": "5e995685-54ff-4b9c-9bd3-cdab13f8822f"
      },
      "execution_count": 53,
      "outputs": [
        {
          "output_type": "stream",
          "name": "stdout",
          "text": [
            "Losses {'ner': 424.0721367263175}\n",
            "Losses {'ner': 374.26368937059306}\n",
            "Losses {'ner': 351.8911518799391}\n",
            "Losses {'ner': 335.73702341504395}\n",
            "Losses {'ner': 313.4604692570865}\n",
            "Losses {'ner': 295.16654661053326}\n",
            "Losses {'ner': 319.9961948413984}\n",
            "Losses {'ner': 298.94648241088726}\n",
            "Losses {'ner': 270.0322542017093}\n",
            "Losses {'ner': 215.79022257448378}\n",
            "Losses {'ner': 185.75425041814864}\n",
            "Losses {'ner': 190.8609292853593}\n",
            "Losses {'ner': 177.06656554208564}\n",
            "Losses {'ner': 151.16894006011762}\n",
            "Losses {'ner': 144.68399881407424}\n",
            "Losses {'ner': 141.45097996837893}\n",
            "Losses {'ner': 121.63168594590908}\n",
            "Losses {'ner': 104.61122497557244}\n",
            "Losses {'ner': 100.02255215376351}\n",
            "Losses {'ner': 75.70363145693435}\n",
            "Losses {'ner': 75.68790163933426}\n",
            "Losses {'ner': 72.95045669963518}\n",
            "Losses {'ner': 61.10686751446582}\n",
            "Losses {'ner': 55.50852428195945}\n",
            "Losses {'ner': 47.78633759868757}\n",
            "Losses {'ner': 45.246452614744456}\n",
            "Losses {'ner': 44.67678785153199}\n",
            "Losses {'ner': 39.13958659924045}\n",
            "Losses {'ner': 41.722715394222035}\n",
            "Losses {'ner': 28.609298555817517}\n",
            "Losses {'ner': 30.338460508100088}\n",
            "Losses {'ner': 36.612561921459076}\n",
            "Losses {'ner': 23.301899944653552}\n",
            "Losses {'ner': 25.358374470624}\n",
            "Losses {'ner': 21.840678429927646}\n",
            "Losses {'ner': 28.63400607740583}\n",
            "Losses {'ner': 28.884586984403338}\n",
            "Losses {'ner': 21.643679032769604}\n",
            "Losses {'ner': 16.14726529770931}\n",
            "Losses {'ner': 18.02689151116725}\n",
            "Losses {'ner': 18.503417118880087}\n",
            "Losses {'ner': 17.5616799011813}\n",
            "Losses {'ner': 15.925955542509431}\n",
            "Losses {'ner': 13.152701632627434}\n",
            "Losses {'ner': 12.088878525261642}\n",
            "Losses {'ner': 11.110185325963615}\n",
            "Losses {'ner': 10.184253047576934}\n",
            "Losses {'ner': 6.951051372803379}\n",
            "Losses {'ner': 12.678527207860347}\n",
            "Losses {'ner': 8.272930302963095}\n",
            "Losses {'ner': 5.967308133248091}\n",
            "Losses {'ner': 8.525942971729904}\n",
            "Losses {'ner': 7.727277795558756}\n",
            "Losses {'ner': 8.33138736202645}\n",
            "Losses {'ner': 6.532020787027923}\n",
            "Losses {'ner': 1.9630267010999207}\n",
            "Losses {'ner': 4.799880132625709}\n",
            "Losses {'ner': 11.037416748991948}\n",
            "Losses {'ner': 4.982305900470258}\n",
            "Losses {'ner': 7.860348019600596}\n",
            "Losses {'ner': 2.359226207180696}\n",
            "Losses {'ner': 8.347750221861222}\n",
            "Losses {'ner': 8.544555014478352}\n",
            "Losses {'ner': 10.002713325015149}\n",
            "Losses {'ner': 4.920543592962746}\n",
            "Losses {'ner': 3.9565661529731213}\n",
            "Losses {'ner': 4.381539397164095}\n",
            "Losses {'ner': 2.637298058873193}\n",
            "Losses {'ner': 8.110158630582848}\n",
            "Losses {'ner': 5.121127938973021}\n",
            "Losses {'ner': 1.325726058043119}\n",
            "Losses {'ner': 4.152505548796166}\n",
            "Losses {'ner': 4.771674073898621}\n",
            "Losses {'ner': 7.715754777383274}\n",
            "Losses {'ner': 4.999281163858669}\n",
            "Losses {'ner': 9.718841704713595}\n",
            "Losses {'ner': 3.310273536111844}\n",
            "Losses {'ner': 1.506154767861902}\n",
            "Losses {'ner': 6.321610754593225}\n",
            "Losses {'ner': 0.6038814031759235}\n",
            "Losses {'ner': 2.4041637329646606}\n",
            "Losses {'ner': 5.740458030700321}\n",
            "Losses {'ner': 1.4060822528104093}\n",
            "Losses {'ner': 1.343681314242405}\n",
            "Losses {'ner': 1.4921921154855455}\n",
            "Losses {'ner': 2.4200437990008106}\n",
            "Losses {'ner': 5.227116431565951}\n",
            "Losses {'ner': 0.16691878110152703}\n",
            "Losses {'ner': 4.779649089653673}\n",
            "Losses {'ner': 2.36728970379111}\n",
            "Losses {'ner': 5.290345919673462}\n",
            "Losses {'ner': 3.122038507951484}\n",
            "Losses {'ner': 0.4837743860953778}\n",
            "Losses {'ner': 3.936087617344079}\n",
            "Losses {'ner': 2.756024482405738}\n",
            "Losses {'ner': 5.068139212466048}\n",
            "Losses {'ner': 3.6154935395068537}\n",
            "Losses {'ner': 0.08923107223931034}\n",
            "Losses {'ner': 4.73637270081676}\n",
            "Losses {'ner': 0.12003815540711536}\n",
            "Losses {'ner': 1.0357302834283761}\n",
            "Losses {'ner': 5.45140020889534}\n",
            "Losses {'ner': 0.08467240807821416}\n",
            "Losses {'ner': 0.5402411203688242}\n",
            "Losses {'ner': 5.520897131197523}\n",
            "Losses {'ner': 0.029113352874008406}\n",
            "Losses {'ner': 0.45399782305797287}\n",
            "Losses {'ner': 3.3571670533524323}\n",
            "Losses {'ner': 0.17723236756125998}\n",
            "Losses {'ner': 12.837374591440605}\n",
            "Losses {'ner': 1.6737722423996126}\n",
            "Losses {'ner': 2.854611800223687}\n",
            "Losses {'ner': 4.146338508168693}\n",
            "Losses {'ner': 1.3254702872885407}\n",
            "Losses {'ner': 3.1684915552896697}\n",
            "Losses {'ner': 2.107364855622222}\n",
            "Losses {'ner': 3.9125531513887637}\n",
            "Losses {'ner': 0.23680296511726684}\n",
            "Losses {'ner': 0.024813147009755697}\n",
            "Losses {'ner': 2.050383950892518}\n",
            "Losses {'ner': 0.5750549205522083}\n",
            "Losses {'ner': 1.1232074018314966}\n",
            "Losses {'ner': 0.028996450634410482}\n",
            "Losses {'ner': 1.121908628216736}\n",
            "Losses {'ner': 2.1766891452122277}\n",
            "Losses {'ner': 6.561019075892776}\n",
            "Losses {'ner': 2.031602475263342}\n",
            "Losses {'ner': 6.049759037811917}\n",
            "Losses {'ner': 1.879033544044344}\n",
            "Losses {'ner': 1.4743370611212103}\n",
            "Losses {'ner': 2.2847158317880836}\n",
            "Losses {'ner': 0.11061365880269358}\n",
            "Losses {'ner': 1.9765335897926337}\n",
            "Losses {'ner': 0.06372561064961378}\n",
            "Losses {'ner': 0.011627825181990497}\n",
            "Losses {'ner': 1.5632388985607277}\n",
            "Losses {'ner': 1.8176139922391523}\n",
            "Losses {'ner': 2.56503664597106}\n",
            "Losses {'ner': 0.2979358630012517}\n",
            "Losses {'ner': 3.3002669220736096}\n",
            "Losses {'ner': 0.9387203492838626}\n",
            "Losses {'ner': 0.2835998740229435}\n",
            "Losses {'ner': 0.24225860174058134}\n",
            "Losses {'ner': 1.5601846602359457}\n",
            "Losses {'ner': 0.6771016911834883}\n",
            "Losses {'ner': 0.35856912805840135}\n",
            "Losses {'ner': 2.28258266632931}\n",
            "Losses {'ner': 3.087374596849551}\n",
            "Losses {'ner': 0.07548757863502636}\n",
            "Losses {'ner': 0.005217353219178569}\n",
            "Losses {'ner': 0.032187356958790624}\n",
            "Losses {'ner': 1.5116523917234834}\n",
            "Losses {'ner': 0.001091973768993208}\n",
            "Losses {'ner': 0.058357173863329614}\n",
            "Losses {'ner': 0.0020635842384388865}\n",
            "Losses {'ner': 0.0007362233694194839}\n",
            "Losses {'ner': 1.7653839811662768}\n",
            "Losses {'ner': 0.20541895990366935}\n",
            "Losses {'ner': 0.7002680071361349}\n",
            "Losses {'ner': 4.152960226754951}\n",
            "Losses {'ner': 3.3563979920994425}\n",
            "Losses {'ner': 1.6806573808616099}\n",
            "Losses {'ner': 1.6466558771857018}\n",
            "Losses {'ner': 3.364452694058296}\n",
            "Losses {'ner': 0.06191090067686539}\n",
            "Losses {'ner': 0.13235701402327688}\n",
            "Losses {'ner': 0.18026611775988632}\n",
            "Losses {'ner': 1.0941939623097803}\n",
            "Losses {'ner': 1.5567416285593163}\n",
            "Losses {'ner': 0.5288427506340951}\n",
            "Losses {'ner': 2.0077644087699587}\n",
            "Losses {'ner': 0.38327256835452106}\n",
            "Losses {'ner': 4.156784064674277}\n",
            "Losses {'ner': 0.015570099264741295}\n",
            "Losses {'ner': 0.004194624128596798}\n",
            "Losses {'ner': 0.0003367507667616307}\n",
            "Losses {'ner': 0.6188326444289192}\n",
            "Losses {'ner': 1.2069486630679884}\n",
            "Losses {'ner': 0.0005615342330832443}\n",
            "Losses {'ner': 3.30306611177703}\n",
            "Losses {'ner': 1.9194903484377512}\n",
            "Losses {'ner': 1.5408526285686588}\n",
            "Losses {'ner': 0.03815415447073505}\n",
            "Losses {'ner': 1.8970271314921294}\n",
            "Losses {'ner': 0.024379122109758584}\n",
            "Losses {'ner': 1.8745370449011067}\n",
            "Losses {'ner': 3.693552179857721}\n",
            "Losses {'ner': 0.33470156528621847}\n",
            "Losses {'ner': 0.060743335571022634}\n",
            "Losses {'ner': 0.04052856869400635}\n",
            "Losses {'ner': 0.01445562984705005}\n",
            "Losses {'ner': 0.3182639209278129}\n",
            "Losses {'ner': 0.12676228108633233}\n",
            "Losses {'ner': 0.0002335282922220463}\n",
            "Losses {'ner': 0.00014257274053800208}\n",
            "Losses {'ner': 2.3519596081012017}\n",
            "Losses {'ner': 1.5596303858577956}\n",
            "Losses {'ner': 0.1553075280084652}\n",
            "Losses {'ner': 0.004292911774126709}\n",
            "Losses {'ner': 0.4039688258785869}\n"
          ]
        }
      ]
    },
    {
      "cell_type": "code",
      "source": [
        "\n",
        "plt.plot(history_formulas['niter'],history_formulas['losses'])\n",
        "plt.xlabel('Iterations')\n",
        "plt.ylabel('losses')\n",
        "plt.grid()\n",
        "plt.title(\"Formulas Tableau Data\")"
      ],
      "metadata": {
        "id": "68OXB3QML50e",
        "colab": {
          "base_uri": "https://localhost:8080/",
          "height": 489
        },
        "outputId": "525a80fa-068a-4eb3-f25d-5268672aeb11"
      },
      "execution_count": 54,
      "outputs": [
        {
          "output_type": "execute_result",
          "data": {
            "text/plain": [
              "Text(0.5, 1.0, 'Formulas Tableau Data')"
            ]
          },
          "metadata": {},
          "execution_count": 54
        },
        {
          "output_type": "display_data",
          "data": {
            "text/plain": [
              "<Figure size 640x480 with 1 Axes>"
            ],
            "image/png": "[encoded data removed]"
          },
          "metadata": {}
        }
      ]
    },
    {
      "cell_type": "code",
      "source": [
        "save_model('Formulas_Tableau_data',' ')"
      ],
      "metadata": {
        "id": "nHKvYpkP3a3c",
        "colab": {
          "base_uri": "https://localhost:8080/"
        },
        "outputId": "e6b1ef7a-3134-438b-8dba-ef33995b9572"
      },
      "execution_count": 55,
      "outputs": [
        {
          "output_type": "stream",
          "name": "stdout",
          "text": [
            "Model saved to: /content/Formulas_Tableau_data\n"
          ]
        }
      ]
    },
    {
      "cell_type": "code",
      "source": [
        "# check if the model is working\n",
        "# Assuming 'nlp' is your loaded model\n",
        "path='/content/Formulas_Tableau_data'\n",
        "nlp= spacy.load(path)\n",
        "ner = nlp.get_pipe(\"ner\")\n",
        "\n",
        "# List all labels the NER has been trained on\n",
        "labels = ner.labels\n",
        "print(labels)\n"
      ],
      "metadata": {
        "colab": {
          "base_uri": "https://localhost:8080/"
        },
        "outputId": "0efd577f-285c-43d0-dcd1-93fdd7e0b8e6",
        "id": "KgS4gh496upu"
      },
      "execution_count": 56,
      "outputs": [
        {
          "output_type": "stream",
          "name": "stdout",
          "text": [
            "('ADJ', 'ADP', 'ADV', 'ARGN', 'CARDINAL', 'DATE', 'EVENT', 'FAC', 'GPE', 'INTJ', 'LANGUAGE', 'LAW', 'LOC', 'MONEY', 'NORP', 'NOUN', 'NUM', 'OPER', 'ORDINAL', 'ORG', 'PERCENT', 'PERSON', 'PRODUCT', 'PRON', 'PROPN', 'QUANTITY', 'TIME', 'VERB', 'WORK_OF_ART')\n"
          ]
        }
      ]
    },
    {
      "cell_type": "code",
      "source": [
        "path='/content/Formulas_Tableau_data'\n",
        "Test_ent_formulas,Test_formulas_data=get_entity(dff,dff.columns[1])\n",
        "scores=evaluate_the_model(path,Test_formulas_data)\n"
      ],
      "metadata": {
        "id": "PnB_uAGs6tYx"
      },
      "execution_count": 57,
      "outputs": []
    },
    {
      "cell_type": "code",
      "source": [
        "print(scores)"
      ],
      "metadata": {
        "colab": {
          "base_uri": "https://localhost:8080/"
        },
        "id": "knrkgVtm7FR2",
        "outputId": "27adb0fd-218d-4d5e-f180-c974eed57f13"
      },
      "execution_count": 58,
      "outputs": [
        {
          "output_type": "stream",
          "name": "stdout",
          "text": [
            "{'token_acc': 1.0, 'token_p': 1.0, 'token_r': 1.0, 'token_f': 1.0, 'tag_acc': None, 'sents_p': None, 'sents_r': None, 'sents_f': None, 'dep_uas': None, 'dep_las': None, 'dep_las_per_type': None, 'pos_acc': None, 'morph_acc': None, 'morph_micro_p': None, 'morph_micro_r': None, 'morph_micro_f': None, 'morph_per_feat': None, 'lemma_acc': None, 'ents_p': 1.0, 'ents_r': 1.0, 'ents_f': 1.0, 'ents_per_type': {'OPER': {'p': 1.0, 'r': 1.0, 'f': 1.0}, 'ARGN': {'p': 1.0, 'r': 1.0, 'f': 1.0}, 'ADV': {'p': 1.0, 'r': 1.0, 'f': 1.0}, 'ADP': {'p': 1.0, 'r': 1.0, 'f': 1.0}, 'NUM': {'p': 1.0, 'r': 1.0, 'f': 1.0}, 'CARDINAL': {'p': 1.0, 'r': 1.0, 'f': 1.0}, 'PROPN': {'p': 1.0, 'r': 1.0, 'f': 1.0}, 'NOUN': {'p': 1.0, 'r': 1.0, 'f': 1.0}, 'ORG': {'p': 1.0, 'r': 1.0, 'f': 1.0}}, 'speed': 4957.653966254908}\n"
          ]
        }
      ]
    },
    {
      "cell_type": "markdown",
      "source": [
        "# Make predictions on Formulas Tableau Data"
      ],
      "metadata": {
        "id": "rQH2ickZ7Xr4"
      }
    },
    {
      "cell_type": "code",
      "source": [
        "# text\n",
        "make_predictions(path,dff[dff.columns[1]][3])"
      ],
      "metadata": {
        "colab": {
          "base_uri": "https://localhost:8080/"
        },
        "id": "dNUgvtHF7IGS",
        "outputId": "e91bb471-22f9-4e0e-d540-5d8f3163ffdd"
      },
      "execution_count": 59,
      "outputs": [
        {
          "output_type": "stream",
          "name": "stdout",
          "text": [
            "['tok2vec', 'tagger', 'parser', 'attribute_ruler', 'lemmatizer', 'ruler_intj', 'ruler_verb', 'ruler_num', 'ruler_adv', 'ruler_pron', 'ruler_adp', 'ruler_noun', 'ruler_adj', 'ruler_propn', 'ruler_arg', 'ruler_argn', 'ruler_numm', 'ruler_advv', 'ruler_oper', 'ruler_adpp', 'ruler_nounn', 'ruler_adjj', 'ner']\n",
            "COUNT ( * ) \n",
            "COUNT OPER\n"
          ]
        }
      ]
    },
    {
      "cell_type": "code",
      "source": [
        "# text\n",
        "make_predictions(path,dff[dff.columns[1]][0])"
      ],
      "metadata": {
        "colab": {
          "base_uri": "https://localhost:8080/"
        },
        "id": "eu9FmWLI7iCU",
        "outputId": "8991542b-4dc2-4080-9fd0-10994033210f"
      },
      "execution_count": 60,
      "outputs": [
        {
          "output_type": "stream",
          "name": "stdout",
          "text": [
            "['tok2vec', 'tagger', 'parser', 'attribute_ruler', 'lemmatizer', 'ruler_intj', 'ruler_verb', 'ruler_num', 'ruler_adv', 'ruler_pron', 'ruler_adp', 'ruler_noun', 'ruler_adj', 'ruler_propn', 'ruler_arg', 'ruler_argn', 'ruler_numm', 'ruler_advv', 'ruler_oper', 'ruler_adpp', 'ruler_nounn', 'ruler_adjj', 'ner']\n",
            "SUM ( Sepal Width ) \n",
            "SUM OPER\n",
            "Sepal Width ARGN\n"
          ]
        }
      ]
    },
    {
      "cell_type": "markdown",
      "source": [
        "#END"
      ],
      "metadata": {
        "id": "59rnZFzz9wlI"
      }
    },
    {
      "cell_type": "markdown",
      "source": [
        "# Loading Test Dataset: formulas_test.xlsx"
      ],
      "metadata": {
        "id": "oDNbnkF30Tz7"
      }
    },
    {
      "cell_type": "code",
      "source": [
        "df=pd.read_excel(\"formulas_test.xlsx\")\n",
        "print(df.head(5))"
      ],
      "metadata": {
        "id": "i4QM64-A0JLk",
        "colab": {
          "base_uri": "https://localhost:8080/"
        },
        "outputId": "dacc95f6-b69f-4762-eaa9-2a89f2f8edd7"
      },
      "execution_count": 61,
      "outputs": [
        {
          "output_type": "stream",
          "name": "stdout",
          "text": [
            "                               Description             Formula (Tableau)\n",
            "0         Total Sepal Width in the dataset              SUM(Sepal Width)\n",
            "1  Average Petal Length across all flowers             AVG(Petal Length)\n",
            "2                    Median of Sepal Width           MEDIAN(Sepal Width)\n",
            "3        Number of entries in the database                      COUNT(*)\n",
            "4            Unique count of Petal Lengths  COUNT DISTINCT(Petal Length)\n"
          ]
        }
      ]
    },
    {
      "cell_type": "markdown",
      "source": [
        "#Extracting symbols from Formulas (Tableau)"
      ],
      "metadata": {
        "id": "yLqVEQZjgqOk"
      }
    },
    {
      "cell_type": "code",
      "source": [
        "\n",
        "def gather_sym(data,column_name):\n",
        "    dp=data[column_name]\n",
        "    dp_text=[]\n",
        "    dp_sym=[]\n",
        "    for row in dp:\n",
        "         drow_text=[]\n",
        "         drow_sym =[]\n",
        "         for item in row:\n",
        "              if re.match(r'\\w+',item):\n",
        "                    drow_text.append(item)\n",
        "              else:\n",
        "                    drow_sym.append(item)\n",
        "         dp_text.append(drow_text)\n",
        "         dp_sym.append(drow_sym)\n",
        "    return dp_text,dp_sym\n"
      ],
      "metadata": {
        "id": "3WDk4dr-gOM1"
      },
      "execution_count": 62,
      "outputs": []
    },
    {
      "cell_type": "code",
      "source": [
        "dg_formulas_text,dg_formulas_sym=gather_sym(dg_tok,dg_tok.columns[1])"
      ],
      "metadata": {
        "id": "f7zeIuxKi0p2"
      },
      "execution_count": 63,
      "outputs": []
    },
    {
      "cell_type": "code",
      "source": [
        "print(dg_formulas_text)"
      ],
      "metadata": {
        "id": "j1mQ3fjFAB42",
        "colab": {
          "base_uri": "https://localhost:8080/"
        },
        "outputId": "0738e163-a546-4180-d632-86193a9cd8d3"
      },
      "execution_count": 64,
      "outputs": [
        {
          "output_type": "stream",
          "name": "stdout",
          "text": [
            "[['SUM', 'Sepal', 'Length'], ['AVG', 'Sepal', 'Width'], ['MEDIAN', 'Petal', 'Length'], ['COUNT'], ['COUNT', 'DISTINCT', 'Species'], ['MIN', 'Sepal', 'Length'], ['MAX', 'Petal', 'Width'], ['GROUP', 'BY', 'Species'], ['ORDER', 'BY', 'Sepal', 'Length', 'ASC'], ['ORDER', 'BY', 'Species', 'ASC'], ['Sepal', 'Length', '5', '0'], ['Petal', 'Length', 'BETWEEN', '1', '5', 'AND', '2', '5'], ['TOP', '3', 'BY', 'Sepal', 'Width', 'DESC'], ['Species', 'Setosa'], ['Species', 'STARTS', 'WITH', 'Se'], ['SUM', 'Petal', 'Length'], ['AVG', 'Petal', 'Width'], ['MEDIAN', 'Sepal', 'Width'], ['COUNT', 'Sepal', 'Length'], ['COUNTD', 'Species'], ['MIN', 'Sepal', 'Length'], ['MAX', 'Petal', 'Width'], ['SORT', 'Species', 'DESC'], ['SORT', 'Sepal', 'Length', 'ASC'], ['Sepal', 'Length', '4', '5'], ['Petal', 'Width', '2', '0'], ['Sepal', 'Width', '3', '0'], ['ENDSWITH', 'Species', 'ica'], ['Sepal', 'Length', '5', '0'], ['INDEX', '5', 'SORT', 'BY', 'SUM', 'Sepal', 'Width', 'DESC'], ['INDEX', '3', 'SORT', 'BY', 'Petal', 'Length', 'ASC'], ['IF', 'Petal', 'Length', '4', 'AND', 'Petal', 'Length', '5', 'THEN', '1', 'ELSE', '0', 'END'], ['DATETRUNC', 'month', 'Date'], ['YEAR', 'Date', 'YEAR', 'TODAY', '1'], ['Date', 'DATETRUNC', 'year', 'TODAY'], ['AVG', 'Sepal', 'Length', 'GROUP', 'BY', 'Species', 'SORT', 'BY', 'Species', 'ASC'], ['COUNTD', 'IF', 'LEFT', 'Species', '1', 'C', 'THEN', 'Species', 'ELSE', 'NULL', 'END'], ['Petal', 'Length', '4', '0', 'AND', 'Sepal', 'Length', '4', '0'], ['RANK_PERCENTILE', 'Petal', 'Width', '0', '1'], ['SUM', 'Sepal', 'Length'], ['AVG', 'Petal', 'Width'], ['FIXED', 'Species', 'setosa', 'MEDIAN', 'Sepal', 'Width'], ['SUM', 'IF', 'Species', 'versicolor', 'THEN', '1', 'ELSE', '0', 'END'], ['COUNTD', 'IF', 'Sepal', 'Length', '5', '0', 'THEN', 'Species', 'ELSE', 'NULL', 'END'], ['FIXED', 'Species', 'virginica', 'MIN', 'Petal', 'Length'], ['FIXED', 'Species', 'setosa', 'MAX', 'Sepal', 'Width'], ['SORTED', 'BY', 'Species', 'alphabetically', 'COUNT', 'Species', 'GROUP', 'BY', 'Species', 'ORDER', 'BY', 'Species', 'ASC'], ['Species', 'versicolor', 'AND', 'Sepal', 'Width', '3', '0'], ['RANK', 'Sepal', 'Length', '5', 'AND', 'Species', 'virginica'], ['RANK_PERCENTILE', 'Petal', 'Width', '0', '9'], ['LISTED', 'FROM', 'highest', 'to', 'lowest', 'AVG', 'Sepal', 'Length', 'GROUP', 'BY', 'Species', 'ORDER', 'BY', 'AVG', 'Sepal', 'Length', 'DESC'], ['Species', 'setosa', 'AND', 'Petal', 'Length', 'BETWEEN', '4', '0', 'AND', '5', '0'], ['SUM', 'IF', 'CONTAINS', 'Species', 'color', 'THEN', '1', 'ELSE', '0', 'END'], ['STARTSWITH', 'Species', 'Iri', 'AND', 'ENDSWITH', 'Species', 'a']]\n"
          ]
        }
      ]
    },
    {
      "cell_type": "code",
      "source": [
        "print(dg_formulas_sym)"
      ],
      "metadata": {
        "id": "UMB5ZhNXAGzR",
        "colab": {
          "base_uri": "https://localhost:8080/"
        },
        "outputId": "bf21768f-14d1-4e66-82e1-05e95c9c5f24"
      },
      "execution_count": 65,
      "outputs": [
        {
          "output_type": "stream",
          "name": "stdout",
          "text": [
            "[['(', ')'], ['(', ')'], ['(', ')'], ['(', '*', ')'], ['(', ')'], ['(', ')'], ['(', ')'], ['(', ')'], ['(', ')'], ['(', ')'], ['>', '=', '.'], ['.', '.'], ['(', ')'], ['=', \"'\", \"'\"], [\"'\", \"'\"], ['(', '[', ']', ')'], ['(', '[', ']', ')'], ['(', '[', ']', ')'], ['(', '[', ']', ')'], ['(', '[', ']', ')'], ['(', '[', ']', ')'], ['(', '[', ']', ')'], ['(', '[', ']', ',', ')'], ['(', '[', ']', ',', ')'], ['[', ']', '>', '=', '.'], ['[', ']', '<', '.'], ['[', ']', '!', '=', '.'], ['(', '[', ']', ',', '\"', '\"', ')'], ['[', ']', '=', '.'], ['(', ')', '<', '=', '(', '[', ']', ')'], ['(', ')', '<', '=', '[', ']'], ['[', ']', '>', '=', '[', ']', '<', '='], ['(', \"'\", \"',\", '[', ']', ')'], ['(', '[', ']', ')', '=', '(', '(', ')', ')', '-'], ['[', ']', '>', '=', '(', \"'\", \"'\", ',', '(', ')', ')'], ['(', '[', ']', ')', '[', ']', '[', ']'], ['(', '(', '[', ']', ')', '=', \"'\", \"'\", '[', ']', ')'], ['[', ']', '>', '.', '[', ']', '>', '.'], ['(', '[', ']', ')', '<', '=', '.'], ['(', '[', ']', ')'], ['(', '[', ']', ')'], ['{', '[', ']', '=', '\"', '\"', ':', '(', '[', ']', ')', '}'], ['(', '[', ']', '=', '\"', '\"', ')'], ['(', '[', ']', '>', '.', '[', ']', ')'], ['{', '[', ']', '=', '\"', '\"', ':', '(', '[', ']', ')', '}'], ['{', '[', ']', '=', '\"', '\"', ':', '(', '[', ']', ')', '}'], ['(', '[', ']', ')', '[', ']', '[', ']'], ['[', ']', '=', '\"', '\"', '[', ']', '>', '=', '.'], ['(', '[', ']', ')', '<', '=', '[', ']', '=', '\"', '\"'], ['(', '[', ']', ')', '>', '=', '.'], ['(', '[', ']', ')', '[', ']', '(', '[', ']', ')'], ['[', ']', '=', '\"', '\"', '[', ']', '.', '.'], ['(', '(', '[', ']', '\"', '\"', ')', ')'], ['(', '[', ']', '\"', '\"', ')', '(', '[', ']', ',', '“', '”', ')']]\n"
          ]
        }
      ]
    },
    {
      "cell_type": "code",
      "source": [
        "dg_tok.drop(dg_tok.columns[1], axis=1)"
      ],
      "metadata": {
        "id": "L60GHo54PbwS",
        "colab": {
          "base_uri": "https://localhost:8080/",
          "height": 1000
        },
        "outputId": "320d1c97-8c07-445c-a82f-2532ffb270a8"
      },
      "execution_count": 66,
      "outputs": [
        {
          "output_type": "execute_result",
          "data": {
            "text/plain": [
              "                                Tokenized Description\n",
              "0                            [Sum, of, Sepal, Length]\n",
              "1       [Average, Sepal, Width, across, all, entries]\n",
              "2                  [Find, the, median, Petal, Length]\n",
              "3   [Count, the, number, of, records, in, the, dat...\n",
              "4        [Count, distinct, species, in, the, dataset]\n",
              "5                 [Minimum, value, of, Sepal, Length]\n",
              "6    [Maximum, Petal, Width, found, in, the, dataset]\n",
              "7                       [Group, records, by, Species]\n",
              "8   [Sort, the, entries, by, Sepal, Length, in, as...\n",
              "9                     [List, Species, alphabetically]\n",
              "10  [Entries, with, Sepal, Length, at, least, 5, ....\n",
              "11  [Entries, with, Petal, Length, between, 1, ., ...\n",
              "12  [Top, 3, entries, with, the, highest, Sepal, W...\n",
              "13                        [Species, is, ', Setosa, ']\n",
              "14                  [Species, starts, with, ', Se, ']\n",
              "15        [Calculate, the, total, of, Petal, Lengths]\n",
              "16          [What, is, the, average, Petal, Width, ?]\n",
              "17  [Determine, the, middle, value, of, Sepal, Wid...\n",
              "18           [How, many, data, points, are, there, ?]\n",
              "19                [Number, of, unique, flower, types]\n",
              "20                  [Lowest, Sepal, Length, recorded]\n",
              "21          [Highest, value, of, Petal, Width, found]\n",
              "22  [Organize, data, by, Species, in, descending, ...\n",
              "23        [Rank, Sepal, Lengths, from, low, to, high]\n",
              "24  [Filter, for, Sepal, Length, greater, than, or...\n",
              "25  [Select, entries, with, Petal, Width, less, th...\n",
              "26  [Show, entries, where, Sepal, Width, is, not, ...\n",
              "27  [List, all, where, the, Species, name, ends, w...\n",
              "28  [Entries, with, a, Sepal, Length, of, exactly,...\n",
              "29  [Display, the, top, 5, Species, by, Sepal, Width]\n",
              "30           [Find, the, 3, smallest, Petal, Lengths]\n",
              "31  [Count, occurrences, where, Petal, Length, is,...\n",
              "32  [Aggregate, data, by, the, month, of, observat...\n",
              "33  [Filter, records, from, last, year, (, assumin...\n",
              "34  [Show, only, the, data, starting, from, Januar...\n",
              "35  [Find, the, average, Sepal, Length, for, each,...\n",
              "36  [Count, how, many, Species, start, with, ', C, ']\n",
              "37  [Entries, with, Petal, Length, and, Sepal, Len...\n",
              "38  [List, Species, with, Petal, Width, in, the, t...\n",
              "39    [Total, Sepal, Length, for, all, Iris, flowers]\n",
              "40      [Average, Petal, Width, across, all, species]\n",
              "41          [Median, Sepal, Width, for, Iris, setosa]\n",
              "42             [Count, of, Iris, versicolor, flowers]\n",
              "43  [Distinct, count, of, species, with, Sepal, Le...\n",
              "44     [Minimum, Petal, Length, for, Iris, virginica]\n",
              "45      [Maximum, Sepal, Width, across, Iris, setosa]\n",
              "46  [Total, number, of, records, grouped, by, Spec...\n",
              "47  [Filter, to, show, only, Iris, versicolor, wit...\n",
              "48  [Show, top, 5, Sepal, Lengths, within, Iris, v...\n",
              "49  [Iris, flowers, with, Petal, Width, in, the, b...\n",
              "50       [Average, Sepal, Length, for, each, species]\n",
              "51  [Entries, with, Petal, Length, between, 4, ., ...\n",
              "52  [Count, Iris, flowers, where, the, Species, na...\n",
              "53  [List, all, Iris, flowers, where, the, Species..."
            ],
            "text/html": [
              "\n",
              "  <div id=\"df-4aee0e70-318c-4fa4-8362-b72cbc255bfa\" class=\"colab-df-container\">\n",
              "    <div>\n",
              "<style scoped>\n",
              "    .dataframe tbody tr th:only-of-type {\n",
              "        vertical-align: middle;\n",
              "    }\n",
              "\n",
              "    .dataframe tbody tr th {\n",
              "        vertical-align: top;\n",
              "    }\n",
              "\n",
              "    .dataframe thead th {\n",
              "        text-align: right;\n",
              "    }\n",
              "</style>\n",
              "<table border=\"1\" class=\"dataframe\">\n",
              "  <thead>\n",
              "    <tr style=\"text-align: right;\">\n",
              "      <th></th>\n",
              "      <th>Tokenized Description</th>\n",
              "    </tr>\n",
              "  </thead>\n",
              "  <tbody>\n",
              "    <tr>\n",
              "      <th>0</th>\n",
              "      <td>[Sum, of, Sepal, Length]</td>\n",
              "    </tr>\n",
              "    <tr>\n",
              "      <th>1</th>\n",
              "      <td>[Average, Sepal, Width, across, all, entries]</td>\n",
              "    </tr>\n",
              "    <tr>\n",
              "      <th>2</th>\n",
              "      <td>[Find, the, median, Petal, Length]</td>\n",
              "    </tr>\n",
              "    <tr>\n",
              "      <th>3</th>\n",
              "      <td>[Count, the, number, of, records, in, the, dat...</td>\n",
              "    </tr>\n",
              "    <tr>\n",
              "      <th>4</th>\n",
              "      <td>[Count, distinct, species, in, the, dataset]</td>\n",
              "    </tr>\n",
              "    <tr>\n",
              "      <th>5</th>\n",
              "      <td>[Minimum, value, of, Sepal, Length]</td>\n",
              "    </tr>\n",
              "    <tr>\n",
              "      <th>6</th>\n",
              "      <td>[Maximum, Petal, Width, found, in, the, dataset]</td>\n",
              "    </tr>\n",
              "    <tr>\n",
              "      <th>7</th>\n",
              "      <td>[Group, records, by, Species]</td>\n",
              "    </tr>\n",
              "    <tr>\n",
              "      <th>8</th>\n",
              "      <td>[Sort, the, entries, by, Sepal, Length, in, as...</td>\n",
              "    </tr>\n",
              "    <tr>\n",
              "      <th>9</th>\n",
              "      <td>[List, Species, alphabetically]</td>\n",
              "    </tr>\n",
              "    <tr>\n",
              "      <th>10</th>\n",
              "      <td>[Entries, with, Sepal, Length, at, least, 5, ....</td>\n",
              "    </tr>\n",
              "    <tr>\n",
              "      <th>11</th>\n",
              "      <td>[Entries, with, Petal, Length, between, 1, ., ...</td>\n",
              "    </tr>\n",
              "    <tr>\n",
              "      <th>12</th>\n",
              "      <td>[Top, 3, entries, with, the, highest, Sepal, W...</td>\n",
              "    </tr>\n",
              "    <tr>\n",
              "      <th>13</th>\n",
              "      <td>[Species, is, ', Setosa, ']</td>\n",
              "    </tr>\n",
              "    <tr>\n",
              "      <th>14</th>\n",
              "      <td>[Species, starts, with, ', Se, ']</td>\n",
              "    </tr>\n",
              "    <tr>\n",
              "      <th>15</th>\n",
              "      <td>[Calculate, the, total, of, Petal, Lengths]</td>\n",
              "    </tr>\n",
              "    <tr>\n",
              "      <th>16</th>\n",
              "      <td>[What, is, the, average, Petal, Width, ?]</td>\n",
              "    </tr>\n",
              "    <tr>\n",
              "      <th>17</th>\n",
              "      <td>[Determine, the, middle, value, of, Sepal, Wid...</td>\n",
              "    </tr>\n",
              "    <tr>\n",
              "      <th>18</th>\n",
              "      <td>[How, many, data, points, are, there, ?]</td>\n",
              "    </tr>\n",
              "    <tr>\n",
              "      <th>19</th>\n",
              "      <td>[Number, of, unique, flower, types]</td>\n",
              "    </tr>\n",
              "    <tr>\n",
              "      <th>20</th>\n",
              "      <td>[Lowest, Sepal, Length, recorded]</td>\n",
              "    </tr>\n",
              "    <tr>\n",
              "      <th>21</th>\n",
              "      <td>[Highest, value, of, Petal, Width, found]</td>\n",
              "    </tr>\n",
              "    <tr>\n",
              "      <th>22</th>\n",
              "      <td>[Organize, data, by, Species, in, descending, ...</td>\n",
              "    </tr>\n",
              "    <tr>\n",
              "      <th>23</th>\n",
              "      <td>[Rank, Sepal, Lengths, from, low, to, high]</td>\n",
              "    </tr>\n",
              "    <tr>\n",
              "      <th>24</th>\n",
              "      <td>[Filter, for, Sepal, Length, greater, than, or...</td>\n",
              "    </tr>\n",
              "    <tr>\n",
              "      <th>25</th>\n",
              "      <td>[Select, entries, with, Petal, Width, less, th...</td>\n",
              "    </tr>\n",
              "    <tr>\n",
              "      <th>26</th>\n",
              "      <td>[Show, entries, where, Sepal, Width, is, not, ...</td>\n",
              "    </tr>\n",
              "    <tr>\n",
              "      <th>27</th>\n",
              "      <td>[List, all, where, the, Species, name, ends, w...</td>\n",
              "    </tr>\n",
              "    <tr>\n",
              "      <th>28</th>\n",
              "      <td>[Entries, with, a, Sepal, Length, of, exactly,...</td>\n",
              "    </tr>\n",
              "    <tr>\n",
              "      <th>29</th>\n",
              "      <td>[Display, the, top, 5, Species, by, Sepal, Width]</td>\n",
              "    </tr>\n",
              "    <tr>\n",
              "      <th>30</th>\n",
              "      <td>[Find, the, 3, smallest, Petal, Lengths]</td>\n",
              "    </tr>\n",
              "    <tr>\n",
              "      <th>31</th>\n",
              "      <td>[Count, occurrences, where, Petal, Length, is,...</td>\n",
              "    </tr>\n",
              "    <tr>\n",
              "      <th>32</th>\n",
              "      <td>[Aggregate, data, by, the, month, of, observat...</td>\n",
              "    </tr>\n",
              "    <tr>\n",
              "      <th>33</th>\n",
              "      <td>[Filter, records, from, last, year, (, assumin...</td>\n",
              "    </tr>\n",
              "    <tr>\n",
              "      <th>34</th>\n",
              "      <td>[Show, only, the, data, starting, from, Januar...</td>\n",
              "    </tr>\n",
              "    <tr>\n",
              "      <th>35</th>\n",
              "      <td>[Find, the, average, Sepal, Length, for, each,...</td>\n",
              "    </tr>\n",
              "    <tr>\n",
              "      <th>36</th>\n",
              "      <td>[Count, how, many, Species, start, with, ', C, ']</td>\n",
              "    </tr>\n",
              "    <tr>\n",
              "      <th>37</th>\n",
              "      <td>[Entries, with, Petal, Length, and, Sepal, Len...</td>\n",
              "    </tr>\n",
              "    <tr>\n",
              "      <th>38</th>\n",
              "      <td>[List, Species, with, Petal, Width, in, the, t...</td>\n",
              "    </tr>\n",
              "    <tr>\n",
              "      <th>39</th>\n",
              "      <td>[Total, Sepal, Length, for, all, Iris, flowers]</td>\n",
              "    </tr>\n",
              "    <tr>\n",
              "      <th>40</th>\n",
              "      <td>[Average, Petal, Width, across, all, species]</td>\n",
              "    </tr>\n",
              "    <tr>\n",
              "      <th>41</th>\n",
              "      <td>[Median, Sepal, Width, for, Iris, setosa]</td>\n",
              "    </tr>\n",
              "    <tr>\n",
              "      <th>42</th>\n",
              "      <td>[Count, of, Iris, versicolor, flowers]</td>\n",
              "    </tr>\n",
              "    <tr>\n",
              "      <th>43</th>\n",
              "      <td>[Distinct, count, of, species, with, Sepal, Le...</td>\n",
              "    </tr>\n",
              "    <tr>\n",
              "      <th>44</th>\n",
              "      <td>[Minimum, Petal, Length, for, Iris, virginica]</td>\n",
              "    </tr>\n",
              "    <tr>\n",
              "      <th>45</th>\n",
              "      <td>[Maximum, Sepal, Width, across, Iris, setosa]</td>\n",
              "    </tr>\n",
              "    <tr>\n",
              "      <th>46</th>\n",
              "      <td>[Total, number, of, records, grouped, by, Spec...</td>\n",
              "    </tr>\n",
              "    <tr>\n",
              "      <th>47</th>\n",
              "      <td>[Filter, to, show, only, Iris, versicolor, wit...</td>\n",
              "    </tr>\n",
              "    <tr>\n",
              "      <th>48</th>\n",
              "      <td>[Show, top, 5, Sepal, Lengths, within, Iris, v...</td>\n",
              "    </tr>\n",
              "    <tr>\n",
              "      <th>49</th>\n",
              "      <td>[Iris, flowers, with, Petal, Width, in, the, b...</td>\n",
              "    </tr>\n",
              "    <tr>\n",
              "      <th>50</th>\n",
              "      <td>[Average, Sepal, Length, for, each, species]</td>\n",
              "    </tr>\n",
              "    <tr>\n",
              "      <th>51</th>\n",
              "      <td>[Entries, with, Petal, Length, between, 4, ., ...</td>\n",
              "    </tr>\n",
              "    <tr>\n",
              "      <th>52</th>\n",
              "      <td>[Count, Iris, flowers, where, the, Species, na...</td>\n",
              "    </tr>\n",
              "    <tr>\n",
              "      <th>53</th>\n",
              "      <td>[List, all, Iris, flowers, where, the, Species...</td>\n",
              "    </tr>\n",
              "  </tbody>\n",
              "</table>\n",
              "</div>\n",
              "    <div class=\"colab-df-buttons\">\n",
              "\n",
              "  <div class=\"colab-df-container\">\n",
              "    <button class=\"colab-df-convert\" onclick=\"convertToInteractive('df-4aee0e70-318c-4fa4-8362-b72cbc255bfa')\"\n",
              "            title=\"Convert this dataframe to an interactive table.\"\n",
              "            style=\"display:none;\">\n",
              "\n",
              "  <svg xmlns=\"http://www.w3.org/2000/svg\" height=\"24px\" viewBox=\"0 -960 960 960\">\n",
              "    <path d=\"M120-120v-720h720v720H120Zm60-500h600v-160H180v160Zm220 220h160v-160H400v160Zm0 220h160v-160H400v160ZM180-400h160v-160H180v160Zm440 0h160v-160H620v160ZM180-180h160v-160H180v160Zm440 0h160v-160H620v160Z\"/>\n",
              "  </svg>\n",
              "    </button>\n",
              "\n",
              "  <style>\n",
              "    .colab-df-container {\n",
              "      display:flex;\n",
              "      gap: 12px;\n",
              "    }\n",
              "\n",
              "    .colab-df-convert {\n",
              "      background-color: #E8F0FE;\n",
              "      border: none;\n",
              "      border-radius: 50%;\n",
              "      cursor: pointer;\n",
              "      display: none;\n",
              "      fill: #1967D2;\n",
              "      height: 32px;\n",
              "      padding: 0 0 0 0;\n",
              "      width: 32px;\n",
              "    }\n",
              "\n",
              "    .colab-df-convert:hover {\n",
              "      background-color: #E2EBFA;\n",
              "      box-shadow: 0px 1px 2px rgba(60, 64, 67, 0.3), 0px 1px 3px 1px rgba(60, 64, 67, 0.15);\n",
              "      fill: #174EA6;\n",
              "    }\n",
              "\n",
              "    .colab-df-buttons div {\n",
              "      margin-bottom: 4px;\n",
              "    }\n",
              "\n",
              "    [theme=dark] .colab-df-convert {\n",
              "      background-color: #3B4455;\n",
              "      fill: #D2E3FC;\n",
              "    }\n",
              "\n",
              "    [theme=dark] .colab-df-convert:hover {\n",
              "      background-color: #434B5C;\n",
              "      box-shadow: 0px 1px 3px 1px rgba(0, 0, 0, 0.15);\n",
              "      filter: drop-shadow(0px 1px 2px rgba(0, 0, 0, 0.3));\n",
              "      fill: #FFFFFF;\n",
              "    }\n",
              "  </style>\n",
              "\n",
              "    <script>\n",
              "      const buttonEl =\n",
              "        document.querySelector('#df-4aee0e70-318c-4fa4-8362-b72cbc255bfa button.colab-df-convert');\n",
              "      buttonEl.style.display =\n",
              "        google.colab.kernel.accessAllowed ? 'block' : 'none';\n",
              "\n",
              "      async function convertToInteractive(key) {\n",
              "        const element = document.querySelector('#df-4aee0e70-318c-4fa4-8362-b72cbc255bfa');\n",
              "        const dataTable =\n",
              "          await google.colab.kernel.invokeFunction('convertToInteractive',\n",
              "                                                    [key], {});\n",
              "        if (!dataTable) return;\n",
              "\n",
              "        const docLinkHtml = 'Like what you see? Visit the ' +\n",
              "          '<a target=\"_blank\" href=https://colab.research.google.com/notebooks/data_table.ipynb>data table notebook</a>'\n",
              "          + ' to learn more about interactive tables.';\n",
              "        element.innerHTML = '';\n",
              "        dataTable['output_type'] = 'display_data';\n",
              "        await google.colab.output.renderOutput(dataTable, element);\n",
              "        const docLink = document.createElement('div');\n",
              "        docLink.innerHTML = docLinkHtml;\n",
              "        element.appendChild(docLink);\n",
              "      }\n",
              "    </script>\n",
              "  </div>\n",
              "\n",
              "\n",
              "<div id=\"df-21efc02c-4b2b-43d7-a2a9-36d318ec786c\">\n",
              "  <button class=\"colab-df-quickchart\" onclick=\"quickchart('df-21efc02c-4b2b-43d7-a2a9-36d318ec786c')\"\n",
              "            title=\"Suggest charts\"\n",
              "            style=\"display:none;\">\n",
              "\n",
              "<svg xmlns=\"http://www.w3.org/2000/svg\" height=\"24px\"viewBox=\"0 0 24 24\"\n",
              "     width=\"24px\">\n",
              "    <g>\n",
              "        <path d=\"M19 3H5c-1.1 0-2 .9-2 2v14c0 1.1.9 2 2 2h14c1.1 0 2-.9 2-2V5c0-1.1-.9-2-2-2zM9 17H7v-7h2v7zm4 0h-2V7h2v10zm4 0h-2v-4h2v4z\"/>\n",
              "    </g>\n",
              "</svg>\n",
              "  </button>\n",
              "\n",
              "<style>\n",
              "  .colab-df-quickchart {\n",
              "      --bg-color: #E8F0FE;\n",
              "      --fill-color: #1967D2;\n",
              "      --hover-bg-color: #E2EBFA;\n",
              "      --hover-fill-color: #174EA6;\n",
              "      --disabled-fill-color: #AAA;\n",
              "      --disabled-bg-color: #DDD;\n",
              "  }\n",
              "\n",
              "  [theme=dark] .colab-df-quickchart {\n",
              "      --bg-color: #3B4455;\n",
              "      --fill-color: #D2E3FC;\n",
              "      --hover-bg-color: #434B5C;\n",
              "      --hover-fill-color: #FFFFFF;\n",
              "      --disabled-bg-color: #3B4455;\n",
              "      --disabled-fill-color: #666;\n",
              "  }\n",
              "\n",
              "  .colab-df-quickchart {\n",
              "    background-color: var(--bg-color);\n",
              "    border: none;\n",
              "    border-radius: 50%;\n",
              "    cursor: pointer;\n",
              "    display: none;\n",
              "    fill: var(--fill-color);\n",
              "    height: 32px;\n",
              "    padding: 0;\n",
              "    width: 32px;\n",
              "  }\n",
              "\n",
              "  .colab-df-quickchart:hover {\n",
              "    background-color: var(--hover-bg-color);\n",
              "    box-shadow: 0 1px 2px rgba(60, 64, 67, 0.3), 0 1px 3px 1px rgba(60, 64, 67, 0.15);\n",
              "    fill: var(--button-hover-fill-color);\n",
              "  }\n",
              "\n",
              "  .colab-df-quickchart-complete:disabled,\n",
              "  .colab-df-quickchart-complete:disabled:hover {\n",
              "    background-color: var(--disabled-bg-color);\n",
              "    fill: var(--disabled-fill-color);\n",
              "    box-shadow: none;\n",
              "  }\n",
              "\n",
              "  .colab-df-spinner {\n",
              "    border: 2px solid var(--fill-color);\n",
              "    border-color: transparent;\n",
              "    border-bottom-color: var(--fill-color);\n",
              "    animation:\n",
              "      spin 1s steps(1) infinite;\n",
              "  }\n",
              "\n",
              "  @keyframes spin {\n",
              "    0% {\n",
              "      border-color: transparent;\n",
              "      border-bottom-color: var(--fill-color);\n",
              "      border-left-color: var(--fill-color);\n",
              "    }\n",
              "    20% {\n",
              "      border-color: transparent;\n",
              "      border-left-color: var(--fill-color);\n",
              "      border-top-color: var(--fill-color);\n",
              "    }\n",
              "    30% {\n",
              "      border-color: transparent;\n",
              "      border-left-color: var(--fill-color);\n",
              "      border-top-color: var(--fill-color);\n",
              "      border-right-color: var(--fill-color);\n",
              "    }\n",
              "    40% {\n",
              "      border-color: transparent;\n",
              "      border-right-color: var(--fill-color);\n",
              "      border-top-color: var(--fill-color);\n",
              "    }\n",
              "    60% {\n",
              "      border-color: transparent;\n",
              "      border-right-color: var(--fill-color);\n",
              "    }\n",
              "    80% {\n",
              "      border-color: transparent;\n",
              "      border-right-color: var(--fill-color);\n",
              "      border-bottom-color: var(--fill-color);\n",
              "    }\n",
              "    90% {\n",
              "      border-color: transparent;\n",
              "      border-bottom-color: var(--fill-color);\n",
              "    }\n",
              "  }\n",
              "</style>\n",
              "\n",
              "  <script>\n",
              "    async function quickchart(key) {\n",
              "      const quickchartButtonEl =\n",
              "        document.querySelector('#' + key + ' button');\n",
              "      quickchartButtonEl.disabled = true;  // To prevent multiple clicks.\n",
              "      quickchartButtonEl.classList.add('colab-df-spinner');\n",
              "      try {\n",
              "        const charts = await google.colab.kernel.invokeFunction(\n",
              "            'suggestCharts', [key], {});\n",
              "      } catch (error) {\n",
              "        console.error('Error during call to suggestCharts:', error);\n",
              "      }\n",
              "      quickchartButtonEl.classList.remove('colab-df-spinner');\n",
              "      quickchartButtonEl.classList.add('colab-df-quickchart-complete');\n",
              "    }\n",
              "    (() => {\n",
              "      let quickchartButtonEl =\n",
              "        document.querySelector('#df-21efc02c-4b2b-43d7-a2a9-36d318ec786c button');\n",
              "      quickchartButtonEl.style.display =\n",
              "        google.colab.kernel.accessAllowed ? 'block' : 'none';\n",
              "    })();\n",
              "  </script>\n",
              "</div>\n",
              "    </div>\n",
              "  </div>\n"
            ],
            "application/vnd.google.colaboratory.intrinsic+json": {
              "type": "dataframe",
              "summary": "{\n  \"name\": \"dg_tok\",\n  \"rows\": 54,\n  \"fields\": [\n    {\n      \"column\": \"Tokenized Description\",\n      \"properties\": {\n        \"dtype\": \"object\",\n        \"semantic_type\": \"\",\n        \"description\": \"\"\n      }\n    }\n  ]\n}"
            }
          },
          "metadata": {},
          "execution_count": 66
        }
      ]
    },
    {
      "cell_type": "markdown",
      "source": [
        "Adding columns to dg_tok of Formulas and Symbols in separated way"
      ],
      "metadata": {
        "id": "UQlk0IaCEsJy"
      }
    },
    {
      "cell_type": "code",
      "source": [
        "dg_tok[\"Tokenized Formula (Tableau)\"]=dg_formulas_text"
      ],
      "metadata": {
        "id": "aG6yDi7dE449"
      },
      "execution_count": 67,
      "outputs": []
    },
    {
      "cell_type": "code",
      "source": [
        "dg_tok[\"Tokenized Symbols (Tableau)\"]=dg_formulas_sym"
      ],
      "metadata": {
        "id": "CZHfOu55IJ7P"
      },
      "execution_count": 68,
      "outputs": []
    },
    {
      "cell_type": "code",
      "source": [
        "print(dg_tok.head(10))"
      ],
      "metadata": {
        "id": "783qHvjyIjt9",
        "colab": {
          "base_uri": "https://localhost:8080/"
        },
        "outputId": "6ec29a7f-ff92-4233-e5d2-f2f3883fb30c"
      },
      "execution_count": 69,
      "outputs": [
        {
          "output_type": "stream",
          "name": "stdout",
          "text": [
            "                               Tokenized Description  \\\n",
            "0                           [Sum, of, Sepal, Length]   \n",
            "1      [Average, Sepal, Width, across, all, entries]   \n",
            "2                 [Find, the, median, Petal, Length]   \n",
            "3  [Count, the, number, of, records, in, the, dat...   \n",
            "4       [Count, distinct, species, in, the, dataset]   \n",
            "5                [Minimum, value, of, Sepal, Length]   \n",
            "6   [Maximum, Petal, Width, found, in, the, dataset]   \n",
            "7                      [Group, records, by, Species]   \n",
            "8  [Sort, the, entries, by, Sepal, Length, in, as...   \n",
            "9                    [List, Species, alphabetically]   \n",
            "\n",
            "       Tokenized Formula (Tableau) Tokenized Symbols (Tableau)  \n",
            "0             [SUM, Sepal, Length]                      [(, )]  \n",
            "1              [AVG, Sepal, Width]                      [(, )]  \n",
            "2          [MEDIAN, Petal, Length]                      [(, )]  \n",
            "3                          [COUNT]                   [(, *, )]  \n",
            "4       [COUNT, DISTINCT, Species]                      [(, )]  \n",
            "5             [MIN, Sepal, Length]                      [(, )]  \n",
            "6              [MAX, Petal, Width]                      [(, )]  \n",
            "7             [GROUP, BY, Species]                      [(, )]  \n",
            "8  [ORDER, BY, Sepal, Length, ASC]                      [(, )]  \n",
            "9        [ORDER, BY, Species, ASC]                      [(, )]  \n"
          ]
        }
      ]
    },
    {
      "cell_type": "markdown",
      "source": [
        "# Recognition of entities"
      ],
      "metadata": {
        "id": "o9csevIdMITD"
      }
    },
    {
      "cell_type": "code",
      "source": [
        "def get_pos_(data,col_name):\n",
        "  dd=[]\n",
        "  gg=[]\n",
        "  for tok in data[col_name]:\n",
        "\n",
        "          for ent in nlp(str(list(str(tok).split()))):\n",
        "              # checking text between punct\n",
        "              dd.append({ent.text:ent.pos_})\n",
        "              gg.append({ent.pos_:ent.text})\n",
        "  return dd,gg"
      ],
      "metadata": {
        "id": "_DrUfeymSGGA"
      },
      "execution_count": 70,
      "outputs": []
    },
    {
      "cell_type": "code",
      "source": [
        "def get_patterns(data,col_name):\n",
        "     dt,dp=get_pos_(data,col_name)\n",
        "\n",
        "     pos_=[list(item.keys())[0] for item in dp]\n",
        "     pos_=list(set(pos_))\n",
        "     print(dt)\n",
        "     print(col_name,\":\",pos_)\n",
        "     patterns={}\n",
        "     for key in pos_:\n",
        "         patterns.update({key:list(set([d[key] for d in dp if  key==list(d.keys())[0]]))})\n",
        "     return patterns"
      ],
      "metadata": {
        "id": "egSnDiSWCtiv"
      },
      "execution_count": 71,
      "outputs": []
    },
    {
      "cell_type": "code",
      "source": [
        "dg_ent={}"
      ],
      "metadata": {
        "id": "UvGBuLNlOmE_"
      },
      "execution_count": 72,
      "outputs": []
    },
    {
      "cell_type": "code",
      "source": [
        "p_t=dg_ent['Patterns_Description']=get_patterns(description,\"vocab\")"
      ],
      "metadata": {
        "id": "RaB4-392PdwM",
        "colab": {
          "base_uri": "https://localhost:8080/"
        },
        "outputId": "8404401c-fa4b-4929-9404-5ccd8acb4592"
      },
      "execution_count": 73,
      "outputs": [
        {
          "output_type": "stream",
          "name": "stdout",
          "text": [
            "[{'[': 'X'}, {\"'\": 'PUNCT'}, {'sorted': 'VERB'}, {\"'\": 'PUNCT'}, {']': 'PUNCT'}, {'[': 'X'}, {\"'\": 'PUNCT'}, {'Average': 'ADJ'}, {\"'\": 'PUNCT'}, {']': 'PUNCT'}, {'[': 'X'}, {\"'\": 'PUNCT'}, {'with': 'ADP'}, {\"'\": 'PUNCT'}, {']': 'PUNCT'}, {'[': 'X'}, {\"'\": 'NUM'}, {'5': 'NUM'}, {\"'\": 'PUNCT'}, {']': 'PUNCT'}, {'[': 'X'}, {\"'\": 'X'}, {'Entries': 'NOUN'}, {\"'\": 'PUNCT'}, {']': 'PUNCT'}, {'[': 'X'}, {\"'\": 'PUNCT'}, {'low': 'ADJ'}, {\"'\": 'PUNCT'}, {']': 'PUNCT'}, {'[': 'X'}, {\"'\": 'PUNCT'}, {'median': 'X'}, {\"'\": 'PUNCT'}, {']': 'PUNCT'}, {'[': 'X'}, {\"'\": 'PUNCT'}, {'each': 'PRON'}, {\"'\": 'PUNCT'}, {']': 'PUNCT'}, {'[': 'X'}, {\"'\": 'VERB'}, {'starting': 'VERB'}, {\"'\": 'PUNCT'}, {']': 'PUNCT'}, {'[': 'X'}, {\"'\": 'PUNCT'}, {'Top': 'ADJ'}, {\"'\": 'PUNCT'}, {']': 'PUNCT'}, {'[': 'X'}, {\"'\": 'PUNCT'}, {'exactly': 'ADV'}, {\"'\": 'PUNCT'}, {']': 'PUNCT'}, {'[': 'X'}, {\"'\": 'PUNCT'}, {'highest': 'ADJ'}, {\"'\": 'PUNCT'}, {']': 'PUNCT'}, {'[': 'X'}, {\"'\": 'PROPN'}, {'Total': 'ADJ'}, {\"'\": 'PUNCT'}, {']': 'PUNCT'}, {'[': 'X'}, {\"'\": 'PUNCT'}, {'Maximum': 'PROPN'}, {\"'\": 'PUNCT'}, {']': 'PUNCT'}, {'[': 'X'}, {\"'\": 'PUNCT'}, {'observation': 'NOUN'}, {\"'\": 'PUNCT'}, {']': 'PUNCT'}, {'[': 'X'}, {\"'\": 'NOUN'}, {'entries': 'NOUN'}, {\"'\": 'PUNCT'}, {']': 'PUNCT'}, {'[': 'X'}, {\"'\": 'PUNCT'}, {'start': 'VERB'}, {\"'\": 'PUNCT'}, {']': 'PUNCT'}, {'[': 'X'}, {\"'\": 'PUNCT'}, {'only': 'ADV'}, {\"'\": 'PUNCT'}, {']': 'PUNCT'}, {'[': 'X'}, {\"'\": 'PUNCT'}, {'ascending': 'VERB'}, {\"'\": 'PUNCT'}, {']': 'PUNCT'}, {'[': 'X'}, {\"'\": 'PUNCT'}, {'order': 'NOUN'}, {\"'\": 'PUNCT'}, {']': 'PUNCT'}, {'[': 'X'}, {\"'\": 'NOUN'}, {'occurrences': 'NOUN'}, {\"'\": 'PUNCT'}, {']': 'PUNCT'}, {'[': 'X'}, {\"'\": 'PUNCT'}, {'in': 'ADP'}, {\"'\": 'NOUN'}, {']': 'PUNCT'}, {'[': 'X'}, {\"'\": 'PUNCT'}, {'Lowest': 'ADJ'}, {\"'\": 'PUNCT'}, {']': 'PUNCT'}, {'[': 'X'}, {\"'\": 'NOUN'}, {'virginica': 'X'}, {\"'\": 'PUNCT'}, {']': 'PUNCT'}, {'[': 'X'}, {\"'\": 'PUNCT'}, {'year': 'NOUN'}, {\"'\": 'PUNCT'}, {']': 'PUNCT'}, {'[': 'X'}, {\"'\": 'X'}, {'Widths': 'NOUN'}, {\"'\": 'PUNCT'}, {']': 'PUNCT'}, {'[': 'X'}, {\"'\": 'NUM'}, {'3': 'NUM'}, {\"'\": 'PUNCT'}, {']': 'PUNCT'}, {'[': 'X'}, {\"'\": 'PUNCT'}, {'from': 'ADP'}, {\"'\": 'PUNCT'}, {']': 'PUNCT'}, {'[': 'X'}, {\"'\": 'PUNCT'}, {'setosa': 'X'}, {\"'\": 'PUNCT'}, {']': 'PUNCT'}, {'[': 'X'}, {\"'\": 'NUM'}, {'0': 'NUM'}, {\"'\": 'PUNCT'}, {']': 'PUNCT'}, {'[': 'X'}, {\"'\": 'VERB'}, {'where': 'SCONJ'}, {\"'\": 'PUNCT'}, {']': 'PUNCT'}, {'[': 'X'}, {\"'\": 'NOUN'}, {'types': 'NOUN'}, {\"'\": 'PUNCT'}, {']': 'PUNCT'}, {'[': 'X'}, {\"'\": 'PUNCT'}, {'Aggregate': 'VERB'}, {\"'\": 'PUNCT'}, {']': 'PUNCT'}, {'[': 'X'}, {\"'\": 'PUNCT'}, {'smallest': 'ADJ'}, {\"'\": 'PUNCT'}, {']': 'PUNCT'}, {'[': 'X'}, {\"'\": 'PUNCT'}, {'over': 'ADP'}, {\"'\": 'PUNCT'}, {']': 'PUNCT'}, {'[': 'X'}, {\"'\": 'X'}, {'%': 'INTJ'}, {\"'\": 'PUNCT'}, {']': 'PUNCT'}, {'[': 'X'}, {\"'\": 'PUNCT'}, {'Species': 'NOUN'}, {\"'\": 'PUNCT'}, {']': 'PUNCT'}, {'[': 'X'}, {\"'\": 'PUNCT'}, {'greater': 'ADJ'}, {\"'\": 'PUNCT'}, {']': 'PUNCT'}, {'[': 'X'}, {\"'\": 'X'}, {'Filter': 'PROPN'}, {\"'\": 'PUNCT'}, {']': 'PUNCT'}, {'[': 'X'}, {\"'\": 'PUNCT'}, {'there': 'PRON'}, {\"'\": 'NOUN'}, {']': 'PUNCT'}, {'[': 'X'}, {\"'\": 'PUNCT'}, {'List': 'NOUN'}, {\"'\": 'PUNCT'}, {']': 'PUNCT'}, {'[': 'X'}, {\"'\": 'PUNCT'}, {'?': 'PUNCT'}, {\"'\": 'PUNCT'}, {']': 'PUNCT'}, {'[': 'X'}, {\"'\": 'PUNCT'}, {'many': 'ADJ'}, {\"'\": 'PUNCT'}, {']': 'PUNCT'}, {'[': 'X'}, {\"'\": 'PUNCT'}, {'bottom': 'ADJ'}, {\"'\": 'PUNCT'}, {']': 'PUNCT'}, {'[': 'X'}, {\"'\": 'PUNCT'}, {'unique': 'ADJ'}, {\"'\": 'PUNCT'}, {']': 'PUNCT'}, {'[': 'X'}, {\"'\": 'PUNCT'}, {'than': 'ADP'}, {\"'\": 'NOUN'}, {']': 'PUNCT'}, {'[': 'X'}, {\"'\": 'NUM'}, {'2': 'NUM'}, {\"'\": 'PUNCT'}, {']': 'PUNCT'}, {'[': 'X'}, {\"'\": 'PUNCT'}, {'the': 'DET'}, {\"'\": 'PUNCT'}, {']': 'PUNCT'}, {'[': 'X'}, {\"'\": 'PUNCT'}, {'top': 'ADJ'}, {\"'\": 'PUNCT'}, {']': 'PUNCT'}, {'[': 'X'}, {\"'\": 'PUNCT'}, {'or': 'CCONJ'}, {\"'\": 'PUNCT'}, {']': 'PUNCT'}, {'[': 'X'}, {\"'\": 'PUNCT'}, {'assuming': 'VERB'}, {\"'\": 'PUNCT'}, {']': 'PUNCT'}, {'[': 'X'}, {\"'\": 'PUNCT'}, {'Count': 'PROPN'}, {\"'\": 'PUNCT'}, {']': 'PUNCT'}, {'[': 'X'}, {\"'\": 'PUNCT'}, {'total': 'ADJ'}, {\"'\": 'PUNCT'}, {']': 'PUNCT'}, {'[': 'X'}, {\"'\": 'PUNCT'}, {'grouped': 'VERB'}, {\"'\": 'PUNCT'}, {']': 'PUNCT'}, {'[': 'X'}, {\"'\": 'PUNCT'}, {'is': 'AUX'}, {\"'\": 'PUNCT'}, {']': 'PUNCT'}, {'[': 'X'}, {\"'\": 'NOUN'}, {'1': 'NUM'}, {\"'\": 'NUM'}, {']': 'PUNCT'}, {'[': 'X'}, {\"'\": 'PUNCT'}, {'Find': 'VERB'}, {\"'\": 'PUNCT'}, {']': 'PUNCT'}, {'[': 'X'}, {\"'\": 'X'}, {'Iris': 'PROPN'}, {\"'\": 'PUNCT'}, {']': 'PUNCT'}, {'[': 'X'}, {\"'\": 'PUNCT'}, {'show': 'VERB'}, {\"'\": 'PUNCT'}, {']': 'PUNCT'}, {'[': 'X'}, {\"'\": 'PUNCT'}, {'Setosa': 'PROPN'}, {\"'\": 'PUNCT'}, {']': 'PUNCT'}, {'[': 'X'}, {\"'\": 'PUNCT'}, {'Median': 'PROPN'}, {\"'\": 'PUNCT'}, {']': 'PUNCT'}, {'[': 'X'}, {\"'\": 'PUNCT'}, {'alphabetically': 'ADV'}, {\"'\": 'VERB'}, {']': 'PUNCT'}, {'[': 'X'}, {\"'\": 'PUNCT'}, {'starts': 'VERB'}, {\"'\": 'PUNCT'}, {']': 'PUNCT'}, {'[': 'X'}, {\"'\": 'NUM'}, {'4': 'NUM'}, {\"'\": 'PUNCT'}, {']': 'PUNCT'}, {'[': 'X'}, {\"'\": 'PUNCT'}, {'Date': 'PROPN'}, {\"'\": 'PUNCT'}, {']': 'PUNCT'}, {'[': 'X'}, {\"'\": 'PUNCT'}, {'both': 'PRON'}, {\"'\": 'VERB'}, {']': 'PUNCT'}, {'[': 'X'}, {\"'\": 'NOUN'}, {'flowers': 'NOUN'}, {\"'\": 'VERB'}, {']': 'PUNCT'}, {'[': 'X'}, {\"'\": 'PUNCT'}, {'dataset': 'ADJ'}, {\"'\": 'PUNCT'}, {']': 'PUNCT'}, {'[': 'X'}, {\"'\": 'VERB'}, {'are': 'AUX'}, {\"'\": 'PUNCT'}, {']': 'PUNCT'}, {'[': 'X'}, {\"'\": 'NOUN'}, {'points': 'NOUN'}, {\"'\": 'PUNCT'}, {']': 'PUNCT'}, {'[': 'X'}, {\"'\": 'PUNCT'}, {'by': 'ADP'}, {\"'\": 'PUNCT'}, {']': 'PUNCT'}, {'[': 'X'}, {\"'\": 'PUNCT'}, {'contains': 'VERB'}, {\"'\": 'PUNCT'}, {']': 'PUNCT'}, {'[': 'X'}, {\"'\": 'X'}, {'Number': 'NOUN'}, {\"'\": 'PUNCT'}, {']': 'PUNCT'}, {'[': 'X'}, {\"'\": 'PUNCT'}, {'Sort': 'ADV'}, {\"'\": 'NOUN'}, {']': 'PUNCT'}, {'[': 'X'}, {\"'\": 'PUNCT'}, {'within': 'ADP'}, {\"'\": 'PUNCT'}, {']': 'PUNCT'}, {'[': 'X'}, {\"'\": 'PUNCT'}, {'ends': 'VERB'}, {\"'\": 'PUNCT'}, {']': 'PUNCT'}, {'[': 'X'}, {\"'\": 'PUNCT'}, {'less': 'ADJ'}, {\"'\": 'PUNCT'}, {']': 'PUNCT'}, {'[': 'X'}, {\"'\": 'VERB'}, {'not': 'PART'}, {\"'\": 'PUNCT'}, {']': 'PUNCT'}, {'[': 'X'}, {\"'\": 'PUNCT'}, {'for': 'ADP'}, {\"'\": 'PUNCT'}, {']': 'PUNCT'}, {'[': 'X'}, {\"'\": 'PUNCT'}, {'Select': 'ADJ'}, {\"'\": 'PUNCT'}, {']': 'PUNCT'}, {'[': 'X'}, {\"'\": 'PUNCT'}, {'Group': 'PROPN'}, {\"'\": 'PUNCT'}, {']': 'PUNCT'}, {'[': 'X'}, {\"'\": 'PUNCT'}, {'above': 'ADP'}, {\"'\": 'PUNCT'}, {']': 'PUNCT'}, {'[': 'X'}, {\"'\": 'PUNCT'}, {'name': 'NOUN'}, {\"'\": 'PUNCT'}, {']': 'PUNCT'}, {'[': 'X'}, {\"'\": 'X'}, {'January': 'PROPN'}, {\"'\": 'PUNCT'}, {']': 'PUNCT'}, {'[': 'X'}, {\"'\": 'X'}, {'versicolor': 'NOUN'}, {\"'\": 'PUNCT'}, {']': 'PUNCT'}, {'[': 'X'}, {\"'\": 'PUNCT'}, {'What': 'PRON'}, {\"'\": 'VERB'}, {']': 'PUNCT'}, {'[': 'X'}, {\"'\": 'PUNCT'}, {'last': 'ADJ'}, {\"'\": 'PUNCT'}, {']': 'PUNCT'}, {'[': 'X'}, {\"'\": 'PUNCT'}, {'Show': 'VERB'}, {\"'\": 'PUNCT'}, {']': 'PUNCT'}, {'[': 'X'}, {\"'\": 'PUNCT'}, {'this': 'PRON'}, {\"'\": 'PUNCT'}, {']': 'PUNCT'}, {'[': 'X'}, {\"'\": 'PUNCT'}, {'all': 'PRON'}, {\"'\": 'NOUN'}, {']': 'PUNCT'}, {'[': 'X'}, {\"'\": 'PUNCT'}, {'least': 'ADJ'}, {\"'\": 'PUNCT'}, {']': 'PUNCT'}, {'[': 'X'}, {\"'\": 'NOUN'}, {'records': 'NOUN'}, {\"'\": 'PUNCT'}, {']': 'PUNCT'}, {'[': 'X'}, {\"'\": 'PUNCT'}, {'between': 'ADP'}, {\"'\": 'PUNCT'}, {']': 'PUNCT'}, {'[': 'X'}, {\"'\": 'PUNCT'}, {'across': 'ADP'}, {\"'\": 'PUNCT'}, {']': 'PUNCT'}, {'[': 'X'}, {\"'\": 'X'}, {'10th': 'X'}, {\"'\": 'PUNCT'}, {']': 'PUNCT'}, {'[': 'X'}, {\"'\": 'PUNCT'}, {'average': 'ADJ'}, {\"'\": 'PUNCT'}, {']': 'PUNCT'}, {'[': 'X'}, {\"'\": 'NOUN'}, {'Sum': 'NOUN'}, {\"'\": 'PUNCT'}, {']': 'PUNCT'}, {'[': 'X'}, {\"'\": 'PUNCT'}, {'percentile': 'ADJ'}, {\"'\": 'PUNCT'}, {']': 'PUNCT'}, {'[': 'X'}, {\"'\": 'VERB'}, {'of': 'ADP'}, {\"'\": 'PUNCT'}, {']': 'PUNCT'}, {'[': 'X'}, {\"'\": 'PUNCT'}, {'descending': 'VERB'}, {\"'\": 'NOUN'}, {']': 'PUNCT'}, {'[': 'X'}, {\"'\": 'PROPN'}, {'Determine': 'NOUN'}, {\"'\": 'PUNCT'}, {']': 'PUNCT'}, {'[': 'X'}, {\"'\": 'PUNCT'}, {'recorded': 'VERB'}, {\"'\": 'PUNCT'}, {']': 'PUNCT'}, {'[': 'X'}, {\"'\": 'PUNCT'}, {'found': 'VERB'}, {\"'\": 'PUNCT'}, {']': 'PUNCT'}, {'[': 'X'}, {\"'\": 'PUNCT'}, {'Calculate': 'ADJ'}, {\"'\": 'PUNCT'}, {']': 'PUNCT'}, {'[': 'X'}, {\"'\": 'PUNCT'}, {'Organize': 'VERB'}, {\"'\": 'PUNCT'}, {']': 'PUNCT'}, {'[': 'X'}, {\"'\": 'PUNCT'}, {'field': 'NOUN'}, {\"'\": 'PUNCT'}, {']': 'PUNCT'}, {'[': 'X'}, {\"'\": 'PUNCT'}, {'Highest': 'ADJ'}, {\"'\": 'PUNCT'}, {']': 'PUNCT'}, {'[': 'X'}, {\"'\": 'PUNCT'}, {'high': 'ADJ'}, {\"'\": 'PUNCT'}, {']': 'PUNCT'}, {'[': 'X'}, {\"'\": 'PUNCT'}, {'at': 'ADP'}, {\"'\": 'PUNCT'}, {']': 'PUNCT'}, {'[': 'X'}, {\"'\": 'PUNCT'}, {'data': 'NOUN'}, {\"'\": 'PUNCT'}, {']': 'PUNCT'}, {'[': 'X'}, {\"'\": 'NOUN'}, {'how': 'SCONJ'}, {\"'\": 'PUNCT'}, {']': 'PUNCT'}, {'[': 'X'}, {\"'\": 'X'}, {'Lengths': 'NOUN'}, {\"'\": 'PUNCT'}, {']': 'PUNCT'}, {'[': 'X'}, {\"'\": 'PUNCT'}, {'to': 'PART'}, {\"'\": 'PUNCT'}, {']': 'PUNCT'}, {'[': 'X'}, {\"'\": 'PUNCT'}, {'Minimum': 'PROPN'}, {\"'\": 'PUNCT'}, {']': 'PUNCT'}, {'[': 'X'}, {\"'\": 'PUNCT'}, {'species': 'NOUN'}, {\"'\": 'PUNCT'}, {']': 'PUNCT'}, {'[': 'X'}, {\"'\": 'NOUN'}, {'value': 'NOUN'}, {\"'\": 'PUNCT'}, {']': 'PUNCT'}, {'[': 'X'}, {\"'\": 'PUNCT'}, {'and': 'CCONJ'}, {\"'\": 'PUNCT'}, {']': 'PUNCT'}, {'[': 'X'}, {\"'\": 'NUM'}, {'10': 'NUM'}, {\"'\": 'PUNCT'}, {']': 'PUNCT'}, {'[': 'X'}, {\"'\": 'NOUN'}, {'number': 'NOUN'}, {\"'\": 'PUNCT'}, {']': 'PUNCT'}, {'[': 'X'}, {\"'\": 'PUNCT'}, {'distinct': 'ADJ'}, {\"'\": 'PUNCT'}, {']': 'PUNCT'}, {'[': 'X'}, {\"'\": 'PUNCT'}, {'color': 'NOUN'}, {\"'\": 'PUNCT'}, {']': 'PUNCT'}, {'[': 'X'}, {\"'\": 'PUNCT'}, {'flower': 'NOUN'}, {\"'\": 'PUNCT'}, {']': 'PUNCT'}, {'[': 'X'}, {\"'\": 'NOUN'}, {'month': 'NOUN'}, {\"'\": 'PUNCT'}, {']': 'PUNCT'}, {'[': 'X'}, {\"'\": 'X'}, {'Rank': 'PROPN'}, {\"'\": 'PUNCT'}, {']': 'PUNCT'}, {'[': 'X'}, {\"'\": 'PUNCT'}, {'equal': 'ADJ'}, {\"'\": 'PUNCT'}, {']': 'PUNCT'}, {'[': 'X'}, {\"'\": 'PUNCT'}, {'middle': 'ADJ'}, {\"'\": 'PUNCT'}, {']': 'PUNCT'}, {'[': 'X'}, {\"'\": 'PUNCT'}, {'count': 'VERB'}, {\"'\": 'PUNCT'}, {']': 'PUNCT'}, {'[': 'X'}, {\"'\": 'X'}, {'How': 'SCONJ'}, {\"'\": 'PUNCT'}, {']': 'PUNCT'}, {'[': 'X'}, {\"'\": 'PUNCT'}, {'Display': 'VERB'}, {\"'\": 'PUNCT'}, {']': 'PUNCT'}]\n",
            "vocab : ['NOUN', 'X', 'NUM', 'PRON', 'DET', 'AUX', 'ADP', 'VERB', 'ADV', 'SCONJ', 'INTJ', 'PROPN', 'CCONJ', 'PART', 'ADJ', 'PUNCT']\n"
          ]
        }
      ]
    },
    {
      "cell_type": "code",
      "source": [
        "for pat in p_d:\n",
        "   print({pat:p_d[pat]})"
      ],
      "metadata": {
        "id": "4CSJPRZeQK_g",
        "colab": {
          "base_uri": "https://localhost:8080/"
        },
        "outputId": "66800c56-23e2-4c8e-cbc9-24bb0df0ae5d"
      },
      "execution_count": 74,
      "outputs": [
        {
          "output_type": "stream",
          "name": "stdout",
          "text": [
            "{'NOUN': ['Sum', 'Entries', 'flowers', 'types', 'points', 'Determine', 'Species', 'field', 'Number', 'List', 'data', 'Lengths', 'species', 'value', 'number', 'observation', 'entries', 'name', 'color', 'flower', 'versicolor', 'order', 'occurrences', 'month', 'year', 'records', 'Widths']}\n",
            "{'X': ['median', 'setosa', '10th', 'virginica']}\n",
            "{'NUM': ['4', '5', '1', '10', '0', '3', '2']}\n",
            "{'PRON': ['both', 'this', 'there', 'all', 'each', 'What']}\n",
            "{'DET': ['the']}\n",
            "{'AUX': ['is', 'are']}\n",
            "{'ADP': ['across', 'with', 'for', 'in', 'above', 'of', 'at', 'over', 'within', 'between', 'than', 'from', 'by']}\n",
            "{'VERB': ['sorted', 'Aggregate', 'descending', 'recorded', 'contains', 'Organize', 'found', 'starting', 'ends', 'assuming', 'grouped', 'start', 'ascending', 'Find', 'Show', 'show', 'count', 'starts', 'Display']}\n",
            "{'ADV': ['alphabetically', 'Sort', 'exactly', 'only']}\n",
            "{'SCONJ': ['where', 'How', 'how']}\n",
            "{'INTJ': ['%']}\n",
            "{'PROPN': ['Date', 'Iris', 'Maximum', 'Rank', 'Filter', 'Count', 'Group', 'Setosa', 'Median', 'January', 'Minimum']}\n",
            "{'CCONJ': ['and', 'or']}\n",
            "{'PART': ['not', 'to']}\n",
            "{'ADJ': ['Average', 'average', 'percentile', 'dataset', 'low', 'smallest', 'greater', 'Calculate', 'Top', 'Highest', 'high', 'many', 'bottom', 'highest', 'unique', 'less', 'Total', 'top', 'total', 'distinct', 'last', 'equal', 'Lowest', 'middle', 'least', 'Select']}\n",
            "{'PUNCT': ['?']}\n"
          ]
        }
      ]
    },
    {
      "cell_type": "code",
      "source": [
        "p_d=dg_ent['Patterns_Description']=get_patterns(dg_tok,dg_tok.columns[0])"
      ],
      "metadata": {
        "id": "g7kuk3DbOtdX",
        "colab": {
          "base_uri": "https://localhost:8080/"
        },
        "outputId": "e4fd4cd9-fd68-4b58-eb2f-5dc8fc8eb5b1"
      },
      "execution_count": 75,
      "outputs": [
        {
          "output_type": "stream",
          "name": "stdout",
          "text": [
            "[{'[': 'X'}, {'\"': 'PUNCT'}, {'[': 'X'}, {\"'\": 'X'}, {'Sum': 'PROPN'}, {\"'\": 'NUM'}, {',': 'PUNCT'}, {'\"': 'PUNCT'}, {',': 'PUNCT'}, {'\"': 'PUNCT'}, {\"'\": 'PUNCT'}, {'of': 'ADP'}, {\"'\": 'NUM'}, {',': 'PUNCT'}, {'\"': 'PUNCT'}, {',': 'PUNCT'}, {'\"': 'PUNCT'}, {\"'\": 'PUNCT'}, {'Sepal': 'NOUN'}, {\"'\": 'PUNCT'}, {',': 'PUNCT'}, {'\"': 'PUNCT'}, {',': 'PUNCT'}, {'\"': 'PUNCT'}, {\"'\": 'PUNCT'}, {'Length': 'X'}, {\"'\": 'PUNCT'}, {']': 'PUNCT'}, {'\"': 'PUNCT'}, {']': 'PUNCT'}, {'[': 'X'}, {'\"': 'PUNCT'}, {'[': 'X'}, {\"'\": 'PUNCT'}, {'Average': 'ADJ'}, {\"'\": 'PUNCT'}, {',': 'PUNCT'}, {'\"': 'PUNCT'}, {',': 'PUNCT'}, {'\"': 'PUNCT'}, {\"'\": 'PUNCT'}, {'Sepal': 'NOUN'}, {\"'\": 'PUNCT'}, {',': 'PUNCT'}, {'\"': 'PUNCT'}, {',': 'PUNCT'}, {'\"': 'PUNCT'}, {\"'\": 'PUNCT'}, {'Width': 'PROPN'}, {\"'\": 'PUNCT'}, {',': 'PUNCT'}, {'\"': 'PUNCT'}, {',': 'PUNCT'}, {'\"': 'PUNCT'}, {\"'\": 'PUNCT'}, {'across': 'ADP'}, {\"'\": 'PUNCT'}, {',': 'PUNCT'}, {'\"': 'PUNCT'}, {',': 'PUNCT'}, {'\"': 'PUNCT'}, {\"'\": 'PUNCT'}, {'all': 'PRON'}, {\"'\": 'PROPN'}, {',': 'PUNCT'}, {'\"': 'PUNCT'}, {',': 'PUNCT'}, {'\"': 'PUNCT'}, {\"'\": 'PUNCT'}, {'entries': 'NOUN'}, {\"'\": 'PUNCT'}, {']': 'PUNCT'}, {'\"': 'PUNCT'}, {']': 'PUNCT'}, {'[': 'X'}, {'\"': 'PUNCT'}, {'[': 'X'}, {\"'\": 'VERB'}, {'Find': 'VERB'}, {\"'\": 'PUNCT'}, {',': 'PUNCT'}, {'\"': 'PUNCT'}, {',': 'PUNCT'}, {'\"': 'PUNCT'}, {\"'\": 'PUNCT'}, {'the': 'DET'}, {\"'\": 'PUNCT'}, {',': 'PUNCT'}, {'\"': 'PUNCT'}, {',': 'PUNCT'}, {'\"': 'PUNCT'}, {\"'\": 'PUNCT'}, {'median': 'X'}, {\"'\": 'PROPN'}, {',': 'PUNCT'}, {'\"': 'PUNCT'}, {',': 'PUNCT'}, {'\"': 'PUNCT'}, {\"'\": 'PUNCT'}, {'Petal': 'ADJ'}, {\"'\": 'PUNCT'}, {',': 'PUNCT'}, {'\"': 'PUNCT'}, {',': 'PUNCT'}, {'\"': 'PUNCT'}, {\"'\": 'PUNCT'}, {'Length': 'X'}, {\"'\": 'PUNCT'}, {']': 'PUNCT'}, {'\"': 'PUNCT'}, {']': 'PUNCT'}, {'[': 'X'}, {'\"': 'PUNCT'}, {'[': 'X'}, {\"'\": 'X'}, {'Count': 'PROPN'}, {\"'\": 'PUNCT'}, {',': 'PUNCT'}, {'\"': 'PUNCT'}, {',': 'PUNCT'}, {'\"': 'PUNCT'}, {\"'\": 'PUNCT'}, {'the': 'DET'}, {\"'\": 'PUNCT'}, {',': 'PUNCT'}, {'\"': 'PUNCT'}, {',': 'PUNCT'}, {'\"': 'PUNCT'}, {\"'\": 'PUNCT'}, {'number': 'NOUN'}, {\"'\": 'PUNCT'}, {',': 'PUNCT'}, {'\"': 'PUNCT'}, {',': 'PUNCT'}, {'\"': 'PUNCT'}, {\"'\": 'PUNCT'}, {'of': 'ADP'}, {\"'\": 'NUM'}, {',': 'PUNCT'}, {'\"': 'PUNCT'}, {',': 'PUNCT'}, {'\"': 'PUNCT'}, {\"'\": 'PUNCT'}, {'records': 'NOUN'}, {\"'\": 'PART'}, {',': 'PUNCT'}, {'\"': 'PUNCT'}, {',': 'PUNCT'}, {'\"': 'PUNCT'}, {\"'\": 'PUNCT'}, {'in': 'ADP'}, {\"'\": 'NUM'}, {',': 'PUNCT'}, {'\"': 'PUNCT'}, {',': 'PUNCT'}, {'\"': 'PUNCT'}, {\"'\": 'PUNCT'}, {'the': 'DET'}, {\"'\": 'PUNCT'}, {',': 'PUNCT'}, {'\"': 'PUNCT'}, {',': 'PUNCT'}, {'\"': 'PUNCT'}, {\"'\": 'PUNCT'}, {'dataset': 'VERB'}, {\"'\": 'PUNCT'}, {']': 'PUNCT'}, {'\"': 'PUNCT'}, {']': 'PUNCT'}, {'[': 'X'}, {'\"': 'PUNCT'}, {'[': 'X'}, {\"'\": 'X'}, {'Count': 'PROPN'}, {\"'\": 'PUNCT'}, {',': 'PUNCT'}, {'\"': 'PUNCT'}, {',': 'PUNCT'}, {'\"': 'PUNCT'}, {\"'\": 'PUNCT'}, {'distinct': 'ADJ'}, {\"'\": 'PUNCT'}, {',': 'PUNCT'}, {'\"': 'PUNCT'}, {',': 'PUNCT'}, {'\"': 'PUNCT'}, {\"'\": 'PUNCT'}, {'species': 'NOUN'}, {\"'\": 'PUNCT'}, {',': 'PUNCT'}, {'\"': 'PUNCT'}, {',': 'PUNCT'}, {'\"': 'PUNCT'}, {\"'\": 'PUNCT'}, {'in': 'ADP'}, {\"'\": 'NUM'}, {',': 'PUNCT'}, {'\"': 'PUNCT'}, {',': 'PUNCT'}, {'\"': 'PUNCT'}, {\"'\": 'PUNCT'}, {'the': 'DET'}, {\"'\": 'PUNCT'}, {',': 'PUNCT'}, {'\"': 'PUNCT'}, {',': 'PUNCT'}, {'\"': 'PUNCT'}, {\"'\": 'PUNCT'}, {'dataset': 'VERB'}, {\"'\": 'PUNCT'}, {']': 'PUNCT'}, {'\"': 'PUNCT'}, {']': 'PUNCT'}, {'[': 'X'}, {'\"': 'PUNCT'}, {'[': 'X'}, {\"'\": 'PUNCT'}, {'Minimum': 'ADJ'}, {\"'\": 'PUNCT'}, {',': 'PUNCT'}, {'\"': 'PUNCT'}, {',': 'PUNCT'}, {'\"': 'PUNCT'}, {\"'\": 'PUNCT'}, {'value': 'NOUN'}, {\"'\": 'PUNCT'}, {',': 'PUNCT'}, {'\"': 'PUNCT'}, {',': 'PUNCT'}, {'\"': 'PUNCT'}, {\"'\": 'PUNCT'}, {'of': 'ADP'}, {\"'\": 'NUM'}, {',': 'PUNCT'}, {'\"': 'PUNCT'}, {',': 'PUNCT'}, {'\"': 'PUNCT'}, {\"'\": 'PUNCT'}, {'Sepal': 'NOUN'}, {\"'\": 'PUNCT'}, {',': 'PUNCT'}, {'\"': 'PUNCT'}, {',': 'PUNCT'}, {'\"': 'PUNCT'}, {\"'\": 'PUNCT'}, {'Length': 'X'}, {\"'\": 'PUNCT'}, {']': 'PUNCT'}, {'\"': 'PUNCT'}, {']': 'PUNCT'}, {'[': 'X'}, {'\"': 'PUNCT'}, {'[': 'X'}, {\"'\": 'PUNCT'}, {'Maximum': 'ADJ'}, {\"'\": 'NUM'}, {',': 'PUNCT'}, {'\"': 'PUNCT'}, {',': 'PUNCT'}, {'\"': 'PUNCT'}, {\"'\": 'PUNCT'}, {'Petal': 'ADJ'}, {\"'\": 'PUNCT'}, {',': 'PUNCT'}, {'\"': 'PUNCT'}, {',': 'PUNCT'}, {'\"': 'PUNCT'}, {\"'\": 'PUNCT'}, {'Width': 'PROPN'}, {\"'\": 'PUNCT'}, {',': 'PUNCT'}, {'\"': 'PUNCT'}, {',': 'PUNCT'}, {'\"': 'PUNCT'}, {\"'\": 'PUNCT'}, {'found': 'VERB'}, {\"'\": 'PUNCT'}, {',': 'PUNCT'}, {'\"': 'PUNCT'}, {',': 'PUNCT'}, {'\"': 'PUNCT'}, {\"'\": 'PUNCT'}, {'in': 'ADP'}, {\"'\": 'NUM'}, {',': 'PUNCT'}, {'\"': 'PUNCT'}, {',': 'PUNCT'}, {'\"': 'PUNCT'}, {\"'\": 'PUNCT'}, {'the': 'DET'}, {\"'\": 'PUNCT'}, {',': 'PUNCT'}, {'\"': 'PUNCT'}, {',': 'PUNCT'}, {'\"': 'PUNCT'}, {\"'\": 'PUNCT'}, {'dataset': 'VERB'}, {\"'\": 'PUNCT'}, {']': 'PUNCT'}, {'\"': 'PUNCT'}, {']': 'PUNCT'}, {'[': 'X'}, {'\"': 'PUNCT'}, {'[': 'X'}, {\"'\": 'X'}, {'Group': 'PROPN'}, {\"'\": 'PUNCT'}, {',': 'PUNCT'}, {'\"': 'PUNCT'}, {',': 'PUNCT'}, {'\"': 'PUNCT'}, {\"'\": 'PUNCT'}, {'records': 'NOUN'}, {\"'\": 'PART'}, {',': 'PUNCT'}, {'\"': 'PUNCT'}, {',': 'PUNCT'}, {'\"': 'PUNCT'}, {\"'\": 'PUNCT'}, {'by': 'ADP'}, {\"'\": 'NUM'}, {',': 'PUNCT'}, {'\"': 'PUNCT'}, {',': 'PUNCT'}, {'\"': 'PUNCT'}, {\"'\": 'PUNCT'}, {'Species': 'PROPN'}, {\"'\": 'PUNCT'}, {']': 'PUNCT'}, {'\"': 'PUNCT'}, {']': 'PUNCT'}, {'[': 'X'}, {'\"': 'PUNCT'}, {'[': 'X'}, {\"'\": 'X'}, {'Sort': 'ADV'}, {\"'\": 'NUM'}, {',': 'PUNCT'}, {'\"': 'PUNCT'}, {',': 'PUNCT'}, {'\"': 'PUNCT'}, {\"'\": 'PUNCT'}, {'the': 'DET'}, {\"'\": 'PUNCT'}, {',': 'PUNCT'}, {'\"': 'PUNCT'}, {',': 'PUNCT'}, {'\"': 'PUNCT'}, {\"'\": 'PUNCT'}, {'entries': 'NOUN'}, {\"'\": 'PUNCT'}, {',': 'PUNCT'}, {'\"': 'PUNCT'}, {',': 'PUNCT'}, {'\"': 'PUNCT'}, {\"'\": 'PUNCT'}, {'by': 'ADP'}, {\"'\": 'NUM'}, {',': 'PUNCT'}, {'\"': 'PUNCT'}, {',': 'PUNCT'}, {'\"': 'PUNCT'}, {\"'\": 'PUNCT'}, {'Sepal': 'NOUN'}, {\"'\": 'PUNCT'}, {',': 'PUNCT'}, {'\"': 'PUNCT'}, {',': 'PUNCT'}, {'\"': 'PUNCT'}, {\"'\": 'PUNCT'}, {'Length': 'PROPN'}, {\"'\": 'PUNCT'}, {',': 'PUNCT'}, {'\"': 'PUNCT'}, {',': 'PUNCT'}, {'\"': 'PUNCT'}, {\"'\": 'PUNCT'}, {'in': 'ADP'}, {\"'\": 'NUM'}, {',': 'PUNCT'}, {'\"': 'PUNCT'}, {',': 'PUNCT'}, {'\"': 'PUNCT'}, {\"'\": 'PUNCT'}, {'ascending': 'VERB'}, {\"'\": 'PUNCT'}, {',': 'PUNCT'}, {'\"': 'PUNCT'}, {',': 'PUNCT'}, {'\"': 'PUNCT'}, {\"'\": 'PUNCT'}, {'order': 'NOUN'}, {\"'\": 'PUNCT'}, {']': 'PUNCT'}, {'\"': 'PUNCT'}, {']': 'PUNCT'}, {'[': 'X'}, {'\"': 'PUNCT'}, {'[': 'X'}, {\"'\": 'PUNCT'}, {'List': 'NOUN'}, {\"'\": 'PUNCT'}, {',': 'PUNCT'}, {'\"': 'PUNCT'}, {',': 'PUNCT'}, {'\"': 'PUNCT'}, {\"'\": 'PUNCT'}, {'Species': 'NOUN'}, {\"'\": 'PUNCT'}, {',': 'PUNCT'}, {'\"': 'PUNCT'}, {',': 'PUNCT'}, {'\"': 'PUNCT'}, {\"'\": 'PUNCT'}, {'alphabetically': 'ADV'}, {\"'\": 'VERB'}, {']': 'X'}, {'\"': 'PUNCT'}, {']': 'PUNCT'}, {'[': 'X'}, {'\"': 'PUNCT'}, {'[': 'X'}, {\"'\": 'X'}, {'Entries': 'NOUN'}, {\"'\": 'PUNCT'}, {',': 'PUNCT'}, {'\"': 'PUNCT'}, {',': 'PUNCT'}, {'\"': 'PUNCT'}, {\"'\": 'PUNCT'}, {'with': 'ADP'}, {\"'\": 'PROPN'}, {',': 'PUNCT'}, {'\"': 'PUNCT'}, {',': 'PUNCT'}, {'\"': 'PUNCT'}, {\"'\": 'PUNCT'}, {'Sepal': 'NOUN'}, {\"'\": 'PUNCT'}, {',': 'PUNCT'}, {'\"': 'PUNCT'}, {',': 'PUNCT'}, {'\"': 'PUNCT'}, {\"'\": 'PUNCT'}, {'Length': 'PROPN'}, {\"'\": 'PUNCT'}, {',': 'PUNCT'}, {'\"': 'PUNCT'}, {',': 'PUNCT'}, {'\"': 'PUNCT'}, {\"'\": 'PUNCT'}, {'at': 'ADP'}, {\"'\": 'NUM'}, {',': 'PUNCT'}, {'\"': 'PUNCT'}, {',': 'PUNCT'}, {'\"': 'PUNCT'}, {\"'\": 'PUNCT'}, {'least': 'ADJ'}, {\"'\": 'PUNCT'}, {',': 'PUNCT'}, {'\"': 'PUNCT'}, {',': 'PUNCT'}, {'\"': 'PUNCT'}, {\"'\": 'PROPN'}, {'5': 'NUM'}, {\"'\": 'NUM'}, {',': 'PUNCT'}, {'\"': 'PUNCT'}, {',': 'PUNCT'}, {'\"': 'PUNCT'}, {\"'\": 'PUNCT'}, {'.': 'PUNCT'}, {\"'\": 'PUNCT'}, {',': 'PUNCT'}, {'\"': 'PUNCT'}, {',': 'PUNCT'}, {'\"': 'PUNCT'}, {\"'\": 'PUNCT'}, {'0': 'X'}, {\"'\": 'PUNCT'}, {']': 'PUNCT'}, {'\"': 'PUNCT'}, {']': 'PUNCT'}, {'[': 'X'}, {'\"': 'PUNCT'}, {'[': 'X'}, {\"'\": 'X'}, {'Entries': 'NOUN'}, {\"'\": 'PUNCT'}, {',': 'PUNCT'}, {'\"': 'PUNCT'}, {',': 'PUNCT'}, {'\"': 'PUNCT'}, {\"'\": 'PUNCT'}, {'with': 'ADP'}, {\"'\": 'PROPN'}, {',': 'PUNCT'}, {'\"': 'PUNCT'}, {',': 'PUNCT'}, {'\"': 'PUNCT'}, {\"'\": 'PUNCT'}, {'Petal': 'ADJ'}, {\"'\": 'PUNCT'}, {',': 'PUNCT'}, {'\"': 'PUNCT'}, {',': 'PUNCT'}, {'\"': 'PUNCT'}, {\"'\": 'PUNCT'}, {'Length': 'PROPN'}, {\"'\": 'PUNCT'}, {',': 'PUNCT'}, {'\"': 'PUNCT'}, {',': 'PUNCT'}, {'\"': 'PUNCT'}, {\"'\": 'PUNCT'}, {'between': 'ADP'}, {\"'\": 'PUNCT'}, {',': 'PUNCT'}, {'\"': 'PUNCT'}, {',': 'PUNCT'}, {'\"': 'PUNCT'}, {\"'\": 'PROPN'}, {'1': 'X'}, {\"'\": 'NUM'}, {',': 'PUNCT'}, {'\"': 'PUNCT'}, {',': 'PUNCT'}, {'\"': 'PUNCT'}, {\"'\": 'PUNCT'}, {'.': 'PUNCT'}, {\"'\": 'PUNCT'}, {',': 'PUNCT'}, {'\"': 'PUNCT'}, {',': 'PUNCT'}, {'\"': 'PUNCT'}, {\"'\": 'PROPN'}, {'5': 'NUM'}, {\"'\": 'NUM'}, {',': 'PUNCT'}, {'\"': 'PUNCT'}, {',': 'PUNCT'}, {'\"': 'PUNCT'}, {\"'\": 'PUNCT'}, {'and': 'CCONJ'}, {\"'\": 'NUM'}, {',': 'PUNCT'}, {'\"': 'PUNCT'}, {',': 'PUNCT'}, {'\"': 'PUNCT'}, {\"'\": 'PROPN'}, {'2': 'X'}, {\"'\": 'NUM'}, {',': 'PUNCT'}, {'\"': 'PUNCT'}, {',': 'PUNCT'}, {'\"': 'PUNCT'}, {\"'\": 'PUNCT'}, {'.': 'PUNCT'}, {\"'\": 'PUNCT'}, {',': 'PUNCT'}, {'\"': 'PUNCT'}, {',': 'PUNCT'}, {'\"': 'PUNCT'}, {\"'\": 'PROPN'}, {'5': 'NUM'}, {\"'\": 'NUM'}, {']': 'PUNCT'}, {'\"': 'PUNCT'}, {']': 'PUNCT'}, {'[': 'X'}, {'\"': 'PUNCT'}, {'[': 'X'}, {\"'\": 'PUNCT'}, {'Top': 'ADJ'}, {\"'\": 'NUM'}, {',': 'PUNCT'}, {'\"': 'PUNCT'}, {',': 'PUNCT'}, {'\"': 'PUNCT'}, {\"'\": 'PROPN'}, {'3': 'NUM'}, {\"'\": 'NUM'}, {',': 'PUNCT'}, {'\"': 'PUNCT'}, {',': 'PUNCT'}, {'\"': 'PUNCT'}, {\"'\": 'PUNCT'}, {'entries': 'NOUN'}, {\"'\": 'PUNCT'}, {',': 'PUNCT'}, {'\"': 'PUNCT'}, {',': 'PUNCT'}, {'\"': 'PUNCT'}, {\"'\": 'PUNCT'}, {'with': 'ADP'}, {\"'\": 'PROPN'}, {',': 'PUNCT'}, {'\"': 'PUNCT'}, {',': 'PUNCT'}, {'\"': 'PUNCT'}, {\"'\": 'PUNCT'}, {'the': 'DET'}, {\"'\": 'PUNCT'}, {',': 'PUNCT'}, {'\"': 'PUNCT'}, {',': 'PUNCT'}, {'\"': 'PUNCT'}, {\"'\": 'PUNCT'}, {'highest': 'ADJ'}, {\"'\": 'PUNCT'}, {',': 'PUNCT'}, {'\"': 'PUNCT'}, {',': 'PUNCT'}, {'\"': 'PUNCT'}, {\"'\": 'PUNCT'}, {'Sepal': 'NOUN'}, {\"'\": 'PUNCT'}, {',': 'PUNCT'}, {'\"': 'PUNCT'}, {',': 'PUNCT'}, {'\"': 'PUNCT'}, {\"'\": 'PUNCT'}, {'Width': 'PROPN'}, {\"'\": 'PUNCT'}, {']': 'PUNCT'}, {'\"': 'PUNCT'}, {']': 'PUNCT'}, {'[': 'X'}, {'\"': 'PUNCT'}, {'[': 'X'}, {\"'\": 'X'}, {'Species': 'NOUN'}, {\"'\": 'PUNCT'}, {',': 'PUNCT'}, {'\"': 'PUNCT'}, {',': 'PUNCT'}, {'\"': 'PUNCT'}, {\"'\": 'PUNCT'}, {'is': 'AUX'}, {\"'\": 'PUNCT'}, {',': 'PUNCT'}, {'\"': 'PUNCT'}, {',': 'PUNCT'}, {\"'\": 'PUNCT'}, {'\"': 'PUNCT'}, {'\\\\': 'PROPN'}, {\"'\": 'PUNCT'}, {'\"': 'PUNCT'}, {',': 'PUNCT'}, {\"'\": 'PUNCT'}, {',': 'PUNCT'}, {'\"': 'PUNCT'}, {\"'\": 'PUNCT'}, {'Setosa': 'VERB'}, {\"'\": 'NUM'}, {',': 'PUNCT'}, {'\"': 'PUNCT'}, {',': 'PUNCT'}, {\"'\": 'PUNCT'}, {'\"': 'PUNCT'}, {'\\\\': 'PROPN'}, {\"'\": 'PUNCT'}, {'\"': 'PUNCT'}, {']': 'PUNCT'}, {\"'\": 'X'}, {']': 'PUNCT'}, {'[': 'X'}, {'\"': 'PUNCT'}, {'[': 'X'}, {\"'\": 'X'}, {'Species': 'NOUN'}, {\"'\": 'PUNCT'}, {',': 'PUNCT'}, {'\"': 'PUNCT'}, {',': 'PUNCT'}, {'\"': 'PUNCT'}, {\"'\": 'PUNCT'}, {'starts': 'VERB'}, {\"'\": 'PUNCT'}, {',': 'PUNCT'}, {'\"': 'PUNCT'}, {',': 'PUNCT'}, {'\"': 'PUNCT'}, {\"'\": 'PUNCT'}, {'with': 'ADP'}, {\"'\": 'PROPN'}, {',': 'PUNCT'}, {'\"': 'PUNCT'}, {',': 'PUNCT'}, {\"'\": 'PUNCT'}, {'\"': 'PUNCT'}, {'\\\\': 'PROPN'}, {\"'\": 'PUNCT'}, {'\"': 'PUNCT'}, {',': 'PUNCT'}, {\"'\": 'PUNCT'}, {',': 'PUNCT'}, {'\"': 'PUNCT'}, {\"'\": 'PUNCT'}, {'Se': 'PROPN'}, {\"'\": 'NUM'}, {',': 'PUNCT'}, {'\"': 'PUNCT'}, {',': 'PUNCT'}, {\"'\": 'PUNCT'}, {'\"': 'PUNCT'}, {'\\\\': 'PROPN'}, {\"'\": 'PUNCT'}, {'\"': 'PUNCT'}, {']': 'PUNCT'}, {\"'\": 'X'}, {']': 'PUNCT'}, {'[': 'X'}, {'\"': 'PUNCT'}, {'[': 'X'}, {\"'\": 'PUNCT'}, {'Calculate': 'VERB'}, {\"'\": 'PUNCT'}, {',': 'PUNCT'}, {'\"': 'PUNCT'}, {',': 'PUNCT'}, {'\"': 'PUNCT'}, {\"'\": 'PUNCT'}, {'the': 'DET'}, {\"'\": 'PUNCT'}, {',': 'PUNCT'}, {'\"': 'PUNCT'}, {',': 'PUNCT'}, {'\"': 'PUNCT'}, {\"'\": 'PUNCT'}, {'total': 'ADJ'}, {\"'\": 'PUNCT'}, {',': 'PUNCT'}, {'\"': 'PUNCT'}, {',': 'PUNCT'}, {'\"': 'PUNCT'}, {\"'\": 'PUNCT'}, {'of': 'ADP'}, {\"'\": 'NUM'}, {',': 'PUNCT'}, {'\"': 'PUNCT'}, {',': 'PUNCT'}, {'\"': 'PUNCT'}, {\"'\": 'PUNCT'}, {'Petal': 'ADJ'}, {\"'\": 'PUNCT'}, {',': 'PUNCT'}, {'\"': 'PUNCT'}, {',': 'PUNCT'}, {'\"': 'PUNCT'}, {\"'\": 'PUNCT'}, {'Lengths': 'NOUN'}, {\"'\": 'NUM'}, {']': 'PUNCT'}, {'\"': 'PUNCT'}, {']': 'PUNCT'}, {'[': 'X'}, {'\"': 'PUNCT'}, {'[': 'X'}, {\"'\": 'PUNCT'}, {'What': 'PRON'}, {\"'\": 'PROPN'}, {',': 'PUNCT'}, {'\"': 'PUNCT'}, {',': 'PUNCT'}, {'\"': 'PUNCT'}, {\"'\": 'PUNCT'}, {'is': 'AUX'}, {\"'\": 'PUNCT'}, {',': 'PUNCT'}, {'\"': 'PUNCT'}, {',': 'PUNCT'}, {'\"': 'PUNCT'}, {\"'\": 'PUNCT'}, {'the': 'DET'}, {\"'\": 'PUNCT'}, {',': 'PUNCT'}, {'\"': 'PUNCT'}, {',': 'PUNCT'}, {'\"': 'PUNCT'}, {\"'\": 'PUNCT'}, {'average': 'ADJ'}, {\"'\": 'PUNCT'}, {',': 'PUNCT'}, {'\"': 'PUNCT'}, {',': 'PUNCT'}, {'\"': 'PUNCT'}, {\"'\": 'PUNCT'}, {'Petal': 'ADJ'}, {\"'\": 'PUNCT'}, {',': 'PUNCT'}, {'\"': 'PUNCT'}, {',': 'PUNCT'}, {'\"': 'PUNCT'}, {\"'\": 'PUNCT'}, {'Width': 'PROPN'}, {\"'\": 'PUNCT'}, {',': 'PUNCT'}, {'\"': 'PUNCT'}, {',': 'PUNCT'}, {'\"': 'PUNCT'}, {\"'\": 'PUNCT'}, {'?': 'PUNCT'}, {\"'\": 'PUNCT'}, {']': 'PUNCT'}, {'\"': 'PUNCT'}, {']': 'PUNCT'}, {'[': 'X'}, {'\"': 'PUNCT'}, {'[': 'X'}, {\"'\": 'X'}, {'Determine': 'NOUN'}, {\"'\": 'PUNCT'}, {',': 'PUNCT'}, {'\"': 'PUNCT'}, {',': 'PUNCT'}, {'\"': 'PUNCT'}, {\"'\": 'PUNCT'}, {'the': 'DET'}, {\"'\": 'PUNCT'}, {',': 'PUNCT'}, {'\"': 'PUNCT'}, {',': 'PUNCT'}, {'\"': 'PUNCT'}, {\"'\": 'PUNCT'}, {'middle': 'ADJ'}, {\"'\": 'PUNCT'}, {',': 'PUNCT'}, {'\"': 'PUNCT'}, {',': 'PUNCT'}, {'\"': 'PUNCT'}, {\"'\": 'PUNCT'}, {'value': 'NOUN'}, {\"'\": 'PUNCT'}, {',': 'PUNCT'}, {'\"': 'PUNCT'}, {',': 'PUNCT'}, {'\"': 'PUNCT'}, {\"'\": 'PUNCT'}, {'of': 'ADP'}, {\"'\": 'NUM'}, {',': 'PUNCT'}, {'\"': 'PUNCT'}, {',': 'PUNCT'}, {'\"': 'PUNCT'}, {\"'\": 'PUNCT'}, {'Sepal': 'NOUN'}, {\"'\": 'PUNCT'}, {',': 'PUNCT'}, {'\"': 'PUNCT'}, {',': 'PUNCT'}, {'\"': 'PUNCT'}, {\"'\": 'PUNCT'}, {'Widths': 'NOUN'}, {\"'\": 'PUNCT'}, {']': 'PUNCT'}, {'\"': 'PUNCT'}, {']': 'PUNCT'}, {'[': 'X'}, {'\"': 'PUNCT'}, {'[': 'X'}, {\"'\": 'X'}, {'How': 'SCONJ'}, {\"'\": 'NUM'}, {',': 'PUNCT'}, {'\"': 'PUNCT'}, {',': 'PUNCT'}, {'\"': 'PUNCT'}, {\"'\": 'PUNCT'}, {'many': 'ADJ'}, {\"'\": 'PUNCT'}, {',': 'PUNCT'}, {'\"': 'PUNCT'}, {',': 'PUNCT'}, {'\"': 'PUNCT'}, {\"'\": 'PUNCT'}, {'data': 'NOUN'}, {\"'\": 'PUNCT'}, {',': 'PUNCT'}, {'\"': 'PUNCT'}, {',': 'PUNCT'}, {'\"': 'PUNCT'}, {\"'\": 'PUNCT'}, {'points': 'NOUN'}, {\"'\": 'PUNCT'}, {',': 'PUNCT'}, {'\"': 'PUNCT'}, {',': 'PUNCT'}, {'\"': 'PUNCT'}, {\"'\": 'PUNCT'}, {'are': 'AUX'}, {\"'\": 'NUM'}, {',': 'PUNCT'}, {'\"': 'PUNCT'}, {',': 'PUNCT'}, {'\"': 'PUNCT'}, {\"'\": 'PUNCT'}, {'there': 'PRON'}, {\"'\": 'NUM'}, {',': 'PUNCT'}, {'\"': 'PUNCT'}, {',': 'PUNCT'}, {'\"': 'PUNCT'}, {\"'\": 'PUNCT'}, {'?': 'PUNCT'}, {\"'\": 'PUNCT'}, {']': 'PUNCT'}, {'\"': 'PUNCT'}, {']': 'PUNCT'}, {'[': 'X'}, {'\"': 'PUNCT'}, {'[': 'X'}, {\"'\": 'X'}, {'Number': 'NOUN'}, {\"'\": 'PUNCT'}, {',': 'PUNCT'}, {'\"': 'PUNCT'}, {',': 'PUNCT'}, {'\"': 'PUNCT'}, {\"'\": 'PUNCT'}, {'of': 'ADP'}, {\"'\": 'NUM'}, {',': 'PUNCT'}, {'\"': 'PUNCT'}, {',': 'PUNCT'}, {'\"': 'PUNCT'}, {\"'\": 'PUNCT'}, {'unique': 'ADJ'}, {\"'\": 'PUNCT'}, {',': 'PUNCT'}, {'\"': 'PUNCT'}, {',': 'PUNCT'}, {'\"': 'PUNCT'}, {\"'\": 'PUNCT'}, {'flower': 'NOUN'}, {\"'\": 'PUNCT'}, {',': 'PUNCT'}, {'\"': 'PUNCT'}, {',': 'PUNCT'}, {'\"': 'PUNCT'}, {\"'\": 'PUNCT'}, {'types': 'NOUN'}, {\"'\": 'PUNCT'}, {']': 'PUNCT'}, {'\"': 'PUNCT'}, {']': 'PUNCT'}, {'[': 'X'}, {'\"': 'PUNCT'}, {'[': 'X'}, {\"'\": 'PUNCT'}, {'Lowest': 'ADJ'}, {\"'\": 'NUM'}, {',': 'PUNCT'}, {'\"': 'PUNCT'}, {',': 'PUNCT'}, {'\"': 'PUNCT'}, {\"'\": 'PUNCT'}, {'Sepal': 'NOUN'}, {\"'\": 'PUNCT'}, {',': 'PUNCT'}, {'\"': 'PUNCT'}, {',': 'PUNCT'}, {'\"': 'PUNCT'}, {\"'\": 'PUNCT'}, {'Length': 'PROPN'}, {\"'\": 'PUNCT'}, {',': 'PUNCT'}, {'\"': 'PUNCT'}, {',': 'PUNCT'}, {'\"': 'PUNCT'}, {\"'\": 'PUNCT'}, {'recorded': 'VERB'}, {\"'\": 'PUNCT'}, {']': 'PUNCT'}, {'\"': 'PUNCT'}, {']': 'PUNCT'}, {'[': 'X'}, {'\"': 'PUNCT'}, {'[': 'X'}, {\"'\": 'X'}, {'Highest': 'ADJ'}, {\"'\": 'NUM'}, {',': 'PUNCT'}, {'\"': 'PUNCT'}, {',': 'PUNCT'}, {'\"': 'PUNCT'}, {\"'\": 'PUNCT'}, {'value': 'NOUN'}, {\"'\": 'PUNCT'}, {',': 'PUNCT'}, {'\"': 'PUNCT'}, {',': 'PUNCT'}, {'\"': 'PUNCT'}, {\"'\": 'PUNCT'}, {'of': 'ADP'}, {\"'\": 'NUM'}, {',': 'PUNCT'}, {'\"': 'PUNCT'}, {',': 'PUNCT'}, {'\"': 'PUNCT'}, {\"'\": 'PUNCT'}, {'Petal': 'ADJ'}, {\"'\": 'PUNCT'}, {',': 'PUNCT'}, {'\"': 'PUNCT'}, {',': 'PUNCT'}, {'\"': 'PUNCT'}, {\"'\": 'PUNCT'}, {'Width': 'PROPN'}, {\"'\": 'PUNCT'}, {',': 'PUNCT'}, {'\"': 'PUNCT'}, {',': 'PUNCT'}, {'\"': 'PUNCT'}, {\"'\": 'PUNCT'}, {'found': 'VERB'}, {\"'\": 'PUNCT'}, {']': 'PUNCT'}, {'\"': 'PUNCT'}, {']': 'PUNCT'}, {'[': 'X'}, {'\"': 'PUNCT'}, {'[': 'X'}, {\"'\": 'PUNCT'}, {'Organize': 'VERB'}, {\"'\": 'PUNCT'}, {',': 'PUNCT'}, {'\"': 'PUNCT'}, {',': 'PUNCT'}, {'\"': 'PUNCT'}, {\"'\": 'PUNCT'}, {'data': 'NOUN'}, {\"'\": 'PUNCT'}, {',': 'PUNCT'}, {'\"': 'PUNCT'}, {',': 'PUNCT'}, {'\"': 'PUNCT'}, {\"'\": 'PUNCT'}, {'by': 'ADP'}, {\"'\": 'NUM'}, {',': 'PUNCT'}, {'\"': 'PUNCT'}, {',': 'PUNCT'}, {'\"': 'PUNCT'}, {\"'\": 'PUNCT'}, {'Species': 'NOUN'}, {\"'\": 'PUNCT'}, {',': 'PUNCT'}, {'\"': 'PUNCT'}, {',': 'PUNCT'}, {'\"': 'PUNCT'}, {\"'\": 'PUNCT'}, {'in': 'ADP'}, {\"'\": 'NUM'}, {',': 'PUNCT'}, {'\"': 'PUNCT'}, {',': 'PUNCT'}, {'\"': 'PUNCT'}, {\"'\": 'PUNCT'}, {'descending': 'VERB'}, {\"'\": 'PUNCT'}, {',': 'PUNCT'}, {'\"': 'PUNCT'}, {',': 'PUNCT'}, {'\"': 'PUNCT'}, {\"'\": 'PUNCT'}, {'order': 'NOUN'}, {\"'\": 'PUNCT'}, {']': 'PUNCT'}, {'\"': 'PUNCT'}, {']': 'PUNCT'}, {'[': 'X'}, {'\"': 'PUNCT'}, {'[': 'X'}, {\"'\": 'X'}, {'Rank': 'PROPN'}, {\"'\": 'PUNCT'}, {',': 'PUNCT'}, {'\"': 'PUNCT'}, {',': 'PUNCT'}, {'\"': 'PUNCT'}, {\"'\": 'PUNCT'}, {'Sepal': 'NOUN'}, {\"'\": 'PUNCT'}, {',': 'PUNCT'}, {'\"': 'PUNCT'}, {',': 'PUNCT'}, {'\"': 'PUNCT'}, {\"'\": 'PUNCT'}, {'Lengths': 'NOUN'}, {\"'\": 'NUM'}, {',': 'PUNCT'}, {'\"': 'PUNCT'}, {',': 'PUNCT'}, {'\"': 'PUNCT'}, {\"'\": 'PUNCT'}, {'from': 'ADP'}, {\"'\": 'NUM'}, {',': 'PUNCT'}, {'\"': 'PUNCT'}, {',': 'PUNCT'}, {'\"': 'PUNCT'}, {\"'\": 'PUNCT'}, {'low': 'ADJ'}, {\"'\": 'PUNCT'}, {',': 'PUNCT'}, {'\"': 'PUNCT'}, {',': 'PUNCT'}, {'\"': 'PUNCT'}, {\"'\": 'PUNCT'}, {'to': 'PART'}, {\"'\": 'NUM'}, {',': 'PUNCT'}, {'\"': 'PUNCT'}, {',': 'PUNCT'}, {'\"': 'PUNCT'}, {\"'\": 'PUNCT'}, {'high': 'ADJ'}, {\"'\": 'PUNCT'}, {']': 'PUNCT'}, {'\"': 'PUNCT'}, {']': 'PUNCT'}, {'[': 'X'}, {'\"': 'PUNCT'}, {'[': 'X'}, {\"'\": 'X'}, {'Filter': 'PROPN'}, {\"'\": 'NUM'}, {',': 'PUNCT'}, {'\"': 'PUNCT'}, {',': 'PUNCT'}, {'\"': 'PUNCT'}, {\"'\": 'PUNCT'}, {'for': 'ADP'}, {\"'\": 'NUM'}, {',': 'PUNCT'}, {'\"': 'PUNCT'}, {',': 'PUNCT'}, {'\"': 'PUNCT'}, {\"'\": 'PUNCT'}, {'Sepal': 'NOUN'}, {\"'\": 'PUNCT'}, {',': 'PUNCT'}, {'\"': 'PUNCT'}, {',': 'PUNCT'}, {'\"': 'PUNCT'}, {\"'\": 'PUNCT'}, {'Length': 'PROPN'}, {\"'\": 'PUNCT'}, {',': 'PUNCT'}, {'\"': 'PUNCT'}, {',': 'PUNCT'}, {'\"': 'PUNCT'}, {\"'\": 'PUNCT'}, {'greater': 'ADJ'}, {\"'\": 'PUNCT'}, {',': 'PUNCT'}, {'\"': 'PUNCT'}, {',': 'PUNCT'}, {'\"': 'PUNCT'}, {\"'\": 'PUNCT'}, {'than': 'ADP'}, {\"'\": 'PROPN'}, {',': 'PUNCT'}, {'\"': 'PUNCT'}, {',': 'PUNCT'}, {'\"': 'PUNCT'}, {\"'\": 'PUNCT'}, {'or': 'CCONJ'}, {\"'\": 'NUM'}, {',': 'PUNCT'}, {'\"': 'PUNCT'}, {',': 'PUNCT'}, {'\"': 'PUNCT'}, {\"'\": 'PUNCT'}, {'equal': 'ADJ'}, {\"'\": 'PUNCT'}, {',': 'PUNCT'}, {'\"': 'PUNCT'}, {',': 'PUNCT'}, {'\"': 'PUNCT'}, {\"'\": 'PUNCT'}, {'to': 'PART'}, {\"'\": 'NUM'}, {',': 'PUNCT'}, {'\"': 'PUNCT'}, {',': 'PUNCT'}, {'\"': 'PUNCT'}, {\"'\": 'PROPN'}, {'4': 'NUM'}, {\"'\": 'NUM'}, {',': 'PUNCT'}, {'\"': 'PUNCT'}, {',': 'PUNCT'}, {'\"': 'PUNCT'}, {\"'\": 'PUNCT'}, {'.': 'PUNCT'}, {\"'\": 'PUNCT'}, {',': 'PUNCT'}, {'\"': 'PUNCT'}, {',': 'PUNCT'}, {'\"': 'PUNCT'}, {\"'\": 'PROPN'}, {'5': 'NUM'}, {\"'\": 'NUM'}, {']': 'PUNCT'}, {'\"': 'PUNCT'}, {']': 'PUNCT'}, {'[': 'X'}, {'\"': 'PUNCT'}, {'[': 'X'}, {\"'\": 'PUNCT'}, {'Select': 'ADJ'}, {\"'\": 'PUNCT'}, {',': 'PUNCT'}, {'\"': 'PUNCT'}, {',': 'PUNCT'}, {'\"': 'PUNCT'}, {\"'\": 'PUNCT'}, {'entries': 'NOUN'}, {\"'\": 'PUNCT'}, {',': 'PUNCT'}, {'\"': 'PUNCT'}, {',': 'PUNCT'}, {'\"': 'PUNCT'}, {\"'\": 'PUNCT'}, {'with': 'ADP'}, {\"'\": 'PROPN'}, {',': 'PUNCT'}, {'\"': 'PUNCT'}, {',': 'PUNCT'}, {'\"': 'PUNCT'}, {\"'\": 'PUNCT'}, {'Petal': 'ADJ'}, {\"'\": 'PUNCT'}, {',': 'PUNCT'}, {'\"': 'PUNCT'}, {',': 'PUNCT'}, {'\"': 'PUNCT'}, {\"'\": 'PUNCT'}, {'Width': 'PROPN'}, {\"'\": 'PUNCT'}, {',': 'PUNCT'}, {'\"': 'PUNCT'}, {',': 'PUNCT'}, {'\"': 'PUNCT'}, {\"'\": 'PUNCT'}, {'less': 'ADJ'}, {\"'\": 'PUNCT'}, {',': 'PUNCT'}, {'\"': 'PUNCT'}, {',': 'PUNCT'}, {'\"': 'PUNCT'}, {\"'\": 'PUNCT'}, {'than': 'ADP'}, {\"'\": 'PROPN'}, {',': 'PUNCT'}, {'\"': 'PUNCT'}, {',': 'PUNCT'}, {'\"': 'PUNCT'}, {\"'\": 'PROPN'}, {'2': 'X'}, {\"'\": 'NUM'}, {',': 'PUNCT'}, {'\"': 'PUNCT'}, {',': 'PUNCT'}, {'\"': 'PUNCT'}, {\"'\": 'PUNCT'}, {'.': 'PUNCT'}, {\"'\": 'PUNCT'}, {',': 'PUNCT'}, {'\"': 'PUNCT'}, {',': 'PUNCT'}, {'\"': 'PUNCT'}, {\"'\": 'PUNCT'}, {'0': 'X'}, {\"'\": 'PUNCT'}, {']': 'PUNCT'}, {'\"': 'PUNCT'}, {']': 'PUNCT'}, {'[': 'X'}, {'\"': 'PUNCT'}, {'[': 'X'}, {\"'\": 'PUNCT'}, {'Show': 'VERB'}, {\"'\": 'PUNCT'}, {',': 'PUNCT'}, {'\"': 'PUNCT'}, {',': 'PUNCT'}, {'\"': 'PUNCT'}, {\"'\": 'PUNCT'}, {'entries': 'NOUN'}, {\"'\": 'PUNCT'}, {',': 'PUNCT'}, {'\"': 'PUNCT'}, {',': 'PUNCT'}, {'\"': 'PUNCT'}, {\"'\": 'PUNCT'}, {'where': 'SCONJ'}, {\"'\": 'NUM'}, {',': 'PUNCT'}, {'\"': 'PUNCT'}, {',': 'PUNCT'}, {'\"': 'PUNCT'}, {\"'\": 'PUNCT'}, {'Sepal': 'NOUN'}, {\"'\": 'PUNCT'}, {',': 'PUNCT'}, {'\"': 'PUNCT'}, {',': 'PUNCT'}, {'\"': 'PUNCT'}, {\"'\": 'PUNCT'}, {'Width': 'PROPN'}, {\"'\": 'PUNCT'}, {',': 'PUNCT'}, {'\"': 'PUNCT'}, {',': 'PUNCT'}, {'\"': 'PUNCT'}, {\"'\": 'PUNCT'}, {'is': 'AUX'}, {\"'\": 'PUNCT'}, {',': 'PUNCT'}, {'\"': 'PUNCT'}, {',': 'PUNCT'}, {'\"': 'PUNCT'}, {\"'\": 'PUNCT'}, {'not': 'PART'}, {\"'\": 'NUM'}, {',': 'PUNCT'}, {'\"': 'PUNCT'}, {',': 'PUNCT'}, {'\"': 'PUNCT'}, {\"'\": 'PROPN'}, {'3': 'NUM'}, {\"'\": 'NUM'}, {',': 'PUNCT'}, {'\"': 'PUNCT'}, {',': 'PUNCT'}, {'\"': 'PUNCT'}, {\"'\": 'PUNCT'}, {'.': 'PUNCT'}, {\"'\": 'PUNCT'}, {',': 'PUNCT'}, {'\"': 'PUNCT'}, {',': 'PUNCT'}, {'\"': 'PUNCT'}, {\"'\": 'PUNCT'}, {'0': 'X'}, {\"'\": 'PUNCT'}, {']': 'PUNCT'}, {'\"': 'PUNCT'}, {']': 'PUNCT'}, {'[': 'X'}, {'\"': 'PUNCT'}, {'[': 'X'}, {\"'\": 'PUNCT'}, {'List': 'NOUN'}, {\"'\": 'PUNCT'}, {',': 'PUNCT'}, {'\"': 'PUNCT'}, {',': 'PUNCT'}, {'\"': 'PUNCT'}, {\"'\": 'PUNCT'}, {'all': 'PRON'}, {\"'\": 'PROPN'}, {',': 'PUNCT'}, {'\"': 'PUNCT'}, {',': 'PUNCT'}, {'\"': 'PUNCT'}, {\"'\": 'PUNCT'}, {'where': 'SCONJ'}, {\"'\": 'NUM'}, {',': 'PUNCT'}, {'\"': 'PUNCT'}, {',': 'PUNCT'}, {'\"': 'PUNCT'}, {\"'\": 'PUNCT'}, {'the': 'DET'}, {\"'\": 'PUNCT'}, {',': 'PUNCT'}, {'\"': 'PUNCT'}, {',': 'PUNCT'}, {'\"': 'PUNCT'}, {\"'\": 'PUNCT'}, {'Species': 'NOUN'}, {\"'\": 'PUNCT'}, {',': 'PUNCT'}, {'\"': 'PUNCT'}, {',': 'PUNCT'}, {'\"': 'PUNCT'}, {\"'\": 'PUNCT'}, {'name': 'NOUN'}, {\"'\": 'PUNCT'}, {',': 'PUNCT'}, {'\"': 'PUNCT'}, {',': 'PUNCT'}, {'\"': 'PUNCT'}, {\"'\": 'PUNCT'}, {'ends': 'VERB'}, {\"'\": 'PUNCT'}, {',': 'PUNCT'}, {'\"': 'PUNCT'}, {',': 'PUNCT'}, {'\"': 'PUNCT'}, {\"'\": 'PUNCT'}, {'with': 'ADP'}, {\"'\": 'PROPN'}, {',': 'PUNCT'}, {'\"': 'PUNCT'}, {',': 'PUNCT'}, {\"'\": 'PUNCT'}, {'\"': 'PUNCT'}, {'\\\\': 'PROPN'}, {\"'\": 'PUNCT'}, {'\"': 'PUNCT'}, {',': 'PUNCT'}, {\"'\": 'PUNCT'}, {',': 'PUNCT'}, {'\"': 'PUNCT'}, {\"'\": 'PUNCT'}, {'ica': 'VERB'}, {\"'\": 'PUNCT'}, {',': 'PUNCT'}, {'\"': 'PUNCT'}, {',': 'PUNCT'}, {\"'\": 'PUNCT'}, {'\"': 'PUNCT'}, {'\\\\': 'PROPN'}, {\"'\": 'PUNCT'}, {'\"': 'PUNCT'}, {']': 'PUNCT'}, {\"'\": 'X'}, {']': 'PUNCT'}, {'[': 'X'}, {'\"': 'PUNCT'}, {'[': 'X'}, {\"'\": 'X'}, {'Entries': 'NOUN'}, {\"'\": 'PUNCT'}, {',': 'PUNCT'}, {'\"': 'PUNCT'}, {',': 'PUNCT'}, {'\"': 'PUNCT'}, {\"'\": 'PUNCT'}, {'with': 'ADP'}, {\"'\": 'PROPN'}, {',': 'PUNCT'}, {'\"': 'PUNCT'}, {',': 'PUNCT'}, {'\"': 'PUNCT'}, {\"'\": 'PUNCT'}, {'a': 'PRON'}, {\"'\": 'PUNCT'}, {',': 'PUNCT'}, {'\"': 'PUNCT'}, {',': 'PUNCT'}, {'\"': 'PUNCT'}, {\"'\": 'PUNCT'}, {'Sepal': 'NOUN'}, {\"'\": 'PUNCT'}, {',': 'PUNCT'}, {'\"': 'PUNCT'}, {',': 'PUNCT'}, {'\"': 'PUNCT'}, {\"'\": 'PUNCT'}, {'Length': 'PROPN'}, {\"'\": 'PUNCT'}, {',': 'PUNCT'}, {'\"': 'PUNCT'}, {',': 'PUNCT'}, {'\"': 'PUNCT'}, {\"'\": 'PUNCT'}, {'of': 'ADP'}, {\"'\": 'NUM'}, {',': 'PUNCT'}, {'\"': 'PUNCT'}, {',': 'PUNCT'}, {'\"': 'PUNCT'}, {\"'\": 'PUNCT'}, {'exactly': 'ADV'}, {\"'\": 'NUM'}, {',': 'PUNCT'}, {'\"': 'PUNCT'}, {',': 'PUNCT'}, {'\"': 'PUNCT'}, {\"'\": 'PROPN'}, {'5': 'NUM'}, {\"'\": 'NUM'}, {',': 'PUNCT'}, {'\"': 'PUNCT'}, {',': 'PUNCT'}, {'\"': 'PUNCT'}, {\"'\": 'PUNCT'}, {'.': 'PUNCT'}, {\"'\": 'PUNCT'}, {',': 'PUNCT'}, {'\"': 'PUNCT'}, {',': 'PUNCT'}, {'\"': 'PUNCT'}, {\"'\": 'PUNCT'}, {'0': 'X'}, {\"'\": 'PUNCT'}, {']': 'PUNCT'}, {'\"': 'PUNCT'}, {']': 'PUNCT'}, {'[': 'X'}, {'\"': 'PUNCT'}, {'[': 'X'}, {\"'\": 'PUNCT'}, {'Display': 'NOUN'}, {\"'\": 'PUNCT'}, {',': 'PUNCT'}, {'\"': 'PUNCT'}, {',': 'PUNCT'}, {'\"': 'PUNCT'}, {\"'\": 'PUNCT'}, {'the': 'DET'}, {\"'\": 'PUNCT'}, {',': 'PUNCT'}, {'\"': 'PUNCT'}, {',': 'PUNCT'}, {'\"': 'PUNCT'}, {\"'\": 'PUNCT'}, {'top': 'VERB'}, {\"'\": 'PUNCT'}, {',': 'PUNCT'}, {'\"': 'PUNCT'}, {',': 'PUNCT'}, {'\"': 'PUNCT'}, {\"'\": 'PROPN'}, {'5': 'NUM'}, {\"'\": 'NUM'}, {',': 'PUNCT'}, {'\"': 'PUNCT'}, {',': 'PUNCT'}, {'\"': 'PUNCT'}, {\"'\": 'PUNCT'}, {'Species': 'NOUN'}, {\"'\": 'PUNCT'}, {',': 'PUNCT'}, {'\"': 'PUNCT'}, {',': 'PUNCT'}, {'\"': 'PUNCT'}, {\"'\": 'PUNCT'}, {'by': 'ADP'}, {\"'\": 'NUM'}, {',': 'PUNCT'}, {'\"': 'PUNCT'}, {',': 'PUNCT'}, {'\"': 'PUNCT'}, {\"'\": 'PUNCT'}, {'Sepal': 'NOUN'}, {\"'\": 'PUNCT'}, {',': 'PUNCT'}, {'\"': 'PUNCT'}, {',': 'PUNCT'}, {'\"': 'PUNCT'}, {\"'\": 'PUNCT'}, {'Width': 'PROPN'}, {\"'\": 'PUNCT'}, {']': 'PUNCT'}, {'\"': 'PUNCT'}, {']': 'PUNCT'}, {'[': 'X'}, {'\"': 'PUNCT'}, {'[': 'X'}, {\"'\": 'VERB'}, {'Find': 'VERB'}, {\"'\": 'PUNCT'}, {',': 'PUNCT'}, {'\"': 'PUNCT'}, {',': 'PUNCT'}, {'\"': 'PUNCT'}, {\"'\": 'PUNCT'}, {'the': 'DET'}, {\"'\": 'PUNCT'}, {',': 'PUNCT'}, {'\"': 'PUNCT'}, {',': 'PUNCT'}, {'\"': 'PUNCT'}, {\"'\": 'PROPN'}, {'3': 'NUM'}, {\"'\": 'NUM'}, {',': 'PUNCT'}, {'\"': 'PUNCT'}, {',': 'PUNCT'}, {'\"': 'PUNCT'}, {\"'\": 'PUNCT'}, {'smallest': 'ADJ'}, {\"'\": 'PUNCT'}, {',': 'PUNCT'}, {'\"': 'PUNCT'}, {',': 'PUNCT'}, {'\"': 'PUNCT'}, {\"'\": 'PUNCT'}, {'Petal': 'ADJ'}, {\"'\": 'PUNCT'}, {',': 'PUNCT'}, {'\"': 'PUNCT'}, {',': 'PUNCT'}, {'\"': 'PUNCT'}, {\"'\": 'PUNCT'}, {'Lengths': 'NOUN'}, {\"'\": 'NUM'}, {']': 'PUNCT'}, {'\"': 'PUNCT'}, {']': 'PUNCT'}, {'[': 'X'}, {'\"': 'PUNCT'}, {'[': 'X'}, {\"'\": 'X'}, {'Count': 'PROPN'}, {\"'\": 'PUNCT'}, {',': 'PUNCT'}, {'\"': 'PUNCT'}, {',': 'PUNCT'}, {'\"': 'PUNCT'}, {\"'\": 'PUNCT'}, {'occurrences': 'NOUN'}, {\"'\": 'PUNCT'}, {',': 'PUNCT'}, {'\"': 'PUNCT'}, {',': 'PUNCT'}, {'\"': 'PUNCT'}, {\"'\": 'PUNCT'}, {'where': 'SCONJ'}, {\"'\": 'NUM'}, {',': 'PUNCT'}, {'\"': 'PUNCT'}, {',': 'PUNCT'}, {'\"': 'PUNCT'}, {\"'\": 'PUNCT'}, {'Petal': 'ADJ'}, {\"'\": 'PUNCT'}, {',': 'PUNCT'}, {'\"': 'PUNCT'}, {',': 'PUNCT'}, {'\"': 'PUNCT'}, {\"'\": 'PUNCT'}, {'Length': 'PROPN'}, {\"'\": 'PUNCT'}, {',': 'PUNCT'}, {'\"': 'PUNCT'}, {',': 'PUNCT'}, {'\"': 'PUNCT'}, {\"'\": 'PUNCT'}, {'is': 'AUX'}, {\"'\": 'PUNCT'}, {',': 'PUNCT'}, {'\"': 'PUNCT'}, {',': 'PUNCT'}, {'\"': 'PUNCT'}, {\"'\": 'PUNCT'}, {'between': 'ADP'}, {\"'\": 'PUNCT'}, {',': 'PUNCT'}, {'\"': 'PUNCT'}, {',': 'PUNCT'}, {'\"': 'PUNCT'}, {\"'\": 'PROPN'}, {'4': 'NUM'}, {\"'\": 'NUM'}, {',': 'PUNCT'}, {'\"': 'PUNCT'}, {',': 'PUNCT'}, {'\"': 'PUNCT'}, {\"'\": 'PUNCT'}, {'and': 'CCONJ'}, {\"'\": 'NUM'}, {',': 'PUNCT'}, {'\"': 'PUNCT'}, {',': 'PUNCT'}, {'\"': 'PUNCT'}, {\"'\": 'PROPN'}, {'5': 'NUM'}, {\"'\": 'NUM'}, {']': 'PUNCT'}, {'\"': 'PUNCT'}, {']': 'PUNCT'}, {'[': 'X'}, {'\"': 'PUNCT'}, {'[': 'X'}, {\"'\": 'PUNCT'}, {'Aggregate': 'VERB'}, {\"'\": 'PUNCT'}, {',': 'PUNCT'}, {'\"': 'PUNCT'}, {',': 'PUNCT'}, {'\"': 'PUNCT'}, {\"'\": 'PUNCT'}, {'data': 'NOUN'}, {\"'\": 'PUNCT'}, {',': 'PUNCT'}, {'\"': 'PUNCT'}, {',': 'PUNCT'}, {'\"': 'PUNCT'}, {\"'\": 'PUNCT'}, {'by': 'ADP'}, {\"'\": 'NUM'}, {',': 'PUNCT'}, {'\"': 'PUNCT'}, {',': 'PUNCT'}, {'\"': 'PUNCT'}, {\"'\": 'PUNCT'}, {'the': 'DET'}, {\"'\": 'PUNCT'}, {',': 'PUNCT'}, {'\"': 'PUNCT'}, {',': 'PUNCT'}, {'\"': 'PUNCT'}, {\"'\": 'PUNCT'}, {'month': 'NOUN'}, {\"'\": 'PUNCT'}, {',': 'PUNCT'}, {'\"': 'PUNCT'}, {',': 'PUNCT'}, {'\"': 'PUNCT'}, {\"'\": 'PUNCT'}, {'of': 'ADP'}, {\"'\": 'NUM'}, {',': 'PUNCT'}, {'\"': 'PUNCT'}, {',': 'PUNCT'}, {'\"': 'PUNCT'}, {\"'\": 'PUNCT'}, {'observation': 'NOUN'}, {\"'\": 'PUNCT'}, {',': 'PUNCT'}, {'\"': 'PUNCT'}, {',': 'PUNCT'}, {'\"': 'PUNCT'}, {\"'\": 'PUNCT'}, {'(': 'PUNCT'}, {\"'\": 'PUNCT'}, {',': 'PUNCT'}, {'\"': 'PUNCT'}, {',': 'PUNCT'}, {'\"': 'PUNCT'}, {\"'\": 'PUNCT'}, {'assuming': 'VERB'}, {\"'\": 'PUNCT'}, {',': 'PUNCT'}, {'\"': 'PUNCT'}, {',': 'PUNCT'}, {'\"': 'PUNCT'}, {\"'\": 'PUNCT'}, {'there': 'PRON'}, {\"'\": 'NUM'}, {',': 'PUNCT'}, {'\"': 'PUNCT'}, {',': 'PUNCT'}, {\"'\": 'PUNCT'}, {'\"': 'PUNCT'}, {'\\\\': 'PROPN'}, {\"'\": 'PUNCT'}, {'\"': 'PUNCT'}, {',': 'PUNCT'}, {\"'\": 'PUNCT'}, {',': 'PUNCT'}, {'\"': 'PUNCT'}, {\"'s\": 'AUX'}, {\"'\": 'NUM'}, {',': 'PUNCT'}, {'\"': 'PUNCT'}, {',': 'PUNCT'}, {'\"': 'PUNCT'}, {\"'\": 'PUNCT'}, {'a': 'PRON'}, {\"'\": 'PUNCT'}, {',': 'PUNCT'}, {'\"': 'PUNCT'}, {',': 'PUNCT'}, {'\"': 'PUNCT'}, {\"'\": 'PUNCT'}, {'Date': 'VERB'}, {\"'\": 'PUNCT'}, {',': 'PUNCT'}, {'\"': 'PUNCT'}, {',': 'PUNCT'}, {'\"': 'PUNCT'}, {\"'\": 'PUNCT'}, {'field': 'NOUN'}, {\"'\": 'PUNCT'}, {',': 'PUNCT'}, {'\"': 'PUNCT'}, {',': 'PUNCT'}, {'\"': 'PUNCT'}, {\"'\": 'PUNCT'}, {')': 'PUNCT'}, {\"'\": 'PUNCT'}, {']': 'PUNCT'}, {'\"': 'PUNCT'}, {']': 'PUNCT'}, {'[': 'X'}, {'\"': 'PUNCT'}, {'[': 'X'}, {\"'\": 'X'}, {'Filter': 'PROPN'}, {\"'\": 'NUM'}, {',': 'PUNCT'}, {'\"': 'PUNCT'}, {',': 'PUNCT'}, {'\"': 'PUNCT'}, {\"'\": 'PUNCT'}, {'records': 'NOUN'}, {\"'\": 'PART'}, {',': 'PUNCT'}, {'\"': 'PUNCT'}, {',': 'PUNCT'}, {'\"': 'PUNCT'}, {\"'\": 'PUNCT'}, {'from': 'ADP'}, {\"'\": 'NUM'}, {',': 'PUNCT'}, {'\"': 'PUNCT'}, {',': 'PUNCT'}, {'\"': 'PUNCT'}, {\"'\": 'PUNCT'}, {'last': 'ADJ'}, {\"'\": 'PUNCT'}, {',': 'PUNCT'}, {'\"': 'PUNCT'}, {',': 'PUNCT'}, {'\"': 'PUNCT'}, {\"'\": 'PUNCT'}, {'year': 'NOUN'}, {\"'\": 'PUNCT'}, {',': 'PUNCT'}, {'\"': 'PUNCT'}, {',': 'PUNCT'}, {'\"': 'PUNCT'}, {\"'\": 'PUNCT'}, {'(': 'PUNCT'}, {\"'\": 'PUNCT'}, {',': 'PUNCT'}, {'\"': 'PUNCT'}, {',': 'PUNCT'}, {'\"': 'PUNCT'}, {\"'\": 'PUNCT'}, {'assuming': 'VERB'}, {\"'\": 'PUNCT'}, {',': 'PUNCT'}, {'\"': 'PUNCT'}, {',': 'PUNCT'}, {'\"': 'PUNCT'}, {\"'\": 'PUNCT'}, {'there': 'PRON'}, {\"'\": 'NUM'}, {',': 'PUNCT'}, {'\"': 'PUNCT'}, {',': 'PUNCT'}, {\"'\": 'PUNCT'}, {'\"': 'PUNCT'}, {'\\\\': 'PROPN'}, {\"'\": 'PUNCT'}, {'\"': 'PUNCT'}, {',': 'PUNCT'}, {\"'\": 'PUNCT'}, {',': 'PUNCT'}, {'\"': 'PUNCT'}, {\"'s\": 'AUX'}, {\"'\": 'NUM'}, {',': 'PUNCT'}, {'\"': 'PUNCT'}, {',': 'PUNCT'}, {'\"': 'PUNCT'}, {\"'\": 'PUNCT'}, {'a': 'PRON'}, {\"'\": 'PUNCT'}, {',': 'PUNCT'}, {'\"': 'PUNCT'}, {',': 'PUNCT'}, {'\"': 'PUNCT'}, {\"'\": 'PUNCT'}, {'Date': 'VERB'}, {\"'\": 'PUNCT'}, {',': 'PUNCT'}, {'\"': 'PUNCT'}, {',': 'PUNCT'}, {'\"': 'PUNCT'}, {\"'\": 'PUNCT'}, {'field': 'NOUN'}, {\"'\": 'PUNCT'}, {',': 'PUNCT'}, {'\"': 'PUNCT'}, {',': 'PUNCT'}, {'\"': 'PUNCT'}, {\"'\": 'PUNCT'}, {')': 'PUNCT'}, {\"'\": 'PUNCT'}, {']': 'PUNCT'}, {'\"': 'PUNCT'}, {']': 'PUNCT'}, {'[': 'X'}, {'\"': 'PUNCT'}, {'[': 'X'}, {\"'\": 'PUNCT'}, {'Show': 'VERB'}, {\"'\": 'PUNCT'}, {',': 'PUNCT'}, {'\"': 'PUNCT'}, {',': 'PUNCT'}, {'\"': 'PUNCT'}, {\"'\": 'PUNCT'}, {'only': 'ADV'}, {\"'\": 'NUM'}, {',': 'PUNCT'}, {'\"': 'PUNCT'}, {',': 'PUNCT'}, {'\"': 'PUNCT'}, {\"'\": 'PUNCT'}, {'the': 'PRON'}, {\"'\": 'PUNCT'}, {',': 'PUNCT'}, {'\"': 'PUNCT'}, {',': 'PUNCT'}, {'\"': 'PUNCT'}, {\"'\": 'PUNCT'}, {'data': 'NOUN'}, {\"'\": 'PUNCT'}, {',': 'PUNCT'}, {'\"': 'PUNCT'}, {',': 'PUNCT'}, {'\"': 'PUNCT'}, {\"'\": 'PUNCT'}, {'starting': 'VERB'}, {\"'\": 'PUNCT'}, {',': 'PUNCT'}, {'\"': 'PUNCT'}, {',': 'PUNCT'}, {'\"': 'PUNCT'}, {\"'\": 'PUNCT'}, {'from': 'ADP'}, {\"'\": 'NUM'}, {',': 'PUNCT'}, {'\"': 'PUNCT'}, {',': 'PUNCT'}, {'\"': 'PUNCT'}, {\"'\": 'PUNCT'}, {'January': 'PROPN'}, {\"'\": 'NUM'}, {',': 'PUNCT'}, {'\"': 'PUNCT'}, {',': 'PUNCT'}, {'\"': 'PUNCT'}, {\"'\": 'PUNCT'}, {'this': 'PRON'}, {\"'\": 'PUNCT'}, {',': 'PUNCT'}, {'\"': 'PUNCT'}, {',': 'PUNCT'}, {'\"': 'PUNCT'}, {\"'\": 'PUNCT'}, {'year': 'NOUN'}, {\"'\": 'PUNCT'}, {']': 'PUNCT'}, {'\"': 'PUNCT'}, {']': 'PUNCT'}, {'[': 'X'}, {'\"': 'PUNCT'}, {'[': 'X'}, {\"'\": 'VERB'}, {'Find': 'VERB'}, {\"'\": 'PUNCT'}, {',': 'PUNCT'}, {'\"': 'PUNCT'}, {',': 'PUNCT'}, {'\"': 'PUNCT'}, {\"'\": 'PUNCT'}, {'the': 'DET'}, {\"'\": 'PUNCT'}, {',': 'PUNCT'}, {'\"': 'PUNCT'}, {',': 'PUNCT'}, {'\"': 'PUNCT'}, {\"'\": 'PUNCT'}, {'average': 'ADJ'}, {\"'\": 'PUNCT'}, {',': 'PUNCT'}, {'\"': 'PUNCT'}, {',': 'PUNCT'}, {'\"': 'PUNCT'}, {\"'\": 'PUNCT'}, {'Sepal': 'NOUN'}, {\"'\": 'PUNCT'}, {',': 'PUNCT'}, {'\"': 'PUNCT'}, {',': 'PUNCT'}, {'\"': 'PUNCT'}, {\"'\": 'PUNCT'}, {'Length': 'PROPN'}, {\"'\": 'PUNCT'}, {',': 'PUNCT'}, {'\"': 'PUNCT'}, {',': 'PUNCT'}, {'\"': 'PUNCT'}, {\"'\": 'PUNCT'}, {'for': 'ADP'}, {\"'\": 'NUM'}, {',': 'PUNCT'}, {'\"': 'PUNCT'}, {',': 'PUNCT'}, {'\"': 'PUNCT'}, {\"'\": 'PUNCT'}, {'each': 'PRON'}, {\"'\": 'PUNCT'}, {',': 'PUNCT'}, {'\"': 'PUNCT'}, {',': 'PUNCT'}, {'\"': 'PUNCT'}, {\"'\": 'PUNCT'}, {'Species': 'NOUN'}, {\"'\": 'PUNCT'}, {',': 'PUNCT'}, {'\"': 'PUNCT'}, {',': 'PUNCT'}, {'\"': 'PUNCT'}, {\"'\": 'PUNCT'}, {',': 'PUNCT'}, {\"'\": 'PUNCT'}, {',': 'PUNCT'}, {'\"': 'PUNCT'}, {',': 'PUNCT'}, {'\"': 'PUNCT'}, {\"'\": 'PUNCT'}, {'sorted': 'VERB'}, {\"'\": 'PUNCT'}, {',': 'PUNCT'}, {'\"': 'PUNCT'}, {',': 'PUNCT'}, {'\"': 'PUNCT'}, {\"'\": 'PUNCT'}, {'alphabetically': 'ADV'}, {\"'\": 'VERB'}, {']': 'X'}, {'\"': 'PUNCT'}, {']': 'PUNCT'}, {'[': 'X'}, {'\"': 'PUNCT'}, {'[': 'X'}, {\"'\": 'X'}, {'Count': 'PROPN'}, {\"'\": 'PUNCT'}, {',': 'PUNCT'}, {'\"': 'PUNCT'}, {',': 'PUNCT'}, {'\"': 'PUNCT'}, {\"'\": 'PUNCT'}, {'how': 'SCONJ'}, {\"'\": 'PROPN'}, {',': 'PUNCT'}, {'\"': 'PUNCT'}, {',': 'PUNCT'}, {'\"': 'PUNCT'}, {\"'\": 'PUNCT'}, {'many': 'ADJ'}, {\"'\": 'PUNCT'}, {',': 'PUNCT'}, {'\"': 'PUNCT'}, {',': 'PUNCT'}, {'\"': 'PUNCT'}, {\"'\": 'PUNCT'}, {'Species': 'NOUN'}, {\"'\": 'PUNCT'}, {',': 'PUNCT'}, {'\"': 'PUNCT'}, {',': 'PUNCT'}, {'\"': 'PUNCT'}, {\"'\": 'PUNCT'}, {'start': 'VERB'}, {\"'\": 'PUNCT'}, {',': 'PUNCT'}, {'\"': 'PUNCT'}, {',': 'PUNCT'}, {'\"': 'PUNCT'}, {\"'\": 'PUNCT'}, {'with': 'ADP'}, {\"'\": 'PROPN'}, {',': 'PUNCT'}, {'\"': 'PUNCT'}, {',': 'PUNCT'}, {\"'\": 'PUNCT'}, {'\"': 'PUNCT'}, {'\\\\': 'PROPN'}, {\"'\": 'PUNCT'}, {'\"': 'PUNCT'}, {',': 'PUNCT'}, {\"'\": 'PUNCT'}, {',': 'PUNCT'}, {'\"': 'PUNCT'}, {\"'\": 'PUNCT'}, {'C': 'NOUN'}, {\"'\": 'NUM'}, {',': 'PUNCT'}, {'\"': 'PUNCT'}, {',': 'PUNCT'}, {\"'\": 'PUNCT'}, {'\"': 'PUNCT'}, {'\\\\': 'PROPN'}, {\"'\": 'PUNCT'}, {'\"': 'PUNCT'}, {']': 'PUNCT'}, {\"'\": 'X'}, {']': 'PUNCT'}, {'[': 'X'}, {'\"': 'PUNCT'}, {'[': 'X'}, {\"'\": 'X'}, {'Entries': 'NOUN'}, {\"'\": 'PUNCT'}, {',': 'PUNCT'}, {'\"': 'PUNCT'}, {',': 'PUNCT'}, {'\"': 'PUNCT'}, {\"'\": 'PUNCT'}, {'with': 'ADP'}, {\"'\": 'PROPN'}, {',': 'PUNCT'}, {'\"': 'PUNCT'}, {',': 'PUNCT'}, {'\"': 'PUNCT'}, {\"'\": 'PUNCT'}, {'Petal': 'ADJ'}, {\"'\": 'PUNCT'}, {',': 'PUNCT'}, {'\"': 'PUNCT'}, {',': 'PUNCT'}, {'\"': 'PUNCT'}, {\"'\": 'PUNCT'}, {'Length': 'PROPN'}, {\"'\": 'PUNCT'}, {',': 'PUNCT'}, {'\"': 'PUNCT'}, {',': 'PUNCT'}, {'\"': 'PUNCT'}, {\"'\": 'PUNCT'}, {'and': 'CCONJ'}, {\"'\": 'NUM'}, {',': 'PUNCT'}, {'\"': 'PUNCT'}, {',': 'PUNCT'}, {'\"': 'PUNCT'}, {\"'\": 'PUNCT'}, {'Sepal': 'NOUN'}, {\"'\": 'PUNCT'}, {',': 'PUNCT'}, {'\"': 'PUNCT'}, {',': 'PUNCT'}, {'\"': 'PUNCT'}, {\"'\": 'PUNCT'}, {'Length': 'PROPN'}, {\"'\": 'PUNCT'}, {',': 'PUNCT'}, {'\"': 'PUNCT'}, {',': 'PUNCT'}, {'\"': 'PUNCT'}, {\"'\": 'PUNCT'}, {'both': 'PRON'}, {\"'\": 'PROPN'}, {',': 'PUNCT'}, {'\"': 'PUNCT'}, {',': 'PUNCT'}, {'\"': 'PUNCT'}, {\"'\": 'PUNCT'}, {'above': 'ADP'}, {\"'\": 'PUNCT'}, {',': 'PUNCT'}, {'\"': 'PUNCT'}, {',': 'PUNCT'}, {'\"': 'PUNCT'}, {\"'\": 'PROPN'}, {'4': 'NUM'}, {\"'\": 'NUM'}, {',': 'PUNCT'}, {'\"': 'PUNCT'}, {',': 'PUNCT'}, {'\"': 'PUNCT'}, {\"'\": 'PUNCT'}, {'.': 'PUNCT'}, {\"'\": 'PUNCT'}, {',': 'PUNCT'}, {'\"': 'PUNCT'}, {',': 'PUNCT'}, {'\"': 'PUNCT'}, {\"'\": 'PUNCT'}, {'0': 'X'}, {\"'\": 'PUNCT'}, {']': 'PUNCT'}, {'\"': 'PUNCT'}, {']': 'PUNCT'}, {'[': 'X'}, {'\"': 'PUNCT'}, {'[': 'X'}, {\"'\": 'PUNCT'}, {'List': 'NOUN'}, {\"'\": 'PUNCT'}, {',': 'PUNCT'}, {'\"': 'PUNCT'}, {',': 'PUNCT'}, {'\"': 'PUNCT'}, {\"'\": 'PUNCT'}, {'Species': 'NOUN'}, {\"'\": 'PUNCT'}, {',': 'PUNCT'}, {'\"': 'PUNCT'}, {',': 'PUNCT'}, {'\"': 'PUNCT'}, {\"'\": 'PUNCT'}, {'with': 'ADP'}, {\"'\": 'PROPN'}, {',': 'PUNCT'}, {'\"': 'PUNCT'}, {',': 'PUNCT'}, {'\"': 'PUNCT'}, {\"'\": 'PUNCT'}, {'Petal': 'ADJ'}, {\"'\": 'PUNCT'}, {',': 'PUNCT'}, {'\"': 'PUNCT'}, {',': 'PUNCT'}, {'\"': 'PUNCT'}, {\"'\": 'PUNCT'}, {'Width': 'PROPN'}, {\"'\": 'PUNCT'}, {',': 'PUNCT'}, {'\"': 'PUNCT'}, {',': 'PUNCT'}, {'\"': 'PUNCT'}, {\"'\": 'PUNCT'}, {'in': 'ADP'}, {\"'\": 'NUM'}, {',': 'PUNCT'}, {'\"': 'PUNCT'}, {',': 'PUNCT'}, {'\"': 'PUNCT'}, {\"'\": 'PUNCT'}, {'the': 'DET'}, {\"'\": 'PUNCT'}, {',': 'PUNCT'}, {'\"': 'PUNCT'}, {',': 'PUNCT'}, {'\"': 'PUNCT'}, {\"'\": 'PUNCT'}, {'top': 'VERB'}, {\"'\": 'PUNCT'}, {',': 'PUNCT'}, {'\"': 'PUNCT'}, {',': 'PUNCT'}, {'\"': 'PUNCT'}, {\"'\": 'PROPN'}, {'10': 'NUM'}, {\"'\": 'NUM'}, {',': 'PUNCT'}, {'\"': 'PUNCT'}, {',': 'PUNCT'}, {'\"': 'PUNCT'}, {\"'\": 'PUNCT'}, {'%': 'INTJ'}, {\"'\": 'PUNCT'}, {']': 'X'}, {'\"': 'PUNCT'}, {']': 'PUNCT'}, {'[': 'X'}, {'\"': 'PUNCT'}, {'[': 'X'}, {\"'\": 'PROPN'}, {'Total': 'ADJ'}, {\"'\": 'PUNCT'}, {',': 'PUNCT'}, {'\"': 'PUNCT'}, {',': 'PUNCT'}, {'\"': 'PUNCT'}, {\"'\": 'PUNCT'}, {'Sepal': 'NOUN'}, {\"'\": 'PUNCT'}, {',': 'PUNCT'}, {'\"': 'PUNCT'}, {',': 'PUNCT'}, {'\"': 'PUNCT'}, {\"'\": 'PUNCT'}, {'Length': 'PROPN'}, {\"'\": 'PUNCT'}, {',': 'PUNCT'}, {'\"': 'PUNCT'}, {',': 'PUNCT'}, {'\"': 'PUNCT'}, {\"'\": 'PUNCT'}, {'for': 'ADP'}, {\"'\": 'NUM'}, {',': 'PUNCT'}, {'\"': 'PUNCT'}, {',': 'PUNCT'}, {'\"': 'PUNCT'}, {\"'\": 'PUNCT'}, {'all': 'PRON'}, {\"'\": 'PROPN'}, {',': 'PUNCT'}, {'\"': 'PUNCT'}, {',': 'PUNCT'}, {'\"': 'PUNCT'}, {\"'\": 'PUNCT'}, {'Iris': 'PROPN'}, {\"'\": 'NUM'}, {',': 'PUNCT'}, {'\"': 'PUNCT'}, {',': 'PUNCT'}, {'\"': 'PUNCT'}, {\"'\": 'PUNCT'}, {'flowers': 'NOUN'}, {\"'\": 'VERB'}, {']': 'PUNCT'}, {'\"': 'PUNCT'}, {']': 'PUNCT'}, {'[': 'X'}, {'\"': 'PUNCT'}, {'[': 'X'}, {\"'\": 'PUNCT'}, {'Average': 'ADJ'}, {\"'\": 'PUNCT'}, {',': 'PUNCT'}, {'\"': 'PUNCT'}, {',': 'PUNCT'}, {'\"': 'PUNCT'}, {\"'\": 'PUNCT'}, {'Petal': 'ADJ'}, {\"'\": 'PUNCT'}, {',': 'PUNCT'}, {'\"': 'PUNCT'}, {',': 'PUNCT'}, {'\"': 'PUNCT'}, {\"'\": 'PUNCT'}, {'Width': 'PROPN'}, {\"'\": 'PUNCT'}, {',': 'PUNCT'}, {'\"': 'PUNCT'}, {',': 'PUNCT'}, {'\"': 'PUNCT'}, {\"'\": 'PUNCT'}, {'across': 'ADP'}, {\"'\": 'PUNCT'}, {',': 'PUNCT'}, {'\"': 'PUNCT'}, {',': 'PUNCT'}, {'\"': 'PUNCT'}, {\"'\": 'PUNCT'}, {'all': 'PRON'}, {\"'\": 'PROPN'}, {',': 'PUNCT'}, {'\"': 'PUNCT'}, {',': 'PUNCT'}, {'\"': 'PUNCT'}, {\"'\": 'PUNCT'}, {'species': 'NOUN'}, {\"'\": 'PUNCT'}, {']': 'PUNCT'}, {'\"': 'PUNCT'}, {']': 'PUNCT'}, {'[': 'X'}, {'\"': 'PUNCT'}, {'[': 'X'}, {\"'\": 'PUNCT'}, {'Median': 'PROPN'}, {\"'\": 'PROPN'}, {',': 'PUNCT'}, {'\"': 'PUNCT'}, {',': 'PUNCT'}, {'\"': 'PUNCT'}, {\"'\": 'PUNCT'}, {'Sepal': 'NOUN'}, {\"'\": 'PUNCT'}, {',': 'PUNCT'}, {'\"': 'PUNCT'}, {',': 'PUNCT'}, {'\"': 'PUNCT'}, {\"'\": 'PUNCT'}, {'Width': 'PROPN'}, {\"'\": 'PUNCT'}, {',': 'PUNCT'}, {'\"': 'PUNCT'}, {',': 'PUNCT'}, {'\"': 'PUNCT'}, {\"'\": 'PUNCT'}, {'for': 'ADP'}, {\"'\": 'NUM'}, {',': 'PUNCT'}, {'\"': 'PUNCT'}, {',': 'PUNCT'}, {'\"': 'PUNCT'}, {\"'\": 'PUNCT'}, {'Iris': 'PROPN'}, {\"'\": 'NUM'}, {',': 'PUNCT'}, {'\"': 'PUNCT'}, {',': 'PUNCT'}, {'\"': 'PUNCT'}, {\"'\": 'PUNCT'}, {'setosa': 'VERB'}, {\"'\": 'PUNCT'}, {']': 'PUNCT'}, {'\"': 'PUNCT'}, {']': 'PUNCT'}, {'[': 'X'}, {'\"': 'PUNCT'}, {'[': 'X'}, {\"'\": 'X'}, {'Count': 'PROPN'}, {\"'\": 'PUNCT'}, {',': 'PUNCT'}, {'\"': 'PUNCT'}, {',': 'PUNCT'}, {'\"': 'PUNCT'}, {\"'\": 'PUNCT'}, {'of': 'ADP'}, {\"'\": 'NUM'}, {',': 'PUNCT'}, {'\"': 'PUNCT'}, {',': 'PUNCT'}, {'\"': 'PUNCT'}, {\"'\": 'PUNCT'}, {'Iris': 'PROPN'}, {\"'\": 'NUM'}, {',': 'PUNCT'}, {'\"': 'PUNCT'}, {',': 'PUNCT'}, {'\"': 'PUNCT'}, {\"'\": 'PUNCT'}, {'versicolor': 'NOUN'}, {\"'\": 'PUNCT'}, {',': 'PUNCT'}, {'\"': 'PUNCT'}, {',': 'PUNCT'}, {'\"': 'PUNCT'}, {\"'\": 'PUNCT'}, {'flowers': 'NOUN'}, {\"'\": 'VERB'}, {']': 'PUNCT'}, {'\"': 'PUNCT'}, {']': 'PUNCT'}, {'[': 'X'}, {'\"': 'PUNCT'}, {'[': 'X'}, {\"'\": 'X'}, {'Distinct': 'ADJ'}, {\"'\": 'PUNCT'}, {',': 'PUNCT'}, {'\"': 'PUNCT'}, {',': 'PUNCT'}, {'\"': 'PUNCT'}, {\"'\": 'PUNCT'}, {'count': 'VERB'}, {\"'\": 'PUNCT'}, {',': 'PUNCT'}, {'\"': 'PUNCT'}, {',': 'PUNCT'}, {'\"': 'PUNCT'}, {\"'\": 'PUNCT'}, {'of': 'ADP'}, {\"'\": 'NUM'}, {',': 'PUNCT'}, {'\"': 'PUNCT'}, {',': 'PUNCT'}, {'\"': 'PUNCT'}, {\"'\": 'PUNCT'}, {'species': 'NOUN'}, {\"'\": 'PUNCT'}, {',': 'PUNCT'}, {'\"': 'PUNCT'}, {',': 'PUNCT'}, {'\"': 'PUNCT'}, {\"'\": 'PUNCT'}, {'with': 'ADP'}, {\"'\": 'PROPN'}, {',': 'PUNCT'}, {'\"': 'PUNCT'}, {',': 'PUNCT'}, {'\"': 'PUNCT'}, {\"'\": 'PUNCT'}, {'Sepal': 'NOUN'}, {\"'\": 'PUNCT'}, {',': 'PUNCT'}, {'\"': 'PUNCT'}, {',': 'PUNCT'}, {'\"': 'PUNCT'}, {\"'\": 'PUNCT'}, {'Length': 'PROPN'}, {\"'\": 'PUNCT'}, {',': 'PUNCT'}, {'\"': 'PUNCT'}, {',': 'PUNCT'}, {'\"': 'PUNCT'}, {\"'\": 'PUNCT'}, {'over': 'ADP'}, {\"'\": 'PUNCT'}, {',': 'PUNCT'}, {'\"': 'PUNCT'}, {',': 'PUNCT'}, {'\"': 'PUNCT'}, {\"'\": 'PROPN'}, {'5': 'NUM'}, {\"'\": 'NUM'}, {',': 'PUNCT'}, {'\"': 'PUNCT'}, {',': 'PUNCT'}, {'\"': 'PUNCT'}, {\"'\": 'PUNCT'}, {'.': 'PUNCT'}, {\"'\": 'PUNCT'}, {',': 'PUNCT'}, {'\"': 'PUNCT'}, {',': 'PUNCT'}, {'\"': 'PUNCT'}, {\"'\": 'PUNCT'}, {'0': 'X'}, {\"'\": 'PUNCT'}, {']': 'PUNCT'}, {'\"': 'PUNCT'}, {']': 'PUNCT'}, {'[': 'X'}, {'\"': 'PUNCT'}, {'[': 'X'}, {\"'\": 'PUNCT'}, {'Minimum': 'ADJ'}, {\"'\": 'PUNCT'}, {',': 'PUNCT'}, {'\"': 'PUNCT'}, {',': 'PUNCT'}, {'\"': 'PUNCT'}, {\"'\": 'PUNCT'}, {'Petal': 'ADJ'}, {\"'\": 'PUNCT'}, {',': 'PUNCT'}, {'\"': 'PUNCT'}, {',': 'PUNCT'}, {'\"': 'PUNCT'}, {\"'\": 'PUNCT'}, {'Length': 'PROPN'}, {\"'\": 'PUNCT'}, {',': 'PUNCT'}, {'\"': 'PUNCT'}, {',': 'PUNCT'}, {'\"': 'PUNCT'}, {\"'\": 'PUNCT'}, {'for': 'ADP'}, {\"'\": 'NUM'}, {',': 'PUNCT'}, {'\"': 'PUNCT'}, {',': 'PUNCT'}, {'\"': 'PUNCT'}, {\"'\": 'PUNCT'}, {'Iris': 'PROPN'}, {\"'\": 'NUM'}, {',': 'PUNCT'}, {'\"': 'PUNCT'}, {',': 'PUNCT'}, {'\"': 'PUNCT'}, {\"'\": 'PUNCT'}, {'virginica': 'X'}, {\"'\": 'PUNCT'}, {']': 'PUNCT'}, {'\"': 'PUNCT'}, {']': 'PUNCT'}, {'[': 'X'}, {'\"': 'PUNCT'}, {'[': 'X'}, {\"'\": 'PUNCT'}, {'Maximum': 'ADJ'}, {\"'\": 'NUM'}, {',': 'PUNCT'}, {'\"': 'PUNCT'}, {',': 'PUNCT'}, {'\"': 'PUNCT'}, {\"'\": 'PUNCT'}, {'Sepal': 'NOUN'}, {\"'\": 'PUNCT'}, {',': 'PUNCT'}, {'\"': 'PUNCT'}, {',': 'PUNCT'}, {'\"': 'PUNCT'}, {\"'\": 'PUNCT'}, {'Width': 'PROPN'}, {\"'\": 'PUNCT'}, {',': 'PUNCT'}, {'\"': 'PUNCT'}, {',': 'PUNCT'}, {'\"': 'PUNCT'}, {\"'\": 'PUNCT'}, {'across': 'ADP'}, {\"'\": 'PUNCT'}, {',': 'PUNCT'}, {'\"': 'PUNCT'}, {',': 'PUNCT'}, {'\"': 'PUNCT'}, {\"'\": 'PUNCT'}, {'Iris': 'PROPN'}, {\"'\": 'NUM'}, {',': 'PUNCT'}, {'\"': 'PUNCT'}, {',': 'PUNCT'}, {'\"': 'PUNCT'}, {\"'\": 'PUNCT'}, {'setosa': 'VERB'}, {\"'\": 'PUNCT'}, {']': 'PUNCT'}, {'\"': 'PUNCT'}, {']': 'PUNCT'}, {'[': 'X'}, {'\"': 'PUNCT'}, {'[': 'X'}, {\"'\": 'PROPN'}, {'Total': 'ADJ'}, {\"'\": 'PUNCT'}, {',': 'PUNCT'}, {'\"': 'PUNCT'}, {',': 'PUNCT'}, {'\"': 'PUNCT'}, {\"'\": 'PUNCT'}, {'number': 'NOUN'}, {\"'\": 'PUNCT'}, {',': 'PUNCT'}, {'\"': 'PUNCT'}, {',': 'PUNCT'}, {'\"': 'PUNCT'}, {\"'\": 'PUNCT'}, {'of': 'ADP'}, {\"'\": 'NUM'}, {',': 'PUNCT'}, {'\"': 'PUNCT'}, {',': 'PUNCT'}, {'\"': 'PUNCT'}, {\"'\": 'PUNCT'}, {'records': 'NOUN'}, {\"'\": 'PART'}, {',': 'PUNCT'}, {'\"': 'PUNCT'}, {',': 'PUNCT'}, {'\"': 'PUNCT'}, {\"'\": 'PUNCT'}, {'grouped': 'VERB'}, {\"'\": 'PUNCT'}, {',': 'PUNCT'}, {'\"': 'PUNCT'}, {',': 'PUNCT'}, {'\"': 'PUNCT'}, {\"'\": 'PUNCT'}, {'by': 'ADP'}, {\"'\": 'NUM'}, {',': 'PUNCT'}, {'\"': 'PUNCT'}, {',': 'PUNCT'}, {'\"': 'PUNCT'}, {\"'\": 'PUNCT'}, {'Species': 'PROPN'}, {\"'\": 'PUNCT'}, {']': 'PUNCT'}, {'\"': 'PUNCT'}, {']': 'PUNCT'}, {'[': 'X'}, {'\"': 'PUNCT'}, {'[': 'X'}, {\"'\": 'X'}, {'Filter': 'PROPN'}, {\"'\": 'NUM'}, {',': 'PUNCT'}, {'\"': 'PUNCT'}, {',': 'PUNCT'}, {'\"': 'PUNCT'}, {\"'\": 'PUNCT'}, {'to': 'PART'}, {\"'\": 'NUM'}, {',': 'PUNCT'}, {'\"': 'PUNCT'}, {',': 'PUNCT'}, {'\"': 'PUNCT'}, {\"'\": 'PUNCT'}, {'show': 'VERB'}, {\"'\": 'PUNCT'}, {',': 'PUNCT'}, {'\"': 'PUNCT'}, {',': 'PUNCT'}, {'\"': 'PUNCT'}, {\"'\": 'PUNCT'}, {'only': 'ADV'}, {\"'\": 'NUM'}, {',': 'PUNCT'}, {'\"': 'PUNCT'}, {',': 'PUNCT'}, {'\"': 'PUNCT'}, {\"'\": 'PUNCT'}, {'Iris': 'PROPN'}, {\"'\": 'NUM'}, {',': 'PUNCT'}, {'\"': 'PUNCT'}, {',': 'PUNCT'}, {'\"': 'PUNCT'}, {\"'\": 'PUNCT'}, {'versicolor': 'NOUN'}, {\"'\": 'PUNCT'}, {',': 'PUNCT'}, {'\"': 'PUNCT'}, {',': 'PUNCT'}, {'\"': 'PUNCT'}, {\"'\": 'PUNCT'}, {'with': 'ADP'}, {\"'\": 'PROPN'}, {',': 'PUNCT'}, {'\"': 'PUNCT'}, {',': 'PUNCT'}, {'\"': 'PUNCT'}, {\"'\": 'PUNCT'}, {'Sepal': 'NOUN'}, {\"'\": 'PUNCT'}, {',': 'PUNCT'}, {'\"': 'PUNCT'}, {',': 'PUNCT'}, {'\"': 'PUNCT'}, {\"'\": 'PUNCT'}, {'Width': 'PROPN'}, {\"'\": 'PUNCT'}, {',': 'PUNCT'}, {'\"': 'PUNCT'}, {',': 'PUNCT'}, {'\"': 'PUNCT'}, {\"'\": 'PUNCT'}, {'at': 'ADP'}, {\"'\": 'NUM'}, {',': 'PUNCT'}, {'\"': 'PUNCT'}, {',': 'PUNCT'}, {'\"': 'PUNCT'}, {\"'\": 'PUNCT'}, {'least': 'ADJ'}, {\"'\": 'PUNCT'}, {',': 'PUNCT'}, {'\"': 'PUNCT'}, {',': 'PUNCT'}, {'\"': 'PUNCT'}, {\"'\": 'PROPN'}, {'3': 'NUM'}, {\"'\": 'NUM'}, {',': 'PUNCT'}, {'\"': 'PUNCT'}, {',': 'PUNCT'}, {'\"': 'PUNCT'}, {\"'\": 'PUNCT'}, {'.': 'PUNCT'}, {\"'\": 'PUNCT'}, {',': 'PUNCT'}, {'\"': 'PUNCT'}, {',': 'PUNCT'}, {'\"': 'PUNCT'}, {\"'\": 'PUNCT'}, {'0': 'X'}, {\"'\": 'PUNCT'}, {']': 'PUNCT'}, {'\"': 'PUNCT'}, {']': 'PUNCT'}, {'[': 'X'}, {'\"': 'PUNCT'}, {'[': 'X'}, {\"'\": 'PUNCT'}, {'Show': 'VERB'}, {\"'\": 'PUNCT'}, {',': 'PUNCT'}, {'\"': 'PUNCT'}, {',': 'PUNCT'}, {'\"': 'PUNCT'}, {\"'\": 'PUNCT'}, {'top': 'VERB'}, {\"'\": 'PUNCT'}, {',': 'PUNCT'}, {'\"': 'PUNCT'}, {',': 'PUNCT'}, {'\"': 'PUNCT'}, {\"'\": 'PROPN'}, {'5': 'NUM'}, {\"'\": 'NUM'}, {',': 'PUNCT'}, {'\"': 'PUNCT'}, {',': 'PUNCT'}, {'\"': 'PUNCT'}, {\"'\": 'PUNCT'}, {'Sepal': 'NOUN'}, {\"'\": 'PUNCT'}, {',': 'PUNCT'}, {'\"': 'PUNCT'}, {',': 'PUNCT'}, {'\"': 'PUNCT'}, {\"'\": 'PUNCT'}, {'Lengths': 'NOUN'}, {\"'\": 'NUM'}, {',': 'PUNCT'}, {'\"': 'PUNCT'}, {',': 'PUNCT'}, {'\"': 'PUNCT'}, {\"'\": 'PUNCT'}, {'within': 'ADP'}, {\"'\": 'PUNCT'}, {',': 'PUNCT'}, {'\"': 'PUNCT'}, {',': 'PUNCT'}, {'\"': 'PUNCT'}, {\"'\": 'PUNCT'}, {'Iris': 'PROPN'}, {\"'\": 'NUM'}, {',': 'PUNCT'}, {'\"': 'PUNCT'}, {',': 'PUNCT'}, {'\"': 'PUNCT'}, {\"'\": 'PUNCT'}, {'virginica': 'X'}, {\"'\": 'PUNCT'}, {',': 'PUNCT'}, {'\"': 'PUNCT'}, {',': 'PUNCT'}, {'\"': 'PUNCT'}, {\"'\": 'PUNCT'}, {'only': 'ADV'}, {\"'\": 'PUNCT'}, {']': 'X'}, {'\"': 'PUNCT'}, {']': 'PUNCT'}, {'[': 'X'}, {'\"': 'PUNCT'}, {'[': 'X'}, {\"'\": 'X'}, {'Iris': 'PROPN'}, {\"'\": 'PROPN'}, {',': 'PUNCT'}, {'\"': 'PUNCT'}, {',': 'PUNCT'}, {'\"': 'PUNCT'}, {\"'\": 'PUNCT'}, {'flowers': 'NOUN'}, {\"'\": 'PART'}, {',': 'PUNCT'}, {'\"': 'PUNCT'}, {',': 'PUNCT'}, {'\"': 'PUNCT'}, {\"'\": 'PUNCT'}, {'with': 'ADP'}, {\"'\": 'PROPN'}, {',': 'PUNCT'}, {'\"': 'PUNCT'}, {',': 'PUNCT'}, {'\"': 'PUNCT'}, {\"'\": 'PUNCT'}, {'Petal': 'ADJ'}, {\"'\": 'PUNCT'}, {',': 'PUNCT'}, {'\"': 'PUNCT'}, {',': 'PUNCT'}, {'\"': 'PUNCT'}, {\"'\": 'PUNCT'}, {'Width': 'PROPN'}, {\"'\": 'PUNCT'}, {',': 'PUNCT'}, {'\"': 'PUNCT'}, {',': 'PUNCT'}, {'\"': 'PUNCT'}, {\"'\": 'PUNCT'}, {'in': 'ADP'}, {\"'\": 'NUM'}, {',': 'PUNCT'}, {'\"': 'PUNCT'}, {',': 'PUNCT'}, {'\"': 'PUNCT'}, {\"'\": 'PUNCT'}, {'the': 'PRON'}, {\"'\": 'PUNCT'}, {',': 'PUNCT'}, {'\"': 'PUNCT'}, {',': 'PUNCT'}, {'\"': 'PUNCT'}, {\"'\": 'PUNCT'}, {'bottom': 'ADJ'}, {\"'\": 'PUNCT'}, {',': 'PUNCT'}, {'\"': 'PUNCT'}, {',': 'PUNCT'}, {'\"': 'PUNCT'}, {\"'\": 'PUNCT'}, {'10th': 'X'}, {\"'\": 'PUNCT'}, {',': 'PUNCT'}, {'\"': 'PUNCT'}, {',': 'PUNCT'}, {'\"': 'PUNCT'}, {\"'\": 'PUNCT'}, {'percentile': 'VERB'}, {\"'\": 'PUNCT'}, {']': 'PUNCT'}, {'\"': 'PUNCT'}, {']': 'PUNCT'}, {'[': 'X'}, {'\"': 'PUNCT'}, {'[': 'X'}, {\"'\": 'PUNCT'}, {'Average': 'ADJ'}, {\"'\": 'PUNCT'}, {',': 'PUNCT'}, {'\"': 'PUNCT'}, {',': 'PUNCT'}, {'\"': 'PUNCT'}, {\"'\": 'PUNCT'}, {'Sepal': 'NOUN'}, {\"'\": 'PUNCT'}, {',': 'PUNCT'}, {'\"': 'PUNCT'}, {',': 'PUNCT'}, {'\"': 'PUNCT'}, {\"'\": 'PUNCT'}, {'Length': 'PROPN'}, {\"'\": 'PUNCT'}, {',': 'PUNCT'}, {'\"': 'PUNCT'}, {',': 'PUNCT'}, {'\"': 'PUNCT'}, {\"'\": 'PUNCT'}, {'for': 'ADP'}, {\"'\": 'NUM'}, {',': 'PUNCT'}, {'\"': 'PUNCT'}, {',': 'PUNCT'}, {'\"': 'PUNCT'}, {\"'\": 'PUNCT'}, {'each': 'PRON'}, {\"'\": 'PUNCT'}, {',': 'PUNCT'}, {'\"': 'PUNCT'}, {',': 'PUNCT'}, {'\"': 'PUNCT'}, {\"'\": 'PUNCT'}, {'species': 'NOUN'}, {\"'\": 'PUNCT'}, {']': 'PUNCT'}, {'\"': 'PUNCT'}, {']': 'PUNCT'}, {'[': 'X'}, {'\"': 'PUNCT'}, {'[': 'X'}, {\"'\": 'X'}, {'Entries': 'NOUN'}, {\"'\": 'PUNCT'}, {',': 'PUNCT'}, {'\"': 'PUNCT'}, {',': 'PUNCT'}, {'\"': 'PUNCT'}, {\"'\": 'PUNCT'}, {'with': 'ADP'}, {\"'\": 'PROPN'}, {',': 'PUNCT'}, {'\"': 'PUNCT'}, {',': 'PUNCT'}, {'\"': 'PUNCT'}, {\"'\": 'PUNCT'}, {'Petal': 'ADJ'}, {\"'\": 'PUNCT'}, {',': 'PUNCT'}, {'\"': 'PUNCT'}, {',': 'PUNCT'}, {'\"': 'PUNCT'}, {\"'\": 'PUNCT'}, {'Length': 'PROPN'}, {\"'\": 'PUNCT'}, {',': 'PUNCT'}, {'\"': 'PUNCT'}, {',': 'PUNCT'}, {'\"': 'PUNCT'}, {\"'\": 'PUNCT'}, {'between': 'ADP'}, {\"'\": 'PUNCT'}, {',': 'PUNCT'}, {'\"': 'PUNCT'}, {',': 'PUNCT'}, {'\"': 'PUNCT'}, {\"'\": 'PROPN'}, {'4': 'NUM'}, {\"'\": 'NUM'}, {',': 'PUNCT'}, {'\"': 'PUNCT'}, {',': 'PUNCT'}, {'\"': 'PUNCT'}, {\"'\": 'PUNCT'}, {'.': 'PUNCT'}, {\"'\": 'PUNCT'}, {',': 'PUNCT'}, {'\"': 'PUNCT'}, {',': 'PUNCT'}, {'\"': 'PUNCT'}, {\"'\": 'PUNCT'}, {'0': 'X'}, {\"'\": 'PUNCT'}, {',': 'PUNCT'}, {'\"': 'PUNCT'}, {',': 'PUNCT'}, {'\"': 'PUNCT'}, {\"'\": 'PUNCT'}, {'and': 'CCONJ'}, {\"'\": 'NUM'}, {',': 'PUNCT'}, {'\"': 'PUNCT'}, {',': 'PUNCT'}, {'\"': 'PUNCT'}, {\"'\": 'PROPN'}, {'5': 'NUM'}, {\"'\": 'NUM'}, {',': 'PUNCT'}, {'\"': 'PUNCT'}, {',': 'PUNCT'}, {'\"': 'PUNCT'}, {\"'\": 'PUNCT'}, {'.': 'PUNCT'}, {\"'\": 'PUNCT'}, {',': 'PUNCT'}, {'\"': 'PUNCT'}, {',': 'PUNCT'}, {'\"': 'PUNCT'}, {\"'\": 'PUNCT'}, {'0': 'X'}, {\"'\": 'PUNCT'}, {',': 'PUNCT'}, {'\"': 'PUNCT'}, {',': 'PUNCT'}, {'\"': 'PUNCT'}, {\"'\": 'PUNCT'}, {'for': 'ADP'}, {\"'\": 'NUM'}, {',': 'PUNCT'}, {'\"': 'PUNCT'}, {',': 'PUNCT'}, {'\"': 'PUNCT'}, {\"'\": 'PUNCT'}, {'Iris': 'PROPN'}, {\"'\": 'NUM'}, {',': 'PUNCT'}, {'\"': 'PUNCT'}, {',': 'PUNCT'}, {'\"': 'PUNCT'}, {\"'\": 'PUNCT'}, {'setosa': 'VERB'}, {\"'\": 'PUNCT'}, {']': 'PUNCT'}, {'\"': 'PUNCT'}, {']': 'PUNCT'}, {'[': 'X'}, {'\"': 'PUNCT'}, {'[': 'X'}, {\"'\": 'X'}, {'Count': 'PROPN'}, {\"'\": 'PUNCT'}, {',': 'PUNCT'}, {'\"': 'PUNCT'}, {',': 'PUNCT'}, {'\"': 'PUNCT'}, {\"'\": 'PUNCT'}, {'Iris': 'PROPN'}, {\"'\": 'NUM'}, {',': 'PUNCT'}, {'\"': 'PUNCT'}, {',': 'PUNCT'}, {'\"': 'PUNCT'}, {\"'\": 'PUNCT'}, {'flowers': 'NOUN'}, {\"'\": 'PART'}, {',': 'PUNCT'}, {'\"': 'PUNCT'}, {',': 'PUNCT'}, {'\"': 'PUNCT'}, {\"'\": 'PUNCT'}, {'where': 'SCONJ'}, {\"'\": 'NUM'}, {',': 'PUNCT'}, {'\"': 'PUNCT'}, {',': 'PUNCT'}, {'\"': 'PUNCT'}, {\"'\": 'PUNCT'}, {'the': 'DET'}, {\"'\": 'PUNCT'}, {',': 'PUNCT'}, {'\"': 'PUNCT'}, {',': 'PUNCT'}, {'\"': 'PUNCT'}, {\"'\": 'PUNCT'}, {'Species': 'NOUN'}, {\"'\": 'PUNCT'}, {',': 'PUNCT'}, {'\"': 'PUNCT'}, {',': 'PUNCT'}, {'\"': 'PUNCT'}, {\"'\": 'PUNCT'}, {'name': 'NOUN'}, {\"'\": 'PUNCT'}, {',': 'PUNCT'}, {'\"': 'PUNCT'}, {',': 'PUNCT'}, {'\"': 'PUNCT'}, {\"'\": 'PUNCT'}, {'contains': 'VERB'}, {\"'\": 'PUNCT'}, {',': 'PUNCT'}, {'\"': 'PUNCT'}, {',': 'PUNCT'}, {\"'\": 'PUNCT'}, {'\"': 'PUNCT'}, {'\\\\': 'PROPN'}, {\"'\": 'PUNCT'}, {'\"': 'PUNCT'}, {',': 'PUNCT'}, {\"'\": 'PUNCT'}, {',': 'PUNCT'}, {'\"': 'PUNCT'}, {\"'\": 'PUNCT'}, {'color': 'NOUN'}, {\"'\": 'PUNCT'}, {',': 'PUNCT'}, {'\"': 'PUNCT'}, {',': 'PUNCT'}, {\"'\": 'PUNCT'}, {'\"': 'PUNCT'}, {'\\\\': 'PROPN'}, {\"'\": 'PUNCT'}, {'\"': 'PUNCT'}, {']': 'PUNCT'}, {\"'\": 'X'}, {']': 'PUNCT'}, {'[': 'X'}, {'\"': 'PUNCT'}, {'[': 'X'}, {\"'\": 'PUNCT'}, {'List': 'NOUN'}, {\"'\": 'PUNCT'}, {',': 'PUNCT'}, {'\"': 'PUNCT'}, {',': 'PUNCT'}, {'\"': 'PUNCT'}, {\"'\": 'PUNCT'}, {'all': 'PRON'}, {\"'\": 'PROPN'}, {',': 'PUNCT'}, {'\"': 'PUNCT'}, {',': 'PUNCT'}, {'\"': 'PUNCT'}, {\"'\": 'PUNCT'}, {'Iris': 'PROPN'}, {\"'\": 'NUM'}, {',': 'PUNCT'}, {'\"': 'PUNCT'}, {',': 'PUNCT'}, {'\"': 'PUNCT'}, {\"'\": 'PUNCT'}, {'flowers': 'NOUN'}, {\"'\": 'PART'}, {',': 'PUNCT'}, {'\"': 'PUNCT'}, {',': 'PUNCT'}, {'\"': 'PUNCT'}, {\"'\": 'PUNCT'}, {'where': 'SCONJ'}, {\"'\": 'NUM'}, {',': 'PUNCT'}, {'\"': 'PUNCT'}, {',': 'PUNCT'}, {'\"': 'PUNCT'}, {\"'\": 'PUNCT'}, {'the': 'DET'}, {\"'\": 'PUNCT'}, {',': 'PUNCT'}, {'\"': 'PUNCT'}, {',': 'PUNCT'}, {'\"': 'PUNCT'}, {\"'\": 'PUNCT'}, {'Species': 'NOUN'}, {\"'\": 'PUNCT'}, {',': 'PUNCT'}, {'\"': 'PUNCT'}, {',': 'PUNCT'}, {'\"': 'PUNCT'}, {\"'\": 'PUNCT'}, {'name': 'NOUN'}, {\"'\": 'PUNCT'}, {',': 'PUNCT'}, {'\"': 'PUNCT'}, {',': 'PUNCT'}, {'\"': 'PUNCT'}, {\"'\": 'PUNCT'}, {'starts': 'VERB'}, {\"'\": 'PUNCT'}, {',': 'PUNCT'}, {'\"': 'PUNCT'}, {',': 'PUNCT'}, {'\"': 'PUNCT'}, {\"'\": 'PUNCT'}, {'with': 'ADP'}, {\"'\": 'PROPN'}, {',': 'PUNCT'}, {'\"': 'PUNCT'}, {',': 'PUNCT'}, {\"'\": 'PUNCT'}, {'\"': 'PUNCT'}, {'\\\\': 'PROPN'}, {\"'\": 'PUNCT'}, {'\"': 'PUNCT'}, {',': 'PUNCT'}, {\"'\": 'PUNCT'}, {',': 'PUNCT'}, {'\"': 'PUNCT'}, {\"'\": 'PUNCT'}, {'Iri': 'PROPN'}, {\"'\": 'PROPN'}, {',': 'PUNCT'}, {'\"': 'PUNCT'}, {',': 'PUNCT'}, {\"'\": 'PUNCT'}, {'\"': 'PUNCT'}, {'\\\\': 'PROPN'}, {\"'\": 'PUNCT'}, {'\"': 'PUNCT'}, {',': 'PUNCT'}, {\"'\": 'PUNCT'}, {',': 'PUNCT'}, {'\"': 'PUNCT'}, {\"'\": 'PUNCT'}, {'and': 'CCONJ'}, {\"'\": 'NUM'}, {',': 'PUNCT'}, {'\"': 'PUNCT'}, {',': 'PUNCT'}, {'\"': 'PUNCT'}, {\"'\": 'PUNCT'}, {'ends': 'VERB'}, {\"'\": 'PUNCT'}, {',': 'PUNCT'}, {'\"': 'PUNCT'}, {',': 'PUNCT'}, {'\"': 'PUNCT'}, {\"'\": 'PUNCT'}, {'with': 'ADP'}, {\"'\": 'PROPN'}, {',': 'PUNCT'}, {'\"': 'PUNCT'}, {',': 'PUNCT'}, {\"'\": 'PUNCT'}, {'\"': 'PUNCT'}, {'\\\\': 'PROPN'}, {\"'\": 'PUNCT'}, {'\"': 'PUNCT'}, {',': 'PUNCT'}, {\"'\": 'PUNCT'}, {',': 'PUNCT'}, {'\"': 'PUNCT'}, {\"'\": 'PUNCT'}, {'a': 'DET'}, {\"'\": 'PUNCT'}, {',': 'PUNCT'}, {'\"': 'PUNCT'}, {',': 'PUNCT'}, {\"'\": 'PUNCT'}, {'\"': 'PUNCT'}, {'\\\\': 'PROPN'}, {\"'\": 'PUNCT'}, {'\"': 'PUNCT'}, {']': 'PUNCT'}, {\"'\": 'X'}, {']': 'PUNCT'}]\n",
            "Tokenized Description : ['NOUN', 'X', 'NUM', 'PRON', 'DET', 'AUX', 'ADP', 'VERB', 'ADV', 'SCONJ', 'INTJ', 'PROPN', 'CCONJ', 'PART', 'ADJ', 'PUNCT']\n"
          ]
        }
      ]
    },
    {
      "cell_type": "code",
      "source": [
        "for pat in p_d:\n",
        "   print({pat:p_d[pat]})"
      ],
      "metadata": {
        "id": "s-yND2LbWjGZ",
        "colab": {
          "base_uri": "https://localhost:8080/"
        },
        "outputId": "02761545-04e1-457d-a0cf-c8a5df2a509f"
      },
      "execution_count": 76,
      "outputs": [
        {
          "output_type": "stream",
          "name": "stdout",
          "text": [
            "{'NOUN': ['Entries', 'flowers', 'types', 'points', 'Determine', 'Species', 'C', 'field', 'Number', 'List', 'data', 'Lengths', 'species', 'value', 'number', 'observation', 'entries', 'name', 'color', 'flower', 'Sepal', 'versicolor', 'order', 'occurrences', 'month', 'year', 'records', 'Widths', 'Display']}\n",
            "{'X': ['1', '[', '0', 'Length', 'virginica', 'median', ']', \"'\", '2', '10th']}\n",
            "{'NUM': ['4', '5', '10', \"'\", '3']}\n",
            "{'PRON': ['both', 'the', 'a', 'this', 'there', 'all', 'each', 'What']}\n",
            "{'DET': ['the', 'a']}\n",
            "{'AUX': ['is', 'are', \"'s\"]}\n",
            "{'ADP': ['with', 'in', 'from', 'between', 'of', 'above', 'at', 'over', 'within', 'across', 'than', 'by', 'for']}\n",
            "{'VERB': ['Date', 'sorted', 'setosa', 'percentile', 'dataset', 'Aggregate', 'descending', \"'\", 'recorded', 'contains', 'Calculate', 'Organize', 'found', 'starting', 'ends', 'top', 'assuming', 'grouped', 'start', 'ascending', 'ica', 'Find', 'Show', 'show', 'Setosa', 'count', 'starts']}\n",
            "{'ADV': ['alphabetically', 'Sort', 'exactly', 'only']}\n",
            "{'SCONJ': ['where', 'How', 'how']}\n",
            "{'INTJ': ['%']}\n",
            "{'PROPN': ['\\\\', 'Iris', 'Rank', 'Sum', 'Length', 'Count', 'Se', 'Group', 'Filter', 'Width', \"'\", 'Median', 'January', 'Species', 'Iri']}\n",
            "{'CCONJ': ['and', 'or']}\n",
            "{'PART': [\"'\", 'not', 'to']}\n",
            "{'ADJ': ['Average', 'average', 'low', 'smallest', 'greater', 'Distinct', 'Top', 'Highest', 'high', 'many', 'bottom', 'highest', 'unique', 'less', 'Minimum', 'Total', 'Maximum', 'Petal', 'total', 'distinct', 'last', 'equal', 'Lowest', 'middle', 'least', 'Select']}\n",
            "{'PUNCT': ['(', '.', '?', ']', \"'\", ')', '\"', ',']}\n"
          ]
        }
      ]
    },
    {
      "cell_type": "code",
      "source": [
        "p_t=dg_ent['Patterns_Formula(Tableau)']=get_patterns(formulas,'vocab')"
      ],
      "metadata": {
        "id": "n0kwSUbJRzYG",
        "colab": {
          "base_uri": "https://localhost:8080/"
        },
        "outputId": "3cb40f9f-ea52-48a3-b432-943f79fb4f7f"
      },
      "execution_count": 77,
      "outputs": [
        {
          "output_type": "stream",
          "name": "stdout",
          "text": [
            "[{'[': 'X'}, {\"'\": 'NUM'}, {'4': 'NUM'}, {\"'\": 'PUNCT'}, {']': 'PUNCT'}, {'[': 'X'}, {\"'\": 'PUNCT'}, {'AND': 'CCONJ'}, {\"'\": 'PUNCT'}, {']': 'PUNCT'}, {'[': 'X'}, {\"'\": 'PUNCT'}, {'DESC': 'VERB'}, {\"'\": 'PUNCT'}, {']': 'PUNCT'}, {'[': 'X'}, {\"'\": 'NUM'}, {'5': 'NUM'}, {\"'\": 'PUNCT'}, {']': 'PUNCT'}, {'[': 'X'}, {\"'\": 'PROPN'}, {'=': 'X'}, {\"'\": 'X'}, {']': 'PUNCT'}, {'[': 'X'}, {\"'\": 'PUNCT'}, {'Date': 'PROPN'}, {\"'\": 'PUNCT'}, {']': 'PUNCT'}, {'[': 'X'}, {\"'\": 'NUM'}, {'0': 'NUM'}, {\"'\": 'PUNCT'}, {']': 'PUNCT'}, {'[': 'X'}, {\"'\": 'PUNCT'}, {'setosa': 'X'}, {\"'\": 'PUNCT'}, {']': 'PUNCT'}, {'[': 'X'}, {\"'\": 'PUNCT'}, {'DISTINCT': 'NOUN'}, {\"'\": 'PUNCT'}, {']': 'PUNCT'}, {'[': 'X'}, {\"'\": 'PUNCT'}, {':': 'PUNCT'}, {\"'\": 'PUNCT'}, {']': 'PUNCT'}, {'[': 'X'}, {\"'\": 'PUNCT'}, {'STARTSWITH': 'X'}, {\"'\": 'NOUN'}, {']': 'PUNCT'}, {'[': 'X'}, {\"'\": 'PUNCT'}, {'LISTED': 'VERB'}, {\"'\": 'PUNCT'}, {']': 'PUNCT'}, {'[': 'X'}, {\"'\": 'VERB'}, {'>': 'X'}, {\"'\": 'PUNCT'}, {']': 'PUNCT'}, {'[': 'X'}, {\"'\": 'PUNCT'}, {'RANK': 'VERB'}, {\"'\": 'PUNCT'}, {']': 'PUNCT'}, {'[': 'X'}, {\"'\": 'VERB'}, {'SORT': 'ADV'}, {\"'\": 'NOUN'}, {']': 'PUNCT'}, {'[': 'X'}, {\"'\": 'VERB'}, {'{': 'PUNCT'}, {\"'\": 'PROPN'}, {']': 'PUNCT'}, {'[': 'X'}, {\"'\": 'PUNCT'}, {'FROM': 'ADP'}, {\"'\": 'PUNCT'}, {']': 'PUNCT'}, {'[': 'X'}, {\"'\": 'VERB'}, {'FIXED': 'NOUN'}, {\"'\": 'PUNCT'}, {']': 'PUNCT'}, {'[': 'X'}, {\"'\": 'PUNCT'}, {'Species': 'NOUN'}, {\"'\": 'PUNCT'}, {']': 'PUNCT'}, {'[': 'X'}, {\"'\": 'X'}, {'<': 'X'}, {\"'\": 'PUNCT'}, {']': 'PUNCT'}, {'[': 'X'}, {\"'\": 'X'}, {'ORDER': 'NOUN'}, {\"'\": 'PUNCT'}, {']': 'PUNCT'}, {'[': 'X'}, {\"'\": 'PROPN'}, {'END': 'PROPN'}, {\"'\": 'PUNCT'}, {']': 'PUNCT'}, {'[': 'X'}, {\"'\": 'VERB'}, {'}': 'PRON'}, {\"'\": 'PUNCT'}, {']': 'PUNCT'}, {'[': 'X'}, {\"'\": 'PUNCT'}, {'IF': 'SCONJ'}, {\"'\": 'NOUN'}, {']': 'PUNCT'}, {'[': 'X'}, {\"'\": 'VERB'}, {'THEN': 'ADV'}, {\"'\": 'PUNCT'}, {']': 'PUNCT'}, {'[': 'X'}, {\"'\": 'X'}, {'MAX': 'PROPN'}, {\"'\": 'PUNCT'}, {']': 'PUNCT'}, {'[': 'X'}, {\"'\": 'VERB'}, {'ENDSWITH': 'NOUN'}, {\"'\": 'PUNCT'}, {']': 'PUNCT'}, {'[': 'X'}, {\"'\": 'PUNCT'}, {'highest': 'ADJ'}, {\"'\": 'PUNCT'}, {']': 'PUNCT'}, {'[': 'X'}, {\"'\": 'PUNCT'}, {'\"': 'PUNCT'}, {\"'\": 'PUNCT'}, {']': 'PUNCT'}, {'[': 'X'}, {\"'\": 'PUNCT'}, {'NULL': 'PROPN'}, {\"'\": 'PUNCT'}, {']': 'PUNCT'}, {'[': 'X'}, {\"'\": 'PUNCT'}, {'ELSE': 'ADV'}, {\"'\": 'PUNCT'}, {']': 'PUNCT'}, {'[': 'X'}, {\"'\": 'X'}, {'*': 'X'}, {\"'\": 'X'}, {']': 'PUNCT'}, {'[': 'X'}, {\"'\": 'NUM'}, {'2': 'NUM'}, {\"'\": 'PUNCT'}, {']': 'PUNCT'}, {'[': 'X'}, {\"'\": 'PUNCT'}, {'WITH': 'ADP'}, {\"'\": 'PUNCT'}, {']': 'PUNCT'}, {'[': 'X'}, {\"'\": 'VERB'}, {'LEFT': 'PROPN'}, {\"'\": 'PUNCT'}, {']': 'PUNCT'}, {'[': 'X'}, {\"'\": 'PUNCT'}, {'MIN': 'PROPN'}, {\"'\": 'PROPN'}, {']': 'PUNCT'}, {'[': 'X'}, {\"'\": 'PUNCT'}, {'to': 'PART'}, {\"'\": 'PUNCT'}, {']': 'PUNCT'}, {'[': 'X'}, {\"'\": 'PUNCT'}, {'BETWEEN': 'ADP'}, {\"'\": 'PUNCT'}, {']': 'PUNCT'}, {'[': 'X'}, {\"'\": 'PROPN'}, {'INDEX': 'NOUN'}, {\"'\": 'PUNCT'}, {']': 'PUNCT'}, {'[': 'X'}, {\"'\": 'INTJ'}, {'-': 'VERB'}, {\"'\": 'PUNCT'}, {']': 'PUNCT'}, {'[': 'X'}, {\"'\": 'X'}, {'ASC': 'PROPN'}, {\"'\": 'PUNCT'}, {']': 'PUNCT'}, {'[': 'X'}, {\"'\": 'PROPN'}, {'AVG': 'PROPN'}, {\"'\": 'PUNCT'}, {']': 'PUNCT'}, {'[': 'X'}, {\"'\": 'PUNCT'}, {'SORTED': 'ADJ'}, {\"'\": 'PUNCT'}, {']': 'PUNCT'}, {'[': 'X'}, {\"'\": 'X'}, {'COUNT': 'PROPN'}, {\"'\": 'PUNCT'}, {']': 'PUNCT'}, {'[': 'X'}, {\"'\": 'PUNCT'}, {'color': 'NOUN'}, {\"'\": 'PUNCT'}, {']': 'PUNCT'}, {'[': 'X'}, {\"'\": 'X'}, {'versicolor': 'NOUN'}, {\"'\": 'PUNCT'}, {']': 'PUNCT'}, {'[': 'X'}, {\"'\": 'VERB'}, {'SUM': 'PROPN'}, {\"'\": 'PUNCT'}, {']': 'PUNCT'}, {'[': 'X'}, {\"'\": 'PUNCT'}, {'lowest': 'ADJ'}, {\"'\": 'PUNCT'}, {']': 'PUNCT'}, {'[': 'X'}, {\"'\": 'PUNCT'}, {'CONTAINS': 'X'}, {\"'\": 'PUNCT'}, {']': 'PUNCT'}, {'[': 'X'}, {\"'\": 'VERB'}, {'”': 'PUNCT'}, {\"'\": 'PUNCT'}, {']': 'PUNCT'}, {'[': 'X'}, {\"'\": 'NOUN'}, {'1': 'NUM'}, {\"'\": 'NUM'}, {']': 'PUNCT'}, {'[': 'X'}, {\"'\": 'PUNCT'}, {'“': 'PUNCT'}, {\"'\": 'PUNCT'}, {']': 'PUNCT'}, {'[': 'X'}, {\"'\": 'VERB'}, {'DATETRUNC': 'PROPN'}, {\"'\": 'PUNCT'}, {']': 'PUNCT'}, {'[': 'X'}, {\"'\": 'NOUN'}, {'month': 'NOUN'}, {\"'\": 'PUNCT'}, {']': 'PUNCT'}, {'[': 'X'}, {\"'\": 'NOUN'}, {'virginica': 'X'}, {\"'\": 'PUNCT'}, {']': 'PUNCT'}, {'[': 'X'}, {\"'\": 'PROPN'}, {'TOP': 'NUM'}, {\"'\": 'PUNCT'}, {']': 'PUNCT'}, {'[': 'X'}, {\"'\": 'PUNCT'}, {'!': 'PUNCT'}, {\"'\": 'PUNCT'}, {']': 'PUNCT'}, {'[': 'X'}, {\"'\": 'VERB'}, {'TODAY': 'NOUN'}, {\"'\": 'PUNCT'}, {']': 'PUNCT'}, {'[': 'X'}, {\"'\": 'NUM'}, {'9': 'NUM'}, {\"'\": 'PUNCT'}, {']': 'PUNCT'}, {'[': 'X'}, {\"'\": 'PUNCT'}, {'Setosa': 'PROPN'}, {\"'\": 'PUNCT'}, {']': 'PUNCT'}, {'[': 'X'}, {\"'\": 'X'}, {'YEAR': 'NOUN'}, {\"'\": 'PUNCT'}, {']': 'PUNCT'}, {'[': 'X'}, {\"'\": 'X'}, {'COUNTD': 'PROPN'}, {\"'\": 'PUNCT'}, {']': 'PUNCT'}, {'[': 'X'}, {\"'\": 'PUNCT'}, {'year': 'NOUN'}, {\"'\": 'PUNCT'}, {']': 'PUNCT'}, {'[': 'X'}, {\"'\": 'NOUN'}, {'RANK_PERCENTILE': 'AUX'}, {\"'\": 'PUNCT'}, {']': 'PUNCT'}, {'[': 'X'}, {\"'\": 'PUNCT'}, {'alphabetically': 'ADV'}, {\"'\": 'VERB'}, {']': 'PUNCT'}, {'[': 'X'}, {\"'\": 'NUM'}, {'3': 'NUM'}, {\"'\": 'PUNCT'}, {']': 'PUNCT'}, {'[': 'X'}, {\"'\": 'X'}, {'GROUP': 'PROPN'}, {\"'\": 'PUNCT'}, {']': 'PUNCT'}, {'[': 'X'}, {\"'\": 'PROPN'}, {'STARTS': 'PROPN'}, {\"'\": 'PUNCT'}, {']': 'PUNCT'}, {'[': 'X'}, {'\"': 'PUNCT'}, {\"'\": 'PUNCT'}, {',': 'PUNCT'}, {'\"': 'PUNCT'}, {']': 'PUNCT'}, {'[': 'X'}, {\"'\": 'PUNCT'}, {'MEDIAN': 'PROPN'}, {\"'\": 'PUNCT'}, {']': 'PUNCT'}]\n",
            "vocab : ['NOUN', 'X', 'NUM', 'PRON', 'AUX', 'ADP', 'VERB', 'ADV', 'SCONJ', 'INTJ', 'PROPN', 'CCONJ', 'PART', 'ADJ', 'PUNCT']\n"
          ]
        }
      ]
    },
    {
      "cell_type": "code",
      "source": [
        "for pat in p_t:\n",
        "    print({pat:p_t[pat]})"
      ],
      "metadata": {
        "id": "cHOL5YYISCbK",
        "colab": {
          "base_uri": "https://localhost:8080/"
        },
        "outputId": "80260795-aeba-4fbc-a37d-47ca17ec2440"
      },
      "execution_count": 78,
      "outputs": [
        {
          "output_type": "stream",
          "name": "stdout",
          "text": [
            "{'NOUN': ['ORDER', 'month', 'DISTINCT', 'INDEX', 'TODAY', 'YEAR', \"'\", 'color', 'ENDSWITH', 'year', 'versicolor', 'FIXED', 'Species']}\n",
            "{'X': ['setosa', '=', '[', 'virginica', 'STARTSWITH', '>', \"'\", 'CONTAINS', '*', '<']}\n",
            "{'NUM': ['4', '5', '1', '0', 'TOP', '9', \"'\", '3', '2']}\n",
            "{'PRON': ['}']}\n",
            "{'AUX': ['RANK_PERCENTILE']}\n",
            "{'ADP': ['BETWEEN', 'WITH', 'FROM']}\n",
            "{'VERB': ['DESC', '-', 'LISTED', 'RANK', \"'\"]}\n",
            "{'ADV': ['alphabetically', 'ELSE', 'SORT', 'THEN']}\n",
            "{'SCONJ': ['IF']}\n",
            "{'INTJ': [\"'\"]}\n",
            "{'PROPN': ['Date', 'MIN', 'DATETRUNC', 'END', 'MEDIAN', 'ASC', 'AVG', 'MAX', 'Setosa', \"'\", 'COUNT', 'COUNTD', 'GROUP', 'NULL', 'STARTS', 'SUM', 'LEFT']}\n",
            "{'CCONJ': ['AND']}\n",
            "{'PART': ['to']}\n",
            "{'ADJ': ['lowest', 'SORTED', 'highest']}\n",
            "{'PUNCT': ['”', '“', ':', '!', ']', \"'\", '{', '\"', ',']}\n"
          ]
        }
      ]
    },
    {
      "cell_type": "code",
      "source": [
        "p_t=dg_ent['Patterns_Formula(Tableau)']=get_patterns(dg_tok,dg_tok.columns[1])"
      ],
      "metadata": {
        "id": "DuFe80bLPerP",
        "colab": {
          "base_uri": "https://localhost:8080/"
        },
        "outputId": "e68ea443-6d56-40df-e6e5-09dc278dc5e2"
      },
      "execution_count": 79,
      "outputs": [
        {
          "output_type": "stream",
          "name": "stdout",
          "text": [
            "[{'[': 'X'}, {'\"': 'PUNCT'}, {'[': 'X'}, {\"'\": 'VERB'}, {'SUM': 'NOUN'}, {\"'\": 'PUNCT'}, {',': 'PUNCT'}, {'\"': 'PUNCT'}, {',': 'PUNCT'}, {'\"': 'PUNCT'}, {\"'\": 'PUNCT'}, {'Sepal': 'NOUN'}, {\"'\": 'PUNCT'}, {',': 'PUNCT'}, {'\"': 'PUNCT'}, {',': 'PUNCT'}, {'\"': 'PUNCT'}, {\"'\": 'PUNCT'}, {'Length': 'X'}, {\"'\": 'PUNCT'}, {']': 'PUNCT'}, {'\"': 'PUNCT'}, {']': 'PUNCT'}, {'[': 'X'}, {'\"': 'PUNCT'}, {'[': 'X'}, {\"'\": 'X'}, {'AVG': 'PROPN'}, {\"'\": 'NUM'}, {',': 'PUNCT'}, {'\"': 'PUNCT'}, {',': 'PUNCT'}, {'\"': 'PUNCT'}, {\"'\": 'PUNCT'}, {'Sepal': 'NOUN'}, {\"'\": 'PUNCT'}, {',': 'PUNCT'}, {'\"': 'PUNCT'}, {',': 'PUNCT'}, {'\"': 'PUNCT'}, {\"'\": 'PUNCT'}, {'Width': 'PROPN'}, {\"'\": 'PUNCT'}, {']': 'PUNCT'}, {'\"': 'PUNCT'}, {']': 'PUNCT'}, {'[': 'X'}, {'\"': 'PUNCT'}, {'[': 'X'}, {\"'\": 'X'}, {'MEDIAN': 'PROPN'}, {\"'\": 'PUNCT'}, {',': 'PUNCT'}, {'\"': 'PUNCT'}, {',': 'PUNCT'}, {'\"': 'PUNCT'}, {\"'\": 'PUNCT'}, {'Petal': 'ADJ'}, {\"'\": 'PUNCT'}, {',': 'PUNCT'}, {'\"': 'PUNCT'}, {',': 'PUNCT'}, {'\"': 'PUNCT'}, {\"'\": 'PUNCT'}, {'Length': 'X'}, {\"'\": 'PUNCT'}, {']': 'PUNCT'}, {'\"': 'PUNCT'}, {']': 'PUNCT'}, {'[': 'X'}, {'\"': 'PUNCT'}, {'[': 'X'}, {\"'\": 'X'}, {'COUNT': 'PROPN'}, {\"'\": 'PUNCT'}, {']': 'PUNCT'}, {'\"': 'PUNCT'}, {']': 'PUNCT'}, {'[': 'X'}, {'\"': 'PUNCT'}, {'[': 'X'}, {\"'\": 'X'}, {'COUNT': 'PROPN'}, {\"'\": 'NUM'}, {',': 'PUNCT'}, {'\"': 'PUNCT'}, {',': 'PUNCT'}, {'\"': 'PUNCT'}, {\"'\": 'PUNCT'}, {'DISTINCT': 'VERB'}, {\"'\": 'PUNCT'}, {',': 'PUNCT'}, {'\"': 'PUNCT'}, {',': 'PUNCT'}, {'\"': 'PUNCT'}, {\"'\": 'PUNCT'}, {'Species': 'PROPN'}, {\"'\": 'PUNCT'}, {']': 'PUNCT'}, {'\"': 'PUNCT'}, {']': 'PUNCT'}, {'[': 'X'}, {'\"': 'PUNCT'}, {'[': 'X'}, {\"'\": 'X'}, {'MIN': 'PROPN'}, {\"'\": 'PROPN'}, {',': 'PUNCT'}, {'\"': 'PUNCT'}, {',': 'PUNCT'}, {'\"': 'PUNCT'}, {\"'\": 'PUNCT'}, {'Sepal': 'NOUN'}, {\"'\": 'PUNCT'}, {',': 'PUNCT'}, {'\"': 'PUNCT'}, {',': 'PUNCT'}, {'\"': 'PUNCT'}, {\"'\": 'PUNCT'}, {'Length': 'X'}, {\"'\": 'PUNCT'}, {']': 'PUNCT'}, {'\"': 'PUNCT'}, {']': 'PUNCT'}, {'[': 'X'}, {'\"': 'PUNCT'}, {'[': 'X'}, {\"'\": 'X'}, {'MAX': 'PROPN'}, {\"'\": 'PUNCT'}, {',': 'PUNCT'}, {'\"': 'PUNCT'}, {',': 'PUNCT'}, {'\"': 'PUNCT'}, {\"'\": 'PUNCT'}, {'Petal': 'ADJ'}, {\"'\": 'PUNCT'}, {',': 'PUNCT'}, {'\"': 'PUNCT'}, {',': 'PUNCT'}, {'\"': 'PUNCT'}, {\"'\": 'PUNCT'}, {'Width': 'PROPN'}, {\"'\": 'PUNCT'}, {']': 'PUNCT'}, {'\"': 'PUNCT'}, {']': 'PUNCT'}, {'[': 'X'}, {'\"': 'PUNCT'}, {'[': 'X'}, {\"'\": 'X'}, {'GROUP': 'PROPN'}, {\"'\": 'PUNCT'}, {',': 'PUNCT'}, {'\"': 'PUNCT'}, {',': 'PUNCT'}, {'\"': 'PUNCT'}, {\"'\": 'PUNCT'}, {'BY': 'ADP'}, {\"'\": 'NUM'}, {',': 'PUNCT'}, {'\"': 'PUNCT'}, {',': 'PUNCT'}, {'\"': 'PUNCT'}, {\"'\": 'PUNCT'}, {'Species': 'PROPN'}, {\"'\": 'PUNCT'}, {']': 'PUNCT'}, {'\"': 'PUNCT'}, {']': 'PUNCT'}, {'[': 'X'}, {'\"': 'PUNCT'}, {'[': 'X'}, {\"'\": 'X'}, {'ORDER': 'NOUN'}, {\"'\": 'PUNCT'}, {',': 'PUNCT'}, {'\"': 'PUNCT'}, {',': 'PUNCT'}, {'\"': 'PUNCT'}, {\"'\": 'PUNCT'}, {'BY': 'ADP'}, {\"'\": 'NUM'}, {',': 'PUNCT'}, {'\"': 'PUNCT'}, {',': 'PUNCT'}, {'\"': 'PUNCT'}, {\"'\": 'PUNCT'}, {'Sepal': 'NOUN'}, {\"'\": 'PUNCT'}, {',': 'PUNCT'}, {'\"': 'PUNCT'}, {',': 'PUNCT'}, {'\"': 'PUNCT'}, {\"'\": 'PUNCT'}, {'Length': 'PROPN'}, {\"'\": 'PUNCT'}, {',': 'PUNCT'}, {'\"': 'PUNCT'}, {',': 'PUNCT'}, {'\"': 'PUNCT'}, {\"'\": 'PUNCT'}, {'ASC': 'PROPN'}, {\"'\": 'PUNCT'}, {']': 'PUNCT'}, {'\"': 'PUNCT'}, {']': 'PUNCT'}, {'[': 'X'}, {'\"': 'PUNCT'}, {'[': 'X'}, {\"'\": 'X'}, {'ORDER': 'NOUN'}, {\"'\": 'PUNCT'}, {',': 'PUNCT'}, {'\"': 'PUNCT'}, {',': 'PUNCT'}, {'\"': 'PUNCT'}, {\"'\": 'PUNCT'}, {'BY': 'ADP'}, {\"'\": 'NUM'}, {',': 'PUNCT'}, {'\"': 'PUNCT'}, {',': 'PUNCT'}, {'\"': 'PUNCT'}, {\"'\": 'PUNCT'}, {'Species': 'NOUN'}, {\"'\": 'PUNCT'}, {',': 'PUNCT'}, {'\"': 'PUNCT'}, {',': 'PUNCT'}, {'\"': 'PUNCT'}, {\"'\": 'PUNCT'}, {'ASC': 'PROPN'}, {\"'\": 'PUNCT'}, {']': 'PUNCT'}, {'\"': 'PUNCT'}, {']': 'PUNCT'}, {'[': 'X'}, {'\"': 'PUNCT'}, {'[': 'X'}, {\"'\": 'X'}, {'Sepal': 'NOUN'}, {\"'\": 'PUNCT'}, {',': 'PUNCT'}, {'\"': 'PUNCT'}, {',': 'PUNCT'}, {'\"': 'PUNCT'}, {\"'\": 'PUNCT'}, {'Length': 'PROPN'}, {\"'\": 'PUNCT'}, {',': 'PUNCT'}, {'\"': 'PUNCT'}, {',': 'PUNCT'}, {'\"': 'PUNCT'}, {\"'\": 'PROPN'}, {'5': 'NUM'}, {\"'\": 'NUM'}, {',': 'PUNCT'}, {'\"': 'PUNCT'}, {',': 'PUNCT'}, {'\"': 'PUNCT'}, {\"'\": 'PUNCT'}, {'0': 'X'}, {\"'\": 'PUNCT'}, {']': 'PUNCT'}, {'\"': 'PUNCT'}, {']': 'PUNCT'}, {'[': 'X'}, {'\"': 'PUNCT'}, {'[': 'X'}, {\"'\": 'PUNCT'}, {'Petal': 'ADJ'}, {\"'\": 'PUNCT'}, {',': 'PUNCT'}, {'\"': 'PUNCT'}, {',': 'PUNCT'}, {'\"': 'PUNCT'}, {\"'\": 'PUNCT'}, {'Length': 'PROPN'}, {\"'\": 'PUNCT'}, {',': 'PUNCT'}, {'\"': 'PUNCT'}, {',': 'PUNCT'}, {'\"': 'PUNCT'}, {\"'\": 'PUNCT'}, {'BETWEEN': 'ADP'}, {\"'\": 'PUNCT'}, {',': 'PUNCT'}, {'\"': 'PUNCT'}, {',': 'PUNCT'}, {'\"': 'PUNCT'}, {\"'\": 'PROPN'}, {'1': 'X'}, {\"'\": 'NUM'}, {',': 'PUNCT'}, {'\"': 'PUNCT'}, {',': 'PUNCT'}, {'\"': 'PUNCT'}, {\"'\": 'PROPN'}, {'5': 'NUM'}, {\"'\": 'NUM'}, {',': 'PUNCT'}, {'\"': 'PUNCT'}, {',': 'PUNCT'}, {'\"': 'PUNCT'}, {\"'\": 'PUNCT'}, {'AND': 'CCONJ'}, {\"'\": 'NUM'}, {',': 'PUNCT'}, {'\"': 'PUNCT'}, {',': 'PUNCT'}, {'\"': 'PUNCT'}, {\"'\": 'PROPN'}, {'2': 'X'}, {\"'\": 'NUM'}, {',': 'PUNCT'}, {'\"': 'PUNCT'}, {',': 'PUNCT'}, {'\"': 'PUNCT'}, {\"'\": 'PROPN'}, {'5': 'NUM'}, {\"'\": 'NUM'}, {']': 'PUNCT'}, {'\"': 'PUNCT'}, {']': 'PUNCT'}, {'[': 'X'}, {'\"': 'PUNCT'}, {'[': 'X'}, {\"'\": 'PROPN'}, {'TOP': 'NUM'}, {\"'\": 'PUNCT'}, {',': 'PUNCT'}, {'\"': 'PUNCT'}, {',': 'PUNCT'}, {'\"': 'PUNCT'}, {\"'\": 'PROPN'}, {'3': 'NUM'}, {\"'\": 'NUM'}, {',': 'PUNCT'}, {'\"': 'PUNCT'}, {',': 'PUNCT'}, {'\"': 'PUNCT'}, {\"'\": 'PUNCT'}, {'BY': 'ADP'}, {\"'\": 'NUM'}, {',': 'PUNCT'}, {'\"': 'PUNCT'}, {',': 'PUNCT'}, {'\"': 'PUNCT'}, {\"'\": 'PUNCT'}, {'Sepal': 'NOUN'}, {\"'\": 'PUNCT'}, {',': 'PUNCT'}, {'\"': 'PUNCT'}, {',': 'PUNCT'}, {'\"': 'PUNCT'}, {\"'\": 'PUNCT'}, {'Width': 'PROPN'}, {\"'\": 'PUNCT'}, {',': 'PUNCT'}, {'\"': 'PUNCT'}, {',': 'PUNCT'}, {'\"': 'PUNCT'}, {\"'\": 'PUNCT'}, {'DESC': 'VERB'}, {\"'\": 'PUNCT'}, {']': 'PUNCT'}, {'\"': 'PUNCT'}, {']': 'PUNCT'}, {'[': 'X'}, {'\"': 'PUNCT'}, {'[': 'X'}, {\"'\": 'X'}, {'Species': 'NOUN'}, {\"'\": 'PUNCT'}, {',': 'PUNCT'}, {'\"': 'PUNCT'}, {',': 'PUNCT'}, {'\"': 'PUNCT'}, {\"'\": 'PUNCT'}, {'Setosa': 'PROPN'}, {\"'\": 'PUNCT'}, {']': 'PUNCT'}, {'\"': 'PUNCT'}, {']': 'PUNCT'}, {'[': 'X'}, {'\"': 'PUNCT'}, {'[': 'X'}, {\"'\": 'X'}, {'Species': 'NOUN'}, {\"'\": 'PUNCT'}, {',': 'PUNCT'}, {'\"': 'PUNCT'}, {',': 'PUNCT'}, {'\"': 'PUNCT'}, {\"'\": 'PUNCT'}, {'STARTS': 'PROPN'}, {\"'\": 'NUM'}, {',': 'PUNCT'}, {'\"': 'PUNCT'}, {',': 'PUNCT'}, {'\"': 'PUNCT'}, {\"'\": 'PUNCT'}, {'WITH': 'ADP'}, {\"'\": 'NUM'}, {',': 'PUNCT'}, {'\"': 'PUNCT'}, {',': 'PUNCT'}, {'\"': 'PUNCT'}, {\"'\": 'PUNCT'}, {'Se': 'PROPN'}, {\"'\": 'NUM'}, {']': 'PUNCT'}, {'\"': 'PUNCT'}, {']': 'PUNCT'}, {'[': 'X'}, {'\"': 'PUNCT'}, {'[': 'X'}, {\"'\": 'VERB'}, {'SUM': 'NOUN'}, {\"'\": 'PUNCT'}, {',': 'PUNCT'}, {'\"': 'PUNCT'}, {',': 'PUNCT'}, {'\"': 'PUNCT'}, {\"'\": 'PUNCT'}, {'Petal': 'ADJ'}, {\"'\": 'PUNCT'}, {',': 'PUNCT'}, {'\"': 'PUNCT'}, {',': 'PUNCT'}, {'\"': 'PUNCT'}, {\"'\": 'PUNCT'}, {'Length': 'X'}, {\"'\": 'PUNCT'}, {']': 'PUNCT'}, {'\"': 'PUNCT'}, {']': 'PUNCT'}, {'[': 'X'}, {'\"': 'PUNCT'}, {'[': 'X'}, {\"'\": 'X'}, {'AVG': 'PROPN'}, {\"'\": 'NUM'}, {',': 'PUNCT'}, {'\"': 'PUNCT'}, {',': 'PUNCT'}, {'\"': 'PUNCT'}, {\"'\": 'PUNCT'}, {'Petal': 'ADJ'}, {\"'\": 'PUNCT'}, {',': 'PUNCT'}, {'\"': 'PUNCT'}, {',': 'PUNCT'}, {'\"': 'PUNCT'}, {\"'\": 'PUNCT'}, {'Width': 'PROPN'}, {\"'\": 'PUNCT'}, {']': 'PUNCT'}, {'\"': 'PUNCT'}, {']': 'PUNCT'}, {'[': 'X'}, {'\"': 'PUNCT'}, {'[': 'X'}, {\"'\": 'X'}, {'MEDIAN': 'PROPN'}, {\"'\": 'PUNCT'}, {',': 'PUNCT'}, {'\"': 'PUNCT'}, {',': 'PUNCT'}, {'\"': 'PUNCT'}, {\"'\": 'PUNCT'}, {'Sepal': 'NOUN'}, {\"'\": 'PUNCT'}, {',': 'PUNCT'}, {'\"': 'PUNCT'}, {',': 'PUNCT'}, {'\"': 'PUNCT'}, {\"'\": 'PUNCT'}, {'Width': 'PROPN'}, {\"'\": 'PUNCT'}, {']': 'PUNCT'}, {'\"': 'PUNCT'}, {']': 'PUNCT'}, {'[': 'X'}, {'\"': 'PUNCT'}, {'[': 'X'}, {\"'\": 'X'}, {'COUNT': 'PROPN'}, {\"'\": 'NUM'}, {',': 'PUNCT'}, {'\"': 'PUNCT'}, {',': 'PUNCT'}, {'\"': 'PUNCT'}, {\"'\": 'PUNCT'}, {'Sepal': 'NOUN'}, {\"'\": 'PUNCT'}, {',': 'PUNCT'}, {'\"': 'PUNCT'}, {',': 'PUNCT'}, {'\"': 'PUNCT'}, {\"'\": 'PUNCT'}, {'Length': 'X'}, {\"'\": 'PUNCT'}, {']': 'PUNCT'}, {'\"': 'PUNCT'}, {']': 'PUNCT'}, {'[': 'X'}, {'\"': 'PUNCT'}, {'[': 'X'}, {\"'\": 'VERB'}, {'COUNTD': 'PROPN'}, {\"'\": 'PUNCT'}, {',': 'PUNCT'}, {'\"': 'PUNCT'}, {',': 'PUNCT'}, {'\"': 'PUNCT'}, {\"'\": 'PUNCT'}, {'Species': 'PROPN'}, {\"'\": 'PUNCT'}, {']': 'PUNCT'}, {'\"': 'PUNCT'}, {']': 'PUNCT'}, {'[': 'X'}, {'\"': 'PUNCT'}, {'[': 'X'}, {\"'\": 'X'}, {'MIN': 'PROPN'}, {\"'\": 'PROPN'}, {',': 'PUNCT'}, {'\"': 'PUNCT'}, {',': 'PUNCT'}, {'\"': 'PUNCT'}, {\"'\": 'PUNCT'}, {'Sepal': 'NOUN'}, {\"'\": 'PUNCT'}, {',': 'PUNCT'}, {'\"': 'PUNCT'}, {',': 'PUNCT'}, {'\"': 'PUNCT'}, {\"'\": 'PUNCT'}, {'Length': 'X'}, {\"'\": 'PUNCT'}, {']': 'PUNCT'}, {'\"': 'PUNCT'}, {']': 'PUNCT'}, {'[': 'X'}, {'\"': 'PUNCT'}, {'[': 'X'}, {\"'\": 'X'}, {'MAX': 'PROPN'}, {\"'\": 'PUNCT'}, {',': 'PUNCT'}, {'\"': 'PUNCT'}, {',': 'PUNCT'}, {'\"': 'PUNCT'}, {\"'\": 'PUNCT'}, {'Petal': 'ADJ'}, {\"'\": 'PUNCT'}, {',': 'PUNCT'}, {'\"': 'PUNCT'}, {',': 'PUNCT'}, {'\"': 'PUNCT'}, {\"'\": 'PUNCT'}, {'Width': 'PROPN'}, {\"'\": 'PUNCT'}, {']': 'PUNCT'}, {'\"': 'PUNCT'}, {']': 'PUNCT'}, {'[': 'X'}, {'\"': 'PUNCT'}, {'[': 'X'}, {\"'\": 'VERB'}, {'SORT': 'ADV'}, {\"'\": 'NUM'}, {',': 'PUNCT'}, {'\"': 'PUNCT'}, {',': 'PUNCT'}, {'\"': 'PUNCT'}, {\"'\": 'PUNCT'}, {'Species': 'NOUN'}, {\"'\": 'PUNCT'}, {',': 'PUNCT'}, {'\"': 'PUNCT'}, {',': 'PUNCT'}, {'\"': 'PUNCT'}, {\"'\": 'PUNCT'}, {'DESC': 'VERB'}, {\"'\": 'PUNCT'}, {']': 'PUNCT'}, {'\"': 'PUNCT'}, {']': 'PUNCT'}, {'[': 'X'}, {'\"': 'PUNCT'}, {'[': 'X'}, {\"'\": 'VERB'}, {'SORT': 'ADV'}, {\"'\": 'NUM'}, {',': 'PUNCT'}, {'\"': 'PUNCT'}, {',': 'PUNCT'}, {'\"': 'PUNCT'}, {\"'\": 'PUNCT'}, {'Sepal': 'NOUN'}, {\"'\": 'PUNCT'}, {',': 'PUNCT'}, {'\"': 'PUNCT'}, {',': 'PUNCT'}, {'\"': 'PUNCT'}, {\"'\": 'PUNCT'}, {'Length': 'PROPN'}, {\"'\": 'PUNCT'}, {',': 'PUNCT'}, {'\"': 'PUNCT'}, {',': 'PUNCT'}, {'\"': 'PUNCT'}, {\"'\": 'PUNCT'}, {'ASC': 'PROPN'}, {\"'\": 'PUNCT'}, {']': 'PUNCT'}, {'\"': 'PUNCT'}, {']': 'PUNCT'}, {'[': 'X'}, {'\"': 'PUNCT'}, {'[': 'X'}, {\"'\": 'X'}, {'Sepal': 'NOUN'}, {\"'\": 'PUNCT'}, {',': 'PUNCT'}, {'\"': 'PUNCT'}, {',': 'PUNCT'}, {'\"': 'PUNCT'}, {\"'\": 'PUNCT'}, {'Length': 'PROPN'}, {\"'\": 'PUNCT'}, {',': 'PUNCT'}, {'\"': 'PUNCT'}, {',': 'PUNCT'}, {'\"': 'PUNCT'}, {\"'\": 'PROPN'}, {'4': 'NUM'}, {\"'\": 'NUM'}, {',': 'PUNCT'}, {'\"': 'PUNCT'}, {',': 'PUNCT'}, {'\"': 'PUNCT'}, {\"'\": 'PROPN'}, {'5': 'NUM'}, {\"'\": 'NUM'}, {']': 'PUNCT'}, {'\"': 'PUNCT'}, {']': 'PUNCT'}, {'[': 'X'}, {'\"': 'PUNCT'}, {'[': 'X'}, {\"'\": 'PUNCT'}, {'Petal': 'ADJ'}, {\"'\": 'PUNCT'}, {',': 'PUNCT'}, {'\"': 'PUNCT'}, {',': 'PUNCT'}, {'\"': 'PUNCT'}, {\"'\": 'PUNCT'}, {'Width': 'PROPN'}, {\"'\": 'PUNCT'}, {',': 'PUNCT'}, {'\"': 'PUNCT'}, {',': 'PUNCT'}, {'\"': 'PUNCT'}, {\"'\": 'PROPN'}, {'2': 'X'}, {\"'\": 'NUM'}, {',': 'PUNCT'}, {'\"': 'PUNCT'}, {',': 'PUNCT'}, {'\"': 'PUNCT'}, {\"'\": 'PUNCT'}, {'0': 'X'}, {\"'\": 'PUNCT'}, {']': 'PUNCT'}, {'\"': 'PUNCT'}, {']': 'PUNCT'}, {'[': 'X'}, {'\"': 'PUNCT'}, {'[': 'X'}, {\"'\": 'X'}, {'Sepal': 'NOUN'}, {\"'\": 'PUNCT'}, {',': 'PUNCT'}, {'\"': 'PUNCT'}, {',': 'PUNCT'}, {'\"': 'PUNCT'}, {\"'\": 'PUNCT'}, {'Width': 'PROPN'}, {\"'\": 'PUNCT'}, {',': 'PUNCT'}, {'\"': 'PUNCT'}, {',': 'PUNCT'}, {'\"': 'PUNCT'}, {\"'\": 'PROPN'}, {'3': 'NUM'}, {\"'\": 'NUM'}, {',': 'PUNCT'}, {'\"': 'PUNCT'}, {',': 'PUNCT'}, {'\"': 'PUNCT'}, {\"'\": 'PUNCT'}, {'0': 'X'}, {\"'\": 'PUNCT'}, {']': 'PUNCT'}, {'\"': 'PUNCT'}, {']': 'PUNCT'}, {'[': 'X'}, {'\"': 'PUNCT'}, {'[': 'X'}, {\"'\": 'VERB'}, {'ENDSWITH': 'NOUN'}, {\"'\": 'PUNCT'}, {',': 'PUNCT'}, {'\"': 'PUNCT'}, {',': 'PUNCT'}, {'\"': 'PUNCT'}, {\"'\": 'PUNCT'}, {'Species': 'NOUN'}, {\"'\": 'PUNCT'}, {',': 'PUNCT'}, {'\"': 'PUNCT'}, {',': 'PUNCT'}, {'\"': 'PUNCT'}, {\"'\": 'PUNCT'}, {'ica': 'X'}, {\"'\": 'PUNCT'}, {']': 'PUNCT'}, {'\"': 'PUNCT'}, {']': 'PUNCT'}, {'[': 'X'}, {'\"': 'PUNCT'}, {'[': 'X'}, {\"'\": 'X'}, {'Sepal': 'NOUN'}, {\"'\": 'PUNCT'}, {',': 'PUNCT'}, {'\"': 'PUNCT'}, {',': 'PUNCT'}, {'\"': 'PUNCT'}, {\"'\": 'PUNCT'}, {'Length': 'PROPN'}, {\"'\": 'PUNCT'}, {',': 'PUNCT'}, {'\"': 'PUNCT'}, {',': 'PUNCT'}, {'\"': 'PUNCT'}, {\"'\": 'PROPN'}, {'5': 'NUM'}, {\"'\": 'NUM'}, {',': 'PUNCT'}, {'\"': 'PUNCT'}, {',': 'PUNCT'}, {'\"': 'PUNCT'}, {\"'\": 'PUNCT'}, {'0': 'X'}, {\"'\": 'PUNCT'}, {']': 'PUNCT'}, {'\"': 'PUNCT'}, {']': 'PUNCT'}, {'[': 'X'}, {'\"': 'PUNCT'}, {'[': 'X'}, {\"'\": 'X'}, {'INDEX': 'PROPN'}, {\"'\": 'PUNCT'}, {',': 'PUNCT'}, {'\"': 'PUNCT'}, {',': 'PUNCT'}, {'\"': 'PUNCT'}, {\"'\": 'PROPN'}, {'5': 'NUM'}, {\"'\": 'NUM'}, {',': 'PUNCT'}, {'\"': 'PUNCT'}, {',': 'PUNCT'}, {'\"': 'PUNCT'}, {\"'\": 'PUNCT'}, {'SORT': 'ADV'}, {\"'\": 'NUM'}, {',': 'PUNCT'}, {'\"': 'PUNCT'}, {',': 'PUNCT'}, {'\"': 'PUNCT'}, {\"'\": 'PUNCT'}, {'BY': 'ADP'}, {\"'\": 'NUM'}, {',': 'PUNCT'}, {'\"': 'PUNCT'}, {',': 'PUNCT'}, {'\"': 'PUNCT'}, {\"'\": 'PUNCT'}, {'SUM': 'VERB'}, {\"'\": 'PUNCT'}, {',': 'PUNCT'}, {'\"': 'PUNCT'}, {',': 'PUNCT'}, {'\"': 'PUNCT'}, {\"'\": 'PUNCT'}, {'Sepal': 'NOUN'}, {\"'\": 'PUNCT'}, {',': 'PUNCT'}, {'\"': 'PUNCT'}, {',': 'PUNCT'}, {'\"': 'PUNCT'}, {\"'\": 'PUNCT'}, {'Width': 'PROPN'}, {\"'\": 'PUNCT'}, {',': 'PUNCT'}, {'\"': 'PUNCT'}, {',': 'PUNCT'}, {'\"': 'PUNCT'}, {\"'\": 'PUNCT'}, {'DESC': 'VERB'}, {\"'\": 'PUNCT'}, {']': 'PUNCT'}, {'\"': 'PUNCT'}, {']': 'PUNCT'}, {'[': 'X'}, {'\"': 'PUNCT'}, {'[': 'X'}, {\"'\": 'X'}, {'INDEX': 'PROPN'}, {\"'\": 'PUNCT'}, {',': 'PUNCT'}, {'\"': 'PUNCT'}, {',': 'PUNCT'}, {'\"': 'PUNCT'}, {\"'\": 'PROPN'}, {'3': 'NUM'}, {\"'\": 'NUM'}, {',': 'PUNCT'}, {'\"': 'PUNCT'}, {',': 'PUNCT'}, {'\"': 'PUNCT'}, {\"'\": 'PUNCT'}, {'SORT': 'ADV'}, {\"'\": 'NUM'}, {',': 'PUNCT'}, {'\"': 'PUNCT'}, {',': 'PUNCT'}, {'\"': 'PUNCT'}, {\"'\": 'PUNCT'}, {'BY': 'ADP'}, {\"'\": 'NUM'}, {',': 'PUNCT'}, {'\"': 'PUNCT'}, {',': 'PUNCT'}, {'\"': 'PUNCT'}, {\"'\": 'PUNCT'}, {'Petal': 'ADJ'}, {\"'\": 'PUNCT'}, {',': 'PUNCT'}, {'\"': 'PUNCT'}, {',': 'PUNCT'}, {'\"': 'PUNCT'}, {\"'\": 'PUNCT'}, {'Length': 'PROPN'}, {\"'\": 'PUNCT'}, {',': 'PUNCT'}, {'\"': 'PUNCT'}, {',': 'PUNCT'}, {'\"': 'PUNCT'}, {\"'\": 'PUNCT'}, {'ASC': 'PROPN'}, {\"'\": 'PUNCT'}, {']': 'PUNCT'}, {'\"': 'PUNCT'}, {']': 'PUNCT'}, {'[': 'X'}, {'\"': 'PUNCT'}, {'[': 'X'}, {\"'\": 'VERB'}, {'IF': 'SCONJ'}, {\"'\": 'NUM'}, {',': 'PUNCT'}, {'\"': 'PUNCT'}, {',': 'PUNCT'}, {'\"': 'PUNCT'}, {\"'\": 'PUNCT'}, {'Petal': 'ADJ'}, {\"'\": 'PUNCT'}, {',': 'PUNCT'}, {'\"': 'PUNCT'}, {',': 'PUNCT'}, {'\"': 'PUNCT'}, {\"'\": 'PUNCT'}, {'Length': 'PROPN'}, {\"'\": 'PUNCT'}, {',': 'PUNCT'}, {'\"': 'PUNCT'}, {',': 'PUNCT'}, {'\"': 'PUNCT'}, {\"'\": 'PROPN'}, {'4': 'NUM'}, {\"'\": 'NUM'}, {',': 'PUNCT'}, {'\"': 'PUNCT'}, {',': 'PUNCT'}, {'\"': 'PUNCT'}, {\"'\": 'PUNCT'}, {'AND': 'CCONJ'}, {\"'\": 'NUM'}, {',': 'PUNCT'}, {'\"': 'PUNCT'}, {',': 'PUNCT'}, {'\"': 'PUNCT'}, {\"'\": 'PUNCT'}, {'Petal': 'ADJ'}, {\"'\": 'PUNCT'}, {',': 'PUNCT'}, {'\"': 'PUNCT'}, {',': 'PUNCT'}, {'\"': 'PUNCT'}, {\"'\": 'PUNCT'}, {'Length': 'PROPN'}, {\"'\": 'PUNCT'}, {',': 'PUNCT'}, {'\"': 'PUNCT'}, {',': 'PUNCT'}, {'\"': 'PUNCT'}, {\"'\": 'PROPN'}, {'5': 'NUM'}, {\"'\": 'NUM'}, {',': 'PUNCT'}, {'\"': 'PUNCT'}, {',': 'PUNCT'}, {'\"': 'PUNCT'}, {\"'\": 'PUNCT'}, {'THEN': 'ADV'}, {\"'\": 'NUM'}, {',': 'PUNCT'}, {'\"': 'PUNCT'}, {',': 'PUNCT'}, {'\"': 'PUNCT'}, {\"'\": 'PROPN'}, {'1': 'X'}, {\"'\": 'NUM'}, {',': 'PUNCT'}, {'\"': 'PUNCT'}, {',': 'PUNCT'}, {'\"': 'PUNCT'}, {\"'\": 'PUNCT'}, {'ELSE': 'ADV'}, {\"'\": 'NUM'}, {',': 'PUNCT'}, {'\"': 'PUNCT'}, {',': 'PUNCT'}, {'\"': 'PUNCT'}, {\"'\": 'PUNCT'}, {'0': 'X'}, {\"'\": 'PUNCT'}, {',': 'PUNCT'}, {'\"': 'PUNCT'}, {',': 'PUNCT'}, {'\"': 'PUNCT'}, {\"'\": 'PUNCT'}, {'END': 'PROPN'}, {\"'\": 'PUNCT'}, {']': 'PUNCT'}, {'\"': 'PUNCT'}, {']': 'PUNCT'}, {'[': 'X'}, {'\"': 'PUNCT'}, {'[': 'X'}, {\"'\": 'VERB'}, {'DATETRUNC': 'PROPN'}, {\"'\": 'NUM'}, {',': 'PUNCT'}, {'\"': 'PUNCT'}, {',': 'PUNCT'}, {'\"': 'PUNCT'}, {\"'\": 'PUNCT'}, {'month': 'NOUN'}, {\"'\": 'PUNCT'}, {',': 'PUNCT'}, {'\"': 'PUNCT'}, {',': 'PUNCT'}, {'\"': 'PUNCT'}, {\"'\": 'PUNCT'}, {'Date': 'PROPN'}, {\"'\": 'PUNCT'}, {']': 'PUNCT'}, {'\"': 'PUNCT'}, {']': 'PUNCT'}, {'[': 'X'}, {'\"': 'PUNCT'}, {'[': 'X'}, {\"'\": 'X'}, {'YEAR': 'NOUN'}, {\"'\": 'PUNCT'}, {',': 'PUNCT'}, {'\"': 'PUNCT'}, {',': 'PUNCT'}, {'\"': 'PUNCT'}, {\"'\": 'PUNCT'}, {'Date': 'VERB'}, {\"'\": 'PUNCT'}, {',': 'PUNCT'}, {'\"': 'PUNCT'}, {',': 'PUNCT'}, {'\"': 'PUNCT'}, {\"'\": 'PUNCT'}, {'YEAR': 'NOUN'}, {\"'\": 'PUNCT'}, {',': 'PUNCT'}, {'\"': 'PUNCT'}, {',': 'PUNCT'}, {'\"': 'PUNCT'}, {\"'\": 'PUNCT'}, {'TODAY': 'NOUN'}, {\"'\": 'PUNCT'}, {',': 'PUNCT'}, {'\"': 'PUNCT'}, {',': 'PUNCT'}, {'\"': 'PUNCT'}, {\"'\": 'PROPN'}, {'1': 'X'}, {\"'\": 'NUM'}, {']': 'PUNCT'}, {'\"': 'PUNCT'}, {']': 'PUNCT'}, {'[': 'X'}, {'\"': 'PUNCT'}, {'[': 'X'}, {\"'\": 'X'}, {'Date': 'NOUN'}, {\"'\": 'NUM'}, {',': 'PUNCT'}, {'\"': 'PUNCT'}, {',': 'PUNCT'}, {'\"': 'PUNCT'}, {\"'\": 'PUNCT'}, {'DATETRUNC': 'PROPN'}, {\"'\": 'NUM'}, {',': 'PUNCT'}, {'\"': 'PUNCT'}, {',': 'PUNCT'}, {'\"': 'PUNCT'}, {\"'\": 'PUNCT'}, {'year': 'NOUN'}, {\"'\": 'PUNCT'}, {',': 'PUNCT'}, {'\"': 'PUNCT'}, {',': 'PUNCT'}, {'\"': 'PUNCT'}, {\"'\": 'PUNCT'}, {'TODAY': 'NOUN'}, {\"'\": 'PUNCT'}, {']': 'PUNCT'}, {'\"': 'PUNCT'}, {']': 'PUNCT'}, {'[': 'X'}, {'\"': 'PUNCT'}, {'[': 'X'}, {\"'\": 'X'}, {'AVG': 'PROPN'}, {\"'\": 'NUM'}, {',': 'PUNCT'}, {'\"': 'PUNCT'}, {',': 'PUNCT'}, {'\"': 'PUNCT'}, {\"'\": 'PUNCT'}, {'Sepal': 'NOUN'}, {\"'\": 'PUNCT'}, {',': 'PUNCT'}, {'\"': 'PUNCT'}, {',': 'PUNCT'}, {'\"': 'PUNCT'}, {\"'\": 'PUNCT'}, {'Length': 'PROPN'}, {\"'\": 'PUNCT'}, {',': 'PUNCT'}, {'\"': 'PUNCT'}, {',': 'PUNCT'}, {'\"': 'PUNCT'}, {\"'\": 'PUNCT'}, {'GROUP': 'PROPN'}, {\"'\": 'PUNCT'}, {',': 'PUNCT'}, {'\"': 'PUNCT'}, {',': 'PUNCT'}, {'\"': 'PUNCT'}, {\"'\": 'PUNCT'}, {'BY': 'ADP'}, {\"'\": 'NUM'}, {',': 'PUNCT'}, {'\"': 'PUNCT'}, {',': 'PUNCT'}, {'\"': 'PUNCT'}, {\"'\": 'PUNCT'}, {'Species': 'NOUN'}, {\"'\": 'PUNCT'}, {',': 'PUNCT'}, {'\"': 'PUNCT'}, {',': 'PUNCT'}, {'\"': 'PUNCT'}, {\"'\": 'PUNCT'}, {'SORT': 'ADV'}, {\"'\": 'NUM'}, {',': 'PUNCT'}, {'\"': 'PUNCT'}, {',': 'PUNCT'}, {'\"': 'PUNCT'}, {\"'\": 'PUNCT'}, {'BY': 'ADP'}, {\"'\": 'NUM'}, {',': 'PUNCT'}, {'\"': 'PUNCT'}, {',': 'PUNCT'}, {'\"': 'PUNCT'}, {\"'\": 'PUNCT'}, {'Species': 'NOUN'}, {\"'\": 'PUNCT'}, {',': 'PUNCT'}, {'\"': 'PUNCT'}, {',': 'PUNCT'}, {'\"': 'PUNCT'}, {\"'\": 'PUNCT'}, {'ASC': 'PROPN'}, {\"'\": 'PUNCT'}, {']': 'PUNCT'}, {'\"': 'PUNCT'}, {']': 'PUNCT'}, {'[': 'X'}, {'\"': 'PUNCT'}, {'[': 'X'}, {\"'\": 'VERB'}, {'COUNTD': 'PROPN'}, {\"'\": 'PUNCT'}, {',': 'PUNCT'}, {'\"': 'PUNCT'}, {',': 'PUNCT'}, {'\"': 'PUNCT'}, {\"'\": 'PUNCT'}, {'IF': 'SCONJ'}, {\"'\": 'NUM'}, {',': 'PUNCT'}, {'\"': 'PUNCT'}, {',': 'PUNCT'}, {'\"': 'PUNCT'}, {\"'\": 'PUNCT'}, {'LEFT': 'PROPN'}, {\"'\": 'PUNCT'}, {',': 'PUNCT'}, {'\"': 'PUNCT'}, {',': 'PUNCT'}, {'\"': 'PUNCT'}, {\"'\": 'PUNCT'}, {'Species': 'NOUN'}, {\"'\": 'PUNCT'}, {',': 'PUNCT'}, {'\"': 'PUNCT'}, {',': 'PUNCT'}, {'\"': 'PUNCT'}, {\"'\": 'PROPN'}, {'1': 'X'}, {\"'\": 'NUM'}, {',': 'PUNCT'}, {'\"': 'PUNCT'}, {',': 'PUNCT'}, {'\"': 'PUNCT'}, {\"'\": 'PUNCT'}, {'C': 'NOUN'}, {\"'\": 'NUM'}, {',': 'PUNCT'}, {'\"': 'PUNCT'}, {',': 'PUNCT'}, {'\"': 'PUNCT'}, {\"'\": 'PUNCT'}, {'THEN': 'ADV'}, {\"'\": 'NUM'}, {',': 'PUNCT'}, {'\"': 'PUNCT'}, {',': 'PUNCT'}, {'\"': 'PUNCT'}, {\"'\": 'PUNCT'}, {'Species': 'NOUN'}, {\"'\": 'PUNCT'}, {',': 'PUNCT'}, {'\"': 'PUNCT'}, {',': 'PUNCT'}, {'\"': 'PUNCT'}, {\"'\": 'PUNCT'}, {'ELSE': 'ADV'}, {\"'\": 'NUM'}, {',': 'PUNCT'}, {'\"': 'PUNCT'}, {',': 'PUNCT'}, {'\"': 'PUNCT'}, {\"'\": 'PUNCT'}, {'NULL': 'VERB'}, {\"'\": 'PUNCT'}, {',': 'PUNCT'}, {'\"': 'PUNCT'}, {',': 'PUNCT'}, {'\"': 'PUNCT'}, {\"'\": 'PUNCT'}, {'END': 'PROPN'}, {\"'\": 'PUNCT'}, {']': 'PUNCT'}, {'\"': 'PUNCT'}, {']': 'PUNCT'}, {'[': 'X'}, {'\"': 'PUNCT'}, {'[': 'X'}, {\"'\": 'PUNCT'}, {'Petal': 'ADJ'}, {\"'\": 'PUNCT'}, {',': 'PUNCT'}, {'\"': 'PUNCT'}, {',': 'PUNCT'}, {'\"': 'PUNCT'}, {\"'\": 'PUNCT'}, {'Length': 'PROPN'}, {\"'\": 'PUNCT'}, {',': 'PUNCT'}, {'\"': 'PUNCT'}, {',': 'PUNCT'}, {'\"': 'PUNCT'}, {\"'\": 'PROPN'}, {'4': 'NUM'}, {\"'\": 'NUM'}, {',': 'PUNCT'}, {'\"': 'PUNCT'}, {',': 'PUNCT'}, {'\"': 'PUNCT'}, {\"'\": 'PUNCT'}, {'0': 'X'}, {\"'\": 'PUNCT'}, {',': 'PUNCT'}, {'\"': 'PUNCT'}, {',': 'PUNCT'}, {'\"': 'PUNCT'}, {\"'\": 'PUNCT'}, {'AND': 'CCONJ'}, {\"'\": 'NUM'}, {',': 'PUNCT'}, {'\"': 'PUNCT'}, {',': 'PUNCT'}, {'\"': 'PUNCT'}, {\"'\": 'PUNCT'}, {'Sepal': 'NOUN'}, {\"'\": 'PUNCT'}, {',': 'PUNCT'}, {'\"': 'PUNCT'}, {',': 'PUNCT'}, {'\"': 'PUNCT'}, {\"'\": 'PUNCT'}, {'Length': 'PROPN'}, {\"'\": 'PUNCT'}, {',': 'PUNCT'}, {'\"': 'PUNCT'}, {',': 'PUNCT'}, {'\"': 'PUNCT'}, {\"'\": 'PROPN'}, {'4': 'NUM'}, {\"'\": 'NUM'}, {',': 'PUNCT'}, {'\"': 'PUNCT'}, {',': 'PUNCT'}, {'\"': 'PUNCT'}, {\"'\": 'PUNCT'}, {'0': 'X'}, {\"'\": 'PUNCT'}, {']': 'PUNCT'}, {'\"': 'PUNCT'}, {']': 'PUNCT'}, {'[': 'X'}, {'\"': 'PUNCT'}, {'[': 'X'}, {\"'\": 'NOUN'}, {'RANK_PERCENTILE': 'AUX'}, {\"'\": 'PUNCT'}, {',': 'PUNCT'}, {'\"': 'PUNCT'}, {',': 'PUNCT'}, {'\"': 'PUNCT'}, {\"'\": 'PUNCT'}, {'Petal': 'ADJ'}, {\"'\": 'PUNCT'}, {',': 'PUNCT'}, {'\"': 'PUNCT'}, {',': 'PUNCT'}, {'\"': 'PUNCT'}, {\"'\": 'PUNCT'}, {'Width': 'PROPN'}, {\"'\": 'PUNCT'}, {',': 'PUNCT'}, {'\"': 'PUNCT'}, {',': 'PUNCT'}, {'\"': 'PUNCT'}, {\"'\": 'PUNCT'}, {'0': 'X'}, {\"'\": 'PUNCT'}, {',': 'PUNCT'}, {'\"': 'PUNCT'}, {',': 'PUNCT'}, {'\"': 'PUNCT'}, {\"'\": 'PROPN'}, {'1': 'X'}, {\"'\": 'NUM'}, {']': 'PUNCT'}, {'\"': 'PUNCT'}, {']': 'PUNCT'}, {'[': 'X'}, {'\"': 'PUNCT'}, {'[': 'X'}, {\"'\": 'VERB'}, {'SUM': 'NOUN'}, {\"'\": 'PUNCT'}, {',': 'PUNCT'}, {'\"': 'PUNCT'}, {',': 'PUNCT'}, {'\"': 'PUNCT'}, {\"'\": 'PUNCT'}, {'Sepal': 'NOUN'}, {\"'\": 'PUNCT'}, {',': 'PUNCT'}, {'\"': 'PUNCT'}, {',': 'PUNCT'}, {'\"': 'PUNCT'}, {\"'\": 'PUNCT'}, {'Length': 'X'}, {\"'\": 'PUNCT'}, {']': 'PUNCT'}, {'\"': 'PUNCT'}, {']': 'PUNCT'}, {'[': 'X'}, {'\"': 'PUNCT'}, {'[': 'X'}, {\"'\": 'X'}, {'AVG': 'PROPN'}, {\"'\": 'NUM'}, {',': 'PUNCT'}, {'\"': 'PUNCT'}, {',': 'PUNCT'}, {'\"': 'PUNCT'}, {\"'\": 'PUNCT'}, {'Petal': 'ADJ'}, {\"'\": 'PUNCT'}, {',': 'PUNCT'}, {'\"': 'PUNCT'}, {',': 'PUNCT'}, {'\"': 'PUNCT'}, {\"'\": 'PUNCT'}, {'Width': 'PROPN'}, {\"'\": 'PUNCT'}, {']': 'PUNCT'}, {'\"': 'PUNCT'}, {']': 'PUNCT'}, {'[': 'X'}, {'\"': 'PUNCT'}, {'[': 'X'}, {\"'\": 'VERB'}, {'FIXED': 'NOUN'}, {\"'\": 'PUNCT'}, {',': 'PUNCT'}, {'\"': 'PUNCT'}, {',': 'PUNCT'}, {'\"': 'PUNCT'}, {\"'\": 'PUNCT'}, {'Species': 'NOUN'}, {\"'\": 'PUNCT'}, {',': 'PUNCT'}, {'\"': 'PUNCT'}, {',': 'PUNCT'}, {'\"': 'PUNCT'}, {\"'\": 'PUNCT'}, {'setosa': 'VERB'}, {\"'\": 'PUNCT'}, {',': 'PUNCT'}, {'\"': 'PUNCT'}, {',': 'PUNCT'}, {'\"': 'PUNCT'}, {\"'\": 'PUNCT'}, {'MEDIAN': 'PROPN'}, {\"'\": 'PUNCT'}, {',': 'PUNCT'}, {'\"': 'PUNCT'}, {',': 'PUNCT'}, {'\"': 'PUNCT'}, {\"'\": 'PUNCT'}, {'Sepal': 'NOUN'}, {\"'\": 'PUNCT'}, {',': 'PUNCT'}, {'\"': 'PUNCT'}, {',': 'PUNCT'}, {'\"': 'PUNCT'}, {\"'\": 'PUNCT'}, {'Width': 'PROPN'}, {\"'\": 'PUNCT'}, {']': 'PUNCT'}, {'\"': 'PUNCT'}, {']': 'PUNCT'}, {'[': 'X'}, {'\"': 'PUNCT'}, {'[': 'X'}, {\"'\": 'VERB'}, {'SUM': 'NOUN'}, {\"'\": 'PUNCT'}, {',': 'PUNCT'}, {'\"': 'PUNCT'}, {',': 'PUNCT'}, {'\"': 'PUNCT'}, {\"'\": 'PUNCT'}, {'IF': 'SCONJ'}, {\"'\": 'NUM'}, {',': 'PUNCT'}, {'\"': 'PUNCT'}, {',': 'PUNCT'}, {'\"': 'PUNCT'}, {\"'\": 'PUNCT'}, {'Species': 'NOUN'}, {\"'\": 'PUNCT'}, {',': 'PUNCT'}, {'\"': 'PUNCT'}, {',': 'PUNCT'}, {'\"': 'PUNCT'}, {\"'\": 'PUNCT'}, {'versicolor': 'NOUN'}, {\"'\": 'PUNCT'}, {',': 'PUNCT'}, {'\"': 'PUNCT'}, {',': 'PUNCT'}, {'\"': 'PUNCT'}, {\"'\": 'PUNCT'}, {'THEN': 'ADV'}, {\"'\": 'NUM'}, {',': 'PUNCT'}, {'\"': 'PUNCT'}, {',': 'PUNCT'}, {'\"': 'PUNCT'}, {\"'\": 'PROPN'}, {'1': 'X'}, {\"'\": 'NUM'}, {',': 'PUNCT'}, {'\"': 'PUNCT'}, {',': 'PUNCT'}, {'\"': 'PUNCT'}, {\"'\": 'PUNCT'}, {'ELSE': 'ADV'}, {\"'\": 'NUM'}, {',': 'PUNCT'}, {'\"': 'PUNCT'}, {',': 'PUNCT'}, {'\"': 'PUNCT'}, {\"'\": 'PUNCT'}, {'0': 'X'}, {\"'\": 'PUNCT'}, {',': 'PUNCT'}, {'\"': 'PUNCT'}, {',': 'PUNCT'}, {'\"': 'PUNCT'}, {\"'\": 'PUNCT'}, {'END': 'PROPN'}, {\"'\": 'PUNCT'}, {']': 'PUNCT'}, {'\"': 'PUNCT'}, {']': 'PUNCT'}, {'[': 'X'}, {'\"': 'PUNCT'}, {'[': 'X'}, {\"'\": 'VERB'}, {'COUNTD': 'PROPN'}, {\"'\": 'PUNCT'}, {',': 'PUNCT'}, {'\"': 'PUNCT'}, {',': 'PUNCT'}, {'\"': 'PUNCT'}, {\"'\": 'PUNCT'}, {'IF': 'SCONJ'}, {\"'\": 'NUM'}, {',': 'PUNCT'}, {'\"': 'PUNCT'}, {',': 'PUNCT'}, {'\"': 'PUNCT'}, {\"'\": 'PUNCT'}, {'Sepal': 'NOUN'}, {\"'\": 'PUNCT'}, {',': 'PUNCT'}, {'\"': 'PUNCT'}, {',': 'PUNCT'}, {'\"': 'PUNCT'}, {\"'\": 'PUNCT'}, {'Length': 'PROPN'}, {\"'\": 'PUNCT'}, {',': 'PUNCT'}, {'\"': 'PUNCT'}, {',': 'PUNCT'}, {'\"': 'PUNCT'}, {\"'\": 'PROPN'}, {'5': 'NUM'}, {\"'\": 'NUM'}, {',': 'PUNCT'}, {'\"': 'PUNCT'}, {',': 'PUNCT'}, {'\"': 'PUNCT'}, {\"'\": 'PUNCT'}, {'0': 'X'}, {\"'\": 'PUNCT'}, {',': 'PUNCT'}, {'\"': 'PUNCT'}, {',': 'PUNCT'}, {'\"': 'PUNCT'}, {\"'\": 'PUNCT'}, {'THEN': 'ADV'}, {\"'\": 'NUM'}, {',': 'PUNCT'}, {'\"': 'PUNCT'}, {',': 'PUNCT'}, {'\"': 'PUNCT'}, {\"'\": 'PUNCT'}, {'Species': 'NOUN'}, {\"'\": 'PUNCT'}, {',': 'PUNCT'}, {'\"': 'PUNCT'}, {',': 'PUNCT'}, {'\"': 'PUNCT'}, {\"'\": 'PUNCT'}, {'ELSE': 'ADV'}, {\"'\": 'NUM'}, {',': 'PUNCT'}, {'\"': 'PUNCT'}, {',': 'PUNCT'}, {'\"': 'PUNCT'}, {\"'\": 'PUNCT'}, {'NULL': 'VERB'}, {\"'\": 'PUNCT'}, {',': 'PUNCT'}, {'\"': 'PUNCT'}, {',': 'PUNCT'}, {'\"': 'PUNCT'}, {\"'\": 'PUNCT'}, {'END': 'PROPN'}, {\"'\": 'PUNCT'}, {']': 'PUNCT'}, {'\"': 'PUNCT'}, {']': 'PUNCT'}, {'[': 'X'}, {'\"': 'PUNCT'}, {'[': 'X'}, {\"'\": 'VERB'}, {'FIXED': 'NOUN'}, {\"'\": 'PUNCT'}, {',': 'PUNCT'}, {'\"': 'PUNCT'}, {',': 'PUNCT'}, {'\"': 'PUNCT'}, {\"'\": 'PUNCT'}, {'Species': 'NOUN'}, {\"'\": 'PUNCT'}, {',': 'PUNCT'}, {'\"': 'PUNCT'}, {',': 'PUNCT'}, {'\"': 'PUNCT'}, {\"'\": 'PUNCT'}, {'virginica': 'X'}, {\"'\": 'PUNCT'}, {',': 'PUNCT'}, {'\"': 'PUNCT'}, {',': 'PUNCT'}, {'\"': 'PUNCT'}, {\"'\": 'PUNCT'}, {'MIN': 'PROPN'}, {\"'\": 'PROPN'}, {',': 'PUNCT'}, {'\"': 'PUNCT'}, {',': 'PUNCT'}, {'\"': 'PUNCT'}, {\"'\": 'PUNCT'}, {'Petal': 'ADJ'}, {\"'\": 'PUNCT'}, {',': 'PUNCT'}, {'\"': 'PUNCT'}, {',': 'PUNCT'}, {'\"': 'PUNCT'}, {\"'\": 'PUNCT'}, {'Length': 'X'}, {\"'\": 'PUNCT'}, {']': 'PUNCT'}, {'\"': 'PUNCT'}, {']': 'PUNCT'}, {'[': 'X'}, {'\"': 'PUNCT'}, {'[': 'X'}, {\"'\": 'VERB'}, {'FIXED': 'NOUN'}, {\"'\": 'PUNCT'}, {',': 'PUNCT'}, {'\"': 'PUNCT'}, {',': 'PUNCT'}, {'\"': 'PUNCT'}, {\"'\": 'PUNCT'}, {'Species': 'NOUN'}, {\"'\": 'PUNCT'}, {',': 'PUNCT'}, {'\"': 'PUNCT'}, {',': 'PUNCT'}, {'\"': 'PUNCT'}, {\"'\": 'PUNCT'}, {'setosa': 'VERB'}, {\"'\": 'PUNCT'}, {',': 'PUNCT'}, {'\"': 'PUNCT'}, {',': 'PUNCT'}, {'\"': 'PUNCT'}, {\"'\": 'PUNCT'}, {'MAX': 'PROPN'}, {\"'\": 'PUNCT'}, {',': 'PUNCT'}, {'\"': 'PUNCT'}, {',': 'PUNCT'}, {'\"': 'PUNCT'}, {\"'\": 'PUNCT'}, {'Sepal': 'NOUN'}, {\"'\": 'PUNCT'}, {',': 'PUNCT'}, {'\"': 'PUNCT'}, {',': 'PUNCT'}, {'\"': 'PUNCT'}, {\"'\": 'PUNCT'}, {'Width': 'PROPN'}, {\"'\": 'PUNCT'}, {']': 'PUNCT'}, {'\"': 'PUNCT'}, {']': 'PUNCT'}, {'[': 'X'}, {'\"': 'PUNCT'}, {'[': 'X'}, {\"'\": 'PUNCT'}, {'SORTED': 'ADJ'}, {\"'\": 'PUNCT'}, {',': 'PUNCT'}, {'\"': 'PUNCT'}, {',': 'PUNCT'}, {'\"': 'PUNCT'}, {\"'\": 'PUNCT'}, {'BY': 'ADP'}, {\"'\": 'NUM'}, {',': 'PUNCT'}, {'\"': 'PUNCT'}, {',': 'PUNCT'}, {'\"': 'PUNCT'}, {\"'\": 'PUNCT'}, {'Species': 'NOUN'}, {\"'\": 'PUNCT'}, {',': 'PUNCT'}, {'\"': 'PUNCT'}, {',': 'PUNCT'}, {'\"': 'PUNCT'}, {\"'\": 'PUNCT'}, {'alphabetically': 'ADV'}, {\"'\": 'VERB'}, {',': 'PUNCT'}, {'\"': 'PUNCT'}, {',': 'PUNCT'}, {'\"': 'PUNCT'}, {\"'\": 'PUNCT'}, {'COUNT': 'PROPN'}, {\"'\": 'PUNCT'}, {',': 'PUNCT'}, {'\"': 'PUNCT'}, {',': 'PUNCT'}, {'\"': 'PUNCT'}, {\"'\": 'PUNCT'}, {'Species': 'NOUN'}, {\"'\": 'PUNCT'}, {',': 'PUNCT'}, {'\"': 'PUNCT'}, {',': 'PUNCT'}, {'\"': 'PUNCT'}, {\"'\": 'PUNCT'}, {'GROUP': 'PROPN'}, {\"'\": 'PUNCT'}, {',': 'PUNCT'}, {'\"': 'PUNCT'}, {',': 'PUNCT'}, {'\"': 'PUNCT'}, {\"'\": 'PUNCT'}, {'BY': 'ADP'}, {\"'\": 'NUM'}, {',': 'PUNCT'}, {'\"': 'PUNCT'}, {',': 'PUNCT'}, {'\"': 'PUNCT'}, {\"'\": 'PUNCT'}, {'Species': 'NOUN'}, {\"'\": 'PUNCT'}, {',': 'PUNCT'}, {'\"': 'PUNCT'}, {',': 'PUNCT'}, {'\"': 'PUNCT'}, {\"'\": 'PUNCT'}, {'ORDER': 'NOUN'}, {\"'\": 'PUNCT'}, {',': 'PUNCT'}, {'\"': 'PUNCT'}, {',': 'PUNCT'}, {'\"': 'PUNCT'}, {\"'\": 'PUNCT'}, {'BY': 'ADP'}, {\"'\": 'NUM'}, {',': 'PUNCT'}, {'\"': 'PUNCT'}, {',': 'PUNCT'}, {'\"': 'PUNCT'}, {\"'\": 'PUNCT'}, {'Species': 'NOUN'}, {\"'\": 'PUNCT'}, {',': 'PUNCT'}, {'\"': 'PUNCT'}, {',': 'PUNCT'}, {'\"': 'PUNCT'}, {\"'\": 'PUNCT'}, {'ASC': 'PROPN'}, {\"'\": 'PUNCT'}, {']': 'PUNCT'}, {'\"': 'PUNCT'}, {']': 'PUNCT'}, {'[': 'X'}, {'\"': 'PUNCT'}, {'[': 'X'}, {\"'\": 'X'}, {'Species': 'NOUN'}, {\"'\": 'PUNCT'}, {',': 'PUNCT'}, {'\"': 'PUNCT'}, {',': 'PUNCT'}, {'\"': 'PUNCT'}, {\"'\": 'PUNCT'}, {'versicolor': 'NOUN'}, {\"'\": 'PUNCT'}, {',': 'PUNCT'}, {'\"': 'PUNCT'}, {',': 'PUNCT'}, {'\"': 'PUNCT'}, {\"'\": 'PUNCT'}, {'AND': 'CCONJ'}, {\"'\": 'NUM'}, {',': 'PUNCT'}, {'\"': 'PUNCT'}, {',': 'PUNCT'}, {'\"': 'PUNCT'}, {\"'\": 'PUNCT'}, {'Sepal': 'NOUN'}, {\"'\": 'PUNCT'}, {',': 'PUNCT'}, {'\"': 'PUNCT'}, {',': 'PUNCT'}, {'\"': 'PUNCT'}, {\"'\": 'PUNCT'}, {'Width': 'PROPN'}, {\"'\": 'PUNCT'}, {',': 'PUNCT'}, {'\"': 'PUNCT'}, {',': 'PUNCT'}, {'\"': 'PUNCT'}, {\"'\": 'PROPN'}, {'3': 'NUM'}, {\"'\": 'NUM'}, {',': 'PUNCT'}, {'\"': 'PUNCT'}, {',': 'PUNCT'}, {'\"': 'PUNCT'}, {\"'\": 'PUNCT'}, {'0': 'X'}, {\"'\": 'PUNCT'}, {']': 'PUNCT'}, {'\"': 'PUNCT'}, {']': 'PUNCT'}, {'[': 'X'}, {'\"': 'PUNCT'}, {'[': 'X'}, {\"'\": 'PUNCT'}, {'RANK': 'VERB'}, {\"'\": 'PUNCT'}, {',': 'PUNCT'}, {'\"': 'PUNCT'}, {',': 'PUNCT'}, {'\"': 'PUNCT'}, {\"'\": 'PUNCT'}, {'Sepal': 'NOUN'}, {\"'\": 'PUNCT'}, {',': 'PUNCT'}, {'\"': 'PUNCT'}, {',': 'PUNCT'}, {'\"': 'PUNCT'}, {\"'\": 'PUNCT'}, {'Length': 'PROPN'}, {\"'\": 'PUNCT'}, {',': 'PUNCT'}, {'\"': 'PUNCT'}, {',': 'PUNCT'}, {'\"': 'PUNCT'}, {\"'\": 'PROPN'}, {'5': 'NUM'}, {\"'\": 'NUM'}, {',': 'PUNCT'}, {'\"': 'PUNCT'}, {',': 'PUNCT'}, {'\"': 'PUNCT'}, {\"'\": 'PUNCT'}, {'AND': 'CCONJ'}, {\"'\": 'NUM'}, {',': 'PUNCT'}, {'\"': 'PUNCT'}, {',': 'PUNCT'}, {'\"': 'PUNCT'}, {\"'\": 'PUNCT'}, {'Species': 'NOUN'}, {\"'\": 'PUNCT'}, {',': 'PUNCT'}, {'\"': 'PUNCT'}, {',': 'PUNCT'}, {'\"': 'PUNCT'}, {\"'\": 'PUNCT'}, {'virginica': 'X'}, {\"'\": 'PUNCT'}, {']': 'PUNCT'}, {'\"': 'PUNCT'}, {']': 'PUNCT'}, {'[': 'X'}, {'\"': 'PUNCT'}, {'[': 'X'}, {\"'\": 'NOUN'}, {'RANK_PERCENTILE': 'AUX'}, {\"'\": 'PUNCT'}, {',': 'PUNCT'}, {'\"': 'PUNCT'}, {',': 'PUNCT'}, {'\"': 'PUNCT'}, {\"'\": 'PUNCT'}, {'Petal': 'ADJ'}, {\"'\": 'PUNCT'}, {',': 'PUNCT'}, {'\"': 'PUNCT'}, {',': 'PUNCT'}, {'\"': 'PUNCT'}, {\"'\": 'PUNCT'}, {'Width': 'PROPN'}, {\"'\": 'PUNCT'}, {',': 'PUNCT'}, {'\"': 'PUNCT'}, {',': 'PUNCT'}, {'\"': 'PUNCT'}, {\"'\": 'PUNCT'}, {'0': 'X'}, {\"'\": 'PUNCT'}, {',': 'PUNCT'}, {'\"': 'PUNCT'}, {',': 'PUNCT'}, {'\"': 'PUNCT'}, {\"'\": 'PUNCT'}, {'9': 'NUM'}, {\"'\": 'PUNCT'}, {']': 'PUNCT'}, {'\"': 'PUNCT'}, {']': 'PUNCT'}, {'[': 'X'}, {'\"': 'PUNCT'}, {'[': 'X'}, {\"'\": 'PUNCT'}, {'LISTED': 'VERB'}, {\"'\": 'PUNCT'}, {',': 'PUNCT'}, {'\"': 'PUNCT'}, {',': 'PUNCT'}, {'\"': 'PUNCT'}, {\"'\": 'PUNCT'}, {'FROM': 'ADP'}, {\"'\": 'NUM'}, {',': 'PUNCT'}, {'\"': 'PUNCT'}, {',': 'PUNCT'}, {'\"': 'PUNCT'}, {\"'\": 'PUNCT'}, {'highest': 'ADJ'}, {\"'\": 'PUNCT'}, {',': 'PUNCT'}, {'\"': 'PUNCT'}, {',': 'PUNCT'}, {'\"': 'PUNCT'}, {\"'\": 'PUNCT'}, {'to': 'PART'}, {\"'\": 'NUM'}, {',': 'PUNCT'}, {'\"': 'PUNCT'}, {',': 'PUNCT'}, {'\"': 'PUNCT'}, {\"'\": 'PUNCT'}, {'lowest': 'ADJ'}, {\"'\": 'PUNCT'}, {',': 'PUNCT'}, {'\"': 'PUNCT'}, {',': 'PUNCT'}, {'\"': 'PUNCT'}, {\"'\": 'PUNCT'}, {'AVG': 'PROPN'}, {\"'\": 'PUNCT'}, {',': 'PUNCT'}, {'\"': 'PUNCT'}, {',': 'PUNCT'}, {'\"': 'PUNCT'}, {\"'\": 'PUNCT'}, {'Sepal': 'NOUN'}, {\"'\": 'PUNCT'}, {',': 'PUNCT'}, {'\"': 'PUNCT'}, {',': 'PUNCT'}, {'\"': 'PUNCT'}, {\"'\": 'PUNCT'}, {'Length': 'PROPN'}, {\"'\": 'PUNCT'}, {',': 'PUNCT'}, {'\"': 'PUNCT'}, {',': 'PUNCT'}, {'\"': 'PUNCT'}, {\"'\": 'PUNCT'}, {'GROUP': 'PROPN'}, {\"'\": 'PUNCT'}, {',': 'PUNCT'}, {'\"': 'PUNCT'}, {',': 'PUNCT'}, {'\"': 'PUNCT'}, {\"'\": 'PUNCT'}, {'BY': 'ADP'}, {\"'\": 'NUM'}, {',': 'PUNCT'}, {'\"': 'PUNCT'}, {',': 'PUNCT'}, {'\"': 'PUNCT'}, {\"'\": 'PUNCT'}, {'Species': 'NOUN'}, {\"'\": 'PUNCT'}, {',': 'PUNCT'}, {'\"': 'PUNCT'}, {',': 'PUNCT'}, {'\"': 'PUNCT'}, {\"'\": 'PUNCT'}, {'ORDER': 'NOUN'}, {\"'\": 'PUNCT'}, {',': 'PUNCT'}, {'\"': 'PUNCT'}, {',': 'PUNCT'}, {'\"': 'PUNCT'}, {\"'\": 'PUNCT'}, {'BY': 'ADP'}, {\"'\": 'NUM'}, {',': 'PUNCT'}, {'\"': 'PUNCT'}, {',': 'PUNCT'}, {'\"': 'PUNCT'}, {\"'\": 'PUNCT'}, {'AVG': 'PROPN'}, {\"'\": 'PUNCT'}, {',': 'PUNCT'}, {'\"': 'PUNCT'}, {',': 'PUNCT'}, {'\"': 'PUNCT'}, {\"'\": 'PUNCT'}, {'Sepal': 'NOUN'}, {\"'\": 'PUNCT'}, {',': 'PUNCT'}, {'\"': 'PUNCT'}, {',': 'PUNCT'}, {'\"': 'PUNCT'}, {\"'\": 'PUNCT'}, {'Length': 'PROPN'}, {\"'\": 'PUNCT'}, {',': 'PUNCT'}, {'\"': 'PUNCT'}, {',': 'PUNCT'}, {'\"': 'PUNCT'}, {\"'\": 'PUNCT'}, {'DESC': 'VERB'}, {\"'\": 'PUNCT'}, {']': 'PUNCT'}, {'\"': 'PUNCT'}, {']': 'PUNCT'}, {'[': 'X'}, {'\"': 'PUNCT'}, {'[': 'X'}, {\"'\": 'X'}, {'Species': 'NOUN'}, {\"'\": 'PUNCT'}, {',': 'PUNCT'}, {'\"': 'PUNCT'}, {',': 'PUNCT'}, {'\"': 'PUNCT'}, {\"'\": 'PUNCT'}, {'setosa': 'VERB'}, {\"'\": 'PUNCT'}, {',': 'PUNCT'}, {'\"': 'PUNCT'}, {',': 'PUNCT'}, {'\"': 'PUNCT'}, {\"'\": 'PUNCT'}, {'AND': 'CCONJ'}, {\"'\": 'NUM'}, {',': 'PUNCT'}, {'\"': 'PUNCT'}, {',': 'PUNCT'}, {'\"': 'PUNCT'}, {\"'\": 'PUNCT'}, {'Petal': 'ADJ'}, {\"'\": 'PUNCT'}, {',': 'PUNCT'}, {'\"': 'PUNCT'}, {',': 'PUNCT'}, {'\"': 'PUNCT'}, {\"'\": 'PUNCT'}, {'Length': 'PROPN'}, {\"'\": 'PUNCT'}, {',': 'PUNCT'}, {'\"': 'PUNCT'}, {',': 'PUNCT'}, {'\"': 'PUNCT'}, {\"'\": 'PUNCT'}, {'BETWEEN': 'ADP'}, {\"'\": 'PUNCT'}, {',': 'PUNCT'}, {'\"': 'PUNCT'}, {',': 'PUNCT'}, {'\"': 'PUNCT'}, {\"'\": 'PROPN'}, {'4': 'NUM'}, {\"'\": 'NUM'}, {',': 'PUNCT'}, {'\"': 'PUNCT'}, {',': 'PUNCT'}, {'\"': 'PUNCT'}, {\"'\": 'PUNCT'}, {'0': 'X'}, {\"'\": 'PUNCT'}, {',': 'PUNCT'}, {'\"': 'PUNCT'}, {',': 'PUNCT'}, {'\"': 'PUNCT'}, {\"'\": 'PUNCT'}, {'AND': 'CCONJ'}, {\"'\": 'NUM'}, {',': 'PUNCT'}, {'\"': 'PUNCT'}, {',': 'PUNCT'}, {'\"': 'PUNCT'}, {\"'\": 'PROPN'}, {'5': 'NUM'}, {\"'\": 'NUM'}, {',': 'PUNCT'}, {'\"': 'PUNCT'}, {',': 'PUNCT'}, {'\"': 'PUNCT'}, {\"'\": 'PUNCT'}, {'0': 'X'}, {\"'\": 'PUNCT'}, {']': 'PUNCT'}, {'\"': 'PUNCT'}, {']': 'PUNCT'}, {'[': 'X'}, {'\"': 'PUNCT'}, {'[': 'X'}, {\"'\": 'VERB'}, {'SUM': 'NOUN'}, {\"'\": 'PUNCT'}, {',': 'PUNCT'}, {'\"': 'PUNCT'}, {',': 'PUNCT'}, {'\"': 'PUNCT'}, {\"'\": 'PUNCT'}, {'IF': 'SCONJ'}, {\"'\": 'NUM'}, {',': 'PUNCT'}, {'\"': 'PUNCT'}, {',': 'PUNCT'}, {'\"': 'PUNCT'}, {\"'\": 'PUNCT'}, {'CONTAINS': 'VERB'}, {\"'\": 'PUNCT'}, {',': 'PUNCT'}, {'\"': 'PUNCT'}, {',': 'PUNCT'}, {'\"': 'PUNCT'}, {\"'\": 'PUNCT'}, {'Species': 'NOUN'}, {\"'\": 'PUNCT'}, {',': 'PUNCT'}, {'\"': 'PUNCT'}, {',': 'PUNCT'}, {'\"': 'PUNCT'}, {\"'\": 'PUNCT'}, {'color': 'VERB'}, {\"'\": 'PUNCT'}, {',': 'PUNCT'}, {'\"': 'PUNCT'}, {',': 'PUNCT'}, {'\"': 'PUNCT'}, {\"'\": 'PUNCT'}, {'THEN': 'ADV'}, {\"'\": 'NUM'}, {',': 'PUNCT'}, {'\"': 'PUNCT'}, {',': 'PUNCT'}, {'\"': 'PUNCT'}, {\"'\": 'PROPN'}, {'1': 'X'}, {\"'\": 'NUM'}, {',': 'PUNCT'}, {'\"': 'PUNCT'}, {',': 'PUNCT'}, {'\"': 'PUNCT'}, {\"'\": 'PUNCT'}, {'ELSE': 'ADV'}, {\"'\": 'NUM'}, {',': 'PUNCT'}, {'\"': 'PUNCT'}, {',': 'PUNCT'}, {'\"': 'PUNCT'}, {\"'\": 'PUNCT'}, {'0': 'X'}, {\"'\": 'PUNCT'}, {',': 'PUNCT'}, {'\"': 'PUNCT'}, {',': 'PUNCT'}, {'\"': 'PUNCT'}, {\"'\": 'PUNCT'}, {'END': 'PROPN'}, {\"'\": 'PUNCT'}, {']': 'PUNCT'}, {'\"': 'PUNCT'}, {']': 'PUNCT'}, {'[': 'X'}, {'\"': 'PUNCT'}, {'[': 'X'}, {\"'\": 'PUNCT'}, {'STARTSWITH': 'VERB'}, {\"'\": 'PUNCT'}, {',': 'PUNCT'}, {'\"': 'PUNCT'}, {',': 'PUNCT'}, {'\"': 'PUNCT'}, {\"'\": 'PUNCT'}, {'Species': 'NOUN'}, {\"'\": 'PUNCT'}, {',': 'PUNCT'}, {'\"': 'PUNCT'}, {',': 'PUNCT'}, {'\"': 'PUNCT'}, {\"'\": 'PUNCT'}, {'Iri': 'PROPN'}, {\"'\": 'PROPN'}, {',': 'PUNCT'}, {'\"': 'PUNCT'}, {',': 'PUNCT'}, {'\"': 'PUNCT'}, {\"'\": 'PUNCT'}, {'AND': 'CCONJ'}, {\"'\": 'NUM'}, {',': 'PUNCT'}, {'\"': 'PUNCT'}, {',': 'PUNCT'}, {'\"': 'PUNCT'}, {\"'\": 'PUNCT'}, {'ENDSWITH': 'VERB'}, {\"'\": 'PUNCT'}, {',': 'PUNCT'}, {'\"': 'PUNCT'}, {',': 'PUNCT'}, {'\"': 'PUNCT'}, {\"'\": 'PUNCT'}, {'Species': 'NOUN'}, {\"'\": 'PUNCT'}, {',': 'PUNCT'}, {'\"': 'PUNCT'}, {',': 'PUNCT'}, {'\"': 'PUNCT'}, {\"'\": 'PUNCT'}, {'a': 'DET'}, {\"'\": 'PUNCT'}, {']': 'PUNCT'}, {'\"': 'PUNCT'}, {']': 'PUNCT'}]\n",
            "Tokenized Formula (Tableau) : ['NOUN', 'X', 'NUM', 'AUX', 'DET', 'ADP', 'VERB', 'ADV', 'SCONJ', 'PROPN', 'CCONJ', 'PART', 'ADJ', 'PUNCT']\n"
          ]
        }
      ]
    },
    {
      "cell_type": "code",
      "source": [
        "for pat in p_t:\n",
        "    print({pat:p_t[pat]})"
      ],
      "metadata": {
        "id": "WbkFmeMnIuaB",
        "colab": {
          "base_uri": "https://localhost:8080/"
        },
        "outputId": "579c25a9-6868-42a3-e412-6212c1108e44"
      },
      "execution_count": 80,
      "outputs": [
        {
          "output_type": "stream",
          "name": "stdout",
          "text": [
            "{'NOUN': ['ORDER', 'Date', 'C', 'month', 'TODAY', 'YEAR', 'year', \"'\", 'ENDSWITH', 'FIXED', 'Sepal', 'versicolor', 'SUM', 'Species']}\n",
            "{'X': ['ica', '1', '0', '[', 'Length', 'virginica', \"'\", '2']}\n",
            "{'NUM': ['4', '5', 'TOP', '9', \"'\", '3']}\n",
            "{'AUX': ['RANK_PERCENTILE']}\n",
            "{'DET': ['a']}\n",
            "{'ADP': ['BETWEEN', 'BY', 'FROM', 'WITH']}\n",
            "{'VERB': ['Date', 'DESC', 'setosa', 'DISTINCT', 'STARTSWITH', 'LISTED', 'RANK', \"'\", 'color', 'ENDSWITH', 'NULL', 'SUM', 'CONTAINS']}\n",
            "{'ADV': ['alphabetically', 'ELSE', 'SORT', 'THEN']}\n",
            "{'SCONJ': ['IF']}\n",
            "{'PROPN': ['Date', \"'\", 'Species', 'END', 'Se', 'MAX', 'LEFT', 'MIN', 'INDEX', 'ASC', 'AVG', 'Width', 'Iri', 'COUNT', 'DATETRUNC', 'Length', 'Setosa', 'COUNTD', 'GROUP', 'STARTS', 'MEDIAN']}\n",
            "{'CCONJ': ['AND']}\n",
            "{'PART': ['to']}\n",
            "{'ADJ': ['lowest', 'SORTED', 'Petal', 'highest']}\n",
            "{'PUNCT': [']', '\"', \"'\", ',']}\n"
          ]
        }
      ]
    },
    {
      "cell_type": "code",
      "source": [
        "p_e=dg_ent['Patterns_Symbols(Tableau)']=get_patterns(dg_tok,dg_tok.columns[2])"
      ],
      "metadata": {
        "id": "YuVGpeK9kcvl",
        "colab": {
          "base_uri": "https://localhost:8080/"
        },
        "outputId": "351965ed-9131-4f62-ac12-002b06501db6"
      },
      "execution_count": 81,
      "outputs": [
        {
          "output_type": "stream",
          "name": "stdout",
          "text": [
            "[{'[': 'X'}, {'\"': 'PUNCT'}, {'[': 'X'}, {\"'\": 'VERB'}, {'(': 'PUNCT'}, {\"'\": 'PUNCT'}, {',': 'PUNCT'}, {'\"': 'PUNCT'}, {',': 'PUNCT'}, {'\"': 'PUNCT'}, {\"'\": 'PUNCT'}, {')': 'PUNCT'}, {\"'\": 'PUNCT'}, {']': 'PUNCT'}, {'\"': 'PUNCT'}, {']': 'PUNCT'}, {'[': 'X'}, {'\"': 'PUNCT'}, {'[': 'X'}, {\"'\": 'VERB'}, {'(': 'PUNCT'}, {\"'\": 'PUNCT'}, {',': 'PUNCT'}, {'\"': 'PUNCT'}, {',': 'PUNCT'}, {'\"': 'PUNCT'}, {\"'\": 'PUNCT'}, {')': 'PUNCT'}, {\"'\": 'PUNCT'}, {']': 'PUNCT'}, {'\"': 'PUNCT'}, {']': 'PUNCT'}, {'[': 'X'}, {'\"': 'PUNCT'}, {'[': 'X'}, {\"'\": 'VERB'}, {'(': 'PUNCT'}, {\"'\": 'PUNCT'}, {',': 'PUNCT'}, {'\"': 'PUNCT'}, {',': 'PUNCT'}, {'\"': 'PUNCT'}, {\"'\": 'PUNCT'}, {')': 'PUNCT'}, {\"'\": 'PUNCT'}, {']': 'PUNCT'}, {'\"': 'PUNCT'}, {']': 'PUNCT'}, {'[': 'X'}, {'\"': 'PUNCT'}, {'[': 'X'}, {\"'\": 'VERB'}, {'(': 'PUNCT'}, {\"'\": 'PUNCT'}, {',': 'PUNCT'}, {'\"': 'PUNCT'}, {',': 'PUNCT'}, {'\"': 'PUNCT'}, {\"'\": 'PUNCT'}, {'*': 'PUNCT'}, {\"'\": 'NUM'}, {',': 'PUNCT'}, {'\"': 'PUNCT'}, {',': 'PUNCT'}, {'\"': 'PUNCT'}, {\"'\": 'PUNCT'}, {')': 'PUNCT'}, {\"'\": 'PUNCT'}, {']': 'PUNCT'}, {'\"': 'PUNCT'}, {']': 'PUNCT'}, {'[': 'X'}, {'\"': 'PUNCT'}, {'[': 'X'}, {\"'\": 'VERB'}, {'(': 'PUNCT'}, {\"'\": 'PUNCT'}, {',': 'PUNCT'}, {'\"': 'PUNCT'}, {',': 'PUNCT'}, {'\"': 'PUNCT'}, {\"'\": 'PUNCT'}, {')': 'PUNCT'}, {\"'\": 'PUNCT'}, {']': 'PUNCT'}, {'\"': 'PUNCT'}, {']': 'PUNCT'}, {'[': 'X'}, {'\"': 'PUNCT'}, {'[': 'X'}, {\"'\": 'VERB'}, {'(': 'PUNCT'}, {\"'\": 'PUNCT'}, {',': 'PUNCT'}, {'\"': 'PUNCT'}, {',': 'PUNCT'}, {'\"': 'PUNCT'}, {\"'\": 'PUNCT'}, {')': 'PUNCT'}, {\"'\": 'PUNCT'}, {']': 'PUNCT'}, {'\"': 'PUNCT'}, {']': 'PUNCT'}, {'[': 'X'}, {'\"': 'PUNCT'}, {'[': 'X'}, {\"'\": 'VERB'}, {'(': 'PUNCT'}, {\"'\": 'PUNCT'}, {',': 'PUNCT'}, {'\"': 'PUNCT'}, {',': 'PUNCT'}, {'\"': 'PUNCT'}, {\"'\": 'PUNCT'}, {')': 'PUNCT'}, {\"'\": 'PUNCT'}, {']': 'PUNCT'}, {'\"': 'PUNCT'}, {']': 'PUNCT'}, {'[': 'X'}, {'\"': 'PUNCT'}, {'[': 'X'}, {\"'\": 'VERB'}, {'(': 'PUNCT'}, {\"'\": 'PUNCT'}, {',': 'PUNCT'}, {'\"': 'PUNCT'}, {',': 'PUNCT'}, {'\"': 'PUNCT'}, {\"'\": 'PUNCT'}, {')': 'PUNCT'}, {\"'\": 'PUNCT'}, {']': 'PUNCT'}, {'\"': 'PUNCT'}, {']': 'PUNCT'}, {'[': 'X'}, {'\"': 'PUNCT'}, {'[': 'X'}, {\"'\": 'VERB'}, {'(': 'PUNCT'}, {\"'\": 'PUNCT'}, {',': 'PUNCT'}, {'\"': 'PUNCT'}, {',': 'PUNCT'}, {'\"': 'PUNCT'}, {\"'\": 'PUNCT'}, {')': 'PUNCT'}, {\"'\": 'PUNCT'}, {']': 'PUNCT'}, {'\"': 'PUNCT'}, {']': 'PUNCT'}, {'[': 'X'}, {'\"': 'PUNCT'}, {'[': 'X'}, {\"'\": 'VERB'}, {'(': 'PUNCT'}, {\"'\": 'PUNCT'}, {',': 'PUNCT'}, {'\"': 'PUNCT'}, {',': 'PUNCT'}, {'\"': 'PUNCT'}, {\"'\": 'PUNCT'}, {')': 'PUNCT'}, {\"'\": 'PUNCT'}, {']': 'PUNCT'}, {'\"': 'PUNCT'}, {']': 'PUNCT'}, {'[': 'X'}, {'\"': 'PUNCT'}, {'[': 'X'}, {\"'\": 'X'}, {'>': 'X'}, {\"'\": 'NUM'}, {',': 'PUNCT'}, {'\"': 'PUNCT'}, {',': 'PUNCT'}, {'\"': 'PUNCT'}, {\"'\": 'PUNCT'}, {'=': 'VERB'}, {\"'\": 'VERB'}, {',': 'PUNCT'}, {'\"': 'PUNCT'}, {',': 'PUNCT'}, {'\"': 'PUNCT'}, {\"'\": 'PUNCT'}, {'.': 'PUNCT'}, {\"'\": 'PUNCT'}, {']': 'PUNCT'}, {'\"': 'PUNCT'}, {']': 'PUNCT'}, {'[': 'X'}, {'\"': 'PUNCT'}, {'[': 'X'}, {\"'\": 'PUNCT'}, {'.': 'PUNCT'}, {\"'\": 'PUNCT'}, {',': 'PUNCT'}, {'\"': 'PUNCT'}, {',': 'PUNCT'}, {'\"': 'PUNCT'}, {\"'\": 'PUNCT'}, {'.': 'PUNCT'}, {\"'\": 'PUNCT'}, {']': 'PUNCT'}, {'\"': 'PUNCT'}, {']': 'PUNCT'}, {'[': 'X'}, {'\"': 'PUNCT'}, {'[': 'X'}, {\"'\": 'VERB'}, {'(': 'PUNCT'}, {\"'\": 'PUNCT'}, {',': 'PUNCT'}, {'\"': 'PUNCT'}, {',': 'PUNCT'}, {'\"': 'PUNCT'}, {\"'\": 'PUNCT'}, {')': 'PUNCT'}, {\"'\": 'PUNCT'}, {']': 'PUNCT'}, {'\"': 'PUNCT'}, {']': 'PUNCT'}, {'[': 'X'}, {'\"': 'PUNCT'}, {'[': 'X'}, {\"'\": 'X'}, {'=': 'VERB'}, {\"'\": 'NUM'}, {',': 'PUNCT'}, {'\"': 'PUNCT'}, {',': 'PUNCT'}, {\"'\": 'PUNCT'}, {'\"': 'PUNCT'}, {'\\\\': 'PROPN'}, {\"'\": 'PUNCT'}, {'\"': 'PUNCT'}, {',': 'PUNCT'}, {\"'\": 'PUNCT'}, {',': 'PUNCT'}, {\"'\": 'PUNCT'}, {'\"': 'PUNCT'}, {'\\\\': 'PROPN'}, {\"'\": 'PUNCT'}, {'\"': 'PUNCT'}, {']': 'PUNCT'}, {\"'\": 'X'}, {']': 'PUNCT'}, {'[': 'X'}, {\"'\": 'PUNCT'}, {'[': 'X'}, {'\"': 'PUNCT'}, {'\\\\': 'PROPN'}, {\"'\": 'PUNCT'}, {'\"': 'PUNCT'}, {',': 'PUNCT'}, {\"'\": 'PUNCT'}, {',': 'PUNCT'}, {\"'\": 'PUNCT'}, {'\"': 'PUNCT'}, {'\\\\': 'PROPN'}, {\"'\": 'PUNCT'}, {'\"': 'PUNCT'}, {']': 'PUNCT'}, {\"'\": 'X'}, {']': 'PUNCT'}, {'[': 'X'}, {'\"': 'PUNCT'}, {'[': 'X'}, {\"'\": 'VERB'}, {'(': 'PUNCT'}, {\"'\": 'PUNCT'}, {',': 'PUNCT'}, {'\"': 'PUNCT'}, {',': 'PUNCT'}, {'\"': 'PUNCT'}, {\"'\": 'PUNCT'}, {'[': 'X'}, {\"'\": 'X'}, {',': 'PUNCT'}, {'\"': 'PUNCT'}, {',': 'PUNCT'}, {'\"': 'PUNCT'}, {\"'\": 'PUNCT'}, {']': 'X'}, {\"'\": 'NUM'}, {',': 'PUNCT'}, {'\"': 'PUNCT'}, {',': 'PUNCT'}, {'\"': 'PUNCT'}, {\"'\": 'PUNCT'}, {')': 'PUNCT'}, {\"'\": 'PUNCT'}, {']': 'PUNCT'}, {'\"': 'PUNCT'}, {']': 'PUNCT'}, {'[': 'X'}, {'\"': 'PUNCT'}, {'[': 'X'}, {\"'\": 'VERB'}, {'(': 'PUNCT'}, {\"'\": 'PUNCT'}, {',': 'PUNCT'}, {'\"': 'PUNCT'}, {',': 'PUNCT'}, {'\"': 'PUNCT'}, {\"'\": 'PUNCT'}, {'[': 'X'}, {\"'\": 'X'}, {',': 'PUNCT'}, {'\"': 'PUNCT'}, {',': 'PUNCT'}, {'\"': 'PUNCT'}, {\"'\": 'PUNCT'}, {']': 'X'}, {\"'\": 'NUM'}, {',': 'PUNCT'}, {'\"': 'PUNCT'}, {',': 'PUNCT'}, {'\"': 'PUNCT'}, {\"'\": 'PUNCT'}, {')': 'PUNCT'}, {\"'\": 'PUNCT'}, {']': 'PUNCT'}, {'\"': 'PUNCT'}, {']': 'PUNCT'}, {'[': 'X'}, {'\"': 'PUNCT'}, {'[': 'X'}, {\"'\": 'VERB'}, {'(': 'PUNCT'}, {\"'\": 'PUNCT'}, {',': 'PUNCT'}, {'\"': 'PUNCT'}, {',': 'PUNCT'}, {'\"': 'PUNCT'}, {\"'\": 'PUNCT'}, {'[': 'X'}, {\"'\": 'X'}, {',': 'PUNCT'}, {'\"': 'PUNCT'}, {',': 'PUNCT'}, {'\"': 'PUNCT'}, {\"'\": 'PUNCT'}, {']': 'X'}, {\"'\": 'NUM'}, {',': 'PUNCT'}, {'\"': 'PUNCT'}, {',': 'PUNCT'}, {'\"': 'PUNCT'}, {\"'\": 'PUNCT'}, {')': 'PUNCT'}, {\"'\": 'PUNCT'}, {']': 'PUNCT'}, {'\"': 'PUNCT'}, {']': 'PUNCT'}, {'[': 'X'}, {'\"': 'PUNCT'}, {'[': 'X'}, {\"'\": 'VERB'}, {'(': 'PUNCT'}, {\"'\": 'PUNCT'}, {',': 'PUNCT'}, {'\"': 'PUNCT'}, {',': 'PUNCT'}, {'\"': 'PUNCT'}, {\"'\": 'PUNCT'}, {'[': 'X'}, {\"'\": 'X'}, {',': 'PUNCT'}, {'\"': 'PUNCT'}, {',': 'PUNCT'}, {'\"': 'PUNCT'}, {\"'\": 'PUNCT'}, {']': 'X'}, {\"'\": 'NUM'}, {',': 'PUNCT'}, {'\"': 'PUNCT'}, {',': 'PUNCT'}, {'\"': 'PUNCT'}, {\"'\": 'PUNCT'}, {')': 'PUNCT'}, {\"'\": 'PUNCT'}, {']': 'PUNCT'}, {'\"': 'PUNCT'}, {']': 'PUNCT'}, {'[': 'X'}, {'\"': 'PUNCT'}, {'[': 'X'}, {\"'\": 'VERB'}, {'(': 'PUNCT'}, {\"'\": 'PUNCT'}, {',': 'PUNCT'}, {'\"': 'PUNCT'}, {',': 'PUNCT'}, {'\"': 'PUNCT'}, {\"'\": 'PUNCT'}, {'[': 'X'}, {\"'\": 'X'}, {',': 'PUNCT'}, {'\"': 'PUNCT'}, {',': 'PUNCT'}, {'\"': 'PUNCT'}, {\"'\": 'PUNCT'}, {']': 'X'}, {\"'\": 'NUM'}, {',': 'PUNCT'}, {'\"': 'PUNCT'}, {',': 'PUNCT'}, {'\"': 'PUNCT'}, {\"'\": 'PUNCT'}, {')': 'PUNCT'}, {\"'\": 'PUNCT'}, {']': 'PUNCT'}, {'\"': 'PUNCT'}, {']': 'PUNCT'}, {'[': 'X'}, {'\"': 'PUNCT'}, {'[': 'X'}, {\"'\": 'VERB'}, {'(': 'PUNCT'}, {\"'\": 'PUNCT'}, {',': 'PUNCT'}, {'\"': 'PUNCT'}, {',': 'PUNCT'}, {'\"': 'PUNCT'}, {\"'\": 'PUNCT'}, {'[': 'X'}, {\"'\": 'X'}, {',': 'PUNCT'}, {'\"': 'PUNCT'}, {',': 'PUNCT'}, {'\"': 'PUNCT'}, {\"'\": 'PUNCT'}, {']': 'X'}, {\"'\": 'NUM'}, {',': 'PUNCT'}, {'\"': 'PUNCT'}, {',': 'PUNCT'}, {'\"': 'PUNCT'}, {\"'\": 'PUNCT'}, {')': 'PUNCT'}, {\"'\": 'PUNCT'}, {']': 'PUNCT'}, {'\"': 'PUNCT'}, {']': 'PUNCT'}, {'[': 'X'}, {'\"': 'PUNCT'}, {'[': 'X'}, {\"'\": 'VERB'}, {'(': 'PUNCT'}, {\"'\": 'PUNCT'}, {',': 'PUNCT'}, {'\"': 'PUNCT'}, {',': 'PUNCT'}, {'\"': 'PUNCT'}, {\"'\": 'PUNCT'}, {'[': 'X'}, {\"'\": 'X'}, {',': 'PUNCT'}, {'\"': 'PUNCT'}, {',': 'PUNCT'}, {'\"': 'PUNCT'}, {\"'\": 'PUNCT'}, {']': 'X'}, {\"'\": 'NUM'}, {',': 'PUNCT'}, {'\"': 'PUNCT'}, {',': 'PUNCT'}, {'\"': 'PUNCT'}, {\"'\": 'PUNCT'}, {')': 'PUNCT'}, {\"'\": 'PUNCT'}, {']': 'PUNCT'}, {'\"': 'PUNCT'}, {']': 'PUNCT'}, {'[': 'X'}, {'\"': 'PUNCT'}, {'[': 'X'}, {\"'\": 'VERB'}, {'(': 'PUNCT'}, {\"'\": 'PUNCT'}, {',': 'PUNCT'}, {'\"': 'PUNCT'}, {',': 'PUNCT'}, {'\"': 'PUNCT'}, {\"'\": 'PUNCT'}, {'[': 'X'}, {\"'\": 'X'}, {',': 'PUNCT'}, {'\"': 'PUNCT'}, {',': 'PUNCT'}, {'\"': 'PUNCT'}, {\"'\": 'PUNCT'}, {']': 'X'}, {\"'\": 'NUM'}, {',': 'PUNCT'}, {'\"': 'PUNCT'}, {',': 'PUNCT'}, {'\"': 'PUNCT'}, {\"'\": 'PUNCT'}, {',': 'PUNCT'}, {\"'\": 'PUNCT'}, {',': 'PUNCT'}, {'\"': 'PUNCT'}, {',': 'PUNCT'}, {'\"': 'PUNCT'}, {\"'\": 'PUNCT'}, {')': 'PUNCT'}, {\"'\": 'PUNCT'}, {']': 'PUNCT'}, {'\"': 'PUNCT'}, {']': 'PUNCT'}, {'[': 'X'}, {'\"': 'PUNCT'}, {'[': 'X'}, {\"'\": 'VERB'}, {'(': 'PUNCT'}, {\"'\": 'PUNCT'}, {',': 'PUNCT'}, {'\"': 'PUNCT'}, {',': 'PUNCT'}, {'\"': 'PUNCT'}, {\"'\": 'PUNCT'}, {'[': 'X'}, {\"'\": 'X'}, {',': 'PUNCT'}, {'\"': 'PUNCT'}, {',': 'PUNCT'}, {'\"': 'PUNCT'}, {\"'\": 'PUNCT'}, {']': 'X'}, {\"'\": 'NUM'}, {',': 'PUNCT'}, {'\"': 'PUNCT'}, {',': 'PUNCT'}, {'\"': 'PUNCT'}, {\"'\": 'PUNCT'}, {',': 'PUNCT'}, {\"'\": 'PUNCT'}, {',': 'PUNCT'}, {'\"': 'PUNCT'}, {',': 'PUNCT'}, {'\"': 'PUNCT'}, {\"'\": 'PUNCT'}, {')': 'PUNCT'}, {\"'\": 'PUNCT'}, {']': 'PUNCT'}, {'\"': 'PUNCT'}, {']': 'PUNCT'}, {'[': 'X'}, {'\"': 'PUNCT'}, {'[': 'X'}, {\"'\": 'X'}, {'[': 'X'}, {\"'\": 'PROPN'}, {',': 'PUNCT'}, {'\"': 'PUNCT'}, {',': 'PUNCT'}, {'\"': 'PUNCT'}, {\"'\": 'PUNCT'}, {']': 'X'}, {\"'\": 'NUM'}, {',': 'PUNCT'}, {'\"': 'PUNCT'}, {',': 'PUNCT'}, {'\"': 'PUNCT'}, {\"'\": 'VERB'}, {'>': 'X'}, {\"'\": 'NUM'}, {',': 'PUNCT'}, {'\"': 'PUNCT'}, {',': 'PUNCT'}, {'\"': 'PUNCT'}, {\"'\": 'PUNCT'}, {'=': 'VERB'}, {\"'\": 'VERB'}, {',': 'PUNCT'}, {'\"': 'PUNCT'}, {',': 'PUNCT'}, {'\"': 'PUNCT'}, {\"'\": 'PUNCT'}, {'.': 'PUNCT'}, {\"'\": 'PUNCT'}, {']': 'PUNCT'}, {'\"': 'PUNCT'}, {']': 'PUNCT'}, {'[': 'X'}, {'\"': 'PUNCT'}, {'[': 'X'}, {\"'\": 'X'}, {'[': 'X'}, {\"'\": 'PROPN'}, {',': 'PUNCT'}, {'\"': 'PUNCT'}, {',': 'PUNCT'}, {'\"': 'PUNCT'}, {\"'\": 'PUNCT'}, {']': 'X'}, {\"'\": 'NUM'}, {',': 'PUNCT'}, {'\"': 'PUNCT'}, {',': 'PUNCT'}, {'\"': 'PUNCT'}, {\"'\": 'PUNCT'}, {'<': 'X'}, {\"'\": 'PUNCT'}, {',': 'PUNCT'}, {'\"': 'PUNCT'}, {',': 'PUNCT'}, {'\"': 'PUNCT'}, {\"'\": 'PUNCT'}, {'.': 'PUNCT'}, {\"'\": 'PUNCT'}, {']': 'PUNCT'}, {'\"': 'PUNCT'}, {']': 'PUNCT'}, {'[': 'X'}, {'\"': 'PUNCT'}, {'[': 'X'}, {\"'\": 'X'}, {'[': 'X'}, {\"'\": 'PROPN'}, {',': 'PUNCT'}, {'\"': 'PUNCT'}, {',': 'PUNCT'}, {'\"': 'PUNCT'}, {\"'\": 'PUNCT'}, {']': 'X'}, {\"'\": 'NUM'}, {',': 'PUNCT'}, {'\"': 'PUNCT'}, {',': 'PUNCT'}, {'\"': 'PUNCT'}, {\"'\": 'PUNCT'}, {'!': 'PUNCT'}, {\"'\": 'PUNCT'}, {',': 'PUNCT'}, {'\"': 'PUNCT'}, {',': 'PUNCT'}, {'\"': 'PUNCT'}, {\"'\": 'PUNCT'}, {'=': 'VERB'}, {\"'\": 'VERB'}, {',': 'PUNCT'}, {'\"': 'PUNCT'}, {',': 'PUNCT'}, {'\"': 'PUNCT'}, {\"'\": 'PUNCT'}, {'.': 'PUNCT'}, {\"'\": 'PUNCT'}, {']': 'PUNCT'}, {'\"': 'PUNCT'}, {']': 'PUNCT'}, {'[': 'X'}, {'\"': 'PUNCT'}, {'[': 'X'}, {\"'\": 'VERB'}, {'(': 'PUNCT'}, {\"'\": 'PUNCT'}, {',': 'PUNCT'}, {'\"': 'PUNCT'}, {',': 'PUNCT'}, {'\"': 'PUNCT'}, {\"'\": 'PUNCT'}, {'[': 'X'}, {\"'\": 'X'}, {',': 'PUNCT'}, {'\"': 'PUNCT'}, {',': 'PUNCT'}, {'\"': 'PUNCT'}, {\"'\": 'PUNCT'}, {']': 'X'}, {\"'\": 'NUM'}, {',': 'PUNCT'}, {'\"': 'PUNCT'}, {',': 'PUNCT'}, {'\"': 'PUNCT'}, {\"'\": 'PUNCT'}, {',': 'PUNCT'}, {\"'\": 'PUNCT'}, {',': 'PUNCT'}, {'\"': 'PUNCT'}, {',': 'PUNCT'}, {\"'\": 'PUNCT'}, {'\\\\\\'\"\\\\': 'PROPN'}, {\"'\": 'PUNCT'}, {',': 'PUNCT'}, {\"'\": 'PUNCT'}, {',': 'PUNCT'}, {\"'\": 'PUNCT'}, {'\\\\\\'\"\\\\': 'PROPN'}, {\"'\": 'PUNCT'}, {',': 'PUNCT'}, {\"'\": 'PUNCT'}, {',': 'PUNCT'}, {'\"': 'PUNCT'}, {\"'\": 'PUNCT'}, {')': 'PUNCT'}, {\"'\": 'PUNCT'}, {']': 'PUNCT'}, {'\"': 'PUNCT'}, {']': 'PUNCT'}, {'[': 'X'}, {'\"': 'PUNCT'}, {'[': 'X'}, {\"'\": 'X'}, {'[': 'X'}, {\"'\": 'PROPN'}, {',': 'PUNCT'}, {'\"': 'PUNCT'}, {',': 'PUNCT'}, {'\"': 'PUNCT'}, {\"'\": 'PUNCT'}, {']': 'X'}, {\"'\": 'NUM'}, {',': 'PUNCT'}, {'\"': 'PUNCT'}, {',': 'PUNCT'}, {'\"': 'PUNCT'}, {\"'\": 'PUNCT'}, {'=': 'VERB'}, {\"'\": 'VERB'}, {',': 'PUNCT'}, {'\"': 'PUNCT'}, {',': 'PUNCT'}, {'\"': 'PUNCT'}, {\"'\": 'PUNCT'}, {'.': 'PUNCT'}, {\"'\": 'PUNCT'}, {']': 'PUNCT'}, {'\"': 'PUNCT'}, {']': 'PUNCT'}, {'[': 'X'}, {'\"': 'PUNCT'}, {'[': 'X'}, {\"'\": 'VERB'}, {'(': 'PUNCT'}, {\"'\": 'PUNCT'}, {',': 'PUNCT'}, {'\"': 'PUNCT'}, {',': 'PUNCT'}, {'\"': 'PUNCT'}, {\"'\": 'PUNCT'}, {')': 'PUNCT'}, {\"'\": 'PUNCT'}, {',': 'PUNCT'}, {'\"': 'PUNCT'}, {',': 'PUNCT'}, {'\"': 'PUNCT'}, {\"'\": 'PUNCT'}, {'<': 'X'}, {\"'\": 'PUNCT'}, {',': 'PUNCT'}, {'\"': 'PUNCT'}, {',': 'PUNCT'}, {'\"': 'PUNCT'}, {\"'\": 'PUNCT'}, {'=': 'VERB'}, {\"'\": 'VERB'}, {',': 'PUNCT'}, {'\"': 'PUNCT'}, {',': 'PUNCT'}, {'\"': 'PUNCT'}, {\"'\": 'PUNCT'}, {'(': 'PUNCT'}, {\"'\": 'PUNCT'}, {',': 'PUNCT'}, {'\"': 'PUNCT'}, {',': 'PUNCT'}, {'\"': 'PUNCT'}, {\"'\": 'PUNCT'}, {'[': 'X'}, {\"'\": 'X'}, {',': 'PUNCT'}, {'\"': 'PUNCT'}, {',': 'PUNCT'}, {'\"': 'PUNCT'}, {\"'\": 'PUNCT'}, {']': 'X'}, {\"'\": 'NUM'}, {',': 'PUNCT'}, {'\"': 'PUNCT'}, {',': 'PUNCT'}, {'\"': 'PUNCT'}, {\"'\": 'PUNCT'}, {')': 'PUNCT'}, {\"'\": 'PUNCT'}, {']': 'PUNCT'}, {'\"': 'PUNCT'}, {']': 'PUNCT'}, {'[': 'X'}, {'\"': 'PUNCT'}, {'[': 'X'}, {\"'\": 'VERB'}, {'(': 'PUNCT'}, {\"'\": 'PUNCT'}, {',': 'PUNCT'}, {'\"': 'PUNCT'}, {',': 'PUNCT'}, {'\"': 'PUNCT'}, {\"'\": 'PUNCT'}, {')': 'PUNCT'}, {\"'\": 'PUNCT'}, {',': 'PUNCT'}, {'\"': 'PUNCT'}, {',': 'PUNCT'}, {'\"': 'PUNCT'}, {\"'\": 'PUNCT'}, {'<': 'X'}, {\"'\": 'PUNCT'}, {',': 'PUNCT'}, {'\"': 'PUNCT'}, {',': 'PUNCT'}, {'\"': 'PUNCT'}, {\"'\": 'PUNCT'}, {'=': 'VERB'}, {\"'\": 'VERB'}, {',': 'PUNCT'}, {'\"': 'PUNCT'}, {',': 'PUNCT'}, {'\"': 'PUNCT'}, {\"'\": 'PUNCT'}, {'[': 'X'}, {\"'\": 'X'}, {',': 'PUNCT'}, {'\"': 'PUNCT'}, {',': 'PUNCT'}, {'\"': 'PUNCT'}, {\"'\": 'PUNCT'}, {']': 'X'}, {\"'\": 'X'}, {']': 'X'}, {'\"': 'PUNCT'}, {']': 'PUNCT'}, {'[': 'X'}, {'\"': 'PUNCT'}, {'[': 'X'}, {\"'\": 'X'}, {'[': 'X'}, {\"'\": 'PROPN'}, {',': 'PUNCT'}, {'\"': 'PUNCT'}, {',': 'PUNCT'}, {'\"': 'PUNCT'}, {\"'\": 'PUNCT'}, {']': 'X'}, {\"'\": 'NUM'}, {',': 'PUNCT'}, {'\"': 'PUNCT'}, {',': 'PUNCT'}, {'\"': 'PUNCT'}, {\"'\": 'VERB'}, {'>': 'X'}, {\"'\": 'NUM'}, {',': 'PUNCT'}, {'\"': 'PUNCT'}, {',': 'PUNCT'}, {'\"': 'PUNCT'}, {\"'\": 'PUNCT'}, {'=': 'VERB'}, {\"'\": 'VERB'}, {',': 'PUNCT'}, {'\"': 'PUNCT'}, {',': 'PUNCT'}, {'\"': 'PUNCT'}, {\"'\": 'PUNCT'}, {'[': 'X'}, {\"'\": 'X'}, {',': 'PUNCT'}, {'\"': 'PUNCT'}, {',': 'PUNCT'}, {'\"': 'PUNCT'}, {\"'\": 'PUNCT'}, {']': 'X'}, {\"'\": 'NUM'}, {',': 'PUNCT'}, {'\"': 'PUNCT'}, {',': 'PUNCT'}, {'\"': 'PUNCT'}, {\"'\": 'PUNCT'}, {'<': 'X'}, {\"'\": 'PUNCT'}, {',': 'PUNCT'}, {'\"': 'PUNCT'}, {',': 'PUNCT'}, {'\"': 'PUNCT'}, {\"'\": 'PUNCT'}, {'=': 'VERB'}, {\"'\": 'X'}, {']': 'X'}, {'\"': 'PUNCT'}, {']': 'PUNCT'}, {'[': 'X'}, {'\"': 'PUNCT'}, {'[': 'X'}, {\"'\": 'VERB'}, {'(': 'PUNCT'}, {\"'\": 'PUNCT'}, {',': 'PUNCT'}, {'\"': 'PUNCT'}, {',': 'PUNCT'}, {\"'\": 'PUNCT'}, {'\"': 'PUNCT'}, {'\\\\': 'PROPN'}, {\"'\": 'PUNCT'}, {'\"': 'PUNCT'}, {',': 'PUNCT'}, {\"'\": 'PUNCT'}, {',': 'PUNCT'}, {\"'\": 'PUNCT'}, {'\"': 'PUNCT'}, {'\\\\': 'PROPN'}, {\"'\": 'PROPN'}, {',': 'PUNCT'}, {'\"': 'PUNCT'}, {',': 'PUNCT'}, {\"'\": 'PUNCT'}, {',': 'PUNCT'}, {'\"': 'PUNCT'}, {\"'\": 'PUNCT'}, {'[': 'X'}, {\"'\": 'X'}, {',': 'PUNCT'}, {'\"': 'PUNCT'}, {',': 'PUNCT'}, {'\"': 'PUNCT'}, {\"'\": 'PUNCT'}, {']': 'X'}, {\"'\": 'NUM'}, {',': 'PUNCT'}, {'\"': 'PUNCT'}, {',': 'PUNCT'}, {'\"': 'PUNCT'}, {\"'\": 'PUNCT'}, {')': 'PUNCT'}, {\"'\": 'PUNCT'}, {']': 'PUNCT'}, {'\"': 'PUNCT'}, {']': 'PUNCT'}, {'[': 'X'}, {'\"': 'PUNCT'}, {'[': 'X'}, {\"'\": 'VERB'}, {'(': 'PUNCT'}, {\"'\": 'PUNCT'}, {',': 'PUNCT'}, {'\"': 'PUNCT'}, {',': 'PUNCT'}, {'\"': 'PUNCT'}, {\"'\": 'PUNCT'}, {'[': 'X'}, {\"'\": 'X'}, {',': 'PUNCT'}, {'\"': 'PUNCT'}, {',': 'PUNCT'}, {'\"': 'PUNCT'}, {\"'\": 'PUNCT'}, {']': 'X'}, {\"'\": 'NUM'}, {',': 'PUNCT'}, {'\"': 'PUNCT'}, {',': 'PUNCT'}, {'\"': 'PUNCT'}, {\"'\": 'PUNCT'}, {')': 'PUNCT'}, {\"'\": 'PUNCT'}, {',': 'PUNCT'}, {'\"': 'PUNCT'}, {',': 'PUNCT'}, {'\"': 'PUNCT'}, {\"'\": 'PUNCT'}, {'=': 'VERB'}, {\"'\": 'VERB'}, {',': 'PUNCT'}, {'\"': 'PUNCT'}, {',': 'PUNCT'}, {'\"': 'PUNCT'}, {\"'\": 'PUNCT'}, {'(': 'PUNCT'}, {\"'\": 'PUNCT'}, {',': 'PUNCT'}, {'\"': 'PUNCT'}, {',': 'PUNCT'}, {'\"': 'PUNCT'}, {\"'\": 'PUNCT'}, {'(': 'PUNCT'}, {\"'\": 'PUNCT'}, {',': 'PUNCT'}, {'\"': 'PUNCT'}, {',': 'PUNCT'}, {'\"': 'PUNCT'}, {\"'\": 'PUNCT'}, {')': 'PUNCT'}, {\"'\": 'PUNCT'}, {',': 'PUNCT'}, {'\"': 'PUNCT'}, {',': 'PUNCT'}, {'\"': 'PUNCT'}, {\"'\": 'PUNCT'}, {')': 'PUNCT'}, {\"'\": 'PUNCT'}, {',': 'PUNCT'}, {'\"': 'PUNCT'}, {',': 'PUNCT'}, {'\"': 'PUNCT'}, {\"'\": 'PUNCT'}, {'-': 'PROPN'}, {\"'\": 'PUNCT'}, {']': 'PUNCT'}, {'\"': 'PUNCT'}, {']': 'PUNCT'}, {'[': 'X'}, {'\"': 'PUNCT'}, {'[': 'X'}, {\"'\": 'X'}, {'[': 'X'}, {\"'\": 'PROPN'}, {',': 'PUNCT'}, {'\"': 'PUNCT'}, {',': 'PUNCT'}, {'\"': 'PUNCT'}, {\"'\": 'PUNCT'}, {']': 'X'}, {\"'\": 'NUM'}, {',': 'PUNCT'}, {'\"': 'PUNCT'}, {',': 'PUNCT'}, {'\"': 'PUNCT'}, {\"'\": 'VERB'}, {'>': 'X'}, {\"'\": 'NUM'}, {',': 'PUNCT'}, {'\"': 'PUNCT'}, {',': 'PUNCT'}, {'\"': 'PUNCT'}, {\"'\": 'PUNCT'}, {'=': 'VERB'}, {\"'\": 'VERB'}, {',': 'PUNCT'}, {'\"': 'PUNCT'}, {',': 'PUNCT'}, {'\"': 'PUNCT'}, {\"'\": 'PUNCT'}, {'(': 'PUNCT'}, {\"'\": 'PUNCT'}, {',': 'PUNCT'}, {'\"': 'PUNCT'}, {',': 'PUNCT'}, {\"'\": 'PUNCT'}, {'\"': 'PUNCT'}, {'\\\\': 'PROPN'}, {\"'\": 'PUNCT'}, {'\"': 'PUNCT'}, {',': 'PUNCT'}, {\"'\": 'PUNCT'}, {',': 'PUNCT'}, {\"'\": 'PUNCT'}, {'\"': 'PUNCT'}, {'\\\\': 'PROPN'}, {\"'\": 'PUNCT'}, {'\"': 'PUNCT'}, {',': 'PUNCT'}, {\"'\": 'PUNCT'}, {',': 'PUNCT'}, {'\"': 'PUNCT'}, {\"'\": 'PUNCT'}, {',': 'PUNCT'}, {\"'\": 'PUNCT'}, {',': 'PUNCT'}, {'\"': 'PUNCT'}, {',': 'PUNCT'}, {'\"': 'PUNCT'}, {\"'\": 'PUNCT'}, {'(': 'PUNCT'}, {\"'\": 'PUNCT'}, {',': 'PUNCT'}, {'\"': 'PUNCT'}, {',': 'PUNCT'}, {'\"': 'PUNCT'}, {\"'\": 'PUNCT'}, {')': 'PUNCT'}, {\"'\": 'PUNCT'}, {',': 'PUNCT'}, {'\"': 'PUNCT'}, {',': 'PUNCT'}, {'\"': 'PUNCT'}, {\"'\": 'PUNCT'}, {')': 'PUNCT'}, {\"'\": 'PUNCT'}, {']': 'PUNCT'}, {'\"': 'PUNCT'}, {']': 'PUNCT'}, {'[': 'X'}, {'\"': 'PUNCT'}, {'[': 'X'}, {\"'\": 'VERB'}, {'(': 'PUNCT'}, {\"'\": 'PUNCT'}, {',': 'PUNCT'}, {'\"': 'PUNCT'}, {',': 'PUNCT'}, {'\"': 'PUNCT'}, {\"'\": 'PUNCT'}, {'[': 'X'}, {\"'\": 'X'}, {',': 'PUNCT'}, {'\"': 'PUNCT'}, {',': 'PUNCT'}, {'\"': 'PUNCT'}, {\"'\": 'PUNCT'}, {']': 'X'}, {\"'\": 'NUM'}, {',': 'PUNCT'}, {'\"': 'PUNCT'}, {',': 'PUNCT'}, {'\"': 'PUNCT'}, {\"'\": 'PUNCT'}, {')': 'PUNCT'}, {\"'\": 'PUNCT'}, {',': 'PUNCT'}, {'\"': 'PUNCT'}, {',': 'PUNCT'}, {'\"': 'PUNCT'}, {\"'\": 'PUNCT'}, {'[': 'X'}, {\"'\": 'X'}, {',': 'PUNCT'}, {'\"': 'PUNCT'}, {',': 'PUNCT'}, {'\"': 'PUNCT'}, {\"'\": 'PUNCT'}, {']': 'X'}, {\"'\": 'NUM'}, {',': 'PUNCT'}, {'\"': 'PUNCT'}, {',': 'PUNCT'}, {'\"': 'PUNCT'}, {\"'\": 'PUNCT'}, {'[': 'X'}, {\"'\": 'X'}, {',': 'PUNCT'}, {'\"': 'PUNCT'}, {',': 'PUNCT'}, {'\"': 'PUNCT'}, {\"'\": 'PUNCT'}, {']': 'X'}, {\"'\": 'X'}, {']': 'X'}, {'\"': 'PUNCT'}, {']': 'PUNCT'}, {'[': 'X'}, {'\"': 'PUNCT'}, {'[': 'X'}, {\"'\": 'VERB'}, {'(': 'PUNCT'}, {\"'\": 'PUNCT'}, {',': 'PUNCT'}, {'\"': 'PUNCT'}, {',': 'PUNCT'}, {'\"': 'PUNCT'}, {\"'\": 'PUNCT'}, {'(': 'PUNCT'}, {\"'\": 'PUNCT'}, {',': 'PUNCT'}, {'\"': 'PUNCT'}, {',': 'PUNCT'}, {'\"': 'PUNCT'}, {\"'\": 'PUNCT'}, {'[': 'X'}, {\"'\": 'X'}, {',': 'PUNCT'}, {'\"': 'PUNCT'}, {',': 'PUNCT'}, {'\"': 'PUNCT'}, {\"'\": 'PUNCT'}, {']': 'X'}, {\"'\": 'NUM'}, {',': 'PUNCT'}, {'\"': 'PUNCT'}, {',': 'PUNCT'}, {'\"': 'PUNCT'}, {\"'\": 'PUNCT'}, {')': 'PUNCT'}, {\"'\": 'PUNCT'}, {',': 'PUNCT'}, {'\"': 'PUNCT'}, {',': 'PUNCT'}, {'\"': 'PUNCT'}, {\"'\": 'PUNCT'}, {'=': 'VERB'}, {\"'\": 'VERB'}, {',': 'PUNCT'}, {'\"': 'PUNCT'}, {',': 'PUNCT'}, {\"'\": 'PUNCT'}, {'\"': 'PUNCT'}, {'\\\\': 'PROPN'}, {\"'\": 'PUNCT'}, {'\"': 'PUNCT'}, {',': 'PUNCT'}, {\"'\": 'PUNCT'}, {',': 'PUNCT'}, {\"'\": 'PUNCT'}, {'\"': 'PUNCT'}, {'\\\\': 'PROPN'}, {\"'\": 'PUNCT'}, {'\"': 'PUNCT'}, {',': 'PUNCT'}, {\"'\": 'PUNCT'}, {',': 'PUNCT'}, {'\"': 'PUNCT'}, {\"'\": 'PUNCT'}, {'[': 'X'}, {\"'\": 'X'}, {',': 'PUNCT'}, {'\"': 'PUNCT'}, {',': 'PUNCT'}, {'\"': 'PUNCT'}, {\"'\": 'PUNCT'}, {']': 'X'}, {\"'\": 'NUM'}, {',': 'PUNCT'}, {'\"': 'PUNCT'}, {',': 'PUNCT'}, {'\"': 'PUNCT'}, {\"'\": 'PUNCT'}, {')': 'PUNCT'}, {\"'\": 'PUNCT'}, {']': 'PUNCT'}, {'\"': 'PUNCT'}, {']': 'PUNCT'}, {'[': 'X'}, {'\"': 'PUNCT'}, {'[': 'X'}, {\"'\": 'X'}, {'[': 'X'}, {\"'\": 'PROPN'}, {',': 'PUNCT'}, {'\"': 'PUNCT'}, {',': 'PUNCT'}, {'\"': 'PUNCT'}, {\"'\": 'PUNCT'}, {']': 'X'}, {\"'\": 'NUM'}, {',': 'PUNCT'}, {'\"': 'PUNCT'}, {',': 'PUNCT'}, {'\"': 'PUNCT'}, {\"'\": 'VERB'}, {'>': 'X'}, {\"'\": 'NUM'}, {',': 'PUNCT'}, {'\"': 'PUNCT'}, {',': 'PUNCT'}, {'\"': 'PUNCT'}, {\"'\": 'PUNCT'}, {'.': 'PUNCT'}, {\"'\": 'PUNCT'}, {',': 'PUNCT'}, {'\"': 'PUNCT'}, {',': 'PUNCT'}, {'\"': 'PUNCT'}, {\"'\": 'PUNCT'}, {'[': 'X'}, {\"'\": 'X'}, {',': 'PUNCT'}, {'\"': 'PUNCT'}, {',': 'PUNCT'}, {'\"': 'PUNCT'}, {\"'\": 'PUNCT'}, {']': 'X'}, {\"'\": 'NUM'}, {',': 'PUNCT'}, {'\"': 'PUNCT'}, {',': 'PUNCT'}, {'\"': 'PUNCT'}, {\"'\": 'VERB'}, {'>': 'X'}, {\"'\": 'NUM'}, {',': 'PUNCT'}, {'\"': 'PUNCT'}, {',': 'PUNCT'}, {'\"': 'PUNCT'}, {\"'\": 'PUNCT'}, {'.': 'PUNCT'}, {\"'\": 'PUNCT'}, {']': 'PUNCT'}, {'\"': 'PUNCT'}, {']': 'PUNCT'}, {'[': 'X'}, {'\"': 'PUNCT'}, {'[': 'X'}, {\"'\": 'VERB'}, {'(': 'PUNCT'}, {\"'\": 'PUNCT'}, {',': 'PUNCT'}, {'\"': 'PUNCT'}, {',': 'PUNCT'}, {'\"': 'PUNCT'}, {\"'\": 'PUNCT'}, {'[': 'X'}, {\"'\": 'X'}, {',': 'PUNCT'}, {'\"': 'PUNCT'}, {',': 'PUNCT'}, {'\"': 'PUNCT'}, {\"'\": 'PUNCT'}, {']': 'X'}, {\"'\": 'NUM'}, {',': 'PUNCT'}, {'\"': 'PUNCT'}, {',': 'PUNCT'}, {'\"': 'PUNCT'}, {\"'\": 'PUNCT'}, {')': 'PUNCT'}, {\"'\": 'PUNCT'}, {',': 'PUNCT'}, {'\"': 'PUNCT'}, {',': 'PUNCT'}, {'\"': 'PUNCT'}, {\"'\": 'PUNCT'}, {'<': 'X'}, {\"'\": 'PUNCT'}, {',': 'PUNCT'}, {'\"': 'PUNCT'}, {',': 'PUNCT'}, {'\"': 'PUNCT'}, {\"'\": 'PUNCT'}, {'=': 'VERB'}, {\"'\": 'VERB'}, {',': 'PUNCT'}, {'\"': 'PUNCT'}, {',': 'PUNCT'}, {'\"': 'PUNCT'}, {\"'\": 'PUNCT'}, {'.': 'PUNCT'}, {\"'\": 'PUNCT'}, {']': 'PUNCT'}, {'\"': 'PUNCT'}, {']': 'PUNCT'}, {'[': 'X'}, {'\"': 'PUNCT'}, {'[': 'X'}, {\"'\": 'VERB'}, {'(': 'PUNCT'}, {\"'\": 'PUNCT'}, {',': 'PUNCT'}, {'\"': 'PUNCT'}, {',': 'PUNCT'}, {'\"': 'PUNCT'}, {\"'\": 'PUNCT'}, {'[': 'X'}, {\"'\": 'X'}, {',': 'PUNCT'}, {'\"': 'PUNCT'}, {',': 'PUNCT'}, {'\"': 'PUNCT'}, {\"'\": 'PUNCT'}, {']': 'X'}, {\"'\": 'NUM'}, {',': 'PUNCT'}, {'\"': 'PUNCT'}, {',': 'PUNCT'}, {'\"': 'PUNCT'}, {\"'\": 'PUNCT'}, {')': 'PUNCT'}, {\"'\": 'PUNCT'}, {']': 'PUNCT'}, {'\"': 'PUNCT'}, {']': 'PUNCT'}, {'[': 'X'}, {'\"': 'PUNCT'}, {'[': 'X'}, {\"'\": 'VERB'}, {'(': 'PUNCT'}, {\"'\": 'PUNCT'}, {',': 'PUNCT'}, {'\"': 'PUNCT'}, {',': 'PUNCT'}, {'\"': 'PUNCT'}, {\"'\": 'PUNCT'}, {'[': 'X'}, {\"'\": 'X'}, {',': 'PUNCT'}, {'\"': 'PUNCT'}, {',': 'PUNCT'}, {'\"': 'PUNCT'}, {\"'\": 'PUNCT'}, {']': 'X'}, {\"'\": 'NUM'}, {',': 'PUNCT'}, {'\"': 'PUNCT'}, {',': 'PUNCT'}, {'\"': 'PUNCT'}, {\"'\": 'PUNCT'}, {')': 'PUNCT'}, {\"'\": 'PUNCT'}, {']': 'PUNCT'}, {'\"': 'PUNCT'}, {']': 'PUNCT'}, {'[': 'X'}, {'\"': 'PUNCT'}, {'[': 'X'}, {\"'\": 'VERB'}, {'{': 'PUNCT'}, {\"'\": 'PROPN'}, {',': 'PUNCT'}, {'\"': 'PUNCT'}, {',': 'PUNCT'}, {'\"': 'PUNCT'}, {\"'\": 'PUNCT'}, {'[': 'X'}, {\"'\": 'X'}, {',': 'PUNCT'}, {'\"': 'PUNCT'}, {',': 'PUNCT'}, {'\"': 'PUNCT'}, {\"'\": 'PUNCT'}, {']': 'X'}, {\"'\": 'NUM'}, {',': 'PUNCT'}, {'\"': 'PUNCT'}, {',': 'PUNCT'}, {'\"': 'PUNCT'}, {\"'\": 'PUNCT'}, {'=': 'VERB'}, {\"'\": 'VERB'}, {',': 'PUNCT'}, {'\"': 'PUNCT'}, {',': 'PUNCT'}, {\"'\": 'PUNCT'}, {'\\\\\\'\"\\\\': 'PROPN'}, {\"'\": 'PUNCT'}, {',': 'PUNCT'}, {\"'\": 'PUNCT'}, {',': 'PUNCT'}, {\"'\": 'PUNCT'}, {'\\\\\\'\"\\\\': 'PROPN'}, {\"'\": 'PUNCT'}, {',': 'PUNCT'}, {\"'\": 'PUNCT'}, {',': 'PUNCT'}, {'\"': 'PUNCT'}, {\"'\": 'PUNCT'}, {':': 'PUNCT'}, {\"'\": 'PUNCT'}, {',': 'PUNCT'}, {'\"': 'PUNCT'}, {',': 'PUNCT'}, {'\"': 'PUNCT'}, {\"'\": 'PUNCT'}, {'(': 'PUNCT'}, {\"'\": 'PUNCT'}, {',': 'PUNCT'}, {'\"': 'PUNCT'}, {',': 'PUNCT'}, {'\"': 'PUNCT'}, {\"'\": 'PUNCT'}, {'[': 'X'}, {\"'\": 'X'}, {',': 'PUNCT'}, {'\"': 'PUNCT'}, {',': 'PUNCT'}, {'\"': 'PUNCT'}, {\"'\": 'PUNCT'}, {']': 'X'}, {\"'\": 'NUM'}, {',': 'PUNCT'}, {'\"': 'PUNCT'}, {',': 'PUNCT'}, {'\"': 'PUNCT'}, {\"'\": 'PUNCT'}, {')': 'PUNCT'}, {\"'\": 'PUNCT'}, {',': 'PUNCT'}, {'\"': 'PUNCT'}, {',': 'PUNCT'}, {'\"': 'PUNCT'}, {\"'\": 'PUNCT'}, {'}': 'PRON'}, {\"'\": 'PUNCT'}, {']': 'PUNCT'}, {'\"': 'PUNCT'}, {']': 'PUNCT'}, {'[': 'X'}, {'\"': 'PUNCT'}, {'[': 'X'}, {\"'\": 'VERB'}, {'(': 'PUNCT'}, {\"'\": 'PUNCT'}, {',': 'PUNCT'}, {'\"': 'PUNCT'}, {',': 'PUNCT'}, {'\"': 'PUNCT'}, {\"'\": 'PUNCT'}, {'[': 'X'}, {\"'\": 'X'}, {',': 'PUNCT'}, {'\"': 'PUNCT'}, {',': 'PUNCT'}, {'\"': 'PUNCT'}, {\"'\": 'PUNCT'}, {']': 'X'}, {\"'\": 'NUM'}, {',': 'PUNCT'}, {'\"': 'PUNCT'}, {',': 'PUNCT'}, {'\"': 'PUNCT'}, {\"'\": 'PUNCT'}, {'=': 'VERB'}, {\"'\": 'VERB'}, {',': 'PUNCT'}, {'\"': 'PUNCT'}, {',': 'PUNCT'}, {\"'\": 'PUNCT'}, {'\\\\\\'\"\\\\': 'PROPN'}, {\"'\": 'PUNCT'}, {',': 'PUNCT'}, {\"'\": 'PUNCT'}, {',': 'PUNCT'}, {\"'\": 'PUNCT'}, {'\\\\\\'\"\\\\': 'PROPN'}, {\"'\": 'PUNCT'}, {',': 'PUNCT'}, {\"'\": 'PUNCT'}, {',': 'PUNCT'}, {'\"': 'PUNCT'}, {\"'\": 'PUNCT'}, {')': 'PUNCT'}, {\"'\": 'PUNCT'}, {']': 'PUNCT'}, {'\"': 'PUNCT'}, {']': 'PUNCT'}, {'[': 'X'}, {'\"': 'PUNCT'}, {'[': 'X'}, {\"'\": 'VERB'}, {'(': 'PUNCT'}, {\"'\": 'PUNCT'}, {',': 'PUNCT'}, {'\"': 'PUNCT'}, {',': 'PUNCT'}, {'\"': 'PUNCT'}, {\"'\": 'PUNCT'}, {'[': 'X'}, {\"'\": 'X'}, {',': 'PUNCT'}, {'\"': 'PUNCT'}, {',': 'PUNCT'}, {'\"': 'PUNCT'}, {\"'\": 'PUNCT'}, {']': 'X'}, {\"'\": 'NUM'}, {',': 'PUNCT'}, {'\"': 'PUNCT'}, {',': 'PUNCT'}, {'\"': 'PUNCT'}, {\"'\": 'VERB'}, {'>': 'X'}, {\"'\": 'NUM'}, {',': 'PUNCT'}, {'\"': 'PUNCT'}, {',': 'PUNCT'}, {'\"': 'PUNCT'}, {\"'\": 'PUNCT'}, {'.': 'PUNCT'}, {\"'\": 'PUNCT'}, {',': 'PUNCT'}, {'\"': 'PUNCT'}, {',': 'PUNCT'}, {'\"': 'PUNCT'}, {\"'\": 'PUNCT'}, {'[': 'X'}, {\"'\": 'X'}, {',': 'PUNCT'}, {'\"': 'PUNCT'}, {',': 'PUNCT'}, {'\"': 'PUNCT'}, {\"'\": 'PUNCT'}, {']': 'X'}, {\"'\": 'NUM'}, {',': 'PUNCT'}, {'\"': 'PUNCT'}, {',': 'PUNCT'}, {'\"': 'PUNCT'}, {\"'\": 'PUNCT'}, {')': 'PUNCT'}, {\"'\": 'PUNCT'}, {']': 'PUNCT'}, {'\"': 'PUNCT'}, {']': 'PUNCT'}, {'[': 'X'}, {'\"': 'PUNCT'}, {'[': 'X'}, {\"'\": 'VERB'}, {'{': 'PUNCT'}, {\"'\": 'PROPN'}, {',': 'PUNCT'}, {'\"': 'PUNCT'}, {',': 'PUNCT'}, {'\"': 'PUNCT'}, {\"'\": 'PUNCT'}, {'[': 'X'}, {\"'\": 'X'}, {',': 'PUNCT'}, {'\"': 'PUNCT'}, {',': 'PUNCT'}, {'\"': 'PUNCT'}, {\"'\": 'PUNCT'}, {']': 'X'}, {\"'\": 'NUM'}, {',': 'PUNCT'}, {'\"': 'PUNCT'}, {',': 'PUNCT'}, {'\"': 'PUNCT'}, {\"'\": 'PUNCT'}, {'=': 'VERB'}, {\"'\": 'VERB'}, {',': 'PUNCT'}, {'\"': 'PUNCT'}, {',': 'PUNCT'}, {\"'\": 'PUNCT'}, {'\\\\\\'\"\\\\': 'PROPN'}, {\"'\": 'PUNCT'}, {',': 'PUNCT'}, {\"'\": 'PUNCT'}, {',': 'PUNCT'}, {\"'\": 'PUNCT'}, {'\\\\\\'\"\\\\': 'PROPN'}, {\"'\": 'PUNCT'}, {',': 'PUNCT'}, {\"'\": 'PUNCT'}, {',': 'PUNCT'}, {'\"': 'PUNCT'}, {\"'\": 'PUNCT'}, {':': 'PUNCT'}, {\"'\": 'PUNCT'}, {',': 'PUNCT'}, {'\"': 'PUNCT'}, {',': 'PUNCT'}, {'\"': 'PUNCT'}, {\"'\": 'PUNCT'}, {'(': 'PUNCT'}, {\"'\": 'PUNCT'}, {',': 'PUNCT'}, {'\"': 'PUNCT'}, {',': 'PUNCT'}, {'\"': 'PUNCT'}, {\"'\": 'PUNCT'}, {'[': 'X'}, {\"'\": 'X'}, {',': 'PUNCT'}, {'\"': 'PUNCT'}, {',': 'PUNCT'}, {'\"': 'PUNCT'}, {\"'\": 'PUNCT'}, {']': 'X'}, {\"'\": 'NUM'}, {',': 'PUNCT'}, {'\"': 'PUNCT'}, {',': 'PUNCT'}, {'\"': 'PUNCT'}, {\"'\": 'PUNCT'}, {')': 'PUNCT'}, {\"'\": 'PUNCT'}, {',': 'PUNCT'}, {'\"': 'PUNCT'}, {',': 'PUNCT'}, {'\"': 'PUNCT'}, {\"'\": 'PUNCT'}, {'}': 'PRON'}, {\"'\": 'PUNCT'}, {']': 'PUNCT'}, {'\"': 'PUNCT'}, {']': 'PUNCT'}, {'[': 'X'}, {'\"': 'PUNCT'}, {'[': 'X'}, {\"'\": 'VERB'}, {'{': 'PUNCT'}, {\"'\": 'PROPN'}, {',': 'PUNCT'}, {'\"': 'PUNCT'}, {',': 'PUNCT'}, {'\"': 'PUNCT'}, {\"'\": 'PUNCT'}, {'[': 'X'}, {\"'\": 'X'}, {',': 'PUNCT'}, {'\"': 'PUNCT'}, {',': 'PUNCT'}, {'\"': 'PUNCT'}, {\"'\": 'PUNCT'}, {']': 'X'}, {\"'\": 'NUM'}, {',': 'PUNCT'}, {'\"': 'PUNCT'}, {',': 'PUNCT'}, {'\"': 'PUNCT'}, {\"'\": 'PUNCT'}, {'=': 'VERB'}, {\"'\": 'VERB'}, {',': 'PUNCT'}, {'\"': 'PUNCT'}, {',': 'PUNCT'}, {\"'\": 'PUNCT'}, {'\\\\\\'\"\\\\': 'PROPN'}, {\"'\": 'PUNCT'}, {',': 'PUNCT'}, {\"'\": 'PUNCT'}, {',': 'PUNCT'}, {\"'\": 'PUNCT'}, {'\\\\\\'\"\\\\': 'PROPN'}, {\"'\": 'PUNCT'}, {',': 'PUNCT'}, {\"'\": 'PUNCT'}, {',': 'PUNCT'}, {'\"': 'PUNCT'}, {\"'\": 'PUNCT'}, {':': 'PUNCT'}, {\"'\": 'PUNCT'}, {',': 'PUNCT'}, {'\"': 'PUNCT'}, {',': 'PUNCT'}, {'\"': 'PUNCT'}, {\"'\": 'PUNCT'}, {'(': 'PUNCT'}, {\"'\": 'PUNCT'}, {',': 'PUNCT'}, {'\"': 'PUNCT'}, {',': 'PUNCT'}, {'\"': 'PUNCT'}, {\"'\": 'PUNCT'}, {'[': 'X'}, {\"'\": 'X'}, {',': 'PUNCT'}, {'\"': 'PUNCT'}, {',': 'PUNCT'}, {'\"': 'PUNCT'}, {\"'\": 'PUNCT'}, {']': 'X'}, {\"'\": 'NUM'}, {',': 'PUNCT'}, {'\"': 'PUNCT'}, {',': 'PUNCT'}, {'\"': 'PUNCT'}, {\"'\": 'PUNCT'}, {')': 'PUNCT'}, {\"'\": 'PUNCT'}, {',': 'PUNCT'}, {'\"': 'PUNCT'}, {',': 'PUNCT'}, {'\"': 'PUNCT'}, {\"'\": 'PUNCT'}, {'}': 'PRON'}, {\"'\": 'PUNCT'}, {']': 'PUNCT'}, {'\"': 'PUNCT'}, {']': 'PUNCT'}, {'[': 'X'}, {'\"': 'PUNCT'}, {'[': 'X'}, {\"'\": 'VERB'}, {'(': 'PUNCT'}, {\"'\": 'PUNCT'}, {',': 'PUNCT'}, {'\"': 'PUNCT'}, {',': 'PUNCT'}, {'\"': 'PUNCT'}, {\"'\": 'PUNCT'}, {'[': 'X'}, {\"'\": 'X'}, {',': 'PUNCT'}, {'\"': 'PUNCT'}, {',': 'PUNCT'}, {'\"': 'PUNCT'}, {\"'\": 'PUNCT'}, {']': 'X'}, {\"'\": 'NUM'}, {',': 'PUNCT'}, {'\"': 'PUNCT'}, {',': 'PUNCT'}, {'\"': 'PUNCT'}, {\"'\": 'PUNCT'}, {')': 'PUNCT'}, {\"'\": 'PUNCT'}, {',': 'PUNCT'}, {'\"': 'PUNCT'}, {',': 'PUNCT'}, {'\"': 'PUNCT'}, {\"'\": 'PUNCT'}, {'[': 'X'}, {\"'\": 'X'}, {',': 'PUNCT'}, {'\"': 'PUNCT'}, {',': 'PUNCT'}, {'\"': 'PUNCT'}, {\"'\": 'PUNCT'}, {']': 'X'}, {\"'\": 'NUM'}, {',': 'PUNCT'}, {'\"': 'PUNCT'}, {',': 'PUNCT'}, {'\"': 'PUNCT'}, {\"'\": 'PUNCT'}, {'[': 'X'}, {\"'\": 'X'}, {',': 'PUNCT'}, {'\"': 'PUNCT'}, {',': 'PUNCT'}, {'\"': 'PUNCT'}, {\"'\": 'PUNCT'}, {']': 'X'}, {\"'\": 'X'}, {']': 'X'}, {'\"': 'PUNCT'}, {']': 'PUNCT'}, {'[': 'X'}, {'\"': 'PUNCT'}, {'[': 'X'}, {\"'\": 'X'}, {'[': 'X'}, {\"'\": 'PROPN'}, {',': 'PUNCT'}, {'\"': 'PUNCT'}, {',': 'PUNCT'}, {'\"': 'PUNCT'}, {\"'\": 'PUNCT'}, {']': 'X'}, {\"'\": 'NUM'}, {',': 'PUNCT'}, {'\"': 'PUNCT'}, {',': 'PUNCT'}, {'\"': 'PUNCT'}, {\"'\": 'PUNCT'}, {'=': 'VERB'}, {\"'\": 'VERB'}, {',': 'PUNCT'}, {'\"': 'PUNCT'}, {',': 'PUNCT'}, {\"'\": 'PUNCT'}, {'\\\\\\'\"\\\\': 'PROPN'}, {\"'\": 'PUNCT'}, {',': 'PUNCT'}, {\"'\": 'PUNCT'}, {',': 'PUNCT'}, {\"'\": 'PUNCT'}, {'\\\\\\'\"\\\\': 'PROPN'}, {\"'\": 'PUNCT'}, {',': 'PUNCT'}, {\"'\": 'PUNCT'}, {',': 'PUNCT'}, {'\"': 'PUNCT'}, {\"'\": 'PUNCT'}, {'[': 'X'}, {\"'\": 'X'}, {',': 'PUNCT'}, {'\"': 'PUNCT'}, {',': 'PUNCT'}, {'\"': 'PUNCT'}, {\"'\": 'PUNCT'}, {']': 'X'}, {\"'\": 'NUM'}, {',': 'PUNCT'}, {'\"': 'PUNCT'}, {',': 'PUNCT'}, {'\"': 'PUNCT'}, {\"'\": 'VERB'}, {'>': 'X'}, {\"'\": 'NUM'}, {',': 'PUNCT'}, {'\"': 'PUNCT'}, {',': 'PUNCT'}, {'\"': 'PUNCT'}, {\"'\": 'PUNCT'}, {'=': 'VERB'}, {\"'\": 'VERB'}, {',': 'PUNCT'}, {'\"': 'PUNCT'}, {',': 'PUNCT'}, {'\"': 'PUNCT'}, {\"'\": 'PUNCT'}, {'.': 'PUNCT'}, {\"'\": 'PUNCT'}, {']': 'PUNCT'}, {'\"': 'PUNCT'}, {']': 'PUNCT'}, {'[': 'X'}, {'\"': 'PUNCT'}, {'[': 'X'}, {\"'\": 'VERB'}, {'(': 'PUNCT'}, {\"'\": 'PUNCT'}, {',': 'PUNCT'}, {'\"': 'PUNCT'}, {',': 'PUNCT'}, {'\"': 'PUNCT'}, {\"'\": 'PUNCT'}, {'[': 'X'}, {\"'\": 'X'}, {',': 'PUNCT'}, {'\"': 'PUNCT'}, {',': 'PUNCT'}, {'\"': 'PUNCT'}, {\"'\": 'PUNCT'}, {']': 'X'}, {\"'\": 'NUM'}, {',': 'PUNCT'}, {'\"': 'PUNCT'}, {',': 'PUNCT'}, {'\"': 'PUNCT'}, {\"'\": 'PUNCT'}, {')': 'PUNCT'}, {\"'\": 'PUNCT'}, {',': 'PUNCT'}, {'\"': 'PUNCT'}, {',': 'PUNCT'}, {'\"': 'PUNCT'}, {\"'\": 'PUNCT'}, {'<': 'X'}, {\"'\": 'PUNCT'}, {',': 'PUNCT'}, {'\"': 'PUNCT'}, {',': 'PUNCT'}, {'\"': 'PUNCT'}, {\"'\": 'PUNCT'}, {'=': 'VERB'}, {\"'\": 'VERB'}, {',': 'PUNCT'}, {'\"': 'PUNCT'}, {',': 'PUNCT'}, {'\"': 'PUNCT'}, {\"'\": 'PUNCT'}, {'[': 'X'}, {\"'\": 'X'}, {',': 'PUNCT'}, {'\"': 'PUNCT'}, {',': 'PUNCT'}, {'\"': 'PUNCT'}, {\"'\": 'PUNCT'}, {']': 'X'}, {\"'\": 'NUM'}, {',': 'PUNCT'}, {'\"': 'PUNCT'}, {',': 'PUNCT'}, {'\"': 'PUNCT'}, {\"'\": 'PUNCT'}, {'=': 'VERB'}, {\"'\": 'VERB'}, {',': 'PUNCT'}, {'\"': 'PUNCT'}, {',': 'PUNCT'}, {\"'\": 'PUNCT'}, {'\\\\\\'\"\\\\': 'PROPN'}, {\"'\": 'PUNCT'}, {',': 'PUNCT'}, {\"'\": 'PUNCT'}, {',': 'PUNCT'}, {\"'\": 'PUNCT'}, {'\\\\\\'\"\\\\': 'PROPN'}, {\"'\": 'PUNCT'}, {']': 'PUNCT'}, {\"'\": 'PUNCT'}, {']': 'PUNCT'}, {'[': 'X'}, {'\"': 'PUNCT'}, {'[': 'X'}, {\"'\": 'VERB'}, {'(': 'PUNCT'}, {\"'\": 'PUNCT'}, {',': 'PUNCT'}, {'\"': 'PUNCT'}, {',': 'PUNCT'}, {'\"': 'PUNCT'}, {\"'\": 'PUNCT'}, {'[': 'X'}, {\"'\": 'X'}, {',': 'PUNCT'}, {'\"': 'PUNCT'}, {',': 'PUNCT'}, {'\"': 'PUNCT'}, {\"'\": 'PUNCT'}, {']': 'X'}, {\"'\": 'NUM'}, {',': 'PUNCT'}, {'\"': 'PUNCT'}, {',': 'PUNCT'}, {'\"': 'PUNCT'}, {\"'\": 'PUNCT'}, {')': 'PUNCT'}, {\"'\": 'PUNCT'}, {',': 'PUNCT'}, {'\"': 'PUNCT'}, {',': 'PUNCT'}, {'\"': 'PUNCT'}, {\"'\": 'VERB'}, {'>': 'X'}, {\"'\": 'NUM'}, {',': 'PUNCT'}, {'\"': 'PUNCT'}, {',': 'PUNCT'}, {'\"': 'PUNCT'}, {\"'\": 'PUNCT'}, {'=': 'VERB'}, {\"'\": 'VERB'}, {',': 'PUNCT'}, {'\"': 'PUNCT'}, {',': 'PUNCT'}, {'\"': 'PUNCT'}, {\"'\": 'PUNCT'}, {'.': 'PUNCT'}, {\"'\": 'PUNCT'}, {']': 'PUNCT'}, {'\"': 'PUNCT'}, {']': 'PUNCT'}, {'[': 'X'}, {'\"': 'PUNCT'}, {'[': 'X'}, {\"'\": 'VERB'}, {'(': 'PUNCT'}, {\"'\": 'PUNCT'}, {',': 'PUNCT'}, {'\"': 'PUNCT'}, {',': 'PUNCT'}, {'\"': 'PUNCT'}, {\"'\": 'PUNCT'}, {'[': 'X'}, {\"'\": 'X'}, {',': 'PUNCT'}, {'\"': 'PUNCT'}, {',': 'PUNCT'}, {'\"': 'PUNCT'}, {\"'\": 'PUNCT'}, {']': 'X'}, {\"'\": 'NUM'}, {',': 'PUNCT'}, {'\"': 'PUNCT'}, {',': 'PUNCT'}, {'\"': 'PUNCT'}, {\"'\": 'PUNCT'}, {')': 'PUNCT'}, {\"'\": 'PUNCT'}, {',': 'PUNCT'}, {'\"': 'PUNCT'}, {',': 'PUNCT'}, {'\"': 'PUNCT'}, {\"'\": 'PUNCT'}, {'[': 'X'}, {\"'\": 'X'}, {',': 'PUNCT'}, {'\"': 'PUNCT'}, {',': 'PUNCT'}, {'\"': 'PUNCT'}, {\"'\": 'PUNCT'}, {']': 'X'}, {\"'\": 'NUM'}, {',': 'PUNCT'}, {'\"': 'PUNCT'}, {',': 'PUNCT'}, {'\"': 'PUNCT'}, {\"'\": 'PUNCT'}, {'(': 'PUNCT'}, {\"'\": 'PUNCT'}, {',': 'PUNCT'}, {'\"': 'PUNCT'}, {',': 'PUNCT'}, {'\"': 'PUNCT'}, {\"'\": 'PUNCT'}, {'[': 'X'}, {\"'\": 'X'}, {',': 'PUNCT'}, {'\"': 'PUNCT'}, {',': 'PUNCT'}, {'\"': 'PUNCT'}, {\"'\": 'PUNCT'}, {']': 'X'}, {\"'\": 'NUM'}, {',': 'PUNCT'}, {'\"': 'PUNCT'}, {',': 'PUNCT'}, {'\"': 'PUNCT'}, {\"'\": 'PUNCT'}, {')': 'PUNCT'}, {\"'\": 'PUNCT'}, {']': 'PUNCT'}, {'\"': 'PUNCT'}, {']': 'PUNCT'}, {'[': 'X'}, {'\"': 'PUNCT'}, {'[': 'X'}, {\"'\": 'X'}, {'[': 'X'}, {\"'\": 'PROPN'}, {',': 'PUNCT'}, {'\"': 'PUNCT'}, {',': 'PUNCT'}, {'\"': 'PUNCT'}, {\"'\": 'PUNCT'}, {']': 'X'}, {\"'\": 'NUM'}, {',': 'PUNCT'}, {'\"': 'PUNCT'}, {',': 'PUNCT'}, {'\"': 'PUNCT'}, {\"'\": 'PUNCT'}, {'=': 'VERB'}, {\"'\": 'VERB'}, {',': 'PUNCT'}, {'\"': 'PUNCT'}, {',': 'PUNCT'}, {\"'\": 'PUNCT'}, {'\\\\\\'\"\\\\': 'PROPN'}, {\"'\": 'PUNCT'}, {',': 'PUNCT'}, {\"'\": 'PUNCT'}, {',': 'PUNCT'}, {\"'\": 'PUNCT'}, {'\\\\\\'\"\\\\': 'PROPN'}, {\"'\": 'PUNCT'}, {',': 'PUNCT'}, {\"'\": 'PUNCT'}, {',': 'PUNCT'}, {'\"': 'PUNCT'}, {\"'\": 'PUNCT'}, {'[': 'X'}, {\"'\": 'X'}, {',': 'PUNCT'}, {'\"': 'PUNCT'}, {',': 'PUNCT'}, {'\"': 'PUNCT'}, {\"'\": 'PUNCT'}, {']': 'X'}, {\"'\": 'NUM'}, {',': 'PUNCT'}, {'\"': 'PUNCT'}, {',': 'PUNCT'}, {'\"': 'PUNCT'}, {\"'\": 'PUNCT'}, {'.': 'PUNCT'}, {\"'\": 'PUNCT'}, {',': 'PUNCT'}, {'\"': 'PUNCT'}, {',': 'PUNCT'}, {'\"': 'PUNCT'}, {\"'\": 'PUNCT'}, {'.': 'PUNCT'}, {\"'\": 'PUNCT'}, {']': 'PUNCT'}, {'\"': 'PUNCT'}, {']': 'PUNCT'}, {'[': 'X'}, {'\"': 'PUNCT'}, {'[': 'X'}, {\"'\": 'VERB'}, {'(': 'PUNCT'}, {\"'\": 'PUNCT'}, {',': 'PUNCT'}, {'\"': 'PUNCT'}, {',': 'PUNCT'}, {'\"': 'PUNCT'}, {\"'\": 'PUNCT'}, {'(': 'PUNCT'}, {\"'\": 'PUNCT'}, {',': 'PUNCT'}, {'\"': 'PUNCT'}, {',': 'PUNCT'}, {'\"': 'PUNCT'}, {\"'\": 'PUNCT'}, {'[': 'X'}, {\"'\": 'X'}, {',': 'PUNCT'}, {'\"': 'PUNCT'}, {',': 'PUNCT'}, {'\"': 'PUNCT'}, {\"'\": 'PUNCT'}, {']': 'X'}, {\"'\": 'NUM'}, {',': 'PUNCT'}, {'\"': 'PUNCT'}, {',': 'PUNCT'}, {\"'\": 'PUNCT'}, {'\\\\\\'\"\\\\': 'PROPN'}, {\"'\": 'PUNCT'}, {',': 'PUNCT'}, {\"'\": 'PUNCT'}, {',': 'PUNCT'}, {\"'\": 'PUNCT'}, {'\\\\\\'\"\\\\': 'PROPN'}, {\"'\": 'PUNCT'}, {',': 'PUNCT'}, {\"'\": 'PUNCT'}, {',': 'PUNCT'}, {'\"': 'PUNCT'}, {\"'\": 'PUNCT'}, {')': 'PUNCT'}, {\"'\": 'PUNCT'}, {',': 'PUNCT'}, {'\"': 'PUNCT'}, {',': 'PUNCT'}, {'\"': 'PUNCT'}, {\"'\": 'PUNCT'}, {')': 'PUNCT'}, {\"'\": 'PUNCT'}, {']': 'PUNCT'}, {'\"': 'PUNCT'}, {']': 'PUNCT'}, {'[': 'X'}, {'\"': 'PUNCT'}, {'[': 'X'}, {\"'\": 'VERB'}, {'(': 'PUNCT'}, {\"'\": 'PUNCT'}, {',': 'PUNCT'}, {'\"': 'PUNCT'}, {',': 'PUNCT'}, {'\"': 'PUNCT'}, {\"'\": 'PUNCT'}, {'[': 'X'}, {\"'\": 'X'}, {',': 'PUNCT'}, {'\"': 'PUNCT'}, {',': 'PUNCT'}, {'\"': 'PUNCT'}, {\"'\": 'PUNCT'}, {']': 'X'}, {\"'\": 'NUM'}, {',': 'PUNCT'}, {'\"': 'PUNCT'}, {',': 'PUNCT'}, {\"'\": 'PUNCT'}, {'\\\\\\'\"\\\\': 'PROPN'}, {\"'\": 'PUNCT'}, {',': 'PUNCT'}, {\"'\": 'PUNCT'}, {',': 'PUNCT'}, {\"'\": 'PUNCT'}, {'\\\\\\'\"\\\\': 'PROPN'}, {\"'\": 'PUNCT'}, {',': 'PUNCT'}, {\"'\": 'PUNCT'}, {',': 'PUNCT'}, {'\"': 'PUNCT'}, {\"'\": 'PUNCT'}, {')': 'PUNCT'}, {\"'\": 'PUNCT'}, {',': 'PUNCT'}, {'\"': 'PUNCT'}, {',': 'PUNCT'}, {'\"': 'PUNCT'}, {\"'\": 'PUNCT'}, {'(': 'PUNCT'}, {\"'\": 'PUNCT'}, {',': 'PUNCT'}, {'\"': 'PUNCT'}, {',': 'PUNCT'}, {'\"': 'PUNCT'}, {\"'\": 'PUNCT'}, {'[': 'X'}, {\"'\": 'X'}, {',': 'PUNCT'}, {'\"': 'PUNCT'}, {',': 'PUNCT'}, {'\"': 'PUNCT'}, {\"'\": 'PUNCT'}, {']': 'X'}, {\"'\": 'NUM'}, {',': 'PUNCT'}, {'\"': 'PUNCT'}, {',': 'PUNCT'}, {'\"': 'PUNCT'}, {\"'\": 'PUNCT'}, {',': 'PUNCT'}, {\"'\": 'PUNCT'}, {',': 'PUNCT'}, {'\"': 'PUNCT'}, {',': 'PUNCT'}, {'\"': 'PUNCT'}, {\"'\": 'PUNCT'}, {'“': 'PUNCT'}, {\"'\": 'PUNCT'}, {',': 'PUNCT'}, {'\"': 'PUNCT'}, {',': 'PUNCT'}, {'\"': 'PUNCT'}, {\"'\": 'PUNCT'}, {'”': 'PUNCT'}, {\"'\": 'PUNCT'}, {',': 'PUNCT'}, {'\"': 'PUNCT'}, {',': 'PUNCT'}, {'\"': 'PUNCT'}, {\"'\": 'PUNCT'}, {')': 'PUNCT'}, {\"'\": 'PUNCT'}, {']': 'PUNCT'}, {'\"': 'PUNCT'}, {']': 'PUNCT'}]\n",
            "Tokenized Symbols (Tableau) : ['X', 'NUM', 'PRON', 'VERB', 'PROPN', 'PUNCT']\n"
          ]
        }
      ]
    },
    {
      "cell_type": "code",
      "source": [
        "for pat in p_e:\n",
        "    print({pat:p_e[pat]})"
      ],
      "metadata": {
        "id": "3BVvxt5RksS7",
        "colab": {
          "base_uri": "https://localhost:8080/"
        },
        "outputId": "256ba8b8-f949-4df8-f02c-6f1b612d4597"
      },
      "execution_count": 82,
      "outputs": [
        {
          "output_type": "stream",
          "name": "stdout",
          "text": [
            "{'X': ['[', '>', ']', \"'\", '<']}\n",
            "{'NUM': [\"'\"]}\n",
            "{'PRON': ['}']}\n",
            "{'VERB': [\"'\", '=']}\n",
            "{'PROPN': ['-', '\\\\', \"'\", '\\\\\\'\"\\\\']}\n",
            "{'PUNCT': ['(', '”', '“', ':', '!', '.', \"'\", ']', ')', '{', '\"', '*', ',']}\n"
          ]
        }
      ]
    },
    {
      "cell_type": "code",
      "source": [
        "POS_=[]\n",
        "for pat in p_d:\n",
        "   POS_.append(pat)\n",
        "for pat in p_t:\n",
        "   POS_.append(pat)\n",
        "for pat in p_e:\n",
        "   POS_.append(pat)\n",
        "POS_=list(set(POS_))\n",
        "print(POS_, len(POS_))"
      ],
      "metadata": {
        "id": "7n0mh-c3mfLA",
        "colab": {
          "base_uri": "https://localhost:8080/"
        },
        "outputId": "dd284341-416e-43e3-d046-93f9ae5aaa23"
      },
      "execution_count": 83,
      "outputs": [
        {
          "output_type": "stream",
          "name": "stdout",
          "text": [
            "['NOUN', 'X', 'PRON', 'NUM', 'DET', 'AUX', 'ADP', 'VERB', 'ADV', 'SCONJ', 'INTJ', 'PROPN', 'CCONJ', 'PART', 'ADJ', 'PUNCT'] 16\n"
          ]
        }
      ]
    },
    {
      "cell_type": "code",
      "source": [
        "ENT_={}\n",
        "\n",
        "for pat in POS_:\n",
        "  if (p_d.get(pat)!=None and p_t.get(pat)!=None and p_e.get(pat) !=None):\n",
        "    p_list=p_d[pat]+p_t[pat]+p_e[pat]\n",
        "  elif (p_d.get(pat)!=None and p_t.get(pat)!=None ):\n",
        "    p_list=p_d[pat] + p_t[pat]\n",
        "  else:\n",
        "    p_list=p_d[pat]\n",
        "\n",
        "  ENT_.update({pat:[x for x in list(set(p_list))]})"
      ],
      "metadata": {
        "id": "AXgkUU-0p5t7"
      },
      "execution_count": 84,
      "outputs": []
    },
    {
      "cell_type": "code",
      "source": [
        "for pat in POS_:\n",
        "  print ({pat:ENT_[pat]})"
      ],
      "metadata": {
        "id": "hwl4VtCnrMie",
        "colab": {
          "base_uri": "https://localhost:8080/"
        },
        "outputId": "735f873d-a44a-45b7-d238-00389f8bd798"
      },
      "execution_count": 85,
      "outputs": [
        {
          "output_type": "stream",
          "name": "stdout",
          "text": [
            "{'NOUN': ['Date', 'flowers', 'Entries', 'types', \"'\", 'points', 'Determine', 'FIXED', 'C', 'Species', 'ORDER', 'field', 'Number', 'List', 'data', 'ENDSWITH', 'Lengths', 'species', 'value', 'number', 'observation', 'entries', 'name', 'color', 'flower', 'Sepal', 'versicolor', 'SUM', 'order', 'occurrences', 'month', 'TODAY', 'year', 'YEAR', 'records', 'Widths', 'Display']}\n",
            "{'X': ['ica', '1', '0', '[', 'Length', 'virginica', 'median', '>', ']', \"'\", '2', '<', '10th']}\n",
            "{'PRON': ['both', 'the', 'a', 'this', 'there', 'all', 'each', 'What']}\n",
            "{'NUM': ['4', '5', '10', 'TOP', '9', \"'\", '3']}\n",
            "{'DET': ['the', 'a']}\n",
            "{'AUX': ['is', 'are', 'RANK_PERCENTILE', \"'s\"]}\n",
            "{'ADP': ['BY', 'across', 'with', 'for', 'WITH', 'in', 'BETWEEN', 'FROM', 'of', 'above', 'at', 'over', 'within', 'between', 'than', 'from', 'by']}\n",
            "{'VERB': ['Date', 'sorted', 'setosa', 'DESC', '=', 'DISTINCT', 'percentile', 'dataset', 'STARTSWITH', 'LISTED', 'Aggregate', 'descending', 'RANK', \"'\", 'recorded', 'contains', 'found', 'Organize', 'Calculate', 'starting', 'ENDSWITH', 'ends', 'NULL', 'top', 'assuming', 'grouped', 'start', 'color', 'SUM', 'CONTAINS', 'ascending', 'ica', 'Find', 'Show', 'show', 'Setosa', 'count', 'starts']}\n",
            "{'ADV': ['Sort', 'THEN', 'exactly', 'only', 'SORT', 'alphabetically', 'ELSE']}\n",
            "{'SCONJ': ['where', 'IF', 'How', 'how']}\n",
            "{'INTJ': ['%']}\n",
            "{'PROPN': ['Date', '\\\\', 'Sum', \"'\", 'Species', 'END', 'Filter', 'Se', 'MAX', 'LEFT', 'MIN', 'INDEX', 'MEDIAN', 'Count', 'ASC', 'Group', 'AVG', '-', 'Width', 'COUNT', 'January', 'Iris', 'DATETRUNC', 'Rank', 'Length', 'Setosa', 'COUNTD', 'Median', '\\\\\\'\"\\\\', 'GROUP', 'STARTS', 'Iri']}\n",
            "{'CCONJ': ['AND', 'and', 'or']}\n",
            "{'PART': ['to', \"'\", 'not']}\n",
            "{'ADJ': ['Average', 'average', 'low', 'smallest', 'greater', 'Distinct', 'Top', 'Highest', 'high', 'many', 'bottom', 'highest', 'unique', 'less', 'Minimum', 'Total', 'Maximum', 'Petal', 'total', 'SORTED', 'distinct', 'last', 'equal', 'Lowest', 'middle', 'least', 'lowest', 'Select']}\n",
            "{'PUNCT': ['(', '”', '“', ':', '!', '.', '?', \"'\", ']', ')', '{', '\"', '*', ',']}\n"
          ]
        }
      ]
    },
    {
      "cell_type": "markdown",
      "source": [
        "#Tokenize with Pre-trained sPacy models"
      ],
      "metadata": {
        "id": "tXrvHd-wdUqH"
      }
    },
    {
      "cell_type": "code",
      "source": [
        "nlp = spacy.load(\"en_core_web_sm\")\n",
        "import en_core_web_sm\n",
        "nlp = en_core_web_sm.load()"
      ],
      "metadata": {
        "id": "8UpVlcEydixW"
      },
      "execution_count": 86,
      "outputs": []
    },
    {
      "cell_type": "markdown",
      "source": [
        "# Description Patterns"
      ],
      "metadata": {
        "id": "pu4P4q8oe4eV"
      }
    },
    {
      "cell_type": "code",
      "source": [
        "dg_ent={}"
      ],
      "metadata": {
        "id": "P5k_60q7ea5g"
      },
      "execution_count": 87,
      "outputs": []
    },
    {
      "cell_type": "code",
      "source": [
        "p_d=dg_ent['Patterns_Description']=get_patterns(dg_tok,dg_tok.columns[0])"
      ],
      "metadata": {
        "id": "WaUv07QDeovU",
        "colab": {
          "base_uri": "https://localhost:8080/"
        },
        "outputId": "97af88d5-d52b-4f46-9d48-ed8c7e0af82b"
      },
      "execution_count": 88,
      "outputs": [
        {
          "output_type": "stream",
          "name": "stdout",
          "text": [
            "[{'[': 'X'}, {'\"': 'PUNCT'}, {'[': 'X'}, {\"'\": 'X'}, {'Sum': 'PROPN'}, {\"'\": 'NUM'}, {',': 'PUNCT'}, {'\"': 'PUNCT'}, {',': 'PUNCT'}, {'\"': 'PUNCT'}, {\"'\": 'PUNCT'}, {'of': 'ADP'}, {\"'\": 'NUM'}, {',': 'PUNCT'}, {'\"': 'PUNCT'}, {',': 'PUNCT'}, {'\"': 'PUNCT'}, {\"'\": 'PUNCT'}, {'Sepal': 'NOUN'}, {\"'\": 'PUNCT'}, {',': 'PUNCT'}, {'\"': 'PUNCT'}, {',': 'PUNCT'}, {'\"': 'PUNCT'}, {\"'\": 'PUNCT'}, {'Length': 'X'}, {\"'\": 'PUNCT'}, {']': 'PUNCT'}, {'\"': 'PUNCT'}, {']': 'PUNCT'}, {'[': 'X'}, {'\"': 'PUNCT'}, {'[': 'X'}, {\"'\": 'PUNCT'}, {'Average': 'ADJ'}, {\"'\": 'PUNCT'}, {',': 'PUNCT'}, {'\"': 'PUNCT'}, {',': 'PUNCT'}, {'\"': 'PUNCT'}, {\"'\": 'PUNCT'}, {'Sepal': 'NOUN'}, {\"'\": 'PUNCT'}, {',': 'PUNCT'}, {'\"': 'PUNCT'}, {',': 'PUNCT'}, {'\"': 'PUNCT'}, {\"'\": 'PUNCT'}, {'Width': 'PROPN'}, {\"'\": 'PUNCT'}, {',': 'PUNCT'}, {'\"': 'PUNCT'}, {',': 'PUNCT'}, {'\"': 'PUNCT'}, {\"'\": 'PUNCT'}, {'across': 'ADP'}, {\"'\": 'PUNCT'}, {',': 'PUNCT'}, {'\"': 'PUNCT'}, {',': 'PUNCT'}, {'\"': 'PUNCT'}, {\"'\": 'PUNCT'}, {'all': 'PRON'}, {\"'\": 'PROPN'}, {',': 'PUNCT'}, {'\"': 'PUNCT'}, {',': 'PUNCT'}, {'\"': 'PUNCT'}, {\"'\": 'PUNCT'}, {'entries': 'NOUN'}, {\"'\": 'PUNCT'}, {']': 'PUNCT'}, {'\"': 'PUNCT'}, {']': 'PUNCT'}, {'[': 'X'}, {'\"': 'PUNCT'}, {'[': 'X'}, {\"'\": 'VERB'}, {'Find': 'VERB'}, {\"'\": 'PUNCT'}, {',': 'PUNCT'}, {'\"': 'PUNCT'}, {',': 'PUNCT'}, {'\"': 'PUNCT'}, {\"'\": 'PUNCT'}, {'the': 'DET'}, {\"'\": 'PUNCT'}, {',': 'PUNCT'}, {'\"': 'PUNCT'}, {',': 'PUNCT'}, {'\"': 'PUNCT'}, {\"'\": 'PUNCT'}, {'median': 'X'}, {\"'\": 'PROPN'}, {',': 'PUNCT'}, {'\"': 'PUNCT'}, {',': 'PUNCT'}, {'\"': 'PUNCT'}, {\"'\": 'PUNCT'}, {'Petal': 'ADJ'}, {\"'\": 'PUNCT'}, {',': 'PUNCT'}, {'\"': 'PUNCT'}, {',': 'PUNCT'}, {'\"': 'PUNCT'}, {\"'\": 'PUNCT'}, {'Length': 'X'}, {\"'\": 'PUNCT'}, {']': 'PUNCT'}, {'\"': 'PUNCT'}, {']': 'PUNCT'}, {'[': 'X'}, {'\"': 'PUNCT'}, {'[': 'X'}, {\"'\": 'X'}, {'Count': 'PROPN'}, {\"'\": 'PUNCT'}, {',': 'PUNCT'}, {'\"': 'PUNCT'}, {',': 'PUNCT'}, {'\"': 'PUNCT'}, {\"'\": 'PUNCT'}, {'the': 'DET'}, {\"'\": 'PUNCT'}, {',': 'PUNCT'}, {'\"': 'PUNCT'}, {',': 'PUNCT'}, {'\"': 'PUNCT'}, {\"'\": 'PUNCT'}, {'number': 'NOUN'}, {\"'\": 'PUNCT'}, {',': 'PUNCT'}, {'\"': 'PUNCT'}, {',': 'PUNCT'}, {'\"': 'PUNCT'}, {\"'\": 'PUNCT'}, {'of': 'ADP'}, {\"'\": 'NUM'}, {',': 'PUNCT'}, {'\"': 'PUNCT'}, {',': 'PUNCT'}, {'\"': 'PUNCT'}, {\"'\": 'PUNCT'}, {'records': 'NOUN'}, {\"'\": 'PART'}, {',': 'PUNCT'}, {'\"': 'PUNCT'}, {',': 'PUNCT'}, {'\"': 'PUNCT'}, {\"'\": 'PUNCT'}, {'in': 'ADP'}, {\"'\": 'NUM'}, {',': 'PUNCT'}, {'\"': 'PUNCT'}, {',': 'PUNCT'}, {'\"': 'PUNCT'}, {\"'\": 'PUNCT'}, {'the': 'DET'}, {\"'\": 'PUNCT'}, {',': 'PUNCT'}, {'\"': 'PUNCT'}, {',': 'PUNCT'}, {'\"': 'PUNCT'}, {\"'\": 'PUNCT'}, {'dataset': 'VERB'}, {\"'\": 'PUNCT'}, {']': 'PUNCT'}, {'\"': 'PUNCT'}, {']': 'PUNCT'}, {'[': 'X'}, {'\"': 'PUNCT'}, {'[': 'X'}, {\"'\": 'X'}, {'Count': 'PROPN'}, {\"'\": 'PUNCT'}, {',': 'PUNCT'}, {'\"': 'PUNCT'}, {',': 'PUNCT'}, {'\"': 'PUNCT'}, {\"'\": 'PUNCT'}, {'distinct': 'ADJ'}, {\"'\": 'PUNCT'}, {',': 'PUNCT'}, {'\"': 'PUNCT'}, {',': 'PUNCT'}, {'\"': 'PUNCT'}, {\"'\": 'PUNCT'}, {'species': 'NOUN'}, {\"'\": 'PUNCT'}, {',': 'PUNCT'}, {'\"': 'PUNCT'}, {',': 'PUNCT'}, {'\"': 'PUNCT'}, {\"'\": 'PUNCT'}, {'in': 'ADP'}, {\"'\": 'NUM'}, {',': 'PUNCT'}, {'\"': 'PUNCT'}, {',': 'PUNCT'}, {'\"': 'PUNCT'}, {\"'\": 'PUNCT'}, {'the': 'DET'}, {\"'\": 'PUNCT'}, {',': 'PUNCT'}, {'\"': 'PUNCT'}, {',': 'PUNCT'}, {'\"': 'PUNCT'}, {\"'\": 'PUNCT'}, {'dataset': 'VERB'}, {\"'\": 'PUNCT'}, {']': 'PUNCT'}, {'\"': 'PUNCT'}, {']': 'PUNCT'}, {'[': 'X'}, {'\"': 'PUNCT'}, {'[': 'X'}, {\"'\": 'PUNCT'}, {'Minimum': 'ADJ'}, {\"'\": 'PUNCT'}, {',': 'PUNCT'}, {'\"': 'PUNCT'}, {',': 'PUNCT'}, {'\"': 'PUNCT'}, {\"'\": 'PUNCT'}, {'value': 'NOUN'}, {\"'\": 'PUNCT'}, {',': 'PUNCT'}, {'\"': 'PUNCT'}, {',': 'PUNCT'}, {'\"': 'PUNCT'}, {\"'\": 'PUNCT'}, {'of': 'ADP'}, {\"'\": 'NUM'}, {',': 'PUNCT'}, {'\"': 'PUNCT'}, {',': 'PUNCT'}, {'\"': 'PUNCT'}, {\"'\": 'PUNCT'}, {'Sepal': 'NOUN'}, {\"'\": 'PUNCT'}, {',': 'PUNCT'}, {'\"': 'PUNCT'}, {',': 'PUNCT'}, {'\"': 'PUNCT'}, {\"'\": 'PUNCT'}, {'Length': 'X'}, {\"'\": 'PUNCT'}, {']': 'PUNCT'}, {'\"': 'PUNCT'}, {']': 'PUNCT'}, {'[': 'X'}, {'\"': 'PUNCT'}, {'[': 'X'}, {\"'\": 'PUNCT'}, {'Maximum': 'ADJ'}, {\"'\": 'NUM'}, {',': 'PUNCT'}, {'\"': 'PUNCT'}, {',': 'PUNCT'}, {'\"': 'PUNCT'}, {\"'\": 'PUNCT'}, {'Petal': 'ADJ'}, {\"'\": 'PUNCT'}, {',': 'PUNCT'}, {'\"': 'PUNCT'}, {',': 'PUNCT'}, {'\"': 'PUNCT'}, {\"'\": 'PUNCT'}, {'Width': 'PROPN'}, {\"'\": 'PUNCT'}, {',': 'PUNCT'}, {'\"': 'PUNCT'}, {',': 'PUNCT'}, {'\"': 'PUNCT'}, {\"'\": 'PUNCT'}, {'found': 'VERB'}, {\"'\": 'PUNCT'}, {',': 'PUNCT'}, {'\"': 'PUNCT'}, {',': 'PUNCT'}, {'\"': 'PUNCT'}, {\"'\": 'PUNCT'}, {'in': 'ADP'}, {\"'\": 'NUM'}, {',': 'PUNCT'}, {'\"': 'PUNCT'}, {',': 'PUNCT'}, {'\"': 'PUNCT'}, {\"'\": 'PUNCT'}, {'the': 'DET'}, {\"'\": 'PUNCT'}, {',': 'PUNCT'}, {'\"': 'PUNCT'}, {',': 'PUNCT'}, {'\"': 'PUNCT'}, {\"'\": 'PUNCT'}, {'dataset': 'VERB'}, {\"'\": 'PUNCT'}, {']': 'PUNCT'}, {'\"': 'PUNCT'}, {']': 'PUNCT'}, {'[': 'X'}, {'\"': 'PUNCT'}, {'[': 'X'}, {\"'\": 'X'}, {'Group': 'PROPN'}, {\"'\": 'PUNCT'}, {',': 'PUNCT'}, {'\"': 'PUNCT'}, {',': 'PUNCT'}, {'\"': 'PUNCT'}, {\"'\": 'PUNCT'}, {'records': 'NOUN'}, {\"'\": 'PART'}, {',': 'PUNCT'}, {'\"': 'PUNCT'}, {',': 'PUNCT'}, {'\"': 'PUNCT'}, {\"'\": 'PUNCT'}, {'by': 'ADP'}, {\"'\": 'NUM'}, {',': 'PUNCT'}, {'\"': 'PUNCT'}, {',': 'PUNCT'}, {'\"': 'PUNCT'}, {\"'\": 'PUNCT'}, {'Species': 'PROPN'}, {\"'\": 'PUNCT'}, {']': 'PUNCT'}, {'\"': 'PUNCT'}, {']': 'PUNCT'}, {'[': 'X'}, {'\"': 'PUNCT'}, {'[': 'X'}, {\"'\": 'X'}, {'Sort': 'ADV'}, {\"'\": 'NUM'}, {',': 'PUNCT'}, {'\"': 'PUNCT'}, {',': 'PUNCT'}, {'\"': 'PUNCT'}, {\"'\": 'PUNCT'}, {'the': 'DET'}, {\"'\": 'PUNCT'}, {',': 'PUNCT'}, {'\"': 'PUNCT'}, {',': 'PUNCT'}, {'\"': 'PUNCT'}, {\"'\": 'PUNCT'}, {'entries': 'NOUN'}, {\"'\": 'PUNCT'}, {',': 'PUNCT'}, {'\"': 'PUNCT'}, {',': 'PUNCT'}, {'\"': 'PUNCT'}, {\"'\": 'PUNCT'}, {'by': 'ADP'}, {\"'\": 'NUM'}, {',': 'PUNCT'}, {'\"': 'PUNCT'}, {',': 'PUNCT'}, {'\"': 'PUNCT'}, {\"'\": 'PUNCT'}, {'Sepal': 'NOUN'}, {\"'\": 'PUNCT'}, {',': 'PUNCT'}, {'\"': 'PUNCT'}, {',': 'PUNCT'}, {'\"': 'PUNCT'}, {\"'\": 'PUNCT'}, {'Length': 'PROPN'}, {\"'\": 'PUNCT'}, {',': 'PUNCT'}, {'\"': 'PUNCT'}, {',': 'PUNCT'}, {'\"': 'PUNCT'}, {\"'\": 'PUNCT'}, {'in': 'ADP'}, {\"'\": 'NUM'}, {',': 'PUNCT'}, {'\"': 'PUNCT'}, {',': 'PUNCT'}, {'\"': 'PUNCT'}, {\"'\": 'PUNCT'}, {'ascending': 'VERB'}, {\"'\": 'PUNCT'}, {',': 'PUNCT'}, {'\"': 'PUNCT'}, {',': 'PUNCT'}, {'\"': 'PUNCT'}, {\"'\": 'PUNCT'}, {'order': 'NOUN'}, {\"'\": 'PUNCT'}, {']': 'PUNCT'}, {'\"': 'PUNCT'}, {']': 'PUNCT'}, {'[': 'X'}, {'\"': 'PUNCT'}, {'[': 'X'}, {\"'\": 'PUNCT'}, {'List': 'NOUN'}, {\"'\": 'PUNCT'}, {',': 'PUNCT'}, {'\"': 'PUNCT'}, {',': 'PUNCT'}, {'\"': 'PUNCT'}, {\"'\": 'PUNCT'}, {'Species': 'NOUN'}, {\"'\": 'PUNCT'}, {',': 'PUNCT'}, {'\"': 'PUNCT'}, {',': 'PUNCT'}, {'\"': 'PUNCT'}, {\"'\": 'PUNCT'}, {'alphabetically': 'ADV'}, {\"'\": 'VERB'}, {']': 'X'}, {'\"': 'PUNCT'}, {']': 'PUNCT'}, {'[': 'X'}, {'\"': 'PUNCT'}, {'[': 'X'}, {\"'\": 'X'}, {'Entries': 'NOUN'}, {\"'\": 'PUNCT'}, {',': 'PUNCT'}, {'\"': 'PUNCT'}, {',': 'PUNCT'}, {'\"': 'PUNCT'}, {\"'\": 'PUNCT'}, {'with': 'ADP'}, {\"'\": 'PROPN'}, {',': 'PUNCT'}, {'\"': 'PUNCT'}, {',': 'PUNCT'}, {'\"': 'PUNCT'}, {\"'\": 'PUNCT'}, {'Sepal': 'NOUN'}, {\"'\": 'PUNCT'}, {',': 'PUNCT'}, {'\"': 'PUNCT'}, {',': 'PUNCT'}, {'\"': 'PUNCT'}, {\"'\": 'PUNCT'}, {'Length': 'PROPN'}, {\"'\": 'PUNCT'}, {',': 'PUNCT'}, {'\"': 'PUNCT'}, {',': 'PUNCT'}, {'\"': 'PUNCT'}, {\"'\": 'PUNCT'}, {'at': 'ADP'}, {\"'\": 'NUM'}, {',': 'PUNCT'}, {'\"': 'PUNCT'}, {',': 'PUNCT'}, {'\"': 'PUNCT'}, {\"'\": 'PUNCT'}, {'least': 'ADJ'}, {\"'\": 'PUNCT'}, {',': 'PUNCT'}, {'\"': 'PUNCT'}, {',': 'PUNCT'}, {'\"': 'PUNCT'}, {\"'\": 'PROPN'}, {'5': 'NUM'}, {\"'\": 'NUM'}, {',': 'PUNCT'}, {'\"': 'PUNCT'}, {',': 'PUNCT'}, {'\"': 'PUNCT'}, {\"'\": 'PUNCT'}, {'.': 'PUNCT'}, {\"'\": 'PUNCT'}, {',': 'PUNCT'}, {'\"': 'PUNCT'}, {',': 'PUNCT'}, {'\"': 'PUNCT'}, {\"'\": 'PUNCT'}, {'0': 'X'}, {\"'\": 'PUNCT'}, {']': 'PUNCT'}, {'\"': 'PUNCT'}, {']': 'PUNCT'}, {'[': 'X'}, {'\"': 'PUNCT'}, {'[': 'X'}, {\"'\": 'X'}, {'Entries': 'NOUN'}, {\"'\": 'PUNCT'}, {',': 'PUNCT'}, {'\"': 'PUNCT'}, {',': 'PUNCT'}, {'\"': 'PUNCT'}, {\"'\": 'PUNCT'}, {'with': 'ADP'}, {\"'\": 'PROPN'}, {',': 'PUNCT'}, {'\"': 'PUNCT'}, {',': 'PUNCT'}, {'\"': 'PUNCT'}, {\"'\": 'PUNCT'}, {'Petal': 'ADJ'}, {\"'\": 'PUNCT'}, {',': 'PUNCT'}, {'\"': 'PUNCT'}, {',': 'PUNCT'}, {'\"': 'PUNCT'}, {\"'\": 'PUNCT'}, {'Length': 'PROPN'}, {\"'\": 'PUNCT'}, {',': 'PUNCT'}, {'\"': 'PUNCT'}, {',': 'PUNCT'}, {'\"': 'PUNCT'}, {\"'\": 'PUNCT'}, {'between': 'ADP'}, {\"'\": 'PUNCT'}, {',': 'PUNCT'}, {'\"': 'PUNCT'}, {',': 'PUNCT'}, {'\"': 'PUNCT'}, {\"'\": 'PROPN'}, {'1': 'X'}, {\"'\": 'NUM'}, {',': 'PUNCT'}, {'\"': 'PUNCT'}, {',': 'PUNCT'}, {'\"': 'PUNCT'}, {\"'\": 'PUNCT'}, {'.': 'PUNCT'}, {\"'\": 'PUNCT'}, {',': 'PUNCT'}, {'\"': 'PUNCT'}, {',': 'PUNCT'}, {'\"': 'PUNCT'}, {\"'\": 'PROPN'}, {'5': 'NUM'}, {\"'\": 'NUM'}, {',': 'PUNCT'}, {'\"': 'PUNCT'}, {',': 'PUNCT'}, {'\"': 'PUNCT'}, {\"'\": 'PUNCT'}, {'and': 'CCONJ'}, {\"'\": 'NUM'}, {',': 'PUNCT'}, {'\"': 'PUNCT'}, {',': 'PUNCT'}, {'\"': 'PUNCT'}, {\"'\": 'PROPN'}, {'2': 'X'}, {\"'\": 'NUM'}, {',': 'PUNCT'}, {'\"': 'PUNCT'}, {',': 'PUNCT'}, {'\"': 'PUNCT'}, {\"'\": 'PUNCT'}, {'.': 'PUNCT'}, {\"'\": 'PUNCT'}, {',': 'PUNCT'}, {'\"': 'PUNCT'}, {',': 'PUNCT'}, {'\"': 'PUNCT'}, {\"'\": 'PROPN'}, {'5': 'NUM'}, {\"'\": 'NUM'}, {']': 'PUNCT'}, {'\"': 'PUNCT'}, {']': 'PUNCT'}, {'[': 'X'}, {'\"': 'PUNCT'}, {'[': 'X'}, {\"'\": 'PUNCT'}, {'Top': 'ADJ'}, {\"'\": 'NUM'}, {',': 'PUNCT'}, {'\"': 'PUNCT'}, {',': 'PUNCT'}, {'\"': 'PUNCT'}, {\"'\": 'PROPN'}, {'3': 'NUM'}, {\"'\": 'NUM'}, {',': 'PUNCT'}, {'\"': 'PUNCT'}, {',': 'PUNCT'}, {'\"': 'PUNCT'}, {\"'\": 'PUNCT'}, {'entries': 'NOUN'}, {\"'\": 'PUNCT'}, {',': 'PUNCT'}, {'\"': 'PUNCT'}, {',': 'PUNCT'}, {'\"': 'PUNCT'}, {\"'\": 'PUNCT'}, {'with': 'ADP'}, {\"'\": 'PROPN'}, {',': 'PUNCT'}, {'\"': 'PUNCT'}, {',': 'PUNCT'}, {'\"': 'PUNCT'}, {\"'\": 'PUNCT'}, {'the': 'DET'}, {\"'\": 'PUNCT'}, {',': 'PUNCT'}, {'\"': 'PUNCT'}, {',': 'PUNCT'}, {'\"': 'PUNCT'}, {\"'\": 'PUNCT'}, {'highest': 'ADJ'}, {\"'\": 'PUNCT'}, {',': 'PUNCT'}, {'\"': 'PUNCT'}, {',': 'PUNCT'}, {'\"': 'PUNCT'}, {\"'\": 'PUNCT'}, {'Sepal': 'NOUN'}, {\"'\": 'PUNCT'}, {',': 'PUNCT'}, {'\"': 'PUNCT'}, {',': 'PUNCT'}, {'\"': 'PUNCT'}, {\"'\": 'PUNCT'}, {'Width': 'PROPN'}, {\"'\": 'PUNCT'}, {']': 'PUNCT'}, {'\"': 'PUNCT'}, {']': 'PUNCT'}, {'[': 'X'}, {'\"': 'PUNCT'}, {'[': 'X'}, {\"'\": 'X'}, {'Species': 'NOUN'}, {\"'\": 'PUNCT'}, {',': 'PUNCT'}, {'\"': 'PUNCT'}, {',': 'PUNCT'}, {'\"': 'PUNCT'}, {\"'\": 'PUNCT'}, {'is': 'AUX'}, {\"'\": 'PUNCT'}, {',': 'PUNCT'}, {'\"': 'PUNCT'}, {',': 'PUNCT'}, {\"'\": 'PUNCT'}, {'\"': 'PUNCT'}, {'\\\\': 'PROPN'}, {\"'\": 'PUNCT'}, {'\"': 'PUNCT'}, {',': 'PUNCT'}, {\"'\": 'PUNCT'}, {',': 'PUNCT'}, {'\"': 'PUNCT'}, {\"'\": 'PUNCT'}, {'Setosa': 'VERB'}, {\"'\": 'NUM'}, {',': 'PUNCT'}, {'\"': 'PUNCT'}, {',': 'PUNCT'}, {\"'\": 'PUNCT'}, {'\"': 'PUNCT'}, {'\\\\': 'PROPN'}, {\"'\": 'PUNCT'}, {'\"': 'PUNCT'}, {']': 'PUNCT'}, {\"'\": 'X'}, {']': 'PUNCT'}, {'[': 'X'}, {'\"': 'PUNCT'}, {'[': 'X'}, {\"'\": 'X'}, {'Species': 'NOUN'}, {\"'\": 'PUNCT'}, {',': 'PUNCT'}, {'\"': 'PUNCT'}, {',': 'PUNCT'}, {'\"': 'PUNCT'}, {\"'\": 'PUNCT'}, {'starts': 'VERB'}, {\"'\": 'PUNCT'}, {',': 'PUNCT'}, {'\"': 'PUNCT'}, {',': 'PUNCT'}, {'\"': 'PUNCT'}, {\"'\": 'PUNCT'}, {'with': 'ADP'}, {\"'\": 'PROPN'}, {',': 'PUNCT'}, {'\"': 'PUNCT'}, {',': 'PUNCT'}, {\"'\": 'PUNCT'}, {'\"': 'PUNCT'}, {'\\\\': 'PROPN'}, {\"'\": 'PUNCT'}, {'\"': 'PUNCT'}, {',': 'PUNCT'}, {\"'\": 'PUNCT'}, {',': 'PUNCT'}, {'\"': 'PUNCT'}, {\"'\": 'PUNCT'}, {'Se': 'PROPN'}, {\"'\": 'NUM'}, {',': 'PUNCT'}, {'\"': 'PUNCT'}, {',': 'PUNCT'}, {\"'\": 'PUNCT'}, {'\"': 'PUNCT'}, {'\\\\': 'PROPN'}, {\"'\": 'PUNCT'}, {'\"': 'PUNCT'}, {']': 'PUNCT'}, {\"'\": 'X'}, {']': 'PUNCT'}, {'[': 'X'}, {'\"': 'PUNCT'}, {'[': 'X'}, {\"'\": 'PUNCT'}, {'Calculate': 'VERB'}, {\"'\": 'PUNCT'}, {',': 'PUNCT'}, {'\"': 'PUNCT'}, {',': 'PUNCT'}, {'\"': 'PUNCT'}, {\"'\": 'PUNCT'}, {'the': 'DET'}, {\"'\": 'PUNCT'}, {',': 'PUNCT'}, {'\"': 'PUNCT'}, {',': 'PUNCT'}, {'\"': 'PUNCT'}, {\"'\": 'PUNCT'}, {'total': 'ADJ'}, {\"'\": 'PUNCT'}, {',': 'PUNCT'}, {'\"': 'PUNCT'}, {',': 'PUNCT'}, {'\"': 'PUNCT'}, {\"'\": 'PUNCT'}, {'of': 'ADP'}, {\"'\": 'NUM'}, {',': 'PUNCT'}, {'\"': 'PUNCT'}, {',': 'PUNCT'}, {'\"': 'PUNCT'}, {\"'\": 'PUNCT'}, {'Petal': 'ADJ'}, {\"'\": 'PUNCT'}, {',': 'PUNCT'}, {'\"': 'PUNCT'}, {',': 'PUNCT'}, {'\"': 'PUNCT'}, {\"'\": 'PUNCT'}, {'Lengths': 'NOUN'}, {\"'\": 'NUM'}, {']': 'PUNCT'}, {'\"': 'PUNCT'}, {']': 'PUNCT'}, {'[': 'X'}, {'\"': 'PUNCT'}, {'[': 'X'}, {\"'\": 'PUNCT'}, {'What': 'PRON'}, {\"'\": 'PROPN'}, {',': 'PUNCT'}, {'\"': 'PUNCT'}, {',': 'PUNCT'}, {'\"': 'PUNCT'}, {\"'\": 'PUNCT'}, {'is': 'AUX'}, {\"'\": 'PUNCT'}, {',': 'PUNCT'}, {'\"': 'PUNCT'}, {',': 'PUNCT'}, {'\"': 'PUNCT'}, {\"'\": 'PUNCT'}, {'the': 'DET'}, {\"'\": 'PUNCT'}, {',': 'PUNCT'}, {'\"': 'PUNCT'}, {',': 'PUNCT'}, {'\"': 'PUNCT'}, {\"'\": 'PUNCT'}, {'average': 'ADJ'}, {\"'\": 'PUNCT'}, {',': 'PUNCT'}, {'\"': 'PUNCT'}, {',': 'PUNCT'}, {'\"': 'PUNCT'}, {\"'\": 'PUNCT'}, {'Petal': 'ADJ'}, {\"'\": 'PUNCT'}, {',': 'PUNCT'}, {'\"': 'PUNCT'}, {',': 'PUNCT'}, {'\"': 'PUNCT'}, {\"'\": 'PUNCT'}, {'Width': 'PROPN'}, {\"'\": 'PUNCT'}, {',': 'PUNCT'}, {'\"': 'PUNCT'}, {',': 'PUNCT'}, {'\"': 'PUNCT'}, {\"'\": 'PUNCT'}, {'?': 'PUNCT'}, {\"'\": 'PUNCT'}, {']': 'PUNCT'}, {'\"': 'PUNCT'}, {']': 'PUNCT'}, {'[': 'X'}, {'\"': 'PUNCT'}, {'[': 'X'}, {\"'\": 'X'}, {'Determine': 'NOUN'}, {\"'\": 'PUNCT'}, {',': 'PUNCT'}, {'\"': 'PUNCT'}, {',': 'PUNCT'}, {'\"': 'PUNCT'}, {\"'\": 'PUNCT'}, {'the': 'DET'}, {\"'\": 'PUNCT'}, {',': 'PUNCT'}, {'\"': 'PUNCT'}, {',': 'PUNCT'}, {'\"': 'PUNCT'}, {\"'\": 'PUNCT'}, {'middle': 'ADJ'}, {\"'\": 'PUNCT'}, {',': 'PUNCT'}, {'\"': 'PUNCT'}, {',': 'PUNCT'}, {'\"': 'PUNCT'}, {\"'\": 'PUNCT'}, {'value': 'NOUN'}, {\"'\": 'PUNCT'}, {',': 'PUNCT'}, {'\"': 'PUNCT'}, {',': 'PUNCT'}, {'\"': 'PUNCT'}, {\"'\": 'PUNCT'}, {'of': 'ADP'}, {\"'\": 'NUM'}, {',': 'PUNCT'}, {'\"': 'PUNCT'}, {',': 'PUNCT'}, {'\"': 'PUNCT'}, {\"'\": 'PUNCT'}, {'Sepal': 'NOUN'}, {\"'\": 'PUNCT'}, {',': 'PUNCT'}, {'\"': 'PUNCT'}, {',': 'PUNCT'}, {'\"': 'PUNCT'}, {\"'\": 'PUNCT'}, {'Widths': 'NOUN'}, {\"'\": 'PUNCT'}, {']': 'PUNCT'}, {'\"': 'PUNCT'}, {']': 'PUNCT'}, {'[': 'X'}, {'\"': 'PUNCT'}, {'[': 'X'}, {\"'\": 'X'}, {'How': 'SCONJ'}, {\"'\": 'NUM'}, {',': 'PUNCT'}, {'\"': 'PUNCT'}, {',': 'PUNCT'}, {'\"': 'PUNCT'}, {\"'\": 'PUNCT'}, {'many': 'ADJ'}, {\"'\": 'PUNCT'}, {',': 'PUNCT'}, {'\"': 'PUNCT'}, {',': 'PUNCT'}, {'\"': 'PUNCT'}, {\"'\": 'PUNCT'}, {'data': 'NOUN'}, {\"'\": 'PUNCT'}, {',': 'PUNCT'}, {'\"': 'PUNCT'}, {',': 'PUNCT'}, {'\"': 'PUNCT'}, {\"'\": 'PUNCT'}, {'points': 'NOUN'}, {\"'\": 'PUNCT'}, {',': 'PUNCT'}, {'\"': 'PUNCT'}, {',': 'PUNCT'}, {'\"': 'PUNCT'}, {\"'\": 'PUNCT'}, {'are': 'AUX'}, {\"'\": 'NUM'}, {',': 'PUNCT'}, {'\"': 'PUNCT'}, {',': 'PUNCT'}, {'\"': 'PUNCT'}, {\"'\": 'PUNCT'}, {'there': 'PRON'}, {\"'\": 'NUM'}, {',': 'PUNCT'}, {'\"': 'PUNCT'}, {',': 'PUNCT'}, {'\"': 'PUNCT'}, {\"'\": 'PUNCT'}, {'?': 'PUNCT'}, {\"'\": 'PUNCT'}, {']': 'PUNCT'}, {'\"': 'PUNCT'}, {']': 'PUNCT'}, {'[': 'X'}, {'\"': 'PUNCT'}, {'[': 'X'}, {\"'\": 'X'}, {'Number': 'NOUN'}, {\"'\": 'PUNCT'}, {',': 'PUNCT'}, {'\"': 'PUNCT'}, {',': 'PUNCT'}, {'\"': 'PUNCT'}, {\"'\": 'PUNCT'}, {'of': 'ADP'}, {\"'\": 'NUM'}, {',': 'PUNCT'}, {'\"': 'PUNCT'}, {',': 'PUNCT'}, {'\"': 'PUNCT'}, {\"'\": 'PUNCT'}, {'unique': 'ADJ'}, {\"'\": 'PUNCT'}, {',': 'PUNCT'}, {'\"': 'PUNCT'}, {',': 'PUNCT'}, {'\"': 'PUNCT'}, {\"'\": 'PUNCT'}, {'flower': 'NOUN'}, {\"'\": 'PUNCT'}, {',': 'PUNCT'}, {'\"': 'PUNCT'}, {',': 'PUNCT'}, {'\"': 'PUNCT'}, {\"'\": 'PUNCT'}, {'types': 'NOUN'}, {\"'\": 'PUNCT'}, {']': 'PUNCT'}, {'\"': 'PUNCT'}, {']': 'PUNCT'}, {'[': 'X'}, {'\"': 'PUNCT'}, {'[': 'X'}, {\"'\": 'PUNCT'}, {'Lowest': 'ADJ'}, {\"'\": 'NUM'}, {',': 'PUNCT'}, {'\"': 'PUNCT'}, {',': 'PUNCT'}, {'\"': 'PUNCT'}, {\"'\": 'PUNCT'}, {'Sepal': 'NOUN'}, {\"'\": 'PUNCT'}, {',': 'PUNCT'}, {'\"': 'PUNCT'}, {',': 'PUNCT'}, {'\"': 'PUNCT'}, {\"'\": 'PUNCT'}, {'Length': 'PROPN'}, {\"'\": 'PUNCT'}, {',': 'PUNCT'}, {'\"': 'PUNCT'}, {',': 'PUNCT'}, {'\"': 'PUNCT'}, {\"'\": 'PUNCT'}, {'recorded': 'VERB'}, {\"'\": 'PUNCT'}, {']': 'PUNCT'}, {'\"': 'PUNCT'}, {']': 'PUNCT'}, {'[': 'X'}, {'\"': 'PUNCT'}, {'[': 'X'}, {\"'\": 'X'}, {'Highest': 'ADJ'}, {\"'\": 'NUM'}, {',': 'PUNCT'}, {'\"': 'PUNCT'}, {',': 'PUNCT'}, {'\"': 'PUNCT'}, {\"'\": 'PUNCT'}, {'value': 'NOUN'}, {\"'\": 'PUNCT'}, {',': 'PUNCT'}, {'\"': 'PUNCT'}, {',': 'PUNCT'}, {'\"': 'PUNCT'}, {\"'\": 'PUNCT'}, {'of': 'ADP'}, {\"'\": 'NUM'}, {',': 'PUNCT'}, {'\"': 'PUNCT'}, {',': 'PUNCT'}, {'\"': 'PUNCT'}, {\"'\": 'PUNCT'}, {'Petal': 'ADJ'}, {\"'\": 'PUNCT'}, {',': 'PUNCT'}, {'\"': 'PUNCT'}, {',': 'PUNCT'}, {'\"': 'PUNCT'}, {\"'\": 'PUNCT'}, {'Width': 'PROPN'}, {\"'\": 'PUNCT'}, {',': 'PUNCT'}, {'\"': 'PUNCT'}, {',': 'PUNCT'}, {'\"': 'PUNCT'}, {\"'\": 'PUNCT'}, {'found': 'VERB'}, {\"'\": 'PUNCT'}, {']': 'PUNCT'}, {'\"': 'PUNCT'}, {']': 'PUNCT'}, {'[': 'X'}, {'\"': 'PUNCT'}, {'[': 'X'}, {\"'\": 'PUNCT'}, {'Organize': 'VERB'}, {\"'\": 'PUNCT'}, {',': 'PUNCT'}, {'\"': 'PUNCT'}, {',': 'PUNCT'}, {'\"': 'PUNCT'}, {\"'\": 'PUNCT'}, {'data': 'NOUN'}, {\"'\": 'PUNCT'}, {',': 'PUNCT'}, {'\"': 'PUNCT'}, {',': 'PUNCT'}, {'\"': 'PUNCT'}, {\"'\": 'PUNCT'}, {'by': 'ADP'}, {\"'\": 'NUM'}, {',': 'PUNCT'}, {'\"': 'PUNCT'}, {',': 'PUNCT'}, {'\"': 'PUNCT'}, {\"'\": 'PUNCT'}, {'Species': 'NOUN'}, {\"'\": 'PUNCT'}, {',': 'PUNCT'}, {'\"': 'PUNCT'}, {',': 'PUNCT'}, {'\"': 'PUNCT'}, {\"'\": 'PUNCT'}, {'in': 'ADP'}, {\"'\": 'NUM'}, {',': 'PUNCT'}, {'\"': 'PUNCT'}, {',': 'PUNCT'}, {'\"': 'PUNCT'}, {\"'\": 'PUNCT'}, {'descending': 'VERB'}, {\"'\": 'PUNCT'}, {',': 'PUNCT'}, {'\"': 'PUNCT'}, {',': 'PUNCT'}, {'\"': 'PUNCT'}, {\"'\": 'PUNCT'}, {'order': 'NOUN'}, {\"'\": 'PUNCT'}, {']': 'PUNCT'}, {'\"': 'PUNCT'}, {']': 'PUNCT'}, {'[': 'X'}, {'\"': 'PUNCT'}, {'[': 'X'}, {\"'\": 'X'}, {'Rank': 'PROPN'}, {\"'\": 'PUNCT'}, {',': 'PUNCT'}, {'\"': 'PUNCT'}, {',': 'PUNCT'}, {'\"': 'PUNCT'}, {\"'\": 'PUNCT'}, {'Sepal': 'NOUN'}, {\"'\": 'PUNCT'}, {',': 'PUNCT'}, {'\"': 'PUNCT'}, {',': 'PUNCT'}, {'\"': 'PUNCT'}, {\"'\": 'PUNCT'}, {'Lengths': 'NOUN'}, {\"'\": 'NUM'}, {',': 'PUNCT'}, {'\"': 'PUNCT'}, {',': 'PUNCT'}, {'\"': 'PUNCT'}, {\"'\": 'PUNCT'}, {'from': 'ADP'}, {\"'\": 'NUM'}, {',': 'PUNCT'}, {'\"': 'PUNCT'}, {',': 'PUNCT'}, {'\"': 'PUNCT'}, {\"'\": 'PUNCT'}, {'low': 'ADJ'}, {\"'\": 'PUNCT'}, {',': 'PUNCT'}, {'\"': 'PUNCT'}, {',': 'PUNCT'}, {'\"': 'PUNCT'}, {\"'\": 'PUNCT'}, {'to': 'PART'}, {\"'\": 'NUM'}, {',': 'PUNCT'}, {'\"': 'PUNCT'}, {',': 'PUNCT'}, {'\"': 'PUNCT'}, {\"'\": 'PUNCT'}, {'high': 'ADJ'}, {\"'\": 'PUNCT'}, {']': 'PUNCT'}, {'\"': 'PUNCT'}, {']': 'PUNCT'}, {'[': 'X'}, {'\"': 'PUNCT'}, {'[': 'X'}, {\"'\": 'X'}, {'Filter': 'PROPN'}, {\"'\": 'NUM'}, {',': 'PUNCT'}, {'\"': 'PUNCT'}, {',': 'PUNCT'}, {'\"': 'PUNCT'}, {\"'\": 'PUNCT'}, {'for': 'ADP'}, {\"'\": 'NUM'}, {',': 'PUNCT'}, {'\"': 'PUNCT'}, {',': 'PUNCT'}, {'\"': 'PUNCT'}, {\"'\": 'PUNCT'}, {'Sepal': 'NOUN'}, {\"'\": 'PUNCT'}, {',': 'PUNCT'}, {'\"': 'PUNCT'}, {',': 'PUNCT'}, {'\"': 'PUNCT'}, {\"'\": 'PUNCT'}, {'Length': 'PROPN'}, {\"'\": 'PUNCT'}, {',': 'PUNCT'}, {'\"': 'PUNCT'}, {',': 'PUNCT'}, {'\"': 'PUNCT'}, {\"'\": 'PUNCT'}, {'greater': 'ADJ'}, {\"'\": 'PUNCT'}, {',': 'PUNCT'}, {'\"': 'PUNCT'}, {',': 'PUNCT'}, {'\"': 'PUNCT'}, {\"'\": 'PUNCT'}, {'than': 'ADP'}, {\"'\": 'PROPN'}, {',': 'PUNCT'}, {'\"': 'PUNCT'}, {',': 'PUNCT'}, {'\"': 'PUNCT'}, {\"'\": 'PUNCT'}, {'or': 'CCONJ'}, {\"'\": 'NUM'}, {',': 'PUNCT'}, {'\"': 'PUNCT'}, {',': 'PUNCT'}, {'\"': 'PUNCT'}, {\"'\": 'PUNCT'}, {'equal': 'ADJ'}, {\"'\": 'PUNCT'}, {',': 'PUNCT'}, {'\"': 'PUNCT'}, {',': 'PUNCT'}, {'\"': 'PUNCT'}, {\"'\": 'PUNCT'}, {'to': 'PART'}, {\"'\": 'NUM'}, {',': 'PUNCT'}, {'\"': 'PUNCT'}, {',': 'PUNCT'}, {'\"': 'PUNCT'}, {\"'\": 'PROPN'}, {'4': 'NUM'}, {\"'\": 'NUM'}, {',': 'PUNCT'}, {'\"': 'PUNCT'}, {',': 'PUNCT'}, {'\"': 'PUNCT'}, {\"'\": 'PUNCT'}, {'.': 'PUNCT'}, {\"'\": 'PUNCT'}, {',': 'PUNCT'}, {'\"': 'PUNCT'}, {',': 'PUNCT'}, {'\"': 'PUNCT'}, {\"'\": 'PROPN'}, {'5': 'NUM'}, {\"'\": 'NUM'}, {']': 'PUNCT'}, {'\"': 'PUNCT'}, {']': 'PUNCT'}, {'[': 'X'}, {'\"': 'PUNCT'}, {'[': 'X'}, {\"'\": 'PUNCT'}, {'Select': 'ADJ'}, {\"'\": 'PUNCT'}, {',': 'PUNCT'}, {'\"': 'PUNCT'}, {',': 'PUNCT'}, {'\"': 'PUNCT'}, {\"'\": 'PUNCT'}, {'entries': 'NOUN'}, {\"'\": 'PUNCT'}, {',': 'PUNCT'}, {'\"': 'PUNCT'}, {',': 'PUNCT'}, {'\"': 'PUNCT'}, {\"'\": 'PUNCT'}, {'with': 'ADP'}, {\"'\": 'PROPN'}, {',': 'PUNCT'}, {'\"': 'PUNCT'}, {',': 'PUNCT'}, {'\"': 'PUNCT'}, {\"'\": 'PUNCT'}, {'Petal': 'ADJ'}, {\"'\": 'PUNCT'}, {',': 'PUNCT'}, {'\"': 'PUNCT'}, {',': 'PUNCT'}, {'\"': 'PUNCT'}, {\"'\": 'PUNCT'}, {'Width': 'PROPN'}, {\"'\": 'PUNCT'}, {',': 'PUNCT'}, {'\"': 'PUNCT'}, {',': 'PUNCT'}, {'\"': 'PUNCT'}, {\"'\": 'PUNCT'}, {'less': 'ADJ'}, {\"'\": 'PUNCT'}, {',': 'PUNCT'}, {'\"': 'PUNCT'}, {',': 'PUNCT'}, {'\"': 'PUNCT'}, {\"'\": 'PUNCT'}, {'than': 'ADP'}, {\"'\": 'PROPN'}, {',': 'PUNCT'}, {'\"': 'PUNCT'}, {',': 'PUNCT'}, {'\"': 'PUNCT'}, {\"'\": 'PROPN'}, {'2': 'X'}, {\"'\": 'NUM'}, {',': 'PUNCT'}, {'\"': 'PUNCT'}, {',': 'PUNCT'}, {'\"': 'PUNCT'}, {\"'\": 'PUNCT'}, {'.': 'PUNCT'}, {\"'\": 'PUNCT'}, {',': 'PUNCT'}, {'\"': 'PUNCT'}, {',': 'PUNCT'}, {'\"': 'PUNCT'}, {\"'\": 'PUNCT'}, {'0': 'X'}, {\"'\": 'PUNCT'}, {']': 'PUNCT'}, {'\"': 'PUNCT'}, {']': 'PUNCT'}, {'[': 'X'}, {'\"': 'PUNCT'}, {'[': 'X'}, {\"'\": 'PUNCT'}, {'Show': 'VERB'}, {\"'\": 'PUNCT'}, {',': 'PUNCT'}, {'\"': 'PUNCT'}, {',': 'PUNCT'}, {'\"': 'PUNCT'}, {\"'\": 'PUNCT'}, {'entries': 'NOUN'}, {\"'\": 'PUNCT'}, {',': 'PUNCT'}, {'\"': 'PUNCT'}, {',': 'PUNCT'}, {'\"': 'PUNCT'}, {\"'\": 'PUNCT'}, {'where': 'SCONJ'}, {\"'\": 'NUM'}, {',': 'PUNCT'}, {'\"': 'PUNCT'}, {',': 'PUNCT'}, {'\"': 'PUNCT'}, {\"'\": 'PUNCT'}, {'Sepal': 'NOUN'}, {\"'\": 'PUNCT'}, {',': 'PUNCT'}, {'\"': 'PUNCT'}, {',': 'PUNCT'}, {'\"': 'PUNCT'}, {\"'\": 'PUNCT'}, {'Width': 'PROPN'}, {\"'\": 'PUNCT'}, {',': 'PUNCT'}, {'\"': 'PUNCT'}, {',': 'PUNCT'}, {'\"': 'PUNCT'}, {\"'\": 'PUNCT'}, {'is': 'AUX'}, {\"'\": 'PUNCT'}, {',': 'PUNCT'}, {'\"': 'PUNCT'}, {',': 'PUNCT'}, {'\"': 'PUNCT'}, {\"'\": 'PUNCT'}, {'not': 'PART'}, {\"'\": 'NUM'}, {',': 'PUNCT'}, {'\"': 'PUNCT'}, {',': 'PUNCT'}, {'\"': 'PUNCT'}, {\"'\": 'PROPN'}, {'3': 'NUM'}, {\"'\": 'NUM'}, {',': 'PUNCT'}, {'\"': 'PUNCT'}, {',': 'PUNCT'}, {'\"': 'PUNCT'}, {\"'\": 'PUNCT'}, {'.': 'PUNCT'}, {\"'\": 'PUNCT'}, {',': 'PUNCT'}, {'\"': 'PUNCT'}, {',': 'PUNCT'}, {'\"': 'PUNCT'}, {\"'\": 'PUNCT'}, {'0': 'X'}, {\"'\": 'PUNCT'}, {']': 'PUNCT'}, {'\"': 'PUNCT'}, {']': 'PUNCT'}, {'[': 'X'}, {'\"': 'PUNCT'}, {'[': 'X'}, {\"'\": 'PUNCT'}, {'List': 'NOUN'}, {\"'\": 'PUNCT'}, {',': 'PUNCT'}, {'\"': 'PUNCT'}, {',': 'PUNCT'}, {'\"': 'PUNCT'}, {\"'\": 'PUNCT'}, {'all': 'PRON'}, {\"'\": 'PROPN'}, {',': 'PUNCT'}, {'\"': 'PUNCT'}, {',': 'PUNCT'}, {'\"': 'PUNCT'}, {\"'\": 'PUNCT'}, {'where': 'SCONJ'}, {\"'\": 'NUM'}, {',': 'PUNCT'}, {'\"': 'PUNCT'}, {',': 'PUNCT'}, {'\"': 'PUNCT'}, {\"'\": 'PUNCT'}, {'the': 'DET'}, {\"'\": 'PUNCT'}, {',': 'PUNCT'}, {'\"': 'PUNCT'}, {',': 'PUNCT'}, {'\"': 'PUNCT'}, {\"'\": 'PUNCT'}, {'Species': 'NOUN'}, {\"'\": 'PUNCT'}, {',': 'PUNCT'}, {'\"': 'PUNCT'}, {',': 'PUNCT'}, {'\"': 'PUNCT'}, {\"'\": 'PUNCT'}, {'name': 'NOUN'}, {\"'\": 'PUNCT'}, {',': 'PUNCT'}, {'\"': 'PUNCT'}, {',': 'PUNCT'}, {'\"': 'PUNCT'}, {\"'\": 'PUNCT'}, {'ends': 'VERB'}, {\"'\": 'PUNCT'}, {',': 'PUNCT'}, {'\"': 'PUNCT'}, {',': 'PUNCT'}, {'\"': 'PUNCT'}, {\"'\": 'PUNCT'}, {'with': 'ADP'}, {\"'\": 'PROPN'}, {',': 'PUNCT'}, {'\"': 'PUNCT'}, {',': 'PUNCT'}, {\"'\": 'PUNCT'}, {'\"': 'PUNCT'}, {'\\\\': 'PROPN'}, {\"'\": 'PUNCT'}, {'\"': 'PUNCT'}, {',': 'PUNCT'}, {\"'\": 'PUNCT'}, {',': 'PUNCT'}, {'\"': 'PUNCT'}, {\"'\": 'PUNCT'}, {'ica': 'VERB'}, {\"'\": 'PUNCT'}, {',': 'PUNCT'}, {'\"': 'PUNCT'}, {',': 'PUNCT'}, {\"'\": 'PUNCT'}, {'\"': 'PUNCT'}, {'\\\\': 'PROPN'}, {\"'\": 'PUNCT'}, {'\"': 'PUNCT'}, {']': 'PUNCT'}, {\"'\": 'X'}, {']': 'PUNCT'}, {'[': 'X'}, {'\"': 'PUNCT'}, {'[': 'X'}, {\"'\": 'X'}, {'Entries': 'NOUN'}, {\"'\": 'PUNCT'}, {',': 'PUNCT'}, {'\"': 'PUNCT'}, {',': 'PUNCT'}, {'\"': 'PUNCT'}, {\"'\": 'PUNCT'}, {'with': 'ADP'}, {\"'\": 'PROPN'}, {',': 'PUNCT'}, {'\"': 'PUNCT'}, {',': 'PUNCT'}, {'\"': 'PUNCT'}, {\"'\": 'PUNCT'}, {'a': 'PRON'}, {\"'\": 'PUNCT'}, {',': 'PUNCT'}, {'\"': 'PUNCT'}, {',': 'PUNCT'}, {'\"': 'PUNCT'}, {\"'\": 'PUNCT'}, {'Sepal': 'NOUN'}, {\"'\": 'PUNCT'}, {',': 'PUNCT'}, {'\"': 'PUNCT'}, {',': 'PUNCT'}, {'\"': 'PUNCT'}, {\"'\": 'PUNCT'}, {'Length': 'PROPN'}, {\"'\": 'PUNCT'}, {',': 'PUNCT'}, {'\"': 'PUNCT'}, {',': 'PUNCT'}, {'\"': 'PUNCT'}, {\"'\": 'PUNCT'}, {'of': 'ADP'}, {\"'\": 'NUM'}, {',': 'PUNCT'}, {'\"': 'PUNCT'}, {',': 'PUNCT'}, {'\"': 'PUNCT'}, {\"'\": 'PUNCT'}, {'exactly': 'ADV'}, {\"'\": 'NUM'}, {',': 'PUNCT'}, {'\"': 'PUNCT'}, {',': 'PUNCT'}, {'\"': 'PUNCT'}, {\"'\": 'PROPN'}, {'5': 'NUM'}, {\"'\": 'NUM'}, {',': 'PUNCT'}, {'\"': 'PUNCT'}, {',': 'PUNCT'}, {'\"': 'PUNCT'}, {\"'\": 'PUNCT'}, {'.': 'PUNCT'}, {\"'\": 'PUNCT'}, {',': 'PUNCT'}, {'\"': 'PUNCT'}, {',': 'PUNCT'}, {'\"': 'PUNCT'}, {\"'\": 'PUNCT'}, {'0': 'X'}, {\"'\": 'PUNCT'}, {']': 'PUNCT'}, {'\"': 'PUNCT'}, {']': 'PUNCT'}, {'[': 'X'}, {'\"': 'PUNCT'}, {'[': 'X'}, {\"'\": 'PUNCT'}, {'Display': 'NOUN'}, {\"'\": 'PUNCT'}, {',': 'PUNCT'}, {'\"': 'PUNCT'}, {',': 'PUNCT'}, {'\"': 'PUNCT'}, {\"'\": 'PUNCT'}, {'the': 'DET'}, {\"'\": 'PUNCT'}, {',': 'PUNCT'}, {'\"': 'PUNCT'}, {',': 'PUNCT'}, {'\"': 'PUNCT'}, {\"'\": 'PUNCT'}, {'top': 'VERB'}, {\"'\": 'PUNCT'}, {',': 'PUNCT'}, {'\"': 'PUNCT'}, {',': 'PUNCT'}, {'\"': 'PUNCT'}, {\"'\": 'PROPN'}, {'5': 'NUM'}, {\"'\": 'NUM'}, {',': 'PUNCT'}, {'\"': 'PUNCT'}, {',': 'PUNCT'}, {'\"': 'PUNCT'}, {\"'\": 'PUNCT'}, {'Species': 'NOUN'}, {\"'\": 'PUNCT'}, {',': 'PUNCT'}, {'\"': 'PUNCT'}, {',': 'PUNCT'}, {'\"': 'PUNCT'}, {\"'\": 'PUNCT'}, {'by': 'ADP'}, {\"'\": 'NUM'}, {',': 'PUNCT'}, {'\"': 'PUNCT'}, {',': 'PUNCT'}, {'\"': 'PUNCT'}, {\"'\": 'PUNCT'}, {'Sepal': 'NOUN'}, {\"'\": 'PUNCT'}, {',': 'PUNCT'}, {'\"': 'PUNCT'}, {',': 'PUNCT'}, {'\"': 'PUNCT'}, {\"'\": 'PUNCT'}, {'Width': 'PROPN'}, {\"'\": 'PUNCT'}, {']': 'PUNCT'}, {'\"': 'PUNCT'}, {']': 'PUNCT'}, {'[': 'X'}, {'\"': 'PUNCT'}, {'[': 'X'}, {\"'\": 'VERB'}, {'Find': 'VERB'}, {\"'\": 'PUNCT'}, {',': 'PUNCT'}, {'\"': 'PUNCT'}, {',': 'PUNCT'}, {'\"': 'PUNCT'}, {\"'\": 'PUNCT'}, {'the': 'DET'}, {\"'\": 'PUNCT'}, {',': 'PUNCT'}, {'\"': 'PUNCT'}, {',': 'PUNCT'}, {'\"': 'PUNCT'}, {\"'\": 'PROPN'}, {'3': 'NUM'}, {\"'\": 'NUM'}, {',': 'PUNCT'}, {'\"': 'PUNCT'}, {',': 'PUNCT'}, {'\"': 'PUNCT'}, {\"'\": 'PUNCT'}, {'smallest': 'ADJ'}, {\"'\": 'PUNCT'}, {',': 'PUNCT'}, {'\"': 'PUNCT'}, {',': 'PUNCT'}, {'\"': 'PUNCT'}, {\"'\": 'PUNCT'}, {'Petal': 'ADJ'}, {\"'\": 'PUNCT'}, {',': 'PUNCT'}, {'\"': 'PUNCT'}, {',': 'PUNCT'}, {'\"': 'PUNCT'}, {\"'\": 'PUNCT'}, {'Lengths': 'NOUN'}, {\"'\": 'NUM'}, {']': 'PUNCT'}, {'\"': 'PUNCT'}, {']': 'PUNCT'}, {'[': 'X'}, {'\"': 'PUNCT'}, {'[': 'X'}, {\"'\": 'X'}, {'Count': 'PROPN'}, {\"'\": 'PUNCT'}, {',': 'PUNCT'}, {'\"': 'PUNCT'}, {',': 'PUNCT'}, {'\"': 'PUNCT'}, {\"'\": 'PUNCT'}, {'occurrences': 'NOUN'}, {\"'\": 'PUNCT'}, {',': 'PUNCT'}, {'\"': 'PUNCT'}, {',': 'PUNCT'}, {'\"': 'PUNCT'}, {\"'\": 'PUNCT'}, {'where': 'SCONJ'}, {\"'\": 'NUM'}, {',': 'PUNCT'}, {'\"': 'PUNCT'}, {',': 'PUNCT'}, {'\"': 'PUNCT'}, {\"'\": 'PUNCT'}, {'Petal': 'ADJ'}, {\"'\": 'PUNCT'}, {',': 'PUNCT'}, {'\"': 'PUNCT'}, {',': 'PUNCT'}, {'\"': 'PUNCT'}, {\"'\": 'PUNCT'}, {'Length': 'PROPN'}, {\"'\": 'PUNCT'}, {',': 'PUNCT'}, {'\"': 'PUNCT'}, {',': 'PUNCT'}, {'\"': 'PUNCT'}, {\"'\": 'PUNCT'}, {'is': 'AUX'}, {\"'\": 'PUNCT'}, {',': 'PUNCT'}, {'\"': 'PUNCT'}, {',': 'PUNCT'}, {'\"': 'PUNCT'}, {\"'\": 'PUNCT'}, {'between': 'ADP'}, {\"'\": 'PUNCT'}, {',': 'PUNCT'}, {'\"': 'PUNCT'}, {',': 'PUNCT'}, {'\"': 'PUNCT'}, {\"'\": 'PROPN'}, {'4': 'NUM'}, {\"'\": 'NUM'}, {',': 'PUNCT'}, {'\"': 'PUNCT'}, {',': 'PUNCT'}, {'\"': 'PUNCT'}, {\"'\": 'PUNCT'}, {'and': 'CCONJ'}, {\"'\": 'NUM'}, {',': 'PUNCT'}, {'\"': 'PUNCT'}, {',': 'PUNCT'}, {'\"': 'PUNCT'}, {\"'\": 'PROPN'}, {'5': 'NUM'}, {\"'\": 'NUM'}, {']': 'PUNCT'}, {'\"': 'PUNCT'}, {']': 'PUNCT'}, {'[': 'X'}, {'\"': 'PUNCT'}, {'[': 'X'}, {\"'\": 'PUNCT'}, {'Aggregate': 'VERB'}, {\"'\": 'PUNCT'}, {',': 'PUNCT'}, {'\"': 'PUNCT'}, {',': 'PUNCT'}, {'\"': 'PUNCT'}, {\"'\": 'PUNCT'}, {'data': 'NOUN'}, {\"'\": 'PUNCT'}, {',': 'PUNCT'}, {'\"': 'PUNCT'}, {',': 'PUNCT'}, {'\"': 'PUNCT'}, {\"'\": 'PUNCT'}, {'by': 'ADP'}, {\"'\": 'NUM'}, {',': 'PUNCT'}, {'\"': 'PUNCT'}, {',': 'PUNCT'}, {'\"': 'PUNCT'}, {\"'\": 'PUNCT'}, {'the': 'DET'}, {\"'\": 'PUNCT'}, {',': 'PUNCT'}, {'\"': 'PUNCT'}, {',': 'PUNCT'}, {'\"': 'PUNCT'}, {\"'\": 'PUNCT'}, {'month': 'NOUN'}, {\"'\": 'PUNCT'}, {',': 'PUNCT'}, {'\"': 'PUNCT'}, {',': 'PUNCT'}, {'\"': 'PUNCT'}, {\"'\": 'PUNCT'}, {'of': 'ADP'}, {\"'\": 'NUM'}, {',': 'PUNCT'}, {'\"': 'PUNCT'}, {',': 'PUNCT'}, {'\"': 'PUNCT'}, {\"'\": 'PUNCT'}, {'observation': 'NOUN'}, {\"'\": 'PUNCT'}, {',': 'PUNCT'}, {'\"': 'PUNCT'}, {',': 'PUNCT'}, {'\"': 'PUNCT'}, {\"'\": 'PUNCT'}, {'(': 'PUNCT'}, {\"'\": 'PUNCT'}, {',': 'PUNCT'}, {'\"': 'PUNCT'}, {',': 'PUNCT'}, {'\"': 'PUNCT'}, {\"'\": 'PUNCT'}, {'assuming': 'VERB'}, {\"'\": 'PUNCT'}, {',': 'PUNCT'}, {'\"': 'PUNCT'}, {',': 'PUNCT'}, {'\"': 'PUNCT'}, {\"'\": 'PUNCT'}, {'there': 'PRON'}, {\"'\": 'NUM'}, {',': 'PUNCT'}, {'\"': 'PUNCT'}, {',': 'PUNCT'}, {\"'\": 'PUNCT'}, {'\"': 'PUNCT'}, {'\\\\': 'PROPN'}, {\"'\": 'PUNCT'}, {'\"': 'PUNCT'}, {',': 'PUNCT'}, {\"'\": 'PUNCT'}, {',': 'PUNCT'}, {'\"': 'PUNCT'}, {\"'s\": 'AUX'}, {\"'\": 'NUM'}, {',': 'PUNCT'}, {'\"': 'PUNCT'}, {',': 'PUNCT'}, {'\"': 'PUNCT'}, {\"'\": 'PUNCT'}, {'a': 'PRON'}, {\"'\": 'PUNCT'}, {',': 'PUNCT'}, {'\"': 'PUNCT'}, {',': 'PUNCT'}, {'\"': 'PUNCT'}, {\"'\": 'PUNCT'}, {'Date': 'VERB'}, {\"'\": 'PUNCT'}, {',': 'PUNCT'}, {'\"': 'PUNCT'}, {',': 'PUNCT'}, {'\"': 'PUNCT'}, {\"'\": 'PUNCT'}, {'field': 'NOUN'}, {\"'\": 'PUNCT'}, {',': 'PUNCT'}, {'\"': 'PUNCT'}, {',': 'PUNCT'}, {'\"': 'PUNCT'}, {\"'\": 'PUNCT'}, {')': 'PUNCT'}, {\"'\": 'PUNCT'}, {']': 'PUNCT'}, {'\"': 'PUNCT'}, {']': 'PUNCT'}, {'[': 'X'}, {'\"': 'PUNCT'}, {'[': 'X'}, {\"'\": 'X'}, {'Filter': 'PROPN'}, {\"'\": 'NUM'}, {',': 'PUNCT'}, {'\"': 'PUNCT'}, {',': 'PUNCT'}, {'\"': 'PUNCT'}, {\"'\": 'PUNCT'}, {'records': 'NOUN'}, {\"'\": 'PART'}, {',': 'PUNCT'}, {'\"': 'PUNCT'}, {',': 'PUNCT'}, {'\"': 'PUNCT'}, {\"'\": 'PUNCT'}, {'from': 'ADP'}, {\"'\": 'NUM'}, {',': 'PUNCT'}, {'\"': 'PUNCT'}, {',': 'PUNCT'}, {'\"': 'PUNCT'}, {\"'\": 'PUNCT'}, {'last': 'ADJ'}, {\"'\": 'PUNCT'}, {',': 'PUNCT'}, {'\"': 'PUNCT'}, {',': 'PUNCT'}, {'\"': 'PUNCT'}, {\"'\": 'PUNCT'}, {'year': 'NOUN'}, {\"'\": 'PUNCT'}, {',': 'PUNCT'}, {'\"': 'PUNCT'}, {',': 'PUNCT'}, {'\"': 'PUNCT'}, {\"'\": 'PUNCT'}, {'(': 'PUNCT'}, {\"'\": 'PUNCT'}, {',': 'PUNCT'}, {'\"': 'PUNCT'}, {',': 'PUNCT'}, {'\"': 'PUNCT'}, {\"'\": 'PUNCT'}, {'assuming': 'VERB'}, {\"'\": 'PUNCT'}, {',': 'PUNCT'}, {'\"': 'PUNCT'}, {',': 'PUNCT'}, {'\"': 'PUNCT'}, {\"'\": 'PUNCT'}, {'there': 'PRON'}, {\"'\": 'NUM'}, {',': 'PUNCT'}, {'\"': 'PUNCT'}, {',': 'PUNCT'}, {\"'\": 'PUNCT'}, {'\"': 'PUNCT'}, {'\\\\': 'PROPN'}, {\"'\": 'PUNCT'}, {'\"': 'PUNCT'}, {',': 'PUNCT'}, {\"'\": 'PUNCT'}, {',': 'PUNCT'}, {'\"': 'PUNCT'}, {\"'s\": 'AUX'}, {\"'\": 'NUM'}, {',': 'PUNCT'}, {'\"': 'PUNCT'}, {',': 'PUNCT'}, {'\"': 'PUNCT'}, {\"'\": 'PUNCT'}, {'a': 'PRON'}, {\"'\": 'PUNCT'}, {',': 'PUNCT'}, {'\"': 'PUNCT'}, {',': 'PUNCT'}, {'\"': 'PUNCT'}, {\"'\": 'PUNCT'}, {'Date': 'VERB'}, {\"'\": 'PUNCT'}, {',': 'PUNCT'}, {'\"': 'PUNCT'}, {',': 'PUNCT'}, {'\"': 'PUNCT'}, {\"'\": 'PUNCT'}, {'field': 'NOUN'}, {\"'\": 'PUNCT'}, {',': 'PUNCT'}, {'\"': 'PUNCT'}, {',': 'PUNCT'}, {'\"': 'PUNCT'}, {\"'\": 'PUNCT'}, {')': 'PUNCT'}, {\"'\": 'PUNCT'}, {']': 'PUNCT'}, {'\"': 'PUNCT'}, {']': 'PUNCT'}, {'[': 'X'}, {'\"': 'PUNCT'}, {'[': 'X'}, {\"'\": 'PUNCT'}, {'Show': 'VERB'}, {\"'\": 'PUNCT'}, {',': 'PUNCT'}, {'\"': 'PUNCT'}, {',': 'PUNCT'}, {'\"': 'PUNCT'}, {\"'\": 'PUNCT'}, {'only': 'ADV'}, {\"'\": 'NUM'}, {',': 'PUNCT'}, {'\"': 'PUNCT'}, {',': 'PUNCT'}, {'\"': 'PUNCT'}, {\"'\": 'PUNCT'}, {'the': 'PRON'}, {\"'\": 'PUNCT'}, {',': 'PUNCT'}, {'\"': 'PUNCT'}, {',': 'PUNCT'}, {'\"': 'PUNCT'}, {\"'\": 'PUNCT'}, {'data': 'NOUN'}, {\"'\": 'PUNCT'}, {',': 'PUNCT'}, {'\"': 'PUNCT'}, {',': 'PUNCT'}, {'\"': 'PUNCT'}, {\"'\": 'PUNCT'}, {'starting': 'VERB'}, {\"'\": 'PUNCT'}, {',': 'PUNCT'}, {'\"': 'PUNCT'}, {',': 'PUNCT'}, {'\"': 'PUNCT'}, {\"'\": 'PUNCT'}, {'from': 'ADP'}, {\"'\": 'NUM'}, {',': 'PUNCT'}, {'\"': 'PUNCT'}, {',': 'PUNCT'}, {'\"': 'PUNCT'}, {\"'\": 'PUNCT'}, {'January': 'PROPN'}, {\"'\": 'NUM'}, {',': 'PUNCT'}, {'\"': 'PUNCT'}, {',': 'PUNCT'}, {'\"': 'PUNCT'}, {\"'\": 'PUNCT'}, {'this': 'PRON'}, {\"'\": 'PUNCT'}, {',': 'PUNCT'}, {'\"': 'PUNCT'}, {',': 'PUNCT'}, {'\"': 'PUNCT'}, {\"'\": 'PUNCT'}, {'year': 'NOUN'}, {\"'\": 'PUNCT'}, {']': 'PUNCT'}, {'\"': 'PUNCT'}, {']': 'PUNCT'}, {'[': 'X'}, {'\"': 'PUNCT'}, {'[': 'X'}, {\"'\": 'VERB'}, {'Find': 'VERB'}, {\"'\": 'PUNCT'}, {',': 'PUNCT'}, {'\"': 'PUNCT'}, {',': 'PUNCT'}, {'\"': 'PUNCT'}, {\"'\": 'PUNCT'}, {'the': 'DET'}, {\"'\": 'PUNCT'}, {',': 'PUNCT'}, {'\"': 'PUNCT'}, {',': 'PUNCT'}, {'\"': 'PUNCT'}, {\"'\": 'PUNCT'}, {'average': 'ADJ'}, {\"'\": 'PUNCT'}, {',': 'PUNCT'}, {'\"': 'PUNCT'}, {',': 'PUNCT'}, {'\"': 'PUNCT'}, {\"'\": 'PUNCT'}, {'Sepal': 'NOUN'}, {\"'\": 'PUNCT'}, {',': 'PUNCT'}, {'\"': 'PUNCT'}, {',': 'PUNCT'}, {'\"': 'PUNCT'}, {\"'\": 'PUNCT'}, {'Length': 'PROPN'}, {\"'\": 'PUNCT'}, {',': 'PUNCT'}, {'\"': 'PUNCT'}, {',': 'PUNCT'}, {'\"': 'PUNCT'}, {\"'\": 'PUNCT'}, {'for': 'ADP'}, {\"'\": 'NUM'}, {',': 'PUNCT'}, {'\"': 'PUNCT'}, {',': 'PUNCT'}, {'\"': 'PUNCT'}, {\"'\": 'PUNCT'}, {'each': 'PRON'}, {\"'\": 'PUNCT'}, {',': 'PUNCT'}, {'\"': 'PUNCT'}, {',': 'PUNCT'}, {'\"': 'PUNCT'}, {\"'\": 'PUNCT'}, {'Species': 'NOUN'}, {\"'\": 'PUNCT'}, {',': 'PUNCT'}, {'\"': 'PUNCT'}, {',': 'PUNCT'}, {'\"': 'PUNCT'}, {\"'\": 'PUNCT'}, {',': 'PUNCT'}, {\"'\": 'PUNCT'}, {',': 'PUNCT'}, {'\"': 'PUNCT'}, {',': 'PUNCT'}, {'\"': 'PUNCT'}, {\"'\": 'PUNCT'}, {'sorted': 'VERB'}, {\"'\": 'PUNCT'}, {',': 'PUNCT'}, {'\"': 'PUNCT'}, {',': 'PUNCT'}, {'\"': 'PUNCT'}, {\"'\": 'PUNCT'}, {'alphabetically': 'ADV'}, {\"'\": 'VERB'}, {']': 'X'}, {'\"': 'PUNCT'}, {']': 'PUNCT'}, {'[': 'X'}, {'\"': 'PUNCT'}, {'[': 'X'}, {\"'\": 'X'}, {'Count': 'PROPN'}, {\"'\": 'PUNCT'}, {',': 'PUNCT'}, {'\"': 'PUNCT'}, {',': 'PUNCT'}, {'\"': 'PUNCT'}, {\"'\": 'PUNCT'}, {'how': 'SCONJ'}, {\"'\": 'PROPN'}, {',': 'PUNCT'}, {'\"': 'PUNCT'}, {',': 'PUNCT'}, {'\"': 'PUNCT'}, {\"'\": 'PUNCT'}, {'many': 'ADJ'}, {\"'\": 'PUNCT'}, {',': 'PUNCT'}, {'\"': 'PUNCT'}, {',': 'PUNCT'}, {'\"': 'PUNCT'}, {\"'\": 'PUNCT'}, {'Species': 'NOUN'}, {\"'\": 'PUNCT'}, {',': 'PUNCT'}, {'\"': 'PUNCT'}, {',': 'PUNCT'}, {'\"': 'PUNCT'}, {\"'\": 'PUNCT'}, {'start': 'VERB'}, {\"'\": 'PUNCT'}, {',': 'PUNCT'}, {'\"': 'PUNCT'}, {',': 'PUNCT'}, {'\"': 'PUNCT'}, {\"'\": 'PUNCT'}, {'with': 'ADP'}, {\"'\": 'PROPN'}, {',': 'PUNCT'}, {'\"': 'PUNCT'}, {',': 'PUNCT'}, {\"'\": 'PUNCT'}, {'\"': 'PUNCT'}, {'\\\\': 'PROPN'}, {\"'\": 'PUNCT'}, {'\"': 'PUNCT'}, {',': 'PUNCT'}, {\"'\": 'PUNCT'}, {',': 'PUNCT'}, {'\"': 'PUNCT'}, {\"'\": 'PUNCT'}, {'C': 'NOUN'}, {\"'\": 'NUM'}, {',': 'PUNCT'}, {'\"': 'PUNCT'}, {',': 'PUNCT'}, {\"'\": 'PUNCT'}, {'\"': 'PUNCT'}, {'\\\\': 'PROPN'}, {\"'\": 'PUNCT'}, {'\"': 'PUNCT'}, {']': 'PUNCT'}, {\"'\": 'X'}, {']': 'PUNCT'}, {'[': 'X'}, {'\"': 'PUNCT'}, {'[': 'X'}, {\"'\": 'X'}, {'Entries': 'NOUN'}, {\"'\": 'PUNCT'}, {',': 'PUNCT'}, {'\"': 'PUNCT'}, {',': 'PUNCT'}, {'\"': 'PUNCT'}, {\"'\": 'PUNCT'}, {'with': 'ADP'}, {\"'\": 'PROPN'}, {',': 'PUNCT'}, {'\"': 'PUNCT'}, {',': 'PUNCT'}, {'\"': 'PUNCT'}, {\"'\": 'PUNCT'}, {'Petal': 'ADJ'}, {\"'\": 'PUNCT'}, {',': 'PUNCT'}, {'\"': 'PUNCT'}, {',': 'PUNCT'}, {'\"': 'PUNCT'}, {\"'\": 'PUNCT'}, {'Length': 'PROPN'}, {\"'\": 'PUNCT'}, {',': 'PUNCT'}, {'\"': 'PUNCT'}, {',': 'PUNCT'}, {'\"': 'PUNCT'}, {\"'\": 'PUNCT'}, {'and': 'CCONJ'}, {\"'\": 'NUM'}, {',': 'PUNCT'}, {'\"': 'PUNCT'}, {',': 'PUNCT'}, {'\"': 'PUNCT'}, {\"'\": 'PUNCT'}, {'Sepal': 'NOUN'}, {\"'\": 'PUNCT'}, {',': 'PUNCT'}, {'\"': 'PUNCT'}, {',': 'PUNCT'}, {'\"': 'PUNCT'}, {\"'\": 'PUNCT'}, {'Length': 'PROPN'}, {\"'\": 'PUNCT'}, {',': 'PUNCT'}, {'\"': 'PUNCT'}, {',': 'PUNCT'}, {'\"': 'PUNCT'}, {\"'\": 'PUNCT'}, {'both': 'PRON'}, {\"'\": 'PROPN'}, {',': 'PUNCT'}, {'\"': 'PUNCT'}, {',': 'PUNCT'}, {'\"': 'PUNCT'}, {\"'\": 'PUNCT'}, {'above': 'ADP'}, {\"'\": 'PUNCT'}, {',': 'PUNCT'}, {'\"': 'PUNCT'}, {',': 'PUNCT'}, {'\"': 'PUNCT'}, {\"'\": 'PROPN'}, {'4': 'NUM'}, {\"'\": 'NUM'}, {',': 'PUNCT'}, {'\"': 'PUNCT'}, {',': 'PUNCT'}, {'\"': 'PUNCT'}, {\"'\": 'PUNCT'}, {'.': 'PUNCT'}, {\"'\": 'PUNCT'}, {',': 'PUNCT'}, {'\"': 'PUNCT'}, {',': 'PUNCT'}, {'\"': 'PUNCT'}, {\"'\": 'PUNCT'}, {'0': 'X'}, {\"'\": 'PUNCT'}, {']': 'PUNCT'}, {'\"': 'PUNCT'}, {']': 'PUNCT'}, {'[': 'X'}, {'\"': 'PUNCT'}, {'[': 'X'}, {\"'\": 'PUNCT'}, {'List': 'NOUN'}, {\"'\": 'PUNCT'}, {',': 'PUNCT'}, {'\"': 'PUNCT'}, {',': 'PUNCT'}, {'\"': 'PUNCT'}, {\"'\": 'PUNCT'}, {'Species': 'NOUN'}, {\"'\": 'PUNCT'}, {',': 'PUNCT'}, {'\"': 'PUNCT'}, {',': 'PUNCT'}, {'\"': 'PUNCT'}, {\"'\": 'PUNCT'}, {'with': 'ADP'}, {\"'\": 'PROPN'}, {',': 'PUNCT'}, {'\"': 'PUNCT'}, {',': 'PUNCT'}, {'\"': 'PUNCT'}, {\"'\": 'PUNCT'}, {'Petal': 'ADJ'}, {\"'\": 'PUNCT'}, {',': 'PUNCT'}, {'\"': 'PUNCT'}, {',': 'PUNCT'}, {'\"': 'PUNCT'}, {\"'\": 'PUNCT'}, {'Width': 'PROPN'}, {\"'\": 'PUNCT'}, {',': 'PUNCT'}, {'\"': 'PUNCT'}, {',': 'PUNCT'}, {'\"': 'PUNCT'}, {\"'\": 'PUNCT'}, {'in': 'ADP'}, {\"'\": 'NUM'}, {',': 'PUNCT'}, {'\"': 'PUNCT'}, {',': 'PUNCT'}, {'\"': 'PUNCT'}, {\"'\": 'PUNCT'}, {'the': 'DET'}, {\"'\": 'PUNCT'}, {',': 'PUNCT'}, {'\"': 'PUNCT'}, {',': 'PUNCT'}, {'\"': 'PUNCT'}, {\"'\": 'PUNCT'}, {'top': 'VERB'}, {\"'\": 'PUNCT'}, {',': 'PUNCT'}, {'\"': 'PUNCT'}, {',': 'PUNCT'}, {'\"': 'PUNCT'}, {\"'\": 'PROPN'}, {'10': 'NUM'}, {\"'\": 'NUM'}, {',': 'PUNCT'}, {'\"': 'PUNCT'}, {',': 'PUNCT'}, {'\"': 'PUNCT'}, {\"'\": 'PUNCT'}, {'%': 'INTJ'}, {\"'\": 'PUNCT'}, {']': 'X'}, {'\"': 'PUNCT'}, {']': 'PUNCT'}, {'[': 'X'}, {'\"': 'PUNCT'}, {'[': 'X'}, {\"'\": 'PROPN'}, {'Total': 'ADJ'}, {\"'\": 'PUNCT'}, {',': 'PUNCT'}, {'\"': 'PUNCT'}, {',': 'PUNCT'}, {'\"': 'PUNCT'}, {\"'\": 'PUNCT'}, {'Sepal': 'NOUN'}, {\"'\": 'PUNCT'}, {',': 'PUNCT'}, {'\"': 'PUNCT'}, {',': 'PUNCT'}, {'\"': 'PUNCT'}, {\"'\": 'PUNCT'}, {'Length': 'PROPN'}, {\"'\": 'PUNCT'}, {',': 'PUNCT'}, {'\"': 'PUNCT'}, {',': 'PUNCT'}, {'\"': 'PUNCT'}, {\"'\": 'PUNCT'}, {'for': 'ADP'}, {\"'\": 'NUM'}, {',': 'PUNCT'}, {'\"': 'PUNCT'}, {',': 'PUNCT'}, {'\"': 'PUNCT'}, {\"'\": 'PUNCT'}, {'all': 'PRON'}, {\"'\": 'PROPN'}, {',': 'PUNCT'}, {'\"': 'PUNCT'}, {',': 'PUNCT'}, {'\"': 'PUNCT'}, {\"'\": 'PUNCT'}, {'Iris': 'PROPN'}, {\"'\": 'NUM'}, {',': 'PUNCT'}, {'\"': 'PUNCT'}, {',': 'PUNCT'}, {'\"': 'PUNCT'}, {\"'\": 'PUNCT'}, {'flowers': 'NOUN'}, {\"'\": 'VERB'}, {']': 'PUNCT'}, {'\"': 'PUNCT'}, {']': 'PUNCT'}, {'[': 'X'}, {'\"': 'PUNCT'}, {'[': 'X'}, {\"'\": 'PUNCT'}, {'Average': 'ADJ'}, {\"'\": 'PUNCT'}, {',': 'PUNCT'}, {'\"': 'PUNCT'}, {',': 'PUNCT'}, {'\"': 'PUNCT'}, {\"'\": 'PUNCT'}, {'Petal': 'ADJ'}, {\"'\": 'PUNCT'}, {',': 'PUNCT'}, {'\"': 'PUNCT'}, {',': 'PUNCT'}, {'\"': 'PUNCT'}, {\"'\": 'PUNCT'}, {'Width': 'PROPN'}, {\"'\": 'PUNCT'}, {',': 'PUNCT'}, {'\"': 'PUNCT'}, {',': 'PUNCT'}, {'\"': 'PUNCT'}, {\"'\": 'PUNCT'}, {'across': 'ADP'}, {\"'\": 'PUNCT'}, {',': 'PUNCT'}, {'\"': 'PUNCT'}, {',': 'PUNCT'}, {'\"': 'PUNCT'}, {\"'\": 'PUNCT'}, {'all': 'PRON'}, {\"'\": 'PROPN'}, {',': 'PUNCT'}, {'\"': 'PUNCT'}, {',': 'PUNCT'}, {'\"': 'PUNCT'}, {\"'\": 'PUNCT'}, {'species': 'NOUN'}, {\"'\": 'PUNCT'}, {']': 'PUNCT'}, {'\"': 'PUNCT'}, {']': 'PUNCT'}, {'[': 'X'}, {'\"': 'PUNCT'}, {'[': 'X'}, {\"'\": 'PUNCT'}, {'Median': 'PROPN'}, {\"'\": 'PROPN'}, {',': 'PUNCT'}, {'\"': 'PUNCT'}, {',': 'PUNCT'}, {'\"': 'PUNCT'}, {\"'\": 'PUNCT'}, {'Sepal': 'NOUN'}, {\"'\": 'PUNCT'}, {',': 'PUNCT'}, {'\"': 'PUNCT'}, {',': 'PUNCT'}, {'\"': 'PUNCT'}, {\"'\": 'PUNCT'}, {'Width': 'PROPN'}, {\"'\": 'PUNCT'}, {',': 'PUNCT'}, {'\"': 'PUNCT'}, {',': 'PUNCT'}, {'\"': 'PUNCT'}, {\"'\": 'PUNCT'}, {'for': 'ADP'}, {\"'\": 'NUM'}, {',': 'PUNCT'}, {'\"': 'PUNCT'}, {',': 'PUNCT'}, {'\"': 'PUNCT'}, {\"'\": 'PUNCT'}, {'Iris': 'PROPN'}, {\"'\": 'NUM'}, {',': 'PUNCT'}, {'\"': 'PUNCT'}, {',': 'PUNCT'}, {'\"': 'PUNCT'}, {\"'\": 'PUNCT'}, {'setosa': 'VERB'}, {\"'\": 'PUNCT'}, {']': 'PUNCT'}, {'\"': 'PUNCT'}, {']': 'PUNCT'}, {'[': 'X'}, {'\"': 'PUNCT'}, {'[': 'X'}, {\"'\": 'X'}, {'Count': 'PROPN'}, {\"'\": 'PUNCT'}, {',': 'PUNCT'}, {'\"': 'PUNCT'}, {',': 'PUNCT'}, {'\"': 'PUNCT'}, {\"'\": 'PUNCT'}, {'of': 'ADP'}, {\"'\": 'NUM'}, {',': 'PUNCT'}, {'\"': 'PUNCT'}, {',': 'PUNCT'}, {'\"': 'PUNCT'}, {\"'\": 'PUNCT'}, {'Iris': 'PROPN'}, {\"'\": 'NUM'}, {',': 'PUNCT'}, {'\"': 'PUNCT'}, {',': 'PUNCT'}, {'\"': 'PUNCT'}, {\"'\": 'PUNCT'}, {'versicolor': 'NOUN'}, {\"'\": 'PUNCT'}, {',': 'PUNCT'}, {'\"': 'PUNCT'}, {',': 'PUNCT'}, {'\"': 'PUNCT'}, {\"'\": 'PUNCT'}, {'flowers': 'NOUN'}, {\"'\": 'VERB'}, {']': 'PUNCT'}, {'\"': 'PUNCT'}, {']': 'PUNCT'}, {'[': 'X'}, {'\"': 'PUNCT'}, {'[': 'X'}, {\"'\": 'X'}, {'Distinct': 'ADJ'}, {\"'\": 'PUNCT'}, {',': 'PUNCT'}, {'\"': 'PUNCT'}, {',': 'PUNCT'}, {'\"': 'PUNCT'}, {\"'\": 'PUNCT'}, {'count': 'VERB'}, {\"'\": 'PUNCT'}, {',': 'PUNCT'}, {'\"': 'PUNCT'}, {',': 'PUNCT'}, {'\"': 'PUNCT'}, {\"'\": 'PUNCT'}, {'of': 'ADP'}, {\"'\": 'NUM'}, {',': 'PUNCT'}, {'\"': 'PUNCT'}, {',': 'PUNCT'}, {'\"': 'PUNCT'}, {\"'\": 'PUNCT'}, {'species': 'NOUN'}, {\"'\": 'PUNCT'}, {',': 'PUNCT'}, {'\"': 'PUNCT'}, {',': 'PUNCT'}, {'\"': 'PUNCT'}, {\"'\": 'PUNCT'}, {'with': 'ADP'}, {\"'\": 'PROPN'}, {',': 'PUNCT'}, {'\"': 'PUNCT'}, {',': 'PUNCT'}, {'\"': 'PUNCT'}, {\"'\": 'PUNCT'}, {'Sepal': 'NOUN'}, {\"'\": 'PUNCT'}, {',': 'PUNCT'}, {'\"': 'PUNCT'}, {',': 'PUNCT'}, {'\"': 'PUNCT'}, {\"'\": 'PUNCT'}, {'Length': 'PROPN'}, {\"'\": 'PUNCT'}, {',': 'PUNCT'}, {'\"': 'PUNCT'}, {',': 'PUNCT'}, {'\"': 'PUNCT'}, {\"'\": 'PUNCT'}, {'over': 'ADP'}, {\"'\": 'PUNCT'}, {',': 'PUNCT'}, {'\"': 'PUNCT'}, {',': 'PUNCT'}, {'\"': 'PUNCT'}, {\"'\": 'PROPN'}, {'5': 'NUM'}, {\"'\": 'NUM'}, {',': 'PUNCT'}, {'\"': 'PUNCT'}, {',': 'PUNCT'}, {'\"': 'PUNCT'}, {\"'\": 'PUNCT'}, {'.': 'PUNCT'}, {\"'\": 'PUNCT'}, {',': 'PUNCT'}, {'\"': 'PUNCT'}, {',': 'PUNCT'}, {'\"': 'PUNCT'}, {\"'\": 'PUNCT'}, {'0': 'X'}, {\"'\": 'PUNCT'}, {']': 'PUNCT'}, {'\"': 'PUNCT'}, {']': 'PUNCT'}, {'[': 'X'}, {'\"': 'PUNCT'}, {'[': 'X'}, {\"'\": 'PUNCT'}, {'Minimum': 'ADJ'}, {\"'\": 'PUNCT'}, {',': 'PUNCT'}, {'\"': 'PUNCT'}, {',': 'PUNCT'}, {'\"': 'PUNCT'}, {\"'\": 'PUNCT'}, {'Petal': 'ADJ'}, {\"'\": 'PUNCT'}, {',': 'PUNCT'}, {'\"': 'PUNCT'}, {',': 'PUNCT'}, {'\"': 'PUNCT'}, {\"'\": 'PUNCT'}, {'Length': 'PROPN'}, {\"'\": 'PUNCT'}, {',': 'PUNCT'}, {'\"': 'PUNCT'}, {',': 'PUNCT'}, {'\"': 'PUNCT'}, {\"'\": 'PUNCT'}, {'for': 'ADP'}, {\"'\": 'NUM'}, {',': 'PUNCT'}, {'\"': 'PUNCT'}, {',': 'PUNCT'}, {'\"': 'PUNCT'}, {\"'\": 'PUNCT'}, {'Iris': 'PROPN'}, {\"'\": 'NUM'}, {',': 'PUNCT'}, {'\"': 'PUNCT'}, {',': 'PUNCT'}, {'\"': 'PUNCT'}, {\"'\": 'PUNCT'}, {'virginica': 'X'}, {\"'\": 'PUNCT'}, {']': 'PUNCT'}, {'\"': 'PUNCT'}, {']': 'PUNCT'}, {'[': 'X'}, {'\"': 'PUNCT'}, {'[': 'X'}, {\"'\": 'PUNCT'}, {'Maximum': 'ADJ'}, {\"'\": 'NUM'}, {',': 'PUNCT'}, {'\"': 'PUNCT'}, {',': 'PUNCT'}, {'\"': 'PUNCT'}, {\"'\": 'PUNCT'}, {'Sepal': 'NOUN'}, {\"'\": 'PUNCT'}, {',': 'PUNCT'}, {'\"': 'PUNCT'}, {',': 'PUNCT'}, {'\"': 'PUNCT'}, {\"'\": 'PUNCT'}, {'Width': 'PROPN'}, {\"'\": 'PUNCT'}, {',': 'PUNCT'}, {'\"': 'PUNCT'}, {',': 'PUNCT'}, {'\"': 'PUNCT'}, {\"'\": 'PUNCT'}, {'across': 'ADP'}, {\"'\": 'PUNCT'}, {',': 'PUNCT'}, {'\"': 'PUNCT'}, {',': 'PUNCT'}, {'\"': 'PUNCT'}, {\"'\": 'PUNCT'}, {'Iris': 'PROPN'}, {\"'\": 'NUM'}, {',': 'PUNCT'}, {'\"': 'PUNCT'}, {',': 'PUNCT'}, {'\"': 'PUNCT'}, {\"'\": 'PUNCT'}, {'setosa': 'VERB'}, {\"'\": 'PUNCT'}, {']': 'PUNCT'}, {'\"': 'PUNCT'}, {']': 'PUNCT'}, {'[': 'X'}, {'\"': 'PUNCT'}, {'[': 'X'}, {\"'\": 'PROPN'}, {'Total': 'ADJ'}, {\"'\": 'PUNCT'}, {',': 'PUNCT'}, {'\"': 'PUNCT'}, {',': 'PUNCT'}, {'\"': 'PUNCT'}, {\"'\": 'PUNCT'}, {'number': 'NOUN'}, {\"'\": 'PUNCT'}, {',': 'PUNCT'}, {'\"': 'PUNCT'}, {',': 'PUNCT'}, {'\"': 'PUNCT'}, {\"'\": 'PUNCT'}, {'of': 'ADP'}, {\"'\": 'NUM'}, {',': 'PUNCT'}, {'\"': 'PUNCT'}, {',': 'PUNCT'}, {'\"': 'PUNCT'}, {\"'\": 'PUNCT'}, {'records': 'NOUN'}, {\"'\": 'PART'}, {',': 'PUNCT'}, {'\"': 'PUNCT'}, {',': 'PUNCT'}, {'\"': 'PUNCT'}, {\"'\": 'PUNCT'}, {'grouped': 'VERB'}, {\"'\": 'PUNCT'}, {',': 'PUNCT'}, {'\"': 'PUNCT'}, {',': 'PUNCT'}, {'\"': 'PUNCT'}, {\"'\": 'PUNCT'}, {'by': 'ADP'}, {\"'\": 'NUM'}, {',': 'PUNCT'}, {'\"': 'PUNCT'}, {',': 'PUNCT'}, {'\"': 'PUNCT'}, {\"'\": 'PUNCT'}, {'Species': 'PROPN'}, {\"'\": 'PUNCT'}, {']': 'PUNCT'}, {'\"': 'PUNCT'}, {']': 'PUNCT'}, {'[': 'X'}, {'\"': 'PUNCT'}, {'[': 'X'}, {\"'\": 'X'}, {'Filter': 'PROPN'}, {\"'\": 'NUM'}, {',': 'PUNCT'}, {'\"': 'PUNCT'}, {',': 'PUNCT'}, {'\"': 'PUNCT'}, {\"'\": 'PUNCT'}, {'to': 'PART'}, {\"'\": 'NUM'}, {',': 'PUNCT'}, {'\"': 'PUNCT'}, {',': 'PUNCT'}, {'\"': 'PUNCT'}, {\"'\": 'PUNCT'}, {'show': 'VERB'}, {\"'\": 'PUNCT'}, {',': 'PUNCT'}, {'\"': 'PUNCT'}, {',': 'PUNCT'}, {'\"': 'PUNCT'}, {\"'\": 'PUNCT'}, {'only': 'ADV'}, {\"'\": 'NUM'}, {',': 'PUNCT'}, {'\"': 'PUNCT'}, {',': 'PUNCT'}, {'\"': 'PUNCT'}, {\"'\": 'PUNCT'}, {'Iris': 'PROPN'}, {\"'\": 'NUM'}, {',': 'PUNCT'}, {'\"': 'PUNCT'}, {',': 'PUNCT'}, {'\"': 'PUNCT'}, {\"'\": 'PUNCT'}, {'versicolor': 'NOUN'}, {\"'\": 'PUNCT'}, {',': 'PUNCT'}, {'\"': 'PUNCT'}, {',': 'PUNCT'}, {'\"': 'PUNCT'}, {\"'\": 'PUNCT'}, {'with': 'ADP'}, {\"'\": 'PROPN'}, {',': 'PUNCT'}, {'\"': 'PUNCT'}, {',': 'PUNCT'}, {'\"': 'PUNCT'}, {\"'\": 'PUNCT'}, {'Sepal': 'NOUN'}, {\"'\": 'PUNCT'}, {',': 'PUNCT'}, {'\"': 'PUNCT'}, {',': 'PUNCT'}, {'\"': 'PUNCT'}, {\"'\": 'PUNCT'}, {'Width': 'PROPN'}, {\"'\": 'PUNCT'}, {',': 'PUNCT'}, {'\"': 'PUNCT'}, {',': 'PUNCT'}, {'\"': 'PUNCT'}, {\"'\": 'PUNCT'}, {'at': 'ADP'}, {\"'\": 'NUM'}, {',': 'PUNCT'}, {'\"': 'PUNCT'}, {',': 'PUNCT'}, {'\"': 'PUNCT'}, {\"'\": 'PUNCT'}, {'least': 'ADJ'}, {\"'\": 'PUNCT'}, {',': 'PUNCT'}, {'\"': 'PUNCT'}, {',': 'PUNCT'}, {'\"': 'PUNCT'}, {\"'\": 'PROPN'}, {'3': 'NUM'}, {\"'\": 'NUM'}, {',': 'PUNCT'}, {'\"': 'PUNCT'}, {',': 'PUNCT'}, {'\"': 'PUNCT'}, {\"'\": 'PUNCT'}, {'.': 'PUNCT'}, {\"'\": 'PUNCT'}, {',': 'PUNCT'}, {'\"': 'PUNCT'}, {',': 'PUNCT'}, {'\"': 'PUNCT'}, {\"'\": 'PUNCT'}, {'0': 'X'}, {\"'\": 'PUNCT'}, {']': 'PUNCT'}, {'\"': 'PUNCT'}, {']': 'PUNCT'}, {'[': 'X'}, {'\"': 'PUNCT'}, {'[': 'X'}, {\"'\": 'PUNCT'}, {'Show': 'VERB'}, {\"'\": 'PUNCT'}, {',': 'PUNCT'}, {'\"': 'PUNCT'}, {',': 'PUNCT'}, {'\"': 'PUNCT'}, {\"'\": 'PUNCT'}, {'top': 'VERB'}, {\"'\": 'PUNCT'}, {',': 'PUNCT'}, {'\"': 'PUNCT'}, {',': 'PUNCT'}, {'\"': 'PUNCT'}, {\"'\": 'PROPN'}, {'5': 'NUM'}, {\"'\": 'NUM'}, {',': 'PUNCT'}, {'\"': 'PUNCT'}, {',': 'PUNCT'}, {'\"': 'PUNCT'}, {\"'\": 'PUNCT'}, {'Sepal': 'NOUN'}, {\"'\": 'PUNCT'}, {',': 'PUNCT'}, {'\"': 'PUNCT'}, {',': 'PUNCT'}, {'\"': 'PUNCT'}, {\"'\": 'PUNCT'}, {'Lengths': 'NOUN'}, {\"'\": 'NUM'}, {',': 'PUNCT'}, {'\"': 'PUNCT'}, {',': 'PUNCT'}, {'\"': 'PUNCT'}, {\"'\": 'PUNCT'}, {'within': 'ADP'}, {\"'\": 'PUNCT'}, {',': 'PUNCT'}, {'\"': 'PUNCT'}, {',': 'PUNCT'}, {'\"': 'PUNCT'}, {\"'\": 'PUNCT'}, {'Iris': 'PROPN'}, {\"'\": 'NUM'}, {',': 'PUNCT'}, {'\"': 'PUNCT'}, {',': 'PUNCT'}, {'\"': 'PUNCT'}, {\"'\": 'PUNCT'}, {'virginica': 'X'}, {\"'\": 'PUNCT'}, {',': 'PUNCT'}, {'\"': 'PUNCT'}, {',': 'PUNCT'}, {'\"': 'PUNCT'}, {\"'\": 'PUNCT'}, {'only': 'ADV'}, {\"'\": 'PUNCT'}, {']': 'X'}, {'\"': 'PUNCT'}, {']': 'PUNCT'}, {'[': 'X'}, {'\"': 'PUNCT'}, {'[': 'X'}, {\"'\": 'X'}, {'Iris': 'PROPN'}, {\"'\": 'PROPN'}, {',': 'PUNCT'}, {'\"': 'PUNCT'}, {',': 'PUNCT'}, {'\"': 'PUNCT'}, {\"'\": 'PUNCT'}, {'flowers': 'NOUN'}, {\"'\": 'PART'}, {',': 'PUNCT'}, {'\"': 'PUNCT'}, {',': 'PUNCT'}, {'\"': 'PUNCT'}, {\"'\": 'PUNCT'}, {'with': 'ADP'}, {\"'\": 'PROPN'}, {',': 'PUNCT'}, {'\"': 'PUNCT'}, {',': 'PUNCT'}, {'\"': 'PUNCT'}, {\"'\": 'PUNCT'}, {'Petal': 'ADJ'}, {\"'\": 'PUNCT'}, {',': 'PUNCT'}, {'\"': 'PUNCT'}, {',': 'PUNCT'}, {'\"': 'PUNCT'}, {\"'\": 'PUNCT'}, {'Width': 'PROPN'}, {\"'\": 'PUNCT'}, {',': 'PUNCT'}, {'\"': 'PUNCT'}, {',': 'PUNCT'}, {'\"': 'PUNCT'}, {\"'\": 'PUNCT'}, {'in': 'ADP'}, {\"'\": 'NUM'}, {',': 'PUNCT'}, {'\"': 'PUNCT'}, {',': 'PUNCT'}, {'\"': 'PUNCT'}, {\"'\": 'PUNCT'}, {'the': 'PRON'}, {\"'\": 'PUNCT'}, {',': 'PUNCT'}, {'\"': 'PUNCT'}, {',': 'PUNCT'}, {'\"': 'PUNCT'}, {\"'\": 'PUNCT'}, {'bottom': 'ADJ'}, {\"'\": 'PUNCT'}, {',': 'PUNCT'}, {'\"': 'PUNCT'}, {',': 'PUNCT'}, {'\"': 'PUNCT'}, {\"'\": 'PUNCT'}, {'10th': 'X'}, {\"'\": 'PUNCT'}, {',': 'PUNCT'}, {'\"': 'PUNCT'}, {',': 'PUNCT'}, {'\"': 'PUNCT'}, {\"'\": 'PUNCT'}, {'percentile': 'VERB'}, {\"'\": 'PUNCT'}, {']': 'PUNCT'}, {'\"': 'PUNCT'}, {']': 'PUNCT'}, {'[': 'X'}, {'\"': 'PUNCT'}, {'[': 'X'}, {\"'\": 'PUNCT'}, {'Average': 'ADJ'}, {\"'\": 'PUNCT'}, {',': 'PUNCT'}, {'\"': 'PUNCT'}, {',': 'PUNCT'}, {'\"': 'PUNCT'}, {\"'\": 'PUNCT'}, {'Sepal': 'NOUN'}, {\"'\": 'PUNCT'}, {',': 'PUNCT'}, {'\"': 'PUNCT'}, {',': 'PUNCT'}, {'\"': 'PUNCT'}, {\"'\": 'PUNCT'}, {'Length': 'PROPN'}, {\"'\": 'PUNCT'}, {',': 'PUNCT'}, {'\"': 'PUNCT'}, {',': 'PUNCT'}, {'\"': 'PUNCT'}, {\"'\": 'PUNCT'}, {'for': 'ADP'}, {\"'\": 'NUM'}, {',': 'PUNCT'}, {'\"': 'PUNCT'}, {',': 'PUNCT'}, {'\"': 'PUNCT'}, {\"'\": 'PUNCT'}, {'each': 'PRON'}, {\"'\": 'PUNCT'}, {',': 'PUNCT'}, {'\"': 'PUNCT'}, {',': 'PUNCT'}, {'\"': 'PUNCT'}, {\"'\": 'PUNCT'}, {'species': 'NOUN'}, {\"'\": 'PUNCT'}, {']': 'PUNCT'}, {'\"': 'PUNCT'}, {']': 'PUNCT'}, {'[': 'X'}, {'\"': 'PUNCT'}, {'[': 'X'}, {\"'\": 'X'}, {'Entries': 'NOUN'}, {\"'\": 'PUNCT'}, {',': 'PUNCT'}, {'\"': 'PUNCT'}, {',': 'PUNCT'}, {'\"': 'PUNCT'}, {\"'\": 'PUNCT'}, {'with': 'ADP'}, {\"'\": 'PROPN'}, {',': 'PUNCT'}, {'\"': 'PUNCT'}, {',': 'PUNCT'}, {'\"': 'PUNCT'}, {\"'\": 'PUNCT'}, {'Petal': 'ADJ'}, {\"'\": 'PUNCT'}, {',': 'PUNCT'}, {'\"': 'PUNCT'}, {',': 'PUNCT'}, {'\"': 'PUNCT'}, {\"'\": 'PUNCT'}, {'Length': 'PROPN'}, {\"'\": 'PUNCT'}, {',': 'PUNCT'}, {'\"': 'PUNCT'}, {',': 'PUNCT'}, {'\"': 'PUNCT'}, {\"'\": 'PUNCT'}, {'between': 'ADP'}, {\"'\": 'PUNCT'}, {',': 'PUNCT'}, {'\"': 'PUNCT'}, {',': 'PUNCT'}, {'\"': 'PUNCT'}, {\"'\": 'PROPN'}, {'4': 'NUM'}, {\"'\": 'NUM'}, {',': 'PUNCT'}, {'\"': 'PUNCT'}, {',': 'PUNCT'}, {'\"': 'PUNCT'}, {\"'\": 'PUNCT'}, {'.': 'PUNCT'}, {\"'\": 'PUNCT'}, {',': 'PUNCT'}, {'\"': 'PUNCT'}, {',': 'PUNCT'}, {'\"': 'PUNCT'}, {\"'\": 'PUNCT'}, {'0': 'X'}, {\"'\": 'PUNCT'}, {',': 'PUNCT'}, {'\"': 'PUNCT'}, {',': 'PUNCT'}, {'\"': 'PUNCT'}, {\"'\": 'PUNCT'}, {'and': 'CCONJ'}, {\"'\": 'NUM'}, {',': 'PUNCT'}, {'\"': 'PUNCT'}, {',': 'PUNCT'}, {'\"': 'PUNCT'}, {\"'\": 'PROPN'}, {'5': 'NUM'}, {\"'\": 'NUM'}, {',': 'PUNCT'}, {'\"': 'PUNCT'}, {',': 'PUNCT'}, {'\"': 'PUNCT'}, {\"'\": 'PUNCT'}, {'.': 'PUNCT'}, {\"'\": 'PUNCT'}, {',': 'PUNCT'}, {'\"': 'PUNCT'}, {',': 'PUNCT'}, {'\"': 'PUNCT'}, {\"'\": 'PUNCT'}, {'0': 'X'}, {\"'\": 'PUNCT'}, {',': 'PUNCT'}, {'\"': 'PUNCT'}, {',': 'PUNCT'}, {'\"': 'PUNCT'}, {\"'\": 'PUNCT'}, {'for': 'ADP'}, {\"'\": 'NUM'}, {',': 'PUNCT'}, {'\"': 'PUNCT'}, {',': 'PUNCT'}, {'\"': 'PUNCT'}, {\"'\": 'PUNCT'}, {'Iris': 'PROPN'}, {\"'\": 'NUM'}, {',': 'PUNCT'}, {'\"': 'PUNCT'}, {',': 'PUNCT'}, {'\"': 'PUNCT'}, {\"'\": 'PUNCT'}, {'setosa': 'VERB'}, {\"'\": 'PUNCT'}, {']': 'PUNCT'}, {'\"': 'PUNCT'}, {']': 'PUNCT'}, {'[': 'X'}, {'\"': 'PUNCT'}, {'[': 'X'}, {\"'\": 'X'}, {'Count': 'PROPN'}, {\"'\": 'PUNCT'}, {',': 'PUNCT'}, {'\"': 'PUNCT'}, {',': 'PUNCT'}, {'\"': 'PUNCT'}, {\"'\": 'PUNCT'}, {'Iris': 'PROPN'}, {\"'\": 'NUM'}, {',': 'PUNCT'}, {'\"': 'PUNCT'}, {',': 'PUNCT'}, {'\"': 'PUNCT'}, {\"'\": 'PUNCT'}, {'flowers': 'NOUN'}, {\"'\": 'PART'}, {',': 'PUNCT'}, {'\"': 'PUNCT'}, {',': 'PUNCT'}, {'\"': 'PUNCT'}, {\"'\": 'PUNCT'}, {'where': 'SCONJ'}, {\"'\": 'NUM'}, {',': 'PUNCT'}, {'\"': 'PUNCT'}, {',': 'PUNCT'}, {'\"': 'PUNCT'}, {\"'\": 'PUNCT'}, {'the': 'DET'}, {\"'\": 'PUNCT'}, {',': 'PUNCT'}, {'\"': 'PUNCT'}, {',': 'PUNCT'}, {'\"': 'PUNCT'}, {\"'\": 'PUNCT'}, {'Species': 'NOUN'}, {\"'\": 'PUNCT'}, {',': 'PUNCT'}, {'\"': 'PUNCT'}, {',': 'PUNCT'}, {'\"': 'PUNCT'}, {\"'\": 'PUNCT'}, {'name': 'NOUN'}, {\"'\": 'PUNCT'}, {',': 'PUNCT'}, {'\"': 'PUNCT'}, {',': 'PUNCT'}, {'\"': 'PUNCT'}, {\"'\": 'PUNCT'}, {'contains': 'VERB'}, {\"'\": 'PUNCT'}, {',': 'PUNCT'}, {'\"': 'PUNCT'}, {',': 'PUNCT'}, {\"'\": 'PUNCT'}, {'\"': 'PUNCT'}, {'\\\\': 'PROPN'}, {\"'\": 'PUNCT'}, {'\"': 'PUNCT'}, {',': 'PUNCT'}, {\"'\": 'PUNCT'}, {',': 'PUNCT'}, {'\"': 'PUNCT'}, {\"'\": 'PUNCT'}, {'color': 'NOUN'}, {\"'\": 'PUNCT'}, {',': 'PUNCT'}, {'\"': 'PUNCT'}, {',': 'PUNCT'}, {\"'\": 'PUNCT'}, {'\"': 'PUNCT'}, {'\\\\': 'PROPN'}, {\"'\": 'PUNCT'}, {'\"': 'PUNCT'}, {']': 'PUNCT'}, {\"'\": 'X'}, {']': 'PUNCT'}, {'[': 'X'}, {'\"': 'PUNCT'}, {'[': 'X'}, {\"'\": 'PUNCT'}, {'List': 'NOUN'}, {\"'\": 'PUNCT'}, {',': 'PUNCT'}, {'\"': 'PUNCT'}, {',': 'PUNCT'}, {'\"': 'PUNCT'}, {\"'\": 'PUNCT'}, {'all': 'PRON'}, {\"'\": 'PROPN'}, {',': 'PUNCT'}, {'\"': 'PUNCT'}, {',': 'PUNCT'}, {'\"': 'PUNCT'}, {\"'\": 'PUNCT'}, {'Iris': 'PROPN'}, {\"'\": 'NUM'}, {',': 'PUNCT'}, {'\"': 'PUNCT'}, {',': 'PUNCT'}, {'\"': 'PUNCT'}, {\"'\": 'PUNCT'}, {'flowers': 'NOUN'}, {\"'\": 'PART'}, {',': 'PUNCT'}, {'\"': 'PUNCT'}, {',': 'PUNCT'}, {'\"': 'PUNCT'}, {\"'\": 'PUNCT'}, {'where': 'SCONJ'}, {\"'\": 'NUM'}, {',': 'PUNCT'}, {'\"': 'PUNCT'}, {',': 'PUNCT'}, {'\"': 'PUNCT'}, {\"'\": 'PUNCT'}, {'the': 'DET'}, {\"'\": 'PUNCT'}, {',': 'PUNCT'}, {'\"': 'PUNCT'}, {',': 'PUNCT'}, {'\"': 'PUNCT'}, {\"'\": 'PUNCT'}, {'Species': 'NOUN'}, {\"'\": 'PUNCT'}, {',': 'PUNCT'}, {'\"': 'PUNCT'}, {',': 'PUNCT'}, {'\"': 'PUNCT'}, {\"'\": 'PUNCT'}, {'name': 'NOUN'}, {\"'\": 'PUNCT'}, {',': 'PUNCT'}, {'\"': 'PUNCT'}, {',': 'PUNCT'}, {'\"': 'PUNCT'}, {\"'\": 'PUNCT'}, {'starts': 'VERB'}, {\"'\": 'PUNCT'}, {',': 'PUNCT'}, {'\"': 'PUNCT'}, {',': 'PUNCT'}, {'\"': 'PUNCT'}, {\"'\": 'PUNCT'}, {'with': 'ADP'}, {\"'\": 'PROPN'}, {',': 'PUNCT'}, {'\"': 'PUNCT'}, {',': 'PUNCT'}, {\"'\": 'PUNCT'}, {'\"': 'PUNCT'}, {'\\\\': 'PROPN'}, {\"'\": 'PUNCT'}, {'\"': 'PUNCT'}, {',': 'PUNCT'}, {\"'\": 'PUNCT'}, {',': 'PUNCT'}, {'\"': 'PUNCT'}, {\"'\": 'PUNCT'}, {'Iri': 'PROPN'}, {\"'\": 'PROPN'}, {',': 'PUNCT'}, {'\"': 'PUNCT'}, {',': 'PUNCT'}, {\"'\": 'PUNCT'}, {'\"': 'PUNCT'}, {'\\\\': 'PROPN'}, {\"'\": 'PUNCT'}, {'\"': 'PUNCT'}, {',': 'PUNCT'}, {\"'\": 'PUNCT'}, {',': 'PUNCT'}, {'\"': 'PUNCT'}, {\"'\": 'PUNCT'}, {'and': 'CCONJ'}, {\"'\": 'NUM'}, {',': 'PUNCT'}, {'\"': 'PUNCT'}, {',': 'PUNCT'}, {'\"': 'PUNCT'}, {\"'\": 'PUNCT'}, {'ends': 'VERB'}, {\"'\": 'PUNCT'}, {',': 'PUNCT'}, {'\"': 'PUNCT'}, {',': 'PUNCT'}, {'\"': 'PUNCT'}, {\"'\": 'PUNCT'}, {'with': 'ADP'}, {\"'\": 'PROPN'}, {',': 'PUNCT'}, {'\"': 'PUNCT'}, {',': 'PUNCT'}, {\"'\": 'PUNCT'}, {'\"': 'PUNCT'}, {'\\\\': 'PROPN'}, {\"'\": 'PUNCT'}, {'\"': 'PUNCT'}, {',': 'PUNCT'}, {\"'\": 'PUNCT'}, {',': 'PUNCT'}, {'\"': 'PUNCT'}, {\"'\": 'PUNCT'}, {'a': 'DET'}, {\"'\": 'PUNCT'}, {',': 'PUNCT'}, {'\"': 'PUNCT'}, {',': 'PUNCT'}, {\"'\": 'PUNCT'}, {'\"': 'PUNCT'}, {'\\\\': 'PROPN'}, {\"'\": 'PUNCT'}, {'\"': 'PUNCT'}, {']': 'PUNCT'}, {\"'\": 'X'}, {']': 'PUNCT'}]\n",
            "Tokenized Description : ['NOUN', 'X', 'NUM', 'PRON', 'DET', 'AUX', 'ADP', 'VERB', 'ADV', 'SCONJ', 'INTJ', 'PROPN', 'CCONJ', 'PART', 'ADJ', 'PUNCT']\n"
          ]
        }
      ]
    },
    {
      "cell_type": "code",
      "source": [
        "for pat in p_d:\n",
        "   print({pat:p_d[pat]})"
      ],
      "metadata": {
        "id": "GkL8Eyale0hW",
        "colab": {
          "base_uri": "https://localhost:8080/"
        },
        "outputId": "24c6d88c-3b8e-4968-825e-0ae666fc3b76"
      },
      "execution_count": 89,
      "outputs": [
        {
          "output_type": "stream",
          "name": "stdout",
          "text": [
            "{'NOUN': ['Entries', 'flowers', 'types', 'points', 'Determine', 'Species', 'C', 'field', 'Number', 'List', 'data', 'Lengths', 'species', 'value', 'number', 'observation', 'entries', 'name', 'color', 'flower', 'Sepal', 'versicolor', 'order', 'occurrences', 'month', 'year', 'records', 'Widths', 'Display']}\n",
            "{'X': ['1', '[', '0', 'Length', 'virginica', 'median', ']', \"'\", '2', '10th']}\n",
            "{'NUM': ['4', '5', '10', \"'\", '3']}\n",
            "{'PRON': ['both', 'the', 'a', 'this', 'there', 'all', 'each', 'What']}\n",
            "{'DET': ['the', 'a']}\n",
            "{'AUX': ['is', 'are', \"'s\"]}\n",
            "{'ADP': ['with', 'in', 'from', 'between', 'of', 'above', 'at', 'over', 'within', 'across', 'than', 'by', 'for']}\n",
            "{'VERB': ['Date', 'sorted', 'setosa', 'percentile', 'dataset', 'Aggregate', 'descending', \"'\", 'recorded', 'contains', 'Calculate', 'Organize', 'found', 'starting', 'ends', 'top', 'assuming', 'grouped', 'start', 'ascending', 'ica', 'Find', 'Show', 'show', 'Setosa', 'count', 'starts']}\n",
            "{'ADV': ['alphabetically', 'Sort', 'exactly', 'only']}\n",
            "{'SCONJ': ['where', 'How', 'how']}\n",
            "{'INTJ': ['%']}\n",
            "{'PROPN': ['\\\\', 'Iris', 'Rank', 'Sum', 'Length', 'Count', 'Se', 'Group', 'Filter', 'Width', \"'\", 'Median', 'January', 'Species', 'Iri']}\n",
            "{'CCONJ': ['and', 'or']}\n",
            "{'PART': [\"'\", 'not', 'to']}\n",
            "{'ADJ': ['Average', 'average', 'low', 'smallest', 'greater', 'Distinct', 'Top', 'Highest', 'high', 'many', 'bottom', 'highest', 'unique', 'less', 'Minimum', 'Total', 'Maximum', 'Petal', 'total', 'distinct', 'last', 'equal', 'Lowest', 'middle', 'least', 'Select']}\n",
            "{'PUNCT': ['(', '.', '?', ']', \"'\", ')', '\"', ',']}\n"
          ]
        }
      ]
    },
    {
      "cell_type": "code",
      "source": [],
      "metadata": {
        "id": "juHioVPDgONj"
      },
      "execution_count": 89,
      "outputs": []
    },
    {
      "cell_type": "markdown",
      "source": [
        "# Formulas (Tableau) Patterns"
      ],
      "metadata": {
        "id": "EKPpleQ9e_9c"
      }
    },
    {
      "cell_type": "code",
      "source": [
        "p_t=dg_ent['Patterns_Formula(Tableau)']=get_patterns(dg_tok,dg_tok.columns[1])"
      ],
      "metadata": {
        "id": "y8oN90fPfI_T",
        "colab": {
          "base_uri": "https://localhost:8080/"
        },
        "outputId": "4f246a22-5047-4498-b4b1-2a98e4c92b0a"
      },
      "execution_count": 90,
      "outputs": [
        {
          "output_type": "stream",
          "name": "stdout",
          "text": [
            "[{'[': 'X'}, {'\"': 'PUNCT'}, {'[': 'X'}, {\"'\": 'VERB'}, {'SUM': 'NOUN'}, {\"'\": 'PUNCT'}, {',': 'PUNCT'}, {'\"': 'PUNCT'}, {',': 'PUNCT'}, {'\"': 'PUNCT'}, {\"'\": 'PUNCT'}, {'Sepal': 'NOUN'}, {\"'\": 'PUNCT'}, {',': 'PUNCT'}, {'\"': 'PUNCT'}, {',': 'PUNCT'}, {'\"': 'PUNCT'}, {\"'\": 'PUNCT'}, {'Length': 'X'}, {\"'\": 'PUNCT'}, {']': 'PUNCT'}, {'\"': 'PUNCT'}, {']': 'PUNCT'}, {'[': 'X'}, {'\"': 'PUNCT'}, {'[': 'X'}, {\"'\": 'X'}, {'AVG': 'PROPN'}, {\"'\": 'NUM'}, {',': 'PUNCT'}, {'\"': 'PUNCT'}, {',': 'PUNCT'}, {'\"': 'PUNCT'}, {\"'\": 'PUNCT'}, {'Sepal': 'NOUN'}, {\"'\": 'PUNCT'}, {',': 'PUNCT'}, {'\"': 'PUNCT'}, {',': 'PUNCT'}, {'\"': 'PUNCT'}, {\"'\": 'PUNCT'}, {'Width': 'PROPN'}, {\"'\": 'PUNCT'}, {']': 'PUNCT'}, {'\"': 'PUNCT'}, {']': 'PUNCT'}, {'[': 'X'}, {'\"': 'PUNCT'}, {'[': 'X'}, {\"'\": 'X'}, {'MEDIAN': 'PROPN'}, {\"'\": 'PUNCT'}, {',': 'PUNCT'}, {'\"': 'PUNCT'}, {',': 'PUNCT'}, {'\"': 'PUNCT'}, {\"'\": 'PUNCT'}, {'Petal': 'ADJ'}, {\"'\": 'PUNCT'}, {',': 'PUNCT'}, {'\"': 'PUNCT'}, {',': 'PUNCT'}, {'\"': 'PUNCT'}, {\"'\": 'PUNCT'}, {'Length': 'X'}, {\"'\": 'PUNCT'}, {']': 'PUNCT'}, {'\"': 'PUNCT'}, {']': 'PUNCT'}, {'[': 'X'}, {'\"': 'PUNCT'}, {'[': 'X'}, {\"'\": 'X'}, {'COUNT': 'PROPN'}, {\"'\": 'PUNCT'}, {']': 'PUNCT'}, {'\"': 'PUNCT'}, {']': 'PUNCT'}, {'[': 'X'}, {'\"': 'PUNCT'}, {'[': 'X'}, {\"'\": 'X'}, {'COUNT': 'PROPN'}, {\"'\": 'NUM'}, {',': 'PUNCT'}, {'\"': 'PUNCT'}, {',': 'PUNCT'}, {'\"': 'PUNCT'}, {\"'\": 'PUNCT'}, {'DISTINCT': 'VERB'}, {\"'\": 'PUNCT'}, {',': 'PUNCT'}, {'\"': 'PUNCT'}, {',': 'PUNCT'}, {'\"': 'PUNCT'}, {\"'\": 'PUNCT'}, {'Species': 'PROPN'}, {\"'\": 'PUNCT'}, {']': 'PUNCT'}, {'\"': 'PUNCT'}, {']': 'PUNCT'}, {'[': 'X'}, {'\"': 'PUNCT'}, {'[': 'X'}, {\"'\": 'X'}, {'MIN': 'PROPN'}, {\"'\": 'PROPN'}, {',': 'PUNCT'}, {'\"': 'PUNCT'}, {',': 'PUNCT'}, {'\"': 'PUNCT'}, {\"'\": 'PUNCT'}, {'Sepal': 'NOUN'}, {\"'\": 'PUNCT'}, {',': 'PUNCT'}, {'\"': 'PUNCT'}, {',': 'PUNCT'}, {'\"': 'PUNCT'}, {\"'\": 'PUNCT'}, {'Length': 'X'}, {\"'\": 'PUNCT'}, {']': 'PUNCT'}, {'\"': 'PUNCT'}, {']': 'PUNCT'}, {'[': 'X'}, {'\"': 'PUNCT'}, {'[': 'X'}, {\"'\": 'X'}, {'MAX': 'PROPN'}, {\"'\": 'PUNCT'}, {',': 'PUNCT'}, {'\"': 'PUNCT'}, {',': 'PUNCT'}, {'\"': 'PUNCT'}, {\"'\": 'PUNCT'}, {'Petal': 'ADJ'}, {\"'\": 'PUNCT'}, {',': 'PUNCT'}, {'\"': 'PUNCT'}, {',': 'PUNCT'}, {'\"': 'PUNCT'}, {\"'\": 'PUNCT'}, {'Width': 'PROPN'}, {\"'\": 'PUNCT'}, {']': 'PUNCT'}, {'\"': 'PUNCT'}, {']': 'PUNCT'}, {'[': 'X'}, {'\"': 'PUNCT'}, {'[': 'X'}, {\"'\": 'X'}, {'GROUP': 'PROPN'}, {\"'\": 'PUNCT'}, {',': 'PUNCT'}, {'\"': 'PUNCT'}, {',': 'PUNCT'}, {'\"': 'PUNCT'}, {\"'\": 'PUNCT'}, {'BY': 'ADP'}, {\"'\": 'NUM'}, {',': 'PUNCT'}, {'\"': 'PUNCT'}, {',': 'PUNCT'}, {'\"': 'PUNCT'}, {\"'\": 'PUNCT'}, {'Species': 'PROPN'}, {\"'\": 'PUNCT'}, {']': 'PUNCT'}, {'\"': 'PUNCT'}, {']': 'PUNCT'}, {'[': 'X'}, {'\"': 'PUNCT'}, {'[': 'X'}, {\"'\": 'X'}, {'ORDER': 'NOUN'}, {\"'\": 'PUNCT'}, {',': 'PUNCT'}, {'\"': 'PUNCT'}, {',': 'PUNCT'}, {'\"': 'PUNCT'}, {\"'\": 'PUNCT'}, {'BY': 'ADP'}, {\"'\": 'NUM'}, {',': 'PUNCT'}, {'\"': 'PUNCT'}, {',': 'PUNCT'}, {'\"': 'PUNCT'}, {\"'\": 'PUNCT'}, {'Sepal': 'NOUN'}, {\"'\": 'PUNCT'}, {',': 'PUNCT'}, {'\"': 'PUNCT'}, {',': 'PUNCT'}, {'\"': 'PUNCT'}, {\"'\": 'PUNCT'}, {'Length': 'PROPN'}, {\"'\": 'PUNCT'}, {',': 'PUNCT'}, {'\"': 'PUNCT'}, {',': 'PUNCT'}, {'\"': 'PUNCT'}, {\"'\": 'PUNCT'}, {'ASC': 'PROPN'}, {\"'\": 'PUNCT'}, {']': 'PUNCT'}, {'\"': 'PUNCT'}, {']': 'PUNCT'}, {'[': 'X'}, {'\"': 'PUNCT'}, {'[': 'X'}, {\"'\": 'X'}, {'ORDER': 'NOUN'}, {\"'\": 'PUNCT'}, {',': 'PUNCT'}, {'\"': 'PUNCT'}, {',': 'PUNCT'}, {'\"': 'PUNCT'}, {\"'\": 'PUNCT'}, {'BY': 'ADP'}, {\"'\": 'NUM'}, {',': 'PUNCT'}, {'\"': 'PUNCT'}, {',': 'PUNCT'}, {'\"': 'PUNCT'}, {\"'\": 'PUNCT'}, {'Species': 'NOUN'}, {\"'\": 'PUNCT'}, {',': 'PUNCT'}, {'\"': 'PUNCT'}, {',': 'PUNCT'}, {'\"': 'PUNCT'}, {\"'\": 'PUNCT'}, {'ASC': 'PROPN'}, {\"'\": 'PUNCT'}, {']': 'PUNCT'}, {'\"': 'PUNCT'}, {']': 'PUNCT'}, {'[': 'X'}, {'\"': 'PUNCT'}, {'[': 'X'}, {\"'\": 'X'}, {'Sepal': 'NOUN'}, {\"'\": 'PUNCT'}, {',': 'PUNCT'}, {'\"': 'PUNCT'}, {',': 'PUNCT'}, {'\"': 'PUNCT'}, {\"'\": 'PUNCT'}, {'Length': 'PROPN'}, {\"'\": 'PUNCT'}, {',': 'PUNCT'}, {'\"': 'PUNCT'}, {',': 'PUNCT'}, {'\"': 'PUNCT'}, {\"'\": 'PROPN'}, {'5': 'NUM'}, {\"'\": 'NUM'}, {',': 'PUNCT'}, {'\"': 'PUNCT'}, {',': 'PUNCT'}, {'\"': 'PUNCT'}, {\"'\": 'PUNCT'}, {'0': 'X'}, {\"'\": 'PUNCT'}, {']': 'PUNCT'}, {'\"': 'PUNCT'}, {']': 'PUNCT'}, {'[': 'X'}, {'\"': 'PUNCT'}, {'[': 'X'}, {\"'\": 'PUNCT'}, {'Petal': 'ADJ'}, {\"'\": 'PUNCT'}, {',': 'PUNCT'}, {'\"': 'PUNCT'}, {',': 'PUNCT'}, {'\"': 'PUNCT'}, {\"'\": 'PUNCT'}, {'Length': 'PROPN'}, {\"'\": 'PUNCT'}, {',': 'PUNCT'}, {'\"': 'PUNCT'}, {',': 'PUNCT'}, {'\"': 'PUNCT'}, {\"'\": 'PUNCT'}, {'BETWEEN': 'ADP'}, {\"'\": 'PUNCT'}, {',': 'PUNCT'}, {'\"': 'PUNCT'}, {',': 'PUNCT'}, {'\"': 'PUNCT'}, {\"'\": 'PROPN'}, {'1': 'X'}, {\"'\": 'NUM'}, {',': 'PUNCT'}, {'\"': 'PUNCT'}, {',': 'PUNCT'}, {'\"': 'PUNCT'}, {\"'\": 'PROPN'}, {'5': 'NUM'}, {\"'\": 'NUM'}, {',': 'PUNCT'}, {'\"': 'PUNCT'}, {',': 'PUNCT'}, {'\"': 'PUNCT'}, {\"'\": 'PUNCT'}, {'AND': 'CCONJ'}, {\"'\": 'NUM'}, {',': 'PUNCT'}, {'\"': 'PUNCT'}, {',': 'PUNCT'}, {'\"': 'PUNCT'}, {\"'\": 'PROPN'}, {'2': 'X'}, {\"'\": 'NUM'}, {',': 'PUNCT'}, {'\"': 'PUNCT'}, {',': 'PUNCT'}, {'\"': 'PUNCT'}, {\"'\": 'PROPN'}, {'5': 'NUM'}, {\"'\": 'NUM'}, {']': 'PUNCT'}, {'\"': 'PUNCT'}, {']': 'PUNCT'}, {'[': 'X'}, {'\"': 'PUNCT'}, {'[': 'X'}, {\"'\": 'PROPN'}, {'TOP': 'NUM'}, {\"'\": 'PUNCT'}, {',': 'PUNCT'}, {'\"': 'PUNCT'}, {',': 'PUNCT'}, {'\"': 'PUNCT'}, {\"'\": 'PROPN'}, {'3': 'NUM'}, {\"'\": 'NUM'}, {',': 'PUNCT'}, {'\"': 'PUNCT'}, {',': 'PUNCT'}, {'\"': 'PUNCT'}, {\"'\": 'PUNCT'}, {'BY': 'ADP'}, {\"'\": 'NUM'}, {',': 'PUNCT'}, {'\"': 'PUNCT'}, {',': 'PUNCT'}, {'\"': 'PUNCT'}, {\"'\": 'PUNCT'}, {'Sepal': 'NOUN'}, {\"'\": 'PUNCT'}, {',': 'PUNCT'}, {'\"': 'PUNCT'}, {',': 'PUNCT'}, {'\"': 'PUNCT'}, {\"'\": 'PUNCT'}, {'Width': 'PROPN'}, {\"'\": 'PUNCT'}, {',': 'PUNCT'}, {'\"': 'PUNCT'}, {',': 'PUNCT'}, {'\"': 'PUNCT'}, {\"'\": 'PUNCT'}, {'DESC': 'VERB'}, {\"'\": 'PUNCT'}, {']': 'PUNCT'}, {'\"': 'PUNCT'}, {']': 'PUNCT'}, {'[': 'X'}, {'\"': 'PUNCT'}, {'[': 'X'}, {\"'\": 'X'}, {'Species': 'NOUN'}, {\"'\": 'PUNCT'}, {',': 'PUNCT'}, {'\"': 'PUNCT'}, {',': 'PUNCT'}, {'\"': 'PUNCT'}, {\"'\": 'PUNCT'}, {'Setosa': 'PROPN'}, {\"'\": 'PUNCT'}, {']': 'PUNCT'}, {'\"': 'PUNCT'}, {']': 'PUNCT'}, {'[': 'X'}, {'\"': 'PUNCT'}, {'[': 'X'}, {\"'\": 'X'}, {'Species': 'NOUN'}, {\"'\": 'PUNCT'}, {',': 'PUNCT'}, {'\"': 'PUNCT'}, {',': 'PUNCT'}, {'\"': 'PUNCT'}, {\"'\": 'PUNCT'}, {'STARTS': 'PROPN'}, {\"'\": 'NUM'}, {',': 'PUNCT'}, {'\"': 'PUNCT'}, {',': 'PUNCT'}, {'\"': 'PUNCT'}, {\"'\": 'PUNCT'}, {'WITH': 'ADP'}, {\"'\": 'NUM'}, {',': 'PUNCT'}, {'\"': 'PUNCT'}, {',': 'PUNCT'}, {'\"': 'PUNCT'}, {\"'\": 'PUNCT'}, {'Se': 'PROPN'}, {\"'\": 'NUM'}, {']': 'PUNCT'}, {'\"': 'PUNCT'}, {']': 'PUNCT'}, {'[': 'X'}, {'\"': 'PUNCT'}, {'[': 'X'}, {\"'\": 'VERB'}, {'SUM': 'NOUN'}, {\"'\": 'PUNCT'}, {',': 'PUNCT'}, {'\"': 'PUNCT'}, {',': 'PUNCT'}, {'\"': 'PUNCT'}, {\"'\": 'PUNCT'}, {'Petal': 'ADJ'}, {\"'\": 'PUNCT'}, {',': 'PUNCT'}, {'\"': 'PUNCT'}, {',': 'PUNCT'}, {'\"': 'PUNCT'}, {\"'\": 'PUNCT'}, {'Length': 'X'}, {\"'\": 'PUNCT'}, {']': 'PUNCT'}, {'\"': 'PUNCT'}, {']': 'PUNCT'}, {'[': 'X'}, {'\"': 'PUNCT'}, {'[': 'X'}, {\"'\": 'X'}, {'AVG': 'PROPN'}, {\"'\": 'NUM'}, {',': 'PUNCT'}, {'\"': 'PUNCT'}, {',': 'PUNCT'}, {'\"': 'PUNCT'}, {\"'\": 'PUNCT'}, {'Petal': 'ADJ'}, {\"'\": 'PUNCT'}, {',': 'PUNCT'}, {'\"': 'PUNCT'}, {',': 'PUNCT'}, {'\"': 'PUNCT'}, {\"'\": 'PUNCT'}, {'Width': 'PROPN'}, {\"'\": 'PUNCT'}, {']': 'PUNCT'}, {'\"': 'PUNCT'}, {']': 'PUNCT'}, {'[': 'X'}, {'\"': 'PUNCT'}, {'[': 'X'}, {\"'\": 'X'}, {'MEDIAN': 'PROPN'}, {\"'\": 'PUNCT'}, {',': 'PUNCT'}, {'\"': 'PUNCT'}, {',': 'PUNCT'}, {'\"': 'PUNCT'}, {\"'\": 'PUNCT'}, {'Sepal': 'NOUN'}, {\"'\": 'PUNCT'}, {',': 'PUNCT'}, {'\"': 'PUNCT'}, {',': 'PUNCT'}, {'\"': 'PUNCT'}, {\"'\": 'PUNCT'}, {'Width': 'PROPN'}, {\"'\": 'PUNCT'}, {']': 'PUNCT'}, {'\"': 'PUNCT'}, {']': 'PUNCT'}, {'[': 'X'}, {'\"': 'PUNCT'}, {'[': 'X'}, {\"'\": 'X'}, {'COUNT': 'PROPN'}, {\"'\": 'NUM'}, {',': 'PUNCT'}, {'\"': 'PUNCT'}, {',': 'PUNCT'}, {'\"': 'PUNCT'}, {\"'\": 'PUNCT'}, {'Sepal': 'NOUN'}, {\"'\": 'PUNCT'}, {',': 'PUNCT'}, {'\"': 'PUNCT'}, {',': 'PUNCT'}, {'\"': 'PUNCT'}, {\"'\": 'PUNCT'}, {'Length': 'X'}, {\"'\": 'PUNCT'}, {']': 'PUNCT'}, {'\"': 'PUNCT'}, {']': 'PUNCT'}, {'[': 'X'}, {'\"': 'PUNCT'}, {'[': 'X'}, {\"'\": 'VERB'}, {'COUNTD': 'PROPN'}, {\"'\": 'PUNCT'}, {',': 'PUNCT'}, {'\"': 'PUNCT'}, {',': 'PUNCT'}, {'\"': 'PUNCT'}, {\"'\": 'PUNCT'}, {'Species': 'PROPN'}, {\"'\": 'PUNCT'}, {']': 'PUNCT'}, {'\"': 'PUNCT'}, {']': 'PUNCT'}, {'[': 'X'}, {'\"': 'PUNCT'}, {'[': 'X'}, {\"'\": 'X'}, {'MIN': 'PROPN'}, {\"'\": 'PROPN'}, {',': 'PUNCT'}, {'\"': 'PUNCT'}, {',': 'PUNCT'}, {'\"': 'PUNCT'}, {\"'\": 'PUNCT'}, {'Sepal': 'NOUN'}, {\"'\": 'PUNCT'}, {',': 'PUNCT'}, {'\"': 'PUNCT'}, {',': 'PUNCT'}, {'\"': 'PUNCT'}, {\"'\": 'PUNCT'}, {'Length': 'X'}, {\"'\": 'PUNCT'}, {']': 'PUNCT'}, {'\"': 'PUNCT'}, {']': 'PUNCT'}, {'[': 'X'}, {'\"': 'PUNCT'}, {'[': 'X'}, {\"'\": 'X'}, {'MAX': 'PROPN'}, {\"'\": 'PUNCT'}, {',': 'PUNCT'}, {'\"': 'PUNCT'}, {',': 'PUNCT'}, {'\"': 'PUNCT'}, {\"'\": 'PUNCT'}, {'Petal': 'ADJ'}, {\"'\": 'PUNCT'}, {',': 'PUNCT'}, {'\"': 'PUNCT'}, {',': 'PUNCT'}, {'\"': 'PUNCT'}, {\"'\": 'PUNCT'}, {'Width': 'PROPN'}, {\"'\": 'PUNCT'}, {']': 'PUNCT'}, {'\"': 'PUNCT'}, {']': 'PUNCT'}, {'[': 'X'}, {'\"': 'PUNCT'}, {'[': 'X'}, {\"'\": 'VERB'}, {'SORT': 'ADV'}, {\"'\": 'NUM'}, {',': 'PUNCT'}, {'\"': 'PUNCT'}, {',': 'PUNCT'}, {'\"': 'PUNCT'}, {\"'\": 'PUNCT'}, {'Species': 'NOUN'}, {\"'\": 'PUNCT'}, {',': 'PUNCT'}, {'\"': 'PUNCT'}, {',': 'PUNCT'}, {'\"': 'PUNCT'}, {\"'\": 'PUNCT'}, {'DESC': 'VERB'}, {\"'\": 'PUNCT'}, {']': 'PUNCT'}, {'\"': 'PUNCT'}, {']': 'PUNCT'}, {'[': 'X'}, {'\"': 'PUNCT'}, {'[': 'X'}, {\"'\": 'VERB'}, {'SORT': 'ADV'}, {\"'\": 'NUM'}, {',': 'PUNCT'}, {'\"': 'PUNCT'}, {',': 'PUNCT'}, {'\"': 'PUNCT'}, {\"'\": 'PUNCT'}, {'Sepal': 'NOUN'}, {\"'\": 'PUNCT'}, {',': 'PUNCT'}, {'\"': 'PUNCT'}, {',': 'PUNCT'}, {'\"': 'PUNCT'}, {\"'\": 'PUNCT'}, {'Length': 'PROPN'}, {\"'\": 'PUNCT'}, {',': 'PUNCT'}, {'\"': 'PUNCT'}, {',': 'PUNCT'}, {'\"': 'PUNCT'}, {\"'\": 'PUNCT'}, {'ASC': 'PROPN'}, {\"'\": 'PUNCT'}, {']': 'PUNCT'}, {'\"': 'PUNCT'}, {']': 'PUNCT'}, {'[': 'X'}, {'\"': 'PUNCT'}, {'[': 'X'}, {\"'\": 'X'}, {'Sepal': 'NOUN'}, {\"'\": 'PUNCT'}, {',': 'PUNCT'}, {'\"': 'PUNCT'}, {',': 'PUNCT'}, {'\"': 'PUNCT'}, {\"'\": 'PUNCT'}, {'Length': 'PROPN'}, {\"'\": 'PUNCT'}, {',': 'PUNCT'}, {'\"': 'PUNCT'}, {',': 'PUNCT'}, {'\"': 'PUNCT'}, {\"'\": 'PROPN'}, {'4': 'NUM'}, {\"'\": 'NUM'}, {',': 'PUNCT'}, {'\"': 'PUNCT'}, {',': 'PUNCT'}, {'\"': 'PUNCT'}, {\"'\": 'PROPN'}, {'5': 'NUM'}, {\"'\": 'NUM'}, {']': 'PUNCT'}, {'\"': 'PUNCT'}, {']': 'PUNCT'}, {'[': 'X'}, {'\"': 'PUNCT'}, {'[': 'X'}, {\"'\": 'PUNCT'}, {'Petal': 'ADJ'}, {\"'\": 'PUNCT'}, {',': 'PUNCT'}, {'\"': 'PUNCT'}, {',': 'PUNCT'}, {'\"': 'PUNCT'}, {\"'\": 'PUNCT'}, {'Width': 'PROPN'}, {\"'\": 'PUNCT'}, {',': 'PUNCT'}, {'\"': 'PUNCT'}, {',': 'PUNCT'}, {'\"': 'PUNCT'}, {\"'\": 'PROPN'}, {'2': 'X'}, {\"'\": 'NUM'}, {',': 'PUNCT'}, {'\"': 'PUNCT'}, {',': 'PUNCT'}, {'\"': 'PUNCT'}, {\"'\": 'PUNCT'}, {'0': 'X'}, {\"'\": 'PUNCT'}, {']': 'PUNCT'}, {'\"': 'PUNCT'}, {']': 'PUNCT'}, {'[': 'X'}, {'\"': 'PUNCT'}, {'[': 'X'}, {\"'\": 'X'}, {'Sepal': 'NOUN'}, {\"'\": 'PUNCT'}, {',': 'PUNCT'}, {'\"': 'PUNCT'}, {',': 'PUNCT'}, {'\"': 'PUNCT'}, {\"'\": 'PUNCT'}, {'Width': 'PROPN'}, {\"'\": 'PUNCT'}, {',': 'PUNCT'}, {'\"': 'PUNCT'}, {',': 'PUNCT'}, {'\"': 'PUNCT'}, {\"'\": 'PROPN'}, {'3': 'NUM'}, {\"'\": 'NUM'}, {',': 'PUNCT'}, {'\"': 'PUNCT'}, {',': 'PUNCT'}, {'\"': 'PUNCT'}, {\"'\": 'PUNCT'}, {'0': 'X'}, {\"'\": 'PUNCT'}, {']': 'PUNCT'}, {'\"': 'PUNCT'}, {']': 'PUNCT'}, {'[': 'X'}, {'\"': 'PUNCT'}, {'[': 'X'}, {\"'\": 'VERB'}, {'ENDSWITH': 'NOUN'}, {\"'\": 'PUNCT'}, {',': 'PUNCT'}, {'\"': 'PUNCT'}, {',': 'PUNCT'}, {'\"': 'PUNCT'}, {\"'\": 'PUNCT'}, {'Species': 'NOUN'}, {\"'\": 'PUNCT'}, {',': 'PUNCT'}, {'\"': 'PUNCT'}, {',': 'PUNCT'}, {'\"': 'PUNCT'}, {\"'\": 'PUNCT'}, {'ica': 'X'}, {\"'\": 'PUNCT'}, {']': 'PUNCT'}, {'\"': 'PUNCT'}, {']': 'PUNCT'}, {'[': 'X'}, {'\"': 'PUNCT'}, {'[': 'X'}, {\"'\": 'X'}, {'Sepal': 'NOUN'}, {\"'\": 'PUNCT'}, {',': 'PUNCT'}, {'\"': 'PUNCT'}, {',': 'PUNCT'}, {'\"': 'PUNCT'}, {\"'\": 'PUNCT'}, {'Length': 'PROPN'}, {\"'\": 'PUNCT'}, {',': 'PUNCT'}, {'\"': 'PUNCT'}, {',': 'PUNCT'}, {'\"': 'PUNCT'}, {\"'\": 'PROPN'}, {'5': 'NUM'}, {\"'\": 'NUM'}, {',': 'PUNCT'}, {'\"': 'PUNCT'}, {',': 'PUNCT'}, {'\"': 'PUNCT'}, {\"'\": 'PUNCT'}, {'0': 'X'}, {\"'\": 'PUNCT'}, {']': 'PUNCT'}, {'\"': 'PUNCT'}, {']': 'PUNCT'}, {'[': 'X'}, {'\"': 'PUNCT'}, {'[': 'X'}, {\"'\": 'X'}, {'INDEX': 'PROPN'}, {\"'\": 'PUNCT'}, {',': 'PUNCT'}, {'\"': 'PUNCT'}, {',': 'PUNCT'}, {'\"': 'PUNCT'}, {\"'\": 'PROPN'}, {'5': 'NUM'}, {\"'\": 'NUM'}, {',': 'PUNCT'}, {'\"': 'PUNCT'}, {',': 'PUNCT'}, {'\"': 'PUNCT'}, {\"'\": 'PUNCT'}, {'SORT': 'ADV'}, {\"'\": 'NUM'}, {',': 'PUNCT'}, {'\"': 'PUNCT'}, {',': 'PUNCT'}, {'\"': 'PUNCT'}, {\"'\": 'PUNCT'}, {'BY': 'ADP'}, {\"'\": 'NUM'}, {',': 'PUNCT'}, {'\"': 'PUNCT'}, {',': 'PUNCT'}, {'\"': 'PUNCT'}, {\"'\": 'PUNCT'}, {'SUM': 'VERB'}, {\"'\": 'PUNCT'}, {',': 'PUNCT'}, {'\"': 'PUNCT'}, {',': 'PUNCT'}, {'\"': 'PUNCT'}, {\"'\": 'PUNCT'}, {'Sepal': 'NOUN'}, {\"'\": 'PUNCT'}, {',': 'PUNCT'}, {'\"': 'PUNCT'}, {',': 'PUNCT'}, {'\"': 'PUNCT'}, {\"'\": 'PUNCT'}, {'Width': 'PROPN'}, {\"'\": 'PUNCT'}, {',': 'PUNCT'}, {'\"': 'PUNCT'}, {',': 'PUNCT'}, {'\"': 'PUNCT'}, {\"'\": 'PUNCT'}, {'DESC': 'VERB'}, {\"'\": 'PUNCT'}, {']': 'PUNCT'}, {'\"': 'PUNCT'}, {']': 'PUNCT'}, {'[': 'X'}, {'\"': 'PUNCT'}, {'[': 'X'}, {\"'\": 'X'}, {'INDEX': 'PROPN'}, {\"'\": 'PUNCT'}, {',': 'PUNCT'}, {'\"': 'PUNCT'}, {',': 'PUNCT'}, {'\"': 'PUNCT'}, {\"'\": 'PROPN'}, {'3': 'NUM'}, {\"'\": 'NUM'}, {',': 'PUNCT'}, {'\"': 'PUNCT'}, {',': 'PUNCT'}, {'\"': 'PUNCT'}, {\"'\": 'PUNCT'}, {'SORT': 'ADV'}, {\"'\": 'NUM'}, {',': 'PUNCT'}, {'\"': 'PUNCT'}, {',': 'PUNCT'}, {'\"': 'PUNCT'}, {\"'\": 'PUNCT'}, {'BY': 'ADP'}, {\"'\": 'NUM'}, {',': 'PUNCT'}, {'\"': 'PUNCT'}, {',': 'PUNCT'}, {'\"': 'PUNCT'}, {\"'\": 'PUNCT'}, {'Petal': 'ADJ'}, {\"'\": 'PUNCT'}, {',': 'PUNCT'}, {'\"': 'PUNCT'}, {',': 'PUNCT'}, {'\"': 'PUNCT'}, {\"'\": 'PUNCT'}, {'Length': 'PROPN'}, {\"'\": 'PUNCT'}, {',': 'PUNCT'}, {'\"': 'PUNCT'}, {',': 'PUNCT'}, {'\"': 'PUNCT'}, {\"'\": 'PUNCT'}, {'ASC': 'PROPN'}, {\"'\": 'PUNCT'}, {']': 'PUNCT'}, {'\"': 'PUNCT'}, {']': 'PUNCT'}, {'[': 'X'}, {'\"': 'PUNCT'}, {'[': 'X'}, {\"'\": 'VERB'}, {'IF': 'SCONJ'}, {\"'\": 'NUM'}, {',': 'PUNCT'}, {'\"': 'PUNCT'}, {',': 'PUNCT'}, {'\"': 'PUNCT'}, {\"'\": 'PUNCT'}, {'Petal': 'ADJ'}, {\"'\": 'PUNCT'}, {',': 'PUNCT'}, {'\"': 'PUNCT'}, {',': 'PUNCT'}, {'\"': 'PUNCT'}, {\"'\": 'PUNCT'}, {'Length': 'PROPN'}, {\"'\": 'PUNCT'}, {',': 'PUNCT'}, {'\"': 'PUNCT'}, {',': 'PUNCT'}, {'\"': 'PUNCT'}, {\"'\": 'PROPN'}, {'4': 'NUM'}, {\"'\": 'NUM'}, {',': 'PUNCT'}, {'\"': 'PUNCT'}, {',': 'PUNCT'}, {'\"': 'PUNCT'}, {\"'\": 'PUNCT'}, {'AND': 'CCONJ'}, {\"'\": 'NUM'}, {',': 'PUNCT'}, {'\"': 'PUNCT'}, {',': 'PUNCT'}, {'\"': 'PUNCT'}, {\"'\": 'PUNCT'}, {'Petal': 'ADJ'}, {\"'\": 'PUNCT'}, {',': 'PUNCT'}, {'\"': 'PUNCT'}, {',': 'PUNCT'}, {'\"': 'PUNCT'}, {\"'\": 'PUNCT'}, {'Length': 'PROPN'}, {\"'\": 'PUNCT'}, {',': 'PUNCT'}, {'\"': 'PUNCT'}, {',': 'PUNCT'}, {'\"': 'PUNCT'}, {\"'\": 'PROPN'}, {'5': 'NUM'}, {\"'\": 'NUM'}, {',': 'PUNCT'}, {'\"': 'PUNCT'}, {',': 'PUNCT'}, {'\"': 'PUNCT'}, {\"'\": 'PUNCT'}, {'THEN': 'ADV'}, {\"'\": 'NUM'}, {',': 'PUNCT'}, {'\"': 'PUNCT'}, {',': 'PUNCT'}, {'\"': 'PUNCT'}, {\"'\": 'PROPN'}, {'1': 'X'}, {\"'\": 'NUM'}, {',': 'PUNCT'}, {'\"': 'PUNCT'}, {',': 'PUNCT'}, {'\"': 'PUNCT'}, {\"'\": 'PUNCT'}, {'ELSE': 'ADV'}, {\"'\": 'NUM'}, {',': 'PUNCT'}, {'\"': 'PUNCT'}, {',': 'PUNCT'}, {'\"': 'PUNCT'}, {\"'\": 'PUNCT'}, {'0': 'X'}, {\"'\": 'PUNCT'}, {',': 'PUNCT'}, {'\"': 'PUNCT'}, {',': 'PUNCT'}, {'\"': 'PUNCT'}, {\"'\": 'PUNCT'}, {'END': 'PROPN'}, {\"'\": 'PUNCT'}, {']': 'PUNCT'}, {'\"': 'PUNCT'}, {']': 'PUNCT'}, {'[': 'X'}, {'\"': 'PUNCT'}, {'[': 'X'}, {\"'\": 'VERB'}, {'DATETRUNC': 'PROPN'}, {\"'\": 'NUM'}, {',': 'PUNCT'}, {'\"': 'PUNCT'}, {',': 'PUNCT'}, {'\"': 'PUNCT'}, {\"'\": 'PUNCT'}, {'month': 'NOUN'}, {\"'\": 'PUNCT'}, {',': 'PUNCT'}, {'\"': 'PUNCT'}, {',': 'PUNCT'}, {'\"': 'PUNCT'}, {\"'\": 'PUNCT'}, {'Date': 'PROPN'}, {\"'\": 'PUNCT'}, {']': 'PUNCT'}, {'\"': 'PUNCT'}, {']': 'PUNCT'}, {'[': 'X'}, {'\"': 'PUNCT'}, {'[': 'X'}, {\"'\": 'X'}, {'YEAR': 'NOUN'}, {\"'\": 'PUNCT'}, {',': 'PUNCT'}, {'\"': 'PUNCT'}, {',': 'PUNCT'}, {'\"': 'PUNCT'}, {\"'\": 'PUNCT'}, {'Date': 'VERB'}, {\"'\": 'PUNCT'}, {',': 'PUNCT'}, {'\"': 'PUNCT'}, {',': 'PUNCT'}, {'\"': 'PUNCT'}, {\"'\": 'PUNCT'}, {'YEAR': 'NOUN'}, {\"'\": 'PUNCT'}, {',': 'PUNCT'}, {'\"': 'PUNCT'}, {',': 'PUNCT'}, {'\"': 'PUNCT'}, {\"'\": 'PUNCT'}, {'TODAY': 'NOUN'}, {\"'\": 'PUNCT'}, {',': 'PUNCT'}, {'\"': 'PUNCT'}, {',': 'PUNCT'}, {'\"': 'PUNCT'}, {\"'\": 'PROPN'}, {'1': 'X'}, {\"'\": 'NUM'}, {']': 'PUNCT'}, {'\"': 'PUNCT'}, {']': 'PUNCT'}, {'[': 'X'}, {'\"': 'PUNCT'}, {'[': 'X'}, {\"'\": 'X'}, {'Date': 'NOUN'}, {\"'\": 'NUM'}, {',': 'PUNCT'}, {'\"': 'PUNCT'}, {',': 'PUNCT'}, {'\"': 'PUNCT'}, {\"'\": 'PUNCT'}, {'DATETRUNC': 'PROPN'}, {\"'\": 'NUM'}, {',': 'PUNCT'}, {'\"': 'PUNCT'}, {',': 'PUNCT'}, {'\"': 'PUNCT'}, {\"'\": 'PUNCT'}, {'year': 'NOUN'}, {\"'\": 'PUNCT'}, {',': 'PUNCT'}, {'\"': 'PUNCT'}, {',': 'PUNCT'}, {'\"': 'PUNCT'}, {\"'\": 'PUNCT'}, {'TODAY': 'NOUN'}, {\"'\": 'PUNCT'}, {']': 'PUNCT'}, {'\"': 'PUNCT'}, {']': 'PUNCT'}, {'[': 'X'}, {'\"': 'PUNCT'}, {'[': 'X'}, {\"'\": 'X'}, {'AVG': 'PROPN'}, {\"'\": 'NUM'}, {',': 'PUNCT'}, {'\"': 'PUNCT'}, {',': 'PUNCT'}, {'\"': 'PUNCT'}, {\"'\": 'PUNCT'}, {'Sepal': 'NOUN'}, {\"'\": 'PUNCT'}, {',': 'PUNCT'}, {'\"': 'PUNCT'}, {',': 'PUNCT'}, {'\"': 'PUNCT'}, {\"'\": 'PUNCT'}, {'Length': 'PROPN'}, {\"'\": 'PUNCT'}, {',': 'PUNCT'}, {'\"': 'PUNCT'}, {',': 'PUNCT'}, {'\"': 'PUNCT'}, {\"'\": 'PUNCT'}, {'GROUP': 'PROPN'}, {\"'\": 'PUNCT'}, {',': 'PUNCT'}, {'\"': 'PUNCT'}, {',': 'PUNCT'}, {'\"': 'PUNCT'}, {\"'\": 'PUNCT'}, {'BY': 'ADP'}, {\"'\": 'NUM'}, {',': 'PUNCT'}, {'\"': 'PUNCT'}, {',': 'PUNCT'}, {'\"': 'PUNCT'}, {\"'\": 'PUNCT'}, {'Species': 'NOUN'}, {\"'\": 'PUNCT'}, {',': 'PUNCT'}, {'\"': 'PUNCT'}, {',': 'PUNCT'}, {'\"': 'PUNCT'}, {\"'\": 'PUNCT'}, {'SORT': 'ADV'}, {\"'\": 'NUM'}, {',': 'PUNCT'}, {'\"': 'PUNCT'}, {',': 'PUNCT'}, {'\"': 'PUNCT'}, {\"'\": 'PUNCT'}, {'BY': 'ADP'}, {\"'\": 'NUM'}, {',': 'PUNCT'}, {'\"': 'PUNCT'}, {',': 'PUNCT'}, {'\"': 'PUNCT'}, {\"'\": 'PUNCT'}, {'Species': 'NOUN'}, {\"'\": 'PUNCT'}, {',': 'PUNCT'}, {'\"': 'PUNCT'}, {',': 'PUNCT'}, {'\"': 'PUNCT'}, {\"'\": 'PUNCT'}, {'ASC': 'PROPN'}, {\"'\": 'PUNCT'}, {']': 'PUNCT'}, {'\"': 'PUNCT'}, {']': 'PUNCT'}, {'[': 'X'}, {'\"': 'PUNCT'}, {'[': 'X'}, {\"'\": 'VERB'}, {'COUNTD': 'PROPN'}, {\"'\": 'PUNCT'}, {',': 'PUNCT'}, {'\"': 'PUNCT'}, {',': 'PUNCT'}, {'\"': 'PUNCT'}, {\"'\": 'PUNCT'}, {'IF': 'SCONJ'}, {\"'\": 'NUM'}, {',': 'PUNCT'}, {'\"': 'PUNCT'}, {',': 'PUNCT'}, {'\"': 'PUNCT'}, {\"'\": 'PUNCT'}, {'LEFT': 'PROPN'}, {\"'\": 'PUNCT'}, {',': 'PUNCT'}, {'\"': 'PUNCT'}, {',': 'PUNCT'}, {'\"': 'PUNCT'}, {\"'\": 'PUNCT'}, {'Species': 'NOUN'}, {\"'\": 'PUNCT'}, {',': 'PUNCT'}, {'\"': 'PUNCT'}, {',': 'PUNCT'}, {'\"': 'PUNCT'}, {\"'\": 'PROPN'}, {'1': 'X'}, {\"'\": 'NUM'}, {',': 'PUNCT'}, {'\"': 'PUNCT'}, {',': 'PUNCT'}, {'\"': 'PUNCT'}, {\"'\": 'PUNCT'}, {'C': 'NOUN'}, {\"'\": 'NUM'}, {',': 'PUNCT'}, {'\"': 'PUNCT'}, {',': 'PUNCT'}, {'\"': 'PUNCT'}, {\"'\": 'PUNCT'}, {'THEN': 'ADV'}, {\"'\": 'NUM'}, {',': 'PUNCT'}, {'\"': 'PUNCT'}, {',': 'PUNCT'}, {'\"': 'PUNCT'}, {\"'\": 'PUNCT'}, {'Species': 'NOUN'}, {\"'\": 'PUNCT'}, {',': 'PUNCT'}, {'\"': 'PUNCT'}, {',': 'PUNCT'}, {'\"': 'PUNCT'}, {\"'\": 'PUNCT'}, {'ELSE': 'ADV'}, {\"'\": 'NUM'}, {',': 'PUNCT'}, {'\"': 'PUNCT'}, {',': 'PUNCT'}, {'\"': 'PUNCT'}, {\"'\": 'PUNCT'}, {'NULL': 'VERB'}, {\"'\": 'PUNCT'}, {',': 'PUNCT'}, {'\"': 'PUNCT'}, {',': 'PUNCT'}, {'\"': 'PUNCT'}, {\"'\": 'PUNCT'}, {'END': 'PROPN'}, {\"'\": 'PUNCT'}, {']': 'PUNCT'}, {'\"': 'PUNCT'}, {']': 'PUNCT'}, {'[': 'X'}, {'\"': 'PUNCT'}, {'[': 'X'}, {\"'\": 'PUNCT'}, {'Petal': 'ADJ'}, {\"'\": 'PUNCT'}, {',': 'PUNCT'}, {'\"': 'PUNCT'}, {',': 'PUNCT'}, {'\"': 'PUNCT'}, {\"'\": 'PUNCT'}, {'Length': 'PROPN'}, {\"'\": 'PUNCT'}, {',': 'PUNCT'}, {'\"': 'PUNCT'}, {',': 'PUNCT'}, {'\"': 'PUNCT'}, {\"'\": 'PROPN'}, {'4': 'NUM'}, {\"'\": 'NUM'}, {',': 'PUNCT'}, {'\"': 'PUNCT'}, {',': 'PUNCT'}, {'\"': 'PUNCT'}, {\"'\": 'PUNCT'}, {'0': 'X'}, {\"'\": 'PUNCT'}, {',': 'PUNCT'}, {'\"': 'PUNCT'}, {',': 'PUNCT'}, {'\"': 'PUNCT'}, {\"'\": 'PUNCT'}, {'AND': 'CCONJ'}, {\"'\": 'NUM'}, {',': 'PUNCT'}, {'\"': 'PUNCT'}, {',': 'PUNCT'}, {'\"': 'PUNCT'}, {\"'\": 'PUNCT'}, {'Sepal': 'NOUN'}, {\"'\": 'PUNCT'}, {',': 'PUNCT'}, {'\"': 'PUNCT'}, {',': 'PUNCT'}, {'\"': 'PUNCT'}, {\"'\": 'PUNCT'}, {'Length': 'PROPN'}, {\"'\": 'PUNCT'}, {',': 'PUNCT'}, {'\"': 'PUNCT'}, {',': 'PUNCT'}, {'\"': 'PUNCT'}, {\"'\": 'PROPN'}, {'4': 'NUM'}, {\"'\": 'NUM'}, {',': 'PUNCT'}, {'\"': 'PUNCT'}, {',': 'PUNCT'}, {'\"': 'PUNCT'}, {\"'\": 'PUNCT'}, {'0': 'X'}, {\"'\": 'PUNCT'}, {']': 'PUNCT'}, {'\"': 'PUNCT'}, {']': 'PUNCT'}, {'[': 'X'}, {'\"': 'PUNCT'}, {'[': 'X'}, {\"'\": 'NOUN'}, {'RANK_PERCENTILE': 'AUX'}, {\"'\": 'PUNCT'}, {',': 'PUNCT'}, {'\"': 'PUNCT'}, {',': 'PUNCT'}, {'\"': 'PUNCT'}, {\"'\": 'PUNCT'}, {'Petal': 'ADJ'}, {\"'\": 'PUNCT'}, {',': 'PUNCT'}, {'\"': 'PUNCT'}, {',': 'PUNCT'}, {'\"': 'PUNCT'}, {\"'\": 'PUNCT'}, {'Width': 'PROPN'}, {\"'\": 'PUNCT'}, {',': 'PUNCT'}, {'\"': 'PUNCT'}, {',': 'PUNCT'}, {'\"': 'PUNCT'}, {\"'\": 'PUNCT'}, {'0': 'X'}, {\"'\": 'PUNCT'}, {',': 'PUNCT'}, {'\"': 'PUNCT'}, {',': 'PUNCT'}, {'\"': 'PUNCT'}, {\"'\": 'PROPN'}, {'1': 'X'}, {\"'\": 'NUM'}, {']': 'PUNCT'}, {'\"': 'PUNCT'}, {']': 'PUNCT'}, {'[': 'X'}, {'\"': 'PUNCT'}, {'[': 'X'}, {\"'\": 'VERB'}, {'SUM': 'NOUN'}, {\"'\": 'PUNCT'}, {',': 'PUNCT'}, {'\"': 'PUNCT'}, {',': 'PUNCT'}, {'\"': 'PUNCT'}, {\"'\": 'PUNCT'}, {'Sepal': 'NOUN'}, {\"'\": 'PUNCT'}, {',': 'PUNCT'}, {'\"': 'PUNCT'}, {',': 'PUNCT'}, {'\"': 'PUNCT'}, {\"'\": 'PUNCT'}, {'Length': 'X'}, {\"'\": 'PUNCT'}, {']': 'PUNCT'}, {'\"': 'PUNCT'}, {']': 'PUNCT'}, {'[': 'X'}, {'\"': 'PUNCT'}, {'[': 'X'}, {\"'\": 'X'}, {'AVG': 'PROPN'}, {\"'\": 'NUM'}, {',': 'PUNCT'}, {'\"': 'PUNCT'}, {',': 'PUNCT'}, {'\"': 'PUNCT'}, {\"'\": 'PUNCT'}, {'Petal': 'ADJ'}, {\"'\": 'PUNCT'}, {',': 'PUNCT'}, {'\"': 'PUNCT'}, {',': 'PUNCT'}, {'\"': 'PUNCT'}, {\"'\": 'PUNCT'}, {'Width': 'PROPN'}, {\"'\": 'PUNCT'}, {']': 'PUNCT'}, {'\"': 'PUNCT'}, {']': 'PUNCT'}, {'[': 'X'}, {'\"': 'PUNCT'}, {'[': 'X'}, {\"'\": 'VERB'}, {'FIXED': 'NOUN'}, {\"'\": 'PUNCT'}, {',': 'PUNCT'}, {'\"': 'PUNCT'}, {',': 'PUNCT'}, {'\"': 'PUNCT'}, {\"'\": 'PUNCT'}, {'Species': 'NOUN'}, {\"'\": 'PUNCT'}, {',': 'PUNCT'}, {'\"': 'PUNCT'}, {',': 'PUNCT'}, {'\"': 'PUNCT'}, {\"'\": 'PUNCT'}, {'setosa': 'VERB'}, {\"'\": 'PUNCT'}, {',': 'PUNCT'}, {'\"': 'PUNCT'}, {',': 'PUNCT'}, {'\"': 'PUNCT'}, {\"'\": 'PUNCT'}, {'MEDIAN': 'PROPN'}, {\"'\": 'PUNCT'}, {',': 'PUNCT'}, {'\"': 'PUNCT'}, {',': 'PUNCT'}, {'\"': 'PUNCT'}, {\"'\": 'PUNCT'}, {'Sepal': 'NOUN'}, {\"'\": 'PUNCT'}, {',': 'PUNCT'}, {'\"': 'PUNCT'}, {',': 'PUNCT'}, {'\"': 'PUNCT'}, {\"'\": 'PUNCT'}, {'Width': 'PROPN'}, {\"'\": 'PUNCT'}, {']': 'PUNCT'}, {'\"': 'PUNCT'}, {']': 'PUNCT'}, {'[': 'X'}, {'\"': 'PUNCT'}, {'[': 'X'}, {\"'\": 'VERB'}, {'SUM': 'NOUN'}, {\"'\": 'PUNCT'}, {',': 'PUNCT'}, {'\"': 'PUNCT'}, {',': 'PUNCT'}, {'\"': 'PUNCT'}, {\"'\": 'PUNCT'}, {'IF': 'SCONJ'}, {\"'\": 'NUM'}, {',': 'PUNCT'}, {'\"': 'PUNCT'}, {',': 'PUNCT'}, {'\"': 'PUNCT'}, {\"'\": 'PUNCT'}, {'Species': 'NOUN'}, {\"'\": 'PUNCT'}, {',': 'PUNCT'}, {'\"': 'PUNCT'}, {',': 'PUNCT'}, {'\"': 'PUNCT'}, {\"'\": 'PUNCT'}, {'versicolor': 'NOUN'}, {\"'\": 'PUNCT'}, {',': 'PUNCT'}, {'\"': 'PUNCT'}, {',': 'PUNCT'}, {'\"': 'PUNCT'}, {\"'\": 'PUNCT'}, {'THEN': 'ADV'}, {\"'\": 'NUM'}, {',': 'PUNCT'}, {'\"': 'PUNCT'}, {',': 'PUNCT'}, {'\"': 'PUNCT'}, {\"'\": 'PROPN'}, {'1': 'X'}, {\"'\": 'NUM'}, {',': 'PUNCT'}, {'\"': 'PUNCT'}, {',': 'PUNCT'}, {'\"': 'PUNCT'}, {\"'\": 'PUNCT'}, {'ELSE': 'ADV'}, {\"'\": 'NUM'}, {',': 'PUNCT'}, {'\"': 'PUNCT'}, {',': 'PUNCT'}, {'\"': 'PUNCT'}, {\"'\": 'PUNCT'}, {'0': 'X'}, {\"'\": 'PUNCT'}, {',': 'PUNCT'}, {'\"': 'PUNCT'}, {',': 'PUNCT'}, {'\"': 'PUNCT'}, {\"'\": 'PUNCT'}, {'END': 'PROPN'}, {\"'\": 'PUNCT'}, {']': 'PUNCT'}, {'\"': 'PUNCT'}, {']': 'PUNCT'}, {'[': 'X'}, {'\"': 'PUNCT'}, {'[': 'X'}, {\"'\": 'VERB'}, {'COUNTD': 'PROPN'}, {\"'\": 'PUNCT'}, {',': 'PUNCT'}, {'\"': 'PUNCT'}, {',': 'PUNCT'}, {'\"': 'PUNCT'}, {\"'\": 'PUNCT'}, {'IF': 'SCONJ'}, {\"'\": 'NUM'}, {',': 'PUNCT'}, {'\"': 'PUNCT'}, {',': 'PUNCT'}, {'\"': 'PUNCT'}, {\"'\": 'PUNCT'}, {'Sepal': 'NOUN'}, {\"'\": 'PUNCT'}, {',': 'PUNCT'}, {'\"': 'PUNCT'}, {',': 'PUNCT'}, {'\"': 'PUNCT'}, {\"'\": 'PUNCT'}, {'Length': 'PROPN'}, {\"'\": 'PUNCT'}, {',': 'PUNCT'}, {'\"': 'PUNCT'}, {',': 'PUNCT'}, {'\"': 'PUNCT'}, {\"'\": 'PROPN'}, {'5': 'NUM'}, {\"'\": 'NUM'}, {',': 'PUNCT'}, {'\"': 'PUNCT'}, {',': 'PUNCT'}, {'\"': 'PUNCT'}, {\"'\": 'PUNCT'}, {'0': 'X'}, {\"'\": 'PUNCT'}, {',': 'PUNCT'}, {'\"': 'PUNCT'}, {',': 'PUNCT'}, {'\"': 'PUNCT'}, {\"'\": 'PUNCT'}, {'THEN': 'ADV'}, {\"'\": 'NUM'}, {',': 'PUNCT'}, {'\"': 'PUNCT'}, {',': 'PUNCT'}, {'\"': 'PUNCT'}, {\"'\": 'PUNCT'}, {'Species': 'NOUN'}, {\"'\": 'PUNCT'}, {',': 'PUNCT'}, {'\"': 'PUNCT'}, {',': 'PUNCT'}, {'\"': 'PUNCT'}, {\"'\": 'PUNCT'}, {'ELSE': 'ADV'}, {\"'\": 'NUM'}, {',': 'PUNCT'}, {'\"': 'PUNCT'}, {',': 'PUNCT'}, {'\"': 'PUNCT'}, {\"'\": 'PUNCT'}, {'NULL': 'VERB'}, {\"'\": 'PUNCT'}, {',': 'PUNCT'}, {'\"': 'PUNCT'}, {',': 'PUNCT'}, {'\"': 'PUNCT'}, {\"'\": 'PUNCT'}, {'END': 'PROPN'}, {\"'\": 'PUNCT'}, {']': 'PUNCT'}, {'\"': 'PUNCT'}, {']': 'PUNCT'}, {'[': 'X'}, {'\"': 'PUNCT'}, {'[': 'X'}, {\"'\": 'VERB'}, {'FIXED': 'NOUN'}, {\"'\": 'PUNCT'}, {',': 'PUNCT'}, {'\"': 'PUNCT'}, {',': 'PUNCT'}, {'\"': 'PUNCT'}, {\"'\": 'PUNCT'}, {'Species': 'NOUN'}, {\"'\": 'PUNCT'}, {',': 'PUNCT'}, {'\"': 'PUNCT'}, {',': 'PUNCT'}, {'\"': 'PUNCT'}, {\"'\": 'PUNCT'}, {'virginica': 'X'}, {\"'\": 'PUNCT'}, {',': 'PUNCT'}, {'\"': 'PUNCT'}, {',': 'PUNCT'}, {'\"': 'PUNCT'}, {\"'\": 'PUNCT'}, {'MIN': 'PROPN'}, {\"'\": 'PROPN'}, {',': 'PUNCT'}, {'\"': 'PUNCT'}, {',': 'PUNCT'}, {'\"': 'PUNCT'}, {\"'\": 'PUNCT'}, {'Petal': 'ADJ'}, {\"'\": 'PUNCT'}, {',': 'PUNCT'}, {'\"': 'PUNCT'}, {',': 'PUNCT'}, {'\"': 'PUNCT'}, {\"'\": 'PUNCT'}, {'Length': 'X'}, {\"'\": 'PUNCT'}, {']': 'PUNCT'}, {'\"': 'PUNCT'}, {']': 'PUNCT'}, {'[': 'X'}, {'\"': 'PUNCT'}, {'[': 'X'}, {\"'\": 'VERB'}, {'FIXED': 'NOUN'}, {\"'\": 'PUNCT'}, {',': 'PUNCT'}, {'\"': 'PUNCT'}, {',': 'PUNCT'}, {'\"': 'PUNCT'}, {\"'\": 'PUNCT'}, {'Species': 'NOUN'}, {\"'\": 'PUNCT'}, {',': 'PUNCT'}, {'\"': 'PUNCT'}, {',': 'PUNCT'}, {'\"': 'PUNCT'}, {\"'\": 'PUNCT'}, {'setosa': 'VERB'}, {\"'\": 'PUNCT'}, {',': 'PUNCT'}, {'\"': 'PUNCT'}, {',': 'PUNCT'}, {'\"': 'PUNCT'}, {\"'\": 'PUNCT'}, {'MAX': 'PROPN'}, {\"'\": 'PUNCT'}, {',': 'PUNCT'}, {'\"': 'PUNCT'}, {',': 'PUNCT'}, {'\"': 'PUNCT'}, {\"'\": 'PUNCT'}, {'Sepal': 'NOUN'}, {\"'\": 'PUNCT'}, {',': 'PUNCT'}, {'\"': 'PUNCT'}, {',': 'PUNCT'}, {'\"': 'PUNCT'}, {\"'\": 'PUNCT'}, {'Width': 'PROPN'}, {\"'\": 'PUNCT'}, {']': 'PUNCT'}, {'\"': 'PUNCT'}, {']': 'PUNCT'}, {'[': 'X'}, {'\"': 'PUNCT'}, {'[': 'X'}, {\"'\": 'PUNCT'}, {'SORTED': 'ADJ'}, {\"'\": 'PUNCT'}, {',': 'PUNCT'}, {'\"': 'PUNCT'}, {',': 'PUNCT'}, {'\"': 'PUNCT'}, {\"'\": 'PUNCT'}, {'BY': 'ADP'}, {\"'\": 'NUM'}, {',': 'PUNCT'}, {'\"': 'PUNCT'}, {',': 'PUNCT'}, {'\"': 'PUNCT'}, {\"'\": 'PUNCT'}, {'Species': 'NOUN'}, {\"'\": 'PUNCT'}, {',': 'PUNCT'}, {'\"': 'PUNCT'}, {',': 'PUNCT'}, {'\"': 'PUNCT'}, {\"'\": 'PUNCT'}, {'alphabetically': 'ADV'}, {\"'\": 'VERB'}, {',': 'PUNCT'}, {'\"': 'PUNCT'}, {',': 'PUNCT'}, {'\"': 'PUNCT'}, {\"'\": 'PUNCT'}, {'COUNT': 'PROPN'}, {\"'\": 'PUNCT'}, {',': 'PUNCT'}, {'\"': 'PUNCT'}, {',': 'PUNCT'}, {'\"': 'PUNCT'}, {\"'\": 'PUNCT'}, {'Species': 'NOUN'}, {\"'\": 'PUNCT'}, {',': 'PUNCT'}, {'\"': 'PUNCT'}, {',': 'PUNCT'}, {'\"': 'PUNCT'}, {\"'\": 'PUNCT'}, {'GROUP': 'PROPN'}, {\"'\": 'PUNCT'}, {',': 'PUNCT'}, {'\"': 'PUNCT'}, {',': 'PUNCT'}, {'\"': 'PUNCT'}, {\"'\": 'PUNCT'}, {'BY': 'ADP'}, {\"'\": 'NUM'}, {',': 'PUNCT'}, {'\"': 'PUNCT'}, {',': 'PUNCT'}, {'\"': 'PUNCT'}, {\"'\": 'PUNCT'}, {'Species': 'NOUN'}, {\"'\": 'PUNCT'}, {',': 'PUNCT'}, {'\"': 'PUNCT'}, {',': 'PUNCT'}, {'\"': 'PUNCT'}, {\"'\": 'PUNCT'}, {'ORDER': 'NOUN'}, {\"'\": 'PUNCT'}, {',': 'PUNCT'}, {'\"': 'PUNCT'}, {',': 'PUNCT'}, {'\"': 'PUNCT'}, {\"'\": 'PUNCT'}, {'BY': 'ADP'}, {\"'\": 'NUM'}, {',': 'PUNCT'}, {'\"': 'PUNCT'}, {',': 'PUNCT'}, {'\"': 'PUNCT'}, {\"'\": 'PUNCT'}, {'Species': 'NOUN'}, {\"'\": 'PUNCT'}, {',': 'PUNCT'}, {'\"': 'PUNCT'}, {',': 'PUNCT'}, {'\"': 'PUNCT'}, {\"'\": 'PUNCT'}, {'ASC': 'PROPN'}, {\"'\": 'PUNCT'}, {']': 'PUNCT'}, {'\"': 'PUNCT'}, {']': 'PUNCT'}, {'[': 'X'}, {'\"': 'PUNCT'}, {'[': 'X'}, {\"'\": 'X'}, {'Species': 'NOUN'}, {\"'\": 'PUNCT'}, {',': 'PUNCT'}, {'\"': 'PUNCT'}, {',': 'PUNCT'}, {'\"': 'PUNCT'}, {\"'\": 'PUNCT'}, {'versicolor': 'NOUN'}, {\"'\": 'PUNCT'}, {',': 'PUNCT'}, {'\"': 'PUNCT'}, {',': 'PUNCT'}, {'\"': 'PUNCT'}, {\"'\": 'PUNCT'}, {'AND': 'CCONJ'}, {\"'\": 'NUM'}, {',': 'PUNCT'}, {'\"': 'PUNCT'}, {',': 'PUNCT'}, {'\"': 'PUNCT'}, {\"'\": 'PUNCT'}, {'Sepal': 'NOUN'}, {\"'\": 'PUNCT'}, {',': 'PUNCT'}, {'\"': 'PUNCT'}, {',': 'PUNCT'}, {'\"': 'PUNCT'}, {\"'\": 'PUNCT'}, {'Width': 'PROPN'}, {\"'\": 'PUNCT'}, {',': 'PUNCT'}, {'\"': 'PUNCT'}, {',': 'PUNCT'}, {'\"': 'PUNCT'}, {\"'\": 'PROPN'}, {'3': 'NUM'}, {\"'\": 'NUM'}, {',': 'PUNCT'}, {'\"': 'PUNCT'}, {',': 'PUNCT'}, {'\"': 'PUNCT'}, {\"'\": 'PUNCT'}, {'0': 'X'}, {\"'\": 'PUNCT'}, {']': 'PUNCT'}, {'\"': 'PUNCT'}, {']': 'PUNCT'}, {'[': 'X'}, {'\"': 'PUNCT'}, {'[': 'X'}, {\"'\": 'PUNCT'}, {'RANK': 'VERB'}, {\"'\": 'PUNCT'}, {',': 'PUNCT'}, {'\"': 'PUNCT'}, {',': 'PUNCT'}, {'\"': 'PUNCT'}, {\"'\": 'PUNCT'}, {'Sepal': 'NOUN'}, {\"'\": 'PUNCT'}, {',': 'PUNCT'}, {'\"': 'PUNCT'}, {',': 'PUNCT'}, {'\"': 'PUNCT'}, {\"'\": 'PUNCT'}, {'Length': 'PROPN'}, {\"'\": 'PUNCT'}, {',': 'PUNCT'}, {'\"': 'PUNCT'}, {',': 'PUNCT'}, {'\"': 'PUNCT'}, {\"'\": 'PROPN'}, {'5': 'NUM'}, {\"'\": 'NUM'}, {',': 'PUNCT'}, {'\"': 'PUNCT'}, {',': 'PUNCT'}, {'\"': 'PUNCT'}, {\"'\": 'PUNCT'}, {'AND': 'CCONJ'}, {\"'\": 'NUM'}, {',': 'PUNCT'}, {'\"': 'PUNCT'}, {',': 'PUNCT'}, {'\"': 'PUNCT'}, {\"'\": 'PUNCT'}, {'Species': 'NOUN'}, {\"'\": 'PUNCT'}, {',': 'PUNCT'}, {'\"': 'PUNCT'}, {',': 'PUNCT'}, {'\"': 'PUNCT'}, {\"'\": 'PUNCT'}, {'virginica': 'X'}, {\"'\": 'PUNCT'}, {']': 'PUNCT'}, {'\"': 'PUNCT'}, {']': 'PUNCT'}, {'[': 'X'}, {'\"': 'PUNCT'}, {'[': 'X'}, {\"'\": 'NOUN'}, {'RANK_PERCENTILE': 'AUX'}, {\"'\": 'PUNCT'}, {',': 'PUNCT'}, {'\"': 'PUNCT'}, {',': 'PUNCT'}, {'\"': 'PUNCT'}, {\"'\": 'PUNCT'}, {'Petal': 'ADJ'}, {\"'\": 'PUNCT'}, {',': 'PUNCT'}, {'\"': 'PUNCT'}, {',': 'PUNCT'}, {'\"': 'PUNCT'}, {\"'\": 'PUNCT'}, {'Width': 'PROPN'}, {\"'\": 'PUNCT'}, {',': 'PUNCT'}, {'\"': 'PUNCT'}, {',': 'PUNCT'}, {'\"': 'PUNCT'}, {\"'\": 'PUNCT'}, {'0': 'X'}, {\"'\": 'PUNCT'}, {',': 'PUNCT'}, {'\"': 'PUNCT'}, {',': 'PUNCT'}, {'\"': 'PUNCT'}, {\"'\": 'PUNCT'}, {'9': 'NUM'}, {\"'\": 'PUNCT'}, {']': 'PUNCT'}, {'\"': 'PUNCT'}, {']': 'PUNCT'}, {'[': 'X'}, {'\"': 'PUNCT'}, {'[': 'X'}, {\"'\": 'PUNCT'}, {'LISTED': 'VERB'}, {\"'\": 'PUNCT'}, {',': 'PUNCT'}, {'\"': 'PUNCT'}, {',': 'PUNCT'}, {'\"': 'PUNCT'}, {\"'\": 'PUNCT'}, {'FROM': 'ADP'}, {\"'\": 'NUM'}, {',': 'PUNCT'}, {'\"': 'PUNCT'}, {',': 'PUNCT'}, {'\"': 'PUNCT'}, {\"'\": 'PUNCT'}, {'highest': 'ADJ'}, {\"'\": 'PUNCT'}, {',': 'PUNCT'}, {'\"': 'PUNCT'}, {',': 'PUNCT'}, {'\"': 'PUNCT'}, {\"'\": 'PUNCT'}, {'to': 'PART'}, {\"'\": 'NUM'}, {',': 'PUNCT'}, {'\"': 'PUNCT'}, {',': 'PUNCT'}, {'\"': 'PUNCT'}, {\"'\": 'PUNCT'}, {'lowest': 'ADJ'}, {\"'\": 'PUNCT'}, {',': 'PUNCT'}, {'\"': 'PUNCT'}, {',': 'PUNCT'}, {'\"': 'PUNCT'}, {\"'\": 'PUNCT'}, {'AVG': 'PROPN'}, {\"'\": 'PUNCT'}, {',': 'PUNCT'}, {'\"': 'PUNCT'}, {',': 'PUNCT'}, {'\"': 'PUNCT'}, {\"'\": 'PUNCT'}, {'Sepal': 'NOUN'}, {\"'\": 'PUNCT'}, {',': 'PUNCT'}, {'\"': 'PUNCT'}, {',': 'PUNCT'}, {'\"': 'PUNCT'}, {\"'\": 'PUNCT'}, {'Length': 'PROPN'}, {\"'\": 'PUNCT'}, {',': 'PUNCT'}, {'\"': 'PUNCT'}, {',': 'PUNCT'}, {'\"': 'PUNCT'}, {\"'\": 'PUNCT'}, {'GROUP': 'PROPN'}, {\"'\": 'PUNCT'}, {',': 'PUNCT'}, {'\"': 'PUNCT'}, {',': 'PUNCT'}, {'\"': 'PUNCT'}, {\"'\": 'PUNCT'}, {'BY': 'ADP'}, {\"'\": 'NUM'}, {',': 'PUNCT'}, {'\"': 'PUNCT'}, {',': 'PUNCT'}, {'\"': 'PUNCT'}, {\"'\": 'PUNCT'}, {'Species': 'NOUN'}, {\"'\": 'PUNCT'}, {',': 'PUNCT'}, {'\"': 'PUNCT'}, {',': 'PUNCT'}, {'\"': 'PUNCT'}, {\"'\": 'PUNCT'}, {'ORDER': 'NOUN'}, {\"'\": 'PUNCT'}, {',': 'PUNCT'}, {'\"': 'PUNCT'}, {',': 'PUNCT'}, {'\"': 'PUNCT'}, {\"'\": 'PUNCT'}, {'BY': 'ADP'}, {\"'\": 'NUM'}, {',': 'PUNCT'}, {'\"': 'PUNCT'}, {',': 'PUNCT'}, {'\"': 'PUNCT'}, {\"'\": 'PUNCT'}, {'AVG': 'PROPN'}, {\"'\": 'PUNCT'}, {',': 'PUNCT'}, {'\"': 'PUNCT'}, {',': 'PUNCT'}, {'\"': 'PUNCT'}, {\"'\": 'PUNCT'}, {'Sepal': 'NOUN'}, {\"'\": 'PUNCT'}, {',': 'PUNCT'}, {'\"': 'PUNCT'}, {',': 'PUNCT'}, {'\"': 'PUNCT'}, {\"'\": 'PUNCT'}, {'Length': 'PROPN'}, {\"'\": 'PUNCT'}, {',': 'PUNCT'}, {'\"': 'PUNCT'}, {',': 'PUNCT'}, {'\"': 'PUNCT'}, {\"'\": 'PUNCT'}, {'DESC': 'VERB'}, {\"'\": 'PUNCT'}, {']': 'PUNCT'}, {'\"': 'PUNCT'}, {']': 'PUNCT'}, {'[': 'X'}, {'\"': 'PUNCT'}, {'[': 'X'}, {\"'\": 'X'}, {'Species': 'NOUN'}, {\"'\": 'PUNCT'}, {',': 'PUNCT'}, {'\"': 'PUNCT'}, {',': 'PUNCT'}, {'\"': 'PUNCT'}, {\"'\": 'PUNCT'}, {'setosa': 'VERB'}, {\"'\": 'PUNCT'}, {',': 'PUNCT'}, {'\"': 'PUNCT'}, {',': 'PUNCT'}, {'\"': 'PUNCT'}, {\"'\": 'PUNCT'}, {'AND': 'CCONJ'}, {\"'\": 'NUM'}, {',': 'PUNCT'}, {'\"': 'PUNCT'}, {',': 'PUNCT'}, {'\"': 'PUNCT'}, {\"'\": 'PUNCT'}, {'Petal': 'ADJ'}, {\"'\": 'PUNCT'}, {',': 'PUNCT'}, {'\"': 'PUNCT'}, {',': 'PUNCT'}, {'\"': 'PUNCT'}, {\"'\": 'PUNCT'}, {'Length': 'PROPN'}, {\"'\": 'PUNCT'}, {',': 'PUNCT'}, {'\"': 'PUNCT'}, {',': 'PUNCT'}, {'\"': 'PUNCT'}, {\"'\": 'PUNCT'}, {'BETWEEN': 'ADP'}, {\"'\": 'PUNCT'}, {',': 'PUNCT'}, {'\"': 'PUNCT'}, {',': 'PUNCT'}, {'\"': 'PUNCT'}, {\"'\": 'PROPN'}, {'4': 'NUM'}, {\"'\": 'NUM'}, {',': 'PUNCT'}, {'\"': 'PUNCT'}, {',': 'PUNCT'}, {'\"': 'PUNCT'}, {\"'\": 'PUNCT'}, {'0': 'X'}, {\"'\": 'PUNCT'}, {',': 'PUNCT'}, {'\"': 'PUNCT'}, {',': 'PUNCT'}, {'\"': 'PUNCT'}, {\"'\": 'PUNCT'}, {'AND': 'CCONJ'}, {\"'\": 'NUM'}, {',': 'PUNCT'}, {'\"': 'PUNCT'}, {',': 'PUNCT'}, {'\"': 'PUNCT'}, {\"'\": 'PROPN'}, {'5': 'NUM'}, {\"'\": 'NUM'}, {',': 'PUNCT'}, {'\"': 'PUNCT'}, {',': 'PUNCT'}, {'\"': 'PUNCT'}, {\"'\": 'PUNCT'}, {'0': 'X'}, {\"'\": 'PUNCT'}, {']': 'PUNCT'}, {'\"': 'PUNCT'}, {']': 'PUNCT'}, {'[': 'X'}, {'\"': 'PUNCT'}, {'[': 'X'}, {\"'\": 'VERB'}, {'SUM': 'NOUN'}, {\"'\": 'PUNCT'}, {',': 'PUNCT'}, {'\"': 'PUNCT'}, {',': 'PUNCT'}, {'\"': 'PUNCT'}, {\"'\": 'PUNCT'}, {'IF': 'SCONJ'}, {\"'\": 'NUM'}, {',': 'PUNCT'}, {'\"': 'PUNCT'}, {',': 'PUNCT'}, {'\"': 'PUNCT'}, {\"'\": 'PUNCT'}, {'CONTAINS': 'VERB'}, {\"'\": 'PUNCT'}, {',': 'PUNCT'}, {'\"': 'PUNCT'}, {',': 'PUNCT'}, {'\"': 'PUNCT'}, {\"'\": 'PUNCT'}, {'Species': 'NOUN'}, {\"'\": 'PUNCT'}, {',': 'PUNCT'}, {'\"': 'PUNCT'}, {',': 'PUNCT'}, {'\"': 'PUNCT'}, {\"'\": 'PUNCT'}, {'color': 'VERB'}, {\"'\": 'PUNCT'}, {',': 'PUNCT'}, {'\"': 'PUNCT'}, {',': 'PUNCT'}, {'\"': 'PUNCT'}, {\"'\": 'PUNCT'}, {'THEN': 'ADV'}, {\"'\": 'NUM'}, {',': 'PUNCT'}, {'\"': 'PUNCT'}, {',': 'PUNCT'}, {'\"': 'PUNCT'}, {\"'\": 'PROPN'}, {'1': 'X'}, {\"'\": 'NUM'}, {',': 'PUNCT'}, {'\"': 'PUNCT'}, {',': 'PUNCT'}, {'\"': 'PUNCT'}, {\"'\": 'PUNCT'}, {'ELSE': 'ADV'}, {\"'\": 'NUM'}, {',': 'PUNCT'}, {'\"': 'PUNCT'}, {',': 'PUNCT'}, {'\"': 'PUNCT'}, {\"'\": 'PUNCT'}, {'0': 'X'}, {\"'\": 'PUNCT'}, {',': 'PUNCT'}, {'\"': 'PUNCT'}, {',': 'PUNCT'}, {'\"': 'PUNCT'}, {\"'\": 'PUNCT'}, {'END': 'PROPN'}, {\"'\": 'PUNCT'}, {']': 'PUNCT'}, {'\"': 'PUNCT'}, {']': 'PUNCT'}, {'[': 'X'}, {'\"': 'PUNCT'}, {'[': 'X'}, {\"'\": 'PUNCT'}, {'STARTSWITH': 'VERB'}, {\"'\": 'PUNCT'}, {',': 'PUNCT'}, {'\"': 'PUNCT'}, {',': 'PUNCT'}, {'\"': 'PUNCT'}, {\"'\": 'PUNCT'}, {'Species': 'NOUN'}, {\"'\": 'PUNCT'}, {',': 'PUNCT'}, {'\"': 'PUNCT'}, {',': 'PUNCT'}, {'\"': 'PUNCT'}, {\"'\": 'PUNCT'}, {'Iri': 'PROPN'}, {\"'\": 'PROPN'}, {',': 'PUNCT'}, {'\"': 'PUNCT'}, {',': 'PUNCT'}, {'\"': 'PUNCT'}, {\"'\": 'PUNCT'}, {'AND': 'CCONJ'}, {\"'\": 'NUM'}, {',': 'PUNCT'}, {'\"': 'PUNCT'}, {',': 'PUNCT'}, {'\"': 'PUNCT'}, {\"'\": 'PUNCT'}, {'ENDSWITH': 'VERB'}, {\"'\": 'PUNCT'}, {',': 'PUNCT'}, {'\"': 'PUNCT'}, {',': 'PUNCT'}, {'\"': 'PUNCT'}, {\"'\": 'PUNCT'}, {'Species': 'NOUN'}, {\"'\": 'PUNCT'}, {',': 'PUNCT'}, {'\"': 'PUNCT'}, {',': 'PUNCT'}, {'\"': 'PUNCT'}, {\"'\": 'PUNCT'}, {'a': 'DET'}, {\"'\": 'PUNCT'}, {']': 'PUNCT'}, {'\"': 'PUNCT'}, {']': 'PUNCT'}]\n",
            "Tokenized Formula (Tableau) : ['NOUN', 'X', 'NUM', 'AUX', 'DET', 'ADP', 'VERB', 'ADV', 'SCONJ', 'PROPN', 'CCONJ', 'PART', 'ADJ', 'PUNCT']\n"
          ]
        }
      ]
    },
    {
      "cell_type": "code",
      "source": [
        "for pat in p_t:\n",
        "   print({pat:p_t[pat]})"
      ],
      "metadata": {
        "id": "93RbAmlOfYAj",
        "colab": {
          "base_uri": "https://localhost:8080/"
        },
        "outputId": "25df6248-1161-49ba-f53b-3760bbf08cbd"
      },
      "execution_count": 91,
      "outputs": [
        {
          "output_type": "stream",
          "name": "stdout",
          "text": [
            "{'NOUN': ['ORDER', 'Date', 'C', 'month', 'TODAY', 'YEAR', 'year', \"'\", 'ENDSWITH', 'FIXED', 'Sepal', 'versicolor', 'SUM', 'Species']}\n",
            "{'X': ['ica', '1', '0', '[', 'Length', 'virginica', \"'\", '2']}\n",
            "{'NUM': ['4', '5', 'TOP', '9', \"'\", '3']}\n",
            "{'AUX': ['RANK_PERCENTILE']}\n",
            "{'DET': ['a']}\n",
            "{'ADP': ['BETWEEN', 'BY', 'FROM', 'WITH']}\n",
            "{'VERB': ['Date', 'DESC', 'setosa', 'DISTINCT', 'STARTSWITH', 'LISTED', 'RANK', \"'\", 'color', 'ENDSWITH', 'NULL', 'SUM', 'CONTAINS']}\n",
            "{'ADV': ['alphabetically', 'ELSE', 'SORT', 'THEN']}\n",
            "{'SCONJ': ['IF']}\n",
            "{'PROPN': ['Date', \"'\", 'Species', 'END', 'Se', 'MAX', 'LEFT', 'MIN', 'INDEX', 'ASC', 'AVG', 'Width', 'Iri', 'COUNT', 'DATETRUNC', 'Length', 'Setosa', 'COUNTD', 'GROUP', 'STARTS', 'MEDIAN']}\n",
            "{'CCONJ': ['AND']}\n",
            "{'PART': ['to']}\n",
            "{'ADJ': ['lowest', 'SORTED', 'Petal', 'highest']}\n",
            "{'PUNCT': [']', '\"', \"'\", ',']}\n"
          ]
        }
      ]
    },
    {
      "cell_type": "markdown",
      "source": [
        "#Tutorial of sPacy"
      ],
      "metadata": {
        "id": "bEmvyYQczVRv"
      }
    },
    {
      "cell_type": "code",
      "source": [
        "text=\"Sum of Sepal Length SUM (Sepal Length)\"\n",
        "doc=nlp(text)\n",
        "for token in doc.ents:\n",
        "   print(token.text, token.label_,token.start_char,token.end_char, token.start, token.ent_id_, token.label, token.vector_norm)\n",
        "#for token in doc:\n",
        "#   print(token.text, token.lemma_, token.pos_, token.tag_, token.dep_,\n",
        "#           token.shape_, token.is_alpha, token.is_stop,token.ent_iob_, token.ent_type_)"
      ],
      "metadata": {
        "id": "kdNbs5H_JgNX",
        "colab": {
          "base_uri": "https://localhost:8080/"
        },
        "outputId": "c6458021-20e9-4ecf-e310-dcb35b1479a0"
      },
      "execution_count": 92,
      "outputs": [
        {
          "output_type": "stream",
          "name": "stdout",
          "text": [
            "Sepal Length PERSON 25 37 6  380 7.3880568\n"
          ]
        }
      ]
    },
    {
      "cell_type": "code",
      "source": [
        "# Create a span for the new entity\n",
        "fb_ent = span.Span(doc, 0, 1, label=\"ORG\")\n",
        "orig_ents = list(doc.ents)"
      ],
      "metadata": {
        "id": "IsZd6FG1c2MK"
      },
      "execution_count": 93,
      "outputs": []
    },
    {
      "cell_type": "code",
      "source": [
        "# Option 2: Assign a complete list of ents to doc.ents\n",
        "doc.ents = orig_ents + [fb_ent]"
      ],
      "metadata": {
        "id": "ZawqANFfc65b"
      },
      "execution_count": 94,
      "outputs": []
    },
    {
      "cell_type": "code",
      "source": [
        "# Add special case rule\n",
        "from spacy.symbols import ORTH\n",
        "special_case = [{ORTH: \"gim\"}, {ORTH: \"me\"}]\n",
        "nlp.tokenizer.add_special_case(\"gimme\", special_case)\n"
      ],
      "metadata": {
        "id": "DdBa8FB7eEak"
      },
      "execution_count": 95,
      "outputs": []
    },
    {
      "cell_type": "markdown",
      "source": [],
      "metadata": {
        "id": "9gDlFJa1MODA"
      }
    },
    {
      "cell_type": "code",
      "source": [
        "# Tokenization and POS tagging result\n",
        "tokens = [(\"Sum\", \"VERB\"), (\"of\", \"ADP\"), (\"Sepal\", \"NOUN\"), (\"Length\", \"NOUN\")]\n",
        "# Example mappings based on POS tagging results\n",
        "operation_mapping = {\"VERB\": {\"Sum\": \"SUM\", \"Average\": \"AVG\", \"Count\": \"COUNT\"}}\n",
        "field_mapping = {\"NOUN\": [\"Sepal Length\", \"Sepal Width\", \"Petal Length\", \"Petal Width\",\"Species\"]}\n"
      ],
      "metadata": {
        "id": "j6MV0tIHMOt_"
      },
      "execution_count": 96,
      "outputs": []
    },
    {
      "cell_type": "markdown",
      "source": [
        "#Template of Training data"
      ],
      "metadata": {
        "id": "PcqUmTL3VV3j"
      }
    },
    {
      "cell_type": "code",
      "source": [
        "TRAIN_DATA = []\n",
        "\n",
        "#for example in your_extracted_data: # see example above entities = []\n",
        "\n",
        "#for entity in example['data']:  # iterate over the entities\n",
        "\n",
        "\n",
        "#    text, label, start, end = entity  # ('want', '@command', 2, 6)\n",
        "\n",
        "#    label = label.split('@')[1].upper()  # not necessary, but nicer\n",
        "\n",
        "#    end = end - 1  # correct the end character index\n",
        "\n",
        "#    entities.append((start, end, label))\n",
        "\n",
        "# add training example of (text, annotations) tuple\n",
        "\n",
        "#TRAIN_DATA.append((example['sentence'], {'entities': entities}))"
      ],
      "metadata": {
        "id": "2hqdsZu_TvWV"
      },
      "execution_count": 97,
      "outputs": []
    },
    {
      "cell_type": "markdown",
      "source": [
        "This should give you training data that looks like this:"
      ],
      "metadata": {
        "id": "rO9OYX_jVJr9"
      }
    },
    {
      "cell_type": "code",
      "source": [
        "\n",
        "\n",
        "[ ('I want apples', {'entities': [(2, 5, 'COMMAND'), (7, 12, 'FRUIT')]}) ]"
      ],
      "metadata": {
        "id": "1YPE7cUHU9Xu",
        "colab": {
          "base_uri": "https://localhost:8080/"
        },
        "outputId": "765efb88-e7a2-4ed8-c325-63d0cd1ecceb"
      },
      "execution_count": 98,
      "outputs": [
        {
          "output_type": "execute_result",
          "data": {
            "text/plain": [
              "[('I want apples', {'entities': [(2, 5, 'COMMAND'), (7, 12, 'FRUIT')]})]"
            ]
          },
          "metadata": {},
          "execution_count": 98
        }
      ]
    },
    {
      "cell_type": "markdown",
      "source": [
        "# DEFINE ENTITY RULER BEFORE NER\n",
        "\n",
        "One potential difficulty in your example is that it's not very close to natural language. The pre-trained English models were trained on ~2m words of general web and news text, so they're not always going to perform perfect out-of-the-box on text with a very different structure.\n",
        "\n",
        "While you could update the model with more examples of QUANTITY in your specific texts, I think that a rule-based approach might actually be a better and more efficient solution here.\n",
        "\n",
        "The example in this blog post is actually very close to what you're trying to do:\n",
        "\n",
        "import spacy\n",
        "\n",
        "from spacy.pipeline import EntityRuler\n",
        "\n",
        "nlp = spacy.load(\"en_core_web_sm\")\n",
        "\n",
        "weights_pattern = [\n",
        "    {\"LIKE_NUM\": True},\n",
        "\n",
        "    {\"LOWER\": {\"IN\": [\"g\", \"kg\", \"grams\", \"kilograms\", \"lb\", \"lbs\", \"pounds\"]}}\n",
        "]\n",
        "patterns = [{\"label\": \"QUANTITY\", \"pattern\": weights_pattern}]\n",
        "\n",
        "ruler = EntityRuler(nlp, patterns=patterns)\n",
        "\n",
        "nlp.add_pipe(ruler, before=\"ner\")\n",
        "\n",
        "doc = nlp(\"U.S. average was 2 lbs.\")\n",
        "\n",
        "print([(ent.text, ent.label_) for ent in doc.ents])\n",
        "\n",
        " [('U.S.', 'GPE'), ('2 lbs', 'QUANTITY')]\n",
        "\n",
        "The statistical named entity recognizer respects pre-defined entities and wil \"predict around\" them. So if you're adding the EntityRuler before it in the pipeline, your custom QUANTITY entities will be assigned first and will be taken into account when the entity recognizer predicts labels for the remaining tokens.\n",
        "\n",
        "Note that this example is using the latest version of spaCy, v2.1.x. You might also want to add more patterns to cover different constructions. For more details and inspiration, check out the documentation on the EntityRuler, combining models and rules and the token match pattern syntax."
      ],
      "metadata": {
        "id": "pmuDiKcziflt"
      }
    },
    {
      "cell_type": "code",
      "source": [
        "import spacy\n",
        "\n",
        "from spacy.pipeline import EntityRuler\n",
        "\n",
        "nlp = spacy.load(\"en_core_web_sm\")\n",
        "\n",
        "weights_pattern = [ {\"LIKE_NUM\": True},\n",
        "{\"LOWER\":{\"IN\":[\"g\",\"kg\",\"grams\",\"kilograms\",\"lb\"\n",
        ",\"lbs\",\"pounds\"]}}]\n",
        "\n",
        "patterns = [{\"label\": \"QUANTITY\", \"pattern\": weights_pattern}]\n",
        "\n",
        "ruler = EntityRuler(nlp, patterns=patterns,overwrite_ents=True)\n",
        "\n",
        "ruler.name=\"entity_ruler\"\n",
        "nlp.add_pipe(\"entity_ruler\", before=\"ner\")\n",
        "\n",
        "doc = nlp(\"U.S. average was 2 lbs .\")\n",
        "\n",
        "print([(ent.text, ent.label_) for ent in doc.ents])"
      ],
      "metadata": {
        "id": "RZ287G19ZQVV",
        "colab": {
          "base_uri": "https://localhost:8080/"
        },
        "outputId": "32b5bb48-7e44-44b6-9299-18c58067c7a3"
      },
      "execution_count": 99,
      "outputs": [
        {
          "output_type": "stream",
          "name": "stdout",
          "text": [
            "[('U.S.', 'GPE'), ('2', 'CARDINAL')]\n"
          ]
        },
        {
          "output_type": "stream",
          "name": "stderr",
          "text": [
            "/usr/local/lib/python3.10/dist-packages/spacy/pipeline/entityruler.py:405: UserWarning: [W036] The component 'entity_ruler' does not have any patterns defined.\n",
            "  warnings.warn(Warnings.W036.format(name=self.name))\n"
          ]
        }
      ]
    },
    {
      "cell_type": "code",
      "source": [
        "import spacy\n",
        "from spacy.pipeline import EntityRuler\n",
        "\n",
        "nlp = spacy.load('en_core_web_sm', disable=['ner'])\n",
        "\n",
        "\n",
        "patterns=[]\n",
        "flower_patterns = [{\"label\": \"FLOWER\", \"pattern\": flower} for flower in [\"rose\", \"tulip\", \"african daisy\"]]\n",
        "patterns.extend(flower_patterns)\n",
        "\n",
        "# Initialize the EntityRuler for animals\n",
        "animal_patterns = [{\"label\": \"ANIMAL\", \"pattern\": animal} for animal in [\"cat\", \"dog\", \"artic fox\"]]\n",
        "patterns.extend(animal_patterns)\n",
        "\n",
        "# Initialize the EntityRuler and add the combined patterns\n",
        "ruler = EntityRuler(nlp, patterns=patterns,overwrite_ents=True)\n",
        "#ruler = EntityRuler(nlp, overwrite_ents=True)\n",
        "#ruler.add_patterns(patterns)\n",
        "\n",
        "# Add the EntityRuler to the pipeline with a unique name\n",
        "ruler.name=\"entity_ruler\"\n",
        "nlp.add_pipe(\"entity_ruler\", before=\"ner\")\n",
        "\n",
        "# Example usage\n",
        "doc = nlp(\"I saw a rose and a cat.\")\n",
        "for ent in doc.ents:\n",
        "    print(ent.text, ent.label_)\n"
      ],
      "metadata": {
        "id": "JcRcizu0-jXv",
        "colab": {
          "base_uri": "https://localhost:8080/"
        },
        "outputId": "d113ce88-6c6d-4680-e073-6e98adfb73b7"
      },
      "execution_count": 100,
      "outputs": [
        {
          "output_type": "stream",
          "name": "stderr",
          "text": [
            "/usr/local/lib/python3.10/dist-packages/spacy/pipeline/entityruler.py:405: UserWarning: [W036] The component 'entity_ruler' does not have any patterns defined.\n",
            "  warnings.warn(Warnings.W036.format(name=self.name))\n"
          ]
        }
      ]
    },
    {
      "cell_type": "code",
      "source": [
        "import spacy\n",
        "from spacy.pipeline import EntityRuler\n",
        "\n",
        "nlp = spacy.load('en_core_web_sm', disable=['ner'])\n",
        "\n",
        "# Initialize the EntityRuler\n",
        "ruler = EntityRuler(nlp, overwrite_ents=True)\n",
        "\n",
        "# Define patterns\n",
        "flower_patterns = [{\"label\": \"FLOWER\", \"pattern\": flower} for flower in [\"rose\", \"tulip\", \"african daisy\"]]\n",
        "animal_patterns = [{\"label\": \"ANIMAL\", \"pattern\": animal} for animal in [\"cat\", \"dog\", \"artic fox\"]]\n",
        "\n",
        "# Add patterns to the ruler\n",
        "ruler.add_patterns(flower_patterns + animal_patterns)\n",
        "\n",
        "ruler.name='entity_ruler'\n",
        "# Add the EntityRuler to the pipeline\n",
        "nlp.add_pipe('entity_ruler')\n",
        "\n",
        "# Test the pipeline\n",
        "doc = nlp(\"I saw a rose and a cat.\")\n",
        "for ent in doc.ents:\n",
        "    print(ent.text, ent.label_)\n"
      ],
      "metadata": {
        "id": "sO6rWJ9-F00O",
        "colab": {
          "base_uri": "https://localhost:8080/"
        },
        "outputId": "8d8ce6a0-7cb5-416d-a823-63af8c779b5b"
      },
      "execution_count": 101,
      "outputs": [
        {
          "output_type": "stream",
          "name": "stderr",
          "text": [
            "/usr/local/lib/python3.10/dist-packages/spacy/pipeline/entityruler.py:405: UserWarning: [W036] The component 'entity_ruler' does not have any patterns defined.\n",
            "  warnings.warn(Warnings.W036.format(name=self.name))\n"
          ]
        }
      ]
    },
    {
      "cell_type": "markdown",
      "source": [
        "# Claude code !!"
      ],
      "metadata": {
        "id": "mNlqmbvZJZxi"
      }
    },
    {
      "cell_type": "code",
      "source": [
        "import spacy\n",
        "from spacy.language import Language\n",
        "from spacy.pipeline import EntityRuler\n",
        "\n",
        "nlp = spacy.load('en_core_web_sm')\n",
        "\n",
        "# Function to create and return an EntityRuler with specified patterns\n",
        "def create_ruler(patterns, label):\n",
        "    ruler = EntityRuler(nlp, overwrite_ents=True)\n",
        "    formatted_patterns = [{\"label\": label, \"pattern\": pattern} for pattern in patterns]\n",
        "    ruler.add_patterns(formatted_patterns)\n",
        "    return ruler\n",
        "\n",
        "# Define your patterns\n",
        "flowers = [\"rose\", \"tulip\", \"african daisy\"]\n",
        "animals = [\"cat\", \"dog\", \"artic fox\"]\n",
        "weights = [\"g\",\"kg\",\"grams\",\"kilograms\",\"lb\",\"lbs\",\"pounds\"]\n",
        "\n",
        "\n",
        "\n",
        "# Create rulers\n",
        "ruler_plants = create_ruler(flowers, \"FLOWER\")\n",
        "ruler_animals = create_ruler(animals, \"ANIMAL\")\n",
        "ruler_weights = create_ruler(weights,\"QUANTITY\")\n",
        "\n",
        "# Create component factories\n",
        "@Language.component(\"ruler_plants\")\n",
        "def ruler_plants_component(doc):\n",
        "    return ruler_plants(doc)\n",
        "\n",
        "@Language.component(\"ruler_animals\")\n",
        "def ruler_animals_component(doc):\n",
        "    return ruler_animals(doc)\n",
        "\n",
        "@Language.component('ruler_weights')\n",
        "def ruler_weights_component(doc):\n",
        "     return ruler_weights(doc)\n",
        "\n",
        "# Add the components to the pipeline\n",
        "nlp.add_pipe(\"ruler_plants\", before=\"ner\")\n",
        "nlp.add_pipe(\"ruler_animals\", before=\"ner\")\n",
        "nlp.add_pipe(\"ruler_weights\", before = \"ner\")\n",
        "\n",
        "# Test\n",
        "doc = nlp(\"I saw a rose and a cat. A dog smells a tulip. U.S. average was 2 lbs \")\n",
        "for ent in doc.ents:\n",
        "    print(ent.text, ent.start_char, ent.end_char, ent.label_)"
      ],
      "metadata": {
        "id": "t90kMlOoIwvc",
        "colab": {
          "base_uri": "https://localhost:8080/"
        },
        "outputId": "c72bac6a-eb73-4f71-ddd9-f7042699d9d3"
      },
      "execution_count": 102,
      "outputs": [
        {
          "output_type": "stream",
          "name": "stdout",
          "text": [
            "rose 8 12 FLOWER\n",
            "cat 19 22 ANIMAL\n",
            "dog 26 29 ANIMAL\n",
            "tulip 39 44 FLOWER\n",
            "U.S. 46 50 GPE\n",
            "2 63 64 CARDINAL\n",
            "lbs 65 68 QUANTITY\n"
          ]
        }
      ]
    },
    {
      "cell_type": "markdown",
      "source": [
        "from spacy.lang.en import English\n",
        "\n",
        "from spacy.matcher import Matcher\n",
        "\n",
        "from spacy.tokens import Span\n",
        "\n",
        "nlp = English()\n",
        "\n",
        "matcher = Matcher(nlp.vocab)\n",
        "\n",
        "def add_event_ent(matcher, doc, i, matches):\n",
        "\n",
        "    # Get the current match and create tuple of entity label, start and end.\n",
        "\n",
        "    # Append entity to the doc's entity. (Don't overwrite doc.ents!)\n",
        "\n",
        "    match_id, start, end = matches[i]\n",
        "\n",
        "    entity = Span(doc, start, end, label=\"EVENT\")\n",
        "\n",
        "    doc.ents += (entity,)\n",
        "\n",
        "    print(entity.text)\n",
        "\n",
        "pattern = [{\"ORTH\": \"Google\"}, {\"ORTH\": \"I\"}, {\"ORTH\": \"/\"}, {\"ORTH\": \"O\"}]\n",
        "\n",
        "matcher.add(\"GoogleIO\", [pattern], on_match=add_event_ent)\n",
        "\n",
        "doc = nlp(\"This is a text about Google I/O\")\n",
        "\n",
        "matches = matcher(doc)\n",
        "\n",
        "# RULE ENTITY DIRECTLY\n"
      ],
      "metadata": {
        "id": "1kOuNTzanMwp"
      }
    },
    {
      "cell_type": "code",
      "source": [],
      "metadata": {
        "id": "CQ2hNSP12MtO"
      },
      "execution_count": 102,
      "outputs": []
    },
    {
      "cell_type": "markdown",
      "source": [
        "# USE OF MACHER\n",
        "\n",
        "nlp = spacy.load(\"en_core_web_sm\")\n",
        "\n",
        "matcher = Matcher(nlp.vocab)\n",
        "\n",
        "Add match ID \"HelloWorld\" with no callback and one pattern\n",
        "\n",
        "pattern = [{\"LOWER\": \"hello\"}, {\"IS_PUNCT\": True}, {\"LOWER\": \"world\"}]\n",
        "\n",
        "matcher.add(\"HelloWorld\", [pattern])\n",
        "\n",
        "doc = nlp(\"Hello, world! Hello world!\")\n",
        "\n",
        "matches = matcher(doc)\n",
        "\n",
        "for match_id, start, end in matches:\n",
        "\n",
        "    string_id = nlp.vocab.strings[match_id]  # Get string representation\n",
        "\n",
        "    span = doc[start:end]  # The matched span\n",
        "\n",
        "    print(match_id, string_id, start, end, span.text)\n"
      ],
      "metadata": {
        "id": "0yVkpvkFnPbF"
      }
    },
    {
      "cell_type": "markdown",
      "source": [
        "# VALIDATE ENTITY RULER\n",
        "ruler = nlp.add_pipe(\"entity_ruler\", config={\"validate\": True})\n"
      ],
      "metadata": {
        "id": "VEZDhPqbtEKW"
      }
    },
    {
      "cell_type": "markdown",
      "source": [
        "# ADD FUNCTION STRATEGY TO ADD A LOT OF NUMBER OF PATTERNS\n",
        "\n",
        "ruler = nlp.add_pipe(\"entity_ruler\")\n",
        "\n",
        "patterns = [{\"label\": \"TEST\", \"pattern\": str(i)} for i in range(100000)]\n",
        "\n",
        "with nlp.select_pipes(enable=\"tagger\"):\n",
        "\n",
        "    ruler.add_patterns(patterns)"
      ],
      "metadata": {
        "id": "B9qNc-O5tKqJ"
      }
    },
    {
      "cell_type": "markdown",
      "source": [
        "# Span Ruler"
      ],
      "metadata": {
        "id": "ny-i916mTYOG"
      }
    },
    {
      "cell_type": "code",
      "source": [
        "import spacy\n",
        "\n",
        "nlp = spacy.blank(\"en\")\n",
        "ruler = nlp.add_pipe(\"span_ruler\")\n",
        "patterns = [{\"label\": \"ORG\", \"pattern\": \"Apple\"},\n",
        "            {\"label\": \"GPE\", \"pattern\": [{\"LOWER\": \"san\"}, {\"LOWER\": \"francisco\"}]}]\n",
        "ruler.add_patterns(patterns)\n",
        "\n",
        "doc = nlp(\"Apple is opening its first big office in San Francisco.\")\n",
        "print([(span.text, span.label_) for span in doc.spans[\"ruler\"]])"
      ],
      "metadata": {
        "id": "du2-mx8aRk0q",
        "colab": {
          "base_uri": "https://localhost:8080/"
        },
        "outputId": "66f214db-584b-4d92-d0dc-ebcaeb026c1b"
      },
      "execution_count": 103,
      "outputs": [
        {
          "output_type": "stream",
          "name": "stdout",
          "text": [
            "[('Apple', 'ORG'), ('San Francisco', 'GPE')]\n"
          ]
        }
      ]
    },
    {
      "cell_type": "markdown",
      "source": [
        "# USAGE OF PRE-TRAINED MODELS"
      ],
      "metadata": {
        "id": "onh695EITI7o"
      }
    },
    {
      "cell_type": "code",
      "source": [
        "import spacy\n",
        "\n",
        "nlp = spacy.load(\"en_core_web_sm\")\n",
        "\n",
        "import en_core_web_sm\n",
        "\n",
        "nlp = en_core_web_sm.load()\n",
        "\n",
        "#doc = nlp(\"This is a sentence.\")\n",
        "doc =nlp(\"Sum of Sepal Length\")\n",
        "\n",
        "print([(w.text, w.pos_) for w in doc])\n",
        "\n",
        "# load without NER\n",
        "\n",
        "nlp = spacy.load(\"en_core_web_sm\", exclude=[\"ner\"])\n",
        "\n",
        "# source NER from the same pipeline package as the last component\n",
        "\n",
        "nlp.add_pipe(\"ner\", source=spacy.load(\"en_core_web_sm\"))\n",
        "\n",
        "# insert the entity ruler\n",
        "\n",
        "nlp.add_pipe(\"entity_ruler\", before=\"ner\")"
      ],
      "metadata": {
        "id": "21-J-IYWRwhF",
        "colab": {
          "base_uri": "https://localhost:8080/"
        },
        "outputId": "44d4100d-d05c-4fd3-fbb6-9551a8e388fa"
      },
      "execution_count": 104,
      "outputs": [
        {
          "output_type": "stream",
          "name": "stdout",
          "text": [
            "[('Sum', 'PROPN'), ('of', 'ADP'), ('Sepal', 'PROPN'), ('Length', 'PROPN')]\n"
          ]
        },
        {
          "output_type": "execute_result",
          "data": {
            "text/plain": [
              "<spacy.pipeline.entityruler.EntityRuler at 0x7b5f4dfbb240>"
            ]
          },
          "metadata": {},
          "execution_count": 104
        }
      ]
    },
    {
      "cell_type": "code",
      "source": [
        "import spacy\n",
        "from spacy.training import offsets_to_biluo_tags\n",
        "\n",
        "# Load the model\n",
        "nlp = spacy.load(\"en_core_web_sm\")\n",
        "\n",
        "# Example text and entities\n",
        "text = \"SUM(Sepal Length)\"\n",
        "#entities = [(0, 4, 'OPER'),(4, 16, 'ARGN')]  # This example might not be accurate; adjust as per your actual data.\n",
        "entities = [(0, 4, 'OPERATION'), (4, 17, 'ARGUMENT')]\n",
        "\n",
        "\n",
        "# Create a Doc object\n",
        "doc = nlp.make_doc(text)\n",
        "\n",
        "# Check alignment\n",
        "biluo_tags = offsets_to_biluo_tags(doc, entities)\n",
        "\n",
        "print(biluo_tags)\n",
        "# Convert the offsets to BILUO tags\n",
        "tags = offsets_to_biluo_tags(doc, entities)\n",
        "\n",
        "# Print the tags to see the alignment\n",
        "print(tags)\n"
      ],
      "metadata": {
        "id": "llZbwruwSpAK",
        "colab": {
          "base_uri": "https://localhost:8080/"
        },
        "outputId": "8cd86153-3ba3-4be0-bab3-95cd89b3e000"
      },
      "execution_count": 105,
      "outputs": [
        {
          "output_type": "stream",
          "name": "stdout",
          "text": [
            "['-', '-', '-']\n",
            "['-', '-', '-']\n"
          ]
        },
        {
          "output_type": "stream",
          "name": "stderr",
          "text": [
            "/usr/local/lib/python3.10/dist-packages/spacy/training/iob_utils.py:149: UserWarning: [W030] Some entities could not be aligned in the text \"SUM(Sepal Length)\" with entities \"[(0, 4, 'OPERATION'), (4, 17, 'ARGUMENT')]\". Use `spacy.training.offsets_to_biluo_tags(nlp.make_doc(text), entities)` to check the alignment. Misaligned entities ('-') will be ignored during training.\n",
            "  warnings.warn(\n"
          ]
        }
      ]
    },
    {
      "cell_type": "code",
      "source": [
        "import spacy\n",
        "\n",
        "nlp = spacy.load(\"en_core_web_sm\")\n",
        "text = \"SUM(Sepal Length)\"\n",
        "res = nlp(text)\n",
        "#You can either build the IOB tags by yourself:\n",
        "\n",
        "IOB_tags = [\n",
        "    \"-\".join(filter(len, (token.ent_iob_, token.ent_type_)))\n",
        "    for token in res\n",
        "]\n",
        "#or you can use built-in functions (biluo_to_iob and offsets_to_biluo_tags):\n",
        "\n",
        "from spacy.training import biluo_to_iob, offsets_to_biluo_tags\n",
        "\n",
        "IOB_tags = biluo_to_iob(\n",
        "    offsets_to_biluo_tags(\n",
        "        res,\n",
        "        [(ent.start_char, ent.end_char, ent.label_) for ent in res.ents],\n",
        "    ),\n",
        ")\n",
        "print(IOB_tags)\n",
        "print([(ent.start_char, ent.end_char, ent.label_) for ent in res.ents])"
      ],
      "metadata": {
        "id": "soD3MX1hRN9a",
        "colab": {
          "base_uri": "https://localhost:8080/"
        },
        "outputId": "c339774a-fcc2-40dd-f0dc-2e91428593f7"
      },
      "execution_count": 106,
      "outputs": [
        {
          "output_type": "stream",
          "name": "stdout",
          "text": [
            "['O', 'O', 'O']\n",
            "[]\n"
          ]
        }
      ]
    },
    {
      "cell_type": "code",
      "source": [
        "# Your text\n",
        "text = \"SUM(Sepal Length)\"\n",
        "\n",
        "# Process the text\n",
        "doc = nlp(text)\n",
        "\n",
        "# Print out tokens and their character positions\n",
        "for token in doc:\n",
        "    print(token.text, token.idx, token.idx + len(token.text) - 1)"
      ],
      "metadata": {
        "id": "wx6Aacs7Hilm",
        "colab": {
          "base_uri": "https://localhost:8080/"
        },
        "outputId": "d86a7f01-11d8-4ca0-e8cb-2c4826719d9b"
      },
      "execution_count": 107,
      "outputs": [
        {
          "output_type": "stream",
          "name": "stdout",
          "text": [
            "SUM(Sepal 0 8\n",
            "Length 10 15\n",
            ") 16 16\n"
          ]
        }
      ]
    }
  ]
}