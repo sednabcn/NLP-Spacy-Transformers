{
  "nbformat": 4,
  "nbformat_minor": 0,
  "metadata": {
    "colab": {
      "provenance": [],
      "gpuType": "T4"
    },
    "kernelspec": {
      "name": "python3",
      "display_name": "Python 3"
    },
    "language_info": {
      "name": "python"
    },
    "accelerator": "GPU"
  },
  "cells": [
    {
      "cell_type": "markdown",
      "source": [
        "TAsk:Make a code generation of data modelling tested against Iris dataset"
      ],
      "metadata": {
        "id": "HO1s0CAwvPHu"
      }
    },
    {
      "cell_type": "markdown",
      "source": [
        "Code generation for data modeling typically involves generating code that defines the structure of a database, tables, and relationships based on a given data model. In this case, I'll provide an example using Python to generate a SQL script for creating a table that could represent the Iris dataset. Keep in mind that this is a simplified example, and in a real-world scenario, you might want to include additional considerations, data types, and constraints."
      ],
      "metadata": {
        "id": "4Xf2JXJ-vgW3"
      }
    },
    {
      "cell_type": "code",
      "execution_count": 1,
      "metadata": {
        "colab": {
          "base_uri": "https://localhost:8080/"
        },
        "id": "eBoXca9MY-7A",
        "outputId": "d98b06cd-da2e-4059-8ce5-cdb2dbbcc586"
      },
      "outputs": [
        {
          "output_type": "stream",
          "name": "stdout",
          "text": [
            "Requirement already satisfied: opencv-python in /usr/local/lib/python3.10/dist-packages (4.8.0.76)\n",
            "Requirement already satisfied: numpy>=1.21.2 in /usr/local/lib/python3.10/dist-packages (from opencv-python) (1.25.2)\n",
            "Requirement already satisfied: pandas in /usr/local/lib/python3.10/dist-packages (1.5.3)\n",
            "Requirement already satisfied: python-dateutil>=2.8.1 in /usr/local/lib/python3.10/dist-packages (from pandas) (2.8.2)\n",
            "Requirement already satisfied: pytz>=2020.1 in /usr/local/lib/python3.10/dist-packages (from pandas) (2023.4)\n",
            "Requirement already satisfied: numpy>=1.21.0 in /usr/local/lib/python3.10/dist-packages (from pandas) (1.25.2)\n",
            "Requirement already satisfied: six>=1.5 in /usr/local/lib/python3.10/dist-packages (from python-dateutil>=2.8.1->pandas) (1.16.0)\n",
            "ERROR: unknown command \"instal\" - maybe you meant \"install\"\n",
            "Requirement already satisfied: spacy in /usr/local/lib/python3.10/dist-packages (3.7.4)\n",
            "Requirement already satisfied: spacy-legacy<3.1.0,>=3.0.11 in /usr/local/lib/python3.10/dist-packages (from spacy) (3.0.12)\n",
            "Requirement already satisfied: spacy-loggers<2.0.0,>=1.0.0 in /usr/local/lib/python3.10/dist-packages (from spacy) (1.0.5)\n",
            "Requirement already satisfied: murmurhash<1.1.0,>=0.28.0 in /usr/local/lib/python3.10/dist-packages (from spacy) (1.0.10)\n",
            "Requirement already satisfied: cymem<2.1.0,>=2.0.2 in /usr/local/lib/python3.10/dist-packages (from spacy) (2.0.8)\n",
            "Requirement already satisfied: preshed<3.1.0,>=3.0.2 in /usr/local/lib/python3.10/dist-packages (from spacy) (3.0.9)\n",
            "Requirement already satisfied: thinc<8.3.0,>=8.2.2 in /usr/local/lib/python3.10/dist-packages (from spacy) (8.2.3)\n",
            "Requirement already satisfied: wasabi<1.2.0,>=0.9.1 in /usr/local/lib/python3.10/dist-packages (from spacy) (1.1.2)\n",
            "Requirement already satisfied: srsly<3.0.0,>=2.4.3 in /usr/local/lib/python3.10/dist-packages (from spacy) (2.4.8)\n",
            "Requirement already satisfied: catalogue<2.1.0,>=2.0.6 in /usr/local/lib/python3.10/dist-packages (from spacy) (2.0.10)\n",
            "Requirement already satisfied: weasel<0.4.0,>=0.1.0 in /usr/local/lib/python3.10/dist-packages (from spacy) (0.3.4)\n",
            "Requirement already satisfied: typer<0.10.0,>=0.3.0 in /usr/local/lib/python3.10/dist-packages (from spacy) (0.9.0)\n",
            "Requirement already satisfied: smart-open<7.0.0,>=5.2.1 in /usr/local/lib/python3.10/dist-packages (from spacy) (6.4.0)\n",
            "Requirement already satisfied: tqdm<5.0.0,>=4.38.0 in /usr/local/lib/python3.10/dist-packages (from spacy) (4.66.2)\n",
            "Requirement already satisfied: requests<3.0.0,>=2.13.0 in /usr/local/lib/python3.10/dist-packages (from spacy) (2.31.0)\n",
            "Requirement already satisfied: pydantic!=1.8,!=1.8.1,<3.0.0,>=1.7.4 in /usr/local/lib/python3.10/dist-packages (from spacy) (2.6.4)\n",
            "Requirement already satisfied: jinja2 in /usr/local/lib/python3.10/dist-packages (from spacy) (3.1.3)\n",
            "Requirement already satisfied: setuptools in /usr/local/lib/python3.10/dist-packages (from spacy) (67.7.2)\n",
            "Requirement already satisfied: packaging>=20.0 in /usr/local/lib/python3.10/dist-packages (from spacy) (24.0)\n",
            "Requirement already satisfied: langcodes<4.0.0,>=3.2.0 in /usr/local/lib/python3.10/dist-packages (from spacy) (3.3.0)\n",
            "Requirement already satisfied: numpy>=1.19.0 in /usr/local/lib/python3.10/dist-packages (from spacy) (1.25.2)\n",
            "Requirement already satisfied: annotated-types>=0.4.0 in /usr/local/lib/python3.10/dist-packages (from pydantic!=1.8,!=1.8.1,<3.0.0,>=1.7.4->spacy) (0.6.0)\n",
            "Requirement already satisfied: pydantic-core==2.16.3 in /usr/local/lib/python3.10/dist-packages (from pydantic!=1.8,!=1.8.1,<3.0.0,>=1.7.4->spacy) (2.16.3)\n",
            "Requirement already satisfied: typing-extensions>=4.6.1 in /usr/local/lib/python3.10/dist-packages (from pydantic!=1.8,!=1.8.1,<3.0.0,>=1.7.4->spacy) (4.10.0)\n",
            "Requirement already satisfied: charset-normalizer<4,>=2 in /usr/local/lib/python3.10/dist-packages (from requests<3.0.0,>=2.13.0->spacy) (3.3.2)\n",
            "Requirement already satisfied: idna<4,>=2.5 in /usr/local/lib/python3.10/dist-packages (from requests<3.0.0,>=2.13.0->spacy) (3.6)\n",
            "Requirement already satisfied: urllib3<3,>=1.21.1 in /usr/local/lib/python3.10/dist-packages (from requests<3.0.0,>=2.13.0->spacy) (2.0.7)\n",
            "Requirement already satisfied: certifi>=2017.4.17 in /usr/local/lib/python3.10/dist-packages (from requests<3.0.0,>=2.13.0->spacy) (2024.2.2)\n",
            "Requirement already satisfied: blis<0.8.0,>=0.7.8 in /usr/local/lib/python3.10/dist-packages (from thinc<8.3.0,>=8.2.2->spacy) (0.7.11)\n",
            "Requirement already satisfied: confection<1.0.0,>=0.0.1 in /usr/local/lib/python3.10/dist-packages (from thinc<8.3.0,>=8.2.2->spacy) (0.1.4)\n",
            "Requirement already satisfied: click<9.0.0,>=7.1.1 in /usr/local/lib/python3.10/dist-packages (from typer<0.10.0,>=0.3.0->spacy) (8.1.7)\n",
            "Requirement already satisfied: cloudpathlib<0.17.0,>=0.7.0 in /usr/local/lib/python3.10/dist-packages (from weasel<0.4.0,>=0.1.0->spacy) (0.16.0)\n",
            "Requirement already satisfied: MarkupSafe>=2.0 in /usr/local/lib/python3.10/dist-packages (from jinja2->spacy) (2.1.5)\n",
            "Collecting en-core-web-sm==3.7.1\n",
            "  Downloading https://github.com/explosion/spacy-models/releases/download/en_core_web_sm-3.7.1/en_core_web_sm-3.7.1-py3-none-any.whl (12.8 MB)\n",
            "\u001b[2K     \u001b[90m━━━━━━━━━━━━━━━━━━━━━━━━━━━━━━━━━━━━━━━━\u001b[0m \u001b[32m12.8/12.8 MB\u001b[0m \u001b[31m60.2 MB/s\u001b[0m eta \u001b[36m0:00:00\u001b[0m\n",
            "\u001b[?25hRequirement already satisfied: spacy<3.8.0,>=3.7.2 in /usr/local/lib/python3.10/dist-packages (from en-core-web-sm==3.7.1) (3.7.4)\n",
            "Requirement already satisfied: spacy-legacy<3.1.0,>=3.0.11 in /usr/local/lib/python3.10/dist-packages (from spacy<3.8.0,>=3.7.2->en-core-web-sm==3.7.1) (3.0.12)\n",
            "Requirement already satisfied: spacy-loggers<2.0.0,>=1.0.0 in /usr/local/lib/python3.10/dist-packages (from spacy<3.8.0,>=3.7.2->en-core-web-sm==3.7.1) (1.0.5)\n",
            "Requirement already satisfied: murmurhash<1.1.0,>=0.28.0 in /usr/local/lib/python3.10/dist-packages (from spacy<3.8.0,>=3.7.2->en-core-web-sm==3.7.1) (1.0.10)\n",
            "Requirement already satisfied: cymem<2.1.0,>=2.0.2 in /usr/local/lib/python3.10/dist-packages (from spacy<3.8.0,>=3.7.2->en-core-web-sm==3.7.1) (2.0.8)\n",
            "Requirement already satisfied: preshed<3.1.0,>=3.0.2 in /usr/local/lib/python3.10/dist-packages (from spacy<3.8.0,>=3.7.2->en-core-web-sm==3.7.1) (3.0.9)\n",
            "Requirement already satisfied: thinc<8.3.0,>=8.2.2 in /usr/local/lib/python3.10/dist-packages (from spacy<3.8.0,>=3.7.2->en-core-web-sm==3.7.1) (8.2.3)\n",
            "Requirement already satisfied: wasabi<1.2.0,>=0.9.1 in /usr/local/lib/python3.10/dist-packages (from spacy<3.8.0,>=3.7.2->en-core-web-sm==3.7.1) (1.1.2)\n",
            "Requirement already satisfied: srsly<3.0.0,>=2.4.3 in /usr/local/lib/python3.10/dist-packages (from spacy<3.8.0,>=3.7.2->en-core-web-sm==3.7.1) (2.4.8)\n",
            "Requirement already satisfied: catalogue<2.1.0,>=2.0.6 in /usr/local/lib/python3.10/dist-packages (from spacy<3.8.0,>=3.7.2->en-core-web-sm==3.7.1) (2.0.10)\n",
            "Requirement already satisfied: weasel<0.4.0,>=0.1.0 in /usr/local/lib/python3.10/dist-packages (from spacy<3.8.0,>=3.7.2->en-core-web-sm==3.7.1) (0.3.4)\n",
            "Requirement already satisfied: typer<0.10.0,>=0.3.0 in /usr/local/lib/python3.10/dist-packages (from spacy<3.8.0,>=3.7.2->en-core-web-sm==3.7.1) (0.9.0)\n",
            "Requirement already satisfied: smart-open<7.0.0,>=5.2.1 in /usr/local/lib/python3.10/dist-packages (from spacy<3.8.0,>=3.7.2->en-core-web-sm==3.7.1) (6.4.0)\n",
            "Requirement already satisfied: tqdm<5.0.0,>=4.38.0 in /usr/local/lib/python3.10/dist-packages (from spacy<3.8.0,>=3.7.2->en-core-web-sm==3.7.1) (4.66.2)\n",
            "Requirement already satisfied: requests<3.0.0,>=2.13.0 in /usr/local/lib/python3.10/dist-packages (from spacy<3.8.0,>=3.7.2->en-core-web-sm==3.7.1) (2.31.0)\n",
            "Requirement already satisfied: pydantic!=1.8,!=1.8.1,<3.0.0,>=1.7.4 in /usr/local/lib/python3.10/dist-packages (from spacy<3.8.0,>=3.7.2->en-core-web-sm==3.7.1) (2.6.4)\n",
            "Requirement already satisfied: jinja2 in /usr/local/lib/python3.10/dist-packages (from spacy<3.8.0,>=3.7.2->en-core-web-sm==3.7.1) (3.1.3)\n",
            "Requirement already satisfied: setuptools in /usr/local/lib/python3.10/dist-packages (from spacy<3.8.0,>=3.7.2->en-core-web-sm==3.7.1) (67.7.2)\n",
            "Requirement already satisfied: packaging>=20.0 in /usr/local/lib/python3.10/dist-packages (from spacy<3.8.0,>=3.7.2->en-core-web-sm==3.7.1) (24.0)\n",
            "Requirement already satisfied: langcodes<4.0.0,>=3.2.0 in /usr/local/lib/python3.10/dist-packages (from spacy<3.8.0,>=3.7.2->en-core-web-sm==3.7.1) (3.3.0)\n",
            "Requirement already satisfied: numpy>=1.19.0 in /usr/local/lib/python3.10/dist-packages (from spacy<3.8.0,>=3.7.2->en-core-web-sm==3.7.1) (1.25.2)\n",
            "Requirement already satisfied: annotated-types>=0.4.0 in /usr/local/lib/python3.10/dist-packages (from pydantic!=1.8,!=1.8.1,<3.0.0,>=1.7.4->spacy<3.8.0,>=3.7.2->en-core-web-sm==3.7.1) (0.6.0)\n",
            "Requirement already satisfied: pydantic-core==2.16.3 in /usr/local/lib/python3.10/dist-packages (from pydantic!=1.8,!=1.8.1,<3.0.0,>=1.7.4->spacy<3.8.0,>=3.7.2->en-core-web-sm==3.7.1) (2.16.3)\n",
            "Requirement already satisfied: typing-extensions>=4.6.1 in /usr/local/lib/python3.10/dist-packages (from pydantic!=1.8,!=1.8.1,<3.0.0,>=1.7.4->spacy<3.8.0,>=3.7.2->en-core-web-sm==3.7.1) (4.10.0)\n",
            "Requirement already satisfied: charset-normalizer<4,>=2 in /usr/local/lib/python3.10/dist-packages (from requests<3.0.0,>=2.13.0->spacy<3.8.0,>=3.7.2->en-core-web-sm==3.7.1) (3.3.2)\n",
            "Requirement already satisfied: idna<4,>=2.5 in /usr/local/lib/python3.10/dist-packages (from requests<3.0.0,>=2.13.0->spacy<3.8.0,>=3.7.2->en-core-web-sm==3.7.1) (3.6)\n",
            "Requirement already satisfied: urllib3<3,>=1.21.1 in /usr/local/lib/python3.10/dist-packages (from requests<3.0.0,>=2.13.0->spacy<3.8.0,>=3.7.2->en-core-web-sm==3.7.1) (2.0.7)\n",
            "Requirement already satisfied: certifi>=2017.4.17 in /usr/local/lib/python3.10/dist-packages (from requests<3.0.0,>=2.13.0->spacy<3.8.0,>=3.7.2->en-core-web-sm==3.7.1) (2024.2.2)\n",
            "Requirement already satisfied: blis<0.8.0,>=0.7.8 in /usr/local/lib/python3.10/dist-packages (from thinc<8.3.0,>=8.2.2->spacy<3.8.0,>=3.7.2->en-core-web-sm==3.7.1) (0.7.11)\n",
            "Requirement already satisfied: confection<1.0.0,>=0.0.1 in /usr/local/lib/python3.10/dist-packages (from thinc<8.3.0,>=8.2.2->spacy<3.8.0,>=3.7.2->en-core-web-sm==3.7.1) (0.1.4)\n",
            "Requirement already satisfied: click<9.0.0,>=7.1.1 in /usr/local/lib/python3.10/dist-packages (from typer<0.10.0,>=0.3.0->spacy<3.8.0,>=3.7.2->en-core-web-sm==3.7.1) (8.1.7)\n",
            "Requirement already satisfied: cloudpathlib<0.17.0,>=0.7.0 in /usr/local/lib/python3.10/dist-packages (from weasel<0.4.0,>=0.1.0->spacy<3.8.0,>=3.7.2->en-core-web-sm==3.7.1) (0.16.0)\n",
            "Requirement already satisfied: MarkupSafe>=2.0 in /usr/local/lib/python3.10/dist-packages (from jinja2->spacy<3.8.0,>=3.7.2->en-core-web-sm==3.7.1) (2.1.5)\n",
            "\u001b[38;5;2m✔ Download and installation successful\u001b[0m\n",
            "You can now load the package via spacy.load('en_core_web_sm')\n",
            "\u001b[38;5;3m⚠ Restart to reload dependencies\u001b[0m\n",
            "If you are in a Jupyter or Colab notebook, you may need to restart Python in\n",
            "order to load all the package's dependencies. You can do this by selecting the\n",
            "'Restart kernel' or 'Restart runtime' option.\n"
          ]
        }
      ],
      "source": [
        "! pip install opencv-python\n",
        "! pip install pandas\n",
        "! pip instal nltk\n",
        "! pip install spacy\n",
        "! python -m spacy download en_core_web_sm"
      ]
    },
    {
      "cell_type": "code",
      "source": [
        "import cv2\n",
        "import pandas as pd\n",
        "import nltk\n",
        "import re\n",
        "from nltk.tokenize import word_tokenize, sent_tokenize,wordpunct_tokenize\n",
        "from google.colab.patches import cv2_imshow\n",
        "nltk.download('punkt')\n",
        "import spacy\n",
        "from spacy import displacy\n",
        "from spacy.matcher import matcher\n",
        "from spacy.tokens import span\n",
        "# Load English tokenizer, tagger, parser and NER\n",
        "nlp = spacy.load(\"en_core_web_sm\")"
      ],
      "metadata": {
        "id": "xxIcPpzvu10m",
        "colab": {
          "base_uri": "https://localhost:8080/"
        },
        "outputId": "0eae4700-59b3-4e5e-e2c7-882f13d48e36"
      },
      "execution_count": 2,
      "outputs": [
        {
          "output_type": "stream",
          "name": "stderr",
          "text": [
            "[nltk_data] Downloading package punkt to /root/nltk_data...\n",
            "[nltk_data]   Unzipping tokenizers/punkt.zip.\n"
          ]
        }
      ]
    },
    {
      "cell_type": "markdown",
      "source": [
        "Identify data source in Tableau"
      ],
      "metadata": {
        "id": "3WprfdIsaFTS"
      }
    },
    {
      "cell_type": "code",
      "source": [
        "from google.colab import files\n",
        "file=\"tableau_data.csv\"\n",
        "if file not in '/content/':\n",
        "      files.upload()"
      ],
      "metadata": {
        "colab": {
          "base_uri": "https://localhost:8080/",
          "height": 108
        },
        "id": "UHH7lGi6y0YR",
        "outputId": "698bbb86-76aa-4bd3-9a91-57fedae3bcab"
      },
      "execution_count": 3,
      "outputs": [
        {
          "output_type": "display_data",
          "data": {
            "text/plain": [
              "<IPython.core.display.HTML object>"
            ],
            "text/html": [
              "\n",
              "     <input type=\"file\" id=\"files-8bc5ac16-051f-4b21-97e1-6cc5b5b6e04c\" name=\"files[]\" multiple disabled\n",
              "        style=\"border:none\" />\n",
              "     <output id=\"result-8bc5ac16-051f-4b21-97e1-6cc5b5b6e04c\">\n",
              "      Upload widget is only available when the cell has been executed in the\n",
              "      current browser session. Please rerun this cell to enable.\n",
              "      </output>\n",
              "      <script>// Copyright 2017 Google LLC\n",
              "//\n",
              "// Licensed under the Apache License, Version 2.0 (the \"License\");\n",
              "// you may not use this file except in compliance with the License.\n",
              "// You may obtain a copy of the License at\n",
              "//\n",
              "//      http://www.apache.org/licenses/LICENSE-2.0\n",
              "//\n",
              "// Unless required by applicable law or agreed to in writing, software\n",
              "// distributed under the License is distributed on an \"AS IS\" BASIS,\n",
              "// WITHOUT WARRANTIES OR CONDITIONS OF ANY KIND, either express or implied.\n",
              "// See the License for the specific language governing permissions and\n",
              "// limitations under the License.\n",
              "\n",
              "/**\n",
              " * @fileoverview Helpers for google.colab Python module.\n",
              " */\n",
              "(function(scope) {\n",
              "function span(text, styleAttributes = {}) {\n",
              "  const element = document.createElement('span');\n",
              "  element.textContent = text;\n",
              "  for (const key of Object.keys(styleAttributes)) {\n",
              "    element.style[key] = styleAttributes[key];\n",
              "  }\n",
              "  return element;\n",
              "}\n",
              "\n",
              "// Max number of bytes which will be uploaded at a time.\n",
              "const MAX_PAYLOAD_SIZE = 100 * 1024;\n",
              "\n",
              "function _uploadFiles(inputId, outputId) {\n",
              "  const steps = uploadFilesStep(inputId, outputId);\n",
              "  const outputElement = document.getElementById(outputId);\n",
              "  // Cache steps on the outputElement to make it available for the next call\n",
              "  // to uploadFilesContinue from Python.\n",
              "  outputElement.steps = steps;\n",
              "\n",
              "  return _uploadFilesContinue(outputId);\n",
              "}\n",
              "\n",
              "// This is roughly an async generator (not supported in the browser yet),\n",
              "// where there are multiple asynchronous steps and the Python side is going\n",
              "// to poll for completion of each step.\n",
              "// This uses a Promise to block the python side on completion of each step,\n",
              "// then passes the result of the previous step as the input to the next step.\n",
              "function _uploadFilesContinue(outputId) {\n",
              "  const outputElement = document.getElementById(outputId);\n",
              "  const steps = outputElement.steps;\n",
              "\n",
              "  const next = steps.next(outputElement.lastPromiseValue);\n",
              "  return Promise.resolve(next.value.promise).then((value) => {\n",
              "    // Cache the last promise value to make it available to the next\n",
              "    // step of the generator.\n",
              "    outputElement.lastPromiseValue = value;\n",
              "    return next.value.response;\n",
              "  });\n",
              "}\n",
              "\n",
              "/**\n",
              " * Generator function which is called between each async step of the upload\n",
              " * process.\n",
              " * @param {string} inputId Element ID of the input file picker element.\n",
              " * @param {string} outputId Element ID of the output display.\n",
              " * @return {!Iterable<!Object>} Iterable of next steps.\n",
              " */\n",
              "function* uploadFilesStep(inputId, outputId) {\n",
              "  const inputElement = document.getElementById(inputId);\n",
              "  inputElement.disabled = false;\n",
              "\n",
              "  const outputElement = document.getElementById(outputId);\n",
              "  outputElement.innerHTML = '';\n",
              "\n",
              "  const pickedPromise = new Promise((resolve) => {\n",
              "    inputElement.addEventListener('change', (e) => {\n",
              "      resolve(e.target.files);\n",
              "    });\n",
              "  });\n",
              "\n",
              "  const cancel = document.createElement('button');\n",
              "  inputElement.parentElement.appendChild(cancel);\n",
              "  cancel.textContent = 'Cancel upload';\n",
              "  const cancelPromise = new Promise((resolve) => {\n",
              "    cancel.onclick = () => {\n",
              "      resolve(null);\n",
              "    };\n",
              "  });\n",
              "\n",
              "  // Wait for the user to pick the files.\n",
              "  const files = yield {\n",
              "    promise: Promise.race([pickedPromise, cancelPromise]),\n",
              "    response: {\n",
              "      action: 'starting',\n",
              "    }\n",
              "  };\n",
              "\n",
              "  cancel.remove();\n",
              "\n",
              "  // Disable the input element since further picks are not allowed.\n",
              "  inputElement.disabled = true;\n",
              "\n",
              "  if (!files) {\n",
              "    return {\n",
              "      response: {\n",
              "        action: 'complete',\n",
              "      }\n",
              "    };\n",
              "  }\n",
              "\n",
              "  for (const file of files) {\n",
              "    const li = document.createElement('li');\n",
              "    li.append(span(file.name, {fontWeight: 'bold'}));\n",
              "    li.append(span(\n",
              "        `(${file.type || 'n/a'}) - ${file.size} bytes, ` +\n",
              "        `last modified: ${\n",
              "            file.lastModifiedDate ? file.lastModifiedDate.toLocaleDateString() :\n",
              "                                    'n/a'} - `));\n",
              "    const percent = span('0% done');\n",
              "    li.appendChild(percent);\n",
              "\n",
              "    outputElement.appendChild(li);\n",
              "\n",
              "    const fileDataPromise = new Promise((resolve) => {\n",
              "      const reader = new FileReader();\n",
              "      reader.onload = (e) => {\n",
              "        resolve(e.target.result);\n",
              "      };\n",
              "      reader.readAsArrayBuffer(file);\n",
              "    });\n",
              "    // Wait for the data to be ready.\n",
              "    let fileData = yield {\n",
              "      promise: fileDataPromise,\n",
              "      response: {\n",
              "        action: 'continue',\n",
              "      }\n",
              "    };\n",
              "\n",
              "    // Use a chunked sending to avoid message size limits. See b/62115660.\n",
              "    let position = 0;\n",
              "    do {\n",
              "      const length = Math.min(fileData.byteLength - position, MAX_PAYLOAD_SIZE);\n",
              "      const chunk = new Uint8Array(fileData, position, length);\n",
              "      position += length;\n",
              "\n",
              "      const base64 = btoa(String.fromCharCode.apply(null, chunk));\n",
              "      yield {\n",
              "        response: {\n",
              "          action: 'append',\n",
              "          file: file.name,\n",
              "          data: base64,\n",
              "        },\n",
              "      };\n",
              "\n",
              "      let percentDone = fileData.byteLength === 0 ?\n",
              "          100 :\n",
              "          Math.round((position / fileData.byteLength) * 100);\n",
              "      percent.textContent = `${percentDone}% done`;\n",
              "\n",
              "    } while (position < fileData.byteLength);\n",
              "  }\n",
              "\n",
              "  // All done.\n",
              "  yield {\n",
              "    response: {\n",
              "      action: 'complete',\n",
              "    }\n",
              "  };\n",
              "}\n",
              "\n",
              "scope.google = scope.google || {};\n",
              "scope.google.colab = scope.google.colab || {};\n",
              "scope.google.colab._files = {\n",
              "  _uploadFiles,\n",
              "  _uploadFilesContinue,\n",
              "};\n",
              "})(self);\n",
              "</script> "
            ]
          },
          "metadata": {}
        },
        {
          "output_type": "stream",
          "name": "stdout",
          "text": [
            "Saving tableau_data.csv to tableau_data.csv\n",
            "Saving formulas.xlsx to formulas.xlsx\n"
          ]
        }
      ]
    },
    {
      "cell_type": "code",
      "source": [
        "#from google.colab import drive\n",
        "#drive.mount('/content/drive')"
      ],
      "metadata": {
        "id": "g4ObYcJzqEZs"
      },
      "execution_count": 4,
      "outputs": []
    },
    {
      "cell_type": "code",
      "source": [
        "#! cd /content/drive/My\\ Drive/Colab_2024\n",
        "#! cp /content/drive/My\\ Drive/Colab_2024/*.png /content/\n",
        "#! ls -all"
      ],
      "metadata": {
        "id": "SLjlCsLMqVHY"
      },
      "execution_count": 5,
      "outputs": []
    },
    {
      "cell_type": "markdown",
      "source": [
        "# TASK: FORMULA CONVERSION"
      ],
      "metadata": {
        "id": "1v6YT5c1KT7P"
      }
    },
    {
      "cell_type": "markdown",
      "source": [
        "TASK 1: Leverage NLP for Tableau formulas identification"
      ],
      "metadata": {
        "id": "CKd45Mp7Kimu"
      }
    },
    {
      "cell_type": "markdown",
      "source": [
        "Leveraging Natural Language Processing (NLP) for Tableau formulas identification involves using language models to interpret and understand natural language descriptions of analytical tasks and then automatically generating corresponding Tableau formulas. While this is a challenging task, it's feasible with the help of advanced NLP models. Below are general steps to approach this task:"
      ],
      "metadata": {
        "id": "yfdMthWrK5bS"
      }
    },
    {
      "cell_type": "markdown",
      "source": [
        "1. Define Use Cases:\n",
        "Clearly define the use cases for which you want to leverage NLP for Tableau formulas identification. For example, you might want to interpret natural language descriptions and generate Tableau formulas for common tasks like aggregations, calculations, or filtering."
      ],
      "metadata": {
        "id": "kNqoonM3LnuZ"
      }
    },
    {
      "cell_type": "code",
      "source": [],
      "metadata": {
        "id": "bJxo5IyVqLKR"
      },
      "execution_count": 5,
      "outputs": []
    },
    {
      "cell_type": "markdown",
      "source": [
        "2. Data Collection:\n",
        "Collect a dataset that includes examples of natural language descriptions paired with their corresponding Tableau formulas. The dataset should cover a variety of scenarios to train a model that can generalize well."
      ],
      "metadata": {
        "id": "l_qNBlF_MJR8"
      }
    },
    {
      "cell_type": "code",
      "source": [
        "\n",
        "df=pd.read_excel(\"formulas.xlsx\")\n",
        "print(df.head(5))\n"
      ],
      "metadata": {
        "colab": {
          "base_uri": "https://localhost:8080/"
        },
        "id": "f2koxJaZhW4y",
        "outputId": "a35dadc7-cc1f-43b2-ab7d-052facecffff"
      },
      "execution_count": 6,
      "outputs": [
        {
          "output_type": "stream",
          "name": "stdout",
          "text": [
            "                                  Description        Formula (Tableau)\n",
            "0                         Sum of Sepal Length        SUM(Sepal Length)\n",
            "1      Average Sepal Width across all entries         AVG(Sepal Width)\n",
            "2                Find the median Petal Length     MEDIAN(Petal Length)\n",
            "3  Count the number of records in the dataset                 COUNT(*)\n",
            "4       Count distinct species in the dataset  COUNT DISTINCT(Species)\n"
          ]
        }
      ]
    },
    {
      "cell_type": "code",
      "source": [
        "df.columns"
      ],
      "metadata": {
        "colab": {
          "base_uri": "https://localhost:8080/"
        },
        "id": "EUv6rYeansXe",
        "outputId": "949e0aad-f3d2-432b-eb48-6f144366372d"
      },
      "execution_count": 7,
      "outputs": [
        {
          "output_type": "execute_result",
          "data": {
            "text/plain": [
              "Index(['Description', 'Formula (Tableau)'], dtype='object')"
            ]
          },
          "metadata": {},
          "execution_count": 7
        }
      ]
    },
    {
      "cell_type": "markdown",
      "source": [
        "3. Preprocess the Data:\n",
        "Clean and preprocess the collected dataset. Tokenize the natural language descriptions and normalize the Tableau formulas to create input-output pairs for training the NLP model."
      ],
      "metadata": {
        "id": "yBaMVVjDMPUX"
      }
    },
    {
      "cell_type": "markdown",
      "source": [
        "# Tokenization of the formulas.xlsx dataset"
      ],
      "metadata": {
        "id": "jWTDJIV8iQ6n"
      }
    },
    {
      "cell_type": "code",
      "source": [
        "dg_tok=df.apply(lambda x:[wordpunct_tokenize(y) for y in x])"
      ],
      "metadata": {
        "id": "wSncaqoVk8jP"
      },
      "execution_count": 8,
      "outputs": []
    },
    {
      "cell_type": "code",
      "source": [
        "dg_tok=dg_tok.rename(columns=lambda x:\"Tokenized \" + x)\n",
        "dg_tok=dg_tok.loc[:,dg_tok.columns[[0,1]]]\n",
        "dg_tok.rename(columns=lambda x:x.strip(), inplace=True)\n",
        "print(dg_tok.head(5))\n"
      ],
      "metadata": {
        "colab": {
          "base_uri": "https://localhost:8080/"
        },
        "id": "9Es5VROgoMPQ",
        "outputId": "fdccb850-1963-4207-8d44-6f7e9faa85e5"
      },
      "execution_count": 9,
      "outputs": [
        {
          "output_type": "stream",
          "name": "stdout",
          "text": [
            "                               Tokenized Description  \\\n",
            "0                           [Sum, of, Sepal, Length]   \n",
            "1      [Average, Sepal, Width, across, all, entries]   \n",
            "2                 [Find, the, median, Petal, Length]   \n",
            "3  [Count, the, number, of, records, in, the, dat...   \n",
            "4       [Count, distinct, species, in, the, dataset]   \n",
            "\n",
            "        Tokenized Formula (Tableau)  \n",
            "0        [SUM, (, Sepal, Length, )]  \n",
            "1         [AVG, (, Sepal, Width, )]  \n",
            "2     [MEDIAN, (, Petal, Length, )]  \n",
            "3                      [COUNT, (*)]  \n",
            "4  [COUNT, DISTINCT, (, Species, )]  \n"
          ]
        }
      ]
    },
    {
      "cell_type": "markdown",
      "source": [
        "#Extracting symbols from Formulas (Tableau)"
      ],
      "metadata": {
        "id": "yLqVEQZjgqOk"
      }
    },
    {
      "cell_type": "code",
      "source": [
        "\n",
        "def gather_sym(data,column_name):\n",
        "    dp=data[column_name]\n",
        "    dp_text=[]\n",
        "    dp_sym=[]\n",
        "    for row in dp:\n",
        "         drow_text=[]\n",
        "         drow_sym =[]\n",
        "         for item in row:\n",
        "              if re.match(r'\\w+',item):\n",
        "                    drow_text.append(item)\n",
        "              else:\n",
        "                    drow_sym.append(item)\n",
        "         dp_text.append(drow_text)\n",
        "         dp_sym.append(drow_sym)\n",
        "    return dp_text,dp_sym\n"
      ],
      "metadata": {
        "id": "3WDk4dr-gOM1"
      },
      "execution_count": 10,
      "outputs": []
    },
    {
      "cell_type": "code",
      "source": [
        "dg_formulas_text,dg_formulas_sym=gather_sym(dg_tok,dg_tok.columns[1])"
      ],
      "metadata": {
        "id": "f7zeIuxKi0p2"
      },
      "execution_count": 11,
      "outputs": []
    },
    {
      "cell_type": "code",
      "source": [
        "print(dg_formulas_text)"
      ],
      "metadata": {
        "colab": {
          "base_uri": "https://localhost:8080/"
        },
        "id": "j1mQ3fjFAB42",
        "outputId": "d5af8167-8a01-46b3-a77a-c8b0c9c76f6a"
      },
      "execution_count": 12,
      "outputs": [
        {
          "output_type": "stream",
          "name": "stdout",
          "text": [
            "[['SUM', 'Sepal', 'Length'], ['AVG', 'Sepal', 'Width'], ['MEDIAN', 'Petal', 'Length'], ['COUNT'], ['COUNT', 'DISTINCT', 'Species'], ['MIN', 'Sepal', 'Length'], ['MAX', 'Petal', 'Width'], ['GROUP', 'BY', 'Species'], ['ORDER', 'BY', 'Sepal', 'Length', 'ASC'], ['ORDER', 'BY', 'Species', 'ASC'], ['Sepal', 'Length', '5', '0'], ['Petal', 'Length', 'BETWEEN', '1', '5', 'AND', '2', '5'], ['TOP', '3', 'BY', 'Sepal', 'Width', 'DESC'], ['Species', 'Setosa'], ['Species', 'STARTS', 'WITH', 'Se'], ['SUM', 'Petal', 'Length'], ['AVG', 'Petal', 'Width'], ['MEDIAN', 'Sepal', 'Width'], ['COUNT', 'Sepal', 'Length'], ['COUNTD', 'Species'], ['MIN', 'Sepal', 'Length'], ['MAX', 'Petal', 'Width'], ['SORT', 'Species', 'DESC'], ['SORT', 'Sepal', 'Length', 'ASC'], ['Sepal', 'Length', '4', '5'], ['Petal', 'Width', '2', '0'], ['Sepal', 'Width', '3', '0'], ['ENDSWITH', 'Species', 'ica'], ['Sepal', 'Length', '5', '0'], ['INDEX', '5', 'SORT', 'BY', 'SUM', 'Sepal', 'Width', 'DESC'], ['INDEX', '3', 'SORT', 'BY', 'Petal', 'Length', 'ASC'], ['IF', 'Petal', 'Length', '4', 'AND', 'Petal', 'Length', '5', 'THEN', '1', 'ELSE', '0', 'END'], ['DATETRUNC', 'month', 'Date'], ['YEAR', 'Date', 'YEAR', 'TODAY', '1'], ['Date', 'DATETRUNC', 'year', 'TODAY'], ['AVG', 'Sepal', 'Length', 'GROUP', 'BY', 'Species', 'SORT', 'BY', 'Species', 'ASC'], ['COUNTD', 'IF', 'LEFT', 'Species', '1', 'C', 'THEN', 'Species', 'ELSE', 'NULL', 'END'], ['Petal', 'Length', '4', '0', 'AND', 'Sepal', 'Length', '4', '0'], ['RANK_PERCENTILE', 'Petal', 'Width', '0', '1'], ['SUM', 'Sepal', 'Length'], ['AVG', 'Petal', 'Width'], ['FIXED', 'Species', 'setosa', 'MEDIAN', 'Sepal', 'Width'], ['SUM', 'IF', 'Species', 'versicolor', 'THEN', '1', 'ELSE', '0', 'END'], ['COUNTD', 'IF', 'Sepal', 'Length', '5', '0', 'THEN', 'Species', 'ELSE', 'NULL', 'END'], ['FIXED', 'Species', 'virginica', 'MIN', 'Petal', 'Length'], ['FIXED', 'Species', 'setosa', 'MAX', 'Sepal', 'Width'], ['sorted', 'by', 'Species', 'alphabetically', 'COUNT', 'Species', 'GROUP', 'BY', 'Species', 'ORDER', 'BY', 'Species', 'ASC'], ['Species', 'versicolor', 'AND', 'Sepal', 'Width', '3', '0'], ['RANK', 'Sepal', 'Length', '5', 'AND', 'Species', 'virginica'], ['RANK_PERCENTILE', 'Petal', 'Width', '0', '9'], ['listed', 'from', 'highest', 'to', 'lowest', 'AVG', 'Sepal', 'Length', 'GROUP', 'BY', 'Species', 'ORDER', 'BY', 'AVG', 'Sepal', 'Length', 'DESC'], ['Species', 'setosa', 'AND', 'Petal', 'Length', 'BETWEEN', '4', '0', 'AND', '5', '0'], ['SUM', 'IF', 'CONTAINS', 'Species', 'color', 'THEN', '1', 'ELSE', '0', 'END'], ['STARTSWITH', 'Species', 'Iri', 'AND', 'ENDSWITH', 'Species', 'a']]\n"
          ]
        }
      ]
    },
    {
      "cell_type": "code",
      "source": [
        "print(dg_formulas_sym)"
      ],
      "metadata": {
        "colab": {
          "base_uri": "https://localhost:8080/"
        },
        "id": "UMB5ZhNXAGzR",
        "outputId": "eb633ae9-4341-454e-caa6-1038fcfd7500"
      },
      "execution_count": 13,
      "outputs": [
        {
          "output_type": "stream",
          "name": "stdout",
          "text": [
            "[['(', ')'], ['(', ')'], ['(', ')'], ['(*)'], ['(', ')'], ['(', ')'], ['(', ')'], ['(', ')'], ['(', ')'], ['(', ')'], ['>=', '.'], ['.', '.'], ['(', ')'], ['=', \"'\", \"'\"], [\"'\", \"'\"], ['([', '])'], ['([', '])'], ['([', '])'], ['([', '])'], ['([', '])'], ['([', '])'], ['([', '])'], ['([', '],', ')'], ['([', '],', ')'], ['[', ']', '>=', '.'], ['[', ']', '<', '.'], ['[', ']', '!=', '.'], ['([', '],', '\"', '\")'], ['[', ']', '=', '.'], ['()', '<=', '([', '])'], ['()', '<=', '[', ']'], ['[', ']', '>=', '[', ']', '<='], [\"('\", \"',\", '[', '])'], ['([', '])', '=', '(', '())', '-'], ['[', ']', '>=', \"('\", \"'\", ',', '())'], ['([', '])', '[', ']', '[', ']'], ['(', '([', ']', ')', '=', \"'\", \"'\", '[', ']', ')'], ['[', ']', '>', '.', '[', ']', '>', '.'], ['([', '])', '<=', '.'], ['([', '])'], ['([', '])'], ['{', '[', ']', '=', '\"', '\"', ':', '([', '])', '}'], ['(', '[', ']', '=', '\"', '\"', ')'], ['(', '[', ']', '>', '.', '[', ']', ')'], ['{', '[', ']', '=', '\"', '\"', ':', '([', '])', '}'], ['{', '[', ']', '=', '\"', '\"', ':', '([', '])', '}'], ['([', '])', '[', ']', '[', ']'], ['[', ']', '=', '\"', '\"', '[', ']', '>=', '.'], ['([', '])', '<=', '[', ']', '=', '\"', '\"'], ['([', '])', '>=', '.'], ['([', '])', '[', ']', '([', '])'], ['[', ']', '=', '\"', '\"', '[', ']', '.', '.'], ['(', '([', ']', '\"', '\")', ')'], ['([', ']', '\"', '\")', '([', '],', '“', '”)']]\n"
          ]
        }
      ]
    },
    {
      "cell_type": "code",
      "source": [
        "dg_tok.drop(dg_tok.columns[1], axis=1)"
      ],
      "metadata": {
        "colab": {
          "base_uri": "https://localhost:8080/",
          "height": 1000
        },
        "id": "L60GHo54PbwS",
        "outputId": "6e38aed6-7148-4cb1-b5bc-d8ef779e696a"
      },
      "execution_count": 14,
      "outputs": [
        {
          "output_type": "execute_result",
          "data": {
            "text/plain": [
              "                                Tokenized Description\n",
              "0                            [Sum, of, Sepal, Length]\n",
              "1       [Average, Sepal, Width, across, all, entries]\n",
              "2                  [Find, the, median, Petal, Length]\n",
              "3   [Count, the, number, of, records, in, the, dat...\n",
              "4        [Count, distinct, species, in, the, dataset]\n",
              "5                 [Minimum, value, of, Sepal, Length]\n",
              "6    [Maximum, Petal, Width, found, in, the, dataset]\n",
              "7                       [Group, records, by, Species]\n",
              "8   [Sort, the, entries, by, Sepal, Length, in, as...\n",
              "9                     [List, Species, alphabetically]\n",
              "10  [Entries, with, Sepal, Length, at, least, 5, ....\n",
              "11  [Entries, with, Petal, Length, between, 1, ., ...\n",
              "12  [Top, 3, entries, with, the, highest, Sepal, W...\n",
              "13                        [Species, is, ', Setosa, ']\n",
              "14                  [Species, starts, with, ', Se, ']\n",
              "15        [Calculate, the, total, of, Petal, Lengths]\n",
              "16          [What, is, the, average, Petal, Width, ?]\n",
              "17  [Determine, the, middle, value, of, Sepal, Wid...\n",
              "18           [How, many, data, points, are, there, ?]\n",
              "19                [Number, of, unique, flower, types]\n",
              "20                  [Lowest, Sepal, Length, recorded]\n",
              "21          [Highest, value, of, Petal, Width, found]\n",
              "22  [Organize, data, by, Species, in, descending, ...\n",
              "23        [Rank, Sepal, Lengths, from, low, to, high]\n",
              "24  [Filter, for, Sepal, Length, greater, than, or...\n",
              "25  [Select, entries, with, Petal, Width, less, th...\n",
              "26  [Show, entries, where, Sepal, Width, is, not, ...\n",
              "27  [List, all, where, the, Species, name, ends, w...\n",
              "28  [Entries, with, a, Sepal, Length, of, exactly,...\n",
              "29  [Display, the, top, 5, Species, by, Sepal, Width]\n",
              "30           [Find, the, 3, smallest, Petal, Lengths]\n",
              "31  [Count, occurrences, where, Petal, Length, is,...\n",
              "32  [Aggregate, data, by, the, month, of, observat...\n",
              "33  [Filter, records, from, last, year, (, assumin...\n",
              "34  [Show, only, the, data, starting, from, Januar...\n",
              "35  [Find, the, average, Sepal, Length, for, each,...\n",
              "36  [Count, how, many, Species, start, with, ', C, ']\n",
              "37  [Entries, with, Petal, Length, and, Sepal, Len...\n",
              "38  [List, Species, with, Petal, Width, in, the, t...\n",
              "39    [Total, Sepal, Length, for, all, Iris, flowers]\n",
              "40      [Average, Petal, Width, across, all, species]\n",
              "41          [Median, Sepal, Width, for, Iris, setosa]\n",
              "42             [Count, of, Iris, versicolor, flowers]\n",
              "43  [Distinct, count, of, species, with, Sepal, Le...\n",
              "44     [Minimum, Petal, Length, for, Iris, virginica]\n",
              "45      [Maximum, Sepal, Width, across, Iris, setosa]\n",
              "46  [Total, number, of, records, grouped, by, Spec...\n",
              "47  [Filter, to, show, only, Iris, versicolor, wit...\n",
              "48  [Show, top, 5, Sepal, Lengths, within, Iris, v...\n",
              "49  [Iris, flowers, with, Petal, Width, in, the, b...\n",
              "50       [Average, Sepal, Length, for, each, species]\n",
              "51  [Entries, with, Petal, Length, between, 4, ., ...\n",
              "52  [Count, Iris, flowers, where, the, Species, na...\n",
              "53  [List, all, Iris, flowers, where, the, Species..."
            ],
            "text/html": [
              "\n",
              "  <div id=\"df-d2265335-4085-4b72-8618-695940db57b2\" class=\"colab-df-container\">\n",
              "    <div>\n",
              "<style scoped>\n",
              "    .dataframe tbody tr th:only-of-type {\n",
              "        vertical-align: middle;\n",
              "    }\n",
              "\n",
              "    .dataframe tbody tr th {\n",
              "        vertical-align: top;\n",
              "    }\n",
              "\n",
              "    .dataframe thead th {\n",
              "        text-align: right;\n",
              "    }\n",
              "</style>\n",
              "<table border=\"1\" class=\"dataframe\">\n",
              "  <thead>\n",
              "    <tr style=\"text-align: right;\">\n",
              "      <th></th>\n",
              "      <th>Tokenized Description</th>\n",
              "    </tr>\n",
              "  </thead>\n",
              "  <tbody>\n",
              "    <tr>\n",
              "      <th>0</th>\n",
              "      <td>[Sum, of, Sepal, Length]</td>\n",
              "    </tr>\n",
              "    <tr>\n",
              "      <th>1</th>\n",
              "      <td>[Average, Sepal, Width, across, all, entries]</td>\n",
              "    </tr>\n",
              "    <tr>\n",
              "      <th>2</th>\n",
              "      <td>[Find, the, median, Petal, Length]</td>\n",
              "    </tr>\n",
              "    <tr>\n",
              "      <th>3</th>\n",
              "      <td>[Count, the, number, of, records, in, the, dat...</td>\n",
              "    </tr>\n",
              "    <tr>\n",
              "      <th>4</th>\n",
              "      <td>[Count, distinct, species, in, the, dataset]</td>\n",
              "    </tr>\n",
              "    <tr>\n",
              "      <th>5</th>\n",
              "      <td>[Minimum, value, of, Sepal, Length]</td>\n",
              "    </tr>\n",
              "    <tr>\n",
              "      <th>6</th>\n",
              "      <td>[Maximum, Petal, Width, found, in, the, dataset]</td>\n",
              "    </tr>\n",
              "    <tr>\n",
              "      <th>7</th>\n",
              "      <td>[Group, records, by, Species]</td>\n",
              "    </tr>\n",
              "    <tr>\n",
              "      <th>8</th>\n",
              "      <td>[Sort, the, entries, by, Sepal, Length, in, as...</td>\n",
              "    </tr>\n",
              "    <tr>\n",
              "      <th>9</th>\n",
              "      <td>[List, Species, alphabetically]</td>\n",
              "    </tr>\n",
              "    <tr>\n",
              "      <th>10</th>\n",
              "      <td>[Entries, with, Sepal, Length, at, least, 5, ....</td>\n",
              "    </tr>\n",
              "    <tr>\n",
              "      <th>11</th>\n",
              "      <td>[Entries, with, Petal, Length, between, 1, ., ...</td>\n",
              "    </tr>\n",
              "    <tr>\n",
              "      <th>12</th>\n",
              "      <td>[Top, 3, entries, with, the, highest, Sepal, W...</td>\n",
              "    </tr>\n",
              "    <tr>\n",
              "      <th>13</th>\n",
              "      <td>[Species, is, ', Setosa, ']</td>\n",
              "    </tr>\n",
              "    <tr>\n",
              "      <th>14</th>\n",
              "      <td>[Species, starts, with, ', Se, ']</td>\n",
              "    </tr>\n",
              "    <tr>\n",
              "      <th>15</th>\n",
              "      <td>[Calculate, the, total, of, Petal, Lengths]</td>\n",
              "    </tr>\n",
              "    <tr>\n",
              "      <th>16</th>\n",
              "      <td>[What, is, the, average, Petal, Width, ?]</td>\n",
              "    </tr>\n",
              "    <tr>\n",
              "      <th>17</th>\n",
              "      <td>[Determine, the, middle, value, of, Sepal, Wid...</td>\n",
              "    </tr>\n",
              "    <tr>\n",
              "      <th>18</th>\n",
              "      <td>[How, many, data, points, are, there, ?]</td>\n",
              "    </tr>\n",
              "    <tr>\n",
              "      <th>19</th>\n",
              "      <td>[Number, of, unique, flower, types]</td>\n",
              "    </tr>\n",
              "    <tr>\n",
              "      <th>20</th>\n",
              "      <td>[Lowest, Sepal, Length, recorded]</td>\n",
              "    </tr>\n",
              "    <tr>\n",
              "      <th>21</th>\n",
              "      <td>[Highest, value, of, Petal, Width, found]</td>\n",
              "    </tr>\n",
              "    <tr>\n",
              "      <th>22</th>\n",
              "      <td>[Organize, data, by, Species, in, descending, ...</td>\n",
              "    </tr>\n",
              "    <tr>\n",
              "      <th>23</th>\n",
              "      <td>[Rank, Sepal, Lengths, from, low, to, high]</td>\n",
              "    </tr>\n",
              "    <tr>\n",
              "      <th>24</th>\n",
              "      <td>[Filter, for, Sepal, Length, greater, than, or...</td>\n",
              "    </tr>\n",
              "    <tr>\n",
              "      <th>25</th>\n",
              "      <td>[Select, entries, with, Petal, Width, less, th...</td>\n",
              "    </tr>\n",
              "    <tr>\n",
              "      <th>26</th>\n",
              "      <td>[Show, entries, where, Sepal, Width, is, not, ...</td>\n",
              "    </tr>\n",
              "    <tr>\n",
              "      <th>27</th>\n",
              "      <td>[List, all, where, the, Species, name, ends, w...</td>\n",
              "    </tr>\n",
              "    <tr>\n",
              "      <th>28</th>\n",
              "      <td>[Entries, with, a, Sepal, Length, of, exactly,...</td>\n",
              "    </tr>\n",
              "    <tr>\n",
              "      <th>29</th>\n",
              "      <td>[Display, the, top, 5, Species, by, Sepal, Width]</td>\n",
              "    </tr>\n",
              "    <tr>\n",
              "      <th>30</th>\n",
              "      <td>[Find, the, 3, smallest, Petal, Lengths]</td>\n",
              "    </tr>\n",
              "    <tr>\n",
              "      <th>31</th>\n",
              "      <td>[Count, occurrences, where, Petal, Length, is,...</td>\n",
              "    </tr>\n",
              "    <tr>\n",
              "      <th>32</th>\n",
              "      <td>[Aggregate, data, by, the, month, of, observat...</td>\n",
              "    </tr>\n",
              "    <tr>\n",
              "      <th>33</th>\n",
              "      <td>[Filter, records, from, last, year, (, assumin...</td>\n",
              "    </tr>\n",
              "    <tr>\n",
              "      <th>34</th>\n",
              "      <td>[Show, only, the, data, starting, from, Januar...</td>\n",
              "    </tr>\n",
              "    <tr>\n",
              "      <th>35</th>\n",
              "      <td>[Find, the, average, Sepal, Length, for, each,...</td>\n",
              "    </tr>\n",
              "    <tr>\n",
              "      <th>36</th>\n",
              "      <td>[Count, how, many, Species, start, with, ', C, ']</td>\n",
              "    </tr>\n",
              "    <tr>\n",
              "      <th>37</th>\n",
              "      <td>[Entries, with, Petal, Length, and, Sepal, Len...</td>\n",
              "    </tr>\n",
              "    <tr>\n",
              "      <th>38</th>\n",
              "      <td>[List, Species, with, Petal, Width, in, the, t...</td>\n",
              "    </tr>\n",
              "    <tr>\n",
              "      <th>39</th>\n",
              "      <td>[Total, Sepal, Length, for, all, Iris, flowers]</td>\n",
              "    </tr>\n",
              "    <tr>\n",
              "      <th>40</th>\n",
              "      <td>[Average, Petal, Width, across, all, species]</td>\n",
              "    </tr>\n",
              "    <tr>\n",
              "      <th>41</th>\n",
              "      <td>[Median, Sepal, Width, for, Iris, setosa]</td>\n",
              "    </tr>\n",
              "    <tr>\n",
              "      <th>42</th>\n",
              "      <td>[Count, of, Iris, versicolor, flowers]</td>\n",
              "    </tr>\n",
              "    <tr>\n",
              "      <th>43</th>\n",
              "      <td>[Distinct, count, of, species, with, Sepal, Le...</td>\n",
              "    </tr>\n",
              "    <tr>\n",
              "      <th>44</th>\n",
              "      <td>[Minimum, Petal, Length, for, Iris, virginica]</td>\n",
              "    </tr>\n",
              "    <tr>\n",
              "      <th>45</th>\n",
              "      <td>[Maximum, Sepal, Width, across, Iris, setosa]</td>\n",
              "    </tr>\n",
              "    <tr>\n",
              "      <th>46</th>\n",
              "      <td>[Total, number, of, records, grouped, by, Spec...</td>\n",
              "    </tr>\n",
              "    <tr>\n",
              "      <th>47</th>\n",
              "      <td>[Filter, to, show, only, Iris, versicolor, wit...</td>\n",
              "    </tr>\n",
              "    <tr>\n",
              "      <th>48</th>\n",
              "      <td>[Show, top, 5, Sepal, Lengths, within, Iris, v...</td>\n",
              "    </tr>\n",
              "    <tr>\n",
              "      <th>49</th>\n",
              "      <td>[Iris, flowers, with, Petal, Width, in, the, b...</td>\n",
              "    </tr>\n",
              "    <tr>\n",
              "      <th>50</th>\n",
              "      <td>[Average, Sepal, Length, for, each, species]</td>\n",
              "    </tr>\n",
              "    <tr>\n",
              "      <th>51</th>\n",
              "      <td>[Entries, with, Petal, Length, between, 4, ., ...</td>\n",
              "    </tr>\n",
              "    <tr>\n",
              "      <th>52</th>\n",
              "      <td>[Count, Iris, flowers, where, the, Species, na...</td>\n",
              "    </tr>\n",
              "    <tr>\n",
              "      <th>53</th>\n",
              "      <td>[List, all, Iris, flowers, where, the, Species...</td>\n",
              "    </tr>\n",
              "  </tbody>\n",
              "</table>\n",
              "</div>\n",
              "    <div class=\"colab-df-buttons\">\n",
              "\n",
              "  <div class=\"colab-df-container\">\n",
              "    <button class=\"colab-df-convert\" onclick=\"convertToInteractive('df-d2265335-4085-4b72-8618-695940db57b2')\"\n",
              "            title=\"Convert this dataframe to an interactive table.\"\n",
              "            style=\"display:none;\">\n",
              "\n",
              "  <svg xmlns=\"http://www.w3.org/2000/svg\" height=\"24px\" viewBox=\"0 -960 960 960\">\n",
              "    <path d=\"M120-120v-720h720v720H120Zm60-500h600v-160H180v160Zm220 220h160v-160H400v160Zm0 220h160v-160H400v160ZM180-400h160v-160H180v160Zm440 0h160v-160H620v160ZM180-180h160v-160H180v160Zm440 0h160v-160H620v160Z\"/>\n",
              "  </svg>\n",
              "    </button>\n",
              "\n",
              "  <style>\n",
              "    .colab-df-container {\n",
              "      display:flex;\n",
              "      gap: 12px;\n",
              "    }\n",
              "\n",
              "    .colab-df-convert {\n",
              "      background-color: #E8F0FE;\n",
              "      border: none;\n",
              "      border-radius: 50%;\n",
              "      cursor: pointer;\n",
              "      display: none;\n",
              "      fill: #1967D2;\n",
              "      height: 32px;\n",
              "      padding: 0 0 0 0;\n",
              "      width: 32px;\n",
              "    }\n",
              "\n",
              "    .colab-df-convert:hover {\n",
              "      background-color: #E2EBFA;\n",
              "      box-shadow: 0px 1px 2px rgba(60, 64, 67, 0.3), 0px 1px 3px 1px rgba(60, 64, 67, 0.15);\n",
              "      fill: #174EA6;\n",
              "    }\n",
              "\n",
              "    .colab-df-buttons div {\n",
              "      margin-bottom: 4px;\n",
              "    }\n",
              "\n",
              "    [theme=dark] .colab-df-convert {\n",
              "      background-color: #3B4455;\n",
              "      fill: #D2E3FC;\n",
              "    }\n",
              "\n",
              "    [theme=dark] .colab-df-convert:hover {\n",
              "      background-color: #434B5C;\n",
              "      box-shadow: 0px 1px 3px 1px rgba(0, 0, 0, 0.15);\n",
              "      filter: drop-shadow(0px 1px 2px rgba(0, 0, 0, 0.3));\n",
              "      fill: #FFFFFF;\n",
              "    }\n",
              "  </style>\n",
              "\n",
              "    <script>\n",
              "      const buttonEl =\n",
              "        document.querySelector('#df-d2265335-4085-4b72-8618-695940db57b2 button.colab-df-convert');\n",
              "      buttonEl.style.display =\n",
              "        google.colab.kernel.accessAllowed ? 'block' : 'none';\n",
              "\n",
              "      async function convertToInteractive(key) {\n",
              "        const element = document.querySelector('#df-d2265335-4085-4b72-8618-695940db57b2');\n",
              "        const dataTable =\n",
              "          await google.colab.kernel.invokeFunction('convertToInteractive',\n",
              "                                                    [key], {});\n",
              "        if (!dataTable) return;\n",
              "\n",
              "        const docLinkHtml = 'Like what you see? Visit the ' +\n",
              "          '<a target=\"_blank\" href=https://colab.research.google.com/notebooks/data_table.ipynb>data table notebook</a>'\n",
              "          + ' to learn more about interactive tables.';\n",
              "        element.innerHTML = '';\n",
              "        dataTable['output_type'] = 'display_data';\n",
              "        await google.colab.output.renderOutput(dataTable, element);\n",
              "        const docLink = document.createElement('div');\n",
              "        docLink.innerHTML = docLinkHtml;\n",
              "        element.appendChild(docLink);\n",
              "      }\n",
              "    </script>\n",
              "  </div>\n",
              "\n",
              "\n",
              "<div id=\"df-b282c00a-5e87-45a3-9ac9-0ea65568b53b\">\n",
              "  <button class=\"colab-df-quickchart\" onclick=\"quickchart('df-b282c00a-5e87-45a3-9ac9-0ea65568b53b')\"\n",
              "            title=\"Suggest charts\"\n",
              "            style=\"display:none;\">\n",
              "\n",
              "<svg xmlns=\"http://www.w3.org/2000/svg\" height=\"24px\"viewBox=\"0 0 24 24\"\n",
              "     width=\"24px\">\n",
              "    <g>\n",
              "        <path d=\"M19 3H5c-1.1 0-2 .9-2 2v14c0 1.1.9 2 2 2h14c1.1 0 2-.9 2-2V5c0-1.1-.9-2-2-2zM9 17H7v-7h2v7zm4 0h-2V7h2v10zm4 0h-2v-4h2v4z\"/>\n",
              "    </g>\n",
              "</svg>\n",
              "  </button>\n",
              "\n",
              "<style>\n",
              "  .colab-df-quickchart {\n",
              "      --bg-color: #E8F0FE;\n",
              "      --fill-color: #1967D2;\n",
              "      --hover-bg-color: #E2EBFA;\n",
              "      --hover-fill-color: #174EA6;\n",
              "      --disabled-fill-color: #AAA;\n",
              "      --disabled-bg-color: #DDD;\n",
              "  }\n",
              "\n",
              "  [theme=dark] .colab-df-quickchart {\n",
              "      --bg-color: #3B4455;\n",
              "      --fill-color: #D2E3FC;\n",
              "      --hover-bg-color: #434B5C;\n",
              "      --hover-fill-color: #FFFFFF;\n",
              "      --disabled-bg-color: #3B4455;\n",
              "      --disabled-fill-color: #666;\n",
              "  }\n",
              "\n",
              "  .colab-df-quickchart {\n",
              "    background-color: var(--bg-color);\n",
              "    border: none;\n",
              "    border-radius: 50%;\n",
              "    cursor: pointer;\n",
              "    display: none;\n",
              "    fill: var(--fill-color);\n",
              "    height: 32px;\n",
              "    padding: 0;\n",
              "    width: 32px;\n",
              "  }\n",
              "\n",
              "  .colab-df-quickchart:hover {\n",
              "    background-color: var(--hover-bg-color);\n",
              "    box-shadow: 0 1px 2px rgba(60, 64, 67, 0.3), 0 1px 3px 1px rgba(60, 64, 67, 0.15);\n",
              "    fill: var(--button-hover-fill-color);\n",
              "  }\n",
              "\n",
              "  .colab-df-quickchart-complete:disabled,\n",
              "  .colab-df-quickchart-complete:disabled:hover {\n",
              "    background-color: var(--disabled-bg-color);\n",
              "    fill: var(--disabled-fill-color);\n",
              "    box-shadow: none;\n",
              "  }\n",
              "\n",
              "  .colab-df-spinner {\n",
              "    border: 2px solid var(--fill-color);\n",
              "    border-color: transparent;\n",
              "    border-bottom-color: var(--fill-color);\n",
              "    animation:\n",
              "      spin 1s steps(1) infinite;\n",
              "  }\n",
              "\n",
              "  @keyframes spin {\n",
              "    0% {\n",
              "      border-color: transparent;\n",
              "      border-bottom-color: var(--fill-color);\n",
              "      border-left-color: var(--fill-color);\n",
              "    }\n",
              "    20% {\n",
              "      border-color: transparent;\n",
              "      border-left-color: var(--fill-color);\n",
              "      border-top-color: var(--fill-color);\n",
              "    }\n",
              "    30% {\n",
              "      border-color: transparent;\n",
              "      border-left-color: var(--fill-color);\n",
              "      border-top-color: var(--fill-color);\n",
              "      border-right-color: var(--fill-color);\n",
              "    }\n",
              "    40% {\n",
              "      border-color: transparent;\n",
              "      border-right-color: var(--fill-color);\n",
              "      border-top-color: var(--fill-color);\n",
              "    }\n",
              "    60% {\n",
              "      border-color: transparent;\n",
              "      border-right-color: var(--fill-color);\n",
              "    }\n",
              "    80% {\n",
              "      border-color: transparent;\n",
              "      border-right-color: var(--fill-color);\n",
              "      border-bottom-color: var(--fill-color);\n",
              "    }\n",
              "    90% {\n",
              "      border-color: transparent;\n",
              "      border-bottom-color: var(--fill-color);\n",
              "    }\n",
              "  }\n",
              "</style>\n",
              "\n",
              "  <script>\n",
              "    async function quickchart(key) {\n",
              "      const quickchartButtonEl =\n",
              "        document.querySelector('#' + key + ' button');\n",
              "      quickchartButtonEl.disabled = true;  // To prevent multiple clicks.\n",
              "      quickchartButtonEl.classList.add('colab-df-spinner');\n",
              "      try {\n",
              "        const charts = await google.colab.kernel.invokeFunction(\n",
              "            'suggestCharts', [key], {});\n",
              "      } catch (error) {\n",
              "        console.error('Error during call to suggestCharts:', error);\n",
              "      }\n",
              "      quickchartButtonEl.classList.remove('colab-df-spinner');\n",
              "      quickchartButtonEl.classList.add('colab-df-quickchart-complete');\n",
              "    }\n",
              "    (() => {\n",
              "      let quickchartButtonEl =\n",
              "        document.querySelector('#df-b282c00a-5e87-45a3-9ac9-0ea65568b53b button');\n",
              "      quickchartButtonEl.style.display =\n",
              "        google.colab.kernel.accessAllowed ? 'block' : 'none';\n",
              "    })();\n",
              "  </script>\n",
              "</div>\n",
              "    </div>\n",
              "  </div>\n"
            ],
            "application/vnd.google.colaboratory.intrinsic+json": {
              "type": "dataframe",
              "summary": "{\n  \"name\": \"dg_tok\",\n  \"rows\": 54,\n  \"fields\": [\n    {\n      \"column\": \"Tokenized Description\",\n      \"properties\": {\n        \"dtype\": \"object\",\n        \"semantic_type\": \"\",\n        \"description\": \"\"\n      }\n    }\n  ]\n}"
            }
          },
          "metadata": {},
          "execution_count": 14
        }
      ]
    },
    {
      "cell_type": "markdown",
      "source": [
        "Adding columns to dg_tok of Formulas and Symbols in separated way"
      ],
      "metadata": {
        "id": "UQlk0IaCEsJy"
      }
    },
    {
      "cell_type": "code",
      "source": [
        "dg_tok[\"Tokenized Formula (Tableau)\"]=dg_formulas_text"
      ],
      "metadata": {
        "id": "aG6yDi7dE449"
      },
      "execution_count": 15,
      "outputs": []
    },
    {
      "cell_type": "code",
      "source": [
        "dg_tok[\"Tokenized Symbols (Tableau)\"]=dg_formulas_sym"
      ],
      "metadata": {
        "id": "CZHfOu55IJ7P"
      },
      "execution_count": 16,
      "outputs": []
    },
    {
      "cell_type": "code",
      "source": [
        "print(dg_tok.head(10))"
      ],
      "metadata": {
        "colab": {
          "base_uri": "https://localhost:8080/"
        },
        "id": "783qHvjyIjt9",
        "outputId": "ab7a9a61-a2bc-49be-a811-77815597dc7f"
      },
      "execution_count": 17,
      "outputs": [
        {
          "output_type": "stream",
          "name": "stdout",
          "text": [
            "                               Tokenized Description  \\\n",
            "0                           [Sum, of, Sepal, Length]   \n",
            "1      [Average, Sepal, Width, across, all, entries]   \n",
            "2                 [Find, the, median, Petal, Length]   \n",
            "3  [Count, the, number, of, records, in, the, dat...   \n",
            "4       [Count, distinct, species, in, the, dataset]   \n",
            "5                [Minimum, value, of, Sepal, Length]   \n",
            "6   [Maximum, Petal, Width, found, in, the, dataset]   \n",
            "7                      [Group, records, by, Species]   \n",
            "8  [Sort, the, entries, by, Sepal, Length, in, as...   \n",
            "9                    [List, Species, alphabetically]   \n",
            "\n",
            "       Tokenized Formula (Tableau) Tokenized Symbols (Tableau)  \n",
            "0             [SUM, Sepal, Length]                      [(, )]  \n",
            "1              [AVG, Sepal, Width]                      [(, )]  \n",
            "2          [MEDIAN, Petal, Length]                      [(, )]  \n",
            "3                          [COUNT]                       [(*)]  \n",
            "4       [COUNT, DISTINCT, Species]                      [(, )]  \n",
            "5             [MIN, Sepal, Length]                      [(, )]  \n",
            "6              [MAX, Petal, Width]                      [(, )]  \n",
            "7             [GROUP, BY, Species]                      [(, )]  \n",
            "8  [ORDER, BY, Sepal, Length, ASC]                      [(, )]  \n",
            "9        [ORDER, BY, Species, ASC]                      [(, )]  \n"
          ]
        }
      ]
    },
    {
      "cell_type": "code",
      "source": [
        "print(nlp.pipe(dg_tok[dg_tok.columns[0]]))"
      ],
      "metadata": {
        "colab": {
          "base_uri": "https://localhost:8080/"
        },
        "id": "m885NJEOhznC",
        "outputId": "c7b12102-4d85-4349-f034-4624efce7273"
      },
      "execution_count": 18,
      "outputs": [
        {
          "output_type": "stream",
          "name": "stdout",
          "text": [
            "<generator object Language.pipe at 0x7b1888875690>\n"
          ]
        }
      ]
    },
    {
      "cell_type": "markdown",
      "source": [
        "# Recognition of entities"
      ],
      "metadata": {
        "id": "o9csevIdMITD"
      }
    },
    {
      "cell_type": "code",
      "source": [
        "def get_pos_(data,col_name):\n",
        "  dd=[]\n",
        "  gg=[]\n",
        "  for tok in data[col_name]:\n",
        "\n",
        "          for ent in nlp(str(list(str(tok).split()))):\n",
        "              # checking text between punct\n",
        "              dd.append({ent.text:ent.pos_})\n",
        "              gg.append({ent.pos_:ent.text})\n",
        "  return dd,gg"
      ],
      "metadata": {
        "id": "_DrUfeymSGGA"
      },
      "execution_count": 19,
      "outputs": []
    },
    {
      "cell_type": "code",
      "source": [
        "def get_patterns(data,col_name):\n",
        "     dt,dp=get_pos_(data,col_name)\n",
        "\n",
        "     pos_=[list(item.keys())[0] for item in dp]\n",
        "     pos_=list(set(pos_))\n",
        "     print(dt)\n",
        "     print(col_name,\":\",pos_)\n",
        "     patterns={}\n",
        "     for key in pos_:\n",
        "         patterns.update({key:list(set([d[key] for d in dp if  key==list(d.keys())[0]]))})\n",
        "     return patterns"
      ],
      "metadata": {
        "id": "egSnDiSWCtiv"
      },
      "execution_count": 20,
      "outputs": []
    },
    {
      "cell_type": "code",
      "source": [
        "dg_ent={}"
      ],
      "metadata": {
        "id": "UvGBuLNlOmE_"
      },
      "execution_count": 21,
      "outputs": []
    },
    {
      "cell_type": "code",
      "source": [
        "p_d=dg_ent['Patterns_Description']=get_patterns(dg_tok,dg_tok.columns[0])"
      ],
      "metadata": {
        "id": "g7kuk3DbOtdX",
        "colab": {
          "base_uri": "https://localhost:8080/"
        },
        "outputId": "a117eea7-8e85-491f-8e4f-6ba51c5987d5"
      },
      "execution_count": 22,
      "outputs": [
        {
          "output_type": "stream",
          "name": "stdout",
          "text": [
            "[{'[': 'X'}, {'\"': 'PUNCT'}, {'[': 'X'}, {\"'\": 'X'}, {'Sum': 'PROPN'}, {\"'\": 'NUM'}, {',': 'PUNCT'}, {'\"': 'PUNCT'}, {',': 'PUNCT'}, {'\"': 'PUNCT'}, {\"'\": 'PUNCT'}, {'of': 'ADP'}, {\"'\": 'NUM'}, {',': 'PUNCT'}, {'\"': 'PUNCT'}, {',': 'PUNCT'}, {'\"': 'PUNCT'}, {\"'\": 'PUNCT'}, {'Sepal': 'NOUN'}, {\"'\": 'PUNCT'}, {',': 'PUNCT'}, {'\"': 'PUNCT'}, {',': 'PUNCT'}, {'\"': 'PUNCT'}, {\"'\": 'PUNCT'}, {'Length': 'X'}, {\"'\": 'PUNCT'}, {']': 'PUNCT'}, {'\"': 'PUNCT'}, {']': 'PUNCT'}, {'[': 'X'}, {'\"': 'PUNCT'}, {'[': 'X'}, {\"'\": 'PUNCT'}, {'Average': 'ADJ'}, {\"'\": 'PUNCT'}, {',': 'PUNCT'}, {'\"': 'PUNCT'}, {',': 'PUNCT'}, {'\"': 'PUNCT'}, {\"'\": 'PUNCT'}, {'Sepal': 'NOUN'}, {\"'\": 'PUNCT'}, {',': 'PUNCT'}, {'\"': 'PUNCT'}, {',': 'PUNCT'}, {'\"': 'PUNCT'}, {\"'\": 'PUNCT'}, {'Width': 'PROPN'}, {\"'\": 'PUNCT'}, {',': 'PUNCT'}, {'\"': 'PUNCT'}, {',': 'PUNCT'}, {'\"': 'PUNCT'}, {\"'\": 'PUNCT'}, {'across': 'ADP'}, {\"'\": 'PUNCT'}, {',': 'PUNCT'}, {'\"': 'PUNCT'}, {',': 'PUNCT'}, {'\"': 'PUNCT'}, {\"'\": 'PUNCT'}, {'all': 'PRON'}, {\"'\": 'PROPN'}, {',': 'PUNCT'}, {'\"': 'PUNCT'}, {',': 'PUNCT'}, {'\"': 'PUNCT'}, {\"'\": 'PUNCT'}, {'entries': 'NOUN'}, {\"'\": 'PUNCT'}, {']': 'PUNCT'}, {'\"': 'PUNCT'}, {']': 'PUNCT'}, {'[': 'X'}, {'\"': 'PUNCT'}, {'[': 'X'}, {\"'\": 'VERB'}, {'Find': 'VERB'}, {\"'\": 'PUNCT'}, {',': 'PUNCT'}, {'\"': 'PUNCT'}, {',': 'PUNCT'}, {'\"': 'PUNCT'}, {\"'\": 'PUNCT'}, {'the': 'DET'}, {\"'\": 'PUNCT'}, {',': 'PUNCT'}, {'\"': 'PUNCT'}, {',': 'PUNCT'}, {'\"': 'PUNCT'}, {\"'\": 'PUNCT'}, {'median': 'X'}, {\"'\": 'PROPN'}, {',': 'PUNCT'}, {'\"': 'PUNCT'}, {',': 'PUNCT'}, {'\"': 'PUNCT'}, {\"'\": 'PUNCT'}, {'Petal': 'ADJ'}, {\"'\": 'PUNCT'}, {',': 'PUNCT'}, {'\"': 'PUNCT'}, {',': 'PUNCT'}, {'\"': 'PUNCT'}, {\"'\": 'PUNCT'}, {'Length': 'X'}, {\"'\": 'PUNCT'}, {']': 'PUNCT'}, {'\"': 'PUNCT'}, {']': 'PUNCT'}, {'[': 'X'}, {'\"': 'PUNCT'}, {'[': 'X'}, {\"'\": 'X'}, {'Count': 'PROPN'}, {\"'\": 'PUNCT'}, {',': 'PUNCT'}, {'\"': 'PUNCT'}, {',': 'PUNCT'}, {'\"': 'PUNCT'}, {\"'\": 'PUNCT'}, {'the': 'DET'}, {\"'\": 'PUNCT'}, {',': 'PUNCT'}, {'\"': 'PUNCT'}, {',': 'PUNCT'}, {'\"': 'PUNCT'}, {\"'\": 'PUNCT'}, {'number': 'NOUN'}, {\"'\": 'PUNCT'}, {',': 'PUNCT'}, {'\"': 'PUNCT'}, {',': 'PUNCT'}, {'\"': 'PUNCT'}, {\"'\": 'PUNCT'}, {'of': 'ADP'}, {\"'\": 'NUM'}, {',': 'PUNCT'}, {'\"': 'PUNCT'}, {',': 'PUNCT'}, {'\"': 'PUNCT'}, {\"'\": 'PUNCT'}, {'records': 'NOUN'}, {\"'\": 'PART'}, {',': 'PUNCT'}, {'\"': 'PUNCT'}, {',': 'PUNCT'}, {'\"': 'PUNCT'}, {\"'\": 'PUNCT'}, {'in': 'ADP'}, {\"'\": 'NUM'}, {',': 'PUNCT'}, {'\"': 'PUNCT'}, {',': 'PUNCT'}, {'\"': 'PUNCT'}, {\"'\": 'PUNCT'}, {'the': 'DET'}, {\"'\": 'PUNCT'}, {',': 'PUNCT'}, {'\"': 'PUNCT'}, {',': 'PUNCT'}, {'\"': 'PUNCT'}, {\"'\": 'PUNCT'}, {'dataset': 'VERB'}, {\"'\": 'PUNCT'}, {']': 'PUNCT'}, {'\"': 'PUNCT'}, {']': 'PUNCT'}, {'[': 'X'}, {'\"': 'PUNCT'}, {'[': 'X'}, {\"'\": 'X'}, {'Count': 'PROPN'}, {\"'\": 'PUNCT'}, {',': 'PUNCT'}, {'\"': 'PUNCT'}, {',': 'PUNCT'}, {'\"': 'PUNCT'}, {\"'\": 'PUNCT'}, {'distinct': 'ADJ'}, {\"'\": 'PUNCT'}, {',': 'PUNCT'}, {'\"': 'PUNCT'}, {',': 'PUNCT'}, {'\"': 'PUNCT'}, {\"'\": 'PUNCT'}, {'species': 'NOUN'}, {\"'\": 'PUNCT'}, {',': 'PUNCT'}, {'\"': 'PUNCT'}, {',': 'PUNCT'}, {'\"': 'PUNCT'}, {\"'\": 'PUNCT'}, {'in': 'ADP'}, {\"'\": 'NUM'}, {',': 'PUNCT'}, {'\"': 'PUNCT'}, {',': 'PUNCT'}, {'\"': 'PUNCT'}, {\"'\": 'PUNCT'}, {'the': 'DET'}, {\"'\": 'PUNCT'}, {',': 'PUNCT'}, {'\"': 'PUNCT'}, {',': 'PUNCT'}, {'\"': 'PUNCT'}, {\"'\": 'PUNCT'}, {'dataset': 'VERB'}, {\"'\": 'PUNCT'}, {']': 'PUNCT'}, {'\"': 'PUNCT'}, {']': 'PUNCT'}, {'[': 'X'}, {'\"': 'PUNCT'}, {'[': 'X'}, {\"'\": 'PUNCT'}, {'Minimum': 'ADJ'}, {\"'\": 'PUNCT'}, {',': 'PUNCT'}, {'\"': 'PUNCT'}, {',': 'PUNCT'}, {'\"': 'PUNCT'}, {\"'\": 'PUNCT'}, {'value': 'NOUN'}, {\"'\": 'PUNCT'}, {',': 'PUNCT'}, {'\"': 'PUNCT'}, {',': 'PUNCT'}, {'\"': 'PUNCT'}, {\"'\": 'PUNCT'}, {'of': 'ADP'}, {\"'\": 'NUM'}, {',': 'PUNCT'}, {'\"': 'PUNCT'}, {',': 'PUNCT'}, {'\"': 'PUNCT'}, {\"'\": 'PUNCT'}, {'Sepal': 'NOUN'}, {\"'\": 'PUNCT'}, {',': 'PUNCT'}, {'\"': 'PUNCT'}, {',': 'PUNCT'}, {'\"': 'PUNCT'}, {\"'\": 'PUNCT'}, {'Length': 'X'}, {\"'\": 'PUNCT'}, {']': 'PUNCT'}, {'\"': 'PUNCT'}, {']': 'PUNCT'}, {'[': 'X'}, {'\"': 'PUNCT'}, {'[': 'X'}, {\"'\": 'PUNCT'}, {'Maximum': 'ADJ'}, {\"'\": 'NUM'}, {',': 'PUNCT'}, {'\"': 'PUNCT'}, {',': 'PUNCT'}, {'\"': 'PUNCT'}, {\"'\": 'PUNCT'}, {'Petal': 'ADJ'}, {\"'\": 'PUNCT'}, {',': 'PUNCT'}, {'\"': 'PUNCT'}, {',': 'PUNCT'}, {'\"': 'PUNCT'}, {\"'\": 'PUNCT'}, {'Width': 'PROPN'}, {\"'\": 'PUNCT'}, {',': 'PUNCT'}, {'\"': 'PUNCT'}, {',': 'PUNCT'}, {'\"': 'PUNCT'}, {\"'\": 'PUNCT'}, {'found': 'VERB'}, {\"'\": 'PUNCT'}, {',': 'PUNCT'}, {'\"': 'PUNCT'}, {',': 'PUNCT'}, {'\"': 'PUNCT'}, {\"'\": 'PUNCT'}, {'in': 'ADP'}, {\"'\": 'NUM'}, {',': 'PUNCT'}, {'\"': 'PUNCT'}, {',': 'PUNCT'}, {'\"': 'PUNCT'}, {\"'\": 'PUNCT'}, {'the': 'DET'}, {\"'\": 'PUNCT'}, {',': 'PUNCT'}, {'\"': 'PUNCT'}, {',': 'PUNCT'}, {'\"': 'PUNCT'}, {\"'\": 'PUNCT'}, {'dataset': 'VERB'}, {\"'\": 'PUNCT'}, {']': 'PUNCT'}, {'\"': 'PUNCT'}, {']': 'PUNCT'}, {'[': 'X'}, {'\"': 'PUNCT'}, {'[': 'X'}, {\"'\": 'X'}, {'Group': 'PROPN'}, {\"'\": 'PUNCT'}, {',': 'PUNCT'}, {'\"': 'PUNCT'}, {',': 'PUNCT'}, {'\"': 'PUNCT'}, {\"'\": 'PUNCT'}, {'records': 'NOUN'}, {\"'\": 'PART'}, {',': 'PUNCT'}, {'\"': 'PUNCT'}, {',': 'PUNCT'}, {'\"': 'PUNCT'}, {\"'\": 'PUNCT'}, {'by': 'ADP'}, {\"'\": 'NUM'}, {',': 'PUNCT'}, {'\"': 'PUNCT'}, {',': 'PUNCT'}, {'\"': 'PUNCT'}, {\"'\": 'PUNCT'}, {'Species': 'PROPN'}, {\"'\": 'PUNCT'}, {']': 'PUNCT'}, {'\"': 'PUNCT'}, {']': 'PUNCT'}, {'[': 'X'}, {'\"': 'PUNCT'}, {'[': 'X'}, {\"'\": 'X'}, {'Sort': 'ADV'}, {\"'\": 'NUM'}, {',': 'PUNCT'}, {'\"': 'PUNCT'}, {',': 'PUNCT'}, {'\"': 'PUNCT'}, {\"'\": 'PUNCT'}, {'the': 'DET'}, {\"'\": 'PUNCT'}, {',': 'PUNCT'}, {'\"': 'PUNCT'}, {',': 'PUNCT'}, {'\"': 'PUNCT'}, {\"'\": 'PUNCT'}, {'entries': 'NOUN'}, {\"'\": 'PUNCT'}, {',': 'PUNCT'}, {'\"': 'PUNCT'}, {',': 'PUNCT'}, {'\"': 'PUNCT'}, {\"'\": 'PUNCT'}, {'by': 'ADP'}, {\"'\": 'NUM'}, {',': 'PUNCT'}, {'\"': 'PUNCT'}, {',': 'PUNCT'}, {'\"': 'PUNCT'}, {\"'\": 'PUNCT'}, {'Sepal': 'NOUN'}, {\"'\": 'PUNCT'}, {',': 'PUNCT'}, {'\"': 'PUNCT'}, {',': 'PUNCT'}, {'\"': 'PUNCT'}, {\"'\": 'PUNCT'}, {'Length': 'PROPN'}, {\"'\": 'PUNCT'}, {',': 'PUNCT'}, {'\"': 'PUNCT'}, {',': 'PUNCT'}, {'\"': 'PUNCT'}, {\"'\": 'PUNCT'}, {'in': 'ADP'}, {\"'\": 'NUM'}, {',': 'PUNCT'}, {'\"': 'PUNCT'}, {',': 'PUNCT'}, {'\"': 'PUNCT'}, {\"'\": 'PUNCT'}, {'ascending': 'VERB'}, {\"'\": 'PUNCT'}, {',': 'PUNCT'}, {'\"': 'PUNCT'}, {',': 'PUNCT'}, {'\"': 'PUNCT'}, {\"'\": 'PUNCT'}, {'order': 'NOUN'}, {\"'\": 'PUNCT'}, {']': 'PUNCT'}, {'\"': 'PUNCT'}, {']': 'PUNCT'}, {'[': 'X'}, {'\"': 'PUNCT'}, {'[': 'X'}, {\"'\": 'PUNCT'}, {'List': 'NOUN'}, {\"'\": 'PUNCT'}, {',': 'PUNCT'}, {'\"': 'PUNCT'}, {',': 'PUNCT'}, {'\"': 'PUNCT'}, {\"'\": 'PUNCT'}, {'Species': 'NOUN'}, {\"'\": 'PUNCT'}, {',': 'PUNCT'}, {'\"': 'PUNCT'}, {',': 'PUNCT'}, {'\"': 'PUNCT'}, {\"'\": 'PUNCT'}, {'alphabetically': 'ADV'}, {\"'\": 'VERB'}, {']': 'X'}, {'\"': 'PUNCT'}, {']': 'PUNCT'}, {'[': 'X'}, {'\"': 'PUNCT'}, {'[': 'X'}, {\"'\": 'X'}, {'Entries': 'NOUN'}, {\"'\": 'PUNCT'}, {',': 'PUNCT'}, {'\"': 'PUNCT'}, {',': 'PUNCT'}, {'\"': 'PUNCT'}, {\"'\": 'PUNCT'}, {'with': 'ADP'}, {\"'\": 'PROPN'}, {',': 'PUNCT'}, {'\"': 'PUNCT'}, {',': 'PUNCT'}, {'\"': 'PUNCT'}, {\"'\": 'PUNCT'}, {'Sepal': 'NOUN'}, {\"'\": 'PUNCT'}, {',': 'PUNCT'}, {'\"': 'PUNCT'}, {',': 'PUNCT'}, {'\"': 'PUNCT'}, {\"'\": 'PUNCT'}, {'Length': 'PROPN'}, {\"'\": 'PUNCT'}, {',': 'PUNCT'}, {'\"': 'PUNCT'}, {',': 'PUNCT'}, {'\"': 'PUNCT'}, {\"'\": 'PUNCT'}, {'at': 'ADP'}, {\"'\": 'NUM'}, {',': 'PUNCT'}, {'\"': 'PUNCT'}, {',': 'PUNCT'}, {'\"': 'PUNCT'}, {\"'\": 'PUNCT'}, {'least': 'ADJ'}, {\"'\": 'PUNCT'}, {',': 'PUNCT'}, {'\"': 'PUNCT'}, {',': 'PUNCT'}, {'\"': 'PUNCT'}, {\"'\": 'PROPN'}, {'5': 'NUM'}, {\"'\": 'NUM'}, {',': 'PUNCT'}, {'\"': 'PUNCT'}, {',': 'PUNCT'}, {'\"': 'PUNCT'}, {\"'\": 'PUNCT'}, {'.': 'PUNCT'}, {\"'\": 'PUNCT'}, {',': 'PUNCT'}, {'\"': 'PUNCT'}, {',': 'PUNCT'}, {'\"': 'PUNCT'}, {\"'\": 'PUNCT'}, {'0': 'X'}, {\"'\": 'PUNCT'}, {']': 'PUNCT'}, {'\"': 'PUNCT'}, {']': 'PUNCT'}, {'[': 'X'}, {'\"': 'PUNCT'}, {'[': 'X'}, {\"'\": 'X'}, {'Entries': 'NOUN'}, {\"'\": 'PUNCT'}, {',': 'PUNCT'}, {'\"': 'PUNCT'}, {',': 'PUNCT'}, {'\"': 'PUNCT'}, {\"'\": 'PUNCT'}, {'with': 'ADP'}, {\"'\": 'PROPN'}, {',': 'PUNCT'}, {'\"': 'PUNCT'}, {',': 'PUNCT'}, {'\"': 'PUNCT'}, {\"'\": 'PUNCT'}, {'Petal': 'ADJ'}, {\"'\": 'PUNCT'}, {',': 'PUNCT'}, {'\"': 'PUNCT'}, {',': 'PUNCT'}, {'\"': 'PUNCT'}, {\"'\": 'PUNCT'}, {'Length': 'PROPN'}, {\"'\": 'PUNCT'}, {',': 'PUNCT'}, {'\"': 'PUNCT'}, {',': 'PUNCT'}, {'\"': 'PUNCT'}, {\"'\": 'PUNCT'}, {'between': 'ADP'}, {\"'\": 'PUNCT'}, {',': 'PUNCT'}, {'\"': 'PUNCT'}, {',': 'PUNCT'}, {'\"': 'PUNCT'}, {\"'\": 'PROPN'}, {'1': 'X'}, {\"'\": 'NUM'}, {',': 'PUNCT'}, {'\"': 'PUNCT'}, {',': 'PUNCT'}, {'\"': 'PUNCT'}, {\"'\": 'PUNCT'}, {'.': 'PUNCT'}, {\"'\": 'PUNCT'}, {',': 'PUNCT'}, {'\"': 'PUNCT'}, {',': 'PUNCT'}, {'\"': 'PUNCT'}, {\"'\": 'PROPN'}, {'5': 'NUM'}, {\"'\": 'NUM'}, {',': 'PUNCT'}, {'\"': 'PUNCT'}, {',': 'PUNCT'}, {'\"': 'PUNCT'}, {\"'\": 'PUNCT'}, {'and': 'CCONJ'}, {\"'\": 'NUM'}, {',': 'PUNCT'}, {'\"': 'PUNCT'}, {',': 'PUNCT'}, {'\"': 'PUNCT'}, {\"'\": 'PROPN'}, {'2': 'X'}, {\"'\": 'NUM'}, {',': 'PUNCT'}, {'\"': 'PUNCT'}, {',': 'PUNCT'}, {'\"': 'PUNCT'}, {\"'\": 'PUNCT'}, {'.': 'PUNCT'}, {\"'\": 'PUNCT'}, {',': 'PUNCT'}, {'\"': 'PUNCT'}, {',': 'PUNCT'}, {'\"': 'PUNCT'}, {\"'\": 'PROPN'}, {'5': 'NUM'}, {\"'\": 'NUM'}, {']': 'PUNCT'}, {'\"': 'PUNCT'}, {']': 'PUNCT'}, {'[': 'X'}, {'\"': 'PUNCT'}, {'[': 'X'}, {\"'\": 'PUNCT'}, {'Top': 'ADJ'}, {\"'\": 'NUM'}, {',': 'PUNCT'}, {'\"': 'PUNCT'}, {',': 'PUNCT'}, {'\"': 'PUNCT'}, {\"'\": 'PROPN'}, {'3': 'NUM'}, {\"'\": 'NUM'}, {',': 'PUNCT'}, {'\"': 'PUNCT'}, {',': 'PUNCT'}, {'\"': 'PUNCT'}, {\"'\": 'PUNCT'}, {'entries': 'NOUN'}, {\"'\": 'PUNCT'}, {',': 'PUNCT'}, {'\"': 'PUNCT'}, {',': 'PUNCT'}, {'\"': 'PUNCT'}, {\"'\": 'PUNCT'}, {'with': 'ADP'}, {\"'\": 'PROPN'}, {',': 'PUNCT'}, {'\"': 'PUNCT'}, {',': 'PUNCT'}, {'\"': 'PUNCT'}, {\"'\": 'PUNCT'}, {'the': 'DET'}, {\"'\": 'PUNCT'}, {',': 'PUNCT'}, {'\"': 'PUNCT'}, {',': 'PUNCT'}, {'\"': 'PUNCT'}, {\"'\": 'PUNCT'}, {'highest': 'ADJ'}, {\"'\": 'PUNCT'}, {',': 'PUNCT'}, {'\"': 'PUNCT'}, {',': 'PUNCT'}, {'\"': 'PUNCT'}, {\"'\": 'PUNCT'}, {'Sepal': 'NOUN'}, {\"'\": 'PUNCT'}, {',': 'PUNCT'}, {'\"': 'PUNCT'}, {',': 'PUNCT'}, {'\"': 'PUNCT'}, {\"'\": 'PUNCT'}, {'Width': 'PROPN'}, {\"'\": 'PUNCT'}, {']': 'PUNCT'}, {'\"': 'PUNCT'}, {']': 'PUNCT'}, {'[': 'X'}, {'\"': 'PUNCT'}, {'[': 'X'}, {\"'\": 'X'}, {'Species': 'NOUN'}, {\"'\": 'PUNCT'}, {',': 'PUNCT'}, {'\"': 'PUNCT'}, {',': 'PUNCT'}, {'\"': 'PUNCT'}, {\"'\": 'PUNCT'}, {'is': 'AUX'}, {\"'\": 'PUNCT'}, {',': 'PUNCT'}, {'\"': 'PUNCT'}, {',': 'PUNCT'}, {\"'\": 'PUNCT'}, {'\"': 'PUNCT'}, {'\\\\': 'PROPN'}, {\"'\": 'PUNCT'}, {'\"': 'PUNCT'}, {',': 'PUNCT'}, {\"'\": 'PUNCT'}, {',': 'PUNCT'}, {'\"': 'PUNCT'}, {\"'\": 'PUNCT'}, {'Setosa': 'VERB'}, {\"'\": 'NUM'}, {',': 'PUNCT'}, {'\"': 'PUNCT'}, {',': 'PUNCT'}, {\"'\": 'PUNCT'}, {'\"': 'PUNCT'}, {'\\\\': 'PROPN'}, {\"'\": 'PUNCT'}, {'\"': 'PUNCT'}, {']': 'PUNCT'}, {\"'\": 'X'}, {']': 'PUNCT'}, {'[': 'X'}, {'\"': 'PUNCT'}, {'[': 'X'}, {\"'\": 'X'}, {'Species': 'NOUN'}, {\"'\": 'PUNCT'}, {',': 'PUNCT'}, {'\"': 'PUNCT'}, {',': 'PUNCT'}, {'\"': 'PUNCT'}, {\"'\": 'PUNCT'}, {'starts': 'VERB'}, {\"'\": 'PUNCT'}, {',': 'PUNCT'}, {'\"': 'PUNCT'}, {',': 'PUNCT'}, {'\"': 'PUNCT'}, {\"'\": 'PUNCT'}, {'with': 'ADP'}, {\"'\": 'PROPN'}, {',': 'PUNCT'}, {'\"': 'PUNCT'}, {',': 'PUNCT'}, {\"'\": 'PUNCT'}, {'\"': 'PUNCT'}, {'\\\\': 'PROPN'}, {\"'\": 'PUNCT'}, {'\"': 'PUNCT'}, {',': 'PUNCT'}, {\"'\": 'PUNCT'}, {',': 'PUNCT'}, {'\"': 'PUNCT'}, {\"'\": 'PUNCT'}, {'Se': 'PROPN'}, {\"'\": 'NUM'}, {',': 'PUNCT'}, {'\"': 'PUNCT'}, {',': 'PUNCT'}, {\"'\": 'PUNCT'}, {'\"': 'PUNCT'}, {'\\\\': 'PROPN'}, {\"'\": 'PUNCT'}, {'\"': 'PUNCT'}, {']': 'PUNCT'}, {\"'\": 'X'}, {']': 'PUNCT'}, {'[': 'X'}, {'\"': 'PUNCT'}, {'[': 'X'}, {\"'\": 'PUNCT'}, {'Calculate': 'VERB'}, {\"'\": 'PUNCT'}, {',': 'PUNCT'}, {'\"': 'PUNCT'}, {',': 'PUNCT'}, {'\"': 'PUNCT'}, {\"'\": 'PUNCT'}, {'the': 'DET'}, {\"'\": 'PUNCT'}, {',': 'PUNCT'}, {'\"': 'PUNCT'}, {',': 'PUNCT'}, {'\"': 'PUNCT'}, {\"'\": 'PUNCT'}, {'total': 'ADJ'}, {\"'\": 'PUNCT'}, {',': 'PUNCT'}, {'\"': 'PUNCT'}, {',': 'PUNCT'}, {'\"': 'PUNCT'}, {\"'\": 'PUNCT'}, {'of': 'ADP'}, {\"'\": 'NUM'}, {',': 'PUNCT'}, {'\"': 'PUNCT'}, {',': 'PUNCT'}, {'\"': 'PUNCT'}, {\"'\": 'PUNCT'}, {'Petal': 'ADJ'}, {\"'\": 'PUNCT'}, {',': 'PUNCT'}, {'\"': 'PUNCT'}, {',': 'PUNCT'}, {'\"': 'PUNCT'}, {\"'\": 'PUNCT'}, {'Lengths': 'NOUN'}, {\"'\": 'NUM'}, {']': 'PUNCT'}, {'\"': 'PUNCT'}, {']': 'PUNCT'}, {'[': 'X'}, {'\"': 'PUNCT'}, {'[': 'X'}, {\"'\": 'PUNCT'}, {'What': 'PRON'}, {\"'\": 'PROPN'}, {',': 'PUNCT'}, {'\"': 'PUNCT'}, {',': 'PUNCT'}, {'\"': 'PUNCT'}, {\"'\": 'PUNCT'}, {'is': 'AUX'}, {\"'\": 'PUNCT'}, {',': 'PUNCT'}, {'\"': 'PUNCT'}, {',': 'PUNCT'}, {'\"': 'PUNCT'}, {\"'\": 'PUNCT'}, {'the': 'DET'}, {\"'\": 'PUNCT'}, {',': 'PUNCT'}, {'\"': 'PUNCT'}, {',': 'PUNCT'}, {'\"': 'PUNCT'}, {\"'\": 'PUNCT'}, {'average': 'ADJ'}, {\"'\": 'PUNCT'}, {',': 'PUNCT'}, {'\"': 'PUNCT'}, {',': 'PUNCT'}, {'\"': 'PUNCT'}, {\"'\": 'PUNCT'}, {'Petal': 'ADJ'}, {\"'\": 'PUNCT'}, {',': 'PUNCT'}, {'\"': 'PUNCT'}, {',': 'PUNCT'}, {'\"': 'PUNCT'}, {\"'\": 'PUNCT'}, {'Width': 'PROPN'}, {\"'\": 'PUNCT'}, {',': 'PUNCT'}, {'\"': 'PUNCT'}, {',': 'PUNCT'}, {'\"': 'PUNCT'}, {\"'\": 'PUNCT'}, {'?': 'PUNCT'}, {\"'\": 'PUNCT'}, {']': 'PUNCT'}, {'\"': 'PUNCT'}, {']': 'PUNCT'}, {'[': 'X'}, {'\"': 'PUNCT'}, {'[': 'X'}, {\"'\": 'X'}, {'Determine': 'NOUN'}, {\"'\": 'PUNCT'}, {',': 'PUNCT'}, {'\"': 'PUNCT'}, {',': 'PUNCT'}, {'\"': 'PUNCT'}, {\"'\": 'PUNCT'}, {'the': 'DET'}, {\"'\": 'PUNCT'}, {',': 'PUNCT'}, {'\"': 'PUNCT'}, {',': 'PUNCT'}, {'\"': 'PUNCT'}, {\"'\": 'PUNCT'}, {'middle': 'ADJ'}, {\"'\": 'PUNCT'}, {',': 'PUNCT'}, {'\"': 'PUNCT'}, {',': 'PUNCT'}, {'\"': 'PUNCT'}, {\"'\": 'PUNCT'}, {'value': 'NOUN'}, {\"'\": 'PUNCT'}, {',': 'PUNCT'}, {'\"': 'PUNCT'}, {',': 'PUNCT'}, {'\"': 'PUNCT'}, {\"'\": 'PUNCT'}, {'of': 'ADP'}, {\"'\": 'NUM'}, {',': 'PUNCT'}, {'\"': 'PUNCT'}, {',': 'PUNCT'}, {'\"': 'PUNCT'}, {\"'\": 'PUNCT'}, {'Sepal': 'NOUN'}, {\"'\": 'PUNCT'}, {',': 'PUNCT'}, {'\"': 'PUNCT'}, {',': 'PUNCT'}, {'\"': 'PUNCT'}, {\"'\": 'PUNCT'}, {'Widths': 'NOUN'}, {\"'\": 'PUNCT'}, {']': 'PUNCT'}, {'\"': 'PUNCT'}, {']': 'PUNCT'}, {'[': 'X'}, {'\"': 'PUNCT'}, {'[': 'X'}, {\"'\": 'X'}, {'How': 'SCONJ'}, {\"'\": 'NUM'}, {',': 'PUNCT'}, {'\"': 'PUNCT'}, {',': 'PUNCT'}, {'\"': 'PUNCT'}, {\"'\": 'PUNCT'}, {'many': 'ADJ'}, {\"'\": 'PUNCT'}, {',': 'PUNCT'}, {'\"': 'PUNCT'}, {',': 'PUNCT'}, {'\"': 'PUNCT'}, {\"'\": 'PUNCT'}, {'data': 'NOUN'}, {\"'\": 'PUNCT'}, {',': 'PUNCT'}, {'\"': 'PUNCT'}, {',': 'PUNCT'}, {'\"': 'PUNCT'}, {\"'\": 'PUNCT'}, {'points': 'NOUN'}, {\"'\": 'PUNCT'}, {',': 'PUNCT'}, {'\"': 'PUNCT'}, {',': 'PUNCT'}, {'\"': 'PUNCT'}, {\"'\": 'PUNCT'}, {'are': 'AUX'}, {\"'\": 'NUM'}, {',': 'PUNCT'}, {'\"': 'PUNCT'}, {',': 'PUNCT'}, {'\"': 'PUNCT'}, {\"'\": 'PUNCT'}, {'there': 'PRON'}, {\"'\": 'NUM'}, {',': 'PUNCT'}, {'\"': 'PUNCT'}, {',': 'PUNCT'}, {'\"': 'PUNCT'}, {\"'\": 'PUNCT'}, {'?': 'PUNCT'}, {\"'\": 'PUNCT'}, {']': 'PUNCT'}, {'\"': 'PUNCT'}, {']': 'PUNCT'}, {'[': 'X'}, {'\"': 'PUNCT'}, {'[': 'X'}, {\"'\": 'X'}, {'Number': 'NOUN'}, {\"'\": 'PUNCT'}, {',': 'PUNCT'}, {'\"': 'PUNCT'}, {',': 'PUNCT'}, {'\"': 'PUNCT'}, {\"'\": 'PUNCT'}, {'of': 'ADP'}, {\"'\": 'NUM'}, {',': 'PUNCT'}, {'\"': 'PUNCT'}, {',': 'PUNCT'}, {'\"': 'PUNCT'}, {\"'\": 'PUNCT'}, {'unique': 'ADJ'}, {\"'\": 'PUNCT'}, {',': 'PUNCT'}, {'\"': 'PUNCT'}, {',': 'PUNCT'}, {'\"': 'PUNCT'}, {\"'\": 'PUNCT'}, {'flower': 'NOUN'}, {\"'\": 'PUNCT'}, {',': 'PUNCT'}, {'\"': 'PUNCT'}, {',': 'PUNCT'}, {'\"': 'PUNCT'}, {\"'\": 'PUNCT'}, {'types': 'NOUN'}, {\"'\": 'PUNCT'}, {']': 'PUNCT'}, {'\"': 'PUNCT'}, {']': 'PUNCT'}, {'[': 'X'}, {'\"': 'PUNCT'}, {'[': 'X'}, {\"'\": 'PUNCT'}, {'Lowest': 'ADJ'}, {\"'\": 'NUM'}, {',': 'PUNCT'}, {'\"': 'PUNCT'}, {',': 'PUNCT'}, {'\"': 'PUNCT'}, {\"'\": 'PUNCT'}, {'Sepal': 'NOUN'}, {\"'\": 'PUNCT'}, {',': 'PUNCT'}, {'\"': 'PUNCT'}, {',': 'PUNCT'}, {'\"': 'PUNCT'}, {\"'\": 'PUNCT'}, {'Length': 'PROPN'}, {\"'\": 'PUNCT'}, {',': 'PUNCT'}, {'\"': 'PUNCT'}, {',': 'PUNCT'}, {'\"': 'PUNCT'}, {\"'\": 'PUNCT'}, {'recorded': 'VERB'}, {\"'\": 'PUNCT'}, {']': 'PUNCT'}, {'\"': 'PUNCT'}, {']': 'PUNCT'}, {'[': 'X'}, {'\"': 'PUNCT'}, {'[': 'X'}, {\"'\": 'X'}, {'Highest': 'ADJ'}, {\"'\": 'NUM'}, {',': 'PUNCT'}, {'\"': 'PUNCT'}, {',': 'PUNCT'}, {'\"': 'PUNCT'}, {\"'\": 'PUNCT'}, {'value': 'NOUN'}, {\"'\": 'PUNCT'}, {',': 'PUNCT'}, {'\"': 'PUNCT'}, {',': 'PUNCT'}, {'\"': 'PUNCT'}, {\"'\": 'PUNCT'}, {'of': 'ADP'}, {\"'\": 'NUM'}, {',': 'PUNCT'}, {'\"': 'PUNCT'}, {',': 'PUNCT'}, {'\"': 'PUNCT'}, {\"'\": 'PUNCT'}, {'Petal': 'ADJ'}, {\"'\": 'PUNCT'}, {',': 'PUNCT'}, {'\"': 'PUNCT'}, {',': 'PUNCT'}, {'\"': 'PUNCT'}, {\"'\": 'PUNCT'}, {'Width': 'PROPN'}, {\"'\": 'PUNCT'}, {',': 'PUNCT'}, {'\"': 'PUNCT'}, {',': 'PUNCT'}, {'\"': 'PUNCT'}, {\"'\": 'PUNCT'}, {'found': 'VERB'}, {\"'\": 'PUNCT'}, {']': 'PUNCT'}, {'\"': 'PUNCT'}, {']': 'PUNCT'}, {'[': 'X'}, {'\"': 'PUNCT'}, {'[': 'X'}, {\"'\": 'PUNCT'}, {'Organize': 'VERB'}, {\"'\": 'PUNCT'}, {',': 'PUNCT'}, {'\"': 'PUNCT'}, {',': 'PUNCT'}, {'\"': 'PUNCT'}, {\"'\": 'PUNCT'}, {'data': 'NOUN'}, {\"'\": 'PUNCT'}, {',': 'PUNCT'}, {'\"': 'PUNCT'}, {',': 'PUNCT'}, {'\"': 'PUNCT'}, {\"'\": 'PUNCT'}, {'by': 'ADP'}, {\"'\": 'NUM'}, {',': 'PUNCT'}, {'\"': 'PUNCT'}, {',': 'PUNCT'}, {'\"': 'PUNCT'}, {\"'\": 'PUNCT'}, {'Species': 'NOUN'}, {\"'\": 'PUNCT'}, {',': 'PUNCT'}, {'\"': 'PUNCT'}, {',': 'PUNCT'}, {'\"': 'PUNCT'}, {\"'\": 'PUNCT'}, {'in': 'ADP'}, {\"'\": 'NUM'}, {',': 'PUNCT'}, {'\"': 'PUNCT'}, {',': 'PUNCT'}, {'\"': 'PUNCT'}, {\"'\": 'PUNCT'}, {'descending': 'VERB'}, {\"'\": 'PUNCT'}, {',': 'PUNCT'}, {'\"': 'PUNCT'}, {',': 'PUNCT'}, {'\"': 'PUNCT'}, {\"'\": 'PUNCT'}, {'order': 'NOUN'}, {\"'\": 'PUNCT'}, {']': 'PUNCT'}, {'\"': 'PUNCT'}, {']': 'PUNCT'}, {'[': 'X'}, {'\"': 'PUNCT'}, {'[': 'X'}, {\"'\": 'X'}, {'Rank': 'PROPN'}, {\"'\": 'PUNCT'}, {',': 'PUNCT'}, {'\"': 'PUNCT'}, {',': 'PUNCT'}, {'\"': 'PUNCT'}, {\"'\": 'PUNCT'}, {'Sepal': 'NOUN'}, {\"'\": 'PUNCT'}, {',': 'PUNCT'}, {'\"': 'PUNCT'}, {',': 'PUNCT'}, {'\"': 'PUNCT'}, {\"'\": 'PUNCT'}, {'Lengths': 'NOUN'}, {\"'\": 'NUM'}, {',': 'PUNCT'}, {'\"': 'PUNCT'}, {',': 'PUNCT'}, {'\"': 'PUNCT'}, {\"'\": 'PUNCT'}, {'from': 'ADP'}, {\"'\": 'NUM'}, {',': 'PUNCT'}, {'\"': 'PUNCT'}, {',': 'PUNCT'}, {'\"': 'PUNCT'}, {\"'\": 'PUNCT'}, {'low': 'ADJ'}, {\"'\": 'PUNCT'}, {',': 'PUNCT'}, {'\"': 'PUNCT'}, {',': 'PUNCT'}, {'\"': 'PUNCT'}, {\"'\": 'PUNCT'}, {'to': 'PART'}, {\"'\": 'NUM'}, {',': 'PUNCT'}, {'\"': 'PUNCT'}, {',': 'PUNCT'}, {'\"': 'PUNCT'}, {\"'\": 'PUNCT'}, {'high': 'ADJ'}, {\"'\": 'PUNCT'}, {']': 'PUNCT'}, {'\"': 'PUNCT'}, {']': 'PUNCT'}, {'[': 'X'}, {'\"': 'PUNCT'}, {'[': 'X'}, {\"'\": 'X'}, {'Filter': 'PROPN'}, {\"'\": 'NUM'}, {',': 'PUNCT'}, {'\"': 'PUNCT'}, {',': 'PUNCT'}, {'\"': 'PUNCT'}, {\"'\": 'PUNCT'}, {'for': 'ADP'}, {\"'\": 'NUM'}, {',': 'PUNCT'}, {'\"': 'PUNCT'}, {',': 'PUNCT'}, {'\"': 'PUNCT'}, {\"'\": 'PUNCT'}, {'Sepal': 'NOUN'}, {\"'\": 'PUNCT'}, {',': 'PUNCT'}, {'\"': 'PUNCT'}, {',': 'PUNCT'}, {'\"': 'PUNCT'}, {\"'\": 'PUNCT'}, {'Length': 'PROPN'}, {\"'\": 'PUNCT'}, {',': 'PUNCT'}, {'\"': 'PUNCT'}, {',': 'PUNCT'}, {'\"': 'PUNCT'}, {\"'\": 'PUNCT'}, {'greater': 'ADJ'}, {\"'\": 'PUNCT'}, {',': 'PUNCT'}, {'\"': 'PUNCT'}, {',': 'PUNCT'}, {'\"': 'PUNCT'}, {\"'\": 'PUNCT'}, {'than': 'ADP'}, {\"'\": 'PROPN'}, {',': 'PUNCT'}, {'\"': 'PUNCT'}, {',': 'PUNCT'}, {'\"': 'PUNCT'}, {\"'\": 'PUNCT'}, {'or': 'CCONJ'}, {\"'\": 'NUM'}, {',': 'PUNCT'}, {'\"': 'PUNCT'}, {',': 'PUNCT'}, {'\"': 'PUNCT'}, {\"'\": 'PUNCT'}, {'equal': 'ADJ'}, {\"'\": 'PUNCT'}, {',': 'PUNCT'}, {'\"': 'PUNCT'}, {',': 'PUNCT'}, {'\"': 'PUNCT'}, {\"'\": 'PUNCT'}, {'to': 'PART'}, {\"'\": 'NUM'}, {',': 'PUNCT'}, {'\"': 'PUNCT'}, {',': 'PUNCT'}, {'\"': 'PUNCT'}, {\"'\": 'PROPN'}, {'4': 'NUM'}, {\"'\": 'NUM'}, {',': 'PUNCT'}, {'\"': 'PUNCT'}, {',': 'PUNCT'}, {'\"': 'PUNCT'}, {\"'\": 'PUNCT'}, {'.': 'PUNCT'}, {\"'\": 'PUNCT'}, {',': 'PUNCT'}, {'\"': 'PUNCT'}, {',': 'PUNCT'}, {'\"': 'PUNCT'}, {\"'\": 'PROPN'}, {'5': 'NUM'}, {\"'\": 'NUM'}, {']': 'PUNCT'}, {'\"': 'PUNCT'}, {']': 'PUNCT'}, {'[': 'X'}, {'\"': 'PUNCT'}, {'[': 'X'}, {\"'\": 'PUNCT'}, {'Select': 'ADJ'}, {\"'\": 'PUNCT'}, {',': 'PUNCT'}, {'\"': 'PUNCT'}, {',': 'PUNCT'}, {'\"': 'PUNCT'}, {\"'\": 'PUNCT'}, {'entries': 'NOUN'}, {\"'\": 'PUNCT'}, {',': 'PUNCT'}, {'\"': 'PUNCT'}, {',': 'PUNCT'}, {'\"': 'PUNCT'}, {\"'\": 'PUNCT'}, {'with': 'ADP'}, {\"'\": 'PROPN'}, {',': 'PUNCT'}, {'\"': 'PUNCT'}, {',': 'PUNCT'}, {'\"': 'PUNCT'}, {\"'\": 'PUNCT'}, {'Petal': 'ADJ'}, {\"'\": 'PUNCT'}, {',': 'PUNCT'}, {'\"': 'PUNCT'}, {',': 'PUNCT'}, {'\"': 'PUNCT'}, {\"'\": 'PUNCT'}, {'Width': 'PROPN'}, {\"'\": 'PUNCT'}, {',': 'PUNCT'}, {'\"': 'PUNCT'}, {',': 'PUNCT'}, {'\"': 'PUNCT'}, {\"'\": 'PUNCT'}, {'less': 'ADJ'}, {\"'\": 'PUNCT'}, {',': 'PUNCT'}, {'\"': 'PUNCT'}, {',': 'PUNCT'}, {'\"': 'PUNCT'}, {\"'\": 'PUNCT'}, {'than': 'ADP'}, {\"'\": 'PROPN'}, {',': 'PUNCT'}, {'\"': 'PUNCT'}, {',': 'PUNCT'}, {'\"': 'PUNCT'}, {\"'\": 'PROPN'}, {'2': 'X'}, {\"'\": 'NUM'}, {',': 'PUNCT'}, {'\"': 'PUNCT'}, {',': 'PUNCT'}, {'\"': 'PUNCT'}, {\"'\": 'PUNCT'}, {'.': 'PUNCT'}, {\"'\": 'PUNCT'}, {',': 'PUNCT'}, {'\"': 'PUNCT'}, {',': 'PUNCT'}, {'\"': 'PUNCT'}, {\"'\": 'PUNCT'}, {'0': 'X'}, {\"'\": 'PUNCT'}, {']': 'PUNCT'}, {'\"': 'PUNCT'}, {']': 'PUNCT'}, {'[': 'X'}, {'\"': 'PUNCT'}, {'[': 'X'}, {\"'\": 'PUNCT'}, {'Show': 'VERB'}, {\"'\": 'PUNCT'}, {',': 'PUNCT'}, {'\"': 'PUNCT'}, {',': 'PUNCT'}, {'\"': 'PUNCT'}, {\"'\": 'PUNCT'}, {'entries': 'NOUN'}, {\"'\": 'PUNCT'}, {',': 'PUNCT'}, {'\"': 'PUNCT'}, {',': 'PUNCT'}, {'\"': 'PUNCT'}, {\"'\": 'PUNCT'}, {'where': 'SCONJ'}, {\"'\": 'NUM'}, {',': 'PUNCT'}, {'\"': 'PUNCT'}, {',': 'PUNCT'}, {'\"': 'PUNCT'}, {\"'\": 'PUNCT'}, {'Sepal': 'NOUN'}, {\"'\": 'PUNCT'}, {',': 'PUNCT'}, {'\"': 'PUNCT'}, {',': 'PUNCT'}, {'\"': 'PUNCT'}, {\"'\": 'PUNCT'}, {'Width': 'PROPN'}, {\"'\": 'PUNCT'}, {',': 'PUNCT'}, {'\"': 'PUNCT'}, {',': 'PUNCT'}, {'\"': 'PUNCT'}, {\"'\": 'PUNCT'}, {'is': 'AUX'}, {\"'\": 'PUNCT'}, {',': 'PUNCT'}, {'\"': 'PUNCT'}, {',': 'PUNCT'}, {'\"': 'PUNCT'}, {\"'\": 'PUNCT'}, {'not': 'PART'}, {\"'\": 'NUM'}, {',': 'PUNCT'}, {'\"': 'PUNCT'}, {',': 'PUNCT'}, {'\"': 'PUNCT'}, {\"'\": 'PROPN'}, {'3': 'NUM'}, {\"'\": 'NUM'}, {',': 'PUNCT'}, {'\"': 'PUNCT'}, {',': 'PUNCT'}, {'\"': 'PUNCT'}, {\"'\": 'PUNCT'}, {'.': 'PUNCT'}, {\"'\": 'PUNCT'}, {',': 'PUNCT'}, {'\"': 'PUNCT'}, {',': 'PUNCT'}, {'\"': 'PUNCT'}, {\"'\": 'PUNCT'}, {'0': 'X'}, {\"'\": 'PUNCT'}, {']': 'PUNCT'}, {'\"': 'PUNCT'}, {']': 'PUNCT'}, {'[': 'X'}, {'\"': 'PUNCT'}, {'[': 'X'}, {\"'\": 'PUNCT'}, {'List': 'NOUN'}, {\"'\": 'PUNCT'}, {',': 'PUNCT'}, {'\"': 'PUNCT'}, {',': 'PUNCT'}, {'\"': 'PUNCT'}, {\"'\": 'PUNCT'}, {'all': 'PRON'}, {\"'\": 'PROPN'}, {',': 'PUNCT'}, {'\"': 'PUNCT'}, {',': 'PUNCT'}, {'\"': 'PUNCT'}, {\"'\": 'PUNCT'}, {'where': 'SCONJ'}, {\"'\": 'NUM'}, {',': 'PUNCT'}, {'\"': 'PUNCT'}, {',': 'PUNCT'}, {'\"': 'PUNCT'}, {\"'\": 'PUNCT'}, {'the': 'DET'}, {\"'\": 'PUNCT'}, {',': 'PUNCT'}, {'\"': 'PUNCT'}, {',': 'PUNCT'}, {'\"': 'PUNCT'}, {\"'\": 'PUNCT'}, {'Species': 'NOUN'}, {\"'\": 'PUNCT'}, {',': 'PUNCT'}, {'\"': 'PUNCT'}, {',': 'PUNCT'}, {'\"': 'PUNCT'}, {\"'\": 'PUNCT'}, {'name': 'NOUN'}, {\"'\": 'PUNCT'}, {',': 'PUNCT'}, {'\"': 'PUNCT'}, {',': 'PUNCT'}, {'\"': 'PUNCT'}, {\"'\": 'PUNCT'}, {'ends': 'VERB'}, {\"'\": 'PUNCT'}, {',': 'PUNCT'}, {'\"': 'PUNCT'}, {',': 'PUNCT'}, {'\"': 'PUNCT'}, {\"'\": 'PUNCT'}, {'with': 'ADP'}, {\"'\": 'PROPN'}, {',': 'PUNCT'}, {'\"': 'PUNCT'}, {',': 'PUNCT'}, {\"'\": 'PUNCT'}, {'\"': 'PUNCT'}, {'\\\\': 'PROPN'}, {\"'\": 'PUNCT'}, {'\"': 'PUNCT'}, {',': 'PUNCT'}, {\"'\": 'PUNCT'}, {',': 'PUNCT'}, {'\"': 'PUNCT'}, {\"'\": 'PUNCT'}, {'ica': 'VERB'}, {\"'\": 'PUNCT'}, {',': 'PUNCT'}, {'\"': 'PUNCT'}, {',': 'PUNCT'}, {\"'\": 'PUNCT'}, {'\"': 'PUNCT'}, {'\\\\': 'PROPN'}, {\"'\": 'PUNCT'}, {'\"': 'PUNCT'}, {']': 'PUNCT'}, {\"'\": 'X'}, {']': 'PUNCT'}, {'[': 'X'}, {'\"': 'PUNCT'}, {'[': 'X'}, {\"'\": 'X'}, {'Entries': 'NOUN'}, {\"'\": 'PUNCT'}, {',': 'PUNCT'}, {'\"': 'PUNCT'}, {',': 'PUNCT'}, {'\"': 'PUNCT'}, {\"'\": 'PUNCT'}, {'with': 'ADP'}, {\"'\": 'PROPN'}, {',': 'PUNCT'}, {'\"': 'PUNCT'}, {',': 'PUNCT'}, {'\"': 'PUNCT'}, {\"'\": 'PUNCT'}, {'a': 'PRON'}, {\"'\": 'PUNCT'}, {',': 'PUNCT'}, {'\"': 'PUNCT'}, {',': 'PUNCT'}, {'\"': 'PUNCT'}, {\"'\": 'PUNCT'}, {'Sepal': 'NOUN'}, {\"'\": 'PUNCT'}, {',': 'PUNCT'}, {'\"': 'PUNCT'}, {',': 'PUNCT'}, {'\"': 'PUNCT'}, {\"'\": 'PUNCT'}, {'Length': 'PROPN'}, {\"'\": 'PUNCT'}, {',': 'PUNCT'}, {'\"': 'PUNCT'}, {',': 'PUNCT'}, {'\"': 'PUNCT'}, {\"'\": 'PUNCT'}, {'of': 'ADP'}, {\"'\": 'NUM'}, {',': 'PUNCT'}, {'\"': 'PUNCT'}, {',': 'PUNCT'}, {'\"': 'PUNCT'}, {\"'\": 'PUNCT'}, {'exactly': 'ADV'}, {\"'\": 'NUM'}, {',': 'PUNCT'}, {'\"': 'PUNCT'}, {',': 'PUNCT'}, {'\"': 'PUNCT'}, {\"'\": 'PROPN'}, {'5': 'NUM'}, {\"'\": 'NUM'}, {',': 'PUNCT'}, {'\"': 'PUNCT'}, {',': 'PUNCT'}, {'\"': 'PUNCT'}, {\"'\": 'PUNCT'}, {'.': 'PUNCT'}, {\"'\": 'PUNCT'}, {',': 'PUNCT'}, {'\"': 'PUNCT'}, {',': 'PUNCT'}, {'\"': 'PUNCT'}, {\"'\": 'PUNCT'}, {'0': 'X'}, {\"'\": 'PUNCT'}, {']': 'PUNCT'}, {'\"': 'PUNCT'}, {']': 'PUNCT'}, {'[': 'X'}, {'\"': 'PUNCT'}, {'[': 'X'}, {\"'\": 'PUNCT'}, {'Display': 'NOUN'}, {\"'\": 'PUNCT'}, {',': 'PUNCT'}, {'\"': 'PUNCT'}, {',': 'PUNCT'}, {'\"': 'PUNCT'}, {\"'\": 'PUNCT'}, {'the': 'DET'}, {\"'\": 'PUNCT'}, {',': 'PUNCT'}, {'\"': 'PUNCT'}, {',': 'PUNCT'}, {'\"': 'PUNCT'}, {\"'\": 'PUNCT'}, {'top': 'VERB'}, {\"'\": 'PUNCT'}, {',': 'PUNCT'}, {'\"': 'PUNCT'}, {',': 'PUNCT'}, {'\"': 'PUNCT'}, {\"'\": 'PROPN'}, {'5': 'NUM'}, {\"'\": 'NUM'}, {',': 'PUNCT'}, {'\"': 'PUNCT'}, {',': 'PUNCT'}, {'\"': 'PUNCT'}, {\"'\": 'PUNCT'}, {'Species': 'NOUN'}, {\"'\": 'PUNCT'}, {',': 'PUNCT'}, {'\"': 'PUNCT'}, {',': 'PUNCT'}, {'\"': 'PUNCT'}, {\"'\": 'PUNCT'}, {'by': 'ADP'}, {\"'\": 'NUM'}, {',': 'PUNCT'}, {'\"': 'PUNCT'}, {',': 'PUNCT'}, {'\"': 'PUNCT'}, {\"'\": 'PUNCT'}, {'Sepal': 'NOUN'}, {\"'\": 'PUNCT'}, {',': 'PUNCT'}, {'\"': 'PUNCT'}, {',': 'PUNCT'}, {'\"': 'PUNCT'}, {\"'\": 'PUNCT'}, {'Width': 'PROPN'}, {\"'\": 'PUNCT'}, {']': 'PUNCT'}, {'\"': 'PUNCT'}, {']': 'PUNCT'}, {'[': 'X'}, {'\"': 'PUNCT'}, {'[': 'X'}, {\"'\": 'VERB'}, {'Find': 'VERB'}, {\"'\": 'PUNCT'}, {',': 'PUNCT'}, {'\"': 'PUNCT'}, {',': 'PUNCT'}, {'\"': 'PUNCT'}, {\"'\": 'PUNCT'}, {'the': 'DET'}, {\"'\": 'PUNCT'}, {',': 'PUNCT'}, {'\"': 'PUNCT'}, {',': 'PUNCT'}, {'\"': 'PUNCT'}, {\"'\": 'PROPN'}, {'3': 'NUM'}, {\"'\": 'NUM'}, {',': 'PUNCT'}, {'\"': 'PUNCT'}, {',': 'PUNCT'}, {'\"': 'PUNCT'}, {\"'\": 'PUNCT'}, {'smallest': 'ADJ'}, {\"'\": 'PUNCT'}, {',': 'PUNCT'}, {'\"': 'PUNCT'}, {',': 'PUNCT'}, {'\"': 'PUNCT'}, {\"'\": 'PUNCT'}, {'Petal': 'ADJ'}, {\"'\": 'PUNCT'}, {',': 'PUNCT'}, {'\"': 'PUNCT'}, {',': 'PUNCT'}, {'\"': 'PUNCT'}, {\"'\": 'PUNCT'}, {'Lengths': 'NOUN'}, {\"'\": 'NUM'}, {']': 'PUNCT'}, {'\"': 'PUNCT'}, {']': 'PUNCT'}, {'[': 'X'}, {'\"': 'PUNCT'}, {'[': 'X'}, {\"'\": 'X'}, {'Count': 'PROPN'}, {\"'\": 'PUNCT'}, {',': 'PUNCT'}, {'\"': 'PUNCT'}, {',': 'PUNCT'}, {'\"': 'PUNCT'}, {\"'\": 'PUNCT'}, {'occurrences': 'NOUN'}, {\"'\": 'PUNCT'}, {',': 'PUNCT'}, {'\"': 'PUNCT'}, {',': 'PUNCT'}, {'\"': 'PUNCT'}, {\"'\": 'PUNCT'}, {'where': 'SCONJ'}, {\"'\": 'NUM'}, {',': 'PUNCT'}, {'\"': 'PUNCT'}, {',': 'PUNCT'}, {'\"': 'PUNCT'}, {\"'\": 'PUNCT'}, {'Petal': 'ADJ'}, {\"'\": 'PUNCT'}, {',': 'PUNCT'}, {'\"': 'PUNCT'}, {',': 'PUNCT'}, {'\"': 'PUNCT'}, {\"'\": 'PUNCT'}, {'Length': 'PROPN'}, {\"'\": 'PUNCT'}, {',': 'PUNCT'}, {'\"': 'PUNCT'}, {',': 'PUNCT'}, {'\"': 'PUNCT'}, {\"'\": 'PUNCT'}, {'is': 'AUX'}, {\"'\": 'PUNCT'}, {',': 'PUNCT'}, {'\"': 'PUNCT'}, {',': 'PUNCT'}, {'\"': 'PUNCT'}, {\"'\": 'PUNCT'}, {'between': 'ADP'}, {\"'\": 'PUNCT'}, {',': 'PUNCT'}, {'\"': 'PUNCT'}, {',': 'PUNCT'}, {'\"': 'PUNCT'}, {\"'\": 'PROPN'}, {'4': 'NUM'}, {\"'\": 'NUM'}, {',': 'PUNCT'}, {'\"': 'PUNCT'}, {',': 'PUNCT'}, {'\"': 'PUNCT'}, {\"'\": 'PUNCT'}, {'and': 'CCONJ'}, {\"'\": 'NUM'}, {',': 'PUNCT'}, {'\"': 'PUNCT'}, {',': 'PUNCT'}, {'\"': 'PUNCT'}, {\"'\": 'PROPN'}, {'5': 'NUM'}, {\"'\": 'NUM'}, {']': 'PUNCT'}, {'\"': 'PUNCT'}, {']': 'PUNCT'}, {'[': 'X'}, {'\"': 'PUNCT'}, {'[': 'X'}, {\"'\": 'PUNCT'}, {'Aggregate': 'VERB'}, {\"'\": 'PUNCT'}, {',': 'PUNCT'}, {'\"': 'PUNCT'}, {',': 'PUNCT'}, {'\"': 'PUNCT'}, {\"'\": 'PUNCT'}, {'data': 'NOUN'}, {\"'\": 'PUNCT'}, {',': 'PUNCT'}, {'\"': 'PUNCT'}, {',': 'PUNCT'}, {'\"': 'PUNCT'}, {\"'\": 'PUNCT'}, {'by': 'ADP'}, {\"'\": 'NUM'}, {',': 'PUNCT'}, {'\"': 'PUNCT'}, {',': 'PUNCT'}, {'\"': 'PUNCT'}, {\"'\": 'PUNCT'}, {'the': 'DET'}, {\"'\": 'PUNCT'}, {',': 'PUNCT'}, {'\"': 'PUNCT'}, {',': 'PUNCT'}, {'\"': 'PUNCT'}, {\"'\": 'PUNCT'}, {'month': 'NOUN'}, {\"'\": 'PUNCT'}, {',': 'PUNCT'}, {'\"': 'PUNCT'}, {',': 'PUNCT'}, {'\"': 'PUNCT'}, {\"'\": 'PUNCT'}, {'of': 'ADP'}, {\"'\": 'NUM'}, {',': 'PUNCT'}, {'\"': 'PUNCT'}, {',': 'PUNCT'}, {'\"': 'PUNCT'}, {\"'\": 'PUNCT'}, {'observation': 'NOUN'}, {\"'\": 'PUNCT'}, {',': 'PUNCT'}, {'\"': 'PUNCT'}, {',': 'PUNCT'}, {'\"': 'PUNCT'}, {\"'\": 'PUNCT'}, {'(': 'PUNCT'}, {\"'\": 'PUNCT'}, {',': 'PUNCT'}, {'\"': 'PUNCT'}, {',': 'PUNCT'}, {'\"': 'PUNCT'}, {\"'\": 'PUNCT'}, {'assuming': 'VERB'}, {\"'\": 'PUNCT'}, {',': 'PUNCT'}, {'\"': 'PUNCT'}, {',': 'PUNCT'}, {'\"': 'PUNCT'}, {\"'\": 'PUNCT'}, {'there': 'PRON'}, {\"'\": 'NUM'}, {',': 'PUNCT'}, {'\"': 'PUNCT'}, {',': 'PUNCT'}, {\"'\": 'PUNCT'}, {'\"': 'PUNCT'}, {'\\\\': 'PROPN'}, {\"'\": 'PUNCT'}, {'\"': 'PUNCT'}, {',': 'PUNCT'}, {\"'\": 'PUNCT'}, {',': 'PUNCT'}, {'\"': 'PUNCT'}, {\"'s\": 'AUX'}, {\"'\": 'NUM'}, {',': 'PUNCT'}, {'\"': 'PUNCT'}, {',': 'PUNCT'}, {'\"': 'PUNCT'}, {\"'\": 'PUNCT'}, {'a': 'PRON'}, {\"'\": 'PUNCT'}, {',': 'PUNCT'}, {'\"': 'PUNCT'}, {',': 'PUNCT'}, {'\"': 'PUNCT'}, {\"'\": 'PUNCT'}, {'Date': 'VERB'}, {\"'\": 'PUNCT'}, {',': 'PUNCT'}, {'\"': 'PUNCT'}, {',': 'PUNCT'}, {'\"': 'PUNCT'}, {\"'\": 'PUNCT'}, {'field': 'NOUN'}, {\"'\": 'PUNCT'}, {',': 'PUNCT'}, {'\"': 'PUNCT'}, {',': 'PUNCT'}, {'\"': 'PUNCT'}, {\"'\": 'PUNCT'}, {')': 'PUNCT'}, {\"'\": 'PUNCT'}, {']': 'PUNCT'}, {'\"': 'PUNCT'}, {']': 'PUNCT'}, {'[': 'X'}, {'\"': 'PUNCT'}, {'[': 'X'}, {\"'\": 'X'}, {'Filter': 'PROPN'}, {\"'\": 'NUM'}, {',': 'PUNCT'}, {'\"': 'PUNCT'}, {',': 'PUNCT'}, {'\"': 'PUNCT'}, {\"'\": 'PUNCT'}, {'records': 'NOUN'}, {\"'\": 'PART'}, {',': 'PUNCT'}, {'\"': 'PUNCT'}, {',': 'PUNCT'}, {'\"': 'PUNCT'}, {\"'\": 'PUNCT'}, {'from': 'ADP'}, {\"'\": 'NUM'}, {',': 'PUNCT'}, {'\"': 'PUNCT'}, {',': 'PUNCT'}, {'\"': 'PUNCT'}, {\"'\": 'PUNCT'}, {'last': 'ADJ'}, {\"'\": 'PUNCT'}, {',': 'PUNCT'}, {'\"': 'PUNCT'}, {',': 'PUNCT'}, {'\"': 'PUNCT'}, {\"'\": 'PUNCT'}, {'year': 'NOUN'}, {\"'\": 'PUNCT'}, {',': 'PUNCT'}, {'\"': 'PUNCT'}, {',': 'PUNCT'}, {'\"': 'PUNCT'}, {\"'\": 'PUNCT'}, {'(': 'PUNCT'}, {\"'\": 'PUNCT'}, {',': 'PUNCT'}, {'\"': 'PUNCT'}, {',': 'PUNCT'}, {'\"': 'PUNCT'}, {\"'\": 'PUNCT'}, {'assuming': 'VERB'}, {\"'\": 'PUNCT'}, {',': 'PUNCT'}, {'\"': 'PUNCT'}, {',': 'PUNCT'}, {'\"': 'PUNCT'}, {\"'\": 'PUNCT'}, {'there': 'PRON'}, {\"'\": 'NUM'}, {',': 'PUNCT'}, {'\"': 'PUNCT'}, {',': 'PUNCT'}, {\"'\": 'PUNCT'}, {'\"': 'PUNCT'}, {'\\\\': 'PROPN'}, {\"'\": 'PUNCT'}, {'\"': 'PUNCT'}, {',': 'PUNCT'}, {\"'\": 'PUNCT'}, {',': 'PUNCT'}, {'\"': 'PUNCT'}, {\"'s\": 'AUX'}, {\"'\": 'NUM'}, {',': 'PUNCT'}, {'\"': 'PUNCT'}, {',': 'PUNCT'}, {'\"': 'PUNCT'}, {\"'\": 'PUNCT'}, {'a': 'PRON'}, {\"'\": 'PUNCT'}, {',': 'PUNCT'}, {'\"': 'PUNCT'}, {',': 'PUNCT'}, {'\"': 'PUNCT'}, {\"'\": 'PUNCT'}, {'Date': 'VERB'}, {\"'\": 'PUNCT'}, {',': 'PUNCT'}, {'\"': 'PUNCT'}, {',': 'PUNCT'}, {'\"': 'PUNCT'}, {\"'\": 'PUNCT'}, {'field': 'NOUN'}, {\"'\": 'PUNCT'}, {',': 'PUNCT'}, {'\"': 'PUNCT'}, {',': 'PUNCT'}, {'\"': 'PUNCT'}, {\"'\": 'PUNCT'}, {')': 'PUNCT'}, {\"'\": 'PUNCT'}, {']': 'PUNCT'}, {'\"': 'PUNCT'}, {']': 'PUNCT'}, {'[': 'X'}, {'\"': 'PUNCT'}, {'[': 'X'}, {\"'\": 'PUNCT'}, {'Show': 'VERB'}, {\"'\": 'PUNCT'}, {',': 'PUNCT'}, {'\"': 'PUNCT'}, {',': 'PUNCT'}, {'\"': 'PUNCT'}, {\"'\": 'PUNCT'}, {'only': 'ADV'}, {\"'\": 'NUM'}, {',': 'PUNCT'}, {'\"': 'PUNCT'}, {',': 'PUNCT'}, {'\"': 'PUNCT'}, {\"'\": 'PUNCT'}, {'the': 'PRON'}, {\"'\": 'PUNCT'}, {',': 'PUNCT'}, {'\"': 'PUNCT'}, {',': 'PUNCT'}, {'\"': 'PUNCT'}, {\"'\": 'PUNCT'}, {'data': 'NOUN'}, {\"'\": 'PUNCT'}, {',': 'PUNCT'}, {'\"': 'PUNCT'}, {',': 'PUNCT'}, {'\"': 'PUNCT'}, {\"'\": 'PUNCT'}, {'starting': 'VERB'}, {\"'\": 'PUNCT'}, {',': 'PUNCT'}, {'\"': 'PUNCT'}, {',': 'PUNCT'}, {'\"': 'PUNCT'}, {\"'\": 'PUNCT'}, {'from': 'ADP'}, {\"'\": 'NUM'}, {',': 'PUNCT'}, {'\"': 'PUNCT'}, {',': 'PUNCT'}, {'\"': 'PUNCT'}, {\"'\": 'PUNCT'}, {'January': 'PROPN'}, {\"'\": 'NUM'}, {',': 'PUNCT'}, {'\"': 'PUNCT'}, {',': 'PUNCT'}, {'\"': 'PUNCT'}, {\"'\": 'PUNCT'}, {'this': 'PRON'}, {\"'\": 'PUNCT'}, {',': 'PUNCT'}, {'\"': 'PUNCT'}, {',': 'PUNCT'}, {'\"': 'PUNCT'}, {\"'\": 'PUNCT'}, {'year': 'NOUN'}, {\"'\": 'PUNCT'}, {']': 'PUNCT'}, {'\"': 'PUNCT'}, {']': 'PUNCT'}, {'[': 'X'}, {'\"': 'PUNCT'}, {'[': 'X'}, {\"'\": 'VERB'}, {'Find': 'VERB'}, {\"'\": 'PUNCT'}, {',': 'PUNCT'}, {'\"': 'PUNCT'}, {',': 'PUNCT'}, {'\"': 'PUNCT'}, {\"'\": 'PUNCT'}, {'the': 'DET'}, {\"'\": 'PUNCT'}, {',': 'PUNCT'}, {'\"': 'PUNCT'}, {',': 'PUNCT'}, {'\"': 'PUNCT'}, {\"'\": 'PUNCT'}, {'average': 'ADJ'}, {\"'\": 'PUNCT'}, {',': 'PUNCT'}, {'\"': 'PUNCT'}, {',': 'PUNCT'}, {'\"': 'PUNCT'}, {\"'\": 'PUNCT'}, {'Sepal': 'NOUN'}, {\"'\": 'PUNCT'}, {',': 'PUNCT'}, {'\"': 'PUNCT'}, {',': 'PUNCT'}, {'\"': 'PUNCT'}, {\"'\": 'PUNCT'}, {'Length': 'PROPN'}, {\"'\": 'PUNCT'}, {',': 'PUNCT'}, {'\"': 'PUNCT'}, {',': 'PUNCT'}, {'\"': 'PUNCT'}, {\"'\": 'PUNCT'}, {'for': 'ADP'}, {\"'\": 'NUM'}, {',': 'PUNCT'}, {'\"': 'PUNCT'}, {',': 'PUNCT'}, {'\"': 'PUNCT'}, {\"'\": 'PUNCT'}, {'each': 'PRON'}, {\"'\": 'PUNCT'}, {',': 'PUNCT'}, {'\"': 'PUNCT'}, {',': 'PUNCT'}, {'\"': 'PUNCT'}, {\"'\": 'PUNCT'}, {'Species': 'NOUN'}, {\"'\": 'PUNCT'}, {',': 'PUNCT'}, {'\"': 'PUNCT'}, {',': 'PUNCT'}, {'\"': 'PUNCT'}, {\"'\": 'PUNCT'}, {',': 'PUNCT'}, {\"'\": 'PUNCT'}, {',': 'PUNCT'}, {'\"': 'PUNCT'}, {',': 'PUNCT'}, {'\"': 'PUNCT'}, {\"'\": 'PUNCT'}, {'sorted': 'VERB'}, {\"'\": 'PUNCT'}, {',': 'PUNCT'}, {'\"': 'PUNCT'}, {',': 'PUNCT'}, {'\"': 'PUNCT'}, {\"'\": 'PUNCT'}, {'alphabetically': 'ADV'}, {\"'\": 'VERB'}, {']': 'X'}, {'\"': 'PUNCT'}, {']': 'PUNCT'}, {'[': 'X'}, {'\"': 'PUNCT'}, {'[': 'X'}, {\"'\": 'X'}, {'Count': 'PROPN'}, {\"'\": 'PUNCT'}, {',': 'PUNCT'}, {'\"': 'PUNCT'}, {',': 'PUNCT'}, {'\"': 'PUNCT'}, {\"'\": 'PUNCT'}, {'how': 'SCONJ'}, {\"'\": 'PROPN'}, {',': 'PUNCT'}, {'\"': 'PUNCT'}, {',': 'PUNCT'}, {'\"': 'PUNCT'}, {\"'\": 'PUNCT'}, {'many': 'ADJ'}, {\"'\": 'PUNCT'}, {',': 'PUNCT'}, {'\"': 'PUNCT'}, {',': 'PUNCT'}, {'\"': 'PUNCT'}, {\"'\": 'PUNCT'}, {'Species': 'NOUN'}, {\"'\": 'PUNCT'}, {',': 'PUNCT'}, {'\"': 'PUNCT'}, {',': 'PUNCT'}, {'\"': 'PUNCT'}, {\"'\": 'PUNCT'}, {'start': 'VERB'}, {\"'\": 'PUNCT'}, {',': 'PUNCT'}, {'\"': 'PUNCT'}, {',': 'PUNCT'}, {'\"': 'PUNCT'}, {\"'\": 'PUNCT'}, {'with': 'ADP'}, {\"'\": 'PROPN'}, {',': 'PUNCT'}, {'\"': 'PUNCT'}, {',': 'PUNCT'}, {\"'\": 'PUNCT'}, {'\"': 'PUNCT'}, {'\\\\': 'PROPN'}, {\"'\": 'PUNCT'}, {'\"': 'PUNCT'}, {',': 'PUNCT'}, {\"'\": 'PUNCT'}, {',': 'PUNCT'}, {'\"': 'PUNCT'}, {\"'\": 'PUNCT'}, {'C': 'NOUN'}, {\"'\": 'NUM'}, {',': 'PUNCT'}, {'\"': 'PUNCT'}, {',': 'PUNCT'}, {\"'\": 'PUNCT'}, {'\"': 'PUNCT'}, {'\\\\': 'PROPN'}, {\"'\": 'PUNCT'}, {'\"': 'PUNCT'}, {']': 'PUNCT'}, {\"'\": 'X'}, {']': 'PUNCT'}, {'[': 'X'}, {'\"': 'PUNCT'}, {'[': 'X'}, {\"'\": 'X'}, {'Entries': 'NOUN'}, {\"'\": 'PUNCT'}, {',': 'PUNCT'}, {'\"': 'PUNCT'}, {',': 'PUNCT'}, {'\"': 'PUNCT'}, {\"'\": 'PUNCT'}, {'with': 'ADP'}, {\"'\": 'PROPN'}, {',': 'PUNCT'}, {'\"': 'PUNCT'}, {',': 'PUNCT'}, {'\"': 'PUNCT'}, {\"'\": 'PUNCT'}, {'Petal': 'ADJ'}, {\"'\": 'PUNCT'}, {',': 'PUNCT'}, {'\"': 'PUNCT'}, {',': 'PUNCT'}, {'\"': 'PUNCT'}, {\"'\": 'PUNCT'}, {'Length': 'PROPN'}, {\"'\": 'PUNCT'}, {',': 'PUNCT'}, {'\"': 'PUNCT'}, {',': 'PUNCT'}, {'\"': 'PUNCT'}, {\"'\": 'PUNCT'}, {'and': 'CCONJ'}, {\"'\": 'NUM'}, {',': 'PUNCT'}, {'\"': 'PUNCT'}, {',': 'PUNCT'}, {'\"': 'PUNCT'}, {\"'\": 'PUNCT'}, {'Sepal': 'NOUN'}, {\"'\": 'PUNCT'}, {',': 'PUNCT'}, {'\"': 'PUNCT'}, {',': 'PUNCT'}, {'\"': 'PUNCT'}, {\"'\": 'PUNCT'}, {'Length': 'PROPN'}, {\"'\": 'PUNCT'}, {',': 'PUNCT'}, {'\"': 'PUNCT'}, {',': 'PUNCT'}, {'\"': 'PUNCT'}, {\"'\": 'PUNCT'}, {'both': 'PRON'}, {\"'\": 'PROPN'}, {',': 'PUNCT'}, {'\"': 'PUNCT'}, {',': 'PUNCT'}, {'\"': 'PUNCT'}, {\"'\": 'PUNCT'}, {'above': 'ADP'}, {\"'\": 'PUNCT'}, {',': 'PUNCT'}, {'\"': 'PUNCT'}, {',': 'PUNCT'}, {'\"': 'PUNCT'}, {\"'\": 'PROPN'}, {'4': 'NUM'}, {\"'\": 'NUM'}, {',': 'PUNCT'}, {'\"': 'PUNCT'}, {',': 'PUNCT'}, {'\"': 'PUNCT'}, {\"'\": 'PUNCT'}, {'.': 'PUNCT'}, {\"'\": 'PUNCT'}, {',': 'PUNCT'}, {'\"': 'PUNCT'}, {',': 'PUNCT'}, {'\"': 'PUNCT'}, {\"'\": 'PUNCT'}, {'0': 'X'}, {\"'\": 'PUNCT'}, {']': 'PUNCT'}, {'\"': 'PUNCT'}, {']': 'PUNCT'}, {'[': 'X'}, {'\"': 'PUNCT'}, {'[': 'X'}, {\"'\": 'PUNCT'}, {'List': 'NOUN'}, {\"'\": 'PUNCT'}, {',': 'PUNCT'}, {'\"': 'PUNCT'}, {',': 'PUNCT'}, {'\"': 'PUNCT'}, {\"'\": 'PUNCT'}, {'Species': 'NOUN'}, {\"'\": 'PUNCT'}, {',': 'PUNCT'}, {'\"': 'PUNCT'}, {',': 'PUNCT'}, {'\"': 'PUNCT'}, {\"'\": 'PUNCT'}, {'with': 'ADP'}, {\"'\": 'PROPN'}, {',': 'PUNCT'}, {'\"': 'PUNCT'}, {',': 'PUNCT'}, {'\"': 'PUNCT'}, {\"'\": 'PUNCT'}, {'Petal': 'ADJ'}, {\"'\": 'PUNCT'}, {',': 'PUNCT'}, {'\"': 'PUNCT'}, {',': 'PUNCT'}, {'\"': 'PUNCT'}, {\"'\": 'PUNCT'}, {'Width': 'PROPN'}, {\"'\": 'PUNCT'}, {',': 'PUNCT'}, {'\"': 'PUNCT'}, {',': 'PUNCT'}, {'\"': 'PUNCT'}, {\"'\": 'PUNCT'}, {'in': 'ADP'}, {\"'\": 'NUM'}, {',': 'PUNCT'}, {'\"': 'PUNCT'}, {',': 'PUNCT'}, {'\"': 'PUNCT'}, {\"'\": 'PUNCT'}, {'the': 'DET'}, {\"'\": 'PUNCT'}, {',': 'PUNCT'}, {'\"': 'PUNCT'}, {',': 'PUNCT'}, {'\"': 'PUNCT'}, {\"'\": 'PUNCT'}, {'top': 'VERB'}, {\"'\": 'PUNCT'}, {',': 'PUNCT'}, {'\"': 'PUNCT'}, {',': 'PUNCT'}, {'\"': 'PUNCT'}, {\"'\": 'PROPN'}, {'10': 'NUM'}, {\"'\": 'NUM'}, {',': 'PUNCT'}, {'\"': 'PUNCT'}, {',': 'PUNCT'}, {'\"': 'PUNCT'}, {\"'\": 'PUNCT'}, {'%': 'INTJ'}, {\"'\": 'PUNCT'}, {']': 'X'}, {'\"': 'PUNCT'}, {']': 'PUNCT'}, {'[': 'X'}, {'\"': 'PUNCT'}, {'[': 'X'}, {\"'\": 'PROPN'}, {'Total': 'ADJ'}, {\"'\": 'PUNCT'}, {',': 'PUNCT'}, {'\"': 'PUNCT'}, {',': 'PUNCT'}, {'\"': 'PUNCT'}, {\"'\": 'PUNCT'}, {'Sepal': 'NOUN'}, {\"'\": 'PUNCT'}, {',': 'PUNCT'}, {'\"': 'PUNCT'}, {',': 'PUNCT'}, {'\"': 'PUNCT'}, {\"'\": 'PUNCT'}, {'Length': 'PROPN'}, {\"'\": 'PUNCT'}, {',': 'PUNCT'}, {'\"': 'PUNCT'}, {',': 'PUNCT'}, {'\"': 'PUNCT'}, {\"'\": 'PUNCT'}, {'for': 'ADP'}, {\"'\": 'NUM'}, {',': 'PUNCT'}, {'\"': 'PUNCT'}, {',': 'PUNCT'}, {'\"': 'PUNCT'}, {\"'\": 'PUNCT'}, {'all': 'PRON'}, {\"'\": 'PROPN'}, {',': 'PUNCT'}, {'\"': 'PUNCT'}, {',': 'PUNCT'}, {'\"': 'PUNCT'}, {\"'\": 'PUNCT'}, {'Iris': 'PROPN'}, {\"'\": 'NUM'}, {',': 'PUNCT'}, {'\"': 'PUNCT'}, {',': 'PUNCT'}, {'\"': 'PUNCT'}, {\"'\": 'PUNCT'}, {'flowers': 'NOUN'}, {\"'\": 'VERB'}, {']': 'PUNCT'}, {'\"': 'PUNCT'}, {']': 'PUNCT'}, {'[': 'X'}, {'\"': 'PUNCT'}, {'[': 'X'}, {\"'\": 'PUNCT'}, {'Average': 'ADJ'}, {\"'\": 'PUNCT'}, {',': 'PUNCT'}, {'\"': 'PUNCT'}, {',': 'PUNCT'}, {'\"': 'PUNCT'}, {\"'\": 'PUNCT'}, {'Petal': 'ADJ'}, {\"'\": 'PUNCT'}, {',': 'PUNCT'}, {'\"': 'PUNCT'}, {',': 'PUNCT'}, {'\"': 'PUNCT'}, {\"'\": 'PUNCT'}, {'Width': 'PROPN'}, {\"'\": 'PUNCT'}, {',': 'PUNCT'}, {'\"': 'PUNCT'}, {',': 'PUNCT'}, {'\"': 'PUNCT'}, {\"'\": 'PUNCT'}, {'across': 'ADP'}, {\"'\": 'PUNCT'}, {',': 'PUNCT'}, {'\"': 'PUNCT'}, {',': 'PUNCT'}, {'\"': 'PUNCT'}, {\"'\": 'PUNCT'}, {'all': 'PRON'}, {\"'\": 'PROPN'}, {',': 'PUNCT'}, {'\"': 'PUNCT'}, {',': 'PUNCT'}, {'\"': 'PUNCT'}, {\"'\": 'PUNCT'}, {'species': 'NOUN'}, {\"'\": 'PUNCT'}, {']': 'PUNCT'}, {'\"': 'PUNCT'}, {']': 'PUNCT'}, {'[': 'X'}, {'\"': 'PUNCT'}, {'[': 'X'}, {\"'\": 'PUNCT'}, {'Median': 'PROPN'}, {\"'\": 'PROPN'}, {',': 'PUNCT'}, {'\"': 'PUNCT'}, {',': 'PUNCT'}, {'\"': 'PUNCT'}, {\"'\": 'PUNCT'}, {'Sepal': 'NOUN'}, {\"'\": 'PUNCT'}, {',': 'PUNCT'}, {'\"': 'PUNCT'}, {',': 'PUNCT'}, {'\"': 'PUNCT'}, {\"'\": 'PUNCT'}, {'Width': 'PROPN'}, {\"'\": 'PUNCT'}, {',': 'PUNCT'}, {'\"': 'PUNCT'}, {',': 'PUNCT'}, {'\"': 'PUNCT'}, {\"'\": 'PUNCT'}, {'for': 'ADP'}, {\"'\": 'NUM'}, {',': 'PUNCT'}, {'\"': 'PUNCT'}, {',': 'PUNCT'}, {'\"': 'PUNCT'}, {\"'\": 'PUNCT'}, {'Iris': 'PROPN'}, {\"'\": 'NUM'}, {',': 'PUNCT'}, {'\"': 'PUNCT'}, {',': 'PUNCT'}, {'\"': 'PUNCT'}, {\"'\": 'PUNCT'}, {'setosa': 'VERB'}, {\"'\": 'PUNCT'}, {']': 'PUNCT'}, {'\"': 'PUNCT'}, {']': 'PUNCT'}, {'[': 'X'}, {'\"': 'PUNCT'}, {'[': 'X'}, {\"'\": 'X'}, {'Count': 'PROPN'}, {\"'\": 'PUNCT'}, {',': 'PUNCT'}, {'\"': 'PUNCT'}, {',': 'PUNCT'}, {'\"': 'PUNCT'}, {\"'\": 'PUNCT'}, {'of': 'ADP'}, {\"'\": 'NUM'}, {',': 'PUNCT'}, {'\"': 'PUNCT'}, {',': 'PUNCT'}, {'\"': 'PUNCT'}, {\"'\": 'PUNCT'}, {'Iris': 'PROPN'}, {\"'\": 'NUM'}, {',': 'PUNCT'}, {'\"': 'PUNCT'}, {',': 'PUNCT'}, {'\"': 'PUNCT'}, {\"'\": 'PUNCT'}, {'versicolor': 'NOUN'}, {\"'\": 'PUNCT'}, {',': 'PUNCT'}, {'\"': 'PUNCT'}, {',': 'PUNCT'}, {'\"': 'PUNCT'}, {\"'\": 'PUNCT'}, {'flowers': 'NOUN'}, {\"'\": 'VERB'}, {']': 'PUNCT'}, {'\"': 'PUNCT'}, {']': 'PUNCT'}, {'[': 'X'}, {'\"': 'PUNCT'}, {'[': 'X'}, {\"'\": 'X'}, {'Distinct': 'ADJ'}, {\"'\": 'PUNCT'}, {',': 'PUNCT'}, {'\"': 'PUNCT'}, {',': 'PUNCT'}, {'\"': 'PUNCT'}, {\"'\": 'PUNCT'}, {'count': 'VERB'}, {\"'\": 'PUNCT'}, {',': 'PUNCT'}, {'\"': 'PUNCT'}, {',': 'PUNCT'}, {'\"': 'PUNCT'}, {\"'\": 'PUNCT'}, {'of': 'ADP'}, {\"'\": 'NUM'}, {',': 'PUNCT'}, {'\"': 'PUNCT'}, {',': 'PUNCT'}, {'\"': 'PUNCT'}, {\"'\": 'PUNCT'}, {'species': 'NOUN'}, {\"'\": 'PUNCT'}, {',': 'PUNCT'}, {'\"': 'PUNCT'}, {',': 'PUNCT'}, {'\"': 'PUNCT'}, {\"'\": 'PUNCT'}, {'with': 'ADP'}, {\"'\": 'PROPN'}, {',': 'PUNCT'}, {'\"': 'PUNCT'}, {',': 'PUNCT'}, {'\"': 'PUNCT'}, {\"'\": 'PUNCT'}, {'Sepal': 'NOUN'}, {\"'\": 'PUNCT'}, {',': 'PUNCT'}, {'\"': 'PUNCT'}, {',': 'PUNCT'}, {'\"': 'PUNCT'}, {\"'\": 'PUNCT'}, {'Length': 'PROPN'}, {\"'\": 'PUNCT'}, {',': 'PUNCT'}, {'\"': 'PUNCT'}, {',': 'PUNCT'}, {'\"': 'PUNCT'}, {\"'\": 'PUNCT'}, {'over': 'ADP'}, {\"'\": 'PUNCT'}, {',': 'PUNCT'}, {'\"': 'PUNCT'}, {',': 'PUNCT'}, {'\"': 'PUNCT'}, {\"'\": 'PROPN'}, {'5': 'NUM'}, {\"'\": 'NUM'}, {',': 'PUNCT'}, {'\"': 'PUNCT'}, {',': 'PUNCT'}, {'\"': 'PUNCT'}, {\"'\": 'PUNCT'}, {'.': 'PUNCT'}, {\"'\": 'PUNCT'}, {',': 'PUNCT'}, {'\"': 'PUNCT'}, {',': 'PUNCT'}, {'\"': 'PUNCT'}, {\"'\": 'PUNCT'}, {'0': 'X'}, {\"'\": 'PUNCT'}, {']': 'PUNCT'}, {'\"': 'PUNCT'}, {']': 'PUNCT'}, {'[': 'X'}, {'\"': 'PUNCT'}, {'[': 'X'}, {\"'\": 'PUNCT'}, {'Minimum': 'ADJ'}, {\"'\": 'PUNCT'}, {',': 'PUNCT'}, {'\"': 'PUNCT'}, {',': 'PUNCT'}, {'\"': 'PUNCT'}, {\"'\": 'PUNCT'}, {'Petal': 'ADJ'}, {\"'\": 'PUNCT'}, {',': 'PUNCT'}, {'\"': 'PUNCT'}, {',': 'PUNCT'}, {'\"': 'PUNCT'}, {\"'\": 'PUNCT'}, {'Length': 'PROPN'}, {\"'\": 'PUNCT'}, {',': 'PUNCT'}, {'\"': 'PUNCT'}, {',': 'PUNCT'}, {'\"': 'PUNCT'}, {\"'\": 'PUNCT'}, {'for': 'ADP'}, {\"'\": 'NUM'}, {',': 'PUNCT'}, {'\"': 'PUNCT'}, {',': 'PUNCT'}, {'\"': 'PUNCT'}, {\"'\": 'PUNCT'}, {'Iris': 'PROPN'}, {\"'\": 'NUM'}, {',': 'PUNCT'}, {'\"': 'PUNCT'}, {',': 'PUNCT'}, {'\"': 'PUNCT'}, {\"'\": 'PUNCT'}, {'virginica': 'X'}, {\"'\": 'PUNCT'}, {']': 'PUNCT'}, {'\"': 'PUNCT'}, {']': 'PUNCT'}, {'[': 'X'}, {'\"': 'PUNCT'}, {'[': 'X'}, {\"'\": 'PUNCT'}, {'Maximum': 'ADJ'}, {\"'\": 'NUM'}, {',': 'PUNCT'}, {'\"': 'PUNCT'}, {',': 'PUNCT'}, {'\"': 'PUNCT'}, {\"'\": 'PUNCT'}, {'Sepal': 'NOUN'}, {\"'\": 'PUNCT'}, {',': 'PUNCT'}, {'\"': 'PUNCT'}, {',': 'PUNCT'}, {'\"': 'PUNCT'}, {\"'\": 'PUNCT'}, {'Width': 'PROPN'}, {\"'\": 'PUNCT'}, {',': 'PUNCT'}, {'\"': 'PUNCT'}, {',': 'PUNCT'}, {'\"': 'PUNCT'}, {\"'\": 'PUNCT'}, {'across': 'ADP'}, {\"'\": 'PUNCT'}, {',': 'PUNCT'}, {'\"': 'PUNCT'}, {',': 'PUNCT'}, {'\"': 'PUNCT'}, {\"'\": 'PUNCT'}, {'Iris': 'PROPN'}, {\"'\": 'NUM'}, {',': 'PUNCT'}, {'\"': 'PUNCT'}, {',': 'PUNCT'}, {'\"': 'PUNCT'}, {\"'\": 'PUNCT'}, {'setosa': 'VERB'}, {\"'\": 'PUNCT'}, {']': 'PUNCT'}, {'\"': 'PUNCT'}, {']': 'PUNCT'}, {'[': 'X'}, {'\"': 'PUNCT'}, {'[': 'X'}, {\"'\": 'PROPN'}, {'Total': 'ADJ'}, {\"'\": 'PUNCT'}, {',': 'PUNCT'}, {'\"': 'PUNCT'}, {',': 'PUNCT'}, {'\"': 'PUNCT'}, {\"'\": 'PUNCT'}, {'number': 'NOUN'}, {\"'\": 'PUNCT'}, {',': 'PUNCT'}, {'\"': 'PUNCT'}, {',': 'PUNCT'}, {'\"': 'PUNCT'}, {\"'\": 'PUNCT'}, {'of': 'ADP'}, {\"'\": 'NUM'}, {',': 'PUNCT'}, {'\"': 'PUNCT'}, {',': 'PUNCT'}, {'\"': 'PUNCT'}, {\"'\": 'PUNCT'}, {'records': 'NOUN'}, {\"'\": 'PART'}, {',': 'PUNCT'}, {'\"': 'PUNCT'}, {',': 'PUNCT'}, {'\"': 'PUNCT'}, {\"'\": 'PUNCT'}, {'grouped': 'VERB'}, {\"'\": 'PUNCT'}, {',': 'PUNCT'}, {'\"': 'PUNCT'}, {',': 'PUNCT'}, {'\"': 'PUNCT'}, {\"'\": 'PUNCT'}, {'by': 'ADP'}, {\"'\": 'NUM'}, {',': 'PUNCT'}, {'\"': 'PUNCT'}, {',': 'PUNCT'}, {'\"': 'PUNCT'}, {\"'\": 'PUNCT'}, {'Species': 'PROPN'}, {\"'\": 'PUNCT'}, {']': 'PUNCT'}, {'\"': 'PUNCT'}, {']': 'PUNCT'}, {'[': 'X'}, {'\"': 'PUNCT'}, {'[': 'X'}, {\"'\": 'X'}, {'Filter': 'PROPN'}, {\"'\": 'NUM'}, {',': 'PUNCT'}, {'\"': 'PUNCT'}, {',': 'PUNCT'}, {'\"': 'PUNCT'}, {\"'\": 'PUNCT'}, {'to': 'PART'}, {\"'\": 'NUM'}, {',': 'PUNCT'}, {'\"': 'PUNCT'}, {',': 'PUNCT'}, {'\"': 'PUNCT'}, {\"'\": 'PUNCT'}, {'show': 'VERB'}, {\"'\": 'PUNCT'}, {',': 'PUNCT'}, {'\"': 'PUNCT'}, {',': 'PUNCT'}, {'\"': 'PUNCT'}, {\"'\": 'PUNCT'}, {'only': 'ADV'}, {\"'\": 'NUM'}, {',': 'PUNCT'}, {'\"': 'PUNCT'}, {',': 'PUNCT'}, {'\"': 'PUNCT'}, {\"'\": 'PUNCT'}, {'Iris': 'PROPN'}, {\"'\": 'NUM'}, {',': 'PUNCT'}, {'\"': 'PUNCT'}, {',': 'PUNCT'}, {'\"': 'PUNCT'}, {\"'\": 'PUNCT'}, {'versicolor': 'NOUN'}, {\"'\": 'PUNCT'}, {',': 'PUNCT'}, {'\"': 'PUNCT'}, {',': 'PUNCT'}, {'\"': 'PUNCT'}, {\"'\": 'PUNCT'}, {'with': 'ADP'}, {\"'\": 'PROPN'}, {',': 'PUNCT'}, {'\"': 'PUNCT'}, {',': 'PUNCT'}, {'\"': 'PUNCT'}, {\"'\": 'PUNCT'}, {'Sepal': 'NOUN'}, {\"'\": 'PUNCT'}, {',': 'PUNCT'}, {'\"': 'PUNCT'}, {',': 'PUNCT'}, {'\"': 'PUNCT'}, {\"'\": 'PUNCT'}, {'Width': 'PROPN'}, {\"'\": 'PUNCT'}, {',': 'PUNCT'}, {'\"': 'PUNCT'}, {',': 'PUNCT'}, {'\"': 'PUNCT'}, {\"'\": 'PUNCT'}, {'at': 'ADP'}, {\"'\": 'NUM'}, {',': 'PUNCT'}, {'\"': 'PUNCT'}, {',': 'PUNCT'}, {'\"': 'PUNCT'}, {\"'\": 'PUNCT'}, {'least': 'ADJ'}, {\"'\": 'PUNCT'}, {',': 'PUNCT'}, {'\"': 'PUNCT'}, {',': 'PUNCT'}, {'\"': 'PUNCT'}, {\"'\": 'PROPN'}, {'3': 'NUM'}, {\"'\": 'NUM'}, {',': 'PUNCT'}, {'\"': 'PUNCT'}, {',': 'PUNCT'}, {'\"': 'PUNCT'}, {\"'\": 'PUNCT'}, {'.': 'PUNCT'}, {\"'\": 'PUNCT'}, {',': 'PUNCT'}, {'\"': 'PUNCT'}, {',': 'PUNCT'}, {'\"': 'PUNCT'}, {\"'\": 'PUNCT'}, {'0': 'X'}, {\"'\": 'PUNCT'}, {']': 'PUNCT'}, {'\"': 'PUNCT'}, {']': 'PUNCT'}, {'[': 'X'}, {'\"': 'PUNCT'}, {'[': 'X'}, {\"'\": 'PUNCT'}, {'Show': 'VERB'}, {\"'\": 'PUNCT'}, {',': 'PUNCT'}, {'\"': 'PUNCT'}, {',': 'PUNCT'}, {'\"': 'PUNCT'}, {\"'\": 'PUNCT'}, {'top': 'VERB'}, {\"'\": 'PUNCT'}, {',': 'PUNCT'}, {'\"': 'PUNCT'}, {',': 'PUNCT'}, {'\"': 'PUNCT'}, {\"'\": 'PROPN'}, {'5': 'NUM'}, {\"'\": 'NUM'}, {',': 'PUNCT'}, {'\"': 'PUNCT'}, {',': 'PUNCT'}, {'\"': 'PUNCT'}, {\"'\": 'PUNCT'}, {'Sepal': 'NOUN'}, {\"'\": 'PUNCT'}, {',': 'PUNCT'}, {'\"': 'PUNCT'}, {',': 'PUNCT'}, {'\"': 'PUNCT'}, {\"'\": 'PUNCT'}, {'Lengths': 'NOUN'}, {\"'\": 'NUM'}, {',': 'PUNCT'}, {'\"': 'PUNCT'}, {',': 'PUNCT'}, {'\"': 'PUNCT'}, {\"'\": 'PUNCT'}, {'within': 'ADP'}, {\"'\": 'PUNCT'}, {',': 'PUNCT'}, {'\"': 'PUNCT'}, {',': 'PUNCT'}, {'\"': 'PUNCT'}, {\"'\": 'PUNCT'}, {'Iris': 'PROPN'}, {\"'\": 'NUM'}, {',': 'PUNCT'}, {'\"': 'PUNCT'}, {',': 'PUNCT'}, {'\"': 'PUNCT'}, {\"'\": 'PUNCT'}, {'virginica': 'X'}, {\"'\": 'PUNCT'}, {',': 'PUNCT'}, {'\"': 'PUNCT'}, {',': 'PUNCT'}, {'\"': 'PUNCT'}, {\"'\": 'PUNCT'}, {'only': 'ADV'}, {\"'\": 'PUNCT'}, {']': 'X'}, {'\"': 'PUNCT'}, {']': 'PUNCT'}, {'[': 'X'}, {'\"': 'PUNCT'}, {'[': 'X'}, {\"'\": 'X'}, {'Iris': 'PROPN'}, {\"'\": 'PROPN'}, {',': 'PUNCT'}, {'\"': 'PUNCT'}, {',': 'PUNCT'}, {'\"': 'PUNCT'}, {\"'\": 'PUNCT'}, {'flowers': 'NOUN'}, {\"'\": 'PART'}, {',': 'PUNCT'}, {'\"': 'PUNCT'}, {',': 'PUNCT'}, {'\"': 'PUNCT'}, {\"'\": 'PUNCT'}, {'with': 'ADP'}, {\"'\": 'PROPN'}, {',': 'PUNCT'}, {'\"': 'PUNCT'}, {',': 'PUNCT'}, {'\"': 'PUNCT'}, {\"'\": 'PUNCT'}, {'Petal': 'ADJ'}, {\"'\": 'PUNCT'}, {',': 'PUNCT'}, {'\"': 'PUNCT'}, {',': 'PUNCT'}, {'\"': 'PUNCT'}, {\"'\": 'PUNCT'}, {'Width': 'PROPN'}, {\"'\": 'PUNCT'}, {',': 'PUNCT'}, {'\"': 'PUNCT'}, {',': 'PUNCT'}, {'\"': 'PUNCT'}, {\"'\": 'PUNCT'}, {'in': 'ADP'}, {\"'\": 'NUM'}, {',': 'PUNCT'}, {'\"': 'PUNCT'}, {',': 'PUNCT'}, {'\"': 'PUNCT'}, {\"'\": 'PUNCT'}, {'the': 'PRON'}, {\"'\": 'PUNCT'}, {',': 'PUNCT'}, {'\"': 'PUNCT'}, {',': 'PUNCT'}, {'\"': 'PUNCT'}, {\"'\": 'PUNCT'}, {'bottom': 'ADJ'}, {\"'\": 'PUNCT'}, {',': 'PUNCT'}, {'\"': 'PUNCT'}, {',': 'PUNCT'}, {'\"': 'PUNCT'}, {\"'\": 'PUNCT'}, {'10th': 'X'}, {\"'\": 'PUNCT'}, {',': 'PUNCT'}, {'\"': 'PUNCT'}, {',': 'PUNCT'}, {'\"': 'PUNCT'}, {\"'\": 'PUNCT'}, {'percentile': 'VERB'}, {\"'\": 'PUNCT'}, {']': 'PUNCT'}, {'\"': 'PUNCT'}, {']': 'PUNCT'}, {'[': 'X'}, {'\"': 'PUNCT'}, {'[': 'X'}, {\"'\": 'PUNCT'}, {'Average': 'ADJ'}, {\"'\": 'PUNCT'}, {',': 'PUNCT'}, {'\"': 'PUNCT'}, {',': 'PUNCT'}, {'\"': 'PUNCT'}, {\"'\": 'PUNCT'}, {'Sepal': 'NOUN'}, {\"'\": 'PUNCT'}, {',': 'PUNCT'}, {'\"': 'PUNCT'}, {',': 'PUNCT'}, {'\"': 'PUNCT'}, {\"'\": 'PUNCT'}, {'Length': 'PROPN'}, {\"'\": 'PUNCT'}, {',': 'PUNCT'}, {'\"': 'PUNCT'}, {',': 'PUNCT'}, {'\"': 'PUNCT'}, {\"'\": 'PUNCT'}, {'for': 'ADP'}, {\"'\": 'NUM'}, {',': 'PUNCT'}, {'\"': 'PUNCT'}, {',': 'PUNCT'}, {'\"': 'PUNCT'}, {\"'\": 'PUNCT'}, {'each': 'PRON'}, {\"'\": 'PUNCT'}, {',': 'PUNCT'}, {'\"': 'PUNCT'}, {',': 'PUNCT'}, {'\"': 'PUNCT'}, {\"'\": 'PUNCT'}, {'species': 'NOUN'}, {\"'\": 'PUNCT'}, {']': 'PUNCT'}, {'\"': 'PUNCT'}, {']': 'PUNCT'}, {'[': 'X'}, {'\"': 'PUNCT'}, {'[': 'X'}, {\"'\": 'X'}, {'Entries': 'NOUN'}, {\"'\": 'PUNCT'}, {',': 'PUNCT'}, {'\"': 'PUNCT'}, {',': 'PUNCT'}, {'\"': 'PUNCT'}, {\"'\": 'PUNCT'}, {'with': 'ADP'}, {\"'\": 'PROPN'}, {',': 'PUNCT'}, {'\"': 'PUNCT'}, {',': 'PUNCT'}, {'\"': 'PUNCT'}, {\"'\": 'PUNCT'}, {'Petal': 'ADJ'}, {\"'\": 'PUNCT'}, {',': 'PUNCT'}, {'\"': 'PUNCT'}, {',': 'PUNCT'}, {'\"': 'PUNCT'}, {\"'\": 'PUNCT'}, {'Length': 'PROPN'}, {\"'\": 'PUNCT'}, {',': 'PUNCT'}, {'\"': 'PUNCT'}, {',': 'PUNCT'}, {'\"': 'PUNCT'}, {\"'\": 'PUNCT'}, {'between': 'ADP'}, {\"'\": 'PUNCT'}, {',': 'PUNCT'}, {'\"': 'PUNCT'}, {',': 'PUNCT'}, {'\"': 'PUNCT'}, {\"'\": 'PROPN'}, {'4': 'NUM'}, {\"'\": 'NUM'}, {',': 'PUNCT'}, {'\"': 'PUNCT'}, {',': 'PUNCT'}, {'\"': 'PUNCT'}, {\"'\": 'PUNCT'}, {'.': 'PUNCT'}, {\"'\": 'PUNCT'}, {',': 'PUNCT'}, {'\"': 'PUNCT'}, {',': 'PUNCT'}, {'\"': 'PUNCT'}, {\"'\": 'PUNCT'}, {'0': 'X'}, {\"'\": 'PUNCT'}, {',': 'PUNCT'}, {'\"': 'PUNCT'}, {',': 'PUNCT'}, {'\"': 'PUNCT'}, {\"'\": 'PUNCT'}, {'and': 'CCONJ'}, {\"'\": 'NUM'}, {',': 'PUNCT'}, {'\"': 'PUNCT'}, {',': 'PUNCT'}, {'\"': 'PUNCT'}, {\"'\": 'PROPN'}, {'5': 'NUM'}, {\"'\": 'NUM'}, {',': 'PUNCT'}, {'\"': 'PUNCT'}, {',': 'PUNCT'}, {'\"': 'PUNCT'}, {\"'\": 'PUNCT'}, {'.': 'PUNCT'}, {\"'\": 'PUNCT'}, {',': 'PUNCT'}, {'\"': 'PUNCT'}, {',': 'PUNCT'}, {'\"': 'PUNCT'}, {\"'\": 'PUNCT'}, {'0': 'X'}, {\"'\": 'PUNCT'}, {',': 'PUNCT'}, {'\"': 'PUNCT'}, {',': 'PUNCT'}, {'\"': 'PUNCT'}, {\"'\": 'PUNCT'}, {'for': 'ADP'}, {\"'\": 'NUM'}, {',': 'PUNCT'}, {'\"': 'PUNCT'}, {',': 'PUNCT'}, {'\"': 'PUNCT'}, {\"'\": 'PUNCT'}, {'Iris': 'PROPN'}, {\"'\": 'NUM'}, {',': 'PUNCT'}, {'\"': 'PUNCT'}, {',': 'PUNCT'}, {'\"': 'PUNCT'}, {\"'\": 'PUNCT'}, {'setosa': 'VERB'}, {\"'\": 'PUNCT'}, {']': 'PUNCT'}, {'\"': 'PUNCT'}, {']': 'PUNCT'}, {'[': 'X'}, {'\"': 'PUNCT'}, {'[': 'X'}, {\"'\": 'X'}, {'Count': 'PROPN'}, {\"'\": 'PUNCT'}, {',': 'PUNCT'}, {'\"': 'PUNCT'}, {',': 'PUNCT'}, {'\"': 'PUNCT'}, {\"'\": 'PUNCT'}, {'Iris': 'PROPN'}, {\"'\": 'NUM'}, {',': 'PUNCT'}, {'\"': 'PUNCT'}, {',': 'PUNCT'}, {'\"': 'PUNCT'}, {\"'\": 'PUNCT'}, {'flowers': 'NOUN'}, {\"'\": 'PART'}, {',': 'PUNCT'}, {'\"': 'PUNCT'}, {',': 'PUNCT'}, {'\"': 'PUNCT'}, {\"'\": 'PUNCT'}, {'where': 'SCONJ'}, {\"'\": 'NUM'}, {',': 'PUNCT'}, {'\"': 'PUNCT'}, {',': 'PUNCT'}, {'\"': 'PUNCT'}, {\"'\": 'PUNCT'}, {'the': 'DET'}, {\"'\": 'PUNCT'}, {',': 'PUNCT'}, {'\"': 'PUNCT'}, {',': 'PUNCT'}, {'\"': 'PUNCT'}, {\"'\": 'PUNCT'}, {'Species': 'NOUN'}, {\"'\": 'PUNCT'}, {',': 'PUNCT'}, {'\"': 'PUNCT'}, {',': 'PUNCT'}, {'\"': 'PUNCT'}, {\"'\": 'PUNCT'}, {'name': 'NOUN'}, {\"'\": 'PUNCT'}, {',': 'PUNCT'}, {'\"': 'PUNCT'}, {',': 'PUNCT'}, {'\"': 'PUNCT'}, {\"'\": 'PUNCT'}, {'contains': 'VERB'}, {\"'\": 'PUNCT'}, {',': 'PUNCT'}, {'\"': 'PUNCT'}, {',': 'PUNCT'}, {\"'\": 'PUNCT'}, {'\"': 'PUNCT'}, {'\\\\': 'PROPN'}, {\"'\": 'PUNCT'}, {'\"': 'PUNCT'}, {',': 'PUNCT'}, {\"'\": 'PUNCT'}, {',': 'PUNCT'}, {'\"': 'PUNCT'}, {\"'\": 'PUNCT'}, {'color': 'NOUN'}, {\"'\": 'PUNCT'}, {',': 'PUNCT'}, {'\"': 'PUNCT'}, {',': 'PUNCT'}, {\"'\": 'PUNCT'}, {'\"': 'PUNCT'}, {'\\\\': 'PROPN'}, {\"'\": 'PUNCT'}, {'\"': 'PUNCT'}, {']': 'PUNCT'}, {\"'\": 'X'}, {']': 'PUNCT'}, {'[': 'X'}, {'\"': 'PUNCT'}, {'[': 'X'}, {\"'\": 'PUNCT'}, {'List': 'NOUN'}, {\"'\": 'PUNCT'}, {',': 'PUNCT'}, {'\"': 'PUNCT'}, {',': 'PUNCT'}, {'\"': 'PUNCT'}, {\"'\": 'PUNCT'}, {'all': 'PRON'}, {\"'\": 'PROPN'}, {',': 'PUNCT'}, {'\"': 'PUNCT'}, {',': 'PUNCT'}, {'\"': 'PUNCT'}, {\"'\": 'PUNCT'}, {'Iris': 'PROPN'}, {\"'\": 'NUM'}, {',': 'PUNCT'}, {'\"': 'PUNCT'}, {',': 'PUNCT'}, {'\"': 'PUNCT'}, {\"'\": 'PUNCT'}, {'flowers': 'NOUN'}, {\"'\": 'PART'}, {',': 'PUNCT'}, {'\"': 'PUNCT'}, {',': 'PUNCT'}, {'\"': 'PUNCT'}, {\"'\": 'PUNCT'}, {'where': 'SCONJ'}, {\"'\": 'NUM'}, {',': 'PUNCT'}, {'\"': 'PUNCT'}, {',': 'PUNCT'}, {'\"': 'PUNCT'}, {\"'\": 'PUNCT'}, {'the': 'DET'}, {\"'\": 'PUNCT'}, {',': 'PUNCT'}, {'\"': 'PUNCT'}, {',': 'PUNCT'}, {'\"': 'PUNCT'}, {\"'\": 'PUNCT'}, {'Species': 'NOUN'}, {\"'\": 'PUNCT'}, {',': 'PUNCT'}, {'\"': 'PUNCT'}, {',': 'PUNCT'}, {'\"': 'PUNCT'}, {\"'\": 'PUNCT'}, {'name': 'NOUN'}, {\"'\": 'PUNCT'}, {',': 'PUNCT'}, {'\"': 'PUNCT'}, {',': 'PUNCT'}, {'\"': 'PUNCT'}, {\"'\": 'PUNCT'}, {'starts': 'VERB'}, {\"'\": 'PUNCT'}, {',': 'PUNCT'}, {'\"': 'PUNCT'}, {',': 'PUNCT'}, {'\"': 'PUNCT'}, {\"'\": 'PUNCT'}, {'with': 'ADP'}, {\"'\": 'PROPN'}, {',': 'PUNCT'}, {'\"': 'PUNCT'}, {',': 'PUNCT'}, {\"'\": 'PUNCT'}, {'\"': 'PUNCT'}, {'\\\\': 'PROPN'}, {\"'\": 'PUNCT'}, {'\"': 'PUNCT'}, {',': 'PUNCT'}, {\"'\": 'PUNCT'}, {',': 'PUNCT'}, {'\"': 'PUNCT'}, {\"'\": 'PUNCT'}, {'Iri': 'PROPN'}, {\"'\": 'PROPN'}, {',': 'PUNCT'}, {'\"': 'PUNCT'}, {',': 'PUNCT'}, {\"'\": 'PUNCT'}, {'\"': 'PUNCT'}, {'\\\\': 'PROPN'}, {\"'\": 'PUNCT'}, {'\"': 'PUNCT'}, {',': 'PUNCT'}, {\"'\": 'PUNCT'}, {',': 'PUNCT'}, {'\"': 'PUNCT'}, {\"'\": 'PUNCT'}, {'and': 'CCONJ'}, {\"'\": 'NUM'}, {',': 'PUNCT'}, {'\"': 'PUNCT'}, {',': 'PUNCT'}, {'\"': 'PUNCT'}, {\"'\": 'PUNCT'}, {'ends': 'VERB'}, {\"'\": 'PUNCT'}, {',': 'PUNCT'}, {'\"': 'PUNCT'}, {',': 'PUNCT'}, {'\"': 'PUNCT'}, {\"'\": 'PUNCT'}, {'with': 'ADP'}, {\"'\": 'PROPN'}, {',': 'PUNCT'}, {'\"': 'PUNCT'}, {',': 'PUNCT'}, {\"'\": 'PUNCT'}, {'\"': 'PUNCT'}, {'\\\\': 'PROPN'}, {\"'\": 'PUNCT'}, {'\"': 'PUNCT'}, {',': 'PUNCT'}, {\"'\": 'PUNCT'}, {',': 'PUNCT'}, {'\"': 'PUNCT'}, {\"'\": 'PUNCT'}, {'a': 'DET'}, {\"'\": 'PUNCT'}, {',': 'PUNCT'}, {'\"': 'PUNCT'}, {',': 'PUNCT'}, {\"'\": 'PUNCT'}, {'\"': 'PUNCT'}, {'\\\\': 'PROPN'}, {\"'\": 'PUNCT'}, {'\"': 'PUNCT'}, {']': 'PUNCT'}, {\"'\": 'X'}, {']': 'PUNCT'}]\n",
            "Tokenized Description : ['ADV', 'INTJ', 'PART', 'PRON', 'ADP', 'SCONJ', 'VERB', 'PUNCT', 'NOUN', 'AUX', 'CCONJ', 'NUM', 'DET', 'X', 'PROPN', 'ADJ']\n"
          ]
        }
      ]
    },
    {
      "cell_type": "code",
      "source": [
        "for pat in p_d:\n",
        "   print({pat:p_d[pat]})"
      ],
      "metadata": {
        "colab": {
          "base_uri": "https://localhost:8080/"
        },
        "id": "s-yND2LbWjGZ",
        "outputId": "746d273b-9341-47ce-eab5-faa92da3b691"
      },
      "execution_count": 23,
      "outputs": [
        {
          "output_type": "stream",
          "name": "stdout",
          "text": [
            "{'ADV': ['exactly', 'alphabetically', 'only', 'Sort']}\n",
            "{'INTJ': ['%']}\n",
            "{'PART': ['not', \"'\", 'to']}\n",
            "{'PRON': ['all', 'each', 'both', 'this', 'the', 'a', 'What', 'there']}\n",
            "{'ADP': ['for', 'within', 'over', 'than', 'with', 'across', 'by', 'at', 'in', 'of', 'between', 'above', 'from']}\n",
            "{'SCONJ': ['How', 'where', 'how']}\n",
            "{'VERB': ['percentile', 'recorded', \"'\", 'sorted', 'found', 'show', 'Show', 'ascending', 'dataset', 'Date', 'assuming', 'Setosa', 'ends', 'start', 'descending', 'starts', 'Find', 'ica', 'setosa', 'Aggregate', 'Calculate', 'top', 'starting', 'contains', 'count', 'grouped', 'Organize']}\n",
            "{'PUNCT': [',', ']', \"'\", '\"', '(', '.', ')', '?']}\n",
            "{'NOUN': ['value', 'Lengths', 'color', 'Determine', 'records', 'month', 'List', 'year', 'C', 'flowers', 'name', 'observation', 'Entries', 'Number', 'flower', 'points', 'types', 'versicolor', 'Species', 'field', 'data', 'entries', 'Sepal', 'Display', 'species', 'occurrences', 'number', 'Widths', 'order']}\n",
            "{'AUX': ['is', \"'s\", 'are']}\n",
            "{'CCONJ': ['and', 'or']}\n",
            "{'NUM': [\"'\", '3', '5', '4', '10']}\n",
            "{'DET': ['the', 'a']}\n",
            "{'X': ['2', '1', 'median', ']', \"'\", 'Length', '0', '10th', 'virginica', '[']}\n",
            "{'PROPN': ['Median', 'Species', 'Sum', 'Count', 'Filter', 'January', \"'\", 'Length', 'Iris', 'Width', 'Rank', 'Group', '\\\\', 'Iri', 'Se']}\n",
            "{'ADJ': ['Highest', 'equal', 'unique', 'Total', 'high', 'Lowest', 'smallest', 'Distinct', 'Minimum', 'least', 'bottom', 'Top', 'last', 'Maximum', 'greater', 'average', 'low', 'Average', 'Petal', 'highest', 'total', 'distinct', 'Select', 'many', 'less', 'middle']}\n"
          ]
        }
      ]
    },
    {
      "cell_type": "code",
      "source": [
        "p_t=dg_ent['Patterns_Formula(Tableau)']=get_patterns(dg_tok,dg_tok.columns[1])"
      ],
      "metadata": {
        "id": "DuFe80bLPerP",
        "colab": {
          "base_uri": "https://localhost:8080/"
        },
        "outputId": "c4e3c344-4eed-4cdc-d386-db87d0810f4d"
      },
      "execution_count": 24,
      "outputs": [
        {
          "output_type": "stream",
          "name": "stdout",
          "text": [
            "[{'[': 'X'}, {'\"': 'PUNCT'}, {'[': 'X'}, {\"'\": 'VERB'}, {'SUM': 'NOUN'}, {\"'\": 'PUNCT'}, {',': 'PUNCT'}, {'\"': 'PUNCT'}, {',': 'PUNCT'}, {'\"': 'PUNCT'}, {\"'\": 'PUNCT'}, {'Sepal': 'NOUN'}, {\"'\": 'PUNCT'}, {',': 'PUNCT'}, {'\"': 'PUNCT'}, {',': 'PUNCT'}, {'\"': 'PUNCT'}, {\"'\": 'PUNCT'}, {'Length': 'X'}, {\"'\": 'PUNCT'}, {']': 'PUNCT'}, {'\"': 'PUNCT'}, {']': 'PUNCT'}, {'[': 'X'}, {'\"': 'PUNCT'}, {'[': 'X'}, {\"'\": 'X'}, {'AVG': 'PROPN'}, {\"'\": 'NUM'}, {',': 'PUNCT'}, {'\"': 'PUNCT'}, {',': 'PUNCT'}, {'\"': 'PUNCT'}, {\"'\": 'PUNCT'}, {'Sepal': 'NOUN'}, {\"'\": 'PUNCT'}, {',': 'PUNCT'}, {'\"': 'PUNCT'}, {',': 'PUNCT'}, {'\"': 'PUNCT'}, {\"'\": 'PUNCT'}, {'Width': 'PROPN'}, {\"'\": 'PUNCT'}, {']': 'PUNCT'}, {'\"': 'PUNCT'}, {']': 'PUNCT'}, {'[': 'X'}, {'\"': 'PUNCT'}, {'[': 'X'}, {\"'\": 'X'}, {'MEDIAN': 'PROPN'}, {\"'\": 'PUNCT'}, {',': 'PUNCT'}, {'\"': 'PUNCT'}, {',': 'PUNCT'}, {'\"': 'PUNCT'}, {\"'\": 'PUNCT'}, {'Petal': 'ADJ'}, {\"'\": 'PUNCT'}, {',': 'PUNCT'}, {'\"': 'PUNCT'}, {',': 'PUNCT'}, {'\"': 'PUNCT'}, {\"'\": 'PUNCT'}, {'Length': 'X'}, {\"'\": 'PUNCT'}, {']': 'PUNCT'}, {'\"': 'PUNCT'}, {']': 'PUNCT'}, {'[': 'X'}, {'\"': 'PUNCT'}, {'[': 'X'}, {\"'\": 'X'}, {'COUNT': 'PROPN'}, {\"'\": 'PUNCT'}, {']': 'PUNCT'}, {'\"': 'PUNCT'}, {']': 'PUNCT'}, {'[': 'X'}, {'\"': 'PUNCT'}, {'[': 'X'}, {\"'\": 'X'}, {'COUNT': 'PROPN'}, {\"'\": 'NUM'}, {',': 'PUNCT'}, {'\"': 'PUNCT'}, {',': 'PUNCT'}, {'\"': 'PUNCT'}, {\"'\": 'PUNCT'}, {'DISTINCT': 'VERB'}, {\"'\": 'PUNCT'}, {',': 'PUNCT'}, {'\"': 'PUNCT'}, {',': 'PUNCT'}, {'\"': 'PUNCT'}, {\"'\": 'PUNCT'}, {'Species': 'PROPN'}, {\"'\": 'PUNCT'}, {']': 'PUNCT'}, {'\"': 'PUNCT'}, {']': 'PUNCT'}, {'[': 'X'}, {'\"': 'PUNCT'}, {'[': 'X'}, {\"'\": 'X'}, {'MIN': 'PROPN'}, {\"'\": 'PROPN'}, {',': 'PUNCT'}, {'\"': 'PUNCT'}, {',': 'PUNCT'}, {'\"': 'PUNCT'}, {\"'\": 'PUNCT'}, {'Sepal': 'NOUN'}, {\"'\": 'PUNCT'}, {',': 'PUNCT'}, {'\"': 'PUNCT'}, {',': 'PUNCT'}, {'\"': 'PUNCT'}, {\"'\": 'PUNCT'}, {'Length': 'X'}, {\"'\": 'PUNCT'}, {']': 'PUNCT'}, {'\"': 'PUNCT'}, {']': 'PUNCT'}, {'[': 'X'}, {'\"': 'PUNCT'}, {'[': 'X'}, {\"'\": 'X'}, {'MAX': 'PROPN'}, {\"'\": 'PUNCT'}, {',': 'PUNCT'}, {'\"': 'PUNCT'}, {',': 'PUNCT'}, {'\"': 'PUNCT'}, {\"'\": 'PUNCT'}, {'Petal': 'ADJ'}, {\"'\": 'PUNCT'}, {',': 'PUNCT'}, {'\"': 'PUNCT'}, {',': 'PUNCT'}, {'\"': 'PUNCT'}, {\"'\": 'PUNCT'}, {'Width': 'PROPN'}, {\"'\": 'PUNCT'}, {']': 'PUNCT'}, {'\"': 'PUNCT'}, {']': 'PUNCT'}, {'[': 'X'}, {'\"': 'PUNCT'}, {'[': 'X'}, {\"'\": 'X'}, {'GROUP': 'PROPN'}, {\"'\": 'PUNCT'}, {',': 'PUNCT'}, {'\"': 'PUNCT'}, {',': 'PUNCT'}, {'\"': 'PUNCT'}, {\"'\": 'PUNCT'}, {'BY': 'ADP'}, {\"'\": 'NUM'}, {',': 'PUNCT'}, {'\"': 'PUNCT'}, {',': 'PUNCT'}, {'\"': 'PUNCT'}, {\"'\": 'PUNCT'}, {'Species': 'PROPN'}, {\"'\": 'PUNCT'}, {']': 'PUNCT'}, {'\"': 'PUNCT'}, {']': 'PUNCT'}, {'[': 'X'}, {'\"': 'PUNCT'}, {'[': 'X'}, {\"'\": 'X'}, {'ORDER': 'NOUN'}, {\"'\": 'PUNCT'}, {',': 'PUNCT'}, {'\"': 'PUNCT'}, {',': 'PUNCT'}, {'\"': 'PUNCT'}, {\"'\": 'PUNCT'}, {'BY': 'ADP'}, {\"'\": 'NUM'}, {',': 'PUNCT'}, {'\"': 'PUNCT'}, {',': 'PUNCT'}, {'\"': 'PUNCT'}, {\"'\": 'PUNCT'}, {'Sepal': 'NOUN'}, {\"'\": 'PUNCT'}, {',': 'PUNCT'}, {'\"': 'PUNCT'}, {',': 'PUNCT'}, {'\"': 'PUNCT'}, {\"'\": 'PUNCT'}, {'Length': 'PROPN'}, {\"'\": 'PUNCT'}, {',': 'PUNCT'}, {'\"': 'PUNCT'}, {',': 'PUNCT'}, {'\"': 'PUNCT'}, {\"'\": 'PUNCT'}, {'ASC': 'PROPN'}, {\"'\": 'PUNCT'}, {']': 'PUNCT'}, {'\"': 'PUNCT'}, {']': 'PUNCT'}, {'[': 'X'}, {'\"': 'PUNCT'}, {'[': 'X'}, {\"'\": 'X'}, {'ORDER': 'NOUN'}, {\"'\": 'PUNCT'}, {',': 'PUNCT'}, {'\"': 'PUNCT'}, {',': 'PUNCT'}, {'\"': 'PUNCT'}, {\"'\": 'PUNCT'}, {'BY': 'ADP'}, {\"'\": 'NUM'}, {',': 'PUNCT'}, {'\"': 'PUNCT'}, {',': 'PUNCT'}, {'\"': 'PUNCT'}, {\"'\": 'PUNCT'}, {'Species': 'NOUN'}, {\"'\": 'PUNCT'}, {',': 'PUNCT'}, {'\"': 'PUNCT'}, {',': 'PUNCT'}, {'\"': 'PUNCT'}, {\"'\": 'PUNCT'}, {'ASC': 'PROPN'}, {\"'\": 'PUNCT'}, {']': 'PUNCT'}, {'\"': 'PUNCT'}, {']': 'PUNCT'}, {'[': 'X'}, {'\"': 'PUNCT'}, {'[': 'X'}, {\"'\": 'X'}, {'Sepal': 'NOUN'}, {\"'\": 'PUNCT'}, {',': 'PUNCT'}, {'\"': 'PUNCT'}, {',': 'PUNCT'}, {'\"': 'PUNCT'}, {\"'\": 'PUNCT'}, {'Length': 'PROPN'}, {\"'\": 'PUNCT'}, {',': 'PUNCT'}, {'\"': 'PUNCT'}, {',': 'PUNCT'}, {'\"': 'PUNCT'}, {\"'\": 'PROPN'}, {'5': 'NUM'}, {\"'\": 'NUM'}, {',': 'PUNCT'}, {'\"': 'PUNCT'}, {',': 'PUNCT'}, {'\"': 'PUNCT'}, {\"'\": 'PUNCT'}, {'0': 'X'}, {\"'\": 'PUNCT'}, {']': 'PUNCT'}, {'\"': 'PUNCT'}, {']': 'PUNCT'}, {'[': 'X'}, {'\"': 'PUNCT'}, {'[': 'X'}, {\"'\": 'PUNCT'}, {'Petal': 'ADJ'}, {\"'\": 'PUNCT'}, {',': 'PUNCT'}, {'\"': 'PUNCT'}, {',': 'PUNCT'}, {'\"': 'PUNCT'}, {\"'\": 'PUNCT'}, {'Length': 'PROPN'}, {\"'\": 'PUNCT'}, {',': 'PUNCT'}, {'\"': 'PUNCT'}, {',': 'PUNCT'}, {'\"': 'PUNCT'}, {\"'\": 'PUNCT'}, {'BETWEEN': 'ADP'}, {\"'\": 'PUNCT'}, {',': 'PUNCT'}, {'\"': 'PUNCT'}, {',': 'PUNCT'}, {'\"': 'PUNCT'}, {\"'\": 'PROPN'}, {'1': 'X'}, {\"'\": 'NUM'}, {',': 'PUNCT'}, {'\"': 'PUNCT'}, {',': 'PUNCT'}, {'\"': 'PUNCT'}, {\"'\": 'PROPN'}, {'5': 'NUM'}, {\"'\": 'NUM'}, {',': 'PUNCT'}, {'\"': 'PUNCT'}, {',': 'PUNCT'}, {'\"': 'PUNCT'}, {\"'\": 'PUNCT'}, {'AND': 'CCONJ'}, {\"'\": 'NUM'}, {',': 'PUNCT'}, {'\"': 'PUNCT'}, {',': 'PUNCT'}, {'\"': 'PUNCT'}, {\"'\": 'PROPN'}, {'2': 'X'}, {\"'\": 'NUM'}, {',': 'PUNCT'}, {'\"': 'PUNCT'}, {',': 'PUNCT'}, {'\"': 'PUNCT'}, {\"'\": 'PROPN'}, {'5': 'NUM'}, {\"'\": 'NUM'}, {']': 'PUNCT'}, {'\"': 'PUNCT'}, {']': 'PUNCT'}, {'[': 'X'}, {'\"': 'PUNCT'}, {'[': 'X'}, {\"'\": 'PROPN'}, {'TOP': 'NUM'}, {\"'\": 'PUNCT'}, {',': 'PUNCT'}, {'\"': 'PUNCT'}, {',': 'PUNCT'}, {'\"': 'PUNCT'}, {\"'\": 'PROPN'}, {'3': 'NUM'}, {\"'\": 'NUM'}, {',': 'PUNCT'}, {'\"': 'PUNCT'}, {',': 'PUNCT'}, {'\"': 'PUNCT'}, {\"'\": 'PUNCT'}, {'BY': 'ADP'}, {\"'\": 'NUM'}, {',': 'PUNCT'}, {'\"': 'PUNCT'}, {',': 'PUNCT'}, {'\"': 'PUNCT'}, {\"'\": 'PUNCT'}, {'Sepal': 'NOUN'}, {\"'\": 'PUNCT'}, {',': 'PUNCT'}, {'\"': 'PUNCT'}, {',': 'PUNCT'}, {'\"': 'PUNCT'}, {\"'\": 'PUNCT'}, {'Width': 'PROPN'}, {\"'\": 'PUNCT'}, {',': 'PUNCT'}, {'\"': 'PUNCT'}, {',': 'PUNCT'}, {'\"': 'PUNCT'}, {\"'\": 'PUNCT'}, {'DESC': 'VERB'}, {\"'\": 'PUNCT'}, {']': 'PUNCT'}, {'\"': 'PUNCT'}, {']': 'PUNCT'}, {'[': 'X'}, {'\"': 'PUNCT'}, {'[': 'X'}, {\"'\": 'X'}, {'Species': 'NOUN'}, {\"'\": 'PUNCT'}, {',': 'PUNCT'}, {'\"': 'PUNCT'}, {',': 'PUNCT'}, {'\"': 'PUNCT'}, {\"'\": 'PUNCT'}, {'Setosa': 'PROPN'}, {\"'\": 'PUNCT'}, {']': 'PUNCT'}, {'\"': 'PUNCT'}, {']': 'PUNCT'}, {'[': 'X'}, {'\"': 'PUNCT'}, {'[': 'X'}, {\"'\": 'X'}, {'Species': 'NOUN'}, {\"'\": 'PUNCT'}, {',': 'PUNCT'}, {'\"': 'PUNCT'}, {',': 'PUNCT'}, {'\"': 'PUNCT'}, {\"'\": 'PUNCT'}, {'STARTS': 'PROPN'}, {\"'\": 'NUM'}, {',': 'PUNCT'}, {'\"': 'PUNCT'}, {',': 'PUNCT'}, {'\"': 'PUNCT'}, {\"'\": 'PUNCT'}, {'WITH': 'ADP'}, {\"'\": 'NUM'}, {',': 'PUNCT'}, {'\"': 'PUNCT'}, {',': 'PUNCT'}, {'\"': 'PUNCT'}, {\"'\": 'PUNCT'}, {'Se': 'PROPN'}, {\"'\": 'NUM'}, {']': 'PUNCT'}, {'\"': 'PUNCT'}, {']': 'PUNCT'}, {'[': 'X'}, {'\"': 'PUNCT'}, {'[': 'X'}, {\"'\": 'VERB'}, {'SUM': 'NOUN'}, {\"'\": 'PUNCT'}, {',': 'PUNCT'}, {'\"': 'PUNCT'}, {',': 'PUNCT'}, {'\"': 'PUNCT'}, {\"'\": 'PUNCT'}, {'Petal': 'ADJ'}, {\"'\": 'PUNCT'}, {',': 'PUNCT'}, {'\"': 'PUNCT'}, {',': 'PUNCT'}, {'\"': 'PUNCT'}, {\"'\": 'PUNCT'}, {'Length': 'X'}, {\"'\": 'PUNCT'}, {']': 'PUNCT'}, {'\"': 'PUNCT'}, {']': 'PUNCT'}, {'[': 'X'}, {'\"': 'PUNCT'}, {'[': 'X'}, {\"'\": 'X'}, {'AVG': 'PROPN'}, {\"'\": 'NUM'}, {',': 'PUNCT'}, {'\"': 'PUNCT'}, {',': 'PUNCT'}, {'\"': 'PUNCT'}, {\"'\": 'PUNCT'}, {'Petal': 'ADJ'}, {\"'\": 'PUNCT'}, {',': 'PUNCT'}, {'\"': 'PUNCT'}, {',': 'PUNCT'}, {'\"': 'PUNCT'}, {\"'\": 'PUNCT'}, {'Width': 'PROPN'}, {\"'\": 'PUNCT'}, {']': 'PUNCT'}, {'\"': 'PUNCT'}, {']': 'PUNCT'}, {'[': 'X'}, {'\"': 'PUNCT'}, {'[': 'X'}, {\"'\": 'X'}, {'MEDIAN': 'PROPN'}, {\"'\": 'PUNCT'}, {',': 'PUNCT'}, {'\"': 'PUNCT'}, {',': 'PUNCT'}, {'\"': 'PUNCT'}, {\"'\": 'PUNCT'}, {'Sepal': 'NOUN'}, {\"'\": 'PUNCT'}, {',': 'PUNCT'}, {'\"': 'PUNCT'}, {',': 'PUNCT'}, {'\"': 'PUNCT'}, {\"'\": 'PUNCT'}, {'Width': 'PROPN'}, {\"'\": 'PUNCT'}, {']': 'PUNCT'}, {'\"': 'PUNCT'}, {']': 'PUNCT'}, {'[': 'X'}, {'\"': 'PUNCT'}, {'[': 'X'}, {\"'\": 'X'}, {'COUNT': 'PROPN'}, {\"'\": 'NUM'}, {',': 'PUNCT'}, {'\"': 'PUNCT'}, {',': 'PUNCT'}, {'\"': 'PUNCT'}, {\"'\": 'PUNCT'}, {'Sepal': 'NOUN'}, {\"'\": 'PUNCT'}, {',': 'PUNCT'}, {'\"': 'PUNCT'}, {',': 'PUNCT'}, {'\"': 'PUNCT'}, {\"'\": 'PUNCT'}, {'Length': 'X'}, {\"'\": 'PUNCT'}, {']': 'PUNCT'}, {'\"': 'PUNCT'}, {']': 'PUNCT'}, {'[': 'X'}, {'\"': 'PUNCT'}, {'[': 'X'}, {\"'\": 'VERB'}, {'COUNTD': 'PROPN'}, {\"'\": 'PUNCT'}, {',': 'PUNCT'}, {'\"': 'PUNCT'}, {',': 'PUNCT'}, {'\"': 'PUNCT'}, {\"'\": 'PUNCT'}, {'Species': 'PROPN'}, {\"'\": 'PUNCT'}, {']': 'PUNCT'}, {'\"': 'PUNCT'}, {']': 'PUNCT'}, {'[': 'X'}, {'\"': 'PUNCT'}, {'[': 'X'}, {\"'\": 'X'}, {'MIN': 'PROPN'}, {\"'\": 'PROPN'}, {',': 'PUNCT'}, {'\"': 'PUNCT'}, {',': 'PUNCT'}, {'\"': 'PUNCT'}, {\"'\": 'PUNCT'}, {'Sepal': 'NOUN'}, {\"'\": 'PUNCT'}, {',': 'PUNCT'}, {'\"': 'PUNCT'}, {',': 'PUNCT'}, {'\"': 'PUNCT'}, {\"'\": 'PUNCT'}, {'Length': 'X'}, {\"'\": 'PUNCT'}, {']': 'PUNCT'}, {'\"': 'PUNCT'}, {']': 'PUNCT'}, {'[': 'X'}, {'\"': 'PUNCT'}, {'[': 'X'}, {\"'\": 'X'}, {'MAX': 'PROPN'}, {\"'\": 'PUNCT'}, {',': 'PUNCT'}, {'\"': 'PUNCT'}, {',': 'PUNCT'}, {'\"': 'PUNCT'}, {\"'\": 'PUNCT'}, {'Petal': 'ADJ'}, {\"'\": 'PUNCT'}, {',': 'PUNCT'}, {'\"': 'PUNCT'}, {',': 'PUNCT'}, {'\"': 'PUNCT'}, {\"'\": 'PUNCT'}, {'Width': 'PROPN'}, {\"'\": 'PUNCT'}, {']': 'PUNCT'}, {'\"': 'PUNCT'}, {']': 'PUNCT'}, {'[': 'X'}, {'\"': 'PUNCT'}, {'[': 'X'}, {\"'\": 'VERB'}, {'SORT': 'ADV'}, {\"'\": 'NUM'}, {',': 'PUNCT'}, {'\"': 'PUNCT'}, {',': 'PUNCT'}, {'\"': 'PUNCT'}, {\"'\": 'PUNCT'}, {'Species': 'NOUN'}, {\"'\": 'PUNCT'}, {',': 'PUNCT'}, {'\"': 'PUNCT'}, {',': 'PUNCT'}, {'\"': 'PUNCT'}, {\"'\": 'PUNCT'}, {'DESC': 'VERB'}, {\"'\": 'PUNCT'}, {']': 'PUNCT'}, {'\"': 'PUNCT'}, {']': 'PUNCT'}, {'[': 'X'}, {'\"': 'PUNCT'}, {'[': 'X'}, {\"'\": 'VERB'}, {'SORT': 'ADV'}, {\"'\": 'NUM'}, {',': 'PUNCT'}, {'\"': 'PUNCT'}, {',': 'PUNCT'}, {'\"': 'PUNCT'}, {\"'\": 'PUNCT'}, {'Sepal': 'NOUN'}, {\"'\": 'PUNCT'}, {',': 'PUNCT'}, {'\"': 'PUNCT'}, {',': 'PUNCT'}, {'\"': 'PUNCT'}, {\"'\": 'PUNCT'}, {'Length': 'PROPN'}, {\"'\": 'PUNCT'}, {',': 'PUNCT'}, {'\"': 'PUNCT'}, {',': 'PUNCT'}, {'\"': 'PUNCT'}, {\"'\": 'PUNCT'}, {'ASC': 'PROPN'}, {\"'\": 'PUNCT'}, {']': 'PUNCT'}, {'\"': 'PUNCT'}, {']': 'PUNCT'}, {'[': 'X'}, {'\"': 'PUNCT'}, {'[': 'X'}, {\"'\": 'X'}, {'Sepal': 'NOUN'}, {\"'\": 'PUNCT'}, {',': 'PUNCT'}, {'\"': 'PUNCT'}, {',': 'PUNCT'}, {'\"': 'PUNCT'}, {\"'\": 'PUNCT'}, {'Length': 'PROPN'}, {\"'\": 'PUNCT'}, {',': 'PUNCT'}, {'\"': 'PUNCT'}, {',': 'PUNCT'}, {'\"': 'PUNCT'}, {\"'\": 'PROPN'}, {'4': 'NUM'}, {\"'\": 'NUM'}, {',': 'PUNCT'}, {'\"': 'PUNCT'}, {',': 'PUNCT'}, {'\"': 'PUNCT'}, {\"'\": 'PROPN'}, {'5': 'NUM'}, {\"'\": 'NUM'}, {']': 'PUNCT'}, {'\"': 'PUNCT'}, {']': 'PUNCT'}, {'[': 'X'}, {'\"': 'PUNCT'}, {'[': 'X'}, {\"'\": 'PUNCT'}, {'Petal': 'ADJ'}, {\"'\": 'PUNCT'}, {',': 'PUNCT'}, {'\"': 'PUNCT'}, {',': 'PUNCT'}, {'\"': 'PUNCT'}, {\"'\": 'PUNCT'}, {'Width': 'PROPN'}, {\"'\": 'PUNCT'}, {',': 'PUNCT'}, {'\"': 'PUNCT'}, {',': 'PUNCT'}, {'\"': 'PUNCT'}, {\"'\": 'PROPN'}, {'2': 'X'}, {\"'\": 'NUM'}, {',': 'PUNCT'}, {'\"': 'PUNCT'}, {',': 'PUNCT'}, {'\"': 'PUNCT'}, {\"'\": 'PUNCT'}, {'0': 'X'}, {\"'\": 'PUNCT'}, {']': 'PUNCT'}, {'\"': 'PUNCT'}, {']': 'PUNCT'}, {'[': 'X'}, {'\"': 'PUNCT'}, {'[': 'X'}, {\"'\": 'X'}, {'Sepal': 'NOUN'}, {\"'\": 'PUNCT'}, {',': 'PUNCT'}, {'\"': 'PUNCT'}, {',': 'PUNCT'}, {'\"': 'PUNCT'}, {\"'\": 'PUNCT'}, {'Width': 'PROPN'}, {\"'\": 'PUNCT'}, {',': 'PUNCT'}, {'\"': 'PUNCT'}, {',': 'PUNCT'}, {'\"': 'PUNCT'}, {\"'\": 'PROPN'}, {'3': 'NUM'}, {\"'\": 'NUM'}, {',': 'PUNCT'}, {'\"': 'PUNCT'}, {',': 'PUNCT'}, {'\"': 'PUNCT'}, {\"'\": 'PUNCT'}, {'0': 'X'}, {\"'\": 'PUNCT'}, {']': 'PUNCT'}, {'\"': 'PUNCT'}, {']': 'PUNCT'}, {'[': 'X'}, {'\"': 'PUNCT'}, {'[': 'X'}, {\"'\": 'VERB'}, {'ENDSWITH': 'NOUN'}, {\"'\": 'PUNCT'}, {',': 'PUNCT'}, {'\"': 'PUNCT'}, {',': 'PUNCT'}, {'\"': 'PUNCT'}, {\"'\": 'PUNCT'}, {'Species': 'NOUN'}, {\"'\": 'PUNCT'}, {',': 'PUNCT'}, {'\"': 'PUNCT'}, {',': 'PUNCT'}, {'\"': 'PUNCT'}, {\"'\": 'PUNCT'}, {'ica': 'X'}, {\"'\": 'PUNCT'}, {']': 'PUNCT'}, {'\"': 'PUNCT'}, {']': 'PUNCT'}, {'[': 'X'}, {'\"': 'PUNCT'}, {'[': 'X'}, {\"'\": 'X'}, {'Sepal': 'NOUN'}, {\"'\": 'PUNCT'}, {',': 'PUNCT'}, {'\"': 'PUNCT'}, {',': 'PUNCT'}, {'\"': 'PUNCT'}, {\"'\": 'PUNCT'}, {'Length': 'PROPN'}, {\"'\": 'PUNCT'}, {',': 'PUNCT'}, {'\"': 'PUNCT'}, {',': 'PUNCT'}, {'\"': 'PUNCT'}, {\"'\": 'PROPN'}, {'5': 'NUM'}, {\"'\": 'NUM'}, {',': 'PUNCT'}, {'\"': 'PUNCT'}, {',': 'PUNCT'}, {'\"': 'PUNCT'}, {\"'\": 'PUNCT'}, {'0': 'X'}, {\"'\": 'PUNCT'}, {']': 'PUNCT'}, {'\"': 'PUNCT'}, {']': 'PUNCT'}, {'[': 'X'}, {'\"': 'PUNCT'}, {'[': 'X'}, {\"'\": 'X'}, {'INDEX': 'PROPN'}, {\"'\": 'PUNCT'}, {',': 'PUNCT'}, {'\"': 'PUNCT'}, {',': 'PUNCT'}, {'\"': 'PUNCT'}, {\"'\": 'PROPN'}, {'5': 'NUM'}, {\"'\": 'NUM'}, {',': 'PUNCT'}, {'\"': 'PUNCT'}, {',': 'PUNCT'}, {'\"': 'PUNCT'}, {\"'\": 'PUNCT'}, {'SORT': 'ADV'}, {\"'\": 'NUM'}, {',': 'PUNCT'}, {'\"': 'PUNCT'}, {',': 'PUNCT'}, {'\"': 'PUNCT'}, {\"'\": 'PUNCT'}, {'BY': 'ADP'}, {\"'\": 'NUM'}, {',': 'PUNCT'}, {'\"': 'PUNCT'}, {',': 'PUNCT'}, {'\"': 'PUNCT'}, {\"'\": 'PUNCT'}, {'SUM': 'VERB'}, {\"'\": 'PUNCT'}, {',': 'PUNCT'}, {'\"': 'PUNCT'}, {',': 'PUNCT'}, {'\"': 'PUNCT'}, {\"'\": 'PUNCT'}, {'Sepal': 'NOUN'}, {\"'\": 'PUNCT'}, {',': 'PUNCT'}, {'\"': 'PUNCT'}, {',': 'PUNCT'}, {'\"': 'PUNCT'}, {\"'\": 'PUNCT'}, {'Width': 'PROPN'}, {\"'\": 'PUNCT'}, {',': 'PUNCT'}, {'\"': 'PUNCT'}, {',': 'PUNCT'}, {'\"': 'PUNCT'}, {\"'\": 'PUNCT'}, {'DESC': 'VERB'}, {\"'\": 'PUNCT'}, {']': 'PUNCT'}, {'\"': 'PUNCT'}, {']': 'PUNCT'}, {'[': 'X'}, {'\"': 'PUNCT'}, {'[': 'X'}, {\"'\": 'X'}, {'INDEX': 'PROPN'}, {\"'\": 'PUNCT'}, {',': 'PUNCT'}, {'\"': 'PUNCT'}, {',': 'PUNCT'}, {'\"': 'PUNCT'}, {\"'\": 'PROPN'}, {'3': 'NUM'}, {\"'\": 'NUM'}, {',': 'PUNCT'}, {'\"': 'PUNCT'}, {',': 'PUNCT'}, {'\"': 'PUNCT'}, {\"'\": 'PUNCT'}, {'SORT': 'ADV'}, {\"'\": 'NUM'}, {',': 'PUNCT'}, {'\"': 'PUNCT'}, {',': 'PUNCT'}, {'\"': 'PUNCT'}, {\"'\": 'PUNCT'}, {'BY': 'ADP'}, {\"'\": 'NUM'}, {',': 'PUNCT'}, {'\"': 'PUNCT'}, {',': 'PUNCT'}, {'\"': 'PUNCT'}, {\"'\": 'PUNCT'}, {'Petal': 'ADJ'}, {\"'\": 'PUNCT'}, {',': 'PUNCT'}, {'\"': 'PUNCT'}, {',': 'PUNCT'}, {'\"': 'PUNCT'}, {\"'\": 'PUNCT'}, {'Length': 'PROPN'}, {\"'\": 'PUNCT'}, {',': 'PUNCT'}, {'\"': 'PUNCT'}, {',': 'PUNCT'}, {'\"': 'PUNCT'}, {\"'\": 'PUNCT'}, {'ASC': 'PROPN'}, {\"'\": 'PUNCT'}, {']': 'PUNCT'}, {'\"': 'PUNCT'}, {']': 'PUNCT'}, {'[': 'X'}, {'\"': 'PUNCT'}, {'[': 'X'}, {\"'\": 'VERB'}, {'IF': 'SCONJ'}, {\"'\": 'NUM'}, {',': 'PUNCT'}, {'\"': 'PUNCT'}, {',': 'PUNCT'}, {'\"': 'PUNCT'}, {\"'\": 'PUNCT'}, {'Petal': 'ADJ'}, {\"'\": 'PUNCT'}, {',': 'PUNCT'}, {'\"': 'PUNCT'}, {',': 'PUNCT'}, {'\"': 'PUNCT'}, {\"'\": 'PUNCT'}, {'Length': 'PROPN'}, {\"'\": 'PUNCT'}, {',': 'PUNCT'}, {'\"': 'PUNCT'}, {',': 'PUNCT'}, {'\"': 'PUNCT'}, {\"'\": 'PROPN'}, {'4': 'NUM'}, {\"'\": 'NUM'}, {',': 'PUNCT'}, {'\"': 'PUNCT'}, {',': 'PUNCT'}, {'\"': 'PUNCT'}, {\"'\": 'PUNCT'}, {'AND': 'CCONJ'}, {\"'\": 'NUM'}, {',': 'PUNCT'}, {'\"': 'PUNCT'}, {',': 'PUNCT'}, {'\"': 'PUNCT'}, {\"'\": 'PUNCT'}, {'Petal': 'ADJ'}, {\"'\": 'PUNCT'}, {',': 'PUNCT'}, {'\"': 'PUNCT'}, {',': 'PUNCT'}, {'\"': 'PUNCT'}, {\"'\": 'PUNCT'}, {'Length': 'PROPN'}, {\"'\": 'PUNCT'}, {',': 'PUNCT'}, {'\"': 'PUNCT'}, {',': 'PUNCT'}, {'\"': 'PUNCT'}, {\"'\": 'PROPN'}, {'5': 'NUM'}, {\"'\": 'NUM'}, {',': 'PUNCT'}, {'\"': 'PUNCT'}, {',': 'PUNCT'}, {'\"': 'PUNCT'}, {\"'\": 'PUNCT'}, {'THEN': 'ADV'}, {\"'\": 'NUM'}, {',': 'PUNCT'}, {'\"': 'PUNCT'}, {',': 'PUNCT'}, {'\"': 'PUNCT'}, {\"'\": 'PROPN'}, {'1': 'X'}, {\"'\": 'NUM'}, {',': 'PUNCT'}, {'\"': 'PUNCT'}, {',': 'PUNCT'}, {'\"': 'PUNCT'}, {\"'\": 'PUNCT'}, {'ELSE': 'ADV'}, {\"'\": 'NUM'}, {',': 'PUNCT'}, {'\"': 'PUNCT'}, {',': 'PUNCT'}, {'\"': 'PUNCT'}, {\"'\": 'PUNCT'}, {'0': 'X'}, {\"'\": 'PUNCT'}, {',': 'PUNCT'}, {'\"': 'PUNCT'}, {',': 'PUNCT'}, {'\"': 'PUNCT'}, {\"'\": 'PUNCT'}, {'END': 'PROPN'}, {\"'\": 'PUNCT'}, {']': 'PUNCT'}, {'\"': 'PUNCT'}, {']': 'PUNCT'}, {'[': 'X'}, {'\"': 'PUNCT'}, {'[': 'X'}, {\"'\": 'VERB'}, {'DATETRUNC': 'PROPN'}, {\"'\": 'NUM'}, {',': 'PUNCT'}, {'\"': 'PUNCT'}, {',': 'PUNCT'}, {'\"': 'PUNCT'}, {\"'\": 'PUNCT'}, {'month': 'NOUN'}, {\"'\": 'PUNCT'}, {',': 'PUNCT'}, {'\"': 'PUNCT'}, {',': 'PUNCT'}, {'\"': 'PUNCT'}, {\"'\": 'PUNCT'}, {'Date': 'PROPN'}, {\"'\": 'PUNCT'}, {']': 'PUNCT'}, {'\"': 'PUNCT'}, {']': 'PUNCT'}, {'[': 'X'}, {'\"': 'PUNCT'}, {'[': 'X'}, {\"'\": 'X'}, {'YEAR': 'NOUN'}, {\"'\": 'PUNCT'}, {',': 'PUNCT'}, {'\"': 'PUNCT'}, {',': 'PUNCT'}, {'\"': 'PUNCT'}, {\"'\": 'PUNCT'}, {'Date': 'VERB'}, {\"'\": 'PUNCT'}, {',': 'PUNCT'}, {'\"': 'PUNCT'}, {',': 'PUNCT'}, {'\"': 'PUNCT'}, {\"'\": 'PUNCT'}, {'YEAR': 'NOUN'}, {\"'\": 'PUNCT'}, {',': 'PUNCT'}, {'\"': 'PUNCT'}, {',': 'PUNCT'}, {'\"': 'PUNCT'}, {\"'\": 'PUNCT'}, {'TODAY': 'NOUN'}, {\"'\": 'PUNCT'}, {',': 'PUNCT'}, {'\"': 'PUNCT'}, {',': 'PUNCT'}, {'\"': 'PUNCT'}, {\"'\": 'PROPN'}, {'1': 'X'}, {\"'\": 'NUM'}, {']': 'PUNCT'}, {'\"': 'PUNCT'}, {']': 'PUNCT'}, {'[': 'X'}, {'\"': 'PUNCT'}, {'[': 'X'}, {\"'\": 'X'}, {'Date': 'NOUN'}, {\"'\": 'NUM'}, {',': 'PUNCT'}, {'\"': 'PUNCT'}, {',': 'PUNCT'}, {'\"': 'PUNCT'}, {\"'\": 'PUNCT'}, {'DATETRUNC': 'PROPN'}, {\"'\": 'NUM'}, {',': 'PUNCT'}, {'\"': 'PUNCT'}, {',': 'PUNCT'}, {'\"': 'PUNCT'}, {\"'\": 'PUNCT'}, {'year': 'NOUN'}, {\"'\": 'PUNCT'}, {',': 'PUNCT'}, {'\"': 'PUNCT'}, {',': 'PUNCT'}, {'\"': 'PUNCT'}, {\"'\": 'PUNCT'}, {'TODAY': 'NOUN'}, {\"'\": 'PUNCT'}, {']': 'PUNCT'}, {'\"': 'PUNCT'}, {']': 'PUNCT'}, {'[': 'X'}, {'\"': 'PUNCT'}, {'[': 'X'}, {\"'\": 'X'}, {'AVG': 'PROPN'}, {\"'\": 'NUM'}, {',': 'PUNCT'}, {'\"': 'PUNCT'}, {',': 'PUNCT'}, {'\"': 'PUNCT'}, {\"'\": 'PUNCT'}, {'Sepal': 'NOUN'}, {\"'\": 'PUNCT'}, {',': 'PUNCT'}, {'\"': 'PUNCT'}, {',': 'PUNCT'}, {'\"': 'PUNCT'}, {\"'\": 'PUNCT'}, {'Length': 'PROPN'}, {\"'\": 'PUNCT'}, {',': 'PUNCT'}, {'\"': 'PUNCT'}, {',': 'PUNCT'}, {'\"': 'PUNCT'}, {\"'\": 'PUNCT'}, {'GROUP': 'PROPN'}, {\"'\": 'PUNCT'}, {',': 'PUNCT'}, {'\"': 'PUNCT'}, {',': 'PUNCT'}, {'\"': 'PUNCT'}, {\"'\": 'PUNCT'}, {'BY': 'ADP'}, {\"'\": 'NUM'}, {',': 'PUNCT'}, {'\"': 'PUNCT'}, {',': 'PUNCT'}, {'\"': 'PUNCT'}, {\"'\": 'PUNCT'}, {'Species': 'NOUN'}, {\"'\": 'PUNCT'}, {',': 'PUNCT'}, {'\"': 'PUNCT'}, {',': 'PUNCT'}, {'\"': 'PUNCT'}, {\"'\": 'PUNCT'}, {'SORT': 'ADV'}, {\"'\": 'NUM'}, {',': 'PUNCT'}, {'\"': 'PUNCT'}, {',': 'PUNCT'}, {'\"': 'PUNCT'}, {\"'\": 'PUNCT'}, {'BY': 'ADP'}, {\"'\": 'NUM'}, {',': 'PUNCT'}, {'\"': 'PUNCT'}, {',': 'PUNCT'}, {'\"': 'PUNCT'}, {\"'\": 'PUNCT'}, {'Species': 'NOUN'}, {\"'\": 'PUNCT'}, {',': 'PUNCT'}, {'\"': 'PUNCT'}, {',': 'PUNCT'}, {'\"': 'PUNCT'}, {\"'\": 'PUNCT'}, {'ASC': 'PROPN'}, {\"'\": 'PUNCT'}, {']': 'PUNCT'}, {'\"': 'PUNCT'}, {']': 'PUNCT'}, {'[': 'X'}, {'\"': 'PUNCT'}, {'[': 'X'}, {\"'\": 'VERB'}, {'COUNTD': 'PROPN'}, {\"'\": 'PUNCT'}, {',': 'PUNCT'}, {'\"': 'PUNCT'}, {',': 'PUNCT'}, {'\"': 'PUNCT'}, {\"'\": 'PUNCT'}, {'IF': 'SCONJ'}, {\"'\": 'NUM'}, {',': 'PUNCT'}, {'\"': 'PUNCT'}, {',': 'PUNCT'}, {'\"': 'PUNCT'}, {\"'\": 'PUNCT'}, {'LEFT': 'PROPN'}, {\"'\": 'PUNCT'}, {',': 'PUNCT'}, {'\"': 'PUNCT'}, {',': 'PUNCT'}, {'\"': 'PUNCT'}, {\"'\": 'PUNCT'}, {'Species': 'NOUN'}, {\"'\": 'PUNCT'}, {',': 'PUNCT'}, {'\"': 'PUNCT'}, {',': 'PUNCT'}, {'\"': 'PUNCT'}, {\"'\": 'PROPN'}, {'1': 'X'}, {\"'\": 'NUM'}, {',': 'PUNCT'}, {'\"': 'PUNCT'}, {',': 'PUNCT'}, {'\"': 'PUNCT'}, {\"'\": 'PUNCT'}, {'C': 'NOUN'}, {\"'\": 'NUM'}, {',': 'PUNCT'}, {'\"': 'PUNCT'}, {',': 'PUNCT'}, {'\"': 'PUNCT'}, {\"'\": 'PUNCT'}, {'THEN': 'ADV'}, {\"'\": 'NUM'}, {',': 'PUNCT'}, {'\"': 'PUNCT'}, {',': 'PUNCT'}, {'\"': 'PUNCT'}, {\"'\": 'PUNCT'}, {'Species': 'NOUN'}, {\"'\": 'PUNCT'}, {',': 'PUNCT'}, {'\"': 'PUNCT'}, {',': 'PUNCT'}, {'\"': 'PUNCT'}, {\"'\": 'PUNCT'}, {'ELSE': 'ADV'}, {\"'\": 'NUM'}, {',': 'PUNCT'}, {'\"': 'PUNCT'}, {',': 'PUNCT'}, {'\"': 'PUNCT'}, {\"'\": 'PUNCT'}, {'NULL': 'VERB'}, {\"'\": 'PUNCT'}, {',': 'PUNCT'}, {'\"': 'PUNCT'}, {',': 'PUNCT'}, {'\"': 'PUNCT'}, {\"'\": 'PUNCT'}, {'END': 'PROPN'}, {\"'\": 'PUNCT'}, {']': 'PUNCT'}, {'\"': 'PUNCT'}, {']': 'PUNCT'}, {'[': 'X'}, {'\"': 'PUNCT'}, {'[': 'X'}, {\"'\": 'PUNCT'}, {'Petal': 'ADJ'}, {\"'\": 'PUNCT'}, {',': 'PUNCT'}, {'\"': 'PUNCT'}, {',': 'PUNCT'}, {'\"': 'PUNCT'}, {\"'\": 'PUNCT'}, {'Length': 'PROPN'}, {\"'\": 'PUNCT'}, {',': 'PUNCT'}, {'\"': 'PUNCT'}, {',': 'PUNCT'}, {'\"': 'PUNCT'}, {\"'\": 'PROPN'}, {'4': 'NUM'}, {\"'\": 'NUM'}, {',': 'PUNCT'}, {'\"': 'PUNCT'}, {',': 'PUNCT'}, {'\"': 'PUNCT'}, {\"'\": 'PUNCT'}, {'0': 'X'}, {\"'\": 'PUNCT'}, {',': 'PUNCT'}, {'\"': 'PUNCT'}, {',': 'PUNCT'}, {'\"': 'PUNCT'}, {\"'\": 'PUNCT'}, {'AND': 'CCONJ'}, {\"'\": 'NUM'}, {',': 'PUNCT'}, {'\"': 'PUNCT'}, {',': 'PUNCT'}, {'\"': 'PUNCT'}, {\"'\": 'PUNCT'}, {'Sepal': 'NOUN'}, {\"'\": 'PUNCT'}, {',': 'PUNCT'}, {'\"': 'PUNCT'}, {',': 'PUNCT'}, {'\"': 'PUNCT'}, {\"'\": 'PUNCT'}, {'Length': 'PROPN'}, {\"'\": 'PUNCT'}, {',': 'PUNCT'}, {'\"': 'PUNCT'}, {',': 'PUNCT'}, {'\"': 'PUNCT'}, {\"'\": 'PROPN'}, {'4': 'NUM'}, {\"'\": 'NUM'}, {',': 'PUNCT'}, {'\"': 'PUNCT'}, {',': 'PUNCT'}, {'\"': 'PUNCT'}, {\"'\": 'PUNCT'}, {'0': 'X'}, {\"'\": 'PUNCT'}, {']': 'PUNCT'}, {'\"': 'PUNCT'}, {']': 'PUNCT'}, {'[': 'X'}, {'\"': 'PUNCT'}, {'[': 'X'}, {\"'\": 'NOUN'}, {'RANK_PERCENTILE': 'AUX'}, {\"'\": 'PUNCT'}, {',': 'PUNCT'}, {'\"': 'PUNCT'}, {',': 'PUNCT'}, {'\"': 'PUNCT'}, {\"'\": 'PUNCT'}, {'Petal': 'ADJ'}, {\"'\": 'PUNCT'}, {',': 'PUNCT'}, {'\"': 'PUNCT'}, {',': 'PUNCT'}, {'\"': 'PUNCT'}, {\"'\": 'PUNCT'}, {'Width': 'PROPN'}, {\"'\": 'PUNCT'}, {',': 'PUNCT'}, {'\"': 'PUNCT'}, {',': 'PUNCT'}, {'\"': 'PUNCT'}, {\"'\": 'PUNCT'}, {'0': 'X'}, {\"'\": 'PUNCT'}, {',': 'PUNCT'}, {'\"': 'PUNCT'}, {',': 'PUNCT'}, {'\"': 'PUNCT'}, {\"'\": 'PROPN'}, {'1': 'X'}, {\"'\": 'NUM'}, {']': 'PUNCT'}, {'\"': 'PUNCT'}, {']': 'PUNCT'}, {'[': 'X'}, {'\"': 'PUNCT'}, {'[': 'X'}, {\"'\": 'VERB'}, {'SUM': 'NOUN'}, {\"'\": 'PUNCT'}, {',': 'PUNCT'}, {'\"': 'PUNCT'}, {',': 'PUNCT'}, {'\"': 'PUNCT'}, {\"'\": 'PUNCT'}, {'Sepal': 'NOUN'}, {\"'\": 'PUNCT'}, {',': 'PUNCT'}, {'\"': 'PUNCT'}, {',': 'PUNCT'}, {'\"': 'PUNCT'}, {\"'\": 'PUNCT'}, {'Length': 'X'}, {\"'\": 'PUNCT'}, {']': 'PUNCT'}, {'\"': 'PUNCT'}, {']': 'PUNCT'}, {'[': 'X'}, {'\"': 'PUNCT'}, {'[': 'X'}, {\"'\": 'X'}, {'AVG': 'PROPN'}, {\"'\": 'NUM'}, {',': 'PUNCT'}, {'\"': 'PUNCT'}, {',': 'PUNCT'}, {'\"': 'PUNCT'}, {\"'\": 'PUNCT'}, {'Petal': 'ADJ'}, {\"'\": 'PUNCT'}, {',': 'PUNCT'}, {'\"': 'PUNCT'}, {',': 'PUNCT'}, {'\"': 'PUNCT'}, {\"'\": 'PUNCT'}, {'Width': 'PROPN'}, {\"'\": 'PUNCT'}, {']': 'PUNCT'}, {'\"': 'PUNCT'}, {']': 'PUNCT'}, {'[': 'X'}, {'\"': 'PUNCT'}, {'[': 'X'}, {\"'\": 'VERB'}, {'FIXED': 'NOUN'}, {\"'\": 'PUNCT'}, {',': 'PUNCT'}, {'\"': 'PUNCT'}, {',': 'PUNCT'}, {'\"': 'PUNCT'}, {\"'\": 'PUNCT'}, {'Species': 'NOUN'}, {\"'\": 'PUNCT'}, {',': 'PUNCT'}, {'\"': 'PUNCT'}, {',': 'PUNCT'}, {'\"': 'PUNCT'}, {\"'\": 'PUNCT'}, {'setosa': 'VERB'}, {\"'\": 'PUNCT'}, {',': 'PUNCT'}, {'\"': 'PUNCT'}, {',': 'PUNCT'}, {'\"': 'PUNCT'}, {\"'\": 'PUNCT'}, {'MEDIAN': 'PROPN'}, {\"'\": 'PUNCT'}, {',': 'PUNCT'}, {'\"': 'PUNCT'}, {',': 'PUNCT'}, {'\"': 'PUNCT'}, {\"'\": 'PUNCT'}, {'Sepal': 'NOUN'}, {\"'\": 'PUNCT'}, {',': 'PUNCT'}, {'\"': 'PUNCT'}, {',': 'PUNCT'}, {'\"': 'PUNCT'}, {\"'\": 'PUNCT'}, {'Width': 'PROPN'}, {\"'\": 'PUNCT'}, {']': 'PUNCT'}, {'\"': 'PUNCT'}, {']': 'PUNCT'}, {'[': 'X'}, {'\"': 'PUNCT'}, {'[': 'X'}, {\"'\": 'VERB'}, {'SUM': 'NOUN'}, {\"'\": 'PUNCT'}, {',': 'PUNCT'}, {'\"': 'PUNCT'}, {',': 'PUNCT'}, {'\"': 'PUNCT'}, {\"'\": 'PUNCT'}, {'IF': 'SCONJ'}, {\"'\": 'NUM'}, {',': 'PUNCT'}, {'\"': 'PUNCT'}, {',': 'PUNCT'}, {'\"': 'PUNCT'}, {\"'\": 'PUNCT'}, {'Species': 'NOUN'}, {\"'\": 'PUNCT'}, {',': 'PUNCT'}, {'\"': 'PUNCT'}, {',': 'PUNCT'}, {'\"': 'PUNCT'}, {\"'\": 'PUNCT'}, {'versicolor': 'NOUN'}, {\"'\": 'PUNCT'}, {',': 'PUNCT'}, {'\"': 'PUNCT'}, {',': 'PUNCT'}, {'\"': 'PUNCT'}, {\"'\": 'PUNCT'}, {'THEN': 'ADV'}, {\"'\": 'NUM'}, {',': 'PUNCT'}, {'\"': 'PUNCT'}, {',': 'PUNCT'}, {'\"': 'PUNCT'}, {\"'\": 'PROPN'}, {'1': 'X'}, {\"'\": 'NUM'}, {',': 'PUNCT'}, {'\"': 'PUNCT'}, {',': 'PUNCT'}, {'\"': 'PUNCT'}, {\"'\": 'PUNCT'}, {'ELSE': 'ADV'}, {\"'\": 'NUM'}, {',': 'PUNCT'}, {'\"': 'PUNCT'}, {',': 'PUNCT'}, {'\"': 'PUNCT'}, {\"'\": 'PUNCT'}, {'0': 'X'}, {\"'\": 'PUNCT'}, {',': 'PUNCT'}, {'\"': 'PUNCT'}, {',': 'PUNCT'}, {'\"': 'PUNCT'}, {\"'\": 'PUNCT'}, {'END': 'PROPN'}, {\"'\": 'PUNCT'}, {']': 'PUNCT'}, {'\"': 'PUNCT'}, {']': 'PUNCT'}, {'[': 'X'}, {'\"': 'PUNCT'}, {'[': 'X'}, {\"'\": 'VERB'}, {'COUNTD': 'PROPN'}, {\"'\": 'PUNCT'}, {',': 'PUNCT'}, {'\"': 'PUNCT'}, {',': 'PUNCT'}, {'\"': 'PUNCT'}, {\"'\": 'PUNCT'}, {'IF': 'SCONJ'}, {\"'\": 'NUM'}, {',': 'PUNCT'}, {'\"': 'PUNCT'}, {',': 'PUNCT'}, {'\"': 'PUNCT'}, {\"'\": 'PUNCT'}, {'Sepal': 'NOUN'}, {\"'\": 'PUNCT'}, {',': 'PUNCT'}, {'\"': 'PUNCT'}, {',': 'PUNCT'}, {'\"': 'PUNCT'}, {\"'\": 'PUNCT'}, {'Length': 'PROPN'}, {\"'\": 'PUNCT'}, {',': 'PUNCT'}, {'\"': 'PUNCT'}, {',': 'PUNCT'}, {'\"': 'PUNCT'}, {\"'\": 'PROPN'}, {'5': 'NUM'}, {\"'\": 'NUM'}, {',': 'PUNCT'}, {'\"': 'PUNCT'}, {',': 'PUNCT'}, {'\"': 'PUNCT'}, {\"'\": 'PUNCT'}, {'0': 'X'}, {\"'\": 'PUNCT'}, {',': 'PUNCT'}, {'\"': 'PUNCT'}, {',': 'PUNCT'}, {'\"': 'PUNCT'}, {\"'\": 'PUNCT'}, {'THEN': 'ADV'}, {\"'\": 'NUM'}, {',': 'PUNCT'}, {'\"': 'PUNCT'}, {',': 'PUNCT'}, {'\"': 'PUNCT'}, {\"'\": 'PUNCT'}, {'Species': 'NOUN'}, {\"'\": 'PUNCT'}, {',': 'PUNCT'}, {'\"': 'PUNCT'}, {',': 'PUNCT'}, {'\"': 'PUNCT'}, {\"'\": 'PUNCT'}, {'ELSE': 'ADV'}, {\"'\": 'NUM'}, {',': 'PUNCT'}, {'\"': 'PUNCT'}, {',': 'PUNCT'}, {'\"': 'PUNCT'}, {\"'\": 'PUNCT'}, {'NULL': 'VERB'}, {\"'\": 'PUNCT'}, {',': 'PUNCT'}, {'\"': 'PUNCT'}, {',': 'PUNCT'}, {'\"': 'PUNCT'}, {\"'\": 'PUNCT'}, {'END': 'PROPN'}, {\"'\": 'PUNCT'}, {']': 'PUNCT'}, {'\"': 'PUNCT'}, {']': 'PUNCT'}, {'[': 'X'}, {'\"': 'PUNCT'}, {'[': 'X'}, {\"'\": 'VERB'}, {'FIXED': 'NOUN'}, {\"'\": 'PUNCT'}, {',': 'PUNCT'}, {'\"': 'PUNCT'}, {',': 'PUNCT'}, {'\"': 'PUNCT'}, {\"'\": 'PUNCT'}, {'Species': 'NOUN'}, {\"'\": 'PUNCT'}, {',': 'PUNCT'}, {'\"': 'PUNCT'}, {',': 'PUNCT'}, {'\"': 'PUNCT'}, {\"'\": 'PUNCT'}, {'virginica': 'X'}, {\"'\": 'PUNCT'}, {',': 'PUNCT'}, {'\"': 'PUNCT'}, {',': 'PUNCT'}, {'\"': 'PUNCT'}, {\"'\": 'PUNCT'}, {'MIN': 'PROPN'}, {\"'\": 'PROPN'}, {',': 'PUNCT'}, {'\"': 'PUNCT'}, {',': 'PUNCT'}, {'\"': 'PUNCT'}, {\"'\": 'PUNCT'}, {'Petal': 'ADJ'}, {\"'\": 'PUNCT'}, {',': 'PUNCT'}, {'\"': 'PUNCT'}, {',': 'PUNCT'}, {'\"': 'PUNCT'}, {\"'\": 'PUNCT'}, {'Length': 'X'}, {\"'\": 'PUNCT'}, {']': 'PUNCT'}, {'\"': 'PUNCT'}, {']': 'PUNCT'}, {'[': 'X'}, {'\"': 'PUNCT'}, {'[': 'X'}, {\"'\": 'VERB'}, {'FIXED': 'NOUN'}, {\"'\": 'PUNCT'}, {',': 'PUNCT'}, {'\"': 'PUNCT'}, {',': 'PUNCT'}, {'\"': 'PUNCT'}, {\"'\": 'PUNCT'}, {'Species': 'NOUN'}, {\"'\": 'PUNCT'}, {',': 'PUNCT'}, {'\"': 'PUNCT'}, {',': 'PUNCT'}, {'\"': 'PUNCT'}, {\"'\": 'PUNCT'}, {'setosa': 'VERB'}, {\"'\": 'PUNCT'}, {',': 'PUNCT'}, {'\"': 'PUNCT'}, {',': 'PUNCT'}, {'\"': 'PUNCT'}, {\"'\": 'PUNCT'}, {'MAX': 'PROPN'}, {\"'\": 'PUNCT'}, {',': 'PUNCT'}, {'\"': 'PUNCT'}, {',': 'PUNCT'}, {'\"': 'PUNCT'}, {\"'\": 'PUNCT'}, {'Sepal': 'NOUN'}, {\"'\": 'PUNCT'}, {',': 'PUNCT'}, {'\"': 'PUNCT'}, {',': 'PUNCT'}, {'\"': 'PUNCT'}, {\"'\": 'PUNCT'}, {'Width': 'PROPN'}, {\"'\": 'PUNCT'}, {']': 'PUNCT'}, {'\"': 'PUNCT'}, {']': 'PUNCT'}, {'[': 'X'}, {'\"': 'PUNCT'}, {'[': 'X'}, {\"'\": 'PUNCT'}, {'sorted': 'VERB'}, {\"'\": 'PUNCT'}, {',': 'PUNCT'}, {'\"': 'PUNCT'}, {',': 'PUNCT'}, {'\"': 'PUNCT'}, {\"'\": 'PUNCT'}, {'by': 'ADP'}, {\"'\": 'NUM'}, {',': 'PUNCT'}, {'\"': 'PUNCT'}, {',': 'PUNCT'}, {'\"': 'PUNCT'}, {\"'\": 'PUNCT'}, {'Species': 'NOUN'}, {\"'\": 'PUNCT'}, {',': 'PUNCT'}, {'\"': 'PUNCT'}, {',': 'PUNCT'}, {'\"': 'PUNCT'}, {\"'\": 'PUNCT'}, {'alphabetically': 'ADV'}, {\"'\": 'VERB'}, {',': 'PUNCT'}, {'\"': 'PUNCT'}, {',': 'PUNCT'}, {'\"': 'PUNCT'}, {\"'\": 'PUNCT'}, {'COUNT': 'PROPN'}, {\"'\": 'PUNCT'}, {',': 'PUNCT'}, {'\"': 'PUNCT'}, {',': 'PUNCT'}, {'\"': 'PUNCT'}, {\"'\": 'PUNCT'}, {'Species': 'NOUN'}, {\"'\": 'PUNCT'}, {',': 'PUNCT'}, {'\"': 'PUNCT'}, {',': 'PUNCT'}, {'\"': 'PUNCT'}, {\"'\": 'PUNCT'}, {'GROUP': 'PROPN'}, {\"'\": 'PUNCT'}, {',': 'PUNCT'}, {'\"': 'PUNCT'}, {',': 'PUNCT'}, {'\"': 'PUNCT'}, {\"'\": 'PUNCT'}, {'BY': 'ADP'}, {\"'\": 'NUM'}, {',': 'PUNCT'}, {'\"': 'PUNCT'}, {',': 'PUNCT'}, {'\"': 'PUNCT'}, {\"'\": 'PUNCT'}, {'Species': 'NOUN'}, {\"'\": 'PUNCT'}, {',': 'PUNCT'}, {'\"': 'PUNCT'}, {',': 'PUNCT'}, {'\"': 'PUNCT'}, {\"'\": 'PUNCT'}, {'ORDER': 'NOUN'}, {\"'\": 'PUNCT'}, {',': 'PUNCT'}, {'\"': 'PUNCT'}, {',': 'PUNCT'}, {'\"': 'PUNCT'}, {\"'\": 'PUNCT'}, {'BY': 'ADP'}, {\"'\": 'NUM'}, {',': 'PUNCT'}, {'\"': 'PUNCT'}, {',': 'PUNCT'}, {'\"': 'PUNCT'}, {\"'\": 'PUNCT'}, {'Species': 'NOUN'}, {\"'\": 'PUNCT'}, {',': 'PUNCT'}, {'\"': 'PUNCT'}, {',': 'PUNCT'}, {'\"': 'PUNCT'}, {\"'\": 'PUNCT'}, {'ASC': 'PROPN'}, {\"'\": 'PUNCT'}, {']': 'PUNCT'}, {'\"': 'PUNCT'}, {']': 'PUNCT'}, {'[': 'X'}, {'\"': 'PUNCT'}, {'[': 'X'}, {\"'\": 'X'}, {'Species': 'NOUN'}, {\"'\": 'PUNCT'}, {',': 'PUNCT'}, {'\"': 'PUNCT'}, {',': 'PUNCT'}, {'\"': 'PUNCT'}, {\"'\": 'PUNCT'}, {'versicolor': 'NOUN'}, {\"'\": 'PUNCT'}, {',': 'PUNCT'}, {'\"': 'PUNCT'}, {',': 'PUNCT'}, {'\"': 'PUNCT'}, {\"'\": 'PUNCT'}, {'AND': 'CCONJ'}, {\"'\": 'NUM'}, {',': 'PUNCT'}, {'\"': 'PUNCT'}, {',': 'PUNCT'}, {'\"': 'PUNCT'}, {\"'\": 'PUNCT'}, {'Sepal': 'NOUN'}, {\"'\": 'PUNCT'}, {',': 'PUNCT'}, {'\"': 'PUNCT'}, {',': 'PUNCT'}, {'\"': 'PUNCT'}, {\"'\": 'PUNCT'}, {'Width': 'PROPN'}, {\"'\": 'PUNCT'}, {',': 'PUNCT'}, {'\"': 'PUNCT'}, {',': 'PUNCT'}, {'\"': 'PUNCT'}, {\"'\": 'PROPN'}, {'3': 'NUM'}, {\"'\": 'NUM'}, {',': 'PUNCT'}, {'\"': 'PUNCT'}, {',': 'PUNCT'}, {'\"': 'PUNCT'}, {\"'\": 'PUNCT'}, {'0': 'X'}, {\"'\": 'PUNCT'}, {']': 'PUNCT'}, {'\"': 'PUNCT'}, {']': 'PUNCT'}, {'[': 'X'}, {'\"': 'PUNCT'}, {'[': 'X'}, {\"'\": 'PUNCT'}, {'RANK': 'VERB'}, {\"'\": 'PUNCT'}, {',': 'PUNCT'}, {'\"': 'PUNCT'}, {',': 'PUNCT'}, {'\"': 'PUNCT'}, {\"'\": 'PUNCT'}, {'Sepal': 'NOUN'}, {\"'\": 'PUNCT'}, {',': 'PUNCT'}, {'\"': 'PUNCT'}, {',': 'PUNCT'}, {'\"': 'PUNCT'}, {\"'\": 'PUNCT'}, {'Length': 'PROPN'}, {\"'\": 'PUNCT'}, {',': 'PUNCT'}, {'\"': 'PUNCT'}, {',': 'PUNCT'}, {'\"': 'PUNCT'}, {\"'\": 'PROPN'}, {'5': 'NUM'}, {\"'\": 'NUM'}, {',': 'PUNCT'}, {'\"': 'PUNCT'}, {',': 'PUNCT'}, {'\"': 'PUNCT'}, {\"'\": 'PUNCT'}, {'AND': 'CCONJ'}, {\"'\": 'NUM'}, {',': 'PUNCT'}, {'\"': 'PUNCT'}, {',': 'PUNCT'}, {'\"': 'PUNCT'}, {\"'\": 'PUNCT'}, {'Species': 'NOUN'}, {\"'\": 'PUNCT'}, {',': 'PUNCT'}, {'\"': 'PUNCT'}, {',': 'PUNCT'}, {'\"': 'PUNCT'}, {\"'\": 'PUNCT'}, {'virginica': 'X'}, {\"'\": 'PUNCT'}, {']': 'PUNCT'}, {'\"': 'PUNCT'}, {']': 'PUNCT'}, {'[': 'X'}, {'\"': 'PUNCT'}, {'[': 'X'}, {\"'\": 'NOUN'}, {'RANK_PERCENTILE': 'AUX'}, {\"'\": 'PUNCT'}, {',': 'PUNCT'}, {'\"': 'PUNCT'}, {',': 'PUNCT'}, {'\"': 'PUNCT'}, {\"'\": 'PUNCT'}, {'Petal': 'ADJ'}, {\"'\": 'PUNCT'}, {',': 'PUNCT'}, {'\"': 'PUNCT'}, {',': 'PUNCT'}, {'\"': 'PUNCT'}, {\"'\": 'PUNCT'}, {'Width': 'PROPN'}, {\"'\": 'PUNCT'}, {',': 'PUNCT'}, {'\"': 'PUNCT'}, {',': 'PUNCT'}, {'\"': 'PUNCT'}, {\"'\": 'PUNCT'}, {'0': 'X'}, {\"'\": 'PUNCT'}, {',': 'PUNCT'}, {'\"': 'PUNCT'}, {',': 'PUNCT'}, {'\"': 'PUNCT'}, {\"'\": 'PUNCT'}, {'9': 'NUM'}, {\"'\": 'PUNCT'}, {']': 'PUNCT'}, {'\"': 'PUNCT'}, {']': 'PUNCT'}, {'[': 'X'}, {'\"': 'PUNCT'}, {'[': 'X'}, {\"'\": 'PUNCT'}, {'listed': 'VERB'}, {\"'\": 'PUNCT'}, {',': 'PUNCT'}, {'\"': 'PUNCT'}, {',': 'PUNCT'}, {'\"': 'PUNCT'}, {\"'\": 'PUNCT'}, {'from': 'ADP'}, {\"'\": 'NUM'}, {',': 'PUNCT'}, {'\"': 'PUNCT'}, {',': 'PUNCT'}, {'\"': 'PUNCT'}, {\"'\": 'PUNCT'}, {'highest': 'ADJ'}, {\"'\": 'PUNCT'}, {',': 'PUNCT'}, {'\"': 'PUNCT'}, {',': 'PUNCT'}, {'\"': 'PUNCT'}, {\"'\": 'PUNCT'}, {'to': 'PART'}, {\"'\": 'NUM'}, {',': 'PUNCT'}, {'\"': 'PUNCT'}, {',': 'PUNCT'}, {'\"': 'PUNCT'}, {\"'\": 'PUNCT'}, {'lowest': 'ADJ'}, {\"'\": 'PUNCT'}, {',': 'PUNCT'}, {'\"': 'PUNCT'}, {',': 'PUNCT'}, {'\"': 'PUNCT'}, {\"'\": 'PUNCT'}, {'AVG': 'PROPN'}, {\"'\": 'PUNCT'}, {',': 'PUNCT'}, {'\"': 'PUNCT'}, {',': 'PUNCT'}, {'\"': 'PUNCT'}, {\"'\": 'PUNCT'}, {'Sepal': 'NOUN'}, {\"'\": 'PUNCT'}, {',': 'PUNCT'}, {'\"': 'PUNCT'}, {',': 'PUNCT'}, {'\"': 'PUNCT'}, {\"'\": 'PUNCT'}, {'Length': 'PROPN'}, {\"'\": 'PUNCT'}, {',': 'PUNCT'}, {'\"': 'PUNCT'}, {',': 'PUNCT'}, {'\"': 'PUNCT'}, {\"'\": 'PUNCT'}, {'GROUP': 'PROPN'}, {\"'\": 'PUNCT'}, {',': 'PUNCT'}, {'\"': 'PUNCT'}, {',': 'PUNCT'}, {'\"': 'PUNCT'}, {\"'\": 'PUNCT'}, {'BY': 'ADP'}, {\"'\": 'NUM'}, {',': 'PUNCT'}, {'\"': 'PUNCT'}, {',': 'PUNCT'}, {'\"': 'PUNCT'}, {\"'\": 'PUNCT'}, {'Species': 'NOUN'}, {\"'\": 'PUNCT'}, {',': 'PUNCT'}, {'\"': 'PUNCT'}, {',': 'PUNCT'}, {'\"': 'PUNCT'}, {\"'\": 'PUNCT'}, {'ORDER': 'NOUN'}, {\"'\": 'PUNCT'}, {',': 'PUNCT'}, {'\"': 'PUNCT'}, {',': 'PUNCT'}, {'\"': 'PUNCT'}, {\"'\": 'PUNCT'}, {'BY': 'ADP'}, {\"'\": 'NUM'}, {',': 'PUNCT'}, {'\"': 'PUNCT'}, {',': 'PUNCT'}, {'\"': 'PUNCT'}, {\"'\": 'PUNCT'}, {'AVG': 'PROPN'}, {\"'\": 'PUNCT'}, {',': 'PUNCT'}, {'\"': 'PUNCT'}, {',': 'PUNCT'}, {'\"': 'PUNCT'}, {\"'\": 'PUNCT'}, {'Sepal': 'NOUN'}, {\"'\": 'PUNCT'}, {',': 'PUNCT'}, {'\"': 'PUNCT'}, {',': 'PUNCT'}, {'\"': 'PUNCT'}, {\"'\": 'PUNCT'}, {'Length': 'PROPN'}, {\"'\": 'PUNCT'}, {',': 'PUNCT'}, {'\"': 'PUNCT'}, {',': 'PUNCT'}, {'\"': 'PUNCT'}, {\"'\": 'PUNCT'}, {'DESC': 'VERB'}, {\"'\": 'PUNCT'}, {']': 'PUNCT'}, {'\"': 'PUNCT'}, {']': 'PUNCT'}, {'[': 'X'}, {'\"': 'PUNCT'}, {'[': 'X'}, {\"'\": 'X'}, {'Species': 'NOUN'}, {\"'\": 'PUNCT'}, {',': 'PUNCT'}, {'\"': 'PUNCT'}, {',': 'PUNCT'}, {'\"': 'PUNCT'}, {\"'\": 'PUNCT'}, {'setosa': 'VERB'}, {\"'\": 'PUNCT'}, {',': 'PUNCT'}, {'\"': 'PUNCT'}, {',': 'PUNCT'}, {'\"': 'PUNCT'}, {\"'\": 'PUNCT'}, {'AND': 'CCONJ'}, {\"'\": 'NUM'}, {',': 'PUNCT'}, {'\"': 'PUNCT'}, {',': 'PUNCT'}, {'\"': 'PUNCT'}, {\"'\": 'PUNCT'}, {'Petal': 'ADJ'}, {\"'\": 'PUNCT'}, {',': 'PUNCT'}, {'\"': 'PUNCT'}, {',': 'PUNCT'}, {'\"': 'PUNCT'}, {\"'\": 'PUNCT'}, {'Length': 'PROPN'}, {\"'\": 'PUNCT'}, {',': 'PUNCT'}, {'\"': 'PUNCT'}, {',': 'PUNCT'}, {'\"': 'PUNCT'}, {\"'\": 'PUNCT'}, {'BETWEEN': 'ADP'}, {\"'\": 'PUNCT'}, {',': 'PUNCT'}, {'\"': 'PUNCT'}, {',': 'PUNCT'}, {'\"': 'PUNCT'}, {\"'\": 'PROPN'}, {'4': 'NUM'}, {\"'\": 'NUM'}, {',': 'PUNCT'}, {'\"': 'PUNCT'}, {',': 'PUNCT'}, {'\"': 'PUNCT'}, {\"'\": 'PUNCT'}, {'0': 'X'}, {\"'\": 'PUNCT'}, {',': 'PUNCT'}, {'\"': 'PUNCT'}, {',': 'PUNCT'}, {'\"': 'PUNCT'}, {\"'\": 'PUNCT'}, {'AND': 'CCONJ'}, {\"'\": 'NUM'}, {',': 'PUNCT'}, {'\"': 'PUNCT'}, {',': 'PUNCT'}, {'\"': 'PUNCT'}, {\"'\": 'PROPN'}, {'5': 'NUM'}, {\"'\": 'NUM'}, {',': 'PUNCT'}, {'\"': 'PUNCT'}, {',': 'PUNCT'}, {'\"': 'PUNCT'}, {\"'\": 'PUNCT'}, {'0': 'X'}, {\"'\": 'PUNCT'}, {']': 'PUNCT'}, {'\"': 'PUNCT'}, {']': 'PUNCT'}, {'[': 'X'}, {'\"': 'PUNCT'}, {'[': 'X'}, {\"'\": 'VERB'}, {'SUM': 'NOUN'}, {\"'\": 'PUNCT'}, {',': 'PUNCT'}, {'\"': 'PUNCT'}, {',': 'PUNCT'}, {'\"': 'PUNCT'}, {\"'\": 'PUNCT'}, {'IF': 'SCONJ'}, {\"'\": 'NUM'}, {',': 'PUNCT'}, {'\"': 'PUNCT'}, {',': 'PUNCT'}, {'\"': 'PUNCT'}, {\"'\": 'PUNCT'}, {'CONTAINS': 'VERB'}, {\"'\": 'PUNCT'}, {',': 'PUNCT'}, {'\"': 'PUNCT'}, {',': 'PUNCT'}, {'\"': 'PUNCT'}, {\"'\": 'PUNCT'}, {'Species': 'NOUN'}, {\"'\": 'PUNCT'}, {',': 'PUNCT'}, {'\"': 'PUNCT'}, {',': 'PUNCT'}, {'\"': 'PUNCT'}, {\"'\": 'PUNCT'}, {'color': 'VERB'}, {\"'\": 'PUNCT'}, {',': 'PUNCT'}, {'\"': 'PUNCT'}, {',': 'PUNCT'}, {'\"': 'PUNCT'}, {\"'\": 'PUNCT'}, {'THEN': 'ADV'}, {\"'\": 'NUM'}, {',': 'PUNCT'}, {'\"': 'PUNCT'}, {',': 'PUNCT'}, {'\"': 'PUNCT'}, {\"'\": 'PROPN'}, {'1': 'X'}, {\"'\": 'NUM'}, {',': 'PUNCT'}, {'\"': 'PUNCT'}, {',': 'PUNCT'}, {'\"': 'PUNCT'}, {\"'\": 'PUNCT'}, {'ELSE': 'ADV'}, {\"'\": 'NUM'}, {',': 'PUNCT'}, {'\"': 'PUNCT'}, {',': 'PUNCT'}, {'\"': 'PUNCT'}, {\"'\": 'PUNCT'}, {'0': 'X'}, {\"'\": 'PUNCT'}, {',': 'PUNCT'}, {'\"': 'PUNCT'}, {',': 'PUNCT'}, {'\"': 'PUNCT'}, {\"'\": 'PUNCT'}, {'END': 'PROPN'}, {\"'\": 'PUNCT'}, {']': 'PUNCT'}, {'\"': 'PUNCT'}, {']': 'PUNCT'}, {'[': 'X'}, {'\"': 'PUNCT'}, {'[': 'X'}, {\"'\": 'PUNCT'}, {'STARTSWITH': 'VERB'}, {\"'\": 'PUNCT'}, {',': 'PUNCT'}, {'\"': 'PUNCT'}, {',': 'PUNCT'}, {'\"': 'PUNCT'}, {\"'\": 'PUNCT'}, {'Species': 'NOUN'}, {\"'\": 'PUNCT'}, {',': 'PUNCT'}, {'\"': 'PUNCT'}, {',': 'PUNCT'}, {'\"': 'PUNCT'}, {\"'\": 'PUNCT'}, {'Iri': 'PROPN'}, {\"'\": 'PROPN'}, {',': 'PUNCT'}, {'\"': 'PUNCT'}, {',': 'PUNCT'}, {'\"': 'PUNCT'}, {\"'\": 'PUNCT'}, {'AND': 'CCONJ'}, {\"'\": 'NUM'}, {',': 'PUNCT'}, {'\"': 'PUNCT'}, {',': 'PUNCT'}, {'\"': 'PUNCT'}, {\"'\": 'PUNCT'}, {'ENDSWITH': 'VERB'}, {\"'\": 'PUNCT'}, {',': 'PUNCT'}, {'\"': 'PUNCT'}, {',': 'PUNCT'}, {'\"': 'PUNCT'}, {\"'\": 'PUNCT'}, {'Species': 'NOUN'}, {\"'\": 'PUNCT'}, {',': 'PUNCT'}, {'\"': 'PUNCT'}, {',': 'PUNCT'}, {'\"': 'PUNCT'}, {\"'\": 'PUNCT'}, {'a': 'DET'}, {\"'\": 'PUNCT'}, {']': 'PUNCT'}, {'\"': 'PUNCT'}, {']': 'PUNCT'}]\n",
            "Tokenized Formula (Tableau) : ['ADV', 'NUM', 'PART', 'SCONJ', 'ADP', 'VERB', 'NOUN', 'PUNCT', 'AUX', 'CCONJ', 'PROPN', 'DET', 'X', 'ADJ']\n"
          ]
        }
      ]
    },
    {
      "cell_type": "code",
      "source": [
        "for pat in p_t:\n",
        "    print({pat:p_t[pat]})"
      ],
      "metadata": {
        "colab": {
          "base_uri": "https://localhost:8080/"
        },
        "id": "WbkFmeMnIuaB",
        "outputId": "8bbec4e0-2aea-4aa5-d465-70d6ecf7c864"
      },
      "execution_count": 25,
      "outputs": [
        {
          "output_type": "stream",
          "name": "stdout",
          "text": [
            "{'ADV': ['alphabetically', 'ELSE', 'THEN', 'SORT']}\n",
            "{'NUM': ['9', 'TOP', \"'\", '3', '5', '4']}\n",
            "{'PART': ['to']}\n",
            "{'SCONJ': ['IF']}\n",
            "{'ADP': ['WITH', 'BY', 'BETWEEN', 'by', 'from']}\n",
            "{'VERB': ['listed', 'STARTSWITH', 'ENDSWITH', \"'\", 'RANK', 'NULL', 'sorted', 'color', 'Date', 'setosa', 'SUM', 'DESC', 'DISTINCT', 'CONTAINS']}\n",
            "{'NOUN': ['Species', 'year', 'ENDSWITH', 'ORDER', 'Sepal', 'TODAY', 'C', \"'\", 'FIXED', 'Date', 'SUM', 'YEAR', 'month', 'versicolor']}\n",
            "{'PUNCT': [',', ']', \"'\", '\"']}\n",
            "{'AUX': ['RANK_PERCENTILE']}\n",
            "{'CCONJ': ['AND']}\n",
            "{'PROPN': [\"'\", 'COUNTD', 'AVG', 'MAX', 'Width', 'Date', 'Setosa', 'GROUP', 'Se', 'LEFT', 'ASC', 'END', 'STARTS', 'INDEX', 'Iri', 'Species', 'MIN', 'COUNT', 'Length', 'DATETRUNC', 'MEDIAN']}\n",
            "{'DET': ['a']}\n",
            "{'X': ['2', '1', \"'\", 'Length', '0', 'virginica', 'ica', '[']}\n",
            "{'ADJ': ['Petal', 'highest', 'lowest']}\n"
          ]
        }
      ]
    },
    {
      "cell_type": "code",
      "source": [
        "p_e=dg_ent['Patterns_Symbols(Tableau)']=get_patterns(dg_tok,dg_tok.columns[2])"
      ],
      "metadata": {
        "colab": {
          "base_uri": "https://localhost:8080/"
        },
        "id": "YuVGpeK9kcvl",
        "outputId": "ea112efd-a17a-4f32-eee5-f8a7f8d9414f"
      },
      "execution_count": 26,
      "outputs": [
        {
          "output_type": "stream",
          "name": "stdout",
          "text": [
            "[{'[': 'X'}, {'\"': 'PUNCT'}, {'[': 'X'}, {\"'\": 'VERB'}, {'(': 'PUNCT'}, {\"'\": 'PUNCT'}, {',': 'PUNCT'}, {'\"': 'PUNCT'}, {',': 'PUNCT'}, {'\"': 'PUNCT'}, {\"'\": 'PUNCT'}, {')': 'PUNCT'}, {\"'\": 'PUNCT'}, {']': 'PUNCT'}, {'\"': 'PUNCT'}, {']': 'PUNCT'}, {'[': 'X'}, {'\"': 'PUNCT'}, {'[': 'X'}, {\"'\": 'VERB'}, {'(': 'PUNCT'}, {\"'\": 'PUNCT'}, {',': 'PUNCT'}, {'\"': 'PUNCT'}, {',': 'PUNCT'}, {'\"': 'PUNCT'}, {\"'\": 'PUNCT'}, {')': 'PUNCT'}, {\"'\": 'PUNCT'}, {']': 'PUNCT'}, {'\"': 'PUNCT'}, {']': 'PUNCT'}, {'[': 'X'}, {'\"': 'PUNCT'}, {'[': 'X'}, {\"'\": 'VERB'}, {'(': 'PUNCT'}, {\"'\": 'PUNCT'}, {',': 'PUNCT'}, {'\"': 'PUNCT'}, {',': 'PUNCT'}, {'\"': 'PUNCT'}, {\"'\": 'PUNCT'}, {')': 'PUNCT'}, {\"'\": 'PUNCT'}, {']': 'PUNCT'}, {'\"': 'PUNCT'}, {']': 'PUNCT'}, {'[': 'X'}, {'\"': 'PUNCT'}, {'[': 'X'}, {\"'\": 'PROPN'}, {'(': 'PUNCT'}, {'*': 'PUNCT'}, {')': 'PUNCT'}, {\"'\": 'PUNCT'}, {']': 'PUNCT'}, {'\"': 'PUNCT'}, {']': 'PUNCT'}, {'[': 'X'}, {'\"': 'PUNCT'}, {'[': 'X'}, {\"'\": 'VERB'}, {'(': 'PUNCT'}, {\"'\": 'PUNCT'}, {',': 'PUNCT'}, {'\"': 'PUNCT'}, {',': 'PUNCT'}, {'\"': 'PUNCT'}, {\"'\": 'PUNCT'}, {')': 'PUNCT'}, {\"'\": 'PUNCT'}, {']': 'PUNCT'}, {'\"': 'PUNCT'}, {']': 'PUNCT'}, {'[': 'X'}, {'\"': 'PUNCT'}, {'[': 'X'}, {\"'\": 'VERB'}, {'(': 'PUNCT'}, {\"'\": 'PUNCT'}, {',': 'PUNCT'}, {'\"': 'PUNCT'}, {',': 'PUNCT'}, {'\"': 'PUNCT'}, {\"'\": 'PUNCT'}, {')': 'PUNCT'}, {\"'\": 'PUNCT'}, {']': 'PUNCT'}, {'\"': 'PUNCT'}, {']': 'PUNCT'}, {'[': 'X'}, {'\"': 'PUNCT'}, {'[': 'X'}, {\"'\": 'VERB'}, {'(': 'PUNCT'}, {\"'\": 'PUNCT'}, {',': 'PUNCT'}, {'\"': 'PUNCT'}, {',': 'PUNCT'}, {'\"': 'PUNCT'}, {\"'\": 'PUNCT'}, {')': 'PUNCT'}, {\"'\": 'PUNCT'}, {']': 'PUNCT'}, {'\"': 'PUNCT'}, {']': 'PUNCT'}, {'[': 'X'}, {'\"': 'PUNCT'}, {'[': 'X'}, {\"'\": 'VERB'}, {'(': 'PUNCT'}, {\"'\": 'PUNCT'}, {',': 'PUNCT'}, {'\"': 'PUNCT'}, {',': 'PUNCT'}, {'\"': 'PUNCT'}, {\"'\": 'PUNCT'}, {')': 'PUNCT'}, {\"'\": 'PUNCT'}, {']': 'PUNCT'}, {'\"': 'PUNCT'}, {']': 'PUNCT'}, {'[': 'X'}, {'\"': 'PUNCT'}, {'[': 'X'}, {\"'\": 'VERB'}, {'(': 'PUNCT'}, {\"'\": 'PUNCT'}, {',': 'PUNCT'}, {'\"': 'PUNCT'}, {',': 'PUNCT'}, {'\"': 'PUNCT'}, {\"'\": 'PUNCT'}, {')': 'PUNCT'}, {\"'\": 'PUNCT'}, {']': 'PUNCT'}, {'\"': 'PUNCT'}, {']': 'PUNCT'}, {'[': 'X'}, {'\"': 'PUNCT'}, {'[': 'X'}, {\"'\": 'VERB'}, {'(': 'PUNCT'}, {\"'\": 'PUNCT'}, {',': 'PUNCT'}, {'\"': 'PUNCT'}, {',': 'PUNCT'}, {'\"': 'PUNCT'}, {\"'\": 'PUNCT'}, {')': 'PUNCT'}, {\"'\": 'PUNCT'}, {']': 'PUNCT'}, {'\"': 'PUNCT'}, {']': 'PUNCT'}, {'[': 'X'}, {'\"': 'PUNCT'}, {'[': 'X'}, {\"'\": 'X'}, {'>': 'X'}, {'=': 'X'}, {\"'\": 'VERB'}, {',': 'PUNCT'}, {'\"': 'PUNCT'}, {',': 'PUNCT'}, {'\"': 'PUNCT'}, {\"'\": 'PUNCT'}, {'.': 'PUNCT'}, {\"'\": 'PUNCT'}, {']': 'PUNCT'}, {'\"': 'PUNCT'}, {']': 'PUNCT'}, {'[': 'X'}, {'\"': 'PUNCT'}, {'[': 'X'}, {\"'\": 'PUNCT'}, {'.': 'PUNCT'}, {\"'\": 'PUNCT'}, {',': 'PUNCT'}, {'\"': 'PUNCT'}, {',': 'PUNCT'}, {'\"': 'PUNCT'}, {\"'\": 'PUNCT'}, {'.': 'PUNCT'}, {\"'\": 'PUNCT'}, {']': 'PUNCT'}, {'\"': 'PUNCT'}, {']': 'PUNCT'}, {'[': 'X'}, {'\"': 'PUNCT'}, {'[': 'X'}, {\"'\": 'VERB'}, {'(': 'PUNCT'}, {\"'\": 'PUNCT'}, {',': 'PUNCT'}, {'\"': 'PUNCT'}, {',': 'PUNCT'}, {'\"': 'PUNCT'}, {\"'\": 'PUNCT'}, {')': 'PUNCT'}, {\"'\": 'PUNCT'}, {']': 'PUNCT'}, {'\"': 'PUNCT'}, {']': 'PUNCT'}, {'[': 'X'}, {'\"': 'PUNCT'}, {'[': 'X'}, {\"'\": 'X'}, {'=': 'VERB'}, {\"'\": 'NUM'}, {',': 'PUNCT'}, {'\"': 'PUNCT'}, {',': 'PUNCT'}, {\"'\": 'PUNCT'}, {'\"': 'PUNCT'}, {'\\\\': 'PROPN'}, {\"'\": 'PUNCT'}, {'\"': 'PUNCT'}, {',': 'PUNCT'}, {\"'\": 'PUNCT'}, {',': 'PUNCT'}, {\"'\": 'PUNCT'}, {'\"': 'PUNCT'}, {'\\\\': 'PROPN'}, {\"'\": 'PUNCT'}, {'\"': 'PUNCT'}, {']': 'PUNCT'}, {\"'\": 'X'}, {']': 'PUNCT'}, {'[': 'X'}, {\"'\": 'PUNCT'}, {'[': 'X'}, {'\"': 'PUNCT'}, {'\\\\': 'PROPN'}, {\"'\": 'PUNCT'}, {'\"': 'PUNCT'}, {',': 'PUNCT'}, {\"'\": 'PUNCT'}, {',': 'PUNCT'}, {\"'\": 'PUNCT'}, {'\"': 'PUNCT'}, {'\\\\': 'PROPN'}, {\"'\": 'PUNCT'}, {'\"': 'PUNCT'}, {']': 'PUNCT'}, {\"'\": 'X'}, {']': 'PUNCT'}, {'[': 'X'}, {'\"': 'PUNCT'}, {'[': 'X'}, {\"'\": 'VERB'}, {'(': 'PUNCT'}, {'[': 'X'}, {\"'\": 'NUM'}, {',': 'PUNCT'}, {'\"': 'PUNCT'}, {',': 'PUNCT'}, {'\"': 'PUNCT'}, {\"'\": 'PUNCT'}, {']': 'PUNCT'}, {')': 'PUNCT'}, {\"'\": 'PUNCT'}, {']': 'PUNCT'}, {'\"': 'PUNCT'}, {']': 'PUNCT'}, {'[': 'X'}, {'\"': 'PUNCT'}, {'[': 'X'}, {\"'\": 'VERB'}, {'(': 'PUNCT'}, {'[': 'X'}, {\"'\": 'NUM'}, {',': 'PUNCT'}, {'\"': 'PUNCT'}, {',': 'PUNCT'}, {'\"': 'PUNCT'}, {\"'\": 'PUNCT'}, {']': 'PUNCT'}, {')': 'PUNCT'}, {\"'\": 'PUNCT'}, {']': 'PUNCT'}, {'\"': 'PUNCT'}, {']': 'PUNCT'}, {'[': 'X'}, {'\"': 'PUNCT'}, {'[': 'X'}, {\"'\": 'VERB'}, {'(': 'PUNCT'}, {'[': 'X'}, {\"'\": 'NUM'}, {',': 'PUNCT'}, {'\"': 'PUNCT'}, {',': 'PUNCT'}, {'\"': 'PUNCT'}, {\"'\": 'PUNCT'}, {']': 'PUNCT'}, {')': 'PUNCT'}, {\"'\": 'PUNCT'}, {']': 'PUNCT'}, {'\"': 'PUNCT'}, {']': 'PUNCT'}, {'[': 'X'}, {'\"': 'PUNCT'}, {'[': 'X'}, {\"'\": 'VERB'}, {'(': 'PUNCT'}, {'[': 'X'}, {\"'\": 'NUM'}, {',': 'PUNCT'}, {'\"': 'PUNCT'}, {',': 'PUNCT'}, {'\"': 'PUNCT'}, {\"'\": 'PUNCT'}, {']': 'PUNCT'}, {')': 'PUNCT'}, {\"'\": 'PUNCT'}, {']': 'PUNCT'}, {'\"': 'PUNCT'}, {']': 'PUNCT'}, {'[': 'X'}, {'\"': 'PUNCT'}, {'[': 'X'}, {\"'\": 'VERB'}, {'(': 'PUNCT'}, {'[': 'X'}, {\"'\": 'NUM'}, {',': 'PUNCT'}, {'\"': 'PUNCT'}, {',': 'PUNCT'}, {'\"': 'PUNCT'}, {\"'\": 'PUNCT'}, {']': 'PUNCT'}, {')': 'PUNCT'}, {\"'\": 'PUNCT'}, {']': 'PUNCT'}, {'\"': 'PUNCT'}, {']': 'PUNCT'}, {'[': 'X'}, {'\"': 'PUNCT'}, {'[': 'X'}, {\"'\": 'VERB'}, {'(': 'PUNCT'}, {'[': 'X'}, {\"'\": 'NUM'}, {',': 'PUNCT'}, {'\"': 'PUNCT'}, {',': 'PUNCT'}, {'\"': 'PUNCT'}, {\"'\": 'PUNCT'}, {']': 'PUNCT'}, {')': 'PUNCT'}, {\"'\": 'PUNCT'}, {']': 'PUNCT'}, {'\"': 'PUNCT'}, {']': 'PUNCT'}, {'[': 'X'}, {'\"': 'PUNCT'}, {'[': 'X'}, {\"'\": 'VERB'}, {'(': 'PUNCT'}, {'[': 'X'}, {\"'\": 'NUM'}, {',': 'PUNCT'}, {'\"': 'PUNCT'}, {',': 'PUNCT'}, {'\"': 'PUNCT'}, {\"'\": 'PUNCT'}, {']': 'PUNCT'}, {')': 'PUNCT'}, {\"'\": 'PUNCT'}, {']': 'PUNCT'}, {'\"': 'PUNCT'}, {']': 'PUNCT'}, {'[': 'X'}, {'\"': 'PUNCT'}, {'[': 'X'}, {\"'\": 'VERB'}, {'(': 'PUNCT'}, {'[': 'X'}, {\"'\": 'NUM'}, {',': 'PUNCT'}, {'\"': 'PUNCT'}, {',': 'PUNCT'}, {'\"': 'PUNCT'}, {\"'\": 'PUNCT'}, {']': 'X'}, {',': 'PUNCT'}, {\"'\": 'PUNCT'}, {',': 'PUNCT'}, {'\"': 'PUNCT'}, {',': 'PUNCT'}, {'\"': 'PUNCT'}, {\"'\": 'PUNCT'}, {')': 'PUNCT'}, {\"'\": 'PUNCT'}, {']': 'PUNCT'}, {'\"': 'PUNCT'}, {']': 'PUNCT'}, {'[': 'X'}, {'\"': 'PUNCT'}, {'[': 'X'}, {\"'\": 'VERB'}, {'(': 'PUNCT'}, {'[': 'X'}, {\"'\": 'NUM'}, {',': 'PUNCT'}, {'\"': 'PUNCT'}, {',': 'PUNCT'}, {'\"': 'PUNCT'}, {\"'\": 'PUNCT'}, {']': 'X'}, {',': 'PUNCT'}, {\"'\": 'PUNCT'}, {',': 'PUNCT'}, {'\"': 'PUNCT'}, {',': 'PUNCT'}, {'\"': 'PUNCT'}, {\"'\": 'PUNCT'}, {')': 'PUNCT'}, {\"'\": 'PUNCT'}, {']': 'PUNCT'}, {'\"': 'PUNCT'}, {']': 'PUNCT'}, {'[': 'X'}, {'\"': 'PUNCT'}, {'[': 'X'}, {\"'\": 'X'}, {'[': 'X'}, {\"'\": 'PROPN'}, {',': 'PUNCT'}, {'\"': 'PUNCT'}, {',': 'PUNCT'}, {'\"': 'PUNCT'}, {\"'\": 'PUNCT'}, {']': 'X'}, {\"'\": 'NUM'}, {',': 'PUNCT'}, {'\"': 'PUNCT'}, {',': 'PUNCT'}, {'\"': 'PUNCT'}, {\"'\": 'PUNCT'}, {'>': 'X'}, {'=': 'X'}, {\"'\": 'VERB'}, {',': 'PUNCT'}, {'\"': 'PUNCT'}, {',': 'PUNCT'}, {'\"': 'PUNCT'}, {\"'\": 'PUNCT'}, {'.': 'PUNCT'}, {\"'\": 'PUNCT'}, {']': 'PUNCT'}, {'\"': 'PUNCT'}, {']': 'PUNCT'}, {'[': 'X'}, {'\"': 'PUNCT'}, {'[': 'X'}, {\"'\": 'X'}, {'[': 'X'}, {\"'\": 'PROPN'}, {',': 'PUNCT'}, {'\"': 'PUNCT'}, {',': 'PUNCT'}, {'\"': 'PUNCT'}, {\"'\": 'PUNCT'}, {']': 'X'}, {\"'\": 'NUM'}, {',': 'PUNCT'}, {'\"': 'PUNCT'}, {',': 'PUNCT'}, {'\"': 'PUNCT'}, {\"'\": 'PUNCT'}, {'<': 'X'}, {\"'\": 'PUNCT'}, {',': 'PUNCT'}, {'\"': 'PUNCT'}, {',': 'PUNCT'}, {'\"': 'PUNCT'}, {\"'\": 'PUNCT'}, {'.': 'PUNCT'}, {\"'\": 'PUNCT'}, {']': 'PUNCT'}, {'\"': 'PUNCT'}, {']': 'PUNCT'}, {'[': 'X'}, {'\"': 'PUNCT'}, {'[': 'X'}, {\"'\": 'X'}, {'[': 'X'}, {\"'\": 'PROPN'}, {',': 'PUNCT'}, {'\"': 'PUNCT'}, {',': 'PUNCT'}, {'\"': 'PUNCT'}, {\"'\": 'PUNCT'}, {']': 'X'}, {\"'\": 'NUM'}, {',': 'PUNCT'}, {'\"': 'PUNCT'}, {',': 'PUNCT'}, {'\"': 'PUNCT'}, {\"'\": 'PUNCT'}, {'!': 'PUNCT'}, {'=': 'PUNCT'}, {\"'\": 'VERB'}, {',': 'PUNCT'}, {'\"': 'PUNCT'}, {',': 'PUNCT'}, {'\"': 'PUNCT'}, {\"'\": 'PUNCT'}, {'.': 'PUNCT'}, {\"'\": 'PUNCT'}, {']': 'PUNCT'}, {'\"': 'PUNCT'}, {']': 'PUNCT'}, {'[': 'X'}, {'\"': 'PUNCT'}, {'[': 'X'}, {\"'\": 'VERB'}, {'(': 'PUNCT'}, {'[': 'X'}, {\"'\": 'NUM'}, {',': 'PUNCT'}, {'\"': 'PUNCT'}, {',': 'PUNCT'}, {'\"': 'PUNCT'}, {\"'\": 'PUNCT'}, {']': 'X'}, {',': 'PUNCT'}, {\"'\": 'PUNCT'}, {',': 'PUNCT'}, {'\"': 'PUNCT'}, {',': 'PUNCT'}, {\"'\": 'PUNCT'}, {'\\\\\\'\"\\\\': 'PROPN'}, {\"'\": 'PUNCT'}, {',': 'PUNCT'}, {\"'\": 'PUNCT'}, {',': 'PUNCT'}, {\"'\": 'PUNCT'}, {'\\\\\\'\")\\\\': 'NOUN'}, {\"'\": 'PUNCT'}, {']': 'PUNCT'}, {\"'\": 'PUNCT'}, {']': 'PUNCT'}, {'[': 'X'}, {'\"': 'PUNCT'}, {'[': 'X'}, {\"'\": 'X'}, {'[': 'X'}, {\"'\": 'PROPN'}, {',': 'PUNCT'}, {'\"': 'PUNCT'}, {',': 'PUNCT'}, {'\"': 'PUNCT'}, {\"'\": 'PUNCT'}, {']': 'X'}, {\"'\": 'NUM'}, {',': 'PUNCT'}, {'\"': 'PUNCT'}, {',': 'PUNCT'}, {'\"': 'PUNCT'}, {\"'\": 'PUNCT'}, {'=': 'VERB'}, {\"'\": 'VERB'}, {',': 'PUNCT'}, {'\"': 'PUNCT'}, {',': 'PUNCT'}, {'\"': 'PUNCT'}, {\"'\": 'PUNCT'}, {'.': 'PUNCT'}, {\"'\": 'PUNCT'}, {']': 'PUNCT'}, {'\"': 'PUNCT'}, {']': 'PUNCT'}, {'[': 'X'}, {'\"': 'PUNCT'}, {'[': 'X'}, {\"'\": 'VERB'}, {'(': 'PUNCT'}, {')': 'PUNCT'}, {\"'\": 'PUNCT'}, {',': 'PUNCT'}, {'\"': 'PUNCT'}, {',': 'PUNCT'}, {'\"': 'PUNCT'}, {\"'\": 'PUNCT'}, {'<': 'X'}, {'=': 'VERB'}, {\"'\": 'PROPN'}, {',': 'PUNCT'}, {'\"': 'PUNCT'}, {',': 'PUNCT'}, {'\"': 'PUNCT'}, {\"'\": 'PUNCT'}, {'(': 'PUNCT'}, {'[': 'X'}, {\"'\": 'NUM'}, {',': 'PUNCT'}, {'\"': 'PUNCT'}, {',': 'PUNCT'}, {'\"': 'PUNCT'}, {\"'\": 'PUNCT'}, {']': 'PUNCT'}, {')': 'PUNCT'}, {\"'\": 'PUNCT'}, {']': 'PUNCT'}, {'\"': 'PUNCT'}, {']': 'PUNCT'}, {'[': 'X'}, {'\"': 'PUNCT'}, {'[': 'X'}, {\"'\": 'VERB'}, {'(': 'PUNCT'}, {')': 'PUNCT'}, {\"'\": 'PUNCT'}, {',': 'PUNCT'}, {'\"': 'PUNCT'}, {',': 'PUNCT'}, {'\"': 'PUNCT'}, {\"'\": 'PUNCT'}, {'<': 'X'}, {'=': 'VERB'}, {\"'\": 'PROPN'}, {',': 'PUNCT'}, {'\"': 'PUNCT'}, {',': 'PUNCT'}, {'\"': 'PUNCT'}, {\"'\": 'PUNCT'}, {'[': 'X'}, {\"'\": 'X'}, {',': 'PUNCT'}, {'\"': 'PUNCT'}, {',': 'PUNCT'}, {'\"': 'PUNCT'}, {\"'\": 'PUNCT'}, {']': 'X'}, {\"'\": 'X'}, {']': 'X'}, {'\"': 'PUNCT'}, {']': 'PUNCT'}, {'[': 'X'}, {'\"': 'PUNCT'}, {'[': 'X'}, {\"'\": 'X'}, {'[': 'X'}, {\"'\": 'PROPN'}, {',': 'PUNCT'}, {'\"': 'PUNCT'}, {',': 'PUNCT'}, {'\"': 'PUNCT'}, {\"'\": 'PUNCT'}, {']': 'X'}, {\"'\": 'NUM'}, {',': 'PUNCT'}, {'\"': 'PUNCT'}, {',': 'PUNCT'}, {'\"': 'PUNCT'}, {\"'\": 'PUNCT'}, {'>': 'X'}, {'=': 'X'}, {\"'\": 'VERB'}, {',': 'PUNCT'}, {'\"': 'PUNCT'}, {',': 'PUNCT'}, {'\"': 'PUNCT'}, {\"'\": 'PUNCT'}, {'[': 'X'}, {\"'\": 'X'}, {',': 'PUNCT'}, {'\"': 'PUNCT'}, {',': 'PUNCT'}, {'\"': 'PUNCT'}, {\"'\": 'PUNCT'}, {']': 'X'}, {\"'\": 'NUM'}, {',': 'PUNCT'}, {'\"': 'PUNCT'}, {',': 'PUNCT'}, {'\"': 'PUNCT'}, {\"'\": 'PUNCT'}, {'<': 'X'}, {'=': 'X'}, {\"'\": 'PUNCT'}, {']': 'X'}, {'\"': 'PUNCT'}, {']': 'PUNCT'}, {'[': 'X'}, {\"'\": 'PUNCT'}, {'[': 'X'}, {'\"': 'PUNCT'}, {'(': 'PUNCT'}, {'\\\\': 'PROPN'}, {\"'\": 'PUNCT'}, {'\"': 'PUNCT'}, {',': 'PUNCT'}, {\"'\": 'PUNCT'}, {',': 'PUNCT'}, {\"'\": 'PUNCT'}, {'\"': 'PUNCT'}, {'\\\\': 'PROPN'}, {\"'\": 'PROPN'}, {',': 'PUNCT'}, {'\"': 'PUNCT'}, {',': 'PUNCT'}, {\"'\": 'PUNCT'}, {',': 'PUNCT'}, {'\"': 'PUNCT'}, {\"'\": 'PUNCT'}, {'[': 'X'}, {\"'\": 'X'}, {',': 'PUNCT'}, {'\"': 'PUNCT'}, {',': 'PUNCT'}, {'\"': 'PUNCT'}, {\"'\": 'PUNCT'}, {']': 'PUNCT'}, {')': 'PUNCT'}, {\"'\": 'PUNCT'}, {']': 'PUNCT'}, {'\"': 'PUNCT'}, {']': 'PUNCT'}, {'[': 'X'}, {'\"': 'PUNCT'}, {'[': 'X'}, {\"'\": 'VERB'}, {'(': 'PUNCT'}, {'[': 'X'}, {\"'\": 'NUM'}, {',': 'PUNCT'}, {'\"': 'PUNCT'}, {',': 'PUNCT'}, {'\"': 'PUNCT'}, {\"'\": 'PUNCT'}, {']': 'PUNCT'}, {')': 'PUNCT'}, {\"'\": 'PUNCT'}, {',': 'PUNCT'}, {'\"': 'PUNCT'}, {',': 'PUNCT'}, {'\"': 'PUNCT'}, {\"'\": 'PUNCT'}, {'=': 'VERB'}, {\"'\": 'VERB'}, {',': 'PUNCT'}, {'\"': 'PUNCT'}, {',': 'PUNCT'}, {'\"': 'PUNCT'}, {\"'\": 'PUNCT'}, {'(': 'PUNCT'}, {\"'\": 'PUNCT'}, {',': 'PUNCT'}, {'\"': 'PUNCT'}, {',': 'PUNCT'}, {'\"': 'PUNCT'}, {\"'\": 'PUNCT'}, {'(': 'PUNCT'}, {')': 'PUNCT'}, {')': 'PUNCT'}, {\"'\": 'PUNCT'}, {',': 'PUNCT'}, {'\"': 'PUNCT'}, {',': 'PUNCT'}, {'\"': 'PUNCT'}, {\"'\": 'PUNCT'}, {'-': 'PROPN'}, {\"'\": 'PUNCT'}, {']': 'PUNCT'}, {'\"': 'PUNCT'}, {']': 'PUNCT'}, {'[': 'X'}, {'\"': 'PUNCT'}, {'[': 'X'}, {\"'\": 'X'}, {'[': 'X'}, {\"'\": 'PROPN'}, {',': 'PUNCT'}, {'\"': 'PUNCT'}, {',': 'PUNCT'}, {'\"': 'PUNCT'}, {\"'\": 'PUNCT'}, {']': 'X'}, {\"'\": 'NUM'}, {',': 'PUNCT'}, {'\"': 'PUNCT'}, {',': 'PUNCT'}, {'\"': 'PUNCT'}, {\"'\": 'PUNCT'}, {'>': 'X'}, {'=': 'X'}, {\"'\": 'VERB'}, {',': 'PUNCT'}, {'\"': 'PUNCT'}, {',': 'PUNCT'}, {\"'\": 'PUNCT'}, {'\"': 'PUNCT'}, {'(': 'PUNCT'}, {'\\\\': 'PROPN'}, {\"'\": 'PUNCT'}, {'\"': 'PUNCT'}, {',': 'PUNCT'}, {\"'\": 'PUNCT'}, {',': 'PUNCT'}, {\"'\": 'PUNCT'}, {'\"': 'PUNCT'}, {'\\\\': 'PROPN'}, {\"'\": 'PUNCT'}, {'\"': 'PUNCT'}, {',': 'PUNCT'}, {\"'\": 'PUNCT'}, {',': 'PUNCT'}, {'\"': 'PUNCT'}, {\"'\": 'PUNCT'}, {',': 'PUNCT'}, {\"'\": 'PUNCT'}, {',': 'PUNCT'}, {'\"': 'PUNCT'}, {',': 'PUNCT'}, {'\"': 'PUNCT'}, {\"'\": 'PUNCT'}, {'(': 'PUNCT'}, {')': 'PUNCT'}, {')': 'PUNCT'}, {\"'\": 'PUNCT'}, {']': 'PUNCT'}, {'\"': 'PUNCT'}, {']': 'PUNCT'}, {'[': 'X'}, {'\"': 'PUNCT'}, {'[': 'X'}, {\"'\": 'VERB'}, {'(': 'PUNCT'}, {'[': 'X'}, {\"'\": 'NUM'}, {',': 'PUNCT'}, {'\"': 'PUNCT'}, {',': 'PUNCT'}, {'\"': 'PUNCT'}, {\"'\": 'PUNCT'}, {']': 'PUNCT'}, {')': 'PUNCT'}, {\"'\": 'PUNCT'}, {',': 'PUNCT'}, {'\"': 'PUNCT'}, {',': 'PUNCT'}, {'\"': 'PUNCT'}, {\"'\": 'PUNCT'}, {'[': 'X'}, {\"'\": 'X'}, {',': 'PUNCT'}, {'\"': 'PUNCT'}, {',': 'PUNCT'}, {'\"': 'PUNCT'}, {\"'\": 'PUNCT'}, {']': 'X'}, {\"'\": 'NUM'}, {',': 'PUNCT'}, {'\"': 'PUNCT'}, {',': 'PUNCT'}, {'\"': 'PUNCT'}, {\"'\": 'PUNCT'}, {'[': 'X'}, {\"'\": 'X'}, {',': 'PUNCT'}, {'\"': 'PUNCT'}, {',': 'PUNCT'}, {'\"': 'PUNCT'}, {\"'\": 'PUNCT'}, {']': 'X'}, {\"'\": 'X'}, {']': 'X'}, {'\"': 'PUNCT'}, {']': 'PUNCT'}, {'[': 'X'}, {'\"': 'PUNCT'}, {'[': 'X'}, {\"'\": 'VERB'}, {'(': 'PUNCT'}, {\"'\": 'PUNCT'}, {',': 'PUNCT'}, {'\"': 'PUNCT'}, {',': 'PUNCT'}, {'\"': 'PUNCT'}, {\"'\": 'PUNCT'}, {'(': 'PUNCT'}, {'[': 'X'}, {\"'\": 'NUM'}, {',': 'PUNCT'}, {'\"': 'PUNCT'}, {',': 'PUNCT'}, {'\"': 'PUNCT'}, {\"'\": 'PUNCT'}, {']': 'X'}, {\"'\": 'NUM'}, {',': 'PUNCT'}, {'\"': 'PUNCT'}, {',': 'PUNCT'}, {'\"': 'PUNCT'}, {\"'\": 'PUNCT'}, {')': 'PUNCT'}, {\"'\": 'PUNCT'}, {',': 'PUNCT'}, {'\"': 'PUNCT'}, {',': 'PUNCT'}, {'\"': 'PUNCT'}, {\"'\": 'PUNCT'}, {'=': 'VERB'}, {\"'\": 'VERB'}, {',': 'PUNCT'}, {'\"': 'PUNCT'}, {',': 'PUNCT'}, {\"'\": 'PUNCT'}, {'\"': 'PUNCT'}, {'\\\\': 'PROPN'}, {\"'\": 'PUNCT'}, {'\"': 'PUNCT'}, {',': 'PUNCT'}, {\"'\": 'PUNCT'}, {',': 'PUNCT'}, {\"'\": 'PUNCT'}, {'\"': 'PUNCT'}, {'\\\\': 'PROPN'}, {\"'\": 'PUNCT'}, {'\"': 'PUNCT'}, {',': 'PUNCT'}, {\"'\": 'PUNCT'}, {',': 'PUNCT'}, {'\"': 'PUNCT'}, {\"'\": 'PUNCT'}, {'[': 'X'}, {\"'\": 'X'}, {',': 'PUNCT'}, {'\"': 'PUNCT'}, {',': 'PUNCT'}, {'\"': 'PUNCT'}, {\"'\": 'PUNCT'}, {']': 'X'}, {\"'\": 'NUM'}, {',': 'PUNCT'}, {'\"': 'PUNCT'}, {',': 'PUNCT'}, {'\"': 'PUNCT'}, {\"'\": 'PUNCT'}, {')': 'PUNCT'}, {\"'\": 'PUNCT'}, {']': 'PUNCT'}, {'\"': 'PUNCT'}, {']': 'PUNCT'}, {'[': 'X'}, {'\"': 'PUNCT'}, {'[': 'X'}, {\"'\": 'X'}, {'[': 'X'}, {\"'\": 'PROPN'}, {',': 'PUNCT'}, {'\"': 'PUNCT'}, {',': 'PUNCT'}, {'\"': 'PUNCT'}, {\"'\": 'PUNCT'}, {']': 'X'}, {\"'\": 'NUM'}, {',': 'PUNCT'}, {'\"': 'PUNCT'}, {',': 'PUNCT'}, {'\"': 'PUNCT'}, {\"'\": 'VERB'}, {'>': 'X'}, {\"'\": 'NUM'}, {',': 'PUNCT'}, {'\"': 'PUNCT'}, {',': 'PUNCT'}, {'\"': 'PUNCT'}, {\"'\": 'PUNCT'}, {'.': 'PUNCT'}, {\"'\": 'PUNCT'}, {',': 'PUNCT'}, {'\"': 'PUNCT'}, {',': 'PUNCT'}, {'\"': 'PUNCT'}, {\"'\": 'PUNCT'}, {'[': 'X'}, {\"'\": 'X'}, {',': 'PUNCT'}, {'\"': 'PUNCT'}, {',': 'PUNCT'}, {'\"': 'PUNCT'}, {\"'\": 'PUNCT'}, {']': 'X'}, {\"'\": 'NUM'}, {',': 'PUNCT'}, {'\"': 'PUNCT'}, {',': 'PUNCT'}, {'\"': 'PUNCT'}, {\"'\": 'VERB'}, {'>': 'X'}, {\"'\": 'NUM'}, {',': 'PUNCT'}, {'\"': 'PUNCT'}, {',': 'PUNCT'}, {'\"': 'PUNCT'}, {\"'\": 'PUNCT'}, {'.': 'PUNCT'}, {\"'\": 'PUNCT'}, {']': 'PUNCT'}, {'\"': 'PUNCT'}, {']': 'PUNCT'}, {'[': 'X'}, {'\"': 'PUNCT'}, {'[': 'X'}, {\"'\": 'VERB'}, {'(': 'PUNCT'}, {'[': 'X'}, {\"'\": 'NUM'}, {',': 'PUNCT'}, {'\"': 'PUNCT'}, {',': 'PUNCT'}, {'\"': 'PUNCT'}, {\"'\": 'PUNCT'}, {']': 'PUNCT'}, {')': 'PUNCT'}, {\"'\": 'PUNCT'}, {',': 'PUNCT'}, {'\"': 'PUNCT'}, {',': 'PUNCT'}, {'\"': 'PUNCT'}, {\"'\": 'PUNCT'}, {'<': 'X'}, {'=': 'VERB'}, {\"'\": 'PROPN'}, {',': 'PUNCT'}, {'\"': 'PUNCT'}, {',': 'PUNCT'}, {'\"': 'PUNCT'}, {\"'\": 'PUNCT'}, {'.': 'PUNCT'}, {\"'\": 'PUNCT'}, {']': 'PUNCT'}, {'\"': 'PUNCT'}, {']': 'PUNCT'}, {'[': 'X'}, {'\"': 'PUNCT'}, {'[': 'X'}, {\"'\": 'VERB'}, {'(': 'PUNCT'}, {'[': 'X'}, {\"'\": 'NUM'}, {',': 'PUNCT'}, {'\"': 'PUNCT'}, {',': 'PUNCT'}, {'\"': 'PUNCT'}, {\"'\": 'PUNCT'}, {']': 'PUNCT'}, {')': 'PUNCT'}, {\"'\": 'PUNCT'}, {']': 'PUNCT'}, {'\"': 'PUNCT'}, {']': 'PUNCT'}, {'[': 'X'}, {'\"': 'PUNCT'}, {'[': 'X'}, {\"'\": 'VERB'}, {'(': 'PUNCT'}, {'[': 'X'}, {\"'\": 'NUM'}, {',': 'PUNCT'}, {'\"': 'PUNCT'}, {',': 'PUNCT'}, {'\"': 'PUNCT'}, {\"'\": 'PUNCT'}, {']': 'PUNCT'}, {')': 'PUNCT'}, {\"'\": 'PUNCT'}, {']': 'PUNCT'}, {'\"': 'PUNCT'}, {']': 'PUNCT'}, {'[': 'X'}, {'\"': 'PUNCT'}, {'[': 'X'}, {\"'\": 'VERB'}, {'{': 'PUNCT'}, {\"'\": 'PROPN'}, {',': 'PUNCT'}, {'\"': 'PUNCT'}, {',': 'PUNCT'}, {'\"': 'PUNCT'}, {\"'\": 'PUNCT'}, {'[': 'X'}, {\"'\": 'X'}, {',': 'PUNCT'}, {'\"': 'PUNCT'}, {',': 'PUNCT'}, {'\"': 'PUNCT'}, {\"'\": 'PUNCT'}, {']': 'X'}, {\"'\": 'NUM'}, {',': 'PUNCT'}, {'\"': 'PUNCT'}, {',': 'PUNCT'}, {'\"': 'PUNCT'}, {\"'\": 'PUNCT'}, {'=': 'VERB'}, {\"'\": 'VERB'}, {',': 'PUNCT'}, {'\"': 'PUNCT'}, {',': 'PUNCT'}, {\"'\": 'PUNCT'}, {'\\\\\\'\"\\\\': 'PROPN'}, {\"'\": 'PUNCT'}, {',': 'PUNCT'}, {\"'\": 'PUNCT'}, {',': 'PUNCT'}, {\"'\": 'PUNCT'}, {'\\\\\\'\"\\\\': 'PROPN'}, {\"'\": 'PUNCT'}, {',': 'PUNCT'}, {\"'\": 'PUNCT'}, {',': 'PUNCT'}, {'\"': 'PUNCT'}, {\"'\": 'PUNCT'}, {':': 'PUNCT'}, {\"'\": 'PUNCT'}, {',': 'PUNCT'}, {'\"': 'PUNCT'}, {',': 'PUNCT'}, {'\"': 'PUNCT'}, {\"'\": 'PUNCT'}, {'(': 'PUNCT'}, {'[': 'X'}, {\"'\": 'NUM'}, {',': 'PUNCT'}, {'\"': 'PUNCT'}, {',': 'PUNCT'}, {'\"': 'PUNCT'}, {\"'\": 'PUNCT'}, {']': 'PUNCT'}, {')': 'PUNCT'}, {\"'\": 'PUNCT'}, {',': 'PUNCT'}, {'\"': 'PUNCT'}, {',': 'PUNCT'}, {'\"': 'PUNCT'}, {\"'\": 'PUNCT'}, {'}': 'PRON'}, {\"'\": 'PUNCT'}, {']': 'PUNCT'}, {'\"': 'PUNCT'}, {']': 'PUNCT'}, {'[': 'X'}, {'\"': 'PUNCT'}, {'[': 'X'}, {\"'\": 'VERB'}, {'(': 'PUNCT'}, {\"'\": 'PUNCT'}, {',': 'PUNCT'}, {'\"': 'PUNCT'}, {',': 'PUNCT'}, {'\"': 'PUNCT'}, {\"'\": 'PUNCT'}, {'[': 'X'}, {\"'\": 'X'}, {',': 'PUNCT'}, {'\"': 'PUNCT'}, {',': 'PUNCT'}, {'\"': 'PUNCT'}, {\"'\": 'PUNCT'}, {']': 'X'}, {\"'\": 'NUM'}, {',': 'PUNCT'}, {'\"': 'PUNCT'}, {',': 'PUNCT'}, {'\"': 'PUNCT'}, {\"'\": 'PUNCT'}, {'=': 'VERB'}, {\"'\": 'VERB'}, {',': 'PUNCT'}, {'\"': 'PUNCT'}, {',': 'PUNCT'}, {\"'\": 'PUNCT'}, {'\\\\\\'\"\\\\': 'PROPN'}, {\"'\": 'PUNCT'}, {',': 'PUNCT'}, {\"'\": 'PUNCT'}, {',': 'PUNCT'}, {\"'\": 'PUNCT'}, {'\\\\\\'\"\\\\': 'PROPN'}, {\"'\": 'PUNCT'}, {',': 'PUNCT'}, {\"'\": 'PUNCT'}, {',': 'PUNCT'}, {'\"': 'PUNCT'}, {\"'\": 'PUNCT'}, {')': 'PUNCT'}, {\"'\": 'PUNCT'}, {']': 'PUNCT'}, {'\"': 'PUNCT'}, {']': 'PUNCT'}, {'[': 'X'}, {'\"': 'PUNCT'}, {'[': 'X'}, {\"'\": 'VERB'}, {'(': 'PUNCT'}, {\"'\": 'PUNCT'}, {',': 'PUNCT'}, {'\"': 'PUNCT'}, {',': 'PUNCT'}, {'\"': 'PUNCT'}, {\"'\": 'PUNCT'}, {'[': 'X'}, {\"'\": 'X'}, {',': 'PUNCT'}, {'\"': 'PUNCT'}, {',': 'PUNCT'}, {'\"': 'PUNCT'}, {\"'\": 'PUNCT'}, {']': 'X'}, {\"'\": 'NUM'}, {',': 'PUNCT'}, {'\"': 'PUNCT'}, {',': 'PUNCT'}, {'\"': 'PUNCT'}, {\"'\": 'VERB'}, {'>': 'X'}, {\"'\": 'NUM'}, {',': 'PUNCT'}, {'\"': 'PUNCT'}, {',': 'PUNCT'}, {'\"': 'PUNCT'}, {\"'\": 'PUNCT'}, {'.': 'PUNCT'}, {\"'\": 'PUNCT'}, {',': 'PUNCT'}, {'\"': 'PUNCT'}, {',': 'PUNCT'}, {'\"': 'PUNCT'}, {\"'\": 'PUNCT'}, {'[': 'X'}, {\"'\": 'X'}, {',': 'PUNCT'}, {'\"': 'PUNCT'}, {',': 'PUNCT'}, {'\"': 'PUNCT'}, {\"'\": 'PUNCT'}, {']': 'X'}, {\"'\": 'NUM'}, {',': 'PUNCT'}, {'\"': 'PUNCT'}, {',': 'PUNCT'}, {'\"': 'PUNCT'}, {\"'\": 'PUNCT'}, {')': 'PUNCT'}, {\"'\": 'PUNCT'}, {']': 'PUNCT'}, {'\"': 'PUNCT'}, {']': 'PUNCT'}, {'[': 'X'}, {'\"': 'PUNCT'}, {'[': 'X'}, {\"'\": 'VERB'}, {'{': 'PUNCT'}, {\"'\": 'PROPN'}, {',': 'PUNCT'}, {'\"': 'PUNCT'}, {',': 'PUNCT'}, {'\"': 'PUNCT'}, {\"'\": 'PUNCT'}, {'[': 'X'}, {\"'\": 'X'}, {',': 'PUNCT'}, {'\"': 'PUNCT'}, {',': 'PUNCT'}, {'\"': 'PUNCT'}, {\"'\": 'PUNCT'}, {']': 'X'}, {\"'\": 'NUM'}, {',': 'PUNCT'}, {'\"': 'PUNCT'}, {',': 'PUNCT'}, {'\"': 'PUNCT'}, {\"'\": 'PUNCT'}, {'=': 'VERB'}, {\"'\": 'VERB'}, {',': 'PUNCT'}, {'\"': 'PUNCT'}, {',': 'PUNCT'}, {\"'\": 'PUNCT'}, {'\\\\\\'\"\\\\': 'PROPN'}, {\"'\": 'PUNCT'}, {',': 'PUNCT'}, {\"'\": 'PUNCT'}, {',': 'PUNCT'}, {\"'\": 'PUNCT'}, {'\\\\\\'\"\\\\': 'PROPN'}, {\"'\": 'PUNCT'}, {',': 'PUNCT'}, {\"'\": 'PUNCT'}, {',': 'PUNCT'}, {'\"': 'PUNCT'}, {\"'\": 'PUNCT'}, {':': 'PUNCT'}, {\"'\": 'PUNCT'}, {',': 'PUNCT'}, {'\"': 'PUNCT'}, {',': 'PUNCT'}, {'\"': 'PUNCT'}, {\"'\": 'PUNCT'}, {'(': 'PUNCT'}, {'[': 'X'}, {\"'\": 'NUM'}, {',': 'PUNCT'}, {'\"': 'PUNCT'}, {',': 'PUNCT'}, {'\"': 'PUNCT'}, {\"'\": 'PUNCT'}, {']': 'PUNCT'}, {')': 'PUNCT'}, {\"'\": 'PUNCT'}, {',': 'PUNCT'}, {'\"': 'PUNCT'}, {',': 'PUNCT'}, {'\"': 'PUNCT'}, {\"'\": 'PUNCT'}, {'}': 'PRON'}, {\"'\": 'PUNCT'}, {']': 'PUNCT'}, {'\"': 'PUNCT'}, {']': 'PUNCT'}, {'[': 'X'}, {'\"': 'PUNCT'}, {'[': 'X'}, {\"'\": 'VERB'}, {'{': 'PUNCT'}, {\"'\": 'PROPN'}, {',': 'PUNCT'}, {'\"': 'PUNCT'}, {',': 'PUNCT'}, {'\"': 'PUNCT'}, {\"'\": 'PUNCT'}, {'[': 'X'}, {\"'\": 'X'}, {',': 'PUNCT'}, {'\"': 'PUNCT'}, {',': 'PUNCT'}, {'\"': 'PUNCT'}, {\"'\": 'PUNCT'}, {']': 'X'}, {\"'\": 'NUM'}, {',': 'PUNCT'}, {'\"': 'PUNCT'}, {',': 'PUNCT'}, {'\"': 'PUNCT'}, {\"'\": 'PUNCT'}, {'=': 'VERB'}, {\"'\": 'VERB'}, {',': 'PUNCT'}, {'\"': 'PUNCT'}, {',': 'PUNCT'}, {\"'\": 'PUNCT'}, {'\\\\\\'\"\\\\': 'PROPN'}, {\"'\": 'PUNCT'}, {',': 'PUNCT'}, {\"'\": 'PUNCT'}, {',': 'PUNCT'}, {\"'\": 'PUNCT'}, {'\\\\\\'\"\\\\': 'PROPN'}, {\"'\": 'PUNCT'}, {',': 'PUNCT'}, {\"'\": 'PUNCT'}, {',': 'PUNCT'}, {'\"': 'PUNCT'}, {\"'\": 'PUNCT'}, {':': 'PUNCT'}, {\"'\": 'PUNCT'}, {',': 'PUNCT'}, {'\"': 'PUNCT'}, {',': 'PUNCT'}, {'\"': 'PUNCT'}, {\"'\": 'PUNCT'}, {'(': 'PUNCT'}, {'[': 'X'}, {\"'\": 'NUM'}, {',': 'PUNCT'}, {'\"': 'PUNCT'}, {',': 'PUNCT'}, {'\"': 'PUNCT'}, {\"'\": 'PUNCT'}, {']': 'PUNCT'}, {')': 'PUNCT'}, {\"'\": 'PUNCT'}, {',': 'PUNCT'}, {'\"': 'PUNCT'}, {',': 'PUNCT'}, {'\"': 'PUNCT'}, {\"'\": 'PUNCT'}, {'}': 'PRON'}, {\"'\": 'PUNCT'}, {']': 'PUNCT'}, {'\"': 'PUNCT'}, {']': 'PUNCT'}, {'[': 'X'}, {'\"': 'PUNCT'}, {'[': 'X'}, {\"'\": 'VERB'}, {'(': 'PUNCT'}, {'[': 'X'}, {\"'\": 'NUM'}, {',': 'PUNCT'}, {'\"': 'PUNCT'}, {',': 'PUNCT'}, {'\"': 'PUNCT'}, {\"'\": 'PUNCT'}, {']': 'PUNCT'}, {')': 'PUNCT'}, {\"'\": 'PUNCT'}, {',': 'PUNCT'}, {'\"': 'PUNCT'}, {',': 'PUNCT'}, {'\"': 'PUNCT'}, {\"'\": 'PUNCT'}, {'[': 'X'}, {\"'\": 'X'}, {',': 'PUNCT'}, {'\"': 'PUNCT'}, {',': 'PUNCT'}, {'\"': 'PUNCT'}, {\"'\": 'PUNCT'}, {']': 'X'}, {\"'\": 'NUM'}, {',': 'PUNCT'}, {'\"': 'PUNCT'}, {',': 'PUNCT'}, {'\"': 'PUNCT'}, {\"'\": 'PUNCT'}, {'[': 'X'}, {\"'\": 'X'}, {',': 'PUNCT'}, {'\"': 'PUNCT'}, {',': 'PUNCT'}, {'\"': 'PUNCT'}, {\"'\": 'PUNCT'}, {']': 'X'}, {\"'\": 'X'}, {']': 'X'}, {'\"': 'PUNCT'}, {']': 'PUNCT'}, {'[': 'X'}, {'\"': 'PUNCT'}, {'[': 'X'}, {\"'\": 'X'}, {'[': 'X'}, {\"'\": 'PROPN'}, {',': 'PUNCT'}, {'\"': 'PUNCT'}, {',': 'PUNCT'}, {'\"': 'PUNCT'}, {\"'\": 'PUNCT'}, {']': 'X'}, {\"'\": 'NUM'}, {',': 'PUNCT'}, {'\"': 'PUNCT'}, {',': 'PUNCT'}, {'\"': 'PUNCT'}, {\"'\": 'PUNCT'}, {'=': 'VERB'}, {\"'\": 'VERB'}, {',': 'PUNCT'}, {'\"': 'PUNCT'}, {',': 'PUNCT'}, {\"'\": 'PUNCT'}, {'\\\\\\'\"\\\\': 'PROPN'}, {\"'\": 'PUNCT'}, {',': 'PUNCT'}, {\"'\": 'PUNCT'}, {',': 'PUNCT'}, {\"'\": 'PUNCT'}, {'\\\\\\'\"\\\\': 'PROPN'}, {\"'\": 'PUNCT'}, {',': 'PUNCT'}, {\"'\": 'PUNCT'}, {',': 'PUNCT'}, {'\"': 'PUNCT'}, {\"'\": 'PUNCT'}, {'[': 'X'}, {\"'\": 'X'}, {',': 'PUNCT'}, {'\"': 'PUNCT'}, {',': 'PUNCT'}, {'\"': 'PUNCT'}, {\"'\": 'PUNCT'}, {']': 'X'}, {\"'\": 'NUM'}, {',': 'PUNCT'}, {'\"': 'PUNCT'}, {',': 'PUNCT'}, {'\"': 'PUNCT'}, {\"'\": 'PUNCT'}, {'>': 'X'}, {'=': 'X'}, {\"'\": 'VERB'}, {',': 'PUNCT'}, {'\"': 'PUNCT'}, {',': 'PUNCT'}, {'\"': 'PUNCT'}, {\"'\": 'PUNCT'}, {'.': 'PUNCT'}, {\"'\": 'PUNCT'}, {']': 'PUNCT'}, {'\"': 'PUNCT'}, {']': 'PUNCT'}, {'[': 'X'}, {'\"': 'PUNCT'}, {'[': 'X'}, {\"'\": 'VERB'}, {'(': 'PUNCT'}, {'[': 'X'}, {\"'\": 'NUM'}, {',': 'PUNCT'}, {'\"': 'PUNCT'}, {',': 'PUNCT'}, {'\"': 'PUNCT'}, {\"'\": 'PUNCT'}, {']': 'PUNCT'}, {')': 'PUNCT'}, {\"'\": 'PUNCT'}, {',': 'PUNCT'}, {'\"': 'PUNCT'}, {',': 'PUNCT'}, {'\"': 'PUNCT'}, {\"'\": 'PUNCT'}, {'<': 'X'}, {'=': 'VERB'}, {\"'\": 'PROPN'}, {',': 'PUNCT'}, {'\"': 'PUNCT'}, {',': 'PUNCT'}, {'\"': 'PUNCT'}, {\"'\": 'PUNCT'}, {'[': 'X'}, {\"'\": 'X'}, {',': 'PUNCT'}, {'\"': 'PUNCT'}, {',': 'PUNCT'}, {'\"': 'PUNCT'}, {\"'\": 'PUNCT'}, {']': 'X'}, {\"'\": 'NUM'}, {',': 'PUNCT'}, {'\"': 'PUNCT'}, {',': 'PUNCT'}, {'\"': 'PUNCT'}, {\"'\": 'PUNCT'}, {'=': 'VERB'}, {\"'\": 'VERB'}, {',': 'PUNCT'}, {'\"': 'PUNCT'}, {',': 'PUNCT'}, {\"'\": 'PUNCT'}, {'\\\\\\'\"\\\\': 'PROPN'}, {\"'\": 'PUNCT'}, {',': 'PUNCT'}, {\"'\": 'PUNCT'}, {',': 'PUNCT'}, {\"'\": 'PUNCT'}, {'\\\\\\'\"\\\\': 'PROPN'}, {\"'\": 'PUNCT'}, {']': 'PUNCT'}, {\"'\": 'PUNCT'}, {']': 'PUNCT'}, {'[': 'X'}, {'\"': 'PUNCT'}, {'[': 'X'}, {\"'\": 'VERB'}, {'(': 'PUNCT'}, {'[': 'X'}, {\"'\": 'NUM'}, {',': 'PUNCT'}, {'\"': 'PUNCT'}, {',': 'PUNCT'}, {'\"': 'PUNCT'}, {\"'\": 'PUNCT'}, {']': 'PUNCT'}, {')': 'PUNCT'}, {\"'\": 'PUNCT'}, {',': 'PUNCT'}, {'\"': 'PUNCT'}, {',': 'PUNCT'}, {'\"': 'PUNCT'}, {\"'\": 'PUNCT'}, {'>': 'X'}, {'=': 'X'}, {\"'\": 'VERB'}, {',': 'PUNCT'}, {'\"': 'PUNCT'}, {',': 'PUNCT'}, {'\"': 'PUNCT'}, {\"'\": 'PUNCT'}, {'.': 'PUNCT'}, {\"'\": 'PUNCT'}, {']': 'PUNCT'}, {'\"': 'PUNCT'}, {']': 'PUNCT'}, {'[': 'X'}, {'\"': 'PUNCT'}, {'[': 'X'}, {\"'\": 'VERB'}, {'(': 'PUNCT'}, {'[': 'X'}, {\"'\": 'NUM'}, {',': 'PUNCT'}, {'\"': 'PUNCT'}, {',': 'PUNCT'}, {'\"': 'PUNCT'}, {\"'\": 'PUNCT'}, {']': 'PUNCT'}, {')': 'PUNCT'}, {\"'\": 'PUNCT'}, {',': 'PUNCT'}, {'\"': 'PUNCT'}, {',': 'PUNCT'}, {'\"': 'PUNCT'}, {\"'\": 'PUNCT'}, {'[': 'X'}, {\"'\": 'X'}, {',': 'PUNCT'}, {'\"': 'PUNCT'}, {',': 'PUNCT'}, {'\"': 'PUNCT'}, {\"'\": 'PUNCT'}, {']': 'X'}, {\"'\": 'NUM'}, {',': 'PUNCT'}, {'\"': 'PUNCT'}, {',': 'PUNCT'}, {'\"': 'PUNCT'}, {\"'\": 'PUNCT'}, {'(': 'PUNCT'}, {'[': 'X'}, {\"'\": 'NUM'}, {',': 'PUNCT'}, {'\"': 'PUNCT'}, {',': 'PUNCT'}, {'\"': 'PUNCT'}, {\"'\": 'PUNCT'}, {']': 'PUNCT'}, {')': 'PUNCT'}, {\"'\": 'PUNCT'}, {']': 'PUNCT'}, {'\"': 'PUNCT'}, {']': 'PUNCT'}, {'[': 'X'}, {'\"': 'PUNCT'}, {'[': 'X'}, {\"'\": 'X'}, {'[': 'X'}, {\"'\": 'PROPN'}, {',': 'PUNCT'}, {'\"': 'PUNCT'}, {',': 'PUNCT'}, {'\"': 'PUNCT'}, {\"'\": 'PUNCT'}, {']': 'X'}, {\"'\": 'NUM'}, {',': 'PUNCT'}, {'\"': 'PUNCT'}, {',': 'PUNCT'}, {'\"': 'PUNCT'}, {\"'\": 'PUNCT'}, {'=': 'VERB'}, {\"'\": 'VERB'}, {',': 'PUNCT'}, {'\"': 'PUNCT'}, {',': 'PUNCT'}, {\"'\": 'PUNCT'}, {'\\\\\\'\"\\\\': 'PROPN'}, {\"'\": 'PUNCT'}, {',': 'PUNCT'}, {\"'\": 'PUNCT'}, {',': 'PUNCT'}, {\"'\": 'PUNCT'}, {'\\\\\\'\"\\\\': 'PROPN'}, {\"'\": 'PUNCT'}, {',': 'PUNCT'}, {\"'\": 'PUNCT'}, {',': 'PUNCT'}, {'\"': 'PUNCT'}, {\"'\": 'PUNCT'}, {'[': 'X'}, {\"'\": 'X'}, {',': 'PUNCT'}, {'\"': 'PUNCT'}, {',': 'PUNCT'}, {'\"': 'PUNCT'}, {\"'\": 'PUNCT'}, {']': 'X'}, {\"'\": 'NUM'}, {',': 'PUNCT'}, {'\"': 'PUNCT'}, {',': 'PUNCT'}, {'\"': 'PUNCT'}, {\"'\": 'PUNCT'}, {'.': 'PUNCT'}, {\"'\": 'PUNCT'}, {',': 'PUNCT'}, {'\"': 'PUNCT'}, {',': 'PUNCT'}, {'\"': 'PUNCT'}, {\"'\": 'PUNCT'}, {'.': 'PUNCT'}, {\"'\": 'PUNCT'}, {']': 'PUNCT'}, {'\"': 'PUNCT'}, {']': 'PUNCT'}, {'[': 'X'}, {'\"': 'PUNCT'}, {'[': 'X'}, {\"'\": 'VERB'}, {'(': 'PUNCT'}, {\"'\": 'PUNCT'}, {',': 'PUNCT'}, {'\"': 'PUNCT'}, {',': 'PUNCT'}, {'\"': 'PUNCT'}, {\"'\": 'PUNCT'}, {'(': 'PUNCT'}, {'[': 'X'}, {\"'\": 'NUM'}, {',': 'PUNCT'}, {'\"': 'PUNCT'}, {',': 'PUNCT'}, {'\"': 'PUNCT'}, {\"'\": 'PUNCT'}, {']': 'X'}, {\"'\": 'NUM'}, {',': 'PUNCT'}, {'\"': 'PUNCT'}, {',': 'PUNCT'}, {\"'\": 'PUNCT'}, {'\\\\\\'\"\\\\': 'PROPN'}, {\"'\": 'PUNCT'}, {',': 'PUNCT'}, {\"'\": 'PUNCT'}, {',': 'PUNCT'}, {\"'\": 'PUNCT'}, {'\\\\\\'\")\\\\': 'NOUN'}, {\"'\": 'PUNCT'}, {',': 'PUNCT'}, {\"'\": 'PUNCT'}, {',': 'PUNCT'}, {'\"': 'PUNCT'}, {\"'\": 'PUNCT'}, {')': 'PUNCT'}, {\"'\": 'PUNCT'}, {']': 'PUNCT'}, {'\"': 'PUNCT'}, {']': 'PUNCT'}, {'[': 'X'}, {'\"': 'PUNCT'}, {'[': 'X'}, {\"'\": 'VERB'}, {'(': 'PUNCT'}, {'[': 'X'}, {\"'\": 'NUM'}, {',': 'PUNCT'}, {'\"': 'PUNCT'}, {',': 'PUNCT'}, {'\"': 'PUNCT'}, {\"'\": 'PUNCT'}, {']': 'X'}, {\"'\": 'NUM'}, {',': 'PUNCT'}, {'\"': 'PUNCT'}, {',': 'PUNCT'}, {\"'\": 'PUNCT'}, {'\\\\\\'\"\\\\': 'PROPN'}, {\"'\": 'PUNCT'}, {',': 'PUNCT'}, {\"'\": 'PUNCT'}, {',': 'PUNCT'}, {\"'\": 'PUNCT'}, {'\\\\\\'\")\\\\': 'NOUN'}, {\"'\": 'PUNCT'}, {',': 'PUNCT'}, {\"'\": 'PUNCT'}, {',': 'PUNCT'}, {'\"': 'PUNCT'}, {\"'\": 'PUNCT'}, {'(': 'PUNCT'}, {'[': 'X'}, {\"'\": 'NUM'}, {',': 'PUNCT'}, {'\"': 'PUNCT'}, {',': 'PUNCT'}, {'\"': 'PUNCT'}, {\"'\": 'PUNCT'}, {']': 'X'}, {',': 'PUNCT'}, {\"'\": 'PUNCT'}, {',': 'PUNCT'}, {'\"': 'PUNCT'}, {',': 'PUNCT'}, {'\"': 'PUNCT'}, {\"'\": 'PUNCT'}, {'“': 'PUNCT'}, {\"'\": 'PUNCT'}, {',': 'PUNCT'}, {'\"': 'PUNCT'}, {',': 'PUNCT'}, {'\"': 'PUNCT'}, {\"'\": 'PUNCT'}, {'”': 'PUNCT'}, {')': 'PUNCT'}, {\"'\": 'PUNCT'}, {']': 'PUNCT'}, {'\"': 'PUNCT'}, {']': 'PUNCT'}]\n",
            "Tokenized Symbols (Tableau) : ['PRON', 'VERB', 'PUNCT', 'NOUN', 'NUM', 'X', 'PROPN']\n"
          ]
        }
      ]
    },
    {
      "cell_type": "code",
      "source": [
        "for pat in p_e:\n",
        "    print({pat:p_e[pat]})"
      ],
      "metadata": {
        "colab": {
          "base_uri": "https://localhost:8080/"
        },
        "id": "3BVvxt5RksS7",
        "outputId": "928a92ff-7d02-47a1-9fa3-7becd413337d"
      },
      "execution_count": 27,
      "outputs": [
        {
          "output_type": "stream",
          "name": "stdout",
          "text": [
            "{'PRON': ['}']}\n",
            "{'VERB': [\"'\", '=']}\n",
            "{'PUNCT': [',', ']', '”', \"'\", '\"', '{', '“', '(', ':', '.', ')', '*', '=', '!']}\n",
            "{'NOUN': ['\\\\\\'\")\\\\']}\n",
            "{'NUM': [\"'\"]}\n",
            "{'X': ['>', ']', \"'\", '<', '=', '[']}\n",
            "{'PROPN': ['-', '\\\\', '\\\\\\'\"\\\\', \"'\"]}\n"
          ]
        }
      ]
    },
    {
      "cell_type": "code",
      "source": [
        "POS_=[]\n",
        "for pat in p_d:\n",
        "   POS_.append(pat)\n",
        "for pat in p_t:\n",
        "   POS_.append(pat)\n",
        "for pat in p_e:\n",
        "   POS_.append(pat)\n",
        "POS_=list(set(POS_))\n",
        "print(POS_, len(POS_))"
      ],
      "metadata": {
        "colab": {
          "base_uri": "https://localhost:8080/"
        },
        "id": "7n0mh-c3mfLA",
        "outputId": "58153e36-5d66-4077-c68a-3f659e80bd7e"
      },
      "execution_count": 28,
      "outputs": [
        {
          "output_type": "stream",
          "name": "stdout",
          "text": [
            "['ADV', 'INTJ', 'PART', 'PRON', 'ADP', 'SCONJ', 'VERB', 'PUNCT', 'NOUN', 'AUX', 'CCONJ', 'NUM', 'DET', 'X', 'PROPN', 'ADJ'] 16\n"
          ]
        }
      ]
    },
    {
      "cell_type": "code",
      "source": [
        "ENT_={}\n",
        "\n",
        "for pat in POS_:\n",
        "  if (p_d.get(pat)!=None and p_t.get(pat)!=None and p_e.get(pat) !=None):\n",
        "    p_list=p_d[pat]+p_t[pat]+p_e[pat]\n",
        "  elif (p_d.get(pat)!=None and p_t.get(pat)!=None ):\n",
        "    p_list=p_d[pat] + p_t[pat]\n",
        "  else:\n",
        "    p_list=p_d[pat]\n",
        "\n",
        "  ENT_.update({pat:[x for x in list(set(p_list))]})"
      ],
      "metadata": {
        "id": "AXgkUU-0p5t7"
      },
      "execution_count": 29,
      "outputs": []
    },
    {
      "cell_type": "code",
      "source": [
        "for pat in POS_:\n",
        "  print ({pat:ENT_[pat]})"
      ],
      "metadata": {
        "colab": {
          "base_uri": "https://localhost:8080/"
        },
        "id": "hwl4VtCnrMie",
        "outputId": "03d507e2-aa04-4344-8efb-b1d6ea91b4b7"
      },
      "execution_count": 30,
      "outputs": [
        {
          "output_type": "stream",
          "name": "stdout",
          "text": [
            "{'ADV': ['THEN', 'SORT', 'Sort', 'only', 'ELSE', 'exactly', 'alphabetically']}\n",
            "{'INTJ': ['%']}\n",
            "{'PART': ['not', \"'\", 'to']}\n",
            "{'PRON': ['all', 'each', 'both', 'this', 'the', 'a', 'What', 'there']}\n",
            "{'ADP': ['for', 'over', 'than', 'WITH', 'of', 'BY', 'with', 'across', 'BETWEEN', 'by', 'at', 'in', 'within', 'between', 'above', 'from']}\n",
            "{'SCONJ': ['How', 'where', 'IF', 'how']}\n",
            "{'VERB': ['percentile', 'recorded', \"'\", 'RANK', 'sorted', 'color', 'found', 'DESC', 'show', 'Show', 'STARTSWITH', 'ascending', 'dataset', 'NULL', 'Date', 'assuming', 'SUM', 'Setosa', 'ends', 'CONTAINS', 'listed', 'start', 'ENDSWITH', 'descending', 'setosa', 'starts', 'Find', 'ica', 'DISTINCT', 'Aggregate', 'Calculate', 'top', 'starting', 'contains', 'count', '=', 'grouped', 'Organize']}\n",
            "{'PUNCT': ['*', ',', ']', '”', \"'\", '\"', '{', '“', '(', ':', '.', ')', '?', '=', '!']}\n",
            "{'NOUN': ['value', 'ORDER', \"'\", 'Lengths', 'color', 'Determine', 'records', 'month', 'List', 'year', 'C', 'flowers', 'Date', 'SUM', 'name', 'ENDSWITH', 'FIXED', 'observation', 'Entries', 'Number', 'YEAR', 'flower', 'points', 'versicolor', 'types', 'Species', 'field', 'data', 'entries', 'Sepal', 'TODAY', 'Display', 'species', 'occurrences', 'number', 'Widths', 'order', '\\\\\\'\")\\\\']}\n",
            "{'AUX': ['is', \"'s\", 'are', 'RANK_PERCENTILE']}\n",
            "{'CCONJ': ['and', 'AND', 'or']}\n",
            "{'NUM': ['9', 'TOP', \"'\", '3', '5', '4', '10']}\n",
            "{'DET': ['the', 'a']}\n",
            "{'X': ['<', '2', '1', '>', 'median', ']', \"'\", 'Length', 'ica', '0', '10th', 'virginica', '=', '[']}\n",
            "{'PROPN': ['Sum', \"'\", 'COUNTD', 'AVG', '\\\\', '\\\\\\'\"\\\\', 'Count', 'Iris', 'MAX', 'Width', 'Rank', 'Date', 'Setosa', 'GROUP', 'Se', 'LEFT', 'DATETRUNC', 'ASC', 'END', 'STARTS', 'INDEX', 'Iri', 'Median', 'Species', 'MIN', 'Filter', 'COUNT', '-', 'January', 'Length', 'Group', 'MEDIAN']}\n",
            "{'ADJ': ['Highest', 'equal', 'unique', 'Total', 'high', 'Lowest', 'smallest', 'Distinct', 'Minimum', 'lowest', 'least', 'bottom', 'Top', 'last', 'Maximum', 'greater', 'average', 'low', 'Average', 'Petal', 'highest', 'total', 'distinct', 'Select', 'many', 'less', 'middle']}\n"
          ]
        }
      ]
    },
    {
      "cell_type": "markdown",
      "source": [
        "#Tokenize with Pre-trained sPacy models"
      ],
      "metadata": {
        "id": "tXrvHd-wdUqH"
      }
    },
    {
      "cell_type": "code",
      "source": [
        "nlp = spacy.load(\"en_core_web_sm\")\n",
        "import en_core_web_sm\n",
        "nlp = en_core_web_sm.load()"
      ],
      "metadata": {
        "id": "8UpVlcEydixW"
      },
      "execution_count": 31,
      "outputs": []
    },
    {
      "cell_type": "markdown",
      "source": [
        "# Description Patterns"
      ],
      "metadata": {
        "id": "pu4P4q8oe4eV"
      }
    },
    {
      "cell_type": "code",
      "source": [
        "dg_ent={}"
      ],
      "metadata": {
        "id": "P5k_60q7ea5g"
      },
      "execution_count": 32,
      "outputs": []
    },
    {
      "cell_type": "code",
      "source": [
        "p_d=dg_ent['Patterns_Description']=get_patterns(dg_tok,dg_tok.columns[0])"
      ],
      "metadata": {
        "colab": {
          "base_uri": "https://localhost:8080/"
        },
        "id": "WaUv07QDeovU",
        "outputId": "22652a62-94cd-46d2-8fbb-b70b4794b765"
      },
      "execution_count": 33,
      "outputs": [
        {
          "output_type": "stream",
          "name": "stdout",
          "text": [
            "[{'[': 'X'}, {'\"': 'PUNCT'}, {'[': 'X'}, {\"'\": 'X'}, {'Sum': 'PROPN'}, {\"'\": 'NUM'}, {',': 'PUNCT'}, {'\"': 'PUNCT'}, {',': 'PUNCT'}, {'\"': 'PUNCT'}, {\"'\": 'PUNCT'}, {'of': 'ADP'}, {\"'\": 'NUM'}, {',': 'PUNCT'}, {'\"': 'PUNCT'}, {',': 'PUNCT'}, {'\"': 'PUNCT'}, {\"'\": 'PUNCT'}, {'Sepal': 'NOUN'}, {\"'\": 'PUNCT'}, {',': 'PUNCT'}, {'\"': 'PUNCT'}, {',': 'PUNCT'}, {'\"': 'PUNCT'}, {\"'\": 'PUNCT'}, {'Length': 'X'}, {\"'\": 'PUNCT'}, {']': 'PUNCT'}, {'\"': 'PUNCT'}, {']': 'PUNCT'}, {'[': 'X'}, {'\"': 'PUNCT'}, {'[': 'X'}, {\"'\": 'PUNCT'}, {'Average': 'ADJ'}, {\"'\": 'PUNCT'}, {',': 'PUNCT'}, {'\"': 'PUNCT'}, {',': 'PUNCT'}, {'\"': 'PUNCT'}, {\"'\": 'PUNCT'}, {'Sepal': 'NOUN'}, {\"'\": 'PUNCT'}, {',': 'PUNCT'}, {'\"': 'PUNCT'}, {',': 'PUNCT'}, {'\"': 'PUNCT'}, {\"'\": 'PUNCT'}, {'Width': 'PROPN'}, {\"'\": 'PUNCT'}, {',': 'PUNCT'}, {'\"': 'PUNCT'}, {',': 'PUNCT'}, {'\"': 'PUNCT'}, {\"'\": 'PUNCT'}, {'across': 'ADP'}, {\"'\": 'PUNCT'}, {',': 'PUNCT'}, {'\"': 'PUNCT'}, {',': 'PUNCT'}, {'\"': 'PUNCT'}, {\"'\": 'PUNCT'}, {'all': 'PRON'}, {\"'\": 'PROPN'}, {',': 'PUNCT'}, {'\"': 'PUNCT'}, {',': 'PUNCT'}, {'\"': 'PUNCT'}, {\"'\": 'PUNCT'}, {'entries': 'NOUN'}, {\"'\": 'PUNCT'}, {']': 'PUNCT'}, {'\"': 'PUNCT'}, {']': 'PUNCT'}, {'[': 'X'}, {'\"': 'PUNCT'}, {'[': 'X'}, {\"'\": 'VERB'}, {'Find': 'VERB'}, {\"'\": 'PUNCT'}, {',': 'PUNCT'}, {'\"': 'PUNCT'}, {',': 'PUNCT'}, {'\"': 'PUNCT'}, {\"'\": 'PUNCT'}, {'the': 'DET'}, {\"'\": 'PUNCT'}, {',': 'PUNCT'}, {'\"': 'PUNCT'}, {',': 'PUNCT'}, {'\"': 'PUNCT'}, {\"'\": 'PUNCT'}, {'median': 'X'}, {\"'\": 'PROPN'}, {',': 'PUNCT'}, {'\"': 'PUNCT'}, {',': 'PUNCT'}, {'\"': 'PUNCT'}, {\"'\": 'PUNCT'}, {'Petal': 'ADJ'}, {\"'\": 'PUNCT'}, {',': 'PUNCT'}, {'\"': 'PUNCT'}, {',': 'PUNCT'}, {'\"': 'PUNCT'}, {\"'\": 'PUNCT'}, {'Length': 'X'}, {\"'\": 'PUNCT'}, {']': 'PUNCT'}, {'\"': 'PUNCT'}, {']': 'PUNCT'}, {'[': 'X'}, {'\"': 'PUNCT'}, {'[': 'X'}, {\"'\": 'X'}, {'Count': 'PROPN'}, {\"'\": 'PUNCT'}, {',': 'PUNCT'}, {'\"': 'PUNCT'}, {',': 'PUNCT'}, {'\"': 'PUNCT'}, {\"'\": 'PUNCT'}, {'the': 'DET'}, {\"'\": 'PUNCT'}, {',': 'PUNCT'}, {'\"': 'PUNCT'}, {',': 'PUNCT'}, {'\"': 'PUNCT'}, {\"'\": 'PUNCT'}, {'number': 'NOUN'}, {\"'\": 'PUNCT'}, {',': 'PUNCT'}, {'\"': 'PUNCT'}, {',': 'PUNCT'}, {'\"': 'PUNCT'}, {\"'\": 'PUNCT'}, {'of': 'ADP'}, {\"'\": 'NUM'}, {',': 'PUNCT'}, {'\"': 'PUNCT'}, {',': 'PUNCT'}, {'\"': 'PUNCT'}, {\"'\": 'PUNCT'}, {'records': 'NOUN'}, {\"'\": 'PART'}, {',': 'PUNCT'}, {'\"': 'PUNCT'}, {',': 'PUNCT'}, {'\"': 'PUNCT'}, {\"'\": 'PUNCT'}, {'in': 'ADP'}, {\"'\": 'NUM'}, {',': 'PUNCT'}, {'\"': 'PUNCT'}, {',': 'PUNCT'}, {'\"': 'PUNCT'}, {\"'\": 'PUNCT'}, {'the': 'DET'}, {\"'\": 'PUNCT'}, {',': 'PUNCT'}, {'\"': 'PUNCT'}, {',': 'PUNCT'}, {'\"': 'PUNCT'}, {\"'\": 'PUNCT'}, {'dataset': 'VERB'}, {\"'\": 'PUNCT'}, {']': 'PUNCT'}, {'\"': 'PUNCT'}, {']': 'PUNCT'}, {'[': 'X'}, {'\"': 'PUNCT'}, {'[': 'X'}, {\"'\": 'X'}, {'Count': 'PROPN'}, {\"'\": 'PUNCT'}, {',': 'PUNCT'}, {'\"': 'PUNCT'}, {',': 'PUNCT'}, {'\"': 'PUNCT'}, {\"'\": 'PUNCT'}, {'distinct': 'ADJ'}, {\"'\": 'PUNCT'}, {',': 'PUNCT'}, {'\"': 'PUNCT'}, {',': 'PUNCT'}, {'\"': 'PUNCT'}, {\"'\": 'PUNCT'}, {'species': 'NOUN'}, {\"'\": 'PUNCT'}, {',': 'PUNCT'}, {'\"': 'PUNCT'}, {',': 'PUNCT'}, {'\"': 'PUNCT'}, {\"'\": 'PUNCT'}, {'in': 'ADP'}, {\"'\": 'NUM'}, {',': 'PUNCT'}, {'\"': 'PUNCT'}, {',': 'PUNCT'}, {'\"': 'PUNCT'}, {\"'\": 'PUNCT'}, {'the': 'DET'}, {\"'\": 'PUNCT'}, {',': 'PUNCT'}, {'\"': 'PUNCT'}, {',': 'PUNCT'}, {'\"': 'PUNCT'}, {\"'\": 'PUNCT'}, {'dataset': 'VERB'}, {\"'\": 'PUNCT'}, {']': 'PUNCT'}, {'\"': 'PUNCT'}, {']': 'PUNCT'}, {'[': 'X'}, {'\"': 'PUNCT'}, {'[': 'X'}, {\"'\": 'PUNCT'}, {'Minimum': 'ADJ'}, {\"'\": 'PUNCT'}, {',': 'PUNCT'}, {'\"': 'PUNCT'}, {',': 'PUNCT'}, {'\"': 'PUNCT'}, {\"'\": 'PUNCT'}, {'value': 'NOUN'}, {\"'\": 'PUNCT'}, {',': 'PUNCT'}, {'\"': 'PUNCT'}, {',': 'PUNCT'}, {'\"': 'PUNCT'}, {\"'\": 'PUNCT'}, {'of': 'ADP'}, {\"'\": 'NUM'}, {',': 'PUNCT'}, {'\"': 'PUNCT'}, {',': 'PUNCT'}, {'\"': 'PUNCT'}, {\"'\": 'PUNCT'}, {'Sepal': 'NOUN'}, {\"'\": 'PUNCT'}, {',': 'PUNCT'}, {'\"': 'PUNCT'}, {',': 'PUNCT'}, {'\"': 'PUNCT'}, {\"'\": 'PUNCT'}, {'Length': 'X'}, {\"'\": 'PUNCT'}, {']': 'PUNCT'}, {'\"': 'PUNCT'}, {']': 'PUNCT'}, {'[': 'X'}, {'\"': 'PUNCT'}, {'[': 'X'}, {\"'\": 'PUNCT'}, {'Maximum': 'ADJ'}, {\"'\": 'NUM'}, {',': 'PUNCT'}, {'\"': 'PUNCT'}, {',': 'PUNCT'}, {'\"': 'PUNCT'}, {\"'\": 'PUNCT'}, {'Petal': 'ADJ'}, {\"'\": 'PUNCT'}, {',': 'PUNCT'}, {'\"': 'PUNCT'}, {',': 'PUNCT'}, {'\"': 'PUNCT'}, {\"'\": 'PUNCT'}, {'Width': 'PROPN'}, {\"'\": 'PUNCT'}, {',': 'PUNCT'}, {'\"': 'PUNCT'}, {',': 'PUNCT'}, {'\"': 'PUNCT'}, {\"'\": 'PUNCT'}, {'found': 'VERB'}, {\"'\": 'PUNCT'}, {',': 'PUNCT'}, {'\"': 'PUNCT'}, {',': 'PUNCT'}, {'\"': 'PUNCT'}, {\"'\": 'PUNCT'}, {'in': 'ADP'}, {\"'\": 'NUM'}, {',': 'PUNCT'}, {'\"': 'PUNCT'}, {',': 'PUNCT'}, {'\"': 'PUNCT'}, {\"'\": 'PUNCT'}, {'the': 'DET'}, {\"'\": 'PUNCT'}, {',': 'PUNCT'}, {'\"': 'PUNCT'}, {',': 'PUNCT'}, {'\"': 'PUNCT'}, {\"'\": 'PUNCT'}, {'dataset': 'VERB'}, {\"'\": 'PUNCT'}, {']': 'PUNCT'}, {'\"': 'PUNCT'}, {']': 'PUNCT'}, {'[': 'X'}, {'\"': 'PUNCT'}, {'[': 'X'}, {\"'\": 'X'}, {'Group': 'PROPN'}, {\"'\": 'PUNCT'}, {',': 'PUNCT'}, {'\"': 'PUNCT'}, {',': 'PUNCT'}, {'\"': 'PUNCT'}, {\"'\": 'PUNCT'}, {'records': 'NOUN'}, {\"'\": 'PART'}, {',': 'PUNCT'}, {'\"': 'PUNCT'}, {',': 'PUNCT'}, {'\"': 'PUNCT'}, {\"'\": 'PUNCT'}, {'by': 'ADP'}, {\"'\": 'NUM'}, {',': 'PUNCT'}, {'\"': 'PUNCT'}, {',': 'PUNCT'}, {'\"': 'PUNCT'}, {\"'\": 'PUNCT'}, {'Species': 'PROPN'}, {\"'\": 'PUNCT'}, {']': 'PUNCT'}, {'\"': 'PUNCT'}, {']': 'PUNCT'}, {'[': 'X'}, {'\"': 'PUNCT'}, {'[': 'X'}, {\"'\": 'X'}, {'Sort': 'ADV'}, {\"'\": 'NUM'}, {',': 'PUNCT'}, {'\"': 'PUNCT'}, {',': 'PUNCT'}, {'\"': 'PUNCT'}, {\"'\": 'PUNCT'}, {'the': 'DET'}, {\"'\": 'PUNCT'}, {',': 'PUNCT'}, {'\"': 'PUNCT'}, {',': 'PUNCT'}, {'\"': 'PUNCT'}, {\"'\": 'PUNCT'}, {'entries': 'NOUN'}, {\"'\": 'PUNCT'}, {',': 'PUNCT'}, {'\"': 'PUNCT'}, {',': 'PUNCT'}, {'\"': 'PUNCT'}, {\"'\": 'PUNCT'}, {'by': 'ADP'}, {\"'\": 'NUM'}, {',': 'PUNCT'}, {'\"': 'PUNCT'}, {',': 'PUNCT'}, {'\"': 'PUNCT'}, {\"'\": 'PUNCT'}, {'Sepal': 'NOUN'}, {\"'\": 'PUNCT'}, {',': 'PUNCT'}, {'\"': 'PUNCT'}, {',': 'PUNCT'}, {'\"': 'PUNCT'}, {\"'\": 'PUNCT'}, {'Length': 'PROPN'}, {\"'\": 'PUNCT'}, {',': 'PUNCT'}, {'\"': 'PUNCT'}, {',': 'PUNCT'}, {'\"': 'PUNCT'}, {\"'\": 'PUNCT'}, {'in': 'ADP'}, {\"'\": 'NUM'}, {',': 'PUNCT'}, {'\"': 'PUNCT'}, {',': 'PUNCT'}, {'\"': 'PUNCT'}, {\"'\": 'PUNCT'}, {'ascending': 'VERB'}, {\"'\": 'PUNCT'}, {',': 'PUNCT'}, {'\"': 'PUNCT'}, {',': 'PUNCT'}, {'\"': 'PUNCT'}, {\"'\": 'PUNCT'}, {'order': 'NOUN'}, {\"'\": 'PUNCT'}, {']': 'PUNCT'}, {'\"': 'PUNCT'}, {']': 'PUNCT'}, {'[': 'X'}, {'\"': 'PUNCT'}, {'[': 'X'}, {\"'\": 'PUNCT'}, {'List': 'NOUN'}, {\"'\": 'PUNCT'}, {',': 'PUNCT'}, {'\"': 'PUNCT'}, {',': 'PUNCT'}, {'\"': 'PUNCT'}, {\"'\": 'PUNCT'}, {'Species': 'NOUN'}, {\"'\": 'PUNCT'}, {',': 'PUNCT'}, {'\"': 'PUNCT'}, {',': 'PUNCT'}, {'\"': 'PUNCT'}, {\"'\": 'PUNCT'}, {'alphabetically': 'ADV'}, {\"'\": 'VERB'}, {']': 'X'}, {'\"': 'PUNCT'}, {']': 'PUNCT'}, {'[': 'X'}, {'\"': 'PUNCT'}, {'[': 'X'}, {\"'\": 'X'}, {'Entries': 'NOUN'}, {\"'\": 'PUNCT'}, {',': 'PUNCT'}, {'\"': 'PUNCT'}, {',': 'PUNCT'}, {'\"': 'PUNCT'}, {\"'\": 'PUNCT'}, {'with': 'ADP'}, {\"'\": 'PROPN'}, {',': 'PUNCT'}, {'\"': 'PUNCT'}, {',': 'PUNCT'}, {'\"': 'PUNCT'}, {\"'\": 'PUNCT'}, {'Sepal': 'NOUN'}, {\"'\": 'PUNCT'}, {',': 'PUNCT'}, {'\"': 'PUNCT'}, {',': 'PUNCT'}, {'\"': 'PUNCT'}, {\"'\": 'PUNCT'}, {'Length': 'PROPN'}, {\"'\": 'PUNCT'}, {',': 'PUNCT'}, {'\"': 'PUNCT'}, {',': 'PUNCT'}, {'\"': 'PUNCT'}, {\"'\": 'PUNCT'}, {'at': 'ADP'}, {\"'\": 'NUM'}, {',': 'PUNCT'}, {'\"': 'PUNCT'}, {',': 'PUNCT'}, {'\"': 'PUNCT'}, {\"'\": 'PUNCT'}, {'least': 'ADJ'}, {\"'\": 'PUNCT'}, {',': 'PUNCT'}, {'\"': 'PUNCT'}, {',': 'PUNCT'}, {'\"': 'PUNCT'}, {\"'\": 'PROPN'}, {'5': 'NUM'}, {\"'\": 'NUM'}, {',': 'PUNCT'}, {'\"': 'PUNCT'}, {',': 'PUNCT'}, {'\"': 'PUNCT'}, {\"'\": 'PUNCT'}, {'.': 'PUNCT'}, {\"'\": 'PUNCT'}, {',': 'PUNCT'}, {'\"': 'PUNCT'}, {',': 'PUNCT'}, {'\"': 'PUNCT'}, {\"'\": 'PUNCT'}, {'0': 'X'}, {\"'\": 'PUNCT'}, {']': 'PUNCT'}, {'\"': 'PUNCT'}, {']': 'PUNCT'}, {'[': 'X'}, {'\"': 'PUNCT'}, {'[': 'X'}, {\"'\": 'X'}, {'Entries': 'NOUN'}, {\"'\": 'PUNCT'}, {',': 'PUNCT'}, {'\"': 'PUNCT'}, {',': 'PUNCT'}, {'\"': 'PUNCT'}, {\"'\": 'PUNCT'}, {'with': 'ADP'}, {\"'\": 'PROPN'}, {',': 'PUNCT'}, {'\"': 'PUNCT'}, {',': 'PUNCT'}, {'\"': 'PUNCT'}, {\"'\": 'PUNCT'}, {'Petal': 'ADJ'}, {\"'\": 'PUNCT'}, {',': 'PUNCT'}, {'\"': 'PUNCT'}, {',': 'PUNCT'}, {'\"': 'PUNCT'}, {\"'\": 'PUNCT'}, {'Length': 'PROPN'}, {\"'\": 'PUNCT'}, {',': 'PUNCT'}, {'\"': 'PUNCT'}, {',': 'PUNCT'}, {'\"': 'PUNCT'}, {\"'\": 'PUNCT'}, {'between': 'ADP'}, {\"'\": 'PUNCT'}, {',': 'PUNCT'}, {'\"': 'PUNCT'}, {',': 'PUNCT'}, {'\"': 'PUNCT'}, {\"'\": 'PROPN'}, {'1': 'X'}, {\"'\": 'NUM'}, {',': 'PUNCT'}, {'\"': 'PUNCT'}, {',': 'PUNCT'}, {'\"': 'PUNCT'}, {\"'\": 'PUNCT'}, {'.': 'PUNCT'}, {\"'\": 'PUNCT'}, {',': 'PUNCT'}, {'\"': 'PUNCT'}, {',': 'PUNCT'}, {'\"': 'PUNCT'}, {\"'\": 'PROPN'}, {'5': 'NUM'}, {\"'\": 'NUM'}, {',': 'PUNCT'}, {'\"': 'PUNCT'}, {',': 'PUNCT'}, {'\"': 'PUNCT'}, {\"'\": 'PUNCT'}, {'and': 'CCONJ'}, {\"'\": 'NUM'}, {',': 'PUNCT'}, {'\"': 'PUNCT'}, {',': 'PUNCT'}, {'\"': 'PUNCT'}, {\"'\": 'PROPN'}, {'2': 'X'}, {\"'\": 'NUM'}, {',': 'PUNCT'}, {'\"': 'PUNCT'}, {',': 'PUNCT'}, {'\"': 'PUNCT'}, {\"'\": 'PUNCT'}, {'.': 'PUNCT'}, {\"'\": 'PUNCT'}, {',': 'PUNCT'}, {'\"': 'PUNCT'}, {',': 'PUNCT'}, {'\"': 'PUNCT'}, {\"'\": 'PROPN'}, {'5': 'NUM'}, {\"'\": 'NUM'}, {']': 'PUNCT'}, {'\"': 'PUNCT'}, {']': 'PUNCT'}, {'[': 'X'}, {'\"': 'PUNCT'}, {'[': 'X'}, {\"'\": 'PUNCT'}, {'Top': 'ADJ'}, {\"'\": 'NUM'}, {',': 'PUNCT'}, {'\"': 'PUNCT'}, {',': 'PUNCT'}, {'\"': 'PUNCT'}, {\"'\": 'PROPN'}, {'3': 'NUM'}, {\"'\": 'NUM'}, {',': 'PUNCT'}, {'\"': 'PUNCT'}, {',': 'PUNCT'}, {'\"': 'PUNCT'}, {\"'\": 'PUNCT'}, {'entries': 'NOUN'}, {\"'\": 'PUNCT'}, {',': 'PUNCT'}, {'\"': 'PUNCT'}, {',': 'PUNCT'}, {'\"': 'PUNCT'}, {\"'\": 'PUNCT'}, {'with': 'ADP'}, {\"'\": 'PROPN'}, {',': 'PUNCT'}, {'\"': 'PUNCT'}, {',': 'PUNCT'}, {'\"': 'PUNCT'}, {\"'\": 'PUNCT'}, {'the': 'DET'}, {\"'\": 'PUNCT'}, {',': 'PUNCT'}, {'\"': 'PUNCT'}, {',': 'PUNCT'}, {'\"': 'PUNCT'}, {\"'\": 'PUNCT'}, {'highest': 'ADJ'}, {\"'\": 'PUNCT'}, {',': 'PUNCT'}, {'\"': 'PUNCT'}, {',': 'PUNCT'}, {'\"': 'PUNCT'}, {\"'\": 'PUNCT'}, {'Sepal': 'NOUN'}, {\"'\": 'PUNCT'}, {',': 'PUNCT'}, {'\"': 'PUNCT'}, {',': 'PUNCT'}, {'\"': 'PUNCT'}, {\"'\": 'PUNCT'}, {'Width': 'PROPN'}, {\"'\": 'PUNCT'}, {']': 'PUNCT'}, {'\"': 'PUNCT'}, {']': 'PUNCT'}, {'[': 'X'}, {'\"': 'PUNCT'}, {'[': 'X'}, {\"'\": 'X'}, {'Species': 'NOUN'}, {\"'\": 'PUNCT'}, {',': 'PUNCT'}, {'\"': 'PUNCT'}, {',': 'PUNCT'}, {'\"': 'PUNCT'}, {\"'\": 'PUNCT'}, {'is': 'AUX'}, {\"'\": 'PUNCT'}, {',': 'PUNCT'}, {'\"': 'PUNCT'}, {',': 'PUNCT'}, {\"'\": 'PUNCT'}, {'\"': 'PUNCT'}, {'\\\\': 'PROPN'}, {\"'\": 'PUNCT'}, {'\"': 'PUNCT'}, {',': 'PUNCT'}, {\"'\": 'PUNCT'}, {',': 'PUNCT'}, {'\"': 'PUNCT'}, {\"'\": 'PUNCT'}, {'Setosa': 'VERB'}, {\"'\": 'NUM'}, {',': 'PUNCT'}, {'\"': 'PUNCT'}, {',': 'PUNCT'}, {\"'\": 'PUNCT'}, {'\"': 'PUNCT'}, {'\\\\': 'PROPN'}, {\"'\": 'PUNCT'}, {'\"': 'PUNCT'}, {']': 'PUNCT'}, {\"'\": 'X'}, {']': 'PUNCT'}, {'[': 'X'}, {'\"': 'PUNCT'}, {'[': 'X'}, {\"'\": 'X'}, {'Species': 'NOUN'}, {\"'\": 'PUNCT'}, {',': 'PUNCT'}, {'\"': 'PUNCT'}, {',': 'PUNCT'}, {'\"': 'PUNCT'}, {\"'\": 'PUNCT'}, {'starts': 'VERB'}, {\"'\": 'PUNCT'}, {',': 'PUNCT'}, {'\"': 'PUNCT'}, {',': 'PUNCT'}, {'\"': 'PUNCT'}, {\"'\": 'PUNCT'}, {'with': 'ADP'}, {\"'\": 'PROPN'}, {',': 'PUNCT'}, {'\"': 'PUNCT'}, {',': 'PUNCT'}, {\"'\": 'PUNCT'}, {'\"': 'PUNCT'}, {'\\\\': 'PROPN'}, {\"'\": 'PUNCT'}, {'\"': 'PUNCT'}, {',': 'PUNCT'}, {\"'\": 'PUNCT'}, {',': 'PUNCT'}, {'\"': 'PUNCT'}, {\"'\": 'PUNCT'}, {'Se': 'PROPN'}, {\"'\": 'NUM'}, {',': 'PUNCT'}, {'\"': 'PUNCT'}, {',': 'PUNCT'}, {\"'\": 'PUNCT'}, {'\"': 'PUNCT'}, {'\\\\': 'PROPN'}, {\"'\": 'PUNCT'}, {'\"': 'PUNCT'}, {']': 'PUNCT'}, {\"'\": 'X'}, {']': 'PUNCT'}, {'[': 'X'}, {'\"': 'PUNCT'}, {'[': 'X'}, {\"'\": 'PUNCT'}, {'Calculate': 'VERB'}, {\"'\": 'PUNCT'}, {',': 'PUNCT'}, {'\"': 'PUNCT'}, {',': 'PUNCT'}, {'\"': 'PUNCT'}, {\"'\": 'PUNCT'}, {'the': 'DET'}, {\"'\": 'PUNCT'}, {',': 'PUNCT'}, {'\"': 'PUNCT'}, {',': 'PUNCT'}, {'\"': 'PUNCT'}, {\"'\": 'PUNCT'}, {'total': 'ADJ'}, {\"'\": 'PUNCT'}, {',': 'PUNCT'}, {'\"': 'PUNCT'}, {',': 'PUNCT'}, {'\"': 'PUNCT'}, {\"'\": 'PUNCT'}, {'of': 'ADP'}, {\"'\": 'NUM'}, {',': 'PUNCT'}, {'\"': 'PUNCT'}, {',': 'PUNCT'}, {'\"': 'PUNCT'}, {\"'\": 'PUNCT'}, {'Petal': 'ADJ'}, {\"'\": 'PUNCT'}, {',': 'PUNCT'}, {'\"': 'PUNCT'}, {',': 'PUNCT'}, {'\"': 'PUNCT'}, {\"'\": 'PUNCT'}, {'Lengths': 'NOUN'}, {\"'\": 'NUM'}, {']': 'PUNCT'}, {'\"': 'PUNCT'}, {']': 'PUNCT'}, {'[': 'X'}, {'\"': 'PUNCT'}, {'[': 'X'}, {\"'\": 'PUNCT'}, {'What': 'PRON'}, {\"'\": 'PROPN'}, {',': 'PUNCT'}, {'\"': 'PUNCT'}, {',': 'PUNCT'}, {'\"': 'PUNCT'}, {\"'\": 'PUNCT'}, {'is': 'AUX'}, {\"'\": 'PUNCT'}, {',': 'PUNCT'}, {'\"': 'PUNCT'}, {',': 'PUNCT'}, {'\"': 'PUNCT'}, {\"'\": 'PUNCT'}, {'the': 'DET'}, {\"'\": 'PUNCT'}, {',': 'PUNCT'}, {'\"': 'PUNCT'}, {',': 'PUNCT'}, {'\"': 'PUNCT'}, {\"'\": 'PUNCT'}, {'average': 'ADJ'}, {\"'\": 'PUNCT'}, {',': 'PUNCT'}, {'\"': 'PUNCT'}, {',': 'PUNCT'}, {'\"': 'PUNCT'}, {\"'\": 'PUNCT'}, {'Petal': 'ADJ'}, {\"'\": 'PUNCT'}, {',': 'PUNCT'}, {'\"': 'PUNCT'}, {',': 'PUNCT'}, {'\"': 'PUNCT'}, {\"'\": 'PUNCT'}, {'Width': 'PROPN'}, {\"'\": 'PUNCT'}, {',': 'PUNCT'}, {'\"': 'PUNCT'}, {',': 'PUNCT'}, {'\"': 'PUNCT'}, {\"'\": 'PUNCT'}, {'?': 'PUNCT'}, {\"'\": 'PUNCT'}, {']': 'PUNCT'}, {'\"': 'PUNCT'}, {']': 'PUNCT'}, {'[': 'X'}, {'\"': 'PUNCT'}, {'[': 'X'}, {\"'\": 'X'}, {'Determine': 'NOUN'}, {\"'\": 'PUNCT'}, {',': 'PUNCT'}, {'\"': 'PUNCT'}, {',': 'PUNCT'}, {'\"': 'PUNCT'}, {\"'\": 'PUNCT'}, {'the': 'DET'}, {\"'\": 'PUNCT'}, {',': 'PUNCT'}, {'\"': 'PUNCT'}, {',': 'PUNCT'}, {'\"': 'PUNCT'}, {\"'\": 'PUNCT'}, {'middle': 'ADJ'}, {\"'\": 'PUNCT'}, {',': 'PUNCT'}, {'\"': 'PUNCT'}, {',': 'PUNCT'}, {'\"': 'PUNCT'}, {\"'\": 'PUNCT'}, {'value': 'NOUN'}, {\"'\": 'PUNCT'}, {',': 'PUNCT'}, {'\"': 'PUNCT'}, {',': 'PUNCT'}, {'\"': 'PUNCT'}, {\"'\": 'PUNCT'}, {'of': 'ADP'}, {\"'\": 'NUM'}, {',': 'PUNCT'}, {'\"': 'PUNCT'}, {',': 'PUNCT'}, {'\"': 'PUNCT'}, {\"'\": 'PUNCT'}, {'Sepal': 'NOUN'}, {\"'\": 'PUNCT'}, {',': 'PUNCT'}, {'\"': 'PUNCT'}, {',': 'PUNCT'}, {'\"': 'PUNCT'}, {\"'\": 'PUNCT'}, {'Widths': 'NOUN'}, {\"'\": 'PUNCT'}, {']': 'PUNCT'}, {'\"': 'PUNCT'}, {']': 'PUNCT'}, {'[': 'X'}, {'\"': 'PUNCT'}, {'[': 'X'}, {\"'\": 'X'}, {'How': 'SCONJ'}, {\"'\": 'NUM'}, {',': 'PUNCT'}, {'\"': 'PUNCT'}, {',': 'PUNCT'}, {'\"': 'PUNCT'}, {\"'\": 'PUNCT'}, {'many': 'ADJ'}, {\"'\": 'PUNCT'}, {',': 'PUNCT'}, {'\"': 'PUNCT'}, {',': 'PUNCT'}, {'\"': 'PUNCT'}, {\"'\": 'PUNCT'}, {'data': 'NOUN'}, {\"'\": 'PUNCT'}, {',': 'PUNCT'}, {'\"': 'PUNCT'}, {',': 'PUNCT'}, {'\"': 'PUNCT'}, {\"'\": 'PUNCT'}, {'points': 'NOUN'}, {\"'\": 'PUNCT'}, {',': 'PUNCT'}, {'\"': 'PUNCT'}, {',': 'PUNCT'}, {'\"': 'PUNCT'}, {\"'\": 'PUNCT'}, {'are': 'AUX'}, {\"'\": 'NUM'}, {',': 'PUNCT'}, {'\"': 'PUNCT'}, {',': 'PUNCT'}, {'\"': 'PUNCT'}, {\"'\": 'PUNCT'}, {'there': 'PRON'}, {\"'\": 'NUM'}, {',': 'PUNCT'}, {'\"': 'PUNCT'}, {',': 'PUNCT'}, {'\"': 'PUNCT'}, {\"'\": 'PUNCT'}, {'?': 'PUNCT'}, {\"'\": 'PUNCT'}, {']': 'PUNCT'}, {'\"': 'PUNCT'}, {']': 'PUNCT'}, {'[': 'X'}, {'\"': 'PUNCT'}, {'[': 'X'}, {\"'\": 'X'}, {'Number': 'NOUN'}, {\"'\": 'PUNCT'}, {',': 'PUNCT'}, {'\"': 'PUNCT'}, {',': 'PUNCT'}, {'\"': 'PUNCT'}, {\"'\": 'PUNCT'}, {'of': 'ADP'}, {\"'\": 'NUM'}, {',': 'PUNCT'}, {'\"': 'PUNCT'}, {',': 'PUNCT'}, {'\"': 'PUNCT'}, {\"'\": 'PUNCT'}, {'unique': 'ADJ'}, {\"'\": 'PUNCT'}, {',': 'PUNCT'}, {'\"': 'PUNCT'}, {',': 'PUNCT'}, {'\"': 'PUNCT'}, {\"'\": 'PUNCT'}, {'flower': 'NOUN'}, {\"'\": 'PUNCT'}, {',': 'PUNCT'}, {'\"': 'PUNCT'}, {',': 'PUNCT'}, {'\"': 'PUNCT'}, {\"'\": 'PUNCT'}, {'types': 'NOUN'}, {\"'\": 'PUNCT'}, {']': 'PUNCT'}, {'\"': 'PUNCT'}, {']': 'PUNCT'}, {'[': 'X'}, {'\"': 'PUNCT'}, {'[': 'X'}, {\"'\": 'PUNCT'}, {'Lowest': 'ADJ'}, {\"'\": 'NUM'}, {',': 'PUNCT'}, {'\"': 'PUNCT'}, {',': 'PUNCT'}, {'\"': 'PUNCT'}, {\"'\": 'PUNCT'}, {'Sepal': 'NOUN'}, {\"'\": 'PUNCT'}, {',': 'PUNCT'}, {'\"': 'PUNCT'}, {',': 'PUNCT'}, {'\"': 'PUNCT'}, {\"'\": 'PUNCT'}, {'Length': 'PROPN'}, {\"'\": 'PUNCT'}, {',': 'PUNCT'}, {'\"': 'PUNCT'}, {',': 'PUNCT'}, {'\"': 'PUNCT'}, {\"'\": 'PUNCT'}, {'recorded': 'VERB'}, {\"'\": 'PUNCT'}, {']': 'PUNCT'}, {'\"': 'PUNCT'}, {']': 'PUNCT'}, {'[': 'X'}, {'\"': 'PUNCT'}, {'[': 'X'}, {\"'\": 'X'}, {'Highest': 'ADJ'}, {\"'\": 'NUM'}, {',': 'PUNCT'}, {'\"': 'PUNCT'}, {',': 'PUNCT'}, {'\"': 'PUNCT'}, {\"'\": 'PUNCT'}, {'value': 'NOUN'}, {\"'\": 'PUNCT'}, {',': 'PUNCT'}, {'\"': 'PUNCT'}, {',': 'PUNCT'}, {'\"': 'PUNCT'}, {\"'\": 'PUNCT'}, {'of': 'ADP'}, {\"'\": 'NUM'}, {',': 'PUNCT'}, {'\"': 'PUNCT'}, {',': 'PUNCT'}, {'\"': 'PUNCT'}, {\"'\": 'PUNCT'}, {'Petal': 'ADJ'}, {\"'\": 'PUNCT'}, {',': 'PUNCT'}, {'\"': 'PUNCT'}, {',': 'PUNCT'}, {'\"': 'PUNCT'}, {\"'\": 'PUNCT'}, {'Width': 'PROPN'}, {\"'\": 'PUNCT'}, {',': 'PUNCT'}, {'\"': 'PUNCT'}, {',': 'PUNCT'}, {'\"': 'PUNCT'}, {\"'\": 'PUNCT'}, {'found': 'VERB'}, {\"'\": 'PUNCT'}, {']': 'PUNCT'}, {'\"': 'PUNCT'}, {']': 'PUNCT'}, {'[': 'X'}, {'\"': 'PUNCT'}, {'[': 'X'}, {\"'\": 'PUNCT'}, {'Organize': 'VERB'}, {\"'\": 'PUNCT'}, {',': 'PUNCT'}, {'\"': 'PUNCT'}, {',': 'PUNCT'}, {'\"': 'PUNCT'}, {\"'\": 'PUNCT'}, {'data': 'NOUN'}, {\"'\": 'PUNCT'}, {',': 'PUNCT'}, {'\"': 'PUNCT'}, {',': 'PUNCT'}, {'\"': 'PUNCT'}, {\"'\": 'PUNCT'}, {'by': 'ADP'}, {\"'\": 'NUM'}, {',': 'PUNCT'}, {'\"': 'PUNCT'}, {',': 'PUNCT'}, {'\"': 'PUNCT'}, {\"'\": 'PUNCT'}, {'Species': 'NOUN'}, {\"'\": 'PUNCT'}, {',': 'PUNCT'}, {'\"': 'PUNCT'}, {',': 'PUNCT'}, {'\"': 'PUNCT'}, {\"'\": 'PUNCT'}, {'in': 'ADP'}, {\"'\": 'NUM'}, {',': 'PUNCT'}, {'\"': 'PUNCT'}, {',': 'PUNCT'}, {'\"': 'PUNCT'}, {\"'\": 'PUNCT'}, {'descending': 'VERB'}, {\"'\": 'PUNCT'}, {',': 'PUNCT'}, {'\"': 'PUNCT'}, {',': 'PUNCT'}, {'\"': 'PUNCT'}, {\"'\": 'PUNCT'}, {'order': 'NOUN'}, {\"'\": 'PUNCT'}, {']': 'PUNCT'}, {'\"': 'PUNCT'}, {']': 'PUNCT'}, {'[': 'X'}, {'\"': 'PUNCT'}, {'[': 'X'}, {\"'\": 'X'}, {'Rank': 'PROPN'}, {\"'\": 'PUNCT'}, {',': 'PUNCT'}, {'\"': 'PUNCT'}, {',': 'PUNCT'}, {'\"': 'PUNCT'}, {\"'\": 'PUNCT'}, {'Sepal': 'NOUN'}, {\"'\": 'PUNCT'}, {',': 'PUNCT'}, {'\"': 'PUNCT'}, {',': 'PUNCT'}, {'\"': 'PUNCT'}, {\"'\": 'PUNCT'}, {'Lengths': 'NOUN'}, {\"'\": 'NUM'}, {',': 'PUNCT'}, {'\"': 'PUNCT'}, {',': 'PUNCT'}, {'\"': 'PUNCT'}, {\"'\": 'PUNCT'}, {'from': 'ADP'}, {\"'\": 'NUM'}, {',': 'PUNCT'}, {'\"': 'PUNCT'}, {',': 'PUNCT'}, {'\"': 'PUNCT'}, {\"'\": 'PUNCT'}, {'low': 'ADJ'}, {\"'\": 'PUNCT'}, {',': 'PUNCT'}, {'\"': 'PUNCT'}, {',': 'PUNCT'}, {'\"': 'PUNCT'}, {\"'\": 'PUNCT'}, {'to': 'PART'}, {\"'\": 'NUM'}, {',': 'PUNCT'}, {'\"': 'PUNCT'}, {',': 'PUNCT'}, {'\"': 'PUNCT'}, {\"'\": 'PUNCT'}, {'high': 'ADJ'}, {\"'\": 'PUNCT'}, {']': 'PUNCT'}, {'\"': 'PUNCT'}, {']': 'PUNCT'}, {'[': 'X'}, {'\"': 'PUNCT'}, {'[': 'X'}, {\"'\": 'X'}, {'Filter': 'PROPN'}, {\"'\": 'NUM'}, {',': 'PUNCT'}, {'\"': 'PUNCT'}, {',': 'PUNCT'}, {'\"': 'PUNCT'}, {\"'\": 'PUNCT'}, {'for': 'ADP'}, {\"'\": 'NUM'}, {',': 'PUNCT'}, {'\"': 'PUNCT'}, {',': 'PUNCT'}, {'\"': 'PUNCT'}, {\"'\": 'PUNCT'}, {'Sepal': 'NOUN'}, {\"'\": 'PUNCT'}, {',': 'PUNCT'}, {'\"': 'PUNCT'}, {',': 'PUNCT'}, {'\"': 'PUNCT'}, {\"'\": 'PUNCT'}, {'Length': 'PROPN'}, {\"'\": 'PUNCT'}, {',': 'PUNCT'}, {'\"': 'PUNCT'}, {',': 'PUNCT'}, {'\"': 'PUNCT'}, {\"'\": 'PUNCT'}, {'greater': 'ADJ'}, {\"'\": 'PUNCT'}, {',': 'PUNCT'}, {'\"': 'PUNCT'}, {',': 'PUNCT'}, {'\"': 'PUNCT'}, {\"'\": 'PUNCT'}, {'than': 'ADP'}, {\"'\": 'PROPN'}, {',': 'PUNCT'}, {'\"': 'PUNCT'}, {',': 'PUNCT'}, {'\"': 'PUNCT'}, {\"'\": 'PUNCT'}, {'or': 'CCONJ'}, {\"'\": 'NUM'}, {',': 'PUNCT'}, {'\"': 'PUNCT'}, {',': 'PUNCT'}, {'\"': 'PUNCT'}, {\"'\": 'PUNCT'}, {'equal': 'ADJ'}, {\"'\": 'PUNCT'}, {',': 'PUNCT'}, {'\"': 'PUNCT'}, {',': 'PUNCT'}, {'\"': 'PUNCT'}, {\"'\": 'PUNCT'}, {'to': 'PART'}, {\"'\": 'NUM'}, {',': 'PUNCT'}, {'\"': 'PUNCT'}, {',': 'PUNCT'}, {'\"': 'PUNCT'}, {\"'\": 'PROPN'}, {'4': 'NUM'}, {\"'\": 'NUM'}, {',': 'PUNCT'}, {'\"': 'PUNCT'}, {',': 'PUNCT'}, {'\"': 'PUNCT'}, {\"'\": 'PUNCT'}, {'.': 'PUNCT'}, {\"'\": 'PUNCT'}, {',': 'PUNCT'}, {'\"': 'PUNCT'}, {',': 'PUNCT'}, {'\"': 'PUNCT'}, {\"'\": 'PROPN'}, {'5': 'NUM'}, {\"'\": 'NUM'}, {']': 'PUNCT'}, {'\"': 'PUNCT'}, {']': 'PUNCT'}, {'[': 'X'}, {'\"': 'PUNCT'}, {'[': 'X'}, {\"'\": 'PUNCT'}, {'Select': 'ADJ'}, {\"'\": 'PUNCT'}, {',': 'PUNCT'}, {'\"': 'PUNCT'}, {',': 'PUNCT'}, {'\"': 'PUNCT'}, {\"'\": 'PUNCT'}, {'entries': 'NOUN'}, {\"'\": 'PUNCT'}, {',': 'PUNCT'}, {'\"': 'PUNCT'}, {',': 'PUNCT'}, {'\"': 'PUNCT'}, {\"'\": 'PUNCT'}, {'with': 'ADP'}, {\"'\": 'PROPN'}, {',': 'PUNCT'}, {'\"': 'PUNCT'}, {',': 'PUNCT'}, {'\"': 'PUNCT'}, {\"'\": 'PUNCT'}, {'Petal': 'ADJ'}, {\"'\": 'PUNCT'}, {',': 'PUNCT'}, {'\"': 'PUNCT'}, {',': 'PUNCT'}, {'\"': 'PUNCT'}, {\"'\": 'PUNCT'}, {'Width': 'PROPN'}, {\"'\": 'PUNCT'}, {',': 'PUNCT'}, {'\"': 'PUNCT'}, {',': 'PUNCT'}, {'\"': 'PUNCT'}, {\"'\": 'PUNCT'}, {'less': 'ADJ'}, {\"'\": 'PUNCT'}, {',': 'PUNCT'}, {'\"': 'PUNCT'}, {',': 'PUNCT'}, {'\"': 'PUNCT'}, {\"'\": 'PUNCT'}, {'than': 'ADP'}, {\"'\": 'PROPN'}, {',': 'PUNCT'}, {'\"': 'PUNCT'}, {',': 'PUNCT'}, {'\"': 'PUNCT'}, {\"'\": 'PROPN'}, {'2': 'X'}, {\"'\": 'NUM'}, {',': 'PUNCT'}, {'\"': 'PUNCT'}, {',': 'PUNCT'}, {'\"': 'PUNCT'}, {\"'\": 'PUNCT'}, {'.': 'PUNCT'}, {\"'\": 'PUNCT'}, {',': 'PUNCT'}, {'\"': 'PUNCT'}, {',': 'PUNCT'}, {'\"': 'PUNCT'}, {\"'\": 'PUNCT'}, {'0': 'X'}, {\"'\": 'PUNCT'}, {']': 'PUNCT'}, {'\"': 'PUNCT'}, {']': 'PUNCT'}, {'[': 'X'}, {'\"': 'PUNCT'}, {'[': 'X'}, {\"'\": 'PUNCT'}, {'Show': 'VERB'}, {\"'\": 'PUNCT'}, {',': 'PUNCT'}, {'\"': 'PUNCT'}, {',': 'PUNCT'}, {'\"': 'PUNCT'}, {\"'\": 'PUNCT'}, {'entries': 'NOUN'}, {\"'\": 'PUNCT'}, {',': 'PUNCT'}, {'\"': 'PUNCT'}, {',': 'PUNCT'}, {'\"': 'PUNCT'}, {\"'\": 'PUNCT'}, {'where': 'SCONJ'}, {\"'\": 'NUM'}, {',': 'PUNCT'}, {'\"': 'PUNCT'}, {',': 'PUNCT'}, {'\"': 'PUNCT'}, {\"'\": 'PUNCT'}, {'Sepal': 'NOUN'}, {\"'\": 'PUNCT'}, {',': 'PUNCT'}, {'\"': 'PUNCT'}, {',': 'PUNCT'}, {'\"': 'PUNCT'}, {\"'\": 'PUNCT'}, {'Width': 'PROPN'}, {\"'\": 'PUNCT'}, {',': 'PUNCT'}, {'\"': 'PUNCT'}, {',': 'PUNCT'}, {'\"': 'PUNCT'}, {\"'\": 'PUNCT'}, {'is': 'AUX'}, {\"'\": 'PUNCT'}, {',': 'PUNCT'}, {'\"': 'PUNCT'}, {',': 'PUNCT'}, {'\"': 'PUNCT'}, {\"'\": 'PUNCT'}, {'not': 'PART'}, {\"'\": 'NUM'}, {',': 'PUNCT'}, {'\"': 'PUNCT'}, {',': 'PUNCT'}, {'\"': 'PUNCT'}, {\"'\": 'PROPN'}, {'3': 'NUM'}, {\"'\": 'NUM'}, {',': 'PUNCT'}, {'\"': 'PUNCT'}, {',': 'PUNCT'}, {'\"': 'PUNCT'}, {\"'\": 'PUNCT'}, {'.': 'PUNCT'}, {\"'\": 'PUNCT'}, {',': 'PUNCT'}, {'\"': 'PUNCT'}, {',': 'PUNCT'}, {'\"': 'PUNCT'}, {\"'\": 'PUNCT'}, {'0': 'X'}, {\"'\": 'PUNCT'}, {']': 'PUNCT'}, {'\"': 'PUNCT'}, {']': 'PUNCT'}, {'[': 'X'}, {'\"': 'PUNCT'}, {'[': 'X'}, {\"'\": 'PUNCT'}, {'List': 'NOUN'}, {\"'\": 'PUNCT'}, {',': 'PUNCT'}, {'\"': 'PUNCT'}, {',': 'PUNCT'}, {'\"': 'PUNCT'}, {\"'\": 'PUNCT'}, {'all': 'PRON'}, {\"'\": 'PROPN'}, {',': 'PUNCT'}, {'\"': 'PUNCT'}, {',': 'PUNCT'}, {'\"': 'PUNCT'}, {\"'\": 'PUNCT'}, {'where': 'SCONJ'}, {\"'\": 'NUM'}, {',': 'PUNCT'}, {'\"': 'PUNCT'}, {',': 'PUNCT'}, {'\"': 'PUNCT'}, {\"'\": 'PUNCT'}, {'the': 'DET'}, {\"'\": 'PUNCT'}, {',': 'PUNCT'}, {'\"': 'PUNCT'}, {',': 'PUNCT'}, {'\"': 'PUNCT'}, {\"'\": 'PUNCT'}, {'Species': 'NOUN'}, {\"'\": 'PUNCT'}, {',': 'PUNCT'}, {'\"': 'PUNCT'}, {',': 'PUNCT'}, {'\"': 'PUNCT'}, {\"'\": 'PUNCT'}, {'name': 'NOUN'}, {\"'\": 'PUNCT'}, {',': 'PUNCT'}, {'\"': 'PUNCT'}, {',': 'PUNCT'}, {'\"': 'PUNCT'}, {\"'\": 'PUNCT'}, {'ends': 'VERB'}, {\"'\": 'PUNCT'}, {',': 'PUNCT'}, {'\"': 'PUNCT'}, {',': 'PUNCT'}, {'\"': 'PUNCT'}, {\"'\": 'PUNCT'}, {'with': 'ADP'}, {\"'\": 'PROPN'}, {',': 'PUNCT'}, {'\"': 'PUNCT'}, {',': 'PUNCT'}, {\"'\": 'PUNCT'}, {'\"': 'PUNCT'}, {'\\\\': 'PROPN'}, {\"'\": 'PUNCT'}, {'\"': 'PUNCT'}, {',': 'PUNCT'}, {\"'\": 'PUNCT'}, {',': 'PUNCT'}, {'\"': 'PUNCT'}, {\"'\": 'PUNCT'}, {'ica': 'VERB'}, {\"'\": 'PUNCT'}, {',': 'PUNCT'}, {'\"': 'PUNCT'}, {',': 'PUNCT'}, {\"'\": 'PUNCT'}, {'\"': 'PUNCT'}, {'\\\\': 'PROPN'}, {\"'\": 'PUNCT'}, {'\"': 'PUNCT'}, {']': 'PUNCT'}, {\"'\": 'X'}, {']': 'PUNCT'}, {'[': 'X'}, {'\"': 'PUNCT'}, {'[': 'X'}, {\"'\": 'X'}, {'Entries': 'NOUN'}, {\"'\": 'PUNCT'}, {',': 'PUNCT'}, {'\"': 'PUNCT'}, {',': 'PUNCT'}, {'\"': 'PUNCT'}, {\"'\": 'PUNCT'}, {'with': 'ADP'}, {\"'\": 'PROPN'}, {',': 'PUNCT'}, {'\"': 'PUNCT'}, {',': 'PUNCT'}, {'\"': 'PUNCT'}, {\"'\": 'PUNCT'}, {'a': 'PRON'}, {\"'\": 'PUNCT'}, {',': 'PUNCT'}, {'\"': 'PUNCT'}, {',': 'PUNCT'}, {'\"': 'PUNCT'}, {\"'\": 'PUNCT'}, {'Sepal': 'NOUN'}, {\"'\": 'PUNCT'}, {',': 'PUNCT'}, {'\"': 'PUNCT'}, {',': 'PUNCT'}, {'\"': 'PUNCT'}, {\"'\": 'PUNCT'}, {'Length': 'PROPN'}, {\"'\": 'PUNCT'}, {',': 'PUNCT'}, {'\"': 'PUNCT'}, {',': 'PUNCT'}, {'\"': 'PUNCT'}, {\"'\": 'PUNCT'}, {'of': 'ADP'}, {\"'\": 'NUM'}, {',': 'PUNCT'}, {'\"': 'PUNCT'}, {',': 'PUNCT'}, {'\"': 'PUNCT'}, {\"'\": 'PUNCT'}, {'exactly': 'ADV'}, {\"'\": 'NUM'}, {',': 'PUNCT'}, {'\"': 'PUNCT'}, {',': 'PUNCT'}, {'\"': 'PUNCT'}, {\"'\": 'PROPN'}, {'5': 'NUM'}, {\"'\": 'NUM'}, {',': 'PUNCT'}, {'\"': 'PUNCT'}, {',': 'PUNCT'}, {'\"': 'PUNCT'}, {\"'\": 'PUNCT'}, {'.': 'PUNCT'}, {\"'\": 'PUNCT'}, {',': 'PUNCT'}, {'\"': 'PUNCT'}, {',': 'PUNCT'}, {'\"': 'PUNCT'}, {\"'\": 'PUNCT'}, {'0': 'X'}, {\"'\": 'PUNCT'}, {']': 'PUNCT'}, {'\"': 'PUNCT'}, {']': 'PUNCT'}, {'[': 'X'}, {'\"': 'PUNCT'}, {'[': 'X'}, {\"'\": 'PUNCT'}, {'Display': 'NOUN'}, {\"'\": 'PUNCT'}, {',': 'PUNCT'}, {'\"': 'PUNCT'}, {',': 'PUNCT'}, {'\"': 'PUNCT'}, {\"'\": 'PUNCT'}, {'the': 'DET'}, {\"'\": 'PUNCT'}, {',': 'PUNCT'}, {'\"': 'PUNCT'}, {',': 'PUNCT'}, {'\"': 'PUNCT'}, {\"'\": 'PUNCT'}, {'top': 'VERB'}, {\"'\": 'PUNCT'}, {',': 'PUNCT'}, {'\"': 'PUNCT'}, {',': 'PUNCT'}, {'\"': 'PUNCT'}, {\"'\": 'PROPN'}, {'5': 'NUM'}, {\"'\": 'NUM'}, {',': 'PUNCT'}, {'\"': 'PUNCT'}, {',': 'PUNCT'}, {'\"': 'PUNCT'}, {\"'\": 'PUNCT'}, {'Species': 'NOUN'}, {\"'\": 'PUNCT'}, {',': 'PUNCT'}, {'\"': 'PUNCT'}, {',': 'PUNCT'}, {'\"': 'PUNCT'}, {\"'\": 'PUNCT'}, {'by': 'ADP'}, {\"'\": 'NUM'}, {',': 'PUNCT'}, {'\"': 'PUNCT'}, {',': 'PUNCT'}, {'\"': 'PUNCT'}, {\"'\": 'PUNCT'}, {'Sepal': 'NOUN'}, {\"'\": 'PUNCT'}, {',': 'PUNCT'}, {'\"': 'PUNCT'}, {',': 'PUNCT'}, {'\"': 'PUNCT'}, {\"'\": 'PUNCT'}, {'Width': 'PROPN'}, {\"'\": 'PUNCT'}, {']': 'PUNCT'}, {'\"': 'PUNCT'}, {']': 'PUNCT'}, {'[': 'X'}, {'\"': 'PUNCT'}, {'[': 'X'}, {\"'\": 'VERB'}, {'Find': 'VERB'}, {\"'\": 'PUNCT'}, {',': 'PUNCT'}, {'\"': 'PUNCT'}, {',': 'PUNCT'}, {'\"': 'PUNCT'}, {\"'\": 'PUNCT'}, {'the': 'DET'}, {\"'\": 'PUNCT'}, {',': 'PUNCT'}, {'\"': 'PUNCT'}, {',': 'PUNCT'}, {'\"': 'PUNCT'}, {\"'\": 'PROPN'}, {'3': 'NUM'}, {\"'\": 'NUM'}, {',': 'PUNCT'}, {'\"': 'PUNCT'}, {',': 'PUNCT'}, {'\"': 'PUNCT'}, {\"'\": 'PUNCT'}, {'smallest': 'ADJ'}, {\"'\": 'PUNCT'}, {',': 'PUNCT'}, {'\"': 'PUNCT'}, {',': 'PUNCT'}, {'\"': 'PUNCT'}, {\"'\": 'PUNCT'}, {'Petal': 'ADJ'}, {\"'\": 'PUNCT'}, {',': 'PUNCT'}, {'\"': 'PUNCT'}, {',': 'PUNCT'}, {'\"': 'PUNCT'}, {\"'\": 'PUNCT'}, {'Lengths': 'NOUN'}, {\"'\": 'NUM'}, {']': 'PUNCT'}, {'\"': 'PUNCT'}, {']': 'PUNCT'}, {'[': 'X'}, {'\"': 'PUNCT'}, {'[': 'X'}, {\"'\": 'X'}, {'Count': 'PROPN'}, {\"'\": 'PUNCT'}, {',': 'PUNCT'}, {'\"': 'PUNCT'}, {',': 'PUNCT'}, {'\"': 'PUNCT'}, {\"'\": 'PUNCT'}, {'occurrences': 'NOUN'}, {\"'\": 'PUNCT'}, {',': 'PUNCT'}, {'\"': 'PUNCT'}, {',': 'PUNCT'}, {'\"': 'PUNCT'}, {\"'\": 'PUNCT'}, {'where': 'SCONJ'}, {\"'\": 'NUM'}, {',': 'PUNCT'}, {'\"': 'PUNCT'}, {',': 'PUNCT'}, {'\"': 'PUNCT'}, {\"'\": 'PUNCT'}, {'Petal': 'ADJ'}, {\"'\": 'PUNCT'}, {',': 'PUNCT'}, {'\"': 'PUNCT'}, {',': 'PUNCT'}, {'\"': 'PUNCT'}, {\"'\": 'PUNCT'}, {'Length': 'PROPN'}, {\"'\": 'PUNCT'}, {',': 'PUNCT'}, {'\"': 'PUNCT'}, {',': 'PUNCT'}, {'\"': 'PUNCT'}, {\"'\": 'PUNCT'}, {'is': 'AUX'}, {\"'\": 'PUNCT'}, {',': 'PUNCT'}, {'\"': 'PUNCT'}, {',': 'PUNCT'}, {'\"': 'PUNCT'}, {\"'\": 'PUNCT'}, {'between': 'ADP'}, {\"'\": 'PUNCT'}, {',': 'PUNCT'}, {'\"': 'PUNCT'}, {',': 'PUNCT'}, {'\"': 'PUNCT'}, {\"'\": 'PROPN'}, {'4': 'NUM'}, {\"'\": 'NUM'}, {',': 'PUNCT'}, {'\"': 'PUNCT'}, {',': 'PUNCT'}, {'\"': 'PUNCT'}, {\"'\": 'PUNCT'}, {'and': 'CCONJ'}, {\"'\": 'NUM'}, {',': 'PUNCT'}, {'\"': 'PUNCT'}, {',': 'PUNCT'}, {'\"': 'PUNCT'}, {\"'\": 'PROPN'}, {'5': 'NUM'}, {\"'\": 'NUM'}, {']': 'PUNCT'}, {'\"': 'PUNCT'}, {']': 'PUNCT'}, {'[': 'X'}, {'\"': 'PUNCT'}, {'[': 'X'}, {\"'\": 'PUNCT'}, {'Aggregate': 'VERB'}, {\"'\": 'PUNCT'}, {',': 'PUNCT'}, {'\"': 'PUNCT'}, {',': 'PUNCT'}, {'\"': 'PUNCT'}, {\"'\": 'PUNCT'}, {'data': 'NOUN'}, {\"'\": 'PUNCT'}, {',': 'PUNCT'}, {'\"': 'PUNCT'}, {',': 'PUNCT'}, {'\"': 'PUNCT'}, {\"'\": 'PUNCT'}, {'by': 'ADP'}, {\"'\": 'NUM'}, {',': 'PUNCT'}, {'\"': 'PUNCT'}, {',': 'PUNCT'}, {'\"': 'PUNCT'}, {\"'\": 'PUNCT'}, {'the': 'DET'}, {\"'\": 'PUNCT'}, {',': 'PUNCT'}, {'\"': 'PUNCT'}, {',': 'PUNCT'}, {'\"': 'PUNCT'}, {\"'\": 'PUNCT'}, {'month': 'NOUN'}, {\"'\": 'PUNCT'}, {',': 'PUNCT'}, {'\"': 'PUNCT'}, {',': 'PUNCT'}, {'\"': 'PUNCT'}, {\"'\": 'PUNCT'}, {'of': 'ADP'}, {\"'\": 'NUM'}, {',': 'PUNCT'}, {'\"': 'PUNCT'}, {',': 'PUNCT'}, {'\"': 'PUNCT'}, {\"'\": 'PUNCT'}, {'observation': 'NOUN'}, {\"'\": 'PUNCT'}, {',': 'PUNCT'}, {'\"': 'PUNCT'}, {',': 'PUNCT'}, {'\"': 'PUNCT'}, {\"'\": 'PUNCT'}, {'(': 'PUNCT'}, {\"'\": 'PUNCT'}, {',': 'PUNCT'}, {'\"': 'PUNCT'}, {',': 'PUNCT'}, {'\"': 'PUNCT'}, {\"'\": 'PUNCT'}, {'assuming': 'VERB'}, {\"'\": 'PUNCT'}, {',': 'PUNCT'}, {'\"': 'PUNCT'}, {',': 'PUNCT'}, {'\"': 'PUNCT'}, {\"'\": 'PUNCT'}, {'there': 'PRON'}, {\"'\": 'NUM'}, {',': 'PUNCT'}, {'\"': 'PUNCT'}, {',': 'PUNCT'}, {\"'\": 'PUNCT'}, {'\"': 'PUNCT'}, {'\\\\': 'PROPN'}, {\"'\": 'PUNCT'}, {'\"': 'PUNCT'}, {',': 'PUNCT'}, {\"'\": 'PUNCT'}, {',': 'PUNCT'}, {'\"': 'PUNCT'}, {\"'s\": 'AUX'}, {\"'\": 'NUM'}, {',': 'PUNCT'}, {'\"': 'PUNCT'}, {',': 'PUNCT'}, {'\"': 'PUNCT'}, {\"'\": 'PUNCT'}, {'a': 'PRON'}, {\"'\": 'PUNCT'}, {',': 'PUNCT'}, {'\"': 'PUNCT'}, {',': 'PUNCT'}, {'\"': 'PUNCT'}, {\"'\": 'PUNCT'}, {'Date': 'VERB'}, {\"'\": 'PUNCT'}, {',': 'PUNCT'}, {'\"': 'PUNCT'}, {',': 'PUNCT'}, {'\"': 'PUNCT'}, {\"'\": 'PUNCT'}, {'field': 'NOUN'}, {\"'\": 'PUNCT'}, {',': 'PUNCT'}, {'\"': 'PUNCT'}, {',': 'PUNCT'}, {'\"': 'PUNCT'}, {\"'\": 'PUNCT'}, {')': 'PUNCT'}, {\"'\": 'PUNCT'}, {']': 'PUNCT'}, {'\"': 'PUNCT'}, {']': 'PUNCT'}, {'[': 'X'}, {'\"': 'PUNCT'}, {'[': 'X'}, {\"'\": 'X'}, {'Filter': 'PROPN'}, {\"'\": 'NUM'}, {',': 'PUNCT'}, {'\"': 'PUNCT'}, {',': 'PUNCT'}, {'\"': 'PUNCT'}, {\"'\": 'PUNCT'}, {'records': 'NOUN'}, {\"'\": 'PART'}, {',': 'PUNCT'}, {'\"': 'PUNCT'}, {',': 'PUNCT'}, {'\"': 'PUNCT'}, {\"'\": 'PUNCT'}, {'from': 'ADP'}, {\"'\": 'NUM'}, {',': 'PUNCT'}, {'\"': 'PUNCT'}, {',': 'PUNCT'}, {'\"': 'PUNCT'}, {\"'\": 'PUNCT'}, {'last': 'ADJ'}, {\"'\": 'PUNCT'}, {',': 'PUNCT'}, {'\"': 'PUNCT'}, {',': 'PUNCT'}, {'\"': 'PUNCT'}, {\"'\": 'PUNCT'}, {'year': 'NOUN'}, {\"'\": 'PUNCT'}, {',': 'PUNCT'}, {'\"': 'PUNCT'}, {',': 'PUNCT'}, {'\"': 'PUNCT'}, {\"'\": 'PUNCT'}, {'(': 'PUNCT'}, {\"'\": 'PUNCT'}, {',': 'PUNCT'}, {'\"': 'PUNCT'}, {',': 'PUNCT'}, {'\"': 'PUNCT'}, {\"'\": 'PUNCT'}, {'assuming': 'VERB'}, {\"'\": 'PUNCT'}, {',': 'PUNCT'}, {'\"': 'PUNCT'}, {',': 'PUNCT'}, {'\"': 'PUNCT'}, {\"'\": 'PUNCT'}, {'there': 'PRON'}, {\"'\": 'NUM'}, {',': 'PUNCT'}, {'\"': 'PUNCT'}, {',': 'PUNCT'}, {\"'\": 'PUNCT'}, {'\"': 'PUNCT'}, {'\\\\': 'PROPN'}, {\"'\": 'PUNCT'}, {'\"': 'PUNCT'}, {',': 'PUNCT'}, {\"'\": 'PUNCT'}, {',': 'PUNCT'}, {'\"': 'PUNCT'}, {\"'s\": 'AUX'}, {\"'\": 'NUM'}, {',': 'PUNCT'}, {'\"': 'PUNCT'}, {',': 'PUNCT'}, {'\"': 'PUNCT'}, {\"'\": 'PUNCT'}, {'a': 'PRON'}, {\"'\": 'PUNCT'}, {',': 'PUNCT'}, {'\"': 'PUNCT'}, {',': 'PUNCT'}, {'\"': 'PUNCT'}, {\"'\": 'PUNCT'}, {'Date': 'VERB'}, {\"'\": 'PUNCT'}, {',': 'PUNCT'}, {'\"': 'PUNCT'}, {',': 'PUNCT'}, {'\"': 'PUNCT'}, {\"'\": 'PUNCT'}, {'field': 'NOUN'}, {\"'\": 'PUNCT'}, {',': 'PUNCT'}, {'\"': 'PUNCT'}, {',': 'PUNCT'}, {'\"': 'PUNCT'}, {\"'\": 'PUNCT'}, {')': 'PUNCT'}, {\"'\": 'PUNCT'}, {']': 'PUNCT'}, {'\"': 'PUNCT'}, {']': 'PUNCT'}, {'[': 'X'}, {'\"': 'PUNCT'}, {'[': 'X'}, {\"'\": 'PUNCT'}, {'Show': 'VERB'}, {\"'\": 'PUNCT'}, {',': 'PUNCT'}, {'\"': 'PUNCT'}, {',': 'PUNCT'}, {'\"': 'PUNCT'}, {\"'\": 'PUNCT'}, {'only': 'ADV'}, {\"'\": 'NUM'}, {',': 'PUNCT'}, {'\"': 'PUNCT'}, {',': 'PUNCT'}, {'\"': 'PUNCT'}, {\"'\": 'PUNCT'}, {'the': 'PRON'}, {\"'\": 'PUNCT'}, {',': 'PUNCT'}, {'\"': 'PUNCT'}, {',': 'PUNCT'}, {'\"': 'PUNCT'}, {\"'\": 'PUNCT'}, {'data': 'NOUN'}, {\"'\": 'PUNCT'}, {',': 'PUNCT'}, {'\"': 'PUNCT'}, {',': 'PUNCT'}, {'\"': 'PUNCT'}, {\"'\": 'PUNCT'}, {'starting': 'VERB'}, {\"'\": 'PUNCT'}, {',': 'PUNCT'}, {'\"': 'PUNCT'}, {',': 'PUNCT'}, {'\"': 'PUNCT'}, {\"'\": 'PUNCT'}, {'from': 'ADP'}, {\"'\": 'NUM'}, {',': 'PUNCT'}, {'\"': 'PUNCT'}, {',': 'PUNCT'}, {'\"': 'PUNCT'}, {\"'\": 'PUNCT'}, {'January': 'PROPN'}, {\"'\": 'NUM'}, {',': 'PUNCT'}, {'\"': 'PUNCT'}, {',': 'PUNCT'}, {'\"': 'PUNCT'}, {\"'\": 'PUNCT'}, {'this': 'PRON'}, {\"'\": 'PUNCT'}, {',': 'PUNCT'}, {'\"': 'PUNCT'}, {',': 'PUNCT'}, {'\"': 'PUNCT'}, {\"'\": 'PUNCT'}, {'year': 'NOUN'}, {\"'\": 'PUNCT'}, {']': 'PUNCT'}, {'\"': 'PUNCT'}, {']': 'PUNCT'}, {'[': 'X'}, {'\"': 'PUNCT'}, {'[': 'X'}, {\"'\": 'VERB'}, {'Find': 'VERB'}, {\"'\": 'PUNCT'}, {',': 'PUNCT'}, {'\"': 'PUNCT'}, {',': 'PUNCT'}, {'\"': 'PUNCT'}, {\"'\": 'PUNCT'}, {'the': 'DET'}, {\"'\": 'PUNCT'}, {',': 'PUNCT'}, {'\"': 'PUNCT'}, {',': 'PUNCT'}, {'\"': 'PUNCT'}, {\"'\": 'PUNCT'}, {'average': 'ADJ'}, {\"'\": 'PUNCT'}, {',': 'PUNCT'}, {'\"': 'PUNCT'}, {',': 'PUNCT'}, {'\"': 'PUNCT'}, {\"'\": 'PUNCT'}, {'Sepal': 'NOUN'}, {\"'\": 'PUNCT'}, {',': 'PUNCT'}, {'\"': 'PUNCT'}, {',': 'PUNCT'}, {'\"': 'PUNCT'}, {\"'\": 'PUNCT'}, {'Length': 'PROPN'}, {\"'\": 'PUNCT'}, {',': 'PUNCT'}, {'\"': 'PUNCT'}, {',': 'PUNCT'}, {'\"': 'PUNCT'}, {\"'\": 'PUNCT'}, {'for': 'ADP'}, {\"'\": 'NUM'}, {',': 'PUNCT'}, {'\"': 'PUNCT'}, {',': 'PUNCT'}, {'\"': 'PUNCT'}, {\"'\": 'PUNCT'}, {'each': 'PRON'}, {\"'\": 'PUNCT'}, {',': 'PUNCT'}, {'\"': 'PUNCT'}, {',': 'PUNCT'}, {'\"': 'PUNCT'}, {\"'\": 'PUNCT'}, {'Species': 'NOUN'}, {\"'\": 'PUNCT'}, {',': 'PUNCT'}, {'\"': 'PUNCT'}, {',': 'PUNCT'}, {'\"': 'PUNCT'}, {\"'\": 'PUNCT'}, {',': 'PUNCT'}, {\"'\": 'PUNCT'}, {',': 'PUNCT'}, {'\"': 'PUNCT'}, {',': 'PUNCT'}, {'\"': 'PUNCT'}, {\"'\": 'PUNCT'}, {'sorted': 'VERB'}, {\"'\": 'PUNCT'}, {',': 'PUNCT'}, {'\"': 'PUNCT'}, {',': 'PUNCT'}, {'\"': 'PUNCT'}, {\"'\": 'PUNCT'}, {'alphabetically': 'ADV'}, {\"'\": 'VERB'}, {']': 'X'}, {'\"': 'PUNCT'}, {']': 'PUNCT'}, {'[': 'X'}, {'\"': 'PUNCT'}, {'[': 'X'}, {\"'\": 'X'}, {'Count': 'PROPN'}, {\"'\": 'PUNCT'}, {',': 'PUNCT'}, {'\"': 'PUNCT'}, {',': 'PUNCT'}, {'\"': 'PUNCT'}, {\"'\": 'PUNCT'}, {'how': 'SCONJ'}, {\"'\": 'PROPN'}, {',': 'PUNCT'}, {'\"': 'PUNCT'}, {',': 'PUNCT'}, {'\"': 'PUNCT'}, {\"'\": 'PUNCT'}, {'many': 'ADJ'}, {\"'\": 'PUNCT'}, {',': 'PUNCT'}, {'\"': 'PUNCT'}, {',': 'PUNCT'}, {'\"': 'PUNCT'}, {\"'\": 'PUNCT'}, {'Species': 'NOUN'}, {\"'\": 'PUNCT'}, {',': 'PUNCT'}, {'\"': 'PUNCT'}, {',': 'PUNCT'}, {'\"': 'PUNCT'}, {\"'\": 'PUNCT'}, {'start': 'VERB'}, {\"'\": 'PUNCT'}, {',': 'PUNCT'}, {'\"': 'PUNCT'}, {',': 'PUNCT'}, {'\"': 'PUNCT'}, {\"'\": 'PUNCT'}, {'with': 'ADP'}, {\"'\": 'PROPN'}, {',': 'PUNCT'}, {'\"': 'PUNCT'}, {',': 'PUNCT'}, {\"'\": 'PUNCT'}, {'\"': 'PUNCT'}, {'\\\\': 'PROPN'}, {\"'\": 'PUNCT'}, {'\"': 'PUNCT'}, {',': 'PUNCT'}, {\"'\": 'PUNCT'}, {',': 'PUNCT'}, {'\"': 'PUNCT'}, {\"'\": 'PUNCT'}, {'C': 'NOUN'}, {\"'\": 'NUM'}, {',': 'PUNCT'}, {'\"': 'PUNCT'}, {',': 'PUNCT'}, {\"'\": 'PUNCT'}, {'\"': 'PUNCT'}, {'\\\\': 'PROPN'}, {\"'\": 'PUNCT'}, {'\"': 'PUNCT'}, {']': 'PUNCT'}, {\"'\": 'X'}, {']': 'PUNCT'}, {'[': 'X'}, {'\"': 'PUNCT'}, {'[': 'X'}, {\"'\": 'X'}, {'Entries': 'NOUN'}, {\"'\": 'PUNCT'}, {',': 'PUNCT'}, {'\"': 'PUNCT'}, {',': 'PUNCT'}, {'\"': 'PUNCT'}, {\"'\": 'PUNCT'}, {'with': 'ADP'}, {\"'\": 'PROPN'}, {',': 'PUNCT'}, {'\"': 'PUNCT'}, {',': 'PUNCT'}, {'\"': 'PUNCT'}, {\"'\": 'PUNCT'}, {'Petal': 'ADJ'}, {\"'\": 'PUNCT'}, {',': 'PUNCT'}, {'\"': 'PUNCT'}, {',': 'PUNCT'}, {'\"': 'PUNCT'}, {\"'\": 'PUNCT'}, {'Length': 'PROPN'}, {\"'\": 'PUNCT'}, {',': 'PUNCT'}, {'\"': 'PUNCT'}, {',': 'PUNCT'}, {'\"': 'PUNCT'}, {\"'\": 'PUNCT'}, {'and': 'CCONJ'}, {\"'\": 'NUM'}, {',': 'PUNCT'}, {'\"': 'PUNCT'}, {',': 'PUNCT'}, {'\"': 'PUNCT'}, {\"'\": 'PUNCT'}, {'Sepal': 'NOUN'}, {\"'\": 'PUNCT'}, {',': 'PUNCT'}, {'\"': 'PUNCT'}, {',': 'PUNCT'}, {'\"': 'PUNCT'}, {\"'\": 'PUNCT'}, {'Length': 'PROPN'}, {\"'\": 'PUNCT'}, {',': 'PUNCT'}, {'\"': 'PUNCT'}, {',': 'PUNCT'}, {'\"': 'PUNCT'}, {\"'\": 'PUNCT'}, {'both': 'PRON'}, {\"'\": 'PROPN'}, {',': 'PUNCT'}, {'\"': 'PUNCT'}, {',': 'PUNCT'}, {'\"': 'PUNCT'}, {\"'\": 'PUNCT'}, {'above': 'ADP'}, {\"'\": 'PUNCT'}, {',': 'PUNCT'}, {'\"': 'PUNCT'}, {',': 'PUNCT'}, {'\"': 'PUNCT'}, {\"'\": 'PROPN'}, {'4': 'NUM'}, {\"'\": 'NUM'}, {',': 'PUNCT'}, {'\"': 'PUNCT'}, {',': 'PUNCT'}, {'\"': 'PUNCT'}, {\"'\": 'PUNCT'}, {'.': 'PUNCT'}, {\"'\": 'PUNCT'}, {',': 'PUNCT'}, {'\"': 'PUNCT'}, {',': 'PUNCT'}, {'\"': 'PUNCT'}, {\"'\": 'PUNCT'}, {'0': 'X'}, {\"'\": 'PUNCT'}, {']': 'PUNCT'}, {'\"': 'PUNCT'}, {']': 'PUNCT'}, {'[': 'X'}, {'\"': 'PUNCT'}, {'[': 'X'}, {\"'\": 'PUNCT'}, {'List': 'NOUN'}, {\"'\": 'PUNCT'}, {',': 'PUNCT'}, {'\"': 'PUNCT'}, {',': 'PUNCT'}, {'\"': 'PUNCT'}, {\"'\": 'PUNCT'}, {'Species': 'NOUN'}, {\"'\": 'PUNCT'}, {',': 'PUNCT'}, {'\"': 'PUNCT'}, {',': 'PUNCT'}, {'\"': 'PUNCT'}, {\"'\": 'PUNCT'}, {'with': 'ADP'}, {\"'\": 'PROPN'}, {',': 'PUNCT'}, {'\"': 'PUNCT'}, {',': 'PUNCT'}, {'\"': 'PUNCT'}, {\"'\": 'PUNCT'}, {'Petal': 'ADJ'}, {\"'\": 'PUNCT'}, {',': 'PUNCT'}, {'\"': 'PUNCT'}, {',': 'PUNCT'}, {'\"': 'PUNCT'}, {\"'\": 'PUNCT'}, {'Width': 'PROPN'}, {\"'\": 'PUNCT'}, {',': 'PUNCT'}, {'\"': 'PUNCT'}, {',': 'PUNCT'}, {'\"': 'PUNCT'}, {\"'\": 'PUNCT'}, {'in': 'ADP'}, {\"'\": 'NUM'}, {',': 'PUNCT'}, {'\"': 'PUNCT'}, {',': 'PUNCT'}, {'\"': 'PUNCT'}, {\"'\": 'PUNCT'}, {'the': 'DET'}, {\"'\": 'PUNCT'}, {',': 'PUNCT'}, {'\"': 'PUNCT'}, {',': 'PUNCT'}, {'\"': 'PUNCT'}, {\"'\": 'PUNCT'}, {'top': 'VERB'}, {\"'\": 'PUNCT'}, {',': 'PUNCT'}, {'\"': 'PUNCT'}, {',': 'PUNCT'}, {'\"': 'PUNCT'}, {\"'\": 'PROPN'}, {'10': 'NUM'}, {\"'\": 'NUM'}, {',': 'PUNCT'}, {'\"': 'PUNCT'}, {',': 'PUNCT'}, {'\"': 'PUNCT'}, {\"'\": 'PUNCT'}, {'%': 'INTJ'}, {\"'\": 'PUNCT'}, {']': 'X'}, {'\"': 'PUNCT'}, {']': 'PUNCT'}, {'[': 'X'}, {'\"': 'PUNCT'}, {'[': 'X'}, {\"'\": 'PROPN'}, {'Total': 'ADJ'}, {\"'\": 'PUNCT'}, {',': 'PUNCT'}, {'\"': 'PUNCT'}, {',': 'PUNCT'}, {'\"': 'PUNCT'}, {\"'\": 'PUNCT'}, {'Sepal': 'NOUN'}, {\"'\": 'PUNCT'}, {',': 'PUNCT'}, {'\"': 'PUNCT'}, {',': 'PUNCT'}, {'\"': 'PUNCT'}, {\"'\": 'PUNCT'}, {'Length': 'PROPN'}, {\"'\": 'PUNCT'}, {',': 'PUNCT'}, {'\"': 'PUNCT'}, {',': 'PUNCT'}, {'\"': 'PUNCT'}, {\"'\": 'PUNCT'}, {'for': 'ADP'}, {\"'\": 'NUM'}, {',': 'PUNCT'}, {'\"': 'PUNCT'}, {',': 'PUNCT'}, {'\"': 'PUNCT'}, {\"'\": 'PUNCT'}, {'all': 'PRON'}, {\"'\": 'PROPN'}, {',': 'PUNCT'}, {'\"': 'PUNCT'}, {',': 'PUNCT'}, {'\"': 'PUNCT'}, {\"'\": 'PUNCT'}, {'Iris': 'PROPN'}, {\"'\": 'NUM'}, {',': 'PUNCT'}, {'\"': 'PUNCT'}, {',': 'PUNCT'}, {'\"': 'PUNCT'}, {\"'\": 'PUNCT'}, {'flowers': 'NOUN'}, {\"'\": 'VERB'}, {']': 'PUNCT'}, {'\"': 'PUNCT'}, {']': 'PUNCT'}, {'[': 'X'}, {'\"': 'PUNCT'}, {'[': 'X'}, {\"'\": 'PUNCT'}, {'Average': 'ADJ'}, {\"'\": 'PUNCT'}, {',': 'PUNCT'}, {'\"': 'PUNCT'}, {',': 'PUNCT'}, {'\"': 'PUNCT'}, {\"'\": 'PUNCT'}, {'Petal': 'ADJ'}, {\"'\": 'PUNCT'}, {',': 'PUNCT'}, {'\"': 'PUNCT'}, {',': 'PUNCT'}, {'\"': 'PUNCT'}, {\"'\": 'PUNCT'}, {'Width': 'PROPN'}, {\"'\": 'PUNCT'}, {',': 'PUNCT'}, {'\"': 'PUNCT'}, {',': 'PUNCT'}, {'\"': 'PUNCT'}, {\"'\": 'PUNCT'}, {'across': 'ADP'}, {\"'\": 'PUNCT'}, {',': 'PUNCT'}, {'\"': 'PUNCT'}, {',': 'PUNCT'}, {'\"': 'PUNCT'}, {\"'\": 'PUNCT'}, {'all': 'PRON'}, {\"'\": 'PROPN'}, {',': 'PUNCT'}, {'\"': 'PUNCT'}, {',': 'PUNCT'}, {'\"': 'PUNCT'}, {\"'\": 'PUNCT'}, {'species': 'NOUN'}, {\"'\": 'PUNCT'}, {']': 'PUNCT'}, {'\"': 'PUNCT'}, {']': 'PUNCT'}, {'[': 'X'}, {'\"': 'PUNCT'}, {'[': 'X'}, {\"'\": 'PUNCT'}, {'Median': 'PROPN'}, {\"'\": 'PROPN'}, {',': 'PUNCT'}, {'\"': 'PUNCT'}, {',': 'PUNCT'}, {'\"': 'PUNCT'}, {\"'\": 'PUNCT'}, {'Sepal': 'NOUN'}, {\"'\": 'PUNCT'}, {',': 'PUNCT'}, {'\"': 'PUNCT'}, {',': 'PUNCT'}, {'\"': 'PUNCT'}, {\"'\": 'PUNCT'}, {'Width': 'PROPN'}, {\"'\": 'PUNCT'}, {',': 'PUNCT'}, {'\"': 'PUNCT'}, {',': 'PUNCT'}, {'\"': 'PUNCT'}, {\"'\": 'PUNCT'}, {'for': 'ADP'}, {\"'\": 'NUM'}, {',': 'PUNCT'}, {'\"': 'PUNCT'}, {',': 'PUNCT'}, {'\"': 'PUNCT'}, {\"'\": 'PUNCT'}, {'Iris': 'PROPN'}, {\"'\": 'NUM'}, {',': 'PUNCT'}, {'\"': 'PUNCT'}, {',': 'PUNCT'}, {'\"': 'PUNCT'}, {\"'\": 'PUNCT'}, {'setosa': 'VERB'}, {\"'\": 'PUNCT'}, {']': 'PUNCT'}, {'\"': 'PUNCT'}, {']': 'PUNCT'}, {'[': 'X'}, {'\"': 'PUNCT'}, {'[': 'X'}, {\"'\": 'X'}, {'Count': 'PROPN'}, {\"'\": 'PUNCT'}, {',': 'PUNCT'}, {'\"': 'PUNCT'}, {',': 'PUNCT'}, {'\"': 'PUNCT'}, {\"'\": 'PUNCT'}, {'of': 'ADP'}, {\"'\": 'NUM'}, {',': 'PUNCT'}, {'\"': 'PUNCT'}, {',': 'PUNCT'}, {'\"': 'PUNCT'}, {\"'\": 'PUNCT'}, {'Iris': 'PROPN'}, {\"'\": 'NUM'}, {',': 'PUNCT'}, {'\"': 'PUNCT'}, {',': 'PUNCT'}, {'\"': 'PUNCT'}, {\"'\": 'PUNCT'}, {'versicolor': 'NOUN'}, {\"'\": 'PUNCT'}, {',': 'PUNCT'}, {'\"': 'PUNCT'}, {',': 'PUNCT'}, {'\"': 'PUNCT'}, {\"'\": 'PUNCT'}, {'flowers': 'NOUN'}, {\"'\": 'VERB'}, {']': 'PUNCT'}, {'\"': 'PUNCT'}, {']': 'PUNCT'}, {'[': 'X'}, {'\"': 'PUNCT'}, {'[': 'X'}, {\"'\": 'X'}, {'Distinct': 'ADJ'}, {\"'\": 'PUNCT'}, {',': 'PUNCT'}, {'\"': 'PUNCT'}, {',': 'PUNCT'}, {'\"': 'PUNCT'}, {\"'\": 'PUNCT'}, {'count': 'VERB'}, {\"'\": 'PUNCT'}, {',': 'PUNCT'}, {'\"': 'PUNCT'}, {',': 'PUNCT'}, {'\"': 'PUNCT'}, {\"'\": 'PUNCT'}, {'of': 'ADP'}, {\"'\": 'NUM'}, {',': 'PUNCT'}, {'\"': 'PUNCT'}, {',': 'PUNCT'}, {'\"': 'PUNCT'}, {\"'\": 'PUNCT'}, {'species': 'NOUN'}, {\"'\": 'PUNCT'}, {',': 'PUNCT'}, {'\"': 'PUNCT'}, {',': 'PUNCT'}, {'\"': 'PUNCT'}, {\"'\": 'PUNCT'}, {'with': 'ADP'}, {\"'\": 'PROPN'}, {',': 'PUNCT'}, {'\"': 'PUNCT'}, {',': 'PUNCT'}, {'\"': 'PUNCT'}, {\"'\": 'PUNCT'}, {'Sepal': 'NOUN'}, {\"'\": 'PUNCT'}, {',': 'PUNCT'}, {'\"': 'PUNCT'}, {',': 'PUNCT'}, {'\"': 'PUNCT'}, {\"'\": 'PUNCT'}, {'Length': 'PROPN'}, {\"'\": 'PUNCT'}, {',': 'PUNCT'}, {'\"': 'PUNCT'}, {',': 'PUNCT'}, {'\"': 'PUNCT'}, {\"'\": 'PUNCT'}, {'over': 'ADP'}, {\"'\": 'PUNCT'}, {',': 'PUNCT'}, {'\"': 'PUNCT'}, {',': 'PUNCT'}, {'\"': 'PUNCT'}, {\"'\": 'PROPN'}, {'5': 'NUM'}, {\"'\": 'NUM'}, {',': 'PUNCT'}, {'\"': 'PUNCT'}, {',': 'PUNCT'}, {'\"': 'PUNCT'}, {\"'\": 'PUNCT'}, {'.': 'PUNCT'}, {\"'\": 'PUNCT'}, {',': 'PUNCT'}, {'\"': 'PUNCT'}, {',': 'PUNCT'}, {'\"': 'PUNCT'}, {\"'\": 'PUNCT'}, {'0': 'X'}, {\"'\": 'PUNCT'}, {']': 'PUNCT'}, {'\"': 'PUNCT'}, {']': 'PUNCT'}, {'[': 'X'}, {'\"': 'PUNCT'}, {'[': 'X'}, {\"'\": 'PUNCT'}, {'Minimum': 'ADJ'}, {\"'\": 'PUNCT'}, {',': 'PUNCT'}, {'\"': 'PUNCT'}, {',': 'PUNCT'}, {'\"': 'PUNCT'}, {\"'\": 'PUNCT'}, {'Petal': 'ADJ'}, {\"'\": 'PUNCT'}, {',': 'PUNCT'}, {'\"': 'PUNCT'}, {',': 'PUNCT'}, {'\"': 'PUNCT'}, {\"'\": 'PUNCT'}, {'Length': 'PROPN'}, {\"'\": 'PUNCT'}, {',': 'PUNCT'}, {'\"': 'PUNCT'}, {',': 'PUNCT'}, {'\"': 'PUNCT'}, {\"'\": 'PUNCT'}, {'for': 'ADP'}, {\"'\": 'NUM'}, {',': 'PUNCT'}, {'\"': 'PUNCT'}, {',': 'PUNCT'}, {'\"': 'PUNCT'}, {\"'\": 'PUNCT'}, {'Iris': 'PROPN'}, {\"'\": 'NUM'}, {',': 'PUNCT'}, {'\"': 'PUNCT'}, {',': 'PUNCT'}, {'\"': 'PUNCT'}, {\"'\": 'PUNCT'}, {'virginica': 'X'}, {\"'\": 'PUNCT'}, {']': 'PUNCT'}, {'\"': 'PUNCT'}, {']': 'PUNCT'}, {'[': 'X'}, {'\"': 'PUNCT'}, {'[': 'X'}, {\"'\": 'PUNCT'}, {'Maximum': 'ADJ'}, {\"'\": 'NUM'}, {',': 'PUNCT'}, {'\"': 'PUNCT'}, {',': 'PUNCT'}, {'\"': 'PUNCT'}, {\"'\": 'PUNCT'}, {'Sepal': 'NOUN'}, {\"'\": 'PUNCT'}, {',': 'PUNCT'}, {'\"': 'PUNCT'}, {',': 'PUNCT'}, {'\"': 'PUNCT'}, {\"'\": 'PUNCT'}, {'Width': 'PROPN'}, {\"'\": 'PUNCT'}, {',': 'PUNCT'}, {'\"': 'PUNCT'}, {',': 'PUNCT'}, {'\"': 'PUNCT'}, {\"'\": 'PUNCT'}, {'across': 'ADP'}, {\"'\": 'PUNCT'}, {',': 'PUNCT'}, {'\"': 'PUNCT'}, {',': 'PUNCT'}, {'\"': 'PUNCT'}, {\"'\": 'PUNCT'}, {'Iris': 'PROPN'}, {\"'\": 'NUM'}, {',': 'PUNCT'}, {'\"': 'PUNCT'}, {',': 'PUNCT'}, {'\"': 'PUNCT'}, {\"'\": 'PUNCT'}, {'setosa': 'VERB'}, {\"'\": 'PUNCT'}, {']': 'PUNCT'}, {'\"': 'PUNCT'}, {']': 'PUNCT'}, {'[': 'X'}, {'\"': 'PUNCT'}, {'[': 'X'}, {\"'\": 'PROPN'}, {'Total': 'ADJ'}, {\"'\": 'PUNCT'}, {',': 'PUNCT'}, {'\"': 'PUNCT'}, {',': 'PUNCT'}, {'\"': 'PUNCT'}, {\"'\": 'PUNCT'}, {'number': 'NOUN'}, {\"'\": 'PUNCT'}, {',': 'PUNCT'}, {'\"': 'PUNCT'}, {',': 'PUNCT'}, {'\"': 'PUNCT'}, {\"'\": 'PUNCT'}, {'of': 'ADP'}, {\"'\": 'NUM'}, {',': 'PUNCT'}, {'\"': 'PUNCT'}, {',': 'PUNCT'}, {'\"': 'PUNCT'}, {\"'\": 'PUNCT'}, {'records': 'NOUN'}, {\"'\": 'PART'}, {',': 'PUNCT'}, {'\"': 'PUNCT'}, {',': 'PUNCT'}, {'\"': 'PUNCT'}, {\"'\": 'PUNCT'}, {'grouped': 'VERB'}, {\"'\": 'PUNCT'}, {',': 'PUNCT'}, {'\"': 'PUNCT'}, {',': 'PUNCT'}, {'\"': 'PUNCT'}, {\"'\": 'PUNCT'}, {'by': 'ADP'}, {\"'\": 'NUM'}, {',': 'PUNCT'}, {'\"': 'PUNCT'}, {',': 'PUNCT'}, {'\"': 'PUNCT'}, {\"'\": 'PUNCT'}, {'Species': 'PROPN'}, {\"'\": 'PUNCT'}, {']': 'PUNCT'}, {'\"': 'PUNCT'}, {']': 'PUNCT'}, {'[': 'X'}, {'\"': 'PUNCT'}, {'[': 'X'}, {\"'\": 'X'}, {'Filter': 'PROPN'}, {\"'\": 'NUM'}, {',': 'PUNCT'}, {'\"': 'PUNCT'}, {',': 'PUNCT'}, {'\"': 'PUNCT'}, {\"'\": 'PUNCT'}, {'to': 'PART'}, {\"'\": 'NUM'}, {',': 'PUNCT'}, {'\"': 'PUNCT'}, {',': 'PUNCT'}, {'\"': 'PUNCT'}, {\"'\": 'PUNCT'}, {'show': 'VERB'}, {\"'\": 'PUNCT'}, {',': 'PUNCT'}, {'\"': 'PUNCT'}, {',': 'PUNCT'}, {'\"': 'PUNCT'}, {\"'\": 'PUNCT'}, {'only': 'ADV'}, {\"'\": 'NUM'}, {',': 'PUNCT'}, {'\"': 'PUNCT'}, {',': 'PUNCT'}, {'\"': 'PUNCT'}, {\"'\": 'PUNCT'}, {'Iris': 'PROPN'}, {\"'\": 'NUM'}, {',': 'PUNCT'}, {'\"': 'PUNCT'}, {',': 'PUNCT'}, {'\"': 'PUNCT'}, {\"'\": 'PUNCT'}, {'versicolor': 'NOUN'}, {\"'\": 'PUNCT'}, {',': 'PUNCT'}, {'\"': 'PUNCT'}, {',': 'PUNCT'}, {'\"': 'PUNCT'}, {\"'\": 'PUNCT'}, {'with': 'ADP'}, {\"'\": 'PROPN'}, {',': 'PUNCT'}, {'\"': 'PUNCT'}, {',': 'PUNCT'}, {'\"': 'PUNCT'}, {\"'\": 'PUNCT'}, {'Sepal': 'NOUN'}, {\"'\": 'PUNCT'}, {',': 'PUNCT'}, {'\"': 'PUNCT'}, {',': 'PUNCT'}, {'\"': 'PUNCT'}, {\"'\": 'PUNCT'}, {'Width': 'PROPN'}, {\"'\": 'PUNCT'}, {',': 'PUNCT'}, {'\"': 'PUNCT'}, {',': 'PUNCT'}, {'\"': 'PUNCT'}, {\"'\": 'PUNCT'}, {'at': 'ADP'}, {\"'\": 'NUM'}, {',': 'PUNCT'}, {'\"': 'PUNCT'}, {',': 'PUNCT'}, {'\"': 'PUNCT'}, {\"'\": 'PUNCT'}, {'least': 'ADJ'}, {\"'\": 'PUNCT'}, {',': 'PUNCT'}, {'\"': 'PUNCT'}, {',': 'PUNCT'}, {'\"': 'PUNCT'}, {\"'\": 'PROPN'}, {'3': 'NUM'}, {\"'\": 'NUM'}, {',': 'PUNCT'}, {'\"': 'PUNCT'}, {',': 'PUNCT'}, {'\"': 'PUNCT'}, {\"'\": 'PUNCT'}, {'.': 'PUNCT'}, {\"'\": 'PUNCT'}, {',': 'PUNCT'}, {'\"': 'PUNCT'}, {',': 'PUNCT'}, {'\"': 'PUNCT'}, {\"'\": 'PUNCT'}, {'0': 'X'}, {\"'\": 'PUNCT'}, {']': 'PUNCT'}, {'\"': 'PUNCT'}, {']': 'PUNCT'}, {'[': 'X'}, {'\"': 'PUNCT'}, {'[': 'X'}, {\"'\": 'PUNCT'}, {'Show': 'VERB'}, {\"'\": 'PUNCT'}, {',': 'PUNCT'}, {'\"': 'PUNCT'}, {',': 'PUNCT'}, {'\"': 'PUNCT'}, {\"'\": 'PUNCT'}, {'top': 'VERB'}, {\"'\": 'PUNCT'}, {',': 'PUNCT'}, {'\"': 'PUNCT'}, {',': 'PUNCT'}, {'\"': 'PUNCT'}, {\"'\": 'PROPN'}, {'5': 'NUM'}, {\"'\": 'NUM'}, {',': 'PUNCT'}, {'\"': 'PUNCT'}, {',': 'PUNCT'}, {'\"': 'PUNCT'}, {\"'\": 'PUNCT'}, {'Sepal': 'NOUN'}, {\"'\": 'PUNCT'}, {',': 'PUNCT'}, {'\"': 'PUNCT'}, {',': 'PUNCT'}, {'\"': 'PUNCT'}, {\"'\": 'PUNCT'}, {'Lengths': 'NOUN'}, {\"'\": 'NUM'}, {',': 'PUNCT'}, {'\"': 'PUNCT'}, {',': 'PUNCT'}, {'\"': 'PUNCT'}, {\"'\": 'PUNCT'}, {'within': 'ADP'}, {\"'\": 'PUNCT'}, {',': 'PUNCT'}, {'\"': 'PUNCT'}, {',': 'PUNCT'}, {'\"': 'PUNCT'}, {\"'\": 'PUNCT'}, {'Iris': 'PROPN'}, {\"'\": 'NUM'}, {',': 'PUNCT'}, {'\"': 'PUNCT'}, {',': 'PUNCT'}, {'\"': 'PUNCT'}, {\"'\": 'PUNCT'}, {'virginica': 'X'}, {\"'\": 'PUNCT'}, {',': 'PUNCT'}, {'\"': 'PUNCT'}, {',': 'PUNCT'}, {'\"': 'PUNCT'}, {\"'\": 'PUNCT'}, {'only': 'ADV'}, {\"'\": 'PUNCT'}, {']': 'X'}, {'\"': 'PUNCT'}, {']': 'PUNCT'}, {'[': 'X'}, {'\"': 'PUNCT'}, {'[': 'X'}, {\"'\": 'X'}, {'Iris': 'PROPN'}, {\"'\": 'PROPN'}, {',': 'PUNCT'}, {'\"': 'PUNCT'}, {',': 'PUNCT'}, {'\"': 'PUNCT'}, {\"'\": 'PUNCT'}, {'flowers': 'NOUN'}, {\"'\": 'PART'}, {',': 'PUNCT'}, {'\"': 'PUNCT'}, {',': 'PUNCT'}, {'\"': 'PUNCT'}, {\"'\": 'PUNCT'}, {'with': 'ADP'}, {\"'\": 'PROPN'}, {',': 'PUNCT'}, {'\"': 'PUNCT'}, {',': 'PUNCT'}, {'\"': 'PUNCT'}, {\"'\": 'PUNCT'}, {'Petal': 'ADJ'}, {\"'\": 'PUNCT'}, {',': 'PUNCT'}, {'\"': 'PUNCT'}, {',': 'PUNCT'}, {'\"': 'PUNCT'}, {\"'\": 'PUNCT'}, {'Width': 'PROPN'}, {\"'\": 'PUNCT'}, {',': 'PUNCT'}, {'\"': 'PUNCT'}, {',': 'PUNCT'}, {'\"': 'PUNCT'}, {\"'\": 'PUNCT'}, {'in': 'ADP'}, {\"'\": 'NUM'}, {',': 'PUNCT'}, {'\"': 'PUNCT'}, {',': 'PUNCT'}, {'\"': 'PUNCT'}, {\"'\": 'PUNCT'}, {'the': 'PRON'}, {\"'\": 'PUNCT'}, {',': 'PUNCT'}, {'\"': 'PUNCT'}, {',': 'PUNCT'}, {'\"': 'PUNCT'}, {\"'\": 'PUNCT'}, {'bottom': 'ADJ'}, {\"'\": 'PUNCT'}, {',': 'PUNCT'}, {'\"': 'PUNCT'}, {',': 'PUNCT'}, {'\"': 'PUNCT'}, {\"'\": 'PUNCT'}, {'10th': 'X'}, {\"'\": 'PUNCT'}, {',': 'PUNCT'}, {'\"': 'PUNCT'}, {',': 'PUNCT'}, {'\"': 'PUNCT'}, {\"'\": 'PUNCT'}, {'percentile': 'VERB'}, {\"'\": 'PUNCT'}, {']': 'PUNCT'}, {'\"': 'PUNCT'}, {']': 'PUNCT'}, {'[': 'X'}, {'\"': 'PUNCT'}, {'[': 'X'}, {\"'\": 'PUNCT'}, {'Average': 'ADJ'}, {\"'\": 'PUNCT'}, {',': 'PUNCT'}, {'\"': 'PUNCT'}, {',': 'PUNCT'}, {'\"': 'PUNCT'}, {\"'\": 'PUNCT'}, {'Sepal': 'NOUN'}, {\"'\": 'PUNCT'}, {',': 'PUNCT'}, {'\"': 'PUNCT'}, {',': 'PUNCT'}, {'\"': 'PUNCT'}, {\"'\": 'PUNCT'}, {'Length': 'PROPN'}, {\"'\": 'PUNCT'}, {',': 'PUNCT'}, {'\"': 'PUNCT'}, {',': 'PUNCT'}, {'\"': 'PUNCT'}, {\"'\": 'PUNCT'}, {'for': 'ADP'}, {\"'\": 'NUM'}, {',': 'PUNCT'}, {'\"': 'PUNCT'}, {',': 'PUNCT'}, {'\"': 'PUNCT'}, {\"'\": 'PUNCT'}, {'each': 'PRON'}, {\"'\": 'PUNCT'}, {',': 'PUNCT'}, {'\"': 'PUNCT'}, {',': 'PUNCT'}, {'\"': 'PUNCT'}, {\"'\": 'PUNCT'}, {'species': 'NOUN'}, {\"'\": 'PUNCT'}, {']': 'PUNCT'}, {'\"': 'PUNCT'}, {']': 'PUNCT'}, {'[': 'X'}, {'\"': 'PUNCT'}, {'[': 'X'}, {\"'\": 'X'}, {'Entries': 'NOUN'}, {\"'\": 'PUNCT'}, {',': 'PUNCT'}, {'\"': 'PUNCT'}, {',': 'PUNCT'}, {'\"': 'PUNCT'}, {\"'\": 'PUNCT'}, {'with': 'ADP'}, {\"'\": 'PROPN'}, {',': 'PUNCT'}, {'\"': 'PUNCT'}, {',': 'PUNCT'}, {'\"': 'PUNCT'}, {\"'\": 'PUNCT'}, {'Petal': 'ADJ'}, {\"'\": 'PUNCT'}, {',': 'PUNCT'}, {'\"': 'PUNCT'}, {',': 'PUNCT'}, {'\"': 'PUNCT'}, {\"'\": 'PUNCT'}, {'Length': 'PROPN'}, {\"'\": 'PUNCT'}, {',': 'PUNCT'}, {'\"': 'PUNCT'}, {',': 'PUNCT'}, {'\"': 'PUNCT'}, {\"'\": 'PUNCT'}, {'between': 'ADP'}, {\"'\": 'PUNCT'}, {',': 'PUNCT'}, {'\"': 'PUNCT'}, {',': 'PUNCT'}, {'\"': 'PUNCT'}, {\"'\": 'PROPN'}, {'4': 'NUM'}, {\"'\": 'NUM'}, {',': 'PUNCT'}, {'\"': 'PUNCT'}, {',': 'PUNCT'}, {'\"': 'PUNCT'}, {\"'\": 'PUNCT'}, {'.': 'PUNCT'}, {\"'\": 'PUNCT'}, {',': 'PUNCT'}, {'\"': 'PUNCT'}, {',': 'PUNCT'}, {'\"': 'PUNCT'}, {\"'\": 'PUNCT'}, {'0': 'X'}, {\"'\": 'PUNCT'}, {',': 'PUNCT'}, {'\"': 'PUNCT'}, {',': 'PUNCT'}, {'\"': 'PUNCT'}, {\"'\": 'PUNCT'}, {'and': 'CCONJ'}, {\"'\": 'NUM'}, {',': 'PUNCT'}, {'\"': 'PUNCT'}, {',': 'PUNCT'}, {'\"': 'PUNCT'}, {\"'\": 'PROPN'}, {'5': 'NUM'}, {\"'\": 'NUM'}, {',': 'PUNCT'}, {'\"': 'PUNCT'}, {',': 'PUNCT'}, {'\"': 'PUNCT'}, {\"'\": 'PUNCT'}, {'.': 'PUNCT'}, {\"'\": 'PUNCT'}, {',': 'PUNCT'}, {'\"': 'PUNCT'}, {',': 'PUNCT'}, {'\"': 'PUNCT'}, {\"'\": 'PUNCT'}, {'0': 'X'}, {\"'\": 'PUNCT'}, {',': 'PUNCT'}, {'\"': 'PUNCT'}, {',': 'PUNCT'}, {'\"': 'PUNCT'}, {\"'\": 'PUNCT'}, {'for': 'ADP'}, {\"'\": 'NUM'}, {',': 'PUNCT'}, {'\"': 'PUNCT'}, {',': 'PUNCT'}, {'\"': 'PUNCT'}, {\"'\": 'PUNCT'}, {'Iris': 'PROPN'}, {\"'\": 'NUM'}, {',': 'PUNCT'}, {'\"': 'PUNCT'}, {',': 'PUNCT'}, {'\"': 'PUNCT'}, {\"'\": 'PUNCT'}, {'setosa': 'VERB'}, {\"'\": 'PUNCT'}, {']': 'PUNCT'}, {'\"': 'PUNCT'}, {']': 'PUNCT'}, {'[': 'X'}, {'\"': 'PUNCT'}, {'[': 'X'}, {\"'\": 'X'}, {'Count': 'PROPN'}, {\"'\": 'PUNCT'}, {',': 'PUNCT'}, {'\"': 'PUNCT'}, {',': 'PUNCT'}, {'\"': 'PUNCT'}, {\"'\": 'PUNCT'}, {'Iris': 'PROPN'}, {\"'\": 'NUM'}, {',': 'PUNCT'}, {'\"': 'PUNCT'}, {',': 'PUNCT'}, {'\"': 'PUNCT'}, {\"'\": 'PUNCT'}, {'flowers': 'NOUN'}, {\"'\": 'PART'}, {',': 'PUNCT'}, {'\"': 'PUNCT'}, {',': 'PUNCT'}, {'\"': 'PUNCT'}, {\"'\": 'PUNCT'}, {'where': 'SCONJ'}, {\"'\": 'NUM'}, {',': 'PUNCT'}, {'\"': 'PUNCT'}, {',': 'PUNCT'}, {'\"': 'PUNCT'}, {\"'\": 'PUNCT'}, {'the': 'DET'}, {\"'\": 'PUNCT'}, {',': 'PUNCT'}, {'\"': 'PUNCT'}, {',': 'PUNCT'}, {'\"': 'PUNCT'}, {\"'\": 'PUNCT'}, {'Species': 'NOUN'}, {\"'\": 'PUNCT'}, {',': 'PUNCT'}, {'\"': 'PUNCT'}, {',': 'PUNCT'}, {'\"': 'PUNCT'}, {\"'\": 'PUNCT'}, {'name': 'NOUN'}, {\"'\": 'PUNCT'}, {',': 'PUNCT'}, {'\"': 'PUNCT'}, {',': 'PUNCT'}, {'\"': 'PUNCT'}, {\"'\": 'PUNCT'}, {'contains': 'VERB'}, {\"'\": 'PUNCT'}, {',': 'PUNCT'}, {'\"': 'PUNCT'}, {',': 'PUNCT'}, {\"'\": 'PUNCT'}, {'\"': 'PUNCT'}, {'\\\\': 'PROPN'}, {\"'\": 'PUNCT'}, {'\"': 'PUNCT'}, {',': 'PUNCT'}, {\"'\": 'PUNCT'}, {',': 'PUNCT'}, {'\"': 'PUNCT'}, {\"'\": 'PUNCT'}, {'color': 'NOUN'}, {\"'\": 'PUNCT'}, {',': 'PUNCT'}, {'\"': 'PUNCT'}, {',': 'PUNCT'}, {\"'\": 'PUNCT'}, {'\"': 'PUNCT'}, {'\\\\': 'PROPN'}, {\"'\": 'PUNCT'}, {'\"': 'PUNCT'}, {']': 'PUNCT'}, {\"'\": 'X'}, {']': 'PUNCT'}, {'[': 'X'}, {'\"': 'PUNCT'}, {'[': 'X'}, {\"'\": 'PUNCT'}, {'List': 'NOUN'}, {\"'\": 'PUNCT'}, {',': 'PUNCT'}, {'\"': 'PUNCT'}, {',': 'PUNCT'}, {'\"': 'PUNCT'}, {\"'\": 'PUNCT'}, {'all': 'PRON'}, {\"'\": 'PROPN'}, {',': 'PUNCT'}, {'\"': 'PUNCT'}, {',': 'PUNCT'}, {'\"': 'PUNCT'}, {\"'\": 'PUNCT'}, {'Iris': 'PROPN'}, {\"'\": 'NUM'}, {',': 'PUNCT'}, {'\"': 'PUNCT'}, {',': 'PUNCT'}, {'\"': 'PUNCT'}, {\"'\": 'PUNCT'}, {'flowers': 'NOUN'}, {\"'\": 'PART'}, {',': 'PUNCT'}, {'\"': 'PUNCT'}, {',': 'PUNCT'}, {'\"': 'PUNCT'}, {\"'\": 'PUNCT'}, {'where': 'SCONJ'}, {\"'\": 'NUM'}, {',': 'PUNCT'}, {'\"': 'PUNCT'}, {',': 'PUNCT'}, {'\"': 'PUNCT'}, {\"'\": 'PUNCT'}, {'the': 'DET'}, {\"'\": 'PUNCT'}, {',': 'PUNCT'}, {'\"': 'PUNCT'}, {',': 'PUNCT'}, {'\"': 'PUNCT'}, {\"'\": 'PUNCT'}, {'Species': 'NOUN'}, {\"'\": 'PUNCT'}, {',': 'PUNCT'}, {'\"': 'PUNCT'}, {',': 'PUNCT'}, {'\"': 'PUNCT'}, {\"'\": 'PUNCT'}, {'name': 'NOUN'}, {\"'\": 'PUNCT'}, {',': 'PUNCT'}, {'\"': 'PUNCT'}, {',': 'PUNCT'}, {'\"': 'PUNCT'}, {\"'\": 'PUNCT'}, {'starts': 'VERB'}, {\"'\": 'PUNCT'}, {',': 'PUNCT'}, {'\"': 'PUNCT'}, {',': 'PUNCT'}, {'\"': 'PUNCT'}, {\"'\": 'PUNCT'}, {'with': 'ADP'}, {\"'\": 'PROPN'}, {',': 'PUNCT'}, {'\"': 'PUNCT'}, {',': 'PUNCT'}, {\"'\": 'PUNCT'}, {'\"': 'PUNCT'}, {'\\\\': 'PROPN'}, {\"'\": 'PUNCT'}, {'\"': 'PUNCT'}, {',': 'PUNCT'}, {\"'\": 'PUNCT'}, {',': 'PUNCT'}, {'\"': 'PUNCT'}, {\"'\": 'PUNCT'}, {'Iri': 'PROPN'}, {\"'\": 'PROPN'}, {',': 'PUNCT'}, {'\"': 'PUNCT'}, {',': 'PUNCT'}, {\"'\": 'PUNCT'}, {'\"': 'PUNCT'}, {'\\\\': 'PROPN'}, {\"'\": 'PUNCT'}, {'\"': 'PUNCT'}, {',': 'PUNCT'}, {\"'\": 'PUNCT'}, {',': 'PUNCT'}, {'\"': 'PUNCT'}, {\"'\": 'PUNCT'}, {'and': 'CCONJ'}, {\"'\": 'NUM'}, {',': 'PUNCT'}, {'\"': 'PUNCT'}, {',': 'PUNCT'}, {'\"': 'PUNCT'}, {\"'\": 'PUNCT'}, {'ends': 'VERB'}, {\"'\": 'PUNCT'}, {',': 'PUNCT'}, {'\"': 'PUNCT'}, {',': 'PUNCT'}, {'\"': 'PUNCT'}, {\"'\": 'PUNCT'}, {'with': 'ADP'}, {\"'\": 'PROPN'}, {',': 'PUNCT'}, {'\"': 'PUNCT'}, {',': 'PUNCT'}, {\"'\": 'PUNCT'}, {'\"': 'PUNCT'}, {'\\\\': 'PROPN'}, {\"'\": 'PUNCT'}, {'\"': 'PUNCT'}, {',': 'PUNCT'}, {\"'\": 'PUNCT'}, {',': 'PUNCT'}, {'\"': 'PUNCT'}, {\"'\": 'PUNCT'}, {'a': 'DET'}, {\"'\": 'PUNCT'}, {',': 'PUNCT'}, {'\"': 'PUNCT'}, {',': 'PUNCT'}, {\"'\": 'PUNCT'}, {'\"': 'PUNCT'}, {'\\\\': 'PROPN'}, {\"'\": 'PUNCT'}, {'\"': 'PUNCT'}, {']': 'PUNCT'}, {\"'\": 'X'}, {']': 'PUNCT'}]\n",
            "Tokenized Description : ['ADV', 'INTJ', 'PART', 'PRON', 'ADP', 'SCONJ', 'VERB', 'PUNCT', 'NOUN', 'AUX', 'CCONJ', 'NUM', 'DET', 'X', 'PROPN', 'ADJ']\n"
          ]
        }
      ]
    },
    {
      "cell_type": "code",
      "source": [
        "for pat in p_d:\n",
        "   print({pat:p_d[pat]})"
      ],
      "metadata": {
        "colab": {
          "base_uri": "https://localhost:8080/"
        },
        "id": "GkL8Eyale0hW",
        "outputId": "e4cf4278-4ff0-4012-cf62-ac773ced71d0"
      },
      "execution_count": 34,
      "outputs": [
        {
          "output_type": "stream",
          "name": "stdout",
          "text": [
            "{'ADV': ['exactly', 'alphabetically', 'only', 'Sort']}\n",
            "{'INTJ': ['%']}\n",
            "{'PART': ['not', \"'\", 'to']}\n",
            "{'PRON': ['all', 'each', 'both', 'this', 'the', 'a', 'What', 'there']}\n",
            "{'ADP': ['for', 'within', 'over', 'than', 'with', 'across', 'by', 'at', 'in', 'of', 'between', 'above', 'from']}\n",
            "{'SCONJ': ['How', 'where', 'how']}\n",
            "{'VERB': ['percentile', 'recorded', \"'\", 'sorted', 'found', 'show', 'Show', 'ascending', 'dataset', 'Date', 'assuming', 'Setosa', 'ends', 'start', 'descending', 'starts', 'Find', 'ica', 'setosa', 'Aggregate', 'Calculate', 'top', 'starting', 'contains', 'count', 'grouped', 'Organize']}\n",
            "{'PUNCT': [',', ']', \"'\", '\"', '(', '.', ')', '?']}\n",
            "{'NOUN': ['value', 'Lengths', 'color', 'Determine', 'records', 'month', 'List', 'year', 'C', 'flowers', 'name', 'observation', 'Entries', 'Number', 'flower', 'points', 'types', 'versicolor', 'Species', 'field', 'data', 'entries', 'Sepal', 'Display', 'species', 'occurrences', 'number', 'Widths', 'order']}\n",
            "{'AUX': ['is', \"'s\", 'are']}\n",
            "{'CCONJ': ['and', 'or']}\n",
            "{'NUM': [\"'\", '3', '5', '4', '10']}\n",
            "{'DET': ['the', 'a']}\n",
            "{'X': ['2', '1', 'median', ']', \"'\", 'Length', '0', '10th', 'virginica', '[']}\n",
            "{'PROPN': ['Median', 'Species', 'Sum', 'Count', 'Filter', 'January', \"'\", 'Length', 'Iris', 'Width', 'Rank', 'Group', '\\\\', 'Iri', 'Se']}\n",
            "{'ADJ': ['Highest', 'equal', 'unique', 'Total', 'high', 'Lowest', 'smallest', 'Distinct', 'Minimum', 'least', 'bottom', 'Top', 'last', 'Maximum', 'greater', 'average', 'low', 'Average', 'Petal', 'highest', 'total', 'distinct', 'Select', 'many', 'less', 'middle']}\n"
          ]
        }
      ]
    },
    {
      "cell_type": "code",
      "source": [],
      "metadata": {
        "id": "juHioVPDgONj"
      },
      "execution_count": null,
      "outputs": []
    },
    {
      "cell_type": "markdown",
      "source": [
        "# Formulas (Tableau) Patterns"
      ],
      "metadata": {
        "id": "EKPpleQ9e_9c"
      }
    },
    {
      "cell_type": "code",
      "source": [
        "p_t=dg_ent['Patterns_Formula(Tableau)']=get_patterns(dg_tok,dg_tok.columns[1])"
      ],
      "metadata": {
        "colab": {
          "base_uri": "https://localhost:8080/"
        },
        "id": "y8oN90fPfI_T",
        "outputId": "97f370cd-1455-4a1d-9bb4-5bf061d146d7"
      },
      "execution_count": 35,
      "outputs": [
        {
          "output_type": "stream",
          "name": "stdout",
          "text": [
            "[{'[': 'X'}, {'\"': 'PUNCT'}, {'[': 'X'}, {\"'\": 'VERB'}, {'SUM': 'NOUN'}, {\"'\": 'PUNCT'}, {',': 'PUNCT'}, {'\"': 'PUNCT'}, {',': 'PUNCT'}, {'\"': 'PUNCT'}, {\"'\": 'PUNCT'}, {'Sepal': 'NOUN'}, {\"'\": 'PUNCT'}, {',': 'PUNCT'}, {'\"': 'PUNCT'}, {',': 'PUNCT'}, {'\"': 'PUNCT'}, {\"'\": 'PUNCT'}, {'Length': 'X'}, {\"'\": 'PUNCT'}, {']': 'PUNCT'}, {'\"': 'PUNCT'}, {']': 'PUNCT'}, {'[': 'X'}, {'\"': 'PUNCT'}, {'[': 'X'}, {\"'\": 'X'}, {'AVG': 'PROPN'}, {\"'\": 'NUM'}, {',': 'PUNCT'}, {'\"': 'PUNCT'}, {',': 'PUNCT'}, {'\"': 'PUNCT'}, {\"'\": 'PUNCT'}, {'Sepal': 'NOUN'}, {\"'\": 'PUNCT'}, {',': 'PUNCT'}, {'\"': 'PUNCT'}, {',': 'PUNCT'}, {'\"': 'PUNCT'}, {\"'\": 'PUNCT'}, {'Width': 'PROPN'}, {\"'\": 'PUNCT'}, {']': 'PUNCT'}, {'\"': 'PUNCT'}, {']': 'PUNCT'}, {'[': 'X'}, {'\"': 'PUNCT'}, {'[': 'X'}, {\"'\": 'X'}, {'MEDIAN': 'PROPN'}, {\"'\": 'PUNCT'}, {',': 'PUNCT'}, {'\"': 'PUNCT'}, {',': 'PUNCT'}, {'\"': 'PUNCT'}, {\"'\": 'PUNCT'}, {'Petal': 'ADJ'}, {\"'\": 'PUNCT'}, {',': 'PUNCT'}, {'\"': 'PUNCT'}, {',': 'PUNCT'}, {'\"': 'PUNCT'}, {\"'\": 'PUNCT'}, {'Length': 'X'}, {\"'\": 'PUNCT'}, {']': 'PUNCT'}, {'\"': 'PUNCT'}, {']': 'PUNCT'}, {'[': 'X'}, {'\"': 'PUNCT'}, {'[': 'X'}, {\"'\": 'X'}, {'COUNT': 'PROPN'}, {\"'\": 'PUNCT'}, {']': 'PUNCT'}, {'\"': 'PUNCT'}, {']': 'PUNCT'}, {'[': 'X'}, {'\"': 'PUNCT'}, {'[': 'X'}, {\"'\": 'X'}, {'COUNT': 'PROPN'}, {\"'\": 'NUM'}, {',': 'PUNCT'}, {'\"': 'PUNCT'}, {',': 'PUNCT'}, {'\"': 'PUNCT'}, {\"'\": 'PUNCT'}, {'DISTINCT': 'VERB'}, {\"'\": 'PUNCT'}, {',': 'PUNCT'}, {'\"': 'PUNCT'}, {',': 'PUNCT'}, {'\"': 'PUNCT'}, {\"'\": 'PUNCT'}, {'Species': 'PROPN'}, {\"'\": 'PUNCT'}, {']': 'PUNCT'}, {'\"': 'PUNCT'}, {']': 'PUNCT'}, {'[': 'X'}, {'\"': 'PUNCT'}, {'[': 'X'}, {\"'\": 'X'}, {'MIN': 'PROPN'}, {\"'\": 'PROPN'}, {',': 'PUNCT'}, {'\"': 'PUNCT'}, {',': 'PUNCT'}, {'\"': 'PUNCT'}, {\"'\": 'PUNCT'}, {'Sepal': 'NOUN'}, {\"'\": 'PUNCT'}, {',': 'PUNCT'}, {'\"': 'PUNCT'}, {',': 'PUNCT'}, {'\"': 'PUNCT'}, {\"'\": 'PUNCT'}, {'Length': 'X'}, {\"'\": 'PUNCT'}, {']': 'PUNCT'}, {'\"': 'PUNCT'}, {']': 'PUNCT'}, {'[': 'X'}, {'\"': 'PUNCT'}, {'[': 'X'}, {\"'\": 'X'}, {'MAX': 'PROPN'}, {\"'\": 'PUNCT'}, {',': 'PUNCT'}, {'\"': 'PUNCT'}, {',': 'PUNCT'}, {'\"': 'PUNCT'}, {\"'\": 'PUNCT'}, {'Petal': 'ADJ'}, {\"'\": 'PUNCT'}, {',': 'PUNCT'}, {'\"': 'PUNCT'}, {',': 'PUNCT'}, {'\"': 'PUNCT'}, {\"'\": 'PUNCT'}, {'Width': 'PROPN'}, {\"'\": 'PUNCT'}, {']': 'PUNCT'}, {'\"': 'PUNCT'}, {']': 'PUNCT'}, {'[': 'X'}, {'\"': 'PUNCT'}, {'[': 'X'}, {\"'\": 'X'}, {'GROUP': 'PROPN'}, {\"'\": 'PUNCT'}, {',': 'PUNCT'}, {'\"': 'PUNCT'}, {',': 'PUNCT'}, {'\"': 'PUNCT'}, {\"'\": 'PUNCT'}, {'BY': 'ADP'}, {\"'\": 'NUM'}, {',': 'PUNCT'}, {'\"': 'PUNCT'}, {',': 'PUNCT'}, {'\"': 'PUNCT'}, {\"'\": 'PUNCT'}, {'Species': 'PROPN'}, {\"'\": 'PUNCT'}, {']': 'PUNCT'}, {'\"': 'PUNCT'}, {']': 'PUNCT'}, {'[': 'X'}, {'\"': 'PUNCT'}, {'[': 'X'}, {\"'\": 'X'}, {'ORDER': 'NOUN'}, {\"'\": 'PUNCT'}, {',': 'PUNCT'}, {'\"': 'PUNCT'}, {',': 'PUNCT'}, {'\"': 'PUNCT'}, {\"'\": 'PUNCT'}, {'BY': 'ADP'}, {\"'\": 'NUM'}, {',': 'PUNCT'}, {'\"': 'PUNCT'}, {',': 'PUNCT'}, {'\"': 'PUNCT'}, {\"'\": 'PUNCT'}, {'Sepal': 'NOUN'}, {\"'\": 'PUNCT'}, {',': 'PUNCT'}, {'\"': 'PUNCT'}, {',': 'PUNCT'}, {'\"': 'PUNCT'}, {\"'\": 'PUNCT'}, {'Length': 'PROPN'}, {\"'\": 'PUNCT'}, {',': 'PUNCT'}, {'\"': 'PUNCT'}, {',': 'PUNCT'}, {'\"': 'PUNCT'}, {\"'\": 'PUNCT'}, {'ASC': 'PROPN'}, {\"'\": 'PUNCT'}, {']': 'PUNCT'}, {'\"': 'PUNCT'}, {']': 'PUNCT'}, {'[': 'X'}, {'\"': 'PUNCT'}, {'[': 'X'}, {\"'\": 'X'}, {'ORDER': 'NOUN'}, {\"'\": 'PUNCT'}, {',': 'PUNCT'}, {'\"': 'PUNCT'}, {',': 'PUNCT'}, {'\"': 'PUNCT'}, {\"'\": 'PUNCT'}, {'BY': 'ADP'}, {\"'\": 'NUM'}, {',': 'PUNCT'}, {'\"': 'PUNCT'}, {',': 'PUNCT'}, {'\"': 'PUNCT'}, {\"'\": 'PUNCT'}, {'Species': 'NOUN'}, {\"'\": 'PUNCT'}, {',': 'PUNCT'}, {'\"': 'PUNCT'}, {',': 'PUNCT'}, {'\"': 'PUNCT'}, {\"'\": 'PUNCT'}, {'ASC': 'PROPN'}, {\"'\": 'PUNCT'}, {']': 'PUNCT'}, {'\"': 'PUNCT'}, {']': 'PUNCT'}, {'[': 'X'}, {'\"': 'PUNCT'}, {'[': 'X'}, {\"'\": 'X'}, {'Sepal': 'NOUN'}, {\"'\": 'PUNCT'}, {',': 'PUNCT'}, {'\"': 'PUNCT'}, {',': 'PUNCT'}, {'\"': 'PUNCT'}, {\"'\": 'PUNCT'}, {'Length': 'PROPN'}, {\"'\": 'PUNCT'}, {',': 'PUNCT'}, {'\"': 'PUNCT'}, {',': 'PUNCT'}, {'\"': 'PUNCT'}, {\"'\": 'PROPN'}, {'5': 'NUM'}, {\"'\": 'NUM'}, {',': 'PUNCT'}, {'\"': 'PUNCT'}, {',': 'PUNCT'}, {'\"': 'PUNCT'}, {\"'\": 'PUNCT'}, {'0': 'X'}, {\"'\": 'PUNCT'}, {']': 'PUNCT'}, {'\"': 'PUNCT'}, {']': 'PUNCT'}, {'[': 'X'}, {'\"': 'PUNCT'}, {'[': 'X'}, {\"'\": 'PUNCT'}, {'Petal': 'ADJ'}, {\"'\": 'PUNCT'}, {',': 'PUNCT'}, {'\"': 'PUNCT'}, {',': 'PUNCT'}, {'\"': 'PUNCT'}, {\"'\": 'PUNCT'}, {'Length': 'PROPN'}, {\"'\": 'PUNCT'}, {',': 'PUNCT'}, {'\"': 'PUNCT'}, {',': 'PUNCT'}, {'\"': 'PUNCT'}, {\"'\": 'PUNCT'}, {'BETWEEN': 'ADP'}, {\"'\": 'PUNCT'}, {',': 'PUNCT'}, {'\"': 'PUNCT'}, {',': 'PUNCT'}, {'\"': 'PUNCT'}, {\"'\": 'PROPN'}, {'1': 'X'}, {\"'\": 'NUM'}, {',': 'PUNCT'}, {'\"': 'PUNCT'}, {',': 'PUNCT'}, {'\"': 'PUNCT'}, {\"'\": 'PROPN'}, {'5': 'NUM'}, {\"'\": 'NUM'}, {',': 'PUNCT'}, {'\"': 'PUNCT'}, {',': 'PUNCT'}, {'\"': 'PUNCT'}, {\"'\": 'PUNCT'}, {'AND': 'CCONJ'}, {\"'\": 'NUM'}, {',': 'PUNCT'}, {'\"': 'PUNCT'}, {',': 'PUNCT'}, {'\"': 'PUNCT'}, {\"'\": 'PROPN'}, {'2': 'X'}, {\"'\": 'NUM'}, {',': 'PUNCT'}, {'\"': 'PUNCT'}, {',': 'PUNCT'}, {'\"': 'PUNCT'}, {\"'\": 'PROPN'}, {'5': 'NUM'}, {\"'\": 'NUM'}, {']': 'PUNCT'}, {'\"': 'PUNCT'}, {']': 'PUNCT'}, {'[': 'X'}, {'\"': 'PUNCT'}, {'[': 'X'}, {\"'\": 'PROPN'}, {'TOP': 'NUM'}, {\"'\": 'PUNCT'}, {',': 'PUNCT'}, {'\"': 'PUNCT'}, {',': 'PUNCT'}, {'\"': 'PUNCT'}, {\"'\": 'PROPN'}, {'3': 'NUM'}, {\"'\": 'NUM'}, {',': 'PUNCT'}, {'\"': 'PUNCT'}, {',': 'PUNCT'}, {'\"': 'PUNCT'}, {\"'\": 'PUNCT'}, {'BY': 'ADP'}, {\"'\": 'NUM'}, {',': 'PUNCT'}, {'\"': 'PUNCT'}, {',': 'PUNCT'}, {'\"': 'PUNCT'}, {\"'\": 'PUNCT'}, {'Sepal': 'NOUN'}, {\"'\": 'PUNCT'}, {',': 'PUNCT'}, {'\"': 'PUNCT'}, {',': 'PUNCT'}, {'\"': 'PUNCT'}, {\"'\": 'PUNCT'}, {'Width': 'PROPN'}, {\"'\": 'PUNCT'}, {',': 'PUNCT'}, {'\"': 'PUNCT'}, {',': 'PUNCT'}, {'\"': 'PUNCT'}, {\"'\": 'PUNCT'}, {'DESC': 'VERB'}, {\"'\": 'PUNCT'}, {']': 'PUNCT'}, {'\"': 'PUNCT'}, {']': 'PUNCT'}, {'[': 'X'}, {'\"': 'PUNCT'}, {'[': 'X'}, {\"'\": 'X'}, {'Species': 'NOUN'}, {\"'\": 'PUNCT'}, {',': 'PUNCT'}, {'\"': 'PUNCT'}, {',': 'PUNCT'}, {'\"': 'PUNCT'}, {\"'\": 'PUNCT'}, {'Setosa': 'PROPN'}, {\"'\": 'PUNCT'}, {']': 'PUNCT'}, {'\"': 'PUNCT'}, {']': 'PUNCT'}, {'[': 'X'}, {'\"': 'PUNCT'}, {'[': 'X'}, {\"'\": 'X'}, {'Species': 'NOUN'}, {\"'\": 'PUNCT'}, {',': 'PUNCT'}, {'\"': 'PUNCT'}, {',': 'PUNCT'}, {'\"': 'PUNCT'}, {\"'\": 'PUNCT'}, {'STARTS': 'PROPN'}, {\"'\": 'NUM'}, {',': 'PUNCT'}, {'\"': 'PUNCT'}, {',': 'PUNCT'}, {'\"': 'PUNCT'}, {\"'\": 'PUNCT'}, {'WITH': 'ADP'}, {\"'\": 'NUM'}, {',': 'PUNCT'}, {'\"': 'PUNCT'}, {',': 'PUNCT'}, {'\"': 'PUNCT'}, {\"'\": 'PUNCT'}, {'Se': 'PROPN'}, {\"'\": 'NUM'}, {']': 'PUNCT'}, {'\"': 'PUNCT'}, {']': 'PUNCT'}, {'[': 'X'}, {'\"': 'PUNCT'}, {'[': 'X'}, {\"'\": 'VERB'}, {'SUM': 'NOUN'}, {\"'\": 'PUNCT'}, {',': 'PUNCT'}, {'\"': 'PUNCT'}, {',': 'PUNCT'}, {'\"': 'PUNCT'}, {\"'\": 'PUNCT'}, {'Petal': 'ADJ'}, {\"'\": 'PUNCT'}, {',': 'PUNCT'}, {'\"': 'PUNCT'}, {',': 'PUNCT'}, {'\"': 'PUNCT'}, {\"'\": 'PUNCT'}, {'Length': 'X'}, {\"'\": 'PUNCT'}, {']': 'PUNCT'}, {'\"': 'PUNCT'}, {']': 'PUNCT'}, {'[': 'X'}, {'\"': 'PUNCT'}, {'[': 'X'}, {\"'\": 'X'}, {'AVG': 'PROPN'}, {\"'\": 'NUM'}, {',': 'PUNCT'}, {'\"': 'PUNCT'}, {',': 'PUNCT'}, {'\"': 'PUNCT'}, {\"'\": 'PUNCT'}, {'Petal': 'ADJ'}, {\"'\": 'PUNCT'}, {',': 'PUNCT'}, {'\"': 'PUNCT'}, {',': 'PUNCT'}, {'\"': 'PUNCT'}, {\"'\": 'PUNCT'}, {'Width': 'PROPN'}, {\"'\": 'PUNCT'}, {']': 'PUNCT'}, {'\"': 'PUNCT'}, {']': 'PUNCT'}, {'[': 'X'}, {'\"': 'PUNCT'}, {'[': 'X'}, {\"'\": 'X'}, {'MEDIAN': 'PROPN'}, {\"'\": 'PUNCT'}, {',': 'PUNCT'}, {'\"': 'PUNCT'}, {',': 'PUNCT'}, {'\"': 'PUNCT'}, {\"'\": 'PUNCT'}, {'Sepal': 'NOUN'}, {\"'\": 'PUNCT'}, {',': 'PUNCT'}, {'\"': 'PUNCT'}, {',': 'PUNCT'}, {'\"': 'PUNCT'}, {\"'\": 'PUNCT'}, {'Width': 'PROPN'}, {\"'\": 'PUNCT'}, {']': 'PUNCT'}, {'\"': 'PUNCT'}, {']': 'PUNCT'}, {'[': 'X'}, {'\"': 'PUNCT'}, {'[': 'X'}, {\"'\": 'X'}, {'COUNT': 'PROPN'}, {\"'\": 'NUM'}, {',': 'PUNCT'}, {'\"': 'PUNCT'}, {',': 'PUNCT'}, {'\"': 'PUNCT'}, {\"'\": 'PUNCT'}, {'Sepal': 'NOUN'}, {\"'\": 'PUNCT'}, {',': 'PUNCT'}, {'\"': 'PUNCT'}, {',': 'PUNCT'}, {'\"': 'PUNCT'}, {\"'\": 'PUNCT'}, {'Length': 'X'}, {\"'\": 'PUNCT'}, {']': 'PUNCT'}, {'\"': 'PUNCT'}, {']': 'PUNCT'}, {'[': 'X'}, {'\"': 'PUNCT'}, {'[': 'X'}, {\"'\": 'VERB'}, {'COUNTD': 'PROPN'}, {\"'\": 'PUNCT'}, {',': 'PUNCT'}, {'\"': 'PUNCT'}, {',': 'PUNCT'}, {'\"': 'PUNCT'}, {\"'\": 'PUNCT'}, {'Species': 'PROPN'}, {\"'\": 'PUNCT'}, {']': 'PUNCT'}, {'\"': 'PUNCT'}, {']': 'PUNCT'}, {'[': 'X'}, {'\"': 'PUNCT'}, {'[': 'X'}, {\"'\": 'X'}, {'MIN': 'PROPN'}, {\"'\": 'PROPN'}, {',': 'PUNCT'}, {'\"': 'PUNCT'}, {',': 'PUNCT'}, {'\"': 'PUNCT'}, {\"'\": 'PUNCT'}, {'Sepal': 'NOUN'}, {\"'\": 'PUNCT'}, {',': 'PUNCT'}, {'\"': 'PUNCT'}, {',': 'PUNCT'}, {'\"': 'PUNCT'}, {\"'\": 'PUNCT'}, {'Length': 'X'}, {\"'\": 'PUNCT'}, {']': 'PUNCT'}, {'\"': 'PUNCT'}, {']': 'PUNCT'}, {'[': 'X'}, {'\"': 'PUNCT'}, {'[': 'X'}, {\"'\": 'X'}, {'MAX': 'PROPN'}, {\"'\": 'PUNCT'}, {',': 'PUNCT'}, {'\"': 'PUNCT'}, {',': 'PUNCT'}, {'\"': 'PUNCT'}, {\"'\": 'PUNCT'}, {'Petal': 'ADJ'}, {\"'\": 'PUNCT'}, {',': 'PUNCT'}, {'\"': 'PUNCT'}, {',': 'PUNCT'}, {'\"': 'PUNCT'}, {\"'\": 'PUNCT'}, {'Width': 'PROPN'}, {\"'\": 'PUNCT'}, {']': 'PUNCT'}, {'\"': 'PUNCT'}, {']': 'PUNCT'}, {'[': 'X'}, {'\"': 'PUNCT'}, {'[': 'X'}, {\"'\": 'VERB'}, {'SORT': 'ADV'}, {\"'\": 'NUM'}, {',': 'PUNCT'}, {'\"': 'PUNCT'}, {',': 'PUNCT'}, {'\"': 'PUNCT'}, {\"'\": 'PUNCT'}, {'Species': 'NOUN'}, {\"'\": 'PUNCT'}, {',': 'PUNCT'}, {'\"': 'PUNCT'}, {',': 'PUNCT'}, {'\"': 'PUNCT'}, {\"'\": 'PUNCT'}, {'DESC': 'VERB'}, {\"'\": 'PUNCT'}, {']': 'PUNCT'}, {'\"': 'PUNCT'}, {']': 'PUNCT'}, {'[': 'X'}, {'\"': 'PUNCT'}, {'[': 'X'}, {\"'\": 'VERB'}, {'SORT': 'ADV'}, {\"'\": 'NUM'}, {',': 'PUNCT'}, {'\"': 'PUNCT'}, {',': 'PUNCT'}, {'\"': 'PUNCT'}, {\"'\": 'PUNCT'}, {'Sepal': 'NOUN'}, {\"'\": 'PUNCT'}, {',': 'PUNCT'}, {'\"': 'PUNCT'}, {',': 'PUNCT'}, {'\"': 'PUNCT'}, {\"'\": 'PUNCT'}, {'Length': 'PROPN'}, {\"'\": 'PUNCT'}, {',': 'PUNCT'}, {'\"': 'PUNCT'}, {',': 'PUNCT'}, {'\"': 'PUNCT'}, {\"'\": 'PUNCT'}, {'ASC': 'PROPN'}, {\"'\": 'PUNCT'}, {']': 'PUNCT'}, {'\"': 'PUNCT'}, {']': 'PUNCT'}, {'[': 'X'}, {'\"': 'PUNCT'}, {'[': 'X'}, {\"'\": 'X'}, {'Sepal': 'NOUN'}, {\"'\": 'PUNCT'}, {',': 'PUNCT'}, {'\"': 'PUNCT'}, {',': 'PUNCT'}, {'\"': 'PUNCT'}, {\"'\": 'PUNCT'}, {'Length': 'PROPN'}, {\"'\": 'PUNCT'}, {',': 'PUNCT'}, {'\"': 'PUNCT'}, {',': 'PUNCT'}, {'\"': 'PUNCT'}, {\"'\": 'PROPN'}, {'4': 'NUM'}, {\"'\": 'NUM'}, {',': 'PUNCT'}, {'\"': 'PUNCT'}, {',': 'PUNCT'}, {'\"': 'PUNCT'}, {\"'\": 'PROPN'}, {'5': 'NUM'}, {\"'\": 'NUM'}, {']': 'PUNCT'}, {'\"': 'PUNCT'}, {']': 'PUNCT'}, {'[': 'X'}, {'\"': 'PUNCT'}, {'[': 'X'}, {\"'\": 'PUNCT'}, {'Petal': 'ADJ'}, {\"'\": 'PUNCT'}, {',': 'PUNCT'}, {'\"': 'PUNCT'}, {',': 'PUNCT'}, {'\"': 'PUNCT'}, {\"'\": 'PUNCT'}, {'Width': 'PROPN'}, {\"'\": 'PUNCT'}, {',': 'PUNCT'}, {'\"': 'PUNCT'}, {',': 'PUNCT'}, {'\"': 'PUNCT'}, {\"'\": 'PROPN'}, {'2': 'X'}, {\"'\": 'NUM'}, {',': 'PUNCT'}, {'\"': 'PUNCT'}, {',': 'PUNCT'}, {'\"': 'PUNCT'}, {\"'\": 'PUNCT'}, {'0': 'X'}, {\"'\": 'PUNCT'}, {']': 'PUNCT'}, {'\"': 'PUNCT'}, {']': 'PUNCT'}, {'[': 'X'}, {'\"': 'PUNCT'}, {'[': 'X'}, {\"'\": 'X'}, {'Sepal': 'NOUN'}, {\"'\": 'PUNCT'}, {',': 'PUNCT'}, {'\"': 'PUNCT'}, {',': 'PUNCT'}, {'\"': 'PUNCT'}, {\"'\": 'PUNCT'}, {'Width': 'PROPN'}, {\"'\": 'PUNCT'}, {',': 'PUNCT'}, {'\"': 'PUNCT'}, {',': 'PUNCT'}, {'\"': 'PUNCT'}, {\"'\": 'PROPN'}, {'3': 'NUM'}, {\"'\": 'NUM'}, {',': 'PUNCT'}, {'\"': 'PUNCT'}, {',': 'PUNCT'}, {'\"': 'PUNCT'}, {\"'\": 'PUNCT'}, {'0': 'X'}, {\"'\": 'PUNCT'}, {']': 'PUNCT'}, {'\"': 'PUNCT'}, {']': 'PUNCT'}, {'[': 'X'}, {'\"': 'PUNCT'}, {'[': 'X'}, {\"'\": 'VERB'}, {'ENDSWITH': 'NOUN'}, {\"'\": 'PUNCT'}, {',': 'PUNCT'}, {'\"': 'PUNCT'}, {',': 'PUNCT'}, {'\"': 'PUNCT'}, {\"'\": 'PUNCT'}, {'Species': 'NOUN'}, {\"'\": 'PUNCT'}, {',': 'PUNCT'}, {'\"': 'PUNCT'}, {',': 'PUNCT'}, {'\"': 'PUNCT'}, {\"'\": 'PUNCT'}, {'ica': 'X'}, {\"'\": 'PUNCT'}, {']': 'PUNCT'}, {'\"': 'PUNCT'}, {']': 'PUNCT'}, {'[': 'X'}, {'\"': 'PUNCT'}, {'[': 'X'}, {\"'\": 'X'}, {'Sepal': 'NOUN'}, {\"'\": 'PUNCT'}, {',': 'PUNCT'}, {'\"': 'PUNCT'}, {',': 'PUNCT'}, {'\"': 'PUNCT'}, {\"'\": 'PUNCT'}, {'Length': 'PROPN'}, {\"'\": 'PUNCT'}, {',': 'PUNCT'}, {'\"': 'PUNCT'}, {',': 'PUNCT'}, {'\"': 'PUNCT'}, {\"'\": 'PROPN'}, {'5': 'NUM'}, {\"'\": 'NUM'}, {',': 'PUNCT'}, {'\"': 'PUNCT'}, {',': 'PUNCT'}, {'\"': 'PUNCT'}, {\"'\": 'PUNCT'}, {'0': 'X'}, {\"'\": 'PUNCT'}, {']': 'PUNCT'}, {'\"': 'PUNCT'}, {']': 'PUNCT'}, {'[': 'X'}, {'\"': 'PUNCT'}, {'[': 'X'}, {\"'\": 'X'}, {'INDEX': 'PROPN'}, {\"'\": 'PUNCT'}, {',': 'PUNCT'}, {'\"': 'PUNCT'}, {',': 'PUNCT'}, {'\"': 'PUNCT'}, {\"'\": 'PROPN'}, {'5': 'NUM'}, {\"'\": 'NUM'}, {',': 'PUNCT'}, {'\"': 'PUNCT'}, {',': 'PUNCT'}, {'\"': 'PUNCT'}, {\"'\": 'PUNCT'}, {'SORT': 'ADV'}, {\"'\": 'NUM'}, {',': 'PUNCT'}, {'\"': 'PUNCT'}, {',': 'PUNCT'}, {'\"': 'PUNCT'}, {\"'\": 'PUNCT'}, {'BY': 'ADP'}, {\"'\": 'NUM'}, {',': 'PUNCT'}, {'\"': 'PUNCT'}, {',': 'PUNCT'}, {'\"': 'PUNCT'}, {\"'\": 'PUNCT'}, {'SUM': 'VERB'}, {\"'\": 'PUNCT'}, {',': 'PUNCT'}, {'\"': 'PUNCT'}, {',': 'PUNCT'}, {'\"': 'PUNCT'}, {\"'\": 'PUNCT'}, {'Sepal': 'NOUN'}, {\"'\": 'PUNCT'}, {',': 'PUNCT'}, {'\"': 'PUNCT'}, {',': 'PUNCT'}, {'\"': 'PUNCT'}, {\"'\": 'PUNCT'}, {'Width': 'PROPN'}, {\"'\": 'PUNCT'}, {',': 'PUNCT'}, {'\"': 'PUNCT'}, {',': 'PUNCT'}, {'\"': 'PUNCT'}, {\"'\": 'PUNCT'}, {'DESC': 'VERB'}, {\"'\": 'PUNCT'}, {']': 'PUNCT'}, {'\"': 'PUNCT'}, {']': 'PUNCT'}, {'[': 'X'}, {'\"': 'PUNCT'}, {'[': 'X'}, {\"'\": 'X'}, {'INDEX': 'PROPN'}, {\"'\": 'PUNCT'}, {',': 'PUNCT'}, {'\"': 'PUNCT'}, {',': 'PUNCT'}, {'\"': 'PUNCT'}, {\"'\": 'PROPN'}, {'3': 'NUM'}, {\"'\": 'NUM'}, {',': 'PUNCT'}, {'\"': 'PUNCT'}, {',': 'PUNCT'}, {'\"': 'PUNCT'}, {\"'\": 'PUNCT'}, {'SORT': 'ADV'}, {\"'\": 'NUM'}, {',': 'PUNCT'}, {'\"': 'PUNCT'}, {',': 'PUNCT'}, {'\"': 'PUNCT'}, {\"'\": 'PUNCT'}, {'BY': 'ADP'}, {\"'\": 'NUM'}, {',': 'PUNCT'}, {'\"': 'PUNCT'}, {',': 'PUNCT'}, {'\"': 'PUNCT'}, {\"'\": 'PUNCT'}, {'Petal': 'ADJ'}, {\"'\": 'PUNCT'}, {',': 'PUNCT'}, {'\"': 'PUNCT'}, {',': 'PUNCT'}, {'\"': 'PUNCT'}, {\"'\": 'PUNCT'}, {'Length': 'PROPN'}, {\"'\": 'PUNCT'}, {',': 'PUNCT'}, {'\"': 'PUNCT'}, {',': 'PUNCT'}, {'\"': 'PUNCT'}, {\"'\": 'PUNCT'}, {'ASC': 'PROPN'}, {\"'\": 'PUNCT'}, {']': 'PUNCT'}, {'\"': 'PUNCT'}, {']': 'PUNCT'}, {'[': 'X'}, {'\"': 'PUNCT'}, {'[': 'X'}, {\"'\": 'VERB'}, {'IF': 'SCONJ'}, {\"'\": 'NUM'}, {',': 'PUNCT'}, {'\"': 'PUNCT'}, {',': 'PUNCT'}, {'\"': 'PUNCT'}, {\"'\": 'PUNCT'}, {'Petal': 'ADJ'}, {\"'\": 'PUNCT'}, {',': 'PUNCT'}, {'\"': 'PUNCT'}, {',': 'PUNCT'}, {'\"': 'PUNCT'}, {\"'\": 'PUNCT'}, {'Length': 'PROPN'}, {\"'\": 'PUNCT'}, {',': 'PUNCT'}, {'\"': 'PUNCT'}, {',': 'PUNCT'}, {'\"': 'PUNCT'}, {\"'\": 'PROPN'}, {'4': 'NUM'}, {\"'\": 'NUM'}, {',': 'PUNCT'}, {'\"': 'PUNCT'}, {',': 'PUNCT'}, {'\"': 'PUNCT'}, {\"'\": 'PUNCT'}, {'AND': 'CCONJ'}, {\"'\": 'NUM'}, {',': 'PUNCT'}, {'\"': 'PUNCT'}, {',': 'PUNCT'}, {'\"': 'PUNCT'}, {\"'\": 'PUNCT'}, {'Petal': 'ADJ'}, {\"'\": 'PUNCT'}, {',': 'PUNCT'}, {'\"': 'PUNCT'}, {',': 'PUNCT'}, {'\"': 'PUNCT'}, {\"'\": 'PUNCT'}, {'Length': 'PROPN'}, {\"'\": 'PUNCT'}, {',': 'PUNCT'}, {'\"': 'PUNCT'}, {',': 'PUNCT'}, {'\"': 'PUNCT'}, {\"'\": 'PROPN'}, {'5': 'NUM'}, {\"'\": 'NUM'}, {',': 'PUNCT'}, {'\"': 'PUNCT'}, {',': 'PUNCT'}, {'\"': 'PUNCT'}, {\"'\": 'PUNCT'}, {'THEN': 'ADV'}, {\"'\": 'NUM'}, {',': 'PUNCT'}, {'\"': 'PUNCT'}, {',': 'PUNCT'}, {'\"': 'PUNCT'}, {\"'\": 'PROPN'}, {'1': 'X'}, {\"'\": 'NUM'}, {',': 'PUNCT'}, {'\"': 'PUNCT'}, {',': 'PUNCT'}, {'\"': 'PUNCT'}, {\"'\": 'PUNCT'}, {'ELSE': 'ADV'}, {\"'\": 'NUM'}, {',': 'PUNCT'}, {'\"': 'PUNCT'}, {',': 'PUNCT'}, {'\"': 'PUNCT'}, {\"'\": 'PUNCT'}, {'0': 'X'}, {\"'\": 'PUNCT'}, {',': 'PUNCT'}, {'\"': 'PUNCT'}, {',': 'PUNCT'}, {'\"': 'PUNCT'}, {\"'\": 'PUNCT'}, {'END': 'PROPN'}, {\"'\": 'PUNCT'}, {']': 'PUNCT'}, {'\"': 'PUNCT'}, {']': 'PUNCT'}, {'[': 'X'}, {'\"': 'PUNCT'}, {'[': 'X'}, {\"'\": 'VERB'}, {'DATETRUNC': 'PROPN'}, {\"'\": 'NUM'}, {',': 'PUNCT'}, {'\"': 'PUNCT'}, {',': 'PUNCT'}, {'\"': 'PUNCT'}, {\"'\": 'PUNCT'}, {'month': 'NOUN'}, {\"'\": 'PUNCT'}, {',': 'PUNCT'}, {'\"': 'PUNCT'}, {',': 'PUNCT'}, {'\"': 'PUNCT'}, {\"'\": 'PUNCT'}, {'Date': 'PROPN'}, {\"'\": 'PUNCT'}, {']': 'PUNCT'}, {'\"': 'PUNCT'}, {']': 'PUNCT'}, {'[': 'X'}, {'\"': 'PUNCT'}, {'[': 'X'}, {\"'\": 'X'}, {'YEAR': 'NOUN'}, {\"'\": 'PUNCT'}, {',': 'PUNCT'}, {'\"': 'PUNCT'}, {',': 'PUNCT'}, {'\"': 'PUNCT'}, {\"'\": 'PUNCT'}, {'Date': 'VERB'}, {\"'\": 'PUNCT'}, {',': 'PUNCT'}, {'\"': 'PUNCT'}, {',': 'PUNCT'}, {'\"': 'PUNCT'}, {\"'\": 'PUNCT'}, {'YEAR': 'NOUN'}, {\"'\": 'PUNCT'}, {',': 'PUNCT'}, {'\"': 'PUNCT'}, {',': 'PUNCT'}, {'\"': 'PUNCT'}, {\"'\": 'PUNCT'}, {'TODAY': 'NOUN'}, {\"'\": 'PUNCT'}, {',': 'PUNCT'}, {'\"': 'PUNCT'}, {',': 'PUNCT'}, {'\"': 'PUNCT'}, {\"'\": 'PROPN'}, {'1': 'X'}, {\"'\": 'NUM'}, {']': 'PUNCT'}, {'\"': 'PUNCT'}, {']': 'PUNCT'}, {'[': 'X'}, {'\"': 'PUNCT'}, {'[': 'X'}, {\"'\": 'X'}, {'Date': 'NOUN'}, {\"'\": 'NUM'}, {',': 'PUNCT'}, {'\"': 'PUNCT'}, {',': 'PUNCT'}, {'\"': 'PUNCT'}, {\"'\": 'PUNCT'}, {'DATETRUNC': 'PROPN'}, {\"'\": 'NUM'}, {',': 'PUNCT'}, {'\"': 'PUNCT'}, {',': 'PUNCT'}, {'\"': 'PUNCT'}, {\"'\": 'PUNCT'}, {'year': 'NOUN'}, {\"'\": 'PUNCT'}, {',': 'PUNCT'}, {'\"': 'PUNCT'}, {',': 'PUNCT'}, {'\"': 'PUNCT'}, {\"'\": 'PUNCT'}, {'TODAY': 'NOUN'}, {\"'\": 'PUNCT'}, {']': 'PUNCT'}, {'\"': 'PUNCT'}, {']': 'PUNCT'}, {'[': 'X'}, {'\"': 'PUNCT'}, {'[': 'X'}, {\"'\": 'X'}, {'AVG': 'PROPN'}, {\"'\": 'NUM'}, {',': 'PUNCT'}, {'\"': 'PUNCT'}, {',': 'PUNCT'}, {'\"': 'PUNCT'}, {\"'\": 'PUNCT'}, {'Sepal': 'NOUN'}, {\"'\": 'PUNCT'}, {',': 'PUNCT'}, {'\"': 'PUNCT'}, {',': 'PUNCT'}, {'\"': 'PUNCT'}, {\"'\": 'PUNCT'}, {'Length': 'PROPN'}, {\"'\": 'PUNCT'}, {',': 'PUNCT'}, {'\"': 'PUNCT'}, {',': 'PUNCT'}, {'\"': 'PUNCT'}, {\"'\": 'PUNCT'}, {'GROUP': 'PROPN'}, {\"'\": 'PUNCT'}, {',': 'PUNCT'}, {'\"': 'PUNCT'}, {',': 'PUNCT'}, {'\"': 'PUNCT'}, {\"'\": 'PUNCT'}, {'BY': 'ADP'}, {\"'\": 'NUM'}, {',': 'PUNCT'}, {'\"': 'PUNCT'}, {',': 'PUNCT'}, {'\"': 'PUNCT'}, {\"'\": 'PUNCT'}, {'Species': 'NOUN'}, {\"'\": 'PUNCT'}, {',': 'PUNCT'}, {'\"': 'PUNCT'}, {',': 'PUNCT'}, {'\"': 'PUNCT'}, {\"'\": 'PUNCT'}, {'SORT': 'ADV'}, {\"'\": 'NUM'}, {',': 'PUNCT'}, {'\"': 'PUNCT'}, {',': 'PUNCT'}, {'\"': 'PUNCT'}, {\"'\": 'PUNCT'}, {'BY': 'ADP'}, {\"'\": 'NUM'}, {',': 'PUNCT'}, {'\"': 'PUNCT'}, {',': 'PUNCT'}, {'\"': 'PUNCT'}, {\"'\": 'PUNCT'}, {'Species': 'NOUN'}, {\"'\": 'PUNCT'}, {',': 'PUNCT'}, {'\"': 'PUNCT'}, {',': 'PUNCT'}, {'\"': 'PUNCT'}, {\"'\": 'PUNCT'}, {'ASC': 'PROPN'}, {\"'\": 'PUNCT'}, {']': 'PUNCT'}, {'\"': 'PUNCT'}, {']': 'PUNCT'}, {'[': 'X'}, {'\"': 'PUNCT'}, {'[': 'X'}, {\"'\": 'VERB'}, {'COUNTD': 'PROPN'}, {\"'\": 'PUNCT'}, {',': 'PUNCT'}, {'\"': 'PUNCT'}, {',': 'PUNCT'}, {'\"': 'PUNCT'}, {\"'\": 'PUNCT'}, {'IF': 'SCONJ'}, {\"'\": 'NUM'}, {',': 'PUNCT'}, {'\"': 'PUNCT'}, {',': 'PUNCT'}, {'\"': 'PUNCT'}, {\"'\": 'PUNCT'}, {'LEFT': 'PROPN'}, {\"'\": 'PUNCT'}, {',': 'PUNCT'}, {'\"': 'PUNCT'}, {',': 'PUNCT'}, {'\"': 'PUNCT'}, {\"'\": 'PUNCT'}, {'Species': 'NOUN'}, {\"'\": 'PUNCT'}, {',': 'PUNCT'}, {'\"': 'PUNCT'}, {',': 'PUNCT'}, {'\"': 'PUNCT'}, {\"'\": 'PROPN'}, {'1': 'X'}, {\"'\": 'NUM'}, {',': 'PUNCT'}, {'\"': 'PUNCT'}, {',': 'PUNCT'}, {'\"': 'PUNCT'}, {\"'\": 'PUNCT'}, {'C': 'NOUN'}, {\"'\": 'NUM'}, {',': 'PUNCT'}, {'\"': 'PUNCT'}, {',': 'PUNCT'}, {'\"': 'PUNCT'}, {\"'\": 'PUNCT'}, {'THEN': 'ADV'}, {\"'\": 'NUM'}, {',': 'PUNCT'}, {'\"': 'PUNCT'}, {',': 'PUNCT'}, {'\"': 'PUNCT'}, {\"'\": 'PUNCT'}, {'Species': 'NOUN'}, {\"'\": 'PUNCT'}, {',': 'PUNCT'}, {'\"': 'PUNCT'}, {',': 'PUNCT'}, {'\"': 'PUNCT'}, {\"'\": 'PUNCT'}, {'ELSE': 'ADV'}, {\"'\": 'NUM'}, {',': 'PUNCT'}, {'\"': 'PUNCT'}, {',': 'PUNCT'}, {'\"': 'PUNCT'}, {\"'\": 'PUNCT'}, {'NULL': 'VERB'}, {\"'\": 'PUNCT'}, {',': 'PUNCT'}, {'\"': 'PUNCT'}, {',': 'PUNCT'}, {'\"': 'PUNCT'}, {\"'\": 'PUNCT'}, {'END': 'PROPN'}, {\"'\": 'PUNCT'}, {']': 'PUNCT'}, {'\"': 'PUNCT'}, {']': 'PUNCT'}, {'[': 'X'}, {'\"': 'PUNCT'}, {'[': 'X'}, {\"'\": 'PUNCT'}, {'Petal': 'ADJ'}, {\"'\": 'PUNCT'}, {',': 'PUNCT'}, {'\"': 'PUNCT'}, {',': 'PUNCT'}, {'\"': 'PUNCT'}, {\"'\": 'PUNCT'}, {'Length': 'PROPN'}, {\"'\": 'PUNCT'}, {',': 'PUNCT'}, {'\"': 'PUNCT'}, {',': 'PUNCT'}, {'\"': 'PUNCT'}, {\"'\": 'PROPN'}, {'4': 'NUM'}, {\"'\": 'NUM'}, {',': 'PUNCT'}, {'\"': 'PUNCT'}, {',': 'PUNCT'}, {'\"': 'PUNCT'}, {\"'\": 'PUNCT'}, {'0': 'X'}, {\"'\": 'PUNCT'}, {',': 'PUNCT'}, {'\"': 'PUNCT'}, {',': 'PUNCT'}, {'\"': 'PUNCT'}, {\"'\": 'PUNCT'}, {'AND': 'CCONJ'}, {\"'\": 'NUM'}, {',': 'PUNCT'}, {'\"': 'PUNCT'}, {',': 'PUNCT'}, {'\"': 'PUNCT'}, {\"'\": 'PUNCT'}, {'Sepal': 'NOUN'}, {\"'\": 'PUNCT'}, {',': 'PUNCT'}, {'\"': 'PUNCT'}, {',': 'PUNCT'}, {'\"': 'PUNCT'}, {\"'\": 'PUNCT'}, {'Length': 'PROPN'}, {\"'\": 'PUNCT'}, {',': 'PUNCT'}, {'\"': 'PUNCT'}, {',': 'PUNCT'}, {'\"': 'PUNCT'}, {\"'\": 'PROPN'}, {'4': 'NUM'}, {\"'\": 'NUM'}, {',': 'PUNCT'}, {'\"': 'PUNCT'}, {',': 'PUNCT'}, {'\"': 'PUNCT'}, {\"'\": 'PUNCT'}, {'0': 'X'}, {\"'\": 'PUNCT'}, {']': 'PUNCT'}, {'\"': 'PUNCT'}, {']': 'PUNCT'}, {'[': 'X'}, {'\"': 'PUNCT'}, {'[': 'X'}, {\"'\": 'NOUN'}, {'RANK_PERCENTILE': 'AUX'}, {\"'\": 'PUNCT'}, {',': 'PUNCT'}, {'\"': 'PUNCT'}, {',': 'PUNCT'}, {'\"': 'PUNCT'}, {\"'\": 'PUNCT'}, {'Petal': 'ADJ'}, {\"'\": 'PUNCT'}, {',': 'PUNCT'}, {'\"': 'PUNCT'}, {',': 'PUNCT'}, {'\"': 'PUNCT'}, {\"'\": 'PUNCT'}, {'Width': 'PROPN'}, {\"'\": 'PUNCT'}, {',': 'PUNCT'}, {'\"': 'PUNCT'}, {',': 'PUNCT'}, {'\"': 'PUNCT'}, {\"'\": 'PUNCT'}, {'0': 'X'}, {\"'\": 'PUNCT'}, {',': 'PUNCT'}, {'\"': 'PUNCT'}, {',': 'PUNCT'}, {'\"': 'PUNCT'}, {\"'\": 'PROPN'}, {'1': 'X'}, {\"'\": 'NUM'}, {']': 'PUNCT'}, {'\"': 'PUNCT'}, {']': 'PUNCT'}, {'[': 'X'}, {'\"': 'PUNCT'}, {'[': 'X'}, {\"'\": 'VERB'}, {'SUM': 'NOUN'}, {\"'\": 'PUNCT'}, {',': 'PUNCT'}, {'\"': 'PUNCT'}, {',': 'PUNCT'}, {'\"': 'PUNCT'}, {\"'\": 'PUNCT'}, {'Sepal': 'NOUN'}, {\"'\": 'PUNCT'}, {',': 'PUNCT'}, {'\"': 'PUNCT'}, {',': 'PUNCT'}, {'\"': 'PUNCT'}, {\"'\": 'PUNCT'}, {'Length': 'X'}, {\"'\": 'PUNCT'}, {']': 'PUNCT'}, {'\"': 'PUNCT'}, {']': 'PUNCT'}, {'[': 'X'}, {'\"': 'PUNCT'}, {'[': 'X'}, {\"'\": 'X'}, {'AVG': 'PROPN'}, {\"'\": 'NUM'}, {',': 'PUNCT'}, {'\"': 'PUNCT'}, {',': 'PUNCT'}, {'\"': 'PUNCT'}, {\"'\": 'PUNCT'}, {'Petal': 'ADJ'}, {\"'\": 'PUNCT'}, {',': 'PUNCT'}, {'\"': 'PUNCT'}, {',': 'PUNCT'}, {'\"': 'PUNCT'}, {\"'\": 'PUNCT'}, {'Width': 'PROPN'}, {\"'\": 'PUNCT'}, {']': 'PUNCT'}, {'\"': 'PUNCT'}, {']': 'PUNCT'}, {'[': 'X'}, {'\"': 'PUNCT'}, {'[': 'X'}, {\"'\": 'VERB'}, {'FIXED': 'NOUN'}, {\"'\": 'PUNCT'}, {',': 'PUNCT'}, {'\"': 'PUNCT'}, {',': 'PUNCT'}, {'\"': 'PUNCT'}, {\"'\": 'PUNCT'}, {'Species': 'NOUN'}, {\"'\": 'PUNCT'}, {',': 'PUNCT'}, {'\"': 'PUNCT'}, {',': 'PUNCT'}, {'\"': 'PUNCT'}, {\"'\": 'PUNCT'}, {'setosa': 'VERB'}, {\"'\": 'PUNCT'}, {',': 'PUNCT'}, {'\"': 'PUNCT'}, {',': 'PUNCT'}, {'\"': 'PUNCT'}, {\"'\": 'PUNCT'}, {'MEDIAN': 'PROPN'}, {\"'\": 'PUNCT'}, {',': 'PUNCT'}, {'\"': 'PUNCT'}, {',': 'PUNCT'}, {'\"': 'PUNCT'}, {\"'\": 'PUNCT'}, {'Sepal': 'NOUN'}, {\"'\": 'PUNCT'}, {',': 'PUNCT'}, {'\"': 'PUNCT'}, {',': 'PUNCT'}, {'\"': 'PUNCT'}, {\"'\": 'PUNCT'}, {'Width': 'PROPN'}, {\"'\": 'PUNCT'}, {']': 'PUNCT'}, {'\"': 'PUNCT'}, {']': 'PUNCT'}, {'[': 'X'}, {'\"': 'PUNCT'}, {'[': 'X'}, {\"'\": 'VERB'}, {'SUM': 'NOUN'}, {\"'\": 'PUNCT'}, {',': 'PUNCT'}, {'\"': 'PUNCT'}, {',': 'PUNCT'}, {'\"': 'PUNCT'}, {\"'\": 'PUNCT'}, {'IF': 'SCONJ'}, {\"'\": 'NUM'}, {',': 'PUNCT'}, {'\"': 'PUNCT'}, {',': 'PUNCT'}, {'\"': 'PUNCT'}, {\"'\": 'PUNCT'}, {'Species': 'NOUN'}, {\"'\": 'PUNCT'}, {',': 'PUNCT'}, {'\"': 'PUNCT'}, {',': 'PUNCT'}, {'\"': 'PUNCT'}, {\"'\": 'PUNCT'}, {'versicolor': 'NOUN'}, {\"'\": 'PUNCT'}, {',': 'PUNCT'}, {'\"': 'PUNCT'}, {',': 'PUNCT'}, {'\"': 'PUNCT'}, {\"'\": 'PUNCT'}, {'THEN': 'ADV'}, {\"'\": 'NUM'}, {',': 'PUNCT'}, {'\"': 'PUNCT'}, {',': 'PUNCT'}, {'\"': 'PUNCT'}, {\"'\": 'PROPN'}, {'1': 'X'}, {\"'\": 'NUM'}, {',': 'PUNCT'}, {'\"': 'PUNCT'}, {',': 'PUNCT'}, {'\"': 'PUNCT'}, {\"'\": 'PUNCT'}, {'ELSE': 'ADV'}, {\"'\": 'NUM'}, {',': 'PUNCT'}, {'\"': 'PUNCT'}, {',': 'PUNCT'}, {'\"': 'PUNCT'}, {\"'\": 'PUNCT'}, {'0': 'X'}, {\"'\": 'PUNCT'}, {',': 'PUNCT'}, {'\"': 'PUNCT'}, {',': 'PUNCT'}, {'\"': 'PUNCT'}, {\"'\": 'PUNCT'}, {'END': 'PROPN'}, {\"'\": 'PUNCT'}, {']': 'PUNCT'}, {'\"': 'PUNCT'}, {']': 'PUNCT'}, {'[': 'X'}, {'\"': 'PUNCT'}, {'[': 'X'}, {\"'\": 'VERB'}, {'COUNTD': 'PROPN'}, {\"'\": 'PUNCT'}, {',': 'PUNCT'}, {'\"': 'PUNCT'}, {',': 'PUNCT'}, {'\"': 'PUNCT'}, {\"'\": 'PUNCT'}, {'IF': 'SCONJ'}, {\"'\": 'NUM'}, {',': 'PUNCT'}, {'\"': 'PUNCT'}, {',': 'PUNCT'}, {'\"': 'PUNCT'}, {\"'\": 'PUNCT'}, {'Sepal': 'NOUN'}, {\"'\": 'PUNCT'}, {',': 'PUNCT'}, {'\"': 'PUNCT'}, {',': 'PUNCT'}, {'\"': 'PUNCT'}, {\"'\": 'PUNCT'}, {'Length': 'PROPN'}, {\"'\": 'PUNCT'}, {',': 'PUNCT'}, {'\"': 'PUNCT'}, {',': 'PUNCT'}, {'\"': 'PUNCT'}, {\"'\": 'PROPN'}, {'5': 'NUM'}, {\"'\": 'NUM'}, {',': 'PUNCT'}, {'\"': 'PUNCT'}, {',': 'PUNCT'}, {'\"': 'PUNCT'}, {\"'\": 'PUNCT'}, {'0': 'X'}, {\"'\": 'PUNCT'}, {',': 'PUNCT'}, {'\"': 'PUNCT'}, {',': 'PUNCT'}, {'\"': 'PUNCT'}, {\"'\": 'PUNCT'}, {'THEN': 'ADV'}, {\"'\": 'NUM'}, {',': 'PUNCT'}, {'\"': 'PUNCT'}, {',': 'PUNCT'}, {'\"': 'PUNCT'}, {\"'\": 'PUNCT'}, {'Species': 'NOUN'}, {\"'\": 'PUNCT'}, {',': 'PUNCT'}, {'\"': 'PUNCT'}, {',': 'PUNCT'}, {'\"': 'PUNCT'}, {\"'\": 'PUNCT'}, {'ELSE': 'ADV'}, {\"'\": 'NUM'}, {',': 'PUNCT'}, {'\"': 'PUNCT'}, {',': 'PUNCT'}, {'\"': 'PUNCT'}, {\"'\": 'PUNCT'}, {'NULL': 'VERB'}, {\"'\": 'PUNCT'}, {',': 'PUNCT'}, {'\"': 'PUNCT'}, {',': 'PUNCT'}, {'\"': 'PUNCT'}, {\"'\": 'PUNCT'}, {'END': 'PROPN'}, {\"'\": 'PUNCT'}, {']': 'PUNCT'}, {'\"': 'PUNCT'}, {']': 'PUNCT'}, {'[': 'X'}, {'\"': 'PUNCT'}, {'[': 'X'}, {\"'\": 'VERB'}, {'FIXED': 'NOUN'}, {\"'\": 'PUNCT'}, {',': 'PUNCT'}, {'\"': 'PUNCT'}, {',': 'PUNCT'}, {'\"': 'PUNCT'}, {\"'\": 'PUNCT'}, {'Species': 'NOUN'}, {\"'\": 'PUNCT'}, {',': 'PUNCT'}, {'\"': 'PUNCT'}, {',': 'PUNCT'}, {'\"': 'PUNCT'}, {\"'\": 'PUNCT'}, {'virginica': 'X'}, {\"'\": 'PUNCT'}, {',': 'PUNCT'}, {'\"': 'PUNCT'}, {',': 'PUNCT'}, {'\"': 'PUNCT'}, {\"'\": 'PUNCT'}, {'MIN': 'PROPN'}, {\"'\": 'PROPN'}, {',': 'PUNCT'}, {'\"': 'PUNCT'}, {',': 'PUNCT'}, {'\"': 'PUNCT'}, {\"'\": 'PUNCT'}, {'Petal': 'ADJ'}, {\"'\": 'PUNCT'}, {',': 'PUNCT'}, {'\"': 'PUNCT'}, {',': 'PUNCT'}, {'\"': 'PUNCT'}, {\"'\": 'PUNCT'}, {'Length': 'X'}, {\"'\": 'PUNCT'}, {']': 'PUNCT'}, {'\"': 'PUNCT'}, {']': 'PUNCT'}, {'[': 'X'}, {'\"': 'PUNCT'}, {'[': 'X'}, {\"'\": 'VERB'}, {'FIXED': 'NOUN'}, {\"'\": 'PUNCT'}, {',': 'PUNCT'}, {'\"': 'PUNCT'}, {',': 'PUNCT'}, {'\"': 'PUNCT'}, {\"'\": 'PUNCT'}, {'Species': 'NOUN'}, {\"'\": 'PUNCT'}, {',': 'PUNCT'}, {'\"': 'PUNCT'}, {',': 'PUNCT'}, {'\"': 'PUNCT'}, {\"'\": 'PUNCT'}, {'setosa': 'VERB'}, {\"'\": 'PUNCT'}, {',': 'PUNCT'}, {'\"': 'PUNCT'}, {',': 'PUNCT'}, {'\"': 'PUNCT'}, {\"'\": 'PUNCT'}, {'MAX': 'PROPN'}, {\"'\": 'PUNCT'}, {',': 'PUNCT'}, {'\"': 'PUNCT'}, {',': 'PUNCT'}, {'\"': 'PUNCT'}, {\"'\": 'PUNCT'}, {'Sepal': 'NOUN'}, {\"'\": 'PUNCT'}, {',': 'PUNCT'}, {'\"': 'PUNCT'}, {',': 'PUNCT'}, {'\"': 'PUNCT'}, {\"'\": 'PUNCT'}, {'Width': 'PROPN'}, {\"'\": 'PUNCT'}, {']': 'PUNCT'}, {'\"': 'PUNCT'}, {']': 'PUNCT'}, {'[': 'X'}, {'\"': 'PUNCT'}, {'[': 'X'}, {\"'\": 'PUNCT'}, {'sorted': 'VERB'}, {\"'\": 'PUNCT'}, {',': 'PUNCT'}, {'\"': 'PUNCT'}, {',': 'PUNCT'}, {'\"': 'PUNCT'}, {\"'\": 'PUNCT'}, {'by': 'ADP'}, {\"'\": 'NUM'}, {',': 'PUNCT'}, {'\"': 'PUNCT'}, {',': 'PUNCT'}, {'\"': 'PUNCT'}, {\"'\": 'PUNCT'}, {'Species': 'NOUN'}, {\"'\": 'PUNCT'}, {',': 'PUNCT'}, {'\"': 'PUNCT'}, {',': 'PUNCT'}, {'\"': 'PUNCT'}, {\"'\": 'PUNCT'}, {'alphabetically': 'ADV'}, {\"'\": 'VERB'}, {',': 'PUNCT'}, {'\"': 'PUNCT'}, {',': 'PUNCT'}, {'\"': 'PUNCT'}, {\"'\": 'PUNCT'}, {'COUNT': 'PROPN'}, {\"'\": 'PUNCT'}, {',': 'PUNCT'}, {'\"': 'PUNCT'}, {',': 'PUNCT'}, {'\"': 'PUNCT'}, {\"'\": 'PUNCT'}, {'Species': 'NOUN'}, {\"'\": 'PUNCT'}, {',': 'PUNCT'}, {'\"': 'PUNCT'}, {',': 'PUNCT'}, {'\"': 'PUNCT'}, {\"'\": 'PUNCT'}, {'GROUP': 'PROPN'}, {\"'\": 'PUNCT'}, {',': 'PUNCT'}, {'\"': 'PUNCT'}, {',': 'PUNCT'}, {'\"': 'PUNCT'}, {\"'\": 'PUNCT'}, {'BY': 'ADP'}, {\"'\": 'NUM'}, {',': 'PUNCT'}, {'\"': 'PUNCT'}, {',': 'PUNCT'}, {'\"': 'PUNCT'}, {\"'\": 'PUNCT'}, {'Species': 'NOUN'}, {\"'\": 'PUNCT'}, {',': 'PUNCT'}, {'\"': 'PUNCT'}, {',': 'PUNCT'}, {'\"': 'PUNCT'}, {\"'\": 'PUNCT'}, {'ORDER': 'NOUN'}, {\"'\": 'PUNCT'}, {',': 'PUNCT'}, {'\"': 'PUNCT'}, {',': 'PUNCT'}, {'\"': 'PUNCT'}, {\"'\": 'PUNCT'}, {'BY': 'ADP'}, {\"'\": 'NUM'}, {',': 'PUNCT'}, {'\"': 'PUNCT'}, {',': 'PUNCT'}, {'\"': 'PUNCT'}, {\"'\": 'PUNCT'}, {'Species': 'NOUN'}, {\"'\": 'PUNCT'}, {',': 'PUNCT'}, {'\"': 'PUNCT'}, {',': 'PUNCT'}, {'\"': 'PUNCT'}, {\"'\": 'PUNCT'}, {'ASC': 'PROPN'}, {\"'\": 'PUNCT'}, {']': 'PUNCT'}, {'\"': 'PUNCT'}, {']': 'PUNCT'}, {'[': 'X'}, {'\"': 'PUNCT'}, {'[': 'X'}, {\"'\": 'X'}, {'Species': 'NOUN'}, {\"'\": 'PUNCT'}, {',': 'PUNCT'}, {'\"': 'PUNCT'}, {',': 'PUNCT'}, {'\"': 'PUNCT'}, {\"'\": 'PUNCT'}, {'versicolor': 'NOUN'}, {\"'\": 'PUNCT'}, {',': 'PUNCT'}, {'\"': 'PUNCT'}, {',': 'PUNCT'}, {'\"': 'PUNCT'}, {\"'\": 'PUNCT'}, {'AND': 'CCONJ'}, {\"'\": 'NUM'}, {',': 'PUNCT'}, {'\"': 'PUNCT'}, {',': 'PUNCT'}, {'\"': 'PUNCT'}, {\"'\": 'PUNCT'}, {'Sepal': 'NOUN'}, {\"'\": 'PUNCT'}, {',': 'PUNCT'}, {'\"': 'PUNCT'}, {',': 'PUNCT'}, {'\"': 'PUNCT'}, {\"'\": 'PUNCT'}, {'Width': 'PROPN'}, {\"'\": 'PUNCT'}, {',': 'PUNCT'}, {'\"': 'PUNCT'}, {',': 'PUNCT'}, {'\"': 'PUNCT'}, {\"'\": 'PROPN'}, {'3': 'NUM'}, {\"'\": 'NUM'}, {',': 'PUNCT'}, {'\"': 'PUNCT'}, {',': 'PUNCT'}, {'\"': 'PUNCT'}, {\"'\": 'PUNCT'}, {'0': 'X'}, {\"'\": 'PUNCT'}, {']': 'PUNCT'}, {'\"': 'PUNCT'}, {']': 'PUNCT'}, {'[': 'X'}, {'\"': 'PUNCT'}, {'[': 'X'}, {\"'\": 'PUNCT'}, {'RANK': 'VERB'}, {\"'\": 'PUNCT'}, {',': 'PUNCT'}, {'\"': 'PUNCT'}, {',': 'PUNCT'}, {'\"': 'PUNCT'}, {\"'\": 'PUNCT'}, {'Sepal': 'NOUN'}, {\"'\": 'PUNCT'}, {',': 'PUNCT'}, {'\"': 'PUNCT'}, {',': 'PUNCT'}, {'\"': 'PUNCT'}, {\"'\": 'PUNCT'}, {'Length': 'PROPN'}, {\"'\": 'PUNCT'}, {',': 'PUNCT'}, {'\"': 'PUNCT'}, {',': 'PUNCT'}, {'\"': 'PUNCT'}, {\"'\": 'PROPN'}, {'5': 'NUM'}, {\"'\": 'NUM'}, {',': 'PUNCT'}, {'\"': 'PUNCT'}, {',': 'PUNCT'}, {'\"': 'PUNCT'}, {\"'\": 'PUNCT'}, {'AND': 'CCONJ'}, {\"'\": 'NUM'}, {',': 'PUNCT'}, {'\"': 'PUNCT'}, {',': 'PUNCT'}, {'\"': 'PUNCT'}, {\"'\": 'PUNCT'}, {'Species': 'NOUN'}, {\"'\": 'PUNCT'}, {',': 'PUNCT'}, {'\"': 'PUNCT'}, {',': 'PUNCT'}, {'\"': 'PUNCT'}, {\"'\": 'PUNCT'}, {'virginica': 'X'}, {\"'\": 'PUNCT'}, {']': 'PUNCT'}, {'\"': 'PUNCT'}, {']': 'PUNCT'}, {'[': 'X'}, {'\"': 'PUNCT'}, {'[': 'X'}, {\"'\": 'NOUN'}, {'RANK_PERCENTILE': 'AUX'}, {\"'\": 'PUNCT'}, {',': 'PUNCT'}, {'\"': 'PUNCT'}, {',': 'PUNCT'}, {'\"': 'PUNCT'}, {\"'\": 'PUNCT'}, {'Petal': 'ADJ'}, {\"'\": 'PUNCT'}, {',': 'PUNCT'}, {'\"': 'PUNCT'}, {',': 'PUNCT'}, {'\"': 'PUNCT'}, {\"'\": 'PUNCT'}, {'Width': 'PROPN'}, {\"'\": 'PUNCT'}, {',': 'PUNCT'}, {'\"': 'PUNCT'}, {',': 'PUNCT'}, {'\"': 'PUNCT'}, {\"'\": 'PUNCT'}, {'0': 'X'}, {\"'\": 'PUNCT'}, {',': 'PUNCT'}, {'\"': 'PUNCT'}, {',': 'PUNCT'}, {'\"': 'PUNCT'}, {\"'\": 'PUNCT'}, {'9': 'NUM'}, {\"'\": 'PUNCT'}, {']': 'PUNCT'}, {'\"': 'PUNCT'}, {']': 'PUNCT'}, {'[': 'X'}, {'\"': 'PUNCT'}, {'[': 'X'}, {\"'\": 'PUNCT'}, {'listed': 'VERB'}, {\"'\": 'PUNCT'}, {',': 'PUNCT'}, {'\"': 'PUNCT'}, {',': 'PUNCT'}, {'\"': 'PUNCT'}, {\"'\": 'PUNCT'}, {'from': 'ADP'}, {\"'\": 'NUM'}, {',': 'PUNCT'}, {'\"': 'PUNCT'}, {',': 'PUNCT'}, {'\"': 'PUNCT'}, {\"'\": 'PUNCT'}, {'highest': 'ADJ'}, {\"'\": 'PUNCT'}, {',': 'PUNCT'}, {'\"': 'PUNCT'}, {',': 'PUNCT'}, {'\"': 'PUNCT'}, {\"'\": 'PUNCT'}, {'to': 'PART'}, {\"'\": 'NUM'}, {',': 'PUNCT'}, {'\"': 'PUNCT'}, {',': 'PUNCT'}, {'\"': 'PUNCT'}, {\"'\": 'PUNCT'}, {'lowest': 'ADJ'}, {\"'\": 'PUNCT'}, {',': 'PUNCT'}, {'\"': 'PUNCT'}, {',': 'PUNCT'}, {'\"': 'PUNCT'}, {\"'\": 'PUNCT'}, {'AVG': 'PROPN'}, {\"'\": 'PUNCT'}, {',': 'PUNCT'}, {'\"': 'PUNCT'}, {',': 'PUNCT'}, {'\"': 'PUNCT'}, {\"'\": 'PUNCT'}, {'Sepal': 'NOUN'}, {\"'\": 'PUNCT'}, {',': 'PUNCT'}, {'\"': 'PUNCT'}, {',': 'PUNCT'}, {'\"': 'PUNCT'}, {\"'\": 'PUNCT'}, {'Length': 'PROPN'}, {\"'\": 'PUNCT'}, {',': 'PUNCT'}, {'\"': 'PUNCT'}, {',': 'PUNCT'}, {'\"': 'PUNCT'}, {\"'\": 'PUNCT'}, {'GROUP': 'PROPN'}, {\"'\": 'PUNCT'}, {',': 'PUNCT'}, {'\"': 'PUNCT'}, {',': 'PUNCT'}, {'\"': 'PUNCT'}, {\"'\": 'PUNCT'}, {'BY': 'ADP'}, {\"'\": 'NUM'}, {',': 'PUNCT'}, {'\"': 'PUNCT'}, {',': 'PUNCT'}, {'\"': 'PUNCT'}, {\"'\": 'PUNCT'}, {'Species': 'NOUN'}, {\"'\": 'PUNCT'}, {',': 'PUNCT'}, {'\"': 'PUNCT'}, {',': 'PUNCT'}, {'\"': 'PUNCT'}, {\"'\": 'PUNCT'}, {'ORDER': 'NOUN'}, {\"'\": 'PUNCT'}, {',': 'PUNCT'}, {'\"': 'PUNCT'}, {',': 'PUNCT'}, {'\"': 'PUNCT'}, {\"'\": 'PUNCT'}, {'BY': 'ADP'}, {\"'\": 'NUM'}, {',': 'PUNCT'}, {'\"': 'PUNCT'}, {',': 'PUNCT'}, {'\"': 'PUNCT'}, {\"'\": 'PUNCT'}, {'AVG': 'PROPN'}, {\"'\": 'PUNCT'}, {',': 'PUNCT'}, {'\"': 'PUNCT'}, {',': 'PUNCT'}, {'\"': 'PUNCT'}, {\"'\": 'PUNCT'}, {'Sepal': 'NOUN'}, {\"'\": 'PUNCT'}, {',': 'PUNCT'}, {'\"': 'PUNCT'}, {',': 'PUNCT'}, {'\"': 'PUNCT'}, {\"'\": 'PUNCT'}, {'Length': 'PROPN'}, {\"'\": 'PUNCT'}, {',': 'PUNCT'}, {'\"': 'PUNCT'}, {',': 'PUNCT'}, {'\"': 'PUNCT'}, {\"'\": 'PUNCT'}, {'DESC': 'VERB'}, {\"'\": 'PUNCT'}, {']': 'PUNCT'}, {'\"': 'PUNCT'}, {']': 'PUNCT'}, {'[': 'X'}, {'\"': 'PUNCT'}, {'[': 'X'}, {\"'\": 'X'}, {'Species': 'NOUN'}, {\"'\": 'PUNCT'}, {',': 'PUNCT'}, {'\"': 'PUNCT'}, {',': 'PUNCT'}, {'\"': 'PUNCT'}, {\"'\": 'PUNCT'}, {'setosa': 'VERB'}, {\"'\": 'PUNCT'}, {',': 'PUNCT'}, {'\"': 'PUNCT'}, {',': 'PUNCT'}, {'\"': 'PUNCT'}, {\"'\": 'PUNCT'}, {'AND': 'CCONJ'}, {\"'\": 'NUM'}, {',': 'PUNCT'}, {'\"': 'PUNCT'}, {',': 'PUNCT'}, {'\"': 'PUNCT'}, {\"'\": 'PUNCT'}, {'Petal': 'ADJ'}, {\"'\": 'PUNCT'}, {',': 'PUNCT'}, {'\"': 'PUNCT'}, {',': 'PUNCT'}, {'\"': 'PUNCT'}, {\"'\": 'PUNCT'}, {'Length': 'PROPN'}, {\"'\": 'PUNCT'}, {',': 'PUNCT'}, {'\"': 'PUNCT'}, {',': 'PUNCT'}, {'\"': 'PUNCT'}, {\"'\": 'PUNCT'}, {'BETWEEN': 'ADP'}, {\"'\": 'PUNCT'}, {',': 'PUNCT'}, {'\"': 'PUNCT'}, {',': 'PUNCT'}, {'\"': 'PUNCT'}, {\"'\": 'PROPN'}, {'4': 'NUM'}, {\"'\": 'NUM'}, {',': 'PUNCT'}, {'\"': 'PUNCT'}, {',': 'PUNCT'}, {'\"': 'PUNCT'}, {\"'\": 'PUNCT'}, {'0': 'X'}, {\"'\": 'PUNCT'}, {',': 'PUNCT'}, {'\"': 'PUNCT'}, {',': 'PUNCT'}, {'\"': 'PUNCT'}, {\"'\": 'PUNCT'}, {'AND': 'CCONJ'}, {\"'\": 'NUM'}, {',': 'PUNCT'}, {'\"': 'PUNCT'}, {',': 'PUNCT'}, {'\"': 'PUNCT'}, {\"'\": 'PROPN'}, {'5': 'NUM'}, {\"'\": 'NUM'}, {',': 'PUNCT'}, {'\"': 'PUNCT'}, {',': 'PUNCT'}, {'\"': 'PUNCT'}, {\"'\": 'PUNCT'}, {'0': 'X'}, {\"'\": 'PUNCT'}, {']': 'PUNCT'}, {'\"': 'PUNCT'}, {']': 'PUNCT'}, {'[': 'X'}, {'\"': 'PUNCT'}, {'[': 'X'}, {\"'\": 'VERB'}, {'SUM': 'NOUN'}, {\"'\": 'PUNCT'}, {',': 'PUNCT'}, {'\"': 'PUNCT'}, {',': 'PUNCT'}, {'\"': 'PUNCT'}, {\"'\": 'PUNCT'}, {'IF': 'SCONJ'}, {\"'\": 'NUM'}, {',': 'PUNCT'}, {'\"': 'PUNCT'}, {',': 'PUNCT'}, {'\"': 'PUNCT'}, {\"'\": 'PUNCT'}, {'CONTAINS': 'VERB'}, {\"'\": 'PUNCT'}, {',': 'PUNCT'}, {'\"': 'PUNCT'}, {',': 'PUNCT'}, {'\"': 'PUNCT'}, {\"'\": 'PUNCT'}, {'Species': 'NOUN'}, {\"'\": 'PUNCT'}, {',': 'PUNCT'}, {'\"': 'PUNCT'}, {',': 'PUNCT'}, {'\"': 'PUNCT'}, {\"'\": 'PUNCT'}, {'color': 'VERB'}, {\"'\": 'PUNCT'}, {',': 'PUNCT'}, {'\"': 'PUNCT'}, {',': 'PUNCT'}, {'\"': 'PUNCT'}, {\"'\": 'PUNCT'}, {'THEN': 'ADV'}, {\"'\": 'NUM'}, {',': 'PUNCT'}, {'\"': 'PUNCT'}, {',': 'PUNCT'}, {'\"': 'PUNCT'}, {\"'\": 'PROPN'}, {'1': 'X'}, {\"'\": 'NUM'}, {',': 'PUNCT'}, {'\"': 'PUNCT'}, {',': 'PUNCT'}, {'\"': 'PUNCT'}, {\"'\": 'PUNCT'}, {'ELSE': 'ADV'}, {\"'\": 'NUM'}, {',': 'PUNCT'}, {'\"': 'PUNCT'}, {',': 'PUNCT'}, {'\"': 'PUNCT'}, {\"'\": 'PUNCT'}, {'0': 'X'}, {\"'\": 'PUNCT'}, {',': 'PUNCT'}, {'\"': 'PUNCT'}, {',': 'PUNCT'}, {'\"': 'PUNCT'}, {\"'\": 'PUNCT'}, {'END': 'PROPN'}, {\"'\": 'PUNCT'}, {']': 'PUNCT'}, {'\"': 'PUNCT'}, {']': 'PUNCT'}, {'[': 'X'}, {'\"': 'PUNCT'}, {'[': 'X'}, {\"'\": 'PUNCT'}, {'STARTSWITH': 'VERB'}, {\"'\": 'PUNCT'}, {',': 'PUNCT'}, {'\"': 'PUNCT'}, {',': 'PUNCT'}, {'\"': 'PUNCT'}, {\"'\": 'PUNCT'}, {'Species': 'NOUN'}, {\"'\": 'PUNCT'}, {',': 'PUNCT'}, {'\"': 'PUNCT'}, {',': 'PUNCT'}, {'\"': 'PUNCT'}, {\"'\": 'PUNCT'}, {'Iri': 'PROPN'}, {\"'\": 'PROPN'}, {',': 'PUNCT'}, {'\"': 'PUNCT'}, {',': 'PUNCT'}, {'\"': 'PUNCT'}, {\"'\": 'PUNCT'}, {'AND': 'CCONJ'}, {\"'\": 'NUM'}, {',': 'PUNCT'}, {'\"': 'PUNCT'}, {',': 'PUNCT'}, {'\"': 'PUNCT'}, {\"'\": 'PUNCT'}, {'ENDSWITH': 'VERB'}, {\"'\": 'PUNCT'}, {',': 'PUNCT'}, {'\"': 'PUNCT'}, {',': 'PUNCT'}, {'\"': 'PUNCT'}, {\"'\": 'PUNCT'}, {'Species': 'NOUN'}, {\"'\": 'PUNCT'}, {',': 'PUNCT'}, {'\"': 'PUNCT'}, {',': 'PUNCT'}, {'\"': 'PUNCT'}, {\"'\": 'PUNCT'}, {'a': 'DET'}, {\"'\": 'PUNCT'}, {']': 'PUNCT'}, {'\"': 'PUNCT'}, {']': 'PUNCT'}]\n",
            "Tokenized Formula (Tableau) : ['ADV', 'NUM', 'PART', 'SCONJ', 'ADP', 'VERB', 'NOUN', 'PUNCT', 'AUX', 'CCONJ', 'PROPN', 'DET', 'X', 'ADJ']\n"
          ]
        }
      ]
    },
    {
      "cell_type": "code",
      "source": [
        "for pat in p_t:\n",
        "   print({pat:p_t[pat]})"
      ],
      "metadata": {
        "colab": {
          "base_uri": "https://localhost:8080/"
        },
        "id": "93RbAmlOfYAj",
        "outputId": "6b5c84b3-9a7b-4529-b445-23edd2e55064"
      },
      "execution_count": 36,
      "outputs": [
        {
          "output_type": "stream",
          "name": "stdout",
          "text": [
            "{'ADV': ['alphabetically', 'ELSE', 'THEN', 'SORT']}\n",
            "{'NUM': ['9', 'TOP', \"'\", '3', '5', '4']}\n",
            "{'PART': ['to']}\n",
            "{'SCONJ': ['IF']}\n",
            "{'ADP': ['WITH', 'BY', 'BETWEEN', 'by', 'from']}\n",
            "{'VERB': ['listed', 'STARTSWITH', 'ENDSWITH', \"'\", 'RANK', 'NULL', 'sorted', 'color', 'Date', 'setosa', 'SUM', 'DESC', 'DISTINCT', 'CONTAINS']}\n",
            "{'NOUN': ['Species', 'year', 'ENDSWITH', 'ORDER', 'Sepal', 'TODAY', 'C', \"'\", 'FIXED', 'Date', 'SUM', 'YEAR', 'month', 'versicolor']}\n",
            "{'PUNCT': [',', ']', \"'\", '\"']}\n",
            "{'AUX': ['RANK_PERCENTILE']}\n",
            "{'CCONJ': ['AND']}\n",
            "{'PROPN': [\"'\", 'COUNTD', 'AVG', 'MAX', 'Width', 'Date', 'Setosa', 'GROUP', 'Se', 'LEFT', 'ASC', 'END', 'STARTS', 'INDEX', 'Iri', 'Species', 'MIN', 'COUNT', 'Length', 'DATETRUNC', 'MEDIAN']}\n",
            "{'DET': ['a']}\n",
            "{'X': ['2', '1', \"'\", 'Length', '0', 'virginica', 'ica', '[']}\n",
            "{'ADJ': ['Petal', 'highest', 'lowest']}\n"
          ]
        }
      ]
    },
    {
      "cell_type": "markdown",
      "source": [
        "#Tutorial of sPacy"
      ],
      "metadata": {
        "id": "bEmvyYQczVRv"
      }
    },
    {
      "cell_type": "code",
      "source": [
        "text=\"Sum of Sepal Length SUM (Sepal Length)\"\n",
        "doc=nlp(text)\n",
        "for token in doc.ents:\n",
        "   print(token.text, token.label_,token.start_char,token.end_char, token.start, token.ent_id_, token.label, token.vector_norm)\n",
        "for token in doc:\n",
        "   print(token.text, token.lemma_, token.pos_, token.tag_, token.dep_,\n",
        "           token.shape_, token.is_alpha, token.is_stop,token.ent_iob_, token.ent_type_)"
      ],
      "metadata": {
        "colab": {
          "base_uri": "https://localhost:8080/"
        },
        "id": "kdNbs5H_JgNX",
        "outputId": "353c84c3-1359-46fe-96f2-10fd0622a951"
      },
      "execution_count": 37,
      "outputs": [
        {
          "output_type": "stream",
          "name": "stdout",
          "text": [
            "Sepal Length PERSON 25 37 6  380 7.3880568\n",
            "Sum Sum PROPN NNP nmod Xxx True False O \n",
            "of of ADP IN prep xx True True O \n",
            "Sepal Sepal PROPN NNP compound Xxxxx True False O \n",
            "Length Length PROPN NNP pobj Xxxxx True False O \n",
            "SUM SUM PROPN NNP ROOT XXX True False O \n",
            "( ( PUNCT -LRB- punct ( False False O \n",
            "Sepal Sepal PROPN NNP compound Xxxxx True False B PERSON\n",
            "Length Length PROPN NNP appos Xxxxx True False I PERSON\n",
            ") ) PUNCT -RRB- punct ) False False O \n"
          ]
        }
      ]
    },
    {
      "cell_type": "code",
      "source": [
        "# Create a span for the new entity\n",
        "fb_ent = span.Span(doc, 0, 1, label=\"ORG\")\n",
        "orig_ents = list(doc.ents)"
      ],
      "metadata": {
        "id": "IsZd6FG1c2MK"
      },
      "execution_count": 38,
      "outputs": []
    },
    {
      "cell_type": "code",
      "source": [
        "# Option 2: Assign a complete list of ents to doc.ents\n",
        "doc.ents = orig_ents + [fb_ent]"
      ],
      "metadata": {
        "id": "ZawqANFfc65b"
      },
      "execution_count": 39,
      "outputs": []
    },
    {
      "cell_type": "code",
      "source": [
        "# Add special case rule\n",
        "from spacy.symbols import ORTH\n",
        "special_case = [{ORTH: \"gim\"}, {ORTH: \"me\"}]\n",
        "nlp.tokenizer.add_special_case(\"gimme\", special_case)\n"
      ],
      "metadata": {
        "id": "DdBa8FB7eEak"
      },
      "execution_count": 40,
      "outputs": []
    },
    {
      "cell_type": "markdown",
      "source": [],
      "metadata": {
        "id": "9gDlFJa1MODA"
      }
    },
    {
      "cell_type": "code",
      "source": [
        "# Tokenization and POS tagging result\n",
        "tokens = [(\"Sum\", \"VERB\"), (\"of\", \"ADP\"), (\"Sepal\", \"NOUN\"), (\"Length\", \"NOUN\")]\n",
        "# Example mappings based on POS tagging results\n",
        "operation_mapping = {\"VERB\": {\"Sum\": \"SUM\", \"Average\": \"AVG\", \"Count\": \"COUNT\"}}\n",
        "field_mapping = {\"NOUN\": [\"Sepal Length\", \"Sepal Width\", \"Petal Length\", \"Petal Width\",\"Species\"]}\n"
      ],
      "metadata": {
        "id": "j6MV0tIHMOt_"
      },
      "execution_count": 41,
      "outputs": []
    },
    {
      "cell_type": "markdown",
      "source": [
        "# TRAINING DATA FORMAT\n",
        "TRAIN_DATA = []\n",
        "\n",
        "for example in your_extracted_data:  # see example above\n",
        "    entities = []\n",
        "\n",
        "    for entity in example['data']:  # iterate over the entities\n",
        "    \n",
        "        text, label, start, end = entity  # ('want', '@command', 2, 6)\n",
        "    \n",
        "        label = label.split('@')[1].upper()  # not necessary, but nicer\n",
        "    \n",
        "        end = end - 1  # correct the end character index\n",
        "    \n",
        "        entities.append((start, end, label))\n",
        "    \n",
        "    # add training example of (text, annotations) tuple\n",
        "    \n",
        "    TRAIN_DATA.append((example['sentence'], {'entities': entities}))\n",
        "\n",
        "This should give you training data that looks like this:\n",
        "\n",
        "[\n",
        "    ('I want apples', {'entities': [(2, 5, 'COMMAND'), (7, 12, 'FRUIT')]})\n",
        "]\n"
      ],
      "metadata": {
        "id": "fR7Pyglf6Wqr"
      }
    },
    {
      "cell_type": "markdown",
      "source": [
        "# DEFINE ENTITY RULER BEFORE NER\n",
        "\n",
        "One potential difficulty in your example is that it's not very close to natural language. The pre-trained English models were trained on ~2m words of general web and news text, so they're not always going to perform perfect out-of-the-box on text with a very different structure.\n",
        "\n",
        "While you could update the model with more examples of QUANTITY in your specific texts, I think that a rule-based approach might actually be a better and more efficient solution here.\n",
        "\n",
        "The example in this blog post is actually very close to what you're trying to do:\n",
        "\n",
        "import spacy\n",
        "\n",
        "from spacy.pipeline import EntityRuler\n",
        "\n",
        "nlp = spacy.load(\"en_core_web_sm\")\n",
        "\n",
        "weights_pattern = [\n",
        "    {\"LIKE_NUM\": True},\n",
        "\n",
        "    {\"LOWER\": {\"IN\": [\"g\", \"kg\", \"grams\", \"kilograms\", \"lb\", \"lbs\", \"pounds\"]}}\n",
        "]\n",
        "patterns = [{\"label\": \"QUANTITY\", \"pattern\": weights_pattern}]\n",
        "\n",
        "ruler = EntityRuler(nlp, patterns=patterns)\n",
        "\n",
        "nlp.add_pipe(ruler, before=\"ner\")\n",
        "\n",
        "doc = nlp(\"U.S. average was 2 lbs.\")\n",
        "\n",
        "print([(ent.text, ent.label_) for ent in doc.ents])\n",
        "\n",
        " [('U.S.', 'GPE'), ('2 lbs', 'QUANTITY')]\n",
        "\n",
        "The statistical named entity recognizer respects pre-defined entities and wil \"predict around\" them. So if you're adding the EntityRuler before it in the pipeline, your custom QUANTITY entities will be assigned first and will be taken into account when the entity recognizer predicts labels for the remaining tokens.\n",
        "\n",
        "Note that this example is using the latest version of spaCy, v2.1.x. You might also want to add more patterns to cover different constructions. For more details and inspiration, check out the documentation on the EntityRuler, combining models and rules and the token match pattern syntax."
      ],
      "metadata": {
        "id": "pmuDiKcziflt"
      }
    },
    {
      "cell_type": "markdown",
      "source": [
        "from spacy.lang.en import English\n",
        "\n",
        "from spacy.matcher import Matcher\n",
        "\n",
        "from spacy.tokens import Span\n",
        "\n",
        "nlp = English()\n",
        "\n",
        "matcher = Matcher(nlp.vocab)\n",
        "\n",
        "def add_event_ent(matcher, doc, i, matches):\n",
        "\n",
        "    # Get the current match and create tuple of entity label, start and end.\n",
        "\n",
        "    # Append entity to the doc's entity. (Don't overwrite doc.ents!)\n",
        "\n",
        "    match_id, start, end = matches[i]\n",
        "\n",
        "    entity = Span(doc, start, end, label=\"EVENT\")\n",
        "\n",
        "    doc.ents += (entity,)\n",
        "\n",
        "    print(entity.text)\n",
        "\n",
        "pattern = [{\"ORTH\": \"Google\"}, {\"ORTH\": \"I\"}, {\"ORTH\": \"/\"}, {\"ORTH\": \"O\"}]\n",
        "\n",
        "matcher.add(\"GoogleIO\", [pattern], on_match=add_event_ent)\n",
        "\n",
        "doc = nlp(\"This is a text about Google I/O\")\n",
        "\n",
        "matches = matcher(doc)\n",
        "\n",
        "# RULE ENTITY DIRECTLY\n"
      ],
      "metadata": {
        "id": "1kOuNTzanMwp"
      }
    },
    {
      "cell_type": "markdown",
      "source": [
        "# USE OF MACHER\n",
        "\n",
        "nlp = spacy.load(\"en_core_web_sm\")\n",
        "\n",
        "matcher = Matcher(nlp.vocab)\n",
        "\n",
        "Add match ID \"HelloWorld\" with no callback and one pattern\n",
        "\n",
        "pattern = [{\"LOWER\": \"hello\"}, {\"IS_PUNCT\": True}, {\"LOWER\": \"world\"}]\n",
        "\n",
        "matcher.add(\"HelloWorld\", [pattern])\n",
        "\n",
        "doc = nlp(\"Hello, world! Hello world!\")\n",
        "\n",
        "matches = matcher(doc)\n",
        "\n",
        "for match_id, start, end in matches:\n",
        "\n",
        "    string_id = nlp.vocab.strings[match_id]  # Get string representation\n",
        "\n",
        "    span = doc[start:end]  # The matched span\n",
        "\n",
        "    print(match_id, string_id, start, end, span.text)\n"
      ],
      "metadata": {
        "id": "0yVkpvkFnPbF"
      }
    },
    {
      "cell_type": "markdown",
      "source": [
        "# VALIDATE ENTITY RULER\n",
        "ruler = nlp.add_pipe(\"entity_ruler\", config={\"validate\": True})\n"
      ],
      "metadata": {
        "id": "VEZDhPqbtEKW"
      }
    },
    {
      "cell_type": "markdown",
      "source": [
        "# ADD FUNCTION STRATEGY TO ADD A LOT OF NUMBER OF PATTERNS\n",
        "\n",
        "ruler = nlp.add_pipe(\"entity_ruler\")\n",
        "\n",
        "patterns = [{\"label\": \"TEST\", \"pattern\": str(i)} for i in range(100000)]\n",
        "\n",
        "with nlp.select_pipes(enable=\"tagger\"):\n",
        "\n",
        "    ruler.add_patterns(patterns)"
      ],
      "metadata": {
        "id": "B9qNc-O5tKqJ"
      }
    },
    {
      "cell_type": "markdown",
      "source": [
        "#SPAN RULER\n",
        "import spacy\n",
        "\n",
        "nlp = spacy.blank(\"en\")\n",
        "ruler = nlp.add_pipe(\"span_ruler\")\n",
        "patterns = [{\"label\": \"ORG\", \"pattern\": \"Apple\"},\n",
        "            {\"label\": \"GPE\", \"pattern\": [{\"LOWER\": \"san\"}, {\"LOWER\": \"francisco\"}]}]\n",
        "ruler.add_patterns(patterns)\n",
        "\n",
        "doc = nlp(\"Apple is opening its first big office in San Francisco.\")\n",
        "print([(span.text, span.label_) for span in doc.spans[\"ruler\"]])\n"
      ],
      "metadata": {
        "id": "4ESS4aJAuCBJ"
      }
    },
    {
      "cell_type": "markdown",
      "source": [
        "# PRE_TRAINED MODELS FOR SPACY\n",
        "\n",
        "# load without NER\n",
        "\n",
        "nlp = spacy.load(\"en_core_web_sm\", exclude=[\"ner\"])\n",
        "\n",
        "# source NER from the same pipeline package as the last component\n",
        "\n",
        "nlp.add_pipe(\"ner\", source=spacy.load(\"en_core_web_sm\"))\n",
        "\n",
        "# insert the entity ruler\n",
        "\n",
        "nlp.add_pipe(\"entity_ruler\", before=\"ner\")"
      ],
      "metadata": {
        "id": "Z5dQcHPixp_8"
      }
    },
    {
      "cell_type": "markdown",
      "source": [
        "\n",
        "# USAGE OF PRE-TRAINED MODELS\n",
        "import spacy\n",
        "\n",
        "nlp = spacy.load(\"en_core_web_sm\")\n",
        "\n",
        "import en_core_web_sm\n",
        "\n",
        "nlp = en_core_web_sm.load()\n",
        "\n",
        "doc = nlp(\"This is a sentence.\")\n",
        "\n",
        "print([(w.text, w.pos_) for w in doc])\n",
        "\n",
        "# load without NER\n",
        "\n",
        "nlp = spacy.load(\"en_core_web_sm\", exclude=[\"ner\"])\n",
        "\n",
        "# source NER from the same pipeline package as the last component\n",
        "\n",
        "nlp.add_pipe(\"ner\", source=spacy.load(\"en_core_web_sm\"))\n",
        "\n",
        "# insert the entity ruler\n",
        "\n",
        "nlp.add_pipe(\"entity_ruler\", before=\"ner\")"
      ],
      "metadata": {
        "id": "jVFN_9N7ylx1"
      }
    }
  ]
}